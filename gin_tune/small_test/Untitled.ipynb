{
 "cells": [
  {
   "cell_type": "code",
   "execution_count": 1,
   "metadata": {},
   "outputs": [
    {
     "data": {
      "text/html": [
       "== Status ==<br>Memory usage on this node: 1.3/8.7 GiB<br>Using FIFO scheduling algorithm.<br>Resources requested: 0/10 CPUs, 0/0 GPUs, 0.0/5.03 GiB heap, 0.0/1.71 GiB objects<br>Result logdir: /home/sergei/ray_results/f<br>Number of trials: 4 (4 TERMINATED)<br><table>\n",
       "<thead>\n",
       "<tr><th>Trial name   </th><th>status    </th><th>loc  </th><th>gin_tune/tune1/grid_search  </th><th>gin_tune/tune2/grid_search  </th><th style=\"text-align: right;\">  iter</th><th style=\"text-align: right;\">  total time (s)</th><th style=\"text-align: right;\">  sum</th></tr>\n",
       "</thead>\n",
       "<tbody>\n",
       "<tr><td>f_91326_00000</td><td>TERMINATED</td><td>     </td><td>                            </td><td>                            </td><td style=\"text-align: right;\">     1</td><td style=\"text-align: right;\">      0.00765109</td><td style=\"text-align: right;\">  912</td></tr>\n",
       "<tr><td>f_91326_00001</td><td>TERMINATED</td><td>     </td><td>                            </td><td>                            </td><td style=\"text-align: right;\">     1</td><td style=\"text-align: right;\">      0.00826478</td><td style=\"text-align: right;\"> 1245</td></tr>\n",
       "<tr><td>f_91326_00002</td><td>TERMINATED</td><td>     </td><td>                            </td><td>                            </td><td style=\"text-align: right;\">     1</td><td style=\"text-align: right;\">      0.00851798</td><td style=\"text-align: right;\">  135</td></tr>\n",
       "<tr><td>f_91326_00003</td><td>TERMINATED</td><td>     </td><td>                            </td><td>                            </td><td style=\"text-align: right;\">     1</td><td style=\"text-align: right;\">      0.0102563 </td><td style=\"text-align: right;\">  468</td></tr>\n",
       "</tbody>\n",
       "</table><br><br>"
      ],
      "text/plain": [
       "<IPython.core.display.HTML object>"
      ]
     },
     "metadata": {},
     "output_type": "display_data"
    }
   ],
   "source": [
    "from gin_tune import tune_gin\n",
    "from myfunc import f\n",
    "import gin\n",
    "\n",
    "\n",
    "gin.parse_config_file('config.gin')\n",
    "analysis = tune_gin(f)"
   ]
  },
  {
   "cell_type": "code",
   "execution_count": 2,
   "metadata": {},
   "outputs": [
    {
     "data": {
      "text/plain": [
       "['__class__',\n",
       " '__delattr__',\n",
       " '__dict__',\n",
       " '__dir__',\n",
       " '__doc__',\n",
       " '__eq__',\n",
       " '__format__',\n",
       " '__ge__',\n",
       " '__getattribute__',\n",
       " '__gt__',\n",
       " '__hash__',\n",
       " '__init__',\n",
       " '__init_subclass__',\n",
       " '__le__',\n",
       " '__lt__',\n",
       " '__module__',\n",
       " '__ne__',\n",
       " '__new__',\n",
       " '__reduce__',\n",
       " '__reduce_ex__',\n",
       " '__repr__',\n",
       " '__setattr__',\n",
       " '__sizeof__',\n",
       " '__str__',\n",
       " '__subclasshook__',\n",
       " '__weakref__',\n",
       " '_checkpoints',\n",
       " '_configs',\n",
       " '_experiment_dir',\n",
       " '_experiment_state',\n",
       " '_get_trial_paths',\n",
       " '_retrieve_rows',\n",
       " '_trial_dataframes',\n",
       " '_validate_metric',\n",
       " '_validate_mode',\n",
       " 'best_checkpoint',\n",
       " 'best_config',\n",
       " 'best_dataframe',\n",
       " 'best_logdir',\n",
       " 'best_result',\n",
       " 'best_result_df',\n",
       " 'best_trial',\n",
       " 'dataframe',\n",
       " 'default_metric',\n",
       " 'default_mode',\n",
       " 'fetch_trial_dataframes',\n",
       " 'get_all_configs',\n",
       " 'get_best_checkpoint',\n",
       " 'get_best_config',\n",
       " 'get_best_logdir',\n",
       " 'get_best_trial',\n",
       " 'get_trial_checkpoints_paths',\n",
       " 'results',\n",
       " 'results_df',\n",
       " 'runner_data',\n",
       " 'stats',\n",
       " 'trial_dataframes',\n",
       " 'trials']"
      ]
     },
     "execution_count": 2,
     "metadata": {},
     "output_type": "execute_result"
    }
   ],
   "source": [
    "dir(analysis)"
   ]
  },
  {
   "cell_type": "code",
   "execution_count": 6,
   "metadata": {},
   "outputs": [
    {
     "data": {
      "text/plain": [
       "[('91326_00000', 912),\n",
       " ('91326_00001', 1245),\n",
       " ('91326_00002', 135),\n",
       " ('91326_00003', 468)]"
      ]
     },
     "execution_count": 6,
     "metadata": {},
     "output_type": "execute_result"
    }
   ],
   "source": []
  },
  {
   "cell_type": "code",
   "execution_count": null,
   "metadata": {},
   "outputs": [],
   "source": []
  }
 ],
 "metadata": {
  "kernelspec": {
   "display_name": "Python 3",
   "language": "python",
   "name": "python3"
  }
 },
 "nbformat": 4,
 "nbformat_minor": 4
}
