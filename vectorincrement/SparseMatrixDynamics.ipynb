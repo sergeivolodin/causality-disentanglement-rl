{
 "cells": [
  {
   "cell_type": "code",
   "execution_count": 1,
   "metadata": {
    "ExecuteTime": {
     "end_time": "2020-09-25T17:34:38.050661Z",
     "start_time": "2020-09-25T17:34:36.878753Z"
    }
   },
   "outputs": [],
   "source": [
    "import numpy as np\n",
    "import torch\n",
    "import torch.nn as nn\n",
    "from matplotlib import pyplot as plt\n",
    "from tqdm import tqdm\n",
    "import seaborn as sns"
   ]
  },
  {
   "cell_type": "code",
   "execution_count": 2,
   "metadata": {
    "ExecuteTime": {
     "end_time": "2020-09-25T17:34:38.062024Z",
     "start_time": "2020-09-25T17:34:38.053138Z"
    }
   },
   "outputs": [],
   "source": [
    "def get_dynamics(n=5, n_steps=1000):\n",
    "    \"\"\"Get dynamics under a sparse matrix.\n",
    "    \n",
    "    Args:\n",
    "        n: dimensionality\n",
    "        n_steps: number of steps to generate\n",
    "    \n",
    "    \"\"\"\n",
    "    # initial state\n",
    "    state = np.random.randn(n)\n",
    "\n",
    "    # permutation of 1..n to fill elements in the matrix in\n",
    "    p = np.random.permutation(range(n))\n",
    "\n",
    "    # the transition dynamics matrix\n",
    "    A = np.zeros((n, n))\n",
    "\n",
    "    # filling in the elements\n",
    "    A[range(n), p] = np.random.choice([-1, 1], size=n)\n",
    "\n",
    "    # doing a rollout under the defined dynamics\n",
    "    states = [np.array(state)]\n",
    "\n",
    "    for _ in range(n_steps):\n",
    "        # computing next state\n",
    "        state = A @ state\n",
    "        # saving the state\n",
    "        states.append(np.array(state))\n",
    "\n",
    "    # converting to a numpy array\n",
    "    states = np.array(states)\n",
    "    \n",
    "    return states\n",
    "    \n",
    "    \n",
    "def get_encoder(n_out, n):\n",
    "    \"\"\"Get a linear encoder matrix\n",
    "    \n",
    "    Args:\n",
    "        n_out: output observation dimensionality\n",
    "        n: input state dimensionality\n",
    "    \n",
    "    \"\"\"\n",
    "    W = np.random.randn(n_out, n)\n",
    "    return W\n",
    "\n",
    "def encode(states, encoder_matrix):\n",
    "    \"\"\"Encode states with an encoder.\"\"\"\n",
    "\n",
    "    X = (states @ encoder_matrix.T)\n",
    "    return X"
   ]
  },
  {
   "cell_type": "code",
   "execution_count": 3,
   "metadata": {
    "ExecuteTime": {
     "end_time": "2020-09-25T17:34:38.070186Z",
     "start_time": "2020-09-25T17:34:38.064551Z"
    }
   },
   "outputs": [],
   "source": [
    "# state dim\n",
    "n = 5\n",
    "\n",
    "# obs dim\n",
    "k = 100\n",
    "\n",
    "# features dim\n",
    "f = 5\n",
    "\n",
    "# number of steps to generate\n",
    "n_steps = 1000\n",
    "\n",
    "# encoder matrix\n",
    "encoder = get_encoder(n_out=k, n=n)"
   ]
  },
  {
   "cell_type": "code",
   "execution_count": 4,
   "metadata": {
    "ExecuteTime": {
     "end_time": "2020-09-25T17:34:38.086209Z",
     "start_time": "2020-09-25T17:34:38.072251Z"
    }
   },
   "outputs": [],
   "source": [
    "# obtaining the states\n",
    "states = get_dynamics(n=n, n_steps=n_steps)\n",
    "\n",
    "# compute observations\n",
    "observations = encode(states, encoder)"
   ]
  },
  {
   "cell_type": "code",
   "execution_count": 5,
   "metadata": {
    "ExecuteTime": {
     "end_time": "2020-09-25T17:34:38.094215Z",
     "start_time": "2020-09-25T17:34:38.088459Z"
    }
   },
   "outputs": [
    {
     "data": {
      "text/plain": [
       "(1001, 100)"
      ]
     },
     "execution_count": 5,
     "metadata": {},
     "output_type": "execute_result"
    }
   ],
   "source": [
    "observations.shape"
   ]
  },
  {
   "cell_type": "code",
   "execution_count": 44,
   "metadata": {
    "ExecuteTime": {
     "end_time": "2020-09-25T19:35:44.674356Z",
     "start_time": "2020-09-25T19:35:44.669289Z"
    }
   },
   "outputs": [],
   "source": [
    "class LinearNet(nn.Module):\n",
    "    \"\"\"Linear neural network.\"\"\"\n",
    "    \n",
    "    def __init__(self, inp_dim, out_dim, add_batch_norm=False):\n",
    "        super(LinearNet, self).__init__()\n",
    "        self.fc1 = nn.Linear(in_features=inp_dim, out_features=out_dim,\n",
    "                           bias=False)\n",
    "        if add_batch_norm:\n",
    "            self.batch_norm = torch.nn.BatchNorm1d(num_features=out_dim)\n",
    "        \n",
    "    def forward(self, x):\n",
    "        x = self.fc1(x)\n",
    "        if hasattr(self, 'batch_norm'):\n",
    "            x = self.batch_norm(x)\n",
    "        return x"
   ]
  },
  {
   "cell_type": "code",
   "execution_count": 45,
   "metadata": {
    "ExecuteTime": {
     "end_time": "2020-09-25T19:35:44.910247Z",
     "start_time": "2020-09-25T19:35:44.903162Z"
    }
   },
   "outputs": [],
   "source": [
    "def reconstruction_loss(obss, decoder, reconstructor):\n",
    "    \"\"\"Ensure that the decoder is not degenerate by fitting a reconstructor.\"\"\"\n",
    "    mse = torch.nn.MSELoss()\n",
    "    return mse(reconstructor(decoder(obss)), obss)\n",
    "\n",
    "def reconstruction_loss_norm(reconstructor):\n",
    "    \"\"\"Ensure that the decoder is not degenerate (inverse norm not too high).\"\"\"\n",
    "    regularization_loss = 0\n",
    "    for param in reconstructor.parameters():\n",
    "        regularization_loss += torch.sum(torch.square(param))\n",
    "    return regularization_loss\n",
    "\n",
    "def fit_loss(obss, decoder, model):\n",
    "    \"\"\"Ensure that the model fits the features data.\"\"\"\n",
    "    mse = torch.nn.MSELoss()\n",
    "    \n",
    "    return mse(model(decoder(obss[:-1])), decoder(obss[1:]))\n",
    "\n",
    "def sparsity_loss(model):\n",
    "    \"\"\"Ensure that the model is sparse.\"\"\"\n",
    "    regularization_loss = 0\n",
    "    for param in model.parameters():\n",
    "        regularization_loss += torch.sum(torch.abs(param))\n",
    "    return regularization_loss"
   ]
  },
  {
   "cell_type": "code",
   "execution_count": 46,
   "metadata": {
    "ExecuteTime": {
     "end_time": "2020-09-25T19:35:45.093947Z",
     "start_time": "2020-09-25T19:35:45.084323Z"
    },
    "run_control": {
     "marked": true
    }
   },
   "outputs": [],
   "source": [
    "def losses(obss_torch, decoder, reconstructor, model, rn_threshold=100):\n",
    "    \"\"\"Compute all losses ob observations.\"\"\"\n",
    "    res = {}\n",
    "    res['r'] = reconstruction_loss(obss_torch, decoder, reconstructor)\n",
    "    res['f'] = fit_loss(obss_torch, decoder, model)\n",
    "    res['s'] = sparsity_loss(model)\n",
    "    res['rn'] = reconstruction_loss_norm(reconstructor)\n",
    "    if res['rn'] < rn_threshold:\n",
    "        res['rn'] = torch.from_numpy(np.array(rn_threshold))\n",
    "    return res\n",
    "\n",
    "def total_loss(losses_, hypers):\n",
    "    \"\"\"Compute total loss.\"\"\"\n",
    "    loss = 0.0\n",
    "    for key in hypers.keys():\n",
    "        loss += hypers[key] * losses_[key]\n",
    "    return loss\n",
    "\n",
    "def lstdct2dctlst(lst):\n",
    "    \"\"\"List of dictionaries -> dict of lists.\"\"\"\n",
    "    keys = lst[0].keys()\n",
    "    result = {k: [] for k in keys}\n",
    "    for item in lst:\n",
    "        for k, v in item.items():\n",
    "            result[k].append(v)\n",
    "    return result\n",
    "\n",
    "def epoch(obss_torch, decoder, reconstructor, model, hypers):\n",
    "    \"\"\"One optimization epoch.\"\"\"\n",
    "    optimizer.zero_grad()\n",
    "    L = losses(obss_torch, decoder, reconstructor, model)\n",
    "    loss = total_loss(L, hypers)\n",
    "    loss.backward()\n",
    "    optimizer.step()\n",
    "    L['total'] = loss\n",
    "    return {x: y.item() for x, y in L.items()}\n",
    "\n",
    "def metrics(decoder, reconstructor, model, hypers):\n",
    "    m = {}\n",
    "    m['nnz'] = np.sum(np.abs(list(model.parameters())[0].detach().numpy().flatten()) > 1e-2)\n",
    "    m['hyper_s'] = hypers['s']\n",
    "    return m"
   ]
  },
  {
   "cell_type": "code",
   "execution_count": 65,
   "metadata": {
    "ExecuteTime": {
     "end_time": "2020-09-25T19:46:40.865816Z",
     "start_time": "2020-09-25T19:46:40.859715Z"
    }
   },
   "outputs": [
    {
     "data": {
      "text/plain": [
       "(100, 5)"
      ]
     },
     "execution_count": 65,
     "metadata": {},
     "output_type": "execute_result"
    }
   ],
   "source": [
    "hypers = {'r': 0.1, 'f': 0.2, 's': 0.0001, 'rn': 0.0001}\n",
    "k, f"
   ]
  },
  {
   "cell_type": "code",
   "execution_count": 71,
   "metadata": {
    "ExecuteTime": {
     "end_time": "2020-09-25T19:47:10.346363Z",
     "start_time": "2020-09-25T19:47:10.338589Z"
    }
   },
   "outputs": [],
   "source": [
    "# creating models\n",
    "decoder = LinearNet(inp_dim=k, out_dim=f, add_batch_norm=True)\n",
    "reconstructor = LinearNet(inp_dim=f, out_dim=k)\n",
    "model = LinearNet(inp_dim=f, out_dim=f)"
   ]
  },
  {
   "cell_type": "markdown",
   "metadata": {
    "ExecuteTime": {
     "end_time": "2020-09-24T20:41:31.911064Z",
     "start_time": "2020-09-24T20:41:31.907443Z"
    }
   },
   "source": [
    "#### Optimizing via total loss over the whole data"
   ]
  },
  {
   "cell_type": "code",
   "execution_count": 72,
   "metadata": {
    "ExecuteTime": {
     "end_time": "2020-09-25T19:47:10.677392Z",
     "start_time": "2020-09-25T19:47:10.674119Z"
    }
   },
   "outputs": [],
   "source": [
    "# converting observations to torch\n",
    "obss_torch = torch.from_numpy(np.array(observations, dtype=np.float32))"
   ]
  },
  {
   "cell_type": "code",
   "execution_count": 73,
   "metadata": {
    "ExecuteTime": {
     "end_time": "2020-09-25T19:47:10.848131Z",
     "start_time": "2020-09-25T19:47:10.843898Z"
    }
   },
   "outputs": [],
   "source": [
    "all_parameters = list(model.parameters()) + list(decoder.parameters()) + list(reconstructor.parameters())\n",
    "optimizer = torch.optim.Adam(all_parameters, lr=1e-3)"
   ]
  },
  {
   "cell_type": "code",
   "execution_count": 74,
   "metadata": {
    "ExecuteTime": {
     "end_time": "2020-09-25T19:47:21.453364Z",
     "start_time": "2020-09-25T19:47:11.021712Z"
    }
   },
   "outputs": [
    {
     "name": "stderr",
     "output_type": "stream",
     "text": [
      "100%|██████████| 5000/5000 [00:10<00:00, 479.73it/s]\n"
     ]
    }
   ],
   "source": [
    "# training\n",
    "last_hyper_adjustment = -1\n",
    "results = []\n",
    "for i in tqdm(range(5000)):\n",
    "    e = epoch(obss_torch, decoder, reconstructor, model, hypers)\n",
    "    e.update(metrics(decoder, reconstructor, model, hypers))\n",
    "    results.append(e)\n",
    "    \n",
    "    if e['r'] + e['f'] > 1e-2:\n",
    "        if hypers['s'] > 1e-5:\n",
    "            suggested_hyper = hypers['s'] * 0.5\n",
    "    else:\n",
    "        if hypers['s'] < 10:\n",
    "            suggested_hyper = hypers['s'] / 0.5\n",
    "            \n",
    "    if i - last_hyper_adjustment >= 100:\n",
    "        hypers['s'] = suggested_hyper\n",
    "        last_hyper_adjustment = i"
   ]
  },
  {
   "cell_type": "code",
   "execution_count": 76,
   "metadata": {
    "ExecuteTime": {
     "end_time": "2020-09-25T19:47:42.631651Z",
     "start_time": "2020-09-25T19:47:40.654579Z"
    },
    "code_folding": []
   },
   "outputs": [
    {
     "name": "stderr",
     "output_type": "stream",
     "text": [
      "findfont: Font family ['cmsy10'] not found. Falling back to DejaVu Sans.\n",
      "findfont: Font family ['cmr10'] not found. Falling back to DejaVu Sans.\n",
      "findfont: Font family ['cmtt10'] not found. Falling back to DejaVu Sans.\n",
      "findfont: Font family ['cmmi10'] not found. Falling back to DejaVu Sans.\n",
      "findfont: Font family ['cmb10'] not found. Falling back to DejaVu Sans.\n",
      "findfont: Font family ['cmss10'] not found. Falling back to DejaVu Sans.\n",
      "findfont: Font family ['cmex10'] not found. Falling back to DejaVu Sans.\n",
      "findfont: Font family ['DejaVu Sans Display'] not found. Falling back to DejaVu Sans.\n"
     ]
    },
    {
     "data": {
      "text/plain": [
       "<matplotlib.axes._subplots.AxesSubplot at 0x7fdeefbfc250>"
      ]
     },
     "execution_count": 76,
     "metadata": {},
     "output_type": "execute_result"
    },
    {
     "data": {
      "image/png": "[encoded data removed]",
      "text/plain": [
       "<Figure size 1152x360 with 9 Axes>"
      ]
     },
     "metadata": {
      "needs_background": "light"
     },
     "output_type": "display_data"
    }
   ],
   "source": [
    "# plotting\n",
    "plt.figure(figsize=(16, 5))\n",
    "for i, (k_, v) in enumerate(lstdct2dctlst(results).items()):\n",
    "    plt.subplot(1, len(results[0]) + 1, i + 1)\n",
    "    plt.xlabel('epoch')\n",
    "    plt.title(k_)\n",
    "    plt.axhline(0)\n",
    "    plt.plot(v)\n",
    "    plt.yscale('log')\n",
    "    \n",
    "plt.subplot(1, len(results[0]) + 1, len(results[0]) + 1)\n",
    "plt.title(\"Weights heatmap\")\n",
    "sns.heatmap(list(model.parameters())[0].detach().numpy())"
   ]
  },
  {
   "cell_type": "code",
   "execution_count": 25,
   "metadata": {
    "ExecuteTime": {
     "end_time": "2020-09-25T19:30:04.587283Z",
     "start_time": "2020-09-25T19:30:04.584012Z"
    }
   },
   "outputs": [],
   "source": [
    "from scipy.special import expit"
   ]
  },
  {
   "cell_type": "code",
   "execution_count": 37,
   "metadata": {
    "ExecuteTime": {
     "end_time": "2020-09-25T19:31:19.702394Z",
     "start_time": "2020-09-25T19:31:19.699033Z"
    }
   },
   "outputs": [],
   "source": [
    "x = np.array([-1, -2, 0, 1,2,3])"
   ]
  },
  {
   "cell_type": "code",
   "execution_count": 38,
   "metadata": {
    "ExecuteTime": {
     "end_time": "2020-09-25T19:31:19.874826Z",
     "start_time": "2020-09-25T19:31:19.868520Z"
    }
   },
   "outputs": [
    {
     "name": "stderr",
     "output_type": "stream",
     "text": [
      "/home/sergei/miniconda3/envs/ml/lib/python3.7/site-packages/ipykernel_launcher.py:1: RuntimeWarning: divide by zero encountered in true_divide\n",
      "  \"\"\"Entry point for launching an IPython kernel.\n"
     ]
    },
    {
     "data": {
      "text/plain": [
       "array([      -inf, 2.        , 0.        , 0.5       , 0.66666667,\n",
       "       0.75      ])"
      ]
     },
     "execution_count": 38,
     "metadata": {},
     "output_type": "execute_result"
    }
   ],
   "source": [
    "x / (1 + x)"
   ]
  },
  {
   "cell_type": "code",
   "execution_count": null,
   "metadata": {},
   "outputs": [],
   "source": [
    "Add batch normalization!!\n",
    "or fix the model to be 0/1/-1 (what about scale of features?)\n",
    "can't do this fully...\n",
    "\n",
    "F = 0.5 f"
   ]
  },
  {
   "cell_type": "code",
   "execution_count": 64,
   "metadata": {
    "ExecuteTime": {
     "end_time": "2020-09-25T19:45:55.136678Z",
     "start_time": "2020-09-25T19:45:55.004307Z"
    }
   },
   "outputs": [
    {
     "data": {
      "text/plain": [
       "(array([ 3.,  0.,  0.,  0., 20.,  0.,  0.,  0.,  0.,  2.]),\n",
       " array([-0.94629395, -0.7547017 , -0.5631094 , -0.37151712, -0.17992485,\n",
       "         0.01166743,  0.2032597 ,  0.39485198,  0.58644426,  0.77803653,\n",
       "         0.9696288 ], dtype=float32),\n",
       " <a list of 10 Patch objects>)"
      ]
     },
     "execution_count": 64,
     "metadata": {},
     "output_type": "execute_result"
    },
    {
     "data": {
      "image/png": "[encoded data removed]",
      "text/plain": [
       "<Figure size 432x288 with 1 Axes>"
      ]
     },
     "metadata": {
      "needs_background": "light"
     },
     "output_type": "display_data"
    }
   ],
   "source": [
    "plt.hist(list(model.parameters())[0].detach().numpy().flatten())"
   ]
  },
  {
   "cell_type": "code",
   "execution_count": null,
   "metadata": {},
   "outputs": [],
   "source": []
  }
 ],
 "metadata": {
  "kernelspec": {
   "display_name": "Python 3",
   "language": "python",
   "name": "python3"
  },
  "language_info": {
   "codemirror_mode": {
    "name": "ipython",
    "version": 3
   },
   "file_extension": ".py",
   "mimetype": "text/x-python",
   "name": "python",
   "nbconvert_exporter": "python",
   "pygments_lexer": "ipython3",
   "version": "3.7.7"
  }
 },
 "nbformat": 4,
 "nbformat_minor": 4
}
