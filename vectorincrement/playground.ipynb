{
 "cells": [
  {
   "cell_type": "code",
   "execution_count": 1,
   "metadata": {
    "ExecuteTime": {
     "end_time": "2020-09-23T22:12:11.492502Z",
     "start_time": "2020-09-23T22:12:09.394509Z"
    }
   },
   "outputs": [],
   "source": [
    "import os\n",
    "os.environ['CUDA_VISIBLE_DEVICES'] = \"-1\"\n",
    "import gym\n",
    "import gin\n",
    "import numpy as np\n",
    "import random\n",
    "from vectorincrement import load_env\n",
    "from vectorincrement.observation_encoder import KerasEncoderWrapper, get_obss_states\n",
    "from gym.wrappers import TimeLimit\n",
    "from matplotlib import pyplot as plt\n",
    "import tensorflow as tf"
   ]
  },
  {
   "cell_type": "code",
   "execution_count": 2,
   "metadata": {
    "ExecuteTime": {
     "end_time": "2020-09-23T22:12:11.499934Z",
     "start_time": "2020-09-23T22:12:11.494924Z"
    }
   },
   "outputs": [],
   "source": [
    "gin.enter_interactive_mode()\n",
    "gin.parse_config_file('config/cartpole_linear.gin')"
   ]
  },
  {
   "cell_type": "code",
   "execution_count": 3,
   "metadata": {
    "ExecuteTime": {
     "end_time": "2020-09-23T22:12:11.525033Z",
     "start_time": "2020-09-23T22:12:11.502316Z"
    }
   },
   "outputs": [],
   "source": [
    "env = gym.make('VectorIncrement-v0')"
   ]
  },
  {
   "cell_type": "code",
   "execution_count": 4,
   "metadata": {
    "ExecuteTime": {
     "end_time": "2020-09-23T22:12:11.550862Z",
     "start_time": "2020-09-23T22:12:11.528079Z"
    }
   },
   "outputs": [
    {
     "name": "stdout",
     "output_type": "stream",
     "text": [
      "Make environment VectorIncrement-v0 None {}\n"
     ]
    }
   ],
   "source": [
    "env = load_env(\"VectorIncrement-v0\", obs_scaler=0.1)"
   ]
  },
  {
   "cell_type": "code",
   "execution_count": 5,
   "metadata": {
    "ExecuteTime": {
     "end_time": "2020-09-23T22:12:11.571086Z",
     "start_time": "2020-09-23T22:12:11.552963Z"
    }
   },
   "outputs": [
    {
     "data": {
      "text/plain": [
       "array([0., 0., 0., 0., 0., 0., 0., 0., 0., 0.], dtype=float32)"
      ]
     },
     "execution_count": 5,
     "metadata": {},
     "output_type": "execute_result"
    }
   ],
   "source": [
    "env.reset()"
   ]
  },
  {
   "cell_type": "code",
   "execution_count": 6,
   "metadata": {
    "ExecuteTime": {
     "end_time": "2020-09-23T22:12:11.594500Z",
     "start_time": "2020-09-23T22:12:11.573665Z"
    }
   },
   "outputs": [
    {
     "data": {
      "text/plain": [
       "(array([0.1, 0. , 0. , 0. , 0. , 0. , 0. , 0. , 0. , 0. ], dtype=float32),\n",
       " 0.0,\n",
       " False,\n",
       " {})"
      ]
     },
     "execution_count": 6,
     "metadata": {},
     "output_type": "execute_result"
    }
   ],
   "source": [
    "env.step(0)"
   ]
  },
  {
   "cell_type": "code",
   "execution_count": 7,
   "metadata": {
    "ExecuteTime": {
     "end_time": "2020-09-23T22:12:11.615303Z",
     "start_time": "2020-09-23T22:12:11.604133Z"
    }
   },
   "outputs": [],
   "source": [
    "gin.enter_interactive_mode()\n",
    "\n",
    "# just loading parameters, cannot really load the file because the dimension might be different\n",
    "gin.parse_config_file('config/ve5_nonlinear.gin')\n",
    "#gin.bind_parameter('observation_encoder.KerasEncoder.model_callable', None)"
   ]
  },
  {
   "cell_type": "code",
   "execution_count": 8,
   "metadata": {
    "ExecuteTime": {
     "end_time": "2020-09-23T22:12:11.637127Z",
     "start_time": "2020-09-23T22:12:11.618003Z"
    }
   },
   "outputs": [],
   "source": [
    "model_filename = gin.query_parameter('observation_encoder.KerasEncoder.model_filename')"
   ]
  },
  {
   "cell_type": "code",
   "execution_count": 9,
   "metadata": {
    "ExecuteTime": {
     "end_time": "2020-09-23T22:12:11.924257Z",
     "start_time": "2020-09-23T22:12:11.646275Z"
    }
   },
   "outputs": [
    {
     "name": "stdout",
     "output_type": "stream",
     "text": [
      "Make environment VectorIncrement-v0 None {}\n",
      "WARNING:tensorflow:From /home/sergei/miniconda3/envs/tf1/lib/python3.7/site-packages/tensorflow_core/python/ops/init_ops.py:97: calling GlorotUniform.__init__ (from tensorflow.python.ops.init_ops) with dtype is deprecated and will be removed in a future version.\n",
      "Instructions for updating:\n",
      "Call initializer instance with the dtype argument instead of passing it to the constructor\n",
      "WARNING:tensorflow:From /home/sergei/miniconda3/envs/tf1/lib/python3.7/site-packages/tensorflow_core/python/ops/init_ops.py:97: calling Zeros.__init__ (from tensorflow.python.ops.init_ops) with dtype is deprecated and will be removed in a future version.\n",
      "Instructions for updating:\n",
      "Call initializer instance with the dtype argument instead of passing it to the constructor\n",
      "WARNING:tensorflow:From /home/sergei/miniconda3/envs/tf1/lib/python3.7/site-packages/tensorflow_core/python/ops/resource_variable_ops.py:1630: calling BaseResourceVariable.__init__ (from tensorflow.python.ops.resource_variable_ops) with constraint is deprecated and will be removed in a future version.\n",
      "Instructions for updating:\n",
      "If using Keras pass *_constraint arguments to layers.\n",
      "WARNING:tensorflow:No training configuration found in save file: the model was *not* compiled. Compile it manually.\n"
     ]
    }
   ],
   "source": [
    "env = load_env()\n",
    "env = KerasEncoderWrapper(env, model_filename=model_filename)"
   ]
  },
  {
   "cell_type": "code",
   "execution_count": 10,
   "metadata": {
    "ExecuteTime": {
     "end_time": "2020-09-23T22:12:13.460545Z",
     "start_time": "2020-09-23T22:12:13.456542Z"
    }
   },
   "outputs": [
    {
     "data": {
      "text/plain": [
       "<KerasEncoderWrapper<ObservationScaleWrapper<TimeLimit<VectorIncrementEnvironment<VectorIncrement-v0>>>>>"
      ]
     },
     "execution_count": 10,
     "metadata": {},
     "output_type": "execute_result"
    }
   ],
   "source": [
    "env"
   ]
  },
  {
   "cell_type": "code",
   "execution_count": 11,
   "metadata": {
    "ExecuteTime": {
     "end_time": "2020-09-23T22:12:13.499723Z",
     "start_time": "2020-09-23T22:12:13.493396Z"
    }
   },
   "outputs": [],
   "source": [
    "def predict_states_from_obs(env, n_episodes=100, batch_size=256, epochs=100):\n",
    "    \"\"\"Get states/observations from the env on a random policy, fit a linear model and plot the loss.\"\"\"\n",
    "\n",
    "    obss, states = get_obss_states(env, n_episodes)\n",
    "    m = tf.keras.Sequential([tf.keras.layers.Dense(states.shape[1], input_shape=(obss.shape[1],),\n",
    "                                           activation=None)])\n",
    "    m.compile('adam', 'mse')\n",
    "    h = m.fit(obss, states, batch_size=batch_size, epochs=epochs, verbose=0)\n",
    "\n",
    "    plt.title(f\"state~model(obs), env={env} steps={len(obss)}\")\n",
    "    plt.plot(h.history['loss'])\n",
    "    plt.xlabel('Epoch')\n",
    "    plt.ylabel('Loss')\n",
    "    plt.yscale('log')\n",
    "    plt.show()"
   ]
  },
  {
   "cell_type": "code",
   "execution_count": 13,
   "metadata": {
    "ExecuteTime": {
     "end_time": "2020-09-23T22:19:19.629433Z",
     "start_time": "2020-09-23T22:12:38.716765Z"
    }
   },
   "outputs": [
    {
     "data": {
      "image/png": "[encoded data removed]",
      "text/plain": [
       "<Figure size 432x288 with 1 Axes>"
      ]
     },
     "metadata": {
      "needs_background": "light"
     },
     "output_type": "display_data"
    }
   ],
   "source": [
    "predict_states_from_obs(env=env, epochs=1000, n_episodes=1000)"
   ]
  },
  {
   "cell_type": "markdown",
   "metadata": {},
   "source": [
    "#### Problem: encoder is too linear"
   ]
  },
  {
   "cell_type": "code",
   "execution_count": null,
   "metadata": {},
   "outputs": [],
   "source": []
  },
  {
   "cell_type": "code",
   "execution_count": 2,
   "metadata": {
    "ExecuteTime": {
     "end_time": "2020-09-24T20:05:30.296253Z",
     "start_time": "2020-09-24T20:05:30.231497Z"
    }
   },
   "outputs": [],
   "source": [
    "import numpy as np"
   ]
  },
  {
   "cell_type": "code",
   "execution_count": 5,
   "metadata": {
    "ExecuteTime": {
     "end_time": "2020-09-24T20:06:11.500405Z",
     "start_time": "2020-09-24T20:06:11.495642Z"
    }
   },
   "outputs": [
    {
     "data": {
      "text/plain": [
       "array([ 1.43810635e-03, -1.63123180e+00,  1.00279519e+00, -7.44871551e-01,\n",
       "       -4.13743548e-01])"
      ]
     },
     "execution_count": 5,
     "metadata": {},
     "output_type": "execute_result"
    }
   ],
   "source": []
  },
  {
   "cell_type": "code",
   "execution_count": 49,
   "metadata": {
    "ExecuteTime": {
     "end_time": "2020-09-24T20:11:43.593876Z",
     "start_time": "2020-09-24T20:11:43.590808Z"
    }
   },
   "outputs": [],
   "source": []
  },
  {
   "cell_type": "code",
   "execution_count": 50,
   "metadata": {
    "ExecuteTime": {
     "end_time": "2020-09-24T20:11:43.787086Z",
     "start_time": "2020-09-24T20:11:43.784277Z"
    }
   },
   "outputs": [],
   "source": []
  },
  {
   "cell_type": "code",
   "execution_count": 51,
   "metadata": {
    "ExecuteTime": {
     "end_time": "2020-09-24T20:11:43.932434Z",
     "start_time": "2020-09-24T20:11:43.928728Z"
    }
   },
   "outputs": [],
   "source": []
  },
  {
   "cell_type": "code",
   "execution_count": 52,
   "metadata": {
    "ExecuteTime": {
     "end_time": "2020-09-24T20:11:44.094361Z",
     "start_time": "2020-09-24T20:11:44.089791Z"
    }
   },
   "outputs": [
    {
     "data": {
      "text/plain": [
       "array([[ 0., -1.,  0.,  0.,  0.],\n",
       "       [ 0.,  0.,  0.,  1.,  0.],\n",
       "       [-1.,  0.,  0.,  0.,  0.],\n",
       "       [ 0.,  0., -1.,  0.,  0.],\n",
       "       [ 0.,  0.,  0.,  0., -1.]])"
      ]
     },
     "execution_count": 52,
     "metadata": {},
     "output_type": "execute_result"
    }
   ],
   "source": [
    "A"
   ]
  },
  {
   "cell_type": "code",
   "execution_count": 53,
   "metadata": {
    "ExecuteTime": {
     "end_time": "2020-09-24T20:11:47.581867Z",
     "start_time": "2020-09-24T20:11:47.578526Z"
    }
   },
   "outputs": [],
   "source": [
    "?np.random.choice"
   ]
  },
  {
   "cell_type": "code",
   "execution_count": 77,
   "metadata": {
    "ExecuteTime": {
     "end_time": "2020-09-24T20:13:35.042391Z",
     "start_time": "2020-09-24T20:13:35.039027Z"
    }
   },
   "outputs": [],
   "source": []
  },
  {
   "cell_type": "code",
   "execution_count": 78,
   "metadata": {
    "ExecuteTime": {
     "end_time": "2020-09-24T20:13:35.251076Z",
     "start_time": "2020-09-24T20:13:35.245546Z"
    }
   },
   "outputs": [],
   "source": []
  },
  {
   "cell_type": "code",
   "execution_count": 93,
   "metadata": {
    "ExecuteTime": {
     "end_time": "2020-09-24T20:15:44.549864Z",
     "start_time": "2020-09-24T20:15:44.546769Z"
    }
   },
   "outputs": [],
   "source": []
  },
  {
   "cell_type": "code",
   "execution_count": 80,
   "metadata": {
    "ExecuteTime": {
     "end_time": "2020-09-24T20:13:35.671163Z",
     "start_time": "2020-09-24T20:13:35.668169Z"
    }
   },
   "outputs": [],
   "source": []
  },
  {
   "cell_type": "code",
   "execution_count": 90,
   "metadata": {
    "ExecuteTime": {
     "end_time": "2020-09-24T20:15:12.106724Z",
     "start_time": "2020-09-24T20:15:12.103147Z"
    }
   },
   "outputs": [],
   "source": []
  },
  {
   "cell_type": "code",
   "execution_count": 92,
   "metadata": {
    "ExecuteTime": {
     "end_time": "2020-09-24T20:15:16.146640Z",
     "start_time": "2020-09-24T20:15:16.141631Z"
    }
   },
   "outputs": [
    {
     "data": {
      "text/plain": [
       "array([[ 2.73074689, -1.82526323,  3.49102822, ..., -0.85344841,\n",
       "         2.4653512 , -1.5731108 ],\n",
       "       [ 4.55076102, -0.64949195, -3.60889104, ...,  0.6395188 ,\n",
       "         0.37831978, -0.40516594],\n",
       "       [ 0.28527565, -3.13772772,  3.93755996, ...,  2.06811252,\n",
       "         1.84110535,  0.37241014],\n",
       "       ...,\n",
       "       [-5.17850651,  2.12802499, -3.77967786, ..., -1.64370786,\n",
       "        -3.29846232,  2.85844292],\n",
       "       [ 0.34246984,  1.65919468,  3.45100893, ..., -1.06392346,\n",
       "         1.07903719, -2.82568712],\n",
       "       [-0.37812741,  0.0865381 , -5.82863431, ..., -0.26305934,\n",
       "        -3.20579016, -0.21341606]])"
      ]
     },
     "execution_count": 92,
     "metadata": {},
     "output_type": "execute_result"
    }
   ],
   "source": []
  },
  {
   "cell_type": "code",
   "execution_count": null,
   "metadata": {},
   "outputs": [],
   "source": []
  }
 ],
 "metadata": {
  "kernelspec": {
   "display_name": "Python 3",
   "language": "python",
   "name": "python3"
  },
  "language_info": {
   "codemirror_mode": {
    "name": "ipython",
    "version": 3
   },
   "file_extension": ".py",
   "mimetype": "text/x-python",
   "name": "python",
   "nbconvert_exporter": "python",
   "pygments_lexer": "ipython3",
   "version": "3.7.7"
  }
 },
 "nbformat": 4,
 "nbformat_minor": 4
}
