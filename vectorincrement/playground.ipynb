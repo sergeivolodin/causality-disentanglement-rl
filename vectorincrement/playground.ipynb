{
 "cells": [
  {
   "cell_type": "code",
   "execution_count": 1,
   "metadata": {
    "ExecuteTime": {
     "end_time": "2020-09-23T21:40:42.218766Z",
     "start_time": "2020-09-23T21:40:41.951470Z"
    }
   },
   "outputs": [],
   "source": [
    "import os\n",
    "os.environ['CUDA_VISIBLE_DEVICES'] = \"-1\"\n",
    "import gym\n",
    "import vectorincrement\n",
    "import numpy as np\n",
    "import random\n",
    "import gin\n",
    "from vectorincrement import load_env\n",
    "from vectorincrement.observation_encoder import KerasEncoder, KerasEncoderWrapper\n",
    "from gym.wrappers import TimeLimit\n",
    "from matplotlib import pyplot as plt\n",
    "import tensorflow as tf"
   ]
  },
  {
   "cell_type": "code",
   "execution_count": 2,
   "metadata": {
    "ExecuteTime": {
     "end_time": "2020-09-23T21:40:43.059916Z",
     "start_time": "2020-09-23T21:40:43.055562Z"
    }
   },
   "outputs": [],
   "source": [
    "gin.enter_interactive_mode()\n",
    "gin.parse_config_file('config/cartpole_linear.gin')"
   ]
  },
  {
   "cell_type": "code",
   "execution_count": 3,
   "metadata": {
    "ExecuteTime": {
     "end_time": "2020-09-23T21:40:43.357621Z",
     "start_time": "2020-09-23T21:40:43.353163Z"
    }
   },
   "outputs": [],
   "source": [
    "env = gym.make('VectorIncrement-v0')"
   ]
  },
  {
   "cell_type": "code",
   "execution_count": 5,
   "metadata": {
    "ExecuteTime": {
     "end_time": "2020-09-23T21:40:58.160643Z",
     "start_time": "2020-09-23T21:40:58.153284Z"
    }
   },
   "outputs": [
    {
     "name": "stdout",
     "output_type": "stream",
     "text": [
      "Make environment VectorIncrement-v0 None {}\n"
     ]
    }
   ],
   "source": [
    "env = load_env(\"VectorIncrement-v0\", obs_scaler=0.1)"
   ]
  },
  {
   "cell_type": "code",
   "execution_count": 6,
   "metadata": {
    "ExecuteTime": {
     "end_time": "2020-09-23T21:41:00.504477Z",
     "start_time": "2020-09-23T21:41:00.497000Z"
    }
   },
   "outputs": [
    {
     "name": "stdout",
     "output_type": "stream",
     "text": [
      "0.1\n"
     ]
    },
    {
     "data": {
      "text/plain": [
       "array([0., 0., 0., 0., 0., 0., 0., 0., 0., 0.], dtype=float32)"
      ]
     },
     "execution_count": 6,
     "metadata": {},
     "output_type": "execute_result"
    }
   ],
   "source": [
    "env.reset()"
   ]
  },
  {
   "cell_type": "code",
   "execution_count": 7,
   "metadata": {
    "ExecuteTime": {
     "end_time": "2020-09-23T21:41:05.126348Z",
     "start_time": "2020-09-23T21:41:05.118300Z"
    }
   },
   "outputs": [
    {
     "name": "stdout",
     "output_type": "stream",
     "text": [
      "0.1\n"
     ]
    },
    {
     "data": {
      "text/plain": [
       "(array([0.1, 0. , 0. , 0. , 0. , 0. , 0. , 0. , 0. , 0. ], dtype=float32),\n",
       " 0.0,\n",
       " False,\n",
       " {})"
      ]
     },
     "execution_count": 7,
     "metadata": {},
     "output_type": "execute_result"
    }
   ],
   "source": [
    "env.step(0)"
   ]
  },
  {
   "cell_type": "code",
   "execution_count": null,
   "metadata": {},
   "outputs": [],
   "source": []
  }
 ],
 "metadata": {
  "kernelspec": {
   "display_name": "Python 3",
   "language": "python",
   "name": "python3"
  },
  "language_info": {
   "codemirror_mode": {
    "name": "ipython",
    "version": 3
   },
   "file_extension": ".py",
   "mimetype": "text/x-python",
   "name": "python",
   "nbconvert_exporter": "python",
   "pygments_lexer": "ipython3",
   "version": "3.7.0"
  }
 },
 "nbformat": 4,
 "nbformat_minor": 4
}
