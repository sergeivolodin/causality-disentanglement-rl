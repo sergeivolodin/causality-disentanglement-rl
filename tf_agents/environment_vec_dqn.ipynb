{
 "cells": [
  {
   "cell_type": "code",
   "execution_count": 1,
   "metadata": {},
   "outputs": [],
   "source": [
    "import os\n",
    "os.environ[\"CUDA_VISIBLE_DEVICES\"]=\"1\"\n",
    "os.environ[\"TF_FORCE_GPU_ALLOW_GROWTH\"]=\"true\""
   ]
  },
  {
   "cell_type": "code",
   "execution_count": 2,
   "metadata": {},
   "outputs": [],
   "source": [
    "import numpy as np\n",
    "from matplotlib import pyplot as plt\n",
    "import tensorflow as tf\n",
    "from tqdm import tqdm\n",
    "tf.compat.v1.enable_v2_behavior()\n",
    "\n",
    "from sklearn.decomposition import PCA"
   ]
  },
  {
   "cell_type": "code",
   "execution_count": 3,
   "metadata": {},
   "outputs": [],
   "source": [
    "from tf_agents.agents.dqn import dqn_agent\n",
    "from tf_agents.drivers import dynamic_step_driver\n",
    "from tf_agents.environments import suite_gym\n",
    "from tf_agents.environments import tf_py_environment\n",
    "from tf_agents.eval import metric_utils\n",
    "from tf_agents.metrics import tf_metrics, py_metrics\n",
    "from tf_agents.networks import q_network\n",
    "from tf_agents.policies import random_tf_policy, epsilon_greedy_policy\n",
    "from tf_agents.replay_buffers import tf_uniform_replay_buffer\n",
    "from tf_agents.trajectories import trajectory\n",
    "from tf_agents.utils import common\n",
    "from tf_agents.specs import array_spec\n",
    "from tf_agents.environments import utils, wrappers\n",
    "from tf_agents.trajectories import time_step as ts\n",
    "from tf_agents.drivers import dynamic_episode_driver\n",
    "from tf_agents.drivers import py_driver"
   ]
  },
  {
   "cell_type": "code",
   "execution_count": 4,
   "metadata": {},
   "outputs": [],
   "source": [
    "class RandomSophisticatedFunction(object):\n",
    "    \"\"\"A function converting an input into a high-dimensional object.\"\"\"\n",
    "    def __init__(self, n=10, k=100, seed=11):\n",
    "        \n",
    "        tf.random.set_seed(seed)\n",
    "        \n",
    "        self.model = tf.keras.Sequential([\n",
    "            #tf.keras.layers.Dense(10, input_shape=(n,), activation='relu'),\n",
    "            #tf.keras.layers.Dense(100),\n",
    "            tf.keras.layers.Dense(k, bias_initializer='random_uniform'),\n",
    "        ])\n",
    "        \n",
    "    def __call__(self, x):\n",
    "        return self.model(np.array([x])).numpy()[0]\n",
    "    \n",
    "assert RandomSophisticatedFunction(n=3, k=5, seed=1)([10,10,10]).shape == (5,)"
   ]
  },
  {
   "cell_type": "code",
   "execution_count": 5,
   "metadata": {},
   "outputs": [
    {
     "data": {
      "text/plain": [
       "array([ 0.42107463,  1.9756418 ,  0.5922047 ,  2.2600236 , -3.1435785 ,\n",
       "       -2.6043975 ,  0.5879588 , -3.8485632 , -0.80992734, -1.9239613 ,\n",
       "       -1.5292026 ,  1.5467768 ,  1.9360533 ,  2.2978485 ,  0.28572452,\n",
       "       -0.5248615 , -3.4031332 , -2.4824233 ,  0.26168972,  3.522755  ,\n",
       "       -0.76830816, -4.5024695 , -5.973458  , -0.08354399,  1.021549  ,\n",
       "        3.0432026 , -3.2647412 , -0.32379162,  1.3775078 , -1.1641221 ,\n",
       "        5.360249  ,  2.485961  , -0.30522534,  0.49440664,  0.4870112 ,\n",
       "        0.3299148 , -0.3536277 ,  1.748136  ,  1.4803805 , -1.2345239 ,\n",
       "        0.06540942, -3.3158581 ,  0.52739054, -6.083921  ,  3.3707094 ,\n",
       "       -5.578037  ,  0.7661759 ,  1.7714828 , -0.18969497,  0.78672135,\n",
       "        0.11239807, -2.2097538 , -2.147925  , -0.14433458,  0.74999607,\n",
       "        0.5272489 , -1.97522   ,  4.380763  ,  0.5881273 ,  1.828241  ,\n",
       "        3.938662  ,  3.125843  , -4.634218  , -1.1190304 ,  1.6213365 ,\n",
       "        1.3446006 , -1.1212261 , -1.0577558 ,  2.706028  , -1.45131   ,\n",
       "        1.2799139 , -0.4981764 ,  2.1727016 ,  1.0884502 ,  3.6952097 ,\n",
       "       -1.3584613 , -5.4708447 , -1.5946476 ,  2.2944207 ,  1.0184703 ,\n",
       "       -3.6583314 ,  0.50664943, -2.111605  ,  2.5358508 ,  3.6486366 ,\n",
       "       -0.23265675,  1.0104252 , -2.1677127 , -3.277229  , -0.91042703,\n",
       "       -2.38398   , -1.5052049 , -2.3667579 , -0.07423048, -0.48029572,\n",
       "        0.59132355, -2.8658624 , -2.278439  , -3.4111784 ,  0.01059723],\n",
       "      dtype=float32)"
      ]
     },
     "execution_count": 5,
     "metadata": {},
     "output_type": "execute_result"
    }
   ],
   "source": [
    "RandomSophisticatedFunction(n=3, seed=1)([10,10,10])"
   ]
  },
  {
   "cell_type": "code",
   "execution_count": 6,
   "metadata": {},
   "outputs": [],
   "source": [
    "class VectorIncrementEnvironment(object):\n",
    "    \"\"\"VectorIncrement environment.\"\"\"\n",
    "    def __init__(self, n=10, k=20):\n",
    "        self.n = n\n",
    "        self.k = k\n",
    "        self.e = RandomSophisticatedFunction(n=n, k=k)\n",
    "        self.s = np.zeros(self.n)\n",
    "\n",
    "    def encoded_state(self):\n",
    "        return np.array(self.e(self.s), dtype=np.float32)\n",
    "        \n",
    "    def reset(self):\n",
    "        self.s = np.zeros(self.n)\n",
    "        return self.encoded_state()\n",
    "\n",
    "    def step(self, action):\n",
    "        assert action in range(0, self.n + 1)\n",
    "        \n",
    "        s_old = np.copy(self.s)\n",
    "        if action > 0:\n",
    "            self.s[action - 1] += 1\n",
    "            \n",
    "            if max(s_old) - min(s_old) > 0:\n",
    "                r = (max(s_old) - s_old[action - 1]) / (max(s_old) - min(s_old))\n",
    "            else:\n",
    "                r = 0\n",
    "        else:\n",
    "            r = 0\n",
    "            \n",
    "        #def metric(x):\n",
    "        #    return max(x) - np.mean(x)\n",
    "       # \n",
    "       # r = (metric(s_old) - metric(self.s)) > 0\n",
    "        \n",
    "        \n",
    "            \n",
    "        return {'reward': float(r),\n",
    "               'state': np.copy(self.s),\n",
    "               'observation': self.encoded_state()}\n",
    "        \n",
    "        \n",
    "    def __repr__(self):\n",
    "        return str(self.s)"
   ]
  },
  {
   "cell_type": "code",
   "execution_count": 7,
   "metadata": {},
   "outputs": [],
   "source": [
    "n = 2\n",
    "env = VectorIncrementEnvironment(n=n, k=10)"
   ]
  },
  {
   "cell_type": "code",
   "execution_count": 8,
   "metadata": {},
   "outputs": [
    {
     "data": {
      "text/plain": [
       "array([0., 0.])"
      ]
     },
     "execution_count": 8,
     "metadata": {},
     "output_type": "execute_result"
    }
   ],
   "source": [
    "env.s"
   ]
  },
  {
   "cell_type": "code",
   "execution_count": 9,
   "metadata": {},
   "outputs": [
    {
     "name": "stdout",
     "output_type": "stream",
     "text": [
      "WARNING:tensorflow:Layer dense_2 is casting an input tensor from dtype float64 to the layer's dtype of float32, which is new behavior in TensorFlow 2.  The layer has dtype float32 because it's dtype defaults to floatx.\n",
      "\n",
      "If you intended to run this layer in float32, you can safely ignore this warning. If in doubt, this warning is likely only an issue if you are porting a TensorFlow 1.X model to TensorFlow 2.\n",
      "\n",
      "To change all layers to have dtype float64 by default, call `tf.keras.backend.set_floatx('float64')`. To change just this layer, pass dtype='float64' to the layer constructor. If you are the author of this layer, you can disable autocasting by passing autocast=False to the base Layer constructor.\n",
      "\n"
     ]
    },
    {
     "data": {
      "text/plain": [
       "{'reward': 0.0,\n",
       " 'state': array([0., 1.]),\n",
       " 'observation': array([-0.13828124,  0.3408532 , -0.12106577, -0.00676261,  0.01375737,\n",
       "         0.35241634,  0.15493019, -0.5223689 , -0.217097  ,  0.5671197 ],\n",
       "       dtype=float32)}"
      ]
     },
     "execution_count": 9,
     "metadata": {},
     "output_type": "execute_result"
    }
   ],
   "source": [
    "env.step(2)"
   ]
  },
  {
   "cell_type": "code",
   "execution_count": 10,
   "metadata": {},
   "outputs": [
    {
     "data": {
      "text/plain": [
       "array([ 0.00582539, -0.04459292, -0.04060308,  0.01915617, -0.0472003 ,\n",
       "       -0.02875542, -0.04071616, -0.01283339,  0.0458479 ,  0.00474627],\n",
       "      dtype=float32)"
      ]
     },
     "execution_count": 10,
     "metadata": {},
     "output_type": "execute_result"
    }
   ],
   "source": [
    "env.reset()"
   ]
  },
  {
   "cell_type": "markdown",
   "metadata": {},
   "source": [
    "# Testing if PCA works"
   ]
  },
  {
   "cell_type": "code",
   "execution_count": 11,
   "metadata": {},
   "outputs": [],
   "source": [
    "obs = []\n",
    "states = []\n",
    "\n",
    "for _ in range(3):\n",
    "    o = env.reset()\n",
    "    for _ in range(50):\n",
    "        a = np.random.randint(0, n + 1)\n",
    "        result = env.step(a)\n",
    "        obs.append(result['observation'])\n",
    "        states.append(result['state'])\n",
    "states = np.array(states)"
   ]
  },
  {
   "cell_type": "code",
   "execution_count": 12,
   "metadata": {},
   "outputs": [],
   "source": [
    "pca = PCA(n_components=2)\n",
    "pca = pca.fit_transform(obs)"
   ]
  },
  {
   "cell_type": "code",
   "execution_count": 13,
   "metadata": {},
   "outputs": [
    {
     "data": {
      "image/png": "[encoded data removed]",
      "text/plain": [
       "<Figure size 432x288 with 1 Axes>"
      ]
     },
     "metadata": {
      "needs_background": "light"
     },
     "output_type": "display_data"
    },
    {
     "data": {
      "image/png": "[encoded data removed]",
      "text/plain": [
       "<Figure size 432x288 with 1 Axes>"
      ]
     },
     "metadata": {
      "needs_background": "light"
     },
     "output_type": "display_data"
    }
   ],
   "source": [
    "plt.figure()\n",
    "plt.plot(pca[:, 0], pca[:, 1])\n",
    "plt.show()\n",
    "plt.figure()\n",
    "plt.plot(states[:, 0], states[:, 1])\n",
    "plt.show()"
   ]
  },
  {
   "cell_type": "markdown",
   "metadata": {},
   "source": [
    "### PCA does not recover the variables we want...\n",
    "\n",
    "The increase is NOT monotonous"
   ]
  },
  {
   "cell_type": "markdown",
   "metadata": {},
   "source": [
    "# Running RL with tf.agents"
   ]
  },
  {
   "cell_type": "code",
   "execution_count": 14,
   "metadata": {},
   "outputs": [],
   "source": [
    "num_iterations = 20000 # @param {type: \"integer\"}\n",
    "\n",
    "initial_collect_steps = 1000 # @param {type: \"integer\"}\n",
    "collect_steps_per_iteration = 1\n",
    "replay_buffer_max_length = 1000\n",
    "\n",
    "batch_size = 256\n",
    "learning_rate = 1e-3\n",
    "log_interval = 1\n",
    "\n",
    "num_eval_episodes = 10\n",
    "eval_interval = 1"
   ]
  },
  {
   "cell_type": "code",
   "execution_count": 15,
   "metadata": {},
   "outputs": [],
   "source": [
    "v_n = 2\n",
    "v_k = 2\n",
    "v_seed = 10"
   ]
  },
  {
   "cell_type": "code",
   "execution_count": 16,
   "metadata": {},
   "outputs": [],
   "source": [
    "class VectorIncrementEnvironmentTFAgents(tf_py_environment.TFPyEnvironment):\n",
    "  def __init__(self):\n",
    "    self._action_spec = array_spec.BoundedArraySpec(\n",
    "        shape=(), dtype=np.int32, minimum=0, maximum=v_n, name='action')\n",
    "    self._observation_spec = array_spec.ArraySpec(\n",
    "        shape=(v_k,), dtype=np.float32, name='observation')\n",
    "    self._time_step_spec = ts.time_step_spec(self._observation_spec)\n",
    "    \n",
    "    self.env = VectorIncrementEnvironment(n=v_n, k=v_k)\n",
    "    self._state = self.env.encoded_state()\n",
    "    self._episode_ended = False\n",
    "    self._batched = False\n",
    "   # self._batch_size = None\n",
    "    \n",
    "  def batch_size(self):\n",
    "    return None\n",
    "\n",
    "  @property\n",
    "  def batched(self):\n",
    "    return False\n",
    "\n",
    "  def action_spec(self):\n",
    "    return self._action_spec\n",
    "\n",
    "  def observation_spec(self):\n",
    "    return self._observation_spec\n",
    "\n",
    "  def _reset(self):\n",
    "    self.env.reset()\n",
    "    self._state = self.env.encoded_state()\n",
    "    self._episode_ended = False\n",
    "    return ts.restart(self._state)\n",
    "\n",
    "  def _step(self, action):\n",
    "\n",
    "    if self._episode_ended:\n",
    "      # The last action ended the episode. Ignore the current action and start\n",
    "      # a new episode.\n",
    "      return self.reset()\n",
    "\n",
    "    res = self.env.step(action)\n",
    "    self._state = self.env.encoded_state()\n",
    "\n",
    "    return ts.transition(self._state, reward=res['reward'], discount=1.0)\n"
   ]
  },
  {
   "cell_type": "code",
   "execution_count": 17,
   "metadata": {},
   "outputs": [
    {
     "name": "stdout",
     "output_type": "stream",
     "text": [
      "WARNING:tensorflow:Layer dense_3 is casting an input tensor from dtype float64 to the layer's dtype of float32, which is new behavior in TensorFlow 2.  The layer has dtype float32 because it's dtype defaults to floatx.\n",
      "\n",
      "If you intended to run this layer in float32, you can safely ignore this warning. If in doubt, this warning is likely only an issue if you are porting a TensorFlow 1.X model to TensorFlow 2.\n",
      "\n",
      "To change all layers to have dtype float64 by default, call `tf.keras.backend.set_floatx('float64')`. To change just this layer, pass dtype='float64' to the layer constructor. If you are the author of this layer, you can disable autocasting by passing autocast=False to the base Layer constructor.\n",
      "\n"
     ]
    }
   ],
   "source": [
    "# checking that the environment works\n",
    "env = VectorIncrementEnvironmentTFAgents()\n",
    "env = wrappers.TimeLimit(env, 20)\n",
    "utils.validate_py_environment(env, episodes=5)"
   ]
  },
  {
   "cell_type": "code",
   "execution_count": 18,
   "metadata": {},
   "outputs": [],
   "source": [
    "train_env = tf_py_environment.TFPyEnvironment(env)\n",
    "#train_env = env"
   ]
  },
  {
   "cell_type": "code",
   "execution_count": 19,
   "metadata": {},
   "outputs": [],
   "source": [
    "fc_layer_params = (30, 30, 30, 30, 30, 30)\n",
    "\n",
    "q_net = q_network.QNetwork(\n",
    "    train_env.observation_spec(),\n",
    "    train_env.action_spec(),\n",
    "    fc_layer_params=fc_layer_params)\n"
   ]
  },
  {
   "cell_type": "code",
   "execution_count": 20,
   "metadata": {},
   "outputs": [],
   "source": [
    "optimizer = tf.compat.v1.train.AdamOptimizer(learning_rate=learning_rate)\n",
    "#optimizer = tf.compat.v1.train.GradientDescentOptimizer(learning_rate=learning_rate)\n",
    "\n",
    "train_step_counter = tf.Variable(0)\n",
    "\n",
    "agent = dqn_agent.DqnAgent(\n",
    "    train_env.time_step_spec(),\n",
    "    train_env.action_spec(),\n",
    "    q_network=q_net,\n",
    "    optimizer=optimizer,\n",
    "    td_errors_loss_fn=common.element_wise_squared_loss,\n",
    "    train_step_counter=train_step_counter)\n",
    "\n",
    "agent.initialize()\n"
   ]
  },
  {
   "cell_type": "code",
   "execution_count": 21,
   "metadata": {},
   "outputs": [],
   "source": [
    "replay_buffer = tf_uniform_replay_buffer.TFUniformReplayBuffer(\n",
    "    data_spec=agent.collect_data_spec,\n",
    "    batch_size=train_env.batch_size,\n",
    "    max_length=replay_buffer_max_length)"
   ]
  },
  {
   "cell_type": "code",
   "execution_count": 22,
   "metadata": {},
   "outputs": [
    {
     "name": "stdout",
     "output_type": "stream",
     "text": [
      "final_time_step TimeStep(step_type=<tf.Tensor: shape=(1,), dtype=int32, numpy=array([0], dtype=int32)>, reward=<tf.Tensor: shape=(1,), dtype=float32, numpy=array([0.], dtype=float32)>, discount=<tf.Tensor: shape=(1,), dtype=float32, numpy=array([1.], dtype=float32)>, observation=<tf.Tensor: shape=(1, 2), dtype=float32, numpy=array([[ 0.00582539, -0.04459292]], dtype=float32)>)\n",
      "Number of Steps:  5120\n",
      "Number of Episodes:  256\n"
     ]
    }
   ],
   "source": [
    "num_episodes = tf_metrics.NumberOfEpisodes()\n",
    "env_steps = tf_metrics.EnvironmentSteps()\n",
    "avg_return = tf_metrics.AverageReturnMetric()\n",
    "act_hist = tf_metrics.ChosenActionHistogram()\n",
    "\n",
    "observers = [num_episodes, env_steps, avg_return, replay_buffer.add_batch, act_hist]\n",
    "\n",
    "#tf_policy = epsilon_greedy_policy.EpsilonGreedyPolicy(agent.collect_policy, 0.5)\n",
    "\n",
    "tf_env = train_env\n",
    "tf_policy = agent.collect_policy\n",
    "\n",
    "driver = dynamic_episode_driver.DynamicEpisodeDriver(\n",
    "    tf_env, tf_policy, observers, num_episodes=batch_size)\n",
    "\n",
    "# Initial driver.run will reset the environment and initialize the policy.\n",
    "final_time_step, policy_state = driver.run()\n",
    "\n",
    "print('final_time_step', final_time_step)\n",
    "print('Number of Steps: ', env_steps.result().numpy())\n",
    "print('Number of Episodes: ', num_episodes.result().numpy())"
   ]
  },
  {
   "cell_type": "code",
   "execution_count": 23,
   "metadata": {
    "scrolled": true
   },
   "outputs": [
    {
     "data": {
      "text/plain": [
       "<tf.Tensor: shape=(), dtype=float32, numpy=0.2>"
      ]
     },
     "execution_count": 23,
     "metadata": {},
     "output_type": "execute_result"
    }
   ],
   "source": [
    "avg_return.result()"
   ]
  },
  {
   "cell_type": "code",
   "execution_count": 24,
   "metadata": {},
   "outputs": [
    {
     "data": {
      "text/plain": [
       "<tf.Tensor: shape=(100,), dtype=int32, numpy=\n",
       "array([2, 0, 0, 0, 0, 0, 0, 0, 0, 0, 0, 0, 2, 0, 0, 0, 0, 0, 1, 0, 0, 0,\n",
       "       0, 0, 0, 0, 0, 0, 2, 0, 0, 0, 0, 0, 0, 0, 0, 0, 0, 0, 0, 0, 0, 0,\n",
       "       0, 0, 0, 0, 0, 0, 0, 0, 2, 0, 0, 0, 0, 0, 0, 0, 0, 0, 0, 0, 0, 0,\n",
       "       0, 0, 1, 0, 0, 0, 0, 0, 0, 0, 0, 0, 0, 0, 0, 0, 0, 0, 0, 0, 0, 0,\n",
       "       0, 0, 1, 0, 0, 0, 0, 0, 0, 0, 0, 0], dtype=int32)>"
      ]
     },
     "execution_count": 24,
     "metadata": {},
     "output_type": "execute_result"
    }
   ],
   "source": [
    "act_hist.result()"
   ]
  },
  {
   "cell_type": "code",
   "execution_count": 25,
   "metadata": {},
   "outputs": [],
   "source": [
    "# Dataset generates trajectories with shape [Bx2x...]\n",
    "dataset = replay_buffer.as_dataset(\n",
    "    num_parallel_calls=3, \n",
    "    sample_batch_size=batch_size, \n",
    "    num_steps=2).prefetch(3)\n",
    "\n",
    "iterator = iter(dataset)"
   ]
  },
  {
   "cell_type": "code",
   "execution_count": 26,
   "metadata": {},
   "outputs": [
    {
     "name": "stdout",
     "output_type": "stream",
     "text": [
      "step = 1: loss = 0.049587905406951904\n",
      "step = 1: Average Return = 0.4000000059604645\n",
      "step = 2: loss = 0.029040616005659103\n",
      "step = 2: Average Return = 0.20000000298023224\n",
      "step = 3: loss = 0.031366411596536636\n",
      "step = 3: Average Return = 0.30000001192092896\n",
      "step = 4: loss = 0.01981891319155693\n",
      "step = 4: Average Return = 0.4000000059604645\n",
      "step = 5: loss = 0.03474270552396774\n",
      "step = 5: Average Return = 0.6000000238418579\n",
      "step = 6: loss = 0.017550524324178696\n",
      "step = 6: Average Return = 0.5\n",
      "step = 7: loss = 0.028636574745178223\n",
      "step = 7: Average Return = 0.5\n",
      "step = 8: loss = 0.01055444497615099\n",
      "step = 8: Average Return = 0.699999988079071\n",
      "step = 9: loss = 0.016182754188776016\n",
      "step = 9: Average Return = 0.800000011920929\n",
      "step = 10: loss = 0.0542275495827198\n",
      "step = 10: Average Return = 0.6000000238418579\n",
      "step = 11: loss = 0.04458712041378021\n",
      "step = 11: Average Return = 0.30000001192092896\n",
      "step = 12: loss = 0.06075861677527428\n",
      "step = 12: Average Return = 0.800000011920929\n",
      "step = 13: loss = 0.04539058357477188\n",
      "step = 13: Average Return = 0.8999999761581421\n",
      "step = 14: loss = 0.0372907817363739\n",
      "step = 14: Average Return = 0.0\n",
      "step = 15: loss = 0.0324765220284462\n",
      "step = 15: Average Return = 0.6000000238418579\n",
      "step = 16: loss = 0.01609872281551361\n",
      "step = 16: Average Return = 0.6000000238418579\n",
      "step = 19: loss = 0.05006260797381401\n",
      "step = 19: Average Return = 0.20000000298023224\n",
      "step = 20: loss = 0.03242367506027222\n",
      "step = 20: Average Return = 0.30000001192092896\n",
      "step = 21: loss = 0.03618381917476654\n",
      "step = 21: Average Return = 0.5\n",
      "step = 22: loss = 0.041749849915504456\n",
      "step = 22: Average Return = 0.800000011920929\n",
      "step = 23: loss = 0.01641332358121872\n",
      "step = 23: Average Return = 0.699999988079071\n",
      "step = 24: loss = 0.04012730345129967\n",
      "step = 24: Average Return = 0.800000011920929\n",
      "step = 25: loss = 0.031051771715283394\n",
      "step = 25: Average Return = 0.800000011920929\n",
      "step = 26: loss = 0.015978746116161346\n",
      "step = 26: Average Return = 1.2999999523162842\n",
      "step = 27: loss = 0.032449208199977875\n",
      "step = 27: Average Return = 1.0\n",
      "step = 28: loss = 0.07361515611410141\n",
      "step = 28: Average Return = 1.2000000476837158\n",
      "step = 29: loss = 0.0821966677904129\n",
      "step = 29: Average Return = 1.7999999523162842\n",
      "step = 30: loss = 0.04713093489408493\n",
      "step = 30: Average Return = 1.899999976158142\n",
      "step = 31: loss = 0.05779626592993736\n",
      "step = 31: Average Return = 1.5\n",
      "step = 32: loss = 0.13354948163032532\n",
      "step = 32: Average Return = 1.7000000476837158\n",
      "step = 33: loss = 0.09976686537265778\n",
      "step = 33: Average Return = 1.2999999523162842\n",
      "step = 34: loss = 0.10311926901340485\n",
      "step = 34: Average Return = 1.2000000476837158\n",
      "step = 35: loss = 0.12089332193136215\n",
      "step = 35: Average Return = 1.2000000476837158\n",
      "step = 36: loss = 0.20393450558185577\n",
      "step = 36: Average Return = 1.2999999523162842\n",
      "step = 37: loss = 0.17950978875160217\n",
      "step = 37: Average Return = 1.0\n",
      "step = 38: loss = 0.17397934198379517\n",
      "step = 38: Average Return = 1.399999976158142\n",
      "step = 39: loss = 0.23801733553409576\n",
      "step = 39: Average Return = 1.7000000476837158\n",
      "step = 40: loss = 0.22563433647155762\n",
      "step = 40: Average Return = 1.0\n",
      "step = 41: loss = 0.18364761769771576\n",
      "step = 41: Average Return = 0.800000011920929\n",
      "step = 42: loss = 0.16868440806865692\n",
      "step = 42: Average Return = 0.8999999761581421\n",
      "step = 43: loss = 0.16761234402656555\n",
      "step = 43: Average Return = 0.5\n",
      "step = 44: loss = 0.39439868927001953\n",
      "step = 44: Average Return = 0.6000000238418579\n",
      "step = 45: loss = 0.41961944103240967\n",
      "step = 45: Average Return = 0.8999999761581421\n",
      "step = 46: loss = 1.7519241571426392\n",
      "step = 46: Average Return = 0.5\n",
      "step = 47: loss = 1.457685947418213\n",
      "step = 47: Average Return = 0.699999988079071\n",
      "step = 48: loss = 1.811211109161377\n",
      "step = 48: Average Return = 0.30000001192092896\n",
      "step = 49: loss = 2.391031503677368\n",
      "step = 49: Average Return = 0.5\n",
      "step = 50: loss = 2.657726287841797\n",
      "step = 50: Average Return = 0.4000000059604645\n",
      "step = 51: loss = 3.088283061981201\n",
      "step = 51: Average Return = 1.2000000476837158\n",
      "step = 52: loss = 3.6554830074310303\n",
      "step = 52: Average Return = 0.6000000238418579\n",
      "step = 53: loss = 4.096625328063965\n",
      "step = 53: Average Return = 0.8999999761581421\n",
      "step = 54: loss = 5.398428916931152\n",
      "step = 54: Average Return = 0.6000000238418579\n",
      "step = 55: loss = 6.539042949676514\n",
      "step = 55: Average Return = 0.699999988079071\n",
      "step = 56: loss = 7.183633327484131\n",
      "step = 56: Average Return = 0.6000000238418579\n",
      "step = 57: loss = 10.591750144958496\n",
      "step = 57: Average Return = 1.2999999523162842\n",
      "step = 58: loss = 10.401371002197266\n",
      "step = 58: Average Return = 0.30000001192092896\n",
      "step = 59: loss = 13.09781551361084\n",
      "step = 59: Average Return = 0.6000000238418579\n",
      "step = 60: loss = 16.851097106933594\n",
      "step = 60: Average Return = 1.0\n",
      "step = 61: loss = 20.492992401123047\n",
      "step = 61: Average Return = 0.6000000238418579\n",
      "step = 62: loss = 24.667320251464844\n",
      "step = 62: Average Return = 0.4000000059604645\n",
      "step = 63: loss = 29.973384857177734\n",
      "step = 63: Average Return = 1.0\n",
      "step = 64: loss = 32.226715087890625\n",
      "step = 64: Average Return = 1.0\n",
      "step = 65: loss = 41.95634460449219\n",
      "step = 65: Average Return = 0.8999999761581421\n",
      "step = 66: loss = 48.44812774658203\n",
      "step = 66: Average Return = 0.800000011920929\n",
      "step = 67: loss = 58.230953216552734\n",
      "step = 67: Average Return = 0.699999988079071\n",
      "step = 68: loss = 69.25030517578125\n",
      "step = 68: Average Return = 1.0\n",
      "step = 69: loss = 83.8438720703125\n",
      "step = 69: Average Return = 1.2999999523162842\n",
      "step = 70: loss = 103.3048324584961\n",
      "step = 70: Average Return = 0.8999999761581421\n",
      "step = 71: loss = 115.14037322998047\n",
      "step = 71: Average Return = 0.699999988079071\n",
      "step = 72: loss = 148.02532958984375\n",
      "step = 72: Average Return = 0.6000000238418579\n",
      "step = 73: loss = 174.9263153076172\n",
      "step = 73: Average Return = 0.30000001192092896\n",
      "step = 74: loss = 196.34107971191406\n",
      "step = 74: Average Return = 0.8999999761581421\n",
      "step = 75: loss = 251.187255859375\n",
      "step = 75: Average Return = 0.30000001192092896\n",
      "step = 76: loss = 283.0302734375\n",
      "step = 76: Average Return = 0.800000011920929\n",
      "step = 77: loss = 329.72747802734375\n",
      "step = 77: Average Return = 0.30000001192092896\n",
      "step = 78: loss = 406.3542175292969\n",
      "step = 78: Average Return = 0.8999999761581421\n",
      "step = 79: loss = 475.44342041015625\n",
      "step = 79: Average Return = 1.0\n",
      "step = 80: loss = 558.4517822265625\n",
      "step = 80: Average Return = 0.6000000238418579\n",
      "step = 81: loss = 677.0593872070312\n",
      "step = 81: Average Return = 0.6000000238418579\n",
      "step = 82: loss = 792.3960571289062\n",
      "step = 82: Average Return = 0.800000011920929\n",
      "step = 83: loss = 909.8405151367188\n",
      "step = 83: Average Return = 0.8999999761581421\n",
      "step = 84: loss = 1081.6153564453125\n",
      "step = 84: Average Return = 0.6000000238418579\n",
      "step = 85: loss = 1304.125\n",
      "step = 85: Average Return = 0.5\n",
      "step = 86: loss = 1455.2572021484375\n",
      "step = 86: Average Return = 1.0\n",
      "step = 87: loss = 1769.6104736328125\n",
      "step = 87: Average Return = 0.699999988079071\n",
      "step = 88: loss = 2035.24267578125\n",
      "step = 88: Average Return = 0.699999988079071\n",
      "step = 89: loss = 2439.087890625\n",
      "step = 89: Average Return = 0.5\n",
      "step = 90: loss = 2920.206787109375\n",
      "step = 90: Average Return = 0.5\n",
      "step = 91: loss = 3281.270263671875\n",
      "step = 91: Average Return = 0.800000011920929\n",
      "step = 92: loss = 3921.215576171875\n",
      "step = 92: Average Return = 0.4000000059604645\n",
      "step = 93: loss = 4805.744140625\n",
      "step = 93: Average Return = 0.699999988079071\n",
      "step = 94: loss = 5496.5859375\n",
      "step = 94: Average Return = 0.6000000238418579\n",
      "step = 95: loss = 6539.234375\n",
      "step = 95: Average Return = 0.699999988079071\n",
      "step = 96: loss = 7743.7998046875\n",
      "step = 96: Average Return = 1.100000023841858\n",
      "step = 97: loss = 8519.990234375\n",
      "step = 97: Average Return = 0.8999999761581421\n",
      "step = 98: loss = 10618.75390625\n",
      "step = 98: Average Return = 0.699999988079071\n",
      "step = 99: loss = 12019.3017578125\n",
      "step = 99: Average Return = 0.699999988079071\n",
      "step = 100: loss = 13436.42578125\n",
      "step = 100: Average Return = 0.8999999761581421\n",
      "step = 101: loss = 15878.6494140625\n",
      "step = 101: Average Return = 0.4000000059604645\n",
      "step = 102: loss = 19959.75390625\n",
      "step = 102: Average Return = 0.6000000238418579\n",
      "step = 103: loss = 22320.884765625\n",
      "step = 103: Average Return = 0.800000011920929\n",
      "step = 104: loss = 25367.73046875\n",
      "step = 104: Average Return = 1.0\n",
      "step = 105: loss = 31132.138671875\n",
      "step = 105: Average Return = 0.6000000238418579\n"
     ]
    },
    {
     "name": "stdout",
     "output_type": "stream",
     "text": [
      "step = 106: loss = 34566.671875\n",
      "step = 106: Average Return = 0.800000011920929\n",
      "step = 107: loss = 38103.7890625\n",
      "step = 107: Average Return = 0.30000001192092896\n",
      "step = 108: loss = 48956.359375\n",
      "step = 108: Average Return = 0.699999988079071\n",
      "step = 109: loss = 53347.6640625\n",
      "step = 109: Average Return = 0.5\n",
      "step = 110: loss = 61065.1484375\n",
      "step = 110: Average Return = 0.699999988079071\n",
      "step = 111: loss = 70019.21875\n",
      "step = 111: Average Return = 0.5\n",
      "step = 112: loss = 82519.0\n",
      "step = 112: Average Return = 1.2000000476837158\n",
      "step = 113: loss = 96780.78125\n",
      "step = 113: Average Return = 0.30000001192092896\n",
      "step = 114: loss = 112410.9609375\n",
      "step = 114: Average Return = 0.6000000238418579\n",
      "step = 115: loss = 130545.171875\n",
      "step = 115: Average Return = 1.2000000476837158\n",
      "step = 116: loss = 148221.09375\n",
      "step = 116: Average Return = 0.5\n",
      "step = 117: loss = 173692.375\n",
      "step = 117: Average Return = 0.5\n",
      "step = 118: loss = 200433.484375\n",
      "step = 118: Average Return = 0.800000011920929\n",
      "step = 119: loss = 246044.46875\n",
      "step = 119: Average Return = 0.4000000059604645\n",
      "step = 120: loss = 269100.625\n",
      "step = 120: Average Return = 0.5\n",
      "step = 121: loss = 312928.65625\n",
      "step = 121: Average Return = 0.30000001192092896\n",
      "step = 122: loss = 337714.0\n",
      "step = 122: Average Return = 0.6000000238418579\n",
      "step = 123: loss = 414864.34375\n",
      "step = 123: Average Return = 0.5\n",
      "step = 124: loss = 457227.53125\n",
      "step = 124: Average Return = 0.699999988079071\n"
     ]
    },
    {
     "ename": "KeyboardInterrupt",
     "evalue": "",
     "output_type": "error",
     "traceback": [
      "\u001b[0;31m---------------------------------------------------------------------------\u001b[0m",
      "\u001b[0;31mKeyboardInterrupt\u001b[0m                         Traceback (most recent call last)",
      "\u001b[0;32m<ipython-input-26-756141f2552c>\u001b[0m in \u001b[0;36m<module>\u001b[0;34m\u001b[0m\n\u001b[1;32m     11\u001b[0m   \u001b[0;31m# Collect a few steps using collect_policy and save to the replay buffer.\u001b[0m\u001b[0;34m\u001b[0m\u001b[0;34m\u001b[0m\u001b[0;34m\u001b[0m\u001b[0m\n\u001b[1;32m     12\u001b[0m   \u001b[0;31m# Continue running from previous state\u001b[0m\u001b[0;34m\u001b[0m\u001b[0;34m\u001b[0m\u001b[0;34m\u001b[0m\u001b[0m\n\u001b[0;32m---> 13\u001b[0;31m   \u001b[0mfinal_time_step\u001b[0m\u001b[0;34m,\u001b[0m \u001b[0m_\u001b[0m \u001b[0;34m=\u001b[0m \u001b[0mdriver\u001b[0m\u001b[0;34m.\u001b[0m\u001b[0mrun\u001b[0m\u001b[0;34m(\u001b[0m\u001b[0mfinal_time_step\u001b[0m\u001b[0;34m,\u001b[0m \u001b[0mpolicy_state\u001b[0m\u001b[0;34m)\u001b[0m\u001b[0;34m\u001b[0m\u001b[0;34m\u001b[0m\u001b[0m\n\u001b[0m\u001b[1;32m     14\u001b[0m \u001b[0;34m\u001b[0m\u001b[0m\n\u001b[1;32m     15\u001b[0m   \u001b[0;31m# Sample a batch of data from the buffer and update the agent's network.\u001b[0m\u001b[0;34m\u001b[0m\u001b[0;34m\u001b[0m\u001b[0;34m\u001b[0m\u001b[0m\n",
      "\u001b[0;32m~/miniconda3/envs/causal/lib/python3.7/site-packages/tf_agents/drivers/dynamic_episode_driver.py\u001b[0m in \u001b[0;36mrun\u001b[0;34m(self, time_step, policy_state, num_episodes, maximum_iterations)\u001b[0m\n\u001b[1;32m    191\u001b[0m         \u001b[0mpolicy_state\u001b[0m\u001b[0;34m=\u001b[0m\u001b[0mpolicy_state\u001b[0m\u001b[0;34m,\u001b[0m\u001b[0;34m\u001b[0m\u001b[0;34m\u001b[0m\u001b[0m\n\u001b[1;32m    192\u001b[0m         \u001b[0mnum_episodes\u001b[0m\u001b[0;34m=\u001b[0m\u001b[0mnum_episodes\u001b[0m\u001b[0;34m,\u001b[0m\u001b[0;34m\u001b[0m\u001b[0;34m\u001b[0m\u001b[0m\n\u001b[0;32m--> 193\u001b[0;31m         maximum_iterations=maximum_iterations)\n\u001b[0m\u001b[1;32m    194\u001b[0m \u001b[0;34m\u001b[0m\u001b[0m\n\u001b[1;32m    195\u001b[0m   def _run(self,\n",
      "\u001b[0;32m~/miniconda3/envs/causal/lib/python3.7/site-packages/tf_agents/utils/common.py\u001b[0m in \u001b[0;36mwith_check_resource_vars\u001b[0;34m(*fn_args, **fn_kwargs)\u001b[0m\n\u001b[1;32m    152\u001b[0m         \u001b[0;31m# We're either in eager mode or in tf.function mode (no in-between); so\u001b[0m\u001b[0;34m\u001b[0m\u001b[0;34m\u001b[0m\u001b[0;34m\u001b[0m\u001b[0m\n\u001b[1;32m    153\u001b[0m         \u001b[0;31m# autodep-like behavior is already expected of fn.\u001b[0m\u001b[0;34m\u001b[0m\u001b[0;34m\u001b[0m\u001b[0;34m\u001b[0m\u001b[0m\n\u001b[0;32m--> 154\u001b[0;31m         \u001b[0;32mreturn\u001b[0m \u001b[0mfn\u001b[0m\u001b[0;34m(\u001b[0m\u001b[0;34m*\u001b[0m\u001b[0mfn_args\u001b[0m\u001b[0;34m,\u001b[0m \u001b[0;34m**\u001b[0m\u001b[0mfn_kwargs\u001b[0m\u001b[0;34m)\u001b[0m\u001b[0;34m\u001b[0m\u001b[0;34m\u001b[0m\u001b[0m\n\u001b[0m\u001b[1;32m    155\u001b[0m       \u001b[0;32mif\u001b[0m \u001b[0;32mnot\u001b[0m \u001b[0mresource_variables_enabled\u001b[0m\u001b[0;34m(\u001b[0m\u001b[0;34m)\u001b[0m\u001b[0;34m:\u001b[0m\u001b[0;34m\u001b[0m\u001b[0;34m\u001b[0m\u001b[0m\n\u001b[1;32m    156\u001b[0m         \u001b[0;32mraise\u001b[0m \u001b[0mRuntimeError\u001b[0m\u001b[0;34m(\u001b[0m\u001b[0mMISSING_RESOURCE_VARIABLES_ERROR\u001b[0m\u001b[0;34m)\u001b[0m\u001b[0;34m\u001b[0m\u001b[0;34m\u001b[0m\u001b[0m\n",
      "\u001b[0;32m~/miniconda3/envs/causal/lib/python3.7/site-packages/tf_agents/drivers/dynamic_episode_driver.py\u001b[0m in \u001b[0;36m_run\u001b[0;34m(self, time_step, policy_state, num_episodes, maximum_iterations)\u001b[0m\n\u001b[1;32m    220\u001b[0m             \u001b[0mparallel_iterations\u001b[0m\u001b[0;34m=\u001b[0m\u001b[0;36m1\u001b[0m\u001b[0;34m,\u001b[0m\u001b[0;34m\u001b[0m\u001b[0;34m\u001b[0m\u001b[0m\n\u001b[1;32m    221\u001b[0m             \u001b[0mmaximum_iterations\u001b[0m\u001b[0;34m=\u001b[0m\u001b[0mmaximum_iterations\u001b[0m\u001b[0;34m,\u001b[0m\u001b[0;34m\u001b[0m\u001b[0;34m\u001b[0m\u001b[0m\n\u001b[0;32m--> 222\u001b[0;31m             name='driver_loop'))\n\u001b[0m\u001b[1;32m    223\u001b[0m \u001b[0;34m\u001b[0m\u001b[0m\n\u001b[1;32m    224\u001b[0m     \u001b[0;32mreturn\u001b[0m \u001b[0mtime_step\u001b[0m\u001b[0;34m,\u001b[0m \u001b[0mpolicy_state\u001b[0m\u001b[0;34m\u001b[0m\u001b[0;34m\u001b[0m\u001b[0m\n",
      "\u001b[0;32m~/miniconda3/envs/causal/lib/python3.7/site-packages/tensorflow_core/python/ops/control_flow_ops.py\u001b[0m in \u001b[0;36mwhile_loop_v2\u001b[0;34m(cond, body, loop_vars, shape_invariants, parallel_iterations, back_prop, swap_memory, maximum_iterations, name)\u001b[0m\n\u001b[1;32m   2476\u001b[0m       \u001b[0mname\u001b[0m\u001b[0;34m=\u001b[0m\u001b[0mname\u001b[0m\u001b[0;34m,\u001b[0m\u001b[0;34m\u001b[0m\u001b[0;34m\u001b[0m\u001b[0m\n\u001b[1;32m   2477\u001b[0m       \u001b[0mmaximum_iterations\u001b[0m\u001b[0;34m=\u001b[0m\u001b[0mmaximum_iterations\u001b[0m\u001b[0;34m,\u001b[0m\u001b[0;34m\u001b[0m\u001b[0;34m\u001b[0m\u001b[0m\n\u001b[0;32m-> 2478\u001b[0;31m       return_same_structure=True)\n\u001b[0m\u001b[1;32m   2479\u001b[0m \u001b[0;34m\u001b[0m\u001b[0m\n\u001b[1;32m   2480\u001b[0m \u001b[0;34m\u001b[0m\u001b[0m\n",
      "\u001b[0;32m~/miniconda3/envs/causal/lib/python3.7/site-packages/tensorflow_core/python/ops/control_flow_ops.py\u001b[0m in \u001b[0;36mwhile_loop\u001b[0;34m(cond, body, loop_vars, shape_invariants, parallel_iterations, back_prop, swap_memory, name, maximum_iterations, return_same_structure)\u001b[0m\n\u001b[1;32m   2712\u001b[0m                                               list(loop_vars))\n\u001b[1;32m   2713\u001b[0m       \u001b[0;32mwhile\u001b[0m \u001b[0mcond\u001b[0m\u001b[0;34m(\u001b[0m\u001b[0;34m*\u001b[0m\u001b[0mloop_vars\u001b[0m\u001b[0;34m)\u001b[0m\u001b[0;34m:\u001b[0m\u001b[0;34m\u001b[0m\u001b[0;34m\u001b[0m\u001b[0m\n\u001b[0;32m-> 2714\u001b[0;31m         \u001b[0mloop_vars\u001b[0m \u001b[0;34m=\u001b[0m \u001b[0mbody\u001b[0m\u001b[0;34m(\u001b[0m\u001b[0;34m*\u001b[0m\u001b[0mloop_vars\u001b[0m\u001b[0;34m)\u001b[0m\u001b[0;34m\u001b[0m\u001b[0;34m\u001b[0m\u001b[0m\n\u001b[0m\u001b[1;32m   2715\u001b[0m         \u001b[0;32mif\u001b[0m \u001b[0mtry_to_pack\u001b[0m \u001b[0;32mand\u001b[0m \u001b[0;32mnot\u001b[0m \u001b[0misinstance\u001b[0m\u001b[0;34m(\u001b[0m\u001b[0mloop_vars\u001b[0m\u001b[0;34m,\u001b[0m \u001b[0;34m(\u001b[0m\u001b[0mlist\u001b[0m\u001b[0;34m,\u001b[0m \u001b[0m_basetuple\u001b[0m\u001b[0;34m)\u001b[0m\u001b[0;34m)\u001b[0m\u001b[0;34m:\u001b[0m\u001b[0;34m\u001b[0m\u001b[0;34m\u001b[0m\u001b[0m\n\u001b[1;32m   2716\u001b[0m           \u001b[0mpacked\u001b[0m \u001b[0;34m=\u001b[0m \u001b[0;32mTrue\u001b[0m\u001b[0;34m\u001b[0m\u001b[0;34m\u001b[0m\u001b[0m\n",
      "\u001b[0;32m~/miniconda3/envs/causal/lib/python3.7/site-packages/tf_agents/drivers/dynamic_episode_driver.py\u001b[0m in \u001b[0;36mloop_body\u001b[0;34m(counter, time_step, policy_state)\u001b[0m\n\u001b[1;32m    148\u001b[0m           [tf.group(observer_ops + transition_observer_ops)]):\n\u001b[1;32m    149\u001b[0m         time_step, next_time_step, policy_state = tf.nest.map_structure(\n\u001b[0;32m--> 150\u001b[0;31m             tf.identity, (time_step, next_time_step, policy_state))\n\u001b[0m\u001b[1;32m    151\u001b[0m \u001b[0;34m\u001b[0m\u001b[0m\n\u001b[1;32m    152\u001b[0m       \u001b[0;31m# While loop counter is only incremented for episode reset episodes.\u001b[0m\u001b[0;34m\u001b[0m\u001b[0;34m\u001b[0m\u001b[0;34m\u001b[0m\u001b[0m\n",
      "\u001b[0;32m~/miniconda3/envs/causal/lib/python3.7/site-packages/tensorflow_core/python/util/nest.py\u001b[0m in \u001b[0;36mmap_structure\u001b[0;34m(func, *structure, **kwargs)\u001b[0m\n\u001b[1;32m    566\u001b[0m \u001b[0;34m\u001b[0m\u001b[0m\n\u001b[1;32m    567\u001b[0m   return pack_sequence_as(\n\u001b[0;32m--> 568\u001b[0;31m       \u001b[0mstructure\u001b[0m\u001b[0;34m[\u001b[0m\u001b[0;36m0\u001b[0m\u001b[0;34m]\u001b[0m\u001b[0;34m,\u001b[0m \u001b[0;34m[\u001b[0m\u001b[0mfunc\u001b[0m\u001b[0;34m(\u001b[0m\u001b[0;34m*\u001b[0m\u001b[0mx\u001b[0m\u001b[0;34m)\u001b[0m \u001b[0;32mfor\u001b[0m \u001b[0mx\u001b[0m \u001b[0;32min\u001b[0m \u001b[0mentries\u001b[0m\u001b[0;34m]\u001b[0m\u001b[0;34m,\u001b[0m\u001b[0;34m\u001b[0m\u001b[0;34m\u001b[0m\u001b[0m\n\u001b[0m\u001b[1;32m    569\u001b[0m       expand_composites=expand_composites)\n\u001b[1;32m    570\u001b[0m \u001b[0;34m\u001b[0m\u001b[0m\n",
      "\u001b[0;32m~/miniconda3/envs/causal/lib/python3.7/site-packages/tensorflow_core/python/util/nest.py\u001b[0m in \u001b[0;36m<listcomp>\u001b[0;34m(.0)\u001b[0m\n\u001b[1;32m    566\u001b[0m \u001b[0;34m\u001b[0m\u001b[0m\n\u001b[1;32m    567\u001b[0m   return pack_sequence_as(\n\u001b[0;32m--> 568\u001b[0;31m       \u001b[0mstructure\u001b[0m\u001b[0;34m[\u001b[0m\u001b[0;36m0\u001b[0m\u001b[0;34m]\u001b[0m\u001b[0;34m,\u001b[0m \u001b[0;34m[\u001b[0m\u001b[0mfunc\u001b[0m\u001b[0;34m(\u001b[0m\u001b[0;34m*\u001b[0m\u001b[0mx\u001b[0m\u001b[0;34m)\u001b[0m \u001b[0;32mfor\u001b[0m \u001b[0mx\u001b[0m \u001b[0;32min\u001b[0m \u001b[0mentries\u001b[0m\u001b[0;34m]\u001b[0m\u001b[0;34m,\u001b[0m\u001b[0;34m\u001b[0m\u001b[0;34m\u001b[0m\u001b[0m\n\u001b[0m\u001b[1;32m    569\u001b[0m       expand_composites=expand_composites)\n\u001b[1;32m    570\u001b[0m \u001b[0;34m\u001b[0m\u001b[0m\n",
      "\u001b[0;32m~/miniconda3/envs/causal/lib/python3.7/site-packages/tensorflow_core/python/util/dispatch.py\u001b[0m in \u001b[0;36mwrapper\u001b[0;34m(*args, **kwargs)\u001b[0m\n\u001b[1;32m    178\u001b[0m     \u001b[0;34m\"\"\"Call target, and fall back on dispatchers if there is a TypeError.\"\"\"\u001b[0m\u001b[0;34m\u001b[0m\u001b[0;34m\u001b[0m\u001b[0m\n\u001b[1;32m    179\u001b[0m     \u001b[0;32mtry\u001b[0m\u001b[0;34m:\u001b[0m\u001b[0;34m\u001b[0m\u001b[0;34m\u001b[0m\u001b[0m\n\u001b[0;32m--> 180\u001b[0;31m       \u001b[0;32mreturn\u001b[0m \u001b[0mtarget\u001b[0m\u001b[0;34m(\u001b[0m\u001b[0;34m*\u001b[0m\u001b[0margs\u001b[0m\u001b[0;34m,\u001b[0m \u001b[0;34m**\u001b[0m\u001b[0mkwargs\u001b[0m\u001b[0;34m)\u001b[0m\u001b[0;34m\u001b[0m\u001b[0;34m\u001b[0m\u001b[0m\n\u001b[0m\u001b[1;32m    181\u001b[0m     \u001b[0;32mexcept\u001b[0m \u001b[0;34m(\u001b[0m\u001b[0mTypeError\u001b[0m\u001b[0;34m,\u001b[0m \u001b[0mValueError\u001b[0m\u001b[0;34m)\u001b[0m\u001b[0;34m:\u001b[0m\u001b[0;34m\u001b[0m\u001b[0;34m\u001b[0m\u001b[0m\n\u001b[1;32m    182\u001b[0m       \u001b[0;31m# Note: convert_to_eager_tensor currently raises a ValueError, not a\u001b[0m\u001b[0;34m\u001b[0m\u001b[0;34m\u001b[0m\u001b[0;34m\u001b[0m\u001b[0m\n",
      "\u001b[0;32m~/miniconda3/envs/causal/lib/python3.7/site-packages/tensorflow_core/python/ops/array_ops.py\u001b[0m in \u001b[0;36midentity\u001b[0;34m(input, name)\u001b[0m\n\u001b[1;32m    265\u001b[0m     \u001b[0;31m# variables. Variables have correct handle data when graph building.\u001b[0m\u001b[0;34m\u001b[0m\u001b[0;34m\u001b[0m\u001b[0;34m\u001b[0m\u001b[0m\n\u001b[1;32m    266\u001b[0m     \u001b[0minput\u001b[0m \u001b[0;34m=\u001b[0m \u001b[0mops\u001b[0m\u001b[0;34m.\u001b[0m\u001b[0mconvert_to_tensor\u001b[0m\u001b[0;34m(\u001b[0m\u001b[0minput\u001b[0m\u001b[0;34m)\u001b[0m\u001b[0;34m\u001b[0m\u001b[0;34m\u001b[0m\u001b[0m\n\u001b[0;32m--> 267\u001b[0;31m   \u001b[0mret\u001b[0m \u001b[0;34m=\u001b[0m \u001b[0mgen_array_ops\u001b[0m\u001b[0;34m.\u001b[0m\u001b[0midentity\u001b[0m\u001b[0;34m(\u001b[0m\u001b[0minput\u001b[0m\u001b[0;34m,\u001b[0m \u001b[0mname\u001b[0m\u001b[0;34m=\u001b[0m\u001b[0mname\u001b[0m\u001b[0;34m)\u001b[0m\u001b[0;34m\u001b[0m\u001b[0;34m\u001b[0m\u001b[0m\n\u001b[0m\u001b[1;32m    268\u001b[0m   \u001b[0;31m# Propagate handle data for happier shape inference for resource variables.\u001b[0m\u001b[0;34m\u001b[0m\u001b[0;34m\u001b[0m\u001b[0;34m\u001b[0m\u001b[0m\n\u001b[1;32m    269\u001b[0m   \u001b[0;32mif\u001b[0m \u001b[0mhasattr\u001b[0m\u001b[0;34m(\u001b[0m\u001b[0minput\u001b[0m\u001b[0;34m,\u001b[0m \u001b[0;34m\"_handle_data\"\u001b[0m\u001b[0;34m)\u001b[0m\u001b[0;34m:\u001b[0m\u001b[0;34m\u001b[0m\u001b[0;34m\u001b[0m\u001b[0m\n",
      "\u001b[0;32m~/miniconda3/envs/causal/lib/python3.7/site-packages/tensorflow_core/python/ops/gen_array_ops.py\u001b[0m in \u001b[0;36midentity\u001b[0;34m(input, name)\u001b[0m\n\u001b[1;32m   3814\u001b[0m     \u001b[0;32mtry\u001b[0m\u001b[0;34m:\u001b[0m\u001b[0;34m\u001b[0m\u001b[0;34m\u001b[0m\u001b[0m\n\u001b[1;32m   3815\u001b[0m       _result = _pywrap_tensorflow.TFE_Py_FastPathExecute(\n\u001b[0;32m-> 3816\u001b[0;31m         \u001b[0m_ctx\u001b[0m\u001b[0;34m.\u001b[0m\u001b[0m_context_handle\u001b[0m\u001b[0;34m,\u001b[0m \u001b[0mtld\u001b[0m\u001b[0;34m.\u001b[0m\u001b[0mdevice_name\u001b[0m\u001b[0;34m,\u001b[0m \u001b[0;34m\"Identity\"\u001b[0m\u001b[0;34m,\u001b[0m \u001b[0mname\u001b[0m\u001b[0;34m,\u001b[0m\u001b[0;34m\u001b[0m\u001b[0;34m\u001b[0m\u001b[0m\n\u001b[0m\u001b[1;32m   3817\u001b[0m         tld.op_callbacks, input)\n\u001b[1;32m   3818\u001b[0m       \u001b[0;32mreturn\u001b[0m \u001b[0m_result\u001b[0m\u001b[0;34m\u001b[0m\u001b[0;34m\u001b[0m\u001b[0m\n",
      "\u001b[0;31mKeyboardInterrupt\u001b[0m: "
     ]
    }
   ],
   "source": [
    "### (Optional) Optimize by wrapping some of the code in a graph using TF function.\n",
    "agent.train = common.function(agent.train)\n",
    "\n",
    "# Reset the train step\n",
    "agent.train_step_counter.assign(0)\n",
    "\n",
    "returns = []\n",
    "\n",
    "for _ in range(num_iterations):\n",
    "\n",
    "  # Collect a few steps using collect_policy and save to the replay buffer.\n",
    "  # Continue running from previous state\n",
    "  final_time_step, _ = driver.run(final_time_step, policy_state)\n",
    "\n",
    "  # Sample a batch of data from the buffer and update the agent's network.\n",
    "  experience, unused_info = next(iterator)\n",
    "  train_loss = agent.train(experience).loss\n",
    "\n",
    "  step = agent.train_step_counter.numpy()\n",
    "\n",
    "  if step % log_interval == 0:\n",
    "    print('step = {0}: loss = {1}'.format(step, train_loss))\n",
    "\n",
    "  if step % eval_interval == 0:\n",
    "    ret = avg_return.result()\n",
    "    print('step = {0}: Average Return = {1}'.format(step, ret))\n",
    "    avg_return.reset()\n",
    "    returns.append(ret)"
   ]
  },
  {
   "cell_type": "code",
   "execution_count": 27,
   "metadata": {},
   "outputs": [
    {
     "data": {
      "text/plain": [
       "[<matplotlib.lines.Line2D at 0x7f92a829a0d0>]"
      ]
     },
     "execution_count": 27,
     "metadata": {},
     "output_type": "execute_result"
    },
    {
     "data": {
      "image/png": "[encoded data removed]",
      "text/plain": [
       "<Figure size 432x288 with 1 Axes>"
      ]
     },
     "metadata": {
      "needs_background": "light"
     },
     "output_type": "display_data"
    }
   ],
   "source": [
    "plt.plot(returns)"
   ]
  },
  {
   "cell_type": "code",
   "execution_count": null,
   "metadata": {},
   "outputs": [],
   "source": [
    "replay_buffer.clear()"
   ]
  },
  {
   "cell_type": "code",
   "execution_count": null,
   "metadata": {},
   "outputs": [],
   "source": [
    "num_episodes = tf_metrics.NumberOfEpisodes()\n",
    "env_steps = tf_metrics.EnvironmentSteps()\n",
    "avg_return = tf_metrics.AverageReturnMetric()\n",
    "act_hist = tf_metrics.ChosenActionHistogram()\n",
    "\n",
    "observers = [num_episodes, env_steps, avg_return, replay_buffer.add_batch, act_hist]\n",
    "\n",
    "#tf_policy = epsilon_greedy_policy.EpsilonGreedyPolicy(agent.collect_policy, 0.5)\n",
    "\n",
    "tf_env = train_env\n",
    "tf_policy = agent.policy\n",
    "\n",
    "driver = dynamic_episode_driver.DynamicEpisodeDriver(\n",
    "    tf_env, tf_policy, observers, num_episodes=batch_size)\n",
    "\n",
    "# Initial driver.run will reset the environment and initialize the policy.\n",
    "final_time_step, policy_state = driver.run()\n",
    "\n",
    "print('final_time_step', final_time_step)\n",
    "print('Number of Steps: ', env_steps.result().numpy())\n",
    "print('Number of Episodes: ', num_episodes.result().numpy())"
   ]
  },
  {
   "cell_type": "code",
   "execution_count": null,
   "metadata": {},
   "outputs": [],
   "source": [
    "avg_return.result()"
   ]
  },
  {
   "cell_type": "code",
   "execution_count": null,
   "metadata": {},
   "outputs": [],
   "source": [
    "replay_buffer.clear()"
   ]
  },
  {
   "cell_type": "code",
   "execution_count": null,
   "metadata": {},
   "outputs": [],
   "source": [
    "for r in replay_buffer.gather_all().observation[:10].numpy()[0]:\n",
    "    print(r)"
   ]
  },
  {
   "cell_type": "code",
   "execution_count": null,
   "metadata": {},
   "outputs": [],
   "source": []
  },
  {
   "cell_type": "code",
   "execution_count": null,
   "metadata": {},
   "outputs": [],
   "source": [
    "xy = replay_buffer.gather_all().observation.numpy()[0]"
   ]
  },
  {
   "cell_type": "code",
   "execution_count": null,
   "metadata": {},
   "outputs": [],
   "source": [
    "plt.hist(replay_buffer.gather_all().action.numpy()[0])"
   ]
  },
  {
   "cell_type": "code",
   "execution_count": null,
   "metadata": {},
   "outputs": [],
   "source": [
    "replay_buffer.gather_all().action.numpy().shape"
   ]
  },
  {
   "cell_type": "code",
   "execution_count": null,
   "metadata": {},
   "outputs": [],
   "source": [
    "plt.plot(xy[:, 0], xy[:, 1])\n",
    "plt.plot([0, 10], [0, 10])"
   ]
  },
  {
   "cell_type": "markdown",
   "metadata": {},
   "source": [
    "# Hardcoded agent"
   ]
  },
  {
   "cell_type": "code",
   "execution_count": null,
   "metadata": {},
   "outputs": [],
   "source": [
    "o = train_env.reset().observation.numpy()[0]\n",
    "total_reward = 0\n",
    "while True:\n",
    "    act = 2 if o[0] > o[1] else 1\n",
    "    step = train_env.step(act)\n",
    "    o = step.observation.numpy()[0]\n",
    "    r = np.array(step.reward[0])\n",
    "    total_reward += r\n",
    "    print(act, o, r)\n",
    "    if step.step_type == 2:\n",
    "        break\n",
    "print(total_reward)"
   ]
  },
  {
   "cell_type": "markdown",
   "metadata": {},
   "source": [
    "### no preproc\n",
    "5 -> 4.1 (any learning rate) dqn\n",
    "10 -> 10.0\n",
    "\n",
    "Why is there a difference???\n",
    "\n",
    "\n",
    "### preproc\n",
    "* ```\n",
    "    tf.keras.layers.Dense(10, input_shape=(n,), activation='relu'),\n",
    "            #tf.keras.layers.Dense(100),\n",
    "            tf.keras.layers.Dense(k, bias_initializer='random_uniform'),\n",
    "            ```\n",
    "  relu (30, 30, 30, 30, 30, 30), 2->5, seed=10, 20 steps\n",
    "  CANT LEARN\n",
    "\n",
    "* Removed the first layer, now only have a linear transform -> same thing\n",
    "* trying adam -- same thing. rate $10^{-3}$ goes up! Trying with more iterations\n",
    "\n",
    "Trying PPO in another notebook..."
   ]
  },
  {
   "cell_type": "code",
   "execution_count": null,
   "metadata": {},
   "outputs": [],
   "source": []
  }
 ],
 "metadata": {
  "kernelspec": {
   "display_name": "Python 3",
   "language": "python",
   "name": "python3"
  }
 },
 "nbformat": 4,
 "nbformat_minor": 4
}
