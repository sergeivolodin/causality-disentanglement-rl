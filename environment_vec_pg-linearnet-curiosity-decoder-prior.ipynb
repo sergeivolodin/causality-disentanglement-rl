{
 "cells": [
  {
   "cell_type": "markdown",
   "metadata": {},
   "source": [
    "# Curiosity-driven exploration with causality prior on the model in VectorIncrement environment"
   ]
  },
  {
   "cell_type": "markdown",
   "metadata": {},
   "source": [
    "Setting the right GPU"
   ]
  },
  {
   "cell_type": "code",
   "execution_count": 17,
   "metadata": {},
   "outputs": [],
   "source": [
    "import os\n",
    "os.environ[\"CUDA_VISIBLE_DEVICES\"]=\"1\"\n",
    "os.environ[\"TF_FORCE_GPU_ALLOW_GROWTH\"]=\"true\""
   ]
  },
  {
   "cell_type": "markdown",
   "metadata": {},
   "source": [
    "Imports"
   ]
  },
  {
   "cell_type": "code",
   "execution_count": 18,
   "metadata": {},
   "outputs": [],
   "source": [
    "import numpy as np\n",
    "from matplotlib import pyplot as plt\n",
    "import tensorflow as tf\n",
    "from tqdm.notebook import tqdm\n",
    "\n",
    "tf.compat.v1.enable_v2_behavior()\n",
    "\n",
    "from tf_agents.agents.reinforce import reinforce_agent\n",
    "from tf_agents.drivers import dynamic_step_driver\n",
    "from tf_agents.environments import suite_gym\n",
    "from tf_agents.environments import tf_py_environment\n",
    "from tf_agents.eval import metric_utils\n",
    "from tf_agents.metrics import tf_metrics, py_metrics\n",
    "from tf_agents.policies import random_tf_policy, epsilon_greedy_policy\n",
    "from tf_agents.replay_buffers import tf_uniform_replay_buffer\n",
    "from tf_agents.networks import actor_distribution_network\n",
    "from tf_agents.trajectories import trajectory\n",
    "from tf_agents.utils import common\n",
    "from tf_agents.specs import array_spec\n",
    "from tf_agents.environments import utils, wrappers\n",
    "from tf_agents.trajectories import time_step as ts\n",
    "from tf_agents.drivers import dynamic_episode_driver\n",
    "from tf_agents.drivers import py_driver\n",
    "\n",
    "from vectorincrement import *\n",
    "from common import *\n",
    "from curiosity import *\n",
    "from sparse_model_from_model import LinearStateTransitionModel, SparseModelLearner\n",
    "\n",
    "from IPython.display import clear_output\n",
    "\n",
    "import seaborn as sns"
   ]
  },
  {
   "cell_type": "markdown",
   "metadata": {},
   "source": [
    "Environment hyperparameters"
   ]
  },
  {
   "cell_type": "code",
   "execution_count": 19,
   "metadata": {},
   "outputs": [],
   "source": [
    "v_n = 5\n",
    "v_k = 5\n",
    "v_seed = 43\n",
    "do_transform = True\n",
    "time_limit = 20"
   ]
  },
  {
   "cell_type": "markdown",
   "metadata": {},
   "source": [
    "Agent hyperparameters"
   ]
  },
  {
   "cell_type": "code",
   "execution_count": 35,
   "metadata": {},
   "outputs": [],
   "source": [
    "num_iterations = 5000 # @param {type:\"integer\"}\n",
    "collect_episodes_per_iteration = 20 # @param {type:\"integer\"}\n",
    "replay_buffer_capacity = 1000 # @param {type:\"integer\"}\n",
    "\n",
    "fc_layer_params = ()\n",
    "\n",
    "learning_rate = 1e-3 # @param {type:\"number\"}\n",
    "log_interval = 25 # @param {type:\"integer\"}\n",
    "num_eval_episodes = 10 # @param {type:\"integer\"}\n",
    "eval_interval = 100 # @param {type:\"integer\"}\n",
    "\n",
    "# p norm\n",
    "p_ord = 1\n",
    "\n",
    "# regularization for reconstruction\n",
    "eps_dinv = 1.\n",
    "\n",
    "d_init_randomness = 5.\n",
    "\n",
    "# for training observation model\n",
    "model_W_train_epochs = 500\n",
    "\n",
    "# for training feature model\n",
    "model_sml_train_epochs = 1000"
   ]
  },
  {
   "cell_type": "markdown",
   "metadata": {},
   "source": [
    "Decoder: a linear transformation from observations to features"
   ]
  },
  {
   "cell_type": "code",
   "execution_count": 36,
   "metadata": {},
   "outputs": [],
   "source": [
    "# two layers, will sync parameters between them\n",
    "\n",
    "W = LinearStateTransitionModel(o=v_k, a=v_n)\n",
    "sml = SparseModelLearner(o=v_k, a=v_n, f=v_n, p_ord=p_ord,\n",
    "                         eps_dinv=eps_dinv, d_init_randomness=d_init_randomness)\n",
    "\n",
    "decoder_layer_agent = tf.keras.layers.Dense(v_n, input_shape=(v_k,), activation=None,\n",
    "                             use_bias=False, kernel_initializer='random_normal')"
   ]
  },
  {
   "cell_type": "markdown",
   "metadata": {},
   "source": [
    "Model of the environment"
   ]
  },
  {
   "cell_type": "code",
   "execution_count": 37,
   "metadata": {},
   "outputs": [],
   "source": [
    "def env_model(oa):\n",
    "    \"\"\"Models next observation given o and a.\"\"\"\n",
    "    oa = oa[0]\n",
    "    o = oa[:v_k]\n",
    "    a = oa[v_k:]\n",
    "    D = sml.D.numpy()\n",
    "    Mf, Ma = sml.get_MfMa(sml.D)\n",
    "    Mf = Mf.numpy()\n",
    "    Ma = Ma.numpy()\n",
    "    result = np.linalg.inv(D) @ (Ma @ a + Mf @ D @  o)\n",
    "    return np.array([result])"
   ]
  },
  {
   "cell_type": "markdown",
   "metadata": {},
   "source": [
    "Curiosity parameters"
   ]
  },
  {
   "cell_type": "code",
   "execution_count": 38,
   "metadata": {},
   "outputs": [],
   "source": [
    "alpha = 1.0\n",
    "\n",
    "curiosity_interval = 10"
   ]
  },
  {
   "cell_type": "markdown",
   "metadata": {},
   "source": [
    "Creating a curiosity-wrapped environment"
   ]
  },
  {
   "cell_type": "code",
   "execution_count": 39,
   "metadata": {},
   "outputs": [],
   "source": [
    "def get_env(add_curiosity_reward=True):\n",
    "    \"\"\"Return a copy of the environment.\"\"\"\n",
    "    env = VectorIncrementEnvironmentTFAgents(v_n=v_n, v_k=v_k, v_seed=v_seed,\n",
    "                                             do_transform=do_transform)\n",
    "    env = wrappers.TimeLimit(env, time_limit)\n",
    "    if add_curiosity_reward:\n",
    "        env = CuriosityWrapper(env, env_model, alpha=alpha)\n",
    "    env = tf_py_environment.TFPyEnvironment(env)\n",
    "    return env"
   ]
  },
  {
   "cell_type": "code",
   "execution_count": 40,
   "metadata": {},
   "outputs": [],
   "source": [
    "train_env = get_env(add_curiosity_reward=True)\n",
    "eval_env = get_env(add_curiosity_reward=False)"
   ]
  },
  {
   "cell_type": "code",
   "execution_count": 41,
   "metadata": {},
   "outputs": [],
   "source": [
    "actor_net = actor_distribution_network.ActorDistributionNetwork(\n",
    "    train_env.observation_spec(),\n",
    "    train_env.action_spec(),\n",
    "    fc_layer_params=fc_layer_params,\n",
    "    activation_fn=tf.keras.activations.relu,\n",
    "    preprocessing_layers=decoder_layer_agent\n",
    "    # for features: add preprocessing_layers=[...]\n",
    ")"
   ]
  },
  {
   "cell_type": "code",
   "execution_count": 42,
   "metadata": {},
   "outputs": [],
   "source": [
    "optimizer = tf.compat.v1.train.GradientDescentOptimizer(learning_rate=learning_rate)\n",
    "\n",
    "train_step_counter = tf.compat.v2.Variable(0)\n",
    "\n",
    "tf_agent = reinforce_agent.ReinforceAgent(\n",
    "    train_env.time_step_spec(),\n",
    "    train_env.action_spec(),\n",
    "    actor_network=actor_net,\n",
    "    optimizer=optimizer,\n",
    "    normalize_returns=True,\n",
    "    train_step_counter=train_step_counter)\n",
    "tf_agent.initialize()"
   ]
  },
  {
   "cell_type": "code",
   "execution_count": 43,
   "metadata": {},
   "outputs": [],
   "source": [
    "eval_policy = tf_agent.policy\n",
    "collect_policy = tf_agent.collect_policy"
   ]
  },
  {
   "cell_type": "code",
   "execution_count": 44,
   "metadata": {},
   "outputs": [],
   "source": [
    "replay_buffer = tf_uniform_replay_buffer.TFUniformReplayBuffer(\n",
    "    data_spec=tf_agent.collect_data_spec,\n",
    "    batch_size=train_env.batch_size,\n",
    "    max_length=replay_buffer_capacity)"
   ]
  },
  {
   "cell_type": "code",
   "execution_count": 45,
   "metadata": {},
   "outputs": [],
   "source": [
    "curiosity_replay_buffer = tf_uniform_replay_buffer.TFUniformReplayBuffer(\n",
    "    data_spec=tf_agent.collect_data_spec,\n",
    "    batch_size=train_env.batch_size,\n",
    "    max_length=1000000) # should never overflow"
   ]
  },
  {
   "cell_type": "code",
   "execution_count": 46,
   "metadata": {},
   "outputs": [],
   "source": [
    "decoder_layer_agent = actor_net.layers[0].layers[0] # taking the copied layer with actual weights\n",
    "\n",
    "# sml initializes D properly\n",
    "decoder_layer_agent.set_weights([sml.D.numpy().T])"
   ]
  },
  {
   "cell_type": "code",
   "execution_count": 47,
   "metadata": {},
   "outputs": [
    {
     "data": {
      "application/vnd.jupyter.widget-view+json": {
       "model_id": "d140e2c6b8ac4a7c8ef0c3cd95179d63",
       "version_major": 2,
       "version_minor": 0
      },
      "text/plain": [
       "HBox(children=(FloatProgress(value=0.0, max=1000.0), HTML(value='')))"
      ]
     },
     "metadata": {},
     "output_type": "display_data"
    },
    {
     "name": "stdout",
     "output_type": "stream",
     "text": [
      "\n"
     ]
    },
    {
     "data": {
      "image/png": "[encoded data removed]",
      "text/plain": [
       "<Figure size 432x288 with 1 Axes>"
      ]
     },
     "metadata": {
      "needs_background": "light"
     },
     "output_type": "display_data"
    },
    {
     "data": {
      "image/png": "[encoded data removed]",
      "text/plain": [
       "<Figure size 864x360 with 8 Axes>"
      ]
     },
     "metadata": {},
     "output_type": "display_data"
    },
    {
     "name": "stderr",
     "output_type": "stream",
     "text": [
      "  2%|▏         | 110/5000 [20:08<14:55:36, 10.99s/it]\n"
     ]
    },
    {
     "ename": "KeyboardInterrupt",
     "evalue": "",
     "output_type": "error",
     "traceback": [
      "\u001b[0;31m---------------------------------------------------------------------------\u001b[0m",
      "\u001b[0;31mKeyboardInterrupt\u001b[0m                         Traceback (most recent call last)",
      "\u001b[0;32m<ipython-input-47-5d9110239020>\u001b[0m in \u001b[0;36m<module>\u001b[0;34m\u001b[0m\n\u001b[1;32m     16\u001b[0m   collect_episode(train_env, tf_agent.collect_policy,\n\u001b[1;32m     17\u001b[0m                   \u001b[0mcollect_episodes_per_iteration\u001b[0m\u001b[0;34m,\u001b[0m\u001b[0;34m\u001b[0m\u001b[0;34m\u001b[0m\u001b[0m\n\u001b[0;32m---> 18\u001b[0;31m                   [replay_buffer,curiosity_replay_buffer])\n\u001b[0m\u001b[1;32m     19\u001b[0m \u001b[0;34m\u001b[0m\u001b[0m\n\u001b[1;32m     20\u001b[0m   \u001b[0;31m# Use data from the buffer and update the agent's network.\u001b[0m\u001b[0;34m\u001b[0m\u001b[0;34m\u001b[0m\u001b[0;34m\u001b[0m\u001b[0m\n",
      "\u001b[0;32m~/causality-disentanglement-rl/common.py\u001b[0m in \u001b[0;36mcollect_episode\u001b[0;34m(environment, policy, num_episodes, replay_buffers)\u001b[0m\n\u001b[1;32m     54\u001b[0m     \u001b[0;31m# Add trajectory to the replay buffer\u001b[0m\u001b[0;34m\u001b[0m\u001b[0;34m\u001b[0m\u001b[0;34m\u001b[0m\u001b[0m\n\u001b[1;32m     55\u001b[0m     \u001b[0;32mfor\u001b[0m \u001b[0mreplay_buffer\u001b[0m \u001b[0;32min\u001b[0m \u001b[0mreplay_buffers\u001b[0m\u001b[0;34m:\u001b[0m\u001b[0;34m\u001b[0m\u001b[0;34m\u001b[0m\u001b[0m\n\u001b[0;32m---> 56\u001b[0;31m         \u001b[0mreplay_buffer\u001b[0m\u001b[0;34m.\u001b[0m\u001b[0madd_batch\u001b[0m\u001b[0;34m(\u001b[0m\u001b[0mtraj\u001b[0m\u001b[0;34m)\u001b[0m\u001b[0;34m\u001b[0m\u001b[0;34m\u001b[0m\u001b[0m\n\u001b[0m\u001b[1;32m     57\u001b[0m \u001b[0;34m\u001b[0m\u001b[0m\n\u001b[1;32m     58\u001b[0m     \u001b[0;32mif\u001b[0m \u001b[0mtraj\u001b[0m\u001b[0;34m.\u001b[0m\u001b[0mis_boundary\u001b[0m\u001b[0;34m(\u001b[0m\u001b[0;34m)\u001b[0m\u001b[0;34m:\u001b[0m\u001b[0;34m\u001b[0m\u001b[0;34m\u001b[0m\u001b[0m\n",
      "\u001b[0;32m~/miniconda3/envs/causal/lib/python3.7/site-packages/tf_agents/replay_buffers/replay_buffer.py\u001b[0m in \u001b[0;36madd_batch\u001b[0;34m(self, items)\u001b[0m\n\u001b[1;32m     80\u001b[0m       \u001b[0mAdds\u001b[0m\u001b[0;31m \u001b[0m\u001b[0;31m`\u001b[0m\u001b[0mitems\u001b[0m\u001b[0;31m`\u001b[0m \u001b[0mto\u001b[0m \u001b[0mthe\u001b[0m \u001b[0mreplay\u001b[0m \u001b[0mbuffer\u001b[0m\u001b[0;34m.\u001b[0m\u001b[0;34m\u001b[0m\u001b[0;34m\u001b[0m\u001b[0m\n\u001b[1;32m     81\u001b[0m     \"\"\"\n\u001b[0;32m---> 82\u001b[0;31m     \u001b[0;32mreturn\u001b[0m \u001b[0mself\u001b[0m\u001b[0;34m.\u001b[0m\u001b[0m_add_batch\u001b[0m\u001b[0;34m(\u001b[0m\u001b[0mitems\u001b[0m\u001b[0;34m)\u001b[0m\u001b[0;34m\u001b[0m\u001b[0;34m\u001b[0m\u001b[0m\n\u001b[0m\u001b[1;32m     83\u001b[0m \u001b[0;34m\u001b[0m\u001b[0m\n\u001b[1;32m     84\u001b[0m   \u001b[0;32mdef\u001b[0m \u001b[0mget_next\u001b[0m\u001b[0;34m(\u001b[0m\u001b[0mself\u001b[0m\u001b[0;34m,\u001b[0m \u001b[0msample_batch_size\u001b[0m\u001b[0;34m=\u001b[0m\u001b[0;32mNone\u001b[0m\u001b[0;34m,\u001b[0m \u001b[0mnum_steps\u001b[0m\u001b[0;34m=\u001b[0m\u001b[0;32mNone\u001b[0m\u001b[0;34m,\u001b[0m \u001b[0mtime_stacked\u001b[0m\u001b[0;34m=\u001b[0m\u001b[0;32mTrue\u001b[0m\u001b[0;34m)\u001b[0m\u001b[0;34m:\u001b[0m\u001b[0;34m\u001b[0m\u001b[0;34m\u001b[0m\u001b[0m\n",
      "\u001b[0;32m~/miniconda3/envs/causal/lib/python3.7/site-packages/tf_agents/replay_buffers/tf_uniform_replay_buffer.py\u001b[0m in \u001b[0;36m_add_batch\u001b[0;34m(self, items)\u001b[0m\n\u001b[1;32m    196\u001b[0m       \u001b[0mwrite_rows\u001b[0m \u001b[0;34m=\u001b[0m \u001b[0mself\u001b[0m\u001b[0;34m.\u001b[0m\u001b[0m_get_rows_for_id\u001b[0m\u001b[0;34m(\u001b[0m\u001b[0mid_\u001b[0m\u001b[0;34m)\u001b[0m\u001b[0;34m\u001b[0m\u001b[0;34m\u001b[0m\u001b[0m\n\u001b[1;32m    197\u001b[0m       \u001b[0mwrite_id_op\u001b[0m \u001b[0;34m=\u001b[0m \u001b[0mself\u001b[0m\u001b[0;34m.\u001b[0m\u001b[0m_id_table\u001b[0m\u001b[0;34m.\u001b[0m\u001b[0mwrite\u001b[0m\u001b[0;34m(\u001b[0m\u001b[0mwrite_rows\u001b[0m\u001b[0;34m,\u001b[0m \u001b[0mid_\u001b[0m\u001b[0;34m)\u001b[0m\u001b[0;34m\u001b[0m\u001b[0;34m\u001b[0m\u001b[0m\n\u001b[0;32m--> 198\u001b[0;31m       \u001b[0mwrite_data_op\u001b[0m \u001b[0;34m=\u001b[0m \u001b[0mself\u001b[0m\u001b[0;34m.\u001b[0m\u001b[0m_data_table\u001b[0m\u001b[0;34m.\u001b[0m\u001b[0mwrite\u001b[0m\u001b[0;34m(\u001b[0m\u001b[0mwrite_rows\u001b[0m\u001b[0;34m,\u001b[0m \u001b[0mitems\u001b[0m\u001b[0;34m)\u001b[0m\u001b[0;34m\u001b[0m\u001b[0;34m\u001b[0m\u001b[0m\n\u001b[0m\u001b[1;32m    199\u001b[0m       \u001b[0;32mreturn\u001b[0m \u001b[0mtf\u001b[0m\u001b[0;34m.\u001b[0m\u001b[0mgroup\u001b[0m\u001b[0;34m(\u001b[0m\u001b[0mwrite_id_op\u001b[0m\u001b[0;34m,\u001b[0m \u001b[0mwrite_data_op\u001b[0m\u001b[0;34m)\u001b[0m\u001b[0;34m\u001b[0m\u001b[0;34m\u001b[0m\u001b[0m\n\u001b[1;32m    200\u001b[0m \u001b[0;34m\u001b[0m\u001b[0m\n",
      "\u001b[0;32m~/miniconda3/envs/causal/lib/python3.7/site-packages/tf_agents/replay_buffers/table.py\u001b[0m in \u001b[0;36mwrite\u001b[0;34m(self, rows, values, slots)\u001b[0m\n\u001b[1;32m    129\u001b[0m         tf.compat.v1.scatter_update(self._slot2storage_map[slot], rows,\n\u001b[1;32m    130\u001b[0m                                     value).op\n\u001b[0;32m--> 131\u001b[0;31m         \u001b[0;32mfor\u001b[0m \u001b[0;34m(\u001b[0m\u001b[0mslot\u001b[0m\u001b[0;34m,\u001b[0m \u001b[0mvalue\u001b[0m\u001b[0;34m)\u001b[0m \u001b[0;32min\u001b[0m \u001b[0mzip\u001b[0m\u001b[0;34m(\u001b[0m\u001b[0mflattened_slots\u001b[0m\u001b[0;34m,\u001b[0m \u001b[0mflattened_values\u001b[0m\u001b[0;34m)\u001b[0m\u001b[0;34m\u001b[0m\u001b[0;34m\u001b[0m\u001b[0m\n\u001b[0m\u001b[1;32m    132\u001b[0m     ]\n\u001b[1;32m    133\u001b[0m     \u001b[0;32mreturn\u001b[0m \u001b[0mtf\u001b[0m\u001b[0;34m.\u001b[0m\u001b[0mgroup\u001b[0m\u001b[0;34m(\u001b[0m\u001b[0;34m*\u001b[0m\u001b[0mwrite_ops\u001b[0m\u001b[0;34m)\u001b[0m\u001b[0;34m\u001b[0m\u001b[0;34m\u001b[0m\u001b[0m\n",
      "\u001b[0;32m~/miniconda3/envs/causal/lib/python3.7/site-packages/tf_agents/replay_buffers/table.py\u001b[0m in \u001b[0;36m<listcomp>\u001b[0;34m(.0)\u001b[0m\n\u001b[1;32m    129\u001b[0m         tf.compat.v1.scatter_update(self._slot2storage_map[slot], rows,\n\u001b[1;32m    130\u001b[0m                                     value).op\n\u001b[0;32m--> 131\u001b[0;31m         \u001b[0;32mfor\u001b[0m \u001b[0;34m(\u001b[0m\u001b[0mslot\u001b[0m\u001b[0;34m,\u001b[0m \u001b[0mvalue\u001b[0m\u001b[0;34m)\u001b[0m \u001b[0;32min\u001b[0m \u001b[0mzip\u001b[0m\u001b[0;34m(\u001b[0m\u001b[0mflattened_slots\u001b[0m\u001b[0;34m,\u001b[0m \u001b[0mflattened_values\u001b[0m\u001b[0;34m)\u001b[0m\u001b[0;34m\u001b[0m\u001b[0;34m\u001b[0m\u001b[0m\n\u001b[0m\u001b[1;32m    132\u001b[0m     ]\n\u001b[1;32m    133\u001b[0m     \u001b[0;32mreturn\u001b[0m \u001b[0mtf\u001b[0m\u001b[0;34m.\u001b[0m\u001b[0mgroup\u001b[0m\u001b[0;34m(\u001b[0m\u001b[0;34m*\u001b[0m\u001b[0mwrite_ops\u001b[0m\u001b[0;34m)\u001b[0m\u001b[0;34m\u001b[0m\u001b[0;34m\u001b[0m\u001b[0m\n",
      "\u001b[0;32m~/miniconda3/envs/causal/lib/python3.7/site-packages/tensorflow_core/python/ops/state_ops.py\u001b[0m in \u001b[0;36mscatter_update\u001b[0;34m(ref, indices, updates, use_locking, name)\u001b[0m\n\u001b[1;32m    304\u001b[0m   return ref._lazy_read(gen_resource_variable_ops.resource_scatter_update(  # pylint: disable=protected-access\n\u001b[1;32m    305\u001b[0m       \u001b[0mref\u001b[0m\u001b[0;34m.\u001b[0m\u001b[0mhandle\u001b[0m\u001b[0;34m,\u001b[0m \u001b[0mindices\u001b[0m\u001b[0;34m,\u001b[0m \u001b[0mops\u001b[0m\u001b[0;34m.\u001b[0m\u001b[0mconvert_to_tensor\u001b[0m\u001b[0;34m(\u001b[0m\u001b[0mupdates\u001b[0m\u001b[0;34m,\u001b[0m \u001b[0mref\u001b[0m\u001b[0;34m.\u001b[0m\u001b[0mdtype\u001b[0m\u001b[0;34m)\u001b[0m\u001b[0;34m,\u001b[0m\u001b[0;34m\u001b[0m\u001b[0;34m\u001b[0m\u001b[0m\n\u001b[0;32m--> 306\u001b[0;31m       name=name))\n\u001b[0m\u001b[1;32m    307\u001b[0m \u001b[0;34m\u001b[0m\u001b[0m\n\u001b[1;32m    308\u001b[0m \u001b[0;34m\u001b[0m\u001b[0m\n",
      "\u001b[0;32m~/miniconda3/envs/causal/lib/python3.7/site-packages/tensorflow_core/python/ops/gen_resource_variable_ops.py\u001b[0m in \u001b[0;36mresource_scatter_update\u001b[0;34m(resource, indices, updates, name)\u001b[0m\n\u001b[1;32m   1115\u001b[0m       _result = _pywrap_tensorflow.TFE_Py_FastPathExecute(\n\u001b[1;32m   1116\u001b[0m         \u001b[0m_ctx\u001b[0m\u001b[0;34m.\u001b[0m\u001b[0m_context_handle\u001b[0m\u001b[0;34m,\u001b[0m \u001b[0mtld\u001b[0m\u001b[0;34m.\u001b[0m\u001b[0mdevice_name\u001b[0m\u001b[0;34m,\u001b[0m \u001b[0;34m\"ResourceScatterUpdate\"\u001b[0m\u001b[0;34m,\u001b[0m \u001b[0mname\u001b[0m\u001b[0;34m,\u001b[0m\u001b[0;34m\u001b[0m\u001b[0;34m\u001b[0m\u001b[0m\n\u001b[0;32m-> 1117\u001b[0;31m         tld.op_callbacks, resource, indices, updates)\n\u001b[0m\u001b[1;32m   1118\u001b[0m       \u001b[0;32mreturn\u001b[0m \u001b[0m_result\u001b[0m\u001b[0;34m\u001b[0m\u001b[0;34m\u001b[0m\u001b[0m\n\u001b[1;32m   1119\u001b[0m     \u001b[0;32mexcept\u001b[0m \u001b[0m_core\u001b[0m\u001b[0;34m.\u001b[0m\u001b[0m_FallbackException\u001b[0m\u001b[0;34m:\u001b[0m\u001b[0;34m\u001b[0m\u001b[0;34m\u001b[0m\u001b[0m\n",
      "\u001b[0;31mKeyboardInterrupt\u001b[0m: "
     ]
    }
   ],
   "source": [
    "# (Optional) Optimize by wrapping some of the code in a graph using TF function.\n",
    "tf_agent.train = common.function(tf_agent.train)\n",
    "\n",
    "# Reset the train step\n",
    "tf_agent.train_step_counter.assign(0)\n",
    "\n",
    "# Evaluate the agent's policy once before training.\n",
    "avg_return = compute_avg_return(eval_env, tf_agent.policy, num_eval_episodes)\n",
    "train_avg_return = compute_avg_return(eval_env, tf_agent.collect_policy, num_eval_episodes)\n",
    "returns = [avg_return]\n",
    "train_returns = [train_avg_return]\n",
    "\n",
    "for _ in tqdm(range(num_iterations)):\n",
    "\n",
    "  # Collect a few episodes using collect_policy and save to the replay buffer.\n",
    "  collect_episode(train_env, tf_agent.collect_policy,\n",
    "                  collect_episodes_per_iteration,\n",
    "                  [replay_buffer,curiosity_replay_buffer])\n",
    "\n",
    "  # Use data from the buffer and update the agent's network.\n",
    "  experience = replay_buffer.gather_all()\n",
    "  train_loss = tf_agent.train(experience)\n",
    "  replay_buffer.clear()\n",
    "    \n",
    "  #print(\"Agent train step\")\n",
    "\n",
    "  step = tf_agent.train_step_counter.numpy()\n",
    "\n",
    "  if step % log_interval == 0:\n",
    "    print('step = {0}: loss = {1}'.format(step, train_loss.loss))\n",
    "\n",
    "  if step % eval_interval == 0:\n",
    "    avg_return = compute_avg_return(eval_env, tf_agent.policy, num_eval_episodes)\n",
    "    train_avg_return = compute_avg_return(train_env, tf_agent.collect_policy, num_eval_episodes)\n",
    "    print('step = {0}: Average Return = {1} Train curiosity Average return = {2}'.format(step, avg_return,\n",
    "                                                                      train_avg_return))\n",
    "    returns.append(avg_return)\n",
    "    train_returns.append(train_avg_return)\n",
    "    \n",
    "  if step % curiosity_interval == 0 and len:\n",
    "    clear_output()\n",
    "    xs, ys = buffer_to_dataset(curiosity_replay_buffer, v_n)\n",
    "    \n",
    "    # fitting on observational data...\n",
    "    W.fit(xs=xs, ys=ys, epochs=model_W_train_epochs)\n",
    "    #W.plot_loss()\n",
    "    \n",
    "    # setting weights from the agent to the model...\n",
    "    sml.D.assign(decoder_layer_agent.get_weights()[0].T)\n",
    "    \n",
    "    # setting the new observation transition matrix\n",
    "    sml.set_WoWa(*W.get_Wo_Wa())\n",
    "    \n",
    "    # fitting the SML model\n",
    "    sml.fit(epochs=model_sml_train_epochs)\n",
    "    \n",
    "    # setting weights from the model to the agent...\n",
    "    decoder_layer_agent.set_weights([sml.D.numpy().T])\n",
    "    \n",
    "    # plotting results for W and sml\n",
    "    W.plot_loss()\n",
    "    sml.process_results()\n",
    "    \n",
    "    #curiosity_replay_buffer.clear()\n",
    "    \n",
    "    #print(\"Model train step\")"
   ]
  },
  {
   "cell_type": "code",
   "execution_count": 52,
   "metadata": {},
   "outputs": [
    {
     "data": {
      "text/plain": [
       "[1.0, 9.666665]"
      ]
     },
     "execution_count": 52,
     "metadata": {},
     "output_type": "execute_result"
    }
   ],
   "source": [
    "returns"
   ]
  },
  {
   "cell_type": "code",
   "execution_count": 48,
   "metadata": {},
   "outputs": [
    {
     "ename": "ValueError",
     "evalue": "x and y must have same first dimension, but have shapes (51,) and (2,)",
     "output_type": "error",
     "traceback": [
      "\u001b[0;31m---------------------------------------------------------------------------\u001b[0m",
      "\u001b[0;31mValueError\u001b[0m                                Traceback (most recent call last)",
      "\u001b[0;32m<ipython-input-48-5ee4754f8136>\u001b[0m in \u001b[0;36m<module>\u001b[0;34m\u001b[0m\n\u001b[1;32m      3\u001b[0m \u001b[0mfig\u001b[0m\u001b[0;34m.\u001b[0m\u001b[0mpatch\u001b[0m\u001b[0;34m.\u001b[0m\u001b[0mset_facecolor\u001b[0m\u001b[0;34m(\u001b[0m\u001b[0;34m'lightgreen'\u001b[0m\u001b[0;34m)\u001b[0m\u001b[0;34m\u001b[0m\u001b[0;34m\u001b[0m\u001b[0m\n\u001b[1;32m      4\u001b[0m \u001b[0mplt\u001b[0m\u001b[0;34m.\u001b[0m\u001b[0mtitle\u001b[0m\u001b[0;34m(\u001b[0m\u001b[0;34m\"Returns with added curiosity reward in training\"\u001b[0m\u001b[0;34m)\u001b[0m\u001b[0;34m\u001b[0m\u001b[0;34m\u001b[0m\u001b[0m\n\u001b[0;32m----> 5\u001b[0;31m \u001b[0mplt\u001b[0m\u001b[0;34m.\u001b[0m\u001b[0mplot\u001b[0m\u001b[0;34m(\u001b[0m\u001b[0msteps\u001b[0m\u001b[0;34m,\u001b[0m \u001b[0mreturns\u001b[0m\u001b[0;34m,\u001b[0m \u001b[0mlabel\u001b[0m\u001b[0;34m=\u001b[0m\u001b[0;34m\"eval\"\u001b[0m\u001b[0;34m)\u001b[0m\u001b[0;34m\u001b[0m\u001b[0;34m\u001b[0m\u001b[0m\n\u001b[0m\u001b[1;32m      6\u001b[0m \u001b[0mplt\u001b[0m\u001b[0;34m.\u001b[0m\u001b[0mplot\u001b[0m\u001b[0;34m(\u001b[0m\u001b[0msteps\u001b[0m\u001b[0;34m,\u001b[0m \u001b[0mtrain_returns\u001b[0m\u001b[0;34m,\u001b[0m \u001b[0mlabel\u001b[0m\u001b[0;34m=\u001b[0m\u001b[0;34m\"train\"\u001b[0m\u001b[0;34m)\u001b[0m\u001b[0;34m\u001b[0m\u001b[0;34m\u001b[0m\u001b[0m\n\u001b[1;32m      7\u001b[0m \u001b[0mplt\u001b[0m\u001b[0;34m.\u001b[0m\u001b[0mylabel\u001b[0m\u001b[0;34m(\u001b[0m\u001b[0;34m'Average Return'\u001b[0m\u001b[0;34m)\u001b[0m\u001b[0;34m\u001b[0m\u001b[0;34m\u001b[0m\u001b[0m\n",
      "\u001b[0;32m~/miniconda3/envs/causal/lib/python3.7/site-packages/matplotlib/pyplot.py\u001b[0m in \u001b[0;36mplot\u001b[0;34m(scalex, scaley, data, *args, **kwargs)\u001b[0m\n\u001b[1;32m   2761\u001b[0m     return gca().plot(\n\u001b[1;32m   2762\u001b[0m         *args, scalex=scalex, scaley=scaley, **({\"data\": data} if data\n\u001b[0;32m-> 2763\u001b[0;31m         is not None else {}), **kwargs)\n\u001b[0m\u001b[1;32m   2764\u001b[0m \u001b[0;34m\u001b[0m\u001b[0m\n\u001b[1;32m   2765\u001b[0m \u001b[0;34m\u001b[0m\u001b[0m\n",
      "\u001b[0;32m~/miniconda3/envs/causal/lib/python3.7/site-packages/matplotlib/axes/_axes.py\u001b[0m in \u001b[0;36mplot\u001b[0;34m(self, scalex, scaley, data, *args, **kwargs)\u001b[0m\n\u001b[1;32m   1644\u001b[0m         \"\"\"\n\u001b[1;32m   1645\u001b[0m         \u001b[0mkwargs\u001b[0m \u001b[0;34m=\u001b[0m \u001b[0mcbook\u001b[0m\u001b[0;34m.\u001b[0m\u001b[0mnormalize_kwargs\u001b[0m\u001b[0;34m(\u001b[0m\u001b[0mkwargs\u001b[0m\u001b[0;34m,\u001b[0m \u001b[0mmlines\u001b[0m\u001b[0;34m.\u001b[0m\u001b[0mLine2D\u001b[0m\u001b[0;34m)\u001b[0m\u001b[0;34m\u001b[0m\u001b[0;34m\u001b[0m\u001b[0m\n\u001b[0;32m-> 1646\u001b[0;31m         \u001b[0mlines\u001b[0m \u001b[0;34m=\u001b[0m \u001b[0;34m[\u001b[0m\u001b[0;34m*\u001b[0m\u001b[0mself\u001b[0m\u001b[0;34m.\u001b[0m\u001b[0m_get_lines\u001b[0m\u001b[0;34m(\u001b[0m\u001b[0;34m*\u001b[0m\u001b[0margs\u001b[0m\u001b[0;34m,\u001b[0m \u001b[0mdata\u001b[0m\u001b[0;34m=\u001b[0m\u001b[0mdata\u001b[0m\u001b[0;34m,\u001b[0m \u001b[0;34m**\u001b[0m\u001b[0mkwargs\u001b[0m\u001b[0;34m)\u001b[0m\u001b[0;34m]\u001b[0m\u001b[0;34m\u001b[0m\u001b[0;34m\u001b[0m\u001b[0m\n\u001b[0m\u001b[1;32m   1647\u001b[0m         \u001b[0;32mfor\u001b[0m \u001b[0mline\u001b[0m \u001b[0;32min\u001b[0m \u001b[0mlines\u001b[0m\u001b[0;34m:\u001b[0m\u001b[0;34m\u001b[0m\u001b[0;34m\u001b[0m\u001b[0m\n\u001b[1;32m   1648\u001b[0m             \u001b[0mself\u001b[0m\u001b[0;34m.\u001b[0m\u001b[0madd_line\u001b[0m\u001b[0;34m(\u001b[0m\u001b[0mline\u001b[0m\u001b[0;34m)\u001b[0m\u001b[0;34m\u001b[0m\u001b[0;34m\u001b[0m\u001b[0m\n",
      "\u001b[0;32m~/miniconda3/envs/causal/lib/python3.7/site-packages/matplotlib/axes/_base.py\u001b[0m in \u001b[0;36m__call__\u001b[0;34m(self, *args, **kwargs)\u001b[0m\n\u001b[1;32m    214\u001b[0m                 \u001b[0mthis\u001b[0m \u001b[0;34m+=\u001b[0m \u001b[0margs\u001b[0m\u001b[0;34m[\u001b[0m\u001b[0;36m0\u001b[0m\u001b[0;34m]\u001b[0m\u001b[0;34m,\u001b[0m\u001b[0;34m\u001b[0m\u001b[0;34m\u001b[0m\u001b[0m\n\u001b[1;32m    215\u001b[0m                 \u001b[0margs\u001b[0m \u001b[0;34m=\u001b[0m \u001b[0margs\u001b[0m\u001b[0;34m[\u001b[0m\u001b[0;36m1\u001b[0m\u001b[0;34m:\u001b[0m\u001b[0;34m]\u001b[0m\u001b[0;34m\u001b[0m\u001b[0;34m\u001b[0m\u001b[0m\n\u001b[0;32m--> 216\u001b[0;31m             \u001b[0;32myield\u001b[0m \u001b[0;32mfrom\u001b[0m \u001b[0mself\u001b[0m\u001b[0;34m.\u001b[0m\u001b[0m_plot_args\u001b[0m\u001b[0;34m(\u001b[0m\u001b[0mthis\u001b[0m\u001b[0;34m,\u001b[0m \u001b[0mkwargs\u001b[0m\u001b[0;34m)\u001b[0m\u001b[0;34m\u001b[0m\u001b[0;34m\u001b[0m\u001b[0m\n\u001b[0m\u001b[1;32m    217\u001b[0m \u001b[0;34m\u001b[0m\u001b[0m\n\u001b[1;32m    218\u001b[0m     \u001b[0;32mdef\u001b[0m \u001b[0mget_next_color\u001b[0m\u001b[0;34m(\u001b[0m\u001b[0mself\u001b[0m\u001b[0;34m)\u001b[0m\u001b[0;34m:\u001b[0m\u001b[0;34m\u001b[0m\u001b[0;34m\u001b[0m\u001b[0m\n",
      "\u001b[0;32m~/miniconda3/envs/causal/lib/python3.7/site-packages/matplotlib/axes/_base.py\u001b[0m in \u001b[0;36m_plot_args\u001b[0;34m(self, tup, kwargs)\u001b[0m\n\u001b[1;32m    340\u001b[0m \u001b[0;34m\u001b[0m\u001b[0m\n\u001b[1;32m    341\u001b[0m         \u001b[0;32mif\u001b[0m \u001b[0mx\u001b[0m\u001b[0;34m.\u001b[0m\u001b[0mshape\u001b[0m\u001b[0;34m[\u001b[0m\u001b[0;36m0\u001b[0m\u001b[0;34m]\u001b[0m \u001b[0;34m!=\u001b[0m \u001b[0my\u001b[0m\u001b[0;34m.\u001b[0m\u001b[0mshape\u001b[0m\u001b[0;34m[\u001b[0m\u001b[0;36m0\u001b[0m\u001b[0;34m]\u001b[0m\u001b[0;34m:\u001b[0m\u001b[0;34m\u001b[0m\u001b[0;34m\u001b[0m\u001b[0m\n\u001b[0;32m--> 342\u001b[0;31m             raise ValueError(f\"x and y must have same first dimension, but \"\n\u001b[0m\u001b[1;32m    343\u001b[0m                              f\"have shapes {x.shape} and {y.shape}\")\n\u001b[1;32m    344\u001b[0m         \u001b[0;32mif\u001b[0m \u001b[0mx\u001b[0m\u001b[0;34m.\u001b[0m\u001b[0mndim\u001b[0m \u001b[0;34m>\u001b[0m \u001b[0;36m2\u001b[0m \u001b[0;32mor\u001b[0m \u001b[0my\u001b[0m\u001b[0;34m.\u001b[0m\u001b[0mndim\u001b[0m \u001b[0;34m>\u001b[0m \u001b[0;36m2\u001b[0m\u001b[0;34m:\u001b[0m\u001b[0;34m\u001b[0m\u001b[0;34m\u001b[0m\u001b[0m\n",
      "\u001b[0;31mValueError\u001b[0m: x and y must have same first dimension, but have shapes (51,) and (2,)"
     ]
    },
    {
     "data": {
      "image/png": "[encoded data removed]",
      "text/plain": [
       "<Figure size 432x288 with 1 Axes>"
      ]
     },
     "metadata": {},
     "output_type": "display_data"
    }
   ],
   "source": [
    "steps = range(0, num_iterations + 1, eval_interval)\n",
    "fig = plt.figure()\n",
    "fig.patch.set_facecolor('lightgreen')\n",
    "plt.title(\"Returns with added curiosity reward in training\")\n",
    "plt.plot(steps, returns, label=\"eval\")\n",
    "plt.plot(steps, train_returns, label=\"train\")\n",
    "plt.ylabel('Average Return')\n",
    "plt.axhline(time_limit / 2, color='red', label='max reward')\n",
    "plt.legend()\n",
    "plt.xlabel('Step')"
   ]
  },
  {
   "cell_type": "markdown",
   "metadata": {},
   "source": [
    "# Training on random policy"
   ]
  },
  {
   "cell_type": "code",
   "execution_count": null,
   "metadata": {},
   "outputs": [],
   "source": [
    "random_policy = random_tf_policy.RandomTFPolicy(\n",
    "    train_env.time_step_spec(),\n",
    "    train_env.action_spec())"
   ]
  },
  {
   "cell_type": "code",
   "execution_count": null,
   "metadata": {},
   "outputs": [],
   "source": [
    "curiosity_replay_buffer.clear()\n",
    "collect_episode(eval_env, random_policy, 500, [curiosity_replay_buffer])\n",
    "xs, ys = buffer_to_dataset(curiosity_replay_buffer, v_n)"
   ]
  },
  {
   "cell_type": "code",
   "execution_count": 27,
   "metadata": {},
   "outputs": [
    {
     "data": {
      "image/png": "[encoded data removed]",
      "text/plain": [
       "<Figure size 432x288 with 1 Axes>"
      ]
     },
     "metadata": {
      "needs_background": "light"
     },
     "output_type": "display_data"
    }
   ],
   "source": [
    "p_ord = 1\n",
    "\n",
    "W = LinearStateTransitionModel(o=v_k, a=v_n)\n",
    "\n",
    "\n",
    "# fitting on observational data...\n",
    "W.fit(xs=xs, ys=ys, epochs=500)\n",
    "W.plot_loss()"
   ]
  },
  {
   "cell_type": "code",
   "execution_count": 28,
   "metadata": {},
   "outputs": [
    {
     "data": {
      "text/plain": [
       "<matplotlib.axes._subplots.AxesSubplot at 0x7f24f032f910>"
      ]
     },
     "execution_count": 28,
     "metadata": {},
     "output_type": "execute_result"
    },
    {
     "data": {
      "image/png": "[encoded data removed]",
      "text/plain": [
       "<Figure size 432x288 with 2 Axes>"
      ]
     },
     "metadata": {
      "needs_background": "light"
     },
     "output_type": "display_data"
    }
   ],
   "source": [
    "sns.heatmap(W.get_Wo_Wa()[0])"
   ]
  },
  {
   "cell_type": "code",
   "execution_count": 29,
   "metadata": {},
   "outputs": [
    {
     "data": {
      "application/vnd.jupyter.widget-view+json": {
       "model_id": "6d5f8e9bb4854ae087e8cd648fd77d07",
       "version_major": 2,
       "version_minor": 0
      },
      "text/plain": [
       "HBox(children=(FloatProgress(value=0.0, max=5000.0), HTML(value='')))"
      ]
     },
     "metadata": {},
     "output_type": "display_data"
    },
    {
     "name": "stdout",
     "output_type": "stream",
     "text": [
      "\n"
     ]
    }
   ],
   "source": [
    "p_ord = 1\n",
    "\n",
    "sml = SparseModelLearner(o=v_k, a=v_n, f=v_n,\n",
    "                         p_ord=p_ord, eps_dinv=1,\n",
    "                         d_init_randomness=5)\n",
    "\n",
    "# setting the new observation transition matrix\n",
    "sml.set_WoWa(*W.get_Wo_Wa())\n",
    "\n",
    "# fitting the SML model\n",
    "sml.fit(epochs=5000)"
   ]
  },
  {
   "cell_type": "code",
   "execution_count": 30,
   "metadata": {},
   "outputs": [
    {
     "data": {
      "image/png": "[encoded data removed]",
      "text/plain": [
       "<Figure size 864x360 with 8 Axes>"
      ]
     },
     "metadata": {},
     "output_type": "display_data"
    }
   ],
   "source": [
    "sml.process_results()"
   ]
  },
  {
   "cell_type": "code",
   "execution_count": 22,
   "metadata": {},
   "outputs": [],
   "source": [
    "E = train_env._env.envs[0]._env._env.env.e.model.weights[0].numpy().T"
   ]
  },
  {
   "cell_type": "code",
   "execution_count": 31,
   "metadata": {},
   "outputs": [
    {
     "data": {
      "text/plain": [
       "<matplotlib.axes._subplots.AxesSubplot at 0x7f24e878af50>"
      ]
     },
     "execution_count": 31,
     "metadata": {},
     "output_type": "execute_result"
    },
    {
     "data": {
      "image/png": "[encoded data removed]",
      "text/plain": [
       "<Figure size 432x288 with 2 Axes>"
      ]
     },
     "metadata": {
      "needs_background": "light"
     },
     "output_type": "display_data"
    }
   ],
   "source": [
    "cm = sns.diverging_palette(0, 129, l=70, s=100, n=20, center=\"dark\")\n",
    "\n",
    "sns.heatmap(sml.D.numpy() @ E, vmin=-1, vmax=1, cmap=cm)"
   ]
  },
  {
   "cell_type": "code",
   "execution_count": 24,
   "metadata": {},
   "outputs": [
    {
     "data": {
      "text/plain": [
       "<matplotlib.axes._subplots.AxesSubplot at 0x7f24f052a610>"
      ]
     },
     "execution_count": 24,
     "metadata": {},
     "output_type": "execute_result"
    },
    {
     "data": {
      "image/png": "[encoded data removed]",
      "text/plain": [
       "<Figure size 432x288 with 2 Axes>"
      ]
     },
     "metadata": {
      "needs_background": "light"
     },
     "output_type": "display_data"
    }
   ],
   "source": [
    "sns.heatmap(np.linalg.pinv(sml.D.numpy()))"
   ]
  },
  {
   "cell_type": "code",
   "execution_count": 112,
   "metadata": {},
   "outputs": [
    {
     "data": {
      "text/plain": [
       "<matplotlib.axes._subplots.AxesSubplot at 0x7fa8164c23d0>"
      ]
     },
     "execution_count": 112,
     "metadata": {},
     "output_type": "execute_result"
    },
    {
     "data": {
      "image/png": "[encoded data removed]",
      "text/plain": [
       "<Figure size 432x288 with 2 Axes>"
      ]
     },
     "metadata": {
      "needs_background": "light"
     },
     "output_type": "display_data"
    }
   ],
   "source": [
    "sns.heatmap(sml.Ma, vmin=-1, vmax=1)"
   ]
  },
  {
   "cell_type": "code",
   "execution_count": 113,
   "metadata": {},
   "outputs": [
    {
     "data": {
      "text/plain": [
       "(10000, 10)"
      ]
     },
     "execution_count": 113,
     "metadata": {},
     "output_type": "execute_result"
    }
   ],
   "source": [
    "xs.shape"
   ]
  },
  {
   "cell_type": "code",
   "execution_count": 114,
   "metadata": {},
   "outputs": [
    {
     "data": {
      "text/plain": [
       "<tf_agents.environments.tf_py_environment.TFPyEnvironment at 0x7fa91c04c850>"
      ]
     },
     "execution_count": 114,
     "metadata": {},
     "output_type": "execute_result"
    }
   ],
   "source": [
    "train_env"
   ]
  },
  {
   "cell_type": "code",
   "execution_count": 115,
   "metadata": {},
   "outputs": [
    {
     "data": {
      "text/plain": [
       "<function tensorflow.python.keras.activations.linear(x)>"
      ]
     },
     "execution_count": 115,
     "metadata": {},
     "output_type": "execute_result"
    }
   ],
   "source": [
    "train_env._env.envs[0]._env._env.env.e.model.layers[0].activation"
   ]
  },
  {
   "cell_type": "code",
   "execution_count": 116,
   "metadata": {},
   "outputs": [
    {
     "data": {
      "text/plain": [
       "(array([1991.,    0., 1936.,    0.,    0., 2060.,    0., 1975.,    0.,\n",
       "        2038.]),\n",
       " array([0. , 0.4, 0.8, 1.2, 1.6, 2. , 2.4, 2.8, 3.2, 3.6, 4. ]),\n",
       " <a list of 10 Patch objects>)"
      ]
     },
     "execution_count": 116,
     "metadata": {},
     "output_type": "execute_result"
    },
    {
     "data": {
      "image/png": "[encoded data removed]",
      "text/plain": [
       "<Figure size 432x288 with 1 Axes>"
      ]
     },
     "metadata": {
      "needs_background": "light"
     },
     "output_type": "display_data"
    }
   ],
   "source": [
    "plt.hist(np.argmax(xs[:,v_n:], axis=1))"
   ]
  },
  {
   "cell_type": "code",
   "execution_count": 41,
   "metadata": {},
   "outputs": [],
   "source": []
  },
  {
   "cell_type": "code",
   "execution_count": 56,
   "metadata": {},
   "outputs": [],
   "source": [
    "from graphviz import Digraph"
   ]
  },
  {
   "cell_type": "code",
   "execution_count": 57,
   "metadata": {},
   "outputs": [],
   "source": [
    "def graph_for_matrices(Mf, Ma, threshold=1e-2):\n",
    "    \"\"\"Visualize matrices as a graph.\"\"\"\n",
    "    # dimension\n",
    "    v_n = sml.Ma.shape[0]\n",
    "\n",
    "    ps = Digraph(name='Causal model', engine='neato')#,\n",
    "                 #node_attr={'shape': 'plaintext'})\n",
    "\n",
    "    # adding features nodes\n",
    "    for f in range(v_n):\n",
    "        ps.node('f%02d' % f, color='green')\n",
    "        ps.node(\"f'%02d\" % f, color='blue')\n",
    "\n",
    "    # adding action edges\n",
    "    for a in range(v_n):\n",
    "        ps.node('a%02d' % a, color='red')\n",
    "\n",
    "    # adding edges\n",
    "    edges = 0\n",
    "\n",
    "    for f1, a in zip(*np.where(np.abs(sml.Ma) > threshold)):\n",
    "        ps.edge('a%02d' % a, \"f'%02d\" % f1)\n",
    "        edges += 1\n",
    "\n",
    "    for f1, f in zip(*np.where(np.abs(sml.Mf) > threshold)):\n",
    "        ps.edge('f%02d' % f, \"f'%02d\" % f1)\n",
    "        edges += 1\n",
    "    \n",
    "    max_edges = v_n ** 2 * 2\n",
    "    print(\"Number of edges: %d out of %d, sparsity %.2f%%\" % \\\n",
    "          (edges, max_edges, 100 - 100. * edges / max_edges))\n",
    "        \n",
    "    return ps"
   ]
  },
  {
   "cell_type": "code",
   "execution_count": 58,
   "metadata": {},
   "outputs": [
    {
     "name": "stdout",
     "output_type": "stream",
     "text": [
      "Number of edges: 12 out of 50, sparsity 76.00%\n"
     ]
    },
    {
     "data": {
      "image/svg+xml": [
       "<?xml version=\"1.0\" encoding=\"UTF-8\" standalone=\"no\"?>\n",
       "<!DOCTYPE svg PUBLIC \"-//W3C//DTD SVG 1.1//EN\"\n",
       " \"http://www.w3.org/Graphics/SVG/1.1/DTD/svg11.dtd\">\n",
       "<!-- Generated by graphviz version 2.40.1 (20161225.0304)\n",
       " -->\n",
       "<!-- Title: Causal model Pages: 1 -->\n",
       "<svg width=\"439pt\" height=\"505pt\"\n",
       " viewBox=\"0.00 0.00 439.07 505.48\" xmlns=\"http://www.w3.org/2000/svg\" xmlns:xlink=\"http://www.w3.org/1999/xlink\">\n",
       "<g id=\"graph0\" class=\"graph\" transform=\"scale(1 1) rotate(0) translate(4 501.4775)\">\n",
       "<title>Causal model</title>\n",
       "<polygon fill=\"#ffffff\" stroke=\"transparent\" points=\"-4,4 -4,-501.4775 435.0726,-501.4775 435.0726,4 -4,4\"/>\n",
       "<!-- f00 -->\n",
       "<g id=\"node1\" class=\"node\">\n",
       "<title>f00</title>\n",
       "<ellipse fill=\"none\" stroke=\"#00ff00\" cx=\"368.9884\" cy=\"-334.1414\" rx=\"27\" ry=\"18\"/>\n",
       "<text text-anchor=\"middle\" x=\"368.9884\" y=\"-330.4414\" font-family=\"Times,serif\" font-size=\"14.00\" fill=\"#000000\">f00</text>\n",
       "</g>\n",
       "<!-- f&#39;00 -->\n",
       "<g id=\"node2\" class=\"node\">\n",
       "<title>f&#39;00</title>\n",
       "<ellipse fill=\"none\" stroke=\"#0000ff\" cx=\"308.8733\" cy=\"-292.538\" rx=\"28.6953\" ry=\"18\"/>\n",
       "<text text-anchor=\"middle\" x=\"308.8733\" y=\"-288.838\" font-family=\"Times,serif\" font-size=\"14.00\" fill=\"#000000\">f&#39;00</text>\n",
       "</g>\n",
       "<!-- f00&#45;&gt;f&#39;00 -->\n",
       "<g id=\"edge8\" class=\"edge\">\n",
       "<title>f00&#45;&gt;f&#39;00</title>\n",
       "<path fill=\"none\" stroke=\"#000000\" d=\"M349.9676,-320.9778C345.7753,-318.0765 341.2504,-314.945 336.7888,-311.8572\"/>\n",
       "<polygon fill=\"#000000\" stroke=\"#000000\" points=\"338.6056,-308.8582 328.3909,-306.0454 334.6221,-314.6142 338.6056,-308.8582\"/>\n",
       "</g>\n",
       "<!-- f01 -->\n",
       "<g id=\"node3\" class=\"node\">\n",
       "<title>f01</title>\n",
       "<ellipse fill=\"none\" stroke=\"#00ff00\" cx=\"27\" cy=\"-75.0777\" rx=\"27\" ry=\"18\"/>\n",
       "<text text-anchor=\"middle\" x=\"27\" y=\"-71.3777\" font-family=\"Times,serif\" font-size=\"14.00\" fill=\"#000000\">f01</text>\n",
       "</g>\n",
       "<!-- f&#39;01 -->\n",
       "<g id=\"node4\" class=\"node\">\n",
       "<title>f&#39;01</title>\n",
       "<ellipse fill=\"none\" stroke=\"#0000ff\" cx=\"104.603\" cy=\"-90.5965\" rx=\"28.6953\" ry=\"18\"/>\n",
       "<text text-anchor=\"middle\" x=\"104.603\" y=\"-86.8965\" font-family=\"Times,serif\" font-size=\"14.00\" fill=\"#000000\">f&#39;01</text>\n",
       "</g>\n",
       "<!-- f01&#45;&gt;f&#39;01 -->\n",
       "<g id=\"edge9\" class=\"edge\">\n",
       "<title>f01&#45;&gt;f&#39;01</title>\n",
       "<path fill=\"none\" stroke=\"#000000\" d=\"M53.2728,-80.3317C57.7469,-81.2264 62.4699,-82.1709 67.1663,-83.11\"/>\n",
       "<polygon fill=\"#000000\" stroke=\"#000000\" points=\"66.8054,-86.6071 77.2977,-85.1361 68.1782,-79.743 66.8054,-86.6071\"/>\n",
       "</g>\n",
       "<!-- f02 -->\n",
       "<g id=\"node5\" class=\"node\">\n",
       "<title>f02</title>\n",
       "<ellipse fill=\"none\" stroke=\"#00ff00\" cx=\"335\" cy=\"-199.4775\" rx=\"27\" ry=\"18\"/>\n",
       "<text text-anchor=\"middle\" x=\"335\" y=\"-195.7775\" font-family=\"Times,serif\" font-size=\"14.00\" fill=\"#000000\">f02</text>\n",
       "</g>\n",
       "<!-- f&#39;02 -->\n",
       "<g id=\"node6\" class=\"node\">\n",
       "<title>f&#39;02</title>\n",
       "<ellipse fill=\"none\" stroke=\"#0000ff\" cx=\"379.0206\" cy=\"-142.1545\" rx=\"28.6953\" ry=\"18\"/>\n",
       "<text text-anchor=\"middle\" x=\"379.0206\" y=\"-138.4545\" font-family=\"Times,serif\" font-size=\"14.00\" fill=\"#000000\">f&#39;02</text>\n",
       "</g>\n",
       "<!-- f02&#45;&gt;f&#39;02 -->\n",
       "<g id=\"edge10\" class=\"edge\">\n",
       "<title>f02&#45;&gt;f&#39;02</title>\n",
       "<path fill=\"none\" stroke=\"#000000\" d=\"M347.4968,-183.2044C351.4589,-178.0449 355.9304,-172.2223 360.2338,-166.6184\"/>\n",
       "<polygon fill=\"#000000\" stroke=\"#000000\" points=\"363.0249,-168.7304 366.3397,-158.6674 357.473,-164.4669 363.0249,-168.7304\"/>\n",
       "</g>\n",
       "<!-- f03 -->\n",
       "<g id=\"node7\" class=\"node\">\n",
       "<title>f03</title>\n",
       "<ellipse fill=\"none\" stroke=\"#00ff00\" cx=\"139\" cy=\"-479.4775\" rx=\"27\" ry=\"18\"/>\n",
       "<text text-anchor=\"middle\" x=\"139\" y=\"-475.7775\" font-family=\"Times,serif\" font-size=\"14.00\" fill=\"#000000\">f03</text>\n",
       "</g>\n",
       "<!-- f&#39;03 -->\n",
       "<g id=\"node8\" class=\"node\">\n",
       "<title>f&#39;03</title>\n",
       "<ellipse fill=\"none\" stroke=\"#0000ff\" cx=\"183.0206\" cy=\"-422.1545\" rx=\"28.6953\" ry=\"18\"/>\n",
       "<text text-anchor=\"middle\" x=\"183.0206\" y=\"-418.4545\" font-family=\"Times,serif\" font-size=\"14.00\" fill=\"#000000\">f&#39;03</text>\n",
       "</g>\n",
       "<!-- f03&#45;&gt;f&#39;03 -->\n",
       "<g id=\"edge11\" class=\"edge\">\n",
       "<title>f03&#45;&gt;f&#39;03</title>\n",
       "<path fill=\"none\" stroke=\"#000000\" d=\"M151.4968,-463.2044C155.4589,-458.0449 159.9304,-452.2223 164.2338,-446.6184\"/>\n",
       "<polygon fill=\"#000000\" stroke=\"#000000\" points=\"167.0249,-448.7304 170.3397,-438.6674 161.473,-444.4669 167.0249,-448.7304\"/>\n",
       "</g>\n",
       "<!-- f04 -->\n",
       "<g id=\"node9\" class=\"node\">\n",
       "<title>f04</title>\n",
       "<ellipse fill=\"none\" stroke=\"#00ff00\" cx=\"113.5107\" cy=\"-295.9612\" rx=\"27\" ry=\"18\"/>\n",
       "<text text-anchor=\"middle\" x=\"113.5107\" y=\"-292.2612\" font-family=\"Times,serif\" font-size=\"14.00\" fill=\"#000000\">f04</text>\n",
       "</g>\n",
       "<!-- f&#39;04 -->\n",
       "<g id=\"node10\" class=\"node\">\n",
       "<title>f&#39;04</title>\n",
       "<ellipse fill=\"none\" stroke=\"#0000ff\" cx=\"166.9399\" cy=\"-235.2307\" rx=\"28.6953\" ry=\"18\"/>\n",
       "<text text-anchor=\"middle\" x=\"166.9399\" y=\"-231.5307\" font-family=\"Times,serif\" font-size=\"14.00\" fill=\"#000000\">f&#39;04</text>\n",
       "</g>\n",
       "<!-- f04&#45;&gt;f&#39;04 -->\n",
       "<g id=\"edge12\" class=\"edge\">\n",
       "<title>f04&#45;&gt;f&#39;04</title>\n",
       "<path fill=\"none\" stroke=\"#000000\" d=\"M127.27,-280.3216C133.0829,-273.7144 139.9755,-265.8799 146.3711,-258.6102\"/>\n",
       "<polygon fill=\"#000000\" stroke=\"#000000\" points=\"149.0639,-260.8483 153.0415,-251.0284 143.8083,-256.2245 149.0639,-260.8483\"/>\n",
       "</g>\n",
       "<!-- a00 -->\n",
       "<g id=\"node11\" class=\"node\">\n",
       "<title>a00</title>\n",
       "<ellipse fill=\"none\" stroke=\"#ff0000\" cx=\"139.8833\" cy=\"-160.6141\" rx=\"27.8951\" ry=\"18\"/>\n",
       "<text text-anchor=\"middle\" x=\"139.8833\" y=\"-156.9141\" font-family=\"Times,serif\" font-size=\"14.00\" fill=\"#000000\">a00</text>\n",
       "</g>\n",
       "<!-- a00&#45;&gt;f&#39;01 -->\n",
       "<g id=\"edge2\" class=\"edge\">\n",
       "<title>a00&#45;&gt;f&#39;01</title>\n",
       "<path fill=\"none\" stroke=\"#000000\" d=\"M131.1623,-143.3063C127.2062,-135.4551 122.438,-125.992 118.0399,-117.2635\"/>\n",
       "<polygon fill=\"#000000\" stroke=\"#000000\" points=\"121.0942,-115.5469 113.4687,-108.1914 114.8429,-118.6968 121.0942,-115.5469\"/>\n",
       "</g>\n",
       "<!-- a00&#45;&gt;f&#39;04 -->\n",
       "<g id=\"edge6\" class=\"edge\">\n",
       "<title>a00&#45;&gt;f&#39;04</title>\n",
       "<path fill=\"none\" stroke=\"#000000\" d=\"M146.2953,-178.2972C149.5301,-187.218 153.5237,-198.2317 157.1339,-208.1877\"/>\n",
       "<polygon fill=\"#000000\" stroke=\"#000000\" points=\"153.8746,-209.4666 160.5739,-217.6745 160.4553,-207.0804 153.8746,-209.4666\"/>\n",
       "</g>\n",
       "<!-- a01 -->\n",
       "<g id=\"node12\" class=\"node\">\n",
       "<title>a01</title>\n",
       "<ellipse fill=\"none\" stroke=\"#ff0000\" cx=\"207.1251\" cy=\"-354\" rx=\"27.8951\" ry=\"18\"/>\n",
       "<text text-anchor=\"middle\" x=\"207.1251\" y=\"-350.3\" font-family=\"Times,serif\" font-size=\"14.00\" fill=\"#000000\">a01</text>\n",
       "</g>\n",
       "<!-- a01&#45;&gt;f&#39;03 -->\n",
       "<g id=\"edge5\" class=\"edge\">\n",
       "<title>a01&#45;&gt;f&#39;03</title>\n",
       "<path fill=\"none\" stroke=\"#000000\" d=\"M200.9175,-371.5515C198.4067,-378.6508 195.4493,-387.0128 192.6696,-394.8721\"/>\n",
       "<polygon fill=\"#000000\" stroke=\"#000000\" points=\"189.3255,-393.8308 189.2908,-404.4256 195.9249,-396.1649 189.3255,-393.8308\"/>\n",
       "</g>\n",
       "<!-- a02 -->\n",
       "<g id=\"node13\" class=\"node\">\n",
       "<title>a02</title>\n",
       "<ellipse fill=\"none\" stroke=\"#ff0000\" cx=\"241.6239\" cy=\"-260.5428\" rx=\"27.8951\" ry=\"18\"/>\n",
       "<text text-anchor=\"middle\" x=\"241.6239\" y=\"-256.8428\" font-family=\"Times,serif\" font-size=\"14.00\" fill=\"#000000\">a02</text>\n",
       "</g>\n",
       "<!-- a02&#45;&gt;f&#39;00 -->\n",
       "<g id=\"edge1\" class=\"edge\">\n",
       "<title>a02&#45;&gt;f&#39;00</title>\n",
       "<path fill=\"none\" stroke=\"#000000\" d=\"M264.3915,-271.3749C268.2496,-273.2105 272.3213,-275.1477 276.3713,-277.0745\"/>\n",
       "<polygon fill=\"#000000\" stroke=\"#000000\" points=\"275.1372,-280.3633 285.671,-281.4991 278.1446,-274.0422 275.1372,-280.3633\"/>\n",
       "</g>\n",
       "<!-- a02&#45;&gt;f&#39;04 -->\n",
       "<g id=\"edge7\" class=\"edge\">\n",
       "<title>a02&#45;&gt;f&#39;04</title>\n",
       "<path fill=\"none\" stroke=\"#000000\" d=\"M216.7552,-252.1142C211.9457,-250.4842 206.8243,-248.7484 201.7648,-247.0337\"/>\n",
       "<polygon fill=\"#000000\" stroke=\"#000000\" points=\"202.8042,-243.6904 192.2098,-243.7953 200.5572,-250.32 202.8042,-243.6904\"/>\n",
       "</g>\n",
       "<!-- a03 -->\n",
       "<g id=\"node14\" class=\"node\">\n",
       "<title>a03</title>\n",
       "<ellipse fill=\"none\" stroke=\"#ff0000\" cx=\"403.1251\" cy=\"-74\" rx=\"27.8951\" ry=\"18\"/>\n",
       "<text text-anchor=\"middle\" x=\"403.1251\" y=\"-70.3\" font-family=\"Times,serif\" font-size=\"14.00\" fill=\"#000000\">a03</text>\n",
       "</g>\n",
       "<!-- a03&#45;&gt;f&#39;02 -->\n",
       "<g id=\"edge4\" class=\"edge\">\n",
       "<title>a03&#45;&gt;f&#39;02</title>\n",
       "<path fill=\"none\" stroke=\"#000000\" d=\"M396.9175,-91.5515C394.4067,-98.6508 391.4493,-107.0128 388.6696,-114.8721\"/>\n",
       "<polygon fill=\"#000000\" stroke=\"#000000\" points=\"385.3255,-113.8308 385.2908,-124.4256 391.9249,-116.1649 385.3255,-113.8308\"/>\n",
       "</g>\n",
       "<!-- a04 -->\n",
       "<g id=\"node15\" class=\"node\">\n",
       "<title>a04</title>\n",
       "<ellipse fill=\"none\" stroke=\"#ff0000\" cx=\"135.6964\" cy=\"-18\" rx=\"27.8951\" ry=\"18\"/>\n",
       "<text text-anchor=\"middle\" x=\"135.6964\" y=\"-14.3\" font-family=\"Times,serif\" font-size=\"14.00\" fill=\"#000000\">a04</text>\n",
       "</g>\n",
       "<!-- a04&#45;&gt;f&#39;01 -->\n",
       "<g id=\"edge3\" class=\"edge\">\n",
       "<title>a04&#45;&gt;f&#39;01</title>\n",
       "<path fill=\"none\" stroke=\"#000000\" d=\"M128.1695,-35.5736C124.5412,-44.0449 120.1104,-54.3899 116.074,-63.8142\"/>\n",
       "<polygon fill=\"#000000\" stroke=\"#000000\" points=\"112.7804,-62.6144 112.0605,-73.1847 119.215,-65.3704 112.7804,-62.6144\"/>\n",
       "</g>\n",
       "</g>\n",
       "</svg>\n"
      ],
      "text/plain": [
       "<graphviz.dot.Digraph at 0x7f2ec433f190>"
      ]
     },
     "execution_count": 58,
     "metadata": {},
     "output_type": "execute_result"
    }
   ],
   "source": [
    "graph_for_matrices(sml.Mf, sml.Ma)"
   ]
  },
  {
   "cell_type": "code",
   "execution_count": null,
   "metadata": {},
   "outputs": [],
   "source": []
  }
 ],
 "metadata": {
  "kernelspec": {
   "display_name": "Python 3",
   "language": "python",
   "name": "python3"
  },
  "language_info": {
   "codemirror_mode": {
    "name": "ipython",
    "version": 3
   },
   "file_extension": ".py",
   "mimetype": "text/x-python",
   "name": "python",
   "nbconvert_exporter": "python",
   "pygments_lexer": "ipython3",
   "version": "3.7.7"
  }
 },
 "nbformat": 4,
 "nbformat_minor": 4
}
