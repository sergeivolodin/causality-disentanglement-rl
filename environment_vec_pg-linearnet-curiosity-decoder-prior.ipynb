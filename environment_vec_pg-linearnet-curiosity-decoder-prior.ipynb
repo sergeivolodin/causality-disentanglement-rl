{
 "cells": [
  {
   "cell_type": "markdown",
   "metadata": {},
   "source": [
    "# Curiosity-driven exploration with causality prior on the model in VectorIncrement environment"
   ]
  },
  {
   "cell_type": "markdown",
   "metadata": {},
   "source": [
    "Setting the right GPU"
   ]
  },
  {
   "cell_type": "code",
   "execution_count": 1,
   "metadata": {},
   "outputs": [],
   "source": [
    "import os\n",
    "os.environ[\"CUDA_VISIBLE_DEVICES\"]=\"1\"\n",
    "os.environ[\"TF_FORCE_GPU_ALLOW_GROWTH\"]=\"true\""
   ]
  },
  {
   "cell_type": "markdown",
   "metadata": {},
   "source": [
    "Imports"
   ]
  },
  {
   "cell_type": "code",
   "execution_count": 20,
   "metadata": {},
   "outputs": [],
   "source": [
    "import numpy as np\n",
    "from matplotlib import pyplot as plt\n",
    "import tensorflow as tf\n",
    "from tqdm import tqdm\n",
    "\n",
    "tf.compat.v1.enable_v2_behavior()\n",
    "\n",
    "from tf_agents.agents.reinforce import reinforce_agent\n",
    "from tf_agents.drivers import dynamic_step_driver\n",
    "from tf_agents.environments import suite_gym\n",
    "from tf_agents.environments import tf_py_environment\n",
    "from tf_agents.eval import metric_utils\n",
    "from tf_agents.metrics import tf_metrics, py_metrics\n",
    "from tf_agents.policies import random_tf_policy, epsilon_greedy_policy\n",
    "from tf_agents.replay_buffers import tf_uniform_replay_buffer\n",
    "from tf_agents.networks import actor_distribution_network\n",
    "from tf_agents.trajectories import trajectory\n",
    "from tf_agents.utils import common\n",
    "from tf_agents.specs import array_spec\n",
    "from tf_agents.environments import utils, wrappers\n",
    "from tf_agents.trajectories import time_step as ts\n",
    "from tf_agents.drivers import dynamic_episode_driver\n",
    "from tf_agents.drivers import py_driver\n",
    "\n",
    "from vectorincrement import *\n",
    "from common import *\n",
    "from curiosity import *\n",
    "from sparse_model_from_model import LinearStateTransitionModel, SparseModelLearner\n",
    "\n",
    "from IPython.display import clear_output"
   ]
  },
  {
   "cell_type": "markdown",
   "metadata": {},
   "source": [
    "Environment hyperparameters"
   ]
  },
  {
   "cell_type": "code",
   "execution_count": 4,
   "metadata": {},
   "outputs": [],
   "source": [
    "v_n = 10\n",
    "v_k = 10\n",
    "v_seed = 43\n",
    "do_transform = True\n",
    "time_limit = 20"
   ]
  },
  {
   "cell_type": "markdown",
   "metadata": {},
   "source": [
    "Agent hyperparameters"
   ]
  },
  {
   "cell_type": "code",
   "execution_count": 5,
   "metadata": {},
   "outputs": [],
   "source": [
    "num_iterations = 500 # @param {type:\"integer\"}\n",
    "collect_episodes_per_iteration = 5 # @param {type:\"integer\"}\n",
    "replay_buffer_capacity = 1000 # @param {type:\"integer\"}\n",
    "\n",
    "fc_layer_params = ()\n",
    "\n",
    "learning_rate = 1e-3 # @param {type:\"number\"}\n",
    "log_interval = 25 # @param {type:\"integer\"}\n",
    "num_eval_episodes = 10 # @param {type:\"integer\"}\n",
    "eval_interval = 10 # @param {type:\"integer\"}\n",
    "\n",
    "# p norm\n",
    "p_ord = 0.8\n",
    "\n",
    "# regularization for reconstruction\n",
    "eps_dinv = 1.\n",
    "\n",
    "# for training observation model\n",
    "model_W_train_epochs = 100\n",
    "\n",
    "# for training feature model\n",
    "model_sml_train_epochs = 100"
   ]
  },
  {
   "cell_type": "markdown",
   "metadata": {},
   "source": [
    "Decoder: a linear transformation from observations to features"
   ]
  },
  {
   "cell_type": "code",
   "execution_count": 6,
   "metadata": {},
   "outputs": [],
   "source": [
    "# two layers, will sync parameters between them\n",
    "\n",
    "W = LinearStateTransitionModel(o=v_k, a=v_n)\n",
    "sml = SparseModelLearner(o=v_k, a=v_n, f=v_n, p_ord=p_ord, eps_dinv=eps_dinv)\n",
    "\n",
    "decoder_layer_agent = tf.keras.layers.Dense(v_n, input_shape=(v_k,), activation=None,\n",
    "                             use_bias=False, kernel_initializer='random_normal')"
   ]
  },
  {
   "cell_type": "markdown",
   "metadata": {},
   "source": [
    "Model of the environment"
   ]
  },
  {
   "cell_type": "code",
   "execution_count": 7,
   "metadata": {},
   "outputs": [],
   "source": [
    "def env_model(oa):\n",
    "    \"\"\"Models next observation given o and a.\"\"\"\n",
    "    oa = oa[0]\n",
    "    o = oa[:v_k]\n",
    "    a = oa[v_k:]\n",
    "    D = sml.D.numpy()\n",
    "    Mf, Ma = sml.get_MfMa(sml.D)\n",
    "    Mf = Mf.numpy()\n",
    "    Ma = Ma.numpy()\n",
    "    result = np.linalg.inv(D) @ (Ma @ a + Mf @ D @  o)\n",
    "    return np.array([result])"
   ]
  },
  {
   "cell_type": "markdown",
   "metadata": {},
   "source": [
    "Curiosity parameters"
   ]
  },
  {
   "cell_type": "code",
   "execution_count": 8,
   "metadata": {},
   "outputs": [],
   "source": [
    "alpha = 1.0\n",
    "\n",
    "curiosity_interval = 10"
   ]
  },
  {
   "cell_type": "markdown",
   "metadata": {},
   "source": [
    "Creating a curiosity-wrapped environment"
   ]
  },
  {
   "cell_type": "code",
   "execution_count": 9,
   "metadata": {},
   "outputs": [],
   "source": [
    "def get_env(add_curiosity_reward=True):\n",
    "    \"\"\"Return a copy of the environment.\"\"\"\n",
    "    env = VectorIncrementEnvironmentTFAgents(v_n=v_n, v_k=v_k, v_seed=v_seed,\n",
    "                                             do_transform=do_transform)\n",
    "    env = wrappers.TimeLimit(env, time_limit)\n",
    "    if add_curiosity_reward:\n",
    "        env = CuriosityWrapper(env, env_model, alpha=alpha)\n",
    "    env = tf_py_environment.TFPyEnvironment(env)\n",
    "    return env"
   ]
  },
  {
   "cell_type": "code",
   "execution_count": 10,
   "metadata": {},
   "outputs": [],
   "source": [
    "train_env = get_env(add_curiosity_reward=True)\n",
    "eval_env = get_env(add_curiosity_reward=False)"
   ]
  },
  {
   "cell_type": "code",
   "execution_count": 11,
   "metadata": {},
   "outputs": [],
   "source": [
    "actor_net = actor_distribution_network.ActorDistributionNetwork(\n",
    "    train_env.observation_spec(),\n",
    "    train_env.action_spec(),\n",
    "    fc_layer_params=fc_layer_params,\n",
    "    activation_fn=tf.keras.activations.relu,\n",
    "    preprocessing_layers=decoder_layer_agent\n",
    "    # for features: add preprocessing_layers=[...]\n",
    ")"
   ]
  },
  {
   "cell_type": "code",
   "execution_count": 12,
   "metadata": {},
   "outputs": [],
   "source": [
    "optimizer = tf.compat.v1.train.GradientDescentOptimizer(learning_rate=learning_rate)\n",
    "\n",
    "train_step_counter = tf.compat.v2.Variable(0)\n",
    "\n",
    "tf_agent = reinforce_agent.ReinforceAgent(\n",
    "    train_env.time_step_spec(),\n",
    "    train_env.action_spec(),\n",
    "    actor_network=actor_net,\n",
    "    optimizer=optimizer,\n",
    "    normalize_returns=True,\n",
    "    train_step_counter=train_step_counter)\n",
    "tf_agent.initialize()"
   ]
  },
  {
   "cell_type": "code",
   "execution_count": 13,
   "metadata": {},
   "outputs": [],
   "source": [
    "eval_policy = tf_agent.policy\n",
    "collect_policy = tf_agent.collect_policy"
   ]
  },
  {
   "cell_type": "code",
   "execution_count": 26,
   "metadata": {},
   "outputs": [],
   "source": [
    "replay_buffer = tf_uniform_replay_buffer.TFUniformReplayBuffer(\n",
    "    data_spec=tf_agent.collect_data_spec,\n",
    "    batch_size=train_env.batch_size,\n",
    "    max_length=replay_buffer_capacity)"
   ]
  },
  {
   "cell_type": "code",
   "execution_count": 27,
   "metadata": {},
   "outputs": [],
   "source": [
    "curiosity_replay_buffer = tf_uniform_replay_buffer.TFUniformReplayBuffer(\n",
    "    data_spec=tf_agent.collect_data_spec,\n",
    "    batch_size=train_env.batch_size,\n",
    "    max_length=1000000) # should never overflow"
   ]
  },
  {
   "cell_type": "code",
   "execution_count": 28,
   "metadata": {},
   "outputs": [],
   "source": [
    "decoder_layer_agent = actor_net.layers[0].layers[0] # taking the copied layer with actual weights"
   ]
  },
  {
   "cell_type": "code",
   "execution_count": null,
   "metadata": {
    "scrolled": false
   },
   "outputs": [
    {
     "data": {
      "application/vnd.jupyter.widget-view+json": {
       "model_id": "1cb09350ab474e87b4acded7261791cf",
       "version_major": 2,
       "version_minor": 0
      },
      "text/plain": [
       "HBox(children=(FloatProgress(value=0.0), HTML(value='')))"
      ]
     },
     "metadata": {},
     "output_type": "display_data"
    },
    {
     "name": "stdout",
     "output_type": "stream",
     "text": [
      "\n"
     ]
    },
    {
     "data": {
      "image/png": "[encoded data removed]",
      "text/plain": [
       "<Figure size 432x288 with 1 Axes>"
      ]
     },
     "metadata": {
      "needs_background": "light"
     },
     "output_type": "display_data"
    },
    {
     "data": {
      "image/png": "[encoded data removed]",
      "text/plain": [
       "<Figure size 864x360 with 8 Axes>"
      ]
     },
     "metadata": {},
     "output_type": "display_data"
    },
    {
     "name": "stdout",
     "output_type": "stream",
     "text": [
      "Model train step\n",
      "Agent train step\n",
      "Agent train step\n",
      "Agent train step\n",
      "Agent train step\n"
     ]
    }
   ],
   "source": [
    "# (Optional) Optimize by wrapping some of the code in a graph using TF function.\n",
    "tf_agent.train = common.function(tf_agent.train)\n",
    "\n",
    "# Reset the train step\n",
    "tf_agent.train_step_counter.assign(0)\n",
    "\n",
    "# Evaluate the agent's policy once before training.\n",
    "avg_return = compute_avg_return(eval_env, tf_agent.policy, num_eval_episodes)\n",
    "train_avg_return = compute_avg_return(eval_env, tf_agent.collect_policy, num_eval_episodes)\n",
    "returns = [avg_return]\n",
    "train_returns = [train_avg_return]\n",
    "\n",
    "for _ in range(num_iterations):\n",
    "\n",
    "  # Collect a few episodes using collect_policy and save to the replay buffer.\n",
    "  collect_episode(train_env, tf_agent.collect_policy,\n",
    "                  collect_episodes_per_iteration,\n",
    "                  [replay_buffer,curiosity_replay_buffer])\n",
    "\n",
    "  # Use data from the buffer and update the agent's network.\n",
    "  experience = replay_buffer.gather_all()\n",
    "  train_loss = tf_agent.train(experience)\n",
    "  replay_buffer.clear()\n",
    "    \n",
    "  print(\"Agent train step\")\n",
    "\n",
    "  step = tf_agent.train_step_counter.numpy()\n",
    "\n",
    "  if step % log_interval == 0:\n",
    "    print('step = {0}: loss = {1}'.format(step, train_loss.loss))\n",
    "\n",
    "  if step % eval_interval == 0:\n",
    "    avg_return = compute_avg_return(eval_env, tf_agent.policy, num_eval_episodes)\n",
    "    train_avg_return = compute_avg_return(train_env, tf_agent.collect_policy, num_eval_episodes)\n",
    "    print('step = {0}: Average Return = {1} Train curiosity Average return = {2}'.format(step, avg_return,\n",
    "                                                                      train_avg_return))\n",
    "    returns.append(avg_return)\n",
    "    train_returns.append(train_avg_return)\n",
    "    \n",
    "  if step % curiosity_interval == 0:\n",
    "    clear_output()\n",
    "    xs, ys = buffer_to_dataset(curiosity_replay_buffer, v_n)\n",
    "    \n",
    "    # fitting on observational data...\n",
    "    W.fit(xs=xs, ys=ys, epochs=model_W_train_epochs)\n",
    "    W.plot_loss()\n",
    "    \n",
    "    # setting weights from the agent to the model...\n",
    "    sml.D.assign(decoder_layer_agent.get_weights()[0].T)\n",
    "    \n",
    "    # setting the new observation transition matrix\n",
    "    sml.set_WoWa(*W.get_Wo_Wa())\n",
    "    \n",
    "    # fitting the SML model\n",
    "    sml.fit(epochs=model_sml_train_epochs)\n",
    "    \n",
    "    # setting weights from the model to the agent...\n",
    "    decoder_layer_agent.set_weights([sml.D.numpy().T])\n",
    "    \n",
    "    # plotting results for W and sml\n",
    "    W.plot_loss()\n",
    "    sml.process_results()\n",
    "    \n",
    "    curiosity_replay_buffer.clear()\n",
    "    \n",
    "    print(\"Model train step\")"
   ]
  },
  {
   "cell_type": "code",
   "execution_count": null,
   "metadata": {},
   "outputs": [],
   "source": [
    "steps = range(0, num_iterations + 1, eval_interval)\n",
    "fig = plt.figure()\n",
    "fig.patch.set_facecolor('lightgreen')\n",
    "plt.title(\"Returns with added curiosity reward in training\")\n",
    "plt.plot(steps, returns, label=\"eval\")\n",
    "plt.plot(steps, train_returns, label=\"train\")\n",
    "plt.ylabel('Average Return')\n",
    "plt.legend()\n",
    "plt.xlabel('Step')"
   ]
  },
  {
   "cell_type": "markdown",
   "metadata": {},
   "source": [
    "Evaluating the model"
   ]
  },
  {
   "cell_type": "code",
   "execution_count": 21,
   "metadata": {},
   "outputs": [
    {
     "name": "stdout",
     "output_type": "stream",
     "text": [
      "1000/1000 [==============================] - 0s 75us/sample - loss: 0.0344\n"
     ]
    },
    {
     "data": {
      "text/plain": [
       "0.034379313230514526"
      ]
     },
     "execution_count": 21,
     "metadata": {},
     "output_type": "execute_result"
    }
   ],
   "source": [
    "curiosity_replay_buffer.clear()\n",
    "collect_episode(eval_env, tf_agent.collect_policy, 25, [curiosity_replay_buffer])\n",
    "collect_episode(eval_env, tf_agent.policy, 25, [curiosity_replay_buffer])\n",
    "xs, ys = buffer_to_dataset(curiosity_replay_buffer, v_n)\n",
    "env_model.evaluate(xs, ys)"
   ]
  },
  {
   "cell_type": "code",
   "execution_count": 22,
   "metadata": {},
   "outputs": [
    {
     "data": {
      "text/plain": [
       "[<tf.Variable 'dense_5/kernel:0' shape=(2, 2) dtype=float32, numpy=\n",
       " array([[ 1.0450029e-04,  4.9015599e-01],\n",
       "        [-2.4217597e-04,  1.7220677e+00]], dtype=float32)>,\n",
       " <tf.Variable 'dense_7/kernel:0' shape=(4, 2) dtype=float32, numpy=\n",
       " array([[-1.8454093e-04, -2.3500546e-04],\n",
       "        [ 1.3126345e-01,  5.0940210e-01],\n",
       "        [-1.3580291e-04, -7.2934804e-03],\n",
       "        [-8.6255110e-04,  7.0312656e-03]], dtype=float32)>,\n",
       " <tf.Variable 'dense_7/bias:0' shape=(2,) dtype=float32, numpy=array([-0.07087477, -0.07355558], dtype=float32)>]"
      ]
     },
     "execution_count": 22,
     "metadata": {},
     "output_type": "execute_result"
    }
   ],
   "source": [
    "env_model.weights"
   ]
  },
  {
   "cell_type": "markdown",
   "metadata": {},
   "source": [
    "# The problem now\n",
    "\n",
    "Features are very similar, it's not the case that they converge to $(1,0,1,0)$ and $(0,1,0,1)$\n",
    "\n",
    "Solutions:\n",
    "1. Grid search for hyperparams\n",
    "2. Using a better graph sparsity loss (approximating number of edges)"
   ]
  },
  {
   "cell_type": "code",
   "execution_count": null,
   "metadata": {},
   "outputs": [],
   "source": []
  }
 ],
 "metadata": {
  "kernelspec": {
   "display_name": "Python 3",
   "language": "python",
   "name": "python3"
  },
  "language_info": {
   "codemirror_mode": {
    "name": "ipython",
    "version": 3
   },
   "file_extension": ".py",
   "mimetype": "text/x-python",
   "name": "python",
   "nbconvert_exporter": "python",
   "pygments_lexer": "ipython3",
   "version": "3.7.7"
  }
 },
 "nbformat": 4,
 "nbformat_minor": 4
}
