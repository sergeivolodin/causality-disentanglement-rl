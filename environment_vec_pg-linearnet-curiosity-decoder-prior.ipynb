{
 "cells": [
  {
   "cell_type": "markdown",
   "metadata": {},
   "source": [
    "# Curiosity-driven exploration with causality prior on the model in VectorIncrement environment"
   ]
  },
  {
   "cell_type": "markdown",
   "metadata": {},
   "source": [
    "Setting the right GPU"
   ]
  },
  {
   "cell_type": "code",
   "execution_count": 1,
   "metadata": {},
   "outputs": [],
   "source": [
    "import os\n",
    "os.environ[\"CUDA_VISIBLE_DEVICES\"]=\"1\"\n",
    "os.environ[\"TF_FORCE_GPU_ALLOW_GROWTH\"]=\"true\""
   ]
  },
  {
   "cell_type": "markdown",
   "metadata": {},
   "source": [
    "Imports"
   ]
  },
  {
   "cell_type": "code",
   "execution_count": 2,
   "metadata": {},
   "outputs": [],
   "source": [
    "import numpy as np\n",
    "from matplotlib import pyplot as plt\n",
    "import tensorflow as tf\n",
    "from tqdm.notebook import tqdm\n",
    "\n",
    "tf.compat.v1.enable_v2_behavior()\n",
    "\n",
    "from tf_agents.agents.reinforce import reinforce_agent\n",
    "from tf_agents.drivers import dynamic_step_driver\n",
    "from tf_agents.environments import suite_gym\n",
    "from tf_agents.environments import tf_py_environment\n",
    "from tf_agents.eval import metric_utils\n",
    "from tf_agents.metrics import tf_metrics, py_metrics\n",
    "from tf_agents.policies import random_tf_policy, epsilon_greedy_policy\n",
    "from tf_agents.replay_buffers import tf_uniform_replay_buffer\n",
    "from tf_agents.networks import actor_distribution_network\n",
    "from tf_agents.trajectories import trajectory\n",
    "from tf_agents.utils import common\n",
    "from tf_agents.specs import array_spec\n",
    "from tf_agents.environments import utils, wrappers\n",
    "from tf_agents.trajectories import time_step as ts\n",
    "from tf_agents.drivers import dynamic_episode_driver\n",
    "from tf_agents.drivers import py_driver\n",
    "\n",
    "from vectorincrement import *\n",
    "from common import *\n",
    "from curiosity import *\n",
    "from sparse_model_from_model import LinearStateTransitionModel, SparseModelLearner\n",
    "\n",
    "from IPython.display import clear_output\n",
    "\n",
    "import seaborn as sns"
   ]
  },
  {
   "cell_type": "markdown",
   "metadata": {},
   "source": [
    "Environment hyperparameters"
   ]
  },
  {
   "cell_type": "code",
   "execution_count": 3,
   "metadata": {},
   "outputs": [],
   "source": [
    "v_n = 5\n",
    "v_k = 5\n",
    "v_seed = 43\n",
    "do_transform = True\n",
    "time_limit = 20"
   ]
  },
  {
   "cell_type": "markdown",
   "metadata": {},
   "source": [
    "Agent hyperparameters"
   ]
  },
  {
   "cell_type": "code",
   "execution_count": 4,
   "metadata": {},
   "outputs": [],
   "source": [
    "num_iterations = 5000 # @param {type:\"integer\"}\n",
    "collect_episodes_per_iteration = 5 # @param {type:\"integer\"}\n",
    "replay_buffer_capacity = 1000 # @param {type:\"integer\"}\n",
    "\n",
    "fc_layer_params = ()\n",
    "\n",
    "learning_rate = 1e-3 # @param {type:\"number\"}\n",
    "log_interval = 25 # @param {type:\"integer\"}\n",
    "num_eval_episodes = 10 # @param {type:\"integer\"}\n",
    "eval_interval = 10 # @param {type:\"integer\"}\n",
    "\n",
    "# p norm\n",
    "p_ord = 0.8\n",
    "\n",
    "# regularization for reconstruction\n",
    "eps_dinv = 1.\n",
    "\n",
    "d_init_randomness = 5.\n",
    "\n",
    "# for training observation model\n",
    "model_W_train_epochs = 1000\n",
    "\n",
    "# for training feature model\n",
    "model_sml_train_epochs = 1000"
   ]
  },
  {
   "cell_type": "markdown",
   "metadata": {},
   "source": [
    "Decoder: a linear transformation from observations to features"
   ]
  },
  {
   "cell_type": "code",
   "execution_count": 5,
   "metadata": {},
   "outputs": [],
   "source": [
    "# two layers, will sync parameters between them\n",
    "\n",
    "W = LinearStateTransitionModel(o=v_k, a=v_n)\n",
    "sml = SparseModelLearner(o=v_k, a=v_n, f=v_n, p_ord=p_ord,\n",
    "                         eps_dinv=eps_dinv, d_init_randomness=d_init_randomness)\n",
    "\n",
    "decoder_layer_agent = tf.keras.layers.Dense(v_n, input_shape=(v_k,), activation=None,\n",
    "                             use_bias=False, kernel_initializer='random_normal')"
   ]
  },
  {
   "cell_type": "markdown",
   "metadata": {},
   "source": [
    "Model of the environment"
   ]
  },
  {
   "cell_type": "code",
   "execution_count": 6,
   "metadata": {},
   "outputs": [],
   "source": [
    "def env_model(oa):\n",
    "    \"\"\"Models next observation given o and a.\"\"\"\n",
    "    oa = oa[0]\n",
    "    o = oa[:v_k]\n",
    "    a = oa[v_k:]\n",
    "    D = sml.D.numpy()\n",
    "    Mf, Ma = sml.get_MfMa(sml.D)\n",
    "    Mf = Mf.numpy()\n",
    "    Ma = Ma.numpy()\n",
    "    result = np.linalg.inv(D) @ (Ma @ a + Mf @ D @  o)\n",
    "    return np.array([result])"
   ]
  },
  {
   "cell_type": "markdown",
   "metadata": {},
   "source": [
    "Curiosity parameters"
   ]
  },
  {
   "cell_type": "code",
   "execution_count": 7,
   "metadata": {},
   "outputs": [],
   "source": [
    "alpha = 1.0\n",
    "\n",
    "curiosity_interval = 100"
   ]
  },
  {
   "cell_type": "markdown",
   "metadata": {},
   "source": [
    "Creating a curiosity-wrapped environment"
   ]
  },
  {
   "cell_type": "code",
   "execution_count": 8,
   "metadata": {},
   "outputs": [],
   "source": [
    "def get_env(add_curiosity_reward=True):\n",
    "    \"\"\"Return a copy of the environment.\"\"\"\n",
    "    env = VectorIncrementEnvironmentTFAgents(v_n=v_n, v_k=v_k, v_seed=v_seed,\n",
    "                                             do_transform=do_transform)\n",
    "    env = wrappers.TimeLimit(env, time_limit)\n",
    "    if add_curiosity_reward:\n",
    "        env = CuriosityWrapper(env, env_model, alpha=alpha)\n",
    "    env = tf_py_environment.TFPyEnvironment(env)\n",
    "    return env"
   ]
  },
  {
   "cell_type": "code",
   "execution_count": 9,
   "metadata": {},
   "outputs": [],
   "source": [
    "train_env = get_env(add_curiosity_reward=True)\n",
    "eval_env = get_env(add_curiosity_reward=False)"
   ]
  },
  {
   "cell_type": "code",
   "execution_count": 10,
   "metadata": {},
   "outputs": [],
   "source": [
    "actor_net = actor_distribution_network.ActorDistributionNetwork(\n",
    "    train_env.observation_spec(),\n",
    "    train_env.action_spec(),\n",
    "    fc_layer_params=fc_layer_params,\n",
    "    activation_fn=tf.keras.activations.relu,\n",
    "    preprocessing_layers=decoder_layer_agent\n",
    "    # for features: add preprocessing_layers=[...]\n",
    ")"
   ]
  },
  {
   "cell_type": "code",
   "execution_count": 11,
   "metadata": {},
   "outputs": [],
   "source": [
    "optimizer = tf.compat.v1.train.GradientDescentOptimizer(learning_rate=learning_rate)\n",
    "\n",
    "train_step_counter = tf.compat.v2.Variable(0)\n",
    "\n",
    "tf_agent = reinforce_agent.ReinforceAgent(\n",
    "    train_env.time_step_spec(),\n",
    "    train_env.action_spec(),\n",
    "    actor_network=actor_net,\n",
    "    optimizer=optimizer,\n",
    "    normalize_returns=True,\n",
    "    train_step_counter=train_step_counter)\n",
    "tf_agent.initialize()"
   ]
  },
  {
   "cell_type": "code",
   "execution_count": 12,
   "metadata": {},
   "outputs": [],
   "source": [
    "eval_policy = tf_agent.policy\n",
    "collect_policy = tf_agent.collect_policy"
   ]
  },
  {
   "cell_type": "code",
   "execution_count": 13,
   "metadata": {},
   "outputs": [],
   "source": [
    "replay_buffer = tf_uniform_replay_buffer.TFUniformReplayBuffer(\n",
    "    data_spec=tf_agent.collect_data_spec,\n",
    "    batch_size=train_env.batch_size,\n",
    "    max_length=replay_buffer_capacity)"
   ]
  },
  {
   "cell_type": "code",
   "execution_count": 14,
   "metadata": {},
   "outputs": [],
   "source": [
    "curiosity_replay_buffer = tf_uniform_replay_buffer.TFUniformReplayBuffer(\n",
    "    data_spec=tf_agent.collect_data_spec,\n",
    "    batch_size=train_env.batch_size,\n",
    "    max_length=1000000) # should never overflow"
   ]
  },
  {
   "cell_type": "code",
   "execution_count": 15,
   "metadata": {},
   "outputs": [],
   "source": [
    "decoder_layer_agent = actor_net.layers[0].layers[0] # taking the copied layer with actual weights"
   ]
  },
  {
   "cell_type": "code",
   "execution_count": 59,
   "metadata": {},
   "outputs": [
    {
     "name": "stderr",
     "output_type": "stream",
     "text": [
      "  0%|          | 2/500 [00:01<07:49,  1.06it/s]\n"
     ]
    },
    {
     "ename": "KeyboardInterrupt",
     "evalue": "",
     "output_type": "error",
     "traceback": [
      "\u001b[0;31m---------------------------------------------------------------------------\u001b[0m",
      "\u001b[0;31mKeyboardInterrupt\u001b[0m                         Traceback (most recent call last)",
      "\u001b[0;32m<ipython-input-59-10aaf291c8d9>\u001b[0m in \u001b[0;36m<module>\u001b[0;34m\u001b[0m\n\u001b[1;32m     16\u001b[0m   collect_episode(train_env, tf_agent.collect_policy,\n\u001b[1;32m     17\u001b[0m                   \u001b[0mcollect_episodes_per_iteration\u001b[0m\u001b[0;34m,\u001b[0m\u001b[0;34m\u001b[0m\u001b[0;34m\u001b[0m\u001b[0m\n\u001b[0;32m---> 18\u001b[0;31m                   [replay_buffer,curiosity_replay_buffer])\n\u001b[0m\u001b[1;32m     19\u001b[0m \u001b[0;34m\u001b[0m\u001b[0m\n\u001b[1;32m     20\u001b[0m   \u001b[0;31m# Use data from the buffer and update the agent's network.\u001b[0m\u001b[0;34m\u001b[0m\u001b[0;34m\u001b[0m\u001b[0;34m\u001b[0m\u001b[0m\n",
      "\u001b[0;32m~/causality-disentanglement-rl/common.py\u001b[0m in \u001b[0;36mcollect_episode\u001b[0;34m(environment, policy, num_episodes, replay_buffers)\u001b[0m\n\u001b[1;32m     48\u001b[0m   \u001b[0;32mwhile\u001b[0m \u001b[0mepisode_counter\u001b[0m \u001b[0;34m<\u001b[0m \u001b[0mnum_episodes\u001b[0m\u001b[0;34m:\u001b[0m\u001b[0;34m\u001b[0m\u001b[0;34m\u001b[0m\u001b[0m\n\u001b[1;32m     49\u001b[0m     \u001b[0mtime_step\u001b[0m \u001b[0;34m=\u001b[0m \u001b[0menvironment\u001b[0m\u001b[0;34m.\u001b[0m\u001b[0mcurrent_time_step\u001b[0m\u001b[0;34m(\u001b[0m\u001b[0;34m)\u001b[0m\u001b[0;34m\u001b[0m\u001b[0;34m\u001b[0m\u001b[0m\n\u001b[0;32m---> 50\u001b[0;31m     \u001b[0maction_step\u001b[0m \u001b[0;34m=\u001b[0m \u001b[0mpolicy\u001b[0m\u001b[0;34m.\u001b[0m\u001b[0maction\u001b[0m\u001b[0;34m(\u001b[0m\u001b[0mtime_step\u001b[0m\u001b[0;34m)\u001b[0m\u001b[0;34m\u001b[0m\u001b[0;34m\u001b[0m\u001b[0m\n\u001b[0m\u001b[1;32m     51\u001b[0m     \u001b[0mnext_time_step\u001b[0m \u001b[0;34m=\u001b[0m \u001b[0menvironment\u001b[0m\u001b[0;34m.\u001b[0m\u001b[0mstep\u001b[0m\u001b[0;34m(\u001b[0m\u001b[0maction_step\u001b[0m\u001b[0;34m.\u001b[0m\u001b[0maction\u001b[0m\u001b[0;34m)\u001b[0m\u001b[0;34m\u001b[0m\u001b[0;34m\u001b[0m\u001b[0m\n\u001b[1;32m     52\u001b[0m     \u001b[0mtraj\u001b[0m \u001b[0;34m=\u001b[0m \u001b[0mtrajectory\u001b[0m\u001b[0;34m.\u001b[0m\u001b[0mfrom_transition\u001b[0m\u001b[0;34m(\u001b[0m\u001b[0mtime_step\u001b[0m\u001b[0;34m,\u001b[0m \u001b[0maction_step\u001b[0m\u001b[0;34m,\u001b[0m \u001b[0mnext_time_step\u001b[0m\u001b[0;34m)\u001b[0m\u001b[0;34m\u001b[0m\u001b[0;34m\u001b[0m\u001b[0m\n",
      "\u001b[0;32m~/miniconda3/envs/causal/lib/python3.7/site-packages/tf_agents/policies/tf_policy.py\u001b[0m in \u001b[0;36maction\u001b[0;34m(self, time_step, policy_state, seed)\u001b[0m\n\u001b[1;32m    277\u001b[0m     \u001b[0;32mif\u001b[0m \u001b[0mself\u001b[0m\u001b[0;34m.\u001b[0m\u001b[0m_automatic_state_reset\u001b[0m\u001b[0;34m:\u001b[0m\u001b[0;34m\u001b[0m\u001b[0;34m\u001b[0m\u001b[0m\n\u001b[1;32m    278\u001b[0m       \u001b[0mpolicy_state\u001b[0m \u001b[0;34m=\u001b[0m \u001b[0mself\u001b[0m\u001b[0;34m.\u001b[0m\u001b[0m_maybe_reset_state\u001b[0m\u001b[0;34m(\u001b[0m\u001b[0mtime_step\u001b[0m\u001b[0;34m,\u001b[0m \u001b[0mpolicy_state\u001b[0m\u001b[0;34m)\u001b[0m\u001b[0;34m\u001b[0m\u001b[0;34m\u001b[0m\u001b[0m\n\u001b[0;32m--> 279\u001b[0;31m     \u001b[0mstep\u001b[0m \u001b[0;34m=\u001b[0m \u001b[0maction_fn\u001b[0m\u001b[0;34m(\u001b[0m\u001b[0mtime_step\u001b[0m\u001b[0;34m=\u001b[0m\u001b[0mtime_step\u001b[0m\u001b[0;34m,\u001b[0m \u001b[0mpolicy_state\u001b[0m\u001b[0;34m=\u001b[0m\u001b[0mpolicy_state\u001b[0m\u001b[0;34m,\u001b[0m \u001b[0mseed\u001b[0m\u001b[0;34m=\u001b[0m\u001b[0mseed\u001b[0m\u001b[0;34m)\u001b[0m\u001b[0;34m\u001b[0m\u001b[0;34m\u001b[0m\u001b[0m\n\u001b[0m\u001b[1;32m    280\u001b[0m \u001b[0;34m\u001b[0m\u001b[0m\n\u001b[1;32m    281\u001b[0m     \u001b[0;32mdef\u001b[0m \u001b[0mclip_action\u001b[0m\u001b[0;34m(\u001b[0m\u001b[0maction\u001b[0m\u001b[0;34m,\u001b[0m \u001b[0maction_spec\u001b[0m\u001b[0;34m)\u001b[0m\u001b[0;34m:\u001b[0m\u001b[0;34m\u001b[0m\u001b[0;34m\u001b[0m\u001b[0m\n",
      "\u001b[0;32m~/miniconda3/envs/causal/lib/python3.7/site-packages/tf_agents/utils/common.py\u001b[0m in \u001b[0;36mwith_check_resource_vars\u001b[0;34m(*fn_args, **fn_kwargs)\u001b[0m\n\u001b[1;32m    152\u001b[0m         \u001b[0;31m# We're either in eager mode or in tf.function mode (no in-between); so\u001b[0m\u001b[0;34m\u001b[0m\u001b[0;34m\u001b[0m\u001b[0;34m\u001b[0m\u001b[0m\n\u001b[1;32m    153\u001b[0m         \u001b[0;31m# autodep-like behavior is already expected of fn.\u001b[0m\u001b[0;34m\u001b[0m\u001b[0;34m\u001b[0m\u001b[0;34m\u001b[0m\u001b[0m\n\u001b[0;32m--> 154\u001b[0;31m         \u001b[0;32mreturn\u001b[0m \u001b[0mfn\u001b[0m\u001b[0;34m(\u001b[0m\u001b[0;34m*\u001b[0m\u001b[0mfn_args\u001b[0m\u001b[0;34m,\u001b[0m \u001b[0;34m**\u001b[0m\u001b[0mfn_kwargs\u001b[0m\u001b[0;34m)\u001b[0m\u001b[0;34m\u001b[0m\u001b[0;34m\u001b[0m\u001b[0m\n\u001b[0m\u001b[1;32m    155\u001b[0m       \u001b[0;32mif\u001b[0m \u001b[0;32mnot\u001b[0m \u001b[0mresource_variables_enabled\u001b[0m\u001b[0;34m(\u001b[0m\u001b[0;34m)\u001b[0m\u001b[0;34m:\u001b[0m\u001b[0;34m\u001b[0m\u001b[0;34m\u001b[0m\u001b[0m\n\u001b[1;32m    156\u001b[0m         \u001b[0;32mraise\u001b[0m \u001b[0mRuntimeError\u001b[0m\u001b[0;34m(\u001b[0m\u001b[0mMISSING_RESOURCE_VARIABLES_ERROR\u001b[0m\u001b[0;34m)\u001b[0m\u001b[0;34m\u001b[0m\u001b[0;34m\u001b[0m\u001b[0m\n",
      "\u001b[0;32m~/miniconda3/envs/causal/lib/python3.7/site-packages/tf_agents/policies/tf_policy.py\u001b[0m in \u001b[0;36m_action\u001b[0;34m(self, time_step, policy_state, seed)\u001b[0m\n\u001b[1;32m    467\u001b[0m     \"\"\"\n\u001b[1;32m    468\u001b[0m     \u001b[0mseed_stream\u001b[0m \u001b[0;34m=\u001b[0m \u001b[0mtfp\u001b[0m\u001b[0;34m.\u001b[0m\u001b[0mutil\u001b[0m\u001b[0;34m.\u001b[0m\u001b[0mSeedStream\u001b[0m\u001b[0;34m(\u001b[0m\u001b[0mseed\u001b[0m\u001b[0;34m=\u001b[0m\u001b[0mseed\u001b[0m\u001b[0;34m,\u001b[0m \u001b[0msalt\u001b[0m\u001b[0;34m=\u001b[0m\u001b[0;34m'ppo_policy'\u001b[0m\u001b[0;34m)\u001b[0m\u001b[0;34m\u001b[0m\u001b[0;34m\u001b[0m\u001b[0m\n\u001b[0;32m--> 469\u001b[0;31m     \u001b[0mdistribution_step\u001b[0m \u001b[0;34m=\u001b[0m \u001b[0mself\u001b[0m\u001b[0;34m.\u001b[0m\u001b[0m_distribution\u001b[0m\u001b[0;34m(\u001b[0m\u001b[0mtime_step\u001b[0m\u001b[0;34m,\u001b[0m \u001b[0mpolicy_state\u001b[0m\u001b[0;34m)\u001b[0m\u001b[0;34m\u001b[0m\u001b[0;34m\u001b[0m\u001b[0m\n\u001b[0m\u001b[1;32m    470\u001b[0m     actions = tf.nest.map_structure(\n\u001b[1;32m    471\u001b[0m         \u001b[0;32mlambda\u001b[0m \u001b[0md\u001b[0m\u001b[0;34m:\u001b[0m \u001b[0mreparameterized_sampling\u001b[0m\u001b[0;34m.\u001b[0m\u001b[0msample\u001b[0m\u001b[0;34m(\u001b[0m\u001b[0md\u001b[0m\u001b[0;34m,\u001b[0m \u001b[0mseed\u001b[0m\u001b[0;34m=\u001b[0m\u001b[0mseed_stream\u001b[0m\u001b[0;34m(\u001b[0m\u001b[0;34m)\u001b[0m\u001b[0;34m)\u001b[0m\u001b[0;34m,\u001b[0m\u001b[0;34m\u001b[0m\u001b[0;34m\u001b[0m\u001b[0m\n",
      "\u001b[0;32m~/miniconda3/envs/causal/lib/python3.7/site-packages/tf_agents/policies/actor_policy.py\u001b[0m in \u001b[0;36m_distribution\u001b[0;34m(self, time_step, policy_state)\u001b[0m\n\u001b[1;32m    147\u001b[0m     \u001b[0;31m# Actor network outputs nested structure of distributions or actions.\u001b[0m\u001b[0;34m\u001b[0m\u001b[0;34m\u001b[0m\u001b[0;34m\u001b[0m\u001b[0m\n\u001b[1;32m    148\u001b[0m     actions_or_distributions, policy_state = self._apply_actor_network(\n\u001b[0;32m--> 149\u001b[0;31m         network_observation, time_step.step_type, policy_state, mask=mask)\n\u001b[0m\u001b[1;32m    150\u001b[0m \u001b[0;34m\u001b[0m\u001b[0m\n\u001b[1;32m    151\u001b[0m     \u001b[0;32mdef\u001b[0m \u001b[0m_to_distribution\u001b[0m\u001b[0;34m(\u001b[0m\u001b[0maction_or_distribution\u001b[0m\u001b[0;34m)\u001b[0m\u001b[0;34m:\u001b[0m\u001b[0;34m\u001b[0m\u001b[0;34m\u001b[0m\u001b[0m\n",
      "\u001b[0;32m~/miniconda3/envs/causal/lib/python3.7/site-packages/tf_agents/policies/actor_policy.py\u001b[0m in \u001b[0;36m_apply_actor_network\u001b[0;34m(self, observation, step_type, policy_state, mask)\u001b[0m\n\u001b[1;32m    122\u001b[0m     \u001b[0;32mif\u001b[0m \u001b[0mmask\u001b[0m \u001b[0;32mis\u001b[0m \u001b[0;32mNone\u001b[0m\u001b[0;34m:\u001b[0m\u001b[0;34m\u001b[0m\u001b[0;34m\u001b[0m\u001b[0m\n\u001b[1;32m    123\u001b[0m       return self._actor_network(\n\u001b[0;32m--> 124\u001b[0;31m           observation, step_type, policy_state, training=self._training)\n\u001b[0m\u001b[1;32m    125\u001b[0m     \u001b[0;32melse\u001b[0m\u001b[0;34m:\u001b[0m\u001b[0;34m\u001b[0m\u001b[0;34m\u001b[0m\u001b[0m\n\u001b[1;32m    126\u001b[0m       return self._actor_network(\n",
      "\u001b[0;32m~/miniconda3/envs/causal/lib/python3.7/site-packages/tf_agents/networks/network.py\u001b[0m in \u001b[0;36m__call__\u001b[0;34m(self, inputs, *args, **kwargs)\u001b[0m\n\u001b[1;32m    203\u001b[0m     \u001b[0;32mif\u001b[0m \u001b[0mnetwork_state\u001b[0m \u001b[0;32mis\u001b[0m \u001b[0;32mnot\u001b[0m \u001b[0;32mNone\u001b[0m\u001b[0;34m:\u001b[0m\u001b[0;34m\u001b[0m\u001b[0;34m\u001b[0m\u001b[0m\n\u001b[1;32m    204\u001b[0m       \u001b[0mtf\u001b[0m\u001b[0;34m.\u001b[0m\u001b[0mnest\u001b[0m\u001b[0;34m.\u001b[0m\u001b[0massert_same_structure\u001b[0m\u001b[0;34m(\u001b[0m\u001b[0mnetwork_state\u001b[0m\u001b[0;34m,\u001b[0m \u001b[0mself\u001b[0m\u001b[0;34m.\u001b[0m\u001b[0mstate_spec\u001b[0m\u001b[0;34m)\u001b[0m\u001b[0;34m\u001b[0m\u001b[0;34m\u001b[0m\u001b[0m\n\u001b[0;32m--> 205\u001b[0;31m     \u001b[0moutputs\u001b[0m\u001b[0;34m,\u001b[0m \u001b[0mnew_state\u001b[0m \u001b[0;34m=\u001b[0m \u001b[0msuper\u001b[0m\u001b[0;34m(\u001b[0m\u001b[0mNetwork\u001b[0m\u001b[0;34m,\u001b[0m \u001b[0mself\u001b[0m\u001b[0;34m)\u001b[0m\u001b[0;34m.\u001b[0m\u001b[0m__call__\u001b[0m\u001b[0;34m(\u001b[0m\u001b[0minputs\u001b[0m\u001b[0;34m,\u001b[0m \u001b[0;34m*\u001b[0m\u001b[0margs\u001b[0m\u001b[0;34m,\u001b[0m \u001b[0;34m**\u001b[0m\u001b[0mkwargs\u001b[0m\u001b[0;34m)\u001b[0m\u001b[0;34m\u001b[0m\u001b[0;34m\u001b[0m\u001b[0m\n\u001b[0m\u001b[1;32m    206\u001b[0m     \u001b[0mtf\u001b[0m\u001b[0;34m.\u001b[0m\u001b[0mnest\u001b[0m\u001b[0;34m.\u001b[0m\u001b[0massert_same_structure\u001b[0m\u001b[0;34m(\u001b[0m\u001b[0mnew_state\u001b[0m\u001b[0;34m,\u001b[0m \u001b[0mself\u001b[0m\u001b[0;34m.\u001b[0m\u001b[0mstate_spec\u001b[0m\u001b[0;34m)\u001b[0m\u001b[0;34m\u001b[0m\u001b[0;34m\u001b[0m\u001b[0m\n\u001b[1;32m    207\u001b[0m     \u001b[0;32mreturn\u001b[0m \u001b[0moutputs\u001b[0m\u001b[0;34m,\u001b[0m \u001b[0mnew_state\u001b[0m\u001b[0;34m\u001b[0m\u001b[0;34m\u001b[0m\u001b[0m\n",
      "\u001b[0;32m~/miniconda3/envs/causal/lib/python3.7/site-packages/tensorflow_core/python/keras/engine/base_layer.py\u001b[0m in \u001b[0;36m__call__\u001b[0;34m(self, inputs, *args, **kwargs)\u001b[0m\n\u001b[1;32m    820\u001b[0m           with base_layer_utils.autocast_context_manager(\n\u001b[1;32m    821\u001b[0m               self._compute_dtype):\n\u001b[0;32m--> 822\u001b[0;31m             \u001b[0moutputs\u001b[0m \u001b[0;34m=\u001b[0m \u001b[0mself\u001b[0m\u001b[0;34m.\u001b[0m\u001b[0mcall\u001b[0m\u001b[0;34m(\u001b[0m\u001b[0mcast_inputs\u001b[0m\u001b[0;34m,\u001b[0m \u001b[0;34m*\u001b[0m\u001b[0margs\u001b[0m\u001b[0;34m,\u001b[0m \u001b[0;34m**\u001b[0m\u001b[0mkwargs\u001b[0m\u001b[0;34m)\u001b[0m\u001b[0;34m\u001b[0m\u001b[0;34m\u001b[0m\u001b[0m\n\u001b[0m\u001b[1;32m    823\u001b[0m           \u001b[0mself\u001b[0m\u001b[0;34m.\u001b[0m\u001b[0m_handle_activity_regularization\u001b[0m\u001b[0;34m(\u001b[0m\u001b[0minputs\u001b[0m\u001b[0;34m,\u001b[0m \u001b[0moutputs\u001b[0m\u001b[0;34m)\u001b[0m\u001b[0;34m\u001b[0m\u001b[0;34m\u001b[0m\u001b[0m\n\u001b[1;32m    824\u001b[0m           \u001b[0mself\u001b[0m\u001b[0;34m.\u001b[0m\u001b[0m_set_mask_metadata\u001b[0m\u001b[0;34m(\u001b[0m\u001b[0minputs\u001b[0m\u001b[0;34m,\u001b[0m \u001b[0moutputs\u001b[0m\u001b[0;34m,\u001b[0m \u001b[0minput_masks\u001b[0m\u001b[0;34m)\u001b[0m\u001b[0;34m\u001b[0m\u001b[0;34m\u001b[0m\u001b[0m\n",
      "\u001b[0;32m~/miniconda3/envs/causal/lib/python3.7/contextlib.py\u001b[0m in \u001b[0;36m__exit__\u001b[0;34m(self, type, value, traceback)\u001b[0m\n\u001b[1;32m    117\u001b[0m         \u001b[0;32mif\u001b[0m \u001b[0mtype\u001b[0m \u001b[0;32mis\u001b[0m \u001b[0;32mNone\u001b[0m\u001b[0;34m:\u001b[0m\u001b[0;34m\u001b[0m\u001b[0;34m\u001b[0m\u001b[0m\n\u001b[1;32m    118\u001b[0m             \u001b[0;32mtry\u001b[0m\u001b[0;34m:\u001b[0m\u001b[0;34m\u001b[0m\u001b[0;34m\u001b[0m\u001b[0m\n\u001b[0;32m--> 119\u001b[0;31m                 \u001b[0mnext\u001b[0m\u001b[0;34m(\u001b[0m\u001b[0mself\u001b[0m\u001b[0;34m.\u001b[0m\u001b[0mgen\u001b[0m\u001b[0;34m)\u001b[0m\u001b[0;34m\u001b[0m\u001b[0;34m\u001b[0m\u001b[0m\n\u001b[0m\u001b[1;32m    120\u001b[0m             \u001b[0;32mexcept\u001b[0m \u001b[0mStopIteration\u001b[0m\u001b[0;34m:\u001b[0m\u001b[0;34m\u001b[0m\u001b[0;34m\u001b[0m\u001b[0m\n\u001b[1;32m    121\u001b[0m                 \u001b[0;32mreturn\u001b[0m \u001b[0;32mFalse\u001b[0m\u001b[0;34m\u001b[0m\u001b[0;34m\u001b[0m\u001b[0m\n",
      "\u001b[0;32m~/miniconda3/envs/causal/lib/python3.7/site-packages/tensorflow_core/python/framework/ops.py\u001b[0m in \u001b[0;36m_enable_auto_casting_variables\u001b[0;34m(self, dtype)\u001b[0m\n\u001b[1;32m   4990\u001b[0m       \u001b[0;32myield\u001b[0m\u001b[0;34m\u001b[0m\u001b[0;34m\u001b[0m\u001b[0m\n\u001b[1;32m   4991\u001b[0m     \u001b[0;32mfinally\u001b[0m\u001b[0;34m:\u001b[0m\u001b[0;34m\u001b[0m\u001b[0;34m\u001b[0m\u001b[0m\n\u001b[0;32m-> 4992\u001b[0;31m       \u001b[0mself\u001b[0m\u001b[0;34m.\u001b[0m\u001b[0m_auto_cast_variable_read_dtype\u001b[0m \u001b[0;34m=\u001b[0m \u001b[0mprev_read_dtype\u001b[0m\u001b[0;34m\u001b[0m\u001b[0;34m\u001b[0m\u001b[0m\n\u001b[0m\u001b[1;32m   4993\u001b[0m \u001b[0;34m\u001b[0m\u001b[0m\n\u001b[1;32m   4994\u001b[0m   \u001b[0;32mdef\u001b[0m \u001b[0m_mutation_lock\u001b[0m\u001b[0;34m(\u001b[0m\u001b[0mself\u001b[0m\u001b[0;34m)\u001b[0m\u001b[0;34m:\u001b[0m\u001b[0;34m\u001b[0m\u001b[0;34m\u001b[0m\u001b[0m\n",
      "\u001b[0;32m~/miniconda3/envs/causal/lib/python3.7/site-packages/tensorflow_core/python/framework/ops.py\u001b[0m in \u001b[0;36m_auto_cast_variable_read_dtype\u001b[0;34m(self, dtype)\u001b[0m\n\u001b[1;32m   4964\u001b[0m     \u001b[0;32mreturn\u001b[0m \u001b[0mself\u001b[0m\u001b[0;34m.\u001b[0m\u001b[0m_thread_local\u001b[0m\u001b[0;34m.\u001b[0m\u001b[0m_auto_cast_variable_read_dtype\u001b[0m  \u001b[0;31m# pylint: disable=protected-access\u001b[0m\u001b[0;34m\u001b[0m\u001b[0;34m\u001b[0m\u001b[0m\n\u001b[1;32m   4965\u001b[0m \u001b[0;34m\u001b[0m\u001b[0m\n\u001b[0;32m-> 4966\u001b[0;31m   \u001b[0;34m@\u001b[0m\u001b[0m_auto_cast_variable_read_dtype\u001b[0m\u001b[0;34m.\u001b[0m\u001b[0msetter\u001b[0m\u001b[0;34m\u001b[0m\u001b[0;34m\u001b[0m\u001b[0m\n\u001b[0m\u001b[1;32m   4967\u001b[0m   \u001b[0;32mdef\u001b[0m \u001b[0m_auto_cast_variable_read_dtype\u001b[0m\u001b[0;34m(\u001b[0m\u001b[0mself\u001b[0m\u001b[0;34m,\u001b[0m \u001b[0mdtype\u001b[0m\u001b[0;34m)\u001b[0m\u001b[0;34m:\u001b[0m\u001b[0;34m\u001b[0m\u001b[0;34m\u001b[0m\u001b[0m\n\u001b[1;32m   4968\u001b[0m     \u001b[0;32mif\u001b[0m \u001b[0mdtype\u001b[0m\u001b[0;34m:\u001b[0m\u001b[0;34m\u001b[0m\u001b[0;34m\u001b[0m\u001b[0m\n",
      "\u001b[0;31mKeyboardInterrupt\u001b[0m: "
     ]
    }
   ],
   "source": [
    "# (Optional) Optimize by wrapping some of the code in a graph using TF function.\n",
    "tf_agent.train = common.function(tf_agent.train)\n",
    "\n",
    "# Reset the train step\n",
    "tf_agent.train_step_counter.assign(0)\n",
    "\n",
    "# Evaluate the agent's policy once before training.\n",
    "avg_return = compute_avg_return(eval_env, tf_agent.policy, num_eval_episodes)\n",
    "train_avg_return = compute_avg_return(eval_env, tf_agent.collect_policy, num_eval_episodes)\n",
    "returns = [avg_return]\n",
    "train_returns = [train_avg_return]\n",
    "\n",
    "for _ in tqdm(range(num_iterations)):\n",
    "\n",
    "  # Collect a few episodes using collect_policy and save to the replay buffer.\n",
    "  collect_episode(train_env, tf_agent.collect_policy,\n",
    "                  collect_episodes_per_iteration,\n",
    "                  [replay_buffer,curiosity_replay_buffer])\n",
    "\n",
    "  # Use data from the buffer and update the agent's network.\n",
    "  experience = replay_buffer.gather_all()\n",
    "  train_loss = tf_agent.train(experience)\n",
    "  replay_buffer.clear()\n",
    "    \n",
    "  #print(\"Agent train step\")\n",
    "\n",
    "  step = tf_agent.train_step_counter.numpy()\n",
    "\n",
    "  if step % log_interval == 0:\n",
    "    print('step = {0}: loss = {1}'.format(step, train_loss.loss))\n",
    "\n",
    "  if step % eval_interval == 0:\n",
    "    avg_return = compute_avg_return(eval_env, tf_agent.policy, num_eval_episodes)\n",
    "    train_avg_return = compute_avg_return(train_env, tf_agent.collect_policy, num_eval_episodes)\n",
    "    print('step = {0}: Average Return = {1} Train curiosity Average return = {2}'.format(step, avg_return,\n",
    "                                                                      train_avg_return))\n",
    "    returns.append(avg_return)\n",
    "    train_returns.append(train_avg_return)\n",
    "    \n",
    "  if step % curiosity_interval == 0 and len:\n",
    "    clear_output()\n",
    "    xs, ys = buffer_to_dataset(curiosity_replay_buffer, v_n)\n",
    "    \n",
    "    # fitting on observational data...\n",
    "    W.fit(xs=xs, ys=ys, epochs=model_W_train_epochs)\n",
    "    #W.plot_loss()\n",
    "    \n",
    "    # setting weights from the agent to the model...\n",
    "    sml.D.assign(decoder_layer_agent.get_weights()[0].T)\n",
    "    \n",
    "    # setting the new observation transition matrix\n",
    "    sml.set_WoWa(*W.get_Wo_Wa())\n",
    "    \n",
    "    # fitting the SML model\n",
    "    sml.fit(epochs=model_sml_train_epochs)\n",
    "    \n",
    "    # setting weights from the model to the agent...\n",
    "    decoder_layer_agent.set_weights([sml.D.numpy().T])\n",
    "    \n",
    "    # plotting results for W and sml\n",
    "    W.plot_loss()\n",
    "    sml.process_results()\n",
    "    \n",
    "    curiosity_replay_buffer.clear()\n",
    "    \n",
    "    #print(\"Model train step\")"
   ]
  },
  {
   "cell_type": "code",
   "execution_count": 17,
   "metadata": {},
   "outputs": [
    {
     "data": {
      "text/plain": [
       "Text(0.5, 0, 'Step')"
      ]
     },
     "execution_count": 17,
     "metadata": {},
     "output_type": "execute_result"
    },
    {
     "data": {
      "image/png": "[encoded data removed]",
      "text/plain": [
       "<Figure size 432x288 with 1 Axes>"
      ]
     },
     "metadata": {},
     "output_type": "display_data"
    }
   ],
   "source": [
    "steps = range(0, num_iterations + 1, eval_interval)\n",
    "fig = plt.figure()\n",
    "fig.patch.set_facecolor('lightgreen')\n",
    "plt.title(\"Returns with added curiosity reward in training\")\n",
    "plt.plot(steps, returns, label=\"eval\")\n",
    "plt.plot(steps, train_returns, label=\"train\")\n",
    "plt.ylabel('Average Return')\n",
    "plt.axhline(time_limit / 2, color='red', label='max reward')\n",
    "plt.legend()\n",
    "plt.xlabel('Step')"
   ]
  },
  {
   "cell_type": "markdown",
   "metadata": {},
   "source": [
    "# Training on random policy"
   ]
  },
  {
   "cell_type": "code",
   "execution_count": 25,
   "metadata": {},
   "outputs": [],
   "source": [
    "random_policy = random_tf_policy.RandomTFPolicy(\n",
    "    train_env.time_step_spec(),\n",
    "    train_env.action_spec())"
   ]
  },
  {
   "cell_type": "code",
   "execution_count": 26,
   "metadata": {},
   "outputs": [],
   "source": [
    "curiosity_replay_buffer.clear()\n",
    "collect_episode(eval_env, random_policy, 500, [curiosity_replay_buffer])\n",
    "xs, ys = buffer_to_dataset(curiosity_replay_buffer, v_n)"
   ]
  },
  {
   "cell_type": "code",
   "execution_count": 27,
   "metadata": {},
   "outputs": [
    {
     "data": {
      "image/png": "[encoded data removed]",
      "text/plain": [
       "<Figure size 432x288 with 1 Axes>"
      ]
     },
     "metadata": {
      "needs_background": "light"
     },
     "output_type": "display_data"
    }
   ],
   "source": [
    "p_ord = 1\n",
    "\n",
    "W = LinearStateTransitionModel(o=v_k, a=v_n)\n",
    "\n",
    "\n",
    "# fitting on observational data...\n",
    "W.fit(xs=xs, ys=ys, epochs=500)\n",
    "W.plot_loss()"
   ]
  },
  {
   "cell_type": "code",
   "execution_count": 28,
   "metadata": {},
   "outputs": [
    {
     "data": {
      "text/plain": [
       "<matplotlib.axes._subplots.AxesSubplot at 0x7f24f032f910>"
      ]
     },
     "execution_count": 28,
     "metadata": {},
     "output_type": "execute_result"
    },
    {
     "data": {
      "image/png": "[encoded data removed]",
      "text/plain": [
       "<Figure size 432x288 with 2 Axes>"
      ]
     },
     "metadata": {
      "needs_background": "light"
     },
     "output_type": "display_data"
    }
   ],
   "source": [
    "sns.heatmap(W.get_Wo_Wa()[0])"
   ]
  },
  {
   "cell_type": "code",
   "execution_count": 29,
   "metadata": {},
   "outputs": [
    {
     "data": {
      "application/vnd.jupyter.widget-view+json": {
       "model_id": "6d5f8e9bb4854ae087e8cd648fd77d07",
       "version_major": 2,
       "version_minor": 0
      },
      "text/plain": [
       "HBox(children=(FloatProgress(value=0.0, max=5000.0), HTML(value='')))"
      ]
     },
     "metadata": {},
     "output_type": "display_data"
    },
    {
     "name": "stdout",
     "output_type": "stream",
     "text": [
      "\n"
     ]
    }
   ],
   "source": [
    "p_ord = 1\n",
    "\n",
    "sml = SparseModelLearner(o=v_k, a=v_n, f=v_n,\n",
    "                         p_ord=p_ord, eps_dinv=1,\n",
    "                         d_init_randomness=5)\n",
    "\n",
    "# setting the new observation transition matrix\n",
    "sml.set_WoWa(*W.get_Wo_Wa())\n",
    "\n",
    "# fitting the SML model\n",
    "sml.fit(epochs=5000)"
   ]
  },
  {
   "cell_type": "code",
   "execution_count": 30,
   "metadata": {},
   "outputs": [
    {
     "data": {
      "image/png": "[encoded data removed]",
      "text/plain": [
       "<Figure size 864x360 with 8 Axes>"
      ]
     },
     "metadata": {},
     "output_type": "display_data"
    }
   ],
   "source": [
    "sml.process_results()"
   ]
  },
  {
   "cell_type": "code",
   "execution_count": 22,
   "metadata": {},
   "outputs": [],
   "source": [
    "E = train_env._env.envs[0]._env._env.env.e.model.weights[0].numpy().T"
   ]
  },
  {
   "cell_type": "code",
   "execution_count": 31,
   "metadata": {},
   "outputs": [
    {
     "data": {
      "text/plain": [
       "<matplotlib.axes._subplots.AxesSubplot at 0x7f24e878af50>"
      ]
     },
     "execution_count": 31,
     "metadata": {},
     "output_type": "execute_result"
    },
    {
     "data": {
      "image/png": "[encoded data removed]",
      "text/plain": [
       "<Figure size 432x288 with 2 Axes>"
      ]
     },
     "metadata": {
      "needs_background": "light"
     },
     "output_type": "display_data"
    }
   ],
   "source": [
    "cm = sns.diverging_palette(0, 129, l=70, s=100, n=20, center=\"dark\")\n",
    "\n",
    "sns.heatmap(sml.D.numpy() @ E, vmin=-1, vmax=1, cmap=cm)"
   ]
  },
  {
   "cell_type": "code",
   "execution_count": 24,
   "metadata": {},
   "outputs": [
    {
     "data": {
      "text/plain": [
       "<matplotlib.axes._subplots.AxesSubplot at 0x7f24f052a610>"
      ]
     },
     "execution_count": 24,
     "metadata": {},
     "output_type": "execute_result"
    },
    {
     "data": {
      "image/png": "[encoded data removed]",
      "text/plain": [
       "<Figure size 432x288 with 2 Axes>"
      ]
     },
     "metadata": {
      "needs_background": "light"
     },
     "output_type": "display_data"
    }
   ],
   "source": [
    "sns.heatmap(np.linalg.pinv(sml.D.numpy()))"
   ]
  },
  {
   "cell_type": "code",
   "execution_count": 112,
   "metadata": {},
   "outputs": [
    {
     "data": {
      "text/plain": [
       "<matplotlib.axes._subplots.AxesSubplot at 0x7fa8164c23d0>"
      ]
     },
     "execution_count": 112,
     "metadata": {},
     "output_type": "execute_result"
    },
    {
     "data": {
      "image/png": "[encoded data removed]",
      "text/plain": [
       "<Figure size 432x288 with 2 Axes>"
      ]
     },
     "metadata": {
      "needs_background": "light"
     },
     "output_type": "display_data"
    }
   ],
   "source": [
    "sns.heatmap(sml.Ma, vmin=-1, vmax=1)"
   ]
  },
  {
   "cell_type": "code",
   "execution_count": 113,
   "metadata": {},
   "outputs": [
    {
     "data": {
      "text/plain": [
       "(10000, 10)"
      ]
     },
     "execution_count": 113,
     "metadata": {},
     "output_type": "execute_result"
    }
   ],
   "source": [
    "xs.shape"
   ]
  },
  {
   "cell_type": "code",
   "execution_count": 114,
   "metadata": {},
   "outputs": [
    {
     "data": {
      "text/plain": [
       "<tf_agents.environments.tf_py_environment.TFPyEnvironment at 0x7fa91c04c850>"
      ]
     },
     "execution_count": 114,
     "metadata": {},
     "output_type": "execute_result"
    }
   ],
   "source": [
    "train_env"
   ]
  },
  {
   "cell_type": "code",
   "execution_count": 115,
   "metadata": {},
   "outputs": [
    {
     "data": {
      "text/plain": [
       "<function tensorflow.python.keras.activations.linear(x)>"
      ]
     },
     "execution_count": 115,
     "metadata": {},
     "output_type": "execute_result"
    }
   ],
   "source": [
    "train_env._env.envs[0]._env._env.env.e.model.layers[0].activation"
   ]
  },
  {
   "cell_type": "code",
   "execution_count": 116,
   "metadata": {},
   "outputs": [
    {
     "data": {
      "text/plain": [
       "(array([1991.,    0., 1936.,    0.,    0., 2060.,    0., 1975.,    0.,\n",
       "        2038.]),\n",
       " array([0. , 0.4, 0.8, 1.2, 1.6, 2. , 2.4, 2.8, 3.2, 3.6, 4. ]),\n",
       " <a list of 10 Patch objects>)"
      ]
     },
     "execution_count": 116,
     "metadata": {},
     "output_type": "execute_result"
    },
    {
     "data": {
      "image/png": "[encoded data removed]",
      "text/plain": [
       "<Figure size 432x288 with 1 Axes>"
      ]
     },
     "metadata": {
      "needs_background": "light"
     },
     "output_type": "display_data"
    }
   ],
   "source": [
    "plt.hist(np.argmax(xs[:,v_n:], axis=1))"
   ]
  },
  {
   "cell_type": "code",
   "execution_count": 41,
   "metadata": {},
   "outputs": [],
   "source": []
  },
  {
   "cell_type": "code",
   "execution_count": 112,
   "metadata": {},
   "outputs": [
    {
     "data": {
      "text/plain": [
       "(5, 5)"
      ]
     },
     "execution_count": 112,
     "metadata": {},
     "output_type": "execute_result"
    }
   ],
   "source": []
  },
  {
   "cell_type": "code",
   "execution_count": 116,
   "metadata": {},
   "outputs": [],
   "source": [
    "def graph_for_matrices(Mf, Ma, threshold=1e-2):\n",
    "    \"\"\"Visualize matrices as a graph.\"\"\"\n",
    "    # dimension\n",
    "    v_n = sml.Ma.shape[0]\n",
    "\n",
    "    ps = Digraph(name='Causal model', engine='neato')#,\n",
    "                 #node_attr={'shape': 'plaintext'})\n",
    "\n",
    "    # adding features nodes\n",
    "    for f in range(v_n):\n",
    "        ps.node('f%02d' % f, color='green')\n",
    "        ps.node(\"f'%02d\" % f, color='blue')\n",
    "\n",
    "    # adding action edges\n",
    "    for a in range(v_n):\n",
    "        ps.node('a%02d' % a, color='red')\n",
    "\n",
    "    # adding edges\n",
    "    edges = 0\n",
    "\n",
    "    for f1, a in zip(*np.where(np.abs(sml.Ma) > threshold)):\n",
    "        ps.edge('a%02d' % a, \"f'%02d\" % f1)\n",
    "        edges += 1\n",
    "\n",
    "    for f1, f in zip(*np.where(np.abs(sml.Mf) > threshold)):\n",
    "        ps.edge('f%02d' % f, \"f'%02d\" % f1)\n",
    "        edges += 1\n",
    "    \n",
    "    max_edges = v_n ** 2 * 2\n",
    "    print(\"Number of edges: %d out of %d, sparsity %.2f%%\" % \\\n",
    "          (edges, max_edges, 100 - 100. * edges / max_edges))\n",
    "        \n",
    "    return ps"
   ]
  },
  {
   "cell_type": "code",
   "execution_count": 119,
   "metadata": {},
   "outputs": [
    {
     "name": "stdout",
     "output_type": "stream",
     "text": [
      "Number of edges: 12 out of 50, sparsity 76.00%\n"
     ]
    },
    {
     "data": {
      "image/svg+xml": [
       "<?xml version=\"1.0\" encoding=\"UTF-8\" standalone=\"no\"?>\n",
       "<!DOCTYPE svg PUBLIC \"-//W3C//DTD SVG 1.1//EN\"\n",
       " \"http://www.w3.org/Graphics/SVG/1.1/DTD/svg11.dtd\">\n",
       "<!-- Generated by graphviz version 2.40.1 (20161225.0304)\n",
       " -->\n",
       "<!-- Title: Causal model Pages: 1 -->\n",
       "<svg width=\"432pt\" height=\"403pt\"\n",
       " viewBox=\"0.00 0.00 431.68 403.48\" xmlns=\"http://www.w3.org/2000/svg\" xmlns:xlink=\"http://www.w3.org/1999/xlink\">\n",
       "<g id=\"graph0\" class=\"graph\" transform=\"scale(1 1) rotate(0) translate(4 399.4775)\">\n",
       "<title>Causal model</title>\n",
       "<polygon fill=\"#ffffff\" stroke=\"transparent\" points=\"-4,4 -4,-399.4775 427.6823,-399.4775 427.6823,4 -4,4\"/>\n",
       "<!-- f00 -->\n",
       "<g id=\"node1\" class=\"node\">\n",
       "<title>f00</title>\n",
       "<ellipse fill=\"none\" stroke=\"#00ff00\" cx=\"396.6823\" cy=\"-253.0699\" rx=\"27\" ry=\"18\"/>\n",
       "<text text-anchor=\"middle\" x=\"396.6823\" y=\"-249.3699\" font-family=\"Times,serif\" font-size=\"14.00\" fill=\"#000000\">f00</text>\n",
       "</g>\n",
       "<!-- f&#39;00 -->\n",
       "<g id=\"node2\" class=\"node\">\n",
       "<title>f&#39;00</title>\n",
       "<ellipse fill=\"none\" stroke=\"#0000ff\" cx=\"346.3365\" cy=\"-200.1557\" rx=\"28.6953\" ry=\"18\"/>\n",
       "<text text-anchor=\"middle\" x=\"346.3365\" y=\"-196.4557\" font-family=\"Times,serif\" font-size=\"14.00\" fill=\"#000000\">f&#39;00</text>\n",
       "</g>\n",
       "<!-- f00&#45;&gt;f&#39;00 -->\n",
       "<g id=\"edge8\" class=\"edge\">\n",
       "<title>f00&#45;&gt;f&#39;00</title>\n",
       "<path fill=\"none\" stroke=\"#000000\" d=\"M382.1202,-237.7649C377.7749,-233.198 372.9134,-228.0884 368.2083,-223.1433\"/>\n",
       "<polygon fill=\"#000000\" stroke=\"#000000\" points=\"370.469,-220.4417 361.0403,-215.6096 365.3977,-225.2669 370.469,-220.4417\"/>\n",
       "</g>\n",
       "<!-- f01 -->\n",
       "<g id=\"node3\" class=\"node\">\n",
       "<title>f01</title>\n",
       "<ellipse fill=\"none\" stroke=\"#00ff00\" cx=\"157\" cy=\"-377.4775\" rx=\"27\" ry=\"18\"/>\n",
       "<text text-anchor=\"middle\" x=\"157\" y=\"-373.7775\" font-family=\"Times,serif\" font-size=\"14.00\" fill=\"#000000\">f01</text>\n",
       "</g>\n",
       "<!-- f&#39;01 -->\n",
       "<g id=\"node4\" class=\"node\">\n",
       "<title>f&#39;01</title>\n",
       "<ellipse fill=\"none\" stroke=\"#0000ff\" cx=\"201.0206\" cy=\"-320.1545\" rx=\"28.6953\" ry=\"18\"/>\n",
       "<text text-anchor=\"middle\" x=\"201.0206\" y=\"-316.4545\" font-family=\"Times,serif\" font-size=\"14.00\" fill=\"#000000\">f&#39;01</text>\n",
       "</g>\n",
       "<!-- f01&#45;&gt;f&#39;01 -->\n",
       "<g id=\"edge9\" class=\"edge\">\n",
       "<title>f01&#45;&gt;f&#39;01</title>\n",
       "<path fill=\"none\" stroke=\"#000000\" d=\"M169.4968,-361.2044C173.4589,-356.0449 177.9304,-350.2223 182.2338,-344.6184\"/>\n",
       "<polygon fill=\"#000000\" stroke=\"#000000\" points=\"185.0249,-346.7304 188.3397,-336.6674 179.473,-342.4669 185.0249,-346.7304\"/>\n",
       "</g>\n",
       "<!-- f02 -->\n",
       "<g id=\"node5\" class=\"node\">\n",
       "<title>f02</title>\n",
       "<ellipse fill=\"none\" stroke=\"#00ff00\" cx=\"79\" cy=\"-299.4775\" rx=\"27\" ry=\"18\"/>\n",
       "<text text-anchor=\"middle\" x=\"79\" y=\"-295.7775\" font-family=\"Times,serif\" font-size=\"14.00\" fill=\"#000000\">f02</text>\n",
       "</g>\n",
       "<!-- f&#39;02 -->\n",
       "<g id=\"node6\" class=\"node\">\n",
       "<title>f&#39;02</title>\n",
       "<ellipse fill=\"none\" stroke=\"#0000ff\" cx=\"123.0206\" cy=\"-242.1545\" rx=\"28.6953\" ry=\"18\"/>\n",
       "<text text-anchor=\"middle\" x=\"123.0206\" y=\"-238.4545\" font-family=\"Times,serif\" font-size=\"14.00\" fill=\"#000000\">f&#39;02</text>\n",
       "</g>\n",
       "<!-- f02&#45;&gt;f&#39;02 -->\n",
       "<g id=\"edge10\" class=\"edge\">\n",
       "<title>f02&#45;&gt;f&#39;02</title>\n",
       "<path fill=\"none\" stroke=\"#000000\" d=\"M91.4968,-283.2044C95.4589,-278.0449 99.9304,-272.2223 104.2338,-266.6184\"/>\n",
       "<polygon fill=\"#000000\" stroke=\"#000000\" points=\"107.0249,-268.7304 110.3397,-258.6674 101.473,-264.4669 107.0249,-268.7304\"/>\n",
       "</g>\n",
       "<!-- f03 -->\n",
       "<g id=\"node7\" class=\"node\">\n",
       "<title>f03</title>\n",
       "<ellipse fill=\"none\" stroke=\"#00ff00\" cx=\"277.5534\" cy=\"-18\" rx=\"27\" ry=\"18\"/>\n",
       "<text text-anchor=\"middle\" x=\"277.5534\" y=\"-14.3\" font-family=\"Times,serif\" font-size=\"14.00\" fill=\"#000000\">f03</text>\n",
       "</g>\n",
       "<!-- f&#39;03 -->\n",
       "<g id=\"node8\" class=\"node\">\n",
       "<title>f&#39;03</title>\n",
       "<ellipse fill=\"none\" stroke=\"#0000ff\" cx=\"240.3635\" cy=\"-89.8259\" rx=\"28.6953\" ry=\"18\"/>\n",
       "<text text-anchor=\"middle\" x=\"240.3635\" y=\"-86.1259\" font-family=\"Times,serif\" font-size=\"14.00\" fill=\"#000000\">f&#39;03</text>\n",
       "</g>\n",
       "<!-- f03&#45;&gt;f&#39;03 -->\n",
       "<g id=\"edge11\" class=\"edge\">\n",
       "<title>f03&#45;&gt;f&#39;03</title>\n",
       "<path fill=\"none\" stroke=\"#000000\" d=\"M268.7399,-35.0217C264.3581,-43.4845 258.9632,-53.9038 254.0582,-63.377\"/>\n",
       "<polygon fill=\"#000000\" stroke=\"#000000\" points=\"250.862,-61.9378 249.3721,-72.4274 257.0782,-65.1565 250.862,-61.9378\"/>\n",
       "</g>\n",
       "<!-- f04 -->\n",
       "<g id=\"node9\" class=\"node\">\n",
       "<title>f04</title>\n",
       "<ellipse fill=\"none\" stroke=\"#00ff00\" cx=\"27\" cy=\"-141.3447\" rx=\"27\" ry=\"18\"/>\n",
       "<text text-anchor=\"middle\" x=\"27\" y=\"-137.6447\" font-family=\"Times,serif\" font-size=\"14.00\" fill=\"#000000\">f04</text>\n",
       "</g>\n",
       "<!-- f&#39;04 -->\n",
       "<g id=\"node10\" class=\"node\">\n",
       "<title>f&#39;04</title>\n",
       "<ellipse fill=\"none\" stroke=\"#0000ff\" cx=\"82.8171\" cy=\"-85.4419\" rx=\"28.6953\" ry=\"18\"/>\n",
       "<text text-anchor=\"middle\" x=\"82.8171\" y=\"-81.7419\" font-family=\"Times,serif\" font-size=\"14.00\" fill=\"#000000\">f&#39;04</text>\n",
       "</g>\n",
       "<!-- f04&#45;&gt;f&#39;04 -->\n",
       "<g id=\"edge12\" class=\"edge\">\n",
       "<title>f04&#45;&gt;f&#39;04</title>\n",
       "<path fill=\"none\" stroke=\"#000000\" d=\"M42.2523,-126.069C47.79,-120.5228 54.1711,-114.1318 60.2087,-108.085\"/>\n",
       "<polygon fill=\"#000000\" stroke=\"#000000\" points=\"62.9944,-110.2486 67.5832,-100.6991 58.0408,-105.3027 62.9944,-110.2486\"/>\n",
       "</g>\n",
       "<!-- a00 -->\n",
       "<g id=\"node11\" class=\"node\">\n",
       "<title>a00</title>\n",
       "<ellipse fill=\"none\" stroke=\"#ff0000\" cx=\"160.9876\" cy=\"-91.8166\" rx=\"27.8951\" ry=\"18\"/>\n",
       "<text text-anchor=\"middle\" x=\"160.9876\" y=\"-88.1166\" font-family=\"Times,serif\" font-size=\"14.00\" fill=\"#000000\">a00</text>\n",
       "</g>\n",
       "<!-- a00&#45;&gt;f&#39;03 -->\n",
       "<g id=\"edge4\" class=\"edge\">\n",
       "<title>a00&#45;&gt;f&#39;03</title>\n",
       "<path fill=\"none\" stroke=\"#000000\" d=\"M189.1961,-91.1091C193.1926,-91.0089 197.359,-90.9044 201.5132,-90.8002\"/>\n",
       "<polygon fill=\"#000000\" stroke=\"#000000\" points=\"201.8014,-94.2942 211.7105,-90.5445 201.6259,-87.2964 201.8014,-94.2942\"/>\n",
       "</g>\n",
       "<!-- a00&#45;&gt;f&#39;04 -->\n",
       "<g id=\"edge6\" class=\"edge\">\n",
       "<title>a00&#45;&gt;f&#39;04</title>\n",
       "<path fill=\"none\" stroke=\"#000000\" d=\"M133.2075,-89.5512C129.4307,-89.2432 125.4999,-88.9226 121.5735,-88.6024\"/>\n",
       "<polygon fill=\"#000000\" stroke=\"#000000\" points=\"121.5507,-85.0891 111.2993,-87.7646 120.9817,-92.0659 121.5507,-85.0891\"/>\n",
       "</g>\n",
       "<!-- a01 -->\n",
       "<g id=\"node12\" class=\"node\">\n",
       "<title>a01</title>\n",
       "<ellipse fill=\"none\" stroke=\"#ff0000\" cx=\"225.1251\" cy=\"-252\" rx=\"27.8951\" ry=\"18\"/>\n",
       "<text text-anchor=\"middle\" x=\"225.1251\" y=\"-248.3\" font-family=\"Times,serif\" font-size=\"14.00\" fill=\"#000000\">a01</text>\n",
       "</g>\n",
       "<!-- a01&#45;&gt;f&#39;01 -->\n",
       "<g id=\"edge2\" class=\"edge\">\n",
       "<title>a01&#45;&gt;f&#39;01</title>\n",
       "<path fill=\"none\" stroke=\"#000000\" d=\"M218.9175,-269.5515C216.4067,-276.6508 213.4493,-285.0128 210.6696,-292.8721\"/>\n",
       "<polygon fill=\"#000000\" stroke=\"#000000\" points=\"207.3255,-291.8308 207.2908,-302.4256 213.9249,-294.1649 207.3255,-291.8308\"/>\n",
       "</g>\n",
       "<!-- a02 -->\n",
       "<g id=\"node13\" class=\"node\">\n",
       "<title>a02</title>\n",
       "<ellipse fill=\"none\" stroke=\"#ff0000\" cx=\"291.4766\" cy=\"-149.8621\" rx=\"27.8951\" ry=\"18\"/>\n",
       "<text text-anchor=\"middle\" x=\"291.4766\" y=\"-146.1621\" font-family=\"Times,serif\" font-size=\"14.00\" fill=\"#000000\">a02</text>\n",
       "</g>\n",
       "<!-- a02&#45;&gt;f&#39;00 -->\n",
       "<g id=\"edge1\" class=\"edge\">\n",
       "<title>a02&#45;&gt;f&#39;00</title>\n",
       "<path fill=\"none\" stroke=\"#000000\" d=\"M307.6396,-164.6798C312.2857,-168.9392 317.4538,-173.6771 322.4611,-178.2676\"/>\n",
       "<polygon fill=\"#000000\" stroke=\"#000000\" points=\"320.363,-181.0923 330.0994,-185.2701 325.0933,-175.9325 320.363,-181.0923\"/>\n",
       "</g>\n",
       "<!-- a02&#45;&gt;f&#39;03 -->\n",
       "<g id=\"edge5\" class=\"edge\">\n",
       "<title>a02&#45;&gt;f&#39;03</title>\n",
       "<path fill=\"none\" stroke=\"#000000\" d=\"M277.7792,-133.7735C272.5082,-127.5823 266.3724,-120.3753 260.6128,-113.6102\"/>\n",
       "<polygon fill=\"#000000\" stroke=\"#000000\" points=\"263.2463,-111.3043 254.0987,-105.9589 257.9163,-115.8421 263.2463,-111.3043\"/>\n",
       "</g>\n",
       "<!-- a03 -->\n",
       "<g id=\"node14\" class=\"node\">\n",
       "<title>a03</title>\n",
       "<ellipse fill=\"none\" stroke=\"#ff0000\" cx=\"147.1251\" cy=\"-174\" rx=\"27.8951\" ry=\"18\"/>\n",
       "<text text-anchor=\"middle\" x=\"147.1251\" y=\"-170.3\" font-family=\"Times,serif\" font-size=\"14.00\" fill=\"#000000\">a03</text>\n",
       "</g>\n",
       "<!-- a03&#45;&gt;f&#39;02 -->\n",
       "<g id=\"edge3\" class=\"edge\">\n",
       "<title>a03&#45;&gt;f&#39;02</title>\n",
       "<path fill=\"none\" stroke=\"#000000\" d=\"M140.9175,-191.5515C138.4067,-198.6508 135.4493,-207.0128 132.6696,-214.8721\"/>\n",
       "<polygon fill=\"#000000\" stroke=\"#000000\" points=\"129.3255,-213.8308 129.2908,-224.4256 135.9249,-216.1649 129.3255,-213.8308\"/>\n",
       "</g>\n",
       "<!-- a04 -->\n",
       "<g id=\"node15\" class=\"node\">\n",
       "<title>a04</title>\n",
       "<ellipse fill=\"none\" stroke=\"#ff0000\" cx=\"39.3401\" cy=\"-19.3536\" rx=\"27.8951\" ry=\"18\"/>\n",
       "<text text-anchor=\"middle\" x=\"39.3401\" y=\"-15.6536\" font-family=\"Times,serif\" font-size=\"14.00\" fill=\"#000000\">a04</text>\n",
       "</g>\n",
       "<!-- a04&#45;&gt;f&#39;04 -->\n",
       "<g id=\"edge7\" class=\"edge\">\n",
       "<title>a04&#45;&gt;f&#39;04</title>\n",
       "<path fill=\"none\" stroke=\"#000000\" d=\"M50.3112,-36.0305C55.1143,-43.3316 60.8558,-52.059 66.1676,-60.1335\"/>\n",
       "<polygon fill=\"#000000\" stroke=\"#000000\" points=\"63.2783,-62.1098 71.6983,-68.5405 69.1263,-58.2626 63.2783,-62.1098\"/>\n",
       "</g>\n",
       "</g>\n",
       "</svg>\n"
      ],
      "text/plain": [
       "<graphviz.dot.Digraph at 0x7f24e8637410>"
      ]
     },
     "execution_count": 119,
     "metadata": {},
     "output_type": "execute_result"
    }
   ],
   "source": [
    "graph_for_matrices(sml.Mf, sml.Ma)"
   ]
  },
  {
   "cell_type": "code",
   "execution_count": null,
   "metadata": {},
   "outputs": [],
   "source": []
  }
 ],
 "metadata": {
  "kernelspec": {
   "display_name": "Python 3",
   "language": "python",
   "name": "python3"
  },
  "language_info": {
   "codemirror_mode": {
    "name": "ipython",
    "version": 3
   },
   "file_extension": ".py",
   "mimetype": "text/x-python",
   "name": "python",
   "nbconvert_exporter": "python",
   "pygments_lexer": "ipython3",
   "version": "3.7.7"
  }
 },
 "nbformat": 4,
 "nbformat_minor": 4
}
