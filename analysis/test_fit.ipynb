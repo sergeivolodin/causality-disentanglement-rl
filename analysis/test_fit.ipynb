{
 "cells": [
  {
   "cell_type": "code",
   "execution_count": 1,
   "metadata": {},
   "outputs": [],
   "source": [
    "import torch\n",
    "import numpy as np\n",
    "import cloudpickle as pickle\n",
    "import os\n",
    "from tqdm.auto import tqdm\n",
    "import seaborn as sns\n",
    "os.environ['CUDA_VISIBLE_DEVICES'] = \"-1\""
   ]
  },
  {
   "cell_type": "code",
   "execution_count": 2,
   "metadata": {},
   "outputs": [],
   "source": [
    "ck = '/home/sergei/ray_results/ve5_test_fit_single_sample/main_fcn_0e65e_00000_0_2020-12-06_23-40-35/checkpoint_0/checkpoint'"
   ]
  },
  {
   "cell_type": "code",
   "execution_count": 36,
   "metadata": {},
   "outputs": [
    {
     "name": "stdout",
     "output_type": "stream",
     "text": [
      "Make environment VectorIncrement-v0 None {}\n",
      "Using device cpu\n"
     ]
    }
   ],
   "source": [
    "learner = pickle.load(open(ck, 'rb'))"
   ]
  },
  {
   "cell_type": "code",
   "execution_count": 37,
   "metadata": {},
   "outputs": [],
   "source": [
    "#for i in tqdm(range(1000)):\n",
    "#    _ = learner._epoch()"
   ]
  },
  {
   "cell_type": "code",
   "execution_count": 110,
   "metadata": {},
   "outputs": [
    {
     "data": {
      "image/png": "[encoded data removed]",
      "text/plain": [
       "<Figure size 720x360 with 4 Axes>"
      ]
     },
     "metadata": {},
     "output_type": "display_data"
    }
   ],
   "source": [
    "_ = learner.visualize_model()"
   ]
  },
  {
   "cell_type": "code",
   "execution_count": 143,
   "metadata": {},
   "outputs": [],
   "source": []
  },
  {
   "cell_type": "code",
   "execution_count": 310,
   "metadata": {},
   "outputs": [
    {
     "name": "stdout",
     "output_type": "stream",
     "text": [
      "Make environment VectorIncrement-v0 None {}\n",
      "Using device cpu\n"
     ]
    }
   ],
   "source": [
    "# obtaining data\n",
    "learner = pickle.load(open(ck, 'rb'))\n",
    "mse = torch.nn.MSELoss()"
   ]
  },
  {
   "cell_type": "code",
   "execution_count": 311,
   "metadata": {},
   "outputs": [],
   "source": [
    "opt = torch.optim.Adam(learner.model.parameters(), lr=1e-2)"
   ]
  },
  {
   "cell_type": "code",
   "execution_count": 312,
   "metadata": {},
   "outputs": [],
   "source": [
    "learner.collect_steps()"
   ]
  },
  {
   "cell_type": "code",
   "execution_count": 315,
   "metadata": {},
   "outputs": [
    {
     "data": {
      "application/vnd.jupyter.widget-view+json": {
       "model_id": "c927f628554b4d4687639a1dccbd2839",
       "version_major": 2,
       "version_minor": 0
      },
      "text/plain": [
       "HBox(children=(HTML(value=''), FloatProgress(value=0.0, max=1000.0), HTML(value='')))"
      ]
     },
     "metadata": {},
     "output_type": "display_data"
    },
    {
     "name": "stdout",
     "output_type": "stream",
     "text": [
      "\n"
     ]
    },
    {
     "data": {
      "text/plain": [
       "tensor(2.8061e-07, grad_fn=<PowBackward0>)"
      ]
     },
     "execution_count": 315,
     "metadata": {},
     "output_type": "execute_result"
    }
   ],
   "source": [
    "c = learner._context\n",
    "\n",
    "\n",
    "for _ in tqdm(range(1000)):\n",
    "#     learner.collect_steps()\n",
    "    opt.zero_grad()\n",
    "    loss = learner.config.get('losses')['fit']['fcn'](**c) ** 2\n",
    "#     loss = mse(learner.model(c['obs_x'], c['action_x']), c['obs_y'])\n",
    "#     loss = mse(learner.model(learner.decoder(c['obs_x']), c['action_x']), learner.decoder(c['obs_y']))\n",
    "    loss.backward()\n",
    "    opt.step()\n",
    "loss ** 0.5"
   ]
  },
  {
   "cell_type": "code",
   "execution_count": 296,
   "metadata": {},
   "outputs": [
    {
     "name": "stdout",
     "output_type": "stream",
     "text": [
      "tensor(2.6059e-07, grad_fn=<PowBackward0>)\n",
      "tensor(2.6059e-07, grad_fn=<PowBackward0>)\n"
     ]
    }
   ],
   "source": [
    "learner.collect_steps()\n",
    "c = learner._context\n",
    "print(mse(learner.model(c['obs_x'], c['action_x']), c['obs_y']) ** 0.5)\n",
    "print(learner.config.get('losses')['fit']['fcn'](**c))"
   ]
  },
  {
   "cell_type": "code",
   "execution_count": null,
   "metadata": {},
   "outputs": [],
   "source": []
  },
  {
   "cell_type": "code",
   "execution_count": 274,
   "metadata": {},
   "outputs": [
    {
     "data": {
      "text/plain": [
       "<function sparse_causal_model_learner_rl.loss.losses.fit_loss(obs_x, obs_y, action_x, decoder, model, **kwargs)>"
      ]
     },
     "execution_count": 274,
     "metadata": {},
     "output_type": "execute_result"
    }
   ],
   "source": [
    "learner.config.get('losses')['fit']['fcn']"
   ]
  },
  {
   "cell_type": "code",
   "execution_count": 217,
   "metadata": {},
   "outputs": [],
   "source": [
    "cx = c['obs_x'] / 0.2\n",
    "cy = c['obs_y'] / 0.2\n",
    "ax = c['action_x']"
   ]
  },
  {
   "cell_type": "code",
   "execution_count": 8,
   "metadata": {},
   "outputs": [
    {
     "ename": "RuntimeError",
     "evalue": "operation does not have an identity.",
     "output_type": "error",
     "traceback": [
      "\u001b[0;31m---------------------------------------------------------------------------\u001b[0m",
      "\u001b[0;31mRuntimeError\u001b[0m                              Traceback (most recent call last)",
      "\u001b[0;32m<ipython-input-8-24b4e8d7e4e7>\u001b[0m in \u001b[0;36m<module>\u001b[0;34m\u001b[0m\n\u001b[0;32m----> 1\u001b[0;31m \u001b[0mtorch\u001b[0m\u001b[0;34m.\u001b[0m\u001b[0mmax\u001b[0m\u001b[0;34m(\u001b[0m\u001b[0mtorch\u001b[0m\u001b[0;34m.\u001b[0m\u001b[0mabs\u001b[0m\u001b[0;34m(\u001b[0m\u001b[0mcx\u001b[0m \u001b[0;34m+\u001b[0m \u001b[0max\u001b[0m \u001b[0;34m-\u001b[0m \u001b[0mcy\u001b[0m\u001b[0;34m)\u001b[0m\u001b[0;34m)\u001b[0m\u001b[0;34m\u001b[0m\u001b[0m\n\u001b[0m",
      "\u001b[0;31mRuntimeError\u001b[0m: operation does not have an identity."
     ]
    }
   ],
   "source": [
    "torch.max(torch.abs(cx + ax - cy))"
   ]
  },
  {
   "cell_type": "code",
   "execution_count": 49,
   "metadata": {},
   "outputs": [
    {
     "data": {
      "text/plain": [
       "<All keys matched successfully>"
      ]
     },
     "execution_count": 49,
     "metadata": {},
     "output_type": "execute_result"
    }
   ],
   "source": [
    "learner.model.load_state_dict(dict(learner.model.state_dict()))"
   ]
  },
  {
   "cell_type": "code",
   "execution_count": 71,
   "metadata": {},
   "outputs": [],
   "source": []
  },
  {
   "cell_type": "code",
   "execution_count": 67,
   "metadata": {},
   "outputs": [
    {
     "data": {
      "text/plain": [
       "<All keys matched successfully>"
      ]
     },
     "execution_count": 67,
     "metadata": {},
     "output_type": "execute_result"
    }
   ],
   "source": [
    "learner.model.load_state_dict({'fc_features.weight': torch.eye(5), 'fc_action.weight': torch.eye(5) * 0.2})"
   ]
  },
  {
   "cell_type": "code",
   "execution_count": 68,
   "metadata": {},
   "outputs": [
    {
     "data": {
      "text/plain": [
       "tensor(1.8545e-08, grad_fn=<PowBackward0>)"
      ]
     },
     "execution_count": 68,
     "metadata": {},
     "output_type": "execute_result"
    }
   ],
   "source": []
  },
  {
   "cell_type": "code",
   "execution_count": 316,
   "metadata": {},
   "outputs": [
    {
     "data": {
      "text/plain": [
       "OrderedDict([('fc_features.weight',\n",
       "              tensor([[ 1.0000e+00, -3.7326e-09, -4.1756e-09, -5.3866e-09, -1.4141e-08],\n",
       "                      [ 1.3583e-07,  1.0000e+00,  3.6559e-07,  2.5611e-07,  2.7303e-07],\n",
       "                      [ 2.9464e-07,  1.9827e-07,  1.0000e+00,  1.0768e-07,  6.8592e-08],\n",
       "                      [ 2.0703e-07,  1.5340e-07,  8.6079e-08,  1.0000e+00,  3.2113e-07],\n",
       "                      [-2.0347e-09,  7.7265e-09,  7.9805e-09,  1.7971e-08,  1.0000e+00]])),\n",
       "             ('fc_action.weight',\n",
       "              tensor([[ 2.0000e-01, -8.0575e-09,  5.1624e-09,  5.1784e-09,  3.6488e-09],\n",
       "                      [ 9.0417e-08,  2.0000e-01,  1.7785e-07,  1.5113e-07,  1.1244e-07],\n",
       "                      [ 1.5305e-07,  1.1921e-07,  2.0000e-01,  1.0467e-07,  1.3423e-07],\n",
       "                      [ 1.7660e-07,  1.7317e-07,  1.7141e-07,  2.0000e-01,  1.7802e-07],\n",
       "                      [ 9.0525e-09,  7.7374e-09,  9.5596e-09,  1.2344e-08,  2.0000e-01]]))])"
      ]
     },
     "execution_count": 316,
     "metadata": {},
     "output_type": "execute_result"
    }
   ],
   "source": [
    "learner.model.state_dict()"
   ]
  },
  {
   "cell_type": "code",
   "execution_count": 322,
   "metadata": {},
   "outputs": [
    {
     "data": {
      "text/plain": [
       "[Parameter containing:\n",
       " tensor([[ 1.0000e+00, -3.7326e-09, -4.1756e-09, -5.3866e-09, -1.4141e-08],\n",
       "         [ 1.3583e-07,  1.0000e+00,  3.6559e-07,  2.5611e-07,  2.7303e-07],\n",
       "         [ 2.9464e-07,  1.9827e-07,  1.0000e+00,  1.0768e-07,  6.8592e-08],\n",
       "         [ 2.0703e-07,  1.5340e-07,  8.6079e-08,  1.0000e+00,  3.2113e-07],\n",
       "         [-2.0347e-09,  7.7265e-09,  7.9805e-09,  1.7971e-08,  1.0000e+00]],\n",
       "        requires_grad=True),\n",
       " Parameter containing:\n",
       " tensor([[ 2.0000e-01, -8.0575e-09,  5.1624e-09,  5.1784e-09,  3.6488e-09],\n",
       "         [ 9.0417e-08,  2.0000e-01,  1.7785e-07,  1.5113e-07,  1.1244e-07],\n",
       "         [ 1.5305e-07,  1.1921e-07,  2.0000e-01,  1.0467e-07,  1.3423e-07],\n",
       "         [ 1.7660e-07,  1.7317e-07,  1.7141e-07,  2.0000e-01,  1.7802e-07],\n",
       "         [ 9.0525e-09,  7.7374e-09,  9.5596e-09,  1.2344e-08,  2.0000e-01]],\n",
       "        requires_grad=True)]"
      ]
     },
     "execution_count": 322,
     "metadata": {},
     "output_type": "execute_result"
    }
   ],
   "source": [
    "list(learner.model.parameters())"
   ]
  },
  {
   "cell_type": "code",
   "execution_count": 326,
   "metadata": {},
   "outputs": [
    {
     "data": {
      "text/plain": [
       "[('fc_features.weight',\n",
       "  Parameter containing:\n",
       "  tensor([[ 1.0000e+00, -3.7326e-09, -4.1756e-09, -5.3866e-09, -1.4141e-08],\n",
       "          [ 1.3583e-07,  1.0000e+00,  3.6559e-07,  2.5611e-07,  2.7303e-07],\n",
       "          [ 2.9464e-07,  1.9827e-07,  1.0000e+00,  1.0768e-07,  6.8592e-08],\n",
       "          [ 2.0703e-07,  1.5340e-07,  8.6079e-08,  1.0000e+00,  3.2113e-07],\n",
       "          [-2.0347e-09,  7.7265e-09,  7.9805e-09,  1.7971e-08,  1.0000e+00]],\n",
       "         requires_grad=True)),\n",
       " ('fc_action.weight',\n",
       "  Parameter containing:\n",
       "  tensor([[ 2.0000e-01, -8.0575e-09,  5.1624e-09,  5.1784e-09,  3.6488e-09],\n",
       "          [ 9.0417e-08,  2.0000e-01,  1.7785e-07,  1.5113e-07,  1.1244e-07],\n",
       "          [ 1.5305e-07,  1.1921e-07,  2.0000e-01,  1.0467e-07,  1.3423e-07],\n",
       "          [ 1.7660e-07,  1.7317e-07,  1.7141e-07,  2.0000e-01,  1.7802e-07],\n",
       "          [ 9.0525e-09,  7.7374e-09,  9.5596e-09,  1.2344e-08,  2.0000e-01]],\n",
       "         requires_grad=True))]"
      ]
     },
     "execution_count": 326,
     "metadata": {},
     "output_type": "execute_result"
    }
   ],
   "source": [
    "list(learner.model.named_parameters())"
   ]
  },
  {
   "cell_type": "code",
   "execution_count": null,
   "metadata": {},
   "outputs": [],
   "source": []
  }
 ],
 "metadata": {
  "kernelspec": {
   "display_name": "Python 3",
   "language": "python",
   "name": "python3"
  },
  "language_info": {
   "codemirror_mode": {
    "name": "ipython",
    "version": 3
   },
   "file_extension": ".py",
   "mimetype": "text/x-python",
   "name": "python",
   "nbconvert_exporter": "python",
   "pygments_lexer": "ipython3",
   "version": "3.7.0"
  }
 },
 "nbformat": 4,
 "nbformat_minor": 4
}
