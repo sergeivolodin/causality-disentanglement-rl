{
 "cells": [
  {
   "cell_type": "code",
   "execution_count": 1,
   "metadata": {},
   "outputs": [],
   "source": [
    "import os\n",
    "os.environ[\"CUDA_VISIBLE_DEVICES\"]=\"1\"\n",
    "os.environ[\"TF_FORCE_GPU_ALLOW_GROWTH\"]=\"true\""
   ]
  },
  {
   "cell_type": "code",
   "execution_count": 24,
   "metadata": {},
   "outputs": [],
   "source": [
    "import numpy as np\n",
    "from matplotlib import pyplot as plt\n",
    "import tensorflow as tf\n",
    "from tqdm.notebook import tqdm\n",
    "\n",
    "tf.compat.v1.enable_v2_behavior()\n",
    "\n",
    "from curiosity import m_passthrough_action\n",
    "\n",
    "import pixiedust\n",
    "from functools import partial\n",
    "import gin"
   ]
  },
  {
   "cell_type": "code",
   "execution_count": 25,
   "metadata": {},
   "outputs": [],
   "source": [
    "from tensorflow_model_optimization.python.core.sparsity.keras import pruning_schedule as pruning_sched\n",
    "from tensorflow_model_optimization.python.core.sparsity.keras import pruning_wrapper\n",
    "from tensorflow_model_optimization.python.core.sparsity.keras import prune\n",
    "from tensorflow_model_optimization.python.core.sparsity.keras import pruning_callbacks"
   ]
  },
  {
   "cell_type": "code",
   "execution_count": 26,
   "metadata": {},
   "outputs": [],
   "source": [
    "def matrix_dist(A, B):\n",
    "    return np.linalg.norm((A - B).flatten(), ord=1)"
   ]
  },
  {
   "cell_type": "code",
   "execution_count": 27,
   "metadata": {},
   "outputs": [],
   "source": [
    "# \"model of the environment\"\n",
    "A = np.array([\n",
    "    [1,0,1,0], # state and action, gives s_1\n",
    "    [0,1,0,1],\n",
    "])\n",
    "\n",
    "# number of actions\n",
    "n_a = 2\n",
    "\n",
    "# number of state components\n",
    "n_s = 2\n",
    "\n",
    "# number of observation components\n",
    "n_o = 2\n",
    "\n",
    "# number of features\n",
    "n_f = 2\n",
    "\n",
    "# transform for the state\n",
    "Q1 = np.random.randn(2, 2)\n",
    "\n",
    "# transform for state+action\n",
    "Q = np.eye(4)\n",
    "Q[:2, :2] = Q1\n",
    "\n",
    "# number of data pts\n",
    "N = 1000\n",
    "\n",
    "# states\n",
    "xs = np.random.randn(4, N)\n",
    "\n",
    "# next states\n",
    "ys = A @ xs\n",
    "\n",
    "xs_e = Q @ xs\n",
    "ys_e = Q1 @ ys\n",
    "\n",
    "# states\n",
    "xs = xs.T\n",
    "ys = ys.T\n",
    "\n",
    "# observations\n",
    "xs_e = xs_e.T\n",
    "ys_e = ys_e.T"
   ]
  },
  {
   "cell_type": "code",
   "execution_count": 28,
   "metadata": {},
   "outputs": [],
   "source": [
    "assert xs.shape[1] == n_s + n_a\n",
    "assert ys.shape[1] == n_s\n",
    "assert xs_e.shape[1] == n_o + n_a\n",
    "assert ys_e.shape[1] == n_o"
   ]
  },
  {
   "cell_type": "code",
   "execution_count": 29,
   "metadata": {},
   "outputs": [],
   "source": [
    "# checking that the model works correctly\n",
    "assert np.allclose(A @ (np.linalg.inv(Q) @ xs_e[0]), ys[0])\n",
    "assert np.allclose(xs_e[0][2:], xs[0][2:])"
   ]
  },
  {
   "cell_type": "code",
   "execution_count": 30,
   "metadata": {},
   "outputs": [
    {
     "name": "stdout",
     "output_type": "stream",
     "text": [
      "1000/1000 [==============================] - 0s 40us/sample - loss: 0.0029\n",
      "0.0028790792487561703\n",
      "[<tf.Variable 'sequential_10/dense_10/kernel:0' shape=(4, 2) dtype=float32, numpy=\n",
      "array([[ 9.9949843e-01,  6.6379854e-04],\n",
      "       [-3.0099961e-04,  9.9373811e-01],\n",
      "       [ 9.9153906e-01,  1.7541618e-03],\n",
      "       [ 2.1478577e-04,  9.2621446e-01]], dtype=float32)>, <tf.Variable 'sequential_10/dense_10/bias:0' shape=(2,) dtype=float32, numpy=array([ 0.00010108, -0.00290523], dtype=float32)>]\n",
      "0.09194368633325212\n"
     ]
    },
    {
     "data": {
      "image/png": "[encoded data removed]",
      "text/plain": [
       "<Figure size 432x288 with 1 Axes>"
      ]
     },
     "metadata": {
      "needs_background": "light"
     },
     "output_type": "display_data"
    }
   ],
   "source": [
    "# checking that data is correctly generated\n",
    "m = tf.keras.Sequential([tf.keras.layers.Dense(2)])\n",
    "m.compile('adam', 'mse')\n",
    "h = m.fit(xs, ys, epochs=100, verbose=0)\n",
    "plt.plot(h.history['loss'])\n",
    "print(m.evaluate(xs, ys))\n",
    "print(m.weights)\n",
    "print(matrix_dist(m.weights[0].numpy().T, A))"
   ]
  },
  {
   "cell_type": "code",
   "execution_count": 31,
   "metadata": {},
   "outputs": [],
   "source": [
    "def projection_simplex_sort(v, z=1):\n",
    "    n_features = v.shape[0]\n",
    "    if np.linalg.norm(v) <= z:\n",
    "        return v\n",
    "    u = np.sort(v)[::-1]\n",
    "    cssv = np.cumsum(u) - z\n",
    "    ind = np.arange(n_features) + 1\n",
    "    cond = u - cssv / ind > 0\n",
    "    rho = ind[cond][-1]\n",
    "    theta = cssv[cond][-1] / float(rho)\n",
    "    w = np.maximum(v - theta, 0)\n",
    "    return w"
   ]
  },
  {
   "cell_type": "code",
   "execution_count": 32,
   "metadata": {},
   "outputs": [
    {
     "data": {
      "text/plain": [
       "array([1. , 0.1])"
      ]
     },
     "execution_count": 32,
     "metadata": {},
     "output_type": "execute_result"
    }
   ],
   "source": [
    "projection_simplex_sort(np.array([1,0.1]), 3)"
   ]
  },
  {
   "cell_type": "code",
   "execution_count": 33,
   "metadata": {},
   "outputs": [],
   "source": [
    "class MaxNorm1(tf.keras.constraints.Constraint):\n",
    "  def __init__(self, max_value=2, axis=0):\n",
    "    self.max_value = max_value\n",
    "    self.axis = axis\n",
    "\n",
    "  def __call__(self, w):\n",
    "    norms = K.sqrt(\n",
    "        math_ops.reduce_sum(math_ops.square(w), axis=self.axis, keepdims=True))\n",
    "    desired = K.clip(norms, 0, self.max_value)\n",
    "    return w * (desired / (K.epsilon() + norms))\n",
    "\n",
    "  def get_config(self):\n",
    "    return {'max_value': self.max_value, 'axis': self.axis}"
   ]
  },
  {
   "cell_type": "code",
   "execution_count": null,
   "metadata": {},
   "outputs": [],
   "source": []
  },
  {
   "cell_type": "code",
   "execution_count": null,
   "metadata": {},
   "outputs": [],
   "source": []
  },
  {
   "cell_type": "code",
   "execution_count": 34,
   "metadata": {
    "pixiedust": {
     "displayParams": {}
    }
   },
   "outputs": [],
   "source": [
    "#%%pixie_debugger\n",
    "\n",
    "# l1 parameters\n",
    "l1coeff = 0\n",
    "\n",
    "# for reconstructor\n",
    "#l2coeff = 0\n",
    "\n",
    "# for keras sparsity\n",
    "sparsity = 0.3\n",
    "pruning_params = {\n",
    "        'pruning_schedule': pruning_sched.ConstantSparsity(0.9, 0),\n",
    "        #'pruning_schedule': pruning_sched.PolynomialDecay(0, 0.3, 0, 100),\n",
    "        'block_size': (1, 1),\n",
    "        'block_pooling_type': 'AVG'\n",
    "    }\n",
    "\n",
    "def component_diff_normalized(v):\n",
    "    \"\"\"How much the vector is close to (1,0) or (0,1).\"\"\"\n",
    "    v = np.abs(v)\n",
    "    return 1. - (max(v) - min(v)) / max(v)\n",
    "\n",
    "def vec_angle_normalized(v1, v2):\n",
    "    \"\"\"Cos betweeen vectors.\"\"\"\n",
    "    return np.abs(np.dot(v1, v2) / (np.linalg.norm(v1) * np.linalg.norm(v2)))\n",
    "\n",
    "def repr_quality(A):\n",
    "    \"\"\"Loss for representation quality for matrix A.\"\"\"\n",
    "    [s_1, s_2] = A.T # basis vectors = columns\n",
    "    return component_diff_normalized(s_1) + \\\n",
    "           component_diff_normalized(s_2) + \\\n",
    "           vec_angle_normalized(s_1, s_2)\n",
    "\n",
    "@gin.configurable\n",
    "def build_decoder_model(input_layer, init_fp_dist=None):\n",
    "    \"\"\"Create a decoder model.\"\"\"\n",
    "    decoder = tf.keras.Sequential([ #D\n",
    "        input_layer,\n",
    "        tf.keras.layers.Dense(2, activation=None, use_bias=False, #kernel_regularizer=tf.keras.regularizers.l2(l2coeff),\n",
    "                             #kernel_initializer='random_normal',\n",
    "                             #kernel_constraint=tf.keras.constraints.UnitNorm()\n",
    "                             kernel_constraint=tf.keras.constraints.MinMaxNorm(0.5, 1.5) # == 1 -- \n",
    "                             ),\n",
    "    ])\n",
    "    \n",
    "    if init_fp_dist is not None:\n",
    "        decoder.layers[-1].set_weights([np.linalg.inv(Q1).T +\\\n",
    "                                        np.ones((2, 2)) * init_fp_dist])\n",
    "    return decoder\n",
    "\n",
    "@gin.configurable\n",
    "def build_reconstructor_model(init_fp_dist=None):\n",
    "    \"\"\"Build the reconstructor.\"\"\"\n",
    "    # encoder model -- imitates the RL agent which has converged to something -- and needs to reconstruct the state\n",
    "    # but the policy is \"fixed\" and the reward = max\n",
    "    reconstructor = tf.keras.Sequential([ # E\n",
    "        tf.keras.Input(shape=(2,)),\n",
    "        tf.keras.layers.Dense(2, activation=None, use_bias=False, #kernel_regularizer=tf.keras.regularizers.l2(l2coeff),\n",
    "                             #kernel_initializer='random_normal',\n",
    "                             #kernel_constraint=tf.keras.constraints.UnitNorm()\n",
    "                              \n",
    "                             # how can we take the scale out of this -- decompose \n",
    "                             kernel_constraint=tf.keras.constraints.MinMaxNorm(0.5, 1.5)\n",
    "                             ),\n",
    "    ])\n",
    "    \n",
    "    if init_fp_dist is not None:\n",
    "        reconstructor.layers[-1].set_weights([Q1.T + np.ones((2, 2)) * init_fp_dist])\n",
    "        #reconstructor.layers[-1].set_weights([np.linalg.inv(decoder.get_weights()[0])])\n",
    "\n",
    "    return reconstructor\n",
    "\n",
    "@gin.configurable\n",
    "def build_feature_model(decoder, init_fp_dist=None):\n",
    "    \"\"\"Build the feature transition dynamics model.\"\"\"\n",
    "    # maps observations to features\n",
    "    model = tf.keras.Sequential([ # M\n",
    "        m_passthrough_action(decoder, 2, 2), # D\n",
    "        tf.keras.Input(shape=(4,)),\n",
    "        #prune.prune_low_magnitude(\n",
    "            tf.keras.layers.Dense(2, activation=None, use_bias=False, kernel_regularizer=tf.keras.regularizers.l1(l1coeff),\n",
    "                                 #kernel_initializer='random_normal'\n",
    "                                 ), # M_D\n",
    "        #**pruning_params)\n",
    "    ])\n",
    "    \n",
    "    if init_fp_dist is not None:\n",
    "        model.layers[-1].set_weights([A.T + np.ones((4, 2)) * init_fp_dist])\n",
    "    return model\n",
    "\n",
    "def loss_model_fit(y_true, y_pred, decoder=None, sample_weight=None):\n",
    "    \"\"\"How well the model fits the data?\"\"\"\n",
    "    del sample_weight\n",
    "    # y_pred = from the model \n",
    "    L = tf.reduce_mean(tf.abs(y_pred - decoder(y_true)))\n",
    "    return L\n",
    "\n",
    "def loss_reconstructor(reconstructor, decoder, x):\n",
    "    \"\"\"How well the reconstructor can obtain observations?\"\"\"\n",
    "    # x is the input tensor (observations)\n",
    "    if x is None: return 0\n",
    "    x = x[:, :2]\n",
    "    L = tf.reduce_mean(tf.abs(reconstructor(decoder(x)) - x))\n",
    "    return L\n",
    "\n",
    "@gin.configurable\n",
    "def step(model, decoder, reconstructor, xs, ys, optimizer, l_rec_coeff=1):\n",
    "    \"\"\"One optimization step.\"\"\"\n",
    "    # xs - observations + actions\n",
    "    # ys - next observations\n",
    "    \n",
    "    # converting dtype\n",
    "    xs = np.array(xs, dtype=np.float32)\n",
    "    ys = np.array(ys, dtype=np.float32)\n",
    "    \n",
    "    with tf.GradientTape() as tape:\n",
    "        # Make prediction\n",
    "        y_pred = model(xs)\n",
    "        \n",
    "        # Calculate loss\n",
    "        l_fit = loss_model_fit(ys, y_pred, decoder=decoder)\n",
    "        l_rec = loss_reconstructor(reconstructor=reconstructor,\n",
    "                                   decoder=decoder, x=xs)\n",
    "\n",
    "        # total loss\n",
    "        model_loss = l_fit + l_rec_coeff * l_rec\n",
    "        \n",
    "    # Calculate gradients\n",
    "    model_gradients = tape.gradient(model_loss, model.trainable_variables)\n",
    "    \n",
    "    # Update model\n",
    "    optimizer.apply_gradients(zip(model_gradients, model.trainable_variables))\n",
    "    return {'l_fit': l_fit.numpy(), 'l_rec': l_rec.numpy()}\n",
    "\n",
    "def arr_of_dicts_to_dict_of_arrays(arr):\n",
    "    \"\"\" Array of dicts to dict of arrays \"\"\"\n",
    "    all_keys = arr[0].keys()\n",
    "    return {key: [v[key] for v in arr] for key in all_keys}\n",
    "\n",
    "@gin.configurable\n",
    "def get_results(batch_size=16, epochs=1, optimizer=None, l_rec_coeff=1):\n",
    "    \"\"\"Compute results.\"\"\"\n",
    "    # input for the decoder (features)\n",
    "    inp_dec = tf.keras.Input(shape=(2,))\n",
    "    \n",
    "    # defining models\n",
    "    decoder = build_decoder_model(inp_dec, init_fp_dist=eps_d)\n",
    "    model = build_feature_model(decoder, init_fp_dist=eps_m)\n",
    "    reconstructor = build_reconstructor_model(init_fp_dist=eps_r)\n",
    "    \n",
    "    # compiling\n",
    "    model.compile(optimizer='adam', loss=partial(loss_model_fit,\n",
    "                                                decoder=decoder))\n",
    "    model.optimizer = optimizer\n",
    "    \n",
    "    # for weight pruning\n",
    "    #step_callback = pruning_callbacks.UpdatePruningStep()\n",
    "    #step_callback.set_model(model)\n",
    "    #step_callback.on_train_begin()\n",
    "   \n",
    "    losses = []\n",
    "    distances = []\n",
    "    \n",
    "    def evaluate_dist():\n",
    "        \"\"\"Evaluate the models.\"\"\"\n",
    "        DE = decoder.weights[0].numpy().T @ Q1\n",
    "        distances.append(repr_quality(DE))\n",
    "    \n",
    "    # training mechanics\n",
    "    x_train = xs_e\n",
    "    y_train = ys_e\n",
    "    bat_per_epoch = int(len(x_train) / batch_size)\n",
    "    \n",
    "    # evaluate the quality\n",
    "    evaluate_dist()\n",
    "    \n",
    "    # epoch loop\n",
    "    with tqdm(total=epochs) as pbar:\n",
    "      for epoch in range(epochs):\n",
    "        L = []\n",
    "        \n",
    "        # one epoch\n",
    "        #with tqdm(total=bat_per_epoch, leave=False) as pbar1:\n",
    "        for i in range(bat_per_epoch):\n",
    "            #step_callback.on_train_batch_begin(batch=-1)\n",
    "            n = i * batch_size\n",
    "            loss = step(model=model, decoder=decoder,\n",
    "                          reconstructor=reconstructor,\n",
    "                          xs=x_train[n:n+batch_size],\n",
    "                          ys=y_train[n:n+batch_size],\n",
    "                          optimizer=optimizer)\n",
    "            L.append(loss)\n",
    "            \n",
    "            # hard sparsity\n",
    "            #l = model.layers[-1]\n",
    "            #w = l.get_weights()[0]\n",
    "            #w[np.abs(w) < 1e-1] = 0\n",
    "            #l.set_weights([w])\n",
    "            \n",
    "            # keras sparsity\n",
    "            #step_callback.on_train_batch_end(batch=i)\n",
    "            #pbar1.update(1)\n",
    "            \n",
    "        # keras sparsity\n",
    "        #step_callback.on_epoch_end(batch=-1)\n",
    "        #step_callback.on_epoch_end(-1)\n",
    "        #print(model.get_weights())\n",
    "\n",
    "        # adding metrics\n",
    "        L = arr_of_dicts_to_dict_of_arrays(L)\n",
    "        curr_loss = {x: np.mean(y) for x, y in L.items()}\n",
    "        losses.append(curr_loss)\n",
    "        evaluate_dist()\n",
    "        pbar.set_description(str(curr_loss))\n",
    "        pbar.update(1)\n",
    "        \n",
    "    # final evaluation\n",
    "    losses = arr_of_dicts_to_dict_of_arrays(losses)\n",
    "    loss = model.evaluate(xs_e, ys_e, verbose=0)\n",
    "    losses['l_fit'].append(loss)\n",
    "    \n",
    "    return losses, distances, model, reconstructor"
   ]
  },
  {
   "cell_type": "markdown",
   "metadata": {},
   "source": [
    "First success -- try with 1e-2 for ED and 5e-1 for the M"
   ]
  },
  {
   "cell_type": "code",
   "execution_count": 35,
   "metadata": {},
   "outputs": [],
   "source": [
    "# \"distance\" from the correct fixed point\n",
    "eps = {'m': 1e-3, 'd': 1e-3, 'r': 1e-3} # eps=0... -- very small distance DE-I"
   ]
  },
  {
   "cell_type": "code",
   "execution_count": 41,
   "metadata": {},
   "outputs": [],
   "source": [
    "gin.bind_parameter(\"build_decoder_model.init_fp_dist\", None)\n",
    "gin.bind_parameter(\"build_feature_model.init_fp_dist\", None)\n",
    "gin.bind_parameter(\"build_reconstructor_model.init_fp_dist\", None)\n",
    "gin.bind_parameter(\"step.l_rec_coeff\", 5)\n",
    "gin.bind_parameter(\"get_results.epochs\", 300)\n",
    "gin.bind_parameter(\"get_results.batch_size\", 64)\n",
    "gin.bind_parameter(\"get_results.optimizer\", tf.keras.optimizers.Adam(lr=0.001))"
   ]
  },
  {
   "cell_type": "code",
   "execution_count": 42,
   "metadata": {
    "scrolled": true
   },
   "outputs": [
    {
     "data": {
      "application/vnd.jupyter.widget-view+json": {
       "model_id": "c4e376bc77f64a4b8165159ec76e332a",
       "version_major": 2,
       "version_minor": 0
      },
      "text/plain": [
       "HBox(children=(FloatProgress(value=0.0, max=300.0), HTML(value='')))"
      ]
     },
     "metadata": {},
     "output_type": "display_data"
    },
    {
     "name": "stdout",
     "output_type": "stream",
     "text": [
      "\n"
     ]
    }
   ],
   "source": [
    "res = get_results()\n",
    "losses, distances, model, reconstructor = res"
   ]
  },
  {
   "cell_type": "code",
   "execution_count": 43,
   "metadata": {
    "scrolled": true
   },
   "outputs": [
    {
     "data": {
      "image/png": "[encoded data removed]",
      "text/plain": [
       "<Figure size 648x288 with 3 Axes>"
      ]
     },
     "metadata": {},
     "output_type": "display_data"
    }
   ],
   "source": [
    "# Plotting everything\n",
    "fig = plt.figure(figsize=(9, 4))\n",
    "fig.patch.set_facecolor('lightgreen')\n",
    "\n",
    "N_plots = len(losses) + 1\n",
    "\n",
    "plt.subplot(1, N_plots, 1)\n",
    "plt.title(\"d(M, A)\")\n",
    "plt.plot(distances, color='red')\n",
    "plt.axhline(0, ls='--', c='black')\n",
    "\n",
    "colormap = ['green', 'blue']\n",
    "\n",
    "# model losses\n",
    "for i, key in enumerate(losses.keys()):\n",
    "    plt.subplot(1, N_plots, 2 + i)\n",
    "    plt.title(key)\n",
    "    plt.plot(losses[key], c=colormap[i])\n",
    "    plt.axhline(0, ls='--', c='black')\n",
    "\n",
    "#plt.legend()\n",
    "plt.show()"
   ]
  },
  {
   "cell_type": "code",
   "execution_count": 138,
   "metadata": {},
   "outputs": [],
   "source": [
    "l1regs = np.logspace(-5, -3, 5)\n",
    "repetitions = 2"
   ]
  },
  {
   "cell_type": "code",
   "execution_count": 323,
   "metadata": {},
   "outputs": [
    {
     "name": "stderr",
     "output_type": "stream",
     "text": [
      "\r",
      "  0%|          | 0/200 [00:00<?, ?it/s]"
     ]
    },
    {
     "name": "stdout",
     "output_type": "stream",
     "text": [
      "WARNING:tensorflow:Layer dense_181 is casting an input tensor from dtype float64 to the layer's dtype of float32, which is new behavior in TensorFlow 2.  The layer has dtype float32 because it's dtype defaults to floatx.\n",
      "\n",
      "If you intended to run this layer in float32, you can safely ignore this warning. If in doubt, this warning is likely only an issue if you are porting a TensorFlow 1.X model to TensorFlow 2.\n",
      "\n",
      "To change all layers to have dtype float64 by default, call `tf.keras.backend.set_floatx('float64')`. To change just this layer, pass dtype='float64' to the layer constructor. If you are the author of this layer, you can disable autocasting by passing autocast=False to the base Layer constructor.\n",
      "\n"
     ]
    },
    {
     "name": "stderr",
     "output_type": "stream",
     "text": [
      " 32%|███▏      | 64/200 [00:25<00:54,  2.50it/s]\n"
     ]
    },
    {
     "ename": "KeyboardInterrupt",
     "evalue": "",
     "output_type": "error",
     "traceback": [
      "\u001b[0;31m---------------------------------------------------------------------------\u001b[0m",
      "\u001b[0;31mKeyboardInterrupt\u001b[0m                         Traceback (most recent call last)",
      "\u001b[0;32m<ipython-input-323-5bf0e34bdddd>\u001b[0m in \u001b[0;36m<module>\u001b[0;34m\u001b[0m\n\u001b[1;32m      3\u001b[0m     \u001b[0mplt\u001b[0m\u001b[0;34m.\u001b[0m\u001b[0mtitle\u001b[0m\u001b[0;34m(\u001b[0m\u001b[0;34m\"blue loss, red distance l1=%s\"\u001b[0m \u001b[0;34m%\u001b[0m \u001b[0mstr\u001b[0m\u001b[0;34m(\u001b[0m\u001b[0ml1\u001b[0m\u001b[0;34m)\u001b[0m\u001b[0;34m)\u001b[0m\u001b[0;34m\u001b[0m\u001b[0;34m\u001b[0m\u001b[0m\n\u001b[1;32m      4\u001b[0m     \u001b[0;32mfor\u001b[0m \u001b[0m_\u001b[0m \u001b[0;32min\u001b[0m \u001b[0mrange\u001b[0m\u001b[0;34m(\u001b[0m\u001b[0mrepetitions\u001b[0m\u001b[0;34m)\u001b[0m\u001b[0;34m:\u001b[0m\u001b[0;34m\u001b[0m\u001b[0;34m\u001b[0m\u001b[0m\n\u001b[0;32m----> 5\u001b[0;31m         \u001b[0mlosses\u001b[0m\u001b[0;34m,\u001b[0m \u001b[0mdistances\u001b[0m\u001b[0;34m,\u001b[0m \u001b[0m_\u001b[0m\u001b[0;34m,\u001b[0m \u001b[0m_\u001b[0m\u001b[0;34m,\u001b[0m \u001b[0m_\u001b[0m \u001b[0;34m=\u001b[0m \u001b[0mget_results\u001b[0m\u001b[0;34m(\u001b[0m\u001b[0ml1\u001b[0m\u001b[0;34m)\u001b[0m\u001b[0;34m\u001b[0m\u001b[0;34m\u001b[0m\u001b[0m\n\u001b[0m\u001b[1;32m      6\u001b[0m         \u001b[0mplt\u001b[0m\u001b[0;34m.\u001b[0m\u001b[0mplot\u001b[0m\u001b[0;34m(\u001b[0m\u001b[0mlosses\u001b[0m\u001b[0;34m,\u001b[0m \u001b[0mcolor\u001b[0m\u001b[0;34m=\u001b[0m\u001b[0;34m'blue'\u001b[0m\u001b[0;34m)\u001b[0m\u001b[0;34m\u001b[0m\u001b[0;34m\u001b[0m\u001b[0m\n\u001b[1;32m      7\u001b[0m         \u001b[0mplt\u001b[0m\u001b[0;34m.\u001b[0m\u001b[0mplot\u001b[0m\u001b[0;34m(\u001b[0m\u001b[0mdistances\u001b[0m\u001b[0;34m,\u001b[0m \u001b[0mcolor\u001b[0m\u001b[0;34m=\u001b[0m\u001b[0;34m'red'\u001b[0m\u001b[0;34m)\u001b[0m\u001b[0;34m\u001b[0m\u001b[0;34m\u001b[0m\u001b[0m\n",
      "\u001b[0;32m<ipython-input-313-37bcc2252dc9>\u001b[0m in \u001b[0;36mget_results\u001b[0;34m(l1coeff)\u001b[0m\n\u001b[1;32m    130\u001b[0m                 \u001b[0;31m#step_callback.on_train_batch_begin(batch=-1)\u001b[0m\u001b[0;34m\u001b[0m\u001b[0;34m\u001b[0m\u001b[0;34m\u001b[0m\u001b[0m\n\u001b[1;32m    131\u001b[0m                 \u001b[0mn\u001b[0m \u001b[0;34m=\u001b[0m \u001b[0mi\u001b[0m \u001b[0;34m*\u001b[0m \u001b[0mbatch_size\u001b[0m\u001b[0;34m\u001b[0m\u001b[0;34m\u001b[0m\u001b[0m\n\u001b[0;32m--> 132\u001b[0;31m                 \u001b[0mloss\u001b[0m \u001b[0;34m=\u001b[0m \u001b[0mstep\u001b[0m\u001b[0;34m(\u001b[0m\u001b[0mx_train\u001b[0m\u001b[0;34m[\u001b[0m\u001b[0mn\u001b[0m\u001b[0;34m:\u001b[0m\u001b[0mn\u001b[0m\u001b[0;34m+\u001b[0m\u001b[0mbatch_size\u001b[0m\u001b[0;34m]\u001b[0m\u001b[0;34m,\u001b[0m \u001b[0my_train\u001b[0m\u001b[0;34m[\u001b[0m\u001b[0mn\u001b[0m\u001b[0;34m:\u001b[0m\u001b[0mn\u001b[0m\u001b[0;34m+\u001b[0m\u001b[0mbatch_size\u001b[0m\u001b[0;34m]\u001b[0m\u001b[0;34m)\u001b[0m\u001b[0;34m\u001b[0m\u001b[0;34m\u001b[0m\u001b[0m\n\u001b[0m\u001b[1;32m    133\u001b[0m                 \u001b[0ml\u001b[0m \u001b[0;34m=\u001b[0m \u001b[0mmodel\u001b[0m\u001b[0;34m.\u001b[0m\u001b[0mlayers\u001b[0m\u001b[0;34m[\u001b[0m\u001b[0;34m-\u001b[0m\u001b[0;36m1\u001b[0m\u001b[0;34m]\u001b[0m\u001b[0;34m\u001b[0m\u001b[0;34m\u001b[0m\u001b[0m\n\u001b[1;32m    134\u001b[0m                 \u001b[0mw\u001b[0m \u001b[0;34m=\u001b[0m \u001b[0ml\u001b[0m\u001b[0;34m.\u001b[0m\u001b[0mget_weights\u001b[0m\u001b[0;34m(\u001b[0m\u001b[0;34m)\u001b[0m\u001b[0;34m[\u001b[0m\u001b[0;36m0\u001b[0m\u001b[0;34m]\u001b[0m\u001b[0;34m\u001b[0m\u001b[0;34m\u001b[0m\u001b[0m\n",
      "\u001b[0;32m<ipython-input-313-37bcc2252dc9>\u001b[0m in \u001b[0;36mstep\u001b[0;34m(xs, ys)\u001b[0m\n\u001b[1;32m     93\u001b[0m \u001b[0;34m\u001b[0m\u001b[0m\n\u001b[1;32m     94\u001b[0m         \u001b[0;31m# Calculate gradients\u001b[0m\u001b[0;34m\u001b[0m\u001b[0;34m\u001b[0m\u001b[0;34m\u001b[0m\u001b[0m\n\u001b[0;32m---> 95\u001b[0;31m         \u001b[0mmodel_gradients\u001b[0m \u001b[0;34m=\u001b[0m \u001b[0mtape\u001b[0m\u001b[0;34m.\u001b[0m\u001b[0mgradient\u001b[0m\u001b[0;34m(\u001b[0m\u001b[0mmodel_loss\u001b[0m\u001b[0;34m,\u001b[0m \u001b[0mmodel\u001b[0m\u001b[0;34m.\u001b[0m\u001b[0mtrainable_variables\u001b[0m\u001b[0;34m)\u001b[0m\u001b[0;34m\u001b[0m\u001b[0;34m\u001b[0m\u001b[0m\n\u001b[0m\u001b[1;32m     96\u001b[0m         \u001b[0;31m# Update model\u001b[0m\u001b[0;34m\u001b[0m\u001b[0;34m\u001b[0m\u001b[0;34m\u001b[0m\u001b[0m\n\u001b[1;32m     97\u001b[0m         \u001b[0moptimizer\u001b[0m\u001b[0;34m.\u001b[0m\u001b[0mapply_gradients\u001b[0m\u001b[0;34m(\u001b[0m\u001b[0mzip\u001b[0m\u001b[0;34m(\u001b[0m\u001b[0mmodel_gradients\u001b[0m\u001b[0;34m,\u001b[0m \u001b[0mmodel\u001b[0m\u001b[0;34m.\u001b[0m\u001b[0mtrainable_variables\u001b[0m\u001b[0;34m)\u001b[0m\u001b[0;34m)\u001b[0m\u001b[0;34m\u001b[0m\u001b[0;34m\u001b[0m\u001b[0m\n",
      "\u001b[0;32m~/miniconda3/envs/causal/lib/python3.7/site-packages/tensorflow_core/python/eager/backprop.py\u001b[0m in \u001b[0;36mgradient\u001b[0;34m(self, target, sources, output_gradients, unconnected_gradients)\u001b[0m\n\u001b[1;32m   1027\u001b[0m         \u001b[0moutput_gradients\u001b[0m\u001b[0;34m=\u001b[0m\u001b[0moutput_gradients\u001b[0m\u001b[0;34m,\u001b[0m\u001b[0;34m\u001b[0m\u001b[0;34m\u001b[0m\u001b[0m\n\u001b[1;32m   1028\u001b[0m         \u001b[0msources_raw\u001b[0m\u001b[0;34m=\u001b[0m\u001b[0mflat_sources_raw\u001b[0m\u001b[0;34m,\u001b[0m\u001b[0;34m\u001b[0m\u001b[0;34m\u001b[0m\u001b[0m\n\u001b[0;32m-> 1029\u001b[0;31m         unconnected_gradients=unconnected_gradients)\n\u001b[0m\u001b[1;32m   1030\u001b[0m \u001b[0;34m\u001b[0m\u001b[0m\n\u001b[1;32m   1031\u001b[0m     \u001b[0;32mif\u001b[0m \u001b[0;32mnot\u001b[0m \u001b[0mself\u001b[0m\u001b[0;34m.\u001b[0m\u001b[0m_persistent\u001b[0m\u001b[0;34m:\u001b[0m\u001b[0;34m\u001b[0m\u001b[0;34m\u001b[0m\u001b[0m\n",
      "\u001b[0;32m~/miniconda3/envs/causal/lib/python3.7/site-packages/tensorflow_core/python/eager/imperative_grad.py\u001b[0m in \u001b[0;36mimperative_grad\u001b[0;34m(tape, target, sources, output_gradients, sources_raw, unconnected_gradients)\u001b[0m\n\u001b[1;32m     75\u001b[0m       \u001b[0moutput_gradients\u001b[0m\u001b[0;34m,\u001b[0m\u001b[0;34m\u001b[0m\u001b[0;34m\u001b[0m\u001b[0m\n\u001b[1;32m     76\u001b[0m       \u001b[0msources_raw\u001b[0m\u001b[0;34m,\u001b[0m\u001b[0;34m\u001b[0m\u001b[0;34m\u001b[0m\u001b[0m\n\u001b[0;32m---> 77\u001b[0;31m       compat.as_str(unconnected_gradients.value))\n\u001b[0m",
      "\u001b[0;32m~/miniconda3/envs/causal/lib/python3.7/site-packages/tensorflow_core/python/eager/backprop.py\u001b[0m in \u001b[0;36m_gradient_function\u001b[0;34m(op_name, attr_tuple, num_inputs, inputs, outputs, out_grads, skip_input_indices)\u001b[0m\n\u001b[1;32m    139\u001b[0m     \u001b[0;32mreturn\u001b[0m \u001b[0;34m[\u001b[0m\u001b[0;32mNone\u001b[0m\u001b[0;34m]\u001b[0m \u001b[0;34m*\u001b[0m \u001b[0mnum_inputs\u001b[0m\u001b[0;34m\u001b[0m\u001b[0;34m\u001b[0m\u001b[0m\n\u001b[1;32m    140\u001b[0m \u001b[0;34m\u001b[0m\u001b[0m\n\u001b[0;32m--> 141\u001b[0;31m   \u001b[0;32mreturn\u001b[0m \u001b[0mgrad_fn\u001b[0m\u001b[0;34m(\u001b[0m\u001b[0mmock_op\u001b[0m\u001b[0;34m,\u001b[0m \u001b[0;34m*\u001b[0m\u001b[0mout_grads\u001b[0m\u001b[0;34m)\u001b[0m\u001b[0;34m\u001b[0m\u001b[0;34m\u001b[0m\u001b[0m\n\u001b[0m\u001b[1;32m    142\u001b[0m \u001b[0;34m\u001b[0m\u001b[0m\n\u001b[1;32m    143\u001b[0m \u001b[0;34m\u001b[0m\u001b[0m\n",
      "\u001b[0;32m~/miniconda3/envs/causal/lib/python3.7/site-packages/tensorflow_core/python/ops/math_grad.py\u001b[0m in \u001b[0;36m_MeanGrad\u001b[0;34m(op, grad)\u001b[0m\n\u001b[1;32m    256\u001b[0m \u001b[0;32mdef\u001b[0m \u001b[0m_MeanGrad\u001b[0m\u001b[0;34m(\u001b[0m\u001b[0mop\u001b[0m\u001b[0;34m,\u001b[0m \u001b[0mgrad\u001b[0m\u001b[0;34m)\u001b[0m\u001b[0;34m:\u001b[0m\u001b[0;34m\u001b[0m\u001b[0;34m\u001b[0m\u001b[0m\n\u001b[1;32m    257\u001b[0m   \u001b[0;34m\"\"\"Gradient for Mean.\"\"\"\u001b[0m\u001b[0;34m\u001b[0m\u001b[0;34m\u001b[0m\u001b[0m\n\u001b[0;32m--> 258\u001b[0;31m   \u001b[0msum_grad\u001b[0m \u001b[0;34m=\u001b[0m \u001b[0m_SumGrad\u001b[0m\u001b[0;34m(\u001b[0m\u001b[0mop\u001b[0m\u001b[0;34m,\u001b[0m \u001b[0mgrad\u001b[0m\u001b[0;34m)\u001b[0m\u001b[0;34m[\u001b[0m\u001b[0;36m0\u001b[0m\u001b[0;34m]\u001b[0m\u001b[0;34m\u001b[0m\u001b[0;34m\u001b[0m\u001b[0m\n\u001b[0m\u001b[1;32m    259\u001b[0m   \u001b[0minput_shape\u001b[0m \u001b[0;34m=\u001b[0m \u001b[0mop\u001b[0m\u001b[0;34m.\u001b[0m\u001b[0minputs\u001b[0m\u001b[0;34m[\u001b[0m\u001b[0;36m0\u001b[0m\u001b[0;34m]\u001b[0m\u001b[0;34m.\u001b[0m\u001b[0m_shape_tuple\u001b[0m\u001b[0;34m(\u001b[0m\u001b[0;34m)\u001b[0m  \u001b[0;31m# pylint: disable=protected-access\u001b[0m\u001b[0;34m\u001b[0m\u001b[0;34m\u001b[0m\u001b[0m\n\u001b[1;32m    260\u001b[0m   \u001b[0moutput_shape\u001b[0m \u001b[0;34m=\u001b[0m \u001b[0mop\u001b[0m\u001b[0;34m.\u001b[0m\u001b[0moutputs\u001b[0m\u001b[0;34m[\u001b[0m\u001b[0;36m0\u001b[0m\u001b[0;34m]\u001b[0m\u001b[0;34m.\u001b[0m\u001b[0m_shape_tuple\u001b[0m\u001b[0;34m(\u001b[0m\u001b[0;34m)\u001b[0m  \u001b[0;31m# pylint: disable=protected-access\u001b[0m\u001b[0;34m\u001b[0m\u001b[0;34m\u001b[0m\u001b[0m\n",
      "\u001b[0;32m~/miniconda3/envs/causal/lib/python3.7/site-packages/tensorflow_core/python/ops/math_grad.py\u001b[0m in \u001b[0;36m_SumGrad\u001b[0;34m(op, grad)\u001b[0m\n\u001b[1;32m    164\u001b[0m         \u001b[0;32melse\u001b[0m\u001b[0;34m:\u001b[0m\u001b[0;34m\u001b[0m\u001b[0;34m\u001b[0m\u001b[0m\n\u001b[1;32m    165\u001b[0m           \u001b[0mnew_shape\u001b[0m \u001b[0;34m=\u001b[0m \u001b[0;34m[\u001b[0m\u001b[0;36m1\u001b[0m\u001b[0;34m]\u001b[0m \u001b[0;34m*\u001b[0m \u001b[0mrank\u001b[0m\u001b[0;34m\u001b[0m\u001b[0;34m\u001b[0m\u001b[0m\n\u001b[0;32m--> 166\u001b[0;31m         \u001b[0mgrad\u001b[0m \u001b[0;34m=\u001b[0m \u001b[0marray_ops\u001b[0m\u001b[0;34m.\u001b[0m\u001b[0mreshape\u001b[0m\u001b[0;34m(\u001b[0m\u001b[0mgrad\u001b[0m\u001b[0;34m,\u001b[0m \u001b[0mnew_shape\u001b[0m\u001b[0;34m)\u001b[0m\u001b[0;34m\u001b[0m\u001b[0;34m\u001b[0m\u001b[0m\n\u001b[0m\u001b[1;32m    167\u001b[0m         \u001b[0;31m# If shape is not fully defined (but rank is), we use Shape.\u001b[0m\u001b[0;34m\u001b[0m\u001b[0;34m\u001b[0m\u001b[0;34m\u001b[0m\u001b[0m\n\u001b[1;32m    168\u001b[0m         \u001b[0;32mif\u001b[0m \u001b[0;32mNone\u001b[0m \u001b[0;32mnot\u001b[0m \u001b[0;32min\u001b[0m \u001b[0minput_0_shape\u001b[0m\u001b[0;34m:\u001b[0m\u001b[0;34m\u001b[0m\u001b[0;34m\u001b[0m\u001b[0m\n",
      "\u001b[0;32m~/miniconda3/envs/causal/lib/python3.7/site-packages/tensorflow_core/python/ops/array_ops.py\u001b[0m in \u001b[0;36mreshape\u001b[0;34m(tensor, shape, name)\u001b[0m\n\u001b[1;32m    191\u001b[0m     \u001b[0mA\u001b[0m\u001b[0;31m \u001b[0m\u001b[0;31m`\u001b[0m\u001b[0mTensor\u001b[0m\u001b[0;31m`\u001b[0m\u001b[0;34m.\u001b[0m \u001b[0mHas\u001b[0m \u001b[0mthe\u001b[0m \u001b[0msame\u001b[0m \u001b[0mtype\u001b[0m \u001b[0;32mas\u001b[0m\u001b[0;31m \u001b[0m\u001b[0;31m`\u001b[0m\u001b[0mtensor\u001b[0m\u001b[0;31m`\u001b[0m\u001b[0;34m.\u001b[0m\u001b[0;34m\u001b[0m\u001b[0;34m\u001b[0m\u001b[0m\n\u001b[1;32m    192\u001b[0m   \"\"\"\n\u001b[0;32m--> 193\u001b[0;31m   \u001b[0mresult\u001b[0m \u001b[0;34m=\u001b[0m \u001b[0mgen_array_ops\u001b[0m\u001b[0;34m.\u001b[0m\u001b[0mreshape\u001b[0m\u001b[0;34m(\u001b[0m\u001b[0mtensor\u001b[0m\u001b[0;34m,\u001b[0m \u001b[0mshape\u001b[0m\u001b[0;34m,\u001b[0m \u001b[0mname\u001b[0m\u001b[0;34m)\u001b[0m\u001b[0;34m\u001b[0m\u001b[0;34m\u001b[0m\u001b[0m\n\u001b[0m\u001b[1;32m    194\u001b[0m   \u001b[0mtensor_util\u001b[0m\u001b[0;34m.\u001b[0m\u001b[0mmaybe_set_static_shape\u001b[0m\u001b[0;34m(\u001b[0m\u001b[0mresult\u001b[0m\u001b[0;34m,\u001b[0m \u001b[0mshape\u001b[0m\u001b[0;34m)\u001b[0m\u001b[0;34m\u001b[0m\u001b[0;34m\u001b[0m\u001b[0m\n\u001b[1;32m    195\u001b[0m   \u001b[0;32mreturn\u001b[0m \u001b[0mresult\u001b[0m\u001b[0;34m\u001b[0m\u001b[0;34m\u001b[0m\u001b[0m\n",
      "\u001b[0;32m~/miniconda3/envs/causal/lib/python3.7/site-packages/tensorflow_core/python/ops/gen_array_ops.py\u001b[0m in \u001b[0;36mreshape\u001b[0;34m(tensor, shape, name)\u001b[0m\n\u001b[1;32m   7429\u001b[0m       _result = _pywrap_tensorflow.TFE_Py_FastPathExecute(\n\u001b[1;32m   7430\u001b[0m         \u001b[0m_ctx\u001b[0m\u001b[0;34m.\u001b[0m\u001b[0m_context_handle\u001b[0m\u001b[0;34m,\u001b[0m \u001b[0mtld\u001b[0m\u001b[0;34m.\u001b[0m\u001b[0mdevice_name\u001b[0m\u001b[0;34m,\u001b[0m \u001b[0;34m\"Reshape\"\u001b[0m\u001b[0;34m,\u001b[0m \u001b[0mname\u001b[0m\u001b[0;34m,\u001b[0m\u001b[0;34m\u001b[0m\u001b[0;34m\u001b[0m\u001b[0m\n\u001b[0;32m-> 7431\u001b[0;31m         tld.op_callbacks, tensor, shape)\n\u001b[0m\u001b[1;32m   7432\u001b[0m       \u001b[0;32mreturn\u001b[0m \u001b[0m_result\u001b[0m\u001b[0;34m\u001b[0m\u001b[0;34m\u001b[0m\u001b[0m\n\u001b[1;32m   7433\u001b[0m     \u001b[0;32mexcept\u001b[0m \u001b[0m_core\u001b[0m\u001b[0;34m.\u001b[0m\u001b[0m_FallbackException\u001b[0m\u001b[0;34m:\u001b[0m\u001b[0;34m\u001b[0m\u001b[0;34m\u001b[0m\u001b[0m\n",
      "\u001b[0;31mKeyboardInterrupt\u001b[0m: "
     ]
    },
    {
     "data": {
      "image/png": "[encoded data removed]",
      "text/plain": [
       "<Figure size 432x288 with 1 Axes>"
      ]
     },
     "metadata": {
      "needs_background": "light"
     },
     "output_type": "display_data"
    }
   ],
   "source": [
    "for l1 in l1regs:\n",
    "    plt.figure()\n",
    "    plt.title(\"blue loss, red distance l1=%s\" % str(l1))\n",
    "    for _ in range(repetitions):\n",
    "        losses, distances, _, _, _ = get_results(l1)\n",
    "        plt.plot(losses, color='blue')\n",
    "        plt.plot(distances, color='red')\n",
    "    plt.axhline(0)\n",
    "    plt.ylim(0, 10)\n",
    "    plt.show()"
   ]
  },
  {
   "cell_type": "code",
   "execution_count": 172,
   "metadata": {},
   "outputs": [
    {
     "name": "stderr",
     "output_type": "stream",
     "text": [
      "\r",
      "  0%|          | 0/10 [00:00<?, ?it/s]"
     ]
    },
    {
     "name": "stdout",
     "output_type": "stream",
     "text": [
      "WARNING:tensorflow:Layer dense_352 is casting an input tensor from dtype float64 to the layer's dtype of float32, which is new behavior in TensorFlow 2.  The layer has dtype float32 because it's dtype defaults to floatx.\n",
      "\n",
      "If you intended to run this layer in float32, you can safely ignore this warning. If in doubt, this warning is likely only an issue if you are porting a TensorFlow 1.X model to TensorFlow 2.\n",
      "\n",
      "To change all layers to have dtype float64 by default, call `tf.keras.backend.set_floatx('float64')`. To change just this layer, pass dtype='float64' to the layer constructor. If you are the author of this layer, you can disable autocasting by passing autocast=False to the base Layer constructor.\n",
      "\n"
     ]
    },
    {
     "name": "stderr",
     "output_type": "stream",
     "text": [
      "100%|██████████| 10/10 [00:36<00:00,  3.63s/it]\n"
     ]
    },
    {
     "data": {
      "text/plain": [
       "[<matplotlib.lines.Line2D at 0x7f968304d5d0>]"
      ]
     },
     "execution_count": 172,
     "metadata": {},
     "output_type": "execute_result"
    },
    {
     "data": {
      "image/png": "[encoded data removed]",
      "text/plain": [
       "<Figure size 432x288 with 1 Axes>"
      ]
     },
     "metadata": {
      "needs_background": "light"
     },
     "output_type": "display_data"
    }
   ],
   "source": [
    "losses, distances, model, DE, enc_model = get_results(1e-3)\n",
    "plt.plot(losses, color='blue')\n",
    "plt.plot(distances, color='red')"
   ]
  },
  {
   "cell_type": "markdown",
   "metadata": {},
   "source": [
    "How to regularize foe the number of non-zero elements? Use SparseSep instead of l1 https://arxiv.org/pdf/1701.06967.pdf\n",
    "\n",
    "How to evaluate the transform $DE=?$ it should be the right vectors, but they can be scaled and permuted. Therefore, we use the following metric: L1+L2+L3, where L1=difference between two components for first vector, L2 for the second and L3 the dot product between the two (should be 0)\n",
    "\n",
    "add constraint on mean/variance of features?"
   ]
  }
 ],
 "metadata": {
  "kernelspec": {
   "display_name": "Python 3",
   "language": "python",
   "name": "python3"
  },
  "language_info": {
   "codemirror_mode": {
    "name": "ipython",
    "version": 3
   },
   "file_extension": ".py",
   "mimetype": "text/x-python",
   "name": "python",
   "nbconvert_exporter": "python",
   "pygments_lexer": "ipython3",
   "version": "3.7.7"
  }
 },
 "nbformat": 4,
 "nbformat_minor": 4
}
