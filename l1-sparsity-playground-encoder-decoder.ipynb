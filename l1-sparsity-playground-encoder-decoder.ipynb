{
 "cells": [
  {
   "cell_type": "code",
   "execution_count": 1,
   "metadata": {},
   "outputs": [],
   "source": [
    "import os\n",
    "os.environ[\"CUDA_VISIBLE_DEVICES\"]=\"1\"\n",
    "os.environ[\"TF_FORCE_GPU_ALLOW_GROWTH\"]=\"true\""
   ]
  },
  {
   "cell_type": "code",
   "execution_count": 2,
   "metadata": {},
   "outputs": [],
   "source": [
    "import numpy as np\n",
    "from matplotlib import pyplot as plt\n",
    "import tensorflow as tf\n",
    "from tqdm import tqdm\n",
    "\n",
    "tf.compat.v1.enable_v2_behavior()\n",
    "\n",
    "from curiosity import m_passthrough_action"
   ]
  },
  {
   "cell_type": "code",
   "execution_count": 11,
   "metadata": {},
   "outputs": [],
   "source": [
    "from tensorflow_model_optimization.python.core.sparsity.keras import pruning_schedule as pruning_sched\n",
    "from tensorflow_model_optimization.python.core.sparsity.keras import pruning_wrapper\n",
    "from tensorflow_model_optimization.python.core.sparsity.keras import prune\n",
    "from tensorflow_model_optimization.python.core.sparsity.keras import pruning_callbacks"
   ]
  },
  {
   "cell_type": "code",
   "execution_count": 3,
   "metadata": {},
   "outputs": [],
   "source": [
    "def matrix_dist(A, B):\n",
    "    return np.linalg.norm((A - B).flatten(), ord=1)"
   ]
  },
  {
   "cell_type": "code",
   "execution_count": 7,
   "metadata": {},
   "outputs": [],
   "source": [
    "# \"model of the environment\"\n",
    "A = np.array([\n",
    "    [1,0,1,0], # state and action, gives s_1\n",
    "    [0,1,0,1],\n",
    "])\n",
    "\n",
    "# transform for the state\n",
    "Q1 = np.random.randn(2, 2)\n",
    "\n",
    "# transform for state+action\n",
    "Q = np.eye(4)\n",
    "Q[:2, :2] = Q1\n",
    "\n",
    "# number of data pts\n",
    "N = 1000\n",
    "\n",
    "# states\n",
    "xs = np.random.randn(4, N)\n",
    "\n",
    "# next states\n",
    "ys = A @ xs\n",
    "\n",
    "xs_e = Q @ xs\n",
    "ys_e = Q1 @ ys\n",
    "\n",
    "# states\n",
    "xs = xs.T\n",
    "ys = ys.T\n",
    "\n",
    "# observations\n",
    "xs_e = xs_e.T\n",
    "ys_e = ys_e.T"
   ]
  },
  {
   "cell_type": "code",
   "execution_count": 8,
   "metadata": {},
   "outputs": [],
   "source": [
    "# checking that the model works correctly\n",
    "assert np.allclose(A @ (np.linalg.inv(Q) @ xs_e[0]), ys[0])\n",
    "assert np.allclose(xs_e[0][2:], xs[0][2:])"
   ]
  },
  {
   "cell_type": "code",
   "execution_count": 9,
   "metadata": {},
   "outputs": [
    {
     "name": "stdout",
     "output_type": "stream",
     "text": [
      "1000/1000 [==============================] - 0s 40us/sample - loss: 0.0026\n",
      "0.0025680129155516624\n",
      "[<tf.Variable 'sequential_1/dense_1/kernel:0' shape=(4, 2) dtype=float32, numpy=\n",
      "array([[ 9.9902147e-01,  2.4484913e-03],\n",
      "       [ 1.0307886e-04,  9.2833233e-01],\n",
      "       [ 1.0000025e+00, -3.5166994e-03],\n",
      "       [ 2.9105471e-05,  9.7452646e-01]], dtype=float32)>, <tf.Variable 'sequential_1/dense_1/bias:0' shape=(2,) dtype=float32, numpy=array([2.356969e-05, 6.677214e-03], dtype=float32)>]\n",
      "0.10421961415340775\n"
     ]
    },
    {
     "data": {
      "image/png": "[encoded data removed]",
      "text/plain": [
       "<Figure size 432x288 with 1 Axes>"
      ]
     },
     "metadata": {
      "needs_background": "light"
     },
     "output_type": "display_data"
    }
   ],
   "source": [
    "# checking that data is correctly generated\n",
    "m = tf.keras.Sequential([tf.keras.layers.Dense(2)])\n",
    "m.compile('adam', 'mse')\n",
    "h = m.fit(xs, ys, epochs=100, verbose=0)\n",
    "plt.plot(h.history['loss'])\n",
    "print(m.evaluate(xs, ys))\n",
    "print(m.weights)\n",
    "print(matrix_dist(m.weights[0].numpy().T, A))"
   ]
  },
  {
   "cell_type": "code",
   "execution_count": 153,
   "metadata": {},
   "outputs": [],
   "source": [
    "l1coeff = 2e-5\n",
    "l2coeff = 0\n",
    "sparsity = 0.3\n",
    "\n",
    "pruning_params = {\n",
    "        #'pruning_schedule': pruning_sched.ConstantSparsity(sparsity, 0),\n",
    "        'pruning_schedule': pruning_sched.PolynomialDecay(0, 0.3, 0, 100),\n",
    "        'block_size': (1, 1),\n",
    "        'block_pooling_type': 'AVG'\n",
    "    }\n",
    "\n",
    "def get_results(l1coeff):\n",
    "\n",
    "    decoder = tf.keras.Sequential([\n",
    "        tf.keras.Input(shape=(2,)),\n",
    "        tf.keras.layers.Dense(2, activation=None, use_bias=False, #kernel_regularizer=tf.keras.regularizers.l2(l2coeff),\n",
    "                             #kernel_initializer='random_normal',\n",
    "                             #kernel_constraint=tf.keras.constraints.UnitNorm()\n",
    "                             kernel_constraint=tf.keras.constraints.MinMaxNorm(0.5, 1.5)\n",
    "                             ),\n",
    "    ])\n",
    "\n",
    "    # maps observations to features\n",
    "    model = tf.keras.Sequential([\n",
    "        m_passthrough_action(decoder, 2, 2),\n",
    "        tf.keras.Input(shape=(4,)),\n",
    "        #prune.prune_low_magnitude(\n",
    "            tf.keras.layers.Dense(2, activation=None, use_bias=False, kernel_regularizer=tf.keras.regularizers.l1(l1coeff),\n",
    "                                 #kernel_initializer='random_normal'\n",
    "                                 ),\n",
    "        #**pruning_params)\n",
    "    ])\n",
    "\n",
    "    def loss_with_decoder(y_true, y_pred):\n",
    "        return tf.reduce_mean(tf.abs(y_pred - decoder(y_true)))\n",
    "\n",
    "    model.compile(optimizer='adam', loss=loss_with_decoder)\n",
    "\n",
    "    losses = []\n",
    "    distances = []\n",
    "    for _ in tqdm(range(10)):\n",
    "        h = model.fit(xs_e, ys_e, epochs=10, batch_size=16, verbose=0)#, callbacks=[pruning_callbacks.UpdatePruningStep()])\n",
    "        loss = model.evaluate(xs_e, ys_e, verbose=0)\n",
    "        DE = decoder.weights[0].numpy().T @ Q1\n",
    "        #DE = DE / DE[0, 0]\n",
    "        #dist = matrix_dist(DE, np.eye(2)) # it can swap them as well...\n",
    "        #l1, l2 = np.linalg.eig(DE.T @ DE)[0]\n",
    "        DE = DE / np.max(DE, axis=0)\n",
    "        dist = min(matrix_dist(DE, np.eye(2)), matrix_dist(DE, np.eye(2)[:,[1,0]]))\n",
    "        #dist = np.abs(np.abs(l1) - np.abs(l2))\n",
    "        losses.append(loss)\n",
    "        distances.append(dist)\n",
    "    return losses, distances"
   ]
  },
  {
   "cell_type": "code",
   "execution_count": 154,
   "metadata": {},
   "outputs": [],
   "source": [
    "l1regs = np.logspace(-5, -3, 10)\n",
    "repetitions = 3"
   ]
  },
  {
   "cell_type": "code",
   "execution_count": null,
   "metadata": {},
   "outputs": [
    {
     "name": "stderr",
     "output_type": "stream",
     "text": [
      "100%|██████████| 10/10 [00:07<00:00,  1.41it/s]\n",
      " 10%|█         | 1/10 [00:00<00:07,  1.16it/s]"
     ]
    }
   ],
   "source": [
    "for l1 in l1regs:\n",
    "    plt.figure()\n",
    "    plt.title(\"blue loss, red distance l1=%s\" % str(l1))\n",
    "    for _ in range(repetitions):\n",
    "        losses, distances = get_results(l1)\n",
    "        plt.plot(losses, color='blue')\n",
    "        plt.plot(distances, color='red')\n",
    "    plt.axhline(0)\n",
    "    plt.show()"
   ]
  },
  {
   "cell_type": "code",
   "execution_count": 143,
   "metadata": {},
   "outputs": [
    {
     "name": "stderr",
     "output_type": "stream",
     "text": [
      "100%|██████████| 100/100 [00:08<00:00, 12.36it/s]\n"
     ]
    },
    {
     "data": {
      "text/plain": [
       "[<matplotlib.lines.Line2D at 0x7f446cf6ead0>]"
      ]
     },
     "execution_count": 143,
     "metadata": {},
     "output_type": "execute_result"
    },
    {
     "data": {
      "image/png": "[encoded data removed]",
      "text/plain": [
       "<Figure size 432x288 with 1 Axes>"
      ]
     },
     "metadata": {
      "needs_background": "light"
     },
     "output_type": "display_data"
    }
   ],
   "source": [
    "losses, distances = get_results(1e-3)\n",
    "plt.plot(losses, color='blue')\n",
    "plt.plot(distances, color='red')"
   ]
  },
  {
   "cell_type": "markdown",
   "metadata": {},
   "source": [
    "Problem: the example doesn't work\n",
    "Anothe problem: $|\\lambda_1|\\approx|\\lambda_2|$ is only a necessary condition but not sufficient...\n",
    "\n",
    "And it's also not necessary -- can have (1, 2) and then it's not about this at all..."
   ]
  },
  {
   "cell_type": "code",
   "execution_count": 148,
   "metadata": {},
   "outputs": [
    {
     "data": {
      "text/plain": [
       "array([[0., 1.],\n",
       "       [1., 0.]])"
      ]
     },
     "execution_count": 148,
     "metadata": {},
     "output_type": "execute_result"
    }
   ],
   "source": []
  },
  {
   "cell_type": "code",
   "execution_count": null,
   "metadata": {},
   "outputs": [],
   "source": []
  }
 ],
 "metadata": {
  "kernelspec": {
   "display_name": "Python 3",
   "language": "python",
   "name": "python3"
  },
  "language_info": {
   "codemirror_mode": {
    "name": "ipython",
    "version": 3
   },
   "file_extension": ".py",
   "mimetype": "text/x-python",
   "name": "python",
   "nbconvert_exporter": "python",
   "pygments_lexer": "ipython3",
   "version": "3.7.7"
  }
 },
 "nbformat": 4,
 "nbformat_minor": 4
}
