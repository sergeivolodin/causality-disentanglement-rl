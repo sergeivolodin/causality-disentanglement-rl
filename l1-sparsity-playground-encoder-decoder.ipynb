{
 "cells": [
  {
   "cell_type": "code",
   "execution_count": 1,
   "metadata": {},
   "outputs": [],
   "source": [
    "import os\n",
    "os.environ[\"CUDA_VISIBLE_DEVICES\"]=\"1\"\n",
    "os.environ[\"TF_FORCE_GPU_ALLOW_GROWTH\"]=\"true\""
   ]
  },
  {
   "cell_type": "code",
   "execution_count": 2,
   "metadata": {},
   "outputs": [
    {
     "name": "stdout",
     "output_type": "stream",
     "text": [
      "Pixiedust database opened successfully\n"
     ]
    },
    {
     "data": {
      "text/html": [
       "\n",
       "        <div style=\"margin:10px\">\n",
       "            <a href=\"https://github.com/ibm-watson-data-lab/pixiedust\" target=\"_new\">\n",
       "                <img src=\"https://github.com/ibm-watson-data-lab/pixiedust/raw/master/docs/_static/pd_icon32.png\" style=\"float:left;margin-right:10px\"/>\n",
       "            </a>\n",
       "            <span>Pixiedust version 1.1.18</span>\n",
       "        </div>\n",
       "        "
      ],
      "text/plain": [
       "<IPython.core.display.HTML object>"
      ]
     },
     "metadata": {},
     "output_type": "display_data"
    }
   ],
   "source": [
    "import numpy as np\n",
    "from matplotlib import pyplot as plt\n",
    "import tensorflow as tf\n",
    "from tqdm import tqdm\n",
    "\n",
    "tf.compat.v1.enable_v2_behavior()\n",
    "\n",
    "from curiosity import m_passthrough_action\n",
    "\n",
    "import pixiedust"
   ]
  },
  {
   "cell_type": "code",
   "execution_count": 3,
   "metadata": {},
   "outputs": [],
   "source": [
    "from tensorflow_model_optimization.python.core.sparsity.keras import pruning_schedule as pruning_sched\n",
    "from tensorflow_model_optimization.python.core.sparsity.keras import pruning_wrapper\n",
    "from tensorflow_model_optimization.python.core.sparsity.keras import prune\n",
    "from tensorflow_model_optimization.python.core.sparsity.keras import pruning_callbacks"
   ]
  },
  {
   "cell_type": "code",
   "execution_count": 4,
   "metadata": {},
   "outputs": [],
   "source": [
    "def matrix_dist(A, B):\n",
    "    return np.linalg.norm((A - B).flatten(), ord=1)"
   ]
  },
  {
   "cell_type": "code",
   "execution_count": 5,
   "metadata": {},
   "outputs": [],
   "source": [
    "# \"model of the environment\"\n",
    "A = np.array([\n",
    "    [1,0,1,0], # state and action, gives s_1\n",
    "    [0,1,0,1],\n",
    "])\n",
    "\n",
    "# transform for the state\n",
    "Q1 = np.random.randn(2, 2)\n",
    "\n",
    "# transform for state+action\n",
    "Q = np.eye(4)\n",
    "Q[:2, :2] = Q1\n",
    "\n",
    "# number of data pts\n",
    "N = 1000\n",
    "\n",
    "# states\n",
    "xs = np.random.randn(4, N)\n",
    "\n",
    "# next states\n",
    "ys = A @ xs\n",
    "\n",
    "xs_e = Q @ xs\n",
    "ys_e = Q1 @ ys\n",
    "\n",
    "# states\n",
    "xs = xs.T\n",
    "ys = ys.T\n",
    "\n",
    "# observations\n",
    "xs_e = xs_e.T\n",
    "ys_e = ys_e.T"
   ]
  },
  {
   "cell_type": "code",
   "execution_count": 6,
   "metadata": {},
   "outputs": [],
   "source": [
    "# checking that the model works correctly\n",
    "assert np.allclose(A @ (np.linalg.inv(Q) @ xs_e[0]), ys[0])\n",
    "assert np.allclose(xs_e[0][2:], xs[0][2:])"
   ]
  },
  {
   "cell_type": "code",
   "execution_count": 7,
   "metadata": {},
   "outputs": [
    {
     "name": "stdout",
     "output_type": "stream",
     "text": [
      "1000/1000 [==============================] - 0s 39us/sample - loss: 0.0060\n",
      "0.00602556537091732\n",
      "[<tf.Variable 'sequential/dense/kernel:0' shape=(4, 2) dtype=float32, numpy=\n",
      "array([[ 1.0065782e+00, -1.8313839e-04],\n",
      "       [ 3.7042825e-03,  9.9045521e-01],\n",
      "       [ 8.8860834e-01,  2.9950993e-04],\n",
      "       [ 4.6317661e-03,  1.0000025e+00]], dtype=float32)>, <tf.Variable 'sequential/dense/bias:0' shape=(2,) dtype=float32, numpy=array([ 0.00483145, -0.00065461], dtype=float32)>]\n",
      "0.13633586064679548\n"
     ]
    },
    {
     "data": {
      "image/png": "[encoded data removed]",
      "text/plain": [
       "<Figure size 432x288 with 1 Axes>"
      ]
     },
     "metadata": {
      "needs_background": "light"
     },
     "output_type": "display_data"
    }
   ],
   "source": [
    "# checking that data is correctly generated\n",
    "m = tf.keras.Sequential([tf.keras.layers.Dense(2)])\n",
    "m.compile('adam', 'mse')\n",
    "h = m.fit(xs, ys, epochs=100, verbose=0)\n",
    "plt.plot(h.history['loss'])\n",
    "print(m.evaluate(xs, ys))\n",
    "print(m.weights)\n",
    "print(matrix_dist(m.weights[0].numpy().T, A))"
   ]
  },
  {
   "cell_type": "code",
   "execution_count": 169,
   "metadata": {},
   "outputs": [],
   "source": [
    "def projection_simplex_sort(v, z=1):\n",
    "    n_features = v.shape[0]\n",
    "    if np.linalg.norm(v) <= \n",
    "    u = np.sort(v)[::-1]\n",
    "    cssv = np.cumsum(u) - z\n",
    "    ind = np.arange(n_features) + 1\n",
    "    cond = u - cssv / ind > 0\n",
    "    rho = ind[cond][-1]\n",
    "    theta = cssv[cond][-1] / float(rho)\n",
    "    w = np.maximum(v - theta, 0)\n",
    "    return w"
   ]
  },
  {
   "cell_type": "code",
   "execution_count": 175,
   "metadata": {},
   "outputs": [
    {
     "data": {
      "text/plain": [
       "array([1.95, 1.05])"
      ]
     },
     "execution_count": 175,
     "metadata": {},
     "output_type": "execute_result"
    }
   ],
   "source": [
    "projection_simplex_sort(np.array([1,0.1]), 3)"
   ]
  },
  {
   "cell_type": "code",
   "execution_count": 168,
   "metadata": {},
   "outputs": [],
   "source": [
    "class MaxNorm1(tf.keras.constraints.Constraint):\n",
    "  def __init__(self, max_value=2, axis=0):\n",
    "    self.max_value = max_value\n",
    "    self.axis = axis\n",
    "\n",
    "  def __call__(self, w):\n",
    "    norms = K.sqrt(\n",
    "        math_ops.reduce_sum(math_ops.square(w), axis=self.axis, keepdims=True))\n",
    "    desired = K.clip(norms, 0, self.max_value)\n",
    "    return w * (desired / (K.epsilon() + norms))\n",
    "\n",
    "  def get_config(self):\n",
    "    return {'max_value': self.max_value, 'axis': self.axis}"
   ]
  },
  {
   "cell_type": "code",
   "execution_count": null,
   "metadata": {},
   "outputs": [],
   "source": []
  },
  {
   "cell_type": "code",
   "execution_count": null,
   "metadata": {},
   "outputs": [],
   "source": []
  },
  {
   "cell_type": "code",
   "execution_count": 357,
   "metadata": {
    "pixiedust": {
     "displayParams": {}
    }
   },
   "outputs": [],
   "source": [
    "#%%pixie_debugger\n",
    "\n",
    "l1coeff = 1e-2\n",
    "l2coeff = 0\n",
    "sparsity = 0.3\n",
    "\n",
    "pruning_params = {\n",
    "        'pruning_schedule': pruning_sched.ConstantSparsity(0.9, 0),\n",
    "        #'pruning_schedule': pruning_sched.PolynomialDecay(0, 0.3, 0, 100),\n",
    "        'block_size': (1, 1),\n",
    "        'block_pooling_type': 'AVG'\n",
    "    }\n",
    "\n",
    "def component_diff_normalized(v):\n",
    "    \"\"\"How much the vector is close to (1,0) or (0,1).\"\"\"\n",
    "    v = np.abs(v)\n",
    "    return 1. - (max(v) - min(v)) / max(v)\n",
    "\n",
    "def vec_angle_normalized(v1, v2):\n",
    "    \"\"\"Cos betweeen vectors.\"\"\"\n",
    "    return np.abs(np.dot(v1, v2) / (np.linalg.norm(v1) * np.linalg.norm(v2)))\n",
    "\n",
    "def repr_quality(A):\n",
    "    \"\"\"Loss for representation quality for matrix A.\"\"\"\n",
    "    [s_1, s_2] = A.T # basis vectors = columns\n",
    "    return component_diff_normalized(s_1) + \\\n",
    "           component_diff_normalized(s_2) + \\\n",
    "           vec_angle_normalized(s_1, s_2)\n",
    "\n",
    "eps = {'m': 1e-3, 'd': 1e-3, 'e': 1e-3} # eps=0... -- very small distance DE-I\n",
    "\n",
    "def get_results(l1coeff):\n",
    "    \n",
    "    inp_dec = tf.keras.Input(shape=(2,))\n",
    "    \n",
    "    decoder = tf.keras.Sequential([ #D\n",
    "        inp_dec,\n",
    "        tf.keras.layers.Dense(2, activation=None, use_bias=False, #kernel_regularizer=tf.keras.regularizers.l2(l2coeff),\n",
    "                             #kernel_initializer='random_normal',\n",
    "                             #kernel_constraint=tf.keras.constraints.UnitNorm()\n",
    "                             kernel_constraint=tf.keras.constraints.MinMaxNorm(0.5, 1.5) # == 1 -- \n",
    "                             ),\n",
    "    ])\n",
    "    \n",
    "    decoder.layers[-1].set_weights([np.linalg.inv(Q1).T + np.ones((2, 2)) * eps['d']])\n",
    "    #decoder.layers[-1].set_weights([np.linalg.inv(Q1).T + np.random.randn(2, 2) * 0])\n",
    "    \n",
    "    # encoder model -- imitates the RL agent which has converged to something -- and needs to reconstruct the state\n",
    "    # but the policy is \"fixed\" and the reward = max\n",
    "    encoder_model = tf.keras.Sequential([ # E\n",
    "        tf.keras.Input(shape=(2,)),\n",
    "        tf.keras.layers.Dense(2, activation=None, use_bias=False, #kernel_regularizer=tf.keras.regularizers.l2(l2coeff),\n",
    "                             #kernel_initializer='random_normal',\n",
    "                             #kernel_constraint=tf.keras.constraints.UnitNorm()\n",
    "                              \n",
    "                             # how can we take the scale out of this -- decompose \n",
    "                             kernel_constraint=tf.keras.constraints.MinMaxNorm(0.5, 1.5)\n",
    "                             ),\n",
    "    ])\n",
    "    \n",
    "    encoder_model.layers[-1].set_weights([Q1.T + np.ones((2, 2)) * eps['e']])\n",
    "    #encoder_model.layers[-1].set_weights([np.linalg.inv(decoder.get_weights()[0])])\n",
    "\n",
    "    # maps observations to features\n",
    "    model = tf.keras.Sequential([ # M\n",
    "        m_passthrough_action(decoder, 2, 2), # D\n",
    "        tf.keras.Input(shape=(4,)),\n",
    "        #prune.prune_low_magnitude(\n",
    "            tf.keras.layers.Dense(2, activation=None, use_bias=False, kernel_regularizer=tf.keras.regularizers.l1(l1coeff),\n",
    "                                 #kernel_initializer='random_normal'\n",
    "                                 ), # M_D\n",
    "        #**pruning_params)\n",
    "    ])\n",
    "    \n",
    "    model.layers[-1].set_weights([A.T + np.ones((4, 2)) * eps['m']])\n",
    "    \n",
    "    def loss_with_decoder(y_true, y_pred, x=None):\n",
    "        L = tf.reduce_mean(tf.abs(y_pred - decoder(y_true)))\n",
    "        if x is not None:\n",
    "            x = x[:,:2]\n",
    "            L += .5 * tf.reduce_mean(tf.abs(encoder_model(decoder(x)) - x))\n",
    "        return L\n",
    "    \n",
    "    optimizer = tf.keras.optimizers.SGD(lr=0.000001)\n",
    "\n",
    "    def step(xs, ys):\n",
    "        with tf.GradientTape() as tape:\n",
    "            # Make prediction\n",
    "            pred_y = model(np.array(xs, dtype=np.float32))\n",
    "            # Calculate loss\n",
    "            model_loss = loss_with_decoder(ys, pred_y, xs)\n",
    "        model_loss_nodec = loss_with_decoder(ys, pred_y, x=None)\n",
    "\n",
    "        # Calculate gradients\n",
    "        model_gradients = tape.gradient(model_loss, model.trainable_variables)\n",
    "        # Update model\n",
    "        optimizer.apply_gradients(zip(model_gradients, model.trainable_variables))\n",
    "        return model_loss_nodec.numpy()\n",
    "\n",
    "\n",
    "    model.compile(optimizer='adam', loss=loss_with_decoder)\n",
    "    \n",
    "    \n",
    "    #step_callback = pruning_callbacks.UpdatePruningStep()\n",
    "    model.optimizer = optimizer\n",
    "    #step_callback.set_model(model)\n",
    "    \n",
    "\n",
    "    #step_callback.on_train_begin()\n",
    "    \n",
    "    unused_arg = -1\n",
    "   \n",
    "    losses = []\n",
    "    distances = []\n",
    "    \n",
    "    DE = decoder.weights[0].numpy().T @ Q1\n",
    "    distances.append(repr_quality(DE))\n",
    "    \n",
    "    for _ in tqdm(range(200)):\n",
    "        \n",
    "        x_train = xs_e\n",
    "        y_train = ys_e\n",
    "        batch_size=16\n",
    "        epochs = 1\n",
    "        bat_per_epoch = int(len(x_train) / batch_size)\n",
    "        for epoch in range(epochs):\n",
    "            #print('=', end='')\n",
    "            L = []\n",
    "            for i in range(bat_per_epoch):\n",
    "                #step_callback.on_train_batch_begin(batch=-1)\n",
    "                n = i * batch_size\n",
    "                loss = step(x_train[n:n+batch_size], y_train[n:n+batch_size])\n",
    "                l = model.layers[-1]\n",
    "                w = l.get_weights()[0]\n",
    "                w[np.abs(w) < 1e-1] = 0\n",
    "                l.set_weights([w])\n",
    "                L.append(loss)\n",
    "                #step_callback.on_train_batch_end(batch=i)\n",
    "            #step_callback.on_epoch_end(batch=-1)\n",
    "            #step_callback.on_epoch_end(-1)\n",
    "            #print(model.get_weights())\n",
    "            \n",
    "            losses.append(np.mean(L))\n",
    "                \n",
    "        \n",
    "        #h = model.fit(xs_e, ys_e, epochs=10, batch_size=16, verbose=0)#, callbacks=[pruning_callbacks.UpdatePruningStep()])\n",
    "        \n",
    "        DE = decoder.weights[0].numpy().T @ Q1\n",
    "        #DE = DE / DE[0, 0]\n",
    "        #dist = matrix_dist(DE, np.eye(2)) # it can swap them as well...\n",
    "        #l1, l2 = np.linalg.eig(DE.T @ DE)[0]\n",
    "        #DE = DE / np.max(DE, axis=0)\n",
    "        #dist = min(matrix_dist(DE, np.eye(2)), matrix_dist(DE, np.eye(2)[:,[1,0]]))\n",
    "        dist = repr_quality(DE)\n",
    "        #dist = np.abs(np.abs(l1) - np.abs(l2))\n",
    "        \n",
    "        distances.append(dist)\n",
    "    #step_callback.on_train_end()\n",
    "    loss = model.evaluate(xs_e, ys_e, verbose=0)\n",
    "    losses.append(loss)\n",
    "    return losses, distances, model, DE, encoder_model\n",
    "\n",
    "#losses, distances, model, DE, encoder_model = get_results(1e-3)"
   ]
  },
  {
   "cell_type": "markdown",
   "metadata": {},
   "source": [
    "First success -- try with 1e-2 for ED and 5e-1 for the M"
   ]
  },
  {
   "cell_type": "code",
   "execution_count": 358,
   "metadata": {
    "scrolled": true
   },
   "outputs": [
    {
     "name": "stderr",
     "output_type": "stream",
     "text": [
      "\r",
      "  0%|          | 0/200 [00:00<?, ?it/s]"
     ]
    },
    {
     "name": "stdout",
     "output_type": "stream",
     "text": [
      "WARNING:tensorflow:Layer dense_198 is casting an input tensor from dtype float64 to the layer's dtype of float32, which is new behavior in TensorFlow 2.  The layer has dtype float32 because it's dtype defaults to floatx.\n",
      "\n",
      "If you intended to run this layer in float32, you can safely ignore this warning. If in doubt, this warning is likely only an issue if you are porting a TensorFlow 1.X model to TensorFlow 2.\n",
      "\n",
      "To change all layers to have dtype float64 by default, call `tf.keras.backend.set_floatx('float64')`. To change just this layer, pass dtype='float64' to the layer constructor. If you are the author of this layer, you can disable autocasting by passing autocast=False to the base Layer constructor.\n",
      "\n"
     ]
    },
    {
     "name": "stderr",
     "output_type": "stream",
     "text": [
      "100%|██████████| 200/200 [01:19<00:00,  2.52it/s]\n"
     ]
    }
   ],
   "source": [
    "losses, distances, model, DE, encoder_model = get_results(0)"
   ]
  },
  {
   "cell_type": "code",
   "execution_count": 359,
   "metadata": {},
   "outputs": [
    {
     "data": {
      "text/plain": [
       "([0.0024013703,\n",
       "  0.0023122802,\n",
       "  0.0022289914,\n",
       "  0.0021465425,\n",
       "  0.0020650786,\n",
       "  0.0019845723,\n",
       "  0.001904965,\n",
       "  0.0018262867,\n",
       "  0.0017486522,\n",
       "  0.0016715883,\n",
       "  0.0015954709,\n",
       "  0.0015208563,\n",
       "  0.0014481081,\n",
       "  0.0013767113,\n",
       "  0.0013075859,\n",
       "  0.0012409866,\n",
       "  0.0011769676,\n",
       "  0.0011158256,\n",
       "  0.0010574788,\n",
       "  0.0010018513,\n",
       "  0.0009486771,\n",
       "  0.0008988295,\n",
       "  0.000852211,\n",
       "  0.0008084159,\n",
       "  0.00076735223,\n",
       "  0.00072898366,\n",
       "  0.00069328526,\n",
       "  0.00065995957,\n",
       "  0.0006288153,\n",
       "  0.00059952063,\n",
       "  0.0005716419,\n",
       "  0.00054525345,\n",
       "  0.00052039494,\n",
       "  0.0004965218,\n",
       "  0.00047415346,\n",
       "  0.0004531192,\n",
       "  0.00043301782,\n",
       "  0.00041382643,\n",
       "  0.00039556331,\n",
       "  0.00037826382,\n",
       "  0.00036177933,\n",
       "  0.0003458926,\n",
       "  0.00033091917,\n",
       "  0.00031629892,\n",
       "  0.00030226336,\n",
       "  0.0002887903,\n",
       "  0.0002759114,\n",
       "  0.00026346612,\n",
       "  0.0002512271,\n",
       "  0.00023943468,\n",
       "  0.00022809055,\n",
       "  0.00021698295,\n",
       "  0.00020613748,\n",
       "  0.00019542084,\n",
       "  0.0001848587,\n",
       "  0.00017455542,\n",
       "  0.00016436123,\n",
       "  0.00015424153,\n",
       "  0.00014423745,\n",
       "  0.00013425422,\n",
       "  0.00012432557,\n",
       "  0.00011444603,\n",
       "  0.00010447225,\n",
       "  9.444454e-05,\n",
       "  8.472584e-05,\n",
       "  8.1662016e-05,\n",
       "  8.1062695e-05,\n",
       "  8.0433594e-05,\n",
       "  7.988699e-05,\n",
       "  7.93205e-05,\n",
       "  7.877139e-05,\n",
       "  7.821281e-05,\n",
       "  7.76679e-05,\n",
       "  7.7121935e-05,\n",
       "  7.657508e-05,\n",
       "  7.597591e-05,\n",
       "  7.539769e-05,\n",
       "  7.483613e-05,\n",
       "  7.4316384e-05,\n",
       "  7.376601e-05,\n",
       "  7.324868e-05,\n",
       "  7.272432e-05,\n",
       "  7.2212235e-05,\n",
       "  7.173926e-05,\n",
       "  7.11743e-05,\n",
       "  7.069004e-05,\n",
       "  7.0212365e-05,\n",
       "  6.971479e-05,\n",
       "  6.92227e-05,\n",
       "  6.869835e-05,\n",
       "  6.822027e-05,\n",
       "  6.770557e-05,\n",
       "  6.720658e-05,\n",
       "  6.66844e-05,\n",
       "  6.615372e-05,\n",
       "  6.566065e-05,\n",
       "  6.517478e-05,\n",
       "  6.465136e-05,\n",
       "  6.417888e-05,\n",
       "  6.368822e-05,\n",
       "  6.3175576e-05,\n",
       "  6.267491e-05,\n",
       "  6.218951e-05,\n",
       "  6.166378e-05,\n",
       "  6.116331e-05,\n",
       "  6.067818e-05,\n",
       "  6.019219e-05,\n",
       "  5.9659487e-05,\n",
       "  5.913962e-05,\n",
       "  5.8622896e-05,\n",
       "  5.8119847e-05,\n",
       "  5.762986e-05,\n",
       "  5.709081e-05,\n",
       "  5.6598266e-05,\n",
       "  5.6069384e-05,\n",
       "  5.5560024e-05,\n",
       "  5.5076456e-05,\n",
       "  5.452536e-05,\n",
       "  5.4007996e-05,\n",
       "  5.3529304e-05,\n",
       "  5.2993146e-05,\n",
       "  5.2503394e-05,\n",
       "  5.1968753e-05,\n",
       "  5.1443458e-05,\n",
       "  5.091918e-05,\n",
       "  5.0383744e-05,\n",
       "  4.9892245e-05,\n",
       "  4.938205e-05,\n",
       "  4.8830752e-05,\n",
       "  4.8328206e-05,\n",
       "  4.782494e-05,\n",
       "  4.727984e-05,\n",
       "  4.6775705e-05,\n",
       "  4.623318e-05,\n",
       "  4.569727e-05,\n",
       "  4.5205536e-05,\n",
       "  4.4679055e-05,\n",
       "  4.4147655e-05,\n",
       "  4.361385e-05,\n",
       "  4.3107004e-05,\n",
       "  4.257662e-05,\n",
       "  4.2071293e-05,\n",
       "  4.155402e-05,\n",
       "  4.1030245e-05,\n",
       "  4.0523963e-05,\n",
       "  4.0000185e-05,\n",
       "  3.9489292e-05,\n",
       "  3.8959086e-05,\n",
       "  3.8431772e-05,\n",
       "  3.7892685e-05,\n",
       "  3.7402853e-05,\n",
       "  3.686519e-05,\n",
       "  3.6337893e-05,\n",
       "  3.58542e-05,\n",
       "  3.5307152e-05,\n",
       "  3.4777917e-05,\n",
       "  3.4271845e-05,\n",
       "  3.3720906e-05,\n",
       "  3.3221004e-05,\n",
       "  3.2680095e-05,\n",
       "  3.2147636e-05,\n",
       "  3.16322e-05,\n",
       "  3.1074283e-05,\n",
       "  3.057424e-05,\n",
       "  3.0070994e-05,\n",
       "  2.9518405e-05,\n",
       "  2.8993483e-05,\n",
       "  2.8475783e-05,\n",
       "  2.7938597e-05,\n",
       "  2.74268e-05,\n",
       "  2.6890473e-05,\n",
       "  2.6365291e-05,\n",
       "  2.5852025e-05,\n",
       "  2.5323956e-05,\n",
       "  2.4821837e-05,\n",
       "  2.4279272e-05,\n",
       "  2.3724253e-05,\n",
       "  2.322945e-05,\n",
       "  2.272525e-05,\n",
       "  2.2204234e-05,\n",
       "  2.1683762e-05,\n",
       "  2.1159727e-05,\n",
       "  2.0646827e-05,\n",
       "  2.010629e-05,\n",
       "  1.9624093e-05,\n",
       "  1.9066825e-05,\n",
       "  1.8558554e-05,\n",
       "  1.803697e-05,\n",
       "  1.7529672e-05,\n",
       "  1.7034557e-05,\n",
       "  1.6508211e-05,\n",
       "  1.600768e-05,\n",
       "  1.5481495e-05,\n",
       "  1.4979958e-05,\n",
       "  1.446298e-05,\n",
       "  1.39818385e-05,\n",
       "  1.34533675e-05,\n",
       "  1.2953929e-05,\n",
       "  1.2426653e-05,\n",
       "  1.1897325e-05,\n",
       "  1.1615677824011073e-05],\n",
       " [0.0060026949071741945,\n",
       "  0.005749779042830058,\n",
       "  0.005499604833720306,\n",
       "  0.005250971903323324,\n",
       "  0.005003217377154796,\n",
       "  0.004757420754307278,\n",
       "  0.004513870449571394,\n",
       "  0.004272431446301956,\n",
       "  0.004033477581487644,\n",
       "  0.003796792368011257,\n",
       "  0.0035629385416410145,\n",
       "  0.0033314237737514327,\n",
       "  0.003103230844743082,\n",
       "  0.0028774958131478367,\n",
       "  0.0026531675516456186,\n",
       "  0.0024339295832013002,\n",
       "  0.0022193806831252508,\n",
       "  0.002009729300636194,\n",
       "  0.0018083299671903222,\n",
       "  0.001611290596525435,\n",
       "  0.0014194980469231563,\n",
       "  0.0012312117183874267,\n",
       "  0.0010504909990110987,\n",
       "  0.0008778915798960468,\n",
       "  0.0007109083352048343,\n",
       "  0.0005511455367048193,\n",
       "  0.000399919239289495,\n",
       "  0.0002582084899736467,\n",
       "  0.00018280270509318604,\n",
       "  0.00012580499902325025,\n",
       "  0.00018713075386846663,\n",
       "  0.0002427638009781451,\n",
       "  0.00032081730646601114,\n",
       "  0.00040960587428229115,\n",
       "  0.0004897720685721369,\n",
       "  0.0005591577405509728,\n",
       "  0.0006213147349010087,\n",
       "  0.0006752366700656911,\n",
       "  0.000720532749468519,\n",
       "  0.0007581689386560931,\n",
       "  0.0007908316044821803,\n",
       "  0.0008155138749808228,\n",
       "  0.000833965110559933,\n",
       "  0.000844094216408776,\n",
       "  0.0008500334657893761,\n",
       "  0.0008538167668624901,\n",
       "  0.0008559595459920091,\n",
       "  0.0008511322074423285,\n",
       "  0.0008406145240906604,\n",
       "  0.0008281643608387154,\n",
       "  0.0008142803932909503,\n",
       "  0.000798117436973539,\n",
       "  0.0007773614063621212,\n",
       "  0.0007556017691622682,\n",
       "  0.0007322124847979155,\n",
       "  0.0007087168686406532,\n",
       "  0.0006830438158083137,\n",
       "  0.0006561810461735412,\n",
       "  0.0006277864874992519,\n",
       "  0.0005984150893702301,\n",
       "  0.000568103710585013,\n",
       "  0.0005380300460861823,\n",
       "  0.000507043998900172,\n",
       "  0.00047451684595400663,\n",
       "  0.0004410522412763167,\n",
       "  0.00041847092387934434,\n",
       "  0.00041385562190746994,\n",
       "  0.0004119199666501438,\n",
       "  0.0004103063401381888,\n",
       "  0.0004068111721818356,\n",
       "  0.0004043349800865216,\n",
       "  0.00040217228040937276,\n",
       "  0.0003984891831507381,\n",
       "  0.0003965385902200204,\n",
       "  0.0003958903985768434,\n",
       "  0.0003904060816438455,\n",
       "  0.00038788705095425466,\n",
       "  0.00038567620070523823,\n",
       "  0.00038479473911999604,\n",
       "  0.0003806152945091736,\n",
       "  0.000376894521366998,\n",
       "  0.0003741735781858946,\n",
       "  0.0003715817789541841,\n",
       "  0.00036933260510961584,\n",
       "  0.0003670124003138411,\n",
       "  0.0003637095085960566,\n",
       "  0.00036171623411534494,\n",
       "  0.00035877185627671373,\n",
       "  0.0003560788417540711,\n",
       "  0.0003534837173529285,\n",
       "  0.0003508885999251643,\n",
       "  0.00034890481919942263,\n",
       "  0.00034569825640343675,\n",
       "  0.0003432384600982642,\n",
       "  0.0003411079256838434,\n",
       "  0.0003383888014111901,\n",
       "  0.0003353076635241827,\n",
       "  0.0003328027153988811,\n",
       "  0.00033251049238661645,\n",
       "  0.00032757015892360714,\n",
       "  0.00032499726484692753,\n",
       "  0.0003224243203166461,\n",
       "  0.00032054888947442736,\n",
       "  0.00031731076560662607,\n",
       "  0.00031508625016385915,\n",
       "  0.0003121359172733859,\n",
       "  0.0003120534591387915,\n",
       "  0.0003069322066390446,\n",
       "  0.00030623947370306146,\n",
       "  0.0003016707787324033,\n",
       "  0.0002991660004470424,\n",
       "  0.00029882670758905384,\n",
       "  0.0002949107960218785,\n",
       "  0.0002919327236826266,\n",
       "  0.00028949566197206215,\n",
       "  0.0002864597249530097,\n",
       "  0.0002841019113570742,\n",
       "  0.00028060697062119364,\n",
       "  0.00027810406159385615,\n",
       "  0.00027651467389005937,\n",
       "  0.0002727832393572572,\n",
       "  0.0002702171575181949,\n",
       "  0.0002680086277511624,\n",
       "  0.0002649019776927505,\n",
       "  0.0002621517838147597,\n",
       "  0.00025946337600180525,\n",
       "  0.0002593404066064132,\n",
       "  0.00025408662676355115,\n",
       "  0.0002513982659096051,\n",
       "  0.00024870992206388223,\n",
       "  0.00024655957202188877,\n",
       "  0.00024379313951507377,\n",
       "  0.00024329110948836295,\n",
       "  0.0002380501142963768,\n",
       "  0.00023727613286018026,\n",
       "  0.00023405291064363518,\n",
       "  0.0002300436526826007,\n",
       "  0.0002273745212416235,\n",
       "  0.00022715616989115716,\n",
       "  0.00022295612388271985,\n",
       "  0.0002199090442426497,\n",
       "  0.00021754818714916143,\n",
       "  0.00021399911373028868,\n",
       "  0.00021129298736343027,\n",
       "  0.00021090517041000403,\n",
       "  0.00020850693292840473,\n",
       "  0.00020326052705319826,\n",
       "  0.00020285901699929068,\n",
       "  0.00019791625147234294,\n",
       "  0.0001952603189020415,\n",
       "  0.00019270437380481374,\n",
       "  0.00018991618198938533,\n",
       "  0.00018919030107129577,\n",
       "  0.00018459752361625807,\n",
       "  0.00018404214597374273,\n",
       "  0.00018104842462689436,\n",
       "  0.0001765686130338331,\n",
       "  0.0001738486118532536,\n",
       "  0.00017113444286332097,\n",
       "  0.00016926002350470083,\n",
       "  0.00016837068825704341,\n",
       "  0.00016468423565472857,\n",
       "  0.00016058116039880586,\n",
       "  0.00016028412533066025,\n",
       "  0.00015767166674582984,\n",
       "  0.00015226281605998588,\n",
       "  0.00014985543965830928,\n",
       "  0.00014694912071632125,\n",
       "  0.0001444963687529252,\n",
       "  0.00014384710956920392,\n",
       "  0.00014127544974252383,\n",
       "  0.00013608296397151442,\n",
       "  0.00013444890839531932,\n",
       "  0.0001333916222808349,\n",
       "  0.00012804171980251386,\n",
       "  0.0001262784189398923,\n",
       "  0.00012268767747758078,\n",
       "  0.00011995766209707422,\n",
       "  0.00011726955672903534,\n",
       "  0.0001145814945891509,\n",
       "  0.00011323128660318651,\n",
       "  0.00010970885007284954,\n",
       "  0.0001074017525924906,\n",
       "  0.00010663957034797566,\n",
       "  0.00010379454974169963,\n",
       "  9.870472804459272e-05,\n",
       "  9.634781331038593e-05,\n",
       "  9.376949410337226e-05,\n",
       "  9.066945343474226e-05,\n",
       "  9.070639913134627e-05,\n",
       "  8.550213582771756e-05,\n",
       "  8.278953358934118e-05,\n",
       "  8.006527519991146e-05,\n",
       "  7.987356510385213e-05,\n",
       "  7.573821488491695e-05,\n",
       "  7.22909665391627e-05,\n",
       "  6.961586142959885e-05,\n",
       "  6.868694595727399e-05,\n",
       "  6.453074788177288e-05,\n",
       "  6.161925541635546e-05,\n",
       "  5.906153582617275e-05],\n",
       " <tensorflow.python.keras.engine.sequential.Sequential at 0x7f148c3683d0>,\n",
       " array([[1.00027393e+00, 5.71891793e-08],\n",
       "        [2.94816813e-05, 1.00050347e+00]]),\n",
       " <tensorflow.python.keras.engine.sequential.Sequential at 0x7f148c388790>)"
      ]
     },
     "execution_count": 359,
     "metadata": {},
     "output_type": "execute_result"
    }
   ],
   "source": [
    "losses, distances, model, DE, encoder_model"
   ]
  },
  {
   "cell_type": "code",
   "execution_count": 360,
   "metadata": {},
   "outputs": [
    {
     "data": {
      "text/plain": [
       "array([[1.00027393e+00, 5.71891793e-08],\n",
       "       [2.94816813e-05, 1.00050347e+00]])"
      ]
     },
     "execution_count": 360,
     "metadata": {},
     "output_type": "execute_result"
    }
   ],
   "source": [
    "DE"
   ]
  },
  {
   "cell_type": "code",
   "execution_count": 361,
   "metadata": {
    "scrolled": true
   },
   "outputs": [
    {
     "data": {
      "text/plain": [
       "[array([[-1.0545887 ,  0.17583065],\n",
       "        [ 0.08391362, -0.6292486 ]], dtype=float32),\n",
       " array([[0.9999998, 0.       ],\n",
       "        [0.       , 0.9999996],\n",
       "        [1.0002741, 0.       ],\n",
       "        [0.       , 1.0005044]], dtype=float32)]"
      ]
     },
     "execution_count": 361,
     "metadata": {},
     "output_type": "execute_result"
    }
   ],
   "source": [
    "model.get_weights()"
   ]
  },
  {
   "cell_type": "code",
   "execution_count": 362,
   "metadata": {
    "scrolled": true
   },
   "outputs": [
    {
     "data": {
      "image/png": "[encoded data removed]",
      "text/plain": [
       "<Figure size 432x288 with 1 Axes>"
      ]
     },
     "metadata": {
      "needs_background": "light"
     },
     "output_type": "display_data"
    },
    {
     "data": {
      "image/png": "[encoded data removed]",
      "text/plain": [
       "<Figure size 432x288 with 1 Axes>"
      ]
     },
     "metadata": {
      "needs_background": "light"
     },
     "output_type": "display_data"
    }
   ],
   "source": [
    "plt.plot(losses, color='blue')\n",
    "plt.show()\n",
    "plt.plot(distances, color='red')\n",
    "plt.show()"
   ]
  },
  {
   "cell_type": "code",
   "execution_count": 319,
   "metadata": {},
   "outputs": [
    {
     "data": {
      "text/plain": [
       "array([[0.99929816, 0.        , 0.9936798 , 0.        ],\n",
       "       [0.        , 1.0001411 , 0.        , 0.9870454 ]], dtype=float32)"
      ]
     },
     "execution_count": 319,
     "metadata": {},
     "output_type": "execute_result"
    }
   ],
   "source": [
    "model.get_weights()[1].T"
   ]
  },
  {
   "cell_type": "code",
   "execution_count": 320,
   "metadata": {},
   "outputs": [
    {
     "data": {
      "text/plain": [
       "[array([[-1.0416505 ,  0.18170384],\n",
       "        [ 0.06771252, -0.6218136 ]], dtype=float32),\n",
       " array([[0.99929816, 0.        ],\n",
       "        [0.        , 1.0001411 ],\n",
       "        [0.9936798 , 0.        ],\n",
       "        [0.        , 0.9870454 ]], dtype=float32)]"
      ]
     },
     "execution_count": 320,
     "metadata": {},
     "output_type": "execute_result"
    }
   ],
   "source": [
    "model.get_weights()"
   ]
  },
  {
   "cell_type": "code",
   "execution_count": 321,
   "metadata": {},
   "outputs": [
    {
     "data": {
      "text/plain": [
       "array([[ 0.99211537,  0.02467143],\n",
       "       [-0.00768365,  0.98765303]])"
      ]
     },
     "execution_count": 321,
     "metadata": {},
     "output_type": "execute_result"
    }
   ],
   "source": [
    "DE"
   ]
  },
  {
   "cell_type": "code",
   "execution_count": 322,
   "metadata": {},
   "outputs": [],
   "source": [
    "l1regs = np.logspace(-5, -3, 5)\n",
    "repetitions = 2"
   ]
  },
  {
   "cell_type": "code",
   "execution_count": 323,
   "metadata": {},
   "outputs": [
    {
     "name": "stderr",
     "output_type": "stream",
     "text": [
      "\r",
      "  0%|          | 0/200 [00:00<?, ?it/s]"
     ]
    },
    {
     "name": "stdout",
     "output_type": "stream",
     "text": [
      "WARNING:tensorflow:Layer dense_181 is casting an input tensor from dtype float64 to the layer's dtype of float32, which is new behavior in TensorFlow 2.  The layer has dtype float32 because it's dtype defaults to floatx.\n",
      "\n",
      "If you intended to run this layer in float32, you can safely ignore this warning. If in doubt, this warning is likely only an issue if you are porting a TensorFlow 1.X model to TensorFlow 2.\n",
      "\n",
      "To change all layers to have dtype float64 by default, call `tf.keras.backend.set_floatx('float64')`. To change just this layer, pass dtype='float64' to the layer constructor. If you are the author of this layer, you can disable autocasting by passing autocast=False to the base Layer constructor.\n",
      "\n"
     ]
    },
    {
     "name": "stderr",
     "output_type": "stream",
     "text": [
      " 32%|███▏      | 64/200 [00:25<00:54,  2.50it/s]\n"
     ]
    },
    {
     "ename": "KeyboardInterrupt",
     "evalue": "",
     "output_type": "error",
     "traceback": [
      "\u001b[0;31m---------------------------------------------------------------------------\u001b[0m",
      "\u001b[0;31mKeyboardInterrupt\u001b[0m                         Traceback (most recent call last)",
      "\u001b[0;32m<ipython-input-323-5bf0e34bdddd>\u001b[0m in \u001b[0;36m<module>\u001b[0;34m\u001b[0m\n\u001b[1;32m      3\u001b[0m     \u001b[0mplt\u001b[0m\u001b[0;34m.\u001b[0m\u001b[0mtitle\u001b[0m\u001b[0;34m(\u001b[0m\u001b[0;34m\"blue loss, red distance l1=%s\"\u001b[0m \u001b[0;34m%\u001b[0m \u001b[0mstr\u001b[0m\u001b[0;34m(\u001b[0m\u001b[0ml1\u001b[0m\u001b[0;34m)\u001b[0m\u001b[0;34m)\u001b[0m\u001b[0;34m\u001b[0m\u001b[0;34m\u001b[0m\u001b[0m\n\u001b[1;32m      4\u001b[0m     \u001b[0;32mfor\u001b[0m \u001b[0m_\u001b[0m \u001b[0;32min\u001b[0m \u001b[0mrange\u001b[0m\u001b[0;34m(\u001b[0m\u001b[0mrepetitions\u001b[0m\u001b[0;34m)\u001b[0m\u001b[0;34m:\u001b[0m\u001b[0;34m\u001b[0m\u001b[0;34m\u001b[0m\u001b[0m\n\u001b[0;32m----> 5\u001b[0;31m         \u001b[0mlosses\u001b[0m\u001b[0;34m,\u001b[0m \u001b[0mdistances\u001b[0m\u001b[0;34m,\u001b[0m \u001b[0m_\u001b[0m\u001b[0;34m,\u001b[0m \u001b[0m_\u001b[0m\u001b[0;34m,\u001b[0m \u001b[0m_\u001b[0m \u001b[0;34m=\u001b[0m \u001b[0mget_results\u001b[0m\u001b[0;34m(\u001b[0m\u001b[0ml1\u001b[0m\u001b[0;34m)\u001b[0m\u001b[0;34m\u001b[0m\u001b[0;34m\u001b[0m\u001b[0m\n\u001b[0m\u001b[1;32m      6\u001b[0m         \u001b[0mplt\u001b[0m\u001b[0;34m.\u001b[0m\u001b[0mplot\u001b[0m\u001b[0;34m(\u001b[0m\u001b[0mlosses\u001b[0m\u001b[0;34m,\u001b[0m \u001b[0mcolor\u001b[0m\u001b[0;34m=\u001b[0m\u001b[0;34m'blue'\u001b[0m\u001b[0;34m)\u001b[0m\u001b[0;34m\u001b[0m\u001b[0;34m\u001b[0m\u001b[0m\n\u001b[1;32m      7\u001b[0m         \u001b[0mplt\u001b[0m\u001b[0;34m.\u001b[0m\u001b[0mplot\u001b[0m\u001b[0;34m(\u001b[0m\u001b[0mdistances\u001b[0m\u001b[0;34m,\u001b[0m \u001b[0mcolor\u001b[0m\u001b[0;34m=\u001b[0m\u001b[0;34m'red'\u001b[0m\u001b[0;34m)\u001b[0m\u001b[0;34m\u001b[0m\u001b[0;34m\u001b[0m\u001b[0m\n",
      "\u001b[0;32m<ipython-input-313-37bcc2252dc9>\u001b[0m in \u001b[0;36mget_results\u001b[0;34m(l1coeff)\u001b[0m\n\u001b[1;32m    130\u001b[0m                 \u001b[0;31m#step_callback.on_train_batch_begin(batch=-1)\u001b[0m\u001b[0;34m\u001b[0m\u001b[0;34m\u001b[0m\u001b[0;34m\u001b[0m\u001b[0m\n\u001b[1;32m    131\u001b[0m                 \u001b[0mn\u001b[0m \u001b[0;34m=\u001b[0m \u001b[0mi\u001b[0m \u001b[0;34m*\u001b[0m \u001b[0mbatch_size\u001b[0m\u001b[0;34m\u001b[0m\u001b[0;34m\u001b[0m\u001b[0m\n\u001b[0;32m--> 132\u001b[0;31m                 \u001b[0mloss\u001b[0m \u001b[0;34m=\u001b[0m \u001b[0mstep\u001b[0m\u001b[0;34m(\u001b[0m\u001b[0mx_train\u001b[0m\u001b[0;34m[\u001b[0m\u001b[0mn\u001b[0m\u001b[0;34m:\u001b[0m\u001b[0mn\u001b[0m\u001b[0;34m+\u001b[0m\u001b[0mbatch_size\u001b[0m\u001b[0;34m]\u001b[0m\u001b[0;34m,\u001b[0m \u001b[0my_train\u001b[0m\u001b[0;34m[\u001b[0m\u001b[0mn\u001b[0m\u001b[0;34m:\u001b[0m\u001b[0mn\u001b[0m\u001b[0;34m+\u001b[0m\u001b[0mbatch_size\u001b[0m\u001b[0;34m]\u001b[0m\u001b[0;34m)\u001b[0m\u001b[0;34m\u001b[0m\u001b[0;34m\u001b[0m\u001b[0m\n\u001b[0m\u001b[1;32m    133\u001b[0m                 \u001b[0ml\u001b[0m \u001b[0;34m=\u001b[0m \u001b[0mmodel\u001b[0m\u001b[0;34m.\u001b[0m\u001b[0mlayers\u001b[0m\u001b[0;34m[\u001b[0m\u001b[0;34m-\u001b[0m\u001b[0;36m1\u001b[0m\u001b[0;34m]\u001b[0m\u001b[0;34m\u001b[0m\u001b[0;34m\u001b[0m\u001b[0m\n\u001b[1;32m    134\u001b[0m                 \u001b[0mw\u001b[0m \u001b[0;34m=\u001b[0m \u001b[0ml\u001b[0m\u001b[0;34m.\u001b[0m\u001b[0mget_weights\u001b[0m\u001b[0;34m(\u001b[0m\u001b[0;34m)\u001b[0m\u001b[0;34m[\u001b[0m\u001b[0;36m0\u001b[0m\u001b[0;34m]\u001b[0m\u001b[0;34m\u001b[0m\u001b[0;34m\u001b[0m\u001b[0m\n",
      "\u001b[0;32m<ipython-input-313-37bcc2252dc9>\u001b[0m in \u001b[0;36mstep\u001b[0;34m(xs, ys)\u001b[0m\n\u001b[1;32m     93\u001b[0m \u001b[0;34m\u001b[0m\u001b[0m\n\u001b[1;32m     94\u001b[0m         \u001b[0;31m# Calculate gradients\u001b[0m\u001b[0;34m\u001b[0m\u001b[0;34m\u001b[0m\u001b[0;34m\u001b[0m\u001b[0m\n\u001b[0;32m---> 95\u001b[0;31m         \u001b[0mmodel_gradients\u001b[0m \u001b[0;34m=\u001b[0m \u001b[0mtape\u001b[0m\u001b[0;34m.\u001b[0m\u001b[0mgradient\u001b[0m\u001b[0;34m(\u001b[0m\u001b[0mmodel_loss\u001b[0m\u001b[0;34m,\u001b[0m \u001b[0mmodel\u001b[0m\u001b[0;34m.\u001b[0m\u001b[0mtrainable_variables\u001b[0m\u001b[0;34m)\u001b[0m\u001b[0;34m\u001b[0m\u001b[0;34m\u001b[0m\u001b[0m\n\u001b[0m\u001b[1;32m     96\u001b[0m         \u001b[0;31m# Update model\u001b[0m\u001b[0;34m\u001b[0m\u001b[0;34m\u001b[0m\u001b[0;34m\u001b[0m\u001b[0m\n\u001b[1;32m     97\u001b[0m         \u001b[0moptimizer\u001b[0m\u001b[0;34m.\u001b[0m\u001b[0mapply_gradients\u001b[0m\u001b[0;34m(\u001b[0m\u001b[0mzip\u001b[0m\u001b[0;34m(\u001b[0m\u001b[0mmodel_gradients\u001b[0m\u001b[0;34m,\u001b[0m \u001b[0mmodel\u001b[0m\u001b[0;34m.\u001b[0m\u001b[0mtrainable_variables\u001b[0m\u001b[0;34m)\u001b[0m\u001b[0;34m)\u001b[0m\u001b[0;34m\u001b[0m\u001b[0;34m\u001b[0m\u001b[0m\n",
      "\u001b[0;32m~/miniconda3/envs/causal/lib/python3.7/site-packages/tensorflow_core/python/eager/backprop.py\u001b[0m in \u001b[0;36mgradient\u001b[0;34m(self, target, sources, output_gradients, unconnected_gradients)\u001b[0m\n\u001b[1;32m   1027\u001b[0m         \u001b[0moutput_gradients\u001b[0m\u001b[0;34m=\u001b[0m\u001b[0moutput_gradients\u001b[0m\u001b[0;34m,\u001b[0m\u001b[0;34m\u001b[0m\u001b[0;34m\u001b[0m\u001b[0m\n\u001b[1;32m   1028\u001b[0m         \u001b[0msources_raw\u001b[0m\u001b[0;34m=\u001b[0m\u001b[0mflat_sources_raw\u001b[0m\u001b[0;34m,\u001b[0m\u001b[0;34m\u001b[0m\u001b[0;34m\u001b[0m\u001b[0m\n\u001b[0;32m-> 1029\u001b[0;31m         unconnected_gradients=unconnected_gradients)\n\u001b[0m\u001b[1;32m   1030\u001b[0m \u001b[0;34m\u001b[0m\u001b[0m\n\u001b[1;32m   1031\u001b[0m     \u001b[0;32mif\u001b[0m \u001b[0;32mnot\u001b[0m \u001b[0mself\u001b[0m\u001b[0;34m.\u001b[0m\u001b[0m_persistent\u001b[0m\u001b[0;34m:\u001b[0m\u001b[0;34m\u001b[0m\u001b[0;34m\u001b[0m\u001b[0m\n",
      "\u001b[0;32m~/miniconda3/envs/causal/lib/python3.7/site-packages/tensorflow_core/python/eager/imperative_grad.py\u001b[0m in \u001b[0;36mimperative_grad\u001b[0;34m(tape, target, sources, output_gradients, sources_raw, unconnected_gradients)\u001b[0m\n\u001b[1;32m     75\u001b[0m       \u001b[0moutput_gradients\u001b[0m\u001b[0;34m,\u001b[0m\u001b[0;34m\u001b[0m\u001b[0;34m\u001b[0m\u001b[0m\n\u001b[1;32m     76\u001b[0m       \u001b[0msources_raw\u001b[0m\u001b[0;34m,\u001b[0m\u001b[0;34m\u001b[0m\u001b[0;34m\u001b[0m\u001b[0m\n\u001b[0;32m---> 77\u001b[0;31m       compat.as_str(unconnected_gradients.value))\n\u001b[0m",
      "\u001b[0;32m~/miniconda3/envs/causal/lib/python3.7/site-packages/tensorflow_core/python/eager/backprop.py\u001b[0m in \u001b[0;36m_gradient_function\u001b[0;34m(op_name, attr_tuple, num_inputs, inputs, outputs, out_grads, skip_input_indices)\u001b[0m\n\u001b[1;32m    139\u001b[0m     \u001b[0;32mreturn\u001b[0m \u001b[0;34m[\u001b[0m\u001b[0;32mNone\u001b[0m\u001b[0;34m]\u001b[0m \u001b[0;34m*\u001b[0m \u001b[0mnum_inputs\u001b[0m\u001b[0;34m\u001b[0m\u001b[0;34m\u001b[0m\u001b[0m\n\u001b[1;32m    140\u001b[0m \u001b[0;34m\u001b[0m\u001b[0m\n\u001b[0;32m--> 141\u001b[0;31m   \u001b[0;32mreturn\u001b[0m \u001b[0mgrad_fn\u001b[0m\u001b[0;34m(\u001b[0m\u001b[0mmock_op\u001b[0m\u001b[0;34m,\u001b[0m \u001b[0;34m*\u001b[0m\u001b[0mout_grads\u001b[0m\u001b[0;34m)\u001b[0m\u001b[0;34m\u001b[0m\u001b[0;34m\u001b[0m\u001b[0m\n\u001b[0m\u001b[1;32m    142\u001b[0m \u001b[0;34m\u001b[0m\u001b[0m\n\u001b[1;32m    143\u001b[0m \u001b[0;34m\u001b[0m\u001b[0m\n",
      "\u001b[0;32m~/miniconda3/envs/causal/lib/python3.7/site-packages/tensorflow_core/python/ops/math_grad.py\u001b[0m in \u001b[0;36m_MeanGrad\u001b[0;34m(op, grad)\u001b[0m\n\u001b[1;32m    256\u001b[0m \u001b[0;32mdef\u001b[0m \u001b[0m_MeanGrad\u001b[0m\u001b[0;34m(\u001b[0m\u001b[0mop\u001b[0m\u001b[0;34m,\u001b[0m \u001b[0mgrad\u001b[0m\u001b[0;34m)\u001b[0m\u001b[0;34m:\u001b[0m\u001b[0;34m\u001b[0m\u001b[0;34m\u001b[0m\u001b[0m\n\u001b[1;32m    257\u001b[0m   \u001b[0;34m\"\"\"Gradient for Mean.\"\"\"\u001b[0m\u001b[0;34m\u001b[0m\u001b[0;34m\u001b[0m\u001b[0m\n\u001b[0;32m--> 258\u001b[0;31m   \u001b[0msum_grad\u001b[0m \u001b[0;34m=\u001b[0m \u001b[0m_SumGrad\u001b[0m\u001b[0;34m(\u001b[0m\u001b[0mop\u001b[0m\u001b[0;34m,\u001b[0m \u001b[0mgrad\u001b[0m\u001b[0;34m)\u001b[0m\u001b[0;34m[\u001b[0m\u001b[0;36m0\u001b[0m\u001b[0;34m]\u001b[0m\u001b[0;34m\u001b[0m\u001b[0;34m\u001b[0m\u001b[0m\n\u001b[0m\u001b[1;32m    259\u001b[0m   \u001b[0minput_shape\u001b[0m \u001b[0;34m=\u001b[0m \u001b[0mop\u001b[0m\u001b[0;34m.\u001b[0m\u001b[0minputs\u001b[0m\u001b[0;34m[\u001b[0m\u001b[0;36m0\u001b[0m\u001b[0;34m]\u001b[0m\u001b[0;34m.\u001b[0m\u001b[0m_shape_tuple\u001b[0m\u001b[0;34m(\u001b[0m\u001b[0;34m)\u001b[0m  \u001b[0;31m# pylint: disable=protected-access\u001b[0m\u001b[0;34m\u001b[0m\u001b[0;34m\u001b[0m\u001b[0m\n\u001b[1;32m    260\u001b[0m   \u001b[0moutput_shape\u001b[0m \u001b[0;34m=\u001b[0m \u001b[0mop\u001b[0m\u001b[0;34m.\u001b[0m\u001b[0moutputs\u001b[0m\u001b[0;34m[\u001b[0m\u001b[0;36m0\u001b[0m\u001b[0;34m]\u001b[0m\u001b[0;34m.\u001b[0m\u001b[0m_shape_tuple\u001b[0m\u001b[0;34m(\u001b[0m\u001b[0;34m)\u001b[0m  \u001b[0;31m# pylint: disable=protected-access\u001b[0m\u001b[0;34m\u001b[0m\u001b[0;34m\u001b[0m\u001b[0m\n",
      "\u001b[0;32m~/miniconda3/envs/causal/lib/python3.7/site-packages/tensorflow_core/python/ops/math_grad.py\u001b[0m in \u001b[0;36m_SumGrad\u001b[0;34m(op, grad)\u001b[0m\n\u001b[1;32m    164\u001b[0m         \u001b[0;32melse\u001b[0m\u001b[0;34m:\u001b[0m\u001b[0;34m\u001b[0m\u001b[0;34m\u001b[0m\u001b[0m\n\u001b[1;32m    165\u001b[0m           \u001b[0mnew_shape\u001b[0m \u001b[0;34m=\u001b[0m \u001b[0;34m[\u001b[0m\u001b[0;36m1\u001b[0m\u001b[0;34m]\u001b[0m \u001b[0;34m*\u001b[0m \u001b[0mrank\u001b[0m\u001b[0;34m\u001b[0m\u001b[0;34m\u001b[0m\u001b[0m\n\u001b[0;32m--> 166\u001b[0;31m         \u001b[0mgrad\u001b[0m \u001b[0;34m=\u001b[0m \u001b[0marray_ops\u001b[0m\u001b[0;34m.\u001b[0m\u001b[0mreshape\u001b[0m\u001b[0;34m(\u001b[0m\u001b[0mgrad\u001b[0m\u001b[0;34m,\u001b[0m \u001b[0mnew_shape\u001b[0m\u001b[0;34m)\u001b[0m\u001b[0;34m\u001b[0m\u001b[0;34m\u001b[0m\u001b[0m\n\u001b[0m\u001b[1;32m    167\u001b[0m         \u001b[0;31m# If shape is not fully defined (but rank is), we use Shape.\u001b[0m\u001b[0;34m\u001b[0m\u001b[0;34m\u001b[0m\u001b[0;34m\u001b[0m\u001b[0m\n\u001b[1;32m    168\u001b[0m         \u001b[0;32mif\u001b[0m \u001b[0;32mNone\u001b[0m \u001b[0;32mnot\u001b[0m \u001b[0;32min\u001b[0m \u001b[0minput_0_shape\u001b[0m\u001b[0;34m:\u001b[0m\u001b[0;34m\u001b[0m\u001b[0;34m\u001b[0m\u001b[0m\n",
      "\u001b[0;32m~/miniconda3/envs/causal/lib/python3.7/site-packages/tensorflow_core/python/ops/array_ops.py\u001b[0m in \u001b[0;36mreshape\u001b[0;34m(tensor, shape, name)\u001b[0m\n\u001b[1;32m    191\u001b[0m     \u001b[0mA\u001b[0m\u001b[0;31m \u001b[0m\u001b[0;31m`\u001b[0m\u001b[0mTensor\u001b[0m\u001b[0;31m`\u001b[0m\u001b[0;34m.\u001b[0m \u001b[0mHas\u001b[0m \u001b[0mthe\u001b[0m \u001b[0msame\u001b[0m \u001b[0mtype\u001b[0m \u001b[0;32mas\u001b[0m\u001b[0;31m \u001b[0m\u001b[0;31m`\u001b[0m\u001b[0mtensor\u001b[0m\u001b[0;31m`\u001b[0m\u001b[0;34m.\u001b[0m\u001b[0;34m\u001b[0m\u001b[0;34m\u001b[0m\u001b[0m\n\u001b[1;32m    192\u001b[0m   \"\"\"\n\u001b[0;32m--> 193\u001b[0;31m   \u001b[0mresult\u001b[0m \u001b[0;34m=\u001b[0m \u001b[0mgen_array_ops\u001b[0m\u001b[0;34m.\u001b[0m\u001b[0mreshape\u001b[0m\u001b[0;34m(\u001b[0m\u001b[0mtensor\u001b[0m\u001b[0;34m,\u001b[0m \u001b[0mshape\u001b[0m\u001b[0;34m,\u001b[0m \u001b[0mname\u001b[0m\u001b[0;34m)\u001b[0m\u001b[0;34m\u001b[0m\u001b[0;34m\u001b[0m\u001b[0m\n\u001b[0m\u001b[1;32m    194\u001b[0m   \u001b[0mtensor_util\u001b[0m\u001b[0;34m.\u001b[0m\u001b[0mmaybe_set_static_shape\u001b[0m\u001b[0;34m(\u001b[0m\u001b[0mresult\u001b[0m\u001b[0;34m,\u001b[0m \u001b[0mshape\u001b[0m\u001b[0;34m)\u001b[0m\u001b[0;34m\u001b[0m\u001b[0;34m\u001b[0m\u001b[0m\n\u001b[1;32m    195\u001b[0m   \u001b[0;32mreturn\u001b[0m \u001b[0mresult\u001b[0m\u001b[0;34m\u001b[0m\u001b[0;34m\u001b[0m\u001b[0m\n",
      "\u001b[0;32m~/miniconda3/envs/causal/lib/python3.7/site-packages/tensorflow_core/python/ops/gen_array_ops.py\u001b[0m in \u001b[0;36mreshape\u001b[0;34m(tensor, shape, name)\u001b[0m\n\u001b[1;32m   7429\u001b[0m       _result = _pywrap_tensorflow.TFE_Py_FastPathExecute(\n\u001b[1;32m   7430\u001b[0m         \u001b[0m_ctx\u001b[0m\u001b[0;34m.\u001b[0m\u001b[0m_context_handle\u001b[0m\u001b[0;34m,\u001b[0m \u001b[0mtld\u001b[0m\u001b[0;34m.\u001b[0m\u001b[0mdevice_name\u001b[0m\u001b[0;34m,\u001b[0m \u001b[0;34m\"Reshape\"\u001b[0m\u001b[0;34m,\u001b[0m \u001b[0mname\u001b[0m\u001b[0;34m,\u001b[0m\u001b[0;34m\u001b[0m\u001b[0;34m\u001b[0m\u001b[0m\n\u001b[0;32m-> 7431\u001b[0;31m         tld.op_callbacks, tensor, shape)\n\u001b[0m\u001b[1;32m   7432\u001b[0m       \u001b[0;32mreturn\u001b[0m \u001b[0m_result\u001b[0m\u001b[0;34m\u001b[0m\u001b[0;34m\u001b[0m\u001b[0m\n\u001b[1;32m   7433\u001b[0m     \u001b[0;32mexcept\u001b[0m \u001b[0m_core\u001b[0m\u001b[0;34m.\u001b[0m\u001b[0m_FallbackException\u001b[0m\u001b[0;34m:\u001b[0m\u001b[0;34m\u001b[0m\u001b[0;34m\u001b[0m\u001b[0m\n",
      "\u001b[0;31mKeyboardInterrupt\u001b[0m: "
     ]
    },
    {
     "data": {
      "image/png": "[encoded data removed]",
      "text/plain": [
       "<Figure size 432x288 with 1 Axes>"
      ]
     },
     "metadata": {
      "needs_background": "light"
     },
     "output_type": "display_data"
    }
   ],
   "source": [
    "for l1 in l1regs:\n",
    "    plt.figure()\n",
    "    plt.title(\"blue loss, red distance l1=%s\" % str(l1))\n",
    "    for _ in range(repetitions):\n",
    "        losses, distances, _, _, _ = get_results(l1)\n",
    "        plt.plot(losses, color='blue')\n",
    "        plt.plot(distances, color='red')\n",
    "    plt.axhline(0)\n",
    "    plt.ylim(0, 10)\n",
    "    plt.show()"
   ]
  },
  {
   "cell_type": "code",
   "execution_count": 172,
   "metadata": {},
   "outputs": [
    {
     "name": "stderr",
     "output_type": "stream",
     "text": [
      "\r",
      "  0%|          | 0/10 [00:00<?, ?it/s]"
     ]
    },
    {
     "name": "stdout",
     "output_type": "stream",
     "text": [
      "WARNING:tensorflow:Layer dense_352 is casting an input tensor from dtype float64 to the layer's dtype of float32, which is new behavior in TensorFlow 2.  The layer has dtype float32 because it's dtype defaults to floatx.\n",
      "\n",
      "If you intended to run this layer in float32, you can safely ignore this warning. If in doubt, this warning is likely only an issue if you are porting a TensorFlow 1.X model to TensorFlow 2.\n",
      "\n",
      "To change all layers to have dtype float64 by default, call `tf.keras.backend.set_floatx('float64')`. To change just this layer, pass dtype='float64' to the layer constructor. If you are the author of this layer, you can disable autocasting by passing autocast=False to the base Layer constructor.\n",
      "\n"
     ]
    },
    {
     "name": "stderr",
     "output_type": "stream",
     "text": [
      "100%|██████████| 10/10 [00:36<00:00,  3.63s/it]\n"
     ]
    },
    {
     "data": {
      "text/plain": [
       "[<matplotlib.lines.Line2D at 0x7f968304d5d0>]"
      ]
     },
     "execution_count": 172,
     "metadata": {},
     "output_type": "execute_result"
    },
    {
     "data": {
      "image/png": "[encoded data removed]",
      "text/plain": [
       "<Figure size 432x288 with 1 Axes>"
      ]
     },
     "metadata": {
      "needs_background": "light"
     },
     "output_type": "display_data"
    }
   ],
   "source": [
    "losses, distances, model, DE, enc_model = get_results(1e-3)\n",
    "plt.plot(losses, color='blue')\n",
    "plt.plot(distances, color='red')"
   ]
  },
  {
   "cell_type": "code",
   "execution_count": 171,
   "metadata": {},
   "outputs": [
    {
     "data": {
      "text/plain": [
       "array([[1.01115143, 1.27647053],\n",
       "       [0.01448598, 0.65488406]])"
      ]
     },
     "execution_count": 171,
     "metadata": {},
     "output_type": "execute_result"
    }
   ],
   "source": [
    "DE"
   ]
  },
  {
   "cell_type": "code",
   "execution_count": 165,
   "metadata": {},
   "outputs": [
    {
     "data": {
      "text/plain": [
       "[<tf.Variable 'dense_349/kernel:0' shape=(2, 2) dtype=float32, numpy=\n",
       " array([[-0.8578968 ,  0.6711588 ],\n",
       "        [-0.67867035, -0.35187235]], dtype=float32)>,\n",
       " <tf.Variable 'dense_351/kernel:0' shape=(4, 2) dtype=float32, numpy=\n",
       " array([[ 1.00011015e+00,  3.45473236e-04],\n",
       "        [-1.40743126e-04,  9.99669671e-01],\n",
       "        [ 1.01090324e+00,  1.45456055e-02],\n",
       "        [ 1.27668142e+00,  6.56009495e-01]], dtype=float32)>]"
      ]
     },
     "execution_count": 165,
     "metadata": {},
     "output_type": "execute_result"
    }
   ],
   "source": [
    "model.weights"
   ]
  },
  {
   "cell_type": "code",
   "execution_count": 166,
   "metadata": {},
   "outputs": [
    {
     "data": {
      "text/plain": [
       "[<tf.Variable 'dense_350/kernel:0' shape=(2, 2) dtype=float32, numpy=\n",
       " array([[-0.46473598, -0.8858308 ],\n",
       "        [ 0.89586246, -1.1324092 ]], dtype=float32)>]"
      ]
     },
     "execution_count": 166,
     "metadata": {},
     "output_type": "execute_result"
    }
   ],
   "source": [
    "enc_model.weights"
   ]
  },
  {
   "cell_type": "markdown",
   "metadata": {},
   "source": [
    "Problem: the example doesn't work\n",
    "Anothe problem: $|\\lambda_1|\\approx|\\lambda_2|$ is only a necessary condition but not sufficient...\n",
    "\n",
    "And it's also not necessary -- can have (1, 2) and then it's not about this at all..."
   ]
  },
  {
   "cell_type": "code",
   "execution_count": 78,
   "metadata": {},
   "outputs": [
    {
     "data": {
      "text/plain": [
       "[<tf.Variable 'dense_275/kernel:0' shape=(2, 2) dtype=float32, numpy=\n",
       " array([[ 0.4931337 ,  1.1180147 ],\n",
       "        [-0.08453786, -0.19184949]], dtype=float32)>,\n",
       " <tf.Variable 'dense_276/kernel:0' shape=(4, 2) dtype=float32, numpy=\n",
       " array([[ 0.19569884, -0.40586734],\n",
       "        [ 0.35487092,  1.1795061 ],\n",
       "        [-0.1481647 , -0.3354655 ],\n",
       "        [ 0.15505023,  0.35242257]], dtype=float32)>]"
      ]
     },
     "execution_count": 78,
     "metadata": {},
     "output_type": "execute_result"
    }
   ],
   "source": [
    "model.weights"
   ]
  },
  {
   "cell_type": "code",
   "execution_count": 169,
   "metadata": {},
   "outputs": [
    {
     "data": {
      "text/plain": [
       "0.41544253"
      ]
     },
     "execution_count": 169,
     "metadata": {},
     "output_type": "execute_result"
    }
   ],
   "source": [
    "[s1, s2] = enc_model.weights[0].numpy().T\n",
    "model.weights[0], s1, s2\n",
    "vec_angle_normalized(s1, s2)"
   ]
  },
  {
   "cell_type": "code",
   "execution_count": 170,
   "metadata": {},
   "outputs": [
    {
     "data": {
      "text/plain": [
       "array([ 0.5246329 , -0.79111195], dtype=float32)"
      ]
     },
     "execution_count": 170,
     "metadata": {},
     "output_type": "execute_result"
    }
   ],
   "source": [
    "s1/s2 # it is bad... two features are the same."
   ]
  },
  {
   "cell_type": "markdown",
   "metadata": {},
   "source": [
    "How to regularize foe the number of non-zero elements? Use SparseSep instead of l1 https://arxiv.org/pdf/1701.06967.pdf\n",
    "\n",
    "How to evaluate the transform $DE=?$ it should be the right vectors, but they can be scaled and permuted. Therefore, we use the following metric: L1+L2+L3, where L1=difference between two components for first vector, L2 for the second and L3 the dot product between the two (should be 0)\n",
    "\n",
    "add constraint on mean/variance of features?"
   ]
  },
  {
   "cell_type": "code",
   "execution_count": 16,
   "metadata": {},
   "outputs": [
    {
     "data": {
      "text/plain": [
       "array([[ 0.11062729,  1.0961417 ],\n",
       "       [ 2.01711932, -0.97958002]])"
      ]
     },
     "execution_count": 16,
     "metadata": {},
     "output_type": "execute_result"
    }
   ],
   "source": [
    "A = np.random.randn(2, 2)\n",
    "A"
   ]
  },
  {
   "cell_type": "code",
   "execution_count": 19,
   "metadata": {},
   "outputs": [],
   "source": []
  },
  {
   "cell_type": "code",
   "execution_count": 21,
   "metadata": {},
   "outputs": [
    {
     "data": {
      "text/plain": [
       "array([ 1.0961417 , -0.97958002])"
      ]
     },
     "execution_count": 21,
     "metadata": {},
     "output_type": "execute_result"
    }
   ],
   "source": [
    "s_2"
   ]
  },
  {
   "cell_type": "code",
   "execution_count": 44,
   "metadata": {},
   "outputs": [],
   "source": []
  },
  {
   "cell_type": "code",
   "execution_count": 45,
   "metadata": {},
   "outputs": [
    {
     "data": {
      "text/plain": [
       "1.573023080126135"
      ]
     },
     "execution_count": 45,
     "metadata": {},
     "output_type": "execute_result"
    }
   ],
   "source": [
    "repr_quality(A)"
   ]
  },
  {
   "cell_type": "code",
   "execution_count": 46,
   "metadata": {},
   "outputs": [
    {
     "data": {
      "text/plain": [
       "array([[ 0.11062729,  1.0961417 ],\n",
       "       [ 2.01711932, -0.97958002]])"
      ]
     },
     "execution_count": 46,
     "metadata": {},
     "output_type": "execute_result"
    }
   ],
   "source": [
    "A"
   ]
  },
  {
   "cell_type": "code",
   "execution_count": 47,
   "metadata": {},
   "outputs": [
    {
     "data": {
      "text/plain": [
       "0.0"
      ]
     },
     "execution_count": 47,
     "metadata": {},
     "output_type": "execute_result"
    }
   ],
   "source": [
    "repr_quality(np.eye(2))"
   ]
  },
  {
   "cell_type": "code",
   "execution_count": 57,
   "metadata": {},
   "outputs": [
    {
     "data": {
      "text/plain": [
       "0.0020000000000000018"
      ]
     },
     "execution_count": 57,
     "metadata": {},
     "output_type": "execute_result"
    }
   ],
   "source": [
    "component_diff_normalized([-1000,2])"
   ]
  },
  {
   "cell_type": "code",
   "execution_count": null,
   "metadata": {},
   "outputs": [],
   "source": []
  }
 ],
 "metadata": {
  "kernelspec": {
   "display_name": "Python 3",
   "language": "python",
   "name": "python3"
  },
  "language_info": {
   "codemirror_mode": {
    "name": "ipython",
    "version": 3
   },
   "file_extension": ".py",
   "mimetype": "text/x-python",
   "name": "python",
   "nbconvert_exporter": "python",
   "pygments_lexer": "ipython3",
   "version": "3.7.7"
  }
 },
 "nbformat": 4,
 "nbformat_minor": 4
}
