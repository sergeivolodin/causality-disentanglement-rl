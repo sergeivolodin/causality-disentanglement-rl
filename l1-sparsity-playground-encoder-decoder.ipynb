{
 "cells": [
  {
   "cell_type": "code",
   "execution_count": 2,
   "metadata": {},
   "outputs": [],
   "source": [
    "import os\n",
    "os.environ[\"CUDA_VISIBLE_DEVICES\"]=\"1\"\n",
    "os.environ[\"TF_FORCE_GPU_ALLOW_GROWTH\"]=\"true\""
   ]
  },
  {
   "cell_type": "code",
   "execution_count": 63,
   "metadata": {},
   "outputs": [],
   "source": [
    "import numpy as np\n",
    "from matplotlib import pyplot as plt\n",
    "import tensorflow as tf\n",
    "from tqdm import tqdm\n",
    "\n",
    "tf.compat.v1.enable_v2_behavior()\n",
    "\n",
    "from curiosity import m_passthrough_action"
   ]
  },
  {
   "cell_type": "code",
   "execution_count": 36,
   "metadata": {},
   "outputs": [],
   "source": [
    "def matrix_dist(A, B):\n",
    "    return np.linalg.norm((A - B).flatten(), ord=1)"
   ]
  },
  {
   "cell_type": "code",
   "execution_count": 145,
   "metadata": {},
   "outputs": [],
   "source": [
    "# \"model of the environment\"\n",
    "A = np.array([\n",
    "    [1,0,1,0], # state and action, gives s_1\n",
    "    [0,1,0,1],\n",
    "])\n",
    "\n",
    "# transform for the state\n",
    "Q1 = np.random.randn(2, 2)\n",
    "\n",
    "# transform for state+action\n",
    "Q = np.eye(4)\n",
    "Q[:2, :2] = Q1\n",
    "\n",
    "# number of data pts\n",
    "N = 500\n",
    "\n",
    "# states\n",
    "xs = np.random.randn(4, N)\n",
    "\n",
    "# next states\n",
    "ys = A @ xs\n",
    "\n",
    "xs_e = Q @ xs\n",
    "ys_e = Q1 @ ys\n",
    "\n",
    "# states\n",
    "xs = xs.T\n",
    "ys = ys.T\n",
    "\n",
    "# observations\n",
    "xs_e = xs_e.T\n",
    "ys_e = ys_e.T"
   ]
  },
  {
   "cell_type": "code",
   "execution_count": 146,
   "metadata": {},
   "outputs": [],
   "source": [
    "# checking that the model works correctly\n",
    "assert np.allclose(A @ (np.linalg.inv(Q) @ xs_e[0]), ys[0])\n",
    "assert np.allclose(xs_e[0][2:], xs[0][2:])"
   ]
  },
  {
   "cell_type": "code",
   "execution_count": 140,
   "metadata": {},
   "outputs": [
    {
     "name": "stdout",
     "output_type": "stream",
     "text": [
      "5000/5000 [==============================] - 0s 23us/sample - loss: 2.0503e-14\n",
      "2.050331335647689e-14\n",
      "[<tf.Variable 'sequential_50/dense_52/kernel:0' shape=(4, 2) dtype=float32, numpy=\n",
      "array([[ 1.0000000e+00,  4.3017614e-08],\n",
      "       [-2.4425237e-08,  1.0000000e+00],\n",
      "       [ 1.0000000e+00, -2.7852550e-08],\n",
      "       [-3.4796134e-08,  1.0000001e+00]], dtype=float32)>, <tf.Variable 'sequential_50/dense_52/bias:0' shape=(2,) dtype=float32, numpy=array([-6.061311e-08, -8.156938e-08], dtype=float32)>]\n",
      "2.4930082531682274e-07\n"
     ]
    },
    {
     "data": {
      "image/png": "[encoded data removed]",
      "text/plain": [
       "<Figure size 432x288 with 1 Axes>"
      ]
     },
     "metadata": {
      "needs_background": "light"
     },
     "output_type": "display_data"
    }
   ],
   "source": [
    "# checking that data is correctly generated\n",
    "m = tf.keras.Sequential([tf.keras.layers.Dense(2)])\n",
    "m.compile('adam', 'mse')\n",
    "h = m.fit(xs, ys, epochs=100, verbose=0)\n",
    "plt.plot(h.history['loss'])\n",
    "print(m.evaluate(xs, ys))\n",
    "print(m.weights)\n",
    "print(matrix_dist(m.weights[0].numpy().T, A))"
   ]
  },
  {
   "cell_type": "code",
   "execution_count": 189,
   "metadata": {},
   "outputs": [],
   "source": [
    "l1coeff = 1e-1\n",
    "l2coeff = 0\n",
    "sparsity = 0.5\n",
    "\n",
    "pruning_params = {\n",
    "        'pruning_schedule': pruning_sched.ConstantSparsity(sparsity, 0),\n",
    "        'block_size': (1, 1),\n",
    "        'block_pooling_type': 'AVG'\n",
    "    }\n",
    "\n",
    "\n",
    "decoder = tf.keras.Sequential([\n",
    "    tf.keras.Input(shape=(2,)),\n",
    "    tf.keras.layers.Dense(2, activation=None, use_bias=False, kernel_regularizer=tf.keras.regularizers.l2(l2coeff),\n",
    "                         kernel_initializer='random_normal'),\n",
    "])\n",
    "\n",
    "# maps observations to features\n",
    "model = tf.keras.Sequential([\n",
    "    m_passthrough_action(decoder, 2, 2),\n",
    "    tf.keras.Input(shape=(4,)),\n",
    "    prune.prune_low_magnitude(\n",
    "        tf.keras.layers.Dense(2, activation=None, use_bias=False, kernel_regularizer=tf.keras.regularizers.l1(l1coeff),\n",
    "                             kernel_initializer='random_normal'),\n",
    "        **pruning_params\n",
    "    )\n",
    "])\n",
    "\n",
    "model.compile('sgd', 'mae')\n",
    "\n",
    "model()"
   ]
  },
  {
   "cell_type": "code",
   "execution_count": 190,
   "metadata": {},
   "outputs": [
    {
     "name": "stderr",
     "output_type": "stream",
     "text": [
      "\r",
      "  0%|          | 0/200 [00:00<?, ?it/s]"
     ]
    },
    {
     "name": "stdout",
     "output_type": "stream",
     "text": [
      "WARNING:tensorflow:Layer dense_69 is casting an input tensor from dtype float64 to the layer's dtype of float32, which is new behavior in TensorFlow 2.  The layer has dtype float32 because it's dtype defaults to floatx.\n",
      "\n",
      "If you intended to run this layer in float32, you can safely ignore this warning. If in doubt, this warning is likely only an issue if you are porting a TensorFlow 1.X model to TensorFlow 2.\n",
      "\n",
      "To change all layers to have dtype float64 by default, call `tf.keras.backend.set_floatx('float64')`. To change just this layer, pass dtype='float64' to the layer constructor. If you are the author of this layer, you can disable autocasting by passing autocast=False to the base Layer constructor.\n",
      "\n"
     ]
    },
    {
     "name": "stderr",
     "output_type": "stream",
     "text": [
      "100%|██████████| 200/200 [00:14<00:00, 13.87it/s]\n"
     ]
    }
   ],
   "source": [
    "losses = []\n",
    "distances = []\n",
    "for _ in tqdm(range(200)):\n",
    "    ys_e_d = decoder(ys_e)\n",
    "    h = model.fit(xs_e, ys_e_d, epochs=1, verbose=0, callbacks=[pruning_callbacks.UpdatePruningStep()])\n",
    "    ys_e_d = decoder(ys_e)\n",
    "    #plt.plot(h.history['loss'])\n",
    "    loss = model.evaluate(xs_e, ys_e_d, verbose=0)\n",
    "    #print(model.weights)\n",
    "    #print(\"DIST\", matrix_dist(model.weights[-1].numpy().T, A))\n",
    "    DE = decoder.weights[0].numpy().T @ Q1\n",
    "    DE = DE / DE[0, 0]\n",
    "    dist = matrix_dist(DE, np.eye(2))\n",
    "    losses.append(loss)\n",
    "    distances.append(dist)"
   ]
  },
  {
   "cell_type": "code",
   "execution_count": 191,
   "metadata": {},
   "outputs": [
    {
     "data": {
      "text/plain": [
       "[<matplotlib.lines.Line2D at 0x7f8d98702dd0>]"
      ]
     },
     "execution_count": 191,
     "metadata": {},
     "output_type": "execute_result"
    },
    {
     "data": {
      "image/png": "[encoded data removed]",
      "text/plain": [
       "<Figure size 432x288 with 1 Axes>"
      ]
     },
     "metadata": {
      "needs_background": "light"
     },
     "output_type": "display_data"
    }
   ],
   "source": [
    "plt.plot(losses)"
   ]
  },
  {
   "cell_type": "code",
   "execution_count": 192,
   "metadata": {},
   "outputs": [
    {
     "data": {
      "text/plain": [
       "[<matplotlib.lines.Line2D at 0x7f8df0313ad0>]"
      ]
     },
     "execution_count": 192,
     "metadata": {},
     "output_type": "execute_result"
    },
    {
     "data": {
      "image/png": "[encoded data removed]",
      "text/plain": [
       "<Figure size 432x288 with 1 Axes>"
      ]
     },
     "metadata": {
      "needs_background": "light"
     },
     "output_type": "display_data"
    }
   ],
   "source": [
    "plt.plot(distances)"
   ]
  },
  {
   "cell_type": "code",
   "execution_count": 188,
   "metadata": {},
   "outputs": [
    {
     "data": {
      "text/plain": [
       "array([[  1.        ,   0.74373555],\n",
       "       [ -8.55591696, -10.8578655 ]])"
      ]
     },
     "execution_count": 188,
     "metadata": {},
     "output_type": "execute_result"
    }
   ],
   "source": [
    "DE = decoder.weights[0].numpy().T @ Q1\n",
    "DE = DE / DE[0, 0]\n",
    "DE"
   ]
  },
  {
   "cell_type": "code",
   "execution_count": null,
   "metadata": {},
   "outputs": [],
   "source": []
  }
 ],
 "metadata": {
  "kernelspec": {
   "display_name": "Python 3",
   "language": "python",
   "name": "python3"
  },
  "language_info": {
   "codemirror_mode": {
    "name": "ipython",
    "version": 3
   },
   "file_extension": ".py",
   "mimetype": "text/x-python",
   "name": "python",
   "nbconvert_exporter": "python",
   "pygments_lexer": "ipython3",
   "version": "3.7.7"
  }
 },
 "nbformat": 4,
 "nbformat_minor": 4
}
