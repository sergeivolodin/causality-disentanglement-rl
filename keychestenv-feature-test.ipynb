{
 "cells": [
  {
   "cell_type": "code",
   "execution_count": 1,
   "metadata": {
    "ExecuteTime": {
     "end_time": "2020-09-18T17:28:34.856300Z",
     "start_time": "2020-09-18T17:28:32.309343Z"
    }
   },
   "outputs": [],
   "source": [
    "import os\n",
    "os.environ['CUDA_VISIBLE_DEVICES'] = \"-1\"\n",
    "\n",
    "import pickle\n",
    "from keychestenv_gofa import features_for_obs\n",
    "from copy import deepcopy\n",
    "import pandas as pd\n",
    "import tensorflow as tf\n",
    "import numpy as np\n",
    "from matplotlib import pyplot as plt\n",
    "import seaborn as sns"
   ]
  },
  {
   "cell_type": "code",
   "execution_count": 2,
   "metadata": {
    "ExecuteTime": {
     "end_time": "2020-09-18T17:28:35.013984Z",
     "start_time": "2020-09-18T17:28:34.859215Z"
    }
   },
   "outputs": [],
   "source": [
    "data = pickle.load(open('episodes-1000-56a40a18-f9d4-11ea-9364-00155d9ed424.pkl', 'rb'))"
   ]
  },
  {
   "cell_type": "code",
   "execution_count": 3,
   "metadata": {
    "ExecuteTime": {
     "end_time": "2020-09-18T17:28:35.025116Z",
     "start_time": "2020-09-18T17:28:35.016230Z"
    }
   },
   "outputs": [],
   "source": [
    "def episode_to_time_series(episode):\n",
    "    \"\"\"Convert an episode array to a time series dictionary.\"\"\"\n",
    "    obs = episode[0]['observation']\n",
    "    rew = 0.0\n",
    "    done = False\n",
    "    \n",
    "    result = []\n",
    "    \n",
    "    def add_to_result(obs, rew, done, initial):\n",
    "        item = deepcopy(features_for_obs(obs))\n",
    "        item['reward'] = rew\n",
    "        item['done'] = done\n",
    "        item['initial'] = initial\n",
    "        item['keys_and_atchest'] = (item['keys_collected'] > 0) and item['at_chest']\n",
    "        item['lamp_toggle'] = item['at_button'] ^ item['lamp_state']\n",
    "        del item['player_position_x']\n",
    "        del item['player_position_y']\n",
    "        result.append(item)\n",
    "        \n",
    "    add_to_result(obs, 0.0, False, True)\n",
    "    \n",
    "    for step in episode[1:]:\n",
    "        obs, rew, done, info = step['observation'], step['reward'], step['done'], step['info']\n",
    "        add_to_result(obs, rew, done, False)\n",
    "        \n",
    "    return result"
   ]
  },
  {
   "cell_type": "code",
   "execution_count": 4,
   "metadata": {
    "ExecuteTime": {
     "end_time": "2020-09-18T17:28:36.287221Z",
     "start_time": "2020-09-18T17:28:35.028370Z"
    }
   },
   "outputs": [],
   "source": [
    "data_proc = [episode_to_time_series(episode) for episode in data]"
   ]
  },
  {
   "cell_type": "code",
   "execution_count": 5,
   "metadata": {
    "ExecuteTime": {
     "end_time": "2020-09-18T17:28:36.297673Z",
     "start_time": "2020-09-18T17:28:36.290717Z"
    }
   },
   "outputs": [],
   "source": [
    "x_data_proc = [step for episode in data_proc for step in episode[:-1]]\n",
    "y_data_proc = [step for episode in data_proc for step in episode[1:]]"
   ]
  },
  {
   "cell_type": "code",
   "execution_count": 6,
   "metadata": {
    "ExecuteTime": {
     "end_time": "2020-09-18T17:28:36.385382Z",
     "start_time": "2020-09-18T17:28:36.301637Z"
    }
   },
   "outputs": [],
   "source": [
    "x_data_proc_df = pd.DataFrame(x_data_proc)\n",
    "y_data_proc_df = pd.DataFrame(y_data_proc)"
   ]
  },
  {
   "cell_type": "code",
   "execution_count": 7,
   "metadata": {
    "ExecuteTime": {
     "end_time": "2020-09-18T17:28:36.402999Z",
     "start_time": "2020-09-18T17:28:36.391447Z"
    }
   },
   "outputs": [],
   "source": [
    "del y_data_proc_df['at_food']\n",
    "del y_data_proc_df['at_key']\n",
    "del y_data_proc_df['at_chest']\n",
    "del y_data_proc_df['at_button']\n",
    "del y_data_proc_df['initial']"
   ]
  },
  {
   "cell_type": "code",
   "execution_count": 8,
   "metadata": {
    "ExecuteTime": {
     "end_time": "2020-09-18T17:28:36.442839Z",
     "start_time": "2020-09-18T17:28:36.407664Z"
    }
   },
   "outputs": [
    {
     "data": {
      "text/html": [
       "<div>\n",
       "<style scoped>\n",
       "    .dataframe tbody tr th:only-of-type {\n",
       "        vertical-align: middle;\n",
       "    }\n",
       "\n",
       "    .dataframe tbody tr th {\n",
       "        vertical-align: top;\n",
       "    }\n",
       "\n",
       "    .dataframe thead th {\n",
       "        text-align: right;\n",
       "    }\n",
       "</style>\n",
       "<table border=\"1\" class=\"dataframe\">\n",
       "  <thead>\n",
       "    <tr style=\"text-align: right;\">\n",
       "      <th></th>\n",
       "      <th>lamp_state</th>\n",
       "      <th>health</th>\n",
       "      <th>keys_collected</th>\n",
       "      <th>reward</th>\n",
       "      <th>done</th>\n",
       "      <th>keys_and_atchest</th>\n",
       "      <th>lamp_toggle</th>\n",
       "    </tr>\n",
       "  </thead>\n",
       "  <tbody>\n",
       "    <tr>\n",
       "      <th>0</th>\n",
       "      <td>0</td>\n",
       "      <td>7.0</td>\n",
       "      <td>0.0</td>\n",
       "      <td>-0.1</td>\n",
       "      <td>False</td>\n",
       "      <td>False</td>\n",
       "      <td>0</td>\n",
       "    </tr>\n",
       "    <tr>\n",
       "      <th>1</th>\n",
       "      <td>0</td>\n",
       "      <td>6.0</td>\n",
       "      <td>0.0</td>\n",
       "      <td>-0.1</td>\n",
       "      <td>False</td>\n",
       "      <td>False</td>\n",
       "      <td>0</td>\n",
       "    </tr>\n",
       "    <tr>\n",
       "      <th>2</th>\n",
       "      <td>0</td>\n",
       "      <td>5.0</td>\n",
       "      <td>0.0</td>\n",
       "      <td>-0.1</td>\n",
       "      <td>False</td>\n",
       "      <td>False</td>\n",
       "      <td>0</td>\n",
       "    </tr>\n",
       "    <tr>\n",
       "      <th>3</th>\n",
       "      <td>0</td>\n",
       "      <td>9.0</td>\n",
       "      <td>0.0</td>\n",
       "      <td>0.9</td>\n",
       "      <td>False</td>\n",
       "      <td>False</td>\n",
       "      <td>0</td>\n",
       "    </tr>\n",
       "    <tr>\n",
       "      <th>4</th>\n",
       "      <td>0</td>\n",
       "      <td>8.0</td>\n",
       "      <td>0.0</td>\n",
       "      <td>-0.1</td>\n",
       "      <td>False</td>\n",
       "      <td>False</td>\n",
       "      <td>0</td>\n",
       "    </tr>\n",
       "    <tr>\n",
       "      <th>...</th>\n",
       "      <td>...</td>\n",
       "      <td>...</td>\n",
       "      <td>...</td>\n",
       "      <td>...</td>\n",
       "      <td>...</td>\n",
       "      <td>...</td>\n",
       "      <td>...</td>\n",
       "    </tr>\n",
       "    <tr>\n",
       "      <th>14331</th>\n",
       "      <td>0</td>\n",
       "      <td>3.0</td>\n",
       "      <td>0.0</td>\n",
       "      <td>1.9</td>\n",
       "      <td>False</td>\n",
       "      <td>False</td>\n",
       "      <td>0</td>\n",
       "    </tr>\n",
       "    <tr>\n",
       "      <th>14332</th>\n",
       "      <td>0</td>\n",
       "      <td>2.0</td>\n",
       "      <td>0.0</td>\n",
       "      <td>-0.1</td>\n",
       "      <td>False</td>\n",
       "      <td>False</td>\n",
       "      <td>0</td>\n",
       "    </tr>\n",
       "    <tr>\n",
       "      <th>14333</th>\n",
       "      <td>0</td>\n",
       "      <td>1.0</td>\n",
       "      <td>0.0</td>\n",
       "      <td>-0.1</td>\n",
       "      <td>False</td>\n",
       "      <td>False</td>\n",
       "      <td>0</td>\n",
       "    </tr>\n",
       "    <tr>\n",
       "      <th>14334</th>\n",
       "      <td>0</td>\n",
       "      <td>0.0</td>\n",
       "      <td>0.0</td>\n",
       "      <td>-0.1</td>\n",
       "      <td>False</td>\n",
       "      <td>False</td>\n",
       "      <td>0</td>\n",
       "    </tr>\n",
       "    <tr>\n",
       "      <th>14335</th>\n",
       "      <td>0</td>\n",
       "      <td>0.0</td>\n",
       "      <td>0.0</td>\n",
       "      <td>-0.1</td>\n",
       "      <td>True</td>\n",
       "      <td>False</td>\n",
       "      <td>0</td>\n",
       "    </tr>\n",
       "  </tbody>\n",
       "</table>\n",
       "<p>14336 rows × 7 columns</p>\n",
       "</div>"
      ],
      "text/plain": [
       "       lamp_state  health  keys_collected  reward   done  keys_and_atchest  \\\n",
       "0               0     7.0             0.0    -0.1  False             False   \n",
       "1               0     6.0             0.0    -0.1  False             False   \n",
       "2               0     5.0             0.0    -0.1  False             False   \n",
       "3               0     9.0             0.0     0.9  False             False   \n",
       "4               0     8.0             0.0    -0.1  False             False   \n",
       "...           ...     ...             ...     ...    ...               ...   \n",
       "14331           0     3.0             0.0     1.9  False             False   \n",
       "14332           0     2.0             0.0    -0.1  False             False   \n",
       "14333           0     1.0             0.0    -0.1  False             False   \n",
       "14334           0     0.0             0.0    -0.1  False             False   \n",
       "14335           0     0.0             0.0    -0.1   True             False   \n",
       "\n",
       "       lamp_toggle  \n",
       "0                0  \n",
       "1                0  \n",
       "2                0  \n",
       "3                0  \n",
       "4                0  \n",
       "...            ...  \n",
       "14331            0  \n",
       "14332            0  \n",
       "14333            0  \n",
       "14334            0  \n",
       "14335            0  \n",
       "\n",
       "[14336 rows x 7 columns]"
      ]
     },
     "execution_count": 8,
     "metadata": {},
     "output_type": "execute_result"
    }
   ],
   "source": [
    "y_data_proc_df"
   ]
  },
  {
   "cell_type": "code",
   "execution_count": 9,
   "metadata": {
    "ExecuteTime": {
     "end_time": "2020-09-18T17:28:36.465585Z",
     "start_time": "2020-09-18T17:28:36.445209Z"
    }
   },
   "outputs": [],
   "source": [
    "X = np.array(x_data_proc_df, dtype=np.float32)\n",
    "y = np.array(y_data_proc_df, dtype=np.float32)"
   ]
  },
  {
   "cell_type": "code",
   "execution_count": 10,
   "metadata": {
    "ExecuteTime": {
     "end_time": "2020-09-18T17:28:36.474326Z",
     "start_time": "2020-09-18T17:28:36.467707Z"
    }
   },
   "outputs": [
    {
     "data": {
      "text/plain": [
       "((14336, 12), (14336, 7))"
      ]
     },
     "execution_count": 10,
     "metadata": {},
     "output_type": "execute_result"
    }
   ],
   "source": [
    "X.shape, y.shape"
   ]
  },
  {
   "cell_type": "code",
   "execution_count": 11,
   "metadata": {
    "ExecuteTime": {
     "end_time": "2020-09-18T17:28:36.557768Z",
     "start_time": "2020-09-18T17:28:36.478023Z"
    }
   },
   "outputs": [],
   "source": [
    "model = tf.keras.Sequential([tf.keras.Input(X.shape[1]), tf.keras.layers.Dense(y.shape[1], activation=None)])"
   ]
  },
  {
   "cell_type": "code",
   "execution_count": 12,
   "metadata": {
    "ExecuteTime": {
     "end_time": "2020-09-18T17:28:36.579727Z",
     "start_time": "2020-09-18T17:28:36.560936Z"
    }
   },
   "outputs": [],
   "source": [
    "model.compile('adam', 'mse')"
   ]
  },
  {
   "cell_type": "code",
   "execution_count": 13,
   "metadata": {
    "ExecuteTime": {
     "end_time": "2020-09-18T17:28:52.200152Z",
     "start_time": "2020-09-18T17:28:36.582907Z"
    }
   },
   "outputs": [],
   "source": [
    "h = model.fit(X, y, verbose=0, epochs=50)"
   ]
  },
  {
   "cell_type": "code",
   "execution_count": 14,
   "metadata": {
    "ExecuteTime": {
     "end_time": "2020-09-18T17:28:52.416342Z",
     "start_time": "2020-09-18T17:28:52.202845Z"
    }
   },
   "outputs": [
    {
     "data": {
      "image/png": "[encoded data removed]",
      "text/plain": [
       "<Figure size 432x288 with 1 Axes>"
      ]
     },
     "metadata": {
      "needs_background": "light"
     },
     "output_type": "display_data"
    }
   ],
   "source": [
    "plt.plot(h.history['loss'])\n",
    "plt.show()"
   ]
  },
  {
   "cell_type": "code",
   "execution_count": 15,
   "metadata": {
    "ExecuteTime": {
     "end_time": "2020-09-18T17:28:52.425601Z",
     "start_time": "2020-09-18T17:28:52.418792Z"
    }
   },
   "outputs": [
    {
     "data": {
      "text/plain": [
       "0.03980891779065132"
      ]
     },
     "execution_count": 15,
     "metadata": {},
     "output_type": "execute_result"
    }
   ],
   "source": [
    "h.history['loss'][-1]"
   ]
  },
  {
   "cell_type": "code",
   "execution_count": 16,
   "metadata": {
    "ExecuteTime": {
     "end_time": "2020-09-18T17:28:52.766304Z",
     "start_time": "2020-09-18T17:28:52.430098Z"
    }
   },
   "outputs": [
    {
     "data": {
      "text/plain": [
       "<matplotlib.axes._subplots.AxesSubplot at 0x7f8b54077fd0>"
      ]
     },
     "execution_count": 16,
     "metadata": {},
     "output_type": "execute_result"
    },
    {
     "data": {
      "image/png": "[encoded data removed]",
      "text/plain": [
       "<Figure size 432x288 with 2 Axes>"
      ]
     },
     "metadata": {
      "needs_background": "light"
     },
     "output_type": "display_data"
    }
   ],
   "source": [
    "sns.heatmap(model.get_weights()[0].T,\n",
    "            xticklabels=x_data_proc_df.columns,\n",
    "            yticklabels=y_data_proc_df.columns)"
   ]
  },
  {
   "cell_type": "code",
   "execution_count": null,
   "metadata": {},
   "outputs": [],
   "source": []
  },
  {
   "cell_type": "code",
   "execution_count": null,
   "metadata": {},
   "outputs": [],
   "source": []
  }
 ],
 "metadata": {
  "kernelspec": {
   "display_name": "Python 3",
   "language": "python",
   "name": "python3"
  },
  "language_info": {
   "codemirror_mode": {
    "name": "ipython",
    "version": 3
   },
   "file_extension": ".py",
   "mimetype": "text/x-python",
   "name": "python",
   "nbconvert_exporter": "python",
   "pygments_lexer": "ipython3",
   "version": "3.7.7"
  }
 },
 "nbformat": 4,
 "nbformat_minor": 4
}
