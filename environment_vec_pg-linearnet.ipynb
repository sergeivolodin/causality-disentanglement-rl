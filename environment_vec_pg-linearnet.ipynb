{
 "cells": [
  {
   "cell_type": "code",
   "execution_count": 1,
   "metadata": {},
   "outputs": [],
   "source": [
    "import os\n",
    "os.environ[\"CUDA_VISIBLE_DEVICES\"]=\"1\"\n",
    "os.environ[\"TF_FORCE_GPU_ALLOW_GROWTH\"]=\"true\""
   ]
  },
  {
   "cell_type": "code",
   "execution_count": 2,
   "metadata": {},
   "outputs": [],
   "source": [
    "import numpy as np\n",
    "from matplotlib import pyplot as plt\n",
    "import tensorflow as tf\n",
    "from tqdm import tqdm\n",
    "tf.compat.v1.enable_v2_behavior()"
   ]
  },
  {
   "cell_type": "code",
   "execution_count": 3,
   "metadata": {},
   "outputs": [],
   "source": [
    "from tf_agents.agents.reinforce import reinforce_agent\n",
    "from tf_agents.drivers import dynamic_step_driver\n",
    "from tf_agents.environments import suite_gym\n",
    "from tf_agents.environments import tf_py_environment\n",
    "from tf_agents.eval import metric_utils\n",
    "from tf_agents.metrics import tf_metrics, py_metrics\n",
    "from tf_agents.policies import random_tf_policy, epsilon_greedy_policy\n",
    "from tf_agents.replay_buffers import tf_uniform_replay_buffer\n",
    "from tf_agents.networks import actor_distribution_network\n",
    "from tf_agents.trajectories import trajectory\n",
    "from tf_agents.utils import common\n",
    "from tf_agents.specs import array_spec\n",
    "from tf_agents.environments import utils, wrappers\n",
    "from tf_agents.trajectories import time_step as ts\n",
    "from tf_agents.drivers import dynamic_episode_driver\n",
    "from tf_agents.drivers import py_driver"
   ]
  },
  {
   "cell_type": "code",
   "execution_count": 4,
   "metadata": {},
   "outputs": [],
   "source": [
    "from vectorincrement import *"
   ]
  },
  {
   "cell_type": "markdown",
   "metadata": {},
   "source": [
    "# Running RL with tf.agents"
   ]
  },
  {
   "cell_type": "code",
   "execution_count": 5,
   "metadata": {},
   "outputs": [],
   "source": [
    "num_iterations = 500 # @param {type:\"integer\"}\n",
    "collect_episodes_per_iteration = 2 # @param {type:\"integer\"}\n",
    "replay_buffer_capacity = 1000 # @param {type:\"integer\"}\n",
    "batch_size = 64\n",
    "\n",
    "fc_layer_params = ()\n",
    "\n",
    "learning_rate = 1e-3 # @param {type:\"number\"}\n",
    "log_interval = 25 # @param {type:\"integer\"}\n",
    "num_eval_episodes = 10 # @param {type:\"integer\"}\n",
    "eval_interval = 10 # @param {type:\"integer\"}"
   ]
  },
  {
   "cell_type": "code",
   "execution_count": 6,
   "metadata": {},
   "outputs": [],
   "source": [
    "v_n = 2\n",
    "v_k = 2\n",
    "v_seed = 10\n",
    "do_transform = True\n",
    "time_limit = 20"
   ]
  },
  {
   "cell_type": "code",
   "execution_count": 7,
   "metadata": {},
   "outputs": [],
   "source": [
    "def get_env():\n",
    "    \"\"\"Return a copy of the environment.\"\"\"\n",
    "    env = VectorIncrementEnvironmentTFAgents(v_n=v_n, v_k=v_k, v_seed=v_seed,\n",
    "                                             do_transform=do_transform)\n",
    "    env = wrappers.TimeLimit(env, time_limit)\n",
    "    env = tf_py_environment.TFPyEnvironment(env)\n",
    "    return env"
   ]
  },
  {
   "cell_type": "code",
   "execution_count": 8,
   "metadata": {},
   "outputs": [],
   "source": [
    "train_env = get_env()\n",
    "eval_env = get_env()"
   ]
  },
  {
   "cell_type": "code",
   "execution_count": 9,
   "metadata": {},
   "outputs": [],
   "source": [
    "actor_net = actor_distribution_network.ActorDistributionNetwork(\n",
    "    train_env.observation_spec(),\n",
    "    train_env.action_spec(),\n",
    "    fc_layer_params=fc_layer_params,\n",
    "    activation_fn=tf.keras.activations.relu)"
   ]
  },
  {
   "cell_type": "code",
   "execution_count": 10,
   "metadata": {},
   "outputs": [],
   "source": [
    "optimizer = tf.compat.v1.train.GradientDescentOptimizer(learning_rate=learning_rate)\n",
    "\n",
    "train_step_counter = tf.compat.v2.Variable(0)\n",
    "\n",
    "tf_agent = reinforce_agent.ReinforceAgent(\n",
    "    train_env.time_step_spec(),\n",
    "    train_env.action_spec(),\n",
    "    actor_network=actor_net,\n",
    "    optimizer=optimizer,\n",
    "    normalize_returns=True,\n",
    "    train_step_counter=train_step_counter)\n",
    "tf_agent.initialize()"
   ]
  },
  {
   "cell_type": "code",
   "execution_count": 11,
   "metadata": {},
   "outputs": [],
   "source": [
    "eval_policy = tf_agent.policy\n",
    "collect_policy = tf_agent.collect_policy"
   ]
  },
  {
   "cell_type": "code",
   "execution_count": 12,
   "metadata": {},
   "outputs": [],
   "source": [
    "def compute_avg_return(environment, policy, num_episodes=10):\n",
    "  total_return = 0.0\n",
    "  for _ in range(num_episodes):\n",
    "\n",
    "    time_step = environment.reset()\n",
    "    episode_return = 0.0\n",
    "\n",
    "    while not time_step.is_last():\n",
    "      action_step = policy.action(time_step)\n",
    "      time_step = environment.step(action_step.action)\n",
    "      episode_return += time_step.reward\n",
    "    total_return += episode_return\n",
    "\n",
    "  avg_return = total_return / num_episodes\n",
    "  return avg_return.numpy()[0]"
   ]
  },
  {
   "cell_type": "code",
   "execution_count": 13,
   "metadata": {},
   "outputs": [],
   "source": [
    "def collect_episode(environment, policy, num_episodes):\n",
    "\n",
    "  episode_counter = 0\n",
    "  environment.reset()\n",
    "\n",
    "  while episode_counter < num_episodes:\n",
    "    time_step = environment.current_time_step()\n",
    "    action_step = policy.action(time_step)\n",
    "    next_time_step = environment.step(action_step.action)\n",
    "    traj = trajectory.from_transition(time_step, action_step, next_time_step)\n",
    "\n",
    "    # Add trajectory to the replay buffer\n",
    "    replay_buffer.add_batch(traj)\n",
    "\n",
    "    if traj.is_boundary():\n",
    "      episode_counter += 1"
   ]
  },
  {
   "cell_type": "code",
   "execution_count": 14,
   "metadata": {},
   "outputs": [],
   "source": [
    "replay_buffer = tf_uniform_replay_buffer.TFUniformReplayBuffer(\n",
    "    data_spec=tf_agent.collect_data_spec,\n",
    "    batch_size=train_env.batch_size,\n",
    "    max_length=replay_buffer_capacity)"
   ]
  },
  {
   "cell_type": "code",
   "execution_count": 15,
   "metadata": {},
   "outputs": [
    {
     "name": "stdout",
     "output_type": "stream",
     "text": [
      "step = 10: Average Return = 0.0 Train return = 8.300000190734863\n",
      "step = 20: Average Return = 1.0 Train return = 8.699999809265137\n",
      "step = 25: loss = -0.18245863914489746\n",
      "step = 30: Average Return = 1.0 Train return = 8.100000381469727\n",
      "step = 40: Average Return = 0.0 Train return = 7.400000095367432\n",
      "step = 50: loss = 0.5732300281524658\n",
      "step = 50: Average Return = 1.0 Train return = 8.399999618530273\n",
      "step = 60: Average Return = 2.0 Train return = 8.0\n",
      "step = 70: Average Return = 3.0 Train return = 8.600000381469727\n",
      "step = 75: loss = -0.3819389343261719\n",
      "step = 80: Average Return = 2.0 Train return = 8.199999809265137\n",
      "step = 90: Average Return = 3.0 Train return = 7.699999809265137\n",
      "step = 100: loss = 0.4234886169433594\n",
      "step = 100: Average Return = 2.0 Train return = 8.199999809265137\n",
      "step = 110: Average Return = 1.0 Train return = 8.5\n",
      "step = 120: Average Return = 3.0 Train return = 8.399999618530273\n",
      "step = 125: loss = -0.1332540512084961\n",
      "step = 130: Average Return = 2.0 Train return = 7.5\n",
      "step = 140: Average Return = 2.0 Train return = 8.800000190734863\n",
      "step = 150: loss = 0.22967267036437988\n",
      "step = 150: Average Return = 4.0 Train return = 8.699999809265137\n",
      "step = 160: Average Return = 4.0 Train return = 7.800000190734863\n",
      "step = 170: Average Return = 5.0 Train return = 8.699999809265137\n",
      "step = 175: loss = -0.298970103263855\n",
      "step = 180: Average Return = 4.0 Train return = 8.199999809265137\n",
      "step = 190: Average Return = 5.0 Train return = 8.399999618530273\n",
      "step = 200: loss = 0.24568891525268555\n",
      "step = 200: Average Return = 7.0 Train return = 7.800000190734863\n",
      "step = 210: Average Return = 7.0 Train return = 8.0\n",
      "step = 220: Average Return = 6.0 Train return = 7.800000190734863\n",
      "step = 225: loss = 0.18799114227294922\n",
      "step = 230: Average Return = 5.0 Train return = 7.800000190734863\n",
      "step = 240: Average Return = 5.0 Train return = 8.199999809265137\n",
      "step = 250: loss = 0.05300021171569824\n",
      "step = 250: Average Return = 7.0 Train return = 7.699999809265137\n",
      "step = 260: Average Return = 7.0 Train return = 8.0\n",
      "step = 270: Average Return = 8.0 Train return = 7.699999809265137\n",
      "step = 275: loss = -0.21938061714172363\n",
      "step = 280: Average Return = 7.0 Train return = 8.300000190734863\n",
      "step = 290: Average Return = 7.0 Train return = 8.699999809265137\n",
      "step = 300: loss = 0.043254852294921875\n",
      "step = 300: Average Return = 9.0 Train return = 8.199999809265137\n",
      "step = 310: Average Return = 8.0 Train return = 8.0\n",
      "step = 320: Average Return = 9.0 Train return = 7.900000095367432\n",
      "step = 325: loss = 0.3909778594970703\n",
      "step = 330: Average Return = 9.0 Train return = 7.5\n",
      "step = 340: Average Return = 9.0 Train return = 8.5\n",
      "step = 350: loss = 0.11949241161346436\n",
      "step = 350: Average Return = 8.0 Train return = 8.199999809265137\n",
      "step = 360: Average Return = 6.0 Train return = 8.199999809265137\n",
      "step = 370: Average Return = 9.0 Train return = 8.100000381469727\n",
      "step = 375: loss = 0.34439516067504883\n",
      "step = 380: Average Return = 9.0 Train return = 8.399999618530273\n",
      "step = 390: Average Return = 9.0 Train return = 8.300000190734863\n",
      "step = 400: loss = 0.17716145515441895\n",
      "step = 400: Average Return = 8.0 Train return = 8.0\n",
      "step = 410: Average Return = 6.0 Train return = 7.800000190734863\n",
      "step = 420: Average Return = 6.0 Train return = 7.699999809265137\n",
      "step = 425: loss = 0.4541172981262207\n",
      "step = 430: Average Return = 6.0 Train return = 7.699999809265137\n",
      "step = 440: Average Return = 5.0 Train return = 8.100000381469727\n",
      "step = 450: loss = -0.0762561559677124\n",
      "step = 450: Average Return = 5.0 Train return = 7.900000095367432\n",
      "step = 460: Average Return = 6.0 Train return = 8.699999809265137\n",
      "step = 470: Average Return = 6.0 Train return = 8.899999618530273\n",
      "step = 475: loss = 0.015432119369506836\n",
      "step = 480: Average Return = 9.0 Train return = 8.800000190734863\n",
      "step = 490: Average Return = 9.0 Train return = 8.100000381469727\n",
      "step = 500: loss = 0.15665507316589355\n",
      "step = 500: Average Return = 10.0 Train return = 8.699999809265137\n"
     ]
    }
   ],
   "source": [
    "# (Optional) Optimize by wrapping some of the code in a graph using TF function.\n",
    "tf_agent.train = common.function(tf_agent.train)\n",
    "\n",
    "# Reset the train step\n",
    "tf_agent.train_step_counter.assign(0)\n",
    "\n",
    "# Evaluate the agent's policy once before training.\n",
    "avg_return = compute_avg_return(eval_env, tf_agent.policy, num_eval_episodes)\n",
    "train_avg_return = compute_avg_return(eval_env, tf_agent.collect_policy, num_eval_episodes)\n",
    "returns = [avg_return]\n",
    "train_returns = [train_avg_return]\n",
    "\n",
    "for _ in range(num_iterations):\n",
    "\n",
    "  # Collect a few episodes using collect_policy and save to the replay buffer.\n",
    "  collect_episode(\n",
    "      train_env, tf_agent.collect_policy, collect_episodes_per_iteration)\n",
    "\n",
    "  # Use data from the buffer and update the agent's network.\n",
    "  experience = replay_buffer.gather_all()\n",
    "  train_loss = tf_agent.train(experience)\n",
    "  replay_buffer.clear()\n",
    "\n",
    "  step = tf_agent.train_step_counter.numpy()\n",
    "\n",
    "  if step % log_interval == 0:\n",
    "    print('step = {0}: loss = {1}'.format(step, train_loss.loss))\n",
    "\n",
    "  if step % eval_interval == 0:\n",
    "    avg_return = compute_avg_return(eval_env, tf_agent.policy, num_eval_episodes)\n",
    "    train_avg_return = compute_avg_return(eval_env, tf_agent.collect_policy, num_eval_episodes)\n",
    "    print('step = {0}: Average Return = {1} Train return = {2}'.format(step, avg_return,\n",
    "                                                                      train_avg_return))\n",
    "    returns.append(avg_return)\n",
    "    train_returns.append(train_avg_return)"
   ]
  },
  {
   "cell_type": "code",
   "execution_count": 17,
   "metadata": {},
   "outputs": [
    {
     "data": {
      "text/plain": [
       "Text(0.5, 0, 'Step')"
      ]
     },
     "execution_count": 17,
     "metadata": {},
     "output_type": "execute_result"
    },
    {
     "data": {
      "image/png": "[encoded data removed]",
      "text/plain": [
       "<Figure size 432x288 with 1 Axes>"
      ]
     },
     "metadata": {
      "needs_background": "light"
     },
     "output_type": "display_data"
    }
   ],
   "source": [
    "steps = range(0, num_iterations + 1, eval_interval)\n",
    "plt.plot(steps, returns)\n",
    "plt.ylabel('Average Return')\n",
    "plt.xlabel('Step')"
   ]
  },
  {
   "cell_type": "code",
   "execution_count": null,
   "metadata": {},
   "outputs": [],
   "source": []
  }
 ],
 "metadata": {
  "kernelspec": {
   "display_name": "Python 3",
   "language": "python",
   "name": "python3"
  },
  "language_info": {
   "codemirror_mode": {
    "name": "ipython",
    "version": 3
   },
   "file_extension": ".py",
   "mimetype": "text/x-python",
   "name": "python",
   "nbconvert_exporter": "python",
   "pygments_lexer": "ipython3",
   "version": "3.7.7"
  }
 },
 "nbformat": 4,
 "nbformat_minor": 4
}
