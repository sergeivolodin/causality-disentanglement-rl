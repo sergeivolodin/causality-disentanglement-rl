{
 "cells": [
  {
   "cell_type": "code",
   "execution_count": 1,
   "metadata": {},
   "outputs": [],
   "source": [
    "import os\n",
    "os.environ[\"CUDA_VISIBLE_DEVICES\"]=\"1\"\n",
    "os.environ[\"TF_FORCE_GPU_ALLOW_GROWTH\"]=\"true\""
   ]
  },
  {
   "cell_type": "code",
   "execution_count": 2,
   "metadata": {},
   "outputs": [],
   "source": [
    "import numpy as np\n",
    "from matplotlib import pyplot as plt\n",
    "import tensorflow as tf\n",
    "from tqdm import tqdm\n",
    "tf.compat.v1.enable_v2_behavior()"
   ]
  },
  {
   "cell_type": "code",
   "execution_count": 3,
   "metadata": {},
   "outputs": [],
   "source": [
    "from tf_agents.agents.reinforce import reinforce_agent\n",
    "from tf_agents.drivers import dynamic_step_driver\n",
    "from tf_agents.environments import suite_gym\n",
    "from tf_agents.environments import tf_py_environment\n",
    "from tf_agents.eval import metric_utils\n",
    "from tf_agents.metrics import tf_metrics, py_metrics\n",
    "from tf_agents.policies import random_tf_policy, epsilon_greedy_policy\n",
    "from tf_agents.replay_buffers import tf_uniform_replay_buffer\n",
    "from tf_agents.networks import actor_distribution_network\n",
    "from tf_agents.trajectories import trajectory\n",
    "from tf_agents.utils import common\n",
    "from tf_agents.specs import array_spec\n",
    "from tf_agents.environments import utils, wrappers\n",
    "from tf_agents.trajectories import time_step as ts\n",
    "from tf_agents.drivers import dynamic_episode_driver\n",
    "from tf_agents.drivers import py_driver"
   ]
  },
  {
   "cell_type": "code",
   "execution_count": 4,
   "metadata": {},
   "outputs": [],
   "source": [
    "from vectorincrement import *"
   ]
  },
  {
   "cell_type": "markdown",
   "metadata": {},
   "source": [
    "# Running RL with tf.agents"
   ]
  },
  {
   "cell_type": "code",
   "execution_count": 5,
   "metadata": {},
   "outputs": [],
   "source": [
    "num_iterations = 500 # @param {type:\"integer\"}\n",
    "collect_episodes_per_iteration = 2 # @param {type:\"integer\"}\n",
    "replay_buffer_capacity = 1000 # @param {type:\"integer\"}\n",
    "batch_size = 64\n",
    "\n",
    "fc_layer_params = ()\n",
    "\n",
    "learning_rate = 1e-3 # @param {type:\"number\"}\n",
    "log_interval = 25 # @param {type:\"integer\"}\n",
    "num_eval_episodes = 10 # @param {type:\"integer\"}\n",
    "eval_interval = 10 # @param {type:\"integer\"}"
   ]
  },
  {
   "cell_type": "code",
   "execution_count": 9,
   "metadata": {},
   "outputs": [],
   "source": [
    "v_n = 2\n",
    "v_k = 2\n",
    "v_seed = 10\n",
    "do_transform = True\n",
    "time_limit = 20"
   ]
  },
  {
   "cell_type": "code",
   "execution_count": 14,
   "metadata": {},
   "outputs": [],
   "source": [
    "def get_env():\n",
    "    \"\"\"Return a copy of the environment.\"\"\"\n",
    "    env = VectorIncrementEnvironmentTFAgents(v_n=v_n, v_k=v_k, v_seed=v_seed,\n",
    "                                             do_transform=do_transform)\n",
    "    env = wrappers.TimeLimit(env, time_limit)\n",
    "    env = tf_py_environment.TFPyEnvironment(env)\n",
    "    return env"
   ]
  },
  {
   "cell_type": "code",
   "execution_count": 15,
   "metadata": {},
   "outputs": [],
   "source": [
    "train_env = get_env()\n",
    "eval_env = get_env()"
   ]
  },
  {
   "cell_type": "code",
   "execution_count": 23,
   "metadata": {},
   "outputs": [],
   "source": [
    "actor_net = actor_distribution_network.ActorDistributionNetwork(\n",
    "    train_env.observation_spec(),\n",
    "    train_env.action_spec(),\n",
    "    fc_layer_params=fc_layer_params)"
   ]
  },
  {
   "cell_type": "code",
   "execution_count": 24,
   "metadata": {},
   "outputs": [],
   "source": [
    "optimizer = tf.compat.v1.train.AdamOptimizer(learning_rate=learning_rate)\n",
    "\n",
    "train_step_counter = tf.compat.v2.Variable(0)\n",
    "\n",
    "tf_agent = reinforce_agent.ReinforceAgent(\n",
    "    train_env.time_step_spec(),\n",
    "    train_env.action_spec(),\n",
    "    actor_network=actor_net,\n",
    "    optimizer=optimizer,\n",
    "    normalize_returns=True,\n",
    "    train_step_counter=train_step_counter)\n",
    "tf_agent.initialize()"
   ]
  },
  {
   "cell_type": "code",
   "execution_count": 26,
   "metadata": {},
   "outputs": [],
   "source": [
    "eval_policy = tf_agent.policy\n",
    "collect_policy = tf_agent.collect_policy"
   ]
  },
  {
   "cell_type": "code",
   "execution_count": 27,
   "metadata": {},
   "outputs": [],
   "source": [
    "def compute_avg_return(environment, policy, num_episodes=10):\n",
    "  total_return = 0.0\n",
    "  for _ in range(num_episodes):\n",
    "\n",
    "    time_step = environment.reset()\n",
    "    episode_return = 0.0\n",
    "\n",
    "    while not time_step.is_last():\n",
    "      action_step = policy.action(time_step)\n",
    "      time_step = environment.step(action_step.action)\n",
    "      episode_return += time_step.reward\n",
    "    total_return += episode_return\n",
    "\n",
    "  avg_return = total_return / num_episodes\n",
    "  return avg_return.numpy()[0]"
   ]
  },
  {
   "cell_type": "code",
   "execution_count": 28,
   "metadata": {},
   "outputs": [],
   "source": [
    "replay_buffer = tf_uniform_replay_buffer.TFUniformReplayBuffer(\n",
    "    data_spec=tf_agent.collect_data_spec,\n",
    "    batch_size=train_env.batch_size,\n",
    "    max_length=replay_buffer_capacity)"
   ]
  },
  {
   "cell_type": "code",
   "execution_count": 30,
   "metadata": {},
   "outputs": [
    {
     "name": "stdout",
     "output_type": "stream",
     "text": [
      "step = 10: Average Return = 3.0\n",
      "step = 20: Average Return = 4.0\n",
      "step = 25: loss = 0.13587594032287598\n",
      "step = 30: Average Return = 4.0\n",
      "step = 40: Average Return = 4.0\n",
      "step = 50: loss = 0.3949418067932129\n",
      "step = 50: Average Return = 5.0\n",
      "step = 60: Average Return = 5.0\n",
      "step = 70: Average Return = 5.0\n",
      "step = 75: loss = 0.30179858207702637\n",
      "step = 80: Average Return = 6.0\n",
      "step = 90: Average Return = 6.0\n",
      "step = 100: loss = 0.15299415588378906\n",
      "step = 100: Average Return = 5.0\n",
      "step = 110: Average Return = 5.0\n",
      "step = 120: Average Return = 6.0\n",
      "step = 125: loss = -0.041780948638916016\n",
      "step = 130: Average Return = 6.0\n",
      "step = 140: Average Return = 6.0\n",
      "step = 150: loss = 0.19423985481262207\n",
      "step = 150: Average Return = 7.0\n",
      "step = 160: Average Return = 8.0\n",
      "step = 170: Average Return = 8.0\n",
      "step = 175: loss = 0.1915874481201172\n",
      "step = 180: Average Return = 8.0\n",
      "step = 190: Average Return = 9.0\n",
      "step = 200: loss = -0.021851301193237305\n",
      "step = 200: Average Return = 9.0\n",
      "step = 210: Average Return = 9.0\n",
      "step = 220: Average Return = 9.0\n",
      "step = 225: loss = 0.32602477073669434\n",
      "step = 230: Average Return = 8.0\n",
      "step = 240: Average Return = 8.0\n",
      "step = 250: loss = 0.1997687816619873\n",
      "step = 250: Average Return = 8.0\n",
      "step = 260: Average Return = 8.0\n",
      "step = 270: Average Return = 8.0\n",
      "step = 275: loss = -0.016277074813842773\n",
      "step = 280: Average Return = 7.0\n",
      "step = 290: Average Return = 8.0\n",
      "step = 300: loss = 0.059777259826660156\n",
      "step = 300: Average Return = 7.0\n",
      "step = 310: Average Return = 7.0\n",
      "step = 320: Average Return = 7.0\n",
      "step = 325: loss = 0.25063180923461914\n",
      "step = 330: Average Return = 8.0\n",
      "step = 340: Average Return = 8.0\n",
      "step = 350: loss = 0.25125741958618164\n",
      "step = 350: Average Return = 8.0\n",
      "step = 360: Average Return = 9.0\n",
      "step = 370: Average Return = 9.0\n",
      "step = 375: loss = 0.027535676956176758\n",
      "step = 380: Average Return = 10.0\n",
      "step = 390: Average Return = 9.0\n",
      "step = 400: loss = -0.08617830276489258\n",
      "step = 400: Average Return = 10.0\n",
      "step = 410: Average Return = 10.0\n",
      "step = 420: Average Return = 10.0\n",
      "step = 425: loss = 0.11702561378479004\n",
      "step = 430: Average Return = 10.0\n",
      "step = 440: Average Return = 10.0\n",
      "step = 450: loss = 0.3644692897796631\n",
      "step = 450: Average Return = 10.0\n",
      "step = 460: Average Return = 9.0\n",
      "step = 470: Average Return = 9.0\n",
      "step = 475: loss = 0.0345151424407959\n",
      "step = 480: Average Return = 9.0\n",
      "step = 490: Average Return = 9.0\n",
      "step = 500: loss = -0.35746026039123535\n",
      "step = 500: Average Return = 9.0\n"
     ]
    }
   ],
   "source": [
    "# (Optional) Optimize by wrapping some of the code in a graph using TF function.\n",
    "tf_agent.train = common.function(tf_agent.train)\n",
    "\n",
    "# Reset the train step\n",
    "tf_agent.train_step_counter.assign(0)\n",
    "\n",
    "# Evaluate the agent's policy once before training.\n",
    "avg_return = compute_avg_return(eval_env, tf_agent.policy, num_eval_episodes)\n",
    "returns = [avg_return]\n",
    "\n",
    "for _ in range(num_iterations):\n",
    "\n",
    "  # Collect a few episodes using collect_policy and save to the replay buffer.\n",
    "  collect_episode(\n",
    "      train_env, tf_agent.collect_policy, collect_episodes_per_iteration)\n",
    "\n",
    "  # Use data from the buffer and update the agent's network.\n",
    "  experience = replay_buffer.gather_all()\n",
    "  train_loss = tf_agent.train(experience)\n",
    "  replay_buffer.clear()\n",
    "\n",
    "  step = tf_agent.train_step_counter.numpy()\n",
    "\n",
    "  if step % log_interval == 0:\n",
    "    print('step = {0}: loss = {1}'.format(step, train_loss.loss))\n",
    "\n",
    "  if step % eval_interval == 0:\n",
    "    avg_return = compute_avg_return(eval_env, tf_agent.policy, num_eval_episodes)\n",
    "    print('step = {0}: Average Return = {1}'.format(step, avg_return))\n",
    "    returns.append(avg_return)"
   ]
  },
  {
   "cell_type": "code",
   "execution_count": 33,
   "metadata": {},
   "outputs": [
    {
     "data": {
      "text/plain": [
       "Text(0.5, 0, 'Step')"
      ]
     },
     "execution_count": 33,
     "metadata": {},
     "output_type": "execute_result"
    },
    {
     "data": {
      "image/png": "[encoded data removed]",
      "text/plain": [
       "<Figure size 432x288 with 1 Axes>"
      ]
     },
     "metadata": {
      "needs_background": "light"
     },
     "output_type": "display_data"
    }
   ],
   "source": [
    "steps = range(0, num_iterations + 1, eval_interval)\n",
    "plt.plot(steps, returns)\n",
    "plt.ylabel('Average Return')\n",
    "plt.xlabel('Step')"
   ]
  },
  {
   "cell_type": "code",
   "execution_count": null,
   "metadata": {},
   "outputs": [],
   "source": []
  }
 ],
 "metadata": {
  "kernelspec": {
   "display_name": "Python 3",
   "language": "python",
   "name": "python3"
  },
  "language_info": {
   "codemirror_mode": {
    "name": "ipython",
    "version": 3
   },
   "file_extension": ".py",
   "mimetype": "text/x-python",
   "name": "python",
   "nbconvert_exporter": "python",
   "pygments_lexer": "ipython3",
   "version": "3.7.7"
  }
 },
 "nbformat": 4,
 "nbformat_minor": 4
}
