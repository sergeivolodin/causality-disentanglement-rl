{
 "cells": [
  {
   "cell_type": "code",
   "execution_count": 20,
   "metadata": {},
   "outputs": [],
   "source": [
    "import os\n",
    "os.environ[\"CUDA_VISIBLE_DEVICES\"]=\"1\"\n",
    "os.environ[\"TF_FORCE_GPU_ALLOW_GROWTH\"]=\"true\"\n",
    "\n",
    "import numpy as np\n",
    "from matplotlib import pyplot as plt\n",
    "from tqdm.notebook import tqdm\n",
    "\n",
    "import tensorflow as tf\n",
    "\n",
    "import pixiedust\n",
    "from functools import partial\n",
    "import gin\n",
    "import itertools\n",
    "import multiprocessing\n",
    "import pickle\n",
    "\n",
    "from synthetic_data import xs_e, ys_e, Q1, xs, ys, A\n",
    "from synthetic_experiment import projection_simplex_sort, arr_of_dicts_to_dict_of_arrays\n",
    "from synthetic_experiment import projection_step, mask_step, compute_mask\n",
    "from tqdm.notebook import tqdm\n",
    "import math\n",
    "import seaborn as sns\n",
    "\n",
    "from simple_pid import PID\n"
   ]
  },
  {
   "cell_type": "code",
   "execution_count": 9,
   "metadata": {},
   "outputs": [],
   "source": [
    "# defining the model\n",
    "def build_model():\n",
    "    model = tf.keras.Sequential([\n",
    "        tf.keras.layers.Dense(2, input_shape=(4,), use_bias=False)\n",
    "    ])\n",
    "    return model\n",
    "\n",
    "# learning rate\n",
    "lr = 1e-3\n",
    "\n",
    "# number of epochs\n",
    "epochs = 2000\n",
    "\n",
    "# training batch size\n",
    "batch_size = 128\n",
    "\n",
    "# maximum weight norm\n",
    "l1_ball_size = 5\n",
    "\n",
    "# data\n",
    "X = xs\n",
    "Y = ys"
   ]
  },
  {
   "cell_type": "code",
   "execution_count": 10,
   "metadata": {},
   "outputs": [],
   "source": [
    "# creating an optimizer\n",
    "optimizer = tf.keras.optimizers.Adam(lr=lr)"
   ]
  },
  {
   "cell_type": "code",
   "execution_count": 15,
   "metadata": {},
   "outputs": [],
   "source": [
    "@tf.function\n",
    "def flatten_array_of_tensors(W):\n",
    "    \"\"\"Take an array of tensor and turn into a single flat tensor.\"\"\"\n",
    "    return tf.concat([tf.reshape(w, (-1,)) for w in W], axis=0)\n",
    "\n",
    "def gradient_step(xs, ys, model, optimizer):\n",
    "    \"\"\"Do a gradient step.\"\"\"\n",
    "    \n",
    "    xs = np.array(xs, dtype=np.float32)\n",
    "    ys = np.array(ys, dtype=np.float32)\n",
    "    \n",
    "    with tf.GradientTape() as tape:\n",
    "        y_pred = model(xs)\n",
    "        delta = y_pred - ys\n",
    "        delta_flat = flatten_array_of_tensors([delta])\n",
    "        \n",
    "        # using MAE\n",
    "        loss = tf.reduce_mean(tf.abs(delta_flat))\n",
    "        \n",
    "        # l1 norm of weights\n",
    "        loss_l1 = tf.reduce_sum(tf.abs(\\\n",
    "                    flatten_array_of_tensors(model.weights)))\n",
    "    \n",
    "    variables = model.trainable_variables\n",
    "    grads = tape.gradient(loss, variables)\n",
    "    optimizer.apply_gradients(zip(grads, variables))\n",
    "    \n",
    "    return {'fit': loss.numpy(), 'l1': loss_l1.numpy()}\n",
    "\n",
    "mask = None\n",
    "\n",
    "def step(xs, ys, model, optimizer):\n",
    "    \"\"\"Optimize 1 step.\"\"\"\n",
    "    #print(model.weights)\n",
    "    losses = gradient_step(xs, ys, model, optimizer)\n",
    "    #print(model.weights)\n",
    "    nnz = mask_step(model.weights[0], mask)\n",
    "    #print(model.weights)\n",
    "    norm = projection_step(model.weights[0], l1_ball_size)\n",
    "    losses['l1'] = norm\n",
    "    losses['nnz'] = nnz\n",
    "    return losses"
   ]
  },
  {
   "cell_type": "code",
   "execution_count": 16,
   "metadata": {},
   "outputs": [],
   "source": [
    "def plot_results(losses):\n",
    "    \"\"\"Plot losses.\"\"\"\n",
    "    fig = plt.figure()\n",
    "    fig.patch.set_facecolor('xkcd:mint green')\n",
    "\n",
    "    references = {'fit': 0, 'l1': l1_ball_size, 'nnz': np.sum(A)}\n",
    "\n",
    "    for i, key in enumerate(losses.keys()):\n",
    "        plt.subplot(1, len(losses) + 1, i + 1)\n",
    "        plt.title(key)\n",
    "        plt.plot(losses[key])\n",
    "        plt.axhline(references[key], ls='--', c='black')\n",
    "        \n",
    "    plt.subplot(1, len(losses) + 1, len(losses) + 1)\n",
    "    plt.title(\"Weights heatmap\")\n",
    "    sns.heatmap(model.weights[0].numpy())\n",
    "\n",
    "    plt.show()"
   ]
  },
  {
   "cell_type": "code",
   "execution_count": 17,
   "metadata": {},
   "outputs": [],
   "source": [
    "def train(model, optimizer, X, Y):\n",
    "    \"\"\"Train with batches.\"\"\"\n",
    "    losses = []\n",
    "\n",
    "    batches_per_epoch = math.ceil(1. * len(X) / batch_size)\n",
    "\n",
    "    for epoch in tqdm(range(epochs)):\n",
    "        for batch in range(batches_per_epoch):\n",
    "            n = batch * batch_size\n",
    "            xs_b = X[n:n+batch_size]\n",
    "            ys_b = Y[n:n+batch_size]\n",
    "        l = step(xs_b, ys_b, model, optimizer)\n",
    "        losses.append(l)\n",
    "    losses = arr_of_dicts_to_dict_of_arrays(losses)\n",
    "    return losses"
   ]
  },
  {
   "cell_type": "code",
   "execution_count": 18,
   "metadata": {},
   "outputs": [
    {
     "data": {
      "application/vnd.jupyter.widget-view+json": {
       "model_id": "a7fd64f904174bcfb176d6cbdc86b45d",
       "version_major": 2,
       "version_minor": 0
      },
      "text/plain": [
       "HBox(children=(FloatProgress(value=0.0, max=2000.0), HTML(value='')))"
      ]
     },
     "metadata": {},
     "output_type": "display_data"
    },
    {
     "name": "stdout",
     "output_type": "stream",
     "text": [
      "\n"
     ]
    },
    {
     "data": {
      "image/png": "[encoded data removed]",
      "text/plain": [
       "<Figure size 432x288 with 5 Axes>"
      ]
     },
     "metadata": {},
     "output_type": "display_data"
    }
   ],
   "source": [
    "l1_ball_size = 5\n",
    "mask = None\n",
    "model = build_model()\n",
    "losses = train(model, optimizer, X, Y)\n",
    "plot_results(losses)"
   ]
  },
  {
   "cell_type": "markdown",
   "metadata": {},
   "source": [
    "## PID demo"
   ]
  },
  {
   "cell_type": "code",
   "execution_count": 83,
   "metadata": {},
   "outputs": [],
   "source": [
    "# dynamical system\n",
    "\n",
    "state = [0, 0]\n",
    "\n",
    "def reset():\n",
    "    return [0, 0]\n",
    "\n",
    "def update(state, control):\n",
    "    x, v = state\n",
    "    v += control * dt\n",
    "    x += v * dt + control * dt ** 2 / 2\n",
    "    return [x, v]"
   ]
  },
  {
   "cell_type": "code",
   "execution_count": 107,
   "metadata": {},
   "outputs": [
    {
     "data": {
      "image/png": "[encoded data removed]",
      "text/plain": [
       "<Figure size 432x288 with 1 Axes>"
      ]
     },
     "metadata": {
      "needs_background": "light"
     },
     "output_type": "display_data"
    }
   ],
   "source": [
    "# interaction demo\n",
    "\n",
    "xs = []\n",
    "vs = []\n",
    "as_ = []\n",
    "\n",
    "pid = PID(5, 0.1, 5e-4, setpoint=0)\n",
    "pid.sample_time = 0\n",
    "pid.output_limits = (-1, 1)\n",
    "\n",
    "state = reset()\n",
    "\n",
    "state[0] = 1\n",
    "\n",
    "for _ in range(1000):\n",
    "    x, v = state\n",
    "    control = pid(float(x))\n",
    "    state = update(state, control)\n",
    "    xs.append(x)\n",
    "    vs.append(v)\n",
    "    as_.append(control)\n",
    "    \n",
    "plt.figure()\n",
    "plt.plot(xs, label='x')\n",
    "plt.plot(vs, label='v')\n",
    "plt.plot(as_, label='a')\n",
    "plt.legend()\n",
    "\n",
    "plt.axhline(0)\n",
    "\n",
    "plt.show()"
   ]
  },
  {
   "cell_type": "code",
   "execution_count": 67,
   "metadata": {},
   "outputs": [
    {
     "data": {
      "text/plain": [
       "0.04741565811238932"
      ]
     },
     "execution_count": 67,
     "metadata": {},
     "output_type": "execute_result"
    }
   ],
   "source": [
    "pid(x)"
   ]
  },
  {
   "cell_type": "code",
   "execution_count": null,
   "metadata": {},
   "outputs": [],
   "source": [
    "# add multicollinear features xs + xs_e"
   ]
  }
 ],
 "metadata": {
  "kernelspec": {
   "display_name": "Python 3",
   "language": "python",
   "name": "python3"
  },
  "language_info": {
   "codemirror_mode": {
    "name": "ipython",
    "version": 3
   },
   "file_extension": ".py",
   "mimetype": "text/x-python",
   "name": "python",
   "nbconvert_exporter": "python",
   "pygments_lexer": "ipython3",
   "version": "3.7.7"
  }
 },
 "nbformat": 4,
 "nbformat_minor": 4
}
