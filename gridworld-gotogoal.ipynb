{
 "cells": [
  {
   "cell_type": "markdown",
   "metadata": {},
   "source": [
    "Ideas:\n",
    "\n",
    "1. Physics simulator with mechanics (blocks) from images and rotating bodies (&their images)\n",
    "2. GridWorld go to goal, with few obstacles (so that the resulting fcn is simple)"
   ]
  },
  {
   "cell_type": "code",
   "execution_count": 88,
   "metadata": {},
   "outputs": [],
   "source": [
    "from copy import deepcopy\n",
    "import numpy as np\n",
    "import math"
   ]
  },
  {
   "cell_type": "code",
   "execution_count": 123,
   "metadata": {},
   "outputs": [],
   "source": [
    "class KeyChestEnvironment(object):\n",
    "    OBJECTS = ['empty', 'wall', 'player', 'key', 'chest', 'food', 'lamp_on', 'lamp_off']\n",
    "    SYMBOLS = {'wall': '#', 'player': 'P', 'key': '<', 'chest': '>', 'food': '@',\n",
    "               'lamp_on': 'L', 'lamp_off': 'l', 'empty': ' '}\n",
    "    \n",
    "    def __init__(self, labyrinth_maps, initial_health, food_efficiency,\n",
    "                 food_rows=None, keys_rows=None):\n",
    "        \"\"\"Environment with keys and chests.\"\"\"\n",
    "        self.initial_maps = deepcopy(labyrinth_maps)\n",
    "        self.maps = deepcopy(labyrinth_maps)\n",
    "        self.shape = self.maps[self.SYMBOLS['empty']].shape\n",
    "        assert set(self.maps.keys()) == set(KeyChestEnvironment.SYMBOLS.values())\n",
    "        self.player_position = self.locate_single(self.SYMBOLS['player'])\n",
    "        self.keys = 0\n",
    "        self.food_rows = food_rows\n",
    "        self.keys_rows = keys_rows\n",
    "        self.initial_health = initial_health\n",
    "        self.health = initial_health\n",
    "        self.width = self.shape[1]\n",
    "        self.height = self.shape[0]\n",
    "        self.first_render = True\n",
    "        \n",
    "        # to see if everything fits\n",
    "        self.render()\n",
    "        \n",
    "    def render(self):\n",
    "        sx, sy = self.shape\n",
    "        \n",
    "        if self.first_render:\n",
    "            maxfood = self.initial_health + np.sum(self.initial_maps[self.SYMBOLS['food']])\n",
    "            maxkeys = np.sum(self.initial_maps[self.SYMBOLS['key']])\n",
    "            food_rows = round(math.ceil(1. * maxfood / (2 + self.width)))\n",
    "            keys_rows = round(math.ceil(1. * maxkeys / (2 + self.width)))\n",
    "\n",
    "            if self.food_rows is None:\n",
    "                self.food_rows = food_rows\n",
    "            else:\n",
    "                assert self.food_rows >= food_rows\n",
    "\n",
    "            if self.keys_rows is None:\n",
    "                self.keys_rows = keys_rows\n",
    "            else:\n",
    "                assert self.keys_rows >= keys_rows\n",
    "                \n",
    "            print(self.keys_rows, self.food_rows)\n",
    "            self.first_render = False\n",
    "        \n",
    "        dy1 = 1\n",
    "        dy2 = 1\n",
    "        dy = dy1 + dy2\n",
    "        dx1 = 1 + self.food_rows + self.keys_rows\n",
    "        dx2 = 1\n",
    "        dx = dx1 + dx2\n",
    "                \n",
    "        shape = (sx + dx, sy + dy)\n",
    "        out = np.full(fill_value=self.SYMBOLS['empty'], shape=shape, dtype='<U1')\n",
    "        \n",
    "        out[dx1 - 1, :] = self.SYMBOLS['wall']\n",
    "        out[-1, :] = self.SYMBOLS['wall']\n",
    "        out[dx1 - 1:, 0] = self.SYMBOLS['wall']\n",
    "        out[dx1 - 1:, -1] = self.SYMBOLS['wall']\n",
    "        for obj in self.OBJECTS:\n",
    "            symb = self.SYMBOLS[obj]\n",
    "            mask = self.maps[symb] > 0\n",
    "            out[dx1:-dx2,dy1:-dy2][mask] = self.SYMBOLS[obj]\n",
    "        return out\n",
    "        \n",
    "    def locate(self, object_type):\n",
    "        return KeyChestEnvironment._locate(self.maps, object_type)\n",
    "    \n",
    "    def locate_single(self, object_type):\n",
    "        return KeyChestEnvironment._locate_single(self.maps, object_type)\n",
    "    \n",
    "    @staticmethod\n",
    "    def _locate(maps, object_type):\n",
    "        \"\"\"Where are objects of a given type on the map?\"\"\"\n",
    "        assert object_type in KeyChestEnvironment.SYMBOLS.values(), \\\n",
    "            f\"Wrong object {object_type}, have {maps.keys()}\"\n",
    "        return list(zip(*np.where(maps[object_type])))\n",
    "    \n",
    "    @staticmethod\n",
    "    def _locate_single(maps, object_type):\n",
    "        \"\"\"Where is the single object?\"\"\"\n",
    "        w = KeyChestEnvironment._locate(maps, object_type)\n",
    "        assert len(w) >= 1, f\"No {object_type} found\"\n",
    "        assert len(w) <= 1, f\"More than one {object_type} found\"\n",
    "        return w[0]"
   ]
  },
  {
   "cell_type": "code",
   "execution_count": 124,
   "metadata": {},
   "outputs": [],
   "source": [
    "class KeyChestEnvironmentRandom(KeyChestEnvironment):\n",
    "    \n",
    "    def __init__(self, width=10, height=10, n_keys=2, n_chests=2, n_food=2, **kwargs):\n",
    "        objects_to_fill = ['player']\n",
    "        objects_to_fill += ['key'] * n_keys\n",
    "        objects_to_fill += ['chest'] * n_chests\n",
    "        objects_to_fill += ['food'] * n_food\n",
    "        shape = (height, width)\n",
    "        wh = width * height\n",
    "        assert wh >= len(objects_to_fill)\n",
    "        \n",
    "        positions = []\n",
    "        for i in range(height):\n",
    "            for j in range(width):\n",
    "                positions.append((i, j))\n",
    "                \n",
    "        pos_select = np.random.choice(range(len(positions)), len(objects_to_fill), replace=False)\n",
    "        \n",
    "        maps = {k: np.zeros(shape, dtype=np.bool) for k in self.SYMBOLS.values()}\n",
    "                \n",
    "        for pos, obj in zip(pos_select, objects_to_fill):\n",
    "            m = maps[self.SYMBOLS[obj]]\n",
    "            p = positions[pos]\n",
    "            m[p[0], p[1]] = True\n",
    "        \n",
    "        super(KeyChestEnvironmentRandom, self).__init__(labyrinth_maps=maps, **kwargs)"
   ]
  },
  {
   "cell_type": "code",
   "execution_count": 125,
   "metadata": {},
   "outputs": [
    {
     "name": "stdout",
     "output_type": "stream",
     "text": [
      "1 1\n"
     ]
    }
   ],
   "source": [
    "env = KeyChestEnvironmentRandom(initial_health=10, food_efficiency=5)"
   ]
  },
  {
   "cell_type": "code",
   "execution_count": 128,
   "metadata": {},
   "outputs": [
    {
     "name": "stdout",
     "output_type": "stream",
     "text": [
      "            \n",
      "            \n",
      "############\n",
      "#  <   <   #\n",
      "#       >  #\n",
      "#         P#\n",
      "#          #\n",
      "#          #\n",
      "#          #\n",
      "#          #\n",
      "#       >@ #\n",
      "#   @      #\n",
      "#          #\n",
      "############\n"
     ]
    }
   ],
   "source": [
    "for r in env.render():\n",
    "    print(''.join(r))"
   ]
  },
  {
   "cell_type": "code",
   "execution_count": 118,
   "metadata": {},
   "outputs": [
    {
     "data": {
      "text/plain": [
       "(1, 1)"
      ]
     },
     "execution_count": 118,
     "metadata": {},
     "output_type": "execute_result"
    }
   ],
   "source": [
    "env.food_rows, env.keys_rows"
   ]
  },
  {
   "cell_type": "code",
   "execution_count": null,
   "metadata": {},
   "outputs": [],
   "source": []
  }
 ],
 "metadata": {
  "kernelspec": {
   "display_name": "Python 3",
   "language": "python",
   "name": "python3"
  },
  "language_info": {
   "codemirror_mode": {
    "name": "ipython",
    "version": 3
   },
   "file_extension": ".py",
   "mimetype": "text/x-python",
   "name": "python",
   "nbconvert_exporter": "python",
   "pygments_lexer": "ipython3",
   "version": "3.7.7"
  }
 },
 "nbformat": 4,
 "nbformat_minor": 4
}
