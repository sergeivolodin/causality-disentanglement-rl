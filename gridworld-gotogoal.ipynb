{
 "cells": [
  {
   "cell_type": "code",
   "execution_count": 5,
   "metadata": {
    "ExecuteTime": {
     "end_time": "2020-09-18T19:48:54.710898Z",
     "start_time": "2020-09-18T19:48:54.707477Z"
    }
   },
   "outputs": [],
   "source": [
    "import gin\n",
    "from keychest.keychestenv import KeyChestEnvironmentRandom, KeyChestGymEnv, KeyChestEnvironment\n",
    "from keychest.keychestenv_gui import jupyter_gui\n",
    "from keychest.keychestenv_gofa import features_for_obs, max_reward, hardcoded_policy_step\n",
    "from matplotlib import pyplot as plt\n",
    "from helpers import get_env_performance\n",
    "import numpy as np\n",
    "from tqdm import tqdm\n",
    "from time import time"
   ]
  },
  {
   "cell_type": "code",
   "execution_count": 6,
   "metadata": {
    "ExecuteTime": {
     "end_time": "2020-09-18T19:48:55.064678Z",
     "start_time": "2020-09-18T19:48:55.060196Z"
    }
   },
   "outputs": [],
   "source": [
    "gin.enter_interactive_mode()\n",
    "#gin.parse_config_file('./keychest/config/5x5.gin')\n",
    "gin.parse_config_file('./keychest/config/10x10.gin')\n",
    "#gin.bind_parameter('KeyChestEnvironment.flatten_observation', False)"
   ]
  },
  {
   "cell_type": "code",
   "execution_count": 7,
   "metadata": {
    "ExecuteTime": {
     "end_time": "2020-09-18T19:48:55.362763Z",
     "start_time": "2020-09-18T19:48:55.355996Z"
    }
   },
   "outputs": [],
   "source": [
    "env = KeyChestGymEnv()"
   ]
  },
  {
   "cell_type": "code",
   "execution_count": 8,
   "metadata": {
    "ExecuteTime": {
     "end_time": "2020-09-18T19:48:56.483557Z",
     "start_time": "2020-09-18T19:48:55.714061Z"
    }
   },
   "outputs": [
    {
     "data": {
      "image/png": "[encoded data removed]",
      "text/plain": [
       "<Figure size 432x288 with 1 Axes>"
      ]
     },
     "metadata": {
      "needs_background": "light"
     },
     "output_type": "display_data"
    },
    {
     "name": "stdout",
     "output_type": "stream",
     "text": [
      "x\n"
     ]
    }
   ],
   "source": [
    "jupyter_gui(env)"
   ]
  },
  {
   "cell_type": "code",
   "execution_count": 9,
   "metadata": {
    "ExecuteTime": {
     "end_time": "2020-09-18T19:48:56.885097Z",
     "start_time": "2020-09-18T19:48:56.881765Z"
    }
   },
   "outputs": [],
   "source": [
    "#print(\"Steps per second:\", get_env_performance(env, 3))"
   ]
  },
  {
   "cell_type": "code",
   "execution_count": 10,
   "metadata": {
    "ExecuteTime": {
     "end_time": "2020-09-18T19:48:57.275500Z",
     "start_time": "2020-09-18T19:48:57.268781Z"
    }
   },
   "outputs": [
    {
     "data": {
      "text/plain": [
       "((21, 12, 10), (), (21, 12, 10))"
      ]
     },
     "execution_count": 10,
     "metadata": {},
     "output_type": "execute_result"
    }
   ],
   "source": [
    "env.observation_space.shape, env.action_space.shape, env.reset().shape"
   ]
  },
  {
   "cell_type": "code",
   "execution_count": 11,
   "metadata": {
    "ExecuteTime": {
     "end_time": "2020-09-18T19:48:57.653128Z",
     "start_time": "2020-09-18T19:48:57.649849Z"
    }
   },
   "outputs": [],
   "source": [
    "#import gym\n",
    "#env1 = gym.make('CartPole-v0')\n",
    "#get_env_performance(env1, 3)"
   ]
  },
  {
   "cell_type": "code",
   "execution_count": 12,
   "metadata": {
    "ExecuteTime": {
     "end_time": "2020-09-18T19:48:58.193561Z",
     "start_time": "2020-09-18T19:48:58.187423Z"
    }
   },
   "outputs": [
    {
     "data": {
      "text/plain": [
       "{'player_position_x': 16,\n",
       " 'player_position_y': 6,\n",
       " 'lamp_state': 0,\n",
       " 'at_food': False,\n",
       " 'at_key': False,\n",
       " 'at_chest': False,\n",
       " 'at_button': False,\n",
       " 'health': 15.0,\n",
       " 'keys_collected': 0.0}"
      ]
     },
     "execution_count": 12,
     "metadata": {},
     "output_type": "execute_result"
    }
   ],
   "source": [
    "features_for_obs(env.reset())"
   ]
  },
  {
   "cell_type": "code",
   "execution_count": 13,
   "metadata": {
    "ExecuteTime": {
     "end_time": "2020-09-18T19:48:59.151481Z",
     "start_time": "2020-09-18T19:48:59.144571Z"
    }
   },
   "outputs": [],
   "source": [
    "def get_policy_stats(env, policy, title=\"Reward stats\"):\n",
    "    \"\"\"Show reward distribution for a policy.\"\"\"\n",
    "    mr = max_reward(env)\n",
    "    \n",
    "    def reward_on_policy(env, policy):\n",
    "        done = False\n",
    "        Rmax = max_reward(env)\n",
    "        obs = env.reset()\n",
    "        R = 0\n",
    "        while not done:\n",
    "            act = policy(env)\n",
    "            obs, rew, done, info = env.step(act)\n",
    "            #plt.imshow(env.render(mode='rgb_array'))\n",
    "            #plt.show()\n",
    "            R += rew\n",
    "        #print(f\"Reward {R} out of {Rmax}\")\n",
    "        return R\n",
    "\n",
    "    rews = [reward_on_policy(env, policy) for _ in tqdm(range(500))]\n",
    "\n",
    "    print(title)\n",
    "    print('min/max/std/median', np.min(rews), np.max(rews), np.std(rews), np.median(rews))\n",
    "    print(\"Reward upper bound\", mr)\n",
    "\n",
    "    plt.title(title)\n",
    "    plt.hist(rews, alpha=0.5, label='Reward')\n",
    "    plt.axvline(mr, color='red', label='Maximal reward')\n",
    "    plt.legend()\n",
    "    plt.show()"
   ]
  },
  {
   "cell_type": "code",
   "execution_count": 14,
   "metadata": {
    "ExecuteTime": {
     "end_time": "2020-09-18T19:49:12.289057Z",
     "start_time": "2020-09-18T19:48:59.664313Z"
    }
   },
   "outputs": [
    {
     "name": "stderr",
     "output_type": "stream",
     "text": [
      "100%|██████████| 500/500 [00:12<00:00, 40.18it/s]\n"
     ]
    },
    {
     "name": "stdout",
     "output_type": "stream",
     "text": [
      "Rewards by hardcoded policy\n",
      "min/max/std/median 0.6399999999999999 3.7400000000000047 1.0463006260153 3.1400000000000077\n",
      "Reward upper bound 3.6\n"
     ]
    },
    {
     "data": {
      "image/png": "[encoded data removed]",
      "text/plain": [
       "<Figure size 432x288 with 1 Axes>"
      ]
     },
     "metadata": {
      "needs_background": "light"
     },
     "output_type": "display_data"
    }
   ],
   "source": [
    "get_policy_stats(env, hardcoded_policy_step, title=\"Rewards by hardcoded policy\")"
   ]
  },
  {
   "cell_type": "code",
   "execution_count": 15,
   "metadata": {
    "ExecuteTime": {
     "end_time": "2020-09-18T19:49:14.470179Z",
     "start_time": "2020-09-18T19:49:12.290603Z"
    }
   },
   "outputs": [
    {
     "name": "stderr",
     "output_type": "stream",
     "text": [
      "100%|██████████| 500/500 [00:02<00:00, 247.68it/s]\n"
     ]
    },
    {
     "name": "stdout",
     "output_type": "stream",
     "text": [
      "Rewards on a random policy\n",
      "min/max/std/median -0.4100000000000002 1.5399999999999996 0.3413036624473871 -0.16\n",
      "Reward upper bound 3.6\n"
     ]
    },
    {
     "data": {
      "image/png": "[encoded data removed]",
      "text/plain": [
       "<Figure size 432x288 with 1 Axes>"
      ]
     },
     "metadata": {
      "needs_background": "light"
     },
     "output_type": "display_data"
    }
   ],
   "source": [
    "get_policy_stats(env, lambda x: env.action_space.sample(), \"Rewards on a random policy\")"
   ]
  },
  {
   "cell_type": "code",
   "execution_count": null,
   "metadata": {},
   "outputs": [],
   "source": []
  }
 ],
 "metadata": {
  "kernelspec": {
   "display_name": "Python 3",
   "language": "python",
   "name": "python3"
  },
  "language_info": {
   "codemirror_mode": {
    "name": "ipython",
    "version": 3
   },
   "file_extension": ".py",
   "mimetype": "text/x-python",
   "name": "python",
   "nbconvert_exporter": "python",
   "pygments_lexer": "ipython3",
   "version": "3.7.7"
  }
 },
 "nbformat": 4,
 "nbformat_minor": 4
}
