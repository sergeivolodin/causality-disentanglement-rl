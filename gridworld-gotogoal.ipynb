{
 "cells": [
  {
   "cell_type": "code",
   "execution_count": 1,
   "metadata": {
    "ExecuteTime": {
     "end_time": "2020-09-18T15:25:20.960202Z",
     "start_time": "2020-09-18T15:25:20.631942Z"
    }
   },
   "outputs": [],
   "source": [
    "from keychestenv import KeyChestEnvironmentRandom, KeyChestGymEnv, KeyChestEnvironment\n",
    "from keychestenv_gui import jupyter_gui\n",
    "from keychestenv_gofa import features_for_obs, max_reward, hardcoded_policy_step\n",
    "from matplotlib import pyplot as plt\n",
    "from helpers import get_env_performance\n",
    "import numpy as np\n",
    "from tqdm import tqdm\n",
    "from time import time"
   ]
  },
  {
   "cell_type": "code",
   "execution_count": null,
   "metadata": {},
   "outputs": [],
   "source": []
  },
  {
   "cell_type": "code",
   "execution_count": null,
   "metadata": {},
   "outputs": [],
   "source": []
  },
  {
   "cell_type": "code",
   "execution_count": null,
   "metadata": {},
   "outputs": [],
   "source": []
  },
  {
   "cell_type": "code",
   "execution_count": 11,
   "metadata": {
    "ExecuteTime": {
     "end_time": "2020-09-18T15:27:19.088210Z",
     "start_time": "2020-09-18T15:27:19.078618Z"
    }
   },
   "outputs": [],
   "source": [
    "def fixed_seed_constructor(seed=42, **kwargs):\n",
    "    np.random.seed(seed)\n",
    "    return KeyChestEnvironmentRandom(**kwargs)\n",
    "\n",
    "env = KeyChestGymEnv(engine_constructor=fixed_seed_constructor,#KeyChestEnvironmentRandom,\n",
    "                     width=10, height=10, initial_health=15, food_efficiency=15,\n",
    "                     reward_dict=reward, flatten_observation=True)"
   ]
  },
  {
   "cell_type": "code",
   "execution_count": 13,
   "metadata": {
    "ExecuteTime": {
     "end_time": "2020-09-18T15:35:58.330900Z",
     "start_time": "2020-09-18T15:28:11.612873Z"
    }
   },
   "outputs": [
    {
     "name": "stdout",
     "output_type": "stream",
     "text": [
      "Wrong action\n"
     ]
    },
    {
     "data": {
      "image/png": "[encoded data removed]",
      "text/plain": [
       "<Figure size 432x288 with 1 Axes>"
      ]
     },
     "metadata": {
      "needs_background": "light"
     },
     "output_type": "display_data"
    },
    {
     "name": "stdout",
     "output_type": "stream",
     "text": [
      " (0, -1) 3 2.9 False {'action': 3, 'event': 'food_collected', 'moves': 3} 21.999999999999986\n"
     ]
    },
    {
     "ename": "KeyboardInterrupt",
     "evalue": "Interrupted by user",
     "output_type": "error",
     "traceback": [
      "\u001b[0;31m---------------------------------------------------------------------------\u001b[0m",
      "\u001b[0;31mKeyboardInterrupt\u001b[0m                         Traceback (most recent call last)",
      "\u001b[0;32m<ipython-input-13-c6375d8776f5>\u001b[0m in \u001b[0;36m<module>\u001b[0;34m\u001b[0m\n\u001b[0;32m----> 1\u001b[0;31m \u001b[0mjupyter_gui\u001b[0m\u001b[0;34m(\u001b[0m\u001b[0menv\u001b[0m\u001b[0;34m)\u001b[0m\u001b[0;34m\u001b[0m\u001b[0;34m\u001b[0m\u001b[0m\n\u001b[0m",
      "\u001b[0;32m~/git/EPFL/causality-disentanglement-rl/keychestenv_gui.py\u001b[0m in \u001b[0;36mjupyter_gui\u001b[0;34m(env)\u001b[0m\n\u001b[1;32m     57\u001b[0m \u001b[0;34m\u001b[0m\u001b[0m\n\u001b[1;32m     58\u001b[0m     \u001b[0;32mwhile\u001b[0m \u001b[0;32mTrue\u001b[0m\u001b[0;34m:\u001b[0m\u001b[0;34m\u001b[0m\u001b[0;34m\u001b[0m\u001b[0m\n\u001b[0;32m---> 59\u001b[0;31m         \u001b[0mkey\u001b[0m \u001b[0;34m=\u001b[0m \u001b[0minput\u001b[0m\u001b[0;34m(\u001b[0m\u001b[0;34m)\u001b[0m\u001b[0;34m\u001b[0m\u001b[0;34m\u001b[0m\u001b[0m\n\u001b[0m\u001b[1;32m     60\u001b[0m         \u001b[0;32mif\u001b[0m \u001b[0mkey\u001b[0m \u001b[0;34m==\u001b[0m \u001b[0;34m'x'\u001b[0m\u001b[0;34m:\u001b[0m\u001b[0;34m\u001b[0m\u001b[0;34m\u001b[0m\u001b[0m\n\u001b[1;32m     61\u001b[0m             \u001b[0;32mbreak\u001b[0m\u001b[0;34m\u001b[0m\u001b[0;34m\u001b[0m\u001b[0m\n",
      "\u001b[0;32m~/miniconda3/envs/ml/lib/python3.7/site-packages/ipykernel/kernelbase.py\u001b[0m in \u001b[0;36mraw_input\u001b[0;34m(self, prompt)\u001b[0m\n\u001b[1;32m    861\u001b[0m             \u001b[0mself\u001b[0m\u001b[0;34m.\u001b[0m\u001b[0m_parent_ident\u001b[0m\u001b[0;34m,\u001b[0m\u001b[0;34m\u001b[0m\u001b[0;34m\u001b[0m\u001b[0m\n\u001b[1;32m    862\u001b[0m             \u001b[0mself\u001b[0m\u001b[0;34m.\u001b[0m\u001b[0m_parent_header\u001b[0m\u001b[0;34m,\u001b[0m\u001b[0;34m\u001b[0m\u001b[0;34m\u001b[0m\u001b[0m\n\u001b[0;32m--> 863\u001b[0;31m             \u001b[0mpassword\u001b[0m\u001b[0;34m=\u001b[0m\u001b[0;32mFalse\u001b[0m\u001b[0;34m,\u001b[0m\u001b[0;34m\u001b[0m\u001b[0;34m\u001b[0m\u001b[0m\n\u001b[0m\u001b[1;32m    864\u001b[0m         )\n\u001b[1;32m    865\u001b[0m \u001b[0;34m\u001b[0m\u001b[0m\n",
      "\u001b[0;32m~/miniconda3/envs/ml/lib/python3.7/site-packages/ipykernel/kernelbase.py\u001b[0m in \u001b[0;36m_input_request\u001b[0;34m(self, prompt, ident, parent, password)\u001b[0m\n\u001b[1;32m    902\u001b[0m             \u001b[0;32mexcept\u001b[0m \u001b[0mKeyboardInterrupt\u001b[0m\u001b[0;34m:\u001b[0m\u001b[0;34m\u001b[0m\u001b[0;34m\u001b[0m\u001b[0m\n\u001b[1;32m    903\u001b[0m                 \u001b[0;31m# re-raise KeyboardInterrupt, to truncate traceback\u001b[0m\u001b[0;34m\u001b[0m\u001b[0;34m\u001b[0m\u001b[0;34m\u001b[0m\u001b[0m\n\u001b[0;32m--> 904\u001b[0;31m                 \u001b[0;32mraise\u001b[0m \u001b[0mKeyboardInterrupt\u001b[0m\u001b[0;34m(\u001b[0m\u001b[0;34m\"Interrupted by user\"\u001b[0m\u001b[0;34m)\u001b[0m \u001b[0;32mfrom\u001b[0m \u001b[0;32mNone\u001b[0m\u001b[0;34m\u001b[0m\u001b[0;34m\u001b[0m\u001b[0m\n\u001b[0m\u001b[1;32m    905\u001b[0m             \u001b[0;32mexcept\u001b[0m \u001b[0mException\u001b[0m \u001b[0;32mas\u001b[0m \u001b[0me\u001b[0m\u001b[0;34m:\u001b[0m\u001b[0;34m\u001b[0m\u001b[0;34m\u001b[0m\u001b[0m\n\u001b[1;32m    906\u001b[0m                 \u001b[0mself\u001b[0m\u001b[0;34m.\u001b[0m\u001b[0mlog\u001b[0m\u001b[0;34m.\u001b[0m\u001b[0mwarning\u001b[0m\u001b[0;34m(\u001b[0m\u001b[0;34m\"Invalid Message:\"\u001b[0m\u001b[0;34m,\u001b[0m \u001b[0mexc_info\u001b[0m\u001b[0;34m=\u001b[0m\u001b[0;32mTrue\u001b[0m\u001b[0;34m)\u001b[0m\u001b[0;34m\u001b[0m\u001b[0;34m\u001b[0m\u001b[0m\n",
      "\u001b[0;31mKeyboardInterrupt\u001b[0m: Interrupted by user"
     ]
    }
   ],
   "source": [
    "jupyter_gui(env)"
   ]
  },
  {
   "cell_type": "code",
   "execution_count": 2,
   "metadata": {
    "ExecuteTime": {
     "end_time": "2020-09-18T15:25:20.975282Z",
     "start_time": "2020-09-18T15:25:20.962405Z"
    }
   },
   "outputs": [
    {
     "name": "stderr",
     "output_type": "stream",
     "text": [
      "/home/sergei/gym/gym/logger.py:30: UserWarning: WARN: Box bound precision lowered by casting to float32\n",
      "  warnings.warn(colorize('%s: %s'%('WARN', msg % args), 'yellow'))\n"
     ]
    }
   ],
   "source": [
    "reward = {'step': -.1, 'food_collected': 3, 'key_collected': 4, 'chest_opened': 5}\n",
    "\n",
    "env = KeyChestGymEnv(engine_constructor=KeyChestEnvironmentRandom,\n",
    "                     width=10, height=10, initial_health=15, food_efficiency=15,\n",
    "                     reward_dict=reward, flatten_observation=True)"
   ]
  },
  {
   "cell_type": "code",
   "execution_count": null,
   "metadata": {},
   "outputs": [],
   "source": []
  },
  {
   "cell_type": "code",
   "execution_count": 3,
   "metadata": {
    "ExecuteTime": {
     "end_time": "2020-09-18T15:25:23.985613Z",
     "start_time": "2020-09-18T15:25:20.977427Z"
    }
   },
   "outputs": [
    {
     "name": "stdout",
     "output_type": "stream",
     "text": [
      "Steps per second: 6055.333333333333\n"
     ]
    }
   ],
   "source": [
    "print(\"Steps per second:\", get_env_performance(env, 3))"
   ]
  },
  {
   "cell_type": "code",
   "execution_count": 4,
   "metadata": {
    "ExecuteTime": {
     "end_time": "2020-09-18T15:25:23.994391Z",
     "start_time": "2020-09-18T15:25:23.987244Z"
    }
   },
   "outputs": [
    {
     "data": {
      "text/plain": [
       "(2040,)"
      ]
     },
     "execution_count": 4,
     "metadata": {},
     "output_type": "execute_result"
    }
   ],
   "source": [
    "env.reset().shape"
   ]
  },
  {
   "cell_type": "code",
   "execution_count": 5,
   "metadata": {
    "ExecuteTime": {
     "end_time": "2020-09-18T15:25:24.160785Z",
     "start_time": "2020-09-18T15:25:23.996358Z"
    }
   },
   "outputs": [],
   "source": [
    "obss = []\n",
    "obss.append(env.reset())\n",
    "while len(obss) < 1000:\n",
    "    obs, rew, done, info = env.step(env.action_space.sample())\n",
    "    obss.append(obs)\n",
    "    if done:\n",
    "        obss.append(env.reset())"
   ]
  },
  {
   "cell_type": "code",
   "execution_count": 6,
   "metadata": {
    "ExecuteTime": {
     "end_time": "2020-09-18T15:25:24.337018Z",
     "start_time": "2020-09-18T15:25:24.162901Z"
    }
   },
   "outputs": [
    {
     "data": {
      "text/plain": [
       "[array([0., 0., 1., ..., 0., 0., 0.], dtype=float32),\n",
       " array([0., 0., 1., ..., 0., 0., 0.], dtype=float32),\n",
       " array([0., 0., 1., ..., 0., 0., 0.], dtype=float32),\n",
       " array([0., 0., 1., ..., 0., 0., 0.], dtype=float32),\n",
       " array([0., 0., 1., ..., 0., 0., 0.], dtype=float32),\n",
       " array([0., 0., 1., ..., 0., 0., 0.], dtype=float32),\n",
       " array([0., 0., 1., ..., 0., 0., 0.], dtype=float32),\n",
       " array([0., 0., 1., ..., 0., 0., 0.], dtype=float32),\n",
       " array([0., 0., 1., ..., 0., 0., 0.], dtype=float32),\n",
       " array([0., 0., 1., ..., 0., 0., 0.], dtype=float32),\n",
       " array([0., 0., 1., ..., 0., 0., 0.], dtype=float32),\n",
       " array([0., 0., 1., ..., 0., 0., 0.], dtype=float32),\n",
       " array([0., 0., 1., ..., 0., 0., 0.], dtype=float32),\n",
       " array([0., 0., 1., ..., 0., 0., 0.], dtype=float32),\n",
       " array([0., 0., 1., ..., 0., 0., 0.], dtype=float32),\n",
       " array([0., 0., 0., ..., 0., 0., 0.], dtype=float32),\n",
       " array([0., 0., 0., ..., 0., 0., 0.], dtype=float32),\n",
       " array([0., 0., 1., ..., 0., 0., 0.], dtype=float32),\n",
       " array([0., 0., 1., ..., 0., 0., 0.], dtype=float32),\n",
       " array([0., 0., 1., ..., 0., 0., 0.], dtype=float32),\n",
       " array([0., 0., 1., ..., 0., 0., 0.], dtype=float32),\n",
       " array([0., 0., 1., ..., 0., 0., 0.], dtype=float32),\n",
       " array([0., 0., 1., ..., 0., 0., 0.], dtype=float32),\n",
       " array([0., 0., 1., ..., 0., 0., 0.], dtype=float32),\n",
       " array([0., 0., 1., ..., 0., 0., 0.], dtype=float32),\n",
       " array([0., 0., 1., ..., 0., 0., 0.], dtype=float32),\n",
       " array([0., 0., 1., ..., 0., 0., 0.], dtype=float32),\n",
       " array([0., 0., 1., ..., 0., 0., 0.], dtype=float32),\n",
       " array([0., 0., 1., ..., 0., 0., 0.], dtype=float32),\n",
       " array([0., 0., 1., ..., 0., 0., 0.], dtype=float32),\n",
       " array([0., 0., 1., ..., 0., 0., 0.], dtype=float32),\n",
       " array([0., 0., 1., ..., 0., 0., 0.], dtype=float32),\n",
       " array([0., 0., 0., ..., 0., 0., 0.], dtype=float32),\n",
       " array([0., 0., 0., ..., 0., 0., 0.], dtype=float32),\n",
       " array([0., 0., 1., ..., 0., 0., 0.], dtype=float32),\n",
       " array([0., 0., 1., ..., 0., 0., 0.], dtype=float32),\n",
       " array([0., 0., 1., ..., 0., 0., 0.], dtype=float32),\n",
       " array([0., 0., 1., ..., 0., 0., 0.], dtype=float32),\n",
       " array([0., 0., 1., ..., 0., 0., 0.], dtype=float32),\n",
       " array([0., 0., 1., ..., 0., 0., 0.], dtype=float32),\n",
       " array([0., 0., 1., ..., 0., 0., 0.], dtype=float32),\n",
       " array([0., 0., 1., ..., 0., 0., 0.], dtype=float32),\n",
       " array([0., 0., 1., ..., 0., 0., 0.], dtype=float32),\n",
       " array([0., 0., 1., ..., 0., 0., 0.], dtype=float32),\n",
       " array([0., 0., 1., ..., 0., 0., 0.], dtype=float32),\n",
       " array([0., 0., 1., ..., 0., 0., 0.], dtype=float32),\n",
       " array([0., 0., 1., ..., 0., 0., 0.], dtype=float32),\n",
       " array([0., 0., 1., ..., 0., 0., 0.], dtype=float32),\n",
       " array([0., 0., 1., ..., 0., 0., 0.], dtype=float32),\n",
       " array([0., 0., 1., ..., 0., 0., 0.], dtype=float32),\n",
       " array([0., 0., 1., ..., 0., 0., 0.], dtype=float32),\n",
       " array([0., 0., 1., ..., 0., 0., 0.], dtype=float32),\n",
       " array([0., 0., 1., ..., 0., 0., 0.], dtype=float32),\n",
       " array([0., 0., 1., ..., 0., 0., 0.], dtype=float32),\n",
       " array([0., 0., 1., ..., 0., 0., 0.], dtype=float32),\n",
       " array([0., 0., 1., ..., 0., 0., 0.], dtype=float32),\n",
       " array([0., 0., 1., ..., 0., 0., 0.], dtype=float32),\n",
       " array([0., 0., 1., ..., 0., 0., 0.], dtype=float32),\n",
       " array([0., 0., 1., ..., 0., 0., 0.], dtype=float32),\n",
       " array([0., 0., 1., ..., 0., 0., 0.], dtype=float32),\n",
       " array([0., 0., 1., ..., 0., 0., 0.], dtype=float32),\n",
       " array([0., 0., 1., ..., 0., 0., 0.], dtype=float32),\n",
       " array([0., 0., 1., ..., 0., 0., 0.], dtype=float32),\n",
       " array([0., 0., 1., ..., 0., 0., 0.], dtype=float32),\n",
       " array([0., 0., 0., ..., 0., 0., 0.], dtype=float32),\n",
       " array([0., 0., 0., ..., 0., 0., 0.], dtype=float32),\n",
       " array([0., 0., 1., ..., 0., 0., 0.], dtype=float32),\n",
       " array([0., 0., 1., ..., 0., 0., 0.], dtype=float32),\n",
       " array([0., 0., 1., ..., 0., 0., 0.], dtype=float32),\n",
       " array([0., 0., 1., ..., 0., 0., 0.], dtype=float32),\n",
       " array([0., 0., 1., ..., 0., 0., 0.], dtype=float32),\n",
       " array([0., 0., 1., ..., 0., 0., 0.], dtype=float32),\n",
       " array([0., 0., 1., ..., 0., 0., 0.], dtype=float32),\n",
       " array([0., 0., 1., ..., 0., 0., 0.], dtype=float32),\n",
       " array([0., 0., 1., ..., 0., 0., 0.], dtype=float32),\n",
       " array([0., 0., 1., ..., 0., 0., 0.], dtype=float32),\n",
       " array([0., 0., 1., ..., 0., 0., 0.], dtype=float32),\n",
       " array([0., 0., 1., ..., 0., 0., 0.], dtype=float32),\n",
       " array([0., 0., 1., ..., 0., 0., 0.], dtype=float32),\n",
       " array([0., 0., 1., ..., 0., 0., 0.], dtype=float32),\n",
       " array([0., 0., 1., ..., 0., 0., 0.], dtype=float32),\n",
       " array([0., 0., 0., ..., 0., 0., 0.], dtype=float32),\n",
       " array([0., 0., 0., ..., 0., 0., 0.], dtype=float32),\n",
       " array([0., 0., 1., ..., 0., 0., 0.], dtype=float32),\n",
       " array([0., 0., 1., ..., 0., 0., 0.], dtype=float32),\n",
       " array([0., 0., 1., ..., 0., 0., 0.], dtype=float32),\n",
       " array([0., 0., 1., ..., 0., 0., 0.], dtype=float32),\n",
       " array([0., 0., 1., ..., 0., 0., 0.], dtype=float32),\n",
       " array([0., 0., 1., ..., 0., 0., 0.], dtype=float32),\n",
       " array([0., 0., 1., ..., 0., 0., 0.], dtype=float32),\n",
       " array([0., 0., 1., ..., 0., 0., 0.], dtype=float32),\n",
       " array([0., 0., 1., ..., 0., 0., 0.], dtype=float32),\n",
       " array([0., 0., 1., ..., 0., 0., 0.], dtype=float32),\n",
       " array([0., 0., 1., ..., 0., 0., 0.], dtype=float32),\n",
       " array([0., 0., 1., ..., 0., 0., 0.], dtype=float32),\n",
       " array([0., 0., 1., ..., 0., 0., 0.], dtype=float32),\n",
       " array([0., 0., 1., ..., 0., 0., 0.], dtype=float32),\n",
       " array([0., 0., 1., ..., 0., 0., 0.], dtype=float32),\n",
       " array([0., 0., 0., ..., 0., 0., 0.], dtype=float32),\n",
       " array([0., 0., 0., ..., 0., 0., 0.], dtype=float32),\n",
       " array([0., 0., 1., ..., 0., 0., 0.], dtype=float32),\n",
       " array([0., 0., 1., ..., 0., 0., 0.], dtype=float32),\n",
       " array([0., 0., 1., ..., 0., 0., 0.], dtype=float32),\n",
       " array([0., 0., 1., ..., 0., 0., 0.], dtype=float32),\n",
       " array([0., 0., 1., ..., 0., 0., 0.], dtype=float32),\n",
       " array([0., 0., 1., ..., 0., 0., 0.], dtype=float32),\n",
       " array([0., 0., 1., ..., 0., 0., 0.], dtype=float32),\n",
       " array([0., 0., 1., ..., 0., 0., 0.], dtype=float32),\n",
       " array([0., 0., 1., ..., 0., 0., 0.], dtype=float32),\n",
       " array([0., 0., 1., ..., 0., 0., 0.], dtype=float32),\n",
       " array([0., 0., 1., ..., 0., 0., 0.], dtype=float32),\n",
       " array([0., 0., 1., ..., 0., 0., 0.], dtype=float32),\n",
       " array([0., 0., 1., ..., 0., 0., 0.], dtype=float32),\n",
       " array([0., 0., 1., ..., 0., 0., 0.], dtype=float32),\n",
       " array([0., 0., 1., ..., 0., 0., 0.], dtype=float32),\n",
       " array([0., 0., 0., ..., 0., 0., 0.], dtype=float32),\n",
       " array([0., 0., 0., ..., 0., 0., 0.], dtype=float32),\n",
       " array([0., 0., 1., ..., 0., 0., 0.], dtype=float32),\n",
       " array([0., 0., 1., ..., 0., 0., 0.], dtype=float32),\n",
       " array([0., 0., 1., ..., 0., 0., 0.], dtype=float32),\n",
       " array([0., 0., 1., ..., 0., 0., 0.], dtype=float32),\n",
       " array([0., 0., 1., ..., 0., 0., 0.], dtype=float32),\n",
       " array([0., 0., 1., ..., 0., 0., 0.], dtype=float32),\n",
       " array([0., 0., 1., ..., 0., 0., 0.], dtype=float32),\n",
       " array([0., 0., 1., ..., 0., 0., 0.], dtype=float32),\n",
       " array([0., 0., 1., ..., 0., 0., 0.], dtype=float32),\n",
       " array([0., 0., 1., ..., 0., 0., 0.], dtype=float32),\n",
       " array([0., 0., 1., ..., 0., 0., 0.], dtype=float32),\n",
       " array([0., 0., 1., ..., 0., 0., 0.], dtype=float32),\n",
       " array([0., 0., 1., ..., 0., 0., 0.], dtype=float32),\n",
       " array([0., 0., 1., ..., 0., 0., 0.], dtype=float32),\n",
       " array([0., 0., 1., ..., 0., 0., 0.], dtype=float32),\n",
       " array([0., 0., 0., ..., 0., 0., 0.], dtype=float32),\n",
       " array([0., 0., 0., ..., 0., 0., 0.], dtype=float32),\n",
       " array([0., 0., 1., ..., 0., 0., 0.], dtype=float32),\n",
       " array([0., 0., 1., ..., 0., 0., 0.], dtype=float32),\n",
       " array([0., 0., 1., ..., 0., 0., 0.], dtype=float32),\n",
       " array([0., 0., 1., ..., 0., 0., 0.], dtype=float32),\n",
       " array([0., 0., 1., ..., 0., 0., 0.], dtype=float32),\n",
       " array([0., 0., 1., ..., 0., 0., 0.], dtype=float32),\n",
       " array([0., 0., 1., ..., 0., 0., 0.], dtype=float32),\n",
       " array([0., 0., 1., ..., 0., 0., 0.], dtype=float32),\n",
       " array([0., 0., 1., ..., 0., 0., 0.], dtype=float32),\n",
       " array([0., 0., 1., ..., 0., 0., 0.], dtype=float32),\n",
       " array([0., 0., 1., ..., 0., 0., 0.], dtype=float32),\n",
       " array([0., 0., 1., ..., 0., 0., 0.], dtype=float32),\n",
       " array([0., 0., 1., ..., 0., 0., 0.], dtype=float32),\n",
       " array([0., 0., 1., ..., 0., 0., 0.], dtype=float32),\n",
       " array([0., 0., 1., ..., 0., 0., 0.], dtype=float32),\n",
       " array([0., 0., 0., ..., 0., 0., 0.], dtype=float32),\n",
       " array([0., 0., 0., ..., 0., 0., 0.], dtype=float32),\n",
       " array([0., 0., 1., ..., 0., 0., 0.], dtype=float32),\n",
       " array([0., 0., 1., ..., 0., 0., 0.], dtype=float32),\n",
       " array([0., 0., 1., ..., 0., 0., 0.], dtype=float32),\n",
       " array([0., 0., 1., ..., 0., 0., 0.], dtype=float32),\n",
       " array([0., 0., 1., ..., 0., 0., 0.], dtype=float32),\n",
       " array([0., 0., 1., ..., 0., 0., 0.], dtype=float32),\n",
       " array([0., 0., 1., ..., 0., 0., 0.], dtype=float32),\n",
       " array([0., 0., 1., ..., 0., 0., 0.], dtype=float32),\n",
       " array([0., 0., 1., ..., 0., 0., 0.], dtype=float32),\n",
       " array([0., 0., 1., ..., 0., 0., 0.], dtype=float32),\n",
       " array([0., 0., 1., ..., 0., 0., 0.], dtype=float32),\n",
       " array([0., 0., 1., ..., 0., 0., 0.], dtype=float32),\n",
       " array([0., 0., 1., ..., 0., 0., 0.], dtype=float32),\n",
       " array([0., 0., 1., ..., 0., 0., 0.], dtype=float32),\n",
       " array([0., 0., 1., ..., 0., 0., 0.], dtype=float32),\n",
       " array([0., 0., 0., ..., 0., 0., 0.], dtype=float32),\n",
       " array([0., 0., 0., ..., 0., 0., 0.], dtype=float32),\n",
       " array([0., 0., 1., ..., 0., 0., 0.], dtype=float32),\n",
       " array([0., 0., 1., ..., 0., 0., 0.], dtype=float32),\n",
       " array([0., 0., 1., ..., 0., 0., 0.], dtype=float32),\n",
       " array([0., 0., 1., ..., 0., 0., 0.], dtype=float32),\n",
       " array([0., 0., 1., ..., 0., 0., 0.], dtype=float32),\n",
       " array([0., 0., 1., ..., 0., 0., 0.], dtype=float32),\n",
       " array([0., 0., 1., ..., 0., 0., 0.], dtype=float32),\n",
       " array([0., 0., 1., ..., 0., 0., 0.], dtype=float32),\n",
       " array([0., 0., 1., ..., 0., 0., 0.], dtype=float32),\n",
       " array([0., 0., 1., ..., 0., 0., 0.], dtype=float32),\n",
       " array([0., 0., 1., ..., 0., 0., 0.], dtype=float32),\n",
       " array([0., 0., 1., ..., 0., 0., 0.], dtype=float32),\n",
       " array([0., 0., 1., ..., 0., 0., 0.], dtype=float32),\n",
       " array([0., 0., 1., ..., 0., 0., 0.], dtype=float32),\n",
       " array([0., 0., 1., ..., 0., 0., 0.], dtype=float32),\n",
       " array([0., 0., 0., ..., 0., 0., 0.], dtype=float32),\n",
       " array([0., 0., 0., ..., 0., 0., 0.], dtype=float32),\n",
       " array([0."
      ]
     },
     "execution_count": 6,
     "metadata": {},
     "output_type": "execute_result"
    },
    {
     "data": {
      "text/html": [
       "<b>limit_output extension: Maximum message size of 10000 exceeded with 53999 characters</b>"
      ]
     },
     "metadata": {},
     "output_type": "display_data"
    }
   ],
   "source": [
    "obss"
   ]
  },
  {
   "cell_type": "code",
   "execution_count": 7,
   "metadata": {
    "ExecuteTime": {
     "end_time": "2020-09-18T15:25:24.342988Z",
     "start_time": "2020-09-18T15:25:24.339045Z"
    }
   },
   "outputs": [
    {
     "data": {
      "text/plain": [
       "(2040,)"
      ]
     },
     "execution_count": 7,
     "metadata": {},
     "output_type": "execute_result"
    }
   ],
   "source": [
    "env.observation_space.shape"
   ]
  },
  {
   "cell_type": "code",
   "execution_count": 8,
   "metadata": {
    "ExecuteTime": {
     "end_time": "2020-09-18T15:25:24.349354Z",
     "start_time": "2020-09-18T15:25:24.344577Z"
    }
   },
   "outputs": [
    {
     "data": {
      "text/plain": [
       "()"
      ]
     },
     "execution_count": 8,
     "metadata": {},
     "output_type": "execute_result"
    }
   ],
   "source": [
    "env.action_space.shape"
   ]
  },
  {
   "cell_type": "code",
   "execution_count": 9,
   "metadata": {
    "ExecuteTime": {
     "end_time": "2020-09-18T15:25:27.363148Z",
     "start_time": "2020-09-18T15:25:24.351064Z"
    }
   },
   "outputs": [
    {
     "data": {
      "text/plain": [
       "56011.666666666664"
      ]
     },
     "execution_count": 9,
     "metadata": {},
     "output_type": "execute_result"
    }
   ],
   "source": [
    "import gym\n",
    "env1 = gym.make('CartPole-v0')\n",
    "get_env_performance(env1, 3)"
   ]
  },
  {
   "cell_type": "code",
   "execution_count": 10,
   "metadata": {
    "ExecuteTime": {
     "end_time": "2020-09-18T15:25:27.441046Z",
     "start_time": "2020-09-18T15:25:27.364958Z"
    }
   },
   "outputs": [
    {
     "ename": "IndexError",
     "evalue": "too many indices for array",
     "output_type": "error",
     "traceback": [
      "\u001b[0;31m---------------------------------------------------------------------------\u001b[0m",
      "\u001b[0;31mIndexError\u001b[0m                                Traceback (most recent call last)",
      "\u001b[0;32m<ipython-input-10-0baed644abf7>\u001b[0m in \u001b[0;36m<module>\u001b[0;34m\u001b[0m\n\u001b[0;32m----> 1\u001b[0;31m \u001b[0mfeatures_for_obs\u001b[0m\u001b[0;34m(\u001b[0m\u001b[0menv\u001b[0m\u001b[0;34m.\u001b[0m\u001b[0mreset\u001b[0m\u001b[0;34m(\u001b[0m\u001b[0;34m)\u001b[0m\u001b[0;34m)\u001b[0m\u001b[0;34m\u001b[0m\u001b[0;34m\u001b[0m\u001b[0m\n\u001b[0m",
      "\u001b[0;32m~/git/EPFL/causality-disentanglement-rl/keychestenv_gofa.py\u001b[0m in \u001b[0;36mfeatures_for_obs\u001b[0;34m(obs)\u001b[0m\n\u001b[1;32m     22\u001b[0m         \u001b[0;32mreturn\u001b[0m \u001b[0mr\u001b[0m\u001b[0;34m[\u001b[0m\u001b[0;36m0\u001b[0m\u001b[0;34m]\u001b[0m\u001b[0;34m\u001b[0m\u001b[0;34m\u001b[0m\u001b[0m\n\u001b[1;32m     23\u001b[0m \u001b[0;34m\u001b[0m\u001b[0m\n\u001b[0;32m---> 24\u001b[0;31m     \u001b[0mppos\u001b[0m \u001b[0;34m=\u001b[0m \u001b[0mget_where1\u001b[0m\u001b[0;34m(\u001b[0m\u001b[0;34m'player'\u001b[0m\u001b[0;34m)\u001b[0m\u001b[0;34m\u001b[0m\u001b[0;34m\u001b[0m\u001b[0m\n\u001b[0m\u001b[1;32m     25\u001b[0m \u001b[0;34m\u001b[0m\u001b[0m\n\u001b[1;32m     26\u001b[0m     \u001b[0;32mdef\u001b[0m \u001b[0mis_present\u001b[0m\u001b[0;34m(\u001b[0m\u001b[0mobj\u001b[0m\u001b[0;34m)\u001b[0m\u001b[0;34m:\u001b[0m\u001b[0;34m\u001b[0m\u001b[0;34m\u001b[0m\u001b[0m\n",
      "\u001b[0;32m~/git/EPFL/causality-disentanglement-rl/keychestenv_gofa.py\u001b[0m in \u001b[0;36mget_where1\u001b[0;34m(obj)\u001b[0m\n\u001b[1;32m     18\u001b[0m \u001b[0;34m\u001b[0m\u001b[0m\n\u001b[1;32m     19\u001b[0m     \u001b[0;32mdef\u001b[0m \u001b[0mget_where1\u001b[0m\u001b[0;34m(\u001b[0m\u001b[0mobj\u001b[0m\u001b[0;34m)\u001b[0m\u001b[0;34m:\u001b[0m\u001b[0;34m\u001b[0m\u001b[0;34m\u001b[0m\u001b[0m\n\u001b[0;32m---> 20\u001b[0;31m         \u001b[0mr\u001b[0m \u001b[0;34m=\u001b[0m \u001b[0mget_where\u001b[0m\u001b[0;34m(\u001b[0m\u001b[0mobj\u001b[0m\u001b[0;34m)\u001b[0m\u001b[0;34m\u001b[0m\u001b[0;34m\u001b[0m\u001b[0m\n\u001b[0m\u001b[1;32m     21\u001b[0m         \u001b[0;32massert\u001b[0m \u001b[0mlen\u001b[0m\u001b[0;34m(\u001b[0m\u001b[0mr\u001b[0m\u001b[0;34m)\u001b[0m \u001b[0;34m==\u001b[0m \u001b[0;36m1\u001b[0m\u001b[0;34m\u001b[0m\u001b[0;34m\u001b[0m\u001b[0m\n\u001b[1;32m     22\u001b[0m         \u001b[0;32mreturn\u001b[0m \u001b[0mr\u001b[0m\u001b[0;34m[\u001b[0m\u001b[0;36m0\u001b[0m\u001b[0;34m]\u001b[0m\u001b[0;34m\u001b[0m\u001b[0;34m\u001b[0m\u001b[0m\n",
      "\u001b[0;32m~/git/EPFL/causality-disentanglement-rl/keychestenv_gofa.py\u001b[0m in \u001b[0;36mget_where\u001b[0;34m(obj)\u001b[0m\n\u001b[1;32m     14\u001b[0m \u001b[0;34m\u001b[0m\u001b[0m\n\u001b[1;32m     15\u001b[0m     \u001b[0;32mdef\u001b[0m \u001b[0mget_where\u001b[0m\u001b[0;34m(\u001b[0m\u001b[0mobj\u001b[0m\u001b[0;34m)\u001b[0m\u001b[0;34m:\u001b[0m\u001b[0;34m\u001b[0m\u001b[0;34m\u001b[0m\u001b[0m\n\u001b[0;32m---> 16\u001b[0;31m         \u001b[0mm\u001b[0m \u001b[0;34m=\u001b[0m \u001b[0mget_map\u001b[0m\u001b[0;34m(\u001b[0m\u001b[0mobj\u001b[0m\u001b[0;34m)\u001b[0m\u001b[0;34m\u001b[0m\u001b[0;34m\u001b[0m\u001b[0m\n\u001b[0m\u001b[1;32m     17\u001b[0m         \u001b[0;32mreturn\u001b[0m \u001b[0mlist\u001b[0m\u001b[0;34m(\u001b[0m\u001b[0mzip\u001b[0m\u001b[0;34m(\u001b[0m\u001b[0;34m*\u001b[0m\u001b[0mnp\u001b[0m\u001b[0;34m.\u001b[0m\u001b[0mwhere\u001b[0m\u001b[0;34m(\u001b[0m\u001b[0mm\u001b[0m\u001b[0;34m)\u001b[0m\u001b[0;34m)\u001b[0m\u001b[0;34m)\u001b[0m\u001b[0;34m\u001b[0m\u001b[0;34m\u001b[0m\u001b[0m\n\u001b[1;32m     18\u001b[0m \u001b[0;34m\u001b[0m\u001b[0m\n",
      "\u001b[0;32m~/git/EPFL/causality-disentanglement-rl/keychestenv_gofa.py\u001b[0m in \u001b[0;36mget_map\u001b[0;34m(obj)\u001b[0m\n\u001b[1;32m     11\u001b[0m     \u001b[0;32mdef\u001b[0m \u001b[0mget_map\u001b[0m\u001b[0;34m(\u001b[0m\u001b[0mobj\u001b[0m\u001b[0;34m)\u001b[0m\u001b[0;34m:\u001b[0m\u001b[0;34m\u001b[0m\u001b[0;34m\u001b[0m\u001b[0m\n\u001b[1;32m     12\u001b[0m         \u001b[0midx\u001b[0m \u001b[0;34m=\u001b[0m \u001b[0mobjects\u001b[0m\u001b[0;34m.\u001b[0m\u001b[0mindex\u001b[0m\u001b[0;34m(\u001b[0m\u001b[0mobj\u001b[0m\u001b[0;34m)\u001b[0m\u001b[0;34m\u001b[0m\u001b[0;34m\u001b[0m\u001b[0m\n\u001b[0;32m---> 13\u001b[0;31m         \u001b[0;32mreturn\u001b[0m \u001b[0mobs\u001b[0m\u001b[0;34m[\u001b[0m\u001b[0;34m:\u001b[0m\u001b[0;34m,\u001b[0m \u001b[0;34m:\u001b[0m\u001b[0;34m,\u001b[0m \u001b[0midx\u001b[0m\u001b[0;34m]\u001b[0m\u001b[0;34m\u001b[0m\u001b[0;34m\u001b[0m\u001b[0m\n\u001b[0m\u001b[1;32m     14\u001b[0m \u001b[0;34m\u001b[0m\u001b[0m\n\u001b[1;32m     15\u001b[0m     \u001b[0;32mdef\u001b[0m \u001b[0mget_where\u001b[0m\u001b[0;34m(\u001b[0m\u001b[0mobj\u001b[0m\u001b[0;34m)\u001b[0m\u001b[0;34m:\u001b[0m\u001b[0;34m\u001b[0m\u001b[0;34m\u001b[0m\u001b[0m\n",
      "\u001b[0;31mIndexError\u001b[0m: too many indices for array"
     ]
    }
   ],
   "source": [
    "features_for_obs(env.reset())"
   ]
  },
  {
   "cell_type": "code",
   "execution_count": null,
   "metadata": {
    "ExecuteTime": {
     "end_time": "2020-09-18T15:25:27.442466Z",
     "start_time": "2020-09-18T15:25:20.822Z"
    }
   },
   "outputs": [],
   "source": [
    "mr = max_reward(env)\n",
    "mr"
   ]
  },
  {
   "cell_type": "code",
   "execution_count": null,
   "metadata": {
    "ExecuteTime": {
     "end_time": "2020-09-18T15:25:27.443863Z",
     "start_time": "2020-09-18T15:25:20.823Z"
    }
   },
   "outputs": [],
   "source": [
    "def reward_on_policy(env, policy):\n",
    "    done = False\n",
    "    Rmax = max_reward(env)\n",
    "    obs = env.reset()\n",
    "    R = 0\n",
    "    while not done:\n",
    "        act = policy(env)\n",
    "        obs, rew, done, info = env.step(act)\n",
    "        #plt.imshow(env.render(mode='rgb_array'))\n",
    "        #plt.show()\n",
    "        R += rew\n",
    "    #print(f\"Reward {R} out of {Rmax}\")\n",
    "    return R"
   ]
  },
  {
   "cell_type": "code",
   "execution_count": null,
   "metadata": {
    "ExecuteTime": {
     "end_time": "2020-09-18T15:25:27.444824Z",
     "start_time": "2020-09-18T15:25:20.825Z"
    }
   },
   "outputs": [],
   "source": [
    "rews = [reward_on_policy(env, hardcoded_policy_step) for _ in tqdm(range(500))]"
   ]
  },
  {
   "cell_type": "code",
   "execution_count": null,
   "metadata": {
    "ExecuteTime": {
     "end_time": "2020-09-18T15:25:27.445926Z",
     "start_time": "2020-09-18T15:25:20.827Z"
    }
   },
   "outputs": [],
   "source": [
    "plt.title(\"Rewards by hardcoded policy\")\n",
    "plt.hist(rews, alpha=0.5, label='Reward')\n",
    "plt.axvline(mr, color='red', label='Maximal reward')\n",
    "plt.legend()\n",
    "plt.show()"
   ]
  },
  {
   "cell_type": "code",
   "execution_count": null,
   "metadata": {
    "ExecuteTime": {
     "end_time": "2020-09-18T15:25:27.446650Z",
     "start_time": "2020-09-18T15:25:20.828Z"
    }
   },
   "outputs": [],
   "source": [
    "jupyter_gui(env)"
   ]
  },
  {
   "cell_type": "code",
   "execution_count": null,
   "metadata": {},
   "outputs": [],
   "source": []
  }
 ],
 "metadata": {
  "kernelspec": {
   "display_name": "Python 3",
   "language": "python",
   "name": "python3"
  },
  "language_info": {
   "codemirror_mode": {
    "name": "ipython",
    "version": 3
   },
   "file_extension": ".py",
   "mimetype": "text/x-python",
   "name": "python",
   "nbconvert_exporter": "python",
   "pygments_lexer": "ipython3",
   "version": "3.7.7"
  }
 },
 "nbformat": 4,
 "nbformat_minor": 4
}
