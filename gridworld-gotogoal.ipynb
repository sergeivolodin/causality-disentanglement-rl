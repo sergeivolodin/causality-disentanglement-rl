{
 "cells": [
  {
   "cell_type": "markdown",
   "metadata": {},
   "source": [
    "Ideas:\n",
    "\n",
    "1. Physics simulator with mechanics (blocks) from images and rotating bodies (&their images)\n",
    "2. GridWorld go to goal, with few obstacles (so that the resulting fcn is simple)"
   ]
  },
  {
   "cell_type": "code",
   "execution_count": 98,
   "metadata": {},
   "outputs": [],
   "source": [
    "from copy import deepcopy\n",
    "import numpy as np\n",
    "import math\n",
    "from webcolors import name_to_rgb\n",
    "from matplotlib import pyplot as plt\n",
    "import cv2\n",
    "from IPython.display import clear_output"
   ]
  },
  {
   "cell_type": "code",
   "execution_count": 99,
   "metadata": {},
   "outputs": [],
   "source": [
    "class DelayedExecutor(object):\n",
    "    \"\"\"Execute stored commands after a pre-defined number of steps.\"\"\"\n",
    "    \n",
    "    def __init__(self):\n",
    "        self.queue = []\n",
    "        self.current_step = 0\n",
    "        \n",
    "    def push(self, delay, function):\n",
    "        \"\"\"Add a function to execute.\"\"\"\n",
    "        assert isinstance(delay, int)\n",
    "        assert delay >= 0\n",
    "        assert callable(function)\n",
    "        self.queue.append((self.current_step + delay, function))\n",
    "        \n",
    "    def step(self):\n",
    "        \"\"\"One step, will execute/increment step counter.\"\"\"\n",
    "        new_queue = []\n",
    "        \n",
    "        for target_step, fcn in self.queue:\n",
    "            if target_step <= self.current_step:\n",
    "                fcn()\n",
    "            else:\n",
    "                new_queue.append((target_step, fcn))\n",
    "                \n",
    "        self.queue = new_queue\n",
    "        self.current_step += 1\n",
    "        \n",
    "    def __repr__(self):\n",
    "        return f\"<DE nextstep={self.current_step} queuelen={len(self.queue)}>\""
   ]
  },
  {
   "cell_type": "code",
   "execution_count": 100,
   "metadata": {},
   "outputs": [],
   "source": [
    "class ProbeFunction(object):\n",
    "    \"\"\"Log number of calls for all objects.\"\"\"\n",
    "    NUM_OBJECTS = 0\n",
    "    \n",
    "    def __init__(self):\n",
    "        self.num_calls = 0\n",
    "        self.idx = ProbeFunction.NUM_OBJECTS\n",
    "        ProbeFunction.NUM_OBJECTS += 1\n",
    "    def __call__(self):\n",
    "        self.num_calls += 1\n",
    "        print(self, \"called\")\n",
    "        assert self.num_calls <= 1, f\"Too many calls {self}\"\n",
    "        return self\n",
    "        \n",
    "    def __repr__(self):\n",
    "        return f\"Probe function {self.idx}, total {self.num_calls}\""
   ]
  },
  {
   "cell_type": "code",
   "execution_count": 101,
   "metadata": {},
   "outputs": [],
   "source": [
    "def test_delayed_executor():\n",
    "    de = DelayedExecutor()\n",
    "    assert len(de.queue) == 0\n",
    "    f0 = ProbeFunction()\n",
    "    f1 = ProbeFunction()\n",
    "    f2 = ProbeFunction()\n",
    "    de.push(0, f0)\n",
    "    de.push(1, f1)\n",
    "    de.push(2, f2)\n",
    "    de.step()\n",
    "    assert f0.num_calls == 1\n",
    "    assert f1.num_calls == 0\n",
    "    assert f2.num_calls == 0\n",
    "    de.step()\n",
    "    assert f0.num_calls == 1\n",
    "    assert f1.num_calls == 1\n",
    "    assert f2.num_calls == 0\n",
    "    de.step()\n",
    "    assert f0.num_calls == 1\n",
    "    assert f1.num_calls == 1\n",
    "    assert f2.num_calls == 1\n",
    "\n",
    "    for _ in range(10):\n",
    "        de.step()\n",
    "\n",
    "    f0 = ProbeFunction()\n",
    "    f1 = ProbeFunction()\n",
    "    f2 = ProbeFunction()\n",
    "    de.push(0, f0)\n",
    "    de.push(1, f1)\n",
    "    de.push(2, f2)\n",
    "    de.step()\n",
    "    assert f0.num_calls == 1\n",
    "    assert f1.num_calls == 0\n",
    "    assert f2.num_calls == 0\n",
    "    de.step()\n",
    "    assert f0.num_calls == 1\n",
    "    assert f1.num_calls == 1\n",
    "    assert f2.num_calls == 0\n",
    "    de.step()\n",
    "    assert f0.num_calls == 1\n",
    "    assert f1.num_calls == 1\n",
    "    assert f2.num_calls == 1"
   ]
  },
  {
   "cell_type": "code",
   "execution_count": 102,
   "metadata": {},
   "outputs": [
    {
     "name": "stdout",
     "output_type": "stream",
     "text": [
      "Probe function 0, total 1 called\n",
      "Probe function 1, total 1 called\n",
      "Probe function 2, total 1 called\n",
      "Probe function 3, total 1 called\n",
      "Probe function 4, total 1 called\n",
      "Probe function 5, total 1 called\n"
     ]
    }
   ],
   "source": [
    "test_delayed_executor()"
   ]
  },
  {
   "cell_type": "code",
   "execution_count": null,
   "metadata": {},
   "outputs": [],
   "source": []
  },
  {
   "cell_type": "code",
   "execution_count": 115,
   "metadata": {},
   "outputs": [],
   "source": [
    "def inrange(x, m, M):\n",
    "    \"\"\"x in [m, M]?\"\"\"\n",
    "    return m <= x <= M\n",
    "\n",
    "class KeyChestEnvironment(object):\n",
    "    # class constants\n",
    "    OBJECTS = ['empty', 'wall', 'key', 'chest', 'food', 'lamp_on', 'lamp_off', 'player']\n",
    "    SYMBOLS = {'wall': '#', 'player': 'P', 'key': '<', 'chest': '>', 'food': '@',\n",
    "               'lamp_on': 'L', 'lamp_off': 'l', 'empty': ' '}    \n",
    "    COLORS = {'empty': (191, 191, 191), 'wall': (0, 0, 0), 'key': (0, 0, 255), 'chest': (255, 255, 0), 'lamp_on': (255, 255, 255),\n",
    "              'lamp_off': (94, 94, 94), 'food': (0, 255, 0), 'player': (255, 0, 0)}\n",
    "    ACTIONS = {0: (1, 0), 1: (-1, 0), 2: (0, 1), 3: (0, -1)}\n",
    "    ACTION_NAMES = {(1, 0): \"down\", (-1, 0): \"up\", (0, 1): \"right\", (0, -1): \"left\"}\n",
    "    \n",
    "    def __init__(self, labyrinth_maps, initial_health, food_efficiency,\n",
    "                 food_rows=None, keys_rows=None, callback=None):\n",
    "        \"\"\"Environment with keys and chests.\"\"\"\n",
    "        self.initial_maps = deepcopy(labyrinth_maps)\n",
    "        self.maps = deepcopy(labyrinth_maps)\n",
    "        self.executor = DelayedExecutor()\n",
    "        self.delay = 1\n",
    "        self.shape = self.maps[self.SYMBOLS['empty']].shape\n",
    "        assert set(self.maps.keys()) == set(KeyChestEnvironment.SYMBOLS.values())\n",
    "        self.keys = 0\n",
    "        self.food_efficiency = food_efficiency\n",
    "        self.food_rows = food_rows\n",
    "        self.keys_rows = keys_rows\n",
    "        self.initial_health = initial_health\n",
    "        self.health = initial_health\n",
    "        self.width = self.shape[1]\n",
    "        self.height = self.shape[0]\n",
    "        self.first_render = True\n",
    "        self.callback_ = callback\n",
    "        \n",
    "        # to see if everything fits\n",
    "        self.render()\n",
    "        \n",
    "        self.moves = 0\n",
    "        self.history = []\n",
    "        \n",
    "        self.callback(dict(event='initialized'))\n",
    "        \n",
    "    def callback(self, *args, **kwargs):\n",
    "        if self.callback_:\n",
    "            self.callback_(*args, moves=self.moves, **kwargs)\n",
    "        else:\n",
    "            pass\n",
    "        self.history.append(dict(args=args, kwargs=kwargs, moves=self.moves))\n",
    "        \n",
    "    @property\n",
    "    def player_position(self):\n",
    "        return self.locate_single(self.SYMBOLS['player'])\n",
    "        \n",
    "    def items_at_position(self, pos):\n",
    "        \"\"\"Which items are at a particular position?\"\"\"\n",
    "        return [x for x in self.SYMBOL_LIST if self.maps[x][pos[0], pos[1]]]\n",
    "    \n",
    "    def item_at_position(self, pos):\n",
    "        \"\"\"Got one item at a position.\"\"\"\n",
    "        items = self.items_at_position(pos)\n",
    "        if len(items) == 2 and self.SYMBOLS['empty'] in items:\n",
    "            del items[items.index(self.SYMBOLS['empty'])]\n",
    "        assert len(items) == 1, f\"Must have one items only at {pos}, got {items}\"\n",
    "        return items[0]\n",
    "    \n",
    "    @property\n",
    "    def observation(self):\n",
    "        sx, sy = self.shape\n",
    "        \n",
    "        if self.first_render:\n",
    "            maxfood = self.initial_health + self.food_efficiency * np.sum(self.initial_maps[self.SYMBOLS['food']])\n",
    "            maxkeys = np.sum(self.initial_maps[self.SYMBOLS['key']])\n",
    "            food_rows = round(math.ceil(1. * maxfood / (2 + self.width)))\n",
    "            keys_rows = round(math.ceil(1. * maxkeys / (2 + self.width)))\n",
    "\n",
    "            if self.food_rows is None:\n",
    "                self.food_rows = food_rows\n",
    "            else:\n",
    "                assert self.food_rows >= food_rows\n",
    "\n",
    "            if self.keys_rows is None:\n",
    "                self.keys_rows = keys_rows\n",
    "            else:\n",
    "                assert self.keys_rows >= keys_rows\n",
    "                \n",
    "            print(self.keys_rows, self.food_rows)\n",
    "            self.first_render = False\n",
    "        \n",
    "        dy1 = 1\n",
    "        dy2 = 1\n",
    "        dy = dy1 + dy2\n",
    "        dx1 = 1 + self.food_rows + self.keys_rows\n",
    "        dx2 = 1\n",
    "        dx = dx1 + dx2\n",
    "        \n",
    "        def fill_n(arr, offset_x, value, symbol):\n",
    "            value_left = value\n",
    "            width = arr.shape[1]\n",
    "            current_row = offset_x\n",
    "            while value_left:\n",
    "                add_this_iter = min(width, value_left)\n",
    "                arr[current_row, :add_this_iter] = [symbol] * add_this_iter\n",
    "                current_row += 1\n",
    "                value_left -= add_this_iter\n",
    "        \n",
    "                \n",
    "        shape = (sx + dx, sy + dy)\n",
    "        out = np.full(fill_value=self.SYMBOLS['empty'], shape=shape, dtype='<U1')\n",
    "        \n",
    "        fill_n(out, 0, self.health, self.SYMBOLS['food'])\n",
    "        fill_n(out, self.food_rows, self.keys, self.SYMBOLS['key'])\n",
    "        \n",
    "        out[dx1 - 1, :] = self.SYMBOLS['wall']\n",
    "        out[-1, :] = self.SYMBOLS['wall']\n",
    "        out[dx1 - 1:, 0] = self.SYMBOLS['wall']\n",
    "        out[dx1 - 1:, -1] = self.SYMBOLS['wall']\n",
    "        for obj in self.OBJECTS:\n",
    "            symb = self.SYMBOLS[obj]\n",
    "            mask = self.maps[symb] > 0\n",
    "            out[dx1:-dx2,dy1:-dy2][mask] = self.SYMBOLS[obj]\n",
    "            \n",
    "        return out\n",
    "        \n",
    "    def move_symbol(self, symbol, old_pos, new_pos):\n",
    "        self.delete_symbol(symbol, old_pos)\n",
    "        self.add_symbol(symbol, new_pos)\n",
    "        \n",
    "    def delete_symbol(self, symbol, old_pos):\n",
    "        assert self.maps[symbol][old_pos[0], old_pos[1]]\n",
    "        self.maps[symbol][old_pos[0], old_pos[1]] = False\n",
    "        \n",
    "    def add_symbol(self, symbol, new_pos):\n",
    "        assert not self.maps[symbol][new_pos[0], new_pos[1]]\n",
    "        self.maps[symbol][new_pos[0], new_pos[1]] = True\n",
    "        \n",
    "    def step(self, action):\n",
    "       \n",
    "        info = {'action': action, 'event': 'regular_move'}\n",
    "                \n",
    "        next_position = np.array(self.player_position) + np.array(self.ACTIONS[action])\n",
    "        if not inrange(next_position[0], 0, self.height - 1):\n",
    "            def change_callback(info=info):\n",
    "                info['event'] = 'bump_top_or_bottom'\n",
    "                return info\n",
    "        elif not inrange(next_position[1], 0, self.width - 1):\n",
    "            def change_callback(info=info):\n",
    "                info['event'] = 'bump_left_or_right'\n",
    "                return info\n",
    "        else:\n",
    "            self.move_symbol(self.SYMBOLS['player'], self.player_position, next_position)\n",
    "            \n",
    "            def change_callback(self=self, next_position=next_position, info=info):\n",
    "                # otherwise we are moving\n",
    "                item = self.item_at_position(next_position)\n",
    "\n",
    "                if item == self.SYMBOLS['wall']:\n",
    "                    info['event'] = 'bump_wall'\n",
    "\n",
    "                if item == self.SYMBOLS['lamp_on']:\n",
    "                    self.delete_symbol(self.SYMBOLS['lamp_on'], next_position)\n",
    "                    self.add_symbol(self.SYMBOLS['lamp_off'], next_position)\n",
    "\n",
    "                    info['event'] = 'lamp_turned_off'\n",
    "                elif item == self.SYMBOLS['lamp_off']:\n",
    "                    self.delete_symbol(self.SYMBOLS['lamp_off'], next_position)\n",
    "                    self.add_symbol(self.SYMBOLS['lamp_on'], next_position)\n",
    "\n",
    "                    info['event'] = 'lamp_turned_on'\n",
    "                elif item == self.SYMBOLS['food']:\n",
    "                    self.delete_symbol(self.SYMBOLS['food'], next_position)\n",
    "                    self.health += self.food_efficiency\n",
    "\n",
    "                    info['event'] = 'food_collected'\n",
    "                elif item == self.SYMBOLS['key']:\n",
    "                    self.delete_symbol(self.SYMBOLS['key'], next_position)\n",
    "                    self.keys += 1\n",
    "\n",
    "                    info['event'] = 'key_collected'\n",
    "                elif item == self.SYMBOLS['chest']:\n",
    "                    if self.keys > 0:\n",
    "                        self.keys -= 1\n",
    "                        self.delete_symbol(self.SYMBOLS['chest'], next_position)\n",
    "                        info['event'] = 'chest_opened'\n",
    "                    else:\n",
    "                        info['event'] = 'not_enough_keys'\n",
    "                else:\n",
    "                    info['event'] = 'regular_move'\n",
    "\n",
    "                return info\n",
    "            \n",
    "        \n",
    "        def move_effect(self=self, change_callback=change_callback):\n",
    "            info = change_callback()\n",
    "            self.callback(info)\n",
    "        \n",
    "        self.executor.push(self.delay, move_effect)\n",
    "        self.executor.step()\n",
    "        self.moves += 1\n",
    "        return self.observation\n",
    "        \n",
    "        \n",
    "    def render(self, mode='np_array'):\n",
    "        obs = self.observation\n",
    "        \n",
    "        if mode == 'np_array':\n",
    "            return obs\n",
    "        elif mode == 'str':\n",
    "            return '\\n'.join([''.join(x) for x in obs])\n",
    "        elif mode == 'rgb_array':\n",
    "            scale = 5\n",
    "            out_arr = np.zeros((obs.shape[0], obs.shape[1], 3))\n",
    "            for symbol in self.SYMBOL_LIST:\n",
    "                mask = obs == symbol\n",
    "                out_arr[mask] = self.SYMBOLS_TO_COLORS[symbol]\n",
    "            out_arr /= 255.\n",
    "\n",
    "            out_arr = np.repeat(out_arr, scale, axis=1)\n",
    "            out_arr = np.swapaxes(np.repeat(np.swapaxes(out_arr, 0, 1), scale, axis=1), 0, 1)\n",
    "            return out_arr\n",
    "        \n",
    "        return obs\n",
    "        \n",
    "    def locate(self, object_type):\n",
    "        return KeyChestEnvironment._locate(self.maps, object_type)\n",
    "    \n",
    "    def locate_single(self, object_type):\n",
    "        return KeyChestEnvironment._locate_single(self.maps, object_type)\n",
    "    \n",
    "    @staticmethod\n",
    "    def _locate(maps, object_type):\n",
    "        \"\"\"Where are objects of a given type on the map?\"\"\"\n",
    "        assert object_type in KeyChestEnvironment.SYMBOLS.values(), \\\n",
    "            f\"Wrong object {object_type}, have {maps.keys()}\"\n",
    "        return list(zip(*np.where(maps[object_type])))\n",
    "    \n",
    "    @staticmethod\n",
    "    def _locate_single(maps, object_type):\n",
    "        \"\"\"Where is the single object?\"\"\"\n",
    "        w = KeyChestEnvironment._locate(maps, object_type)\n",
    "        assert len(w) >= 1, f\"No {object_type} found\"\n",
    "        assert len(w) <= 1, f\"More than one {object_type} found\"\n",
    "        return w[0]\n",
    "    \n",
    "def compute_attrs(cls=KeyChestEnvironment):\n",
    "    \"\"\"Set additional attributes.\"\"\"\n",
    "    cls.SYMBOLS_TO_OBJECTS = {y: x for x, y in cls.SYMBOLS.items()}\n",
    "    cls.SYMBOL_LIST = [cls.SYMBOLS.get(x) for x in cls.OBJECTS]\n",
    "    cls.SYMBOLS_TO_COLORS = {x: cls.COLORS[cls.SYMBOLS_TO_OBJECTS[x]] for x in cls.SYMBOL_LIST}\n",
    "    cls.ACTIONS_REVERSE = {y: x for x, y in cls.ACTIONS.items()}\n",
    "    cls.ACTION_NAME_REVERSE = {y: x for x, y in cls.ACTION_NAMES.items()}\n",
    "    \n",
    "compute_attrs(KeyChestEnvironment)"
   ]
  },
  {
   "cell_type": "code",
   "execution_count": 116,
   "metadata": {},
   "outputs": [],
   "source": [
    "class KeyChestEnvironmentRandom(KeyChestEnvironment):\n",
    "    \n",
    "    def __init__(self, width=10, height=10, n_keys=2, n_chests=2, n_food=2, **kwargs):\n",
    "        objects_to_fill = ['player', 'lamp_off']\n",
    "        objects_to_fill += ['key'] * n_keys\n",
    "        objects_to_fill += ['chest'] * n_chests\n",
    "        objects_to_fill += ['food'] * n_food\n",
    "        shape = (height, width)\n",
    "        wh = width * height\n",
    "        assert wh >= len(objects_to_fill)\n",
    "        \n",
    "        positions = []\n",
    "        for i in range(height):\n",
    "            for j in range(width):\n",
    "                positions.append((i, j))\n",
    "                \n",
    "        pos_select = np.random.choice(range(len(positions)), len(objects_to_fill), replace=False)\n",
    "        \n",
    "        maps = {k: np.zeros(shape, dtype=np.bool) for k in self.SYMBOLS.values()}\n",
    "        maps[self.SYMBOLS['empty']][:,:] = True\n",
    "                \n",
    "        for pos, obj in zip(pos_select, objects_to_fill):\n",
    "            m = maps[self.SYMBOLS[obj]]\n",
    "            p = positions[pos]\n",
    "            m[p[0], p[1]] = True\n",
    "        \n",
    "        super(KeyChestEnvironmentRandom, self).__init__(labyrinth_maps=maps, **kwargs)"
   ]
  },
  {
   "cell_type": "code",
   "execution_count": 120,
   "metadata": {},
   "outputs": [],
   "source": [
    "buffer = None\n",
    "def callback_store(x, moves=None):\n",
    "    global buffer\n",
    "    buffer = (moves, x)"
   ]
  },
  {
   "cell_type": "code",
   "execution_count": 121,
   "metadata": {},
   "outputs": [
    {
     "name": "stdout",
     "output_type": "stream",
     "text": [
      "1 3\n"
     ]
    }
   ],
   "source": [
    "env = KeyChestEnvironmentRandom(initial_health=13, food_efficiency=10, callback=callback_store)"
   ]
  },
  {
   "cell_type": "code",
   "execution_count": null,
   "metadata": {},
   "outputs": [],
   "source": []
  },
  {
   "cell_type": "code",
   "execution_count": null,
   "metadata": {},
   "outputs": [],
   "source": []
  },
  {
   "cell_type": "code",
   "execution_count": null,
   "metadata": {},
   "outputs": [
    {
     "data": {
      "image/png": "[encoded data removed]",
      "text/plain": [
       "<Figure size 432x288 with 1 Axes>"
      ]
     },
     "metadata": {
      "needs_background": "light"
     },
     "output_type": "display_data"
    },
    {
     "name": "stdout",
     "output_type": "stream",
     "text": [
      "down (1, 0) 0\n",
      "(38, {'action': 0, 'event': 'chest_opened'})\n"
     ]
    }
   ],
   "source": [
    "plt.imshow(env.render('rgb_array'))\n",
    "plt.show()\n",
    "\n",
    "while True:\n",
    "    key = input()\n",
    "    clear_output()\n",
    "    mapping = {'w': 'up', 'a': 'left', 's': 'down', 'd': 'right'}\n",
    "    try:\n",
    "        key = mapping[key]\n",
    "        dxdy = env.ACTION_NAME_REVERSE[key]\n",
    "        act = env.ACTIONS_REVERSE[dxdy]\n",
    "    except:\n",
    "        print(\"Wrong action\")\n",
    "    env.step(act)\n",
    "    plt.show()\n",
    "    plt.imshow(env.render('rgb_array'))\n",
    "    plt.show()\n",
    "    print(key, dxdy, act)\n",
    "    print(buffer)\n"
   ]
  },
  {
   "cell_type": "code",
   "execution_count": 60,
   "metadata": {},
   "outputs": [],
   "source": [
    "_ = env.step(0)"
   ]
  },
  {
   "cell_type": "code",
   "execution_count": 61,
   "metadata": {},
   "outputs": [
    {
     "data": {
      "text/plain": [
       "<matplotlib.image.AxesImage at 0x7f340d4b01d0>"
      ]
     },
     "execution_count": 61,
     "metadata": {},
     "output_type": "execute_result"
    },
    {
     "data": {
      "image/png": "[encoded data removed]",
      "text/plain": [
       "<Figure size 432x288 with 1 Axes>"
      ]
     },
     "metadata": {
      "needs_background": "light"
     },
     "output_type": "display_data"
    }
   ],
   "source": [
    "plt.imshow(env.render('rgb_array'))"
   ]
  },
  {
   "cell_type": "code",
   "execution_count": 38,
   "metadata": {},
   "outputs": [
    {
     "name": "stdout",
     "output_type": "stream",
     "text": [
      "7 {'action': 0, 'event': 'bump_top_or_bottom'}\n"
     ]
    },
    {
     "data": {
      "text/plain": [
       "array([['@', '@', '@', '@', '@', '@', '@', '@', '@', '@', '@', '@'],\n",
       "       ['@', ' ', ' ', ' ', ' ', ' ', ' ', ' ', ' ', ' ', ' ', ' '],\n",
       "       [' ', ' ', ' ', ' ', ' ', ' ', ' ', ' ', ' ', ' ', ' ', ' '],\n",
       "       [' ', ' ', ' ', ' ', ' ', ' ', ' ', ' ', ' ', ' ', ' ', ' '],\n",
       "       ['#', '#', '#', '#', '#', '#', '#', '#', '#', '#', '#', '#'],\n",
       "       ['#', ' ', ' ', ' ', ' ', ' ', ' ', ' ', '@', ' ', ' ', '#'],\n",
       "       ['#', 'l', ' ', ' ', ' ', ' ', ' ', ' ', ' ', ' ', ' ', '#'],\n",
       "       ['#', ' ', ' ', ' ', ' ', ' ', ' ', ' ', ' ', ' ', ' ', '#'],\n",
       "       ['#', ' ', ' ', ' ', ' ', ' ', ' ', ' ', ' ', ' ', ' ', '#'],\n",
       "       ['#', ' ', ' ', '<', ' ', ' ', ' ', ' ', ' ', ' ', ' ', '#'],\n",
       "       ['#', ' ', ' ', ' ', ' ', ' ', ' ', '<', ' ', ' ', ' ', '#'],\n",
       "       ['#', ' ', ' ', ' ', ' ', ' ', ' ', ' ', ' ', ' ', ' ', '#'],\n",
       "       ['#', ' ', ' ', ' ', ' ', ' ', ' ', ' ', ' ', ' ', ' ', '#'],\n",
       "       ['#', ' ', '@', ' ', '>', '>', ' ', ' ', ' ', ' ', ' ', '#'],\n",
       "       ['#', ' ', ' ', ' ', ' ', ' ', 'P', ' ', ' ', ' ', ' ', '#'],\n",
       "       ['#', '#', '#', '#', '#', '#', '#', '#', '#', '#', '#', '#']],\n",
       "      dtype='<U1')"
      ]
     },
     "execution_count": 38,
     "metadata": {},
     "output_type": "execute_result"
    }
   ],
   "source": [
    "env.step(0)"
   ]
  },
  {
   "cell_type": "code",
   "execution_count": 39,
   "metadata": {},
   "outputs": [
    {
     "name": "stdout",
     "output_type": "stream",
     "text": [
      "@@@@@@@@@@@@\n",
      "@           \n",
      "            \n",
      "            \n",
      "############\n",
      "#       @  #\n",
      "#l         #\n",
      "#          #\n",
      "#          #\n",
      "#  <       #\n",
      "#      <   #\n",
      "#          #\n",
      "#          #\n",
      "# @ >>     #\n",
      "#     P    #\n",
      "############\n"
     ]
    }
   ],
   "source": [
    "print(env.render('str'))"
   ]
  },
  {
   "cell_type": "code",
   "execution_count": 40,
   "metadata": {},
   "outputs": [],
   "source": [
    "arr = env.observation"
   ]
  },
  {
   "cell_type": "code",
   "execution_count": 41,
   "metadata": {},
   "outputs": [
    {
     "data": {
      "text/plain": [
       "{' ': (191, 191, 191),\n",
       " '#': (0, 0, 0),\n",
       " '<': (0, 0, 255),\n",
       " '>': (255, 255, 0),\n",
       " '@': (0, 255, 0),\n",
       " 'L': (255, 255, 255),\n",
       " 'l': (94, 94, 94),\n",
       " 'P': (255, 0, 0)}"
      ]
     },
     "execution_count": 41,
     "metadata": {},
     "output_type": "execute_result"
    }
   ],
   "source": [
    "env.SYMBOLS_TO_COLORS"
   ]
  },
  {
   "cell_type": "code",
   "execution_count": null,
   "metadata": {},
   "outputs": [],
   "source": []
  },
  {
   "cell_type": "code",
   "execution_count": null,
   "metadata": {},
   "outputs": [],
   "source": [
    "scale = 10"
   ]
  },
  {
   "cell_type": "code",
   "execution_count": null,
   "metadata": {},
   "outputs": [],
   "source": [
    "env"
   ]
  },
  {
   "cell_type": "code",
   "execution_count": null,
   "metadata": {},
   "outputs": [],
   "source": []
  },
  {
   "cell_type": "code",
   "execution_count": null,
   "metadata": {},
   "outputs": [],
   "source": [
    "arr = np.array([[1,2,3],\n",
    "         [4,5,6]])\n",
    "arr"
   ]
  },
  {
   "cell_type": "code",
   "execution_count": 135,
   "metadata": {},
   "outputs": [],
   "source": [
    "import gym, pickle"
   ]
  },
  {
   "cell_type": "code",
   "execution_count": 136,
   "metadata": {},
   "outputs": [],
   "source": [
    "space = gym.spaces.Box(np.array([-1]), np.array([1.0]))"
   ]
  },
  {
   "cell_type": "code",
   "execution_count": 149,
   "metadata": {},
   "outputs": [
    {
     "data": {
      "text/plain": [
       "['__class__',\n",
       " '__contains__',\n",
       " '__delattr__',\n",
       " '__dict__',\n",
       " '__dir__',\n",
       " '__doc__',\n",
       " '__eq__',\n",
       " '__format__',\n",
       " '__ge__',\n",
       " '__getattribute__',\n",
       " '__gt__',\n",
       " '__hash__',\n",
       " '__init__',\n",
       " '__init_subclass__',\n",
       " '__le__',\n",
       " '__lt__',\n",
       " '__module__',\n",
       " '__ne__',\n",
       " '__new__',\n",
       " '__reduce__',\n",
       " '__reduce_ex__',\n",
       " '__repr__',\n",
       " '__setattr__',\n",
       " '__sizeof__',\n",
       " '__str__',\n",
       " '__subclasshook__',\n",
       " '__weakref__',\n",
       " 'bounded_above',\n",
       " 'bounded_below',\n",
       " 'contains',\n",
       " 'dtype',\n",
       " 'from_jsonable',\n",
       " 'high',\n",
       " 'is_bounded',\n",
       " 'low',\n",
       " 'np_random',\n",
       " 'sample',\n",
       " 'seed',\n",
       " 'shape',\n",
       " 'to_jsonable']"
      ]
     },
     "execution_count": 149,
     "metadata": {},
     "output_type": "execute_result"
    }
   ],
   "source": [
    "dir(space)"
   ]
  },
  {
   "cell_type": "code",
   "execution_count": 196,
   "metadata": {},
   "outputs": [],
   "source": [
    "def save_gym_space(space):\n",
    "    \"\"\"Serialize gym.space.\"\"\"\n",
    "    if isinstance(space, gym.spaces.Box):\n",
    "        low = space.low.flatten()[0]\n",
    "        high = space.high.flatten()[0]\n",
    "        return dict(type_='Box', low=low, high=high,\n",
    "                    shape=space.shape, dtype=space.dtype)\n",
    "    raise TypeError(f\"Type {type(space)} is unsupported\")\n",
    "    \n",
    "def load_gym_space(d):\n",
    "    \"\"\"Load gym.space from save_gym_space result.\"\"\"\n",
    "    assert isinstance(d, dict)\n",
    "    if d['type_'] == 'Box':\n",
    "        return gym.spaces.Box(low=d['low'], high=d['high'],\n",
    "                              shape=d['shape'], dtype=d['dtype'])\n",
    "    raise TypeError(f\"Type {d['type_']} is unsupported\")"
   ]
  },
  {
   "cell_type": "code",
   "execution_count": 197,
   "metadata": {},
   "outputs": [
    {
     "data": {
      "text/plain": [
       "Box(1,)"
      ]
     },
     "execution_count": 197,
     "metadata": {},
     "output_type": "execute_result"
    }
   ],
   "source": [
    "load_gym_space(save_gym_space(space))"
   ]
  },
  {
   "cell_type": "code",
   "execution_count": 206,
   "metadata": {},
   "outputs": [],
   "source": [
    "isinstance(space, gym.spaces.Box)\n",
    "import codecs"
   ]
  },
  {
   "cell_type": "code",
   "execution_count": 199,
   "metadata": {},
   "outputs": [
    {
     "ename": "TypeError",
     "evalue": "Type 1 is unsupported",
     "output_type": "error",
     "traceback": [
      "\u001b[0;31m---------------------------------------------------------------------------\u001b[0m",
      "\u001b[0;31mTypeError\u001b[0m                                 Traceback (most recent call last)",
      "\u001b[0;32m<ipython-input-199-2edcffc21f5f>\u001b[0m in \u001b[0;36m<module>\u001b[0;34m\u001b[0m\n\u001b[0;32m----> 1\u001b[0;31m \u001b[0mload_gym_space\u001b[0m\u001b[0;34m(\u001b[0m\u001b[0;34m{\u001b[0m\u001b[0;34m'sdf'\u001b[0m\u001b[0;34m:\u001b[0m \u001b[0;36m1\u001b[0m\u001b[0;34m,\u001b[0m \u001b[0;34m'type_'\u001b[0m\u001b[0;34m:\u001b[0m \u001b[0;36m1\u001b[0m\u001b[0;34m}\u001b[0m\u001b[0;34m)\u001b[0m\u001b[0;34m\u001b[0m\u001b[0;34m\u001b[0m\u001b[0m\n\u001b[0m",
      "\u001b[0;32m<ipython-input-196-7f609328f09c>\u001b[0m in \u001b[0;36mload_gym_space\u001b[0;34m(d)\u001b[0m\n\u001b[1;32m     14\u001b[0m         return gym.spaces.Box(low=d['low'], high=d['high'],\n\u001b[1;32m     15\u001b[0m                               shape=d['shape'], dtype=d['dtype'])\n\u001b[0;32m---> 16\u001b[0;31m     \u001b[0;32mraise\u001b[0m \u001b[0mTypeError\u001b[0m\u001b[0;34m(\u001b[0m\u001b[0;34mf\"Type {d['type_']} is unsupported\"\u001b[0m\u001b[0;34m)\u001b[0m\u001b[0;34m\u001b[0m\u001b[0;34m\u001b[0m\u001b[0m\n\u001b[0m",
      "\u001b[0;31mTypeError\u001b[0m: Type 1 is unsupported"
     ]
    }
   ],
   "source": [
    "load_gym_space({'sdf': 1, 'type_': 1})"
   ]
  },
  {
   "cell_type": "code",
   "execution_count": 209,
   "metadata": {},
   "outputs": [
    {
     "data": {
      "text/plain": [
       "b'80034b7b2e'"
      ]
     },
     "execution_count": 209,
     "metadata": {},
     "output_type": "execute_result"
    }
   ],
   "source": [
    "codecs.encode(pickle.dumps(123), \"hex\")"
   ]
  },
  {
   "cell_type": "code",
   "execution_count": null,
   "metadata": {},
   "outputs": [],
   "source": []
  }
 ],
 "metadata": {
  "kernelspec": {
   "display_name": "Python 3",
   "language": "python",
   "name": "python3"
  },
  "language_info": {
   "codemirror_mode": {
    "name": "ipython",
    "version": 3
   },
   "file_extension": ".py",
   "mimetype": "text/x-python",
   "name": "python",
   "nbconvert_exporter": "python",
   "pygments_lexer": "ipython3",
   "version": "3.7.7"
  }
 },
 "nbformat": 4,
 "nbformat_minor": 4
}
