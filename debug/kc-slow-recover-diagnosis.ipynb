{
 "cells": [
  {
   "cell_type": "code",
   "execution_count": 3,
   "metadata": {},
   "outputs": [],
   "source": [
    "import os\n",
    "os.environ['CUDA_VISIBLE_DEVICES'] = \"0\"\n",
    "import numpy as np\n",
    "from matplotlib import pyplot as plt\n",
    "import seaborn as sns\n",
    "import pandas as pd\n",
    "from tqdm.auto import tqdm\n",
    "import torch\n",
    "from torch import nn\n",
    "import gin\n",
    "import pickle\n",
    "import io\n",
    "from sparse_causal_model_learner_rl.trainable.gumbel_switch import WithInputSwitch, sample_from_logits_simple\n",
    "gin.enter_interactive_mode()"
   ]
  },
  {
   "cell_type": "code",
   "execution_count": 4,
   "metadata": {},
   "outputs": [],
   "source": [
    "ckpt = '/home/sergei/ckpt_slow_recover'"
   ]
  },
  {
   "cell_type": "code",
   "execution_count": 5,
   "metadata": {},
   "outputs": [],
   "source": [
    "class LinearModel(nn.Module):\n",
    "    def __init__(self, input_shape):\n",
    "        super(LinearModel, self).__init__()\n",
    "        self.layer = nn.Linear(in_features=10, out_features=1, bias=True)\n",
    "    def forward(self, x):\n",
    "        return self.layer(x)"
   ]
  },
  {
   "cell_type": "code",
   "execution_count": 10,
   "metadata": {},
   "outputs": [
    {
     "name": "stderr",
     "output_type": "stream",
     "text": [
      "2021-01-27 11:47:13,646\tINFO worker.py:651 -- Connecting to existing Ray cluster at address: 10.90.38.7:6379\n",
      "2021-01-27 11:47:13,648\tERROR worker.py:660 -- Calling ray.init() again after it has already been called.\n"
     ]
    }
   ],
   "source": [
    "import ray\n",
    "ray.init(address='10.90.38.7:6379', ignore_reinit_error=True)"
   ]
  },
  {
   "cell_type": "code",
   "execution_count": 71,
   "metadata": {},
   "outputs": [],
   "source": [
    "# https://github.com/pytorch/pytorch/issues/16797\n",
    "class CPU_Unpickler(pickle.Unpickler):\n",
    "    def find_class(self, module, name):\n",
    "        if module == 'torch.storage' and name == '_load_from_bytes':\n",
    "            return lambda b: torch.load(io.BytesIO(b), map_location='cpu')\n",
    "        else: return super().find_class(module, name)"
   ]
  },
  {
   "cell_type": "code",
   "execution_count": 72,
   "metadata": {},
   "outputs": [
    {
     "name": "stderr",
     "output_type": "stream",
     "text": [
      "2021-01-27 12:11:42,987\tWARNING session.py:20 -- Session not detected. You should not be calling this function outside `tune.run` or while using the class API. \n"
     ]
    },
    {
     "name": "stdout",
     "output_type": "stream",
     "text": [
      "Selecting name 6faa508a-6090-11eb-b7e6-90e2baa1a248\n",
      "Make environment KeyChest-v0 None {}\n"
     ]
    },
    {
     "name": "stderr",
     "output_type": "stream",
     "text": [
      "WARNING:root:No class provided for trainable reconstructor\n",
      "WARNING:root:No class provided for trainable value_predictor\n",
      "WARNING:root:No class provided for trainable causal_feature_model_discriminator\n",
      "WARNING:root:No class provided for trainable decoder_discriminator\n",
      "WARNING:root:Warning: loss discriminate_siamese is used more than once\n",
      "WARNING:root:Warning: loss fit is used more than once\n",
      "WARNING:root:Warning: loss no_small_probas is used more than once\n",
      "WARNING:root:Warning: loss non_sparse_fit is used more than once\n",
      "WARNING:root:Warning: loss sparsity is used more than once\n"
     ]
    }
   ],
   "source": [
    "with open(ckpt, 'rb') as f:\n",
    "    learner = pickle.load(f)#CPU_Unpickler(f).load()#pickle.load(f)"
   ]
  },
  {
   "cell_type": "code",
   "execution_count": 73,
   "metadata": {},
   "outputs": [
    {
     "data": {
      "text/plain": [
       "<RLLearner env=<KeyChestGymEnv<KeyChest-v0>> feature_shape=(17,) epochs=2000 additional_feature_shape=(2,)>"
      ]
     },
     "execution_count": 73,
     "metadata": {},
     "output_type": "execute_result"
    }
   ],
   "source": [
    "learner"
   ]
  },
  {
   "cell_type": "code",
   "execution_count": 74,
   "metadata": {},
   "outputs": [],
   "source": [
    "ctx = learner._context"
   ]
  },
  {
   "cell_type": "code",
   "execution_count": 75,
   "metadata": {},
   "outputs": [],
   "source": [
    "ox = ctx['obs_x']\n",
    "oy = ctx['obs_y']\n",
    "ax = ctx['action_x']"
   ]
  },
  {
   "cell_type": "code",
   "execution_count": 76,
   "metadata": {},
   "outputs": [],
   "source": [
    "oy_pred = learner.model(f_t=ox, a_t=ax)\n",
    "oy_pred_nosparse = learner.non_sparse_model(f_t=ox, a_t=ax)"
   ]
  },
  {
   "cell_type": "code",
   "execution_count": 118,
   "metadata": {},
   "outputs": [
    {
     "data": {
      "text/plain": [
       "tensor(0.0017, device='cuda:0', grad_fn=<MeanBackward0>)"
      ]
     },
     "execution_count": 118,
     "metadata": {},
     "output_type": "execute_result"
    }
   ],
   "source": [
    "(oy_pred - oy).pow(2).mean()"
   ]
  },
  {
   "cell_type": "code",
   "execution_count": 78,
   "metadata": {},
   "outputs": [
    {
     "data": {
      "text/plain": [
       "tensor(4.7909e-05, device='cuda:0', grad_fn=<MeanBackward0>)"
      ]
     },
     "execution_count": 78,
     "metadata": {},
     "output_type": "execute_result"
    }
   ],
   "source": [
    "(oy_pred_nosparse - oy).pow(2).mean()"
   ]
  },
  {
   "cell_type": "code",
   "execution_count": 79,
   "metadata": {},
   "outputs": [
    {
     "data": {
      "text/plain": [
       "<AxesSubplot:>"
      ]
     },
     "execution_count": 79,
     "metadata": {},
     "output_type": "execute_result"
    },
    {
     "data": {
      "image/png": "[encoded data removed]",
      "text/plain": [
       "<Figure size 432x288 with 2 Axes>"
      ]
     },
     "metadata": {
      "needs_background": "light"
     },
     "output_type": "display_data"
    }
   ],
   "source": [
    "sns.heatmap(learner.model.Mf)"
   ]
  },
  {
   "cell_type": "code",
   "execution_count": 119,
   "metadata": {},
   "outputs": [
    {
     "data": {
      "text/plain": [
       "<AxesSubplot:>"
      ]
     },
     "execution_count": 119,
     "metadata": {},
     "output_type": "execute_result"
    },
    {
     "data": {
      "image/png": "[encoded data removed]",
      "text/plain": [
       "<Figure size 432x288 with 2 Axes>"
      ]
     },
     "metadata": {
      "needs_background": "light"
     },
     "output_type": "display_data"
    }
   ],
   "source": [
    "sns.heatmap(learner.model.Mf)"
   ]
  },
  {
   "cell_type": "code",
   "execution_count": 98,
   "metadata": {},
   "outputs": [
    {
     "data": {
      "text/plain": [
       "tensor([1.0966e-05, 7.6086e-06, 5.6048e-04, 2.4202e-03, 8.8603e-04, 8.9060e-03,\n",
       "        2.6159e-03, 7.9391e-03, 1.7566e-03, 3.6311e-03, 2.1804e-03, 5.7823e-03,\n",
       "        1.4056e-02, 1.8109e-02, 1.8956e-02, 1.4887e-05, 1.1495e-05],\n",
       "       device='cuda:0', grad_fn=<MeanBackward1>)"
      ]
     },
     "execution_count": 98,
     "metadata": {},
     "output_type": "execute_result"
    }
   ],
   "source": [
    "# most features are bad\n",
    "(oy_pred - oy).pow(2).mean(0)"
   ]
  },
  {
   "cell_type": "code",
   "execution_count": 106,
   "metadata": {},
   "outputs": [],
   "source": [
    "opt = torch.optim.Adam(params=learner.model.parameters(), lr=1e-3)"
   ]
  },
  {
   "cell_type": "code",
   "execution_count": 107,
   "metadata": {},
   "outputs": [],
   "source": [
    "losses = []"
   ]
  },
  {
   "cell_type": "code",
   "execution_count": 116,
   "metadata": {},
   "outputs": [
    {
     "data": {
      "application/vnd.jupyter.widget-view+json": {
       "model_id": "ed7bdafaaa094842a5ab40b352f6d9c7",
       "version_major": 2,
       "version_minor": 0
      },
      "text/plain": [
       "HBox(children=(HTML(value=''), FloatProgress(value=0.0, max=1000.0), HTML(value='')))"
      ]
     },
     "metadata": {},
     "output_type": "display_data"
    },
    {
     "name": "stdout",
     "output_type": "stream",
     "text": [
      "\n"
     ]
    }
   ],
   "source": [
    "for _ in tqdm(range(1000)):\n",
    "    opt.zero_grad()\n",
    "    oy_pred = learner.model(f_t=ox, a_t=ax)\n",
    "    loss = (oy_pred - oy).pow(2).mean()\n",
    "    loss.backward()\n",
    "    opt.step()\n",
    "    losses.append(loss.item())"
   ]
  },
  {
   "cell_type": "code",
   "execution_count": 120,
   "metadata": {},
   "outputs": [
    {
     "data": {
      "image/png": "[encoded data removed]",
      "text/plain": [
       "<Figure size 432x288 with 1 Axes>"
      ]
     },
     "metadata": {
      "needs_background": "light"
     },
     "output_type": "display_data"
    }
   ],
   "source": [
    "plt.plot(losses)\n",
    "plt.yscale('log')"
   ]
  },
  {
   "cell_type": "code",
   "execution_count": null,
   "metadata": {},
   "outputs": [],
   "source": []
  },
  {
   "cell_type": "code",
   "execution_count": 104,
   "metadata": {},
   "outputs": [
    {
     "name": "stdout",
     "output_type": "stream",
     "text": [
      "tensor([[-2.3119,  0.0000,  0.0000,  0.0000,  0.0000, -0.0994,  0.0000,  0.0000,\n",
      "          0.0000, -0.0024,  0.0000,  0.0000, -0.0161, -0.3341,  0.0000,  0.0000,\n",
      "          0.0000,  0.0000,  0.0000,  0.0000,  0.0000],\n",
      "        [ 2.3119,  0.0000,  0.0000,  0.0000,  0.0000,  0.0994,  0.0000,  0.0000,\n",
      "          0.0000,  0.0024,  0.0000,  0.0000,  0.0161,  0.3341,  0.0000,  0.0000,\n",
      "          0.0000,  0.0000,  0.0000,  0.0000,  0.0000]], device='cuda:0')\n",
      "tensor([[ 0.0000, -2.3185,  0.0000,  0.0000,  0.0000,  0.0000,  0.0000,  0.0000,\n",
      "          0.0000,  0.0000,  0.0000,  0.0000,  0.0000,  0.0000,  0.0000,  0.0000,\n",
      "          0.0000,  0.0000,  0.0000,  0.0000,  0.0000],\n",
      "        [ 0.0000,  2.3185,  0.0000,  0.0000,  0.0000,  0.0000,  0.0000,  0.0000,\n",
      "          0.0000,  0.0000,  0.0000,  0.0000,  0.0000,  0.0000,  0.0000,  0.0000,\n",
      "          0.0000,  0.0000,  0.0000,  0.0000,  0.0000]], device='cuda:0')\n",
      "tensor([[-0.7056,  0.0000, -3.2079, -2.3017,  0.0000,  0.0000,  0.0000,  0.0000,\n",
      "          0.0000, -2.9329,  0.0000,  0.0000, -0.3843,  0.0000,  0.0000, -1.3007,\n",
      "         -1.7667, -0.2049, -0.6572, -0.4867, -0.4455],\n",
      "        [ 0.7056,  0.0000,  3.2079,  2.3017,  0.0000,  0.0000,  0.0000,  0.0000,\n",
      "          0.0000,  2.9329,  0.0000,  0.0000,  0.3843,  0.0000,  0.0000,  1.3007,\n",
      "          1.7667,  0.2049,  0.6572,  0.4867,  0.4455]], device='cuda:0')\n",
      "tensor([[-4.3964e-01, -3.8726e-02, -3.1513e+00, -2.9782e+00, -1.3892e-01,\n",
      "         -2.1410e-03, -1.4789e-01, -1.4797e+00,  0.0000e+00, -2.3406e+00,\n",
      "          0.0000e+00, -7.5373e-02, -1.6903e-01, -1.0144e-01,  0.0000e+00,\n",
      "         -5.9345e-01, -2.0575e-01,  0.0000e+00,  0.0000e+00, -1.1387e-01,\n",
      "          0.0000e+00],\n",
      "        [ 4.3964e-01,  3.8726e-02,  3.1513e+00,  2.9782e+00,  1.3892e-01,\n",
      "          2.1410e-03,  1.4789e-01,  1.4797e+00,  0.0000e+00,  2.3406e+00,\n",
      "          0.0000e+00,  7.5373e-02,  1.6903e-01,  1.0144e-01,  0.0000e+00,\n",
      "          5.9345e-01,  2.0575e-01,  0.0000e+00,  0.0000e+00,  1.1387e-01,\n",
      "          0.0000e+00]], device='cuda:0')\n",
      "tensor([[ 0.0000,  0.0000, -0.0035,  0.0000, -3.2612, -3.0309,  0.0000,  0.0000,\n",
      "          0.0000,  0.0000,  0.0000,  0.0000,  0.0000, -1.0126,  0.0000, -1.9169,\n",
      "         -2.4122,  0.0000,  0.0000,  0.0000,  0.0000],\n",
      "        [ 0.0000,  0.0000,  0.0035,  0.0000,  3.2612,  3.0309,  0.0000,  0.0000,\n",
      "          0.0000,  0.0000,  0.0000,  0.0000,  0.0000,  1.0126,  0.0000,  1.9169,\n",
      "          2.4122,  0.0000,  0.0000,  0.0000,  0.0000]], device='cuda:0')\n",
      "tensor([[ 0.0000,  0.0000, -0.0853, -0.3773, -2.7617, -2.8109, -0.3951, -0.0755,\n",
      "         -0.1433,  0.0000, -0.3239, -0.2853,  0.0000,  0.0000,  0.0000, -1.0024,\n",
      "         -1.8161, -0.2559, -0.2397, -0.3282, -0.4887],\n",
      "        [ 0.0000,  0.0000,  0.0853,  0.3773,  2.7617,  2.8109,  0.3951,  0.0755,\n",
      "          0.1433,  0.0000,  0.3239,  0.2853,  0.0000,  0.0000,  0.0000,  1.0024,\n",
      "          1.8161,  0.2559,  0.2397,  0.3282,  0.4887]], device='cuda:0')\n",
      "tensor([[ 0.0000,  0.0000,  0.0000, -0.0397, -3.0075, -2.8789, -2.9305,  0.0000,\n",
      "          0.0000,  0.0000,  0.0000,  0.0000,  0.0000,  0.0000,  0.0000, -1.2628,\n",
      "         -1.8712,  0.0000,  0.0000, -0.0096,  0.0000],\n",
      "        [ 0.0000,  0.0000,  0.0000,  0.0397,  3.0075,  2.8789,  2.9305,  0.0000,\n",
      "          0.0000,  0.0000,  0.0000,  0.0000,  0.0000,  0.0000,  0.0000,  1.2628,\n",
      "          1.8712,  0.0000,  0.0000,  0.0096,  0.0000]], device='cuda:0')\n",
      "tensor([[-0.6465, -0.1600, -0.1646, -0.2881, -0.1777,  0.0000,  0.0000, -3.1260,\n",
      "         -2.4849, -2.4159,  0.0000, -0.1974, -0.8812, -2.1387, -1.5083, -0.6966,\n",
      "         -1.7059, -0.8760, -0.6404, -0.7858, -0.7537],\n",
      "        [ 0.6465,  0.1600,  0.1646,  0.2881,  0.1777,  0.0000,  0.0000,  3.1261,\n",
      "          2.4849,  2.4159,  0.0000,  0.1974,  0.8812,  2.1387,  1.5083,  0.6966,\n",
      "          1.7059,  0.8760,  0.6404,  0.7858,  0.7537]], device='cuda:0')\n",
      "tensor([[ 0.0000,  0.0000,  0.0000, -0.2777, -0.2067, -0.4249,  0.0000, -3.2936,\n",
      "         -2.9814, -1.3202,  0.0000, -0.0998, -1.2215, -1.9343, -1.3836, -1.4652,\n",
      "         -2.5182, -0.5065, -0.0717, -0.9068,  0.0000],\n",
      "        [ 0.0000,  0.0000,  0.0000,  0.2777,  0.2067,  0.4249,  0.0000,  3.2936,\n",
      "          2.9814,  1.3202,  0.0000,  0.0998,  1.2215,  1.9343,  1.3836,  1.4652,\n",
      "          2.5182,  0.5065,  0.0717,  0.9068,  0.0000]], device='cuda:0')\n",
      "tensor([[ 0.0000,  0.0000, -2.0313, -2.3039,  0.0000,  0.0000,  0.0000, -3.0214,\n",
      "         -2.3312, -3.0363,  0.0000,  0.0000, -0.2883,  0.0000,  0.0000, -2.3132,\n",
      "         -1.9261,  0.0000,  0.0000,  0.0000,  0.0000],\n",
      "        [ 0.0000,  0.0000,  2.0313,  2.3039,  0.0000,  0.0000,  0.0000,  3.0214,\n",
      "          2.3312,  3.0363,  0.0000,  0.0000,  0.2883,  0.0000,  0.0000,  2.3132,\n",
      "          1.9261,  0.0000,  0.0000,  0.0000,  0.0000]], device='cuda:0')\n",
      "tensor([[-2.6863, -1.8266, -0.0606,  0.0000,  0.0000,  0.0000,  0.0000,  0.0000,\n",
      "          0.0000,  0.0000, -2.9839,  0.0000,  0.0000, -0.1999, -0.0165, -2.8158,\n",
      "         -2.2666, -0.1278, -0.7217, -0.8132, -0.5512],\n",
      "        [ 2.6863,  1.8266,  0.0606,  0.0000,  0.0000,  0.0000,  0.0000,  0.0000,\n",
      "          0.0000,  0.0000,  2.9839,  0.0000,  0.0000,  0.1999,  0.0165,  2.8158,\n",
      "          2.2666,  0.1278,  0.7217,  0.8132,  0.5512]], device='cuda:0')\n",
      "tensor([[-2.0361, -2.2624,  0.0000,  0.0000,  0.0000,  0.0000,  0.0000, -0.1977,\n",
      "         -0.4699, -0.0138,  0.0000, -2.9061, -2.3112, -2.3114, -2.6122, -2.1753,\n",
      "         -1.9463, -0.3206,  0.0000, -0.1866, -0.0629],\n",
      "        [ 2.0361,  2.2624,  0.0000,  0.0000,  0.0000,  0.0000,  0.0000,  0.1977,\n",
      "          0.4699,  0.0138,  0.0000,  2.9061,  2.3112,  2.3114,  2.6122,  2.1753,\n",
      "          1.9463,  0.3206,  0.0000,  0.1866,  0.0629]], device='cuda:0')\n",
      "tensor([[-1.7306, -2.0263,  0.0000,  0.0000, -0.4455, -0.2241,  0.0000,  0.0000,\n",
      "         -0.6957,  0.0000, -2.3812, -0.7396, -2.3669, -0.9313, -2.3254, -2.0749,\n",
      "         -1.1745,  0.0000, -0.5686, -0.3588, -0.2978],\n",
      "        [ 1.7306,  2.0263,  0.0000,  0.0000,  0.4455,  0.2241,  0.0000,  0.0000,\n",
      "          0.6957,  0.0000,  2.3812,  0.7396,  2.3669,  0.9313,  2.3254,  2.0749,\n",
      "          1.1745,  0.0000,  0.5686,  0.3588,  0.2978]], device='cuda:0')\n",
      "tensor([[-1.6774, -0.8493, -0.2781, -0.2805, -0.2335, -0.5217, -0.0597,  0.0000,\n",
      "         -0.5962, -0.7396, -0.4519, -2.3897, -1.7702, -2.6935, -2.3732, -2.3146,\n",
      "         -1.1012, -0.9672, -0.7161, -1.1117, -0.7173],\n",
      "        [ 1.6774,  0.8493,  0.2781,  0.2805,  0.2335,  0.5217,  0.0597,  0.0000,\n",
      "          0.5962,  0.7396,  0.4519,  2.3897,  1.7702,  2.6935,  2.3732,  2.3146,\n",
      "          1.1012,  0.9672,  0.7161,  1.1117,  0.7173]], device='cuda:0')\n",
      "tensor([[-2.0012, -2.1280, -0.1711,  0.0000, -0.4037, -0.3259, -0.4951,  0.0000,\n",
      "         -0.3342, -0.0493,  0.0000, -0.4818, -1.6310, -1.3429, -2.4301, -1.3262,\n",
      "         -2.3449, -0.2689, -0.7078,  0.0000, -0.3032],\n",
      "        [ 2.0012,  2.1280,  0.1711,  0.0000,  0.4037,  0.3259,  0.4951,  0.0000,\n",
      "          0.3342,  0.0493,  0.0000,  0.4818,  1.6310,  1.3429,  2.4301,  1.3262,\n",
      "          2.3449,  0.2689,  0.7078,  0.0000,  0.3032]], device='cuda:0')\n",
      "tensor([[ 0.0000,  0.0000,  0.0000,  0.0000,  0.0000, -0.1281,  0.0000,  0.0000,\n",
      "          0.0000,  0.0000,  0.0000,  0.0000, -0.1497,  0.0000, -0.1620, -2.3121,\n",
      "          0.0000, -2.3012, -2.3037,  0.0000,  0.0000],\n",
      "        [ 0.0000,  0.0000,  0.0000,  0.0000,  0.0000,  0.1281,  0.0000,  0.0000,\n",
      "          0.0000,  0.0000,  0.0000,  0.0000,  0.1497,  0.0000,  0.1620,  2.3121,\n",
      "          0.0000,  2.3012,  2.3037,  0.0000,  0.0000]], device='cuda:0')\n",
      "tensor([[ 0.0000,  0.0000,  0.0000,  0.0000,  0.0000, -0.0246,  0.0000,  0.0000,\n",
      "          0.0000,  0.0000,  0.0000,  0.0000,  0.0000,  0.0000, -0.0089,  0.0000,\n",
      "         -2.3092, -0.0097, -0.0233, -2.3075, -2.3028],\n",
      "        [ 0.0000,  0.0000,  0.0000,  0.0000,  0.0000,  0.0246,  0.0000,  0.0000,\n",
      "          0.0000,  0.0000,  0.0000,  0.0000,  0.0000,  0.0000,  0.0089,  0.0000,\n",
      "          2.3092,  0.0097,  0.0233,  2.3075,  2.3028]], device='cuda:0')\n",
      "tensor([[ 0.0000,  0.0000, -2.3462, -1.7201,  0.0000,  0.0000,  0.0000, -2.9336,\n",
      "         -1.5810, -2.0164,  0.0000,  0.0000,  0.0000,  0.0000,  0.0000,  0.0000,\n",
      "         -2.0690,  0.0000,  0.0000,  0.0000,  0.0000],\n",
      "        [ 0.0000,  0.0000,  2.3462,  1.7201,  0.0000,  0.0000,  0.0000,  2.9336,\n",
      "          1.5810,  2.0164,  0.0000,  0.0000,  0.0000,  0.0000,  0.0000,  0.0000,\n",
      "          2.0690,  0.0000,  0.0000,  0.0000,  0.0000]], device='cuda:0')\n",
      "tensor([[ 0.0000,  0.0000,  0.0000,  0.0000, -3.0033, -3.1253, -3.1668,  0.0000,\n",
      "          0.0000, -1.5063, -2.6334, -2.6487, -2.9662, -3.0205, -3.1015, -2.1164,\n",
      "         -2.8405, -2.8416, -2.5626, -2.4395, -2.6479],\n",
      "        [ 0.0000,  0.0000,  0.0000,  0.0000,  3.0033,  3.1253,  3.1668,  0.0000,\n",
      "          0.0000,  1.5063,  2.6334,  2.6487,  2.9662,  3.0205,  3.1015,  2.1164,\n",
      "          2.8405,  2.8416,  2.5626,  2.4395,  2.6479]], device='cuda:0')\n"
     ]
    }
   ],
   "source": [
    "for p in learner.model.switch__params:\n",
    "    p_orig = p.data.detach().clone()\n",
    "    print(p_orig)\n",
    "#     break\n",
    "    p.data[1, p_orig[1] < 0] = 0\n",
    "    p.data[0, p_orig[1] < 0] = 0"
   ]
  },
  {
   "cell_type": "code",
   "execution_count": 111,
   "metadata": {},
   "outputs": [
    {
     "name": "stdout",
     "output_type": "stream",
     "text": [
      "model_fout_0000.model.fc01.weight\n",
      "model_fout_0000.model.fc01.bias\n",
      "model_fout_0000.model.fc02.weight\n",
      "model_fout_0000.model.fc02.bias\n",
      "model_fout_0000.model.fc03.weight\n",
      "model_fout_0000.model.fc03.bias\n",
      "model_fout_0000.model.fc04.weight\n",
      "model_fout_0000.model.fc04.bias\n",
      "model_fout_0001.model.fc01.weight\n",
      "model_fout_0001.model.fc01.bias\n",
      "model_fout_0001.model.fc02.weight\n",
      "model_fout_0001.model.fc02.bias\n",
      "model_fout_0001.model.fc03.weight\n",
      "model_fout_0001.model.fc03.bias\n",
      "model_fout_0001.model.fc04.weight\n",
      "model_fout_0001.model.fc04.bias\n",
      "model_fout_0002.model.fc01.weight\n",
      "model_fout_0002.model.fc01.bias\n",
      "model_fout_0002.model.fc02.weight\n",
      "model_fout_0002.model.fc02.bias\n",
      "model_fout_0002.model.fc03.weight\n",
      "model_fout_0002.model.fc03.bias\n",
      "model_fout_0002.model.fc04.weight\n",
      "model_fout_0002.model.fc04.bias\n",
      "model_fout_0003.model.fc01.weight\n",
      "model_fout_0003.model.fc01.bias\n",
      "model_fout_0003.model.fc02.weight\n",
      "model_fout_0003.model.fc02.bias\n",
      "model_fout_0003.model.fc03.weight\n",
      "model_fout_0003.model.fc03.bias\n",
      "model_fout_0003.model.fc04.weight\n",
      "model_fout_0003.model.fc04.bias\n",
      "model_fout_0004.model.fc01.weight\n",
      "model_fout_0004.model.fc01.bias\n",
      "model_fout_0004.model.fc02.weight\n",
      "model_fout_0004.model.fc02.bias\n",
      "model_fout_0004.model.fc03.weight\n",
      "model_fout_0004.model.fc03.bias\n",
      "model_fout_0004.model.fc04.weight\n",
      "model_fout_0004.model.fc04.bias\n",
      "model_fout_0005.model.fc01.weight\n",
      "model_fout_0005.model.fc01.bias\n",
      "model_fout_0005.model.fc02.weight\n",
      "model_fout_0005.model.fc02.bias\n",
      "model_fout_0005.model.fc03.weight\n",
      "model_fout_0005.model.fc03.bias\n",
      "model_fout_0005.model.fc04.weight\n",
      "model_fout_0005.model.fc04.bias\n",
      "model_fout_0006.model.fc01.weight\n",
      "model_fout_0006.model.fc01.bias\n",
      "model_fout_0006.model.fc02.weight\n",
      "model_fout_0006.model.fc02.bias\n",
      "model_fout_0006.model.fc03.weight\n",
      "model_fout_0006.model.fc03.bias\n",
      "model_fout_0006.model.fc04.weight\n",
      "model_fout_0006.model.fc04.bias\n",
      "model_fout_0007.model.fc01.weight\n",
      "model_fout_0007.model.fc01.bias\n",
      "model_fout_0007.model.fc02.weight\n",
      "model_fout_0007.model.fc02.bias\n",
      "model_fout_0007.model.fc03.weight\n",
      "model_fout_0007.model.fc03.bias\n",
      "model_fout_0007.model.fc04.weight\n",
      "model_fout_0007.model.fc04.bias\n",
      "model_fout_0008.model.fc01.weight\n",
      "model_fout_0008.model.fc01.bias\n",
      "model_fout_0008.model.fc02.weight\n",
      "model_fout_0008.model.fc02.bias\n",
      "model_fout_0008.model.fc03.weight\n",
      "model_fout_0008.model.fc03.bias\n",
      "model_fout_0008.model.fc04.weight\n",
      "model_fout_0008.model.fc04.bias\n",
      "model_fout_0009.model.fc01.weight\n",
      "model_fout_0009.model.fc01.bias\n",
      "model_fout_0009.model.fc02.weight\n",
      "model_fout_0009.model.fc02.bias\n",
      "model_fout_0009.model.fc03.weight\n",
      "model_fout_0009.model.fc03.bias\n",
      "model_fout_0009.model.fc04.weight\n",
      "model_fout_0009.model.fc04.bias\n",
      "model_fout_0010.model.fc01.weight\n",
      "model_fout_0010.model.fc01.bias\n",
      "model_fout_0010.model.fc02.weight\n",
      "model_fout_0010.model.fc02.bias\n",
      "model_fout_0010.model.fc03.weight\n",
      "model_fout_0010.model.fc03.bias\n",
      "model_fout_0010.model.fc04.weight\n",
      "model_fout_0010.model.fc04.bias\n",
      "model_fout_0011.model.fc01.weight\n",
      "model_fout_0011.model.fc01.bias\n",
      "model_fout_0011.model.fc02.weight\n",
      "model_fout_0011.model.fc02.bias\n",
      "model_fout_0011.model.fc03.weight\n",
      "model_fout_0011.model.fc03.bias\n",
      "model_fout_0011.model.fc04.weight\n",
      "model_fout_0011.model.fc04.bias\n",
      "model_fout_0012.model.fc01.weight\n",
      "model_fout_0012.model.fc01.bias\n",
      "model_fout_0012.model.fc02.weight\n",
      "model_fout_0012.model.fc02.bias\n",
      "model_fout_0012.model.fc03.weight\n",
      "model_fout_0012.model.fc03.bias\n",
      "model_fout_0012.model.fc04.weight\n",
      "model_fout_0012.model.fc04.bias\n",
      "model_fout_0013.model.fc01.weight\n",
      "model_fout_0013.model.fc01.bias\n",
      "model_fout_0013.model.fc02.weight\n",
      "model_fout_0013.model.fc02.bias\n",
      "model_fout_0013.model.fc03.weight\n",
      "model_fout_0013.model.fc03.bias\n",
      "model_fout_0013.model.fc04.weight\n",
      "model_fout_0013.model.fc04.bias\n",
      "model_fout_0014.model.fc01.weight\n",
      "model_fout_0014.model.fc01.bias\n",
      "model_fout_0014.model.fc02.weight\n",
      "model_fout_0014.model.fc02.bias\n",
      "model_fout_0014.model.fc03.weight\n",
      "model_fout_0014.model.fc03.bias\n",
      "model_fout_0014.model.fc04.weight\n",
      "model_fout_0014.model.fc04.bias\n",
      "model_fout_0015.model.fc01.weight\n",
      "model_fout_0015.model.fc01.bias\n",
      "model_fout_0015.model.fc02.weight\n",
      "model_fout_0015.model.fc02.bias\n",
      "model_fout_0015.model.fc03.weight\n",
      "model_fout_0015.model.fc03.bias\n",
      "model_fout_0015.model.fc04.weight\n",
      "model_fout_0015.model.fc04.bias\n",
      "model_fout_0016.model.fc01.weight\n",
      "model_fout_0016.model.fc01.bias\n",
      "model_fout_0016.model.fc02.weight\n",
      "model_fout_0016.model.fc02.bias\n",
      "model_fout_0016.model.fc03.weight\n",
      "model_fout_0016.model.fc03.bias\n",
      "model_fout_0016.model.fc04.weight\n",
      "model_fout_0016.model.fc04.bias\n",
      "model_fadd_0000.model.fc01.weight\n",
      "model_fadd_0000.model.fc01.bias\n",
      "model_fadd_0000.model.fc02.weight\n",
      "model_fadd_0000.model.fc02.bias\n",
      "model_fadd_0000.model.fc03.weight\n",
      "model_fadd_0000.model.fc03.bias\n",
      "model_fadd_0000.model.fc04.weight\n",
      "model_fadd_0000.model.fc04.bias\n",
      "model_fadd_0001.model.fc01.weight\n",
      "model_fadd_0001.model.fc01.bias\n",
      "model_fadd_0001.model.fc02.weight\n",
      "model_fadd_0001.model.fc02.bias\n",
      "model_fadd_0001.model.fc03.weight\n",
      "model_fadd_0001.model.fc03.bias\n",
      "model_fadd_0001.model.fc04.weight\n",
      "model_fadd_0001.model.fc04.bias\n"
     ]
    }
   ],
   "source": [
    "for key, param in learner.model.named_parameters():\n",
    "    if 'switch' not in key:\n",
    "        print(key)\n",
    "        if 'bias' in key:\n",
    "            torch.nn.init.zeros_(param)\n",
    "        else:\n",
    "            torch.nn.init.xavier_uniform_(param)"
   ]
  },
  {
   "cell_type": "code",
   "execution_count": null,
   "metadata": {},
   "outputs": [],
   "source": []
  }
 ],
 "metadata": {
  "kernelspec": {
   "display_name": "Python 3",
   "language": "python",
   "name": "python3"
  },
  "language_info": {
   "codemirror_mode": {
    "name": "ipython",
    "version": 3
   },
   "file_extension": ".py",
   "mimetype": "text/x-python",
   "name": "python",
   "nbconvert_exporter": "python",
   "pygments_lexer": "ipython3",
   "version": "3.7.0"
  }
 },
 "nbformat": 4,
 "nbformat_minor": 4
}
