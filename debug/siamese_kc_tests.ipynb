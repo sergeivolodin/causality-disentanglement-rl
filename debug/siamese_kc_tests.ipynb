{
 "cells": [
  {
   "cell_type": "code",
   "execution_count": 1,
   "id": "controlling-wallpaper",
   "metadata": {},
   "outputs": [],
   "source": [
    "import os\n",
    "os.environ['CUDA_VISIBLE_DEVICES'] = \"1\"\n",
    "import numpy as np\n",
    "from matplotlib import pyplot as plt\n",
    "import seaborn as sns\n",
    "import pandas as pd\n",
    "from tqdm.auto import tqdm\n",
    "import torch\n",
    "from torch import nn\n",
    "import gin\n",
    "import ray\n",
    "import pickle\n",
    "import io\n",
    "gin.enter_interactive_mode()\n",
    "from causal_util import load_env\n",
    "from causal_util.helpers import lstdct2dctlst\n",
    "from sparse_causal_model_learner_rl.loss.losses import fit_loss\n",
    "from sparse_causal_model_learner_rl.loss.causal_discriminator import siamese_feature_discriminator_l2\n",
    "\n",
    "from sparse_causal_model_learner_rl.metrics.context_rewrite import context_rewriter\n",
    "from sparse_causal_model_learner_rl.visual.learner_visual import graph_for_matrices\n",
    "from sparse_causal_model_learner_rl.config import Config\n",
    "from sparse_causal_model_learner_rl.sacred_gin_tune.sacred_wrapper import load_config_files\n",
    "from sparse_causal_model_learner_rl.learners.rl_learner import CausalModelLearnerRL"
   ]
  },
  {
   "cell_type": "code",
   "execution_count": 2,
   "id": "chubby-danish",
   "metadata": {},
   "outputs": [
    {
     "data": {
      "text/plain": [
       "['kc_rec_nonlin_gnn_gumbel_siamese_l2-Copy1',\n",
       " 'kc_dec',\n",
       " '5x5_1f1c1k_obs',\n",
       " 'server_collect']"
      ]
     },
     "execution_count": 2,
     "metadata": {},
     "output_type": "execute_result"
    }
   ],
   "source": [
    "load_config_files(['../sparse_causal_model_learner_rl/configs/kc_rec_nonlin_gnn_gumbel_siamese_l2-Copy1.gin',\n",
    "                   '../sparse_causal_model_learner_rl/configs/kc_dec.gin',\n",
    "                   '../keychest/config/5x5_1f1c1k_obs.gin',\n",
    "                   '../sparse_causal_model_learner_rl/configs/server_collect.gin'])"
   ]
  },
  {
   "cell_type": "code",
   "execution_count": 3,
   "id": "continued-given",
   "metadata": {},
   "outputs": [],
   "source": [
    "gin.bind_parameter('Config.env_steps', 5000)\n",
    "gin.bind_parameter('Config.minibatch_size', 10000)\n",
    "gin.bind_parameter('Normalizer.type_', 'meanstd')\n",
    "gin.bind_parameter('ManyNetworkCombinedModel.input_batchnorm', True)"
   ]
  },
  {
   "cell_type": "code",
   "execution_count": 4,
   "id": "musical-cleaner",
   "metadata": {},
   "outputs": [
    {
     "name": "stderr",
     "output_type": "stream",
     "text": [
      "2021-02-09 00:14:12,319\tINFO services.py:1092 -- View the Ray dashboard at \u001b[1m\u001b[32mhttp://127.0.0.1:8266\u001b[39m\u001b[22m\n"
     ]
    },
    {
     "data": {
      "text/plain": [
       "{'node_ip_address': '10.90.38.7',\n",
       " 'raylet_ip_address': '10.90.38.7',\n",
       " 'redis_address': '10.90.38.7:22322',\n",
       " 'object_store_address': '/tmp/ray/session_2021-02-09_00-14-11_595960_40104/sockets/plasma_store',\n",
       " 'raylet_socket_name': '/tmp/ray/session_2021-02-09_00-14-11_595960_40104/sockets/raylet',\n",
       " 'webui_url': '127.0.0.1:8266',\n",
       " 'session_dir': '/tmp/ray/session_2021-02-09_00-14-11_595960_40104',\n",
       " 'metrics_export_port': 58316,\n",
       " 'node_id': 'fff7fadb62c027a01b73fabc6478c966a2c37e47'}"
      ]
     },
     "execution_count": 4,
     "metadata": {},
     "output_type": "execute_result"
    }
   ],
   "source": [
    "ray.init(ignore_reinit_error=True)"
   ]
  },
  {
   "cell_type": "code",
   "execution_count": 5,
   "id": "partial-sharp",
   "metadata": {},
   "outputs": [],
   "source": [
    "# gin.bind_parameter('decoder/FCNet.hidden_sizes', [512, 256])\n",
    "# gin.bind_parameter('decoder/FCNet.activation_cls', torch.nn.LeakyReLU)"
   ]
  },
  {
   "cell_type": "code",
   "execution_count": 6,
   "id": "municipal-standard",
   "metadata": {},
   "outputs": [],
   "source": [
    "gin.bind_parameter('decoder/FCNet.hidden_sizes', [512])\n",
    "gin.bind_parameter('decoder/FCNet.activation_cls', torch.nn.LeakyReLU)"
   ]
  },
  {
   "cell_type": "code",
   "execution_count": 7,
   "id": "informed-occasion",
   "metadata": {},
   "outputs": [
    {
     "name": "stderr",
     "output_type": "stream",
     "text": [
      "2021-02-09 00:14:14,779\tWARNING session.py:20 -- Session not detected. You should not be calling this function outside `tune.run` or while using the class API. \n"
     ]
    },
    {
     "name": "stdout",
     "output_type": "stream",
     "text": [
      "Selecting name 5c5406fc-6a63-11eb-8ff1-90e2baa1a248\n",
      "Make environment KeyChest-v0 None {}\n"
     ]
    },
    {
     "data": {
      "application/vnd.jupyter.widget-view+json": {
       "model_id": "1f52a2c463d24919b0a7691c8bea6f6e",
       "version_major": 2,
       "version_minor": 0
      },
      "text/plain": [
       "HBox(children=(HTML(value='Initial buffer fill'), FloatProgress(value=0.0, max=100000.0), HTML(value='')))"
      ]
     },
     "metadata": {},
     "output_type": "display_data"
    },
    {
     "name": "stdout",
     "output_type": "stream",
     "text": [
      "\u001b[2m\u001b[36m(pid=40491)\u001b[0m Make environment KeyChest-v0 None {}\n",
      "\u001b[2m\u001b[36m(pid=40489)\u001b[0m Make environment KeyChest-v0 None {}\n",
      "\u001b[2m\u001b[36m(pid=40494)\u001b[0m Make environment KeyChest-v0 None {}\n",
      "\u001b[2m\u001b[36m(pid=40512)\u001b[0m Make environment KeyChest-v0 None {}\n",
      "\u001b[2m\u001b[36m(pid=40509)\u001b[0m Make environment KeyChest-v0 None {}\n",
      "\u001b[2m\u001b[36m(pid=40468)\u001b[0m Make environment KeyChest-v0 None {}\n",
      "\u001b[2m\u001b[36m(pid=40502)\u001b[0m Make environment KeyChest-v0 None {}\n",
      "\n"
     ]
    }
   ],
   "source": [
    "learner = CausalModelLearnerRL(Config(ray_kwargs={'address': '127.0.0.1:6379'}))"
   ]
  },
  {
   "cell_type": "code",
   "execution_count": 10,
   "id": "religious-croatia",
   "metadata": {},
   "outputs": [],
   "source": [
    "learner.create_trainables()"
   ]
  },
  {
   "cell_type": "code",
   "execution_count": 11,
   "id": "sealed-priest",
   "metadata": {},
   "outputs": [
    {
     "data": {
      "text/plain": [
       "ModelDecoder(\n",
       "  (model): FCNet(\n",
       "    (fc01): Linear(in_features=847, out_features=512, bias=True)\n",
       "    (fc02): Linear(in_features=512, out_features=30, bias=True)\n",
       "  )\n",
       ")"
      ]
     },
     "execution_count": 11,
     "metadata": {},
     "output_type": "execute_result"
    }
   ],
   "source": [
    "learner.decoder"
   ]
  },
  {
   "cell_type": "code",
   "execution_count": 12,
   "id": "compatible-needle",
   "metadata": {},
   "outputs": [],
   "source": [
    "env = learner.env"
   ]
  },
  {
   "cell_type": "code",
   "execution_count": 13,
   "id": "verified-suicide",
   "metadata": {},
   "outputs": [],
   "source": [
    "losses = []\n",
    "dclose = []\n",
    "dfar = []"
   ]
  },
  {
   "cell_type": "code",
   "execution_count": 14,
   "id": "usual-hypothesis",
   "metadata": {},
   "outputs": [],
   "source": [
    "opt = torch.optim.Adam(lr=5e-4, params=learner.decoder.parameters())"
   ]
  },
  {
   "cell_type": "code",
   "execution_count": null,
   "id": "solved-interview",
   "metadata": {},
   "outputs": [
    {
     "data": {
      "application/vnd.jupyter.widget-view+json": {
       "model_id": "84bd644adedd47da8869a0054dadba3b",
       "version_major": 2,
       "version_minor": 0
      },
      "text/plain": [
       "HBox(children=(HTML(value=''), FloatProgress(value=0.0, max=1000.0), HTML(value='')))"
      ]
     },
     "metadata": {},
     "output_type": "display_data"
    }
   ],
   "source": [
    "for i in tqdm(range(1000)):\n",
    "    if i % 1 == 0:\n",
    "        ctx = learner.collect_and_get_context()\n",
    "    \n",
    "    opt.zero_grad()\n",
    "    l_obj = siamese_feature_discriminator_l2(**ctx)\n",
    "    loss = l_obj['loss']\n",
    "    loss.backward()\n",
    "    opt.step()\n",
    "    losses.append(loss.item())\n",
    "    dclose.append(l_obj['metrics']['distance_close'])\n",
    "    dfar.append(l_obj['metrics']['distance_far'])"
   ]
  },
  {
   "cell_type": "code",
   "execution_count": 14,
   "id": "cardiovascular-retreat",
   "metadata": {},
   "outputs": [
    {
     "data": {
      "text/plain": [
       "<matplotlib.legend.Legend at 0x7f28306c0950>"
      ]
     },
     "execution_count": 14,
     "metadata": {},
     "output_type": "execute_result"
    },
    {
     "data": {
      "image/png": "[encoded data removed]",
      "text/plain": [
       "<Figure size 432x288 with 1 Axes>"
      ]
     },
     "metadata": {
      "needs_background": "light"
     },
     "output_type": "display_data"
    }
   ],
   "source": [
    "plt.plot(losses, label='loss')\n",
    "plt.plot(dfar, label='dfar')\n",
    "plt.plot(dclose, label='dclose')\n",
    "plt.yscale('log')\n",
    "plt.legend()"
   ]
  },
  {
   "cell_type": "code",
   "execution_count": 15,
   "id": "dangerous-firmware",
   "metadata": {},
   "outputs": [
    {
     "data": {
      "text/plain": [
       "(1.254790639904968e-05, 0.0)"
      ]
     },
     "execution_count": 15,
     "metadata": {},
     "output_type": "execute_result"
    }
   ],
   "source": [
    "np.mean(losses[-50:]), np.median(losses[-50:])"
   ]
  },
  {
   "cell_type": "code",
   "execution_count": 16,
   "id": "subject-nightmare",
   "metadata": {},
   "outputs": [],
   "source": [
    "ctx = learner.collect_and_get_context()"
   ]
  },
  {
   "cell_type": "code",
   "execution_count": 17,
   "id": "biblical-neighbor",
   "metadata": {},
   "outputs": [],
   "source": [
    "features = learner.decoder(ctx['obs'])"
   ]
  },
  {
   "cell_type": "code",
   "execution_count": 18,
   "id": "engaging-suffering",
   "metadata": {},
   "outputs": [],
   "source": [
    "f = features.detach().cpu().numpy()"
   ]
  },
  {
   "cell_type": "code",
   "execution_count": 19,
   "id": "numerical-store",
   "metadata": {},
   "outputs": [
    {
     "data": {
      "text/plain": [
       "(5000, 30)"
      ]
     },
     "execution_count": 19,
     "metadata": {},
     "output_type": "execute_result"
    }
   ],
   "source": [
    "f.shape"
   ]
  },
  {
   "cell_type": "code",
   "execution_count": 20,
   "id": "fitting-drill",
   "metadata": {},
   "outputs": [
    {
     "data": {
      "image/png": "[encoded data removed]",
      "text/plain": [
       "<Figure size 1440x1800 with 30 Axes>"
      ]
     },
     "metadata": {
      "needs_background": "light"
     },
     "output_type": "display_data"
    }
   ],
   "source": [
    "plt.figure(figsize=(20, 25))\n",
    "for i_f in range(f.shape[1]):\n",
    "    plt.subplot(10, 3, i_f + 1)\n",
    "    plt.hist(f[:, i_f])"
   ]
  },
  {
   "cell_type": "code",
   "execution_count": 21,
   "id": "enhanced-episode",
   "metadata": {},
   "outputs": [
    {
     "data": {
      "text/plain": [
       "0     0.286823\n",
       "1     0.351891\n",
       "2     0.294834\n",
       "3     0.240049\n",
       "4     0.229546\n",
       "5     0.233679\n",
       "6     0.257142\n",
       "7     0.255866\n",
       "8     0.262657\n",
       "9     0.255194\n",
       "10    0.258937\n",
       "11    0.280983\n",
       "12    0.237424\n",
       "13    0.273704\n",
       "14    0.262539\n",
       "15    0.327901\n",
       "16    0.282581\n",
       "17    0.330764\n",
       "18    0.251023\n",
       "19    0.249325\n",
       "20    0.261375\n",
       "21    0.242134\n",
       "22    0.289969\n",
       "23    0.311151\n",
       "24    0.241054\n",
       "25    0.257778\n",
       "26    0.252906\n",
       "27    0.262243\n",
       "28    0.273386\n",
       "29    0.264926\n",
       "dtype: float32"
      ]
     },
     "execution_count": 21,
     "metadata": {},
     "output_type": "execute_result"
    }
   ],
   "source": [
    "pd.DataFrame(f).std()"
   ]
  },
  {
   "cell_type": "code",
   "execution_count": 22,
   "id": "metropolitan-swift",
   "metadata": {},
   "outputs": [
    {
     "data": {
      "text/plain": [
       "<AxesSubplot:>"
      ]
     },
     "execution_count": 22,
     "metadata": {},
     "output_type": "execute_result"
    },
    {
     "data": {
      "image/png": "[encoded data removed]",
      "text/plain": [
       "<Figure size 432x288 with 2 Axes>"
      ]
     },
     "metadata": {
      "needs_background": "light"
     },
     "output_type": "display_data"
    }
   ],
   "source": [
    "sns.heatmap(pd.DataFrame(f).corr())"
   ]
  },
  {
   "cell_type": "code",
   "execution_count": 23,
   "id": "selected-denmark",
   "metadata": {},
   "outputs": [],
   "source": [
    "env.engine.return_rgb = False"
   ]
  },
  {
   "cell_type": "code",
   "execution_count": null,
   "id": "mature-adventure",
   "metadata": {},
   "outputs": [],
   "source": []
  },
  {
   "cell_type": "code",
   "execution_count": 119,
   "id": "metric-cosmetic",
   "metadata": {},
   "outputs": [],
   "source": [
    "gin.bind_parameter('model_gnn/FCCombinedModel.activation_cls', torch.nn.LeakyReLU)\n",
    "gin.bind_parameter('model_gnn/FCCombinedModel.hidden_sizes', [100, 100, 100])"
   ]
  },
  {
   "cell_type": "code",
   "execution_count": 120,
   "id": "velvet-courtesy",
   "metadata": {},
   "outputs": [],
   "source": [
    "learner.non_sparse_model.__init__(feature_shape=learner.feature_shape,\n",
    "                                  action_shape=learner.action_shape,\n",
    "                                  additional_feature_shape=learner.additional_feature_shape)\n",
    "learner.non_sparse_model = learner.non_sparse_model.cuda()"
   ]
  },
  {
   "cell_type": "code",
   "execution_count": 121,
   "id": "respective-absence",
   "metadata": {},
   "outputs": [
    {
     "data": {
      "text/plain": [
       "[LeakyReLU(negative_slope=0.01),\n",
       " LeakyReLU(negative_slope=0.01),\n",
       " LeakyReLU(negative_slope=0.01),\n",
       " None]"
      ]
     },
     "execution_count": 121,
     "metadata": {},
     "output_type": "execute_result"
    }
   ],
   "source": [
    "learner.non_sparse_model.model.model.activation"
   ]
  },
  {
   "cell_type": "code",
   "execution_count": 122,
   "id": "advisory-pierre",
   "metadata": {},
   "outputs": [
    {
     "data": {
      "text/plain": [
       "ManyNetworkCombinedModel(\n",
       "  (bn): BatchNorm1d(34, eps=1e-05, momentum=0.1, affine=True, track_running_stats=True)\n",
       "  (model): WithInputSwitch(\n",
       "    (switch): LearnableSwitchSimple()\n",
       "    (model): FCCombinedModel(\n",
       "      (fc01): CombinedLinearLayer()\n",
       "      (fc02): CombinedLinearLayer()\n",
       "      (fc03): CombinedLinearLayer()\n",
       "      (fc04): CombinedLinearLayer()\n",
       "    )\n",
       "  )\n",
       ")"
      ]
     },
     "execution_count": 122,
     "metadata": {},
     "output_type": "execute_result"
    }
   ],
   "source": [
    "learner.non_sparse_model"
   ]
  },
  {
   "cell_type": "code",
   "execution_count": 123,
   "id": "mediterranean-event",
   "metadata": {},
   "outputs": [
    {
     "data": {
      "text/plain": [
       "False"
      ]
     },
     "execution_count": 123,
     "metadata": {},
     "output_type": "execute_result"
    }
   ],
   "source": [
    "learner.non_sparse_model.model.enable_switch"
   ]
  },
  {
   "cell_type": "code",
   "execution_count": 124,
   "id": "political-massachusetts",
   "metadata": {},
   "outputs": [],
   "source": [
    "mins = None\n",
    "maxes = None"
   ]
  },
  {
   "cell_type": "code",
   "execution_count": 125,
   "id": "exposed-ensemble",
   "metadata": {},
   "outputs": [],
   "source": [
    "def normalize(t, mins, maxes):\n",
    "    return 2 * ((t - mins) / (1e-3 + maxes - mins) - 0.5)"
   ]
  },
  {
   "cell_type": "code",
   "execution_count": 126,
   "id": "streaming-hammer",
   "metadata": {},
   "outputs": [],
   "source": [
    "class AdhocWorldModel(nn.Module):\n",
    "    def __init__(self):\n",
    "        super(AdhocWorldModel, self).__init__()\n",
    "        dim = 60\n",
    "        self.bn = torch.nn.BatchNorm1d(num_features=34)\n",
    "        self.fc1 = nn.Linear(in_features=34, out_features=dim)\n",
    "        self.fc2 = nn.Linear(in_features=dim, out_features=dim)\n",
    "        self.fc3 = nn.Linear(in_features=dim, out_features=dim)\n",
    "        self.fc4 = nn.Linear(in_features=dim, out_features=32)\n",
    "        self.activation = nn.Tanh()\n",
    "        \n",
    "    def forward(self, f_t, a_t, all):\n",
    "        x = torch.cat([f_t, a_t], dim=1)\n",
    "        \n",
    "        x = self.bn(x)\n",
    "        \n",
    "        x = self.fc1(x)\n",
    "        x = self.activation(x)\n",
    "        \n",
    "        x = self.fc2(x)\n",
    "        x = self.activation(x)\n",
    "        \n",
    "        x = self.fc3(x)\n",
    "        x = self.activation(x)\n",
    "        \n",
    "        x = self.fc4(x)\n",
    "        return x"
   ]
  },
  {
   "cell_type": "code",
   "execution_count": 127,
   "id": "sapphire-egyptian",
   "metadata": {},
   "outputs": [],
   "source": [
    "losses = []\n",
    "metrics = []\n",
    "losses_emb = []\n",
    "losses_fit = []\n",
    "ratios = []\n",
    "ctx_set = False"
   ]
  },
  {
   "cell_type": "code",
   "execution_count": 128,
   "id": "handed-wallet",
   "metadata": {},
   "outputs": [],
   "source": [
    "use_model = learner.non_sparse_model\n",
    "#use_model = AdhocWorldModel().cuda()"
   ]
  },
  {
   "cell_type": "code",
   "execution_count": 129,
   "id": "facial-polyester",
   "metadata": {},
   "outputs": [],
   "source": [
    "gin.bind_parameter('decoder/FCNet.hidden_sizes', [512])\n",
    "gin.bind_parameter('decoder/FCNet.activation_cls', torch.nn.LeakyReLU)"
   ]
  },
  {
   "cell_type": "code",
   "execution_count": 130,
   "id": "amateur-feeling",
   "metadata": {},
   "outputs": [],
   "source": [
    "learner.decoder.__init__(observation_shape=learner.observation_shape,\n",
    "                         feature_shape=learner.feature_shape)\n",
    "learner.decoder = learner.decoder.cuda()"
   ]
  },
  {
   "cell_type": "code",
   "execution_count": 157,
   "id": "elect-cotton",
   "metadata": {},
   "outputs": [],
   "source": []
  },
  {
   "cell_type": "code",
   "execution_count": 158,
   "id": "fifth-ranch",
   "metadata": {},
   "outputs": [],
   "source": [
    "def fit_loss(obs_x, obs_y, action_x, decoder, model, additional_feature_keys,\n",
    "             model_forward_kwargs=None,\n",
    "             fill_switch_grad=False,\n",
    "             opt_label=None,\n",
    "             divide_by_std=False,\n",
    "             std_eps=0.05,\n",
    "             **kwargs):\n",
    "    \"\"\"Ensure that the model fits the features data.\"\"\"\n",
    "\n",
    "    if model_forward_kwargs is None:\n",
    "        model_forward_kwargs = {}\n",
    "    \n",
    "    f_t1 = decoder(obs_y)#.detach()\n",
    "        \n",
    "    have_additional = False\n",
    "    if additional_feature_keys:\n",
    "        have_additional = True\n",
    "        add_features_y = torch.cat([kwargs[k] for k in additional_feature_keys], dim=1)\n",
    "        \n",
    "        # WARNING: zeroing output features\n",
    "#         f_t1 = torch.zeros_like(f_t1)\n",
    "        f_t1 = torch.cat([f_t1, add_features_y], dim=1)\n",
    "        \n",
    "    # detaching second part like in q-learning makes the loss jitter\n",
    "\n",
    "    f_t1_pred = model(decoder(obs_x), action_x, all=have_additional, **model_forward_kwargs)\n",
    "\n",
    "    loss = (f_t1_pred - f_t1).pow(2)\n",
    "    loss = loss.sum(1).mean()\n",
    "\n",
    "    metrics = {'mean_feature': f_t1.mean(0).detach().cpu().numpy(),\n",
    "               'std_feature': f_t1.std(0).detach().cpu().numpy(),\n",
    "               'min_feature': f_t1.min().item(),\n",
    "               'max_feature': f_t1.max().item(),\n",
    "               #'std_feature_avg': f_t1_std.detach().cpu().numpy() if f_t1_std is not None else 0.0,\n",
    "               #'inv_std_feature_avg': 1/f_t1_std.detach().cpu().numpy() if f_t1_std is not None else 0.0\n",
    "              }\n",
    "\n",
    "    return {'loss': loss,\n",
    "            'metrics': metrics}"
   ]
  },
  {
   "cell_type": "code",
   "execution_count": 168,
   "id": "invalid-vacation",
   "metadata": {},
   "outputs": [],
   "source": [
    "opt = torch.optim.Adam(lr=1e-4, params=list(use_model.parameters())+list(learner.decoder.parameters()),\n",
    "                      #amsgrad=True,\n",
    "                       betas=(0.9, 0.9999)\n",
    "                      )"
   ]
  },
  {
   "cell_type": "code",
   "execution_count": 169,
   "id": "numerous-poverty",
   "metadata": {},
   "outputs": [
    {
     "data": {
      "text/plain": [
       "[tensor(0.0014, device='cuda:0'),\n",
       " tensor(-0.1628, device='cuda:0'),\n",
       " tensor(0.0002, device='cuda:0'),\n",
       " tensor(-7.0118e-05, device='cuda:0')]"
      ]
     },
     "execution_count": 169,
     "metadata": {},
     "output_type": "execute_result"
    }
   ],
   "source": [
    "[x.mean() for x in learner.decoder.state_dict().values()]"
   ]
  },
  {
   "cell_type": "code",
   "execution_count": null,
   "id": "honey-batch",
   "metadata": {},
   "outputs": [],
   "source": []
  },
  {
   "cell_type": "code",
   "execution_count": 170,
   "id": "designing-bathroom",
   "metadata": {},
   "outputs": [
    {
     "data": {
      "application/vnd.jupyter.widget-view+json": {
       "model_id": "de213b452d21461e8b505d11020aec48",
       "version_major": 2,
       "version_minor": 0
      },
      "text/plain": [
       "HBox(children=(HTML(value=''), FloatProgress(value=0.0, max=500000.0), HTML(value='')))"
      ]
     },
     "metadata": {},
     "output_type": "display_data"
    },
    {
     "name": "stdout",
     "output_type": "stream",
     "text": [
      "\n"
     ]
    },
    {
     "ename": "KeyboardInterrupt",
     "evalue": "",
     "output_type": "error",
     "traceback": [
      "\u001b[0;31m---------------------------------------------------------------------------\u001b[0m",
      "\u001b[0;31mKeyboardInterrupt\u001b[0m                         Traceback (most recent call last)",
      "\u001b[0;32m<ipython-input-170-854526d665fd>\u001b[0m in \u001b[0;36m<module>\u001b[0;34m\u001b[0m\n\u001b[1;32m      4\u001b[0m         \u001b[0;32mif\u001b[0m \u001b[0mi\u001b[0m \u001b[0;34m%\u001b[0m \u001b[0;36m1\u001b[0m \u001b[0;34m==\u001b[0m \u001b[0;36m0\u001b[0m \u001b[0;32mor\u001b[0m \u001b[0;32mnot\u001b[0m \u001b[0mctx_set\u001b[0m\u001b[0;34m:\u001b[0m\u001b[0;34m\u001b[0m\u001b[0;34m\u001b[0m\u001b[0m\n\u001b[1;32m      5\u001b[0m             \u001b[0mctx_set\u001b[0m \u001b[0;34m=\u001b[0m \u001b[0;32mTrue\u001b[0m\u001b[0;34m\u001b[0m\u001b[0;34m\u001b[0m\u001b[0m\n\u001b[0;32m----> 6\u001b[0;31m             \u001b[0mctx\u001b[0m \u001b[0;34m=\u001b[0m \u001b[0mlearner\u001b[0m\u001b[0;34m.\u001b[0m\u001b[0mcollect_and_get_context\u001b[0m\u001b[0;34m(\u001b[0m\u001b[0;34m)\u001b[0m\u001b[0;34m\u001b[0m\u001b[0;34m\u001b[0m\u001b[0m\n\u001b[0m\u001b[1;32m      7\u001b[0m             \u001b[0mratio\u001b[0m \u001b[0;34m=\u001b[0m \u001b[0mctx\u001b[0m\u001b[0;34m.\u001b[0m\u001b[0mget\u001b[0m\u001b[0;34m(\u001b[0m\u001b[0;34m'context_stats_collected_sampled_ratio'\u001b[0m\u001b[0;34m,\u001b[0m \u001b[0;32mNone\u001b[0m\u001b[0;34m)\u001b[0m\u001b[0;34m\u001b[0m\u001b[0;34m\u001b[0m\u001b[0m\n\u001b[1;32m      8\u001b[0m             \u001b[0;32mif\u001b[0m \u001b[0mratio\u001b[0m\u001b[0;34m:\u001b[0m\u001b[0;34m\u001b[0m\u001b[0;34m\u001b[0m\u001b[0m\n",
      "\u001b[0;32m~/causality-disentanglement/sparse_causal_model_learner_rl/learners/rl_learner.py\u001b[0m in \u001b[0;36mcollect_and_get_context\u001b[0;34m(self)\u001b[0m\n\u001b[1;32m     76\u001b[0m         \u001b[0mpre_context_sample\u001b[0m \u001b[0;34m=\u001b[0m \u001b[0mpre_context\u001b[0m\u001b[0;34m\u001b[0m\u001b[0;34m\u001b[0m\u001b[0m\n\u001b[1;32m     77\u001b[0m         \u001b[0mpre_context_sample\u001b[0m \u001b[0;34m=\u001b[0m \u001b[0mself\u001b[0m\u001b[0;34m.\u001b[0m\u001b[0mcontext_add_scalars\u001b[0m\u001b[0;34m(\u001b[0m\u001b[0mpre_context_sample\u001b[0m\u001b[0;34m)\u001b[0m\u001b[0;34m\u001b[0m\u001b[0;34m\u001b[0m\u001b[0m\n\u001b[0;32m---> 78\u001b[0;31m         \u001b[0;32mreturn\u001b[0m \u001b[0mself\u001b[0m\u001b[0;34m.\u001b[0m\u001b[0mwrap_context\u001b[0m\u001b[0;34m(\u001b[0m\u001b[0mpre_context_sample\u001b[0m\u001b[0;34m)\u001b[0m\u001b[0;34m\u001b[0m\u001b[0;34m\u001b[0m\u001b[0m\n\u001b[0m\u001b[1;32m     79\u001b[0m \u001b[0;34m\u001b[0m\u001b[0m\n\u001b[1;32m     80\u001b[0m     \u001b[0;34m@\u001b[0m\u001b[0mproperty\u001b[0m\u001b[0;34m\u001b[0m\u001b[0;34m\u001b[0m\u001b[0m\n",
      "\u001b[0;32m~/causality-disentanglement/sparse_causal_model_learner_rl/learners/abstract_learner.py\u001b[0m in \u001b[0;36mwrap_context\u001b[0;34m(self, context)\u001b[0m\n\u001b[1;32m    236\u001b[0m         \u001b[0;31m# context transformation\u001b[0m\u001b[0;34m\u001b[0m\u001b[0;34m\u001b[0m\u001b[0;34m\u001b[0m\u001b[0m\n\u001b[1;32m    237\u001b[0m         \u001b[0;32mfor\u001b[0m \u001b[0mfcn\u001b[0m \u001b[0;32min\u001b[0m \u001b[0mself\u001b[0m\u001b[0;34m.\u001b[0m\u001b[0mconfig\u001b[0m\u001b[0;34m.\u001b[0m\u001b[0mget\u001b[0m\u001b[0;34m(\u001b[0m\u001b[0;34m'context_transforms'\u001b[0m\u001b[0;34m,\u001b[0m \u001b[0;34m[\u001b[0m\u001b[0;34m]\u001b[0m\u001b[0;34m)\u001b[0m\u001b[0;34m:\u001b[0m\u001b[0;34m\u001b[0m\u001b[0;34m\u001b[0m\u001b[0m\n\u001b[0;32m--> 238\u001b[0;31m             \u001b[0mfcn\u001b[0m\u001b[0;34m(\u001b[0m\u001b[0mself\u001b[0m\u001b[0;34m,\u001b[0m \u001b[0mcontext\u001b[0m\u001b[0;34m)\u001b[0m\u001b[0;34m\u001b[0m\u001b[0;34m\u001b[0m\u001b[0m\n\u001b[0m\u001b[1;32m    239\u001b[0m \u001b[0;34m\u001b[0m\u001b[0m\n\u001b[1;32m    240\u001b[0m         \u001b[0;31m# shuffling groups\u001b[0m\u001b[0;34m\u001b[0m\u001b[0;34m\u001b[0m\u001b[0;34m\u001b[0m\u001b[0m\n",
      "\u001b[0;32m~/miniconda3/envs/causal/lib/python3.7/site-packages/gin/config.py\u001b[0m in \u001b[0;36mgin_wrapper\u001b[0;34m(*args, **kwargs)\u001b[0m\n\u001b[1;32m   1053\u001b[0m \u001b[0;34m\u001b[0m\u001b[0m\n\u001b[1;32m   1054\u001b[0m     \u001b[0;32mtry\u001b[0m\u001b[0;34m:\u001b[0m\u001b[0;34m\u001b[0m\u001b[0;34m\u001b[0m\u001b[0m\n\u001b[0;32m-> 1055\u001b[0;31m       \u001b[0;32mreturn\u001b[0m \u001b[0mfn\u001b[0m\u001b[0;34m(\u001b[0m\u001b[0;34m*\u001b[0m\u001b[0mnew_args\u001b[0m\u001b[0;34m,\u001b[0m \u001b[0;34m**\u001b[0m\u001b[0mnew_kwargs\u001b[0m\u001b[0;34m)\u001b[0m\u001b[0;34m\u001b[0m\u001b[0;34m\u001b[0m\u001b[0m\n\u001b[0m\u001b[1;32m   1056\u001b[0m     \u001b[0;32mexcept\u001b[0m \u001b[0mException\u001b[0m \u001b[0;32mas\u001b[0m \u001b[0me\u001b[0m\u001b[0;34m:\u001b[0m  \u001b[0;31m# pylint: disable=broad-except\u001b[0m\u001b[0;34m\u001b[0m\u001b[0;34m\u001b[0m\u001b[0m\n\u001b[1;32m   1057\u001b[0m       \u001b[0merr_str\u001b[0m \u001b[0;34m=\u001b[0m \u001b[0;34m''\u001b[0m\u001b[0;34m\u001b[0m\u001b[0;34m\u001b[0m\u001b[0m\n",
      "\u001b[0;32m~/causality-disentanglement/sparse_causal_model_learner_rl/learners/input_normalizer.py\u001b[0m in \u001b[0;36mnormalize_context_transform\u001b[0;34m(self, context, normalize_context_dct)\u001b[0m\n\u001b[1;32m     75\u001b[0m             \u001b[0;32massert\u001b[0m \u001b[0misinstance\u001b[0m\u001b[0;34m(\u001b[0m\u001b[0mcontext\u001b[0m\u001b[0;34m[\u001b[0m\u001b[0mnorm_which\u001b[0m\u001b[0;34m]\u001b[0m\u001b[0;34m,\u001b[0m \u001b[0mnp\u001b[0m\u001b[0;34m.\u001b[0m\u001b[0mndarray\u001b[0m\u001b[0;34m)\u001b[0m\u001b[0;34m,\u001b[0m \u001b[0;34mf\"To-normalize which item {norm_which} is\"\u001b[0m\u001b[0;31m \u001b[0m\u001b[0;31m\\\u001b[0m\u001b[0;34m\u001b[0m\u001b[0;34m\u001b[0m\u001b[0m\n\u001b[1;32m     76\u001b[0m                                                                \u001b[0;34m\" not a numpy array\"\u001b[0m\u001b[0;34m\u001b[0m\u001b[0;34m\u001b[0m\u001b[0m\n\u001b[0;32m---> 77\u001b[0;31m             \u001b[0mcontext\u001b[0m\u001b[0;34m[\u001b[0m\u001b[0mnorm_which\u001b[0m\u001b[0;34m]\u001b[0m \u001b[0;34m=\u001b[0m \u001b[0mself\u001b[0m\u001b[0;34m.\u001b[0m\u001b[0mnormalizers\u001b[0m\u001b[0;34m[\u001b[0m\u001b[0mnorm_with\u001b[0m\u001b[0;34m]\u001b[0m\u001b[0;34m.\u001b[0m\u001b[0mmaybe_normalize\u001b[0m\u001b[0;34m(\u001b[0m\u001b[0mcontext\u001b[0m\u001b[0;34m[\u001b[0m\u001b[0mnorm_which\u001b[0m\u001b[0;34m]\u001b[0m\u001b[0;34m)\u001b[0m\u001b[0;34m\u001b[0m\u001b[0;34m\u001b[0m\u001b[0m\n\u001b[0m\u001b[1;32m     78\u001b[0m \u001b[0;34m\u001b[0m\u001b[0m\n\u001b[1;32m     79\u001b[0m     \u001b[0;32mreturn\u001b[0m \u001b[0mcontext\u001b[0m\u001b[0;34m\u001b[0m\u001b[0;34m\u001b[0m\u001b[0m\n",
      "\u001b[0;32m~/causality-disentanglement/sparse_causal_model_learner_rl/learners/input_normalizer.py\u001b[0m in \u001b[0;36mmaybe_normalize\u001b[0;34m(self, inp, eps)\u001b[0m\n\u001b[1;32m     41\u001b[0m \u001b[0;34m\u001b[0m\u001b[0m\n\u001b[1;32m     42\u001b[0m         \u001b[0;32mif\u001b[0m \u001b[0mself\u001b[0m\u001b[0;34m.\u001b[0m\u001b[0mtype_\u001b[0m \u001b[0;34m==\u001b[0m \u001b[0;34m'meanstd'\u001b[0m\u001b[0;34m:\u001b[0m\u001b[0;34m\u001b[0m\u001b[0;34m\u001b[0m\u001b[0m\n\u001b[0;32m---> 43\u001b[0;31m             \u001b[0;32mreturn\u001b[0m \u001b[0;34m(\u001b[0m\u001b[0minp\u001b[0m \u001b[0;34m-\u001b[0m \u001b[0mself\u001b[0m\u001b[0;34m.\u001b[0m\u001b[0mmean\u001b[0m\u001b[0;34m)\u001b[0m \u001b[0;34m/\u001b[0m \u001b[0;34m(\u001b[0m\u001b[0meps\u001b[0m \u001b[0;34m+\u001b[0m \u001b[0mself\u001b[0m\u001b[0;34m.\u001b[0m\u001b[0mstd\u001b[0m\u001b[0;34m)\u001b[0m\u001b[0;34m\u001b[0m\u001b[0;34m\u001b[0m\u001b[0m\n\u001b[0m\u001b[1;32m     44\u001b[0m         \u001b[0;32melif\u001b[0m \u001b[0mself\u001b[0m\u001b[0;34m.\u001b[0m\u001b[0mtype_\u001b[0m \u001b[0;34m==\u001b[0m \u001b[0;34m'minmax'\u001b[0m\u001b[0;34m:\u001b[0m\u001b[0;34m\u001b[0m\u001b[0;34m\u001b[0m\u001b[0m\n\u001b[1;32m     45\u001b[0m             \u001b[0;32mreturn\u001b[0m \u001b[0;36m2\u001b[0m \u001b[0;34m*\u001b[0m \u001b[0;34m(\u001b[0m\u001b[0;34m(\u001b[0m\u001b[0minp\u001b[0m \u001b[0;34m-\u001b[0m \u001b[0mself\u001b[0m\u001b[0;34m.\u001b[0m\u001b[0mmin\u001b[0m\u001b[0;34m)\u001b[0m \u001b[0;34m/\u001b[0m \u001b[0;34m(\u001b[0m\u001b[0;36m1e-3\u001b[0m \u001b[0;34m+\u001b[0m \u001b[0mself\u001b[0m\u001b[0;34m.\u001b[0m\u001b[0mmax\u001b[0m \u001b[0;34m-\u001b[0m \u001b[0mself\u001b[0m\u001b[0;34m.\u001b[0m\u001b[0mmin\u001b[0m\u001b[0;34m)\u001b[0m \u001b[0;34m-\u001b[0m \u001b[0;36m0.5\u001b[0m\u001b[0;34m)\u001b[0m\u001b[0;34m\u001b[0m\u001b[0;34m\u001b[0m\u001b[0m\n",
      "\u001b[0;31mKeyboardInterrupt\u001b[0m: "
     ]
    }
   ],
   "source": [
    "epochs = 500000\n",
    "with tqdm(total=epochs) as pbar:\n",
    "    for i in range(epochs):\n",
    "        if i % 1 == 0 or not ctx_set:\n",
    "            ctx_set = True\n",
    "            ctx = learner.collect_and_get_context()\n",
    "            ratio = ctx.get('context_stats_collected_sampled_ratio', None)\n",
    "            if ratio:\n",
    "                ratios.append(ratio)\n",
    "            elif ratios:\n",
    "                ratios.append(ratios[-1])\n",
    "\n",
    "    #         if mins is None or maxes is None:\n",
    "    #             print(\"Computing minmax\")\n",
    "    #             f_all = learner.decoder(ctx['obs'])\n",
    "    #             mins = f_all.min(dim=0, keepdim=True).values.detach()\n",
    "    #             maxes = f_all.max(dim=0, keepdim=True).values.detach()\n",
    "\n",
    "    #         f_t1 = learner.decoder(ctx['obs_y'])#.detach()\n",
    "    #         f_t = learner.decoder(ctx['obs_x'])#.detach()\n",
    "\n",
    "    # #         f_t1 = normalize(f_t1, mins, maxes)\n",
    "    # #         f_t = normalize(f_t, mins, maxes)\n",
    "\n",
    "    #         add_features_y = torch.cat([ctx[k] for k in ctx['additional_feature_keys']], dim=1)\n",
    "    #         f_t1 = torch.cat([f_t1, add_features_y], dim=1)\n",
    "\n",
    "    #     f_t1_pred = use_model(\n",
    "    #         f_t,\n",
    "    #         ctx['action_x'],\n",
    "    #         all=True)\n",
    "\n",
    "        ctx['non_sparse_model_add'] = use_model\n",
    "    #     ctx['additional_feature_keys'] = []\n",
    "        l_obj_emb = siamese_feature_discriminator_l2(**ctx)\n",
    "        l_obj_fit = context_rewriter(function=fit_loss, rewrite={'model': 'non_sparse_model_add'},\n",
    "                                     divide_by_std=False,\n",
    "                                     **ctx)\n",
    "        loss = l_obj_fit['loss'] #+ l_obj_emb['loss']\n",
    "\n",
    "\n",
    "    #     loss = nn.MSELoss()(f_t1, f_t1_pred)\n",
    "\n",
    "\n",
    "        opt.zero_grad()\n",
    "        loss.backward()\n",
    "        opt.step()\n",
    "        losses.append(loss.item())\n",
    "        losses_emb.append(l_obj_emb['loss'].item())\n",
    "        losses_fit.append(l_obj_fit['loss'].item())\n",
    "        m = {}\n",
    "        m.update(l_obj_fit['metrics'])\n",
    "        m.update(l_obj_emb['metrics'])\n",
    "        metrics.append(m)\n",
    "        pbar.update(1)\n",
    "        pbar.set_postfix(loss_fit=losses_fit[-1], loss_emb=losses_emb[-1])"
   ]
  },
  {
   "cell_type": "code",
   "execution_count": 171,
   "id": "judicial-reynolds",
   "metadata": {},
   "outputs": [
    {
     "data": {
      "image/png": "[encoded data removed]",
      "text/plain": [
       "<Figure size 720x216 with 2 Axes>"
      ]
     },
     "metadata": {
      "needs_background": "light"
     },
     "output_type": "display_data"
    },
    {
     "name": "stderr",
     "output_type": "stream",
     "text": [
      "2021-02-08 23:11:00,002\tERROR worker.py:999 -- print_logs: Connection closed by server.\n",
      "2021-02-08 23:11:00,007\tERROR worker.py:1093 -- listen_error_messages_raylet: Connection closed by server.\n",
      "2021-02-08 23:11:00,009\tERROR import_thread.py:89 -- ImportThread: Connection closed by server.\n"
     ]
    }
   ],
   "source": [
    "plt.figure(figsize=(10, 3))\n",
    "plt.subplot(1, 2, 1)\n",
    "plt.plot(losses, label='loss')\n",
    "plt.plot(losses_fit, label='fit')\n",
    "plt.legend()\n",
    "plt.yscale('log')\n",
    "plt.subplot(1, 2, 2)\n",
    "plt.plot(losses_emb, label='emb')\n",
    "plt.legend()\n",
    "#plt.plot(dplus, label='dplus')\n",
    "plt.yscale('log')"
   ]
  },
  {
   "cell_type": "code",
   "execution_count": null,
   "id": "invalid-rebel",
   "metadata": {},
   "outputs": [],
   "source": [
    "%%javascript\n",
    "var jq = document.createElement('script');\n",
    "jq.src = \"https://ajax.googleapis.com/ajax/libs/jquery/2.1.4/jquery.min.js\";\n",
    "document.getElementsByTagName('head')[0].appendChild(jq);"
   ]
  },
  {
   "cell_type": "code",
   "execution_count": 167,
   "id": "welcome-recycling",
   "metadata": {},
   "outputs": [
    {
     "name": "stdout",
     "output_type": "stream",
     "text": [
      "The jupyternotify extension is already loaded. To reload it, use:\n",
      "  %reload_ext jupyternotify\n"
     ]
    }
   ],
   "source": [
    "%load_ext jupyternotify\n",
    "%autonotify -a 30"
   ]
  },
  {
   "cell_type": "code",
   "execution_count": 153,
   "id": "hollywood-gathering",
   "metadata": {},
   "outputs": [],
   "source": [
    "f_t1 = learner.decoder(ctx['obs_y'])#.detach()\n",
    "f_t = learner.decoder(ctx['obs_x'])#.detach()\n",
    "\n",
    "#         f_t1 = normalize(f_t1, mins, maxes)\n",
    "#         f_t = normalize(f_t, mins, maxes)\n",
    "\n",
    "add_features_y = torch.cat([ctx[k] for k in ctx['additional_feature_keys']], dim=1)\n",
    "# f_t1 = torch.zeros_like(f_t1)\n",
    "f_t1 = torch.cat([f_t1, add_features_y], dim=1)\n",
    "\n",
    "f_t1_pred = use_model(\n",
    "f_t,\n",
    "ctx['action_x'],\n",
    "all=True)\n"
   ]
  },
  {
   "cell_type": "code",
   "execution_count": 154,
   "id": "tutorial-drove",
   "metadata": {},
   "outputs": [
    {
     "data": {
      "text/plain": [
       "<AxesSubplot:>"
      ]
     },
     "execution_count": 154,
     "metadata": {},
     "output_type": "execute_result"
    },
    {
     "data": {
      "image/png": "[encoded data removed]",
      "text/plain": [
       "<Figure size 432x288 with 2 Axes>"
      ]
     },
     "metadata": {
      "needs_background": "light"
     },
     "output_type": "display_data"
    }
   ],
   "source": [
    "sns.heatmap((f_t1_pred - f_t1).pow(2).mean(0).cpu().detach().numpy().reshape(-1, 1), vmin=0)"
   ]
  },
  {
   "cell_type": "code",
   "execution_count": 71,
   "id": "bottom-disaster",
   "metadata": {},
   "outputs": [
    {
     "data": {
      "image/png": "[encoded data removed]",
      "text/plain": [
       "<Figure size 432x288 with 1 Axes>"
      ]
     },
     "metadata": {
      "needs_background": "light"
     },
     "output_type": "display_data"
    }
   ],
   "source": [
    "metrics_dct = lstdct2dctlst(metrics)\n",
    "metrics_dct['ratios'] = ratios\n",
    "for key, vals in metrics_dct.items():\n",
    "    if len(np.array(vals).shape) > 1: continue\n",
    "    plt.plot(vals, label=key)\n",
    "plt.legend()\n",
    "plt.show()"
   ]
  },
  {
   "cell_type": "code",
   "execution_count": 48,
   "id": "quick-registration",
   "metadata": {},
   "outputs": [
    {
     "data": {
      "text/plain": [
       "dict_keys(['mean_feature', 'std_feature', 'min_feature', 'max_feature', 'distance_plus', 'distance_minus'])"
      ]
     },
     "execution_count": 48,
     "metadata": {},
     "output_type": "execute_result"
    }
   ],
   "source": [
    "metrics_dct.keys()"
   ]
  },
  {
   "cell_type": "code",
   "execution_count": 49,
   "id": "destroyed-magazine",
   "metadata": {},
   "outputs": [
    {
     "data": {
      "text/plain": [
       "0.018160220235586166"
      ]
     },
     "execution_count": 49,
     "metadata": {},
     "output_type": "execute_result"
    }
   ],
   "source": [
    "losses[-1]"
   ]
  },
  {
   "cell_type": "code",
   "execution_count": 50,
   "id": "affected-collar",
   "metadata": {},
   "outputs": [
    {
     "data": {
      "text/plain": [
       "tensor(-0.2716, device='cuda:0', grad_fn=<MinBackward1>)"
      ]
     },
     "execution_count": 50,
     "metadata": {},
     "output_type": "execute_result"
    }
   ],
   "source": [
    "learner.decoder(ctx['obs_x']).min()"
   ]
  },
  {
   "cell_type": "code",
   "execution_count": 51,
   "id": "arranged-convenience",
   "metadata": {},
   "outputs": [],
   "source": [
    "# metrics_dct['']"
   ]
  },
  {
   "cell_type": "code",
   "execution_count": null,
   "id": "virtual-republic",
   "metadata": {},
   "outputs": [],
   "source": []
  }
 ],
 "metadata": {
  "kernelspec": {
   "display_name": "Python 3",
   "language": "python",
   "name": "python3"
  },
  "language_info": {
   "codemirror_mode": {
    "name": "ipython",
    "version": 3
   },
   "file_extension": ".py",
   "mimetype": "text/x-python",
   "name": "python",
   "nbconvert_exporter": "python",
   "pygments_lexer": "ipython3",
   "version": "3.7.9"
  }
 },
 "nbformat": 4,
 "nbformat_minor": 5
}
