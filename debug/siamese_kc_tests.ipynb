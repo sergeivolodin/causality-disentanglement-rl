{
 "cells": [
  {
   "cell_type": "code",
   "execution_count": 1,
   "id": "forty-original",
   "metadata": {},
   "outputs": [],
   "source": [
    "import os\n",
    "os.environ['CUDA_VISIBLE_DEVICES'] = \"0\"\n",
    "import numpy as np\n",
    "from matplotlib import pyplot as plt\n",
    "import seaborn as sns\n",
    "import pandas as pd\n",
    "from tqdm.auto import tqdm\n",
    "import torch\n",
    "from torch import nn\n",
    "import gin\n",
    "import pickle\n",
    "import io\n",
    "gin.enter_interactive_mode()\n",
    "from causal_util import load_env\n",
    "from causal_util.helpers import lstdct2dctlst\n",
    "from sparse_causal_model_learner_rl.loss.losses import fit_loss\n",
    "from sparse_causal_model_learner_rl.loss.causal_discriminator import siamese_feature_discriminator_l2\n",
    "\n",
    "from sparse_causal_model_learner_rl.metrics.context_rewrite import context_rewriter\n",
    "from sparse_causal_model_learner_rl.visual.learner_visual import graph_for_matrices\n",
    "from sparse_causal_model_learner_rl.config import Config\n",
    "from sparse_causal_model_learner_rl.sacred_gin_tune.sacred_wrapper import load_config_files\n",
    "from sparse_causal_model_learner_rl.learners.rl_learner import CausalModelLearnerRL"
   ]
  },
  {
   "cell_type": "code",
   "execution_count": 2,
   "id": "eight-subcommittee",
   "metadata": {},
   "outputs": [
    {
     "data": {
      "text/plain": [
       "['kc_rec_nonlin_gnn_gumbel_siamese_l2-Copy1', 'kc_dec', '5x5_1f1c1k_obs']"
      ]
     },
     "execution_count": 2,
     "metadata": {},
     "output_type": "execute_result"
    }
   ],
   "source": [
    "load_config_files(['../sparse_causal_model_learner_rl/configs/kc_rec_nonlin_gnn_gumbel_siamese_l2-Copy1.gin',\n",
    "                   '../sparse_causal_model_learner_rl/configs/kc_dec.gin',\n",
    "                   '../keychest/config/5x5_1f1c1k_obs.gin'])"
   ]
  },
  {
   "cell_type": "code",
   "execution_count": 37,
   "id": "dirty-temperature",
   "metadata": {},
   "outputs": [],
   "source": [
    "gin.bind_parameter('Config.collect_remotely', True)\n",
    "gin.bind_parameter('Config.n_collectors', 5)\n",
    "gin.bind_parameter('Config.future_buffer_size', 20)"
   ]
  },
  {
   "cell_type": "code",
   "execution_count": 5,
   "id": "attended-wagon",
   "metadata": {},
   "outputs": [
    {
     "name": "stderr",
     "output_type": "stream",
     "text": [
      "WARNING:ray.tune.session:Session not detected. You should not be calling this function outside `tune.run` or while using the class API. \n",
      "2021-02-05 01:25:05,139\tINFO worker.py:651 -- Connecting to existing Ray cluster at address: 10.90.38.7:6379\n"
     ]
    },
    {
     "name": "stdout",
     "output_type": "stream",
     "text": [
      "Selecting name 980f1434-6748-11eb-af1d-90e2baa1a248\n",
      "Make environment KeyChest-v0 None {}\n"
     ]
    }
   ],
   "source": [
    "learner = CausalModelLearnerRL(Config(ray_kwargs={'address': '127.0.0.1:6379'}))"
   ]
  },
  {
   "cell_type": "code",
   "execution_count": 6,
   "id": "medieval-weapon",
   "metadata": {},
   "outputs": [
    {
     "name": "stderr",
     "output_type": "stream",
     "text": [
      "WARNING:root:No class provided for trainable reconstructor\n",
      "WARNING:root:No class provided for trainable value_predictor\n",
      "WARNING:root:No class provided for trainable causal_feature_model_discriminator\n",
      "WARNING:root:No class provided for trainable decoder_discriminator\n"
     ]
    },
    {
     "name": "stdout",
     "output_type": "stream",
     "text": [
      "\u001b[2m\u001b[36m(pid=3897)\u001b[0m Make environment KeyChest-v0 None {}\n"
     ]
    },
    {
     "name": "stderr",
     "output_type": "stream",
     "text": [
      "WARNING:root:Warning: loss fit is used more than once\n",
      "WARNING:root:Warning: loss sparsity is used more than once\n",
      "WARNING:root:Warning: loss non_sparse_fit is used more than once\n",
      "WARNING:root:Warning: loss discriminate_siamese is used more than once\n",
      "WARNING:root:Warning: loss fit_all_on is used more than once\n"
     ]
    }
   ],
   "source": [
    "learner.create_trainables()"
   ]
  },
  {
   "cell_type": "code",
   "execution_count": 7,
   "id": "serious-phoenix",
   "metadata": {},
   "outputs": [],
   "source": [
    "env = learner.env"
   ]
  },
  {
   "cell_type": "code",
   "execution_count": 8,
   "id": "opened-proof",
   "metadata": {},
   "outputs": [],
   "source": [
    "losses = []\n",
    "dplus = []"
   ]
  },
  {
   "cell_type": "code",
   "execution_count": 9,
   "id": "individual-button",
   "metadata": {},
   "outputs": [],
   "source": [
    "opt = torch.optim.Adam(lr=1e-3, params=learner.decoder.parameters())"
   ]
  },
  {
   "cell_type": "code",
   "execution_count": 11,
   "id": "smooth-society",
   "metadata": {},
   "outputs": [
    {
     "data": {
      "application/vnd.jupyter.widget-view+json": {
       "model_id": "c3c56ae22f82468ba141200ad7d51dc6",
       "version_major": 2,
       "version_minor": 0
      },
      "text/plain": [
       "HBox(children=(HTML(value=''), FloatProgress(value=0.0, max=1000.0), HTML(value='')))"
      ]
     },
     "metadata": {},
     "output_type": "display_data"
    },
    {
     "name": "stdout",
     "output_type": "stream",
     "text": [
      "\n"
     ]
    }
   ],
   "source": [
    "for i in tqdm(range(1000)):\n",
    "    if i % 10 == 0:\n",
    "        ctx = learner.collect_and_get_context()\n",
    "    \n",
    "    opt.zero_grad()\n",
    "    l_obj = siamese_feature_discriminator_l2(**ctx)\n",
    "    loss = l_obj['loss']\n",
    "    loss.backward()\n",
    "    opt.step()\n",
    "    losses.append(loss.item())\n",
    "    dplus.append(l_obj['metrics']['distance_plus'])"
   ]
  },
  {
   "cell_type": "code",
   "execution_count": 12,
   "id": "dangerous-demographic",
   "metadata": {},
   "outputs": [
    {
     "data": {
      "text/plain": [
       "<matplotlib.legend.Legend at 0x7fb60a979210>"
      ]
     },
     "execution_count": 12,
     "metadata": {},
     "output_type": "execute_result"
    },
    {
     "data": {
      "image/png": "[encoded data removed]",
      "text/plain": [
       "<Figure size 432x288 with 1 Axes>"
      ]
     },
     "metadata": {
      "needs_background": "light"
     },
     "output_type": "display_data"
    }
   ],
   "source": [
    "plt.plot(losses, label='loss')\n",
    "plt.plot(dplus, label='dplus')\n",
    "plt.yscale('log')\n",
    "plt.legend()"
   ]
  },
  {
   "cell_type": "code",
   "execution_count": 13,
   "id": "induced-ghana",
   "metadata": {},
   "outputs": [
    {
     "data": {
      "text/plain": [
       "(1.2158731515228282e-05, 0.0)"
      ]
     },
     "execution_count": 13,
     "metadata": {},
     "output_type": "execute_result"
    }
   ],
   "source": [
    "np.mean(losses[-50:]), np.median(losses[-50:])"
   ]
  },
  {
   "cell_type": "code",
   "execution_count": 14,
   "id": "first-acting",
   "metadata": {},
   "outputs": [],
   "source": [
    "features = learner.decoder(ctx['obs'])"
   ]
  },
  {
   "cell_type": "code",
   "execution_count": 15,
   "id": "appreciated-voluntary",
   "metadata": {},
   "outputs": [],
   "source": [
    "f = features.detach().cpu().numpy()"
   ]
  },
  {
   "cell_type": "code",
   "execution_count": 16,
   "id": "narrative-instrumentation",
   "metadata": {},
   "outputs": [
    {
     "data": {
      "text/plain": [
       "(5001, 30)"
      ]
     },
     "execution_count": 16,
     "metadata": {},
     "output_type": "execute_result"
    }
   ],
   "source": [
    "f.shape"
   ]
  },
  {
   "cell_type": "code",
   "execution_count": 17,
   "id": "sophisticated-closing",
   "metadata": {},
   "outputs": [
    {
     "data": {
      "image/png": "[encoded data removed]",
      "text/plain": [
       "<Figure size 1800x720 with 30 Axes>"
      ]
     },
     "metadata": {
      "needs_background": "light"
     },
     "output_type": "display_data"
    }
   ],
   "source": [
    "plt.figure(figsize=(25, 10))\n",
    "for i_f in range(f.shape[1]):\n",
    "    plt.subplot(6, 5, i_f + 1)\n",
    "    plt.hist(f[:, i_f])"
   ]
  },
  {
   "cell_type": "code",
   "execution_count": 18,
   "id": "current-trinity",
   "metadata": {},
   "outputs": [
    {
     "data": {
      "text/plain": [
       "0     0.477647\n",
       "1     0.724731\n",
       "2     0.745158\n",
       "3     0.818082\n",
       "4     0.618016\n",
       "5     0.890603\n",
       "6     0.685409\n",
       "7     0.698789\n",
       "8     0.416432\n",
       "9     0.582684\n",
       "10    0.436252\n",
       "11    0.577154\n",
       "12    0.488384\n",
       "13    0.580720\n",
       "14    0.448021\n",
       "15    0.839315\n",
       "16    0.552214\n",
       "17    0.643806\n",
       "18    0.727381\n",
       "19    0.627111\n",
       "20    0.620992\n",
       "21    0.424899\n",
       "22    1.020827\n",
       "23    0.510269\n",
       "24    0.678956\n",
       "25    0.381183\n",
       "26    0.743369\n",
       "27    0.597046\n",
       "28    0.625884\n",
       "29    0.811376\n",
       "dtype: float32"
      ]
     },
     "execution_count": 18,
     "metadata": {},
     "output_type": "execute_result"
    }
   ],
   "source": [
    "pd.DataFrame(f).std()"
   ]
  },
  {
   "cell_type": "code",
   "execution_count": 19,
   "id": "fifth-wildlife",
   "metadata": {},
   "outputs": [
    {
     "data": {
      "text/plain": [
       "<AxesSubplot:>"
      ]
     },
     "execution_count": 19,
     "metadata": {},
     "output_type": "execute_result"
    },
    {
     "data": {
      "image/png": "[encoded data removed]",
      "text/plain": [
       "<Figure size 432x288 with 2 Axes>"
      ]
     },
     "metadata": {
      "needs_background": "light"
     },
     "output_type": "display_data"
    }
   ],
   "source": [
    "sns.heatmap(pd.DataFrame(f).corr())"
   ]
  },
  {
   "cell_type": "code",
   "execution_count": 20,
   "id": "accompanied-street",
   "metadata": {},
   "outputs": [],
   "source": [
    "env.engine.return_rgb = False"
   ]
  },
  {
   "cell_type": "code",
   "execution_count": 22,
   "id": "rubber-indian",
   "metadata": {},
   "outputs": [],
   "source": [
    "losses = []\n",
    "metrics = []"
   ]
  },
  {
   "cell_type": "code",
   "execution_count": 23,
   "id": "stupid-story",
   "metadata": {},
   "outputs": [],
   "source": [
    "gin.bind_parameter('model_gnn/FCCombinedModel.activation_cls', torch.nn.LeakyReLU)"
   ]
  },
  {
   "cell_type": "code",
   "execution_count": 24,
   "id": "vocational-award",
   "metadata": {},
   "outputs": [],
   "source": [
    "learner.non_sparse_model.__init__(feature_shape=learner.feature_shape,\n",
    "                                  action_shape=learner.action_shape,\n",
    "                                  additional_feature_shape=learner.additional_feature_shape)\n",
    "learner.non_sparse_model = learner.non_sparse_model.cuda()"
   ]
  },
  {
   "cell_type": "code",
   "execution_count": 25,
   "id": "baking-affiliate",
   "metadata": {},
   "outputs": [
    {
     "data": {
      "text/plain": [
       "[LeakyReLU(negative_slope=0.01),\n",
       " LeakyReLU(negative_slope=0.01),\n",
       " LeakyReLU(negative_slope=0.01),\n",
       " None]"
      ]
     },
     "execution_count": 25,
     "metadata": {},
     "output_type": "execute_result"
    }
   ],
   "source": [
    "learner.non_sparse_model.model.model.activation"
   ]
  },
  {
   "cell_type": "code",
   "execution_count": 26,
   "id": "alert-manual",
   "metadata": {},
   "outputs": [
    {
     "data": {
      "text/plain": [
       "ManyNetworkCombinedModel(\n",
       "  (model): WithInputSwitch(\n",
       "    (switch): LearnableSwitchSimple()\n",
       "    (model): FCCombinedModel(\n",
       "      (fc01): CombinedLinearLayer()\n",
       "      (fc02): CombinedLinearLayer()\n",
       "      (fc03): CombinedLinearLayer()\n",
       "      (fc04): CombinedLinearLayer()\n",
       "    )\n",
       "  )\n",
       ")"
      ]
     },
     "execution_count": 26,
     "metadata": {},
     "output_type": "execute_result"
    }
   ],
   "source": [
    "learner.non_sparse_model"
   ]
  },
  {
   "cell_type": "code",
   "execution_count": null,
   "id": "soviet-flavor",
   "metadata": {},
   "outputs": [],
   "source": []
  },
  {
   "cell_type": "code",
   "execution_count": 27,
   "id": "younger-motivation",
   "metadata": {},
   "outputs": [
    {
     "data": {
      "text/plain": [
       "False"
      ]
     },
     "execution_count": 27,
     "metadata": {},
     "output_type": "execute_result"
    }
   ],
   "source": [
    "learner.non_sparse_model.model.enable_switch"
   ]
  },
  {
   "cell_type": "code",
   "execution_count": 30,
   "id": "enclosed-reservoir",
   "metadata": {},
   "outputs": [],
   "source": [
    "mins = None\n",
    "maxes = None"
   ]
  },
  {
   "cell_type": "code",
   "execution_count": 31,
   "id": "assigned-spank",
   "metadata": {},
   "outputs": [],
   "source": [
    "def normalize(t, mins, maxes):\n",
    "    return 2 * ((t - mins) / (1e-3 + maxes - mins) - 0.5)"
   ]
  },
  {
   "cell_type": "code",
   "execution_count": 33,
   "id": "assisted-defensive",
   "metadata": {},
   "outputs": [],
   "source": [
    "class AdhocWorldModel(nn.Module):\n",
    "    def __init__(self):\n",
    "        super(AdhocWorldModel, self).__init__()\n",
    "        self.fc1 = nn.Linear(in_features=34, out_features=60)\n",
    "        self.fc2 = nn.Linear(in_features=60, out_features=60)\n",
    "        self.fc3 = nn.Linear(in_features=60, out_features=60)\n",
    "        self.fc4 = nn.Linear(in_features=60, out_features=32)\n",
    "        self.activation = nn.Tanh()\n",
    "        \n",
    "    def forward(self, f_t, a_t, all):\n",
    "        x = torch.cat([f_t, a_t], dim=1)\n",
    "        x = self.fc1(x)\n",
    "        x = self.activation(x)\n",
    "        \n",
    "        x = self.fc2(x)\n",
    "        x = self.activation(x)\n",
    "        \n",
    "        x = self.fc3(x)\n",
    "        x = self.activation(x)\n",
    "        \n",
    "        x = self.fc4(x)\n",
    "        return x"
   ]
  },
  {
   "cell_type": "code",
   "execution_count": 34,
   "id": "extra-gothic",
   "metadata": {},
   "outputs": [],
   "source": [
    "#use_model = learner.non_sparse_model\n",
    "use_model = AdhocWorldModel().cuda()"
   ]
  },
  {
   "cell_type": "code",
   "execution_count": 35,
   "id": "planned-suspension",
   "metadata": {},
   "outputs": [],
   "source": [
    "opt = torch.optim.Adam(lr=1e-3, params=use_model.parameters())"
   ]
  },
  {
   "cell_type": "code",
   "execution_count": 36,
   "id": "administrative-quarterly",
   "metadata": {},
   "outputs": [
    {
     "data": {
      "application/vnd.jupyter.widget-view+json": {
       "model_id": "04d2dcb6782142659deebe1ec0be3ed3",
       "version_major": 2,
       "version_minor": 0
      },
      "text/plain": [
       "HBox(children=(HTML(value=''), FloatProgress(value=0.0, max=1000.0), HTML(value='')))"
      ]
     },
     "metadata": {},
     "output_type": "display_data"
    },
    {
     "name": "stdout",
     "output_type": "stream",
     "text": [
      "Computing minmax\n",
      "\n"
     ]
    },
    {
     "ename": "KeyboardInterrupt",
     "evalue": "",
     "output_type": "error",
     "traceback": [
      "\u001b[0;31m---------------------------------------------------------------------------\u001b[0m",
      "\u001b[0;31mKeyboardInterrupt\u001b[0m                         Traceback (most recent call last)",
      "\u001b[0;32m<ipython-input-36-40c552374232>\u001b[0m in \u001b[0;36m<module>\u001b[0;34m\u001b[0m\n\u001b[1;32m      1\u001b[0m \u001b[0;32mfor\u001b[0m \u001b[0mi\u001b[0m \u001b[0;32min\u001b[0m \u001b[0mtqdm\u001b[0m\u001b[0;34m(\u001b[0m\u001b[0mrange\u001b[0m\u001b[0;34m(\u001b[0m\u001b[0;36m1000\u001b[0m\u001b[0;34m)\u001b[0m\u001b[0;34m)\u001b[0m\u001b[0;34m:\u001b[0m\u001b[0;34m\u001b[0m\u001b[0;34m\u001b[0m\u001b[0m\n\u001b[1;32m      2\u001b[0m     \u001b[0;32mif\u001b[0m \u001b[0mi\u001b[0m \u001b[0;34m%\u001b[0m \u001b[0;36m10\u001b[0m \u001b[0;34m==\u001b[0m \u001b[0;36m0\u001b[0m\u001b[0;34m:\u001b[0m\u001b[0;34m\u001b[0m\u001b[0;34m\u001b[0m\u001b[0m\n\u001b[0;32m----> 3\u001b[0;31m         \u001b[0mctx\u001b[0m \u001b[0;34m=\u001b[0m \u001b[0mlearner\u001b[0m\u001b[0;34m.\u001b[0m\u001b[0mcollect_and_get_context\u001b[0m\u001b[0;34m(\u001b[0m\u001b[0;34m)\u001b[0m\u001b[0;34m\u001b[0m\u001b[0;34m\u001b[0m\u001b[0m\n\u001b[0m\u001b[1;32m      4\u001b[0m \u001b[0;34m\u001b[0m\u001b[0m\n\u001b[1;32m      5\u001b[0m         \u001b[0;32mif\u001b[0m \u001b[0mmins\u001b[0m \u001b[0;32mis\u001b[0m \u001b[0;32mNone\u001b[0m \u001b[0;32mor\u001b[0m \u001b[0mmaxes\u001b[0m \u001b[0;32mis\u001b[0m \u001b[0;32mNone\u001b[0m\u001b[0;34m:\u001b[0m\u001b[0;34m\u001b[0m\u001b[0;34m\u001b[0m\u001b[0m\n",
      "\u001b[0;32m~/causality-disentanglement-rl/sparse_causal_model_learner_rl/learners/rl_learner.py\u001b[0m in \u001b[0;36mcollect_and_get_context\u001b[0;34m(self)\u001b[0m\n\u001b[1;32m    199\u001b[0m                 \u001b[0mself\u001b[0m\u001b[0;34m.\u001b[0m\u001b[0mnext_context_refs\u001b[0m\u001b[0;34m.\u001b[0m\u001b[0mappend\u001b[0m\u001b[0;34m(\u001b[0m\u001b[0mself\u001b[0m\u001b[0;34m.\u001b[0m\u001b[0mremote_rl_context\u001b[0m\u001b[0;34m.\u001b[0m\u001b[0mcollect_steps_and_context\u001b[0m\u001b[0;34m.\u001b[0m\u001b[0mremote\u001b[0m\u001b[0;34m(\u001b[0m\u001b[0;34m)\u001b[0m\u001b[0;34m)\u001b[0m\u001b[0;34m\u001b[0m\u001b[0;34m\u001b[0m\u001b[0m\n\u001b[1;32m    200\u001b[0m \u001b[0;34m\u001b[0m\u001b[0m\n\u001b[0;32m--> 201\u001b[0;31m             \u001b[0mpre_context\u001b[0m \u001b[0;34m=\u001b[0m \u001b[0mray\u001b[0m\u001b[0;34m.\u001b[0m\u001b[0mget\u001b[0m\u001b[0;34m(\u001b[0m\u001b[0mself\u001b[0m\u001b[0;34m.\u001b[0m\u001b[0mnext_context_refs\u001b[0m\u001b[0;34m[\u001b[0m\u001b[0;36m0\u001b[0m\u001b[0;34m]\u001b[0m\u001b[0;34m)\u001b[0m\u001b[0;34m\u001b[0m\u001b[0;34m\u001b[0m\u001b[0m\n\u001b[0m\u001b[1;32m    202\u001b[0m             \u001b[0mself\u001b[0m\u001b[0;34m.\u001b[0m\u001b[0mnext_context_refs\u001b[0m \u001b[0;34m=\u001b[0m \u001b[0mself\u001b[0m\u001b[0;34m.\u001b[0m\u001b[0mnext_context_refs\u001b[0m\u001b[0;34m[\u001b[0m\u001b[0;36m1\u001b[0m\u001b[0;34m:\u001b[0m\u001b[0;34m]\u001b[0m\u001b[0;34m\u001b[0m\u001b[0;34m\u001b[0m\u001b[0m\n\u001b[1;32m    203\u001b[0m         \u001b[0;32melse\u001b[0m\u001b[0;34m:\u001b[0m\u001b[0;34m\u001b[0m\u001b[0;34m\u001b[0m\u001b[0m\n",
      "\u001b[0;32m~/miniconda3/envs/causal/lib/python3.7/site-packages/ray/worker.py\u001b[0m in \u001b[0;36mget\u001b[0;34m(object_refs, timeout)\u001b[0m\n\u001b[1;32m   1443\u001b[0m         \u001b[0;32mglobal\u001b[0m \u001b[0mlast_task_error_raise_time\u001b[0m\u001b[0;34m\u001b[0m\u001b[0;34m\u001b[0m\u001b[0m\n\u001b[1;32m   1444\u001b[0m         \u001b[0;31m# TODO(ujvl): Consider how to allow user to retrieve the ready objects.\u001b[0m\u001b[0;34m\u001b[0m\u001b[0;34m\u001b[0m\u001b[0;34m\u001b[0m\u001b[0m\n\u001b[0;32m-> 1445\u001b[0;31m         \u001b[0mvalues\u001b[0m \u001b[0;34m=\u001b[0m \u001b[0mworker\u001b[0m\u001b[0;34m.\u001b[0m\u001b[0mget_objects\u001b[0m\u001b[0;34m(\u001b[0m\u001b[0mobject_refs\u001b[0m\u001b[0;34m,\u001b[0m \u001b[0mtimeout\u001b[0m\u001b[0;34m=\u001b[0m\u001b[0mtimeout\u001b[0m\u001b[0;34m)\u001b[0m\u001b[0;34m\u001b[0m\u001b[0;34m\u001b[0m\u001b[0m\n\u001b[0m\u001b[1;32m   1446\u001b[0m         \u001b[0;32mfor\u001b[0m \u001b[0mi\u001b[0m\u001b[0;34m,\u001b[0m \u001b[0mvalue\u001b[0m \u001b[0;32min\u001b[0m \u001b[0menumerate\u001b[0m\u001b[0;34m(\u001b[0m\u001b[0mvalues\u001b[0m\u001b[0;34m)\u001b[0m\u001b[0;34m:\u001b[0m\u001b[0;34m\u001b[0m\u001b[0;34m\u001b[0m\u001b[0m\n\u001b[1;32m   1447\u001b[0m             \u001b[0;32mif\u001b[0m \u001b[0misinstance\u001b[0m\u001b[0;34m(\u001b[0m\u001b[0mvalue\u001b[0m\u001b[0;34m,\u001b[0m \u001b[0mRayError\u001b[0m\u001b[0;34m)\u001b[0m\u001b[0;34m:\u001b[0m\u001b[0;34m\u001b[0m\u001b[0;34m\u001b[0m\u001b[0m\n",
      "\u001b[0;32m~/miniconda3/envs/causal/lib/python3.7/site-packages/ray/worker.py\u001b[0m in \u001b[0;36mget_objects\u001b[0;34m(self, object_refs, timeout)\u001b[0m\n\u001b[1;32m    313\u001b[0m         \u001b[0mtimeout_ms\u001b[0m \u001b[0;34m=\u001b[0m \u001b[0mint\u001b[0m\u001b[0;34m(\u001b[0m\u001b[0mtimeout\u001b[0m \u001b[0;34m*\u001b[0m \u001b[0;36m1000\u001b[0m\u001b[0;34m)\u001b[0m \u001b[0;32mif\u001b[0m \u001b[0mtimeout\u001b[0m \u001b[0;32melse\u001b[0m \u001b[0;34m-\u001b[0m\u001b[0;36m1\u001b[0m\u001b[0;34m\u001b[0m\u001b[0;34m\u001b[0m\u001b[0m\n\u001b[1;32m    314\u001b[0m         data_metadata_pairs = self.core_worker.get_objects(\n\u001b[0;32m--> 315\u001b[0;31m             object_refs, self.current_task_id, timeout_ms)\n\u001b[0m\u001b[1;32m    316\u001b[0m         \u001b[0;32mreturn\u001b[0m \u001b[0mself\u001b[0m\u001b[0;34m.\u001b[0m\u001b[0mdeserialize_objects\u001b[0m\u001b[0;34m(\u001b[0m\u001b[0mdata_metadata_pairs\u001b[0m\u001b[0;34m,\u001b[0m \u001b[0mobject_refs\u001b[0m\u001b[0;34m)\u001b[0m\u001b[0;34m\u001b[0m\u001b[0;34m\u001b[0m\u001b[0m\n\u001b[1;32m    317\u001b[0m \u001b[0;34m\u001b[0m\u001b[0m\n",
      "\u001b[0;32mpython/ray/_raylet.pyx\u001b[0m in \u001b[0;36mray._raylet.CoreWorker.get_objects\u001b[0;34m()\u001b[0m\n",
      "\u001b[0;32mpython/ray/_raylet.pyx\u001b[0m in \u001b[0;36mray._raylet.check_status\u001b[0;34m()\u001b[0m\n",
      "\u001b[0;31mKeyboardInterrupt\u001b[0m: "
     ]
    }
   ],
   "source": [
    "for i in tqdm(range(1000)):\n",
    "    if i % 10 == 0:\n",
    "        ctx = learner.collect_and_get_context()\n",
    "        \n",
    "        if mins is None or maxes is None:\n",
    "            print(\"Computing minmax\")\n",
    "            f_all = learner.decoder(ctx['obs'])\n",
    "            mins = f_all.min(dim=0, keepdim=True).values.detach()\n",
    "            maxes = f_all.max(dim=0, keepdim=True).values.detach()\n",
    "        \n",
    "        f_t1 = learner.decoder(ctx['obs_y']).detach()\n",
    "        f_t = learner.decoder(ctx['obs_x']).detach()\n",
    "        \n",
    "        f_t1 = normalize(f_t1, mins, maxes)\n",
    "        f_t = normalize(f_t, mins, maxes)\n",
    "        \n",
    "        add_features_y = torch.cat([ctx[k] for k in ctx['additional_feature_keys']], dim=1)\n",
    "        f_t1 = torch.cat([f_t1, add_features_y], dim=1)\n",
    "    f_t1_pred = use_model(\n",
    "        f_t,\n",
    "        ctx['action_x'],\n",
    "        all=True)\n",
    "    \n",
    "    loss = nn.MSELoss()(f_t1, f_t1_pred)\n",
    "\n",
    "    \n",
    "    opt.zero_grad()\n",
    "#     l_obj = context_rewriter(function=fit_loss, rewrite={'model': 'non_sparse_model'}, **ctx)\n",
    "#     loss = l_obj['loss']\n",
    "    loss.backward()\n",
    "    opt.step()\n",
    "    losses.append(loss.item())\n",
    "#     metrics.append(l_obj['metrics'])"
   ]
  },
  {
   "cell_type": "code",
   "execution_count": 135,
   "id": "undefined-surname",
   "metadata": {},
   "outputs": [
    {
     "data": {
      "text/plain": [
       "<matplotlib.legend.Legend at 0x7f7de7aca850>"
      ]
     },
     "execution_count": 135,
     "metadata": {},
     "output_type": "execute_result"
    },
    {
     "data": {
      "image/png": "[encoded data removed]",
      "text/plain": [
       "<Figure size 432x288 with 1 Axes>"
      ]
     },
     "metadata": {
      "needs_background": "light"
     },
     "output_type": "display_data"
    }
   ],
   "source": [
    "plt.plot(losses, label='loss')\n",
    "#plt.plot(dplus, label='dplus')\n",
    "plt.yscale('log')\n",
    "plt.legend()"
   ]
  },
  {
   "cell_type": "code",
   "execution_count": 98,
   "id": "independent-junction",
   "metadata": {},
   "outputs": [
    {
     "ename": "IndexError",
     "evalue": "list index out of range",
     "output_type": "error",
     "traceback": [
      "\u001b[0;31m---------------------------------------------------------------------------\u001b[0m",
      "\u001b[0;31mIndexError\u001b[0m                                Traceback (most recent call last)",
      "\u001b[0;32m<ipython-input-98-ed5ef9d8f229>\u001b[0m in \u001b[0;36m<module>\u001b[0;34m\u001b[0m\n\u001b[0;32m----> 1\u001b[0;31m \u001b[0mmetrics_dct\u001b[0m \u001b[0;34m=\u001b[0m \u001b[0mlstdct2dctlst\u001b[0m\u001b[0;34m(\u001b[0m\u001b[0mmetrics\u001b[0m\u001b[0;34m)\u001b[0m\u001b[0;34m\u001b[0m\u001b[0;34m\u001b[0m\u001b[0m\n\u001b[0m\u001b[1;32m      2\u001b[0m \u001b[0;32mfor\u001b[0m \u001b[0mkey\u001b[0m\u001b[0;34m,\u001b[0m \u001b[0mvals\u001b[0m \u001b[0;32min\u001b[0m \u001b[0mmetrics_dct\u001b[0m\u001b[0;34m.\u001b[0m\u001b[0mitems\u001b[0m\u001b[0;34m(\u001b[0m\u001b[0;34m)\u001b[0m\u001b[0;34m:\u001b[0m\u001b[0;34m\u001b[0m\u001b[0;34m\u001b[0m\u001b[0m\n\u001b[1;32m      3\u001b[0m     \u001b[0;32mif\u001b[0m \u001b[0mlen\u001b[0m\u001b[0;34m(\u001b[0m\u001b[0mnp\u001b[0m\u001b[0;34m.\u001b[0m\u001b[0marray\u001b[0m\u001b[0;34m(\u001b[0m\u001b[0mvals\u001b[0m\u001b[0;34m)\u001b[0m\u001b[0;34m.\u001b[0m\u001b[0mshape\u001b[0m\u001b[0;34m)\u001b[0m \u001b[0;34m>\u001b[0m \u001b[0;36m1\u001b[0m\u001b[0;34m:\u001b[0m \u001b[0;32mcontinue\u001b[0m\u001b[0;34m\u001b[0m\u001b[0;34m\u001b[0m\u001b[0m\n\u001b[1;32m      4\u001b[0m     \u001b[0mplt\u001b[0m\u001b[0;34m.\u001b[0m\u001b[0mplot\u001b[0m\u001b[0;34m(\u001b[0m\u001b[0mvals\u001b[0m\u001b[0;34m,\u001b[0m \u001b[0mlabel\u001b[0m\u001b[0;34m=\u001b[0m\u001b[0mkey\u001b[0m\u001b[0;34m)\u001b[0m\u001b[0;34m\u001b[0m\u001b[0;34m\u001b[0m\u001b[0m\n\u001b[1;32m      5\u001b[0m \u001b[0mplt\u001b[0m\u001b[0;34m.\u001b[0m\u001b[0mlegend\u001b[0m\u001b[0;34m(\u001b[0m\u001b[0;34m)\u001b[0m\u001b[0;34m\u001b[0m\u001b[0;34m\u001b[0m\u001b[0m\n",
      "\u001b[0;32m~/causality-disentanglement-rl/causal_util/helpers.py\u001b[0m in \u001b[0;36mlstdct2dctlst\u001b[0;34m(lst)\u001b[0m\n\u001b[1;32m    123\u001b[0m \u001b[0;32mdef\u001b[0m \u001b[0mlstdct2dctlst\u001b[0m\u001b[0;34m(\u001b[0m\u001b[0mlst\u001b[0m\u001b[0;34m)\u001b[0m\u001b[0;34m:\u001b[0m\u001b[0;34m\u001b[0m\u001b[0;34m\u001b[0m\u001b[0m\n\u001b[1;32m    124\u001b[0m     \u001b[0;34m\"\"\"List of dictionaries -> dict of lists.\"\"\"\u001b[0m\u001b[0;34m\u001b[0m\u001b[0;34m\u001b[0m\u001b[0m\n\u001b[0;32m--> 125\u001b[0;31m     \u001b[0mkeys\u001b[0m \u001b[0;34m=\u001b[0m \u001b[0mlst\u001b[0m\u001b[0;34m[\u001b[0m\u001b[0;36m0\u001b[0m\u001b[0;34m]\u001b[0m\u001b[0;34m.\u001b[0m\u001b[0mkeys\u001b[0m\u001b[0;34m(\u001b[0m\u001b[0;34m)\u001b[0m\u001b[0;34m\u001b[0m\u001b[0;34m\u001b[0m\u001b[0m\n\u001b[0m\u001b[1;32m    126\u001b[0m     \u001b[0mresult\u001b[0m \u001b[0;34m=\u001b[0m \u001b[0;34m{\u001b[0m\u001b[0mk\u001b[0m\u001b[0;34m:\u001b[0m \u001b[0;34m[\u001b[0m\u001b[0;34m]\u001b[0m \u001b[0;32mfor\u001b[0m \u001b[0mk\u001b[0m \u001b[0;32min\u001b[0m \u001b[0mkeys\u001b[0m\u001b[0;34m}\u001b[0m\u001b[0;34m\u001b[0m\u001b[0;34m\u001b[0m\u001b[0m\n\u001b[1;32m    127\u001b[0m     \u001b[0;32mfor\u001b[0m \u001b[0mitem\u001b[0m \u001b[0;32min\u001b[0m \u001b[0mlst\u001b[0m\u001b[0;34m:\u001b[0m\u001b[0;34m\u001b[0m\u001b[0;34m\u001b[0m\u001b[0m\n",
      "\u001b[0;31mIndexError\u001b[0m: list index out of range"
     ]
    }
   ],
   "source": [
    "metrics_dct = lstdct2dctlst(metrics)\n",
    "for key, vals in metrics_dct.items():\n",
    "    if len(np.array(vals).shape) > 1: continue\n",
    "    plt.plot(vals, label=key)\n",
    "plt.legend()\n",
    "plt.show()"
   ]
  },
  {
   "cell_type": "code",
   "execution_count": 32,
   "id": "received-requirement",
   "metadata": {},
   "outputs": [
    {
     "data": {
      "text/plain": [
       "dict_keys(['mean_feature', 'std_feature', 'min_feature', 'max_feature', 'std_feature_avg', 'inv_std_feature_avg'])"
      ]
     },
     "execution_count": 32,
     "metadata": {},
     "output_type": "execute_result"
    }
   ],
   "source": [
    "metrics_dct.keys()"
   ]
  },
  {
   "cell_type": "code",
   "execution_count": null,
   "id": "apart-easter",
   "metadata": {},
   "outputs": [],
   "source": []
  }
 ],
 "metadata": {
  "kernelspec": {
   "display_name": "Python 3",
   "language": "python",
   "name": "python3"
  },
  "language_info": {
   "codemirror_mode": {
    "name": "ipython",
    "version": 3
   },
   "file_extension": ".py",
   "mimetype": "text/x-python",
   "name": "python",
   "nbconvert_exporter": "python",
   "pygments_lexer": "ipython3",
   "version": "3.7.9"
  }
 },
 "nbformat": 4,
 "nbformat_minor": 5
}
