{
 "cells": [
  {
   "cell_type": "code",
   "execution_count": 1,
   "id": "earlier-toronto",
   "metadata": {},
   "outputs": [],
   "source": [
    "import os\n",
    "os.environ['CUDA_VISIBLE_DEVICES'] = \"0\"\n",
    "import numpy as np\n",
    "from matplotlib import pyplot as plt\n",
    "import seaborn as sns\n",
    "import pandas as pd\n",
    "from tqdm.auto import tqdm\n",
    "import torch\n",
    "from torch import nn\n",
    "import gin\n",
    "import ray\n",
    "import pickle\n",
    "import io\n",
    "gin.enter_interactive_mode()\n",
    "from causal_util import load_env\n",
    "from causal_util.helpers import lstdct2dctlst\n",
    "from sparse_causal_model_learner_rl.loss.losses import fit_loss\n",
    "from sparse_causal_model_learner_rl.loss.causal_discriminator import siamese_feature_discriminator_l2\n",
    "\n",
    "from sparse_causal_model_learner_rl.metrics.context_rewrite import context_rewriter\n",
    "from sparse_causal_model_learner_rl.visual.learner_visual import graph_for_matrices\n",
    "from sparse_causal_model_learner_rl.config import Config\n",
    "from sparse_causal_model_learner_rl.sacred_gin_tune.sacred_wrapper import load_config_files\n",
    "from sparse_causal_model_learner_rl.learners.rl_learner import CausalModelLearnerRL"
   ]
  },
  {
   "cell_type": "code",
   "execution_count": 2,
   "id": "needed-surfing",
   "metadata": {},
   "outputs": [
    {
     "data": {
      "text/plain": [
       "['kc_rec_nonlin_gnn_gumbel_siamese_l2-Copy1',\n",
       " 'kc_dec',\n",
       " '5x5_1f1c1k_obs',\n",
       " 'server_collect']"
      ]
     },
     "execution_count": 2,
     "metadata": {},
     "output_type": "execute_result"
    }
   ],
   "source": [
    "load_config_files(['../sparse_causal_model_learner_rl/configs/kc_rec_nonlin_gnn_gumbel_siamese_l2-Copy1.gin',\n",
    "                   '../sparse_causal_model_learner_rl/configs/kc_dec.gin',\n",
    "                   '../keychest/config/5x5_1f1c1k_obs.gin',\n",
    "                   '../sparse_causal_model_learner_rl/configs/server_collect.gin'])"
   ]
  },
  {
   "cell_type": "code",
   "execution_count": 3,
   "id": "large-disabled",
   "metadata": {},
   "outputs": [],
   "source": [
    "gin.bind_parameter('Config.env_steps', 5000)\n",
    "gin.bind_parameter('Normalizer.type_', 'meanstd')\n",
    "gin.bind_parameter('ManyNetworkCombinedModel.input_batchnorm', True)"
   ]
  },
  {
   "cell_type": "code",
   "execution_count": 4,
   "id": "qualified-relations",
   "metadata": {},
   "outputs": [
    {
     "name": "stderr",
     "output_type": "stream",
     "text": [
      "2021-02-08 22:32:13,127\tINFO services.py:1092 -- View the Ray dashboard at \u001b[1m\u001b[32mhttp://127.0.0.1:8265\u001b[39m\u001b[22m\n"
     ]
    },
    {
     "data": {
      "text/plain": [
       "{'node_ip_address': '10.90.38.7',\n",
       " 'raylet_ip_address': '10.90.38.7',\n",
       " 'redis_address': '10.90.38.7:6379',\n",
       " 'object_store_address': '/tmp/ray/session_2021-02-08_22-32-12_445601_10470/sockets/plasma_store',\n",
       " 'raylet_socket_name': '/tmp/ray/session_2021-02-08_22-32-12_445601_10470/sockets/raylet',\n",
       " 'webui_url': '127.0.0.1:8265',\n",
       " 'session_dir': '/tmp/ray/session_2021-02-08_22-32-12_445601_10470',\n",
       " 'metrics_export_port': 65443,\n",
       " 'node_id': 'affcf8f35f9ade5ddd623b56d5ad120cab13046d'}"
      ]
     },
     "execution_count": 4,
     "metadata": {},
     "output_type": "execute_result"
    }
   ],
   "source": [
    "ray.init(ignore_reinit_error=True)"
   ]
  },
  {
   "cell_type": "code",
   "execution_count": 5,
   "id": "chief-munich",
   "metadata": {},
   "outputs": [],
   "source": [
    "# gin.bind_parameter('decoder/FCNet.hidden_sizes', [512, 256])\n",
    "# gin.bind_parameter('decoder/FCNet.activation_cls', torch.nn.LeakyReLU)"
   ]
  },
  {
   "cell_type": "code",
   "execution_count": 6,
   "id": "insured-timing",
   "metadata": {},
   "outputs": [],
   "source": [
    "gin.bind_parameter('decoder/FCNet.hidden_sizes', [512])\n",
    "gin.bind_parameter('decoder/FCNet.activation_cls', torch.nn.LeakyReLU)"
   ]
  },
  {
   "cell_type": "code",
   "execution_count": 7,
   "id": "excited-heather",
   "metadata": {},
   "outputs": [
    {
     "name": "stderr",
     "output_type": "stream",
     "text": [
      "2021-02-08 22:32:14,998\tWARNING session.py:20 -- Session not detected. You should not be calling this function outside `tune.run` or while using the class API. \n"
     ]
    },
    {
     "name": "stdout",
     "output_type": "stream",
     "text": [
      "Selecting name 1ca5e6dc-6a55-11eb-8ff1-90e2baa1a248\n",
      "Make environment KeyChest-v0 None {}\n"
     ]
    },
    {
     "data": {
      "application/vnd.jupyter.widget-view+json": {
       "model_id": "afacc115e8ed4f0a931c6f11825c0048",
       "version_major": 2,
       "version_minor": 0
      },
      "text/plain": [
       "HBox(children=(HTML(value='Initial buffer fill'), FloatProgress(value=0.0, max=100000.0), HTML(value='')))"
      ]
     },
     "metadata": {},
     "output_type": "display_data"
    },
    {
     "name": "stdout",
     "output_type": "stream",
     "text": [
      "\u001b[2m\u001b[36m(pid=10769)\u001b[0m Make environment KeyChest-v0 None {}\n",
      "\u001b[2m\u001b[36m(pid=10707)\u001b[0m Make environment KeyChest-v0 None {}\n",
      "\u001b[2m\u001b[36m(pid=10744)\u001b[0m Make environment KeyChest-v0 None {}\n",
      "\u001b[2m\u001b[36m(pid=10704)\u001b[0m Make environment KeyChest-v0 None {}\n",
      "\u001b[2m\u001b[36m(pid=10750)\u001b[0m Make environment KeyChest-v0 None {}\n",
      "\u001b[2m\u001b[36m(pid=10706)\u001b[0m Make environment KeyChest-v0 None {}\n",
      "\u001b[2m\u001b[36m(pid=10732)\u001b[0m Make environment KeyChest-v0 None {}\n",
      "\n"
     ]
    }
   ],
   "source": [
    "learner = CausalModelLearnerRL(Config(ray_kwargs={'address': '127.0.0.1:6379'}))"
   ]
  },
  {
   "cell_type": "code",
   "execution_count": 8,
   "id": "familiar-vessel",
   "metadata": {},
   "outputs": [
    {
     "name": "stderr",
     "output_type": "stream",
     "text": [
      "WARNING:root:No class provided for trainable reconstructor\n",
      "WARNING:root:No class provided for trainable value_predictor\n",
      "WARNING:root:No class provided for trainable causal_feature_model_discriminator\n",
      "WARNING:root:No class provided for trainable decoder_discriminator\n",
      "WARNING:root:Warning: loss fit is used more than once\n",
      "WARNING:root:Warning: loss sparsity is used more than once\n",
      "WARNING:root:Warning: loss non_sparse_fit is used more than once\n",
      "WARNING:root:Warning: loss discriminate_siamese is used more than once\n",
      "WARNING:root:Warning: loss fit_all_on is used more than once\n"
     ]
    }
   ],
   "source": [
    "learner.create_trainables()"
   ]
  },
  {
   "cell_type": "code",
   "execution_count": 9,
   "id": "applied-posting",
   "metadata": {},
   "outputs": [
    {
     "data": {
      "text/plain": [
       "ModelDecoder(\n",
       "  (model): FCNet(\n",
       "    (fc01): Linear(in_features=847, out_features=512, bias=True)\n",
       "    (fc02): Linear(in_features=512, out_features=30, bias=True)\n",
       "  )\n",
       ")"
      ]
     },
     "execution_count": 9,
     "metadata": {},
     "output_type": "execute_result"
    }
   ],
   "source": [
    "learner.decoder"
   ]
  },
  {
   "cell_type": "code",
   "execution_count": 10,
   "id": "transparent-violence",
   "metadata": {},
   "outputs": [],
   "source": [
    "env = learner.env"
   ]
  },
  {
   "cell_type": "code",
   "execution_count": 11,
   "id": "fuzzy-crowd",
   "metadata": {},
   "outputs": [],
   "source": [
    "losses = []\n",
    "dclose = []\n",
    "dfar = []"
   ]
  },
  {
   "cell_type": "code",
   "execution_count": 12,
   "id": "average-ghost",
   "metadata": {},
   "outputs": [],
   "source": [
    "opt = torch.optim.Adam(lr=5e-4, params=learner.decoder.parameters())"
   ]
  },
  {
   "cell_type": "code",
   "execution_count": 13,
   "id": "geological-ebony",
   "metadata": {},
   "outputs": [
    {
     "data": {
      "application/vnd.jupyter.widget-view+json": {
       "model_id": "4268d015dc124453bf125ff79fa721a8",
       "version_major": 2,
       "version_minor": 0
      },
      "text/plain": [
       "HBox(children=(HTML(value=''), FloatProgress(value=0.0, max=1000.0), HTML(value='')))"
      ]
     },
     "metadata": {},
     "output_type": "display_data"
    },
    {
     "name": "stdout",
     "output_type": "stream",
     "text": [
      "\n"
     ]
    }
   ],
   "source": [
    "for i in tqdm(range(1000)):\n",
    "    if i % 1 == 0:\n",
    "        ctx = learner.collect_and_get_context()\n",
    "    \n",
    "    opt.zero_grad()\n",
    "    l_obj = siamese_feature_discriminator_l2(**ctx)\n",
    "    loss = l_obj['loss']\n",
    "    loss.backward()\n",
    "    opt.step()\n",
    "    losses.append(loss.item())\n",
    "    dclose.append(l_obj['metrics']['distance_close'])\n",
    "    dfar.append(l_obj['metrics']['distance_far'])"
   ]
  },
  {
   "cell_type": "code",
   "execution_count": 14,
   "id": "sustained-manor",
   "metadata": {},
   "outputs": [
    {
     "data": {
      "text/plain": [
       "<matplotlib.legend.Legend at 0x7f28306c0950>"
      ]
     },
     "execution_count": 14,
     "metadata": {},
     "output_type": "execute_result"
    },
    {
     "data": {
      "image/png": "[encoded data removed]",
      "text/plain": [
       "<Figure size 432x288 with 1 Axes>"
      ]
     },
     "metadata": {
      "needs_background": "light"
     },
     "output_type": "display_data"
    }
   ],
   "source": [
    "plt.plot(losses, label='loss')\n",
    "plt.plot(dfar, label='dfar')\n",
    "plt.plot(dclose, label='dclose')\n",
    "plt.yscale('log')\n",
    "plt.legend()"
   ]
  },
  {
   "cell_type": "code",
   "execution_count": 15,
   "id": "baking-pontiac",
   "metadata": {},
   "outputs": [
    {
     "data": {
      "text/plain": [
       "(1.254790639904968e-05, 0.0)"
      ]
     },
     "execution_count": 15,
     "metadata": {},
     "output_type": "execute_result"
    }
   ],
   "source": [
    "np.mean(losses[-50:]), np.median(losses[-50:])"
   ]
  },
  {
   "cell_type": "code",
   "execution_count": 16,
   "id": "infrared-picnic",
   "metadata": {},
   "outputs": [],
   "source": [
    "ctx = learner.collect_and_get_context()"
   ]
  },
  {
   "cell_type": "code",
   "execution_count": 17,
   "id": "effective-simulation",
   "metadata": {},
   "outputs": [],
   "source": [
    "features = learner.decoder(ctx['obs'])"
   ]
  },
  {
   "cell_type": "code",
   "execution_count": 18,
   "id": "legislative-student",
   "metadata": {},
   "outputs": [],
   "source": [
    "f = features.detach().cpu().numpy()"
   ]
  },
  {
   "cell_type": "code",
   "execution_count": 19,
   "id": "laden-environment",
   "metadata": {},
   "outputs": [
    {
     "data": {
      "text/plain": [
       "(5000, 30)"
      ]
     },
     "execution_count": 19,
     "metadata": {},
     "output_type": "execute_result"
    }
   ],
   "source": [
    "f.shape"
   ]
  },
  {
   "cell_type": "code",
   "execution_count": 20,
   "id": "attempted-kingdom",
   "metadata": {},
   "outputs": [
    {
     "data": {
      "image/png": "[encoded data removed]",
      "text/plain": [
       "<Figure size 1440x1800 with 30 Axes>"
      ]
     },
     "metadata": {
      "needs_background": "light"
     },
     "output_type": "display_data"
    }
   ],
   "source": [
    "plt.figure(figsize=(20, 25))\n",
    "for i_f in range(f.shape[1]):\n",
    "    plt.subplot(10, 3, i_f + 1)\n",
    "    plt.hist(f[:, i_f])"
   ]
  },
  {
   "cell_type": "code",
   "execution_count": 21,
   "id": "fundamental-tennessee",
   "metadata": {},
   "outputs": [
    {
     "data": {
      "text/plain": [
       "0     0.286823\n",
       "1     0.351891\n",
       "2     0.294834\n",
       "3     0.240049\n",
       "4     0.229546\n",
       "5     0.233679\n",
       "6     0.257142\n",
       "7     0.255866\n",
       "8     0.262657\n",
       "9     0.255194\n",
       "10    0.258937\n",
       "11    0.280983\n",
       "12    0.237424\n",
       "13    0.273704\n",
       "14    0.262539\n",
       "15    0.327901\n",
       "16    0.282581\n",
       "17    0.330764\n",
       "18    0.251023\n",
       "19    0.249325\n",
       "20    0.261375\n",
       "21    0.242134\n",
       "22    0.289969\n",
       "23    0.311151\n",
       "24    0.241054\n",
       "25    0.257778\n",
       "26    0.252906\n",
       "27    0.262243\n",
       "28    0.273386\n",
       "29    0.264926\n",
       "dtype: float32"
      ]
     },
     "execution_count": 21,
     "metadata": {},
     "output_type": "execute_result"
    }
   ],
   "source": [
    "pd.DataFrame(f).std()"
   ]
  },
  {
   "cell_type": "code",
   "execution_count": 22,
   "id": "white-reviewer",
   "metadata": {},
   "outputs": [
    {
     "data": {
      "text/plain": [
       "<AxesSubplot:>"
      ]
     },
     "execution_count": 22,
     "metadata": {},
     "output_type": "execute_result"
    },
    {
     "data": {
      "image/png": "[encoded data removed]",
      "text/plain": [
       "<Figure size 432x288 with 2 Axes>"
      ]
     },
     "metadata": {
      "needs_background": "light"
     },
     "output_type": "display_data"
    }
   ],
   "source": [
    "sns.heatmap(pd.DataFrame(f).corr())"
   ]
  },
  {
   "cell_type": "code",
   "execution_count": 23,
   "id": "recognized-entrepreneur",
   "metadata": {},
   "outputs": [],
   "source": [
    "env.engine.return_rgb = False"
   ]
  },
  {
   "cell_type": "code",
   "execution_count": null,
   "id": "disciplinary-accounting",
   "metadata": {},
   "outputs": [],
   "source": []
  },
  {
   "cell_type": "code",
   "execution_count": 24,
   "id": "vanilla-demographic",
   "metadata": {},
   "outputs": [],
   "source": [
    "gin.bind_parameter('model_gnn/FCCombinedModel.activation_cls', torch.nn.LeakyReLU)\n",
    "gin.bind_parameter('model_gnn/FCCombinedModel.hidden_sizes', [100, 100, 100])"
   ]
  },
  {
   "cell_type": "code",
   "execution_count": 25,
   "id": "seasonal-denial",
   "metadata": {},
   "outputs": [],
   "source": [
    "learner.non_sparse_model.__init__(feature_shape=learner.feature_shape,\n",
    "                                  action_shape=learner.action_shape,\n",
    "                                  additional_feature_shape=learner.additional_feature_shape)\n",
    "learner.non_sparse_model = learner.non_sparse_model.cuda()"
   ]
  },
  {
   "cell_type": "code",
   "execution_count": 26,
   "id": "desirable-theme",
   "metadata": {},
   "outputs": [
    {
     "data": {
      "text/plain": [
       "[LeakyReLU(negative_slope=0.01),\n",
       " LeakyReLU(negative_slope=0.01),\n",
       " LeakyReLU(negative_slope=0.01),\n",
       " None]"
      ]
     },
     "execution_count": 26,
     "metadata": {},
     "output_type": "execute_result"
    }
   ],
   "source": [
    "learner.non_sparse_model.model.model.activation"
   ]
  },
  {
   "cell_type": "code",
   "execution_count": 27,
   "id": "reverse-sullivan",
   "metadata": {},
   "outputs": [
    {
     "data": {
      "text/plain": [
       "ManyNetworkCombinedModel(\n",
       "  (bn): BatchNorm1d(34, eps=1e-05, momentum=0.1, affine=True, track_running_stats=True)\n",
       "  (model): WithInputSwitch(\n",
       "    (switch): LearnableSwitchSimple()\n",
       "    (model): FCCombinedModel(\n",
       "      (fc01): CombinedLinearLayer()\n",
       "      (fc02): CombinedLinearLayer()\n",
       "      (fc03): CombinedLinearLayer()\n",
       "      (fc04): CombinedLinearLayer()\n",
       "    )\n",
       "  )\n",
       ")"
      ]
     },
     "execution_count": 27,
     "metadata": {},
     "output_type": "execute_result"
    }
   ],
   "source": [
    "learner.non_sparse_model"
   ]
  },
  {
   "cell_type": "code",
   "execution_count": 28,
   "id": "reported-trunk",
   "metadata": {},
   "outputs": [
    {
     "data": {
      "text/plain": [
       "False"
      ]
     },
     "execution_count": 28,
     "metadata": {},
     "output_type": "execute_result"
    }
   ],
   "source": [
    "learner.non_sparse_model.model.enable_switch"
   ]
  },
  {
   "cell_type": "code",
   "execution_count": 29,
   "id": "coordinate-alcohol",
   "metadata": {},
   "outputs": [],
   "source": [
    "mins = None\n",
    "maxes = None"
   ]
  },
  {
   "cell_type": "code",
   "execution_count": 30,
   "id": "joined-crossing",
   "metadata": {},
   "outputs": [],
   "source": [
    "def normalize(t, mins, maxes):\n",
    "    return 2 * ((t - mins) / (1e-3 + maxes - mins) - 0.5)"
   ]
  },
  {
   "cell_type": "code",
   "execution_count": 31,
   "id": "practical-geneva",
   "metadata": {},
   "outputs": [],
   "source": [
    "class AdhocWorldModel(nn.Module):\n",
    "    def __init__(self):\n",
    "        super(AdhocWorldModel, self).__init__()\n",
    "        dim = 60\n",
    "        self.bn = torch.nn.BatchNorm1d(num_features=34)\n",
    "        self.fc1 = nn.Linear(in_features=34, out_features=dim)\n",
    "        self.fc2 = nn.Linear(in_features=dim, out_features=dim)\n",
    "        self.fc3 = nn.Linear(in_features=dim, out_features=dim)\n",
    "        self.fc4 = nn.Linear(in_features=dim, out_features=32)\n",
    "        self.activation = nn.Tanh()\n",
    "        \n",
    "    def forward(self, f_t, a_t, all):\n",
    "        x = torch.cat([f_t, a_t], dim=1)\n",
    "        \n",
    "        x = self.bn(x)\n",
    "        \n",
    "        x = self.fc1(x)\n",
    "        x = self.activation(x)\n",
    "        \n",
    "        x = self.fc2(x)\n",
    "        x = self.activation(x)\n",
    "        \n",
    "        x = self.fc3(x)\n",
    "        x = self.activation(x)\n",
    "        \n",
    "        x = self.fc4(x)\n",
    "        return x"
   ]
  },
  {
   "cell_type": "code",
   "execution_count": 32,
   "id": "retained-navigator",
   "metadata": {},
   "outputs": [],
   "source": [
    "losses = []\n",
    "metrics = []\n",
    "losses_emb = []\n",
    "losses_fit = []\n",
    "ctx_set = False"
   ]
  },
  {
   "cell_type": "code",
   "execution_count": 33,
   "id": "dressed-scientist",
   "metadata": {},
   "outputs": [],
   "source": [
    "use_model = learner.non_sparse_model\n",
    "#use_model = AdhocWorldModel().cuda()"
   ]
  },
  {
   "cell_type": "code",
   "execution_count": 34,
   "id": "enormous-angola",
   "metadata": {},
   "outputs": [],
   "source": [
    "gin.bind_parameter('decoder/FCNet.hidden_sizes', [512])\n",
    "gin.bind_parameter('decoder/FCNet.activation_cls', torch.nn.LeakyReLU)"
   ]
  },
  {
   "cell_type": "code",
   "execution_count": 35,
   "id": "manufactured-today",
   "metadata": {},
   "outputs": [],
   "source": [
    "learner.decoder.__init__(observation_shape=learner.observation_shape,\n",
    "                         feature_shape=learner.feature_shape)\n",
    "learner.decoder = learner.decoder.cuda()"
   ]
  },
  {
   "cell_type": "code",
   "execution_count": 36,
   "id": "active-effect",
   "metadata": {},
   "outputs": [],
   "source": [
    "opt = torch.optim.Adam(lr=1e-4, params=list(use_model.parameters())+list(learner.decoder.parameters()))"
   ]
  },
  {
   "cell_type": "code",
   "execution_count": 37,
   "id": "baking-scheduling",
   "metadata": {},
   "outputs": [],
   "source": [
    "def fit_loss(obs_x, obs_y, action_x, decoder, model, additional_feature_keys,\n",
    "             model_forward_kwargs=None,\n",
    "             fill_switch_grad=False,\n",
    "             opt_label=None,\n",
    "             divide_by_std=False,\n",
    "             std_eps=0.05,\n",
    "             **kwargs):\n",
    "    \"\"\"Ensure that the model fits the features data.\"\"\"\n",
    "\n",
    "    if model_forward_kwargs is None:\n",
    "        model_forward_kwargs = {}\n",
    "    \n",
    "    f_t1 = decoder(obs_y)#.detach()\n",
    "        \n",
    "    have_additional = False\n",
    "    if additional_feature_keys:\n",
    "        have_additional = True\n",
    "        add_features_y = torch.cat([kwargs[k] for k in additional_feature_keys], dim=1)\n",
    "        \n",
    "        # WARNING: zeroing output features\n",
    "#         f_t1 = torch.zeros_like(f_t1)\n",
    "        f_t1 = torch.cat([f_t1, add_features_y], dim=1)\n",
    "        \n",
    "    # detaching second part like in q-learning makes the loss jitter\n",
    "\n",
    "    f_t1_pred = model(decoder(obs_x), action_x, all=have_additional, **model_forward_kwargs)\n",
    "\n",
    "    loss = (f_t1_pred - f_t1).pow(2)\n",
    "    loss = loss.sum(1).mean()\n",
    "\n",
    "    metrics = {'mean_feature': f_t1.mean(0).detach().cpu().numpy(),\n",
    "               'std_feature': f_t1.std(0).detach().cpu().numpy(),\n",
    "               'min_feature': f_t1.min().item(),\n",
    "               'max_feature': f_t1.max().item(),\n",
    "               #'std_feature_avg': f_t1_std.detach().cpu().numpy() if f_t1_std is not None else 0.0,\n",
    "               #'inv_std_feature_avg': 1/f_t1_std.detach().cpu().numpy() if f_t1_std is not None else 0.0\n",
    "              }\n",
    "\n",
    "    return {'loss': loss,\n",
    "            'metrics': metrics}"
   ]
  },
  {
   "cell_type": "code",
   "execution_count": null,
   "id": "quantitative-superior",
   "metadata": {},
   "outputs": [],
   "source": []
  },
  {
   "cell_type": "code",
   "execution_count": 38,
   "id": "utility-mississippi",
   "metadata": {},
   "outputs": [
    {
     "data": {
      "text/plain": [
       "[tensor(-4.3576e-06, device='cuda:0'),\n",
       " tensor(0.0006, device='cuda:0'),\n",
       " tensor(4.3873e-05, device='cuda:0'),\n",
       " tensor(0.0023, device='cuda:0')]"
      ]
     },
     "execution_count": 38,
     "metadata": {},
     "output_type": "execute_result"
    }
   ],
   "source": [
    "[x.mean() for x in learner.decoder.state_dict().values()]"
   ]
  },
  {
   "cell_type": "code",
   "execution_count": null,
   "id": "annual-pollution",
   "metadata": {},
   "outputs": [
    {
     "data": {
      "application/vnd.jupyter.widget-view+json": {
       "model_id": "144c136b532e43279d673f2f18354407",
       "version_major": 2,
       "version_minor": 0
      },
      "text/plain": [
       "HBox(children=(HTML(value=''), FloatProgress(value=0.0, max=500000.0), HTML(value='')))"
      ]
     },
     "metadata": {},
     "output_type": "display_data"
    }
   ],
   "source": [
    "for i in tqdm(range(500000)):\n",
    "    if i % 1 == 0 or not ctx_set:\n",
    "        ctx_set = True\n",
    "        ctx = learner.collect_and_get_context()\n",
    "        \n",
    "#         if mins is None or maxes is None:\n",
    "#             print(\"Computing minmax\")\n",
    "#             f_all = learner.decoder(ctx['obs'])\n",
    "#             mins = f_all.min(dim=0, keepdim=True).values.detach()\n",
    "#             maxes = f_all.max(dim=0, keepdim=True).values.detach()\n",
    "        \n",
    "#         f_t1 = learner.decoder(ctx['obs_y'])#.detach()\n",
    "#         f_t = learner.decoder(ctx['obs_x'])#.detach()\n",
    "        \n",
    "# #         f_t1 = normalize(f_t1, mins, maxes)\n",
    "# #         f_t = normalize(f_t, mins, maxes)\n",
    "        \n",
    "#         add_features_y = torch.cat([ctx[k] for k in ctx['additional_feature_keys']], dim=1)\n",
    "#         f_t1 = torch.cat([f_t1, add_features_y], dim=1)\n",
    "        \n",
    "#     f_t1_pred = use_model(\n",
    "#         f_t,\n",
    "#         ctx['action_x'],\n",
    "#         all=True)\n",
    "    \n",
    "    ctx['non_sparse_model_add'] = use_model\n",
    "#     ctx['additional_feature_keys'] = []\n",
    "    l_obj_emb = siamese_feature_discriminator_l2(**ctx)\n",
    "    l_obj_fit = context_rewriter(function=fit_loss, rewrite={'model': 'non_sparse_model_add'},\n",
    "                                 divide_by_std=False,\n",
    "                                 **ctx)\n",
    "    loss = l_obj_fit['loss'] + l_obj_emb['loss']\n",
    "\n",
    "    \n",
    "#     loss = nn.MSELoss()(f_t1, f_t1_pred)\n",
    "\n",
    "    \n",
    "    opt.zero_grad()\n",
    "    loss.backward()\n",
    "    opt.step()\n",
    "    losses.append(loss.item())\n",
    "    losses_emb.append(l_obj_emb['loss'].item())\n",
    "    losses_fit.append(l_obj_fit['loss'].item())\n",
    "    m = {}\n",
    "    m.update(l_obj_fit['metrics'])\n",
    "    m.update(l_obj_emb['metrics'])\n",
    "    metrics.append(m)"
   ]
  },
  {
   "cell_type": "code",
   "execution_count": 42,
   "id": "norman-vacuum",
   "metadata": {},
   "outputs": [
    {
     "data": {
      "text/plain": [
       "<matplotlib.legend.Legend at 0x7f145f4752d0>"
      ]
     },
     "execution_count": 42,
     "metadata": {},
     "output_type": "execute_result"
    },
    {
     "data": {
      "image/png": "[encoded data removed]",
      "text/plain": [
       "<Figure size 432x288 with 1 Axes>"
      ]
     },
     "metadata": {
      "needs_background": "light"
     },
     "output_type": "display_data"
    }
   ],
   "source": [
    "plt.plot(losses, label='loss')\n",
    "plt.plot(losses_emb, label='emb')\n",
    "plt.plot(losses_fit, label='fit')\n",
    "#plt.plot(dplus, label='dplus')\n",
    "plt.yscale('log')\n",
    "plt.legend()"
   ]
  },
  {
   "cell_type": "code",
   "execution_count": 67,
   "id": "stylish-final",
   "metadata": {},
   "outputs": [
    {
     "data": {
      "application/javascript": [
       "var jq = document.createElement('script');\n",
       "jq.src = \"https://ajax.googleapis.com/ajax/libs/jquery/2.1.4/jquery.min.js\";\n",
       "document.getElementsByTagName('head')[0].appendChild(jq);\n"
      ],
      "text/plain": [
       "<IPython.core.display.Javascript object>"
      ]
     },
     "metadata": {},
     "output_type": "display_data"
    }
   ],
   "source": [
    "%%javascript\n",
    "var jq = document.createElement('script');\n",
    "jq.src = \"https://ajax.googleapis.com/ajax/libs/jquery/2.1.4/jquery.min.js\";\n",
    "document.getElementsByTagName('head')[0].appendChild(jq);"
   ]
  },
  {
   "cell_type": "code",
   "execution_count": 68,
   "id": "organizational-entry",
   "metadata": {},
   "outputs": [
    {
     "name": "stdout",
     "output_type": "stream",
     "text": [
      "The jupyternotify extension is already loaded. To reload it, use:\n",
      "  %reload_ext jupyternotify\n"
     ]
    }
   ],
   "source": [
    "%load_ext jupyternotify\n",
    "%autonotify -a 30"
   ]
  },
  {
   "cell_type": "code",
   "execution_count": 69,
   "id": "distinct-customer",
   "metadata": {},
   "outputs": [],
   "source": [
    "f_t1 = learner.decoder(ctx['obs_y'])#.detach()\n",
    "f_t = learner.decoder(ctx['obs_x'])#.detach()\n",
    "\n",
    "#         f_t1 = normalize(f_t1, mins, maxes)\n",
    "#         f_t = normalize(f_t, mins, maxes)\n",
    "\n",
    "add_features_y = torch.cat([ctx[k] for k in ctx['additional_feature_keys']], dim=1)\n",
    "# f_t1 = torch.zeros_like(f_t1)\n",
    "f_t1 = torch.cat([f_t1, add_features_y], dim=1)\n",
    "\n",
    "f_t1_pred = use_model(\n",
    "f_t,\n",
    "ctx['action_x'],\n",
    "all=True)\n"
   ]
  },
  {
   "cell_type": "code",
   "execution_count": 71,
   "id": "involved-explanation",
   "metadata": {},
   "outputs": [
    {
     "data": {
      "text/plain": [
       "<AxesSubplot:>"
      ]
     },
     "execution_count": 71,
     "metadata": {},
     "output_type": "execute_result"
    },
    {
     "data": {
      "image/png": "[encoded data removed]",
      "text/plain": [
       "<Figure size 432x288 with 2 Axes>"
      ]
     },
     "metadata": {
      "needs_background": "light"
     },
     "output_type": "display_data"
    }
   ],
   "source": [
    "sns.heatmap((f_t1_pred - f_t1).pow(2).mean(0).cpu().detach().numpy().reshape(-1, 1), vmin=0)"
   ]
  },
  {
   "cell_type": "code",
   "execution_count": 72,
   "id": "coastal-recommendation",
   "metadata": {},
   "outputs": [
    {
     "data": {
      "image/png": "[encoded data removed]",
      "text/plain": [
       "<Figure size 432x288 with 1 Axes>"
      ]
     },
     "metadata": {
      "needs_background": "light"
     },
     "output_type": "display_data"
    }
   ],
   "source": [
    "metrics_dct = lstdct2dctlst(metrics)\n",
    "for key, vals in metrics_dct.items():\n",
    "    if len(np.array(vals).shape) > 1: continue\n",
    "    plt.plot(vals, label=key)\n",
    "plt.legend()\n",
    "plt.show()"
   ]
  },
  {
   "cell_type": "code",
   "execution_count": 48,
   "id": "indie-documentation",
   "metadata": {},
   "outputs": [
    {
     "data": {
      "text/plain": [
       "dict_keys(['mean_feature', 'std_feature', 'min_feature', 'max_feature', 'distance_plus', 'distance_minus'])"
      ]
     },
     "execution_count": 48,
     "metadata": {},
     "output_type": "execute_result"
    }
   ],
   "source": [
    "metrics_dct.keys()"
   ]
  },
  {
   "cell_type": "code",
   "execution_count": 49,
   "id": "urban-current",
   "metadata": {},
   "outputs": [
    {
     "data": {
      "text/plain": [
       "0.018160220235586166"
      ]
     },
     "execution_count": 49,
     "metadata": {},
     "output_type": "execute_result"
    }
   ],
   "source": [
    "losses[-1]"
   ]
  },
  {
   "cell_type": "code",
   "execution_count": 50,
   "id": "designing-double",
   "metadata": {},
   "outputs": [
    {
     "data": {
      "text/plain": [
       "tensor(-0.2716, device='cuda:0', grad_fn=<MinBackward1>)"
      ]
     },
     "execution_count": 50,
     "metadata": {},
     "output_type": "execute_result"
    }
   ],
   "source": [
    "learner.decoder(ctx['obs_x']).min()"
   ]
  },
  {
   "cell_type": "code",
   "execution_count": 51,
   "id": "combined-commission",
   "metadata": {},
   "outputs": [],
   "source": [
    "# metrics_dct['']"
   ]
  },
  {
   "cell_type": "code",
   "execution_count": null,
   "id": "placed-sheep",
   "metadata": {},
   "outputs": [],
   "source": []
  }
 ],
 "metadata": {
  "kernelspec": {
   "display_name": "Python 3",
   "language": "python",
   "name": "python3"
  },
  "language_info": {
   "codemirror_mode": {
    "name": "ipython",
    "version": 3
   },
   "file_extension": ".py",
   "mimetype": "text/x-python",
   "name": "python",
   "nbconvert_exporter": "python",
   "pygments_lexer": "ipython3",
   "version": "3.7.9"
  }
 },
 "nbformat": 4,
 "nbformat_minor": 5
}
