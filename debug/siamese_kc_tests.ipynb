{
 "cells": [
  {
   "cell_type": "code",
   "execution_count": 1,
   "metadata": {},
   "outputs": [],
   "source": [
    "import os\n",
    "os.environ['CUDA_VISIBLE_DEVICES'] = \"0\"\n",
    "import numpy as np\n",
    "from matplotlib import pyplot as plt\n",
    "import seaborn as sns\n",
    "import pandas as pd\n",
    "from tqdm.auto import tqdm\n",
    "import torch\n",
    "from torch import nn\n",
    "import gin\n",
    "import ray\n",
    "import pickle\n",
    "import io\n",
    "gin.enter_interactive_mode()\n",
    "from causal_util import load_env\n",
    "from causal_util.helpers import lstdct2dctlst\n",
    "from sparse_causal_model_learner_rl.loss.losses import fit_loss\n",
    "from sparse_causal_model_learner_rl.loss.causal_discriminator import siamese_feature_discriminator_l2\n",
    "\n",
    "from sparse_causal_model_learner_rl.metrics.context_rewrite import context_rewriter\n",
    "from sparse_causal_model_learner_rl.visual.learner_visual import graph_for_matrices\n",
    "from sparse_causal_model_learner_rl.config import Config\n",
    "from sparse_causal_model_learner_rl.sacred_gin_tune.sacred_wrapper import load_config_files\n",
    "from sparse_causal_model_learner_rl.learners.rl_learner import CausalModelLearnerRL"
   ]
  },
  {
   "cell_type": "code",
   "execution_count": 2,
   "metadata": {},
   "outputs": [
    {
     "data": {
      "text/plain": [
       "['kc_rec_nonlin_gnn_gumbel_siamese_l2-Copy1', 'kc_dec', '5x5_1f1c1k_obs']"
      ]
     },
     "execution_count": 2,
     "metadata": {},
     "output_type": "execute_result"
    }
   ],
   "source": [
    "load_config_files(['../sparse_causal_model_learner_rl/configs/kc_rec_nonlin_gnn_gumbel_siamese_l2-Copy1.gin',\n",
    "                   '../sparse_causal_model_learner_rl/configs/kc_dec.gin',\n",
    "                   '../keychest/config/5x5_1f1c1k_obs.gin'])"
   ]
  },
  {
   "cell_type": "code",
   "execution_count": 6,
   "metadata": {},
   "outputs": [],
   "source": [
    "gin.bind_parameter('Config.collect_remotely', True)\n",
    "gin.bind_parameter('Config.n_collectors', 9)\n",
    "gin.bind_parameter('Config.env_steps', 5000)\n",
    "gin.bind_parameter('Config.future_buffer_size', 30)\n",
    "gin.bind_parameter('Normalizer.type_', 'meanstd')\n",
    "gin.bind_parameter('ManyNetworkCombinedModel.input_batchnorm', True)"
   ]
  },
  {
   "cell_type": "code",
   "execution_count": 7,
   "metadata": {},
   "outputs": [
    {
     "name": "stderr",
     "output_type": "stream",
     "text": [
      "2021-02-05 16:25:02,884\tERROR worker.py:660 -- Calling ray.init() again after it has already been called.\n"
     ]
    }
   ],
   "source": [
    "ray.init(ignore_reinit_error=True)"
   ]
  },
  {
   "cell_type": "code",
   "execution_count": 8,
   "metadata": {},
   "outputs": [],
   "source": [
    "gin.bind_parameter('decoder/FCNet.hidden_sizes', [512])\n",
    "gin.bind_parameter('decoder/FCNet.activation_cls', torch.nn.LeakyReLU)"
   ]
  },
  {
   "cell_type": "code",
   "execution_count": 9,
   "metadata": {},
   "outputs": [
    {
     "name": "stderr",
     "output_type": "stream",
     "text": [
      "2021-02-05 16:25:04,328\tWARNING session.py:20 -- Session not detected. You should not be calling this function outside `tune.run` or while using the class API. \n"
     ]
    },
    {
     "name": "stdout",
     "output_type": "stream",
     "text": [
      "Selecting name 521e86d4-67c6-11eb-8cea-27b3d2a97921\n",
      "Make environment KeyChest-v0 None {}\n"
     ]
    }
   ],
   "source": [
    "learner = CausalModelLearnerRL(Config(ray_kwargs={'address': '127.0.0.1:6379'}))"
   ]
  },
  {
   "cell_type": "code",
   "execution_count": 10,
   "metadata": {},
   "outputs": [
    {
     "name": "stderr",
     "output_type": "stream",
     "text": [
      "WARNING:root:No class provided for trainable reconstructor\n",
      "WARNING:root:No class provided for trainable value_predictor\n",
      "WARNING:root:No class provided for trainable causal_feature_model_discriminator\n",
      "WARNING:root:No class provided for trainable decoder_discriminator\n"
     ]
    },
    {
     "name": "stdout",
     "output_type": "stream",
     "text": [
      "\u001b[2m\u001b[36m(pid=27940)\u001b[0m Make environment KeyChest-v0 None {}\n",
      "\u001b[2m\u001b[36m(pid=27933)\u001b[0m Make environment KeyChest-v0 None {}\n",
      "\u001b[2m\u001b[36m(pid=27932)\u001b[0m Make environment KeyChest-v0 None {}\n",
      "\u001b[2m\u001b[36m(pid=27935)\u001b[0m Make environment KeyChest-v0 None {}\n",
      "\u001b[2m\u001b[36m(pid=27931)\u001b[0m Make environment KeyChest-v0 None {}\n",
      "\u001b[2m\u001b[36m(pid=27938)\u001b[0m Make environment KeyChest-v0 None {}\n",
      "\u001b[2m\u001b[36m(pid=27939)\u001b[0m Make environment KeyChest-v0 None {}\n",
      "\u001b[2m\u001b[36m(pid=27936)\u001b[0m Make environment KeyChest-v0 None {}\n",
      "\u001b[2m\u001b[36m(pid=27934)\u001b[0m Make environment KeyChest-v0 None {}\n"
     ]
    },
    {
     "name": "stderr",
     "output_type": "stream",
     "text": [
      "WARNING:root:Warning: loss fit is used more than once\n",
      "WARNING:root:Warning: loss sparsity is used more than once\n",
      "WARNING:root:Warning: loss non_sparse_fit is used more than once\n",
      "WARNING:root:Warning: loss discriminate_siamese is used more than once\n",
      "WARNING:root:Warning: loss fit_all_on is used more than once\n"
     ]
    }
   ],
   "source": [
    "learner.create_trainables()"
   ]
  },
  {
   "cell_type": "code",
   "execution_count": 11,
   "metadata": {},
   "outputs": [],
   "source": [
    "env = learner.env"
   ]
  },
  {
   "cell_type": "code",
   "execution_count": 12,
   "metadata": {},
   "outputs": [],
   "source": [
    "losses = []\n",
    "dplus = []"
   ]
  },
  {
   "cell_type": "code",
   "execution_count": 13,
   "metadata": {},
   "outputs": [],
   "source": [
    "opt = torch.optim.Adam(lr=1e-3, params=learner.decoder.parameters())"
   ]
  },
  {
   "cell_type": "code",
   "execution_count": 16,
   "metadata": {},
   "outputs": [
    {
     "data": {
      "application/vnd.jupyter.widget-view+json": {
       "model_id": "63ecfe95b9104d3098a9ba572f96ce6d",
       "version_major": 2,
       "version_minor": 0
      },
      "text/plain": [
       "HBox(children=(HTML(value=''), FloatProgress(value=0.0, max=1000.0), HTML(value='')))"
      ]
     },
     "metadata": {},
     "output_type": "display_data"
    },
    {
     "name": "stdout",
     "output_type": "stream",
     "text": [
      "\n"
     ]
    }
   ],
   "source": [
    "for i in tqdm(range(1000)):\n",
    "    if i % 1 == 0:\n",
    "        ctx = learner.collect_and_get_context()\n",
    "    \n",
    "    opt.zero_grad()\n",
    "    l_obj = siamese_feature_discriminator_l2(**ctx)\n",
    "    loss = l_obj['loss']\n",
    "    loss.backward()\n",
    "    opt.step()\n",
    "    losses.append(loss.item())\n",
    "    dplus.append(l_obj['metrics']['distance_plus'])"
   ]
  },
  {
   "cell_type": "code",
   "execution_count": 17,
   "metadata": {},
   "outputs": [
    {
     "data": {
      "text/plain": [
       "<matplotlib.legend.Legend at 0x7ff2d12edda0>"
      ]
     },
     "execution_count": 17,
     "metadata": {},
     "output_type": "execute_result"
    },
    {
     "data": {
      "image/png": "[encoded data removed]",
      "text/plain": [
       "<Figure size 432x288 with 1 Axes>"
      ]
     },
     "metadata": {
      "needs_background": "light"
     },
     "output_type": "display_data"
    }
   ],
   "source": [
    "plt.plot(losses, label='loss')\n",
    "plt.plot(dplus, label='dplus')\n",
    "plt.yscale('log')\n",
    "plt.legend()"
   ]
  },
  {
   "cell_type": "code",
   "execution_count": 18,
   "metadata": {},
   "outputs": [
    {
     "data": {
      "text/plain": [
       "(1.3289857106428826e-05, 0.0)"
      ]
     },
     "execution_count": 18,
     "metadata": {},
     "output_type": "execute_result"
    }
   ],
   "source": [
    "np.mean(losses[-50:]), np.median(losses[-50:])"
   ]
  },
  {
   "cell_type": "code",
   "execution_count": 19,
   "metadata": {},
   "outputs": [
    {
     "name": "stderr",
     "output_type": "stream",
     "text": [
      "\u001b[2m\u001b[36m(pid=27932)\u001b[0m E0205 16:34:06.201529 27932 27932 plasma_store_provider.cc:113] Failed to put object 43b4f69ac624688f62223d850100000001000000 in object store because it is full. Object size is 47770427 bytes.\n",
      "\u001b[2m\u001b[36m(pid=27932)\u001b[0m Waiting 1000ms for space to free up...\n",
      "\u001b[2m\u001b[33m(pid=raylet)\u001b[0m E0205 16:34:06.201200 27885 27900 store.cc:256] Not enough memory to create the object 43b4f69ac624688f62223d850100000001000000, data_size=47770427, metadata_size=6, will send a reply of PlasmaError::OutOfMemory\n"
     ]
    }
   ],
   "source": [
    "features = learner.decoder(ctx['obs'])"
   ]
  },
  {
   "cell_type": "code",
   "execution_count": 20,
   "metadata": {},
   "outputs": [],
   "source": [
    "f = features.detach().cpu().numpy()"
   ]
  },
  {
   "cell_type": "code",
   "execution_count": 21,
   "metadata": {},
   "outputs": [
    {
     "data": {
      "text/plain": [
       "(5003, 30)"
      ]
     },
     "execution_count": 21,
     "metadata": {},
     "output_type": "execute_result"
    },
    {
     "name": "stderr",
     "output_type": "stream",
     "text": [
      "\u001b[2m\u001b[36m(pid=27932)\u001b[0m E0205 16:34:07.203457 27932 27932 plasma_store_provider.cc:113] Failed to put object 43b4f69ac624688f62223d850100000001000000 in object store because it is full. Object size is 47770427 bytes.\n",
      "\u001b[2m\u001b[36m(pid=27932)\u001b[0m Waiting 2000ms for space to free up...\n",
      "\u001b[2m\u001b[33m(pid=raylet)\u001b[0m E0205 16:34:07.203158 27885 27900 store.cc:256] Not enough memory to create the object 43b4f69ac624688f62223d850100000001000000, data_size=47770427, metadata_size=6, will send a reply of PlasmaError::OutOfMemory\n"
     ]
    }
   ],
   "source": [
    "f.shape"
   ]
  },
  {
   "cell_type": "code",
   "execution_count": 22,
   "metadata": {},
   "outputs": [
    {
     "name": "stderr",
     "output_type": "stream",
     "text": [
      "\u001b[2m\u001b[36m(pid=27932)\u001b[0m E0205 16:34:09.204057 27932 27932 plasma_store_provider.cc:113] Failed to put object 43b4f69ac624688f62223d850100000001000000 in object store because it is full. Object size is 47770427 bytes.\n",
      "\u001b[2m\u001b[36m(pid=27932)\u001b[0m Waiting 4000ms for space to free up...\n",
      "\u001b[2m\u001b[33m(pid=raylet)\u001b[0m E0205 16:34:09.203913 27885 27900 store.cc:256] Not enough memory to create the object 43b4f69ac624688f62223d850100000001000000, data_size=47770427, metadata_size=6, will send a reply of PlasmaError::OutOfMemory\n"
     ]
    },
    {
     "data": {
      "image/png": "[encoded data removed]",
      "text/plain": [
       "<Figure size 1800x720 with 30 Axes>"
      ]
     },
     "metadata": {
      "needs_background": "light"
     },
     "output_type": "display_data"
    }
   ],
   "source": [
    "plt.figure(figsize=(25, 10))\n",
    "for i_f in range(f.shape[1]):\n",
    "    plt.subplot(6, 5, i_f + 1)\n",
    "    plt.hist(f[:, i_f])"
   ]
  },
  {
   "cell_type": "code",
   "execution_count": 23,
   "metadata": {},
   "outputs": [
    {
     "data": {
      "text/plain": [
       "0     0.426376\n",
       "1     0.407284\n",
       "2     0.471596\n",
       "3     0.588694\n",
       "4     0.520969\n",
       "5     0.356395\n",
       "6     0.449720\n",
       "7     0.459571\n",
       "8     0.372931\n",
       "9     0.529490\n",
       "10    0.410509\n",
       "11    0.342158\n",
       "12    0.676864\n",
       "13    0.339311\n",
       "14    0.396974\n",
       "15    0.448323\n",
       "16    0.334249\n",
       "17    0.310742\n",
       "18    0.581641\n",
       "19    0.330677\n",
       "20    0.427593\n",
       "21    0.834329\n",
       "22    0.426222\n",
       "23    0.363941\n",
       "24    0.398915\n",
       "25    0.471837\n",
       "26    0.568476\n",
       "27    0.394917\n",
       "28    0.345070\n",
       "29    0.680820\n",
       "dtype: float32"
      ]
     },
     "execution_count": 23,
     "metadata": {},
     "output_type": "execute_result"
    }
   ],
   "source": [
    "pd.DataFrame(f).std()"
   ]
  },
  {
   "cell_type": "code",
   "execution_count": 24,
   "metadata": {},
   "outputs": [
    {
     "data": {
      "text/plain": [
       "<AxesSubplot:>"
      ]
     },
     "execution_count": 24,
     "metadata": {},
     "output_type": "execute_result"
    },
    {
     "data": {
      "image/png": "[encoded data removed]",
      "text/plain": [
       "<Figure size 432x288 with 2 Axes>"
      ]
     },
     "metadata": {
      "needs_background": "light"
     },
     "output_type": "display_data"
    }
   ],
   "source": [
    "sns.heatmap(pd.DataFrame(f).corr())"
   ]
  },
  {
   "cell_type": "code",
   "execution_count": 25,
   "metadata": {},
   "outputs": [
    {
     "name": "stderr",
     "output_type": "stream",
     "text": [
      "\u001b[2m\u001b[36m(pid=27932)\u001b[0m E0205 16:34:13.204586 27932 27932 plasma_store_provider.cc:113] Failed to put object 43b4f69ac624688f62223d850100000001000000 in object store because it is full. Object size is 47770427 bytes.\n",
      "\u001b[2m\u001b[36m(pid=27932)\u001b[0m Waiting 8000ms for space to free up...\n",
      "\u001b[2m\u001b[33m(pid=raylet)\u001b[0m E0205 16:34:13.204452 27885 27900 store.cc:256] Not enough memory to create the object 43b4f69ac624688f62223d850100000001000000, data_size=47770427, metadata_size=6, will send a reply of PlasmaError::OutOfMemory\n"
     ]
    }
   ],
   "source": [
    "env.engine.return_rgb = False"
   ]
  },
  {
   "cell_type": "code",
   "execution_count": null,
   "metadata": {},
   "outputs": [],
   "source": []
  },
  {
   "cell_type": "code",
   "execution_count": 47,
   "metadata": {},
   "outputs": [],
   "source": [
    "gin.bind_parameter('model_gnn/FCCombinedModel.activation_cls', torch.nn.LeakyReLU)\n",
    "gin.bind_parameter('model_gnn/FCCombinedModel.hidden_sizes', [100, 100, 100])"
   ]
  },
  {
   "cell_type": "code",
   "execution_count": 48,
   "metadata": {},
   "outputs": [],
   "source": [
    "learner.non_sparse_model.__init__(feature_shape=learner.feature_shape,\n",
    "                                  action_shape=learner.action_shape,\n",
    "                                  additional_feature_shape=learner.additional_feature_shape)\n",
    "learner.non_sparse_model = learner.non_sparse_model.cuda()"
   ]
  },
  {
   "cell_type": "code",
   "execution_count": 49,
   "metadata": {},
   "outputs": [
    {
     "data": {
      "text/plain": [
       "[LeakyReLU(negative_slope=0.01),\n",
       " LeakyReLU(negative_slope=0.01),\n",
       " LeakyReLU(negative_slope=0.01),\n",
       " None]"
      ]
     },
     "execution_count": 49,
     "metadata": {},
     "output_type": "execute_result"
    }
   ],
   "source": [
    "learner.non_sparse_model.model.model.activation"
   ]
  },
  {
   "cell_type": "code",
   "execution_count": 50,
   "metadata": {},
   "outputs": [
    {
     "data": {
      "text/plain": [
       "ManyNetworkCombinedModel(\n",
       "  (bn): BatchNorm1d(34, eps=1e-05, momentum=0.1, affine=True, track_running_stats=True)\n",
       "  (model): WithInputSwitch(\n",
       "    (switch): LearnableSwitchSimple()\n",
       "    (model): FCCombinedModel(\n",
       "      (fc01): CombinedLinearLayer()\n",
       "      (fc02): CombinedLinearLayer()\n",
       "      (fc03): CombinedLinearLayer()\n",
       "      (fc04): CombinedLinearLayer()\n",
       "    )\n",
       "  )\n",
       ")"
      ]
     },
     "execution_count": 50,
     "metadata": {},
     "output_type": "execute_result"
    }
   ],
   "source": [
    "learner.non_sparse_model"
   ]
  },
  {
   "cell_type": "code",
   "execution_count": 51,
   "metadata": {},
   "outputs": [
    {
     "data": {
      "text/plain": [
       "False"
      ]
     },
     "execution_count": 51,
     "metadata": {},
     "output_type": "execute_result"
    }
   ],
   "source": [
    "learner.non_sparse_model.model.enable_switch"
   ]
  },
  {
   "cell_type": "code",
   "execution_count": 52,
   "metadata": {},
   "outputs": [],
   "source": [
    "mins = None\n",
    "maxes = None"
   ]
  },
  {
   "cell_type": "code",
   "execution_count": 53,
   "metadata": {},
   "outputs": [],
   "source": [
    "def normalize(t, mins, maxes):\n",
    "    return 2 * ((t - mins) / (1e-3 + maxes - mins) - 0.5)"
   ]
  },
  {
   "cell_type": "code",
   "execution_count": 54,
   "metadata": {},
   "outputs": [],
   "source": [
    "class AdhocWorldModel(nn.Module):\n",
    "    def __init__(self):\n",
    "        super(AdhocWorldModel, self).__init__()\n",
    "        dim = 60\n",
    "        self.bn = torch.nn.BatchNorm1d(num_features=34)\n",
    "        self.fc1 = nn.Linear(in_features=34, out_features=dim)\n",
    "        self.fc2 = nn.Linear(in_features=dim, out_features=dim)\n",
    "        self.fc3 = nn.Linear(in_features=dim, out_features=dim)\n",
    "        self.fc4 = nn.Linear(in_features=dim, out_features=32)\n",
    "        self.activation = nn.Tanh()\n",
    "        \n",
    "    def forward(self, f_t, a_t, all):\n",
    "        x = torch.cat([f_t, a_t], dim=1)\n",
    "        \n",
    "        x = self.bn(x)\n",
    "        \n",
    "        x = self.fc1(x)\n",
    "        x = self.activation(x)\n",
    "        \n",
    "        x = self.fc2(x)\n",
    "        x = self.activation(x)\n",
    "        \n",
    "        x = self.fc3(x)\n",
    "        x = self.activation(x)\n",
    "        \n",
    "        x = self.fc4(x)\n",
    "        return x"
   ]
  },
  {
   "cell_type": "code",
   "execution_count": 78,
   "metadata": {},
   "outputs": [],
   "source": [
    "losses = []\n",
    "metrics = []\n",
    "losses_emb = []\n",
    "losses_fit = []"
   ]
  },
  {
   "cell_type": "code",
   "execution_count": 79,
   "metadata": {},
   "outputs": [],
   "source": [
    "#use_model = learner.non_sparse_model\n",
    "use_model = AdhocWorldModel().cuda()"
   ]
  },
  {
   "cell_type": "code",
   "execution_count": 80,
   "metadata": {},
   "outputs": [],
   "source": [
    "gin.bind_parameter('decoder/FCNet.hidden_sizes', [512])\n",
    "gin.bind_parameter('decoder/FCNet.activation_cls', torch.nn.LeakyReLU)"
   ]
  },
  {
   "cell_type": "code",
   "execution_count": 81,
   "metadata": {},
   "outputs": [],
   "source": [
    "learner.decoder.__init__(observation_shape=learner.observation_shape,\n",
    "                         feature_shape=learner.feature_shape)\n",
    "learner.decoder = learner.decoder.cuda()"
   ]
  },
  {
   "cell_type": "code",
   "execution_count": 82,
   "metadata": {},
   "outputs": [],
   "source": [
    "opt = torch.optim.Adam(lr=1e-3, params=list(use_model.parameters())+list(learner.decoder.parameters()))"
   ]
  },
  {
   "cell_type": "code",
   "execution_count": 83,
   "metadata": {},
   "outputs": [],
   "source": [
    "def fit_loss(obs_x, obs_y, action_x, decoder, model, additional_feature_keys,\n",
    "             model_forward_kwargs=None,\n",
    "             fill_switch_grad=False,\n",
    "             opt_label=None,\n",
    "             divide_by_std=False,\n",
    "             std_eps=0.05,\n",
    "             **kwargs):\n",
    "    \"\"\"Ensure that the model fits the features data.\"\"\"\n",
    "\n",
    "    if model_forward_kwargs is None:\n",
    "        model_forward_kwargs = {}\n",
    "    \n",
    "    f_t1 = decoder(obs_y)#.detach()\n",
    "        \n",
    "    have_additional = False\n",
    "    if additional_feature_keys:\n",
    "        have_additional = True\n",
    "        add_features_y = torch.cat([kwargs[k] for k in additional_feature_keys], dim=1)\n",
    "        \n",
    "        # WARNING: zeroing output features\n",
    "#         f_t1 = torch.zeros_like(f_t1)\n",
    "        f_t1 = torch.cat([f_t1, add_features_y], dim=1)\n",
    "        \n",
    "    # detaching second part like in q-learning makes the loss jitter\n",
    "\n",
    "    f_t1_pred = model(decoder(obs_x), action_x, all=have_additional, **model_forward_kwargs)\n",
    "\n",
    "    loss = (f_t1_pred - f_t1).pow(2)\n",
    "    loss = loss.sum(1).mean()\n",
    "\n",
    "    metrics = {'mean_feature': f_t1.mean(0).detach().cpu().numpy(),\n",
    "               'std_feature': f_t1.std(0).detach().cpu().numpy(),\n",
    "               'min_feature': f_t1.min().item(),\n",
    "               'max_feature': f_t1.max().item(),\n",
    "               #'std_feature_avg': f_t1_std.detach().cpu().numpy() if f_t1_std is not None else 0.0,\n",
    "               #'inv_std_feature_avg': 1/f_t1_std.detach().cpu().numpy() if f_t1_std is not None else 0.0\n",
    "              }\n",
    "\n",
    "    return {'loss': loss,\n",
    "            'metrics': metrics}"
   ]
  },
  {
   "cell_type": "code",
   "execution_count": 84,
   "metadata": {},
   "outputs": [
    {
     "data": {
      "text/plain": [
       "[tensor(-7.1260e-05, device='cuda:0'),\n",
       " tensor(-0.0004, device='cuda:0'),\n",
       " tensor(-0.0002, device='cuda:0'),\n",
       " tensor(-0.0099, device='cuda:0')]"
      ]
     },
     "execution_count": 84,
     "metadata": {},
     "output_type": "execute_result"
    }
   ],
   "source": [
    "[x.mean() for x in learner.decoder.state_dict().values()]"
   ]
  },
  {
   "cell_type": "code",
   "execution_count": 88,
   "metadata": {},
   "outputs": [
    {
     "data": {
      "application/vnd.jupyter.widget-view+json": {
       "model_id": "96e5564b956a470fbfeea2bce4645835",
       "version_major": 2,
       "version_minor": 0
      },
      "text/plain": [
       "HBox(children=(HTML(value=''), FloatProgress(value=0.0, max=10000.0), HTML(value='')))"
      ]
     },
     "metadata": {},
     "output_type": "display_data"
    },
    {
     "name": "stdout",
     "output_type": "stream",
     "text": [
      "\n"
     ]
    },
    {
     "ename": "KeyboardInterrupt",
     "evalue": "",
     "output_type": "error",
     "traceback": [
      "\u001b[0;31m---------------------------------------------------------------------------\u001b[0m",
      "\u001b[0;31mKeyboardInterrupt\u001b[0m                         Traceback (most recent call last)",
      "\u001b[0;32m<ipython-input-88-3ee75babf84d>\u001b[0m in \u001b[0;36m<module>\u001b[0;34m\u001b[0m\n\u001b[1;32m     30\u001b[0m     l_obj_fit = context_rewriter(function=fit_loss, rewrite={'model': 'non_sparse_model_add'},\n\u001b[1;32m     31\u001b[0m                                  \u001b[0mdivide_by_std\u001b[0m\u001b[0;34m=\u001b[0m\u001b[0;32mFalse\u001b[0m\u001b[0;34m,\u001b[0m\u001b[0;34m\u001b[0m\u001b[0m\n\u001b[0;32m---> 32\u001b[0;31m                                  **ctx)\n\u001b[0m\u001b[1;32m     33\u001b[0m     \u001b[0mloss\u001b[0m \u001b[0;34m=\u001b[0m \u001b[0ml_obj_fit\u001b[0m\u001b[0;34m[\u001b[0m\u001b[0;34m'loss'\u001b[0m\u001b[0;34m]\u001b[0m \u001b[0;31m#+ l_obj_emb['loss']\u001b[0m\u001b[0;34m\u001b[0m\u001b[0m\n\u001b[1;32m     34\u001b[0m \u001b[0;34m\u001b[0m\u001b[0m\n",
      "\u001b[0;32m~/miniconda3/envs/causal/lib/python3.7/site-packages/gin/config.py\u001b[0m in \u001b[0;36mgin_wrapper\u001b[0;34m(*args, **kwargs)\u001b[0m\n\u001b[1;32m   1053\u001b[0m \u001b[0;34m\u001b[0m\u001b[0m\n\u001b[1;32m   1054\u001b[0m     \u001b[0;32mtry\u001b[0m\u001b[0;34m:\u001b[0m\u001b[0;34m\u001b[0m\u001b[0m\n\u001b[0;32m-> 1055\u001b[0;31m       \u001b[0;32mreturn\u001b[0m \u001b[0mfn\u001b[0m\u001b[0;34m(\u001b[0m\u001b[0;34m*\u001b[0m\u001b[0mnew_args\u001b[0m\u001b[0;34m,\u001b[0m \u001b[0;34m**\u001b[0m\u001b[0mnew_kwargs\u001b[0m\u001b[0;34m)\u001b[0m\u001b[0;34m\u001b[0m\u001b[0m\n\u001b[0m\u001b[1;32m   1056\u001b[0m     \u001b[0;32mexcept\u001b[0m \u001b[0mException\u001b[0m \u001b[0;32mas\u001b[0m \u001b[0me\u001b[0m\u001b[0;34m:\u001b[0m  \u001b[0;31m# pylint: disable=broad-except\u001b[0m\u001b[0;34m\u001b[0m\u001b[0m\n\u001b[1;32m   1057\u001b[0m       \u001b[0merr_str\u001b[0m \u001b[0;34m=\u001b[0m \u001b[0;34m''\u001b[0m\u001b[0;34m\u001b[0m\u001b[0m\n",
      "\u001b[0;32m~/git/science/causality-disentanglement/sparse_causal_model_learner_rl/metrics/context_rewrite.py\u001b[0m in \u001b[0;36mcontext_rewriter\u001b[0;34m(function, rewrite, **kwargs)\u001b[0m\n\u001b[1;32m     24\u001b[0m         \u001b[0mkwargs_downstream\u001b[0m\u001b[0;34m[\u001b[0m\u001b[0mnew_key\u001b[0m\u001b[0;34m]\u001b[0m \u001b[0;34m=\u001b[0m \u001b[0mkwargs\u001b[0m\u001b[0;34m[\u001b[0m\u001b[0mold_key\u001b[0m\u001b[0;34m]\u001b[0m\u001b[0;34m\u001b[0m\u001b[0m\n\u001b[1;32m     25\u001b[0m \u001b[0;34m\u001b[0m\u001b[0m\n\u001b[0;32m---> 26\u001b[0;31m     \u001b[0;32mreturn\u001b[0m \u001b[0mfunction\u001b[0m\u001b[0;34m(\u001b[0m\u001b[0;34m**\u001b[0m\u001b[0mkwargs_downstream\u001b[0m\u001b[0;34m)\u001b[0m\u001b[0;34m\u001b[0m\u001b[0m\n\u001b[0m",
      "\u001b[0;32m<ipython-input-83-094d9b31cfb1>\u001b[0m in \u001b[0;36mfit_loss\u001b[0;34m(obs_x, obs_y, action_x, decoder, model, additional_feature_keys, model_forward_kwargs, fill_switch_grad, opt_label, divide_by_std, std_eps, **kwargs)\u001b[0m\n\u001b[1;32m     24\u001b[0m     \u001b[0;31m# detaching second part like in q-learning makes the loss jitter\u001b[0m\u001b[0;34m\u001b[0m\u001b[0;34m\u001b[0m\u001b[0m\n\u001b[1;32m     25\u001b[0m \u001b[0;34m\u001b[0m\u001b[0m\n\u001b[0;32m---> 26\u001b[0;31m     \u001b[0mf_t1_pred\u001b[0m \u001b[0;34m=\u001b[0m \u001b[0mmodel\u001b[0m\u001b[0;34m(\u001b[0m\u001b[0mdecoder\u001b[0m\u001b[0;34m(\u001b[0m\u001b[0mobs_x\u001b[0m\u001b[0;34m)\u001b[0m\u001b[0;34m,\u001b[0m \u001b[0maction_x\u001b[0m\u001b[0;34m,\u001b[0m \u001b[0mall\u001b[0m\u001b[0;34m=\u001b[0m\u001b[0mhave_additional\u001b[0m\u001b[0;34m,\u001b[0m \u001b[0;34m**\u001b[0m\u001b[0mmodel_forward_kwargs\u001b[0m\u001b[0;34m)\u001b[0m\u001b[0;34m\u001b[0m\u001b[0m\n\u001b[0m\u001b[1;32m     27\u001b[0m \u001b[0;34m\u001b[0m\u001b[0m\n\u001b[1;32m     28\u001b[0m     \u001b[0mloss\u001b[0m \u001b[0;34m=\u001b[0m \u001b[0;34m(\u001b[0m\u001b[0mf_t1_pred\u001b[0m \u001b[0;34m-\u001b[0m \u001b[0mf_t1\u001b[0m\u001b[0;34m)\u001b[0m\u001b[0;34m.\u001b[0m\u001b[0mpow\u001b[0m\u001b[0;34m(\u001b[0m\u001b[0;36m2\u001b[0m\u001b[0;34m)\u001b[0m\u001b[0;34m\u001b[0m\u001b[0m\n",
      "\u001b[0;32m~/miniconda3/envs/causal/lib/python3.7/site-packages/torch/nn/modules/module.py\u001b[0m in \u001b[0;36m_call_impl\u001b[0;34m(self, *input, **kwargs)\u001b[0m\n\u001b[1;32m    725\u001b[0m             \u001b[0mresult\u001b[0m \u001b[0;34m=\u001b[0m \u001b[0mself\u001b[0m\u001b[0;34m.\u001b[0m\u001b[0m_slow_forward\u001b[0m\u001b[0;34m(\u001b[0m\u001b[0;34m*\u001b[0m\u001b[0minput\u001b[0m\u001b[0;34m,\u001b[0m \u001b[0;34m**\u001b[0m\u001b[0mkwargs\u001b[0m\u001b[0;34m)\u001b[0m\u001b[0;34m\u001b[0m\u001b[0m\n\u001b[1;32m    726\u001b[0m         \u001b[0;32melse\u001b[0m\u001b[0;34m:\u001b[0m\u001b[0;34m\u001b[0m\u001b[0m\n\u001b[0;32m--> 727\u001b[0;31m             \u001b[0mresult\u001b[0m \u001b[0;34m=\u001b[0m \u001b[0mself\u001b[0m\u001b[0;34m.\u001b[0m\u001b[0mforward\u001b[0m\u001b[0;34m(\u001b[0m\u001b[0;34m*\u001b[0m\u001b[0minput\u001b[0m\u001b[0;34m,\u001b[0m \u001b[0;34m**\u001b[0m\u001b[0mkwargs\u001b[0m\u001b[0;34m)\u001b[0m\u001b[0;34m\u001b[0m\u001b[0m\n\u001b[0m\u001b[1;32m    728\u001b[0m         for hook in itertools.chain(\n\u001b[1;32m    729\u001b[0m                 \u001b[0m_global_forward_hooks\u001b[0m\u001b[0;34m.\u001b[0m\u001b[0mvalues\u001b[0m\u001b[0;34m(\u001b[0m\u001b[0;34m)\u001b[0m\u001b[0;34m,\u001b[0m\u001b[0;34m\u001b[0m\u001b[0m\n",
      "\u001b[0;32m~/git/science/causality-disentanglement/sparse_causal_model_learner_rl/trainable/decoder.py\u001b[0m in \u001b[0;36mforward\u001b[0;34m(self, x)\u001b[0m\n\u001b[1;32m     56\u001b[0m \u001b[0;34m\u001b[0m\u001b[0m\n\u001b[1;32m     57\u001b[0m     \u001b[0;32mdef\u001b[0m \u001b[0mforward\u001b[0m\u001b[0;34m(\u001b[0m\u001b[0mself\u001b[0m\u001b[0;34m,\u001b[0m \u001b[0mx\u001b[0m\u001b[0;34m)\u001b[0m\u001b[0;34m:\u001b[0m\u001b[0;34m\u001b[0m\u001b[0m\n\u001b[0;32m---> 58\u001b[0;31m         \u001b[0mx\u001b[0m \u001b[0;34m=\u001b[0m \u001b[0mself\u001b[0m\u001b[0;34m.\u001b[0m\u001b[0mmodel\u001b[0m\u001b[0;34m(\u001b[0m\u001b[0mx\u001b[0m\u001b[0;34m)\u001b[0m\u001b[0;34m\u001b[0m\u001b[0m\n\u001b[0m\u001b[1;32m     59\u001b[0m         \u001b[0;32mif\u001b[0m \u001b[0mself\u001b[0m\u001b[0;34m.\u001b[0m\u001b[0muse_batchnorm\u001b[0m\u001b[0;34m:\u001b[0m\u001b[0;34m\u001b[0m\u001b[0m\n\u001b[1;32m     60\u001b[0m             \u001b[0mx\u001b[0m \u001b[0;34m=\u001b[0m \u001b[0mself\u001b[0m\u001b[0;34m.\u001b[0m\u001b[0mbn\u001b[0m\u001b[0;34m(\u001b[0m\u001b[0mx\u001b[0m\u001b[0;34m)\u001b[0m\u001b[0;34m\u001b[0m\u001b[0m\n",
      "\u001b[0;32m~/miniconda3/envs/causal/lib/python3.7/site-packages/torch/nn/modules/module.py\u001b[0m in \u001b[0;36m_call_impl\u001b[0;34m(self, *input, **kwargs)\u001b[0m\n\u001b[1;32m    725\u001b[0m             \u001b[0mresult\u001b[0m \u001b[0;34m=\u001b[0m \u001b[0mself\u001b[0m\u001b[0;34m.\u001b[0m\u001b[0m_slow_forward\u001b[0m\u001b[0;34m(\u001b[0m\u001b[0;34m*\u001b[0m\u001b[0minput\u001b[0m\u001b[0;34m,\u001b[0m \u001b[0;34m**\u001b[0m\u001b[0mkwargs\u001b[0m\u001b[0;34m)\u001b[0m\u001b[0;34m\u001b[0m\u001b[0m\n\u001b[1;32m    726\u001b[0m         \u001b[0;32melse\u001b[0m\u001b[0;34m:\u001b[0m\u001b[0;34m\u001b[0m\u001b[0m\n\u001b[0;32m--> 727\u001b[0;31m             \u001b[0mresult\u001b[0m \u001b[0;34m=\u001b[0m \u001b[0mself\u001b[0m\u001b[0;34m.\u001b[0m\u001b[0mforward\u001b[0m\u001b[0;34m(\u001b[0m\u001b[0;34m*\u001b[0m\u001b[0minput\u001b[0m\u001b[0;34m,\u001b[0m \u001b[0;34m**\u001b[0m\u001b[0mkwargs\u001b[0m\u001b[0;34m)\u001b[0m\u001b[0;34m\u001b[0m\u001b[0m\n\u001b[0m\u001b[1;32m    728\u001b[0m         for hook in itertools.chain(\n\u001b[1;32m    729\u001b[0m                 \u001b[0m_global_forward_hooks\u001b[0m\u001b[0;34m.\u001b[0m\u001b[0mvalues\u001b[0m\u001b[0;34m(\u001b[0m\u001b[0;34m)\u001b[0m\u001b[0;34m,\u001b[0m\u001b[0;34m\u001b[0m\u001b[0m\n",
      "\u001b[0;32m~/git/science/causality-disentanglement/sparse_causal_model_learner_rl/trainable/fcnet.py\u001b[0m in \u001b[0;36mforward\u001b[0;34m(self, x)\u001b[0m\n\u001b[1;32m     77\u001b[0m     \u001b[0;32mdef\u001b[0m \u001b[0mforward\u001b[0m\u001b[0;34m(\u001b[0m\u001b[0mself\u001b[0m\u001b[0;34m,\u001b[0m \u001b[0mx\u001b[0m\u001b[0;34m)\u001b[0m\u001b[0;34m:\u001b[0m\u001b[0;34m\u001b[0m\u001b[0m\n\u001b[1;32m     78\u001b[0m         \u001b[0;32mfor\u001b[0m \u001b[0mi\u001b[0m\u001b[0;34m,\u001b[0m \u001b[0mfc\u001b[0m \u001b[0;32min\u001b[0m \u001b[0menumerate\u001b[0m\u001b[0;34m(\u001b[0m\u001b[0mself\u001b[0m\u001b[0;34m.\u001b[0m\u001b[0mfc\u001b[0m\u001b[0;34m)\u001b[0m\u001b[0;34m:\u001b[0m\u001b[0;34m\u001b[0m\u001b[0m\n\u001b[0;32m---> 79\u001b[0;31m             \u001b[0mx\u001b[0m \u001b[0;34m=\u001b[0m \u001b[0mfc\u001b[0m\u001b[0;34m(\u001b[0m\u001b[0mx\u001b[0m\u001b[0;34m)\u001b[0m\u001b[0;34m\u001b[0m\u001b[0m\n\u001b[0m\u001b[1;32m     80\u001b[0m             \u001b[0;32mif\u001b[0m \u001b[0mself\u001b[0m\u001b[0;34m.\u001b[0m\u001b[0mactivation\u001b[0m\u001b[0;34m[\u001b[0m\u001b[0mi\u001b[0m\u001b[0;34m]\u001b[0m \u001b[0;32mis\u001b[0m \u001b[0;32mnot\u001b[0m \u001b[0;32mNone\u001b[0m\u001b[0;34m:\u001b[0m\u001b[0;34m\u001b[0m\u001b[0m\n\u001b[1;32m     81\u001b[0m                 \u001b[0mx\u001b[0m \u001b[0;34m=\u001b[0m \u001b[0mself\u001b[0m\u001b[0;34m.\u001b[0m\u001b[0mactivation\u001b[0m\u001b[0;34m[\u001b[0m\u001b[0mi\u001b[0m\u001b[0;34m]\u001b[0m\u001b[0;34m(\u001b[0m\u001b[0mx\u001b[0m\u001b[0;34m)\u001b[0m\u001b[0;34m\u001b[0m\u001b[0m\n",
      "\u001b[0;32m~/miniconda3/envs/causal/lib/python3.7/site-packages/torch/nn/modules/module.py\u001b[0m in \u001b[0;36m_call_impl\u001b[0;34m(self, *input, **kwargs)\u001b[0m\n\u001b[1;32m    725\u001b[0m             \u001b[0mresult\u001b[0m \u001b[0;34m=\u001b[0m \u001b[0mself\u001b[0m\u001b[0;34m.\u001b[0m\u001b[0m_slow_forward\u001b[0m\u001b[0;34m(\u001b[0m\u001b[0;34m*\u001b[0m\u001b[0minput\u001b[0m\u001b[0;34m,\u001b[0m \u001b[0;34m**\u001b[0m\u001b[0mkwargs\u001b[0m\u001b[0;34m)\u001b[0m\u001b[0;34m\u001b[0m\u001b[0m\n\u001b[1;32m    726\u001b[0m         \u001b[0;32melse\u001b[0m\u001b[0;34m:\u001b[0m\u001b[0;34m\u001b[0m\u001b[0m\n\u001b[0;32m--> 727\u001b[0;31m             \u001b[0mresult\u001b[0m \u001b[0;34m=\u001b[0m \u001b[0mself\u001b[0m\u001b[0;34m.\u001b[0m\u001b[0mforward\u001b[0m\u001b[0;34m(\u001b[0m\u001b[0;34m*\u001b[0m\u001b[0minput\u001b[0m\u001b[0;34m,\u001b[0m \u001b[0;34m**\u001b[0m\u001b[0mkwargs\u001b[0m\u001b[0;34m)\u001b[0m\u001b[0;34m\u001b[0m\u001b[0m\n\u001b[0m\u001b[1;32m    728\u001b[0m         for hook in itertools.chain(\n\u001b[1;32m    729\u001b[0m                 \u001b[0m_global_forward_hooks\u001b[0m\u001b[0;34m.\u001b[0m\u001b[0mvalues\u001b[0m\u001b[0;34m(\u001b[0m\u001b[0;34m)\u001b[0m\u001b[0;34m,\u001b[0m\u001b[0;34m\u001b[0m\u001b[0m\n",
      "\u001b[0;32m~/miniconda3/envs/causal/lib/python3.7/site-packages/torch/nn/modules/linear.py\u001b[0m in \u001b[0;36mforward\u001b[0;34m(self, input)\u001b[0m\n\u001b[1;32m     91\u001b[0m \u001b[0;34m\u001b[0m\u001b[0m\n\u001b[1;32m     92\u001b[0m     \u001b[0;32mdef\u001b[0m \u001b[0mforward\u001b[0m\u001b[0;34m(\u001b[0m\u001b[0mself\u001b[0m\u001b[0;34m,\u001b[0m \u001b[0minput\u001b[0m\u001b[0;34m:\u001b[0m \u001b[0mTensor\u001b[0m\u001b[0;34m)\u001b[0m \u001b[0;34m->\u001b[0m \u001b[0mTensor\u001b[0m\u001b[0;34m:\u001b[0m\u001b[0;34m\u001b[0m\u001b[0m\n\u001b[0;32m---> 93\u001b[0;31m         \u001b[0;32mreturn\u001b[0m \u001b[0mF\u001b[0m\u001b[0;34m.\u001b[0m\u001b[0mlinear\u001b[0m\u001b[0;34m(\u001b[0m\u001b[0minput\u001b[0m\u001b[0;34m,\u001b[0m \u001b[0mself\u001b[0m\u001b[0;34m.\u001b[0m\u001b[0mweight\u001b[0m\u001b[0;34m,\u001b[0m \u001b[0mself\u001b[0m\u001b[0;34m.\u001b[0m\u001b[0mbias\u001b[0m\u001b[0;34m)\u001b[0m\u001b[0;34m\u001b[0m\u001b[0m\n\u001b[0m\u001b[1;32m     94\u001b[0m \u001b[0;34m\u001b[0m\u001b[0m\n\u001b[1;32m     95\u001b[0m     \u001b[0;32mdef\u001b[0m \u001b[0mextra_repr\u001b[0m\u001b[0;34m(\u001b[0m\u001b[0mself\u001b[0m\u001b[0;34m)\u001b[0m \u001b[0;34m->\u001b[0m \u001b[0mstr\u001b[0m\u001b[0;34m:\u001b[0m\u001b[0;34m\u001b[0m\u001b[0m\n",
      "\u001b[0;32m~/miniconda3/envs/causal/lib/python3.7/site-packages/torch/nn/functional.py\u001b[0m in \u001b[0;36mlinear\u001b[0;34m(input, weight, bias)\u001b[0m\n\u001b[1;32m   1688\u001b[0m     \u001b[0;32mif\u001b[0m \u001b[0minput\u001b[0m\u001b[0;34m.\u001b[0m\u001b[0mdim\u001b[0m\u001b[0;34m(\u001b[0m\u001b[0;34m)\u001b[0m \u001b[0;34m==\u001b[0m \u001b[0;36m2\u001b[0m \u001b[0;32mand\u001b[0m \u001b[0mbias\u001b[0m \u001b[0;32mis\u001b[0m \u001b[0;32mnot\u001b[0m \u001b[0;32mNone\u001b[0m\u001b[0;34m:\u001b[0m\u001b[0;34m\u001b[0m\u001b[0m\n\u001b[1;32m   1689\u001b[0m         \u001b[0;31m# fused op is marginally faster\u001b[0m\u001b[0;34m\u001b[0m\u001b[0;34m\u001b[0m\u001b[0m\n\u001b[0;32m-> 1690\u001b[0;31m         \u001b[0mret\u001b[0m \u001b[0;34m=\u001b[0m \u001b[0mtorch\u001b[0m\u001b[0;34m.\u001b[0m\u001b[0maddmm\u001b[0m\u001b[0;34m(\u001b[0m\u001b[0mbias\u001b[0m\u001b[0;34m,\u001b[0m \u001b[0minput\u001b[0m\u001b[0;34m,\u001b[0m \u001b[0mweight\u001b[0m\u001b[0;34m.\u001b[0m\u001b[0mt\u001b[0m\u001b[0;34m(\u001b[0m\u001b[0;34m)\u001b[0m\u001b[0;34m)\u001b[0m\u001b[0;34m\u001b[0m\u001b[0m\n\u001b[0m\u001b[1;32m   1691\u001b[0m     \u001b[0;32melse\u001b[0m\u001b[0;34m:\u001b[0m\u001b[0;34m\u001b[0m\u001b[0m\n\u001b[1;32m   1692\u001b[0m         \u001b[0moutput\u001b[0m \u001b[0;34m=\u001b[0m \u001b[0minput\u001b[0m\u001b[0;34m.\u001b[0m\u001b[0mmatmul\u001b[0m\u001b[0;34m(\u001b[0m\u001b[0mweight\u001b[0m\u001b[0;34m.\u001b[0m\u001b[0mt\u001b[0m\u001b[0;34m(\u001b[0m\u001b[0;34m)\u001b[0m\u001b[0;34m)\u001b[0m\u001b[0;34m\u001b[0m\u001b[0m\n",
      "\u001b[0;31mKeyboardInterrupt\u001b[0m: "
     ]
    }
   ],
   "source": [
    "ctx_set = False\n",
    "for i in tqdm(range(10000)):\n",
    "    if i % 1 == 0 or not ctx_set:\n",
    "        ctx_set = True\n",
    "        ctx = learner.collect_and_get_context()\n",
    "        \n",
    "#         if mins is None or maxes is None:\n",
    "#             print(\"Computing minmax\")\n",
    "#             f_all = learner.decoder(ctx['obs'])\n",
    "#             mins = f_all.min(dim=0, keepdim=True).values.detach()\n",
    "#             maxes = f_all.max(dim=0, keepdim=True).values.detach()\n",
    "        \n",
    "#         f_t1 = learner.decoder(ctx['obs_y'])#.detach()\n",
    "#         f_t = learner.decoder(ctx['obs_x'])#.detach()\n",
    "        \n",
    "# #         f_t1 = normalize(f_t1, mins, maxes)\n",
    "# #         f_t = normalize(f_t, mins, maxes)\n",
    "        \n",
    "#         add_features_y = torch.cat([ctx[k] for k in ctx['additional_feature_keys']], dim=1)\n",
    "#         f_t1 = torch.cat([f_t1, add_features_y], dim=1)\n",
    "        \n",
    "#     f_t1_pred = use_model(\n",
    "#         f_t,\n",
    "#         ctx['action_x'],\n",
    "#         all=True)\n",
    "    \n",
    "    ctx['non_sparse_model_add'] = use_model\n",
    "#     ctx['additional_feature_keys'] = []\n",
    "    l_obj_emb = siamese_feature_discriminator_l2(**ctx)\n",
    "    l_obj_fit = context_rewriter(function=fit_loss, rewrite={'model': 'non_sparse_model_add'},\n",
    "                                 divide_by_std=False,\n",
    "                                 **ctx)\n",
    "    loss = l_obj_fit['loss'] #+ l_obj_emb['loss']\n",
    "\n",
    "    \n",
    "#     loss = nn.MSELoss()(f_t1, f_t1_pred)\n",
    "\n",
    "    \n",
    "    opt.zero_grad()\n",
    "    loss.backward()\n",
    "    opt.step()\n",
    "    losses.append(loss.item())\n",
    "    losses_emb.append(l_obj_emb['loss'].item())\n",
    "    losses_fit.append(l_obj_fit['loss'].item())\n",
    "    m = {}\n",
    "    m.update(l_obj_fit['metrics'])\n",
    "    m.update(l_obj_emb['metrics'])\n",
    "    metrics.append(m)"
   ]
  },
  {
   "cell_type": "code",
   "execution_count": 89,
   "metadata": {},
   "outputs": [
    {
     "data": {
      "text/plain": [
       "ManyNetworkCombinedModel(\n",
       "  (bn): BatchNorm1d(34, eps=1e-05, momentum=0.1, affine=True, track_running_stats=True)\n",
       "  (model): WithInputSwitch(\n",
       "    (switch): LearnableSwitchSimple()\n",
       "    (model): FCCombinedModel(\n",
       "      (fc01): CombinedLinearLayer()\n",
       "      (fc02): CombinedLinearLayer()\n",
       "      (fc03): CombinedLinearLayer()\n",
       "      (fc04): CombinedLinearLayer()\n",
       "    )\n",
       "  )\n",
       ")"
      ]
     },
     "execution_count": 89,
     "metadata": {},
     "output_type": "execute_result"
    }
   ],
   "source": [
    "learner.model"
   ]
  },
  {
   "cell_type": "code",
   "execution_count": 90,
   "metadata": {},
   "outputs": [
    {
     "data": {
      "text/plain": [
       "<matplotlib.legend.Legend at 0x7ff2d0969828>"
      ]
     },
     "execution_count": 90,
     "metadata": {},
     "output_type": "execute_result"
    },
    {
     "data": {
      "image/png": "[encoded data removed]",
      "text/plain": [
       "<Figure size 432x288 with 1 Axes>"
      ]
     },
     "metadata": {
      "needs_background": "light"
     },
     "output_type": "display_data"
    }
   ],
   "source": [
    "plt.plot(losses, label='loss')\n",
    "# plt.plot(losses_emb, label='emb')\n",
    "plt.plot(losses_fit, label='fit')\n",
    "#plt.plot(dplus, label='dplus')\n",
    "plt.yscale('log')\n",
    "plt.legend()"
   ]
  },
  {
   "cell_type": "code",
   "execution_count": 43,
   "metadata": {},
   "outputs": [],
   "source": [
    "f_t1 = learner.decoder(ctx['obs_y'])#.detach()\n",
    "f_t = learner.decoder(ctx['obs_x'])#.detach()\n",
    "\n",
    "#         f_t1 = normalize(f_t1, mins, maxes)\n",
    "#         f_t = normalize(f_t, mins, maxes)\n",
    "\n",
    "add_features_y = torch.cat([ctx[k] for k in ctx['additional_feature_keys']], dim=1)\n",
    "f_t1 = torch.zeros_like(f_t1)\n",
    "f_t1 = torch.cat([f_t1, add_features_y], dim=1)\n",
    "\n",
    "f_t1_pred = use_model(\n",
    "f_t,\n",
    "ctx['action_x'],\n",
    "all=True)\n"
   ]
  },
  {
   "cell_type": "code",
   "execution_count": 44,
   "metadata": {},
   "outputs": [
    {
     "data": {
      "text/plain": [
       "<AxesSubplot:>"
      ]
     },
     "execution_count": 44,
     "metadata": {},
     "output_type": "execute_result"
    },
    {
     "data": {
      "image/png": "[encoded data removed]",
      "text/plain": [
       "<Figure size 432x288 with 2 Axes>"
      ]
     },
     "metadata": {
      "needs_background": "light"
     },
     "output_type": "display_data"
    },
    {
     "name": "stderr",
     "output_type": "stream",
     "text": [
      "\u001b[2m\u001b[36m(pid=27932)\u001b[0m E0205 16:38:31.923233 27932 27932 plasma_store_provider.cc:113] Failed to put object e9c1e546b44a7a7a62223d850100000001000000 in object store because it is full. Object size is 47760224 bytes.\n",
      "\u001b[2m\u001b[36m(pid=27932)\u001b[0m Waiting 1000ms for space to free up...\n",
      "\u001b[2m\u001b[33m(pid=raylet)\u001b[0m E0205 16:38:31.923147 27885 27900 store.cc:256] Not enough memory to create the object e9c1e546b44a7a7a62223d850100000001000000, data_size=47760224, metadata_size=6, will send a reply of PlasmaError::OutOfMemory\n"
     ]
    }
   ],
   "source": [
    "sns.heatmap((f_t1_pred - f_t1).pow(2).mean(0).cpu().detach().numpy().reshape(-1, 1))"
   ]
  },
  {
   "cell_type": "code",
   "execution_count": 80,
   "metadata": {},
   "outputs": [
    {
     "data": {
      "image/png": "[encoded data removed]",
      "text/plain": [
       "<Figure size 432x288 with 1 Axes>"
      ]
     },
     "metadata": {
      "needs_background": "light"
     },
     "output_type": "display_data"
    }
   ],
   "source": [
    "metrics_dct = lstdct2dctlst(metrics)\n",
    "for key, vals in metrics_dct.items():\n",
    "    if len(np.array(vals).shape) > 1: continue\n",
    "    plt.plot(vals, label=key)\n",
    "plt.legend()\n",
    "plt.show()"
   ]
  },
  {
   "cell_type": "code",
   "execution_count": 81,
   "metadata": {},
   "outputs": [
    {
     "data": {
      "text/plain": [
       "dict_keys(['mean_feature', 'std_feature', 'min_feature', 'max_feature', 'distance_plus', 'distance_minus'])"
      ]
     },
     "execution_count": 81,
     "metadata": {},
     "output_type": "execute_result"
    },
    {
     "name": "stderr",
     "output_type": "stream",
     "text": [
      "\u001b[2m\u001b[36m(pid=26583)\u001b[0m E0205 16:23:41.700220 26583 26583 plasma_store_provider.cc:113] Failed to put object 7eb81b4da76c52a33db7cfef0100000001000000 in object store because it is full. Object size is 47770427 bytes.\n",
      "\u001b[2m\u001b[36m(pid=26583)\u001b[0m Waiting 1000ms for space to free up...\n",
      "\u001b[2m\u001b[33m(pid=raylet)\u001b[0m E0205 16:23:41.699122 26556 26567 store.cc:256] Not enough memory to create the object 7eb81b4da76c52a33db7cfef0100000001000000, data_size=47770427, metadata_size=6, will send a reply of PlasmaError::OutOfMemory\n"
     ]
    }
   ],
   "source": [
    "metrics_dct.keys()"
   ]
  },
  {
   "cell_type": "code",
   "execution_count": 82,
   "metadata": {},
   "outputs": [
    {
     "data": {
      "text/plain": [
       "0.04357163608074188"
      ]
     },
     "execution_count": 82,
     "metadata": {},
     "output_type": "execute_result"
    }
   ],
   "source": [
    "losses[-1]"
   ]
  },
  {
   "cell_type": "code",
   "execution_count": 83,
   "metadata": {},
   "outputs": [
    {
     "data": {
      "text/plain": [
       "tensor(-0.3339, device='cuda:0', grad_fn=<MinBackward1>)"
      ]
     },
     "execution_count": 83,
     "metadata": {},
     "output_type": "execute_result"
    }
   ],
   "source": [
    "learner.decoder(ctx['obs_x']).min()"
   ]
  },
  {
   "cell_type": "code",
   "execution_count": null,
   "metadata": {},
   "outputs": [],
   "source": [
    "# metrics_dct['']"
   ]
  },
  {
   "cell_type": "code",
   "execution_count": null,
   "metadata": {},
   "outputs": [],
   "source": []
  }
 ],
 "metadata": {
  "kernelspec": {
   "display_name": "Python 3",
   "language": "python",
   "name": "python3"
  },
  "language_info": {
   "codemirror_mode": {
    "name": "ipython",
    "version": 3
   },
   "file_extension": ".py",
   "mimetype": "text/x-python",
   "name": "python",
   "nbconvert_exporter": "python",
   "pygments_lexer": "ipython3",
   "version": "3.7.0"
  }
 },
 "nbformat": 4,
 "nbformat_minor": 5
}
