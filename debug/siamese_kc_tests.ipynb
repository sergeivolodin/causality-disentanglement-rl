{
 "cells": [
  {
   "cell_type": "code",
   "execution_count": 1,
   "metadata": {},
   "outputs": [],
   "source": [
    "import os\n",
    "os.environ['CUDA_VISIBLE_DEVICES'] = \"1\"\n",
    "import numpy as np\n",
    "from matplotlib import pyplot as plt\n",
    "import seaborn as sns\n",
    "import pandas as pd\n",
    "from tqdm.auto import tqdm\n",
    "import torch\n",
    "from torch import nn\n",
    "import gin\n",
    "import ray\n",
    "import pickle\n",
    "import io\n",
    "gin.enter_interactive_mode()\n",
    "from causal_util import load_env\n",
    "from causal_util.helpers import lstdct2dctlst\n",
    "from sparse_causal_model_learner_rl.loss.losses import fit_loss\n",
    "from sparse_causal_model_learner_rl.loss.causal_discriminator import siamese_feature_discriminator_l2\n",
    "\n",
    "from sparse_causal_model_learner_rl.metrics.context_rewrite import context_rewriter\n",
    "from sparse_causal_model_learner_rl.visual.learner_visual import graph_for_matrices\n",
    "from sparse_causal_model_learner_rl.config import Config\n",
    "from sparse_causal_model_learner_rl.sacred_gin_tune.sacred_wrapper import load_config_files\n",
    "from sparse_causal_model_learner_rl.learners.rl_learner import CausalModelLearnerRL"
   ]
  },
  {
   "cell_type": "code",
   "execution_count": 2,
   "metadata": {},
   "outputs": [
    {
     "data": {
      "text/plain": [
       "['kc_rec_nonlin_gnn_gumbel_siamese_l2-Copy1',\n",
       " 'kc_dec',\n",
       " '5x5_1f1c1k_obs',\n",
       " 'server_collect']"
      ]
     },
     "execution_count": 2,
     "metadata": {},
     "output_type": "execute_result"
    }
   ],
   "source": [
    "load_config_files(['../sparse_causal_model_learner_rl/configs/kc_rec_nonlin_gnn_gumbel_siamese_l2-Copy1.gin',\n",
    "                   '../sparse_causal_model_learner_rl/configs/kc_dec.gin',\n",
    "                   '../keychest/config/5x5_1f1c1k_obs.gin',\n",
    "                   '../sparse_causal_model_learner_rl/configs/server_collect.gin'])"
   ]
  },
  {
   "cell_type": "code",
   "execution_count": 3,
   "metadata": {},
   "outputs": [],
   "source": [
    "gin.bind_parameter('Config.env_steps', 5000)\n",
    "gin.bind_parameter('Config.rl_multistep', [])\n",
    "gin.bind_parameter('Config.env_steps', 5000)\n",
    "gin.bind_parameter('Config.minibatch_size', 5000)\n",
    "gin.bind_parameter('Normalizer.type_', 'meanstd')\n",
    "gin.bind_parameter('ManyNetworkCombinedModel.input_batchnorm', True)"
   ]
  },
  {
   "cell_type": "code",
   "execution_count": 4,
   "metadata": {},
   "outputs": [
    {
     "name": "stderr",
     "output_type": "stream",
     "text": [
      "2021-02-10 03:44:38,236\tINFO services.py:1092 -- View the Ray dashboard at \u001b[1m\u001b[32mhttp://127.0.0.1:8266\u001b[39m\u001b[22m\n"
     ]
    },
    {
     "data": {
      "text/plain": [
       "{'node_ip_address': '10.90.38.7',\n",
       " 'raylet_ip_address': '10.90.38.7',\n",
       " 'redis_address': '10.90.38.7:51332',\n",
       " 'object_store_address': '/tmp/ray/session_2021-02-10_03-44-37_499425_36853/sockets/plasma_store',\n",
       " 'raylet_socket_name': '/tmp/ray/session_2021-02-10_03-44-37_499425_36853/sockets/raylet',\n",
       " 'webui_url': '127.0.0.1:8266',\n",
       " 'session_dir': '/tmp/ray/session_2021-02-10_03-44-37_499425_36853',\n",
       " 'metrics_export_port': 64303,\n",
       " 'node_id': '2f532a061dd80bd9e99b3841d2d4ea4d8683bd58'}"
      ]
     },
     "execution_count": 4,
     "metadata": {},
     "output_type": "execute_result"
    }
   ],
   "source": [
    "ray.init(ignore_reinit_error=True)"
   ]
  },
  {
   "cell_type": "code",
   "execution_count": 5,
   "metadata": {},
   "outputs": [],
   "source": [
    "# gin.bind_parameter('decoder/FCNet.hidden_sizes', [512, 256])\n",
    "# gin.bind_parameter('decoder/FCNet.activation_cls', torch.nn.LeakyReLU)"
   ]
  },
  {
   "cell_type": "code",
   "execution_count": 6,
   "metadata": {},
   "outputs": [],
   "source": [
    "gin.bind_parameter('decoder/FCNet.hidden_sizes', [512])\n",
    "gin.bind_parameter('decoder/FCNet.activation_cls', torch.nn.LeakyReLU)"
   ]
  },
  {
   "cell_type": "code",
   "execution_count": null,
   "metadata": {},
   "outputs": [
    {
     "name": "stderr",
     "output_type": "stream",
     "text": [
      "2021-02-10 03:44:40,387\tWARNING session.py:20 -- Session not detected. You should not be calling this function outside `tune.run` or while using the class API. \n"
     ]
    },
    {
     "name": "stdout",
     "output_type": "stream",
     "text": [
      "Selecting name ec2d8b18-6b49-11eb-8ff1-90e2baa1a248\n",
      "Make environment KeyChest-v0 None {}\n"
     ]
    },
    {
     "data": {
      "application/vnd.jupyter.widget-view+json": {
       "model_id": "98b0c4fbe6a54185960b24dca8a38d61",
       "version_major": 2,
       "version_minor": 0
      },
      "text/plain": [
       "HBox(children=(HTML(value='Initial buffer fill'), FloatProgress(value=0.0, max=100000.0), HTML(value='')))"
      ]
     },
     "metadata": {},
     "output_type": "display_data"
    }
   ],
   "source": [
    "learner = CausalModelLearnerRL(Config(ray_kwargs={'address': '127.0.0.1:6379'}))"
   ]
  },
  {
   "cell_type": "code",
   "execution_count": null,
   "metadata": {},
   "outputs": [],
   "source": [
    "learner.create_trainables()"
   ]
  },
  {
   "cell_type": "code",
   "execution_count": null,
   "metadata": {},
   "outputs": [],
   "source": [
    "learner.decoder"
   ]
  },
  {
   "cell_type": "code",
   "execution_count": null,
   "metadata": {},
   "outputs": [],
   "source": [
    "env = learner.env"
   ]
  },
  {
   "cell_type": "code",
   "execution_count": null,
   "metadata": {},
   "outputs": [],
   "source": [
    "learner.decoder.__init__(observation_shape=learner.observation_shape,\n",
    "                         feature_shape=learner.feature_shape)\n",
    "learner.decoder = learner.decoder.cuda()"
   ]
  },
  {
   "cell_type": "code",
   "execution_count": null,
   "metadata": {},
   "outputs": [],
   "source": [
    "losses = []\n",
    "dclose = []\n",
    "dfar = []"
   ]
  },
  {
   "cell_type": "code",
   "execution_count": null,
   "metadata": {},
   "outputs": [],
   "source": [
    "opt = torch.optim.Adam(lr=1e-3, params=learner.decoder.parameters(),\n",
    "                      betas=(0.5, 0.9))"
   ]
  },
  {
   "cell_type": "code",
   "execution_count": null,
   "metadata": {},
   "outputs": [],
   "source": [
    "ctx = learner.collect_and_get_context()"
   ]
  },
  {
   "cell_type": "code",
   "execution_count": null,
   "metadata": {},
   "outputs": [],
   "source": [
    "ctx['additional_feature_keys']"
   ]
  },
  {
   "cell_type": "code",
   "execution_count": null,
   "metadata": {},
   "outputs": [],
   "source": []
  },
  {
   "cell_type": "code",
   "execution_count": null,
   "metadata": {},
   "outputs": [],
   "source": []
  },
  {
   "cell_type": "code",
   "execution_count": 19,
   "metadata": {},
   "outputs": [
    {
     "data": {
      "application/vnd.jupyter.widget-view+json": {
       "model_id": "7703724ead504c6bb622ae0895fcceda",
       "version_major": 2,
       "version_minor": 0
      },
      "text/plain": [
       "HBox(children=(HTML(value=''), FloatProgress(value=0.0, max=1000.0), HTML(value='')))"
      ]
     },
     "metadata": {},
     "output_type": "display_data"
    },
    {
     "name": "stdout",
     "output_type": "stream",
     "text": [
      "\n"
     ]
    }
   ],
   "source": [
    "for i in tqdm(range(1000)):\n",
    "    if i % 1 == 0:\n",
    "        ctx = learner.collect_and_get_context()\n",
    "    \n",
    "    opt.zero_grad()\n",
    "    l_obj = siamese_feature_discriminator_l2(**ctx)\n",
    "    loss = l_obj['loss']\n",
    "    loss.backward()\n",
    "    opt.step()\n",
    "    losses.append(loss.item())\n",
    "    dclose.append(l_obj['metrics']['distance_close'])\n",
    "    dfar.append(l_obj['metrics']['distance_far'])"
   ]
  },
  {
   "cell_type": "code",
   "execution_count": 20,
   "metadata": {},
   "outputs": [
    {
     "data": {
      "text/plain": [
       "<matplotlib.legend.Legend at 0x7f3d885a87d0>"
      ]
     },
     "execution_count": 20,
     "metadata": {},
     "output_type": "execute_result"
    },
    {
     "data": {
      "image/png": "[encoded data removed]",
      "text/plain": [
       "<Figure size 432x288 with 1 Axes>"
      ]
     },
     "metadata": {
      "needs_background": "light"
     },
     "output_type": "display_data"
    }
   ],
   "source": [
    "plt.plot(losses, label='loss')\n",
    "plt.plot(pd.Series(losses).rolling(100).mean(), label='med_loss')\n",
    "plt.plot(dfar, label='dfar')\n",
    "plt.plot(dclose, label='dclose')\n",
    "plt.yscale('log')\n",
    "plt.legend()"
   ]
  },
  {
   "cell_type": "code",
   "execution_count": 21,
   "metadata": {},
   "outputs": [
    {
     "data": {
      "text/plain": [
       "(9.07125752291904e-09, 0.0)"
      ]
     },
     "execution_count": 21,
     "metadata": {},
     "output_type": "execute_result"
    }
   ],
   "source": [
    "np.mean(losses[-50:]), np.median(losses[-50:])"
   ]
  },
  {
   "cell_type": "code",
   "execution_count": null,
   "metadata": {},
   "outputs": [],
   "source": [
    "ctx = learner.collect_and_get_context()"
   ]
  },
  {
   "cell_type": "code",
   "execution_count": null,
   "metadata": {},
   "outputs": [],
   "source": [
    "features = learner.decoder(ctx['obs'])"
   ]
  },
  {
   "cell_type": "code",
   "execution_count": null,
   "metadata": {},
   "outputs": [],
   "source": [
    "f = features.detach().cpu().numpy()"
   ]
  },
  {
   "cell_type": "code",
   "execution_count": null,
   "metadata": {},
   "outputs": [],
   "source": [
    "f.shape"
   ]
  },
  {
   "cell_type": "code",
   "execution_count": null,
   "metadata": {},
   "outputs": [],
   "source": [
    "plt.figure(figsize=(20, 25))\n",
    "for i_f in range(f.shape[1]):\n",
    "    plt.subplot(10, 3, i_f + 1)\n",
    "    plt.hist(f[:, i_f])"
   ]
  },
  {
   "cell_type": "code",
   "execution_count": null,
   "metadata": {},
   "outputs": [],
   "source": [
    "pd.DataFrame(f).std()"
   ]
  },
  {
   "cell_type": "code",
   "execution_count": null,
   "metadata": {},
   "outputs": [],
   "source": [
    "sns.heatmap(pd.DataFrame(f).corr())"
   ]
  },
  {
   "cell_type": "code",
   "execution_count": null,
   "metadata": {},
   "outputs": [],
   "source": [
    "env.engine.return_rgb = False"
   ]
  },
  {
   "cell_type": "code",
   "execution_count": null,
   "metadata": {},
   "outputs": [],
   "source": []
  },
  {
   "cell_type": "code",
   "execution_count": null,
   "metadata": {},
   "outputs": [],
   "source": [
    "gin.bind_parameter('model_gnn/FCCombinedModel.activation_cls', torch.nn.Tanh)\n",
    "gin.bind_parameter('model_gnn/FCCombinedModel.hidden_sizes', [100, 100, 100])\n",
    "gin.bind_parameter('ManyNetworkCombinedModel.input_batchnorm', False)"
   ]
  },
  {
   "cell_type": "code",
   "execution_count": null,
   "metadata": {},
   "outputs": [],
   "source": [
    "learner.non_sparse_model.__init__(feature_shape=learner.feature_shape,\n",
    "                                  action_shape=learner.action_shape,\n",
    "                                  additional_feature_shape=learner.additional_feature_shape)\n",
    "learner.non_sparse_model = learner.non_sparse_model.cuda()"
   ]
  },
  {
   "cell_type": "code",
   "execution_count": null,
   "metadata": {},
   "outputs": [],
   "source": [
    "learner.non_sparse_model.model.model.activation"
   ]
  },
  {
   "cell_type": "code",
   "execution_count": null,
   "metadata": {},
   "outputs": [],
   "source": [
    "learner.non_sparse_model"
   ]
  },
  {
   "cell_type": "code",
   "execution_count": null,
   "metadata": {},
   "outputs": [],
   "source": [
    "learner.non_sparse_model.model.enable_switch"
   ]
  },
  {
   "cell_type": "code",
   "execution_count": null,
   "metadata": {},
   "outputs": [],
   "source": [
    "mins = None\n",
    "maxes = None"
   ]
  },
  {
   "cell_type": "code",
   "execution_count": null,
   "metadata": {},
   "outputs": [],
   "source": [
    "def normalize(t, mins, maxes):\n",
    "    return 2 * ((t - mins) / (1e-3 + maxes - mins) - 0.5)"
   ]
  },
  {
   "cell_type": "code",
   "execution_count": null,
   "metadata": {},
   "outputs": [],
   "source": [
    "class AdhocWorldModel(nn.Module):\n",
    "    def __init__(self):\n",
    "        super(AdhocWorldModel, self).__init__()\n",
    "        dim = 60\n",
    "        self.bn = torch.nn.BatchNorm1d(num_features=34)\n",
    "        self.fc1 = nn.Linear(in_features=34, out_features=dim)\n",
    "        self.fc2 = nn.Linear(in_features=dim, out_features=dim)\n",
    "        self.fc3 = nn.Linear(in_features=dim, out_features=dim)\n",
    "        self.fc4 = nn.Linear(in_features=dim, out_features=32)\n",
    "        self.activation = nn.Tanh()\n",
    "        \n",
    "    def forward(self, f_t, a_t, all):\n",
    "        x = torch.cat([f_t, a_t], dim=1)\n",
    "        \n",
    "        x = self.bn(x)\n",
    "        \n",
    "        x = self.fc1(x)\n",
    "        x = self.activation(x)\n",
    "        \n",
    "        x = self.fc2(x)\n",
    "        x = self.activation(x)\n",
    "        \n",
    "        x = self.fc3(x)\n",
    "        x = self.activation(x)\n",
    "        \n",
    "        x = self.fc4(x)\n",
    "        return x"
   ]
  },
  {
   "cell_type": "code",
   "execution_count": null,
   "metadata": {},
   "outputs": [],
   "source": [
    "losses = []\n",
    "metrics = []\n",
    "losses_emb = []\n",
    "losses_fit = []\n",
    "ratios = []\n",
    "ctx_set = False"
   ]
  },
  {
   "cell_type": "code",
   "execution_count": null,
   "metadata": {},
   "outputs": [],
   "source": [
    "use_model = learner.non_sparse_model\n",
    "#use_model = AdhocWorldModel().cuda()"
   ]
  },
  {
   "cell_type": "code",
   "execution_count": null,
   "metadata": {},
   "outputs": [],
   "source": [
    "gin.bind_parameter('decoder/FCNet.hidden_sizes', [512, 256])\n",
    "gin.bind_parameter('decoder/FCNet.activation_cls', torch.nn.LeakyReLU)"
   ]
  },
  {
   "cell_type": "code",
   "execution_count": null,
   "metadata": {},
   "outputs": [],
   "source": [
    "learner.decoder.__init__(observation_shape=learner.observation_shape,\n",
    "                         feature_shape=learner.feature_shape)\n",
    "learner.decoder = learner.decoder.cuda()"
   ]
  },
  {
   "cell_type": "code",
   "execution_count": null,
   "metadata": {},
   "outputs": [],
   "source": [
    "def delta_multistep(model, decoder, steps, additional_feature_keys, **ctx):\n",
    "    \"\"\"Return multi-step prediction error with additional features.\"\"\"\n",
    "    obs_first = ctx[f'multistep_{steps}_obs_1']\n",
    "    obs_last = ctx[f'multistep_{steps}_obs_{steps}']\n",
    "    acts = [ctx[f'multistep_{steps}_act_{s}'] for s in range(1, steps)]\n",
    "    \n",
    "    add_features_noy = [x[:-2] for x in additional_feature_keys]\n",
    "    additional_feature_keys_multistep = [f'multistep_{steps}_{n}_{steps-1}' for n in add_features_noy]\n",
    "    \n",
    "    f_t = decoder(obs_first)\n",
    "    n_features = f_t.shape[1]\n",
    "\n",
    "    for a_t in acts:\n",
    "        f_t = model(f_t=f_t[:, :n_features], a_t=a_t, all=True)\n",
    "\n",
    "    f_last_1 = decoder(obs_last)\n",
    "    f_last = torch.cat([f_last_1] + [ctx[k] for k in additional_feature_keys_multistep], dim=1)\n",
    "    delta = f_last - f_t\n",
    "    return delta"
   ]
  },
  {
   "cell_type": "code",
   "execution_count": null,
   "metadata": {},
   "outputs": [],
   "source": [
    "def fit_loss(obs_x, obs_y, action_x, decoder, model, additional_feature_keys,\n",
    "             model_forward_kwargs=None,\n",
    "             fill_switch_grad=False,\n",
    "             opt_label=None,\n",
    "             divide_by_std=False,\n",
    "             std_eps=0.05,\n",
    "             **kwargs):\n",
    "    \"\"\"Ensure that the model fits the features data.\"\"\"\n",
    "\n",
    "    if model_forward_kwargs is None:\n",
    "        model_forward_kwargs = {}\n",
    "    \n",
    "    f_t1 = decoder(obs_y)#.detach()\n",
    "        \n",
    "    have_additional = False\n",
    "    if additional_feature_keys:\n",
    "        have_additional = True\n",
    "        add_features_y = torch.cat([kwargs[k] for k in additional_feature_keys], dim=1)\n",
    "        \n",
    "        # WARNING: zeroing output features\n",
    "#         f_t1 = torch.zeros_like(f_t1)\n",
    "        f_t1 = torch.cat([f_t1, add_features_y], dim=1)\n",
    "        \n",
    "    # detaching second part like in q-learning makes the loss jitter\n",
    "\n",
    "    f_t1_pred = model(decoder(obs_x), action_x, all=have_additional, **model_forward_kwargs)\n",
    "\n",
    "    loss = (f_t1_pred - f_t1).pow(2)\n",
    "    loss = loss.sum(1).mean()\n",
    "\n",
    "    metrics = {'mean_feature': f_t1.mean(0).detach().cpu().numpy(),\n",
    "               'std_feature': f_t1.std(0).detach().cpu().numpy(),\n",
    "               'min_feature': f_t1.min().item(),\n",
    "               'max_feature': f_t1.max().item(),\n",
    "               #'std_feature_avg': f_t1_std.detach().cpu().numpy() if f_t1_std is not None else 0.0,\n",
    "               #'inv_std_feature_avg': 1/f_t1_std.detach().cpu().numpy() if f_t1_std is not None else 0.0\n",
    "              }\n",
    "    \n",
    "#     delta_3step = delta_multistep(model=model, decoder=decoder, steps=3, additional_feature_keys=additional_feature_keys,\n",
    "#                                   **kwargs)\n",
    "#     loss_3step = delta_3step.pow(2).sum(1).mean()\n",
    "\n",
    "    metrics['loss_1step'] = loss.item()\n",
    "#     metrics['loss_3step'] = loss_3step.item()\n",
    "\n",
    "#     loss += loss_3step\n",
    "    \n",
    "    return {'loss': loss,\n",
    "            'metrics': metrics}"
   ]
  },
  {
   "cell_type": "code",
   "execution_count": null,
   "metadata": {},
   "outputs": [],
   "source": [
    "opt_m = torch.optim.Adam(lr=1e-3, params=list(use_model.parameters()),# + list(learner.decoder.parameters()),\n",
    "                      #amsgrad=True,\n",
    "                       betas=(0.5, 0.8)\n",
    "                      )\n",
    "opt_d = torch.optim.Adam(lr=1e-3, params=list(learner.decoder.parameters()),\n",
    "                      #amsgrad=True,\n",
    "                       betas=(0.5, 0.8)\n",
    "                      )\n",
    "opt_md = torch.optim.Adam(lr=1e-3, params=list(learner.decoder.parameters())+list(use_model.parameters()),\n",
    "                      #amsgrad=True,\n",
    "                       betas=(0.5, 0.8)\n",
    "                      )"
   ]
  },
  {
   "cell_type": "code",
   "execution_count": null,
   "metadata": {},
   "outputs": [],
   "source": [
    "[x.mean() for x in learner.decoder.state_dict().values()]"
   ]
  },
  {
   "cell_type": "code",
   "execution_count": null,
   "metadata": {},
   "outputs": [],
   "source": [
    "class RelativePlateauLRDecay():\n",
    "    \"\"\"If a relative improvement for loss for an optimizer is low, decrease learning rate.\n",
    "    \n",
    "    When reached minimal learning rate, reset to default one and reset the optimizer.\"\"\"\n",
    "    def __init__(self, optimizer, factor_lr_decrease=0.5,\n",
    "                 grace_epochs=500,\n",
    "                 factor_loss_relative=0.01,\n",
    "                 min_lr=1e-6,\n",
    "                 default_lr=1e-3,\n",
    "                 rolling_epochs=100):\n",
    "        self.optimizer = optimizer\n",
    "        self.factor_lr_decrease = factor_lr_decrease\n",
    "        self.grace_epochs = grace_epochs\n",
    "        self.rolling_epochs = rolling_epochs\n",
    "        self.factor_loss_relative = factor_loss_relative\n",
    "        self.min_lr = min_lr\n",
    "        self.default_lr = default_lr\n",
    "        self.reset()\n",
    "        \n",
    "    def set_lr(self, lr):\n",
    "        self.lr = lr\n",
    "        for g in self.optimizer.param_groups:\n",
    "            g['lr'] = self.lr\n",
    "        \n",
    "    def reset(self):\n",
    "        self.epochs = 0\n",
    "        self.loss_history = []\n",
    "        self.set_lr(self.default_lr)\n",
    "        \n",
    "    def step(self, loss_value):\n",
    "        if hasattr(loss_value, 'item'):\n",
    "            loss_value = loss_value.item()\n",
    "        self.loss_history.append(loss_value)\n",
    "        self.epochs += 1\n",
    "        \n",
    "        if len(self.loss_history) >= self.grace_epochs + self.rolling_epochs and (self.epochs % self.grace_epochs) == 0:\n",
    "            smoothed_loss = pd.Series(self.loss_history).rolling(self.rolling_epochs).median()\n",
    "#             print(\"smoothed len\", len(smoothed_loss))\n",
    "            smoothed_loss = list(smoothed_loss)\n",
    "            smoothed_loss_then = smoothed_loss[-self.grace_epochs]\n",
    "            smoothed_loss_now = smoothed_loss[-1]\n",
    "            \n",
    "            # example: then=1, now=-1 -> improvement = 2/1=2\n",
    "            relative_improvement = (smoothed_loss_then - smoothed_loss_now) / smoothed_loss_then\n",
    "            \n",
    "            print(f\"Epoch {self.epochs} relative improvement {round(100 * relative_improvement)}%\")\n",
    "            \n",
    "            if relative_improvement < self.factor_loss_relative:\n",
    "                self.set_lr(self.lr * self.factor_lr_decrease)\n",
    "                \n",
    "        if self.lr < self.min_lr:\n",
    "            self.reset()"
   ]
  },
  {
   "cell_type": "code",
   "execution_count": null,
   "metadata": {},
   "outputs": [],
   "source": [
    "opt_m"
   ]
  },
  {
   "cell_type": "code",
   "execution_count": null,
   "metadata": {},
   "outputs": [],
   "source": [
    "decay_m = RelativePlateauLRDecay(optimizer=opt_m)\n",
    "decay_d = RelativePlateauLRDecay(optimizer=opt_d)\n",
    "decay_md = RelativePlateauLRDecay(optimizer=opt_md)"
   ]
  },
  {
   "cell_type": "code",
   "execution_count": null,
   "metadata": {},
   "outputs": [],
   "source": [
    "epochs = 500000\n",
    "with tqdm(total=epochs) as pbar:\n",
    "    for i in range(epochs):\n",
    "        if i % 1 == 0 or not ctx_set:\n",
    "            ctx_set = True\n",
    "            ctx = learner.collect_and_get_context()\n",
    "            ratio = ctx.get('context_stats_collected_sampled_ratio', None)\n",
    "            if ratio:\n",
    "                ratios.append(ratio)\n",
    "            elif ratios:\n",
    "                ratios.append(ratios[-1])\n",
    "\n",
    "    #         if mins is None or maxes is None:\n",
    "    #             print(\"Computing minmax\")\n",
    "    #             f_all = learner.decoder(ctx['obs'])\n",
    "    #             mins = f_all.min(dim=0, keepdim=True).values.detach()\n",
    "    #             maxes = f_all.max(dim=0, keepdim=True).values.detach()\n",
    "\n",
    "    #         f_t1 = learner.decoder(ctx['obs_y'])#.detach()\n",
    "    #         f_t = learner.decoder(ctx['obs_x'])#.detach()\n",
    "\n",
    "    # #         f_t1 = normalize(f_t1, mins, maxes)\n",
    "    # #         f_t = normalize(f_t, mins, maxes)\n",
    "\n",
    "    #         add_features_y = torch.cat([ctx[k] for k in ctx['additional_feature_keys']], dim=1)\n",
    "    #         f_t1 = torch.cat([f_t1, add_features_y], dim=1)\n",
    "\n",
    "    #     f_t1_pred = use_model(\n",
    "    #         f_t,\n",
    "    #         ctx['action_x'],\n",
    "    #         all=True)\n",
    "\n",
    "        ctx['non_sparse_model_add'] = use_model\n",
    "    #     ctx['additional_feature_keys'] = []\n",
    "        l_obj_fit = context_rewriter(function=fit_loss, rewrite={'model': 'non_sparse_model_add'},\n",
    "                                     divide_by_std=False,\n",
    "                                     **ctx)\n",
    "        l_obj_emb = siamese_feature_discriminator_l2(**ctx)\n",
    "\n",
    "        loss = l_obj_fit['loss'] + l_obj_emb['loss']\n",
    "\n",
    "\n",
    "    #     loss = nn.MSELoss()(f_t1, f_t1_pred)\n",
    "\n",
    "\n",
    "        stage = (i // 100) % 3\n",
    "        if stage == 0:\n",
    "            opt_m.zero_grad()\n",
    "#             l_obj_fit['loss'].backward()\n",
    "            loss.backward()\n",
    "    #         loss.backward()\n",
    "            opt_m.step()\n",
    "            decay_m.step(loss.item())\n",
    "        elif stage == 1:\n",
    "            opt_d.zero_grad()\n",
    "#             l_obj_emb = siamese_feature_discriminator_l2(**ctx)\n",
    "\n",
    "#             l_obj_emb['loss'].backward()\n",
    "            loss.backward()\n",
    "            opt_d.step()\n",
    "            decay_d.step(loss.item())\n",
    "        elif stage == 2:\n",
    "            opt_md.zero_grad()\n",
    "            loss.backward()\n",
    "            opt_md.step()\n",
    "            decay_md.step(loss.item())\n",
    "    \n",
    "        losses.append(loss.item())\n",
    "        losses_emb.append(l_obj_emb['loss'].item())\n",
    "        losses_fit.append(l_obj_fit['loss'].item())\n",
    "        m = {}\n",
    "        m.update(l_obj_fit['metrics'])\n",
    "        m.update(l_obj_emb['metrics'])\n",
    "        metrics.append(m)\n",
    "        pbar.update(1)\n",
    "        pbar.set_postfix(loss_fit=losses_fit[-1], loss_emb=losses_emb[-1], stage=stage,\n",
    "                        lr_m=decay_m.lr, lr_d=decay_d.lr, lr_md=decay_md.lr)"
   ]
  },
  {
   "cell_type": "code",
   "execution_count": null,
   "metadata": {},
   "outputs": [],
   "source": [
    "# multistep\n",
    "plt.figure(figsize=(10, 3))\n",
    "plt.subplot(1, 2, 1)\n",
    "plt.plot(losses, label='loss')\n",
    "plt.plot(pd.Series(losses_fit).rolling(10).median(), label='fit')\n",
    "plt.legend()\n",
    "plt.yscale('log')\n",
    "plt.subplot(1, 2, 2)\n",
    "plt.plot(losses_emb, label='emb')\n",
    "plt.plot(pd.Series(losses_emb).rolling(10).median(), label='emb')\n",
    "\n",
    "plt.legend()\n",
    "#plt.plot(dplus, label='dplus')\n",
    "plt.yscale('log')"
   ]
  },
  {
   "cell_type": "code",
   "execution_count": null,
   "metadata": {},
   "outputs": [],
   "source": []
  },
  {
   "cell_type": "code",
   "execution_count": null,
   "metadata": {},
   "outputs": [],
   "source": [
    "plt.scatter(losses_emb, losses_fit, alpha=0.05)\n",
    "plt.xscale('log')\n",
    "plt.yscale('log')\n",
    "plt.xlabel('emb loss')\n",
    "plt.ylabel('fit loss')"
   ]
  },
  {
   "cell_type": "code",
   "execution_count": null,
   "metadata": {},
   "outputs": [],
   "source": [
    "%%javascript\n",
    "var jq = document.createElement('script');\n",
    "jq.src = \"https://ajax.googleapis.com/ajax/libs/jquery/2.1.4/jquery.min.js\";\n",
    "document.getElementsByTagName('head')[0].appendChild(jq);"
   ]
  },
  {
   "cell_type": "code",
   "execution_count": null,
   "metadata": {},
   "outputs": [],
   "source": [
    "%load_ext jupyternotify\n",
    "%autonotify -a 30"
   ]
  },
  {
   "cell_type": "code",
   "execution_count": null,
   "metadata": {},
   "outputs": [],
   "source": [
    "f_t1 = learner.decoder(ctx['obs_y'])#.detach()\n",
    "f_t = learner.decoder(ctx['obs_x'])#.detach()\n",
    "\n",
    "#         f_t1 = normalize(f_t1, mins, maxes)\n",
    "#         f_t = normalize(f_t, mins, maxes)\n",
    "\n",
    "add_features_y = torch.cat([ctx[k] for k in ctx['additional_feature_keys']], dim=1)\n",
    "# f_t1 = torch.zeros_like(f_t1)\n",
    "f_t1 = torch.cat([f_t1, add_features_y], dim=1)\n",
    "\n",
    "f_t1_pred = use_model(\n",
    "f_t,\n",
    "ctx['action_x'],\n",
    "all=True)\n"
   ]
  },
  {
   "cell_type": "code",
   "execution_count": null,
   "metadata": {},
   "outputs": [],
   "source": [
    "sns.heatmap((f_t1_pred - f_t1).pow(2).mean(0).cpu().detach().numpy().reshape(-1, 1), vmin=0)"
   ]
  },
  {
   "cell_type": "code",
   "execution_count": null,
   "metadata": {},
   "outputs": [],
   "source": [
    "metrics_dct = lstdct2dctlst(metrics)\n",
    "metrics_dct['ratios'] = ratios\n",
    "for key, vals in metrics_dct.items():\n",
    "    if len(np.array(vals).shape) > 1: continue\n",
    "    plt.plot(vals, label=key)\n",
    "plt.ylim((-10, 10))\n",
    "plt.legend()\n",
    "plt.show()"
   ]
  },
  {
   "cell_type": "code",
   "execution_count": null,
   "metadata": {},
   "outputs": [],
   "source": [
    "plt.yscale('log')\n",
    "for key in ['loss_1step', 'loss_3step']:\n",
    "    plt.plot(metrics_dct[key], label=key)\n",
    "plt.legend()"
   ]
  },
  {
   "cell_type": "code",
   "execution_count": null,
   "metadata": {},
   "outputs": [],
   "source": [
    "metrics_dct.keys()"
   ]
  },
  {
   "cell_type": "code",
   "execution_count": null,
   "metadata": {},
   "outputs": [],
   "source": [
    "losses[-1]"
   ]
  },
  {
   "cell_type": "code",
   "execution_count": null,
   "metadata": {},
   "outputs": [],
   "source": [
    "learner.decoder(ctx['obs_x']).min()"
   ]
  },
  {
   "cell_type": "code",
   "execution_count": 119,
   "metadata": {},
   "outputs": [],
   "source": [
    "# metrics_dct['']"
   ]
  },
  {
   "cell_type": "code",
   "execution_count": 120,
   "metadata": {},
   "outputs": [
    {
     "data": {
      "text/plain": [
       "<AxesSubplot:>"
      ]
     },
     "execution_count": 120,
     "metadata": {},
     "output_type": "execute_result"
    },
    {
     "data": {
      "image/png": "[encoded data removed]",
      "text/plain": [
       "<Figure size 432x288 with 2 Axes>"
      ]
     },
     "metadata": {
      "needs_background": "light"
     },
     "output_type": "display_data"
    }
   ],
   "source": [
    "sns.heatmap(np.log(((f_t1_pred - f_t1).pow(2).mean(0) / f_t1.std(0).pow(2)).cpu().detach().numpy().reshape(-1, 1)))"
   ]
  },
  {
   "cell_type": "code",
   "execution_count": 121,
   "metadata": {},
   "outputs": [
    {
     "data": {
      "text/plain": [
       "<AxesSubplot:>"
      ]
     },
     "execution_count": 121,
     "metadata": {},
     "output_type": "execute_result"
    },
    {
     "data": {
      "image/png": "[encoded data removed]",
      "text/plain": [
       "<Figure size 432x288 with 2 Axes>"
      ]
     },
     "metadata": {
      "needs_background": "light"
     },
     "output_type": "display_data"
    }
   ],
   "source": [
    "sns.heatmap(np.log(f_t1.std(0).pow(2).cpu().detach().numpy().reshape(-1, 1)))"
   ]
  },
  {
   "cell_type": "code",
   "execution_count": null,
   "metadata": {},
   "outputs": [],
   "source": []
  }
 ],
 "metadata": {
  "kernelspec": {
   "display_name": "Python 3",
   "language": "python",
   "name": "python3"
  },
  "language_info": {
   "codemirror_mode": {
    "name": "ipython",
    "version": 3
   },
   "file_extension": ".py",
   "mimetype": "text/x-python",
   "name": "python",
   "nbconvert_exporter": "python",
   "pygments_lexer": "ipython3",
   "version": "3.7.0"
  }
 },
 "nbformat": 4,
 "nbformat_minor": 5
}
