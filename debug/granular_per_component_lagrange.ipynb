{
 "cells": [
  {
   "cell_type": "code",
   "execution_count": 5,
   "id": "b4171182",
   "metadata": {},
   "outputs": [
    {
     "name": "stdout",
     "output_type": "stream",
     "text": [
      "The autoreload extension is already loaded. To reload it, use:\n",
      "  %reload_ext autoreload\n"
     ]
    },
    {
     "data": {
      "text/html": [
       "<pre style=\"white-space:pre;overflow-x:auto;line-height:normal;font-family:Menlo,'DejaVu Sans Mono',consolas,'Courier New',monospace\"><span style=\"color: #7fbfbf; text-decoration-color: #7fbfbf\">[04/15/21 12:34:33] </span><span style=\"color: #008000; text-decoration-color: #008000\">DEBUG   </span> DEBUG:matplotlib.pyplot:Loaded backend             <a href=\"file:///home/sergei/miniconda3/envs/causal/lib/python3.7/site-packages/matplotlib/pyplot.py\"><span style=\"color: #7f7f7f; text-decoration-color: #7f7f7f\">pyplot.py</span></a><span style=\"color: #7f7f7f; text-decoration-color: #7f7f7f\">:291</span>\n",
       "                             module:<span style=\"color: #800080; text-decoration-color: #800080\">//</span><span style=\"color: #ff00ff; text-decoration-color: #ff00ff\">ipykernel.pylab.backend_inline</span> version                 \n",
       "                             unknown.                                                        \n",
       "</pre>\n"
      ],
      "text/plain": [
       "\u001b[2;36m[04/15/21 12:34:33]\u001b[0m\u001b[2;36m \u001b[0m\u001b[32mDEBUG   \u001b[0m DEBUG:matplotlib.pyplot:Loaded backend             \u001b]8;id=1618482873.370334-422881;file:///home/sergei/miniconda3/envs/causal/lib/python3.7/site-packages/matplotlib/pyplot.py\u001b\\\u001b[2mpyplot.py\u001b[0m\u001b]8;;\u001b\\\u001b[2m:291\u001b[0m\n",
       "                             module:\u001b[35m/\u001b[0m\u001b[35m/\u001b[0m\u001b[95mipykernel.pylab.backend_inline\u001b[0m version                 \n",
       "                             unknown.                                                        \n"
      ]
     },
     "metadata": {},
     "output_type": "display_data"
    },
    {
     "name": "stderr",
     "output_type": "stream",
     "text": [
      "2021-04-15 12:34:33,373\tINFO worker.py:651 -- Connecting to existing Ray cluster at address: 10.90.40.6:42515\n"
     ]
    },
    {
     "data": {
      "text/plain": [
       "{'node_ip_address': '10.90.40.6',\n",
       " 'raylet_ip_address': '10.90.40.6',\n",
       " 'redis_address': '10.90.40.6:42515',\n",
       " 'object_store_address': '/tmp/ray/session_2021-04-15_10-42-19_435215_40080/sockets/plasma_store',\n",
       " 'raylet_socket_name': '/tmp/ray/session_2021-04-15_10-42-19_435215_40080/sockets/raylet',\n",
       " 'webui_url': '127.0.0.1:8266',\n",
       " 'session_dir': '/tmp/ray/session_2021-04-15_10-42-19_435215_40080',\n",
       " 'metrics_export_port': 61237,\n",
       " 'node_id': '70c53a33ff0aa9acc725d357887a6d8742f2cdf3'}"
      ]
     },
     "execution_count": 5,
     "metadata": {},
     "output_type": "execute_result"
    }
   ],
   "source": [
    "%load_ext autoreload\n",
    "%autoreload 2\n",
    "import os\n",
    "os.environ['CUDA_VISIBLE_DEVICES'] = \"0\"\n",
    "import gin\n",
    "import numpy as np\n",
    "from matplotlib import pyplot as plt\n",
    "from torch.autograd import Variable\n",
    "from tqdm.auto import tqdm\n",
    "import torch\n",
    "from causal_util.helpers import lstdct2dctlst\n",
    "from sparse_causal_model_learner_rl.sacred_gin_tune.sacred_wrapper import load_config_files\n",
    "from sparse_causal_model_learner_rl.loss.losses import fit_loss_obs_space, lagrangian_granular\n",
    "from sparse_causal_model_learner_rl.config import Config\n",
    "from sparse_causal_model_learner_rl.learners.rl_learner import CausalModelLearnerRL\n",
    "%matplotlib inline\n",
    "gin.enter_interactive_mode()\n",
    "\n",
    "import ray\n",
    "ray.init('10.90.40.6:42515')"
   ]
  },
  {
   "cell_type": "code",
   "execution_count": 6,
   "id": "fc711c2e",
   "metadata": {},
   "outputs": [],
   "source": [
    "def reload_config():\n",
    "    load_config_files(['../sparse_causal_model_learner_rl/configs/rl_const_sparsity_obs_space.gin',\n",
    "#                        '../keychest/config/5x5_1f_obs.gin',\n",
    "#                        '../sparse_causal_model_learner_rl/configs/env_kc_5x5_1f_obs_quad.gin',\n",
    "                       '../sparse_causal_model_learner_rl/configs/env_sm5_linear.gin',\n",
    "#                        '../sparse_causal_model_learner_rl/configs/with_lagrange_dual_sparsity.gin',\n",
    "                       '../sparse_causal_model_learner_rl/configs/with_lagrange_dual_sparsity_per_component.gin',\n",
    "                      ])"
   ]
  },
  {
   "cell_type": "code",
   "execution_count": 7,
   "id": "a6b78cc8",
   "metadata": {},
   "outputs": [],
   "source": [
    "reload_config()\n",
    "gin.bind_parameter('Config.collect_initial_steps', 1000)"
   ]
  },
  {
   "cell_type": "code",
   "execution_count": 8,
   "id": "b8d4cf96",
   "metadata": {},
   "outputs": [
    {
     "data": {
      "text/html": [
       "<pre style=\"white-space:pre;overflow-x:auto;line-height:normal;font-family:Menlo,'DejaVu Sans Mono',consolas,'Courier New',monospace\"><span style=\"color: #7fbfbf; text-decoration-color: #7fbfbf\">[04/15/21 12:34:39] </span><span style=\"color: #000080; text-decoration-color: #000080\">INFO    </span> INFO:root:Using device cu<span style=\"color: #00ff00; text-decoration-color: #00ff00; font-weight: bold\">da:0</span>             <a href=\"file:///home/sergei/causality-disentanglement-rl/sparse_causal_model_learner_rl/learners/abstract_learner.py\"><span style=\"color: #7f7f7f; text-decoration-color: #7f7f7f\">abstract_learner.py</span></a><span style=\"color: #7f7f7f; text-decoration-color: #7f7f7f\">:37</span>\n",
       "</pre>\n"
      ],
      "text/plain": [
       "\u001b[2;36m[04/15/21 12:34:39]\u001b[0m\u001b[2;36m \u001b[0m\u001b[34mINFO    \u001b[0m INFO:root:Using device cu\u001b[1;92mda:0\u001b[0m             \u001b]8;id=1618482879.313349-964882;file:///home/sergei/causality-disentanglement-rl/sparse_causal_model_learner_rl/learners/abstract_learner.py\u001b\\\u001b[2mabstract_learner.py\u001b[0m\u001b]8;;\u001b\\\u001b[2m:37\u001b[0m\n"
      ]
     },
     "metadata": {},
     "output_type": "display_data"
    },
    {
     "name": "stderr",
     "output_type": "stream",
     "text": [
      "2021-04-15 12:34:39,315\tWARNING session.py:20 -- Session not detected. You should not be calling this function outside `tune.run` or while using the class API. \n"
     ]
    },
    {
     "name": "stdout",
     "output_type": "stream",
     "text": [
      "Selecting name 2e78d018-9dd6-11eb-bfe7-90e2baa15a70\n"
     ]
    },
    {
     "data": {
      "text/html": [
       "<pre style=\"white-space:pre;overflow-x:auto;line-height:normal;font-family:Menlo,'DejaVu Sans Mono',consolas,'Courier New',monospace\"><span style=\"color: #7fbfbf; text-decoration-color: #7fbfbf\">                    </span><span style=\"color: #000080; text-decoration-color: #000080\">INFO    </span> INFO:root:Starting parameter communicator with name <a href=\"file:///home/sergei/causality-disentanglement-rl/sparse_causal_model_learner_rl/config/config.py\"><span style=\"color: #7f7f7f; text-decoration-color: #7f7f7f\">config.py</span></a><span style=\"color: #7f7f7f; text-decoration-color: #7f7f7f\">:64</span>\n",
       "                             <span style=\"color: #ffff00; text-decoration-color: #ffff00\">2e78d018-9dd6-11eb-bfe7-90e2baa15a70</span>                            \n",
       "</pre>\n"
      ],
      "text/plain": [
       "\u001b[2;36m                   \u001b[0m\u001b[2;36m \u001b[0m\u001b[34mINFO    \u001b[0m INFO:root:Starting parameter communicator with name \u001b]8;id=1618482879.3184392-231487;file:///home/sergei/causality-disentanglement-rl/sparse_causal_model_learner_rl/config/config.py\u001b\\\u001b[2mconfig.py\u001b[0m\u001b]8;;\u001b\\\u001b[2m:64\u001b[0m\n",
       "                             \u001b[93m2e78d018-9dd6-11eb-bfe7-90e2baa15a70\u001b[0m                            \n"
      ]
     },
     "metadata": {},
     "output_type": "display_data"
    },
    {
     "name": "stdout",
     "output_type": "stream",
     "text": [
      "Make environment SparseMatrix-v0 [<class 'encoder.observation_encoder.LinearMatrixEncoder'>] {}\n"
     ]
    },
    {
     "data": {
      "text/html": [
       "<pre style=\"white-space:pre;overflow-x:auto;line-height:normal;font-family:Menlo,'DejaVu Sans Mono',consolas,'Courier New',monospace\"><span style=\"color: #7fbfbf; text-decoration-color: #7fbfbf\">                    </span><span style=\"color: #000080; text-decoration-color: #000080\">INFO    </span> INFO:root:<span style=\"font-weight: bold\">{</span><span style=\"color: #008000; text-decoration-color: #008000\">'feature_shape'</span>: <span style=\"font-weight: bold\">(</span><span style=\"color: #008080; text-decoration-color: #008080; font-weight: bold\">5</span>,<span style=\"font-weight: bold\">)</span>,               <a href=\"file:///home/sergei/causality-disentanglement-rl/sparse_causal_model_learner_rl/learners/rl_learner.py\"><span style=\"color: #7f7f7f; text-decoration-color: #7f7f7f\">rl_learner.py</span></a><span style=\"color: #7f7f7f; text-decoration-color: #7f7f7f\">:71</span>\n",
       "                             <span style=\"color: #008000; text-decoration-color: #008000\">'action_shape'</span>: <span style=\"font-weight: bold\">(</span><span style=\"color: #008080; text-decoration-color: #008080; font-weight: bold\">5</span>,<span style=\"font-weight: bold\">)</span>, <span style=\"color: #008000; text-decoration-color: #008000\">'observation_shape'</span>:                      \n",
       "                             <span style=\"font-weight: bold\">(</span><span style=\"color: #008080; text-decoration-color: #008080; font-weight: bold\">5</span>,<span style=\"font-weight: bold\">)</span>, <span style=\"color: #008000; text-decoration-color: #008000\">'additional_feature_shape'</span>: <span style=\"font-weight: bold\">(</span><span style=\"color: #008080; text-decoration-color: #008080; font-weight: bold\">0</span>,<span style=\"font-weight: bold\">)</span>,                         \n",
       "                             <span style=\"color: #008000; text-decoration-color: #008000\">'total_feature_shape'</span>: <span style=\"font-weight: bold\">(</span><span style=\"color: #008080; text-decoration-color: #008080; font-weight: bold\">5</span>,<span style=\"font-weight: bold\">)}</span>                                    \n",
       "</pre>\n"
      ],
      "text/plain": [
       "\u001b[2;36m                   \u001b[0m\u001b[2;36m \u001b[0m\u001b[34mINFO    \u001b[0m INFO:root:\u001b[1m{\u001b[0m\u001b[32m'feature_shape'\u001b[0m: \u001b[1m(\u001b[0m\u001b[1;36m5\u001b[0m,\u001b[1m)\u001b[0m,               \u001b]8;id=1618482879.6552324-904117;file:///home/sergei/causality-disentanglement-rl/sparse_causal_model_learner_rl/learners/rl_learner.py\u001b\\\u001b[2mrl_learner.py\u001b[0m\u001b]8;;\u001b\\\u001b[2m:71\u001b[0m\n",
       "                             \u001b[32m'action_shape'\u001b[0m: \u001b[1m(\u001b[0m\u001b[1;36m5\u001b[0m,\u001b[1m)\u001b[0m, \u001b[32m'observation_shape'\u001b[0m:                      \n",
       "                             \u001b[1m(\u001b[0m\u001b[1;36m5\u001b[0m,\u001b[1m)\u001b[0m, \u001b[32m'additional_feature_shape'\u001b[0m: \u001b[1m(\u001b[0m\u001b[1;36m0\u001b[0m,\u001b[1m)\u001b[0m,                         \n",
       "                             \u001b[32m'total_feature_shape'\u001b[0m: \u001b[1m(\u001b[0m\u001b[1;36m5\u001b[0m,\u001b[1m)\u001b[0m\u001b[1m}\u001b[0m                                    \n"
      ]
     },
     "metadata": {},
     "output_type": "display_data"
    },
    {
     "name": "stderr",
     "output_type": "stream",
     "text": [
      "2021-04-15 12:34:39,817\tWARNING session.py:20 -- Session not detected. You should not be calling this function outside `tune.run` or while using the class API. \n"
     ]
    },
    {
     "name": "stdout",
     "output_type": "stream",
     "text": [
      "\u001b[2m\u001b[36m(pid=29617)\u001b[0m Make environment SparseMatrix-v0 [<class 'encoder.observation_encoder.LinearMatrixEncoder'>] {}\n",
      "\u001b[2m\u001b[36m(pid=29615)\u001b[0m Make environment SparseMatrix-v0 [<class 'encoder.observation_encoder.LinearMatrixEncoder'>] {}\n",
      "\u001b[2m\u001b[36m(pid=29618)\u001b[0m Make environment SparseMatrix-v0 [<class 'encoder.observation_encoder.LinearMatrixEncoder'>] {}\n"
     ]
    },
    {
     "data": {
      "text/html": [
       "<pre style=\"white-space:pre;overflow-x:auto;line-height:normal;font-family:Menlo,'DejaVu Sans Mono',consolas,'Courier New',monospace\"><span style=\"color: #7fbfbf; text-decoration-color: #7fbfbf\">[04/15/21 12:34:43] </span><span style=\"color: #000080; text-decoration-color: #000080\">INFO    </span> INFO:root:Buffer reset response: <span style=\"font-weight: bold\">{</span><span style=\"color: #008000; text-decoration-color: #008000\">'info'</span>: <span style=\"color: #008000; text-decoration-color: #008000\">'buffer</span> <a href=\"file:///home/sergei/causality-disentanglement-rl/sparse_causal_model_learner_rl/learners/rl_data.py\"><span style=\"color: #7f7f7f; text-decoration-color: #7f7f7f\">rl_data.py</span></a><span style=\"color: #7f7f7f; text-decoration-color: #7f7f7f\">:399</span>\n",
       "                             <span style=\"color: #008000; text-decoration-color: #008000\">cleaned'</span><span style=\"font-weight: bold\">}</span>                                                       \n",
       "</pre>\n"
      ],
      "text/plain": [
       "\u001b[2;36m[04/15/21 12:34:43]\u001b[0m\u001b[2;36m \u001b[0m\u001b[34mINFO    \u001b[0m INFO:root:Buffer reset response: \u001b[1m{\u001b[0m\u001b[32m'info'\u001b[0m: \u001b[32m'buffer\u001b[0m \u001b]8;id=1618482883.4243681-68502;file:///home/sergei/causality-disentanglement-rl/sparse_causal_model_learner_rl/learners/rl_data.py\u001b\\\u001b[2mrl_data.py\u001b[0m\u001b]8;;\u001b\\\u001b[2m:399\u001b[0m\n",
       "                             \u001b[32mcleaned'\u001b[0m\u001b[1m}\u001b[0m                                                       \n"
      ]
     },
     "metadata": {},
     "output_type": "display_data"
    },
    {
     "data": {
      "application/vnd.jupyter.widget-view+json": {
       "model_id": "5ab58616759f4b73ba4de2c8280a29ce",
       "version_major": 2,
       "version_minor": 0
      },
      "text/plain": [
       "HBox(children=(HTML(value='Initial buffer fill'), FloatProgress(value=0.0, max=1000.0), HTML(value='')))"
      ]
     },
     "metadata": {},
     "output_type": "display_data"
    },
    {
     "name": "stdout",
     "output_type": "stream",
     "text": [
      "\n"
     ]
    },
    {
     "data": {
      "text/html": [
       "<pre style=\"white-space:pre;overflow-x:auto;line-height:normal;font-family:Menlo,'DejaVu Sans Mono',consolas,'Courier New',monospace\"><span style=\"color: #7fbfbf; text-decoration-color: #7fbfbf\">                    </span><span style=\"color: #800000; text-decoration-color: #800000\">WARNING </span> WARNING:root:Computed std for obs         <a href=\"file:///home/sergei/causality-disentanglement-rl/sparse_causal_model_learner_rl/learners/input_normalizer.py\"><span style=\"color: #7f7f7f; text-decoration-color: #7f7f7f\">input_normalizer.py</span></a><span style=\"color: #7f7f7f; text-decoration-color: #7f7f7f\">:61</span>\n",
       "                             <span style=\"font-weight: bold\">[</span><span style=\"color: #808000; text-decoration-color: #808000\">shape</span>=<span style=\"font-weight: bold\">(</span><span style=\"color: #008080; text-decoration-color: #008080; font-weight: bold\">5</span>,<span style=\"font-weight: bold\">)</span>, <span style=\"color: #808000; text-decoration-color: #808000\">components</span>=<span style=\"color: #008080; text-decoration-color: #008080; font-weight: bold\">5</span><span style=\"font-weight: bold\">]</span>: <span style=\"font-weight: bold\">[</span><span style=\"color: #008080; text-decoration-color: #008080; font-weight: bold\">-0.12032829</span>                        \n",
       "                             <span style=\"color: #008080; text-decoration-color: #008080; font-weight: bold\">-0.04041306</span>  <span style=\"color: #008080; text-decoration-color: #008080; font-weight: bold\">0.01703618</span>  <span style=\"color: #008080; text-decoration-color: #008080; font-weight: bold\">0.10866689</span>                             \n",
       "                             <span style=\"color: #008080; text-decoration-color: #008080; font-weight: bold\">-0.02047071</span><span style=\"font-weight: bold\">]</span> <span style=\"font-weight: bold\">[</span><span style=\"color: #008080; text-decoration-color: #008080; font-weight: bold\">2.934813</span>  <span style=\"color: #008080; text-decoration-color: #008080; font-weight: bold\">2.9692142</span> <span style=\"color: #008080; text-decoration-color: #008080; font-weight: bold\">2.48224</span>                       \n",
       "                             <span style=\"color: #008080; text-decoration-color: #008080; font-weight: bold\">3.433611</span>  <span style=\"color: #008080; text-decoration-color: #008080; font-weight: bold\">2.7330003</span><span style=\"font-weight: bold\">]</span>                                            \n",
       "</pre>\n"
      ],
      "text/plain": [
       "\u001b[2;36m                   \u001b[0m\u001b[2;36m \u001b[0m\u001b[31mWARNING \u001b[0m WARNING:root:Computed std for obs         \u001b]8;id=1618482883.615214-788975;file:///home/sergei/causality-disentanglement-rl/sparse_causal_model_learner_rl/learners/input_normalizer.py\u001b\\\u001b[2minput_normalizer.py\u001b[0m\u001b]8;;\u001b\\\u001b[2m:61\u001b[0m\n",
       "                             \u001b[1m[\u001b[0m\u001b[33mshape\u001b[0m=\u001b[1m(\u001b[0m\u001b[1;36m5\u001b[0m,\u001b[1m)\u001b[0m, \u001b[33mcomponents\u001b[0m=\u001b[1;36m5\u001b[0m\u001b[1m]\u001b[0m: \u001b[1m[\u001b[0m\u001b[1;36m-0.12032829\u001b[0m                        \n",
       "                             \u001b[1;36m-0.04041306\u001b[0m  \u001b[1;36m0.01703618\u001b[0m  \u001b[1;36m0.10866689\u001b[0m                             \n",
       "                             \u001b[1;36m-0.02047071\u001b[0m\u001b[1m]\u001b[0m \u001b[1m[\u001b[0m\u001b[1;36m2.934813\u001b[0m  \u001b[1;36m2.9692142\u001b[0m \u001b[1;36m2.48224\u001b[0m                       \n",
       "                             \u001b[1;36m3.433611\u001b[0m  \u001b[1;36m2.7330003\u001b[0m\u001b[1m]\u001b[0m                                            \n"
      ]
     },
     "metadata": {},
     "output_type": "display_data"
    },
    {
     "data": {
      "text/html": [
       "<pre style=\"white-space:pre;overflow-x:auto;line-height:normal;font-family:Menlo,'DejaVu Sans Mono',consolas,'Courier New',monospace\"><span style=\"color: #7fbfbf; text-decoration-color: #7fbfbf\">                    </span><span style=\"color: #800000; text-decoration-color: #800000\">WARNING </span> WARNING:root:Computed std for rew_y       <a href=\"file:///home/sergei/causality-disentanglement-rl/sparse_causal_model_learner_rl/learners/input_normalizer.py\"><span style=\"color: #7f7f7f; text-decoration-color: #7f7f7f\">input_normalizer.py</span></a><span style=\"color: #7f7f7f; text-decoration-color: #7f7f7f\">:61</span>\n",
       "                             <span style=\"font-weight: bold\">[</span><span style=\"color: #808000; text-decoration-color: #808000\">shape</span>=<span style=\"color: #800080; text-decoration-color: #800080\">scalar</span>, <span style=\"color: #808000; text-decoration-color: #808000\">components</span>=<span style=\"color: #008080; text-decoration-color: #008080; font-weight: bold\">1</span><span style=\"font-weight: bold\">]</span>: <span style=\"color: #008080; text-decoration-color: #008080; font-weight: bold\">0.0</span> <span style=\"color: #008080; text-decoration-color: #008080; font-weight: bold\">1.0</span>                           \n",
       "</pre>\n"
      ],
      "text/plain": [
       "\u001b[2;36m                   \u001b[0m\u001b[2;36m \u001b[0m\u001b[31mWARNING \u001b[0m WARNING:root:Computed std for rew_y       \u001b]8;id=1618482883.631574-664713;file:///home/sergei/causality-disentanglement-rl/sparse_causal_model_learner_rl/learners/input_normalizer.py\u001b\\\u001b[2minput_normalizer.py\u001b[0m\u001b]8;;\u001b\\\u001b[2m:61\u001b[0m\n",
       "                             \u001b[1m[\u001b[0m\u001b[33mshape\u001b[0m=\u001b[35mscalar\u001b[0m, \u001b[33mcomponents\u001b[0m=\u001b[1;36m1\u001b[0m\u001b[1m]\u001b[0m: \u001b[1;36m0.0\u001b[0m \u001b[1;36m1.0\u001b[0m                           \n"
      ]
     },
     "metadata": {},
     "output_type": "display_data"
    },
    {
     "data": {
      "text/html": [
       "<pre style=\"white-space:pre;overflow-x:auto;line-height:normal;font-family:Menlo,'DejaVu Sans Mono',consolas,'Courier New',monospace\"><span style=\"color: #7fbfbf; text-decoration-color: #7fbfbf\">                    </span><span style=\"color: #800000; text-decoration-color: #800000\">WARNING </span> WARNING:root:Computed std for done_y      <a href=\"file:///home/sergei/causality-disentanglement-rl/sparse_causal_model_learner_rl/learners/input_normalizer.py\"><span style=\"color: #7f7f7f; text-decoration-color: #7f7f7f\">input_normalizer.py</span></a><span style=\"color: #7f7f7f; text-decoration-color: #7f7f7f\">:61</span>\n",
       "                             <span style=\"font-weight: bold\">[</span><span style=\"color: #808000; text-decoration-color: #808000\">shape</span>=<span style=\"color: #800080; text-decoration-color: #800080\">scalar</span>, <span style=\"color: #808000; text-decoration-color: #808000\">components</span>=<span style=\"color: #008080; text-decoration-color: #008080; font-weight: bold\">1</span><span style=\"font-weight: bold\">]</span>:                                   \n",
       "                             <span style=\"color: #008080; text-decoration-color: #008080; font-weight: bold\">0.0027300273068249226</span> <span style=\"color: #008080; text-decoration-color: #008080; font-weight: bold\">0.05217830464243889</span>                       \n",
       "</pre>\n"
      ],
      "text/plain": [
       "\u001b[2;36m                   \u001b[0m\u001b[2;36m \u001b[0m\u001b[31mWARNING \u001b[0m WARNING:root:Computed std for done_y      \u001b]8;id=1618482883.6358266-22924;file:///home/sergei/causality-disentanglement-rl/sparse_causal_model_learner_rl/learners/input_normalizer.py\u001b\\\u001b[2minput_normalizer.py\u001b[0m\u001b]8;;\u001b\\\u001b[2m:61\u001b[0m\n",
       "                             \u001b[1m[\u001b[0m\u001b[33mshape\u001b[0m=\u001b[35mscalar\u001b[0m, \u001b[33mcomponents\u001b[0m=\u001b[1;36m1\u001b[0m\u001b[1m]\u001b[0m:                                   \n",
       "                             \u001b[1;36m0.0027300273068249226\u001b[0m \u001b[1;36m0.05217830464243889\u001b[0m                       \n"
      ]
     },
     "metadata": {},
     "output_type": "display_data"
    },
    {
     "data": {
      "text/html": [
       "<pre style=\"white-space:pre;overflow-x:auto;line-height:normal;font-family:Menlo,'DejaVu Sans Mono',consolas,'Courier New',monospace\"><span style=\"color: #7fbfbf; text-decoration-color: #7fbfbf\">                    </span><span style=\"color: #800000; text-decoration-color: #800000\">WARNING </span> WARNING:root:Computed std for             <a href=\"file:///home/sergei/causality-disentanglement-rl/sparse_causal_model_learner_rl/learners/input_normalizer.py\"><span style=\"color: #7f7f7f; text-decoration-color: #7f7f7f\">input_normalizer.py</span></a><span style=\"color: #7f7f7f; text-decoration-color: #7f7f7f\">:61</span>\n",
       "                             reward_to_go <span style=\"font-weight: bold\">[</span><span style=\"color: #808000; text-decoration-color: #808000\">shape</span>=<span style=\"color: #800080; text-decoration-color: #800080\">scalar</span>,                                     \n",
       "                             <span style=\"color: #808000; text-decoration-color: #808000\">components</span>=<span style=\"color: #008080; text-decoration-color: #008080; font-weight: bold\">1</span><span style=\"font-weight: bold\">]</span>: <span style=\"color: #008080; text-decoration-color: #008080; font-weight: bold\">0.0</span> <span style=\"color: #008080; text-decoration-color: #008080; font-weight: bold\">1.0</span>                                          \n",
       "</pre>\n"
      ],
      "text/plain": [
       "\u001b[2;36m                   \u001b[0m\u001b[2;36m \u001b[0m\u001b[31mWARNING \u001b[0m WARNING:root:Computed std for             \u001b]8;id=1618482883.6397378-563651;file:///home/sergei/causality-disentanglement-rl/sparse_causal_model_learner_rl/learners/input_normalizer.py\u001b\\\u001b[2minput_normalizer.py\u001b[0m\u001b]8;;\u001b\\\u001b[2m:61\u001b[0m\n",
       "                             reward_to_go \u001b[1m[\u001b[0m\u001b[33mshape\u001b[0m=\u001b[35mscalar\u001b[0m,                                     \n",
       "                             \u001b[33mcomponents\u001b[0m=\u001b[1;36m1\u001b[0m\u001b[1m]\u001b[0m: \u001b[1;36m0.0\u001b[0m \u001b[1;36m1.0\u001b[0m                                          \n"
      ]
     },
     "metadata": {},
     "output_type": "display_data"
    },
    {
     "name": "stderr",
     "output_type": "stream",
     "text": [
      "2021-04-15 12:34:46,575\tWARNING session.py:20 -- Session not detected. You should not be calling this function outside `tune.run` or while using the class API. \n"
     ]
    },
    {
     "data": {
      "text/html": [
       "<pre style=\"white-space:pre;overflow-x:auto;line-height:normal;font-family:Menlo,'DejaVu Sans Mono',consolas,'Courier New',monospace\"><span style=\"color: #7fbfbf; text-decoration-color: #7fbfbf\">[04/15/21 12:34:46] </span><span style=\"color: #000080; text-decoration-color: #000080\">INFO    </span> INFO:root:Buffer reset response: <span style=\"font-weight: bold\">{</span><span style=\"color: #008000; text-decoration-color: #008000\">'info'</span>: <span style=\"color: #008000; text-decoration-color: #008000\">'buffer</span> <a href=\"file:///home/sergei/causality-disentanglement-rl/sparse_causal_model_learner_rl/learners/rl_data.py\"><span style=\"color: #7f7f7f; text-decoration-color: #7f7f7f\">rl_data.py</span></a><span style=\"color: #7f7f7f; text-decoration-color: #7f7f7f\">:399</span>\n",
       "                             <span style=\"color: #008000; text-decoration-color: #008000\">cleaned'</span><span style=\"font-weight: bold\">}</span>                                                       \n",
       "</pre>\n"
      ],
      "text/plain": [
       "\u001b[2;36m[04/15/21 12:34:46]\u001b[0m\u001b[2;36m \u001b[0m\u001b[34mINFO    \u001b[0m INFO:root:Buffer reset response: \u001b[1m{\u001b[0m\u001b[32m'info'\u001b[0m: \u001b[32m'buffer\u001b[0m \u001b]8;id=1618482886.5890048-77212;file:///home/sergei/causality-disentanglement-rl/sparse_causal_model_learner_rl/learners/rl_data.py\u001b\\\u001b[2mrl_data.py\u001b[0m\u001b]8;;\u001b\\\u001b[2m:399\u001b[0m\n",
       "                             \u001b[32mcleaned'\u001b[0m\u001b[1m}\u001b[0m                                                       \n"
      ]
     },
     "metadata": {},
     "output_type": "display_data"
    },
    {
     "data": {
      "application/vnd.jupyter.widget-view+json": {
       "model_id": "1c41138e8e1d46b589ca83734aaaf445",
       "version_major": 2,
       "version_minor": 0
      },
      "text/plain": [
       "HBox(children=(HTML(value='Initial buffer fill'), FloatProgress(value=0.0, max=1000.0), HTML(value='')))"
      ]
     },
     "metadata": {},
     "output_type": "display_data"
    },
    {
     "name": "stdout",
     "output_type": "stream",
     "text": [
      "\n"
     ]
    }
   ],
   "source": [
    "l = CausalModelLearnerRL(Config())"
   ]
  },
  {
   "cell_type": "code",
   "execution_count": 9,
   "id": "b312f140",
   "metadata": {},
   "outputs": [
    {
     "data": {
      "text/html": [
       "<pre style=\"white-space:pre;overflow-x:auto;line-height:normal;font-family:Menlo,'DejaVu Sans Mono',consolas,'Courier New',monospace\"><span style=\"color: #7fbfbf; text-decoration-color: #7fbfbf\">[04/15/21 12:34:50] </span><span style=\"color: #000080; text-decoration-color: #000080\">INFO    </span> INFO:root:Potential trainable model:      <a href=\"file:///home/sergei/causality-disentanglement-rl/sparse_causal_model_learner_rl/learners/abstract_learner.py\"><span style=\"color: #7f7f7f; text-decoration-color: #7f7f7f\">abstract_learner.py</span></a><span style=\"color: #7f7f7f; text-decoration-color: #7f7f7f\">:97</span>\n",
       "                             Transform current time-step features into                       \n",
       "                             next time-step features                                         \n",
       "</pre>\n"
      ],
      "text/plain": [
       "\u001b[2;36m[04/15/21 12:34:50]\u001b[0m\u001b[2;36m \u001b[0m\u001b[34mINFO    \u001b[0m INFO:root:Potential trainable model:      \u001b]8;id=1618482890.1714416-433100;file:///home/sergei/causality-disentanglement-rl/sparse_causal_model_learner_rl/learners/abstract_learner.py\u001b\\\u001b[2mabstract_learner.py\u001b[0m\u001b]8;;\u001b\\\u001b[2m:97\u001b[0m\n",
       "                             Transform current time-step features into                       \n",
       "                             next time-step features                                         \n"
      ]
     },
     "metadata": {},
     "output_type": "display_data"
    },
    {
     "data": {
      "text/html": [
       "<pre style=\"white-space:pre;overflow-x:auto;line-height:normal;font-family:Menlo,'DejaVu Sans Mono',consolas,'Courier New',monospace\"><span style=\"color: #7fbfbf; text-decoration-color: #7fbfbf\">                    </span><span style=\"color: #000080; text-decoration-color: #000080\">INFO    </span> INFO:root:Passing <span style=\"font-weight: bold\">&lt;</span><span style=\"color: #ff00ff; text-decoration-color: #ff00ff; font-weight: bold\">class</span><span style=\"color: #000000; text-decoration-color: #000000\"> </span><span style=\"color: #008000; text-decoration-color: #008000\">'sparse_causal_</span> <a href=\"file:///home/sergei/causality-disentanglement-rl/sparse_causal_model_learner_rl/learners/abstract_learner.py\"><span style=\"color: #7f7f7f; text-decoration-color: #7f7f7f\">abstract_learner.py</span></a><span style=\"color: #7f7f7f; text-decoration-color: #7f7f7f\">:102</span>\n",
       "                             <span style=\"color: #008000; text-decoration-color: #008000\">model_learner_rl.trainable.model.ManyNet</span>                        \n",
       "                             <span style=\"color: #008000; text-decoration-color: #008000\">workCombinedModel'</span><span style=\"font-weight: bold\">&gt;</span> for model                                   \n",
       "</pre>\n"
      ],
      "text/plain": [
       "\u001b[2;36m                   \u001b[0m\u001b[2;36m \u001b[0m\u001b[34mINFO    \u001b[0m INFO:root:Passing \u001b[1m<\u001b[0m\u001b[1;95mclass\u001b[0m\u001b[39m \u001b[0m\u001b[32m'sparse_causal_\u001b[0m \u001b]8;id=1618482890.1767683-649729;file:///home/sergei/causality-disentanglement-rl/sparse_causal_model_learner_rl/learners/abstract_learner.py\u001b\\\u001b[2mabstract_learner.py\u001b[0m\u001b]8;;\u001b\\\u001b[2m:102\u001b[0m\n",
       "                             \u001b[32mmodel_learner_rl.trainable.model.ManyNet\u001b[0m                        \n",
       "                             \u001b[32mworkCombinedModel'\u001b[0m\u001b[1m>\u001b[0m for model                                   \n"
      ]
     },
     "metadata": {},
     "output_type": "display_data"
    },
    {
     "name": "stdout",
     "output_type": "stream",
     "text": [
      "[False, False, False, False]\n",
      "[22, 256, 256, 256, 1] 6\n"
     ]
    },
    {
     "data": {
      "text/html": [
       "<pre style=\"white-space:pre;overflow-x:auto;line-height:normal;font-family:Menlo,'DejaVu Sans Mono',consolas,'Courier New',monospace\"><span style=\"color: #7fbfbf; text-decoration-color: #7fbfbf\">                    </span><span style=\"color: #000080; text-decoration-color: #000080\">INFO    </span> INFO:root:Created trainable model        <a href=\"file:///home/sergei/causality-disentanglement-rl/sparse_causal_model_learner_rl/learners/abstract_learner.py\"><span style=\"color: #7f7f7f; text-decoration-color: #7f7f7f\">abstract_learner.py</span></a><span style=\"color: #7f7f7f; text-decoration-color: #7f7f7f\">:106</span>\n",
       "</pre>\n"
      ],
      "text/plain": [
       "\u001b[2;36m                   \u001b[0m\u001b[2;36m \u001b[0m\u001b[34mINFO    \u001b[0m INFO:root:Created trainable model        \u001b]8;id=1618482890.200822-438589;file:///home/sergei/causality-disentanglement-rl/sparse_causal_model_learner_rl/learners/abstract_learner.py\u001b\\\u001b[2mabstract_learner.py\u001b[0m\u001b]8;;\u001b\\\u001b[2m:106\u001b[0m\n"
      ]
     },
     "metadata": {},
     "output_type": "display_data"
    },
    {
     "data": {
      "text/html": [
       "<pre style=\"white-space:pre;overflow-x:auto;line-height:normal;font-family:Menlo,'DejaVu Sans Mono',consolas,'Courier New',monospace\"><span style=\"color: #7fbfbf; text-decoration-color: #7fbfbf\">                    </span><span style=\"color: #000080; text-decoration-color: #000080\">INFO    </span> INFO:root:ManyNetworkCombinedModel<span style=\"font-weight: bold\">(</span>      <a href=\"file:///home/sergei/causality-disentanglement-rl/sparse_causal_model_learner_rl/learners/abstract_learner.py\"><span style=\"color: #7f7f7f; text-decoration-color: #7f7f7f\">abstract_learner.py</span></a><span style=\"color: #7f7f7f; text-decoration-color: #7f7f7f\">:107</span>\n",
       "                               <span style=\"font-weight: bold\">(</span>model<span style=\"font-weight: bold\">)</span>: WithInputSwitch<span style=\"font-weight: bold\">(</span>                                     \n",
       "                                 <span style=\"font-weight: bold\">(</span>switch<span style=\"font-weight: bold\">)</span>:                                                   \n",
       "                             LearnableSwitchSimple<span style=\"font-weight: bold\">(</span><span style=\"color: #808000; text-decoration-color: #808000\">min_proba</span>=<span style=\"color: #008080; text-decoration-color: #008080; font-weight: bold\">0.01</span>                            \n",
       "                             <span style=\"color: #808000; text-decoration-color: #808000\">initial_proba</span>=<span style=\"color: #008080; text-decoration-color: #008080; font-weight: bold\">1.0</span> <span style=\"color: #808000; text-decoration-color: #808000\">shape</span>=<span style=\"font-weight: bold\">(</span><span style=\"color: #008080; text-decoration-color: #008080; font-weight: bold\">11</span>, <span style=\"color: #008080; text-decoration-color: #008080; font-weight: bold\">6</span><span style=\"font-weight: bold\">)</span>                                 \n",
       "                             <span style=\"color: #808000; text-decoration-color: #808000\">sample_many</span>=<span style=\"color: #00ff00; text-decoration-color: #00ff00; font-style: italic\">True</span><span style=\"font-weight: bold\">)</span>                                               \n",
       "                                 <span style=\"font-weight: bold\">(</span>model<span style=\"font-weight: bold\">)</span>: FCCombinedModel<span style=\"font-weight: bold\">(</span>                                   \n",
       "                                   <span style=\"font-weight: bold\">(</span>act01<span style=\"font-weight: bold\">)</span>:                                                  \n",
       "                             LeakyReLU<span style=\"font-weight: bold\">(</span><span style=\"color: #808000; text-decoration-color: #808000\">negative_slope</span>=<span style=\"color: #008080; text-decoration-color: #008080; font-weight: bold\">0.01</span><span style=\"font-weight: bold\">)</span>                                  \n",
       "                                   <span style=\"font-weight: bold\">(</span>act02<span style=\"font-weight: bold\">)</span>:                                                  \n",
       "                             LeakyReLU<span style=\"font-weight: bold\">(</span><span style=\"color: #808000; text-decoration-color: #808000\">negative_slope</span>=<span style=\"color: #008080; text-decoration-color: #008080; font-weight: bold\">0.01</span><span style=\"font-weight: bold\">)</span>                                  \n",
       "                                   <span style=\"font-weight: bold\">(</span>act03<span style=\"font-weight: bold\">)</span>:                                                  \n",
       "                             LeakyReLU<span style=\"font-weight: bold\">(</span><span style=\"color: #808000; text-decoration-color: #808000\">negative_slope</span>=<span style=\"color: #008080; text-decoration-color: #008080; font-weight: bold\">0.01</span><span style=\"font-weight: bold\">)</span>                                  \n",
       "                                   <span style=\"font-weight: bold\">(</span>act04<span style=\"font-weight: bold\">)</span>: PolyAct<span style=\"font-weight: bold\">(</span>                                         \n",
       "                                     <span style=\"font-weight: bold\">(</span>orig_act<span style=\"font-weight: bold\">)</span>: Sin<span style=\"font-weight: bold\">()</span>                                       \n",
       "                                   <span style=\"font-weight: bold\">)</span> <span style=\"color: #808000; text-decoration-color: #808000\">max_degree</span>=<span style=\"color: #008080; text-decoration-color: #008080; font-weight: bold\">3</span> <span style=\"color: #808000; text-decoration-color: #808000\">features</span>=<span style=\"color: #008080; text-decoration-color: #008080; font-weight: bold\">6</span>                                 \n",
       "                                   <span style=\"font-weight: bold\">(</span>fc01<span style=\"font-weight: bold\">)</span>:                                                   \n",
       "                             CombinedLinearLayer<span style=\"font-weight: bold\">(</span><span style=\"color: #808000; text-decoration-color: #808000\">inf</span>=<span style=\"color: #008080; text-decoration-color: #008080; font-weight: bold\">22</span>, <span style=\"color: #808000; text-decoration-color: #808000\">outf</span>=<span style=\"color: #008080; text-decoration-color: #008080; font-weight: bold\">256</span>,                           \n",
       "                             <span style=\"color: #808000; text-decoration-color: #808000\">n_models</span>=<span style=\"color: #008080; text-decoration-color: #008080; font-weight: bold\">6</span><span style=\"font-weight: bold\">)</span>                                                     \n",
       "                                   <span style=\"font-weight: bold\">(</span>fc02<span style=\"font-weight: bold\">)</span>:                                                   \n",
       "                             CombinedLinearLayer<span style=\"font-weight: bold\">(</span><span style=\"color: #808000; text-decoration-color: #808000\">inf</span>=<span style=\"color: #008080; text-decoration-color: #008080; font-weight: bold\">256</span>, <span style=\"color: #808000; text-decoration-color: #808000\">outf</span>=<span style=\"color: #008080; text-decoration-color: #008080; font-weight: bold\">256</span>,                          \n",
       "                             <span style=\"color: #808000; text-decoration-color: #808000\">n_models</span>=<span style=\"color: #008080; text-decoration-color: #008080; font-weight: bold\">6</span><span style=\"font-weight: bold\">)</span>                                                     \n",
       "                                   <span style=\"font-weight: bold\">(</span>fc03<span style=\"font-weight: bold\">)</span>:                                                   \n",
       "                             CombinedLinearLayer<span style=\"font-weight: bold\">(</span><span style=\"color: #808000; text-decoration-color: #808000\">inf</span>=<span style=\"color: #008080; text-decoration-color: #008080; font-weight: bold\">256</span>, <span style=\"color: #808000; text-decoration-color: #808000\">outf</span>=<span style=\"color: #008080; text-decoration-color: #008080; font-weight: bold\">256</span>,                          \n",
       "                             <span style=\"color: #808000; text-decoration-color: #808000\">n_models</span>=<span style=\"color: #008080; text-decoration-color: #008080; font-weight: bold\">6</span><span style=\"font-weight: bold\">)</span>                                                     \n",
       "                                   <span style=\"font-weight: bold\">(</span>fc04<span style=\"font-weight: bold\">)</span>:                                                   \n",
       "                             CombinedLinearLayer<span style=\"font-weight: bold\">(</span><span style=\"color: #808000; text-decoration-color: #808000\">inf</span>=<span style=\"color: #008080; text-decoration-color: #008080; font-weight: bold\">256</span>, <span style=\"color: #808000; text-decoration-color: #808000\">outf</span>=<span style=\"color: #008080; text-decoration-color: #008080; font-weight: bold\">1</span>,                            \n",
       "                             <span style=\"color: #808000; text-decoration-color: #808000\">n_models</span>=<span style=\"color: #008080; text-decoration-color: #008080; font-weight: bold\">6</span><span style=\"font-weight: bold\">)</span>                                                     \n",
       "                                 <span style=\"font-weight: bold\">)</span> <span style=\"color: #808000; text-decoration-color: #808000\">input_dim</span>=<span style=\"color: #008080; text-decoration-color: #008080; font-weight: bold\">22</span> <span style=\"color: #808000; text-decoration-color: #808000\">output_dim</span>=<span style=\"color: #008080; text-decoration-color: #008080; font-weight: bold\">1</span>                                 \n",
       "                             <span style=\"color: #808000; text-decoration-color: #808000\">skips</span>=<span style=\"font-weight: bold\">[</span><span style=\"color: #ff0000; text-decoration-color: #ff0000; font-style: italic\">False</span>, <span style=\"color: #ff0000; text-decoration-color: #ff0000; font-style: italic\">False</span>, <span style=\"color: #ff0000; text-decoration-color: #ff0000; font-style: italic\">False</span>, <span style=\"color: #ff0000; text-decoration-color: #ff0000; font-style: italic\">False</span><span style=\"font-weight: bold\">]</span>                              \n",
       "                             <span style=\"color: #808000; text-decoration-color: #808000\">act</span>=<span style=\"font-weight: bold\">[</span>LeakyReLU<span style=\"font-weight: bold\">(</span><span style=\"color: #808000; text-decoration-color: #808000\">negative_slope</span>=<span style=\"color: #008080; text-decoration-color: #008080; font-weight: bold\">0.01</span><span style=\"font-weight: bold\">)</span>,                            \n",
       "                             LeakyReLU<span style=\"font-weight: bold\">(</span><span style=\"color: #808000; text-decoration-color: #808000\">negative_slope</span>=<span style=\"color: #008080; text-decoration-color: #008080; font-weight: bold\">0.01</span><span style=\"font-weight: bold\">)</span>,                                 \n",
       "                             LeakyReLU<span style=\"font-weight: bold\">(</span><span style=\"color: #808000; text-decoration-color: #808000\">negative_slope</span>=<span style=\"color: #008080; text-decoration-color: #008080; font-weight: bold\">0.01</span><span style=\"font-weight: bold\">)</span>, PolyAct<span style=\"font-weight: bold\">(</span>                        \n",
       "                                   <span style=\"font-weight: bold\">(</span>orig_act<span style=\"font-weight: bold\">)</span>: Sin<span style=\"font-weight: bold\">()</span>                                         \n",
       "                                 <span style=\"font-weight: bold\">)</span> <span style=\"color: #808000; text-decoration-color: #808000\">max_degree</span>=<span style=\"color: #008080; text-decoration-color: #008080; font-weight: bold\">3</span> <span style=\"color: #808000; text-decoration-color: #808000\">features</span>=<span style=\"color: #008080; text-decoration-color: #008080; font-weight: bold\">6</span><span style=\"font-weight: bold\">]</span>                                  \n",
       "                             <span style=\"color: #808000; text-decoration-color: #808000\">hidden_sizes</span>=<span style=\"font-weight: bold\">[</span><span style=\"color: #008080; text-decoration-color: #008080; font-weight: bold\">256</span>, <span style=\"color: #008080; text-decoration-color: #008080; font-weight: bold\">256</span>, <span style=\"color: #008080; text-decoration-color: #008080; font-weight: bold\">256</span><span style=\"font-weight: bold\">]</span>                                    \n",
       "                             <span style=\"color: #808000; text-decoration-color: #808000\">layers</span>=<span style=\"font-weight: bold\">[&lt;</span><span style=\"color: #ff00ff; text-decoration-color: #ff00ff; font-weight: bold\">class</span><span style=\"color: #000000; text-decoration-color: #000000\"> </span><span style=\"color: #008000; text-decoration-color: #008000\">'sparse_causal_model_lear</span>                        \n",
       "                             <span style=\"color: #008000; text-decoration-color: #008000\">ner_rl.trainable.combined.CombinedLinear</span>                        \n",
       "                             <span style=\"color: #008000; text-decoration-color: #008000\">Layer'</span><span style=\"font-weight: bold\">&gt;</span>, <span style=\"font-weight: bold\">&lt;</span><span style=\"color: #ff00ff; text-decoration-color: #ff00ff; font-weight: bold\">class</span><span style=\"color: #000000; text-decoration-color: #000000\"> </span><span style=\"color: #008000; text-decoration-color: #008000\">'sparse_causal_model_lea</span>                        \n",
       "                             <span style=\"color: #008000; text-decoration-color: #008000\">rner_rl.trainable.combined.CombinedLinea</span>                        \n",
       "                             <span style=\"color: #008000; text-decoration-color: #008000\">rLayer'</span><span style=\"font-weight: bold\">&gt;</span>, <span style=\"font-weight: bold\">&lt;</span><span style=\"color: #ff00ff; text-decoration-color: #ff00ff; font-weight: bold\">class</span><span style=\"color: #000000; text-decoration-color: #000000\"> </span><span style=\"color: #008000; text-decoration-color: #008000\">'sparse_causal_model_le</span>                        \n",
       "                             <span style=\"color: #008000; text-decoration-color: #008000\">arner_rl.trainable.combined.CombinedLine</span>                        \n",
       "                             <span style=\"color: #008000; text-decoration-color: #008000\">arLayer'</span><span style=\"font-weight: bold\">&gt;</span>, <span style=\"font-weight: bold\">&lt;</span><span style=\"color: #ff00ff; text-decoration-color: #ff00ff; font-weight: bold\">class</span><span style=\"color: #000000; text-decoration-color: #000000\"> </span><span style=\"color: #008000; text-decoration-color: #008000\">'sparse_causal_model_l</span>                        \n",
       "                             <span style=\"color: #008000; text-decoration-color: #008000\">earner_rl.trainable.combined.CombinedLin</span>                        \n",
       "                             <span style=\"color: #008000; text-decoration-color: #008000\">earLayer'</span><span style=\"font-weight: bold\">&gt;]</span>                                                     \n",
       "                               <span style=\"font-weight: bold\">)</span>                                                             \n",
       "                             <span style=\"font-weight: bold\">)</span> <span style=\"color: #808000; text-decoration-color: #808000\">predict_change</span>=<span style=\"color: #ff0000; text-decoration-color: #ff0000; font-style: italic\">False</span>                                          \n",
       "</pre>\n"
      ],
      "text/plain": [
       "\u001b[2;36m                   \u001b[0m\u001b[2;36m \u001b[0m\u001b[34mINFO    \u001b[0m INFO:root:ManyNetworkCombinedModel\u001b[1m(\u001b[0m      \u001b]8;id=1618482890.2151587-212413;file:///home/sergei/causality-disentanglement-rl/sparse_causal_model_learner_rl/learners/abstract_learner.py\u001b\\\u001b[2mabstract_learner.py\u001b[0m\u001b]8;;\u001b\\\u001b[2m:107\u001b[0m\n",
       "                               \u001b[1m(\u001b[0mmodel\u001b[1m)\u001b[0m: WithInputSwitch\u001b[1m(\u001b[0m                                     \n",
       "                                 \u001b[1m(\u001b[0mswitch\u001b[1m)\u001b[0m:                                                   \n",
       "                             LearnableSwitchSimple\u001b[1m(\u001b[0m\u001b[33mmin_proba\u001b[0m=\u001b[1;36m0\u001b[0m\u001b[1;36m.01\u001b[0m                            \n",
       "                             \u001b[33minitial_proba\u001b[0m=\u001b[1;36m1\u001b[0m\u001b[1;36m.0\u001b[0m \u001b[33mshape\u001b[0m=\u001b[1m(\u001b[0m\u001b[1;36m11\u001b[0m, \u001b[1;36m6\u001b[0m\u001b[1m)\u001b[0m                                 \n",
       "                             \u001b[33msample_many\u001b[0m=\u001b[3;92mTrue\u001b[0m\u001b[1m)\u001b[0m                                               \n",
       "                                 \u001b[1m(\u001b[0mmodel\u001b[1m)\u001b[0m: FCCombinedModel\u001b[1m(\u001b[0m                                   \n",
       "                                   \u001b[1m(\u001b[0mact01\u001b[1m)\u001b[0m:                                                  \n",
       "                             LeakyReLU\u001b[1m(\u001b[0m\u001b[33mnegative_slope\u001b[0m=\u001b[1;36m0\u001b[0m\u001b[1;36m.01\u001b[0m\u001b[1m)\u001b[0m                                  \n",
       "                                   \u001b[1m(\u001b[0mact02\u001b[1m)\u001b[0m:                                                  \n",
       "                             LeakyReLU\u001b[1m(\u001b[0m\u001b[33mnegative_slope\u001b[0m=\u001b[1;36m0\u001b[0m\u001b[1;36m.01\u001b[0m\u001b[1m)\u001b[0m                                  \n",
       "                                   \u001b[1m(\u001b[0mact03\u001b[1m)\u001b[0m:                                                  \n",
       "                             LeakyReLU\u001b[1m(\u001b[0m\u001b[33mnegative_slope\u001b[0m=\u001b[1;36m0\u001b[0m\u001b[1;36m.01\u001b[0m\u001b[1m)\u001b[0m                                  \n",
       "                                   \u001b[1m(\u001b[0mact04\u001b[1m)\u001b[0m: PolyAct\u001b[1m(\u001b[0m                                         \n",
       "                                     \u001b[1m(\u001b[0morig_act\u001b[1m)\u001b[0m: Sin\u001b[1m(\u001b[0m\u001b[1m)\u001b[0m                                       \n",
       "                                   \u001b[1m)\u001b[0m \u001b[33mmax_degree\u001b[0m=\u001b[1;36m3\u001b[0m \u001b[33mfeatures\u001b[0m=\u001b[1;36m6\u001b[0m                                 \n",
       "                                   \u001b[1m(\u001b[0mfc01\u001b[1m)\u001b[0m:                                                   \n",
       "                             CombinedLinearLayer\u001b[1m(\u001b[0m\u001b[33minf\u001b[0m=\u001b[1;36m22\u001b[0m, \u001b[33moutf\u001b[0m=\u001b[1;36m256\u001b[0m,                           \n",
       "                             \u001b[33mn_models\u001b[0m=\u001b[1;36m6\u001b[0m\u001b[1m)\u001b[0m                                                     \n",
       "                                   \u001b[1m(\u001b[0mfc02\u001b[1m)\u001b[0m:                                                   \n",
       "                             CombinedLinearLayer\u001b[1m(\u001b[0m\u001b[33minf\u001b[0m=\u001b[1;36m256\u001b[0m, \u001b[33moutf\u001b[0m=\u001b[1;36m256\u001b[0m,                          \n",
       "                             \u001b[33mn_models\u001b[0m=\u001b[1;36m6\u001b[0m\u001b[1m)\u001b[0m                                                     \n",
       "                                   \u001b[1m(\u001b[0mfc03\u001b[1m)\u001b[0m:                                                   \n",
       "                             CombinedLinearLayer\u001b[1m(\u001b[0m\u001b[33minf\u001b[0m=\u001b[1;36m256\u001b[0m, \u001b[33moutf\u001b[0m=\u001b[1;36m256\u001b[0m,                          \n",
       "                             \u001b[33mn_models\u001b[0m=\u001b[1;36m6\u001b[0m\u001b[1m)\u001b[0m                                                     \n",
       "                                   \u001b[1m(\u001b[0mfc04\u001b[1m)\u001b[0m:                                                   \n",
       "                             CombinedLinearLayer\u001b[1m(\u001b[0m\u001b[33minf\u001b[0m=\u001b[1;36m256\u001b[0m, \u001b[33moutf\u001b[0m=\u001b[1;36m1\u001b[0m,                            \n",
       "                             \u001b[33mn_models\u001b[0m=\u001b[1;36m6\u001b[0m\u001b[1m)\u001b[0m                                                     \n",
       "                                 \u001b[1m)\u001b[0m \u001b[33minput_dim\u001b[0m=\u001b[1;36m22\u001b[0m \u001b[33moutput_dim\u001b[0m=\u001b[1;36m1\u001b[0m                                 \n",
       "                             \u001b[33mskips\u001b[0m=\u001b[1m[\u001b[0m\u001b[3;91mFalse\u001b[0m, \u001b[3;91mFalse\u001b[0m, \u001b[3;91mFalse\u001b[0m, \u001b[3;91mFalse\u001b[0m\u001b[1m]\u001b[0m                              \n",
       "                             \u001b[33mact\u001b[0m=\u001b[1m[\u001b[0mLeakyReLU\u001b[1m(\u001b[0m\u001b[33mnegative_slope\u001b[0m=\u001b[1;36m0\u001b[0m\u001b[1;36m.01\u001b[0m\u001b[1m)\u001b[0m,                            \n",
       "                             LeakyReLU\u001b[1m(\u001b[0m\u001b[33mnegative_slope\u001b[0m=\u001b[1;36m0\u001b[0m\u001b[1;36m.01\u001b[0m\u001b[1m)\u001b[0m,                                 \n",
       "                             LeakyReLU\u001b[1m(\u001b[0m\u001b[33mnegative_slope\u001b[0m=\u001b[1;36m0\u001b[0m\u001b[1;36m.01\u001b[0m\u001b[1m)\u001b[0m, PolyAct\u001b[1m(\u001b[0m                        \n",
       "                                   \u001b[1m(\u001b[0morig_act\u001b[1m)\u001b[0m: Sin\u001b[1m(\u001b[0m\u001b[1m)\u001b[0m                                         \n",
       "                                 \u001b[1m)\u001b[0m \u001b[33mmax_degree\u001b[0m=\u001b[1;36m3\u001b[0m \u001b[33mfeatures\u001b[0m=\u001b[1;36m6\u001b[0m\u001b[1m]\u001b[0m                                  \n",
       "                             \u001b[33mhidden_sizes\u001b[0m=\u001b[1m[\u001b[0m\u001b[1;36m256\u001b[0m, \u001b[1;36m256\u001b[0m, \u001b[1;36m256\u001b[0m\u001b[1m]\u001b[0m                                    \n",
       "                             \u001b[33mlayers\u001b[0m=\u001b[1m[\u001b[0m\u001b[1m<\u001b[0m\u001b[1;95mclass\u001b[0m\u001b[39m \u001b[0m\u001b[32m'sparse_causal_model_lear\u001b[0m                        \n",
       "                             \u001b[32mner_rl.trainable.combined.CombinedLinear\u001b[0m                        \n",
       "                             \u001b[32mLayer'\u001b[0m\u001b[1m>\u001b[0m, \u001b[1m<\u001b[0m\u001b[1;95mclass\u001b[0m\u001b[39m \u001b[0m\u001b[32m'sparse_causal_model_lea\u001b[0m                        \n",
       "                             \u001b[32mrner_rl.trainable.combined.CombinedLinea\u001b[0m                        \n",
       "                             \u001b[32mrLayer'\u001b[0m\u001b[1m>\u001b[0m, \u001b[1m<\u001b[0m\u001b[1;95mclass\u001b[0m\u001b[39m \u001b[0m\u001b[32m'sparse_causal_model_le\u001b[0m                        \n",
       "                             \u001b[32marner_rl.trainable.combined.CombinedLine\u001b[0m                        \n",
       "                             \u001b[32marLayer'\u001b[0m\u001b[1m>\u001b[0m, \u001b[1m<\u001b[0m\u001b[1;95mclass\u001b[0m\u001b[39m \u001b[0m\u001b[32m'sparse_causal_model_l\u001b[0m                        \n",
       "                             \u001b[32mearner_rl.trainable.combined.CombinedLin\u001b[0m                        \n",
       "                             \u001b[32mearLayer'\u001b[0m\u001b[1m>\u001b[0m\u001b[1m]\u001b[0m                                                     \n",
       "                               \u001b[1m)\u001b[0m                                                             \n",
       "                             \u001b[1m)\u001b[0m \u001b[33mpredict_change\u001b[0m=\u001b[3;91mFalse\u001b[0m                                          \n"
      ]
     },
     "metadata": {},
     "output_type": "display_data"
    },
    {
     "data": {
      "text/html": [
       "<pre style=\"white-space:pre;overflow-x:auto;line-height:normal;font-family:Menlo,'DejaVu Sans Mono',consolas,'Courier New',monospace\"><span style=\"color: #7fbfbf; text-decoration-color: #7fbfbf\">                    </span><span style=\"color: #000080; text-decoration-color: #000080\">INFO    </span> INFO:root:Potential trainable decoder:    <a href=\"file:///home/sergei/causality-disentanglement-rl/sparse_causal_model_learner_rl/learners/abstract_learner.py\"><span style=\"color: #7f7f7f; text-decoration-color: #7f7f7f\">abstract_learner.py</span></a><span style=\"color: #7f7f7f; text-decoration-color: #7f7f7f\">:97</span>\n",
       "                             Transform high-dimensional observation                          \n",
       "                             into low-dimensional features                                   \n",
       "</pre>\n"
      ],
      "text/plain": [
       "\u001b[2;36m                   \u001b[0m\u001b[2;36m \u001b[0m\u001b[34mINFO    \u001b[0m INFO:root:Potential trainable decoder:    \u001b]8;id=1618482890.2196915-650933;file:///home/sergei/causality-disentanglement-rl/sparse_causal_model_learner_rl/learners/abstract_learner.py\u001b\\\u001b[2mabstract_learner.py\u001b[0m\u001b]8;;\u001b\\\u001b[2m:97\u001b[0m\n",
       "                             Transform high-dimensional observation                          \n",
       "                             into low-dimensional features                                   \n"
      ]
     },
     "metadata": {},
     "output_type": "display_data"
    },
    {
     "data": {
      "text/html": [
       "<pre style=\"white-space:pre;overflow-x:auto;line-height:normal;font-family:Menlo,'DejaVu Sans Mono',consolas,'Courier New',monospace\"><span style=\"color: #7fbfbf; text-decoration-color: #7fbfbf\">                    </span><span style=\"color: #000080; text-decoration-color: #000080\">INFO    </span> INFO:root:Passing <span style=\"font-weight: bold\">&lt;</span><span style=\"color: #ff00ff; text-decoration-color: #ff00ff; font-weight: bold\">class</span><span style=\"color: #000000; text-decoration-color: #000000\"> </span><span style=\"color: #008000; text-decoration-color: #008000\">'sparse_causal_</span> <a href=\"file:///home/sergei/causality-disentanglement-rl/sparse_causal_model_learner_rl/learners/abstract_learner.py\"><span style=\"color: #7f7f7f; text-decoration-color: #7f7f7f\">abstract_learner.py</span></a><span style=\"color: #7f7f7f; text-decoration-color: #7f7f7f\">:102</span>\n",
       "                             <span style=\"color: #008000; text-decoration-color: #008000\">model_learner_rl.trainable.decoder.Model</span>                        \n",
       "                             <span style=\"color: #008000; text-decoration-color: #008000\">Decoder'</span><span style=\"font-weight: bold\">&gt;</span> for decoder                                           \n",
       "</pre>\n"
      ],
      "text/plain": [
       "\u001b[2;36m                   \u001b[0m\u001b[2;36m \u001b[0m\u001b[34mINFO    \u001b[0m INFO:root:Passing \u001b[1m<\u001b[0m\u001b[1;95mclass\u001b[0m\u001b[39m \u001b[0m\u001b[32m'sparse_causal_\u001b[0m \u001b]8;id=1618482890.2227502-444675;file:///home/sergei/causality-disentanglement-rl/sparse_causal_model_learner_rl/learners/abstract_learner.py\u001b\\\u001b[2mabstract_learner.py\u001b[0m\u001b]8;;\u001b\\\u001b[2m:102\u001b[0m\n",
       "                             \u001b[32mmodel_learner_rl.trainable.decoder.Model\u001b[0m                        \n",
       "                             \u001b[32mDecoder'\u001b[0m\u001b[1m>\u001b[0m for decoder                                           \n"
      ]
     },
     "metadata": {},
     "output_type": "display_data"
    },
    {
     "name": "stdout",
     "output_type": "stream",
     "text": [
      "[False]\n",
      "[5, 1] 5\n"
     ]
    },
    {
     "data": {
      "text/html": [
       "<pre style=\"white-space:pre;overflow-x:auto;line-height:normal;font-family:Menlo,'DejaVu Sans Mono',consolas,'Courier New',monospace\"><span style=\"color: #7fbfbf; text-decoration-color: #7fbfbf\">                    </span><span style=\"color: #000080; text-decoration-color: #000080\">INFO    </span> INFO:root:Created trainable decoder      <a href=\"file:///home/sergei/causality-disentanglement-rl/sparse_causal_model_learner_rl/learners/abstract_learner.py\"><span style=\"color: #7f7f7f; text-decoration-color: #7f7f7f\">abstract_learner.py</span></a><span style=\"color: #7f7f7f; text-decoration-color: #7f7f7f\">:106</span>\n",
       "</pre>\n"
      ],
      "text/plain": [
       "\u001b[2;36m                   \u001b[0m\u001b[2;36m \u001b[0m\u001b[34mINFO    \u001b[0m INFO:root:Created trainable decoder      \u001b]8;id=1618482890.228341-151013;file:///home/sergei/causality-disentanglement-rl/sparse_causal_model_learner_rl/learners/abstract_learner.py\u001b\\\u001b[2mabstract_learner.py\u001b[0m\u001b]8;;\u001b\\\u001b[2m:106\u001b[0m\n"
      ]
     },
     "metadata": {},
     "output_type": "display_data"
    },
    {
     "data": {
      "text/html": [
       "<pre style=\"white-space:pre;overflow-x:auto;line-height:normal;font-family:Menlo,'DejaVu Sans Mono',consolas,'Courier New',monospace\"><span style=\"color: #7fbfbf; text-decoration-color: #7fbfbf\">                    </span><span style=\"color: #000080; text-decoration-color: #000080\">INFO    </span> INFO:root:ModelDecoder<span style=\"font-weight: bold\">(</span>                  <a href=\"file:///home/sergei/causality-disentanglement-rl/sparse_causal_model_learner_rl/learners/abstract_learner.py\"><span style=\"color: #7f7f7f; text-decoration-color: #7f7f7f\">abstract_learner.py</span></a><span style=\"color: #7f7f7f; text-decoration-color: #7f7f7f\">:107</span>\n",
       "                               <span style=\"font-weight: bold\">(</span>model<span style=\"font-weight: bold\">)</span>: FCCombinedModel<span style=\"font-weight: bold\">(</span>                                     \n",
       "                                 <span style=\"font-weight: bold\">(</span>fc01<span style=\"font-weight: bold\">)</span>: CombinedLinearLayer<span style=\"font-weight: bold\">(</span><span style=\"color: #808000; text-decoration-color: #808000\">inf</span>=<span style=\"color: #008080; text-decoration-color: #008080; font-weight: bold\">5</span>,                          \n",
       "                             <span style=\"color: #808000; text-decoration-color: #808000\">outf</span>=<span style=\"color: #008080; text-decoration-color: #008080; font-weight: bold\">1</span>, <span style=\"color: #808000; text-decoration-color: #808000\">n_models</span>=<span style=\"color: #008080; text-decoration-color: #008080; font-weight: bold\">5</span><span style=\"font-weight: bold\">)</span>                                             \n",
       "                               <span style=\"font-weight: bold\">)</span> <span style=\"color: #808000; text-decoration-color: #808000\">input_dim</span>=<span style=\"color: #008080; text-decoration-color: #008080; font-weight: bold\">5</span> <span style=\"color: #808000; text-decoration-color: #808000\">output_dim</span>=<span style=\"color: #008080; text-decoration-color: #008080; font-weight: bold\">1</span>                                    \n",
       "                             <span style=\"color: #808000; text-decoration-color: #808000\">skips</span>=<span style=\"font-weight: bold\">[</span><span style=\"color: #ff0000; text-decoration-color: #ff0000; font-style: italic\">False</span><span style=\"font-weight: bold\">]</span> <span style=\"color: #808000; text-decoration-color: #808000\">act</span>=<span style=\"font-weight: bold\">[</span><span style=\"color: #800080; text-decoration-color: #800080; font-style: italic\">None</span><span style=\"font-weight: bold\">]</span> <span style=\"color: #808000; text-decoration-color: #808000\">hidden_sizes</span>=<span style=\"font-weight: bold\">[]</span>                        \n",
       "                             <span style=\"color: #808000; text-decoration-color: #808000\">layers</span>=<span style=\"font-weight: bold\">[&lt;</span><span style=\"color: #ff00ff; text-decoration-color: #ff00ff; font-weight: bold\">class</span><span style=\"color: #000000; text-decoration-color: #000000\"> </span><span style=\"color: #008000; text-decoration-color: #008000\">'sparse_causal_model_lear</span>                        \n",
       "                             <span style=\"color: #008000; text-decoration-color: #008000\">ner_rl.trainable.combined.CombinedLinear</span>                        \n",
       "                             <span style=\"color: #008000; text-decoration-color: #008000\">Layer'</span><span style=\"font-weight: bold\">&gt;]</span>                                                        \n",
       "                             <span style=\"font-weight: bold\">)</span> <span style=\"color: #808000; text-decoration-color: #808000\">flatten</span>=<span style=\"color: #ff0000; text-decoration-color: #ff0000; font-style: italic\">False</span> <span style=\"color: #808000; text-decoration-color: #808000\">model_obs_shape</span>=<span style=\"font-weight: bold\">(</span><span style=\"color: #008080; text-decoration-color: #008080; font-weight: bold\">5</span>,<span style=\"font-weight: bold\">)</span>                            \n",
       "                             <span style=\"color: #808000; text-decoration-color: #808000\">obs_shape</span>=<span style=\"font-weight: bold\">(</span><span style=\"color: #008080; text-decoration-color: #008080; font-weight: bold\">5</span>,<span style=\"font-weight: bold\">)</span> <span style=\"color: #808000; text-decoration-color: #808000\">feature_shape</span>=<span style=\"font-weight: bold\">(</span><span style=\"color: #008080; text-decoration-color: #008080; font-weight: bold\">5</span>,<span style=\"font-weight: bold\">)</span>                               \n",
       "</pre>\n"
      ],
      "text/plain": [
       "\u001b[2;36m                   \u001b[0m\u001b[2;36m \u001b[0m\u001b[34mINFO    \u001b[0m INFO:root:ModelDecoder\u001b[1m(\u001b[0m                  \u001b]8;id=1618482890.2325492-195777;file:///home/sergei/causality-disentanglement-rl/sparse_causal_model_learner_rl/learners/abstract_learner.py\u001b\\\u001b[2mabstract_learner.py\u001b[0m\u001b]8;;\u001b\\\u001b[2m:107\u001b[0m\n",
       "                               \u001b[1m(\u001b[0mmodel\u001b[1m)\u001b[0m: FCCombinedModel\u001b[1m(\u001b[0m                                     \n",
       "                                 \u001b[1m(\u001b[0mfc01\u001b[1m)\u001b[0m: CombinedLinearLayer\u001b[1m(\u001b[0m\u001b[33minf\u001b[0m=\u001b[1;36m5\u001b[0m,                          \n",
       "                             \u001b[33moutf\u001b[0m=\u001b[1;36m1\u001b[0m, \u001b[33mn_models\u001b[0m=\u001b[1;36m5\u001b[0m\u001b[1m)\u001b[0m                                             \n",
       "                               \u001b[1m)\u001b[0m \u001b[33minput_dim\u001b[0m=\u001b[1;36m5\u001b[0m \u001b[33moutput_dim\u001b[0m=\u001b[1;36m1\u001b[0m                                    \n",
       "                             \u001b[33mskips\u001b[0m=\u001b[1m[\u001b[0m\u001b[3;91mFalse\u001b[0m\u001b[1m]\u001b[0m \u001b[33mact\u001b[0m=\u001b[1m[\u001b[0m\u001b[3;35mNone\u001b[0m\u001b[1m]\u001b[0m \u001b[33mhidden_sizes\u001b[0m=\u001b[1m[\u001b[0m\u001b[1m]\u001b[0m                        \n",
       "                             \u001b[33mlayers\u001b[0m=\u001b[1m[\u001b[0m\u001b[1m<\u001b[0m\u001b[1;95mclass\u001b[0m\u001b[39m \u001b[0m\u001b[32m'sparse_causal_model_lear\u001b[0m                        \n",
       "                             \u001b[32mner_rl.trainable.combined.CombinedLinear\u001b[0m                        \n",
       "                             \u001b[32mLayer'\u001b[0m\u001b[1m>\u001b[0m\u001b[1m]\u001b[0m                                                        \n",
       "                             \u001b[1m)\u001b[0m \u001b[33mflatten\u001b[0m=\u001b[3;91mFalse\u001b[0m \u001b[33mmodel_obs_shape\u001b[0m=\u001b[1m(\u001b[0m\u001b[1;36m5\u001b[0m,\u001b[1m)\u001b[0m                            \n",
       "                             \u001b[33mobs_shape\u001b[0m=\u001b[1m(\u001b[0m\u001b[1;36m5\u001b[0m,\u001b[1m)\u001b[0m \u001b[33mfeature_shape\u001b[0m=\u001b[1m(\u001b[0m\u001b[1;36m5\u001b[0m,\u001b[1m)\u001b[0m                               \n"
      ]
     },
     "metadata": {},
     "output_type": "display_data"
    },
    {
     "data": {
      "text/html": [
       "<pre style=\"white-space:pre;overflow-x:auto;line-height:normal;font-family:Menlo,'DejaVu Sans Mono',consolas,'Courier New',monospace\"><span style=\"color: #7fbfbf; text-decoration-color: #7fbfbf\">                    </span><span style=\"color: #000080; text-decoration-color: #000080\">INFO    </span> INFO:root:Potential trainable             <a href=\"file:///home/sergei/causality-disentanglement-rl/sparse_causal_model_learner_rl/learners/abstract_learner.py\"><span style=\"color: #7f7f7f; text-decoration-color: #7f7f7f\">abstract_learner.py</span></a><span style=\"color: #7f7f7f; text-decoration-color: #7f7f7f\">:97</span>\n",
       "                             reconstructor: Predict the original                             \n",
       "                             observation from features                                       \n",
       "</pre>\n"
      ],
      "text/plain": [
       "\u001b[2;36m                   \u001b[0m\u001b[2;36m \u001b[0m\u001b[34mINFO    \u001b[0m INFO:root:Potential trainable             \u001b]8;id=1618482890.2357914-107010;file:///home/sergei/causality-disentanglement-rl/sparse_causal_model_learner_rl/learners/abstract_learner.py\u001b\\\u001b[2mabstract_learner.py\u001b[0m\u001b]8;;\u001b\\\u001b[2m:97\u001b[0m\n",
       "                             reconstructor: Predict the original                             \n",
       "                             observation from features                                       \n"
      ]
     },
     "metadata": {},
     "output_type": "display_data"
    },
    {
     "data": {
      "text/html": [
       "<pre style=\"white-space:pre;overflow-x:auto;line-height:normal;font-family:Menlo,'DejaVu Sans Mono',consolas,'Courier New',monospace\"><span style=\"color: #7fbfbf; text-decoration-color: #7fbfbf\">                    </span><span style=\"color: #000080; text-decoration-color: #000080\">INFO    </span> INFO:root:Passing <span style=\"font-weight: bold\">&lt;</span><span style=\"color: #ff00ff; text-decoration-color: #ff00ff; font-weight: bold\">class</span><span style=\"color: #000000; text-decoration-color: #000000\"> </span><span style=\"color: #008000; text-decoration-color: #008000\">'sparse_causal_</span> <a href=\"file:///home/sergei/causality-disentanglement-rl/sparse_causal_model_learner_rl/learners/abstract_learner.py\"><span style=\"color: #7f7f7f; text-decoration-color: #7f7f7f\">abstract_learner.py</span></a><span style=\"color: #7f7f7f; text-decoration-color: #7f7f7f\">:102</span>\n",
       "                             <span style=\"color: #008000; text-decoration-color: #008000\">model_learner_rl.trainable.reconstructor</span>                        \n",
       "                             <span style=\"color: #008000; text-decoration-color: #008000\">.ModelReconstructor'</span><span style=\"font-weight: bold\">&gt;</span> for reconstructor                         \n",
       "</pre>\n"
      ],
      "text/plain": [
       "\u001b[2;36m                   \u001b[0m\u001b[2;36m \u001b[0m\u001b[34mINFO    \u001b[0m INFO:root:Passing \u001b[1m<\u001b[0m\u001b[1;95mclass\u001b[0m\u001b[39m \u001b[0m\u001b[32m'sparse_causal_\u001b[0m \u001b]8;id=1618482890.2383032-931732;file:///home/sergei/causality-disentanglement-rl/sparse_causal_model_learner_rl/learners/abstract_learner.py\u001b\\\u001b[2mabstract_learner.py\u001b[0m\u001b]8;;\u001b\\\u001b[2m:102\u001b[0m\n",
       "                             \u001b[32mmodel_learner_rl.trainable.reconstructor\u001b[0m                        \n",
       "                             \u001b[32m.ModelReconstructor'\u001b[0m\u001b[1m>\u001b[0m for reconstructor                         \n"
      ]
     },
     "metadata": {},
     "output_type": "display_data"
    },
    {
     "name": "stdout",
     "output_type": "stream",
     "text": [
      "[False]\n",
      "[6, 1] 5\n"
     ]
    },
    {
     "data": {
      "text/html": [
       "<pre style=\"white-space:pre;overflow-x:auto;line-height:normal;font-family:Menlo,'DejaVu Sans Mono',consolas,'Courier New',monospace\"><span style=\"color: #7fbfbf; text-decoration-color: #7fbfbf\">                    </span><span style=\"color: #000080; text-decoration-color: #000080\">INFO    </span> INFO:root:Created trainable              <a href=\"file:///home/sergei/causality-disentanglement-rl/sparse_causal_model_learner_rl/learners/abstract_learner.py\"><span style=\"color: #7f7f7f; text-decoration-color: #7f7f7f\">abstract_learner.py</span></a><span style=\"color: #7f7f7f; text-decoration-color: #7f7f7f\">:106</span>\n",
       "                             reconstructor                                                   \n",
       "</pre>\n"
      ],
      "text/plain": [
       "\u001b[2;36m                   \u001b[0m\u001b[2;36m \u001b[0m\u001b[34mINFO    \u001b[0m INFO:root:Created trainable              \u001b]8;id=1618482890.241631-514234;file:///home/sergei/causality-disentanglement-rl/sparse_causal_model_learner_rl/learners/abstract_learner.py\u001b\\\u001b[2mabstract_learner.py\u001b[0m\u001b]8;;\u001b\\\u001b[2m:106\u001b[0m\n",
       "                             reconstructor                                                   \n"
      ]
     },
     "metadata": {},
     "output_type": "display_data"
    },
    {
     "data": {
      "text/html": [
       "<pre style=\"white-space:pre;overflow-x:auto;line-height:normal;font-family:Menlo,'DejaVu Sans Mono',consolas,'Courier New',monospace\"><span style=\"color: #7fbfbf; text-decoration-color: #7fbfbf\">                    </span><span style=\"color: #000080; text-decoration-color: #000080\">INFO    </span> INFO:root:ModelReconstructor<span style=\"font-weight: bold\">(</span>            <a href=\"file:///home/sergei/causality-disentanglement-rl/sparse_causal_model_learner_rl/learners/abstract_learner.py\"><span style=\"color: #7f7f7f; text-decoration-color: #7f7f7f\">abstract_learner.py</span></a><span style=\"color: #7f7f7f; text-decoration-color: #7f7f7f\">:107</span>\n",
       "                               <span style=\"font-weight: bold\">(</span>model<span style=\"font-weight: bold\">)</span>: FCCombinedModel<span style=\"font-weight: bold\">(</span>                                     \n",
       "                                 <span style=\"font-weight: bold\">(</span>fc01<span style=\"font-weight: bold\">)</span>: CombinedLinearLayer<span style=\"font-weight: bold\">(</span><span style=\"color: #808000; text-decoration-color: #808000\">inf</span>=<span style=\"color: #008080; text-decoration-color: #008080; font-weight: bold\">6</span>,                          \n",
       "                             <span style=\"color: #808000; text-decoration-color: #808000\">outf</span>=<span style=\"color: #008080; text-decoration-color: #008080; font-weight: bold\">1</span>, <span style=\"color: #808000; text-decoration-color: #808000\">n_models</span>=<span style=\"color: #008080; text-decoration-color: #008080; font-weight: bold\">5</span><span style=\"font-weight: bold\">)</span>                                             \n",
       "                               <span style=\"font-weight: bold\">)</span> <span style=\"color: #808000; text-decoration-color: #808000\">input_dim</span>=<span style=\"color: #008080; text-decoration-color: #008080; font-weight: bold\">6</span> <span style=\"color: #808000; text-decoration-color: #808000\">output_dim</span>=<span style=\"color: #008080; text-decoration-color: #008080; font-weight: bold\">1</span>                                    \n",
       "                             <span style=\"color: #808000; text-decoration-color: #808000\">skips</span>=<span style=\"font-weight: bold\">[</span><span style=\"color: #ff0000; text-decoration-color: #ff0000; font-style: italic\">False</span><span style=\"font-weight: bold\">]</span> <span style=\"color: #808000; text-decoration-color: #808000\">act</span>=<span style=\"font-weight: bold\">[</span><span style=\"color: #800080; text-decoration-color: #800080; font-style: italic\">None</span><span style=\"font-weight: bold\">]</span> <span style=\"color: #808000; text-decoration-color: #808000\">hidden_sizes</span>=<span style=\"font-weight: bold\">[]</span>                        \n",
       "                             <span style=\"color: #808000; text-decoration-color: #808000\">layers</span>=<span style=\"font-weight: bold\">[&lt;</span><span style=\"color: #ff00ff; text-decoration-color: #ff00ff; font-weight: bold\">class</span><span style=\"color: #000000; text-decoration-color: #000000\"> </span><span style=\"color: #008000; text-decoration-color: #008000\">'sparse_causal_model_lear</span>                        \n",
       "                             <span style=\"color: #008000; text-decoration-color: #008000\">ner_rl.trainable.combined.CombinedLinear</span>                        \n",
       "                             <span style=\"color: #008000; text-decoration-color: #008000\">Layer'</span><span style=\"font-weight: bold\">&gt;]</span>                                                        \n",
       "                             <span style=\"font-weight: bold\">)</span> <span style=\"color: #808000; text-decoration-color: #808000\">unflatten</span>=<span style=\"color: #ff0000; text-decoration-color: #ff0000; font-style: italic\">False</span> <span style=\"color: #808000; text-decoration-color: #808000\">give_source</span>=<span style=\"color: #ff0000; text-decoration-color: #ff0000; font-style: italic\">False</span>                             \n",
       "                             <span style=\"color: #808000; text-decoration-color: #808000\">model_out_shape</span>=<span style=\"font-weight: bold\">(</span><span style=\"color: #008080; text-decoration-color: #008080; font-weight: bold\">5</span>,<span style=\"font-weight: bold\">)</span> <span style=\"color: #808000; text-decoration-color: #808000\">obs_shape</span>=<span style=\"font-weight: bold\">(</span><span style=\"color: #008080; text-decoration-color: #008080; font-weight: bold\">5</span>,<span style=\"font-weight: bold\">)</span>                             \n",
       "                             <span style=\"color: #808000; text-decoration-color: #808000\">feature_shape</span>=<span style=\"font-weight: bold\">(</span><span style=\"color: #008080; text-decoration-color: #008080; font-weight: bold\">5</span>,<span style=\"font-weight: bold\">)</span>                                              \n",
       "</pre>\n"
      ],
      "text/plain": [
       "\u001b[2;36m                   \u001b[0m\u001b[2;36m \u001b[0m\u001b[34mINFO    \u001b[0m INFO:root:ModelReconstructor\u001b[1m(\u001b[0m            \u001b]8;id=1618482890.2463505-411229;file:///home/sergei/causality-disentanglement-rl/sparse_causal_model_learner_rl/learners/abstract_learner.py\u001b\\\u001b[2mabstract_learner.py\u001b[0m\u001b]8;;\u001b\\\u001b[2m:107\u001b[0m\n",
       "                               \u001b[1m(\u001b[0mmodel\u001b[1m)\u001b[0m: FCCombinedModel\u001b[1m(\u001b[0m                                     \n",
       "                                 \u001b[1m(\u001b[0mfc01\u001b[1m)\u001b[0m: CombinedLinearLayer\u001b[1m(\u001b[0m\u001b[33minf\u001b[0m=\u001b[1;36m6\u001b[0m,                          \n",
       "                             \u001b[33moutf\u001b[0m=\u001b[1;36m1\u001b[0m, \u001b[33mn_models\u001b[0m=\u001b[1;36m5\u001b[0m\u001b[1m)\u001b[0m                                             \n",
       "                               \u001b[1m)\u001b[0m \u001b[33minput_dim\u001b[0m=\u001b[1;36m6\u001b[0m \u001b[33moutput_dim\u001b[0m=\u001b[1;36m1\u001b[0m                                    \n",
       "                             \u001b[33mskips\u001b[0m=\u001b[1m[\u001b[0m\u001b[3;91mFalse\u001b[0m\u001b[1m]\u001b[0m \u001b[33mact\u001b[0m=\u001b[1m[\u001b[0m\u001b[3;35mNone\u001b[0m\u001b[1m]\u001b[0m \u001b[33mhidden_sizes\u001b[0m=\u001b[1m[\u001b[0m\u001b[1m]\u001b[0m                        \n",
       "                             \u001b[33mlayers\u001b[0m=\u001b[1m[\u001b[0m\u001b[1m<\u001b[0m\u001b[1;95mclass\u001b[0m\u001b[39m \u001b[0m\u001b[32m'sparse_causal_model_lear\u001b[0m                        \n",
       "                             \u001b[32mner_rl.trainable.combined.CombinedLinear\u001b[0m                        \n",
       "                             \u001b[32mLayer'\u001b[0m\u001b[1m>\u001b[0m\u001b[1m]\u001b[0m                                                        \n",
       "                             \u001b[1m)\u001b[0m \u001b[33munflatten\u001b[0m=\u001b[3;91mFalse\u001b[0m \u001b[33mgive_source\u001b[0m=\u001b[3;91mFalse\u001b[0m                             \n",
       "                             \u001b[33mmodel_out_shape\u001b[0m=\u001b[1m(\u001b[0m\u001b[1;36m5\u001b[0m,\u001b[1m)\u001b[0m \u001b[33mobs_shape\u001b[0m=\u001b[1m(\u001b[0m\u001b[1;36m5\u001b[0m,\u001b[1m)\u001b[0m                             \n",
       "                             \u001b[33mfeature_shape\u001b[0m=\u001b[1m(\u001b[0m\u001b[1;36m5\u001b[0m,\u001b[1m)\u001b[0m                                              \n"
      ]
     },
     "metadata": {},
     "output_type": "display_data"
    },
    {
     "data": {
      "text/html": [
       "<pre style=\"white-space:pre;overflow-x:auto;line-height:normal;font-family:Menlo,'DejaVu Sans Mono',consolas,'Courier New',monospace\"><span style=\"color: #7fbfbf; text-decoration-color: #7fbfbf\">                    </span><span style=\"color: #000080; text-decoration-color: #000080\">INFO    </span> INFO:root:Potential trainable             <a href=\"file:///home/sergei/causality-disentanglement-rl/sparse_causal_model_learner_rl/learners/abstract_learner.py\"><span style=\"color: #7f7f7f; text-decoration-color: #7f7f7f\">abstract_learner.py</span></a><span style=\"color: #7f7f7f; text-decoration-color: #7f7f7f\">:97</span>\n",
       "                             reconstructor1: Second reconstructor                            \n",
       "</pre>\n"
      ],
      "text/plain": [
       "\u001b[2;36m                   \u001b[0m\u001b[2;36m \u001b[0m\u001b[34mINFO    \u001b[0m INFO:root:Potential trainable             \u001b]8;id=1618482890.2509537-191205;file:///home/sergei/causality-disentanglement-rl/sparse_causal_model_learner_rl/learners/abstract_learner.py\u001b\\\u001b[2mabstract_learner.py\u001b[0m\u001b]8;;\u001b\\\u001b[2m:97\u001b[0m\n",
       "                             reconstructor1: Second reconstructor                            \n"
      ]
     },
     "metadata": {},
     "output_type": "display_data"
    },
    {
     "data": {
      "text/html": [
       "<pre style=\"white-space:pre;overflow-x:auto;line-height:normal;font-family:Menlo,'DejaVu Sans Mono',consolas,'Courier New',monospace\"><span style=\"color: #7fbfbf; text-decoration-color: #7fbfbf\">                    </span><span style=\"color: #800000; text-decoration-color: #800000\">WARNING </span> WARNING:root:No class provided for       <a href=\"file:///home/sergei/causality-disentanglement-rl/sparse_causal_model_learner_rl/learners/abstract_learner.py\"><span style=\"color: #7f7f7f; text-decoration-color: #7f7f7f\">abstract_learner.py</span></a><span style=\"color: #7f7f7f; text-decoration-color: #7f7f7f\">:109</span>\n",
       "                             trainable reconstructor1                                        \n",
       "</pre>\n"
      ],
      "text/plain": [
       "\u001b[2;36m                   \u001b[0m\u001b[2;36m \u001b[0m\u001b[31mWARNING \u001b[0m WARNING:root:No class provided for       \u001b]8;id=1618482890.253136-89481;file:///home/sergei/causality-disentanglement-rl/sparse_causal_model_learner_rl/learners/abstract_learner.py\u001b\\\u001b[2mabstract_learner.py\u001b[0m\u001b]8;;\u001b\\\u001b[2m:109\u001b[0m\n",
       "                             trainable reconstructor1                                        \n"
      ]
     },
     "metadata": {},
     "output_type": "display_data"
    },
    {
     "data": {
      "text/html": [
       "<pre style=\"white-space:pre;overflow-x:auto;line-height:normal;font-family:Menlo,'DejaVu Sans Mono',consolas,'Courier New',monospace\"><span style=\"color: #7fbfbf; text-decoration-color: #7fbfbf\">                    </span><span style=\"color: #000080; text-decoration-color: #000080\">INFO    </span> INFO:root:Potential trainable             <a href=\"file:///home/sergei/causality-disentanglement-rl/sparse_causal_model_learner_rl/learners/abstract_learner.py\"><span style=\"color: #7f7f7f; text-decoration-color: #7f7f7f\">abstract_learner.py</span></a><span style=\"color: #7f7f7f; text-decoration-color: #7f7f7f\">:97</span>\n",
       "                             value_predictor: Predict value-to-go from                       \n",
       "                             the current features                                            \n",
       "</pre>\n"
      ],
      "text/plain": [
       "\u001b[2;36m                   \u001b[0m\u001b[2;36m \u001b[0m\u001b[34mINFO    \u001b[0m INFO:root:Potential trainable             \u001b]8;id=1618482890.255314-880820;file:///home/sergei/causality-disentanglement-rl/sparse_causal_model_learner_rl/learners/abstract_learner.py\u001b\\\u001b[2mabstract_learner.py\u001b[0m\u001b]8;;\u001b\\\u001b[2m:97\u001b[0m\n",
       "                             value_predictor: Predict value-to-go from                       \n",
       "                             the current features                                            \n"
      ]
     },
     "metadata": {},
     "output_type": "display_data"
    },
    {
     "data": {
      "text/html": [
       "<pre style=\"white-space:pre;overflow-x:auto;line-height:normal;font-family:Menlo,'DejaVu Sans Mono',consolas,'Courier New',monospace\"><span style=\"color: #7fbfbf; text-decoration-color: #7fbfbf\">                    </span><span style=\"color: #800000; text-decoration-color: #800000\">WARNING </span> WARNING:root:No class provided for       <a href=\"file:///home/sergei/causality-disentanglement-rl/sparse_causal_model_learner_rl/learners/abstract_learner.py\"><span style=\"color: #7f7f7f; text-decoration-color: #7f7f7f\">abstract_learner.py</span></a><span style=\"color: #7f7f7f; text-decoration-color: #7f7f7f\">:109</span>\n",
       "                             trainable value_predictor                                       \n",
       "</pre>\n"
      ],
      "text/plain": [
       "\u001b[2;36m                   \u001b[0m\u001b[2;36m \u001b[0m\u001b[31mWARNING \u001b[0m WARNING:root:No class provided for       \u001b]8;id=1618482890.2574284-187099;file:///home/sergei/causality-disentanglement-rl/sparse_causal_model_learner_rl/learners/abstract_learner.py\u001b\\\u001b[2mabstract_learner.py\u001b[0m\u001b]8;;\u001b\\\u001b[2m:109\u001b[0m\n",
       "                             trainable value_predictor                                       \n"
      ]
     },
     "metadata": {},
     "output_type": "display_data"
    },
    {
     "data": {
      "text/html": [
       "<pre style=\"white-space:pre;overflow-x:auto;line-height:normal;font-family:Menlo,'DejaVu Sans Mono',consolas,'Courier New',monospace\"><span style=\"color: #7fbfbf; text-decoration-color: #7fbfbf\">                    </span><span style=\"color: #000080; text-decoration-color: #000080\">INFO    </span> INFO:root:Potential trainable             <a href=\"file:///home/sergei/causality-disentanglement-rl/sparse_causal_model_learner_rl/learners/abstract_learner.py\"><span style=\"color: #7f7f7f; text-decoration-color: #7f7f7f\">abstract_learner.py</span></a><span style=\"color: #7f7f7f; text-decoration-color: #7f7f7f\">:97</span>\n",
       "                             causal_feature_model_discriminator:                             \n",
       "                             Discriminate between correct and                                \n",
       "                             incorrect of pairs <span style=\"font-weight: bold\">(</span>f1, f2<span style=\"font-weight: bold\">)</span>                                     \n",
       "</pre>\n"
      ],
      "text/plain": [
       "\u001b[2;36m                   \u001b[0m\u001b[2;36m \u001b[0m\u001b[34mINFO    \u001b[0m INFO:root:Potential trainable             \u001b]8;id=1618482890.2607117-800987;file:///home/sergei/causality-disentanglement-rl/sparse_causal_model_learner_rl/learners/abstract_learner.py\u001b\\\u001b[2mabstract_learner.py\u001b[0m\u001b]8;;\u001b\\\u001b[2m:97\u001b[0m\n",
       "                             causal_feature_model_discriminator:                             \n",
       "                             Discriminate between correct and                                \n",
       "                             incorrect of pairs \u001b[1m(\u001b[0mf1, f2\u001b[1m)\u001b[0m                                     \n"
      ]
     },
     "metadata": {},
     "output_type": "display_data"
    },
    {
     "data": {
      "text/html": [
       "<pre style=\"white-space:pre;overflow-x:auto;line-height:normal;font-family:Menlo,'DejaVu Sans Mono',consolas,'Courier New',monospace\"><span style=\"color: #7fbfbf; text-decoration-color: #7fbfbf\">                    </span><span style=\"color: #800000; text-decoration-color: #800000\">WARNING </span> WARNING:root:No class provided for       <a href=\"file:///home/sergei/causality-disentanglement-rl/sparse_causal_model_learner_rl/learners/abstract_learner.py\"><span style=\"color: #7f7f7f; text-decoration-color: #7f7f7f\">abstract_learner.py</span></a><span style=\"color: #7f7f7f; text-decoration-color: #7f7f7f\">:109</span>\n",
       "                             trainable                                                       \n",
       "                             causal_feature_model_discriminator                              \n",
       "</pre>\n"
      ],
      "text/plain": [
       "\u001b[2;36m                   \u001b[0m\u001b[2;36m \u001b[0m\u001b[31mWARNING \u001b[0m WARNING:root:No class provided for       \u001b]8;id=1618482890.26413-977636;file:///home/sergei/causality-disentanglement-rl/sparse_causal_model_learner_rl/learners/abstract_learner.py\u001b\\\u001b[2mabstract_learner.py\u001b[0m\u001b]8;;\u001b\\\u001b[2m:109\u001b[0m\n",
       "                             trainable                                                       \n",
       "                             causal_feature_model_discriminator                              \n"
      ]
     },
     "metadata": {},
     "output_type": "display_data"
    },
    {
     "data": {
      "text/html": [
       "<pre style=\"white-space:pre;overflow-x:auto;line-height:normal;font-family:Menlo,'DejaVu Sans Mono',consolas,'Courier New',monospace\"><span style=\"color: #7fbfbf; text-decoration-color: #7fbfbf\">                    </span><span style=\"color: #000080; text-decoration-color: #000080\">INFO    </span> INFO:root:Potential trainable             <a href=\"file:///home/sergei/causality-disentanglement-rl/sparse_causal_model_learner_rl/learners/abstract_learner.py\"><span style=\"color: #7f7f7f; text-decoration-color: #7f7f7f\">abstract_learner.py</span></a><span style=\"color: #7f7f7f; text-decoration-color: #7f7f7f\">:97</span>\n",
       "                             decoder_discriminator: Discriminate                             \n",
       "                             between correct and incorrect pairs of                          \n",
       "                             <span style=\"font-weight: bold\">(</span>observation, feature<span style=\"font-weight: bold\">)</span>                                          \n",
       "</pre>\n"
      ],
      "text/plain": [
       "\u001b[2;36m                   \u001b[0m\u001b[2;36m \u001b[0m\u001b[34mINFO    \u001b[0m INFO:root:Potential trainable             \u001b]8;id=1618482890.26731-397942;file:///home/sergei/causality-disentanglement-rl/sparse_causal_model_learner_rl/learners/abstract_learner.py\u001b\\\u001b[2mabstract_learner.py\u001b[0m\u001b]8;;\u001b\\\u001b[2m:97\u001b[0m\n",
       "                             decoder_discriminator: Discriminate                             \n",
       "                             between correct and incorrect pairs of                          \n",
       "                             \u001b[1m(\u001b[0mobservation, feature\u001b[1m)\u001b[0m                                          \n"
      ]
     },
     "metadata": {},
     "output_type": "display_data"
    },
    {
     "data": {
      "text/html": [
       "<pre style=\"white-space:pre;overflow-x:auto;line-height:normal;font-family:Menlo,'DejaVu Sans Mono',consolas,'Courier New',monospace\"><span style=\"color: #7fbfbf; text-decoration-color: #7fbfbf\">                    </span><span style=\"color: #800000; text-decoration-color: #800000\">WARNING </span> WARNING:root:No class provided for       <a href=\"file:///home/sergei/causality-disentanglement-rl/sparse_causal_model_learner_rl/learners/abstract_learner.py\"><span style=\"color: #7f7f7f; text-decoration-color: #7f7f7f\">abstract_learner.py</span></a><span style=\"color: #7f7f7f; text-decoration-color: #7f7f7f\">:109</span>\n",
       "                             trainable decoder_discriminator                                 \n",
       "</pre>\n"
      ],
      "text/plain": [
       "\u001b[2;36m                   \u001b[0m\u001b[2;36m \u001b[0m\u001b[31mWARNING \u001b[0m WARNING:root:No class provided for       \u001b]8;id=1618482890.2702692-455871;file:///home/sergei/causality-disentanglement-rl/sparse_causal_model_learner_rl/learners/abstract_learner.py\u001b\\\u001b[2mabstract_learner.py\u001b[0m\u001b]8;;\u001b\\\u001b[2m:109\u001b[0m\n",
       "                             trainable decoder_discriminator                                 \n"
      ]
     },
     "metadata": {},
     "output_type": "display_data"
    },
    {
     "data": {
      "text/html": [
       "<pre style=\"white-space:pre;overflow-x:auto;line-height:normal;font-family:Menlo,'DejaVu Sans Mono',consolas,'Courier New',monospace\"><span style=\"color: #7fbfbf; text-decoration-color: #7fbfbf\">                    </span><span style=\"color: #000080; text-decoration-color: #000080\">INFO    </span> INFO:root:Potential trainable             <a href=\"file:///home/sergei/causality-disentanglement-rl/sparse_causal_model_learner_rl/learners/abstract_learner.py\"><span style=\"color: #7f7f7f; text-decoration-color: #7f7f7f\">abstract_learner.py</span></a><span style=\"color: #7f7f7f; text-decoration-color: #7f7f7f\">:97</span>\n",
       "                             non_sparse_model: A model w/o sparsity                          \n",
       "                             constraints used for reference                                  \n",
       "</pre>\n"
      ],
      "text/plain": [
       "\u001b[2;36m                   \u001b[0m\u001b[2;36m \u001b[0m\u001b[34mINFO    \u001b[0m INFO:root:Potential trainable             \u001b]8;id=1618482890.2734966-205722;file:///home/sergei/causality-disentanglement-rl/sparse_causal_model_learner_rl/learners/abstract_learner.py\u001b\\\u001b[2mabstract_learner.py\u001b[0m\u001b]8;;\u001b\\\u001b[2m:97\u001b[0m\n",
       "                             non_sparse_model: A model w/o sparsity                          \n",
       "                             constraints used for reference                                  \n"
      ]
     },
     "metadata": {},
     "output_type": "display_data"
    },
    {
     "data": {
      "text/html": [
       "<pre style=\"white-space:pre;overflow-x:auto;line-height:normal;font-family:Menlo,'DejaVu Sans Mono',consolas,'Courier New',monospace\"><span style=\"color: #7fbfbf; text-decoration-color: #7fbfbf\">                    </span><span style=\"color: #800000; text-decoration-color: #800000\">WARNING </span> WARNING:root:No class provided for       <a href=\"file:///home/sergei/causality-disentanglement-rl/sparse_causal_model_learner_rl/learners/abstract_learner.py\"><span style=\"color: #7f7f7f; text-decoration-color: #7f7f7f\">abstract_learner.py</span></a><span style=\"color: #7f7f7f; text-decoration-color: #7f7f7f\">:109</span>\n",
       "                             trainable non_sparse_model                                      \n",
       "</pre>\n"
      ],
      "text/plain": [
       "\u001b[2;36m                   \u001b[0m\u001b[2;36m \u001b[0m\u001b[31mWARNING \u001b[0m WARNING:root:No class provided for       \u001b]8;id=1618482890.2765138-776081;file:///home/sergei/causality-disentanglement-rl/sparse_causal_model_learner_rl/learners/abstract_learner.py\u001b\\\u001b[2mabstract_learner.py\u001b[0m\u001b]8;;\u001b\\\u001b[2m:109\u001b[0m\n",
       "                             trainable non_sparse_model                                      \n"
      ]
     },
     "metadata": {},
     "output_type": "display_data"
    },
    {
     "data": {
      "text/html": [
       "<pre style=\"white-space:pre;overflow-x:auto;line-height:normal;font-family:Menlo,'DejaVu Sans Mono',consolas,'Courier New',monospace\"><span style=\"color: #7fbfbf; text-decoration-color: #7fbfbf\">                    </span><span style=\"color: #000080; text-decoration-color: #000080\">INFO    </span> INFO:root:Potential trainable causal_feat <a href=\"file:///home/sergei/causality-disentanglement-rl/sparse_causal_model_learner_rl/learners/abstract_learner.py\"><span style=\"color: #7f7f7f; text-decoration-color: #7f7f7f\">abstract_learner.py</span></a><span style=\"color: #7f7f7f; text-decoration-color: #7f7f7f\">:97</span>\n",
       "                             ure_action_model_discriminator:                                 \n",
       "                             Discriminate between correct triplets                           \n",
       "                             <span style=\"font-weight: bold\">(</span>f1, a1, f2<span style=\"font-weight: bold\">)</span> and incorrect ones. Takes                          \n",
       "                             additional features as well for the                             \n",
       "                             second argument.                                                \n",
       "</pre>\n"
      ],
      "text/plain": [
       "\u001b[2;36m                   \u001b[0m\u001b[2;36m \u001b[0m\u001b[34mINFO    \u001b[0m INFO:root:Potential trainable causal_feat \u001b]8;id=1618482890.279904-497023;file:///home/sergei/causality-disentanglement-rl/sparse_causal_model_learner_rl/learners/abstract_learner.py\u001b\\\u001b[2mabstract_learner.py\u001b[0m\u001b]8;;\u001b\\\u001b[2m:97\u001b[0m\n",
       "                             ure_action_model_discriminator:                                 \n",
       "                             Discriminate between correct triplets                           \n",
       "                             \u001b[1m(\u001b[0mf1, a1, f2\u001b[1m)\u001b[0m and incorrect ones. Takes                          \n",
       "                             additional features as well for the                             \n",
       "                             second argument.                                                \n"
      ]
     },
     "metadata": {},
     "output_type": "display_data"
    },
    {
     "data": {
      "text/html": [
       "<pre style=\"white-space:pre;overflow-x:auto;line-height:normal;font-family:Menlo,'DejaVu Sans Mono',consolas,'Courier New',monospace\"><span style=\"color: #7fbfbf; text-decoration-color: #7fbfbf\">                    </span><span style=\"color: #800000; text-decoration-color: #800000\">WARNING </span> WARNING:root:No class provided for       <a href=\"file:///home/sergei/causality-disentanglement-rl/sparse_causal_model_learner_rl/learners/abstract_learner.py\"><span style=\"color: #7f7f7f; text-decoration-color: #7f7f7f\">abstract_learner.py</span></a><span style=\"color: #7f7f7f; text-decoration-color: #7f7f7f\">:109</span>\n",
       "                             trainable causal_feature_action_model_di                        \n",
       "                             scriminator                                                     \n",
       "</pre>\n"
      ],
      "text/plain": [
       "\u001b[2;36m                   \u001b[0m\u001b[2;36m \u001b[0m\u001b[31mWARNING \u001b[0m WARNING:root:No class provided for       \u001b]8;id=1618482890.2832193-252314;file:///home/sergei/causality-disentanglement-rl/sparse_causal_model_learner_rl/learners/abstract_learner.py\u001b\\\u001b[2mabstract_learner.py\u001b[0m\u001b]8;;\u001b\\\u001b[2m:109\u001b[0m\n",
       "                             trainable causal_feature_action_model_di                        \n",
       "                             scriminator                                                     \n"
      ]
     },
     "metadata": {},
     "output_type": "display_data"
    },
    {
     "data": {
      "text/html": [
       "<pre style=\"white-space:pre;overflow-x:auto;line-height:normal;font-family:Menlo,'DejaVu Sans Mono',consolas,'Courier New',monospace\"><span style=\"color: #7fbfbf; text-decoration-color: #7fbfbf\">                    </span><span style=\"color: #000080; text-decoration-color: #000080\">INFO    </span> INFO:root:Potential trainable rot_pre:    <a href=\"file:///home/sergei/causality-disentanglement-rl/sparse_causal_model_learner_rl/learners/abstract_learner.py\"><span style=\"color: #7f7f7f; text-decoration-color: #7f7f7f\">abstract_learner.py</span></a><span style=\"color: #7f7f7f; text-decoration-color: #7f7f7f\">:97</span>\n",
       "                             Transform decoder features to model                             \n",
       "                             features                                                        \n",
       "</pre>\n"
      ],
      "text/plain": [
       "\u001b[2;36m                   \u001b[0m\u001b[2;36m \u001b[0m\u001b[34mINFO    \u001b[0m INFO:root:Potential trainable rot_pre:    \u001b]8;id=1618482890.2863255-282321;file:///home/sergei/causality-disentanglement-rl/sparse_causal_model_learner_rl/learners/abstract_learner.py\u001b\\\u001b[2mabstract_learner.py\u001b[0m\u001b]8;;\u001b\\\u001b[2m:97\u001b[0m\n",
       "                             Transform decoder features to model                             \n",
       "                             features                                                        \n"
      ]
     },
     "metadata": {},
     "output_type": "display_data"
    },
    {
     "data": {
      "text/html": [
       "<pre style=\"white-space:pre;overflow-x:auto;line-height:normal;font-family:Menlo,'DejaVu Sans Mono',consolas,'Courier New',monospace\"><span style=\"color: #7fbfbf; text-decoration-color: #7fbfbf\">                    </span><span style=\"color: #000080; text-decoration-color: #000080\">INFO    </span> INFO:root:Passing <span style=\"font-weight: bold\">&lt;</span><span style=\"color: #ff00ff; text-decoration-color: #ff00ff; font-weight: bold\">class</span><span style=\"color: #000000; text-decoration-color: #000000\"> </span><span style=\"color: #008000; text-decoration-color: #008000\">'sparse_causal_</span> <a href=\"file:///home/sergei/causality-disentanglement-rl/sparse_causal_model_learner_rl/learners/abstract_learner.py\"><span style=\"color: #7f7f7f; text-decoration-color: #7f7f7f\">abstract_learner.py</span></a><span style=\"color: #7f7f7f; text-decoration-color: #7f7f7f\">:102</span>\n",
       "                             <span style=\"color: #008000; text-decoration-color: #008000\">model_learner_rl.trainable.model.Rotatio</span>                        \n",
       "                             <span style=\"color: #008000; text-decoration-color: #008000\">n'</span><span style=\"font-weight: bold\">&gt;</span> for rot_pre                                                 \n",
       "</pre>\n"
      ],
      "text/plain": [
       "\u001b[2;36m                   \u001b[0m\u001b[2;36m \u001b[0m\u001b[34mINFO    \u001b[0m INFO:root:Passing \u001b[1m<\u001b[0m\u001b[1;95mclass\u001b[0m\u001b[39m \u001b[0m\u001b[32m'sparse_causal_\u001b[0m \u001b]8;id=1618482890.289561-279270;file:///home/sergei/causality-disentanglement-rl/sparse_causal_model_learner_rl/learners/abstract_learner.py\u001b\\\u001b[2mabstract_learner.py\u001b[0m\u001b]8;;\u001b\\\u001b[2m:102\u001b[0m\n",
       "                             \u001b[32mmodel_learner_rl.trainable.model.Rotatio\u001b[0m                        \n",
       "                             \u001b[32mn'\u001b[0m\u001b[1m>\u001b[0m for rot_pre                                                 \n"
      ]
     },
     "metadata": {},
     "output_type": "display_data"
    },
    {
     "data": {
      "text/html": [
       "<pre style=\"white-space:pre;overflow-x:auto;line-height:normal;font-family:Menlo,'DejaVu Sans Mono',consolas,'Courier New',monospace\"><span style=\"color: #7fbfbf; text-decoration-color: #7fbfbf\">                    </span><span style=\"color: #000080; text-decoration-color: #000080\">INFO    </span> INFO:root:Created trainable rot_pre      <a href=\"file:///home/sergei/causality-disentanglement-rl/sparse_causal_model_learner_rl/learners/abstract_learner.py\"><span style=\"color: #7f7f7f; text-decoration-color: #7f7f7f\">abstract_learner.py</span></a><span style=\"color: #7f7f7f; text-decoration-color: #7f7f7f\">:106</span>\n",
       "</pre>\n"
      ],
      "text/plain": [
       "\u001b[2;36m                   \u001b[0m\u001b[2;36m \u001b[0m\u001b[34mINFO    \u001b[0m INFO:root:Created trainable rot_pre      \u001b]8;id=1618482890.294156-375318;file:///home/sergei/causality-disentanglement-rl/sparse_causal_model_learner_rl/learners/abstract_learner.py\u001b\\\u001b[2mabstract_learner.py\u001b[0m\u001b]8;;\u001b\\\u001b[2m:106\u001b[0m\n"
      ]
     },
     "metadata": {},
     "output_type": "display_data"
    },
    {
     "data": {
      "text/html": [
       "<pre style=\"white-space:pre;overflow-x:auto;line-height:normal;font-family:Menlo,'DejaVu Sans Mono',consolas,'Courier New',monospace\"><span style=\"color: #7fbfbf; text-decoration-color: #7fbfbf\">                    </span><span style=\"color: #000080; text-decoration-color: #000080\">INFO    </span> INFO:root:Rotation<span style=\"font-weight: bold\">(</span>                      <a href=\"file:///home/sergei/causality-disentanglement-rl/sparse_causal_model_learner_rl/learners/abstract_learner.py\"><span style=\"color: #7f7f7f; text-decoration-color: #7f7f7f\">abstract_learner.py</span></a><span style=\"color: #7f7f7f; text-decoration-color: #7f7f7f\">:107</span>\n",
       "                               <span style=\"font-weight: bold\">(</span>rot<span style=\"font-weight: bold\">)</span>: Linear<span style=\"font-weight: bold\">(</span><span style=\"color: #808000; text-decoration-color: #808000\">in_features</span>=<span style=\"color: #008080; text-decoration-color: #008080; font-weight: bold\">6</span>,                                  \n",
       "                             <span style=\"color: #808000; text-decoration-color: #808000\">out_features</span>=<span style=\"color: #008080; text-decoration-color: #008080; font-weight: bold\">6</span>, <span style=\"color: #808000; text-decoration-color: #808000\">bias</span>=<span style=\"color: #00ff00; text-decoration-color: #00ff00; font-style: italic\">True</span><span style=\"font-weight: bold\">)</span>                                      \n",
       "                             <span style=\"font-weight: bold\">)</span>                                                               \n",
       "</pre>\n"
      ],
      "text/plain": [
       "\u001b[2;36m                   \u001b[0m\u001b[2;36m \u001b[0m\u001b[34mINFO    \u001b[0m INFO:root:Rotation\u001b[1m(\u001b[0m                      \u001b]8;id=1618482890.2968085-51490;file:///home/sergei/causality-disentanglement-rl/sparse_causal_model_learner_rl/learners/abstract_learner.py\u001b\\\u001b[2mabstract_learner.py\u001b[0m\u001b]8;;\u001b\\\u001b[2m:107\u001b[0m\n",
       "                               \u001b[1m(\u001b[0mrot\u001b[1m)\u001b[0m: Linear\u001b[1m(\u001b[0m\u001b[33min_features\u001b[0m=\u001b[1;36m6\u001b[0m,                                  \n",
       "                             \u001b[33mout_features\u001b[0m=\u001b[1;36m6\u001b[0m, \u001b[33mbias\u001b[0m=\u001b[3;92mTrue\u001b[0m\u001b[1m)\u001b[0m                                      \n",
       "                             \u001b[1m)\u001b[0m                                                               \n"
      ]
     },
     "metadata": {},
     "output_type": "display_data"
    },
    {
     "data": {
      "text/html": [
       "<pre style=\"white-space:pre;overflow-x:auto;line-height:normal;font-family:Menlo,'DejaVu Sans Mono',consolas,'Courier New',monospace\"><span style=\"color: #7fbfbf; text-decoration-color: #7fbfbf\">                    </span><span style=\"color: #000080; text-decoration-color: #000080\">INFO    </span> INFO:root:Potential trainable rot_post:   <a href=\"file:///home/sergei/causality-disentanglement-rl/sparse_causal_model_learner_rl/learners/abstract_learner.py\"><span style=\"color: #7f7f7f; text-decoration-color: #7f7f7f\">abstract_learner.py</span></a><span style=\"color: #7f7f7f; text-decoration-color: #7f7f7f\">:97</span>\n",
       "                             Transform model features to decoder                             \n",
       "                             features                                                        \n",
       "</pre>\n"
      ],
      "text/plain": [
       "\u001b[2;36m                   \u001b[0m\u001b[2;36m \u001b[0m\u001b[34mINFO    \u001b[0m INFO:root:Potential trainable rot_post:   \u001b]8;id=1618482890.3000436-349107;file:///home/sergei/causality-disentanglement-rl/sparse_causal_model_learner_rl/learners/abstract_learner.py\u001b\\\u001b[2mabstract_learner.py\u001b[0m\u001b]8;;\u001b\\\u001b[2m:97\u001b[0m\n",
       "                             Transform model features to decoder                             \n",
       "                             features                                                        \n"
      ]
     },
     "metadata": {},
     "output_type": "display_data"
    },
    {
     "data": {
      "text/html": [
       "<pre style=\"white-space:pre;overflow-x:auto;line-height:normal;font-family:Menlo,'DejaVu Sans Mono',consolas,'Courier New',monospace\"><span style=\"color: #7fbfbf; text-decoration-color: #7fbfbf\">                    </span><span style=\"color: #000080; text-decoration-color: #000080\">INFO    </span> INFO:root:Passing <span style=\"font-weight: bold\">&lt;</span><span style=\"color: #ff00ff; text-decoration-color: #ff00ff; font-weight: bold\">class</span><span style=\"color: #000000; text-decoration-color: #000000\"> </span><span style=\"color: #008000; text-decoration-color: #008000\">'sparse_causal_</span> <a href=\"file:///home/sergei/causality-disentanglement-rl/sparse_causal_model_learner_rl/learners/abstract_learner.py\"><span style=\"color: #7f7f7f; text-decoration-color: #7f7f7f\">abstract_learner.py</span></a><span style=\"color: #7f7f7f; text-decoration-color: #7f7f7f\">:102</span>\n",
       "                             <span style=\"color: #008000; text-decoration-color: #008000\">model_learner_rl.trainable.model.Rotatio</span>                        \n",
       "                             <span style=\"color: #008000; text-decoration-color: #008000\">n'</span><span style=\"font-weight: bold\">&gt;</span> for rot_post                                                \n",
       "</pre>\n"
      ],
      "text/plain": [
       "\u001b[2;36m                   \u001b[0m\u001b[2;36m \u001b[0m\u001b[34mINFO    \u001b[0m INFO:root:Passing \u001b[1m<\u001b[0m\u001b[1;95mclass\u001b[0m\u001b[39m \u001b[0m\u001b[32m'sparse_causal_\u001b[0m \u001b]8;id=1618482890.3031654-446411;file:///home/sergei/causality-disentanglement-rl/sparse_causal_model_learner_rl/learners/abstract_learner.py\u001b\\\u001b[2mabstract_learner.py\u001b[0m\u001b]8;;\u001b\\\u001b[2m:102\u001b[0m\n",
       "                             \u001b[32mmodel_learner_rl.trainable.model.Rotatio\u001b[0m                        \n",
       "                             \u001b[32mn'\u001b[0m\u001b[1m>\u001b[0m for rot_post                                                \n"
      ]
     },
     "metadata": {},
     "output_type": "display_data"
    },
    {
     "data": {
      "text/html": [
       "<pre style=\"white-space:pre;overflow-x:auto;line-height:normal;font-family:Menlo,'DejaVu Sans Mono',consolas,'Courier New',monospace\"><span style=\"color: #7fbfbf; text-decoration-color: #7fbfbf\">                    </span><span style=\"color: #000080; text-decoration-color: #000080\">INFO    </span> INFO:root:Created trainable rot_post     <a href=\"file:///home/sergei/causality-disentanglement-rl/sparse_causal_model_learner_rl/learners/abstract_learner.py\"><span style=\"color: #7f7f7f; text-decoration-color: #7f7f7f\">abstract_learner.py</span></a><span style=\"color: #7f7f7f; text-decoration-color: #7f7f7f\">:106</span>\n",
       "</pre>\n"
      ],
      "text/plain": [
       "\u001b[2;36m                   \u001b[0m\u001b[2;36m \u001b[0m\u001b[34mINFO    \u001b[0m INFO:root:Created trainable rot_post     \u001b]8;id=1618482890.3074589-853700;file:///home/sergei/causality-disentanglement-rl/sparse_causal_model_learner_rl/learners/abstract_learner.py\u001b\\\u001b[2mabstract_learner.py\u001b[0m\u001b]8;;\u001b\\\u001b[2m:106\u001b[0m\n"
      ]
     },
     "metadata": {},
     "output_type": "display_data"
    },
    {
     "data": {
      "text/html": [
       "<pre style=\"white-space:pre;overflow-x:auto;line-height:normal;font-family:Menlo,'DejaVu Sans Mono',consolas,'Courier New',monospace\"><span style=\"color: #7fbfbf; text-decoration-color: #7fbfbf\">                    </span><span style=\"color: #000080; text-decoration-color: #000080\">INFO    </span> INFO:root:Rotation<span style=\"font-weight: bold\">(</span>                      <a href=\"file:///home/sergei/causality-disentanglement-rl/sparse_causal_model_learner_rl/learners/abstract_learner.py\"><span style=\"color: #7f7f7f; text-decoration-color: #7f7f7f\">abstract_learner.py</span></a><span style=\"color: #7f7f7f; text-decoration-color: #7f7f7f\">:107</span>\n",
       "                               <span style=\"font-weight: bold\">(</span>rot<span style=\"font-weight: bold\">)</span>: Linear<span style=\"font-weight: bold\">(</span><span style=\"color: #808000; text-decoration-color: #808000\">in_features</span>=<span style=\"color: #008080; text-decoration-color: #008080; font-weight: bold\">6</span>,                                  \n",
       "                             <span style=\"color: #808000; text-decoration-color: #808000\">out_features</span>=<span style=\"color: #008080; text-decoration-color: #008080; font-weight: bold\">6</span>, <span style=\"color: #808000; text-decoration-color: #808000\">bias</span>=<span style=\"color: #00ff00; text-decoration-color: #00ff00; font-style: italic\">True</span><span style=\"font-weight: bold\">)</span>                                      \n",
       "                             <span style=\"font-weight: bold\">)</span>                                                               \n",
       "</pre>\n"
      ],
      "text/plain": [
       "\u001b[2;36m                   \u001b[0m\u001b[2;36m \u001b[0m\u001b[34mINFO    \u001b[0m INFO:root:Rotation\u001b[1m(\u001b[0m                      \u001b]8;id=1618482890.3102996-714248;file:///home/sergei/causality-disentanglement-rl/sparse_causal_model_learner_rl/learners/abstract_learner.py\u001b\\\u001b[2mabstract_learner.py\u001b[0m\u001b]8;;\u001b\\\u001b[2m:107\u001b[0m\n",
       "                               \u001b[1m(\u001b[0mrot\u001b[1m)\u001b[0m: Linear\u001b[1m(\u001b[0m\u001b[33min_features\u001b[0m=\u001b[1;36m6\u001b[0m,                                  \n",
       "                             \u001b[33mout_features\u001b[0m=\u001b[1;36m6\u001b[0m, \u001b[33mbias\u001b[0m=\u001b[3;92mTrue\u001b[0m\u001b[1m)\u001b[0m                                      \n",
       "                             \u001b[1m)\u001b[0m                                                               \n"
      ]
     },
     "metadata": {},
     "output_type": "display_data"
    },
    {
     "data": {
      "text/html": [
       "<pre style=\"white-space:pre;overflow-x:auto;line-height:normal;font-family:Menlo,'DejaVu Sans Mono',consolas,'Courier New',monospace\"><span style=\"color: #7fbfbf; text-decoration-color: #7fbfbf\">                    </span><span style=\"color: #000080; text-decoration-color: #000080\">INFO    </span> INFO:root:Potential trainable             <a href=\"file:///home/sergei/causality-disentanglement-rl/sparse_causal_model_learner_rl/learners/abstract_learner.py\"><span style=\"color: #7f7f7f; text-decoration-color: #7f7f7f\">abstract_learner.py</span></a><span style=\"color: #7f7f7f; text-decoration-color: #7f7f7f\">:97</span>\n",
       "                             lagrange_multipliers: Lagrange                                  \n",
       "                             multipliers for constrained optimization                        \n",
       "</pre>\n"
      ],
      "text/plain": [
       "\u001b[2;36m                   \u001b[0m\u001b[2;36m \u001b[0m\u001b[34mINFO    \u001b[0m INFO:root:Potential trainable             \u001b]8;id=1618482890.3134563-764842;file:///home/sergei/causality-disentanglement-rl/sparse_causal_model_learner_rl/learners/abstract_learner.py\u001b\\\u001b[2mabstract_learner.py\u001b[0m\u001b]8;;\u001b\\\u001b[2m:97\u001b[0m\n",
       "                             lagrange_multipliers: Lagrange                                  \n",
       "                             multipliers for constrained optimization                        \n"
      ]
     },
     "metadata": {},
     "output_type": "display_data"
    },
    {
     "data": {
      "text/html": [
       "<pre style=\"white-space:pre;overflow-x:auto;line-height:normal;font-family:Menlo,'DejaVu Sans Mono',consolas,'Courier New',monospace\"><span style=\"color: #7fbfbf; text-decoration-color: #7fbfbf\">                    </span><span style=\"color: #000080; text-decoration-color: #000080\">INFO    </span> INFO:root:Passing <span style=\"font-weight: bold\">&lt;</span><span style=\"color: #ff00ff; text-decoration-color: #ff00ff; font-weight: bold\">class</span><span style=\"color: #000000; text-decoration-color: #000000\"> </span><span style=\"color: #008000; text-decoration-color: #008000\">'sparse_causal_</span> <a href=\"file:///home/sergei/causality-disentanglement-rl/sparse_causal_model_learner_rl/learners/abstract_learner.py\"><span style=\"color: #7f7f7f; text-decoration-color: #7f7f7f\">abstract_learner.py</span></a><span style=\"color: #7f7f7f; text-decoration-color: #7f7f7f\">:102</span>\n",
       "                             <span style=\"color: #008000; text-decoration-color: #008000\">model_learner_rl.trainable.lagrange.Lagr</span>                        \n",
       "                             <span style=\"color: #008000; text-decoration-color: #008000\">angeMultipliers'</span><span style=\"font-weight: bold\">&gt;</span> for                                           \n",
       "                             lagrange_multipliers                                            \n",
       "</pre>\n"
      ],
      "text/plain": [
       "\u001b[2;36m                   \u001b[0m\u001b[2;36m \u001b[0m\u001b[34mINFO    \u001b[0m INFO:root:Passing \u001b[1m<\u001b[0m\u001b[1;95mclass\u001b[0m\u001b[39m \u001b[0m\u001b[32m'sparse_causal_\u001b[0m \u001b]8;id=1618482890.3168883-421228;file:///home/sergei/causality-disentanglement-rl/sparse_causal_model_learner_rl/learners/abstract_learner.py\u001b\\\u001b[2mabstract_learner.py\u001b[0m\u001b]8;;\u001b\\\u001b[2m:102\u001b[0m\n",
       "                             \u001b[32mmodel_learner_rl.trainable.lagrange.Lagr\u001b[0m                        \n",
       "                             \u001b[32mangeMultipliers'\u001b[0m\u001b[1m>\u001b[0m for                                           \n",
       "                             lagrange_multipliers                                            \n"
      ]
     },
     "metadata": {},
     "output_type": "display_data"
    },
    {
     "data": {
      "text/html": [
       "<pre style=\"white-space:pre;overflow-x:auto;line-height:normal;font-family:Menlo,'DejaVu Sans Mono',consolas,'Courier New',monospace\"><span style=\"color: #7fbfbf; text-decoration-color: #7fbfbf\">                    </span><span style=\"color: #000080; text-decoration-color: #000080\">INFO    </span> INFO:root:Created trainable              <a href=\"file:///home/sergei/causality-disentanglement-rl/sparse_causal_model_learner_rl/learners/abstract_learner.py\"><span style=\"color: #7f7f7f; text-decoration-color: #7f7f7f\">abstract_learner.py</span></a><span style=\"color: #7f7f7f; text-decoration-color: #7f7f7f\">:106</span>\n",
       "                             lagrange_multipliers                                            \n",
       "</pre>\n"
      ],
      "text/plain": [
       "\u001b[2;36m                   \u001b[0m\u001b[2;36m \u001b[0m\u001b[34mINFO    \u001b[0m INFO:root:Created trainable              \u001b]8;id=1618482890.320112-788409;file:///home/sergei/causality-disentanglement-rl/sparse_causal_model_learner_rl/learners/abstract_learner.py\u001b\\\u001b[2mabstract_learner.py\u001b[0m\u001b]8;;\u001b\\\u001b[2m:106\u001b[0m\n",
       "                             lagrange_multipliers                                            \n"
      ]
     },
     "metadata": {},
     "output_type": "display_data"
    },
    {
     "data": {
      "text/html": [
       "<pre style=\"white-space:pre;overflow-x:auto;line-height:normal;font-family:Menlo,'DejaVu Sans Mono',consolas,'Courier New',monospace\"><span style=\"color: #7fbfbf; text-decoration-color: #7fbfbf\">                    </span><span style=\"color: #000080; text-decoration-color: #000080\">INFO    </span> INFO:root:LagrangeMultipliers<span style=\"font-weight: bold\">(</span><span style=\"color: #808000; text-decoration-color: #808000\">n</span>=<span style=\"color: #008080; text-decoration-color: #008080; font-weight: bold\">14</span>       <a href=\"file:///home/sergei/causality-disentanglement-rl/sparse_causal_model_learner_rl/learners/abstract_learner.py\"><span style=\"color: #7f7f7f; text-decoration-color: #7f7f7f\">abstract_learner.py</span></a><span style=\"color: #7f7f7f; text-decoration-color: #7f7f7f\">:107</span>\n",
       "                             <span style=\"color: #808000; text-decoration-color: #808000\">initialized</span>=<span style=\"font-weight: bold\">[</span><span style=\"color: #ff0000; text-decoration-color: #ff0000; font-style: italic\">False</span> <span style=\"color: #ff0000; text-decoration-color: #ff0000; font-style: italic\">False</span> <span style=\"color: #ff0000; text-decoration-color: #ff0000; font-style: italic\">False</span> <span style=\"color: #ff0000; text-decoration-color: #ff0000; font-style: italic\">False</span>                            \n",
       "                             <span style=\"color: #ff0000; text-decoration-color: #ff0000; font-style: italic\">False</span> <span style=\"color: #ff0000; text-decoration-color: #ff0000; font-style: italic\">False</span> <span style=\"color: #ff0000; text-decoration-color: #ff0000; font-style: italic\">False</span> <span style=\"color: #ff0000; text-decoration-color: #ff0000; font-style: italic\">False</span> <span style=\"color: #ff0000; text-decoration-color: #ff0000; font-style: italic\">False</span> <span style=\"color: #ff0000; text-decoration-color: #ff0000; font-style: italic\">False</span>                             \n",
       "                             <span style=\"color: #ff0000; text-decoration-color: #ff0000; font-style: italic\">False</span> <span style=\"color: #ff0000; text-decoration-color: #ff0000; font-style: italic\">False</span>                                                     \n",
       "                              <span style=\"color: #ff0000; text-decoration-color: #ff0000; font-style: italic\">False</span> <span style=\"color: #ff0000; text-decoration-color: #ff0000; font-style: italic\">False</span><span style=\"font-weight: bold\">]</span> <span style=\"color: #808000; text-decoration-color: #808000\">fcn</span>=<span style=\"color: #800080; text-decoration-color: #800080\">exp</span> <span style=\"color: #808000; text-decoration-color: #808000\">param_min</span>=<span style=\"color: #008080; text-decoration-color: #008080; font-weight: bold\">-10</span>                             \n",
       "                             <span style=\"color: #808000; text-decoration-color: #808000\">param_max</span>=<span style=\"color: #008080; text-decoration-color: #008080; font-weight: bold\">7</span> <span style=\"color: #808000; text-decoration-color: #808000\">vectorized</span>=<span style=\"color: #ff0000; text-decoration-color: #ff0000; font-style: italic\">False</span><span style=\"font-weight: bold\">)</span>                                   \n",
       "</pre>\n"
      ],
      "text/plain": [
       "\u001b[2;36m                   \u001b[0m\u001b[2;36m \u001b[0m\u001b[34mINFO    \u001b[0m INFO:root:LagrangeMultipliers\u001b[1m(\u001b[0m\u001b[33mn\u001b[0m=\u001b[1;36m14\u001b[0m       \u001b]8;id=1618482890.324118-912268;file:///home/sergei/causality-disentanglement-rl/sparse_causal_model_learner_rl/learners/abstract_learner.py\u001b\\\u001b[2mabstract_learner.py\u001b[0m\u001b]8;;\u001b\\\u001b[2m:107\u001b[0m\n",
       "                             \u001b[33minitialized\u001b[0m=\u001b[1m[\u001b[0m\u001b[3;91mFalse\u001b[0m \u001b[3;91mFalse\u001b[0m \u001b[3;91mFalse\u001b[0m \u001b[3;91mFalse\u001b[0m                            \n",
       "                             \u001b[3;91mFalse\u001b[0m \u001b[3;91mFalse\u001b[0m \u001b[3;91mFalse\u001b[0m \u001b[3;91mFalse\u001b[0m \u001b[3;91mFalse\u001b[0m \u001b[3;91mFalse\u001b[0m                             \n",
       "                             \u001b[3;91mFalse\u001b[0m \u001b[3;91mFalse\u001b[0m                                                     \n",
       "                              \u001b[3;91mFalse\u001b[0m \u001b[3;91mFalse\u001b[0m\u001b[1m]\u001b[0m \u001b[33mfcn\u001b[0m=\u001b[35mexp\u001b[0m \u001b[33mparam_min\u001b[0m=\u001b[1;36m-10\u001b[0m                             \n",
       "                             \u001b[33mparam_max\u001b[0m=\u001b[1;36m7\u001b[0m \u001b[33mvectorized\u001b[0m=\u001b[3;91mFalse\u001b[0m\u001b[1m)\u001b[0m                                   \n"
      ]
     },
     "metadata": {},
     "output_type": "display_data"
    },
    {
     "data": {
      "text/html": [
       "<pre style=\"white-space:pre;overflow-x:auto;line-height:normal;font-family:Menlo,'DejaVu Sans Mono',consolas,'Courier New',monospace\"><span style=\"color: #7fbfbf; text-decoration-color: #7fbfbf\">                    </span><span style=\"color: #800000; text-decoration-color: #800000\">WARNING </span> WARNING:root:Warning: loss primal is     <a href=\"file:///home/sergei/causality-disentanglement-rl/sparse_causal_model_learner_rl/learners/abstract_learner.py\"><span style=\"color: #7f7f7f; text-decoration-color: #7f7f7f\">abstract_learner.py</span></a><span style=\"color: #7f7f7f; text-decoration-color: #7f7f7f\">:509</span>\n",
       "                             used more than once                                             \n",
       "</pre>\n"
      ],
      "text/plain": [
       "\u001b[2;36m                   \u001b[0m\u001b[2;36m \u001b[0m\u001b[31mWARNING \u001b[0m WARNING:root:Warning: loss primal is     \u001b]8;id=1618482890.343148-658524;file:///home/sergei/causality-disentanglement-rl/sparse_causal_model_learner_rl/learners/abstract_learner.py\u001b\\\u001b[2mabstract_learner.py\u001b[0m\u001b]8;;\u001b\\\u001b[2m:509\u001b[0m\n",
       "                             used more than once                                             \n"
      ]
     },
     "metadata": {},
     "output_type": "display_data"
    }
   ],
   "source": [
    "l.create_trainables()"
   ]
  },
  {
   "cell_type": "code",
   "execution_count": 10,
   "id": "96a9910d",
   "metadata": {},
   "outputs": [],
   "source": [
    "ctx = l.collect_and_get_context()"
   ]
  },
  {
   "cell_type": "code",
   "execution_count": 11,
   "id": "f486e42c",
   "metadata": {},
   "outputs": [],
   "source": [
    "from sparse_causal_model_learner_rl.loss.losses import cache_get, maybe_item, delta_pow2_sum1, delta_01_obs, manual_switch_gradient, RunOnce"
   ]
  },
  {
   "cell_type": "code",
   "execution_count": 12,
   "id": "83fb78ee",
   "metadata": {},
   "outputs": [],
   "source": [
    "l.model.model.switch.probas.data[:, :] = 0.5"
   ]
  },
  {
   "cell_type": "code",
   "execution_count": 13,
   "id": "23b35017",
   "metadata": {},
   "outputs": [
    {
     "data": {
      "text/plain": [
       "False"
      ]
     },
     "execution_count": 13,
     "metadata": {},
     "output_type": "execute_result"
    }
   ],
   "source": [
    "l.lagrange_multipliers.vectorized"
   ]
  },
  {
   "cell_type": "code",
   "execution_count": 14,
   "id": "428f6202",
   "metadata": {},
   "outputs": [
    {
     "data": {
      "text/plain": [
       "torch.Size([14])"
      ]
     },
     "execution_count": 14,
     "metadata": {},
     "output_type": "execute_result"
    }
   ],
   "source": [
    "l.lagrange_multipliers().shape"
   ]
  },
  {
   "cell_type": "code",
   "execution_count": 15,
   "id": "13654b95",
   "metadata": {},
   "outputs": [
    {
     "data": {
      "text/plain": [
       "{'loss': tensor(212.8515, device='cuda:0', grad_fn=<MeanBackward1>),\n",
       " 'losses': {'additional': 0.0,\n",
       "  'obs': tensor([57.5136, 29.7804, 40.1150, 37.9599, 35.0068], device='cuda:0',\n",
       "         grad_fn=<MeanBackward1>),\n",
       "  'feat': tensor([1.1094, 1.3688, 0.7009, 1.2562, 0.7780, 0.9436], device='cuda:0',\n",
       "         grad_fn=<MeanBackward1>),\n",
       "  'feat_model': tensor([1.0167, 1.2934, 0.6937, 1.6413, 0.7347, 0.9389], device='cuda:0',\n",
       "         grad_fn=<MeanBackward1>),\n",
       "  'additional_orig': 0.0,\n",
       "  'obs_orig': tensor([39.1856, 36.9436, 39.0255, 38.6185, 33.9807], device='cuda:0',\n",
       "         grad_fn=<MeanBackward1>),\n",
       "  'feat_orig': tensor([1.0044, 1.0103, 1.0079, 1.0841, 1.0307, 1.0077], device='cuda:0',\n",
       "         grad_fn=<MeanBackward1>),\n",
       "  'feat_model_orig': tensor([1.0573, 1.0016, 1.0235, 1.0956, 1.0122, 1.0030], device='cuda:0',\n",
       "         grad_fn=<MeanBackward1>)},\n",
       " 'metrics': {'mean_feature': array([ 4.4085029e-01, -1.2632355e-01,  2.1712837e-01, -1.0145695e+00,\n",
       "          4.7786862e-01, -1.1920930e-10], dtype=float32),\n",
       "  'std_feature': array([2.9146206, 3.230985 , 2.8779254, 3.1081047, 2.5423443, 0.5782171],\n",
       "        dtype=float32),\n",
       "  'min_feature': -12.876446723937988,\n",
       "  'max_feature': 13.302724838256836,\n",
       "  'loss_fcons': 6.145083427429199,\n",
       "  'loss_add': 0.0,\n",
       "  'loss_rec': 187.7540283203125,\n",
       "  'loss_fcons_pre': 6.193211078643799,\n",
       "  'rec_fit_acc_loss_01_agg': 1.46479994058609,\n",
       "  'loss_discrete': 12.75920295715332,\n",
       "  'loss_orig': 200.0923137664795}}"
      ]
     },
     "execution_count": 15,
     "metadata": {},
     "output_type": "execute_result"
    }
   ],
   "source": [
    "fit_loss_obs_space(**ctx, \n",
    "                   fill_switch_grad=True, divide_by_std=True, loss_local_cache={},\n",
    "                  return_per_component=True)"
   ]
  },
  {
   "cell_type": "code",
   "execution_count": 16,
   "id": "e95b62fb",
   "metadata": {},
   "outputs": [],
   "source": [
    "from sparse_causal_model_learner_rl.loss.losses import fit_loss_obs_space, lagrangian_granular\n",
    "reload_config()"
   ]
  },
  {
   "cell_type": "code",
   "execution_count": null,
   "id": "51394f43",
   "metadata": {},
   "outputs": [],
   "source": []
  },
  {
   "cell_type": "code",
   "execution_count": 17,
   "id": "6578a830",
   "metadata": {},
   "outputs": [
    {
     "data": {
      "text/html": [
       "<pre style=\"white-space:pre;overflow-x:auto;line-height:normal;font-family:Menlo,'DejaVu Sans Mono',consolas,'Courier New',monospace\"><span style=\"color: #800000; text-decoration-color: #800000; font-weight: bold\">LAGRANGIAN</span> <span style=\"color: #808000; text-decoration-color: #808000\">mode</span>=<span style=\"color: #800080; text-decoration-color: #800080\">PRIMAL</span>\n",
       "<span style=\"color: #000080; text-decoration-color: #000080; font-weight: bold\">sparsity</span> <span style=\"font-weight: bold\">)]</span> -&gt; min\n",
       "<span style=\"color: #000080; text-decoration-color: #000080; font-weight: bold\">fit/obs</span> <span style=\"font-weight: bold\">)]</span> &lt;= <span style=\"color: #000080; text-decoration-color: #000080; font-weight: bold\">0.008</span>, <span style=\"color: #808000; text-decoration-color: #808000\">lm_index</span>=<span style=\"color: #000080; text-decoration-color: #000080; font-weight: bold\">3</span> <span style=\"color: #808000; text-decoration-color: #808000\">required</span>=<span style=\"color: #000080; text-decoration-color: #000080; font-style: italic\">True</span>\n",
       "<span style=\"color: #000080; text-decoration-color: #000080; font-weight: bold\">fit/feat</span> <span style=\"font-weight: bold\">)]</span> &lt;= <span style=\"color: #000080; text-decoration-color: #000080; font-weight: bold\">0.005</span>, <span style=\"color: #808000; text-decoration-color: #808000\">lm_index</span>=<span style=\"color: #000080; text-decoration-color: #000080; font-weight: bold\">1</span> <span style=\"color: #808000; text-decoration-color: #808000\">required</span>=<span style=\"color: #000080; text-decoration-color: #000080; font-style: italic\">True</span>\n",
       "<span style=\"color: #000080; text-decoration-color: #000080; font-weight: bold\">fit/feat_model</span> <span style=\"font-weight: bold\">)]</span> &lt;= <span style=\"color: #000080; text-decoration-color: #000080; font-weight: bold\">0.005</span>, <span style=\"color: #808000; text-decoration-color: #808000\">lm_index</span>=<span style=\"color: #000080; text-decoration-color: #000080; font-weight: bold\">2</span> <span style=\"color: #808000; text-decoration-color: #808000\">required</span>=<span style=\"color: #000080; text-decoration-color: #000080; font-style: italic\">True</span>\n",
       "<span style=\"color: #000080; text-decoration-color: #000080; font-weight: bold\">fit_all_on/obs</span> <span style=\"font-weight: bold\">)]</span> &lt;= <span style=\"color: #000080; text-decoration-color: #000080; font-weight: bold\">0.008</span>, <span style=\"color: #808000; text-decoration-color: #808000\">lm_index</span>=<span style=\"color: #000080; text-decoration-color: #000080; font-weight: bold\">11</span> <span style=\"color: #808000; text-decoration-color: #808000\">required</span>=<span style=\"color: #000080; text-decoration-color: #000080; font-style: italic\">True</span>\n",
       "<span style=\"color: #000080; text-decoration-color: #000080; font-weight: bold\">fit_all_on/feat</span> <span style=\"font-weight: bold\">)]</span> &lt;= <span style=\"color: #000080; text-decoration-color: #000080; font-weight: bold\">0.005</span>, <span style=\"color: #808000; text-decoration-color: #808000\">lm_index</span>=<span style=\"color: #000080; text-decoration-color: #000080; font-weight: bold\">9</span> <span style=\"color: #808000; text-decoration-color: #808000\">required</span>=<span style=\"color: #000080; text-decoration-color: #000080; font-style: italic\">True</span>\n",
       "<span style=\"color: #000080; text-decoration-color: #000080; font-weight: bold\">fit_all_on/feat_model</span> <span style=\"font-weight: bold\">)]</span> &lt;= <span style=\"color: #000080; text-decoration-color: #000080; font-weight: bold\">0.005</span>, <span style=\"color: #808000; text-decoration-color: #808000\">lm_index</span>=<span style=\"color: #000080; text-decoration-color: #000080; font-weight: bold\">10</span> <span style=\"color: #808000; text-decoration-color: #808000\">required</span>=<span style=\"color: #000080; text-decoration-color: #000080; font-style: italic\">True</span>\n",
       "<span style=\"color: #000080; text-decoration-color: #000080; font-weight: bold\">fit_all_half/obs</span> <span style=\"font-weight: bold\">)]</span> &lt;= <span style=\"color: #000080; text-decoration-color: #000080; font-weight: bold\">0</span>, <span style=\"color: #808000; text-decoration-color: #808000\">lm_index</span>=<span style=\"color: #000080; text-decoration-color: #000080; font-weight: bold\">3</span> <span style=\"color: #808000; text-decoration-color: #808000\">required</span>=<span style=\"color: #000080; text-decoration-color: #000080; font-style: italic\">False</span>\n",
       "<span style=\"color: #000080; text-decoration-color: #000080; font-weight: bold\">fit_all_half/feat</span> <span style=\"font-weight: bold\">)]</span> &lt;= <span style=\"color: #000080; text-decoration-color: #000080; font-weight: bold\">0</span>, <span style=\"color: #808000; text-decoration-color: #808000\">lm_index</span>=<span style=\"color: #000080; text-decoration-color: #000080; font-weight: bold\">1</span> <span style=\"color: #808000; text-decoration-color: #808000\">required</span>=<span style=\"color: #000080; text-decoration-color: #000080; font-style: italic\">False</span>\n",
       "<span style=\"color: #000080; text-decoration-color: #000080; font-weight: bold\">fit_all_half/feat_model</span> <span style=\"font-weight: bold\">)]</span> &lt;= <span style=\"color: #000080; text-decoration-color: #000080; font-weight: bold\">0</span>, <span style=\"color: #808000; text-decoration-color: #808000\">lm_index</span>=<span style=\"color: #000080; text-decoration-color: #000080; font-weight: bold\">2</span> <span style=\"color: #808000; text-decoration-color: #808000\">required</span>=<span style=\"color: #000080; text-decoration-color: #000080; font-style: italic\">False</span>\n",
       "</pre>\n"
      ],
      "text/plain": [
       "\u001b[1;31mLAGRANGIAN\u001b[0m \u001b[33mmode\u001b[0m=\u001b[35mPRIMAL\u001b[0m\n",
       "\u001b[1;34msparsity\u001b[0m \u001b[1m)\u001b[0m\u001b[1m]\u001b[0m -> min\n",
       "\u001b[1;34mfit/obs\u001b[0m \u001b[1m)\u001b[0m\u001b[1m]\u001b[0m <= \u001b[1;34m0.008\u001b[0m, \u001b[33mlm_index\u001b[0m=\u001b[1;34m3\u001b[0m \u001b[33mrequired\u001b[0m=\u001b[3;34mTrue\u001b[0m\n",
       "\u001b[1;34mfit/feat\u001b[0m \u001b[1m)\u001b[0m\u001b[1m]\u001b[0m <= \u001b[1;34m0.005\u001b[0m, \u001b[33mlm_index\u001b[0m=\u001b[1;34m1\u001b[0m \u001b[33mrequired\u001b[0m=\u001b[3;34mTrue\u001b[0m\n",
       "\u001b[1;34mfit/feat_model\u001b[0m \u001b[1m)\u001b[0m\u001b[1m]\u001b[0m <= \u001b[1;34m0.005\u001b[0m, \u001b[33mlm_index\u001b[0m=\u001b[1;34m2\u001b[0m \u001b[33mrequired\u001b[0m=\u001b[3;34mTrue\u001b[0m\n",
       "\u001b[1;34mfit_all_on/obs\u001b[0m \u001b[1m)\u001b[0m\u001b[1m]\u001b[0m <= \u001b[1;34m0.008\u001b[0m, \u001b[33mlm_index\u001b[0m=\u001b[1;34m11\u001b[0m \u001b[33mrequired\u001b[0m=\u001b[3;34mTrue\u001b[0m\n",
       "\u001b[1;34mfit_all_on/feat\u001b[0m \u001b[1m)\u001b[0m\u001b[1m]\u001b[0m <= \u001b[1;34m0.005\u001b[0m, \u001b[33mlm_index\u001b[0m=\u001b[1;34m9\u001b[0m \u001b[33mrequired\u001b[0m=\u001b[3;34mTrue\u001b[0m\n",
       "\u001b[1;34mfit_all_on/feat_model\u001b[0m \u001b[1m)\u001b[0m\u001b[1m]\u001b[0m <= \u001b[1;34m0.005\u001b[0m, \u001b[33mlm_index\u001b[0m=\u001b[1;34m10\u001b[0m \u001b[33mrequired\u001b[0m=\u001b[3;34mTrue\u001b[0m\n",
       "\u001b[1;34mfit_all_half/obs\u001b[0m \u001b[1m)\u001b[0m\u001b[1m]\u001b[0m <= \u001b[1;34m0\u001b[0m, \u001b[33mlm_index\u001b[0m=\u001b[1;34m3\u001b[0m \u001b[33mrequired\u001b[0m=\u001b[3;34mFalse\u001b[0m\n",
       "\u001b[1;34mfit_all_half/feat\u001b[0m \u001b[1m)\u001b[0m\u001b[1m]\u001b[0m <= \u001b[1;34m0\u001b[0m, \u001b[33mlm_index\u001b[0m=\u001b[1;34m1\u001b[0m \u001b[33mrequired\u001b[0m=\u001b[3;34mFalse\u001b[0m\n",
       "\u001b[1;34mfit_all_half/feat_model\u001b[0m \u001b[1m)\u001b[0m\u001b[1m]\u001b[0m <= \u001b[1;34m0\u001b[0m, \u001b[33mlm_index\u001b[0m=\u001b[1;34m2\u001b[0m \u001b[33mrequired\u001b[0m=\u001b[3;34mFalse\u001b[0m\n"
      ]
     },
     "metadata": {},
     "output_type": "display_data"
    },
    {
     "data": {
      "text/plain": [
       "{'loss': tensor(462.0649, device='cuda:0', grad_fn=<AddBackward0>),\n",
       " 'metrics': {'fit': {'value': 198.28684997558594,\n",
       "   'coeff': 1.0,\n",
       "   'mean_feature': array([ 4.4085029e-01, -1.2632355e-01,  2.1712837e-01, -1.0145695e+00,\n",
       "           4.7786862e-01, -1.1920930e-10], dtype=float32),\n",
       "   'std_feature': array([2.9146206, 3.230985 , 2.8779254, 3.1081047, 2.5423443, 0.5782171],\n",
       "         dtype=float32),\n",
       "   'min_feature': -12.876446723937988,\n",
       "   'max_feature': 13.302724838256836,\n",
       "   'loss_fcons': 6.146492958068848,\n",
       "   'loss_add': 0.0,\n",
       "   'loss_rec': 187.7736358642578,\n",
       "   'loss_fcons_pre': 6.195785045623779,\n",
       "   'rec_fit_acc_loss_01_agg': 1.4571999907493591,\n",
       "   'loss_discrete': -1.8290729522705078,\n",
       "   'loss_orig': 200.11592292785645},\n",
       "  'fit/additional': {'value': 0.0},\n",
       "  'fit/obs': {'value': 198.28684997558594},\n",
       "  'fit/feat': {'value': 6.719585418701172},\n",
       "  'fit/feat_model': {'value': 7.531785488128662},\n",
       "  'fit/additional_orig': {'value': 0.0, 'coeff': 1.0},\n",
       "  'fit/obs_orig': {'value': 187.7736358642578, 'coeff': 1.0},\n",
       "  'fit/feat_orig': {'value': 6.146492958068848, 'coeff': 1.0},\n",
       "  'fit/feat_model_orig': {'value': 6.195785045623779, 'coeff': 1.0},\n",
       "  'sparsity': {'sparsity_param_0_(11, 6)': tensor(33., device='cuda:0', grad_fn=<DivBackward0>),\n",
       "   'value': 33.0},\n",
       "  'reconstruction': {'value': 0.0},\n",
       "  'fit_all_on': {'value': 200.1083526611328,\n",
       "   'coeff': 1.0,\n",
       "   'mean_feature': array([ 4.4085029e-01, -1.2632355e-01,  2.1712837e-01, -1.0145695e+00,\n",
       "           4.7786862e-01, -1.1920930e-10], dtype=float32),\n",
       "   'std_feature': array([2.9146206, 3.230985 , 2.8779254, 3.1081047, 2.5423443, 0.5782171],\n",
       "         dtype=float32),\n",
       "   'min_feature': -12.876446723937988,\n",
       "   'max_feature': 13.302724838256836,\n",
       "   'loss_fcons': 6.136099815368652,\n",
       "   'loss_add': 0.0,\n",
       "   'loss_rec': 187.78887939453125,\n",
       "   'loss_fcons_pre': 6.183366298675537,\n",
       "   'rec_fit_acc_loss_01_agg': 1.4546000361442566,\n",
       "   'loss_discrete': 0.0,\n",
       "   'loss_orig': 200.1083526611328},\n",
       "  'fit_all_on/additional': {'value': 0.0},\n",
       "  'fit_all_on/obs': {'value': 200.1083526611328},\n",
       "  'fit_all_on/feat': {'value': 6.136099815368652},\n",
       "  'fit_all_on/feat_model': {'value': 6.183366298675537},\n",
       "  'fit_all_on/additional_orig': {'value': 0.0, 'coeff': 1.0},\n",
       "  'fit_all_on/obs_orig': {'value': 187.78887939453125, 'coeff': 1.0},\n",
       "  'fit_all_on/feat_orig': {'value': 6.136099815368652, 'coeff': 1.0},\n",
       "  'fit_all_on/feat_model_orig': {'value': 6.183366298675537, 'coeff': 1.0},\n",
       "  'fit_all_half': {'value': 197.99652099609375,\n",
       "   'coeff': 0.02,\n",
       "   'mean_feature': array([ 4.4085029e-01, -1.2632355e-01,  2.1712837e-01, -1.0145695e+00,\n",
       "           4.7786862e-01, -1.1920930e-10], dtype=float32),\n",
       "   'std_feature': array([2.9146206, 3.230985 , 2.8779254, 3.1081047, 2.5423443, 0.5782171],\n",
       "         dtype=float32),\n",
       "   'min_feature': -12.876446723937988,\n",
       "   'max_feature': 13.302724838256836,\n",
       "   'loss_fcons': 6.152778625488281,\n",
       "   'loss_add': 0.0,\n",
       "   'loss_rec': 187.76953125,\n",
       "   'loss_fcons_pre': 6.198147773742676,\n",
       "   'rec_fit_acc_loss_01_agg': 1.47079998254776,\n",
       "   'loss_discrete': -2.1239230632781982,\n",
       "   'loss_orig': 200.12044405937195},\n",
       "  'fit_all_half/additional': {'value': 0.0},\n",
       "  'fit_all_half/obs': {'value': 197.99652099609375},\n",
       "  'fit_all_half/feat': {'value': 4.223755836486816},\n",
       "  'fit_all_half/feat_model': {'value': 4.672348976135254},\n",
       "  'fit_all_half/additional_orig': {'value': 0.0, 'coeff': 0.02},\n",
       "  'fit_all_half/obs_orig': {'value': 187.76953125, 'coeff': 0.02},\n",
       "  'fit_all_half/feat_orig': {'value': 6.152778625488281, 'coeff': 0.02},\n",
       "  'fit_all_half/feat_model_orig': {'value': 6.198147773742676, 'coeff': 0.02},\n",
       "  'lagrange_multiplier/reconstruction': 1.0,\n",
       "  'lagrange_multiplier/fit/obs': 1.0,\n",
       "  'lagrange_multiplier/fit/feat': 1.0,\n",
       "  'lagrange_multiplier/fit/feat_model': 1.0,\n",
       "  'lagrange_multiplier/fit/additional': 1.0,\n",
       "  'lagrange_multiplier/fit_all_on/obs': 1.0,\n",
       "  'lagrange_multiplier/fit_all_on/feat': 1.0,\n",
       "  'lagrange_multiplier/fit_all_on/feat_model': 1.0,\n",
       "  'lagrange_multiplier/fit_all_on/additional': 1.0,\n",
       "  'constraints_satisfied': 2,\n",
       "  'constraints_satisfied_frac': 0.25,\n",
       "  'constraint': 429.06488037109375,\n",
       "  'objective': 33.0,\n",
       "  'lagrangian': 462.06488037109375}}"
      ]
     },
     "execution_count": 17,
     "metadata": {},
     "output_type": "execute_result"
    }
   ],
   "source": [
    "lagrangian_granular(**ctx, mode='PRIMAL')"
   ]
  },
  {
   "cell_type": "code",
   "execution_count": 18,
   "id": "58b65cdb",
   "metadata": {},
   "outputs": [
    {
     "data": {
      "text/html": [
       "<pre style=\"white-space:pre;overflow-x:auto;line-height:normal;font-family:Menlo,'DejaVu Sans Mono',consolas,'Courier New',monospace\"><span style=\"color: #800000; text-decoration-color: #800000; font-weight: bold\">LAGRANGIAN</span> <span style=\"color: #808000; text-decoration-color: #808000\">mode</span>=<span style=\"color: #800080; text-decoration-color: #800080\">DUAL</span>\n",
       "<span style=\"color: #000080; text-decoration-color: #000080; font-weight: bold\">sparsity</span> <span style=\"font-weight: bold\">)]</span> -&gt; min\n",
       "<span style=\"color: #000080; text-decoration-color: #000080; font-weight: bold\">fit/obs</span> <span style=\"font-weight: bold\">)]</span> &lt;= <span style=\"color: #000080; text-decoration-color: #000080; font-weight: bold\">0.008</span>, <span style=\"color: #808000; text-decoration-color: #808000\">lm_index</span>=<span style=\"color: #000080; text-decoration-color: #000080; font-weight: bold\">3</span> <span style=\"color: #808000; text-decoration-color: #808000\">required</span>=<span style=\"color: #000080; text-decoration-color: #000080; font-style: italic\">True</span>\n",
       "<span style=\"color: #000080; text-decoration-color: #000080; font-weight: bold\">fit/feat</span> <span style=\"font-weight: bold\">)]</span> &lt;= <span style=\"color: #000080; text-decoration-color: #000080; font-weight: bold\">0.005</span>, <span style=\"color: #808000; text-decoration-color: #808000\">lm_index</span>=<span style=\"color: #000080; text-decoration-color: #000080; font-weight: bold\">1</span> <span style=\"color: #808000; text-decoration-color: #808000\">required</span>=<span style=\"color: #000080; text-decoration-color: #000080; font-style: italic\">True</span>\n",
       "<span style=\"color: #000080; text-decoration-color: #000080; font-weight: bold\">fit/feat_model</span> <span style=\"font-weight: bold\">)]</span> &lt;= <span style=\"color: #000080; text-decoration-color: #000080; font-weight: bold\">0.005</span>, <span style=\"color: #808000; text-decoration-color: #808000\">lm_index</span>=<span style=\"color: #000080; text-decoration-color: #000080; font-weight: bold\">2</span> <span style=\"color: #808000; text-decoration-color: #808000\">required</span>=<span style=\"color: #000080; text-decoration-color: #000080; font-style: italic\">True</span>\n",
       "<span style=\"color: #000080; text-decoration-color: #000080; font-weight: bold\">fit_all_on/obs</span> <span style=\"font-weight: bold\">)]</span> &lt;= <span style=\"color: #000080; text-decoration-color: #000080; font-weight: bold\">0.008</span>, <span style=\"color: #808000; text-decoration-color: #808000\">lm_index</span>=<span style=\"color: #000080; text-decoration-color: #000080; font-weight: bold\">11</span> <span style=\"color: #808000; text-decoration-color: #808000\">required</span>=<span style=\"color: #000080; text-decoration-color: #000080; font-style: italic\">True</span>\n",
       "<span style=\"color: #000080; text-decoration-color: #000080; font-weight: bold\">fit_all_on/feat</span> <span style=\"font-weight: bold\">)]</span> &lt;= <span style=\"color: #000080; text-decoration-color: #000080; font-weight: bold\">0.005</span>, <span style=\"color: #808000; text-decoration-color: #808000\">lm_index</span>=<span style=\"color: #000080; text-decoration-color: #000080; font-weight: bold\">9</span> <span style=\"color: #808000; text-decoration-color: #808000\">required</span>=<span style=\"color: #000080; text-decoration-color: #000080; font-style: italic\">True</span>\n",
       "<span style=\"color: #000080; text-decoration-color: #000080; font-weight: bold\">fit_all_on/feat_model</span> <span style=\"font-weight: bold\">)]</span> &lt;= <span style=\"color: #000080; text-decoration-color: #000080; font-weight: bold\">0.005</span>, <span style=\"color: #808000; text-decoration-color: #808000\">lm_index</span>=<span style=\"color: #000080; text-decoration-color: #000080; font-weight: bold\">10</span> <span style=\"color: #808000; text-decoration-color: #808000\">required</span>=<span style=\"color: #000080; text-decoration-color: #000080; font-style: italic\">True</span>\n",
       "<span style=\"color: #000080; text-decoration-color: #000080; font-weight: bold\">fit_all_half/obs</span> <span style=\"font-weight: bold\">)]</span> &lt;= <span style=\"color: #000080; text-decoration-color: #000080; font-weight: bold\">0</span>, <span style=\"color: #808000; text-decoration-color: #808000\">lm_index</span>=<span style=\"color: #000080; text-decoration-color: #000080; font-weight: bold\">3</span> <span style=\"color: #808000; text-decoration-color: #808000\">required</span>=<span style=\"color: #000080; text-decoration-color: #000080; font-style: italic\">False</span>\n",
       "<span style=\"color: #000080; text-decoration-color: #000080; font-weight: bold\">fit_all_half/feat</span> <span style=\"font-weight: bold\">)]</span> &lt;= <span style=\"color: #000080; text-decoration-color: #000080; font-weight: bold\">0</span>, <span style=\"color: #808000; text-decoration-color: #808000\">lm_index</span>=<span style=\"color: #000080; text-decoration-color: #000080; font-weight: bold\">1</span> <span style=\"color: #808000; text-decoration-color: #808000\">required</span>=<span style=\"color: #000080; text-decoration-color: #000080; font-style: italic\">False</span>\n",
       "<span style=\"color: #000080; text-decoration-color: #000080; font-weight: bold\">fit_all_half/feat_model</span> <span style=\"font-weight: bold\">)]</span> &lt;= <span style=\"color: #000080; text-decoration-color: #000080; font-weight: bold\">0</span>, <span style=\"color: #808000; text-decoration-color: #808000\">lm_index</span>=<span style=\"color: #000080; text-decoration-color: #000080; font-weight: bold\">2</span> <span style=\"color: #808000; text-decoration-color: #808000\">required</span>=<span style=\"color: #000080; text-decoration-color: #000080; font-style: italic\">False</span>\n",
       "</pre>\n"
      ],
      "text/plain": [
       "\u001b[1;31mLAGRANGIAN\u001b[0m \u001b[33mmode\u001b[0m=\u001b[35mDUAL\u001b[0m\n",
       "\u001b[1;34msparsity\u001b[0m \u001b[1m)\u001b[0m\u001b[1m]\u001b[0m -> min\n",
       "\u001b[1;34mfit/obs\u001b[0m \u001b[1m)\u001b[0m\u001b[1m]\u001b[0m <= \u001b[1;34m0.008\u001b[0m, \u001b[33mlm_index\u001b[0m=\u001b[1;34m3\u001b[0m \u001b[33mrequired\u001b[0m=\u001b[3;34mTrue\u001b[0m\n",
       "\u001b[1;34mfit/feat\u001b[0m \u001b[1m)\u001b[0m\u001b[1m]\u001b[0m <= \u001b[1;34m0.005\u001b[0m, \u001b[33mlm_index\u001b[0m=\u001b[1;34m1\u001b[0m \u001b[33mrequired\u001b[0m=\u001b[3;34mTrue\u001b[0m\n",
       "\u001b[1;34mfit/feat_model\u001b[0m \u001b[1m)\u001b[0m\u001b[1m]\u001b[0m <= \u001b[1;34m0.005\u001b[0m, \u001b[33mlm_index\u001b[0m=\u001b[1;34m2\u001b[0m \u001b[33mrequired\u001b[0m=\u001b[3;34mTrue\u001b[0m\n",
       "\u001b[1;34mfit_all_on/obs\u001b[0m \u001b[1m)\u001b[0m\u001b[1m]\u001b[0m <= \u001b[1;34m0.008\u001b[0m, \u001b[33mlm_index\u001b[0m=\u001b[1;34m11\u001b[0m \u001b[33mrequired\u001b[0m=\u001b[3;34mTrue\u001b[0m\n",
       "\u001b[1;34mfit_all_on/feat\u001b[0m \u001b[1m)\u001b[0m\u001b[1m]\u001b[0m <= \u001b[1;34m0.005\u001b[0m, \u001b[33mlm_index\u001b[0m=\u001b[1;34m9\u001b[0m \u001b[33mrequired\u001b[0m=\u001b[3;34mTrue\u001b[0m\n",
       "\u001b[1;34mfit_all_on/feat_model\u001b[0m \u001b[1m)\u001b[0m\u001b[1m]\u001b[0m <= \u001b[1;34m0.005\u001b[0m, \u001b[33mlm_index\u001b[0m=\u001b[1;34m10\u001b[0m \u001b[33mrequired\u001b[0m=\u001b[3;34mTrue\u001b[0m\n",
       "\u001b[1;34mfit_all_half/obs\u001b[0m \u001b[1m)\u001b[0m\u001b[1m]\u001b[0m <= \u001b[1;34m0\u001b[0m, \u001b[33mlm_index\u001b[0m=\u001b[1;34m3\u001b[0m \u001b[33mrequired\u001b[0m=\u001b[3;34mFalse\u001b[0m\n",
       "\u001b[1;34mfit_all_half/feat\u001b[0m \u001b[1m)\u001b[0m\u001b[1m]\u001b[0m <= \u001b[1;34m0\u001b[0m, \u001b[33mlm_index\u001b[0m=\u001b[1;34m1\u001b[0m \u001b[33mrequired\u001b[0m=\u001b[3;34mFalse\u001b[0m\n",
       "\u001b[1;34mfit_all_half/feat_model\u001b[0m \u001b[1m)\u001b[0m\u001b[1m]\u001b[0m <= \u001b[1;34m0\u001b[0m, \u001b[33mlm_index\u001b[0m=\u001b[1;34m2\u001b[0m \u001b[33mrequired\u001b[0m=\u001b[3;34mFalse\u001b[0m\n"
      ]
     },
     "metadata": {},
     "output_type": "display_data"
    },
    {
     "data": {
      "text/plain": [
       "{'loss': tensor(-437.9622, device='cuda:0', grad_fn=<NegBackward>),\n",
       " 'metrics': {'fit': {'value': 201.31800842285156,\n",
       "   'coeff': 1.0,\n",
       "   'mean_feature': array([ 4.4085029e-01, -1.2632355e-01,  2.1712837e-01, -1.0145695e+00,\n",
       "           4.7786862e-01, -1.1920930e-10], dtype=float32),\n",
       "   'std_feature': array([2.9146206, 3.230985 , 2.8779254, 3.1081047, 2.5423443, 0.5782171],\n",
       "         dtype=float32),\n",
       "   'min_feature': -12.876446723937988,\n",
       "   'max_feature': 13.302724838256836,\n",
       "   'loss_fcons': 6.137408256530762,\n",
       "   'loss_add': 0.0,\n",
       "   'loss_rec': 187.77317810058594,\n",
       "   'loss_fcons_pre': 6.191041946411133,\n",
       "   'rec_fit_acc_loss_01_agg': 1.4661999940872192,\n",
       "   'loss_discrete': 1.2163729667663574,\n",
       "   'loss_orig': 200.1016354560852},\n",
       "  'fit/additional': {'value': 0.0},\n",
       "  'fit/obs': {'value': 201.31800842285156},\n",
       "  'fit/feat': {'value': 5.466488361358643},\n",
       "  'fit/feat_model': {'value': 5.704026699066162},\n",
       "  'fit/additional_orig': {'value': 0.0, 'coeff': 1.0},\n",
       "  'fit/obs_orig': {'value': 187.77317810058594, 'coeff': 1.0},\n",
       "  'fit/feat_orig': {'value': 6.137408256530762, 'coeff': 1.0},\n",
       "  'fit/feat_model_orig': {'value': 6.191041946411133, 'coeff': 1.0},\n",
       "  'sparsity': {'sparsity_param_0_(11, 6)': tensor(33., device='cuda:0', grad_fn=<DivBackward0>),\n",
       "   'value': 33.0},\n",
       "  'reconstruction': {'value': 0.0},\n",
       "  'fit_all_on': {'value': 200.1083526611328,\n",
       "   'coeff': 1.0,\n",
       "   'mean_feature': array([ 4.4085029e-01, -1.2632355e-01,  2.1712837e-01, -1.0145695e+00,\n",
       "           4.7786862e-01, -1.1920930e-10], dtype=float32),\n",
       "   'std_feature': array([2.9146206, 3.230985 , 2.8779254, 3.1081047, 2.5423443, 0.5782171],\n",
       "         dtype=float32),\n",
       "   'min_feature': -12.876446723937988,\n",
       "   'max_feature': 13.302724838256836,\n",
       "   'loss_fcons': 6.136099815368652,\n",
       "   'loss_add': 0.0,\n",
       "   'loss_rec': 187.78887939453125,\n",
       "   'loss_fcons_pre': 6.183366298675537,\n",
       "   'rec_fit_acc_loss_01_agg': 1.4546000361442566,\n",
       "   'loss_discrete': 0.0,\n",
       "   'loss_orig': 200.1083526611328},\n",
       "  'fit_all_on/additional': {'value': 0.0},\n",
       "  'fit_all_on/obs': {'value': 200.1083526611328},\n",
       "  'fit_all_on/feat': {'value': 6.136099815368652},\n",
       "  'fit_all_on/feat_model': {'value': 6.183366298675537},\n",
       "  'fit_all_on/additional_orig': {'value': 0.0, 'coeff': 1.0},\n",
       "  'fit_all_on/obs_orig': {'value': 187.78887939453125, 'coeff': 1.0},\n",
       "  'fit_all_on/feat_orig': {'value': 6.136099815368652, 'coeff': 1.0},\n",
       "  'fit_all_on/feat_model_orig': {'value': 6.183366298675537, 'coeff': 1.0},\n",
       "  'fit_all_half': {'value': 227.89398193359375,\n",
       "   'coeff': 0.02,\n",
       "   'mean_feature': array([ 4.4085029e-01, -1.2632355e-01,  2.1712837e-01, -1.0145695e+00,\n",
       "           4.7786862e-01, -1.1920930e-10], dtype=float32),\n",
       "   'std_feature': array([2.9146206, 3.230985 , 2.8779254, 3.1081047, 2.5423443, 0.5782171],\n",
       "         dtype=float32),\n",
       "   'min_feature': -12.876446723937988,\n",
       "   'max_feature': 13.302724838256836,\n",
       "   'loss_fcons': 6.141324996948242,\n",
       "   'loss_add': 0.0,\n",
       "   'loss_rec': 187.7307586669922,\n",
       "   'loss_fcons_pre': 6.197118282318115,\n",
       "   'rec_fit_acc_loss_01_agg': 1.4541999101638794,\n",
       "   'loss_discrete': 27.824758529663086,\n",
       "   'loss_orig': 200.06922340393066},\n",
       "  'fit_all_half/additional': {'value': 0.0},\n",
       "  'fit_all_half/obs': {'value': 227.89398193359375},\n",
       "  'fit_all_half/feat': {'value': 5.550688743591309},\n",
       "  'fit_all_half/feat_model': {'value': 6.114840030670166},\n",
       "  'fit_all_half/additional_orig': {'value': 0.0, 'coeff': 0.02},\n",
       "  'fit_all_half/obs_orig': {'value': 187.7307586669922, 'coeff': 0.02},\n",
       "  'fit_all_half/feat_orig': {'value': 6.141324996948242, 'coeff': 0.02},\n",
       "  'fit_all_half/feat_model_orig': {'value': 6.197118282318115, 'coeff': 0.02},\n",
       "  'lagrange_multiplier/reconstruction': 1.0,\n",
       "  'lagrange_multiplier/fit/obs': 1.0,\n",
       "  'lagrange_multiplier/fit/feat': 1.0,\n",
       "  'lagrange_multiplier/fit/feat_model': 1.0,\n",
       "  'lagrange_multiplier/fit/additional': 1.0,\n",
       "  'lagrange_multiplier/fit_all_on/obs': 1.0,\n",
       "  'lagrange_multiplier/fit_all_on/feat': 1.0,\n",
       "  'lagrange_multiplier/fit_all_on/feat_model': 1.0,\n",
       "  'lagrange_multiplier/fit_all_on/additional': 1.0,\n",
       "  'constraints_satisfied': 2,\n",
       "  'constraints_satisfied_frac': 0.25,\n",
       "  'constraint': 404.962158203125,\n",
       "  'objective': 33.0,\n",
       "  'lagrangian': 437.962158203125}}"
      ]
     },
     "execution_count": 18,
     "metadata": {},
     "output_type": "execute_result"
    }
   ],
   "source": [
    "lagrangian_granular(**ctx, mode='DUAL')"
   ]
  },
  {
   "cell_type": "code",
   "execution_count": 25,
   "id": "2bee30af",
   "metadata": {},
   "outputs": [],
   "source": [
    "gin.clear_config()"
   ]
  },
  {
   "cell_type": "code",
   "execution_count": 26,
   "id": "0a6d5f8f",
   "metadata": {},
   "outputs": [
    {
     "data": {
      "text/html": [
       "<pre style=\"white-space:pre;overflow-x:auto;line-height:normal;font-family:Menlo,'DejaVu Sans Mono',consolas,'Courier New',monospace\"><span style=\"color: #7fbfbf; text-decoration-color: #7fbfbf\">[04/15/21 12:37:22] </span><span style=\"color: #000080; text-decoration-color: #000080\">INFO    </span> INFO:root:Using device cu<span style=\"color: #00ff00; text-decoration-color: #00ff00; font-weight: bold\">da:0</span>             <a href=\"file:///home/sergei/causality-disentanglement-rl/sparse_causal_model_learner_rl/learners/abstract_learner.py\"><span style=\"color: #7f7f7f; text-decoration-color: #7f7f7f\">abstract_learner.py</span></a><span style=\"color: #7f7f7f; text-decoration-color: #7f7f7f\">:37</span>\n",
       "</pre>\n"
      ],
      "text/plain": [
       "\u001b[2;36m[04/15/21 12:37:22]\u001b[0m\u001b[2;36m \u001b[0m\u001b[34mINFO    \u001b[0m INFO:root:Using device cu\u001b[1;92mda:0\u001b[0m             \u001b]8;id=1618483042.7956243-406265;file:///home/sergei/causality-disentanglement-rl/sparse_causal_model_learner_rl/learners/abstract_learner.py\u001b\\\u001b[2mabstract_learner.py\u001b[0m\u001b]8;;\u001b\\\u001b[2m:37\u001b[0m\n"
      ]
     },
     "metadata": {},
     "output_type": "display_data"
    },
    {
     "name": "stderr",
     "output_type": "stream",
     "text": [
      "2021-04-15 12:37:22,797\tWARNING session.py:20 -- Session not detected. You should not be calling this function outside `tune.run` or while using the class API. \n"
     ]
    },
    {
     "name": "stdout",
     "output_type": "stream",
     "text": [
      "Selecting name 8fea35a8-9dd6-11eb-bfe7-90e2baa15a70\n"
     ]
    },
    {
     "data": {
      "text/html": [
       "<pre style=\"white-space:pre;overflow-x:auto;line-height:normal;font-family:Menlo,'DejaVu Sans Mono',consolas,'Courier New',monospace\"><span style=\"color: #7fbfbf; text-decoration-color: #7fbfbf\">                    </span><span style=\"color: #000080; text-decoration-color: #000080\">INFO    </span> INFO:root:Starting parameter communicator with name <a href=\"file:///home/sergei/causality-disentanglement-rl/sparse_causal_model_learner_rl/config/config.py\"><span style=\"color: #7f7f7f; text-decoration-color: #7f7f7f\">config.py</span></a><span style=\"color: #7f7f7f; text-decoration-color: #7f7f7f\">:64</span>\n",
       "                             <span style=\"color: #ffff00; text-decoration-color: #ffff00\">8fea35a8-9dd6-11eb-bfe7-90e2baa15a70</span>                            \n",
       "</pre>\n"
      ],
      "text/plain": [
       "\u001b[2;36m                   \u001b[0m\u001b[2;36m \u001b[0m\u001b[34mINFO    \u001b[0m INFO:root:Starting parameter communicator with name \u001b]8;id=1618483042.799953-902850;file:///home/sergei/causality-disentanglement-rl/sparse_causal_model_learner_rl/config/config.py\u001b\\\u001b[2mconfig.py\u001b[0m\u001b]8;;\u001b\\\u001b[2m:64\u001b[0m\n",
       "                             \u001b[93m8fea35a8-9dd6-11eb-bfe7-90e2baa15a70\u001b[0m                            \n"
      ]
     },
     "metadata": {},
     "output_type": "display_data"
    },
    {
     "name": "stdout",
     "output_type": "stream",
     "text": [
      "Make environment KeyChest-v0 None {}\n"
     ]
    },
    {
     "data": {
      "text/html": [
       "<pre style=\"white-space:pre;overflow-x:auto;line-height:normal;font-family:Menlo,'DejaVu Sans Mono',consolas,'Courier New',monospace\"><span style=\"color: #7fbfbf; text-decoration-color: #7fbfbf\">                    </span><span style=\"color: #000080; text-decoration-color: #000080\">INFO    </span> INFO:root:<span style=\"font-weight: bold\">{</span><span style=\"color: #008000; text-decoration-color: #008000\">'feature_shape'</span>: <span style=\"font-weight: bold\">(</span><span style=\"color: #008080; text-decoration-color: #008080; font-weight: bold\">6</span>,<span style=\"font-weight: bold\">)</span>,               <a href=\"file:///home/sergei/causality-disentanglement-rl/sparse_causal_model_learner_rl/learners/rl_learner.py\"><span style=\"color: #7f7f7f; text-decoration-color: #7f7f7f\">rl_learner.py</span></a><span style=\"color: #7f7f7f; text-decoration-color: #7f7f7f\">:71</span>\n",
       "                             <span style=\"color: #008000; text-decoration-color: #008000\">'action_shape'</span>: <span style=\"font-weight: bold\">(</span><span style=\"color: #008080; text-decoration-color: #008080; font-weight: bold\">4</span>,<span style=\"font-weight: bold\">)</span>, <span style=\"color: #008000; text-decoration-color: #008000\">'observation_shape'</span>: <span style=\"font-weight: bold\">(</span><span style=\"color: #008080; text-decoration-color: #008080; font-weight: bold\">10</span>,                 \n",
       "                             <span style=\"color: #008080; text-decoration-color: #008080; font-weight: bold\">7</span>, <span style=\"color: #008080; text-decoration-color: #008080; font-weight: bold\">3</span><span style=\"font-weight: bold\">)</span>, <span style=\"color: #008000; text-decoration-color: #008000\">'additional_feature_shape'</span>: <span style=\"font-weight: bold\">(</span><span style=\"color: #008080; text-decoration-color: #008080; font-weight: bold\">0</span>,<span style=\"font-weight: bold\">)</span>,                        \n",
       "                             <span style=\"color: #008000; text-decoration-color: #008000\">'total_feature_shape'</span>: <span style=\"font-weight: bold\">(</span><span style=\"color: #008080; text-decoration-color: #008080; font-weight: bold\">6</span>,<span style=\"font-weight: bold\">)}</span>                                    \n",
       "</pre>\n"
      ],
      "text/plain": [
       "\u001b[2;36m                   \u001b[0m\u001b[2;36m \u001b[0m\u001b[34mINFO    \u001b[0m INFO:root:\u001b[1m{\u001b[0m\u001b[32m'feature_shape'\u001b[0m: \u001b[1m(\u001b[0m\u001b[1;36m6\u001b[0m,\u001b[1m)\u001b[0m,               \u001b]8;id=1618483042.827432-65218;file:///home/sergei/causality-disentanglement-rl/sparse_causal_model_learner_rl/learners/rl_learner.py\u001b\\\u001b[2mrl_learner.py\u001b[0m\u001b]8;;\u001b\\\u001b[2m:71\u001b[0m\n",
       "                             \u001b[32m'action_shape'\u001b[0m: \u001b[1m(\u001b[0m\u001b[1;36m4\u001b[0m,\u001b[1m)\u001b[0m, \u001b[32m'observation_shape'\u001b[0m: \u001b[1m(\u001b[0m\u001b[1;36m10\u001b[0m,                 \n",
       "                             \u001b[1;36m7\u001b[0m, \u001b[1;36m3\u001b[0m\u001b[1m)\u001b[0m, \u001b[32m'additional_feature_shape'\u001b[0m: \u001b[1m(\u001b[0m\u001b[1;36m0\u001b[0m,\u001b[1m)\u001b[0m,                        \n",
       "                             \u001b[32m'total_feature_shape'\u001b[0m: \u001b[1m(\u001b[0m\u001b[1;36m6\u001b[0m,\u001b[1m)\u001b[0m\u001b[1m}\u001b[0m                                    \n"
      ]
     },
     "metadata": {},
     "output_type": "display_data"
    },
    {
     "name": "stderr",
     "output_type": "stream",
     "text": [
      "2021-04-15 12:37:22,996\tWARNING session.py:20 -- Session not detected. You should not be calling this function outside `tune.run` or while using the class API. \n"
     ]
    },
    {
     "name": "stdout",
     "output_type": "stream",
     "text": [
      "\u001b[2m\u001b[36m(pid=29656)\u001b[0m Make environment KeyChest-v0 None {}\n",
      "\u001b[2m\u001b[36m(pid=29621)\u001b[0m Make environment KeyChest-v0 None {}\n",
      "\u001b[2m\u001b[36m(pid=29669)\u001b[0m Make environment KeyChest-v0 None {}\n",
      "\u001b[2m\u001b[36m(pid=31010)\u001b[0m Make environment KeyChest-v0 None {}\n"
     ]
    },
    {
     "data": {
      "text/html": [
       "<pre style=\"white-space:pre;overflow-x:auto;line-height:normal;font-family:Menlo,'DejaVu Sans Mono',consolas,'Courier New',monospace\"><span style=\"color: #7fbfbf; text-decoration-color: #7fbfbf\">[04/15/21 12:37:26] </span><span style=\"color: #000080; text-decoration-color: #000080\">INFO    </span> INFO:root:Buffer reset response: <span style=\"font-weight: bold\">{</span><span style=\"color: #008000; text-decoration-color: #008000\">'info'</span>: <span style=\"color: #008000; text-decoration-color: #008000\">'buffer</span> <a href=\"file:///home/sergei/causality-disentanglement-rl/sparse_causal_model_learner_rl/learners/rl_data.py\"><span style=\"color: #7f7f7f; text-decoration-color: #7f7f7f\">rl_data.py</span></a><span style=\"color: #7f7f7f; text-decoration-color: #7f7f7f\">:399</span>\n",
       "                             <span style=\"color: #008000; text-decoration-color: #008000\">cleaned'</span><span style=\"font-weight: bold\">}</span>                                                       \n",
       "</pre>\n"
      ],
      "text/plain": [
       "\u001b[2;36m[04/15/21 12:37:26]\u001b[0m\u001b[2;36m \u001b[0m\u001b[34mINFO    \u001b[0m INFO:root:Buffer reset response: \u001b[1m{\u001b[0m\u001b[32m'info'\u001b[0m: \u001b[32m'buffer\u001b[0m \u001b]8;id=1618483046.7109025-415643;file:///home/sergei/causality-disentanglement-rl/sparse_causal_model_learner_rl/learners/rl_data.py\u001b\\\u001b[2mrl_data.py\u001b[0m\u001b]8;;\u001b\\\u001b[2m:399\u001b[0m\n",
       "                             \u001b[32mcleaned'\u001b[0m\u001b[1m}\u001b[0m                                                       \n"
      ]
     },
     "metadata": {},
     "output_type": "display_data"
    },
    {
     "data": {
      "application/vnd.jupyter.widget-view+json": {
       "model_id": "c80eab1b0a8845adaf418b688c0ca962",
       "version_major": 2,
       "version_minor": 0
      },
      "text/plain": [
       "HBox(children=(HTML(value='Initial buffer fill'), FloatProgress(value=0.0, max=1000.0), HTML(value='')))"
      ]
     },
     "metadata": {},
     "output_type": "display_data"
    },
    {
     "name": "stdout",
     "output_type": "stream",
     "text": [
      "\n"
     ]
    },
    {
     "data": {
      "text/html": [
       "<pre style=\"white-space:pre;overflow-x:auto;line-height:normal;font-family:Menlo,'DejaVu Sans Mono',consolas,'Courier New',monospace\"><span style=\"color: #7fbfbf; text-decoration-color: #7fbfbf\">[04/15/21 12:37:27] </span><span style=\"color: #800000; text-decoration-color: #800000\">WARNING </span> WARNING:root:Computed std for obs         <a href=\"file:///home/sergei/causality-disentanglement-rl/sparse_causal_model_learner_rl/learners/input_normalizer.py\"><span style=\"color: #7f7f7f; text-decoration-color: #7f7f7f\">input_normalizer.py</span></a><span style=\"color: #7f7f7f; text-decoration-color: #7f7f7f\">:61</span>\n",
       "                             <span style=\"font-weight: bold\">[</span><span style=\"color: #808000; text-decoration-color: #808000\">shape</span>=<span style=\"font-weight: bold\">(</span><span style=\"color: #008080; text-decoration-color: #008080; font-weight: bold\">10</span>, <span style=\"color: #008080; text-decoration-color: #008080; font-weight: bold\">7</span>, <span style=\"color: #008080; text-decoration-color: #008080; font-weight: bold\">3</span><span style=\"font-weight: bold\">)</span>, <span style=\"color: #808000; text-decoration-color: #808000\">components</span>=<span style=\"color: #008080; text-decoration-color: #008080; font-weight: bold\">210</span><span style=\"font-weight: bold\">]</span>:                             \n",
       "                             <span style=\"font-weight: bold\">[[[</span><span style=\"color: #008080; text-decoration-color: #008080; font-weight: bold\">0.01816018</span> <span style=\"color: #008080; text-decoration-color: #008080; font-weight: bold\">0</span>.         <span style=\"color: #008080; text-decoration-color: #008080; font-weight: bold\">0</span>.        <span style=\"font-weight: bold\">]</span>                            \n",
       "                               <span style=\"font-weight: bold\">[</span><span style=\"color: #008080; text-decoration-color: #008080; font-weight: bold\">0.01616016</span> <span style=\"color: #008080; text-decoration-color: #008080; font-weight: bold\">0</span>.         <span style=\"color: #008080; text-decoration-color: #008080; font-weight: bold\">0</span>.        <span style=\"font-weight: bold\">]</span>                            \n",
       "                               <span style=\"font-weight: bold\">[</span><span style=\"color: #008080; text-decoration-color: #008080; font-weight: bold\">0.01415014</span> <span style=\"color: #008080; text-decoration-color: #008080; font-weight: bold\">0</span>.         <span style=\"color: #008080; text-decoration-color: #008080; font-weight: bold\">0</span>.        <span style=\"font-weight: bold\">]</span>                            \n",
       "                               <span style=\"font-weight: bold\">[</span><span style=\"color: #008080; text-decoration-color: #008080; font-weight: bold\">0.01209012</span> <span style=\"color: #008080; text-decoration-color: #008080; font-weight: bold\">0</span>.         <span style=\"color: #008080; text-decoration-color: #008080; font-weight: bold\">0</span>.        <span style=\"font-weight: bold\">]</span>                            \n",
       "                               <span style=\"font-weight: bold\">[</span><span style=\"color: #008080; text-decoration-color: #008080; font-weight: bold\">0.0100101</span>  <span style=\"color: #008080; text-decoration-color: #008080; font-weight: bold\">0</span>.         <span style=\"color: #008080; text-decoration-color: #008080; font-weight: bold\">0</span>.        <span style=\"font-weight: bold\">]</span>                            \n",
       "                               <span style=\"font-weight: bold\">[</span><span style=\"color: #008080; text-decoration-color: #008080; font-weight: bold\">0.00790008</span> <span style=\"color: #008080; text-decoration-color: #008080; font-weight: bold\">0</span>.         <span style=\"color: #008080; text-decoration-color: #008080; font-weight: bold\">0</span>.        <span style=\"font-weight: bold\">]</span>                            \n",
       "                               <span style=\"font-weight: bold\">[</span><span style=\"color: #008080; text-decoration-color: #008080; font-weight: bold\">0.00573006</span> <span style=\"color: #008080; text-decoration-color: #008080; font-weight: bold\">0</span>.         <span style=\"color: #008080; text-decoration-color: #008080; font-weight: bold\">0</span>.        <span style=\"font-weight: bold\">]]</span>                           \n",
       "                                                                                             \n",
       "                              <span style=\"font-weight: bold\">[[</span><span style=\"color: #008080; text-decoration-color: #008080; font-weight: bold\">0.00346003</span> <span style=\"color: #008080; text-decoration-color: #008080; font-weight: bold\">0</span>.         <span style=\"color: #008080; text-decoration-color: #008080; font-weight: bold\">0</span>.        <span style=\"font-weight: bold\">]</span>                            \n",
       "                               <span style=\"font-weight: bold\">[</span><span style=\"color: #008080; text-decoration-color: #008080; font-weight: bold\">0.00119001</span> <span style=\"color: #008080; text-decoration-color: #008080; font-weight: bold\">0</span>.         <span style=\"color: #008080; text-decoration-color: #008080; font-weight: bold\">0</span>.        <span style=\"font-weight: bold\">]</span>                            \n",
       "                               <span style=\"font-weight: bold\">[</span><span style=\"color: #008080; text-decoration-color: #008080; font-weight: bold\">0.00092001</span> <span style=\"color: #008080; text-decoration-color: #008080; font-weight: bold\">0</span>.         <span style=\"color: #008080; text-decoration-color: #008080; font-weight: bold\">0</span>.        <span style=\"font-weight: bold\">]</span>                            \n",
       "                               <span style=\"font-weight: bold\">[</span><span style=\"color: #008080; text-decoration-color: #008080; font-weight: bold\">0.00066001</span> <span style=\"color: #008080; text-decoration-color: #008080; font-weight: bold\">0</span>.         <span style=\"color: #008080; text-decoration-color: #008080; font-weight: bold\">0</span>.        <span style=\"font-weight: bold\">]</span>                            \n",
       "                               <span style=\"font-weight: bold\">[</span><span style=\"color: #008080; text-decoration-color: #008080; font-weight: bold\">0.00045</span>    <span style=\"color: #008080; text-decoration-color: #008080; font-weight: bold\">0</span>.         <span style=\"color: #008080; text-decoration-color: #008080; font-weight: bold\">0</span>.        <span style=\"font-weight: bold\">]</span>                            \n",
       "                               <span style=\"font-weight: bold\">[</span><span style=\"color: #008080; text-decoration-color: #008080; font-weight: bold\">0.00026</span>    <span style=\"color: #008080; text-decoration-color: #008080; font-weight: bold\">0</span>.         <span style=\"color: #008080; text-decoration-color: #008080; font-weight: bold\">0</span>.        <span style=\"font-weight: bold\">]</span>                            \n",
       "                               <span style=\"font-weight: bold\">[</span><span style=\"color: #008080; text-decoration-color: #008080; font-weight: bold\">0.0001</span>     <span style=\"color: #008080; text-decoration-color: #008080; font-weight: bold\">0</span>.         <span style=\"color: #008080; text-decoration-color: #008080; font-weight: bold\">0</span>.        <span style=\"font-weight: bold\">]]</span>                           \n",
       "                                                                                             \n",
       "                              <span style=\"font-weight: bold\">[[</span><span style=\"color: #008080; text-decoration-color: #008080; font-weight: bold\">0</span>.         <span style=\"color: #008080; text-decoration-color: #008080; font-weight: bold\">0</span>.         <span style=\"color: #008080; text-decoration-color: #008080; font-weight: bold\">0</span>.        <span style=\"font-weight: bold\">]</span>                            \n",
       "                               <span style=\"font-weight: bold\">[</span><span style=\"color: #008080; text-decoration-color: #008080; font-weight: bold\">0</span>.         <span style=\"color: #008080; text-decoration-color: #008080; font-weight: bold\">0</span>.         <span style=\"color: #008080; text-decoration-color: #008080; font-weight: bold\">0</span>.        <span style=\"font-weight: bold\">]</span>                            \n",
       "                               <span style=\"font-weight: bold\">[</span><span style=\"color: #008080; text-decoration-color: #008080; font-weight: bold\">0</span>.         <span style=\"color: #008080; text-decoration-color: #008080; font-weight: bold\">0</span>.         <span style=\"color: #008080; text-decoration-color: #008080; font-weight: bold\">0</span>.        <span style=\"font-weight: bold\">]</span>                            \n",
       "                               <span style=\"font-weight: bold\">[</span><span style=\"color: #008080; text-decoration-color: #008080; font-weight: bold\">0</span>.         <span style=\"color: #008080; text-decoration-color: #008080; font-weight: bold\">0</span>.         <span style=\"color: #008080; text-decoration-color: #008080; font-weight: bold\">0</span>.        <span style=\"font-weight: bold\">]</span>                            \n",
       "                               <span style=\"font-weight: bold\">[</span><span style=\"color: #008080; text-decoration-color: #008080; font-weight: bold\">0</span>.         <span style=\"color: #008080; text-decoration-color: #008080; font-weight: bold\">0</span>.         <span style=\"color: #008080; text-decoration-color: #008080; font-weight: bold\">0</span>.        <span style=\"font-weight: bold\">]</span>                            \n",
       "                               <span style=\"font-weight: bold\">[</span><span style=\"color: #008080; text-decoration-color: #008080; font-weight: bold\">0</span>.         <span style=\"color: #008080; text-decoration-color: #008080; font-weight: bold\">0</span>.         <span style=\"color: #008080; text-decoration-color: #008080; font-weight: bold\">0</span>.        <span style=\"font-weight: bold\">]</span>                            \n",
       "                               <span style=\"font-weight: bold\">[</span><span style=\"color: #008080; text-decoration-color: #008080; font-weight: bold\">0</span>.         <span style=\"color: #008080; text-decoration-color: #008080; font-weight: bold\">0</span>.         <span style=\"color: #008080; text-decoration-color: #008080; font-weight: bold\">0</span>.        <span style=\"font-weight: bold\">]]</span>                           \n",
       "                                                                                             \n",
       "                              <span style=\"font-weight: bold\">[[</span><span style=\"color: #008080; text-decoration-color: #008080; font-weight: bold\">0</span>.         <span style=\"color: #008080; text-decoration-color: #008080; font-weight: bold\">0</span>.         <span style=\"color: #008080; text-decoration-color: #008080; font-weight: bold\">0</span>.        <span style=\"font-weight: bold\">]</span>                            \n",
       "                               <span style=\"font-weight: bold\">[</span><span style=\"color: #008080; text-decoration-color: #008080; font-weight: bold\">0</span>.         <span style=\"color: #008080; text-decoration-color: #008080; font-weight: bold\">0</span>.         <span style=\"color: #008080; text-decoration-color: #008080; font-weight: bold\">0</span>.        <span style=\"font-weight: bold\">]</span>                            \n",
       "                               <span style=\"font-weight: bold\">[</span><span style=\"color: #008080; text-decoration-color: #008080; font-weight: bold\">0</span>.         <span style=\"color: #008080; text-decoration-color: #008080; font-weight: bold\">0</span>.         <span style=\"color: #008080; text-decoration-color: #008080; font-weight: bold\">0</span>.        <span style=\"font-weight: bold\">]</span>                            \n",
       "                               <span style=\"font-weight: bold\">[</span><span style=\"color: #008080; text-decoration-color: #008080; font-weight: bold\">0</span>.         <span style=\"color: #008080; text-decoration-color: #008080; font-weight: bold\">0</span>.         <span style=\"color: #008080; text-decoration-color: #008080; font-weight: bold\">0</span>.        <span style=\"font-weight: bold\">]</span>                            \n",
       "                               <span style=\"font-weight: bold\">[</span><span style=\"color: #008080; text-decoration-color: #008080; font-weight: bold\">0</span>.         <span style=\"color: #008080; text-decoration-color: #008080; font-weight: bold\">0</span>.         <span style=\"color: #008080; text-decoration-color: #008080; font-weight: bold\">0</span>.        <span style=\"font-weight: bold\">]</span>                            \n",
       "                               <span style=\"font-weight: bold\">[</span><span style=\"color: #008080; text-decoration-color: #008080; font-weight: bold\">0</span>.         <span style=\"color: #008080; text-decoration-color: #008080; font-weight: bold\">0</span>.         <span style=\"color: #008080; text-decoration-color: #008080; font-weight: bold\">0</span>.        <span style=\"font-weight: bold\">]</span>                            \n",
       "                               <span style=\"font-weight: bold\">[</span><span style=\"color: #008080; text-decoration-color: #008080; font-weight: bold\">0</span>.         <span style=\"color: #008080; text-decoration-color: #008080; font-weight: bold\">0</span>.         <span style=\"color: #008080; text-decoration-color: #008080; font-weight: bold\">0</span>.        <span style=\"font-weight: bold\">]]</span>                           \n",
       "                                                                                             \n",
       "                              <span style=\"font-weight: bold\">[[</span><span style=\"color: #008080; text-decoration-color: #008080; font-weight: bold\">0</span>.         <span style=\"color: #008080; text-decoration-color: #008080; font-weight: bold\">0</span>.         <span style=\"color: #008080; text-decoration-color: #008080; font-weight: bold\">0</span>.        <span style=\"font-weight: bold\">]</span>                            \n",
       "                               <span style=\"font-weight: bold\">[</span><span style=\"color: #008080; text-decoration-color: #008080; font-weight: bold\">0</span>.         <span style=\"color: #008080; text-decoration-color: #008080; font-weight: bold\">0.00102001</span> <span style=\"color: #008080; text-decoration-color: #008080; font-weight: bold\">0.00061001</span><span style=\"font-weight: bold\">]</span>                            \n",
       "                               <span style=\"font-weight: bold\">[</span><span style=\"color: #008080; text-decoration-color: #008080; font-weight: bold\">0</span>.         <span style=\"color: #008080; text-decoration-color: #008080; font-weight: bold\">0.00018</span>    <span style=\"color: #008080; text-decoration-color: #008080; font-weight: bold\">0.00068001</span><span style=\"font-weight: bold\">]</span>                            \n",
       "                               <span style=\"font-weight: bold\">[</span><span style=\"color: #008080; text-decoration-color: #008080; font-weight: bold\">0</span>.         <span style=\"color: #008080; text-decoration-color: #008080; font-weight: bold\">0.00036</span>    <span style=\"color: #008080; text-decoration-color: #008080; font-weight: bold\">0.00063001</span><span style=\"font-weight: bold\">]</span>                            \n",
       "                               <span style=\"font-weight: bold\">[</span><span style=\"color: #008080; text-decoration-color: #008080; font-weight: bold\">0</span>.         <span style=\"color: #008080; text-decoration-color: #008080; font-weight: bold\">0.00093001</span> <span style=\"color: #008080; text-decoration-color: #008080; font-weight: bold\">0.00067001</span><span style=\"font-weight: bold\">]</span>                            \n",
       "                               <span style=\"font-weight: bold\">[</span><span style=\"color: #008080; text-decoration-color: #008080; font-weight: bold\">0</span>.         <span style=\"color: #008080; text-decoration-color: #008080; font-weight: bold\">0.00099001</span> <span style=\"color: #008080; text-decoration-color: #008080; font-weight: bold\">0.00080001</span><span style=\"font-weight: bold\">]</span>                            \n",
       "                               <span style=\"font-weight: bold\">[</span><span style=\"color: #008080; text-decoration-color: #008080; font-weight: bold\">0</span>.         <span style=\"color: #008080; text-decoration-color: #008080; font-weight: bold\">0</span>.         <span style=\"color: #008080; text-decoration-color: #008080; font-weight: bold\">0</span>.        <span style=\"font-weight: bold\">]]</span>                           \n",
       "                                                                                             \n",
       "                              <span style=\"font-weight: bold\">[[</span><span style=\"color: #008080; text-decoration-color: #008080; font-weight: bold\">0</span>.         <span style=\"color: #008080; text-decoration-color: #008080; font-weight: bold\">0</span>.         <span style=\"color: #008080; text-decoration-color: #008080; font-weight: bold\">0</span>.        <span style=\"font-weight: bold\">]</span>                            \n",
       "                               <span style=\"font-weight: bold\">[</span><span style=\"color: #008080; text-decoration-color: #008080; font-weight: bold\">0</span>.         <span style=\"color: #008080; text-decoration-color: #008080; font-weight: bold\">0.00077001</span> <span style=\"color: #008080; text-decoration-color: #008080; font-weight: bold\">0.00074001</span><span style=\"font-weight: bold\">]</span>                            \n",
       "                               <span style=\"font-weight: bold\">[</span><span style=\"color: #008080; text-decoration-color: #008080; font-weight: bold\">0</span>.         <span style=\"color: #008080; text-decoration-color: #008080; font-weight: bold\">0.00088001</span> <span style=\"color: #008080; text-decoration-color: #008080; font-weight: bold\">0.00080001</span><span style=\"font-weight: bold\">]</span>                            \n",
       "                               <span style=\"font-weight: bold\">[</span><span style=\"color: #008080; text-decoration-color: #008080; font-weight: bold\">0</span>.         <span style=\"color: #008080; text-decoration-color: #008080; font-weight: bold\">0.00063001</span> <span style=\"color: #008080; text-decoration-color: #008080; font-weight: bold\">0.00090001</span><span style=\"font-weight: bold\">]</span>                            \n",
       "                               <span style=\"font-weight: bold\">[</span><span style=\"color: #008080; text-decoration-color: #008080; font-weight: bold\">0</span>.         <span style=\"color: #008080; text-decoration-color: #008080; font-weight: bold\">0.00109001</span> <span style=\"color: #008080; text-decoration-color: #008080; font-weight: bold\">0.00099001</span><span style=\"font-weight: bold\">]</span>                            \n",
       "                               <span style=\"font-weight: bold\">[</span><span style=\"color: #008080; text-decoration-color: #008080; font-weight: bold\">0</span>.         <span style=\"color: #008080; text-decoration-color: #008080; font-weight: bold\">0.00090001</span> <span style=\"color: #008080; text-decoration-color: #008080; font-weight: bold\">0.00104001</span><span style=\"font-weight: bold\">]</span>                            \n",
       "                               <span style=\"font-weight: bold\">[</span><span style=\"color: #008080; text-decoration-color: #008080; font-weight: bold\">0</span>.         <span style=\"color: #008080; text-decoration-color: #008080; font-weight: bold\">0</span>.         <span style=\"color: #008080; text-decoration-color: #008080; font-weight: bold\">0</span>.        <span style=\"font-weight: bold\">]]</span>                           \n",
       "                                                                                             \n",
       "                              <span style=\"font-weight: bold\">[[</span><span style=\"color: #008080; text-decoration-color: #008080; font-weight: bold\">0</span>.         <span style=\"color: #008080; text-decoration-color: #008080; font-weight: bold\">0</span>.         <span style=\"color: #008080; text-decoration-color: #008080; font-weight: bold\">0</span>.        <span style=\"font-weight: bold\">]</span>                            \n",
       "                               <span style=\"font-weight: bold\">[</span><span style=\"color: #008080; text-decoration-color: #008080; font-weight: bold\">0</span>.         <span style=\"color: #008080; text-decoration-color: #008080; font-weight: bold\">0.00034</span>    <span style=\"color: #008080; text-decoration-color: #008080; font-weight: bold\">0.00104001</span><span style=\"font-weight: bold\">]</span>                            \n",
       "                               <span style=\"font-weight: bold\">[</span><span style=\"color: #008080; text-decoration-color: #008080; font-weight: bold\">0</span>.         <span style=\"color: #008080; text-decoration-color: #008080; font-weight: bold\">0.00064001</span> <span style=\"color: #008080; text-decoration-color: #008080; font-weight: bold\">0.00105001</span><span style=\"font-weight: bold\">]</span>                            \n",
       "                               <span style=\"font-weight: bold\">[</span><span style=\"color: #008080; text-decoration-color: #008080; font-weight: bold\">0</span>.         <span style=\"color: #008080; text-decoration-color: #008080; font-weight: bold\">0.00102001</span> <span style=\"color: #008080; text-decoration-color: #008080; font-weight: bold\">0.00095001</span><span style=\"font-weight: bold\">]</span>                            \n",
       "                               <span style=\"font-weight: bold\">[</span><span style=\"color: #008080; text-decoration-color: #008080; font-weight: bold\">0</span>.         <span style=\"color: #008080; text-decoration-color: #008080; font-weight: bold\">0.00062001</span> <span style=\"color: #008080; text-decoration-color: #008080; font-weight: bold\">0.00095001</span><span style=\"font-weight: bold\">]</span>                            \n",
       "                               <span style=\"font-weight: bold\">[</span><span style=\"color: #008080; text-decoration-color: #008080; font-weight: bold\">0</span>.         <span style=\"color: #008080; text-decoration-color: #008080; font-weight: bold\">0.00021</span>    <span style=\"color: #008080; text-decoration-color: #008080; font-weight: bold\">0.00103001</span><span style=\"font-weight: bold\">]</span>                            \n",
       "                               <span style=\"font-weight: bold\">[</span><span style=\"color: #008080; text-decoration-color: #008080; font-weight: bold\">0</span>.         <span style=\"color: #008080; text-decoration-color: #008080; font-weight: bold\">0</span>.         <span style=\"color: #008080; text-decoration-color: #008080; font-weight: bold\">0</span>.        <span style=\"font-weight: bold\">]]</span>                           \n",
       "                                                                                             \n",
       "                              <span style=\"font-weight: bold\">[[</span><span style=\"color: #008080; text-decoration-color: #008080; font-weight: bold\">0</span>.         <span style=\"color: #008080; text-decoration-color: #008080; font-weight: bold\">0</span>.         <span style=\"color: #008080; text-decoration-color: #008080; font-weight: bold\">0</span>.        <span style=\"font-weight: bold\">]</span>                            \n",
       "                               <span style=\"font-weight: bold\">[</span><span style=\"color: #008080; text-decoration-color: #008080; font-weight: bold\">0</span>.         <span style=\"color: #008080; text-decoration-color: #008080; font-weight: bold\">0.00038</span>    <span style=\"color: #008080; text-decoration-color: #008080; font-weight: bold\">0.00077001</span><span style=\"font-weight: bold\">]</span>                            \n",
       "                               <span style=\"font-weight: bold\">[</span><span style=\"color: #008080; text-decoration-color: #008080; font-weight: bold\">0</span>.         <span style=\"color: #008080; text-decoration-color: #008080; font-weight: bold\">0.00093001</span> <span style=\"color: #008080; text-decoration-color: #008080; font-weight: bold\">0.00083001</span><span style=\"font-weight: bold\">]</span>                            \n",
       "                               <span style=\"font-weight: bold\">[</span><span style=\"color: #008080; text-decoration-color: #008080; font-weight: bold\">0</span>.         <span style=\"color: #008080; text-decoration-color: #008080; font-weight: bold\">0.00049</span>    <span style=\"color: #008080; text-decoration-color: #008080; font-weight: bold\">0.00082001</span><span style=\"font-weight: bold\">]</span>                            \n",
       "                               <span style=\"font-weight: bold\">[</span><span style=\"color: #008080; text-decoration-color: #008080; font-weight: bold\">0</span>.         <span style=\"color: #008080; text-decoration-color: #008080; font-weight: bold\">0.00081001</span> <span style=\"color: #008080; text-decoration-color: #008080; font-weight: bold\">0.00083001</span><span style=\"font-weight: bold\">]</span>                            \n",
       "                               <span style=\"font-weight: bold\">[</span><span style=\"color: #008080; text-decoration-color: #008080; font-weight: bold\">0</span>.         <span style=\"color: #008080; text-decoration-color: #008080; font-weight: bold\">0.00100001</span> <span style=\"color: #008080; text-decoration-color: #008080; font-weight: bold\">0.00083001</span><span style=\"font-weight: bold\">]</span>                            \n",
       "                               <span style=\"font-weight: bold\">[</span><span style=\"color: #008080; text-decoration-color: #008080; font-weight: bold\">0</span>.         <span style=\"color: #008080; text-decoration-color: #008080; font-weight: bold\">0</span>.         <span style=\"color: #008080; text-decoration-color: #008080; font-weight: bold\">0</span>.        <span style=\"font-weight: bold\">]]</span>                           \n",
       "                                                                                             \n",
       "                              <span style=\"font-weight: bold\">[[</span><span style=\"color: #008080; text-decoration-color: #008080; font-weight: bold\">0</span>.         <span style=\"color: #008080; text-decoration-color: #008080; font-weight: bold\">0</span>.         <span style=\"color: #008080; text-decoration-color: #008080; font-weight: bold\">0</span>.        <span style=\"font-weight: bold\">]</span>                            \n",
       "                               <span style=\"font-weight: bold\">[</span><span style=\"color: #008080; text-decoration-color: #008080; font-weight: bold\">0</span>.         <span style=\"color: #008080; text-decoration-color: #008080; font-weight: bold\">0.00063001</span> <span style=\"color: #008080; text-decoration-color: #008080; font-weight: bold\">0.00044</span>   <span style=\"font-weight: bold\">]</span>                            \n",
       "                               <span style=\"font-weight: bold\">[</span><span style=\"color: #008080; text-decoration-color: #008080; font-weight: bold\">0</span>.         <span style=\"color: #008080; text-decoration-color: #008080; font-weight: bold\">0.00072001</span> <span style=\"color: #008080; text-decoration-color: #008080; font-weight: bold\">0.00056001</span><span style=\"font-weight: bold\">]</span>                            \n",
       "                               <span style=\"font-weight: bold\">[</span><span style=\"color: #008080; text-decoration-color: #008080; font-weight: bold\">0</span>.         <span style=\"color: #008080; text-decoration-color: #008080; font-weight: bold\">0.00036</span>    <span style=\"color: #008080; text-decoration-color: #008080; font-weight: bold\">0.00075001</span><span style=\"font-weight: bold\">]</span>                            \n",
       "                               <span style=\"font-weight: bold\">[</span><span style=\"color: #008080; text-decoration-color: #008080; font-weight: bold\">0</span>.         <span style=\"color: #008080; text-decoration-color: #008080; font-weight: bold\">0.00027</span>    <span style=\"color: #008080; text-decoration-color: #008080; font-weight: bold\">0.00072001</span><span style=\"font-weight: bold\">]</span>                            \n",
       "                               <span style=\"font-weight: bold\">[</span><span style=\"color: #008080; text-decoration-color: #008080; font-weight: bold\">0</span>.         <span style=\"color: #008080; text-decoration-color: #008080; font-weight: bold\">0.00027</span>    <span style=\"color: #008080; text-decoration-color: #008080; font-weight: bold\">0.00072001</span><span style=\"font-weight: bold\">]</span>                            \n",
       "                               <span style=\"font-weight: bold\">[</span><span style=\"color: #008080; text-decoration-color: #008080; font-weight: bold\">0</span>.         <span style=\"color: #008080; text-decoration-color: #008080; font-weight: bold\">0</span>.         <span style=\"color: #008080; text-decoration-color: #008080; font-weight: bold\">0</span>.        <span style=\"font-weight: bold\">]]</span>                           \n",
       "                                                                                             \n",
       "                              <span style=\"font-weight: bold\">[[</span><span style=\"color: #008080; text-decoration-color: #008080; font-weight: bold\">0</span>.         <span style=\"color: #008080; text-decoration-color: #008080; font-weight: bold\">0</span>.         <span style=\"color: #008080; text-decoration-color: #008080; font-weight: bold\">0</span>.        <span style=\"font-weight: bold\">]</span>                            \n",
       "                               <span style=\"font-weight: bold\">[</span><span style=\"color: #008080; text-decoration-color: #008080; font-weight: bold\">0</span>.         <span style=\"color: #008080; text-decoration-color: #008080; font-weight: bold\">0</span>.         <span style=\"color: #008080; text-decoration-color: #008080; font-weight: bold\">0</span>.        <span style=\"font-weight: bold\">]</span>                            \n",
       "                               <span style=\"font-weight: bold\">[</span><span style=\"color: #008080; text-decoration-color: #008080; font-weight: bold\">0</span>.         <span style=\"color: #008080; text-decoration-color: #008080; font-weight: bold\">0</span>.         <span style=\"color: #008080; text-decoration-color: #008080; font-weight: bold\">0</span>.        <span style=\"font-weight: bold\">]</span>                            \n",
       "                               <span style=\"font-weight: bold\">[</span><span style=\"color: #008080; text-decoration-color: #008080; font-weight: bold\">0</span>.         <span style=\"color: #008080; text-decoration-color: #008080; font-weight: bold\">0</span>.         <span style=\"color: #008080; text-decoration-color: #008080; font-weight: bold\">0</span>.        <span style=\"font-weight: bold\">]</span>                            \n",
       "                               <span style=\"font-weight: bold\">[</span><span style=\"color: #008080; text-decoration-color: #008080; font-weight: bold\">0</span>.         <span style=\"color: #008080; text-decoration-color: #008080; font-weight: bold\">0</span>.         <span style=\"color: #008080; text-decoration-color: #008080; font-weight: bold\">0</span>.        <span style=\"font-weight: bold\">]</span>                            \n",
       "                               <span style=\"font-weight: bold\">[</span><span style=\"color: #008080; text-decoration-color: #008080; font-weight: bold\">0</span>.         <span style=\"color: #008080; text-decoration-color: #008080; font-weight: bold\">0</span>.         <span style=\"color: #008080; text-decoration-color: #008080; font-weight: bold\">0</span>.        <span style=\"font-weight: bold\">]</span>                            \n",
       "                               <span style=\"font-weight: bold\">[</span><span style=\"color: #008080; text-decoration-color: #008080; font-weight: bold\">0</span>.         <span style=\"color: #008080; text-decoration-color: #008080; font-weight: bold\">0</span>.         <span style=\"color: #008080; text-decoration-color: #008080; font-weight: bold\">0</span>.        <span style=\"font-weight: bold\">]]]</span>                          \n",
       "                             <span style=\"font-weight: bold\">[[[</span><span style=\"color: #008080; text-decoration-color: #008080; font-weight: bold\">0.13366322</span> <span style=\"color: #008080; text-decoration-color: #008080; font-weight: bold\">1</span>.         <span style=\"color: #008080; text-decoration-color: #008080; font-weight: bold\">1</span>.        <span style=\"font-weight: bold\">]</span>                            \n",
       "                               <span style=\"font-weight: bold\">[</span><span style=\"color: #008080; text-decoration-color: #008080; font-weight: bold\">0.1260242</span>  <span style=\"color: #008080; text-decoration-color: #008080; font-weight: bold\">1</span>.         <span style=\"color: #008080; text-decoration-color: #008080; font-weight: bold\">1</span>.        <span style=\"font-weight: bold\">]</span>                            \n",
       "                               <span style=\"font-weight: bold\">[</span><span style=\"color: #008080; text-decoration-color: #008080; font-weight: bold\">0.11829274</span> <span style=\"color: #008080; text-decoration-color: #008080; font-weight: bold\">1</span>.         <span style=\"color: #008080; text-decoration-color: #008080; font-weight: bold\">1</span>.        <span style=\"font-weight: bold\">]</span>                            \n",
       "                               <span style=\"font-weight: bold\">[</span><span style=\"color: #008080; text-decoration-color: #008080; font-weight: bold\">0.10917929</span> <span style=\"color: #008080; text-decoration-color: #008080; font-weight: bold\">1</span>.         <span style=\"color: #008080; text-decoration-color: #008080; font-weight: bold\">1</span>.        <span style=\"font-weight: bold\">]</span>                            \n",
       "                               <span style=\"font-weight: bold\">[</span><span style=\"color: #008080; text-decoration-color: #008080; font-weight: bold\">0.09965697</span> <span style=\"color: #008080; text-decoration-color: #008080; font-weight: bold\">1</span>.         <span style=\"color: #008080; text-decoration-color: #008080; font-weight: bold\">1</span>.        <span style=\"font-weight: bold\">]</span>                            \n",
       "                               <span style=\"font-weight: bold\">[</span><span style=\"color: #008080; text-decoration-color: #008080; font-weight: bold\">0.08852265</span> <span style=\"color: #008080; text-decoration-color: #008080; font-weight: bold\">1</span>.         <span style=\"color: #008080; text-decoration-color: #008080; font-weight: bold\">1</span>.        <span style=\"font-weight: bold\">]</span>                            \n",
       "                               <span style=\"font-weight: bold\">[</span><span style=\"color: #008080; text-decoration-color: #008080; font-weight: bold\">0.07566316</span> <span style=\"color: #008080; text-decoration-color: #008080; font-weight: bold\">1</span>.         <span style=\"color: #008080; text-decoration-color: #008080; font-weight: bold\">1</span>.        <span style=\"font-weight: bold\">]]</span>                           \n",
       "                                                                                             \n",
       "                              <span style=\"font-weight: bold\">[[</span><span style=\"color: #008080; text-decoration-color: #008080; font-weight: bold\">0.05862018</span> <span style=\"color: #008080; text-decoration-color: #008080; font-weight: bold\">1</span>.         <span style=\"color: #008080; text-decoration-color: #008080; font-weight: bold\">1</span>.        <span style=\"font-weight: bold\">]</span>                            \n",
       "                               <span style=\"font-weight: bold\">[</span><span style=\"color: #008080; text-decoration-color: #008080; font-weight: bold\">0.03445562</span> <span style=\"color: #008080; text-decoration-color: #008080; font-weight: bold\">1</span>.         <span style=\"color: #008080; text-decoration-color: #008080; font-weight: bold\">1</span>.        <span style=\"font-weight: bold\">]</span>                            \n",
       "                               <span style=\"font-weight: bold\">[</span><span style=\"color: #008080; text-decoration-color: #008080; font-weight: bold\">0.03030382</span> <span style=\"color: #008080; text-decoration-color: #008080; font-weight: bold\">1</span>.         <span style=\"color: #008080; text-decoration-color: #008080; font-weight: bold\">1</span>.        <span style=\"font-weight: bold\">]</span>                            \n",
       "                               <span style=\"font-weight: bold\">[</span><span style=\"color: #008080; text-decoration-color: #008080; font-weight: bold\">0.02567367</span> <span style=\"color: #008080; text-decoration-color: #008080; font-weight: bold\">1</span>.         <span style=\"color: #008080; text-decoration-color: #008080; font-weight: bold\">1</span>.        <span style=\"font-weight: bold\">]</span>                            \n",
       "                               <span style=\"font-weight: bold\">[</span><span style=\"color: #008080; text-decoration-color: #008080; font-weight: bold\">0.02120378</span> <span style=\"color: #008080; text-decoration-color: #008080; font-weight: bold\">1</span>.         <span style=\"color: #008080; text-decoration-color: #008080; font-weight: bold\">1</span>.        <span style=\"font-weight: bold\">]</span>                            \n",
       "                               <span style=\"font-weight: bold\">[</span><span style=\"color: #008080; text-decoration-color: #008080; font-weight: bold\">0.01612041</span> <span style=\"color: #008080; text-decoration-color: #008080; font-weight: bold\">1</span>.         <span style=\"color: #008080; text-decoration-color: #008080; font-weight: bold\">1</span>.        <span style=\"font-weight: bold\">]</span>                            \n",
       "                               <span style=\"font-weight: bold\">[</span><span style=\"color: #008080; text-decoration-color: #008080; font-weight: bold\">0.00999905</span> <span style=\"color: #008080; text-decoration-color: #008080; font-weight: bold\">1</span>.         <span style=\"color: #008080; text-decoration-color: #008080; font-weight: bold\">1</span>.        <span style=\"font-weight: bold\">]]</span>                           \n",
       "                                                                                             \n",
       "                              <span style=\"font-weight: bold\">[[</span><span style=\"color: #008080; text-decoration-color: #008080; font-weight: bold\">1</span>.         <span style=\"color: #008080; text-decoration-color: #008080; font-weight: bold\">1</span>.         <span style=\"color: #008080; text-decoration-color: #008080; font-weight: bold\">1</span>.        <span style=\"font-weight: bold\">]</span>                            \n",
       "                               <span style=\"font-weight: bold\">[</span><span style=\"color: #008080; text-decoration-color: #008080; font-weight: bold\">1</span>.         <span style=\"color: #008080; text-decoration-color: #008080; font-weight: bold\">1</span>.         <span style=\"color: #008080; text-decoration-color: #008080; font-weight: bold\">1</span>.        <span style=\"font-weight: bold\">]</span>                            \n",
       "                               <span style=\"font-weight: bold\">[</span><span style=\"color: #008080; text-decoration-color: #008080; font-weight: bold\">1</span>.         <span style=\"color: #008080; text-decoration-color: #008080; font-weight: bold\">1</span>.         <span style=\"color: #008080; text-decoration-color: #008080; font-weight: bold\">1</span>.        <span style=\"font-weight: bold\">]</span>                            \n",
       "                               <span style=\"font-weight: bold\">[</span><span style=\"color: #008080; text-decoration-color: #008080; font-weight: bold\">1</span>.         <span style=\"color: #008080; text-decoration-color: #008080; font-weight: bold\">1</span>.         <span style=\"color: #008080; text-decoration-color: #008080; font-weight: bold\">1</span>.        <span style=\"font-weight: bold\">]</span>                            \n",
       "                               <span style=\"font-weight: bold\">[</span><span style=\"color: #008080; text-decoration-color: #008080; font-weight: bold\">1</span>.         <span style=\"color: #008080; text-decoration-color: #008080; font-weight: bold\">1</span>.         <span style=\"color: #008080; text-decoration-color: #008080; font-weight: bold\">1</span>.        <span style=\"font-weight: bold\">]</span>                            \n",
       "                               <span style=\"font-weight: bold\">[</span><span style=\"color: #008080; text-decoration-color: #008080; font-weight: bold\">1</span>.         <span style=\"color: #008080; text-decoration-color: #008080; font-weight: bold\">1</span>.         <span style=\"color: #008080; text-decoration-color: #008080; font-weight: bold\">1</span>.        <span style=\"font-weight: bold\">]</span>                            \n",
       "                               <span style=\"font-weight: bold\">[</span><span style=\"color: #008080; text-decoration-color: #008080; font-weight: bold\">1</span>.         <span style=\"color: #008080; text-decoration-color: #008080; font-weight: bold\">1</span>.         <span style=\"color: #008080; text-decoration-color: #008080; font-weight: bold\">1</span>.        <span style=\"font-weight: bold\">]]</span>                           \n",
       "                                                                                             \n",
       "                              <span style=\"font-weight: bold\">[[</span><span style=\"color: #008080; text-decoration-color: #008080; font-weight: bold\">1</span>.         <span style=\"color: #008080; text-decoration-color: #008080; font-weight: bold\">1</span>.         <span style=\"color: #008080; text-decoration-color: #008080; font-weight: bold\">1</span>.        <span style=\"font-weight: bold\">]</span>                            \n",
       "                               <span style=\"font-weight: bold\">[</span><span style=\"color: #008080; text-decoration-color: #008080; font-weight: bold\">1</span>.         <span style=\"color: #008080; text-decoration-color: #008080; font-weight: bold\">1</span>.         <span style=\"color: #008080; text-decoration-color: #008080; font-weight: bold\">1</span>.        <span style=\"font-weight: bold\">]</span>                            \n",
       "                               <span style=\"font-weight: bold\">[</span><span style=\"color: #008080; text-decoration-color: #008080; font-weight: bold\">1</span>.         <span style=\"color: #008080; text-decoration-color: #008080; font-weight: bold\">1</span>.         <span style=\"color: #008080; text-decoration-color: #008080; font-weight: bold\">1</span>.        <span style=\"font-weight: bold\">]</span>                            \n",
       "                               <span style=\"font-weight: bold\">[</span><span style=\"color: #008080; text-decoration-color: #008080; font-weight: bold\">1</span>.         <span style=\"color: #008080; text-decoration-color: #008080; font-weight: bold\">1</span>.         <span style=\"color: #008080; text-decoration-color: #008080; font-weight: bold\">1</span>.        <span style=\"font-weight: bold\">]</span>                            \n",
       "                               <span style=\"font-weight: bold\">[</span><span style=\"color: #008080; text-decoration-color: #008080; font-weight: bold\">1</span>.         <span style=\"color: #008080; text-decoration-color: #008080; font-weight: bold\">1</span>.         <span style=\"color: #008080; text-decoration-color: #008080; font-weight: bold\">1</span>.        <span style=\"font-weight: bold\">]</span>                            \n",
       "                               <span style=\"font-weight: bold\">[</span><span style=\"color: #008080; text-decoration-color: #008080; font-weight: bold\">1</span>.         <span style=\"color: #008080; text-decoration-color: #008080; font-weight: bold\">1</span>.         <span style=\"color: #008080; text-decoration-color: #008080; font-weight: bold\">1</span>.        <span style=\"font-weight: bold\">]</span>                            \n",
       "                               <span style=\"font-weight: bold\">[</span><span style=\"color: #008080; text-decoration-color: #008080; font-weight: bold\">1</span>.         <span style=\"color: #008080; text-decoration-color: #008080; font-weight: bold\">1</span>.         <span style=\"color: #008080; text-decoration-color: #008080; font-weight: bold\">1</span>.        <span style=\"font-weight: bold\">]]</span>                           \n",
       "                                                                                             \n",
       "                              <span style=\"font-weight: bold\">[[</span><span style=\"color: #008080; text-decoration-color: #008080; font-weight: bold\">1</span>.         <span style=\"color: #008080; text-decoration-color: #008080; font-weight: bold\">1</span>.         <span style=\"color: #008080; text-decoration-color: #008080; font-weight: bold\">1</span>.        <span style=\"font-weight: bold\">]</span>                            \n",
       "                               <span style=\"font-weight: bold\">[</span><span style=\"color: #008080; text-decoration-color: #008080; font-weight: bold\">1</span>.         <span style=\"color: #008080; text-decoration-color: #008080; font-weight: bold\">0.03190524</span> <span style=\"color: #008080; text-decoration-color: #008080; font-weight: bold\">0.02468326</span><span style=\"font-weight: bold\">]</span>                            \n",
       "                               <span style=\"font-weight: bold\">[</span><span style=\"color: #008080; text-decoration-color: #008080; font-weight: bold\">1</span>.         <span style=\"color: #008080; text-decoration-color: #008080; font-weight: bold\">0.01341406</span> <span style=\"color: #008080; text-decoration-color: #008080; font-weight: bold\">0.02605923</span><span style=\"font-weight: bold\">]</span>                            \n",
       "                               <span style=\"font-weight: bold\">[</span><span style=\"color: #008080; text-decoration-color: #008080; font-weight: bold\">1</span>.         <span style=\"color: #008080; text-decoration-color: #008080; font-weight: bold\">0.01896694</span> <span style=\"color: #008080; text-decoration-color: #008080; font-weight: bold\">0.02508414</span><span style=\"font-weight: bold\">]</span>                            \n",
       "                               <span style=\"font-weight: bold\">[</span><span style=\"color: #008080; text-decoration-color: #008080; font-weight: bold\">1</span>.         <span style=\"color: #008080; text-decoration-color: #008080; font-weight: bold\">0.03046773</span> <span style=\"color: #008080; text-decoration-color: #008080; font-weight: bold\">0.02586716</span><span style=\"font-weight: bold\">]</span>                            \n",
       "                               <span style=\"font-weight: bold\">[</span><span style=\"color: #008080; text-decoration-color: #008080; font-weight: bold\">1</span>.         <span style=\"color: #008080; text-decoration-color: #008080; font-weight: bold\">0.03143335</span> <span style=\"color: #008080; text-decoration-color: #008080; font-weight: bold\">0.02826187</span><span style=\"font-weight: bold\">]</span>                            \n",
       "                               <span style=\"font-weight: bold\">[</span><span style=\"color: #008080; text-decoration-color: #008080; font-weight: bold\">1</span>.         <span style=\"color: #008080; text-decoration-color: #008080; font-weight: bold\">1</span>.         <span style=\"color: #008080; text-decoration-color: #008080; font-weight: bold\">1</span>.        <span style=\"font-weight: bold\">]]</span>                           \n",
       "                                                                                             \n",
       "                              <span style=\"font-weight: bold\">[[</span><span style=\"color: #008080; text-decoration-color: #008080; font-weight: bold\">1</span>.         <span style=\"color: #008080; text-decoration-color: #008080; font-weight: bold\">1</span>.         <span style=\"color: #008080; text-decoration-color: #008080; font-weight: bold\">1</span>.        <span style=\"font-weight: bold\">]</span>                            \n",
       "                               <span style=\"font-weight: bold\">[</span><span style=\"color: #008080; text-decoration-color: #008080; font-weight: bold\">1</span>.         <span style=\"color: #008080; text-decoration-color: #008080; font-weight: bold\">0.02772769</span> <span style=\"color: #008080; text-decoration-color: #008080; font-weight: bold\">0.02718299</span><span style=\"font-weight: bold\">]</span>                            \n",
       "                               <span style=\"font-weight: bold\">[</span><span style=\"color: #008080; text-decoration-color: #008080; font-weight: bold\">1</span>.         <span style=\"color: #008080; text-decoration-color: #008080; font-weight: bold\">0.02963889</span> <span style=\"color: #008080; text-decoration-color: #008080; font-weight: bold\">0.02826182</span><span style=\"font-weight: bold\">]</span>                            \n",
       "                               <span style=\"font-weight: bold\">[</span><span style=\"color: #008080; text-decoration-color: #008080; font-weight: bold\">1</span>.         <span style=\"color: #008080; text-decoration-color: #008080; font-weight: bold\">0.0250842</span>  <span style=\"color: #008080; text-decoration-color: #008080; font-weight: bold\">0.02997319</span><span style=\"font-weight: bold\">]</span>                            \n",
       "                               <span style=\"font-weight: bold\">[</span><span style=\"color: #008080; text-decoration-color: #008080; font-weight: bold\">1</span>.         <span style=\"color: #008080; text-decoration-color: #008080; font-weight: bold\">0.03297942</span> <span style=\"color: #008080; text-decoration-color: #008080; font-weight: bold\">0.03143341</span><span style=\"font-weight: bold\">]</span>                            \n",
       "                               <span style=\"font-weight: bold\">[</span><span style=\"color: #008080; text-decoration-color: #008080; font-weight: bold\">1</span>.         <span style=\"color: #008080; text-decoration-color: #008080; font-weight: bold\">0.02997317</span> <span style=\"color: #008080; text-decoration-color: #008080; font-weight: bold\">0.03221581</span><span style=\"font-weight: bold\">]</span>                            \n",
       "                               <span style=\"font-weight: bold\">[</span><span style=\"color: #008080; text-decoration-color: #008080; font-weight: bold\">1</span>.         <span style=\"color: #008080; text-decoration-color: #008080; font-weight: bold\">1</span>.         <span style=\"color: #008080; text-decoration-color: #008080; font-weight: bold\">1</span>.        <span style=\"font-weight: bold\">]]</span>                           \n",
       "                                                                                             \n",
       "                              <span style=\"font-weight: bold\">[[</span><span style=\"color: #008080; text-decoration-color: #008080; font-weight: bold\">1</span>.         <span style=\"color: #008080; text-decoration-color: #008080; font-weight: bold\">1</span>.         <span style=\"color: #008080; text-decoration-color: #008080; font-weight: bold\">1</span>.        <span style=\"font-weight: bold\">]</span>                            \n",
       "                               <span style=\"font-weight: bold\">[</span><span style=\"color: #008080; text-decoration-color: #008080; font-weight: bold\">1</span>.         <span style=\"color: #008080; text-decoration-color: #008080; font-weight: bold\">0.01843292</span> <span style=\"color: #008080; text-decoration-color: #008080; font-weight: bold\">0.03221578</span><span style=\"font-weight: bold\">]</span>                            \n",
       "                               <span style=\"font-weight: bold\">[</span><span style=\"color: #008080; text-decoration-color: #008080; font-weight: bold\">1</span>.         <span style=\"color: #008080; text-decoration-color: #008080; font-weight: bold\">0.02528222</span> <span style=\"color: #008080; text-decoration-color: #008080; font-weight: bold\">0.03236997</span><span style=\"font-weight: bold\">]</span>                            \n",
       "                               <span style=\"font-weight: bold\">[</span><span style=\"color: #008080; text-decoration-color: #008080; font-weight: bold\">1</span>.         <span style=\"color: #008080; text-decoration-color: #008080; font-weight: bold\">0.03190511</span> <span style=\"color: #008080; text-decoration-color: #008080; font-weight: bold\">0.03079298</span><span style=\"font-weight: bold\">]</span>                            \n",
       "                               <span style=\"font-weight: bold\">[</span><span style=\"color: #008080; text-decoration-color: #008080; font-weight: bold\">1</span>.         <span style=\"color: #008080; text-decoration-color: #008080; font-weight: bold\">0.02488451</span> <span style=\"color: #008080; text-decoration-color: #008080; font-weight: bold\">0.03079298</span><span style=\"font-weight: bold\">]</span>                            \n",
       "                               <span style=\"font-weight: bold\">[</span><span style=\"color: #008080; text-decoration-color: #008080; font-weight: bold\">1</span>.         <span style=\"color: #008080; text-decoration-color: #008080; font-weight: bold\">0.01448841</span> <span style=\"color: #008080; text-decoration-color: #008080; font-weight: bold\">0.03206087</span><span style=\"font-weight: bold\">]</span>                            \n",
       "                               <span style=\"font-weight: bold\">[</span><span style=\"color: #008080; text-decoration-color: #008080; font-weight: bold\">1</span>.         <span style=\"color: #008080; text-decoration-color: #008080; font-weight: bold\">1</span>.         <span style=\"color: #008080; text-decoration-color: #008080; font-weight: bold\">1</span>.        <span style=\"font-weight: bold\">]]</span>                           \n",
       "                                                                                             \n",
       "                              <span style=\"font-weight: bold\">[[</span><span style=\"color: #008080; text-decoration-color: #008080; font-weight: bold\">1</span>.         <span style=\"color: #008080; text-decoration-color: #008080; font-weight: bold\">1</span>.         <span style=\"color: #008080; text-decoration-color: #008080; font-weight: bold\">1</span>.        <span style=\"font-weight: bold\">]</span>                            \n",
       "                               <span style=\"font-weight: bold\">[</span><span style=\"color: #008080; text-decoration-color: #008080; font-weight: bold\">1</span>.         <span style=\"color: #008080; text-decoration-color: #008080; font-weight: bold\">0.01948628</span> <span style=\"color: #008080; text-decoration-color: #008080; font-weight: bold\">0.02772769</span><span style=\"font-weight: bold\">]</span>                            \n",
       "                               <span style=\"font-weight: bold\">[</span><span style=\"color: #008080; text-decoration-color: #008080; font-weight: bold\">1</span>.         <span style=\"color: #008080; text-decoration-color: #008080; font-weight: bold\">0.03046771</span> <span style=\"color: #008080; text-decoration-color: #008080; font-weight: bold\">0.02878602</span><span style=\"font-weight: bold\">]</span>                            \n",
       "                               <span style=\"font-weight: bold\">[</span><span style=\"color: #008080; text-decoration-color: #008080; font-weight: bold\">1</span>.         <span style=\"color: #008080; text-decoration-color: #008080; font-weight: bold\">0.02212521</span> <span style=\"color: #008080; text-decoration-color: #008080; font-weight: bold\">0.02861234</span><span style=\"font-weight: bold\">]</span>                            \n",
       "                               <span style=\"font-weight: bold\">[</span><span style=\"color: #008080; text-decoration-color: #008080; font-weight: bold\">1</span>.         <span style=\"color: #008080; text-decoration-color: #008080; font-weight: bold\">0.02843762</span> <span style=\"color: #008080; text-decoration-color: #008080; font-weight: bold\">0.02878601</span><span style=\"font-weight: bold\">]</span>                            \n",
       "                               <span style=\"font-weight: bold\">[</span><span style=\"color: #008080; text-decoration-color: #008080; font-weight: bold\">1</span>.         <span style=\"color: #008080; text-decoration-color: #008080; font-weight: bold\">0.03159133</span> <span style=\"color: #008080; text-decoration-color: #008080; font-weight: bold\">0.02878603</span><span style=\"font-weight: bold\">]</span>                            \n",
       "                               <span style=\"font-weight: bold\">[</span><span style=\"color: #008080; text-decoration-color: #008080; font-weight: bold\">1</span>.         <span style=\"color: #008080; text-decoration-color: #008080; font-weight: bold\">1</span>.         <span style=\"color: #008080; text-decoration-color: #008080; font-weight: bold\">1</span>.        <span style=\"font-weight: bold\">]]</span>                           \n",
       "                                                                                             \n",
       "                              <span style=\"font-weight: bold\">[[</span><span style=\"color: #008080; text-decoration-color: #008080; font-weight: bold\">1</span>.         <span style=\"color: #008080; text-decoration-color: #008080; font-weight: bold\">1</span>.         <span style=\"color: #008080; text-decoration-color: #008080; font-weight: bold\">1</span>.        <span style=\"font-weight: bold\">]</span>                            \n",
       "                               <span style=\"font-weight: bold\">[</span><span style=\"color: #008080; text-decoration-color: #008080; font-weight: bold\">1</span>.         <span style=\"color: #008080; text-decoration-color: #008080; font-weight: bold\">0.02508422</span> <span style=\"color: #008080; text-decoration-color: #008080; font-weight: bold\">0.02096706</span><span style=\"font-weight: bold\">]</span>                            \n",
       "                               <span style=\"font-weight: bold\">[</span><span style=\"color: #008080; text-decoration-color: #008080; font-weight: bold\">1</span>.         <span style=\"color: #008080; text-decoration-color: #008080; font-weight: bold\">0.02681368</span> <span style=\"color: #008080; text-decoration-color: #008080; font-weight: bold\">0.02365119</span><span style=\"font-weight: bold\">]</span>                            \n",
       "                               <span style=\"font-weight: bold\">[</span><span style=\"color: #008080; text-decoration-color: #008080; font-weight: bold\">1</span>.         <span style=\"color: #008080; text-decoration-color: #008080; font-weight: bold\">0.01896694</span> <span style=\"color: #008080; text-decoration-color: #008080; font-weight: bold\">0.02736577</span><span style=\"font-weight: bold\">]</span>                            \n",
       "                               <span style=\"font-weight: bold\">[</span><span style=\"color: #008080; text-decoration-color: #008080; font-weight: bold\">1</span>.         <span style=\"color: #008080; text-decoration-color: #008080; font-weight: bold\">0.01642735</span> <span style=\"color: #008080; text-decoration-color: #008080; font-weight: bold\">0.02681376</span><span style=\"font-weight: bold\">]</span>                            \n",
       "                               <span style=\"font-weight: bold\">[</span><span style=\"color: #008080; text-decoration-color: #008080; font-weight: bold\">1</span>.         <span style=\"color: #008080; text-decoration-color: #008080; font-weight: bold\">0.01642734</span> <span style=\"color: #008080; text-decoration-color: #008080; font-weight: bold\">0.02681371</span><span style=\"font-weight: bold\">]</span>                            \n",
       "                               <span style=\"font-weight: bold\">[</span><span style=\"color: #008080; text-decoration-color: #008080; font-weight: bold\">1</span>.         <span style=\"color: #008080; text-decoration-color: #008080; font-weight: bold\">1</span>.         <span style=\"color: #008080; text-decoration-color: #008080; font-weight: bold\">1</span>.        <span style=\"font-weight: bold\">]]</span>                           \n",
       "                                                                                             \n",
       "                              <span style=\"font-weight: bold\">[[</span><span style=\"color: #008080; text-decoration-color: #008080; font-weight: bold\">1</span>.         <span style=\"color: #008080; text-decoration-color: #008080; font-weight: bold\">1</span>.         <span style=\"color: #008080; text-decoration-color: #008080; font-weight: bold\">1</span>.        <span style=\"font-weight: bold\">]</span>                            \n",
       "                               <span style=\"font-weight: bold\">[</span><span style=\"color: #008080; text-decoration-color: #008080; font-weight: bold\">1</span>.         <span style=\"color: #008080; text-decoration-color: #008080; font-weight: bold\">1</span>.         <span style=\"color: #008080; text-decoration-color: #008080; font-weight: bold\">1</span>.        <span style=\"font-weight: bold\">]</span>                            \n",
       "                               <span style=\"font-weight: bold\">[</span><span style=\"color: #008080; text-decoration-color: #008080; font-weight: bold\">1</span>.         <span style=\"color: #008080; text-decoration-color: #008080; font-weight: bold\">1</span>.         <span style=\"color: #008080; text-decoration-color: #008080; font-weight: bold\">1</span>.        <span style=\"font-weight: bold\">]</span>                            \n",
       "                               <span style=\"font-weight: bold\">[</span><span style=\"color: #008080; text-decoration-color: #008080; font-weight: bold\">1</span>.         <span style=\"color: #008080; text-decoration-color: #008080; font-weight: bold\">1</span>.         <span style=\"color: #008080; text-decoration-color: #008080; font-weight: bold\">1</span>.        <span style=\"font-weight: bold\">]</span>                            \n",
       "                               <span style=\"font-weight: bold\">[</span><span style=\"color: #008080; text-decoration-color: #008080; font-weight: bold\">1</span>.         <span style=\"color: #008080; text-decoration-color: #008080; font-weight: bold\">1</span>.         <span style=\"color: #008080; text-decoration-color: #008080; font-weight: bold\">1</span>.        <span style=\"font-weight: bold\">]</span>                            \n",
       "                               <span style=\"font-weight: bold\">[</span><span style=\"color: #008080; text-decoration-color: #008080; font-weight: bold\">1</span>.         <span style=\"color: #008080; text-decoration-color: #008080; font-weight: bold\">1</span>.         <span style=\"color: #008080; text-decoration-color: #008080; font-weight: bold\">1</span>.        <span style=\"font-weight: bold\">]</span>                            \n",
       "                               <span style=\"font-weight: bold\">[</span><span style=\"color: #008080; text-decoration-color: #008080; font-weight: bold\">1</span>.         <span style=\"color: #008080; text-decoration-color: #008080; font-weight: bold\">1</span>.         <span style=\"color: #008080; text-decoration-color: #008080; font-weight: bold\">1</span>.        <span style=\"font-weight: bold\">]]]</span>                          \n",
       "</pre>\n"
      ],
      "text/plain": [
       "\u001b[2;36m[04/15/21 12:37:27]\u001b[0m\u001b[2;36m \u001b[0m\u001b[31mWARNING \u001b[0m WARNING:root:Computed std for obs         \u001b]8;id=1618483047.149205-53271;file:///home/sergei/causality-disentanglement-rl/sparse_causal_model_learner_rl/learners/input_normalizer.py\u001b\\\u001b[2minput_normalizer.py\u001b[0m\u001b]8;;\u001b\\\u001b[2m:61\u001b[0m\n",
       "                             \u001b[1m[\u001b[0m\u001b[33mshape\u001b[0m=\u001b[1m(\u001b[0m\u001b[1;36m10\u001b[0m, \u001b[1;36m7\u001b[0m, \u001b[1;36m3\u001b[0m\u001b[1m)\u001b[0m, \u001b[33mcomponents\u001b[0m=\u001b[1;36m210\u001b[0m\u001b[1m]\u001b[0m:                             \n",
       "                             \u001b[1m[\u001b[0m\u001b[1m[\u001b[0m\u001b[1m[\u001b[0m\u001b[1;36m0.01816018\u001b[0m \u001b[1;36m0\u001b[0m.         \u001b[1;36m0\u001b[0m.        \u001b[1m]\u001b[0m                            \n",
       "                               \u001b[1m[\u001b[0m\u001b[1;36m0.01616016\u001b[0m \u001b[1;36m0\u001b[0m.         \u001b[1;36m0\u001b[0m.        \u001b[1m]\u001b[0m                            \n",
       "                               \u001b[1m[\u001b[0m\u001b[1;36m0.01415014\u001b[0m \u001b[1;36m0\u001b[0m.         \u001b[1;36m0\u001b[0m.        \u001b[1m]\u001b[0m                            \n",
       "                               \u001b[1m[\u001b[0m\u001b[1;36m0.01209012\u001b[0m \u001b[1;36m0\u001b[0m.         \u001b[1;36m0\u001b[0m.        \u001b[1m]\u001b[0m                            \n",
       "                               \u001b[1m[\u001b[0m\u001b[1;36m0.0100101\u001b[0m  \u001b[1;36m0\u001b[0m.         \u001b[1;36m0\u001b[0m.        \u001b[1m]\u001b[0m                            \n",
       "                               \u001b[1m[\u001b[0m\u001b[1;36m0.00790008\u001b[0m \u001b[1;36m0\u001b[0m.         \u001b[1;36m0\u001b[0m.        \u001b[1m]\u001b[0m                            \n",
       "                               \u001b[1m[\u001b[0m\u001b[1;36m0.00573006\u001b[0m \u001b[1;36m0\u001b[0m.         \u001b[1;36m0\u001b[0m.        \u001b[1m]\u001b[0m\u001b[1m]\u001b[0m                           \n",
       "                                                                                             \n",
       "                              \u001b[1m[\u001b[0m\u001b[1m[\u001b[0m\u001b[1;36m0.00346003\u001b[0m \u001b[1;36m0\u001b[0m.         \u001b[1;36m0\u001b[0m.        \u001b[1m]\u001b[0m                            \n",
       "                               \u001b[1m[\u001b[0m\u001b[1;36m0.00119001\u001b[0m \u001b[1;36m0\u001b[0m.         \u001b[1;36m0\u001b[0m.        \u001b[1m]\u001b[0m                            \n",
       "                               \u001b[1m[\u001b[0m\u001b[1;36m0.00092001\u001b[0m \u001b[1;36m0\u001b[0m.         \u001b[1;36m0\u001b[0m.        \u001b[1m]\u001b[0m                            \n",
       "                               \u001b[1m[\u001b[0m\u001b[1;36m0.00066001\u001b[0m \u001b[1;36m0\u001b[0m.         \u001b[1;36m0\u001b[0m.        \u001b[1m]\u001b[0m                            \n",
       "                               \u001b[1m[\u001b[0m\u001b[1;36m0.00045\u001b[0m    \u001b[1;36m0\u001b[0m.         \u001b[1;36m0\u001b[0m.        \u001b[1m]\u001b[0m                            \n",
       "                               \u001b[1m[\u001b[0m\u001b[1;36m0.00026\u001b[0m    \u001b[1;36m0\u001b[0m.         \u001b[1;36m0\u001b[0m.        \u001b[1m]\u001b[0m                            \n",
       "                               \u001b[1m[\u001b[0m\u001b[1;36m0.0001\u001b[0m     \u001b[1;36m0\u001b[0m.         \u001b[1;36m0\u001b[0m.        \u001b[1m]\u001b[0m\u001b[1m]\u001b[0m                           \n",
       "                                                                                             \n",
       "                              \u001b[1m[\u001b[0m\u001b[1m[\u001b[0m\u001b[1;36m0\u001b[0m.         \u001b[1;36m0\u001b[0m.         \u001b[1;36m0\u001b[0m.        \u001b[1m]\u001b[0m                            \n",
       "                               \u001b[1m[\u001b[0m\u001b[1;36m0\u001b[0m.         \u001b[1;36m0\u001b[0m.         \u001b[1;36m0\u001b[0m.        \u001b[1m]\u001b[0m                            \n",
       "                               \u001b[1m[\u001b[0m\u001b[1;36m0\u001b[0m.         \u001b[1;36m0\u001b[0m.         \u001b[1;36m0\u001b[0m.        \u001b[1m]\u001b[0m                            \n",
       "                               \u001b[1m[\u001b[0m\u001b[1;36m0\u001b[0m.         \u001b[1;36m0\u001b[0m.         \u001b[1;36m0\u001b[0m.        \u001b[1m]\u001b[0m                            \n",
       "                               \u001b[1m[\u001b[0m\u001b[1;36m0\u001b[0m.         \u001b[1;36m0\u001b[0m.         \u001b[1;36m0\u001b[0m.        \u001b[1m]\u001b[0m                            \n",
       "                               \u001b[1m[\u001b[0m\u001b[1;36m0\u001b[0m.         \u001b[1;36m0\u001b[0m.         \u001b[1;36m0\u001b[0m.        \u001b[1m]\u001b[0m                            \n",
       "                               \u001b[1m[\u001b[0m\u001b[1;36m0\u001b[0m.         \u001b[1;36m0\u001b[0m.         \u001b[1;36m0\u001b[0m.        \u001b[1m]\u001b[0m\u001b[1m]\u001b[0m                           \n",
       "                                                                                             \n",
       "                              \u001b[1m[\u001b[0m\u001b[1m[\u001b[0m\u001b[1;36m0\u001b[0m.         \u001b[1;36m0\u001b[0m.         \u001b[1;36m0\u001b[0m.        \u001b[1m]\u001b[0m                            \n",
       "                               \u001b[1m[\u001b[0m\u001b[1;36m0\u001b[0m.         \u001b[1;36m0\u001b[0m.         \u001b[1;36m0\u001b[0m.        \u001b[1m]\u001b[0m                            \n",
       "                               \u001b[1m[\u001b[0m\u001b[1;36m0\u001b[0m.         \u001b[1;36m0\u001b[0m.         \u001b[1;36m0\u001b[0m.        \u001b[1m]\u001b[0m                            \n",
       "                               \u001b[1m[\u001b[0m\u001b[1;36m0\u001b[0m.         \u001b[1;36m0\u001b[0m.         \u001b[1;36m0\u001b[0m.        \u001b[1m]\u001b[0m                            \n",
       "                               \u001b[1m[\u001b[0m\u001b[1;36m0\u001b[0m.         \u001b[1;36m0\u001b[0m.         \u001b[1;36m0\u001b[0m.        \u001b[1m]\u001b[0m                            \n",
       "                               \u001b[1m[\u001b[0m\u001b[1;36m0\u001b[0m.         \u001b[1;36m0\u001b[0m.         \u001b[1;36m0\u001b[0m.        \u001b[1m]\u001b[0m                            \n",
       "                               \u001b[1m[\u001b[0m\u001b[1;36m0\u001b[0m.         \u001b[1;36m0\u001b[0m.         \u001b[1;36m0\u001b[0m.        \u001b[1m]\u001b[0m\u001b[1m]\u001b[0m                           \n",
       "                                                                                             \n",
       "                              \u001b[1m[\u001b[0m\u001b[1m[\u001b[0m\u001b[1;36m0\u001b[0m.         \u001b[1;36m0\u001b[0m.         \u001b[1;36m0\u001b[0m.        \u001b[1m]\u001b[0m                            \n",
       "                               \u001b[1m[\u001b[0m\u001b[1;36m0\u001b[0m.         \u001b[1;36m0.00102001\u001b[0m \u001b[1;36m0.00061001\u001b[0m\u001b[1m]\u001b[0m                            \n",
       "                               \u001b[1m[\u001b[0m\u001b[1;36m0\u001b[0m.         \u001b[1;36m0.00018\u001b[0m    \u001b[1;36m0.00068001\u001b[0m\u001b[1m]\u001b[0m                            \n",
       "                               \u001b[1m[\u001b[0m\u001b[1;36m0\u001b[0m.         \u001b[1;36m0.00036\u001b[0m    \u001b[1;36m0.00063001\u001b[0m\u001b[1m]\u001b[0m                            \n",
       "                               \u001b[1m[\u001b[0m\u001b[1;36m0\u001b[0m.         \u001b[1;36m0.00093001\u001b[0m \u001b[1;36m0.00067001\u001b[0m\u001b[1m]\u001b[0m                            \n",
       "                               \u001b[1m[\u001b[0m\u001b[1;36m0\u001b[0m.         \u001b[1;36m0.00099001\u001b[0m \u001b[1;36m0.00080001\u001b[0m\u001b[1m]\u001b[0m                            \n",
       "                               \u001b[1m[\u001b[0m\u001b[1;36m0\u001b[0m.         \u001b[1;36m0\u001b[0m.         \u001b[1;36m0\u001b[0m.        \u001b[1m]\u001b[0m\u001b[1m]\u001b[0m                           \n",
       "                                                                                             \n",
       "                              \u001b[1m[\u001b[0m\u001b[1m[\u001b[0m\u001b[1;36m0\u001b[0m.         \u001b[1;36m0\u001b[0m.         \u001b[1;36m0\u001b[0m.        \u001b[1m]\u001b[0m                            \n",
       "                               \u001b[1m[\u001b[0m\u001b[1;36m0\u001b[0m.         \u001b[1;36m0.00077001\u001b[0m \u001b[1;36m0.00074001\u001b[0m\u001b[1m]\u001b[0m                            \n",
       "                               \u001b[1m[\u001b[0m\u001b[1;36m0\u001b[0m.         \u001b[1;36m0.00088001\u001b[0m \u001b[1;36m0.00080001\u001b[0m\u001b[1m]\u001b[0m                            \n",
       "                               \u001b[1m[\u001b[0m\u001b[1;36m0\u001b[0m.         \u001b[1;36m0.00063001\u001b[0m \u001b[1;36m0.00090001\u001b[0m\u001b[1m]\u001b[0m                            \n",
       "                               \u001b[1m[\u001b[0m\u001b[1;36m0\u001b[0m.         \u001b[1;36m0.00109001\u001b[0m \u001b[1;36m0.00099001\u001b[0m\u001b[1m]\u001b[0m                            \n",
       "                               \u001b[1m[\u001b[0m\u001b[1;36m0\u001b[0m.         \u001b[1;36m0.00090001\u001b[0m \u001b[1;36m0.00104001\u001b[0m\u001b[1m]\u001b[0m                            \n",
       "                               \u001b[1m[\u001b[0m\u001b[1;36m0\u001b[0m.         \u001b[1;36m0\u001b[0m.         \u001b[1;36m0\u001b[0m.        \u001b[1m]\u001b[0m\u001b[1m]\u001b[0m                           \n",
       "                                                                                             \n",
       "                              \u001b[1m[\u001b[0m\u001b[1m[\u001b[0m\u001b[1;36m0\u001b[0m.         \u001b[1;36m0\u001b[0m.         \u001b[1;36m0\u001b[0m.        \u001b[1m]\u001b[0m                            \n",
       "                               \u001b[1m[\u001b[0m\u001b[1;36m0\u001b[0m.         \u001b[1;36m0.00034\u001b[0m    \u001b[1;36m0.00104001\u001b[0m\u001b[1m]\u001b[0m                            \n",
       "                               \u001b[1m[\u001b[0m\u001b[1;36m0\u001b[0m.         \u001b[1;36m0.00064001\u001b[0m \u001b[1;36m0.00105001\u001b[0m\u001b[1m]\u001b[0m                            \n",
       "                               \u001b[1m[\u001b[0m\u001b[1;36m0\u001b[0m.         \u001b[1;36m0.00102001\u001b[0m \u001b[1;36m0.00095001\u001b[0m\u001b[1m]\u001b[0m                            \n",
       "                               \u001b[1m[\u001b[0m\u001b[1;36m0\u001b[0m.         \u001b[1;36m0.00062001\u001b[0m \u001b[1;36m0.00095001\u001b[0m\u001b[1m]\u001b[0m                            \n",
       "                               \u001b[1m[\u001b[0m\u001b[1;36m0\u001b[0m.         \u001b[1;36m0.00021\u001b[0m    \u001b[1;36m0.00103001\u001b[0m\u001b[1m]\u001b[0m                            \n",
       "                               \u001b[1m[\u001b[0m\u001b[1;36m0\u001b[0m.         \u001b[1;36m0\u001b[0m.         \u001b[1;36m0\u001b[0m.        \u001b[1m]\u001b[0m\u001b[1m]\u001b[0m                           \n",
       "                                                                                             \n",
       "                              \u001b[1m[\u001b[0m\u001b[1m[\u001b[0m\u001b[1;36m0\u001b[0m.         \u001b[1;36m0\u001b[0m.         \u001b[1;36m0\u001b[0m.        \u001b[1m]\u001b[0m                            \n",
       "                               \u001b[1m[\u001b[0m\u001b[1;36m0\u001b[0m.         \u001b[1;36m0.00038\u001b[0m    \u001b[1;36m0.00077001\u001b[0m\u001b[1m]\u001b[0m                            \n",
       "                               \u001b[1m[\u001b[0m\u001b[1;36m0\u001b[0m.         \u001b[1;36m0.00093001\u001b[0m \u001b[1;36m0.00083001\u001b[0m\u001b[1m]\u001b[0m                            \n",
       "                               \u001b[1m[\u001b[0m\u001b[1;36m0\u001b[0m.         \u001b[1;36m0.00049\u001b[0m    \u001b[1;36m0.00082001\u001b[0m\u001b[1m]\u001b[0m                            \n",
       "                               \u001b[1m[\u001b[0m\u001b[1;36m0\u001b[0m.         \u001b[1;36m0.00081001\u001b[0m \u001b[1;36m0.00083001\u001b[0m\u001b[1m]\u001b[0m                            \n",
       "                               \u001b[1m[\u001b[0m\u001b[1;36m0\u001b[0m.         \u001b[1;36m0.00100001\u001b[0m \u001b[1;36m0.00083001\u001b[0m\u001b[1m]\u001b[0m                            \n",
       "                               \u001b[1m[\u001b[0m\u001b[1;36m0\u001b[0m.         \u001b[1;36m0\u001b[0m.         \u001b[1;36m0\u001b[0m.        \u001b[1m]\u001b[0m\u001b[1m]\u001b[0m                           \n",
       "                                                                                             \n",
       "                              \u001b[1m[\u001b[0m\u001b[1m[\u001b[0m\u001b[1;36m0\u001b[0m.         \u001b[1;36m0\u001b[0m.         \u001b[1;36m0\u001b[0m.        \u001b[1m]\u001b[0m                            \n",
       "                               \u001b[1m[\u001b[0m\u001b[1;36m0\u001b[0m.         \u001b[1;36m0.00063001\u001b[0m \u001b[1;36m0.00044\u001b[0m   \u001b[1m]\u001b[0m                            \n",
       "                               \u001b[1m[\u001b[0m\u001b[1;36m0\u001b[0m.         \u001b[1;36m0.00072001\u001b[0m \u001b[1;36m0.00056001\u001b[0m\u001b[1m]\u001b[0m                            \n",
       "                               \u001b[1m[\u001b[0m\u001b[1;36m0\u001b[0m.         \u001b[1;36m0.00036\u001b[0m    \u001b[1;36m0.00075001\u001b[0m\u001b[1m]\u001b[0m                            \n",
       "                               \u001b[1m[\u001b[0m\u001b[1;36m0\u001b[0m.         \u001b[1;36m0.00027\u001b[0m    \u001b[1;36m0.00072001\u001b[0m\u001b[1m]\u001b[0m                            \n",
       "                               \u001b[1m[\u001b[0m\u001b[1;36m0\u001b[0m.         \u001b[1;36m0.00027\u001b[0m    \u001b[1;36m0.00072001\u001b[0m\u001b[1m]\u001b[0m                            \n",
       "                               \u001b[1m[\u001b[0m\u001b[1;36m0\u001b[0m.         \u001b[1;36m0\u001b[0m.         \u001b[1;36m0\u001b[0m.        \u001b[1m]\u001b[0m\u001b[1m]\u001b[0m                           \n",
       "                                                                                             \n",
       "                              \u001b[1m[\u001b[0m\u001b[1m[\u001b[0m\u001b[1;36m0\u001b[0m.         \u001b[1;36m0\u001b[0m.         \u001b[1;36m0\u001b[0m.        \u001b[1m]\u001b[0m                            \n",
       "                               \u001b[1m[\u001b[0m\u001b[1;36m0\u001b[0m.         \u001b[1;36m0\u001b[0m.         \u001b[1;36m0\u001b[0m.        \u001b[1m]\u001b[0m                            \n",
       "                               \u001b[1m[\u001b[0m\u001b[1;36m0\u001b[0m.         \u001b[1;36m0\u001b[0m.         \u001b[1;36m0\u001b[0m.        \u001b[1m]\u001b[0m                            \n",
       "                               \u001b[1m[\u001b[0m\u001b[1;36m0\u001b[0m.         \u001b[1;36m0\u001b[0m.         \u001b[1;36m0\u001b[0m.        \u001b[1m]\u001b[0m                            \n",
       "                               \u001b[1m[\u001b[0m\u001b[1;36m0\u001b[0m.         \u001b[1;36m0\u001b[0m.         \u001b[1;36m0\u001b[0m.        \u001b[1m]\u001b[0m                            \n",
       "                               \u001b[1m[\u001b[0m\u001b[1;36m0\u001b[0m.         \u001b[1;36m0\u001b[0m.         \u001b[1;36m0\u001b[0m.        \u001b[1m]\u001b[0m                            \n",
       "                               \u001b[1m[\u001b[0m\u001b[1;36m0\u001b[0m.         \u001b[1;36m0\u001b[0m.         \u001b[1;36m0\u001b[0m.        \u001b[1m]\u001b[0m\u001b[1m]\u001b[0m\u001b[1m]\u001b[0m                          \n",
       "                             \u001b[1m[\u001b[0m\u001b[1m[\u001b[0m\u001b[1m[\u001b[0m\u001b[1;36m0.13366322\u001b[0m \u001b[1;36m1\u001b[0m.         \u001b[1;36m1\u001b[0m.        \u001b[1m]\u001b[0m                            \n",
       "                               \u001b[1m[\u001b[0m\u001b[1;36m0.1260242\u001b[0m  \u001b[1;36m1\u001b[0m.         \u001b[1;36m1\u001b[0m.        \u001b[1m]\u001b[0m                            \n",
       "                               \u001b[1m[\u001b[0m\u001b[1;36m0.11829274\u001b[0m \u001b[1;36m1\u001b[0m.         \u001b[1;36m1\u001b[0m.        \u001b[1m]\u001b[0m                            \n",
       "                               \u001b[1m[\u001b[0m\u001b[1;36m0.10917929\u001b[0m \u001b[1;36m1\u001b[0m.         \u001b[1;36m1\u001b[0m.        \u001b[1m]\u001b[0m                            \n",
       "                               \u001b[1m[\u001b[0m\u001b[1;36m0.09965697\u001b[0m \u001b[1;36m1\u001b[0m.         \u001b[1;36m1\u001b[0m.        \u001b[1m]\u001b[0m                            \n",
       "                               \u001b[1m[\u001b[0m\u001b[1;36m0.08852265\u001b[0m \u001b[1;36m1\u001b[0m.         \u001b[1;36m1\u001b[0m.        \u001b[1m]\u001b[0m                            \n",
       "                               \u001b[1m[\u001b[0m\u001b[1;36m0.07566316\u001b[0m \u001b[1;36m1\u001b[0m.         \u001b[1;36m1\u001b[0m.        \u001b[1m]\u001b[0m\u001b[1m]\u001b[0m                           \n",
       "                                                                                             \n",
       "                              \u001b[1m[\u001b[0m\u001b[1m[\u001b[0m\u001b[1;36m0.05862018\u001b[0m \u001b[1;36m1\u001b[0m.         \u001b[1;36m1\u001b[0m.        \u001b[1m]\u001b[0m                            \n",
       "                               \u001b[1m[\u001b[0m\u001b[1;36m0.03445562\u001b[0m \u001b[1;36m1\u001b[0m.         \u001b[1;36m1\u001b[0m.        \u001b[1m]\u001b[0m                            \n",
       "                               \u001b[1m[\u001b[0m\u001b[1;36m0.03030382\u001b[0m \u001b[1;36m1\u001b[0m.         \u001b[1;36m1\u001b[0m.        \u001b[1m]\u001b[0m                            \n",
       "                               \u001b[1m[\u001b[0m\u001b[1;36m0.02567367\u001b[0m \u001b[1;36m1\u001b[0m.         \u001b[1;36m1\u001b[0m.        \u001b[1m]\u001b[0m                            \n",
       "                               \u001b[1m[\u001b[0m\u001b[1;36m0.02120378\u001b[0m \u001b[1;36m1\u001b[0m.         \u001b[1;36m1\u001b[0m.        \u001b[1m]\u001b[0m                            \n",
       "                               \u001b[1m[\u001b[0m\u001b[1;36m0.01612041\u001b[0m \u001b[1;36m1\u001b[0m.         \u001b[1;36m1\u001b[0m.        \u001b[1m]\u001b[0m                            \n",
       "                               \u001b[1m[\u001b[0m\u001b[1;36m0.00999905\u001b[0m \u001b[1;36m1\u001b[0m.         \u001b[1;36m1\u001b[0m.        \u001b[1m]\u001b[0m\u001b[1m]\u001b[0m                           \n",
       "                                                                                             \n",
       "                              \u001b[1m[\u001b[0m\u001b[1m[\u001b[0m\u001b[1;36m1\u001b[0m.         \u001b[1;36m1\u001b[0m.         \u001b[1;36m1\u001b[0m.        \u001b[1m]\u001b[0m                            \n",
       "                               \u001b[1m[\u001b[0m\u001b[1;36m1\u001b[0m.         \u001b[1;36m1\u001b[0m.         \u001b[1;36m1\u001b[0m.        \u001b[1m]\u001b[0m                            \n",
       "                               \u001b[1m[\u001b[0m\u001b[1;36m1\u001b[0m.         \u001b[1;36m1\u001b[0m.         \u001b[1;36m1\u001b[0m.        \u001b[1m]\u001b[0m                            \n",
       "                               \u001b[1m[\u001b[0m\u001b[1;36m1\u001b[0m.         \u001b[1;36m1\u001b[0m.         \u001b[1;36m1\u001b[0m.        \u001b[1m]\u001b[0m                            \n",
       "                               \u001b[1m[\u001b[0m\u001b[1;36m1\u001b[0m.         \u001b[1;36m1\u001b[0m.         \u001b[1;36m1\u001b[0m.        \u001b[1m]\u001b[0m                            \n",
       "                               \u001b[1m[\u001b[0m\u001b[1;36m1\u001b[0m.         \u001b[1;36m1\u001b[0m.         \u001b[1;36m1\u001b[0m.        \u001b[1m]\u001b[0m                            \n",
       "                               \u001b[1m[\u001b[0m\u001b[1;36m1\u001b[0m.         \u001b[1;36m1\u001b[0m.         \u001b[1;36m1\u001b[0m.        \u001b[1m]\u001b[0m\u001b[1m]\u001b[0m                           \n",
       "                                                                                             \n",
       "                              \u001b[1m[\u001b[0m\u001b[1m[\u001b[0m\u001b[1;36m1\u001b[0m.         \u001b[1;36m1\u001b[0m.         \u001b[1;36m1\u001b[0m.        \u001b[1m]\u001b[0m                            \n",
       "                               \u001b[1m[\u001b[0m\u001b[1;36m1\u001b[0m.         \u001b[1;36m1\u001b[0m.         \u001b[1;36m1\u001b[0m.        \u001b[1m]\u001b[0m                            \n",
       "                               \u001b[1m[\u001b[0m\u001b[1;36m1\u001b[0m.         \u001b[1;36m1\u001b[0m.         \u001b[1;36m1\u001b[0m.        \u001b[1m]\u001b[0m                            \n",
       "                               \u001b[1m[\u001b[0m\u001b[1;36m1\u001b[0m.         \u001b[1;36m1\u001b[0m.         \u001b[1;36m1\u001b[0m.        \u001b[1m]\u001b[0m                            \n",
       "                               \u001b[1m[\u001b[0m\u001b[1;36m1\u001b[0m.         \u001b[1;36m1\u001b[0m.         \u001b[1;36m1\u001b[0m.        \u001b[1m]\u001b[0m                            \n",
       "                               \u001b[1m[\u001b[0m\u001b[1;36m1\u001b[0m.         \u001b[1;36m1\u001b[0m.         \u001b[1;36m1\u001b[0m.        \u001b[1m]\u001b[0m                            \n",
       "                               \u001b[1m[\u001b[0m\u001b[1;36m1\u001b[0m.         \u001b[1;36m1\u001b[0m.         \u001b[1;36m1\u001b[0m.        \u001b[1m]\u001b[0m\u001b[1m]\u001b[0m                           \n",
       "                                                                                             \n",
       "                              \u001b[1m[\u001b[0m\u001b[1m[\u001b[0m\u001b[1;36m1\u001b[0m.         \u001b[1;36m1\u001b[0m.         \u001b[1;36m1\u001b[0m.        \u001b[1m]\u001b[0m                            \n",
       "                               \u001b[1m[\u001b[0m\u001b[1;36m1\u001b[0m.         \u001b[1;36m0.03190524\u001b[0m \u001b[1;36m0.02468326\u001b[0m\u001b[1m]\u001b[0m                            \n",
       "                               \u001b[1m[\u001b[0m\u001b[1;36m1\u001b[0m.         \u001b[1;36m0.01341406\u001b[0m \u001b[1;36m0.02605923\u001b[0m\u001b[1m]\u001b[0m                            \n",
       "                               \u001b[1m[\u001b[0m\u001b[1;36m1\u001b[0m.         \u001b[1;36m0.01896694\u001b[0m \u001b[1;36m0.02508414\u001b[0m\u001b[1m]\u001b[0m                            \n",
       "                               \u001b[1m[\u001b[0m\u001b[1;36m1\u001b[0m.         \u001b[1;36m0.03046773\u001b[0m \u001b[1;36m0.02586716\u001b[0m\u001b[1m]\u001b[0m                            \n",
       "                               \u001b[1m[\u001b[0m\u001b[1;36m1\u001b[0m.         \u001b[1;36m0.03143335\u001b[0m \u001b[1;36m0.02826187\u001b[0m\u001b[1m]\u001b[0m                            \n",
       "                               \u001b[1m[\u001b[0m\u001b[1;36m1\u001b[0m.         \u001b[1;36m1\u001b[0m.         \u001b[1;36m1\u001b[0m.        \u001b[1m]\u001b[0m\u001b[1m]\u001b[0m                           \n",
       "                                                                                             \n",
       "                              \u001b[1m[\u001b[0m\u001b[1m[\u001b[0m\u001b[1;36m1\u001b[0m.         \u001b[1;36m1\u001b[0m.         \u001b[1;36m1\u001b[0m.        \u001b[1m]\u001b[0m                            \n",
       "                               \u001b[1m[\u001b[0m\u001b[1;36m1\u001b[0m.         \u001b[1;36m0.02772769\u001b[0m \u001b[1;36m0.02718299\u001b[0m\u001b[1m]\u001b[0m                            \n",
       "                               \u001b[1m[\u001b[0m\u001b[1;36m1\u001b[0m.         \u001b[1;36m0.02963889\u001b[0m \u001b[1;36m0.02826182\u001b[0m\u001b[1m]\u001b[0m                            \n",
       "                               \u001b[1m[\u001b[0m\u001b[1;36m1\u001b[0m.         \u001b[1;36m0.0250842\u001b[0m  \u001b[1;36m0.02997319\u001b[0m\u001b[1m]\u001b[0m                            \n",
       "                               \u001b[1m[\u001b[0m\u001b[1;36m1\u001b[0m.         \u001b[1;36m0.03297942\u001b[0m \u001b[1;36m0.03143341\u001b[0m\u001b[1m]\u001b[0m                            \n",
       "                               \u001b[1m[\u001b[0m\u001b[1;36m1\u001b[0m.         \u001b[1;36m0.02997317\u001b[0m \u001b[1;36m0.03221581\u001b[0m\u001b[1m]\u001b[0m                            \n",
       "                               \u001b[1m[\u001b[0m\u001b[1;36m1\u001b[0m.         \u001b[1;36m1\u001b[0m.         \u001b[1;36m1\u001b[0m.        \u001b[1m]\u001b[0m\u001b[1m]\u001b[0m                           \n",
       "                                                                                             \n",
       "                              \u001b[1m[\u001b[0m\u001b[1m[\u001b[0m\u001b[1;36m1\u001b[0m.         \u001b[1;36m1\u001b[0m.         \u001b[1;36m1\u001b[0m.        \u001b[1m]\u001b[0m                            \n",
       "                               \u001b[1m[\u001b[0m\u001b[1;36m1\u001b[0m.         \u001b[1;36m0.01843292\u001b[0m \u001b[1;36m0.03221578\u001b[0m\u001b[1m]\u001b[0m                            \n",
       "                               \u001b[1m[\u001b[0m\u001b[1;36m1\u001b[0m.         \u001b[1;36m0.02528222\u001b[0m \u001b[1;36m0.03236997\u001b[0m\u001b[1m]\u001b[0m                            \n",
       "                               \u001b[1m[\u001b[0m\u001b[1;36m1\u001b[0m.         \u001b[1;36m0.03190511\u001b[0m \u001b[1;36m0.03079298\u001b[0m\u001b[1m]\u001b[0m                            \n",
       "                               \u001b[1m[\u001b[0m\u001b[1;36m1\u001b[0m.         \u001b[1;36m0.02488451\u001b[0m \u001b[1;36m0.03079298\u001b[0m\u001b[1m]\u001b[0m                            \n",
       "                               \u001b[1m[\u001b[0m\u001b[1;36m1\u001b[0m.         \u001b[1;36m0.01448841\u001b[0m \u001b[1;36m0.03206087\u001b[0m\u001b[1m]\u001b[0m                            \n",
       "                               \u001b[1m[\u001b[0m\u001b[1;36m1\u001b[0m.         \u001b[1;36m1\u001b[0m.         \u001b[1;36m1\u001b[0m.        \u001b[1m]\u001b[0m\u001b[1m]\u001b[0m                           \n",
       "                                                                                             \n",
       "                              \u001b[1m[\u001b[0m\u001b[1m[\u001b[0m\u001b[1;36m1\u001b[0m.         \u001b[1;36m1\u001b[0m.         \u001b[1;36m1\u001b[0m.        \u001b[1m]\u001b[0m                            \n",
       "                               \u001b[1m[\u001b[0m\u001b[1;36m1\u001b[0m.         \u001b[1;36m0.01948628\u001b[0m \u001b[1;36m0.02772769\u001b[0m\u001b[1m]\u001b[0m                            \n",
       "                               \u001b[1m[\u001b[0m\u001b[1;36m1\u001b[0m.         \u001b[1;36m0.03046771\u001b[0m \u001b[1;36m0.02878602\u001b[0m\u001b[1m]\u001b[0m                            \n",
       "                               \u001b[1m[\u001b[0m\u001b[1;36m1\u001b[0m.         \u001b[1;36m0.02212521\u001b[0m \u001b[1;36m0.02861234\u001b[0m\u001b[1m]\u001b[0m                            \n",
       "                               \u001b[1m[\u001b[0m\u001b[1;36m1\u001b[0m.         \u001b[1;36m0.02843762\u001b[0m \u001b[1;36m0.02878601\u001b[0m\u001b[1m]\u001b[0m                            \n",
       "                               \u001b[1m[\u001b[0m\u001b[1;36m1\u001b[0m.         \u001b[1;36m0.03159133\u001b[0m \u001b[1;36m0.02878603\u001b[0m\u001b[1m]\u001b[0m                            \n",
       "                               \u001b[1m[\u001b[0m\u001b[1;36m1\u001b[0m.         \u001b[1;36m1\u001b[0m.         \u001b[1;36m1\u001b[0m.        \u001b[1m]\u001b[0m\u001b[1m]\u001b[0m                           \n",
       "                                                                                             \n",
       "                              \u001b[1m[\u001b[0m\u001b[1m[\u001b[0m\u001b[1;36m1\u001b[0m.         \u001b[1;36m1\u001b[0m.         \u001b[1;36m1\u001b[0m.        \u001b[1m]\u001b[0m                            \n",
       "                               \u001b[1m[\u001b[0m\u001b[1;36m1\u001b[0m.         \u001b[1;36m0.02508422\u001b[0m \u001b[1;36m0.02096706\u001b[0m\u001b[1m]\u001b[0m                            \n",
       "                               \u001b[1m[\u001b[0m\u001b[1;36m1\u001b[0m.         \u001b[1;36m0.02681368\u001b[0m \u001b[1;36m0.02365119\u001b[0m\u001b[1m]\u001b[0m                            \n",
       "                               \u001b[1m[\u001b[0m\u001b[1;36m1\u001b[0m.         \u001b[1;36m0.01896694\u001b[0m \u001b[1;36m0.02736577\u001b[0m\u001b[1m]\u001b[0m                            \n",
       "                               \u001b[1m[\u001b[0m\u001b[1;36m1\u001b[0m.         \u001b[1;36m0.01642735\u001b[0m \u001b[1;36m0.02681376\u001b[0m\u001b[1m]\u001b[0m                            \n",
       "                               \u001b[1m[\u001b[0m\u001b[1;36m1\u001b[0m.         \u001b[1;36m0.01642734\u001b[0m \u001b[1;36m0.02681371\u001b[0m\u001b[1m]\u001b[0m                            \n",
       "                               \u001b[1m[\u001b[0m\u001b[1;36m1\u001b[0m.         \u001b[1;36m1\u001b[0m.         \u001b[1;36m1\u001b[0m.        \u001b[1m]\u001b[0m\u001b[1m]\u001b[0m                           \n",
       "                                                                                             \n",
       "                              \u001b[1m[\u001b[0m\u001b[1m[\u001b[0m\u001b[1;36m1\u001b[0m.         \u001b[1;36m1\u001b[0m.         \u001b[1;36m1\u001b[0m.        \u001b[1m]\u001b[0m                            \n",
       "                               \u001b[1m[\u001b[0m\u001b[1;36m1\u001b[0m.         \u001b[1;36m1\u001b[0m.         \u001b[1;36m1\u001b[0m.        \u001b[1m]\u001b[0m                            \n",
       "                               \u001b[1m[\u001b[0m\u001b[1;36m1\u001b[0m.         \u001b[1;36m1\u001b[0m.         \u001b[1;36m1\u001b[0m.        \u001b[1m]\u001b[0m                            \n",
       "                               \u001b[1m[\u001b[0m\u001b[1;36m1\u001b[0m.         \u001b[1;36m1\u001b[0m.         \u001b[1;36m1\u001b[0m.        \u001b[1m]\u001b[0m                            \n",
       "                               \u001b[1m[\u001b[0m\u001b[1;36m1\u001b[0m.         \u001b[1;36m1\u001b[0m.         \u001b[1;36m1\u001b[0m.        \u001b[1m]\u001b[0m                            \n",
       "                               \u001b[1m[\u001b[0m\u001b[1;36m1\u001b[0m.         \u001b[1;36m1\u001b[0m.         \u001b[1;36m1\u001b[0m.        \u001b[1m]\u001b[0m                            \n",
       "                               \u001b[1m[\u001b[0m\u001b[1;36m1\u001b[0m.         \u001b[1;36m1\u001b[0m.         \u001b[1;36m1\u001b[0m.        \u001b[1m]\u001b[0m\u001b[1m]\u001b[0m\u001b[1m]\u001b[0m                          \n"
      ]
     },
     "metadata": {},
     "output_type": "display_data"
    },
    {
     "data": {
      "text/html": [
       "<pre style=\"white-space:pre;overflow-x:auto;line-height:normal;font-family:Menlo,'DejaVu Sans Mono',consolas,'Courier New',monospace\"><span style=\"color: #7fbfbf; text-decoration-color: #7fbfbf\">                    </span><span style=\"color: #800000; text-decoration-color: #800000\">WARNING </span> WARNING:root:Computed std for rew_y       <a href=\"file:///home/sergei/causality-disentanglement-rl/sparse_causal_model_learner_rl/learners/input_normalizer.py\"><span style=\"color: #7f7f7f; text-decoration-color: #7f7f7f\">input_normalizer.py</span></a><span style=\"color: #7f7f7f; text-decoration-color: #7f7f7f\">:61</span>\n",
       "                             <span style=\"font-weight: bold\">[</span><span style=\"color: #808000; text-decoration-color: #808000\">shape</span>=<span style=\"color: #800080; text-decoration-color: #800080\">scalar</span>, <span style=\"color: #808000; text-decoration-color: #808000\">components</span>=<span style=\"color: #008080; text-decoration-color: #008080; font-weight: bold\">1</span><span style=\"font-weight: bold\">]</span>:                                   \n",
       "                             <span style=\"color: #008080; text-decoration-color: #008080; font-weight: bold\">2.8000282327411696e-05</span>                                          \n",
       "                             <span style=\"color: #008080; text-decoration-color: #008080; font-weight: bold\">0.0016730946954339743</span>                                           \n",
       "</pre>\n"
      ],
      "text/plain": [
       "\u001b[2;36m                   \u001b[0m\u001b[2;36m \u001b[0m\u001b[31mWARNING \u001b[0m WARNING:root:Computed std for rew_y       \u001b]8;id=1618483047.4484758-619612;file:///home/sergei/causality-disentanglement-rl/sparse_causal_model_learner_rl/learners/input_normalizer.py\u001b\\\u001b[2minput_normalizer.py\u001b[0m\u001b]8;;\u001b\\\u001b[2m:61\u001b[0m\n",
       "                             \u001b[1m[\u001b[0m\u001b[33mshape\u001b[0m=\u001b[35mscalar\u001b[0m, \u001b[33mcomponents\u001b[0m=\u001b[1;36m1\u001b[0m\u001b[1m]\u001b[0m:                                   \n",
       "                             \u001b[1;36m2.8000282327411696e-05\u001b[0m                                          \n",
       "                             \u001b[1;36m0.0016730946954339743\u001b[0m                                           \n"
      ]
     },
     "metadata": {},
     "output_type": "display_data"
    },
    {
     "data": {
      "text/html": [
       "<pre style=\"white-space:pre;overflow-x:auto;line-height:normal;font-family:Menlo,'DejaVu Sans Mono',consolas,'Courier New',monospace\"><span style=\"color: #7fbfbf; text-decoration-color: #7fbfbf\">                    </span><span style=\"color: #800000; text-decoration-color: #800000\">WARNING </span> WARNING:root:Computed std for done_y      <a href=\"file:///home/sergei/causality-disentanglement-rl/sparse_causal_model_learner_rl/learners/input_normalizer.py\"><span style=\"color: #7f7f7f; text-decoration-color: #7f7f7f\">input_normalizer.py</span></a><span style=\"color: #7f7f7f; text-decoration-color: #7f7f7f\">:61</span>\n",
       "                             <span style=\"font-weight: bold\">[</span><span style=\"color: #808000; text-decoration-color: #808000\">shape</span>=<span style=\"color: #800080; text-decoration-color: #800080\">scalar</span>, <span style=\"color: #808000; text-decoration-color: #808000\">components</span>=<span style=\"color: #008080; text-decoration-color: #008080; font-weight: bold\">1</span><span style=\"font-weight: bold\">]</span>:                                   \n",
       "                             <span style=\"color: #008080; text-decoration-color: #008080; font-weight: bold\">0.0019900198094546795</span> <span style=\"color: #008080; text-decoration-color: #008080; font-weight: bold\">0.04456523060798645</span>                       \n",
       "</pre>\n"
      ],
      "text/plain": [
       "\u001b[2;36m                   \u001b[0m\u001b[2;36m \u001b[0m\u001b[31mWARNING \u001b[0m WARNING:root:Computed std for done_y      \u001b]8;id=1618483047.4530022-47523;file:///home/sergei/causality-disentanglement-rl/sparse_causal_model_learner_rl/learners/input_normalizer.py\u001b\\\u001b[2minput_normalizer.py\u001b[0m\u001b]8;;\u001b\\\u001b[2m:61\u001b[0m\n",
       "                             \u001b[1m[\u001b[0m\u001b[33mshape\u001b[0m=\u001b[35mscalar\u001b[0m, \u001b[33mcomponents\u001b[0m=\u001b[1;36m1\u001b[0m\u001b[1m]\u001b[0m:                                   \n",
       "                             \u001b[1;36m0.0019900198094546795\u001b[0m \u001b[1;36m0.04456523060798645\u001b[0m                       \n"
      ]
     },
     "metadata": {},
     "output_type": "display_data"
    },
    {
     "data": {
      "text/html": [
       "<pre style=\"white-space:pre;overflow-x:auto;line-height:normal;font-family:Menlo,'DejaVu Sans Mono',consolas,'Courier New',monospace\"><span style=\"color: #7fbfbf; text-decoration-color: #7fbfbf\">                    </span><span style=\"color: #800000; text-decoration-color: #800000\">WARNING </span> WARNING:root:Computed std for             <a href=\"file:///home/sergei/causality-disentanglement-rl/sparse_causal_model_learner_rl/learners/input_normalizer.py\"><span style=\"color: #7f7f7f; text-decoration-color: #7f7f7f\">input_normalizer.py</span></a><span style=\"color: #7f7f7f; text-decoration-color: #7f7f7f\">:61</span>\n",
       "                             reward_to_go <span style=\"font-weight: bold\">[</span><span style=\"color: #808000; text-decoration-color: #808000\">shape</span>=<span style=\"color: #800080; text-decoration-color: #800080\">scalar</span>,                                     \n",
       "                             <span style=\"color: #808000; text-decoration-color: #808000\">components</span>=<span style=\"color: #008080; text-decoration-color: #008080; font-weight: bold\">1</span><span style=\"font-weight: bold\">]</span>: <span style=\"color: #008080; text-decoration-color: #008080; font-weight: bold\">0.00010500104690436274</span>                           \n",
       "                             <span style=\"color: #008080; text-decoration-color: #008080; font-weight: bold\">0.0032386858947575092</span>                                           \n",
       "</pre>\n"
      ],
      "text/plain": [
       "\u001b[2;36m                   \u001b[0m\u001b[2;36m \u001b[0m\u001b[31mWARNING \u001b[0m WARNING:root:Computed std for             \u001b]8;id=1618483047.4570317-666270;file:///home/sergei/causality-disentanglement-rl/sparse_causal_model_learner_rl/learners/input_normalizer.py\u001b\\\u001b[2minput_normalizer.py\u001b[0m\u001b]8;;\u001b\\\u001b[2m:61\u001b[0m\n",
       "                             reward_to_go \u001b[1m[\u001b[0m\u001b[33mshape\u001b[0m=\u001b[35mscalar\u001b[0m,                                     \n",
       "                             \u001b[33mcomponents\u001b[0m=\u001b[1;36m1\u001b[0m\u001b[1m]\u001b[0m: \u001b[1;36m0.00010500104690436274\u001b[0m                           \n",
       "                             \u001b[1;36m0.0032386858947575092\u001b[0m                                           \n"
      ]
     },
     "metadata": {},
     "output_type": "display_data"
    },
    {
     "name": "stderr",
     "output_type": "stream",
     "text": [
      "2021-04-15 12:37:27,586\tWARNING session.py:20 -- Session not detected. You should not be calling this function outside `tune.run` or while using the class API. \n"
     ]
    },
    {
     "data": {
      "text/html": [
       "<pre style=\"white-space:pre;overflow-x:auto;line-height:normal;font-family:Menlo,'DejaVu Sans Mono',consolas,'Courier New',monospace\"><span style=\"color: #7fbfbf; text-decoration-color: #7fbfbf\">                    </span><span style=\"color: #000080; text-decoration-color: #000080\">INFO    </span> INFO:root:Buffer reset response: <span style=\"font-weight: bold\">{</span><span style=\"color: #008000; text-decoration-color: #008000\">'info'</span>: <span style=\"color: #008000; text-decoration-color: #008000\">'buffer</span> <a href=\"file:///home/sergei/causality-disentanglement-rl/sparse_causal_model_learner_rl/learners/rl_data.py\"><span style=\"color: #7f7f7f; text-decoration-color: #7f7f7f\">rl_data.py</span></a><span style=\"color: #7f7f7f; text-decoration-color: #7f7f7f\">:399</span>\n",
       "                             <span style=\"color: #008000; text-decoration-color: #008000\">cleaned'</span><span style=\"font-weight: bold\">}</span>                                                       \n",
       "</pre>\n"
      ],
      "text/plain": [
       "\u001b[2;36m                   \u001b[0m\u001b[2;36m \u001b[0m\u001b[34mINFO    \u001b[0m INFO:root:Buffer reset response: \u001b[1m{\u001b[0m\u001b[32m'info'\u001b[0m: \u001b[32m'buffer\u001b[0m \u001b]8;id=1618483047.5959513-963605;file:///home/sergei/causality-disentanglement-rl/sparse_causal_model_learner_rl/learners/rl_data.py\u001b\\\u001b[2mrl_data.py\u001b[0m\u001b]8;;\u001b\\\u001b[2m:399\u001b[0m\n",
       "                             \u001b[32mcleaned'\u001b[0m\u001b[1m}\u001b[0m                                                       \n"
      ]
     },
     "metadata": {},
     "output_type": "display_data"
    },
    {
     "data": {
      "application/vnd.jupyter.widget-view+json": {
       "model_id": "2ac69d42a76144a4a881575d9dc3fddd",
       "version_major": 2,
       "version_minor": 0
      },
      "text/plain": [
       "HBox(children=(HTML(value='Initial buffer fill'), FloatProgress(value=0.0, max=1000.0), HTML(value='')))"
      ]
     },
     "metadata": {},
     "output_type": "display_data"
    },
    {
     "name": "stdout",
     "output_type": "stream",
     "text": [
      "\n"
     ]
    },
    {
     "data": {
      "text/html": [
       "<pre style=\"white-space:pre;overflow-x:auto;line-height:normal;font-family:Menlo,'DejaVu Sans Mono',consolas,'Courier New',monospace\"><span style=\"color: #7fbfbf; text-decoration-color: #7fbfbf\">                    </span><span style=\"color: #000080; text-decoration-color: #000080\">INFO    </span> INFO:root:Potential trainable model:      <a href=\"file:///home/sergei/causality-disentanglement-rl/sparse_causal_model_learner_rl/learners/abstract_learner.py\"><span style=\"color: #7f7f7f; text-decoration-color: #7f7f7f\">abstract_learner.py</span></a><span style=\"color: #7f7f7f; text-decoration-color: #7f7f7f\">:97</span>\n",
       "                             Transform current time-step features into                       \n",
       "                             next time-step features                                         \n",
       "</pre>\n"
      ],
      "text/plain": [
       "\u001b[2;36m                   \u001b[0m\u001b[2;36m \u001b[0m\u001b[34mINFO    \u001b[0m INFO:root:Potential trainable model:      \u001b]8;id=1618483047.7982762-813579;file:///home/sergei/causality-disentanglement-rl/sparse_causal_model_learner_rl/learners/abstract_learner.py\u001b\\\u001b[2mabstract_learner.py\u001b[0m\u001b]8;;\u001b\\\u001b[2m:97\u001b[0m\n",
       "                             Transform current time-step features into                       \n",
       "                             next time-step features                                         \n"
      ]
     },
     "metadata": {},
     "output_type": "display_data"
    },
    {
     "data": {
      "text/html": [
       "<pre style=\"white-space:pre;overflow-x:auto;line-height:normal;font-family:Menlo,'DejaVu Sans Mono',consolas,'Courier New',monospace\"><span style=\"color: #7fbfbf; text-decoration-color: #7fbfbf\">                    </span><span style=\"color: #000080; text-decoration-color: #000080\">INFO    </span> INFO:root:Passing <span style=\"font-weight: bold\">&lt;</span><span style=\"color: #ff00ff; text-decoration-color: #ff00ff; font-weight: bold\">class</span><span style=\"color: #000000; text-decoration-color: #000000\"> </span><span style=\"color: #008000; text-decoration-color: #008000\">'sparse_causal_</span> <a href=\"file:///home/sergei/causality-disentanglement-rl/sparse_causal_model_learner_rl/learners/abstract_learner.py\"><span style=\"color: #7f7f7f; text-decoration-color: #7f7f7f\">abstract_learner.py</span></a><span style=\"color: #7f7f7f; text-decoration-color: #7f7f7f\">:102</span>\n",
       "                             <span style=\"color: #008000; text-decoration-color: #008000\">model_learner_rl.trainable.model.ManyNet</span>                        \n",
       "                             <span style=\"color: #008000; text-decoration-color: #008000\">workCombinedModel'</span><span style=\"font-weight: bold\">&gt;</span> for model                                   \n",
       "</pre>\n"
      ],
      "text/plain": [
       "\u001b[2;36m                   \u001b[0m\u001b[2;36m \u001b[0m\u001b[34mINFO    \u001b[0m INFO:root:Passing \u001b[1m<\u001b[0m\u001b[1;95mclass\u001b[0m\u001b[39m \u001b[0m\u001b[32m'sparse_causal_\u001b[0m \u001b]8;id=1618483047.80371-672109;file:///home/sergei/causality-disentanglement-rl/sparse_causal_model_learner_rl/learners/abstract_learner.py\u001b\\\u001b[2mabstract_learner.py\u001b[0m\u001b]8;;\u001b\\\u001b[2m:102\u001b[0m\n",
       "                             \u001b[32mmodel_learner_rl.trainable.model.ManyNet\u001b[0m                        \n",
       "                             \u001b[32mworkCombinedModel'\u001b[0m\u001b[1m>\u001b[0m for model                                   \n"
      ]
     },
     "metadata": {},
     "output_type": "display_data"
    },
    {
     "name": "stdout",
     "output_type": "stream",
     "text": [
      "[False, False, False, False]\n",
      "[20, 512, 512, 1024, 1] 6\n"
     ]
    },
    {
     "data": {
      "text/html": [
       "<pre style=\"white-space:pre;overflow-x:auto;line-height:normal;font-family:Menlo,'DejaVu Sans Mono',consolas,'Courier New',monospace\"><span style=\"color: #7fbfbf; text-decoration-color: #7fbfbf\">                    </span><span style=\"color: #000080; text-decoration-color: #000080\">INFO    </span> INFO:root:Created trainable model        <a href=\"file:///home/sergei/causality-disentanglement-rl/sparse_causal_model_learner_rl/learners/abstract_learner.py\"><span style=\"color: #7f7f7f; text-decoration-color: #7f7f7f\">abstract_learner.py</span></a><span style=\"color: #7f7f7f; text-decoration-color: #7f7f7f\">:106</span>\n",
       "</pre>\n"
      ],
      "text/plain": [
       "\u001b[2;36m                   \u001b[0m\u001b[2;36m \u001b[0m\u001b[34mINFO    \u001b[0m INFO:root:Created trainable model        \u001b]8;id=1618483047.9013038-184299;file:///home/sergei/causality-disentanglement-rl/sparse_causal_model_learner_rl/learners/abstract_learner.py\u001b\\\u001b[2mabstract_learner.py\u001b[0m\u001b]8;;\u001b\\\u001b[2m:106\u001b[0m\n"
      ]
     },
     "metadata": {},
     "output_type": "display_data"
    },
    {
     "data": {
      "text/html": [
       "<pre style=\"white-space:pre;overflow-x:auto;line-height:normal;font-family:Menlo,'DejaVu Sans Mono',consolas,'Courier New',monospace\"><span style=\"color: #7fbfbf; text-decoration-color: #7fbfbf\">                    </span><span style=\"color: #000080; text-decoration-color: #000080\">INFO    </span> INFO:root:ManyNetworkCombinedModel<span style=\"font-weight: bold\">(</span>      <a href=\"file:///home/sergei/causality-disentanglement-rl/sparse_causal_model_learner_rl/learners/abstract_learner.py\"><span style=\"color: #7f7f7f; text-decoration-color: #7f7f7f\">abstract_learner.py</span></a><span style=\"color: #7f7f7f; text-decoration-color: #7f7f7f\">:107</span>\n",
       "                               <span style=\"font-weight: bold\">(</span>model<span style=\"font-weight: bold\">)</span>: WithInputSwitch<span style=\"font-weight: bold\">(</span>                                     \n",
       "                                 <span style=\"font-weight: bold\">(</span>switch<span style=\"font-weight: bold\">)</span>:                                                   \n",
       "                             LearnableSwitchSimple<span style=\"font-weight: bold\">(</span><span style=\"color: #808000; text-decoration-color: #808000\">min_proba</span>=<span style=\"color: #008080; text-decoration-color: #008080; font-weight: bold\">0.01</span>                            \n",
       "                             <span style=\"color: #808000; text-decoration-color: #808000\">initial_proba</span>=<span style=\"color: #008080; text-decoration-color: #008080; font-weight: bold\">1.0</span> <span style=\"color: #808000; text-decoration-color: #808000\">shape</span>=<span style=\"font-weight: bold\">(</span><span style=\"color: #008080; text-decoration-color: #008080; font-weight: bold\">10</span>, <span style=\"color: #008080; text-decoration-color: #008080; font-weight: bold\">6</span><span style=\"font-weight: bold\">)</span>                                 \n",
       "                             <span style=\"color: #808000; text-decoration-color: #808000\">sample_many</span>=<span style=\"color: #00ff00; text-decoration-color: #00ff00; font-style: italic\">True</span><span style=\"font-weight: bold\">)</span>                                               \n",
       "                                 <span style=\"font-weight: bold\">(</span>model<span style=\"font-weight: bold\">)</span>: FCCombinedModel<span style=\"font-weight: bold\">(</span>                                   \n",
       "                                   <span style=\"font-weight: bold\">(</span>act01<span style=\"font-weight: bold\">)</span>:                                                  \n",
       "                             LeakyReLU<span style=\"font-weight: bold\">(</span><span style=\"color: #808000; text-decoration-color: #808000\">negative_slope</span>=<span style=\"color: #008080; text-decoration-color: #008080; font-weight: bold\">0.01</span><span style=\"font-weight: bold\">)</span>                                  \n",
       "                                   <span style=\"font-weight: bold\">(</span>act02<span style=\"font-weight: bold\">)</span>:                                                  \n",
       "                             LeakyReLU<span style=\"font-weight: bold\">(</span><span style=\"color: #808000; text-decoration-color: #808000\">negative_slope</span>=<span style=\"color: #008080; text-decoration-color: #008080; font-weight: bold\">0.01</span><span style=\"font-weight: bold\">)</span>                                  \n",
       "                                   <span style=\"font-weight: bold\">(</span>act03<span style=\"font-weight: bold\">)</span>:                                                  \n",
       "                             LeakyReLU<span style=\"font-weight: bold\">(</span><span style=\"color: #808000; text-decoration-color: #808000\">negative_slope</span>=<span style=\"color: #008080; text-decoration-color: #008080; font-weight: bold\">0.01</span><span style=\"font-weight: bold\">)</span>                                  \n",
       "                                   <span style=\"font-weight: bold\">(</span>act04<span style=\"font-weight: bold\">)</span>: PolyAct<span style=\"font-weight: bold\">(</span>                                         \n",
       "                                     <span style=\"font-weight: bold\">(</span>orig_act<span style=\"font-weight: bold\">)</span>: Sin<span style=\"font-weight: bold\">()</span>                                       \n",
       "                                   <span style=\"font-weight: bold\">)</span> <span style=\"color: #808000; text-decoration-color: #808000\">max_degree</span>=<span style=\"color: #008080; text-decoration-color: #008080; font-weight: bold\">3</span> <span style=\"color: #808000; text-decoration-color: #808000\">features</span>=<span style=\"color: #008080; text-decoration-color: #008080; font-weight: bold\">6</span>                                 \n",
       "                                   <span style=\"font-weight: bold\">(</span>fc01<span style=\"font-weight: bold\">)</span>:                                                   \n",
       "                             CombinedQuadraticLayer<span style=\"font-weight: bold\">(</span><span style=\"color: #808000; text-decoration-color: #808000\">inf</span>=<span style=\"color: #008080; text-decoration-color: #008080; font-weight: bold\">20</span>, <span style=\"color: #808000; text-decoration-color: #808000\">outf</span>=<span style=\"color: #008080; text-decoration-color: #008080; font-weight: bold\">512</span>,                        \n",
       "                             <span style=\"color: #808000; text-decoration-color: #808000\">n_models</span>=<span style=\"color: #008080; text-decoration-color: #008080; font-weight: bold\">6</span><span style=\"font-weight: bold\">)</span>                                                     \n",
       "                                   <span style=\"font-weight: bold\">(</span>fc02<span style=\"font-weight: bold\">)</span>:                                                   \n",
       "                             CombinedLinearLayer<span style=\"font-weight: bold\">(</span><span style=\"color: #808000; text-decoration-color: #808000\">inf</span>=<span style=\"color: #008080; text-decoration-color: #008080; font-weight: bold\">512</span>, <span style=\"color: #808000; text-decoration-color: #808000\">outf</span>=<span style=\"color: #008080; text-decoration-color: #008080; font-weight: bold\">512</span>,                          \n",
       "                             <span style=\"color: #808000; text-decoration-color: #808000\">n_models</span>=<span style=\"color: #008080; text-decoration-color: #008080; font-weight: bold\">6</span><span style=\"font-weight: bold\">)</span>                                                     \n",
       "                                   <span style=\"font-weight: bold\">(</span>fc03<span style=\"font-weight: bold\">)</span>:                                                   \n",
       "                             CombinedLinearLayer<span style=\"font-weight: bold\">(</span><span style=\"color: #808000; text-decoration-color: #808000\">inf</span>=<span style=\"color: #008080; text-decoration-color: #008080; font-weight: bold\">512</span>, <span style=\"color: #808000; text-decoration-color: #808000\">outf</span>=<span style=\"color: #008080; text-decoration-color: #008080; font-weight: bold\">1024</span>,                         \n",
       "                             <span style=\"color: #808000; text-decoration-color: #808000\">n_models</span>=<span style=\"color: #008080; text-decoration-color: #008080; font-weight: bold\">6</span><span style=\"font-weight: bold\">)</span>                                                     \n",
       "                                   <span style=\"font-weight: bold\">(</span>fc04<span style=\"font-weight: bold\">)</span>:                                                   \n",
       "                             CombinedLinearLayer<span style=\"font-weight: bold\">(</span><span style=\"color: #808000; text-decoration-color: #808000\">inf</span>=<span style=\"color: #008080; text-decoration-color: #008080; font-weight: bold\">1024</span>, <span style=\"color: #808000; text-decoration-color: #808000\">outf</span>=<span style=\"color: #008080; text-decoration-color: #008080; font-weight: bold\">1</span>,                           \n",
       "                             <span style=\"color: #808000; text-decoration-color: #808000\">n_models</span>=<span style=\"color: #008080; text-decoration-color: #008080; font-weight: bold\">6</span><span style=\"font-weight: bold\">)</span>                                                     \n",
       "                                 <span style=\"font-weight: bold\">)</span> <span style=\"color: #808000; text-decoration-color: #808000\">input_dim</span>=<span style=\"color: #008080; text-decoration-color: #008080; font-weight: bold\">20</span> <span style=\"color: #808000; text-decoration-color: #808000\">output_dim</span>=<span style=\"color: #008080; text-decoration-color: #008080; font-weight: bold\">1</span>                                 \n",
       "                             <span style=\"color: #808000; text-decoration-color: #808000\">skips</span>=<span style=\"font-weight: bold\">[</span><span style=\"color: #ff0000; text-decoration-color: #ff0000; font-style: italic\">False</span>, <span style=\"color: #ff0000; text-decoration-color: #ff0000; font-style: italic\">False</span>, <span style=\"color: #ff0000; text-decoration-color: #ff0000; font-style: italic\">False</span>, <span style=\"color: #ff0000; text-decoration-color: #ff0000; font-style: italic\">False</span><span style=\"font-weight: bold\">]</span>                              \n",
       "                             <span style=\"color: #808000; text-decoration-color: #808000\">act</span>=<span style=\"font-weight: bold\">[</span>LeakyReLU<span style=\"font-weight: bold\">(</span><span style=\"color: #808000; text-decoration-color: #808000\">negative_slope</span>=<span style=\"color: #008080; text-decoration-color: #008080; font-weight: bold\">0.01</span><span style=\"font-weight: bold\">)</span>,                            \n",
       "                             LeakyReLU<span style=\"font-weight: bold\">(</span><span style=\"color: #808000; text-decoration-color: #808000\">negative_slope</span>=<span style=\"color: #008080; text-decoration-color: #008080; font-weight: bold\">0.01</span><span style=\"font-weight: bold\">)</span>,                                 \n",
       "                             LeakyReLU<span style=\"font-weight: bold\">(</span><span style=\"color: #808000; text-decoration-color: #808000\">negative_slope</span>=<span style=\"color: #008080; text-decoration-color: #008080; font-weight: bold\">0.01</span><span style=\"font-weight: bold\">)</span>, PolyAct<span style=\"font-weight: bold\">(</span>                        \n",
       "                                   <span style=\"font-weight: bold\">(</span>orig_act<span style=\"font-weight: bold\">)</span>: Sin<span style=\"font-weight: bold\">()</span>                                         \n",
       "                                 <span style=\"font-weight: bold\">)</span> <span style=\"color: #808000; text-decoration-color: #808000\">max_degree</span>=<span style=\"color: #008080; text-decoration-color: #008080; font-weight: bold\">3</span> <span style=\"color: #808000; text-decoration-color: #808000\">features</span>=<span style=\"color: #008080; text-decoration-color: #008080; font-weight: bold\">6</span><span style=\"font-weight: bold\">]</span>                                  \n",
       "                             <span style=\"color: #808000; text-decoration-color: #808000\">hidden_sizes</span>=<span style=\"font-weight: bold\">[</span><span style=\"color: #008080; text-decoration-color: #008080; font-weight: bold\">512</span>, <span style=\"color: #008080; text-decoration-color: #008080; font-weight: bold\">512</span>, <span style=\"color: #008080; text-decoration-color: #008080; font-weight: bold\">1024</span><span style=\"font-weight: bold\">]</span>                                   \n",
       "                             <span style=\"color: #808000; text-decoration-color: #808000\">layers</span>=<span style=\"font-weight: bold\">[&lt;</span><span style=\"color: #ff00ff; text-decoration-color: #ff00ff; font-weight: bold\">class</span><span style=\"color: #000000; text-decoration-color: #000000\"> </span><span style=\"color: #008000; text-decoration-color: #008000\">'sparse_causal_model_lear</span>                        \n",
       "                             <span style=\"color: #008000; text-decoration-color: #008000\">ner_rl.trainable.combined.CombinedQuadra</span>                        \n",
       "                             <span style=\"color: #008000; text-decoration-color: #008000\">ticLayer'</span><span style=\"font-weight: bold\">&gt;</span>, <span style=\"font-weight: bold\">&lt;</span><span style=\"color: #ff00ff; text-decoration-color: #ff00ff; font-weight: bold\">class</span><span style=\"color: #000000; text-decoration-color: #000000\"> </span><span style=\"color: #008000; text-decoration-color: #008000\">'sparse_causal_model_</span>                        \n",
       "                             <span style=\"color: #008000; text-decoration-color: #008000\">learner_rl.trainable.combined.CombinedLi</span>                        \n",
       "                             <span style=\"color: #008000; text-decoration-color: #008000\">nearLayer'</span><span style=\"font-weight: bold\">&gt;</span>, <span style=\"font-weight: bold\">&lt;</span><span style=\"color: #ff00ff; text-decoration-color: #ff00ff; font-weight: bold\">class</span><span style=\"color: #000000; text-decoration-color: #000000\"> </span><span style=\"color: #008000; text-decoration-color: #008000\">'sparse_causal_model</span>                        \n",
       "                             <span style=\"color: #008000; text-decoration-color: #008000\">_learner_rl.trainable.combined.CombinedL</span>                        \n",
       "                             <span style=\"color: #008000; text-decoration-color: #008000\">inearLayer'</span><span style=\"font-weight: bold\">&gt;</span>, <span style=\"font-weight: bold\">&lt;</span><span style=\"color: #ff00ff; text-decoration-color: #ff00ff; font-weight: bold\">class</span><span style=\"color: #000000; text-decoration-color: #000000\"> </span><span style=\"color: #008000; text-decoration-color: #008000\">'sparse_causal_mode</span>                        \n",
       "                             <span style=\"color: #008000; text-decoration-color: #008000\">l_learner_rl.trainable.combined.Combined</span>                        \n",
       "                             <span style=\"color: #008000; text-decoration-color: #008000\">LinearLayer'</span><span style=\"font-weight: bold\">&gt;]</span>                                                  \n",
       "                               <span style=\"font-weight: bold\">)</span>                                                             \n",
       "                             <span style=\"font-weight: bold\">)</span> <span style=\"color: #808000; text-decoration-color: #808000\">predict_change</span>=<span style=\"color: #ff0000; text-decoration-color: #ff0000; font-style: italic\">False</span>                                          \n",
       "</pre>\n"
      ],
      "text/plain": [
       "\u001b[2;36m                   \u001b[0m\u001b[2;36m \u001b[0m\u001b[34mINFO    \u001b[0m INFO:root:ManyNetworkCombinedModel\u001b[1m(\u001b[0m      \u001b]8;id=1618483047.9171817-17441;file:///home/sergei/causality-disentanglement-rl/sparse_causal_model_learner_rl/learners/abstract_learner.py\u001b\\\u001b[2mabstract_learner.py\u001b[0m\u001b]8;;\u001b\\\u001b[2m:107\u001b[0m\n",
       "                               \u001b[1m(\u001b[0mmodel\u001b[1m)\u001b[0m: WithInputSwitch\u001b[1m(\u001b[0m                                     \n",
       "                                 \u001b[1m(\u001b[0mswitch\u001b[1m)\u001b[0m:                                                   \n",
       "                             LearnableSwitchSimple\u001b[1m(\u001b[0m\u001b[33mmin_proba\u001b[0m=\u001b[1;36m0\u001b[0m\u001b[1;36m.01\u001b[0m                            \n",
       "                             \u001b[33minitial_proba\u001b[0m=\u001b[1;36m1\u001b[0m\u001b[1;36m.0\u001b[0m \u001b[33mshape\u001b[0m=\u001b[1m(\u001b[0m\u001b[1;36m10\u001b[0m, \u001b[1;36m6\u001b[0m\u001b[1m)\u001b[0m                                 \n",
       "                             \u001b[33msample_many\u001b[0m=\u001b[3;92mTrue\u001b[0m\u001b[1m)\u001b[0m                                               \n",
       "                                 \u001b[1m(\u001b[0mmodel\u001b[1m)\u001b[0m: FCCombinedModel\u001b[1m(\u001b[0m                                   \n",
       "                                   \u001b[1m(\u001b[0mact01\u001b[1m)\u001b[0m:                                                  \n",
       "                             LeakyReLU\u001b[1m(\u001b[0m\u001b[33mnegative_slope\u001b[0m=\u001b[1;36m0\u001b[0m\u001b[1;36m.01\u001b[0m\u001b[1m)\u001b[0m                                  \n",
       "                                   \u001b[1m(\u001b[0mact02\u001b[1m)\u001b[0m:                                                  \n",
       "                             LeakyReLU\u001b[1m(\u001b[0m\u001b[33mnegative_slope\u001b[0m=\u001b[1;36m0\u001b[0m\u001b[1;36m.01\u001b[0m\u001b[1m)\u001b[0m                                  \n",
       "                                   \u001b[1m(\u001b[0mact03\u001b[1m)\u001b[0m:                                                  \n",
       "                             LeakyReLU\u001b[1m(\u001b[0m\u001b[33mnegative_slope\u001b[0m=\u001b[1;36m0\u001b[0m\u001b[1;36m.01\u001b[0m\u001b[1m)\u001b[0m                                  \n",
       "                                   \u001b[1m(\u001b[0mact04\u001b[1m)\u001b[0m: PolyAct\u001b[1m(\u001b[0m                                         \n",
       "                                     \u001b[1m(\u001b[0morig_act\u001b[1m)\u001b[0m: Sin\u001b[1m(\u001b[0m\u001b[1m)\u001b[0m                                       \n",
       "                                   \u001b[1m)\u001b[0m \u001b[33mmax_degree\u001b[0m=\u001b[1;36m3\u001b[0m \u001b[33mfeatures\u001b[0m=\u001b[1;36m6\u001b[0m                                 \n",
       "                                   \u001b[1m(\u001b[0mfc01\u001b[1m)\u001b[0m:                                                   \n",
       "                             CombinedQuadraticLayer\u001b[1m(\u001b[0m\u001b[33minf\u001b[0m=\u001b[1;36m20\u001b[0m, \u001b[33moutf\u001b[0m=\u001b[1;36m512\u001b[0m,                        \n",
       "                             \u001b[33mn_models\u001b[0m=\u001b[1;36m6\u001b[0m\u001b[1m)\u001b[0m                                                     \n",
       "                                   \u001b[1m(\u001b[0mfc02\u001b[1m)\u001b[0m:                                                   \n",
       "                             CombinedLinearLayer\u001b[1m(\u001b[0m\u001b[33minf\u001b[0m=\u001b[1;36m512\u001b[0m, \u001b[33moutf\u001b[0m=\u001b[1;36m512\u001b[0m,                          \n",
       "                             \u001b[33mn_models\u001b[0m=\u001b[1;36m6\u001b[0m\u001b[1m)\u001b[0m                                                     \n",
       "                                   \u001b[1m(\u001b[0mfc03\u001b[1m)\u001b[0m:                                                   \n",
       "                             CombinedLinearLayer\u001b[1m(\u001b[0m\u001b[33minf\u001b[0m=\u001b[1;36m512\u001b[0m, \u001b[33moutf\u001b[0m=\u001b[1;36m1024\u001b[0m,                         \n",
       "                             \u001b[33mn_models\u001b[0m=\u001b[1;36m6\u001b[0m\u001b[1m)\u001b[0m                                                     \n",
       "                                   \u001b[1m(\u001b[0mfc04\u001b[1m)\u001b[0m:                                                   \n",
       "                             CombinedLinearLayer\u001b[1m(\u001b[0m\u001b[33minf\u001b[0m=\u001b[1;36m1024\u001b[0m, \u001b[33moutf\u001b[0m=\u001b[1;36m1\u001b[0m,                           \n",
       "                             \u001b[33mn_models\u001b[0m=\u001b[1;36m6\u001b[0m\u001b[1m)\u001b[0m                                                     \n",
       "                                 \u001b[1m)\u001b[0m \u001b[33minput_dim\u001b[0m=\u001b[1;36m20\u001b[0m \u001b[33moutput_dim\u001b[0m=\u001b[1;36m1\u001b[0m                                 \n",
       "                             \u001b[33mskips\u001b[0m=\u001b[1m[\u001b[0m\u001b[3;91mFalse\u001b[0m, \u001b[3;91mFalse\u001b[0m, \u001b[3;91mFalse\u001b[0m, \u001b[3;91mFalse\u001b[0m\u001b[1m]\u001b[0m                              \n",
       "                             \u001b[33mact\u001b[0m=\u001b[1m[\u001b[0mLeakyReLU\u001b[1m(\u001b[0m\u001b[33mnegative_slope\u001b[0m=\u001b[1;36m0\u001b[0m\u001b[1;36m.01\u001b[0m\u001b[1m)\u001b[0m,                            \n",
       "                             LeakyReLU\u001b[1m(\u001b[0m\u001b[33mnegative_slope\u001b[0m=\u001b[1;36m0\u001b[0m\u001b[1;36m.01\u001b[0m\u001b[1m)\u001b[0m,                                 \n",
       "                             LeakyReLU\u001b[1m(\u001b[0m\u001b[33mnegative_slope\u001b[0m=\u001b[1;36m0\u001b[0m\u001b[1;36m.01\u001b[0m\u001b[1m)\u001b[0m, PolyAct\u001b[1m(\u001b[0m                        \n",
       "                                   \u001b[1m(\u001b[0morig_act\u001b[1m)\u001b[0m: Sin\u001b[1m(\u001b[0m\u001b[1m)\u001b[0m                                         \n",
       "                                 \u001b[1m)\u001b[0m \u001b[33mmax_degree\u001b[0m=\u001b[1;36m3\u001b[0m \u001b[33mfeatures\u001b[0m=\u001b[1;36m6\u001b[0m\u001b[1m]\u001b[0m                                  \n",
       "                             \u001b[33mhidden_sizes\u001b[0m=\u001b[1m[\u001b[0m\u001b[1;36m512\u001b[0m, \u001b[1;36m512\u001b[0m, \u001b[1;36m1024\u001b[0m\u001b[1m]\u001b[0m                                   \n",
       "                             \u001b[33mlayers\u001b[0m=\u001b[1m[\u001b[0m\u001b[1m<\u001b[0m\u001b[1;95mclass\u001b[0m\u001b[39m \u001b[0m\u001b[32m'sparse_causal_model_lear\u001b[0m                        \n",
       "                             \u001b[32mner_rl.trainable.combined.CombinedQuadra\u001b[0m                        \n",
       "                             \u001b[32mticLayer'\u001b[0m\u001b[1m>\u001b[0m, \u001b[1m<\u001b[0m\u001b[1;95mclass\u001b[0m\u001b[39m \u001b[0m\u001b[32m'sparse_causal_model_\u001b[0m                        \n",
       "                             \u001b[32mlearner_rl.trainable.combined.CombinedLi\u001b[0m                        \n",
       "                             \u001b[32mnearLayer'\u001b[0m\u001b[1m>\u001b[0m, \u001b[1m<\u001b[0m\u001b[1;95mclass\u001b[0m\u001b[39m \u001b[0m\u001b[32m'sparse_causal_model\u001b[0m                        \n",
       "                             \u001b[32m_learner_rl.trainable.combined.CombinedL\u001b[0m                        \n",
       "                             \u001b[32minearLayer'\u001b[0m\u001b[1m>\u001b[0m, \u001b[1m<\u001b[0m\u001b[1;95mclass\u001b[0m\u001b[39m \u001b[0m\u001b[32m'sparse_causal_mode\u001b[0m                        \n",
       "                             \u001b[32ml_learner_rl.trainable.combined.Combined\u001b[0m                        \n",
       "                             \u001b[32mLinearLayer'\u001b[0m\u001b[1m>\u001b[0m\u001b[1m]\u001b[0m                                                  \n",
       "                               \u001b[1m)\u001b[0m                                                             \n",
       "                             \u001b[1m)\u001b[0m \u001b[33mpredict_change\u001b[0m=\u001b[3;91mFalse\u001b[0m                                          \n"
      ]
     },
     "metadata": {},
     "output_type": "display_data"
    },
    {
     "data": {
      "text/html": [
       "<pre style=\"white-space:pre;overflow-x:auto;line-height:normal;font-family:Menlo,'DejaVu Sans Mono',consolas,'Courier New',monospace\"><span style=\"color: #7fbfbf; text-decoration-color: #7fbfbf\">                    </span><span style=\"color: #000080; text-decoration-color: #000080\">INFO    </span> INFO:root:Potential trainable decoder:    <a href=\"file:///home/sergei/causality-disentanglement-rl/sparse_causal_model_learner_rl/learners/abstract_learner.py\"><span style=\"color: #7f7f7f; text-decoration-color: #7f7f7f\">abstract_learner.py</span></a><span style=\"color: #7f7f7f; text-decoration-color: #7f7f7f\">:97</span>\n",
       "                             Transform high-dimensional observation                          \n",
       "                             into low-dimensional features                                   \n",
       "</pre>\n"
      ],
      "text/plain": [
       "\u001b[2;36m                   \u001b[0m\u001b[2;36m \u001b[0m\u001b[34mINFO    \u001b[0m INFO:root:Potential trainable decoder:    \u001b]8;id=1618483047.9220405-203579;file:///home/sergei/causality-disentanglement-rl/sparse_causal_model_learner_rl/learners/abstract_learner.py\u001b\\\u001b[2mabstract_learner.py\u001b[0m\u001b]8;;\u001b\\\u001b[2m:97\u001b[0m\n",
       "                             Transform high-dimensional observation                          \n",
       "                             into low-dimensional features                                   \n"
      ]
     },
     "metadata": {},
     "output_type": "display_data"
    },
    {
     "data": {
      "text/html": [
       "<pre style=\"white-space:pre;overflow-x:auto;line-height:normal;font-family:Menlo,'DejaVu Sans Mono',consolas,'Courier New',monospace\"><span style=\"color: #7fbfbf; text-decoration-color: #7fbfbf\">                    </span><span style=\"color: #000080; text-decoration-color: #000080\">INFO    </span> INFO:root:Passing <span style=\"font-weight: bold\">&lt;</span><span style=\"color: #ff00ff; text-decoration-color: #ff00ff; font-weight: bold\">class</span><span style=\"color: #000000; text-decoration-color: #000000\"> </span><span style=\"color: #008000; text-decoration-color: #008000\">'sparse_causal_</span> <a href=\"file:///home/sergei/causality-disentanglement-rl/sparse_causal_model_learner_rl/learners/abstract_learner.py\"><span style=\"color: #7f7f7f; text-decoration-color: #7f7f7f\">abstract_learner.py</span></a><span style=\"color: #7f7f7f; text-decoration-color: #7f7f7f\">:102</span>\n",
       "                             <span style=\"color: #008000; text-decoration-color: #008000\">model_learner_rl.trainable.decoder.Model</span>                        \n",
       "                             <span style=\"color: #008000; text-decoration-color: #008000\">Decoder'</span><span style=\"font-weight: bold\">&gt;</span> for decoder                                           \n",
       "</pre>\n"
      ],
      "text/plain": [
       "\u001b[2;36m                   \u001b[0m\u001b[2;36m \u001b[0m\u001b[34mINFO    \u001b[0m INFO:root:Passing \u001b[1m<\u001b[0m\u001b[1;95mclass\u001b[0m\u001b[39m \u001b[0m\u001b[32m'sparse_causal_\u001b[0m \u001b]8;id=1618483047.9247358-261953;file:///home/sergei/causality-disentanglement-rl/sparse_causal_model_learner_rl/learners/abstract_learner.py\u001b\\\u001b[2mabstract_learner.py\u001b[0m\u001b]8;;\u001b\\\u001b[2m:102\u001b[0m\n",
       "                             \u001b[32mmodel_learner_rl.trainable.decoder.Model\u001b[0m                        \n",
       "                             \u001b[32mDecoder'\u001b[0m\u001b[1m>\u001b[0m for decoder                                           \n"
      ]
     },
     "metadata": {},
     "output_type": "display_data"
    },
    {
     "name": "stdout",
     "output_type": "stream",
     "text": [
      "[False, False]\n",
      "[210, 1024, 1] 6\n"
     ]
    },
    {
     "data": {
      "text/html": [
       "<pre style=\"white-space:pre;overflow-x:auto;line-height:normal;font-family:Menlo,'DejaVu Sans Mono',consolas,'Courier New',monospace\"><span style=\"color: #7fbfbf; text-decoration-color: #7fbfbf\">                    </span><span style=\"color: #000080; text-decoration-color: #000080\">INFO    </span> INFO:root:Created trainable decoder      <a href=\"file:///home/sergei/causality-disentanglement-rl/sparse_causal_model_learner_rl/learners/abstract_learner.py\"><span style=\"color: #7f7f7f; text-decoration-color: #7f7f7f\">abstract_learner.py</span></a><span style=\"color: #7f7f7f; text-decoration-color: #7f7f7f\">:106</span>\n",
       "</pre>\n"
      ],
      "text/plain": [
       "\u001b[2;36m                   \u001b[0m\u001b[2;36m \u001b[0m\u001b[34mINFO    \u001b[0m INFO:root:Created trainable decoder      \u001b]8;id=1618483047.939356-387189;file:///home/sergei/causality-disentanglement-rl/sparse_causal_model_learner_rl/learners/abstract_learner.py\u001b\\\u001b[2mabstract_learner.py\u001b[0m\u001b]8;;\u001b\\\u001b[2m:106\u001b[0m\n"
      ]
     },
     "metadata": {},
     "output_type": "display_data"
    },
    {
     "data": {
      "text/html": [
       "<pre style=\"white-space:pre;overflow-x:auto;line-height:normal;font-family:Menlo,'DejaVu Sans Mono',consolas,'Courier New',monospace\"><span style=\"color: #7fbfbf; text-decoration-color: #7fbfbf\">                    </span><span style=\"color: #000080; text-decoration-color: #000080\">INFO    </span> INFO:root:ModelDecoder<span style=\"font-weight: bold\">(</span>                  <a href=\"file:///home/sergei/causality-disentanglement-rl/sparse_causal_model_learner_rl/learners/abstract_learner.py\"><span style=\"color: #7f7f7f; text-decoration-color: #7f7f7f\">abstract_learner.py</span></a><span style=\"color: #7f7f7f; text-decoration-color: #7f7f7f\">:107</span>\n",
       "                               <span style=\"font-weight: bold\">(</span>model<span style=\"font-weight: bold\">)</span>: FCCombinedModel<span style=\"font-weight: bold\">(</span>                                     \n",
       "                                 <span style=\"font-weight: bold\">(</span>act01<span style=\"font-weight: bold\">)</span>:                                                    \n",
       "                             LeakyReLU<span style=\"font-weight: bold\">(</span><span style=\"color: #808000; text-decoration-color: #808000\">negative_slope</span>=<span style=\"color: #008080; text-decoration-color: #008080; font-weight: bold\">0.01</span><span style=\"font-weight: bold\">)</span>                                  \n",
       "                                 <span style=\"font-weight: bold\">(</span>act02<span style=\"font-weight: bold\">)</span>: PolyAct<span style=\"font-weight: bold\">(</span>                                           \n",
       "                                   <span style=\"font-weight: bold\">(</span>orig_act<span style=\"font-weight: bold\">)</span>: Sin<span style=\"font-weight: bold\">()</span>                                         \n",
       "                                 <span style=\"font-weight: bold\">)</span> <span style=\"color: #808000; text-decoration-color: #808000\">max_degree</span>=<span style=\"color: #008080; text-decoration-color: #008080; font-weight: bold\">3</span> <span style=\"color: #808000; text-decoration-color: #808000\">features</span>=<span style=\"color: #008080; text-decoration-color: #008080; font-weight: bold\">6</span>                                   \n",
       "                                 <span style=\"font-weight: bold\">(</span>fc01<span style=\"font-weight: bold\">)</span>: CombinedLinearLayer<span style=\"font-weight: bold\">(</span><span style=\"color: #808000; text-decoration-color: #808000\">inf</span>=<span style=\"color: #008080; text-decoration-color: #008080; font-weight: bold\">210</span>,                        \n",
       "                             <span style=\"color: #808000; text-decoration-color: #808000\">outf</span>=<span style=\"color: #008080; text-decoration-color: #008080; font-weight: bold\">1024</span>, <span style=\"color: #808000; text-decoration-color: #808000\">n_models</span>=<span style=\"color: #008080; text-decoration-color: #008080; font-weight: bold\">6</span><span style=\"font-weight: bold\">)</span>                                          \n",
       "                                 <span style=\"font-weight: bold\">(</span>fc02<span style=\"font-weight: bold\">)</span>:                                                     \n",
       "                             CombinedLinearLayer<span style=\"font-weight: bold\">(</span><span style=\"color: #808000; text-decoration-color: #808000\">inf</span>=<span style=\"color: #008080; text-decoration-color: #008080; font-weight: bold\">1024</span>, <span style=\"color: #808000; text-decoration-color: #808000\">outf</span>=<span style=\"color: #008080; text-decoration-color: #008080; font-weight: bold\">1</span>,                           \n",
       "                             <span style=\"color: #808000; text-decoration-color: #808000\">n_models</span>=<span style=\"color: #008080; text-decoration-color: #008080; font-weight: bold\">6</span><span style=\"font-weight: bold\">)</span>                                                     \n",
       "                               <span style=\"font-weight: bold\">)</span> <span style=\"color: #808000; text-decoration-color: #808000\">input_dim</span>=<span style=\"color: #008080; text-decoration-color: #008080; font-weight: bold\">210</span> <span style=\"color: #808000; text-decoration-color: #808000\">output_dim</span>=<span style=\"color: #008080; text-decoration-color: #008080; font-weight: bold\">1</span>                                  \n",
       "                             <span style=\"color: #808000; text-decoration-color: #808000\">skips</span>=<span style=\"font-weight: bold\">[</span><span style=\"color: #ff0000; text-decoration-color: #ff0000; font-style: italic\">False</span>, <span style=\"color: #ff0000; text-decoration-color: #ff0000; font-style: italic\">False</span><span style=\"font-weight: bold\">]</span>                                            \n",
       "                             <span style=\"color: #808000; text-decoration-color: #808000\">act</span>=<span style=\"font-weight: bold\">[</span>LeakyReLU<span style=\"font-weight: bold\">(</span><span style=\"color: #808000; text-decoration-color: #808000\">negative_slope</span>=<span style=\"color: #008080; text-decoration-color: #008080; font-weight: bold\">0.01</span><span style=\"font-weight: bold\">)</span>,                            \n",
       "                             PolyAct<span style=\"font-weight: bold\">(</span>                                                        \n",
       "                                 <span style=\"font-weight: bold\">(</span>orig_act<span style=\"font-weight: bold\">)</span>: Sin<span style=\"font-weight: bold\">()</span>                                           \n",
       "                               <span style=\"font-weight: bold\">)</span> <span style=\"color: #808000; text-decoration-color: #808000\">max_degree</span>=<span style=\"color: #008080; text-decoration-color: #008080; font-weight: bold\">3</span> <span style=\"color: #808000; text-decoration-color: #808000\">features</span>=<span style=\"color: #008080; text-decoration-color: #008080; font-weight: bold\">6</span><span style=\"font-weight: bold\">]</span>                                    \n",
       "                             <span style=\"color: #808000; text-decoration-color: #808000\">hidden_sizes</span>=<span style=\"font-weight: bold\">[</span><span style=\"color: #008080; text-decoration-color: #008080; font-weight: bold\">1024</span><span style=\"font-weight: bold\">]</span> <span style=\"color: #808000; text-decoration-color: #808000\">layers</span>=<span style=\"font-weight: bold\">[&lt;</span><span style=\"color: #ff00ff; text-decoration-color: #ff00ff; font-weight: bold\">class</span><span style=\"color: #000000; text-decoration-color: #000000\"> </span><span style=\"color: #008000; text-decoration-color: #008000\">'spar</span>                        \n",
       "                             <span style=\"color: #008000; text-decoration-color: #008000\">se_causal_model_learner_rl.trainable.com</span>                        \n",
       "                             <span style=\"color: #008000; text-decoration-color: #008000\">bined.CombinedLinearLayer'</span><span style=\"font-weight: bold\">&gt;</span>, <span style=\"font-weight: bold\">&lt;</span><span style=\"color: #ff00ff; text-decoration-color: #ff00ff; font-weight: bold\">class</span><span style=\"color: #000000; text-decoration-color: #000000\"> </span><span style=\"color: #008000; text-decoration-color: #008000\">'spa</span>                        \n",
       "                             <span style=\"color: #008000; text-decoration-color: #008000\">rse_causal_model_learner_rl.trainable.co</span>                        \n",
       "                             <span style=\"color: #008000; text-decoration-color: #008000\">mbined.CombinedLinearLayer'</span><span style=\"font-weight: bold\">&gt;]</span>                                   \n",
       "                             <span style=\"font-weight: bold\">)</span> <span style=\"color: #808000; text-decoration-color: #808000\">flatten</span>=<span style=\"color: #00ff00; text-decoration-color: #00ff00; font-style: italic\">True</span> <span style=\"color: #808000; text-decoration-color: #808000\">model_obs_shape</span>=<span style=\"font-weight: bold\">(</span><span style=\"color: #008080; text-decoration-color: #008080; font-weight: bold\">210</span>,<span style=\"font-weight: bold\">)</span>                           \n",
       "                             <span style=\"color: #808000; text-decoration-color: #808000\">obs_shape</span>=<span style=\"font-weight: bold\">(</span><span style=\"color: #008080; text-decoration-color: #008080; font-weight: bold\">10</span>, <span style=\"color: #008080; text-decoration-color: #008080; font-weight: bold\">7</span>, <span style=\"color: #008080; text-decoration-color: #008080; font-weight: bold\">3</span><span style=\"font-weight: bold\">)</span> <span style=\"color: #808000; text-decoration-color: #808000\">feature_shape</span>=<span style=\"font-weight: bold\">(</span><span style=\"color: #008080; text-decoration-color: #008080; font-weight: bold\">6</span>,<span style=\"font-weight: bold\">)</span>                         \n",
       "</pre>\n"
      ],
      "text/plain": [
       "\u001b[2;36m                   \u001b[0m\u001b[2;36m \u001b[0m\u001b[34mINFO    \u001b[0m INFO:root:ModelDecoder\u001b[1m(\u001b[0m                  \u001b]8;id=1618483047.9485278-328007;file:///home/sergei/causality-disentanglement-rl/sparse_causal_model_learner_rl/learners/abstract_learner.py\u001b\\\u001b[2mabstract_learner.py\u001b[0m\u001b]8;;\u001b\\\u001b[2m:107\u001b[0m\n",
       "                               \u001b[1m(\u001b[0mmodel\u001b[1m)\u001b[0m: FCCombinedModel\u001b[1m(\u001b[0m                                     \n",
       "                                 \u001b[1m(\u001b[0mact01\u001b[1m)\u001b[0m:                                                    \n",
       "                             LeakyReLU\u001b[1m(\u001b[0m\u001b[33mnegative_slope\u001b[0m=\u001b[1;36m0\u001b[0m\u001b[1;36m.01\u001b[0m\u001b[1m)\u001b[0m                                  \n",
       "                                 \u001b[1m(\u001b[0mact02\u001b[1m)\u001b[0m: PolyAct\u001b[1m(\u001b[0m                                           \n",
       "                                   \u001b[1m(\u001b[0morig_act\u001b[1m)\u001b[0m: Sin\u001b[1m(\u001b[0m\u001b[1m)\u001b[0m                                         \n",
       "                                 \u001b[1m)\u001b[0m \u001b[33mmax_degree\u001b[0m=\u001b[1;36m3\u001b[0m \u001b[33mfeatures\u001b[0m=\u001b[1;36m6\u001b[0m                                   \n",
       "                                 \u001b[1m(\u001b[0mfc01\u001b[1m)\u001b[0m: CombinedLinearLayer\u001b[1m(\u001b[0m\u001b[33minf\u001b[0m=\u001b[1;36m210\u001b[0m,                        \n",
       "                             \u001b[33moutf\u001b[0m=\u001b[1;36m1024\u001b[0m, \u001b[33mn_models\u001b[0m=\u001b[1;36m6\u001b[0m\u001b[1m)\u001b[0m                                          \n",
       "                                 \u001b[1m(\u001b[0mfc02\u001b[1m)\u001b[0m:                                                     \n",
       "                             CombinedLinearLayer\u001b[1m(\u001b[0m\u001b[33minf\u001b[0m=\u001b[1;36m1024\u001b[0m, \u001b[33moutf\u001b[0m=\u001b[1;36m1\u001b[0m,                           \n",
       "                             \u001b[33mn_models\u001b[0m=\u001b[1;36m6\u001b[0m\u001b[1m)\u001b[0m                                                     \n",
       "                               \u001b[1m)\u001b[0m \u001b[33minput_dim\u001b[0m=\u001b[1;36m210\u001b[0m \u001b[33moutput_dim\u001b[0m=\u001b[1;36m1\u001b[0m                                  \n",
       "                             \u001b[33mskips\u001b[0m=\u001b[1m[\u001b[0m\u001b[3;91mFalse\u001b[0m, \u001b[3;91mFalse\u001b[0m\u001b[1m]\u001b[0m                                            \n",
       "                             \u001b[33mact\u001b[0m=\u001b[1m[\u001b[0mLeakyReLU\u001b[1m(\u001b[0m\u001b[33mnegative_slope\u001b[0m=\u001b[1;36m0\u001b[0m\u001b[1;36m.01\u001b[0m\u001b[1m)\u001b[0m,                            \n",
       "                             PolyAct\u001b[1m(\u001b[0m                                                        \n",
       "                                 \u001b[1m(\u001b[0morig_act\u001b[1m)\u001b[0m: Sin\u001b[1m(\u001b[0m\u001b[1m)\u001b[0m                                           \n",
       "                               \u001b[1m)\u001b[0m \u001b[33mmax_degree\u001b[0m=\u001b[1;36m3\u001b[0m \u001b[33mfeatures\u001b[0m=\u001b[1;36m6\u001b[0m\u001b[1m]\u001b[0m                                    \n",
       "                             \u001b[33mhidden_sizes\u001b[0m=\u001b[1m[\u001b[0m\u001b[1;36m1024\u001b[0m\u001b[1m]\u001b[0m \u001b[33mlayers\u001b[0m=\u001b[1m[\u001b[0m\u001b[1m<\u001b[0m\u001b[1;95mclass\u001b[0m\u001b[39m \u001b[0m\u001b[32m'spar\u001b[0m                        \n",
       "                             \u001b[32mse_causal_model_learner_rl.trainable.com\u001b[0m                        \n",
       "                             \u001b[32mbined.CombinedLinearLayer'\u001b[0m\u001b[1m>\u001b[0m, \u001b[1m<\u001b[0m\u001b[1;95mclass\u001b[0m\u001b[39m \u001b[0m\u001b[32m'spa\u001b[0m                        \n",
       "                             \u001b[32mrse_causal_model_learner_rl.trainable.co\u001b[0m                        \n",
       "                             \u001b[32mmbined.CombinedLinearLayer'\u001b[0m\u001b[1m>\u001b[0m\u001b[1m]\u001b[0m                                   \n",
       "                             \u001b[1m)\u001b[0m \u001b[33mflatten\u001b[0m=\u001b[3;92mTrue\u001b[0m \u001b[33mmodel_obs_shape\u001b[0m=\u001b[1m(\u001b[0m\u001b[1;36m210\u001b[0m,\u001b[1m)\u001b[0m                           \n",
       "                             \u001b[33mobs_shape\u001b[0m=\u001b[1m(\u001b[0m\u001b[1;36m10\u001b[0m, \u001b[1;36m7\u001b[0m, \u001b[1;36m3\u001b[0m\u001b[1m)\u001b[0m \u001b[33mfeature_shape\u001b[0m=\u001b[1m(\u001b[0m\u001b[1;36m6\u001b[0m,\u001b[1m)\u001b[0m                         \n"
      ]
     },
     "metadata": {},
     "output_type": "display_data"
    },
    {
     "data": {
      "text/html": [
       "<pre style=\"white-space:pre;overflow-x:auto;line-height:normal;font-family:Menlo,'DejaVu Sans Mono',consolas,'Courier New',monospace\"><span style=\"color: #7fbfbf; text-decoration-color: #7fbfbf\">                    </span><span style=\"color: #000080; text-decoration-color: #000080\">INFO    </span> INFO:root:Potential trainable             <a href=\"file:///home/sergei/causality-disentanglement-rl/sparse_causal_model_learner_rl/learners/abstract_learner.py\"><span style=\"color: #7f7f7f; text-decoration-color: #7f7f7f\">abstract_learner.py</span></a><span style=\"color: #7f7f7f; text-decoration-color: #7f7f7f\">:97</span>\n",
       "                             reconstructor: Predict the original                             \n",
       "                             observation from features                                       \n",
       "</pre>\n"
      ],
      "text/plain": [
       "\u001b[2;36m                   \u001b[0m\u001b[2;36m \u001b[0m\u001b[34mINFO    \u001b[0m INFO:root:Potential trainable             \u001b]8;id=1618483047.9519584-623713;file:///home/sergei/causality-disentanglement-rl/sparse_causal_model_learner_rl/learners/abstract_learner.py\u001b\\\u001b[2mabstract_learner.py\u001b[0m\u001b]8;;\u001b\\\u001b[2m:97\u001b[0m\n",
       "                             reconstructor: Predict the original                             \n",
       "                             observation from features                                       \n"
      ]
     },
     "metadata": {},
     "output_type": "display_data"
    },
    {
     "data": {
      "text/html": [
       "<pre style=\"white-space:pre;overflow-x:auto;line-height:normal;font-family:Menlo,'DejaVu Sans Mono',consolas,'Courier New',monospace\"><span style=\"color: #7fbfbf; text-decoration-color: #7fbfbf\">                    </span><span style=\"color: #000080; text-decoration-color: #000080\">INFO    </span> INFO:root:Passing <span style=\"font-weight: bold\">&lt;</span><span style=\"color: #ff00ff; text-decoration-color: #ff00ff; font-weight: bold\">class</span><span style=\"color: #000000; text-decoration-color: #000000\"> </span><span style=\"color: #008000; text-decoration-color: #008000\">'sparse_causal_</span> <a href=\"file:///home/sergei/causality-disentanglement-rl/sparse_causal_model_learner_rl/learners/abstract_learner.py\"><span style=\"color: #7f7f7f; text-decoration-color: #7f7f7f\">abstract_learner.py</span></a><span style=\"color: #7f7f7f; text-decoration-color: #7f7f7f\">:102</span>\n",
       "                             <span style=\"color: #008000; text-decoration-color: #008000\">model_learner_rl.trainable.reconstructor</span>                        \n",
       "                             <span style=\"color: #008000; text-decoration-color: #008000\">.ModelReconstructor'</span><span style=\"font-weight: bold\">&gt;</span> for reconstructor                         \n",
       "</pre>\n"
      ],
      "text/plain": [
       "\u001b[2;36m                   \u001b[0m\u001b[2;36m \u001b[0m\u001b[34mINFO    \u001b[0m INFO:root:Passing \u001b[1m<\u001b[0m\u001b[1;95mclass\u001b[0m\u001b[39m \u001b[0m\u001b[32m'sparse_causal_\u001b[0m \u001b]8;id=1618483047.9547205-712170;file:///home/sergei/causality-disentanglement-rl/sparse_causal_model_learner_rl/learners/abstract_learner.py\u001b\\\u001b[2mabstract_learner.py\u001b[0m\u001b]8;;\u001b\\\u001b[2m:102\u001b[0m\n",
       "                             \u001b[32mmodel_learner_rl.trainable.reconstructor\u001b[0m                        \n",
       "                             \u001b[32m.ModelReconstructor'\u001b[0m\u001b[1m>\u001b[0m for reconstructor                         \n"
      ]
     },
     "metadata": {},
     "output_type": "display_data"
    },
    {
     "name": "stdout",
     "output_type": "stream",
     "text": [
      "[False, False, False]\n",
      "[6, 256, 128, 1] 210\n"
     ]
    },
    {
     "data": {
      "text/html": [
       "<pre style=\"white-space:pre;overflow-x:auto;line-height:normal;font-family:Menlo,'DejaVu Sans Mono',consolas,'Courier New',monospace\"><span style=\"color: #7fbfbf; text-decoration-color: #7fbfbf\">[04/15/21 12:37:28] </span><span style=\"color: #000080; text-decoration-color: #000080\">INFO    </span> INFO:root:Created trainable              <a href=\"file:///home/sergei/causality-disentanglement-rl/sparse_causal_model_learner_rl/learners/abstract_learner.py\"><span style=\"color: #7f7f7f; text-decoration-color: #7f7f7f\">abstract_learner.py</span></a><span style=\"color: #7f7f7f; text-decoration-color: #7f7f7f\">:106</span>\n",
       "                             reconstructor                                                   \n",
       "</pre>\n"
      ],
      "text/plain": [
       "\u001b[2;36m[04/15/21 12:37:28]\u001b[0m\u001b[2;36m \u001b[0m\u001b[34mINFO    \u001b[0m INFO:root:Created trainable              \u001b]8;id=1618483048.210214-54574;file:///home/sergei/causality-disentanglement-rl/sparse_causal_model_learner_rl/learners/abstract_learner.py\u001b\\\u001b[2mabstract_learner.py\u001b[0m\u001b]8;;\u001b\\\u001b[2m:106\u001b[0m\n",
       "                             reconstructor                                                   \n"
      ]
     },
     "metadata": {},
     "output_type": "display_data"
    },
    {
     "data": {
      "text/html": [
       "<pre style=\"white-space:pre;overflow-x:auto;line-height:normal;font-family:Menlo,'DejaVu Sans Mono',consolas,'Courier New',monospace\"><span style=\"color: #7fbfbf; text-decoration-color: #7fbfbf\">                    </span><span style=\"color: #000080; text-decoration-color: #000080\">INFO    </span> INFO:root:ModelReconstructor<span style=\"font-weight: bold\">(</span>            <a href=\"file:///home/sergei/causality-disentanglement-rl/sparse_causal_model_learner_rl/learners/abstract_learner.py\"><span style=\"color: #7f7f7f; text-decoration-color: #7f7f7f\">abstract_learner.py</span></a><span style=\"color: #7f7f7f; text-decoration-color: #7f7f7f\">:107</span>\n",
       "                               <span style=\"font-weight: bold\">(</span>model<span style=\"font-weight: bold\">)</span>: FCCombinedModel<span style=\"font-weight: bold\">(</span>                                     \n",
       "                                 <span style=\"font-weight: bold\">(</span>act01<span style=\"font-weight: bold\">)</span>:                                                    \n",
       "                             LeakyReLU<span style=\"font-weight: bold\">(</span><span style=\"color: #808000; text-decoration-color: #808000\">negative_slope</span>=<span style=\"color: #008080; text-decoration-color: #008080; font-weight: bold\">0.01</span><span style=\"font-weight: bold\">)</span>                                  \n",
       "                                 <span style=\"font-weight: bold\">(</span>act02<span style=\"font-weight: bold\">)</span>:                                                    \n",
       "                             LeakyReLU<span style=\"font-weight: bold\">(</span><span style=\"color: #808000; text-decoration-color: #808000\">negative_slope</span>=<span style=\"color: #008080; text-decoration-color: #008080; font-weight: bold\">0.01</span><span style=\"font-weight: bold\">)</span>                                  \n",
       "                                 <span style=\"font-weight: bold\">(</span>act03<span style=\"font-weight: bold\">)</span>: PolyAct<span style=\"font-weight: bold\">(</span>                                           \n",
       "                                   <span style=\"font-weight: bold\">(</span>orig_act<span style=\"font-weight: bold\">)</span>: Sin<span style=\"font-weight: bold\">()</span>                                         \n",
       "                                 <span style=\"font-weight: bold\">)</span> <span style=\"color: #808000; text-decoration-color: #808000\">max_degree</span>=<span style=\"color: #008080; text-decoration-color: #008080; font-weight: bold\">3</span> <span style=\"color: #808000; text-decoration-color: #808000\">features</span>=<span style=\"color: #008080; text-decoration-color: #008080; font-weight: bold\">210</span>                                 \n",
       "                                 <span style=\"font-weight: bold\">(</span>fc01<span style=\"font-weight: bold\">)</span>: CombinedLinearLayer<span style=\"font-weight: bold\">(</span><span style=\"color: #808000; text-decoration-color: #808000\">inf</span>=<span style=\"color: #008080; text-decoration-color: #008080; font-weight: bold\">6</span>,                          \n",
       "                             <span style=\"color: #808000; text-decoration-color: #808000\">outf</span>=<span style=\"color: #008080; text-decoration-color: #008080; font-weight: bold\">256</span>, <span style=\"color: #808000; text-decoration-color: #808000\">n_models</span>=<span style=\"color: #008080; text-decoration-color: #008080; font-weight: bold\">210</span><span style=\"font-weight: bold\">)</span>                                         \n",
       "                                 <span style=\"font-weight: bold\">(</span>fc02<span style=\"font-weight: bold\">)</span>: CombinedLinearLayer<span style=\"font-weight: bold\">(</span><span style=\"color: #808000; text-decoration-color: #808000\">inf</span>=<span style=\"color: #008080; text-decoration-color: #008080; font-weight: bold\">256</span>,                        \n",
       "                             <span style=\"color: #808000; text-decoration-color: #808000\">outf</span>=<span style=\"color: #008080; text-decoration-color: #008080; font-weight: bold\">128</span>, <span style=\"color: #808000; text-decoration-color: #808000\">n_models</span>=<span style=\"color: #008080; text-decoration-color: #008080; font-weight: bold\">210</span><span style=\"font-weight: bold\">)</span>                                         \n",
       "                                 <span style=\"font-weight: bold\">(</span>fc03<span style=\"font-weight: bold\">)</span>: CombinedLinearLayer<span style=\"font-weight: bold\">(</span><span style=\"color: #808000; text-decoration-color: #808000\">inf</span>=<span style=\"color: #008080; text-decoration-color: #008080; font-weight: bold\">128</span>,                        \n",
       "                             <span style=\"color: #808000; text-decoration-color: #808000\">outf</span>=<span style=\"color: #008080; text-decoration-color: #008080; font-weight: bold\">1</span>, <span style=\"color: #808000; text-decoration-color: #808000\">n_models</span>=<span style=\"color: #008080; text-decoration-color: #008080; font-weight: bold\">210</span><span style=\"font-weight: bold\">)</span>                                           \n",
       "                               <span style=\"font-weight: bold\">)</span> <span style=\"color: #808000; text-decoration-color: #808000\">input_dim</span>=<span style=\"color: #008080; text-decoration-color: #008080; font-weight: bold\">6</span> <span style=\"color: #808000; text-decoration-color: #808000\">output_dim</span>=<span style=\"color: #008080; text-decoration-color: #008080; font-weight: bold\">1</span>                                    \n",
       "                             <span style=\"color: #808000; text-decoration-color: #808000\">skips</span>=<span style=\"font-weight: bold\">[</span><span style=\"color: #ff0000; text-decoration-color: #ff0000; font-style: italic\">False</span>, <span style=\"color: #ff0000; text-decoration-color: #ff0000; font-style: italic\">False</span>, <span style=\"color: #ff0000; text-decoration-color: #ff0000; font-style: italic\">False</span><span style=\"font-weight: bold\">]</span>                                     \n",
       "                             <span style=\"color: #808000; text-decoration-color: #808000\">act</span>=<span style=\"font-weight: bold\">[</span>LeakyReLU<span style=\"font-weight: bold\">(</span><span style=\"color: #808000; text-decoration-color: #808000\">negative_slope</span>=<span style=\"color: #008080; text-decoration-color: #008080; font-weight: bold\">0.01</span><span style=\"font-weight: bold\">)</span>,                            \n",
       "                             LeakyReLU<span style=\"font-weight: bold\">(</span><span style=\"color: #808000; text-decoration-color: #808000\">negative_slope</span>=<span style=\"color: #008080; text-decoration-color: #008080; font-weight: bold\">0.01</span><span style=\"font-weight: bold\">)</span>, PolyAct<span style=\"font-weight: bold\">(</span>                        \n",
       "                                 <span style=\"font-weight: bold\">(</span>orig_act<span style=\"font-weight: bold\">)</span>: Sin<span style=\"font-weight: bold\">()</span>                                           \n",
       "                               <span style=\"font-weight: bold\">)</span> <span style=\"color: #808000; text-decoration-color: #808000\">max_degree</span>=<span style=\"color: #008080; text-decoration-color: #008080; font-weight: bold\">3</span> <span style=\"color: #808000; text-decoration-color: #808000\">features</span>=<span style=\"color: #008080; text-decoration-color: #008080; font-weight: bold\">210</span><span style=\"font-weight: bold\">]</span>                                  \n",
       "                             <span style=\"color: #808000; text-decoration-color: #808000\">hidden_sizes</span>=<span style=\"font-weight: bold\">[</span><span style=\"color: #008080; text-decoration-color: #008080; font-weight: bold\">256</span>, <span style=\"color: #008080; text-decoration-color: #008080; font-weight: bold\">128</span><span style=\"font-weight: bold\">]</span> <span style=\"color: #808000; text-decoration-color: #808000\">layers</span>=<span style=\"font-weight: bold\">[&lt;</span><span style=\"color: #ff00ff; text-decoration-color: #ff00ff; font-weight: bold\">class</span><span style=\"color: #000000; text-decoration-color: #000000\"> </span><span style=\"color: #008000; text-decoration-color: #008000\">'</span>                        \n",
       "                             <span style=\"color: #008000; text-decoration-color: #008000\">sparse_causal_model_learner_rl.trainable</span>                        \n",
       "                             <span style=\"color: #008000; text-decoration-color: #008000\">.combined.CombinedLinearLayer'</span><span style=\"font-weight: bold\">&gt;</span>, <span style=\"font-weight: bold\">&lt;</span><span style=\"color: #ff00ff; text-decoration-color: #ff00ff; font-weight: bold\">class</span><span style=\"color: #000000; text-decoration-color: #000000\"> </span>                        \n",
       "                             <span style=\"color: #008000; text-decoration-color: #008000\">'sparse_causal_model_learner_rl.trainabl</span>                        \n",
       "                             <span style=\"color: #008000; text-decoration-color: #008000\">e.combined.CombinedLinearLayer'</span><span style=\"font-weight: bold\">&gt;</span>, <span style=\"font-weight: bold\">&lt;</span><span style=\"color: #ff00ff; text-decoration-color: #ff00ff; font-weight: bold\">class</span>                        \n",
       "                             <span style=\"color: #008000; text-decoration-color: #008000\">'sparse_causal_model_learner_rl.trainabl</span>                        \n",
       "                             <span style=\"color: #008000; text-decoration-color: #008000\">e.combined.CombinedLinearLayer'</span><span style=\"font-weight: bold\">&gt;]</span>                               \n",
       "                             <span style=\"font-weight: bold\">)</span> <span style=\"color: #808000; text-decoration-color: #808000\">unflatten</span>=<span style=\"color: #00ff00; text-decoration-color: #00ff00; font-style: italic\">True</span> <span style=\"color: #808000; text-decoration-color: #808000\">give_source</span>=<span style=\"color: #ff0000; text-decoration-color: #ff0000; font-style: italic\">False</span>                              \n",
       "                             <span style=\"color: #808000; text-decoration-color: #808000\">model_out_shape</span>=<span style=\"font-weight: bold\">(</span><span style=\"color: #008080; text-decoration-color: #008080; font-weight: bold\">210</span>,<span style=\"font-weight: bold\">)</span> <span style=\"color: #808000; text-decoration-color: #808000\">obs_shape</span>=<span style=\"font-weight: bold\">(</span><span style=\"color: #008080; text-decoration-color: #008080; font-weight: bold\">10</span>, <span style=\"color: #008080; text-decoration-color: #008080; font-weight: bold\">7</span>,                        \n",
       "                             <span style=\"color: #008080; text-decoration-color: #008080; font-weight: bold\">3</span><span style=\"font-weight: bold\">)</span> <span style=\"color: #808000; text-decoration-color: #808000\">feature_shape</span>=<span style=\"font-weight: bold\">(</span><span style=\"color: #008080; text-decoration-color: #008080; font-weight: bold\">6</span>,<span style=\"font-weight: bold\">)</span>                                           \n",
       "</pre>\n"
      ],
      "text/plain": [
       "\u001b[2;36m                   \u001b[0m\u001b[2;36m \u001b[0m\u001b[34mINFO    \u001b[0m INFO:root:ModelReconstructor\u001b[1m(\u001b[0m            \u001b]8;id=1618483048.2177339-432454;file:///home/sergei/causality-disentanglement-rl/sparse_causal_model_learner_rl/learners/abstract_learner.py\u001b\\\u001b[2mabstract_learner.py\u001b[0m\u001b]8;;\u001b\\\u001b[2m:107\u001b[0m\n",
       "                               \u001b[1m(\u001b[0mmodel\u001b[1m)\u001b[0m: FCCombinedModel\u001b[1m(\u001b[0m                                     \n",
       "                                 \u001b[1m(\u001b[0mact01\u001b[1m)\u001b[0m:                                                    \n",
       "                             LeakyReLU\u001b[1m(\u001b[0m\u001b[33mnegative_slope\u001b[0m=\u001b[1;36m0\u001b[0m\u001b[1;36m.01\u001b[0m\u001b[1m)\u001b[0m                                  \n",
       "                                 \u001b[1m(\u001b[0mact02\u001b[1m)\u001b[0m:                                                    \n",
       "                             LeakyReLU\u001b[1m(\u001b[0m\u001b[33mnegative_slope\u001b[0m=\u001b[1;36m0\u001b[0m\u001b[1;36m.01\u001b[0m\u001b[1m)\u001b[0m                                  \n",
       "                                 \u001b[1m(\u001b[0mact03\u001b[1m)\u001b[0m: PolyAct\u001b[1m(\u001b[0m                                           \n",
       "                                   \u001b[1m(\u001b[0morig_act\u001b[1m)\u001b[0m: Sin\u001b[1m(\u001b[0m\u001b[1m)\u001b[0m                                         \n",
       "                                 \u001b[1m)\u001b[0m \u001b[33mmax_degree\u001b[0m=\u001b[1;36m3\u001b[0m \u001b[33mfeatures\u001b[0m=\u001b[1;36m210\u001b[0m                                 \n",
       "                                 \u001b[1m(\u001b[0mfc01\u001b[1m)\u001b[0m: CombinedLinearLayer\u001b[1m(\u001b[0m\u001b[33minf\u001b[0m=\u001b[1;36m6\u001b[0m,                          \n",
       "                             \u001b[33moutf\u001b[0m=\u001b[1;36m256\u001b[0m, \u001b[33mn_models\u001b[0m=\u001b[1;36m210\u001b[0m\u001b[1m)\u001b[0m                                         \n",
       "                                 \u001b[1m(\u001b[0mfc02\u001b[1m)\u001b[0m: CombinedLinearLayer\u001b[1m(\u001b[0m\u001b[33minf\u001b[0m=\u001b[1;36m256\u001b[0m,                        \n",
       "                             \u001b[33moutf\u001b[0m=\u001b[1;36m128\u001b[0m, \u001b[33mn_models\u001b[0m=\u001b[1;36m210\u001b[0m\u001b[1m)\u001b[0m                                         \n",
       "                                 \u001b[1m(\u001b[0mfc03\u001b[1m)\u001b[0m: CombinedLinearLayer\u001b[1m(\u001b[0m\u001b[33minf\u001b[0m=\u001b[1;36m128\u001b[0m,                        \n",
       "                             \u001b[33moutf\u001b[0m=\u001b[1;36m1\u001b[0m, \u001b[33mn_models\u001b[0m=\u001b[1;36m210\u001b[0m\u001b[1m)\u001b[0m                                           \n",
       "                               \u001b[1m)\u001b[0m \u001b[33minput_dim\u001b[0m=\u001b[1;36m6\u001b[0m \u001b[33moutput_dim\u001b[0m=\u001b[1;36m1\u001b[0m                                    \n",
       "                             \u001b[33mskips\u001b[0m=\u001b[1m[\u001b[0m\u001b[3;91mFalse\u001b[0m, \u001b[3;91mFalse\u001b[0m, \u001b[3;91mFalse\u001b[0m\u001b[1m]\u001b[0m                                     \n",
       "                             \u001b[33mact\u001b[0m=\u001b[1m[\u001b[0mLeakyReLU\u001b[1m(\u001b[0m\u001b[33mnegative_slope\u001b[0m=\u001b[1;36m0\u001b[0m\u001b[1;36m.01\u001b[0m\u001b[1m)\u001b[0m,                            \n",
       "                             LeakyReLU\u001b[1m(\u001b[0m\u001b[33mnegative_slope\u001b[0m=\u001b[1;36m0\u001b[0m\u001b[1;36m.01\u001b[0m\u001b[1m)\u001b[0m, PolyAct\u001b[1m(\u001b[0m                        \n",
       "                                 \u001b[1m(\u001b[0morig_act\u001b[1m)\u001b[0m: Sin\u001b[1m(\u001b[0m\u001b[1m)\u001b[0m                                           \n",
       "                               \u001b[1m)\u001b[0m \u001b[33mmax_degree\u001b[0m=\u001b[1;36m3\u001b[0m \u001b[33mfeatures\u001b[0m=\u001b[1;36m210\u001b[0m\u001b[1m]\u001b[0m                                  \n",
       "                             \u001b[33mhidden_sizes\u001b[0m=\u001b[1m[\u001b[0m\u001b[1;36m256\u001b[0m, \u001b[1;36m128\u001b[0m\u001b[1m]\u001b[0m \u001b[33mlayers\u001b[0m=\u001b[1m[\u001b[0m\u001b[1m<\u001b[0m\u001b[1;95mclass\u001b[0m\u001b[39m \u001b[0m\u001b[32m'\u001b[0m                        \n",
       "                             \u001b[32msparse_causal_model_learner_rl.trainable\u001b[0m                        \n",
       "                             \u001b[32m.combined.CombinedLinearLayer'\u001b[0m\u001b[1m>\u001b[0m, \u001b[1m<\u001b[0m\u001b[1;95mclass\u001b[0m\u001b[39m \u001b[0m                        \n",
       "                             \u001b[32m'sparse_causal_model_learner_rl.trainabl\u001b[0m                        \n",
       "                             \u001b[32me.combined.CombinedLinearLayer'\u001b[0m\u001b[1m>\u001b[0m, \u001b[1m<\u001b[0m\u001b[1;95mclass\u001b[0m                        \n",
       "                             \u001b[32m'sparse_causal_model_learner_rl.trainabl\u001b[0m                        \n",
       "                             \u001b[32me.combined.CombinedLinearLayer'\u001b[0m\u001b[1m>\u001b[0m\u001b[1m]\u001b[0m                               \n",
       "                             \u001b[1m)\u001b[0m \u001b[33munflatten\u001b[0m=\u001b[3;92mTrue\u001b[0m \u001b[33mgive_source\u001b[0m=\u001b[3;91mFalse\u001b[0m                              \n",
       "                             \u001b[33mmodel_out_shape\u001b[0m=\u001b[1m(\u001b[0m\u001b[1;36m210\u001b[0m,\u001b[1m)\u001b[0m \u001b[33mobs_shape\u001b[0m=\u001b[1m(\u001b[0m\u001b[1;36m10\u001b[0m, \u001b[1;36m7\u001b[0m,                        \n",
       "                             \u001b[1;36m3\u001b[0m\u001b[1m)\u001b[0m \u001b[33mfeature_shape\u001b[0m=\u001b[1m(\u001b[0m\u001b[1;36m6\u001b[0m,\u001b[1m)\u001b[0m                                           \n"
      ]
     },
     "metadata": {},
     "output_type": "display_data"
    },
    {
     "data": {
      "text/html": [
       "<pre style=\"white-space:pre;overflow-x:auto;line-height:normal;font-family:Menlo,'DejaVu Sans Mono',consolas,'Courier New',monospace\"><span style=\"color: #7fbfbf; text-decoration-color: #7fbfbf\">                    </span><span style=\"color: #000080; text-decoration-color: #000080\">INFO    </span> INFO:root:Potential trainable             <a href=\"file:///home/sergei/causality-disentanglement-rl/sparse_causal_model_learner_rl/learners/abstract_learner.py\"><span style=\"color: #7f7f7f; text-decoration-color: #7f7f7f\">abstract_learner.py</span></a><span style=\"color: #7f7f7f; text-decoration-color: #7f7f7f\">:97</span>\n",
       "                             reconstructor1: Second reconstructor                            \n",
       "</pre>\n"
      ],
      "text/plain": [
       "\u001b[2;36m                   \u001b[0m\u001b[2;36m \u001b[0m\u001b[34mINFO    \u001b[0m INFO:root:Potential trainable             \u001b]8;id=1618483048.2224097-121085;file:///home/sergei/causality-disentanglement-rl/sparse_causal_model_learner_rl/learners/abstract_learner.py\u001b\\\u001b[2mabstract_learner.py\u001b[0m\u001b]8;;\u001b\\\u001b[2m:97\u001b[0m\n",
       "                             reconstructor1: Second reconstructor                            \n"
      ]
     },
     "metadata": {},
     "output_type": "display_data"
    },
    {
     "data": {
      "text/html": [
       "<pre style=\"white-space:pre;overflow-x:auto;line-height:normal;font-family:Menlo,'DejaVu Sans Mono',consolas,'Courier New',monospace\"><span style=\"color: #7fbfbf; text-decoration-color: #7fbfbf\">                    </span><span style=\"color: #800000; text-decoration-color: #800000\">WARNING </span> WARNING:root:No class provided for       <a href=\"file:///home/sergei/causality-disentanglement-rl/sparse_causal_model_learner_rl/learners/abstract_learner.py\"><span style=\"color: #7f7f7f; text-decoration-color: #7f7f7f\">abstract_learner.py</span></a><span style=\"color: #7f7f7f; text-decoration-color: #7f7f7f\">:109</span>\n",
       "                             trainable reconstructor1                                        \n",
       "</pre>\n"
      ],
      "text/plain": [
       "\u001b[2;36m                   \u001b[0m\u001b[2;36m \u001b[0m\u001b[31mWARNING \u001b[0m WARNING:root:No class provided for       \u001b]8;id=1618483048.2247603-448689;file:///home/sergei/causality-disentanglement-rl/sparse_causal_model_learner_rl/learners/abstract_learner.py\u001b\\\u001b[2mabstract_learner.py\u001b[0m\u001b]8;;\u001b\\\u001b[2m:109\u001b[0m\n",
       "                             trainable reconstructor1                                        \n"
      ]
     },
     "metadata": {},
     "output_type": "display_data"
    },
    {
     "data": {
      "text/html": [
       "<pre style=\"white-space:pre;overflow-x:auto;line-height:normal;font-family:Menlo,'DejaVu Sans Mono',consolas,'Courier New',monospace\"><span style=\"color: #7fbfbf; text-decoration-color: #7fbfbf\">                    </span><span style=\"color: #000080; text-decoration-color: #000080\">INFO    </span> INFO:root:Potential trainable             <a href=\"file:///home/sergei/causality-disentanglement-rl/sparse_causal_model_learner_rl/learners/abstract_learner.py\"><span style=\"color: #7f7f7f; text-decoration-color: #7f7f7f\">abstract_learner.py</span></a><span style=\"color: #7f7f7f; text-decoration-color: #7f7f7f\">:97</span>\n",
       "                             value_predictor: Predict value-to-go from                       \n",
       "                             the current features                                            \n",
       "</pre>\n"
      ],
      "text/plain": [
       "\u001b[2;36m                   \u001b[0m\u001b[2;36m \u001b[0m\u001b[34mINFO    \u001b[0m INFO:root:Potential trainable             \u001b]8;id=1618483048.2271557-824246;file:///home/sergei/causality-disentanglement-rl/sparse_causal_model_learner_rl/learners/abstract_learner.py\u001b\\\u001b[2mabstract_learner.py\u001b[0m\u001b]8;;\u001b\\\u001b[2m:97\u001b[0m\n",
       "                             value_predictor: Predict value-to-go from                       \n",
       "                             the current features                                            \n"
      ]
     },
     "metadata": {},
     "output_type": "display_data"
    },
    {
     "data": {
      "text/html": [
       "<pre style=\"white-space:pre;overflow-x:auto;line-height:normal;font-family:Menlo,'DejaVu Sans Mono',consolas,'Courier New',monospace\"><span style=\"color: #7fbfbf; text-decoration-color: #7fbfbf\">                    </span><span style=\"color: #800000; text-decoration-color: #800000\">WARNING </span> WARNING:root:No class provided for       <a href=\"file:///home/sergei/causality-disentanglement-rl/sparse_causal_model_learner_rl/learners/abstract_learner.py\"><span style=\"color: #7f7f7f; text-decoration-color: #7f7f7f\">abstract_learner.py</span></a><span style=\"color: #7f7f7f; text-decoration-color: #7f7f7f\">:109</span>\n",
       "                             trainable value_predictor                                       \n",
       "</pre>\n"
      ],
      "text/plain": [
       "\u001b[2;36m                   \u001b[0m\u001b[2;36m \u001b[0m\u001b[31mWARNING \u001b[0m WARNING:root:No class provided for       \u001b]8;id=1618483048.2293866-764619;file:///home/sergei/causality-disentanglement-rl/sparse_causal_model_learner_rl/learners/abstract_learner.py\u001b\\\u001b[2mabstract_learner.py\u001b[0m\u001b]8;;\u001b\\\u001b[2m:109\u001b[0m\n",
       "                             trainable value_predictor                                       \n"
      ]
     },
     "metadata": {},
     "output_type": "display_data"
    },
    {
     "data": {
      "text/html": [
       "<pre style=\"white-space:pre;overflow-x:auto;line-height:normal;font-family:Menlo,'DejaVu Sans Mono',consolas,'Courier New',monospace\"><span style=\"color: #7fbfbf; text-decoration-color: #7fbfbf\">                    </span><span style=\"color: #000080; text-decoration-color: #000080\">INFO    </span> INFO:root:Potential trainable             <a href=\"file:///home/sergei/causality-disentanglement-rl/sparse_causal_model_learner_rl/learners/abstract_learner.py\"><span style=\"color: #7f7f7f; text-decoration-color: #7f7f7f\">abstract_learner.py</span></a><span style=\"color: #7f7f7f; text-decoration-color: #7f7f7f\">:97</span>\n",
       "                             causal_feature_model_discriminator:                             \n",
       "                             Discriminate between correct and                                \n",
       "                             incorrect of pairs <span style=\"font-weight: bold\">(</span>f1, f2<span style=\"font-weight: bold\">)</span>                                     \n",
       "</pre>\n"
      ],
      "text/plain": [
       "\u001b[2;36m                   \u001b[0m\u001b[2;36m \u001b[0m\u001b[34mINFO    \u001b[0m INFO:root:Potential trainable             \u001b]8;id=1618483048.2326934-719929;file:///home/sergei/causality-disentanglement-rl/sparse_causal_model_learner_rl/learners/abstract_learner.py\u001b\\\u001b[2mabstract_learner.py\u001b[0m\u001b]8;;\u001b\\\u001b[2m:97\u001b[0m\n",
       "                             causal_feature_model_discriminator:                             \n",
       "                             Discriminate between correct and                                \n",
       "                             incorrect of pairs \u001b[1m(\u001b[0mf1, f2\u001b[1m)\u001b[0m                                     \n"
      ]
     },
     "metadata": {},
     "output_type": "display_data"
    },
    {
     "data": {
      "text/html": [
       "<pre style=\"white-space:pre;overflow-x:auto;line-height:normal;font-family:Menlo,'DejaVu Sans Mono',consolas,'Courier New',monospace\"><span style=\"color: #7fbfbf; text-decoration-color: #7fbfbf\">                    </span><span style=\"color: #800000; text-decoration-color: #800000\">WARNING </span> WARNING:root:No class provided for       <a href=\"file:///home/sergei/causality-disentanglement-rl/sparse_causal_model_learner_rl/learners/abstract_learner.py\"><span style=\"color: #7f7f7f; text-decoration-color: #7f7f7f\">abstract_learner.py</span></a><span style=\"color: #7f7f7f; text-decoration-color: #7f7f7f\">:109</span>\n",
       "                             trainable                                                       \n",
       "                             causal_feature_model_discriminator                              \n",
       "</pre>\n"
      ],
      "text/plain": [
       "\u001b[2;36m                   \u001b[0m\u001b[2;36m \u001b[0m\u001b[31mWARNING \u001b[0m WARNING:root:No class provided for       \u001b]8;id=1618483048.2351747-448575;file:///home/sergei/causality-disentanglement-rl/sparse_causal_model_learner_rl/learners/abstract_learner.py\u001b\\\u001b[2mabstract_learner.py\u001b[0m\u001b]8;;\u001b\\\u001b[2m:109\u001b[0m\n",
       "                             trainable                                                       \n",
       "                             causal_feature_model_discriminator                              \n"
      ]
     },
     "metadata": {},
     "output_type": "display_data"
    },
    {
     "data": {
      "text/html": [
       "<pre style=\"white-space:pre;overflow-x:auto;line-height:normal;font-family:Menlo,'DejaVu Sans Mono',consolas,'Courier New',monospace\"><span style=\"color: #7fbfbf; text-decoration-color: #7fbfbf\">                    </span><span style=\"color: #000080; text-decoration-color: #000080\">INFO    </span> INFO:root:Potential trainable             <a href=\"file:///home/sergei/causality-disentanglement-rl/sparse_causal_model_learner_rl/learners/abstract_learner.py\"><span style=\"color: #7f7f7f; text-decoration-color: #7f7f7f\">abstract_learner.py</span></a><span style=\"color: #7f7f7f; text-decoration-color: #7f7f7f\">:97</span>\n",
       "                             decoder_discriminator: Discriminate                             \n",
       "                             between correct and incorrect pairs of                          \n",
       "                             <span style=\"font-weight: bold\">(</span>observation, feature<span style=\"font-weight: bold\">)</span>                                          \n",
       "</pre>\n"
      ],
      "text/plain": [
       "\u001b[2;36m                   \u001b[0m\u001b[2;36m \u001b[0m\u001b[34mINFO    \u001b[0m INFO:root:Potential trainable             \u001b]8;id=1618483048.2377768-357514;file:///home/sergei/causality-disentanglement-rl/sparse_causal_model_learner_rl/learners/abstract_learner.py\u001b\\\u001b[2mabstract_learner.py\u001b[0m\u001b]8;;\u001b\\\u001b[2m:97\u001b[0m\n",
       "                             decoder_discriminator: Discriminate                             \n",
       "                             between correct and incorrect pairs of                          \n",
       "                             \u001b[1m(\u001b[0mobservation, feature\u001b[1m)\u001b[0m                                          \n"
      ]
     },
     "metadata": {},
     "output_type": "display_data"
    },
    {
     "data": {
      "text/html": [
       "<pre style=\"white-space:pre;overflow-x:auto;line-height:normal;font-family:Menlo,'DejaVu Sans Mono',consolas,'Courier New',monospace\"><span style=\"color: #7fbfbf; text-decoration-color: #7fbfbf\">                    </span><span style=\"color: #800000; text-decoration-color: #800000\">WARNING </span> WARNING:root:No class provided for       <a href=\"file:///home/sergei/causality-disentanglement-rl/sparse_causal_model_learner_rl/learners/abstract_learner.py\"><span style=\"color: #7f7f7f; text-decoration-color: #7f7f7f\">abstract_learner.py</span></a><span style=\"color: #7f7f7f; text-decoration-color: #7f7f7f\">:109</span>\n",
       "                             trainable decoder_discriminator                                 \n",
       "</pre>\n"
      ],
      "text/plain": [
       "\u001b[2;36m                   \u001b[0m\u001b[2;36m \u001b[0m\u001b[31mWARNING \u001b[0m WARNING:root:No class provided for       \u001b]8;id=1618483048.2402318-675763;file:///home/sergei/causality-disentanglement-rl/sparse_causal_model_learner_rl/learners/abstract_learner.py\u001b\\\u001b[2mabstract_learner.py\u001b[0m\u001b]8;;\u001b\\\u001b[2m:109\u001b[0m\n",
       "                             trainable decoder_discriminator                                 \n"
      ]
     },
     "metadata": {},
     "output_type": "display_data"
    },
    {
     "data": {
      "text/html": [
       "<pre style=\"white-space:pre;overflow-x:auto;line-height:normal;font-family:Menlo,'DejaVu Sans Mono',consolas,'Courier New',monospace\"><span style=\"color: #7fbfbf; text-decoration-color: #7fbfbf\">                    </span><span style=\"color: #000080; text-decoration-color: #000080\">INFO    </span> INFO:root:Potential trainable             <a href=\"file:///home/sergei/causality-disentanglement-rl/sparse_causal_model_learner_rl/learners/abstract_learner.py\"><span style=\"color: #7f7f7f; text-decoration-color: #7f7f7f\">abstract_learner.py</span></a><span style=\"color: #7f7f7f; text-decoration-color: #7f7f7f\">:97</span>\n",
       "                             non_sparse_model: A model w/o sparsity                          \n",
       "                             constraints used for reference                                  \n",
       "</pre>\n"
      ],
      "text/plain": [
       "\u001b[2;36m                   \u001b[0m\u001b[2;36m \u001b[0m\u001b[34mINFO    \u001b[0m INFO:root:Potential trainable             \u001b]8;id=1618483048.2432103-126467;file:///home/sergei/causality-disentanglement-rl/sparse_causal_model_learner_rl/learners/abstract_learner.py\u001b\\\u001b[2mabstract_learner.py\u001b[0m\u001b]8;;\u001b\\\u001b[2m:97\u001b[0m\n",
       "                             non_sparse_model: A model w/o sparsity                          \n",
       "                             constraints used for reference                                  \n"
      ]
     },
     "metadata": {},
     "output_type": "display_data"
    },
    {
     "data": {
      "text/html": [
       "<pre style=\"white-space:pre;overflow-x:auto;line-height:normal;font-family:Menlo,'DejaVu Sans Mono',consolas,'Courier New',monospace\"><span style=\"color: #7fbfbf; text-decoration-color: #7fbfbf\">                    </span><span style=\"color: #800000; text-decoration-color: #800000\">WARNING </span> WARNING:root:No class provided for       <a href=\"file:///home/sergei/causality-disentanglement-rl/sparse_causal_model_learner_rl/learners/abstract_learner.py\"><span style=\"color: #7f7f7f; text-decoration-color: #7f7f7f\">abstract_learner.py</span></a><span style=\"color: #7f7f7f; text-decoration-color: #7f7f7f\">:109</span>\n",
       "                             trainable non_sparse_model                                      \n",
       "</pre>\n"
      ],
      "text/plain": [
       "\u001b[2;36m                   \u001b[0m\u001b[2;36m \u001b[0m\u001b[31mWARNING \u001b[0m WARNING:root:No class provided for       \u001b]8;id=1618483048.245683-186427;file:///home/sergei/causality-disentanglement-rl/sparse_causal_model_learner_rl/learners/abstract_learner.py\u001b\\\u001b[2mabstract_learner.py\u001b[0m\u001b]8;;\u001b\\\u001b[2m:109\u001b[0m\n",
       "                             trainable non_sparse_model                                      \n"
      ]
     },
     "metadata": {},
     "output_type": "display_data"
    },
    {
     "data": {
      "text/html": [
       "<pre style=\"white-space:pre;overflow-x:auto;line-height:normal;font-family:Menlo,'DejaVu Sans Mono',consolas,'Courier New',monospace\"><span style=\"color: #7fbfbf; text-decoration-color: #7fbfbf\">                    </span><span style=\"color: #000080; text-decoration-color: #000080\">INFO    </span> INFO:root:Potential trainable causal_feat <a href=\"file:///home/sergei/causality-disentanglement-rl/sparse_causal_model_learner_rl/learners/abstract_learner.py\"><span style=\"color: #7f7f7f; text-decoration-color: #7f7f7f\">abstract_learner.py</span></a><span style=\"color: #7f7f7f; text-decoration-color: #7f7f7f\">:97</span>\n",
       "                             ure_action_model_discriminator:                                 \n",
       "                             Discriminate between correct triplets                           \n",
       "                             <span style=\"font-weight: bold\">(</span>f1, a1, f2<span style=\"font-weight: bold\">)</span> and incorrect ones. Takes                          \n",
       "                             additional features as well for the                             \n",
       "                             second argument.                                                \n",
       "</pre>\n"
      ],
      "text/plain": [
       "\u001b[2;36m                   \u001b[0m\u001b[2;36m \u001b[0m\u001b[34mINFO    \u001b[0m INFO:root:Potential trainable causal_feat \u001b]8;id=1618483048.2486172-507766;file:///home/sergei/causality-disentanglement-rl/sparse_causal_model_learner_rl/learners/abstract_learner.py\u001b\\\u001b[2mabstract_learner.py\u001b[0m\u001b]8;;\u001b\\\u001b[2m:97\u001b[0m\n",
       "                             ure_action_model_discriminator:                                 \n",
       "                             Discriminate between correct triplets                           \n",
       "                             \u001b[1m(\u001b[0mf1, a1, f2\u001b[1m)\u001b[0m and incorrect ones. Takes                          \n",
       "                             additional features as well for the                             \n",
       "                             second argument.                                                \n"
      ]
     },
     "metadata": {},
     "output_type": "display_data"
    },
    {
     "data": {
      "text/html": [
       "<pre style=\"white-space:pre;overflow-x:auto;line-height:normal;font-family:Menlo,'DejaVu Sans Mono',consolas,'Courier New',monospace\"><span style=\"color: #7fbfbf; text-decoration-color: #7fbfbf\">                    </span><span style=\"color: #800000; text-decoration-color: #800000\">WARNING </span> WARNING:root:No class provided for       <a href=\"file:///home/sergei/causality-disentanglement-rl/sparse_causal_model_learner_rl/learners/abstract_learner.py\"><span style=\"color: #7f7f7f; text-decoration-color: #7f7f7f\">abstract_learner.py</span></a><span style=\"color: #7f7f7f; text-decoration-color: #7f7f7f\">:109</span>\n",
       "                             trainable causal_feature_action_model_di                        \n",
       "                             scriminator                                                     \n",
       "</pre>\n"
      ],
      "text/plain": [
       "\u001b[2;36m                   \u001b[0m\u001b[2;36m \u001b[0m\u001b[31mWARNING \u001b[0m WARNING:root:No class provided for       \u001b]8;id=1618483048.2510855-419637;file:///home/sergei/causality-disentanglement-rl/sparse_causal_model_learner_rl/learners/abstract_learner.py\u001b\\\u001b[2mabstract_learner.py\u001b[0m\u001b]8;;\u001b\\\u001b[2m:109\u001b[0m\n",
       "                             trainable causal_feature_action_model_di                        \n",
       "                             scriminator                                                     \n"
      ]
     },
     "metadata": {},
     "output_type": "display_data"
    },
    {
     "data": {
      "text/html": [
       "<pre style=\"white-space:pre;overflow-x:auto;line-height:normal;font-family:Menlo,'DejaVu Sans Mono',consolas,'Courier New',monospace\"><span style=\"color: #7fbfbf; text-decoration-color: #7fbfbf\">                    </span><span style=\"color: #000080; text-decoration-color: #000080\">INFO    </span> INFO:root:Potential trainable rot_pre:    <a href=\"file:///home/sergei/causality-disentanglement-rl/sparse_causal_model_learner_rl/learners/abstract_learner.py\"><span style=\"color: #7f7f7f; text-decoration-color: #7f7f7f\">abstract_learner.py</span></a><span style=\"color: #7f7f7f; text-decoration-color: #7f7f7f\">:97</span>\n",
       "                             Transform decoder features to model                             \n",
       "                             features                                                        \n",
       "</pre>\n"
      ],
      "text/plain": [
       "\u001b[2;36m                   \u001b[0m\u001b[2;36m \u001b[0m\u001b[34mINFO    \u001b[0m INFO:root:Potential trainable rot_pre:    \u001b]8;id=1618483048.2543466-200651;file:///home/sergei/causality-disentanglement-rl/sparse_causal_model_learner_rl/learners/abstract_learner.py\u001b\\\u001b[2mabstract_learner.py\u001b[0m\u001b]8;;\u001b\\\u001b[2m:97\u001b[0m\n",
       "                             Transform decoder features to model                             \n",
       "                             features                                                        \n"
      ]
     },
     "metadata": {},
     "output_type": "display_data"
    },
    {
     "data": {
      "text/html": [
       "<pre style=\"white-space:pre;overflow-x:auto;line-height:normal;font-family:Menlo,'DejaVu Sans Mono',consolas,'Courier New',monospace\"><span style=\"color: #7fbfbf; text-decoration-color: #7fbfbf\">                    </span><span style=\"color: #800000; text-decoration-color: #800000\">WARNING </span> WARNING:root:No class provided for       <a href=\"file:///home/sergei/causality-disentanglement-rl/sparse_causal_model_learner_rl/learners/abstract_learner.py\"><span style=\"color: #7f7f7f; text-decoration-color: #7f7f7f\">abstract_learner.py</span></a><span style=\"color: #7f7f7f; text-decoration-color: #7f7f7f\">:109</span>\n",
       "                             trainable rot_pre                                               \n",
       "</pre>\n"
      ],
      "text/plain": [
       "\u001b[2;36m                   \u001b[0m\u001b[2;36m \u001b[0m\u001b[31mWARNING \u001b[0m WARNING:root:No class provided for       \u001b]8;id=1618483048.2569506-294226;file:///home/sergei/causality-disentanglement-rl/sparse_causal_model_learner_rl/learners/abstract_learner.py\u001b\\\u001b[2mabstract_learner.py\u001b[0m\u001b]8;;\u001b\\\u001b[2m:109\u001b[0m\n",
       "                             trainable rot_pre                                               \n"
      ]
     },
     "metadata": {},
     "output_type": "display_data"
    },
    {
     "data": {
      "text/html": [
       "<pre style=\"white-space:pre;overflow-x:auto;line-height:normal;font-family:Menlo,'DejaVu Sans Mono',consolas,'Courier New',monospace\"><span style=\"color: #7fbfbf; text-decoration-color: #7fbfbf\">                    </span><span style=\"color: #000080; text-decoration-color: #000080\">INFO    </span> INFO:root:Potential trainable rot_post:   <a href=\"file:///home/sergei/causality-disentanglement-rl/sparse_causal_model_learner_rl/learners/abstract_learner.py\"><span style=\"color: #7f7f7f; text-decoration-color: #7f7f7f\">abstract_learner.py</span></a><span style=\"color: #7f7f7f; text-decoration-color: #7f7f7f\">:97</span>\n",
       "                             Transform model features to decoder                             \n",
       "                             features                                                        \n",
       "</pre>\n"
      ],
      "text/plain": [
       "\u001b[2;36m                   \u001b[0m\u001b[2;36m \u001b[0m\u001b[34mINFO    \u001b[0m INFO:root:Potential trainable rot_post:   \u001b]8;id=1618483048.2593486-936826;file:///home/sergei/causality-disentanglement-rl/sparse_causal_model_learner_rl/learners/abstract_learner.py\u001b\\\u001b[2mabstract_learner.py\u001b[0m\u001b]8;;\u001b\\\u001b[2m:97\u001b[0m\n",
       "                             Transform model features to decoder                             \n",
       "                             features                                                        \n"
      ]
     },
     "metadata": {},
     "output_type": "display_data"
    },
    {
     "data": {
      "text/html": [
       "<pre style=\"white-space:pre;overflow-x:auto;line-height:normal;font-family:Menlo,'DejaVu Sans Mono',consolas,'Courier New',monospace\"><span style=\"color: #7fbfbf; text-decoration-color: #7fbfbf\">                    </span><span style=\"color: #800000; text-decoration-color: #800000\">WARNING </span> WARNING:root:No class provided for       <a href=\"file:///home/sergei/causality-disentanglement-rl/sparse_causal_model_learner_rl/learners/abstract_learner.py\"><span style=\"color: #7f7f7f; text-decoration-color: #7f7f7f\">abstract_learner.py</span></a><span style=\"color: #7f7f7f; text-decoration-color: #7f7f7f\">:109</span>\n",
       "                             trainable rot_post                                              \n",
       "</pre>\n"
      ],
      "text/plain": [
       "\u001b[2;36m                   \u001b[0m\u001b[2;36m \u001b[0m\u001b[31mWARNING \u001b[0m WARNING:root:No class provided for       \u001b]8;id=1618483048.2620018-377289;file:///home/sergei/causality-disentanglement-rl/sparse_causal_model_learner_rl/learners/abstract_learner.py\u001b\\\u001b[2mabstract_learner.py\u001b[0m\u001b]8;;\u001b\\\u001b[2m:109\u001b[0m\n",
       "                             trainable rot_post                                              \n"
      ]
     },
     "metadata": {},
     "output_type": "display_data"
    },
    {
     "data": {
      "text/html": [
       "<pre style=\"white-space:pre;overflow-x:auto;line-height:normal;font-family:Menlo,'DejaVu Sans Mono',consolas,'Courier New',monospace\"><span style=\"color: #7fbfbf; text-decoration-color: #7fbfbf\">                    </span><span style=\"color: #000080; text-decoration-color: #000080\">INFO    </span> INFO:root:Potential trainable             <a href=\"file:///home/sergei/causality-disentanglement-rl/sparse_causal_model_learner_rl/learners/abstract_learner.py\"><span style=\"color: #7f7f7f; text-decoration-color: #7f7f7f\">abstract_learner.py</span></a><span style=\"color: #7f7f7f; text-decoration-color: #7f7f7f\">:97</span>\n",
       "                             lagrange_multipliers: Lagrange                                  \n",
       "                             multipliers for constrained optimization                        \n",
       "</pre>\n"
      ],
      "text/plain": [
       "\u001b[2;36m                   \u001b[0m\u001b[2;36m \u001b[0m\u001b[34mINFO    \u001b[0m INFO:root:Potential trainable             \u001b]8;id=1618483048.2649345-587243;file:///home/sergei/causality-disentanglement-rl/sparse_causal_model_learner_rl/learners/abstract_learner.py\u001b\\\u001b[2mabstract_learner.py\u001b[0m\u001b]8;;\u001b\\\u001b[2m:97\u001b[0m\n",
       "                             lagrange_multipliers: Lagrange                                  \n",
       "                             multipliers for constrained optimization                        \n"
      ]
     },
     "metadata": {},
     "output_type": "display_data"
    },
    {
     "data": {
      "text/html": [
       "<pre style=\"white-space:pre;overflow-x:auto;line-height:normal;font-family:Menlo,'DejaVu Sans Mono',consolas,'Courier New',monospace\"><span style=\"color: #7fbfbf; text-decoration-color: #7fbfbf\">                    </span><span style=\"color: #000080; text-decoration-color: #000080\">INFO    </span> INFO:root:Passing <span style=\"font-weight: bold\">&lt;</span><span style=\"color: #ff00ff; text-decoration-color: #ff00ff; font-weight: bold\">class</span><span style=\"color: #000000; text-decoration-color: #000000\"> </span><span style=\"color: #008000; text-decoration-color: #008000\">'sparse_causal_</span> <a href=\"file:///home/sergei/causality-disentanglement-rl/sparse_causal_model_learner_rl/learners/abstract_learner.py\"><span style=\"color: #7f7f7f; text-decoration-color: #7f7f7f\">abstract_learner.py</span></a><span style=\"color: #7f7f7f; text-decoration-color: #7f7f7f\">:102</span>\n",
       "                             <span style=\"color: #008000; text-decoration-color: #008000\">model_learner_rl.trainable.lagrange.Lagr</span>                        \n",
       "                             <span style=\"color: #008000; text-decoration-color: #008000\">angeMultipliers'</span><span style=\"font-weight: bold\">&gt;</span> for                                           \n",
       "                             lagrange_multipliers                                            \n",
       "</pre>\n"
      ],
      "text/plain": [
       "\u001b[2;36m                   \u001b[0m\u001b[2;36m \u001b[0m\u001b[34mINFO    \u001b[0m INFO:root:Passing \u001b[1m<\u001b[0m\u001b[1;95mclass\u001b[0m\u001b[39m \u001b[0m\u001b[32m'sparse_causal_\u001b[0m \u001b]8;id=1618483048.267629-986890;file:///home/sergei/causality-disentanglement-rl/sparse_causal_model_learner_rl/learners/abstract_learner.py\u001b\\\u001b[2mabstract_learner.py\u001b[0m\u001b]8;;\u001b\\\u001b[2m:102\u001b[0m\n",
       "                             \u001b[32mmodel_learner_rl.trainable.lagrange.Lagr\u001b[0m                        \n",
       "                             \u001b[32mangeMultipliers'\u001b[0m\u001b[1m>\u001b[0m for                                           \n",
       "                             lagrange_multipliers                                            \n"
      ]
     },
     "metadata": {},
     "output_type": "display_data"
    },
    {
     "data": {
      "text/html": [
       "<pre style=\"white-space:pre;overflow-x:auto;line-height:normal;font-family:Menlo,'DejaVu Sans Mono',consolas,'Courier New',monospace\"><span style=\"color: #7fbfbf; text-decoration-color: #7fbfbf\">                    </span><span style=\"color: #000080; text-decoration-color: #000080\">INFO    </span> INFO:root:Created trainable              <a href=\"file:///home/sergei/causality-disentanglement-rl/sparse_causal_model_learner_rl/learners/abstract_learner.py\"><span style=\"color: #7f7f7f; text-decoration-color: #7f7f7f\">abstract_learner.py</span></a><span style=\"color: #7f7f7f; text-decoration-color: #7f7f7f\">:106</span>\n",
       "                             lagrange_multipliers                                            \n",
       "</pre>\n"
      ],
      "text/plain": [
       "\u001b[2;36m                   \u001b[0m\u001b[2;36m \u001b[0m\u001b[34mINFO    \u001b[0m INFO:root:Created trainable              \u001b]8;id=1618483048.2705767-380813;file:///home/sergei/causality-disentanglement-rl/sparse_causal_model_learner_rl/learners/abstract_learner.py\u001b\\\u001b[2mabstract_learner.py\u001b[0m\u001b]8;;\u001b\\\u001b[2m:106\u001b[0m\n",
       "                             lagrange_multipliers                                            \n"
      ]
     },
     "metadata": {},
     "output_type": "display_data"
    },
    {
     "data": {
      "text/html": [
       "<pre style=\"white-space:pre;overflow-x:auto;line-height:normal;font-family:Menlo,'DejaVu Sans Mono',consolas,'Courier New',monospace\"><span style=\"color: #7fbfbf; text-decoration-color: #7fbfbf\">                    </span><span style=\"color: #000080; text-decoration-color: #000080\">INFO    </span> INFO:root:LagrangeMultipliers<span style=\"font-weight: bold\">(</span><span style=\"color: #808000; text-decoration-color: #808000\">n</span>=<span style=\"color: #008080; text-decoration-color: #008080; font-weight: bold\">14</span>       <a href=\"file:///home/sergei/causality-disentanglement-rl/sparse_causal_model_learner_rl/learners/abstract_learner.py\"><span style=\"color: #7f7f7f; text-decoration-color: #7f7f7f\">abstract_learner.py</span></a><span style=\"color: #7f7f7f; text-decoration-color: #7f7f7f\">:107</span>\n",
       "                             <span style=\"color: #808000; text-decoration-color: #808000\">initialized</span>=<span style=\"font-weight: bold\">[[</span><span style=\"color: #ff0000; text-decoration-color: #ff0000; font-style: italic\">False</span> <span style=\"color: #ff0000; text-decoration-color: #ff0000; font-style: italic\">False</span> <span style=\"color: #ff0000; text-decoration-color: #ff0000; font-style: italic\">False</span> <span style=\"color: #808000; text-decoration-color: #808000\">...</span>                             \n",
       "                             <span style=\"color: #ff0000; text-decoration-color: #ff0000; font-style: italic\">False</span> <span style=\"color: #ff0000; text-decoration-color: #ff0000; font-style: italic\">False</span> <span style=\"color: #ff0000; text-decoration-color: #ff0000; font-style: italic\">False</span><span style=\"font-weight: bold\">]</span>                                              \n",
       "                              <span style=\"font-weight: bold\">[</span><span style=\"color: #ff0000; text-decoration-color: #ff0000; font-style: italic\">False</span> <span style=\"color: #ff0000; text-decoration-color: #ff0000; font-style: italic\">False</span> <span style=\"color: #ff0000; text-decoration-color: #ff0000; font-style: italic\">False</span> <span style=\"color: #808000; text-decoration-color: #808000\">...</span> <span style=\"color: #ff0000; text-decoration-color: #ff0000; font-style: italic\">False</span> <span style=\"color: #ff0000; text-decoration-color: #ff0000; font-style: italic\">False</span>                             \n",
       "                             <span style=\"color: #ff0000; text-decoration-color: #ff0000; font-style: italic\">False</span><span style=\"font-weight: bold\">]</span>                                                          \n",
       "                              <span style=\"font-weight: bold\">[</span><span style=\"color: #ff0000; text-decoration-color: #ff0000; font-style: italic\">False</span> <span style=\"color: #ff0000; text-decoration-color: #ff0000; font-style: italic\">False</span> <span style=\"color: #ff0000; text-decoration-color: #ff0000; font-style: italic\">False</span> <span style=\"color: #808000; text-decoration-color: #808000\">...</span> <span style=\"color: #ff0000; text-decoration-color: #ff0000; font-style: italic\">False</span> <span style=\"color: #ff0000; text-decoration-color: #ff0000; font-style: italic\">False</span>                             \n",
       "                             <span style=\"color: #ff0000; text-decoration-color: #ff0000; font-style: italic\">False</span><span style=\"font-weight: bold\">]</span>                                                          \n",
       "                              <span style=\"color: #808000; text-decoration-color: #808000\">...</span>                                                            \n",
       "                              <span style=\"font-weight: bold\">[</span><span style=\"color: #ff0000; text-decoration-color: #ff0000; font-style: italic\">False</span> <span style=\"color: #ff0000; text-decoration-color: #ff0000; font-style: italic\">False</span> <span style=\"color: #ff0000; text-decoration-color: #ff0000; font-style: italic\">False</span> <span style=\"color: #808000; text-decoration-color: #808000\">...</span> <span style=\"color: #ff0000; text-decoration-color: #ff0000; font-style: italic\">False</span> <span style=\"color: #ff0000; text-decoration-color: #ff0000; font-style: italic\">False</span>                             \n",
       "                             <span style=\"color: #ff0000; text-decoration-color: #ff0000; font-style: italic\">False</span><span style=\"font-weight: bold\">]</span>                                                          \n",
       "                              <span style=\"font-weight: bold\">[</span><span style=\"color: #ff0000; text-decoration-color: #ff0000; font-style: italic\">False</span> <span style=\"color: #ff0000; text-decoration-color: #ff0000; font-style: italic\">False</span> <span style=\"color: #ff0000; text-decoration-color: #ff0000; font-style: italic\">False</span> <span style=\"color: #808000; text-decoration-color: #808000\">...</span> <span style=\"color: #ff0000; text-decoration-color: #ff0000; font-style: italic\">False</span> <span style=\"color: #ff0000; text-decoration-color: #ff0000; font-style: italic\">False</span>                             \n",
       "                             <span style=\"color: #ff0000; text-decoration-color: #ff0000; font-style: italic\">False</span><span style=\"font-weight: bold\">]</span>                                                          \n",
       "                              <span style=\"font-weight: bold\">[</span><span style=\"color: #ff0000; text-decoration-color: #ff0000; font-style: italic\">False</span> <span style=\"color: #ff0000; text-decoration-color: #ff0000; font-style: italic\">False</span> <span style=\"color: #ff0000; text-decoration-color: #ff0000; font-style: italic\">False</span> <span style=\"color: #808000; text-decoration-color: #808000\">...</span> <span style=\"color: #ff0000; text-decoration-color: #ff0000; font-style: italic\">False</span> <span style=\"color: #ff0000; text-decoration-color: #ff0000; font-style: italic\">False</span>                             \n",
       "                             <span style=\"color: #ff0000; text-decoration-color: #ff0000; font-style: italic\">False</span><span style=\"font-weight: bold\">]]</span> <span style=\"color: #808000; text-decoration-color: #808000\">fcn</span>=<span style=\"color: #800080; text-decoration-color: #800080\">exp</span> <span style=\"color: #808000; text-decoration-color: #808000\">param_min</span>=<span style=\"color: #008080; text-decoration-color: #008080; font-weight: bold\">-10</span>                                   \n",
       "                             <span style=\"color: #808000; text-decoration-color: #808000\">param_max</span>=<span style=\"color: #008080; text-decoration-color: #008080; font-weight: bold\">7</span> <span style=\"color: #808000; text-decoration-color: #808000\">vectorized</span>=<span style=\"color: #00ff00; text-decoration-color: #00ff00; font-style: italic\">True</span><span style=\"font-weight: bold\">)</span>                                    \n",
       "</pre>\n"
      ],
      "text/plain": [
       "\u001b[2;36m                   \u001b[0m\u001b[2;36m \u001b[0m\u001b[34mINFO    \u001b[0m INFO:root:LagrangeMultipliers\u001b[1m(\u001b[0m\u001b[33mn\u001b[0m=\u001b[1;36m14\u001b[0m       \u001b]8;id=1618483048.2795746-410232;file:///home/sergei/causality-disentanglement-rl/sparse_causal_model_learner_rl/learners/abstract_learner.py\u001b\\\u001b[2mabstract_learner.py\u001b[0m\u001b]8;;\u001b\\\u001b[2m:107\u001b[0m\n",
       "                             \u001b[33minitialized\u001b[0m=\u001b[1m[\u001b[0m\u001b[1m[\u001b[0m\u001b[3;91mFalse\u001b[0m \u001b[3;91mFalse\u001b[0m \u001b[3;91mFalse\u001b[0m \u001b[33m...\u001b[0m                             \n",
       "                             \u001b[3;91mFalse\u001b[0m \u001b[3;91mFalse\u001b[0m \u001b[3;91mFalse\u001b[0m\u001b[1m]\u001b[0m                                              \n",
       "                              \u001b[1m[\u001b[0m\u001b[3;91mFalse\u001b[0m \u001b[3;91mFalse\u001b[0m \u001b[3;91mFalse\u001b[0m \u001b[33m...\u001b[0m \u001b[3;91mFalse\u001b[0m \u001b[3;91mFalse\u001b[0m                             \n",
       "                             \u001b[3;91mFalse\u001b[0m\u001b[1m]\u001b[0m                                                          \n",
       "                              \u001b[1m[\u001b[0m\u001b[3;91mFalse\u001b[0m \u001b[3;91mFalse\u001b[0m \u001b[3;91mFalse\u001b[0m \u001b[33m...\u001b[0m \u001b[3;91mFalse\u001b[0m \u001b[3;91mFalse\u001b[0m                             \n",
       "                             \u001b[3;91mFalse\u001b[0m\u001b[1m]\u001b[0m                                                          \n",
       "                              \u001b[33m...\u001b[0m                                                            \n",
       "                              \u001b[1m[\u001b[0m\u001b[3;91mFalse\u001b[0m \u001b[3;91mFalse\u001b[0m \u001b[3;91mFalse\u001b[0m \u001b[33m...\u001b[0m \u001b[3;91mFalse\u001b[0m \u001b[3;91mFalse\u001b[0m                             \n",
       "                             \u001b[3;91mFalse\u001b[0m\u001b[1m]\u001b[0m                                                          \n",
       "                              \u001b[1m[\u001b[0m\u001b[3;91mFalse\u001b[0m \u001b[3;91mFalse\u001b[0m \u001b[3;91mFalse\u001b[0m \u001b[33m...\u001b[0m \u001b[3;91mFalse\u001b[0m \u001b[3;91mFalse\u001b[0m                             \n",
       "                             \u001b[3;91mFalse\u001b[0m\u001b[1m]\u001b[0m                                                          \n",
       "                              \u001b[1m[\u001b[0m\u001b[3;91mFalse\u001b[0m \u001b[3;91mFalse\u001b[0m \u001b[3;91mFalse\u001b[0m \u001b[33m...\u001b[0m \u001b[3;91mFalse\u001b[0m \u001b[3;91mFalse\u001b[0m                             \n",
       "                             \u001b[3;91mFalse\u001b[0m\u001b[1m]\u001b[0m\u001b[1m]\u001b[0m \u001b[33mfcn\u001b[0m=\u001b[35mexp\u001b[0m \u001b[33mparam_min\u001b[0m=\u001b[1;36m-10\u001b[0m                                   \n",
       "                             \u001b[33mparam_max\u001b[0m=\u001b[1;36m7\u001b[0m \u001b[33mvectorized\u001b[0m=\u001b[3;92mTrue\u001b[0m\u001b[1m)\u001b[0m                                    \n"
      ]
     },
     "metadata": {},
     "output_type": "display_data"
    },
    {
     "data": {
      "text/html": [
       "<pre style=\"white-space:pre;overflow-x:auto;line-height:normal;font-family:Menlo,'DejaVu Sans Mono',consolas,'Courier New',monospace\"><span style=\"color: #7fbfbf; text-decoration-color: #7fbfbf\">                    </span><span style=\"color: #800000; text-decoration-color: #800000\">WARNING </span> WARNING:root:Trainable given to          <a href=\"file:///home/sergei/causality-disentanglement-rl/sparse_causal_model_learner_rl/learners/abstract_learner.py\"><span style=\"color: #7f7f7f; text-decoration-color: #7f7f7f\">abstract_learner.py</span></a><span style=\"color: #7f7f7f; text-decoration-color: #7f7f7f\">:126</span>\n",
       "                             optimizer, but not found: rot_pre                               \n",
       "</pre>\n"
      ],
      "text/plain": [
       "\u001b[2;36m                   \u001b[0m\u001b[2;36m \u001b[0m\u001b[31mWARNING \u001b[0m WARNING:root:Trainable given to          \u001b]8;id=1618483048.2999892-689514;file:///home/sergei/causality-disentanglement-rl/sparse_causal_model_learner_rl/learners/abstract_learner.py\u001b\\\u001b[2mabstract_learner.py\u001b[0m\u001b]8;;\u001b\\\u001b[2m:126\u001b[0m\n",
       "                             optimizer, but not found: rot_pre                               \n"
      ]
     },
     "metadata": {},
     "output_type": "display_data"
    },
    {
     "data": {
      "text/html": [
       "<pre style=\"white-space:pre;overflow-x:auto;line-height:normal;font-family:Menlo,'DejaVu Sans Mono',consolas,'Courier New',monospace\"><span style=\"color: #7fbfbf; text-decoration-color: #7fbfbf\">                    </span><span style=\"color: #800000; text-decoration-color: #800000\">WARNING </span> WARNING:root:Trainable given to          <a href=\"file:///home/sergei/causality-disentanglement-rl/sparse_causal_model_learner_rl/learners/abstract_learner.py\"><span style=\"color: #7f7f7f; text-decoration-color: #7f7f7f\">abstract_learner.py</span></a><span style=\"color: #7f7f7f; text-decoration-color: #7f7f7f\">:126</span>\n",
       "                             optimizer, but not found: rot_post                              \n",
       "</pre>\n"
      ],
      "text/plain": [
       "\u001b[2;36m                   \u001b[0m\u001b[2;36m \u001b[0m\u001b[31mWARNING \u001b[0m WARNING:root:Trainable given to          \u001b]8;id=1618483048.3027923-76771;file:///home/sergei/causality-disentanglement-rl/sparse_causal_model_learner_rl/learners/abstract_learner.py\u001b\\\u001b[2mabstract_learner.py\u001b[0m\u001b]8;;\u001b\\\u001b[2m:126\u001b[0m\n",
       "                             optimizer, but not found: rot_post                              \n"
      ]
     },
     "metadata": {},
     "output_type": "display_data"
    },
    {
     "data": {
      "text/html": [
       "<pre style=\"white-space:pre;overflow-x:auto;line-height:normal;font-family:Menlo,'DejaVu Sans Mono',consolas,'Courier New',monospace\"><span style=\"color: #7fbfbf; text-decoration-color: #7fbfbf\">                    </span><span style=\"color: #800000; text-decoration-color: #800000\">WARNING </span> WARNING:root:Warning: loss primal is     <a href=\"file:///home/sergei/causality-disentanglement-rl/sparse_causal_model_learner_rl/learners/abstract_learner.py\"><span style=\"color: #7f7f7f; text-decoration-color: #7f7f7f\">abstract_learner.py</span></a><span style=\"color: #7f7f7f; text-decoration-color: #7f7f7f\">:509</span>\n",
       "                             used more than once                                             \n",
       "</pre>\n"
      ],
      "text/plain": [
       "\u001b[2;36m                   \u001b[0m\u001b[2;36m \u001b[0m\u001b[31mWARNING \u001b[0m WARNING:root:Warning: loss primal is     \u001b]8;id=1618483048.3064268-76954;file:///home/sergei/causality-disentanglement-rl/sparse_causal_model_learner_rl/learners/abstract_learner.py\u001b\\\u001b[2mabstract_learner.py\u001b[0m\u001b]8;;\u001b\\\u001b[2m:509\u001b[0m\n",
       "                             used more than once                                             \n"
      ]
     },
     "metadata": {},
     "output_type": "display_data"
    }
   ],
   "source": [
    "load_config_files(['../sparse_causal_model_learner_rl/configs/rl_const_sparsity_obs_space.gin',\n",
    "                       '../keychest/config/5x5_1f_obs.gin',\n",
    "                       '../sparse_causal_model_learner_rl/configs/env_kc_5x5_1f_obs_quad.gin',\n",
    "#                    '../sparse_causal_model_learner_rl/configs/env_sm5_linear.gin',\n",
    "#                    '../sparse_causal_model_learner_rl/configs/with_lagrange_dual_sparsity.gin',\n",
    "                   '../sparse_causal_model_learner_rl/configs/with_lagrange_dual_sparsity_per_component.gin',\n",
    "                  ])\n",
    "gin.bind_parameter('Config.collect_initial_steps', 1000)\n",
    "os.environ['CUDA_VISIBLE_DEVICES'] = \"-1\"\n",
    "l = CausalModelLearnerRL(Config())\n",
    "l.create_trainables()\n",
    "ctx = l.collect_and_get_context()"
   ]
  },
  {
   "cell_type": "code",
   "execution_count": 40,
   "id": "acb9cb58",
   "metadata": {},
   "outputs": [],
   "source": [
    "import seaborn as sns"
   ]
  },
  {
   "cell_type": "code",
   "execution_count": 27,
   "id": "f275a90d",
   "metadata": {},
   "outputs": [],
   "source": [
    "loss = fit_loss_obs_space(**ctx, \n",
    "                   fill_switch_grad=True, divide_by_std=True, loss_local_cache={},\n",
    "                  return_per_component=True)"
   ]
  },
  {
   "cell_type": "code",
   "execution_count": 36,
   "id": "6c235982",
   "metadata": {},
   "outputs": [],
   "source": [
    "obs_shape = l.observation_shape\n",
    "l_np = loss['losses']['obs_orig'].detach().cpu().numpy().reshape(obs_shape)\n",
    "l_np_1ch = np.mean(l_np, axis=2)"
   ]
  },
  {
   "cell_type": "code",
   "execution_count": 43,
   "id": "6d9447ab",
   "metadata": {},
   "outputs": [
    {
     "data": {
      "text/html": [
       "<pre style=\"white-space:pre;overflow-x:auto;line-height:normal;font-family:Menlo,'DejaVu Sans Mono',consolas,'Courier New',monospace\"><span style=\"color: #7fbfbf; text-decoration-color: #7fbfbf\">[04/15/21 12:40:01] </span><span style=\"color: #008000; text-decoration-color: #008000\">DEBUG   </span> DEBUG:matplotlib.colorbar:locator:               <a href=\"file:///home/sergei/miniconda3/envs/causal/lib/python3.7/site-packages/matplotlib/colorbar.py\"><span style=\"color: #7f7f7f; text-decoration-color: #7f7f7f\">colorbar.py</span></a><span style=\"color: #7f7f7f; text-decoration-color: #7f7f7f\">:620</span>\n",
       "                             <span style=\"font-weight: bold\">&lt;</span><span style=\"color: #ff00ff; text-decoration-color: #ff00ff; font-weight: bold\">matplotlib.colorbar._ColorbarAutoLocator</span><span style=\"color: #000000; text-decoration-color: #000000\"> object</span>                \n",
       "                             <span style=\"color: #000000; text-decoration-color: #000000\">at </span><span style=\"color: #008080; text-decoration-color: #008080; font-weight: bold\">0x7fb00981f410</span><span style=\"font-weight: bold\">&gt;</span>                                              \n",
       "</pre>\n"
      ],
      "text/plain": [
       "\u001b[2;36m[04/15/21 12:40:01]\u001b[0m\u001b[2;36m \u001b[0m\u001b[32mDEBUG   \u001b[0m DEBUG:matplotlib.colorbar:locator:               \u001b]8;id=1618483201.0286002-362077;file:///home/sergei/miniconda3/envs/causal/lib/python3.7/site-packages/matplotlib/colorbar.py\u001b\\\u001b[2mcolorbar.py\u001b[0m\u001b]8;;\u001b\\\u001b[2m:620\u001b[0m\n",
       "                             \u001b[1m<\u001b[0m\u001b[1;95mmatplotlib.colorbar._ColorbarAutoLocator\u001b[0m\u001b[39m object\u001b[0m                \n",
       "                             \u001b[39mat \u001b[0m\u001b[1;36m0x7fb00981f410\u001b[0m\u001b[1m>\u001b[0m                                              \n"
      ]
     },
     "metadata": {},
     "output_type": "display_data"
    },
    {
     "data": {
      "text/html": [
       "<pre style=\"white-space:pre;overflow-x:auto;line-height:normal;font-family:Menlo,'DejaVu Sans Mono',consolas,'Courier New',monospace\"><span style=\"color: #7fbfbf; text-decoration-color: #7fbfbf\">                    </span><span style=\"color: #008000; text-decoration-color: #008000\">DEBUG   </span> DEBUG:matplotlib.colorbar:Using auto colorbar    <a href=\"file:///home/sergei/miniconda3/envs/causal/lib/python3.7/site-packages/matplotlib/colorbar.py\"><span style=\"color: #7f7f7f; text-decoration-color: #7f7f7f\">colorbar.py</span></a><span style=\"color: #7f7f7f; text-decoration-color: #7f7f7f\">:665</span>\n",
       "                             locator                                                         \n",
       "                             <span style=\"font-weight: bold\">&lt;</span><span style=\"color: #ff00ff; text-decoration-color: #ff00ff; font-weight: bold\">matplotlib.colorbar._ColorbarAutoLocator</span><span style=\"color: #000000; text-decoration-color: #000000\"> object</span>                \n",
       "                             <span style=\"color: #000000; text-decoration-color: #000000\">at </span><span style=\"color: #008080; text-decoration-color: #008080; font-weight: bold\">0x7fb00981f410</span><span style=\"font-weight: bold\">&gt;</span> on colorbar                                  \n",
       "</pre>\n"
      ],
      "text/plain": [
       "\u001b[2;36m                   \u001b[0m\u001b[2;36m \u001b[0m\u001b[32mDEBUG   \u001b[0m DEBUG:matplotlib.colorbar:Using auto colorbar    \u001b]8;id=1618483201.0323722-330273;file:///home/sergei/miniconda3/envs/causal/lib/python3.7/site-packages/matplotlib/colorbar.py\u001b\\\u001b[2mcolorbar.py\u001b[0m\u001b]8;;\u001b\\\u001b[2m:665\u001b[0m\n",
       "                             locator                                                         \n",
       "                             \u001b[1m<\u001b[0m\u001b[1;95mmatplotlib.colorbar._ColorbarAutoLocator\u001b[0m\u001b[39m object\u001b[0m                \n",
       "                             \u001b[39mat \u001b[0m\u001b[1;36m0x7fb00981f410\u001b[0m\u001b[1m>\u001b[0m on colorbar                                  \n"
      ]
     },
     "metadata": {},
     "output_type": "display_data"
    },
    {
     "data": {
      "text/html": [
       "<pre style=\"white-space:pre;overflow-x:auto;line-height:normal;font-family:Menlo,'DejaVu Sans Mono',consolas,'Courier New',monospace\"><span style=\"color: #7fbfbf; text-decoration-color: #7fbfbf\">                    </span><span style=\"color: #008000; text-decoration-color: #008000\">DEBUG   </span> DEBUG:matplotlib.colorbar:Setting pcolormesh     <a href=\"file:///home/sergei/miniconda3/envs/causal/lib/python3.7/site-packages/matplotlib/colorbar.py\"><span style=\"color: #7f7f7f; text-decoration-color: #7f7f7f\">colorbar.py</span></a><span style=\"color: #7f7f7f; text-decoration-color: #7f7f7f\">:794</span>\n",
       "</pre>\n"
      ],
      "text/plain": [
       "\u001b[2;36m                   \u001b[0m\u001b[2;36m \u001b[0m\u001b[32mDEBUG   \u001b[0m DEBUG:matplotlib.colorbar:Setting pcolormesh     \u001b]8;id=1618483201.0351415-575433;file:///home/sergei/miniconda3/envs/causal/lib/python3.7/site-packages/matplotlib/colorbar.py\u001b\\\u001b[2mcolorbar.py\u001b[0m\u001b]8;;\u001b\\\u001b[2m:794\u001b[0m\n"
      ]
     },
     "metadata": {},
     "output_type": "display_data"
    },
    {
     "data": {
      "text/plain": [
       "<AxesSubplot:>"
      ]
     },
     "execution_count": 43,
     "metadata": {},
     "output_type": "execute_result"
    },
    {
     "data": {
      "image/png": "[encoded data removed]",
      "text/plain": [
       "<Figure size 432x288 with 2 Axes>"
      ]
     },
     "metadata": {
      "needs_background": "light"
     },
     "output_type": "display_data"
    }
   ],
   "source": [
    "sns.heatmap(l_np_1ch)"
   ]
  },
  {
   "cell_type": "code",
   "execution_count": 71,
   "id": "07094148",
   "metadata": {},
   "outputs": [],
   "source": [
    "obs_example = ctx['obs_x'].detach().cpu().numpy()\n",
    "obs_example = obs_example[:, :, :, 2]\n",
    "#obs_example = np.mean(obs_example, axis=3)"
   ]
  },
  {
   "cell_type": "code",
   "execution_count": 72,
   "id": "3577125d",
   "metadata": {},
   "outputs": [
    {
     "data": {
      "text/html": [
       "<pre style=\"white-space:pre;overflow-x:auto;line-height:normal;font-family:Menlo,'DejaVu Sans Mono',consolas,'Courier New',monospace\"><span style=\"color: #7fbfbf; text-decoration-color: #7fbfbf\">[04/15/21 12:53:06] </span><span style=\"color: #008000; text-decoration-color: #008000\">DEBUG   </span> DEBUG:matplotlib.colorbar:locator:               <a href=\"file:///home/sergei/miniconda3/envs/causal/lib/python3.7/site-packages/matplotlib/colorbar.py\"><span style=\"color: #7f7f7f; text-decoration-color: #7f7f7f\">colorbar.py</span></a><span style=\"color: #7f7f7f; text-decoration-color: #7f7f7f\">:620</span>\n",
       "                             <span style=\"font-weight: bold\">&lt;</span><span style=\"color: #ff00ff; text-decoration-color: #ff00ff; font-weight: bold\">matplotlib.colorbar._ColorbarAutoLocator</span><span style=\"color: #000000; text-decoration-color: #000000\"> object</span>                \n",
       "                             <span style=\"color: #000000; text-decoration-color: #000000\">at </span><span style=\"color: #008080; text-decoration-color: #008080; font-weight: bold\">0x7f9efc4f5990</span><span style=\"font-weight: bold\">&gt;</span>                                              \n",
       "</pre>\n"
      ],
      "text/plain": [
       "\u001b[2;36m[04/15/21 12:53:06]\u001b[0m\u001b[2;36m \u001b[0m\u001b[32mDEBUG   \u001b[0m DEBUG:matplotlib.colorbar:locator:               \u001b]8;id=1618483986.459073-231632;file:///home/sergei/miniconda3/envs/causal/lib/python3.7/site-packages/matplotlib/colorbar.py\u001b\\\u001b[2mcolorbar.py\u001b[0m\u001b]8;;\u001b\\\u001b[2m:620\u001b[0m\n",
       "                             \u001b[1m<\u001b[0m\u001b[1;95mmatplotlib.colorbar._ColorbarAutoLocator\u001b[0m\u001b[39m object\u001b[0m                \n",
       "                             \u001b[39mat \u001b[0m\u001b[1;36m0x7f9efc4f5990\u001b[0m\u001b[1m>\u001b[0m                                              \n"
      ]
     },
     "metadata": {},
     "output_type": "display_data"
    },
    {
     "data": {
      "text/html": [
       "<pre style=\"white-space:pre;overflow-x:auto;line-height:normal;font-family:Menlo,'DejaVu Sans Mono',consolas,'Courier New',monospace\"><span style=\"color: #7fbfbf; text-decoration-color: #7fbfbf\">                    </span><span style=\"color: #008000; text-decoration-color: #008000\">DEBUG   </span> DEBUG:matplotlib.colorbar:Using auto colorbar    <a href=\"file:///home/sergei/miniconda3/envs/causal/lib/python3.7/site-packages/matplotlib/colorbar.py\"><span style=\"color: #7f7f7f; text-decoration-color: #7f7f7f\">colorbar.py</span></a><span style=\"color: #7f7f7f; text-decoration-color: #7f7f7f\">:665</span>\n",
       "                             locator                                                         \n",
       "                             <span style=\"font-weight: bold\">&lt;</span><span style=\"color: #ff00ff; text-decoration-color: #ff00ff; font-weight: bold\">matplotlib.colorbar._ColorbarAutoLocator</span><span style=\"color: #000000; text-decoration-color: #000000\"> object</span>                \n",
       "                             <span style=\"color: #000000; text-decoration-color: #000000\">at </span><span style=\"color: #008080; text-decoration-color: #008080; font-weight: bold\">0x7f9efc4f5990</span><span style=\"font-weight: bold\">&gt;</span> on colorbar                                  \n",
       "</pre>\n"
      ],
      "text/plain": [
       "\u001b[2;36m                   \u001b[0m\u001b[2;36m \u001b[0m\u001b[32mDEBUG   \u001b[0m DEBUG:matplotlib.colorbar:Using auto colorbar    \u001b]8;id=1618483986.4628713-410949;file:///home/sergei/miniconda3/envs/causal/lib/python3.7/site-packages/matplotlib/colorbar.py\u001b\\\u001b[2mcolorbar.py\u001b[0m\u001b]8;;\u001b\\\u001b[2m:665\u001b[0m\n",
       "                             locator                                                         \n",
       "                             \u001b[1m<\u001b[0m\u001b[1;95mmatplotlib.colorbar._ColorbarAutoLocator\u001b[0m\u001b[39m object\u001b[0m                \n",
       "                             \u001b[39mat \u001b[0m\u001b[1;36m0x7f9efc4f5990\u001b[0m\u001b[1m>\u001b[0m on colorbar                                  \n"
      ]
     },
     "metadata": {},
     "output_type": "display_data"
    },
    {
     "data": {
      "text/html": [
       "<pre style=\"white-space:pre;overflow-x:auto;line-height:normal;font-family:Menlo,'DejaVu Sans Mono',consolas,'Courier New',monospace\"><span style=\"color: #7fbfbf; text-decoration-color: #7fbfbf\">                    </span><span style=\"color: #008000; text-decoration-color: #008000\">DEBUG   </span> DEBUG:matplotlib.colorbar:Setting pcolormesh     <a href=\"file:///home/sergei/miniconda3/envs/causal/lib/python3.7/site-packages/matplotlib/colorbar.py\"><span style=\"color: #7f7f7f; text-decoration-color: #7f7f7f\">colorbar.py</span></a><span style=\"color: #7f7f7f; text-decoration-color: #7f7f7f\">:794</span>\n",
       "</pre>\n"
      ],
      "text/plain": [
       "\u001b[2;36m                   \u001b[0m\u001b[2;36m \u001b[0m\u001b[32mDEBUG   \u001b[0m DEBUG:matplotlib.colorbar:Setting pcolormesh     \u001b]8;id=1618483986.4657636-872654;file:///home/sergei/miniconda3/envs/causal/lib/python3.7/site-packages/matplotlib/colorbar.py\u001b\\\u001b[2mcolorbar.py\u001b[0m\u001b]8;;\u001b\\\u001b[2m:794\u001b[0m\n"
      ]
     },
     "metadata": {},
     "output_type": "display_data"
    },
    {
     "data": {
      "text/plain": [
       "<AxesSubplot:>"
      ]
     },
     "execution_count": 72,
     "metadata": {},
     "output_type": "execute_result"
    },
    {
     "data": {
      "image/png": "[encoded data removed]",
      "text/plain": [
       "<Figure size 432x288 with 2 Axes>"
      ]
     },
     "metadata": {
      "needs_background": "light"
     },
     "output_type": "display_data"
    }
   ],
   "source": [
    "sns.heatmap(np.mean(obs_example, axis=0))"
   ]
  },
  {
   "cell_type": "code",
   "execution_count": 73,
   "id": "af6ea5d0",
   "metadata": {},
   "outputs": [
    {
     "data": {
      "text/html": [
       "<pre style=\"white-space:pre;overflow-x:auto;line-height:normal;font-family:Menlo,'DejaVu Sans Mono',consolas,'Courier New',monospace\"><span style=\"color: #7fbfbf; text-decoration-color: #7fbfbf\">[04/15/21 12:53:07] </span><span style=\"color: #008000; text-decoration-color: #008000\">DEBUG   </span> DEBUG:matplotlib.colorbar:locator:               <a href=\"file:///home/sergei/miniconda3/envs/causal/lib/python3.7/site-packages/matplotlib/colorbar.py\"><span style=\"color: #7f7f7f; text-decoration-color: #7f7f7f\">colorbar.py</span></a><span style=\"color: #7f7f7f; text-decoration-color: #7f7f7f\">:620</span>\n",
       "                             <span style=\"font-weight: bold\">&lt;</span><span style=\"color: #ff00ff; text-decoration-color: #ff00ff; font-weight: bold\">matplotlib.colorbar._ColorbarAutoLocator</span><span style=\"color: #000000; text-decoration-color: #000000\"> object</span>                \n",
       "                             <span style=\"color: #000000; text-decoration-color: #000000\">at </span><span style=\"color: #008080; text-decoration-color: #008080; font-weight: bold\">0x7f9efc47b850</span><span style=\"font-weight: bold\">&gt;</span>                                              \n",
       "</pre>\n"
      ],
      "text/plain": [
       "\u001b[2;36m[04/15/21 12:53:07]\u001b[0m\u001b[2;36m \u001b[0m\u001b[32mDEBUG   \u001b[0m DEBUG:matplotlib.colorbar:locator:               \u001b]8;id=1618483987.8368266-165095;file:///home/sergei/miniconda3/envs/causal/lib/python3.7/site-packages/matplotlib/colorbar.py\u001b\\\u001b[2mcolorbar.py\u001b[0m\u001b]8;;\u001b\\\u001b[2m:620\u001b[0m\n",
       "                             \u001b[1m<\u001b[0m\u001b[1;95mmatplotlib.colorbar._ColorbarAutoLocator\u001b[0m\u001b[39m object\u001b[0m                \n",
       "                             \u001b[39mat \u001b[0m\u001b[1;36m0x7f9efc47b850\u001b[0m\u001b[1m>\u001b[0m                                              \n"
      ]
     },
     "metadata": {},
     "output_type": "display_data"
    },
    {
     "data": {
      "text/html": [
       "<pre style=\"white-space:pre;overflow-x:auto;line-height:normal;font-family:Menlo,'DejaVu Sans Mono',consolas,'Courier New',monospace\"><span style=\"color: #7fbfbf; text-decoration-color: #7fbfbf\">                    </span><span style=\"color: #008000; text-decoration-color: #008000\">DEBUG   </span> DEBUG:matplotlib.colorbar:Using auto colorbar    <a href=\"file:///home/sergei/miniconda3/envs/causal/lib/python3.7/site-packages/matplotlib/colorbar.py\"><span style=\"color: #7f7f7f; text-decoration-color: #7f7f7f\">colorbar.py</span></a><span style=\"color: #7f7f7f; text-decoration-color: #7f7f7f\">:665</span>\n",
       "                             locator                                                         \n",
       "                             <span style=\"font-weight: bold\">&lt;</span><span style=\"color: #ff00ff; text-decoration-color: #ff00ff; font-weight: bold\">matplotlib.colorbar._ColorbarAutoLocator</span><span style=\"color: #000000; text-decoration-color: #000000\"> object</span>                \n",
       "                             <span style=\"color: #000000; text-decoration-color: #000000\">at </span><span style=\"color: #008080; text-decoration-color: #008080; font-weight: bold\">0x7f9efc47b850</span><span style=\"font-weight: bold\">&gt;</span> on colorbar                                  \n",
       "</pre>\n"
      ],
      "text/plain": [
       "\u001b[2;36m                   \u001b[0m\u001b[2;36m \u001b[0m\u001b[32mDEBUG   \u001b[0m DEBUG:matplotlib.colorbar:Using auto colorbar    \u001b]8;id=1618483987.8403418-899758;file:///home/sergei/miniconda3/envs/causal/lib/python3.7/site-packages/matplotlib/colorbar.py\u001b\\\u001b[2mcolorbar.py\u001b[0m\u001b]8;;\u001b\\\u001b[2m:665\u001b[0m\n",
       "                             locator                                                         \n",
       "                             \u001b[1m<\u001b[0m\u001b[1;95mmatplotlib.colorbar._ColorbarAutoLocator\u001b[0m\u001b[39m object\u001b[0m                \n",
       "                             \u001b[39mat \u001b[0m\u001b[1;36m0x7f9efc47b850\u001b[0m\u001b[1m>\u001b[0m on colorbar                                  \n"
      ]
     },
     "metadata": {},
     "output_type": "display_data"
    },
    {
     "data": {
      "text/html": [
       "<pre style=\"white-space:pre;overflow-x:auto;line-height:normal;font-family:Menlo,'DejaVu Sans Mono',consolas,'Courier New',monospace\"><span style=\"color: #7fbfbf; text-decoration-color: #7fbfbf\">                    </span><span style=\"color: #008000; text-decoration-color: #008000\">DEBUG   </span> DEBUG:matplotlib.colorbar:Setting pcolormesh     <a href=\"file:///home/sergei/miniconda3/envs/causal/lib/python3.7/site-packages/matplotlib/colorbar.py\"><span style=\"color: #7f7f7f; text-decoration-color: #7f7f7f\">colorbar.py</span></a><span style=\"color: #7f7f7f; text-decoration-color: #7f7f7f\">:794</span>\n",
       "</pre>\n"
      ],
      "text/plain": [
       "\u001b[2;36m                   \u001b[0m\u001b[2;36m \u001b[0m\u001b[32mDEBUG   \u001b[0m DEBUG:matplotlib.colorbar:Setting pcolormesh     \u001b]8;id=1618483987.843018-743259;file:///home/sergei/miniconda3/envs/causal/lib/python3.7/site-packages/matplotlib/colorbar.py\u001b\\\u001b[2mcolorbar.py\u001b[0m\u001b]8;;\u001b\\\u001b[2m:794\u001b[0m\n"
      ]
     },
     "metadata": {},
     "output_type": "display_data"
    },
    {
     "data": {
      "text/plain": [
       "<AxesSubplot:>"
      ]
     },
     "execution_count": 73,
     "metadata": {},
     "output_type": "execute_result"
    },
    {
     "data": {
      "image/png": "[encoded data removed]",
      "text/plain": [
       "<Figure size 432x288 with 2 Axes>"
      ]
     },
     "metadata": {
      "needs_background": "light"
     },
     "output_type": "display_data"
    }
   ],
   "source": [
    "sns.heatmap(np.std(obs_example, axis=0))"
   ]
  },
  {
   "cell_type": "code",
   "execution_count": null,
   "id": "8de09c89",
   "metadata": {},
   "outputs": [],
   "source": []
  }
 ],
 "metadata": {
  "kernelspec": {
   "display_name": "Python 3",
   "language": "python",
   "name": "python3"
  },
  "language_info": {
   "codemirror_mode": {
    "name": "ipython",
    "version": 3
   },
   "file_extension": ".py",
   "mimetype": "text/x-python",
   "name": "python",
   "nbconvert_exporter": "python",
   "pygments_lexer": "ipython3",
   "version": "3.7.10"
  }
 },
 "nbformat": 4,
 "nbformat_minor": 5
}
