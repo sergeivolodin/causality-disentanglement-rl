{
 "cells": [
  {
   "cell_type": "code",
   "execution_count": 1,
   "id": "d72335de",
   "metadata": {},
   "outputs": [],
   "source": [
    "%load_ext autoreload\n",
    "%autoreload 2\n",
    "import os\n",
    "os.environ['CUDA_VISIBLE_DEVICES'] = \"0\"\n",
    "import gin\n",
    "import numpy as np\n",
    "from matplotlib import pyplot as plt\n",
    "from torch.autograd import Variable\n",
    "from tqdm.auto import tqdm\n",
    "import torch\n",
    "from causal_util.helpers import lstdct2dctlst\n",
    "from sparse_causal_model_learner_rl.sacred_gin_tune.sacred_wrapper import load_config_files\n",
    "from sparse_causal_model_learner_rl.loss.losses import fit_loss_obs_space, lagrangian_granular\n",
    "from sparse_causal_model_learner_rl.config import Config\n",
    "from sparse_causal_model_learner_rl.learners.rl_learner import CausalModelLearnerRL\n",
    "%matplotlib inline\n",
    "gin.enter_interactive_mode()"
   ]
  },
  {
   "cell_type": "code",
   "execution_count": 9,
   "id": "06c51854",
   "metadata": {},
   "outputs": [],
   "source": [
    "def reload_config():\n",
    "    load_config_files(['../sparse_causal_model_learner_rl/configs/rl_const_sparsity_obs_space.gin',\n",
    "#                        '../keychest/config/5x5_1f_obs.gin',\n",
    "#                        '../sparse_causal_model_learner_rl/configs/env_kc_5x5_1f_obs_quad.gin',\n",
    "                       '../sparse_causal_model_learner_rl/configs/env_sm5_linear.gin',\n",
    "                       '../sparse_causal_model_learner_rl/configs/with_lagrange_dual_sparsity.gin',\n",
    "    #                    '../sparse_causal_model_learner_rl/configs/with_lagrange_dual_sparsity_per_component.gin',\n",
    "                      ])"
   ]
  },
  {
   "cell_type": "code",
   "execution_count": 10,
   "id": "89ed8fb8",
   "metadata": {},
   "outputs": [],
   "source": [
    "reload_config()\n",
    "gin.bind_parameter('Config.collect_initial_steps', 1000)"
   ]
  },
  {
   "cell_type": "code",
   "execution_count": 11,
   "id": "826448a3",
   "metadata": {},
   "outputs": [
    {
     "name": "stderr",
     "output_type": "stream",
     "text": [
      "2021-04-15 07:47:03,739\tWARNING session.py:20 -- Session not detected. You should not be calling this function outside `tune.run` or while using the class API. \n"
     ]
    },
    {
     "name": "stdout",
     "output_type": "stream",
     "text": [
      "Selecting name 0158df6a-9dae-11eb-bfe7-90e2baa15a70\n",
      "Make environment SparseMatrix-v0 [<class 'encoder.observation_encoder.LinearMatrixEncoder'>] {}\n",
      "\u001b[2m\u001b[36m(pid=28970)\u001b[0m Make environment SparseMatrix-v0 [<class 'encoder.observation_encoder.LinearMatrixEncoder'>] {}\n",
      "\u001b[2m\u001b[36m(pid=28968)\u001b[0m Make environment SparseMatrix-v0 [<class 'encoder.observation_encoder.LinearMatrixEncoder'>] {}\n"
     ]
    },
    {
     "data": {
      "application/vnd.jupyter.widget-view+json": {
       "model_id": "5cea99041a4848c194a5953762742d1f",
       "version_major": 2,
       "version_minor": 0
      },
      "text/plain": [
       "HBox(children=(HTML(value='Initial buffer fill'), FloatProgress(value=0.0, max=1000.0), HTML(value='')))"
      ]
     },
     "metadata": {},
     "output_type": "display_data"
    },
    {
     "name": "stderr",
     "output_type": "stream",
     "text": [
      "WARNING:root:Computed std for obs [shape=(5,), components=5]: [-0.08535674 -0.02425491  0.01152423  0.08165417 -0.0183366 ] [2.4668472 2.441823  2.024636  2.9234428 2.257448 ]\n",
      "WARNING:root:Computed std for rew_y [shape=scalar, components=1]: 0.0 1.0\n",
      "WARNING:root:Computed std for done_y [shape=scalar, components=1]: 0.001820018165744841 0.042622826993465424\n",
      "WARNING:root:Computed std for reward_to_go [shape=scalar, components=1]: 0.0 1.0\n"
     ]
    },
    {
     "name": "stdout",
     "output_type": "stream",
     "text": [
      "\n",
      "\u001b[2m\u001b[36m(pid=28973)\u001b[0m Make environment SparseMatrix-v0 [<class 'encoder.observation_encoder.LinearMatrixEncoder'>] {}\n"
     ]
    },
    {
     "data": {
      "application/vnd.jupyter.widget-view+json": {
       "model_id": "d76e7ba2b7f245459df5d2c75a155c9d",
       "version_major": 2,
       "version_minor": 0
      },
      "text/plain": [
       "HBox(children=(HTML(value='Initial buffer fill'), FloatProgress(value=0.0, max=1000.0), HTML(value='')))"
      ]
     },
     "metadata": {},
     "output_type": "display_data"
    },
    {
     "name": "stdout",
     "output_type": "stream",
     "text": [
      "\n"
     ]
    }
   ],
   "source": [
    "l = CausalModelLearnerRL(Config())"
   ]
  },
  {
   "cell_type": "code",
   "execution_count": 12,
   "id": "92c54f38",
   "metadata": {},
   "outputs": [
    {
     "name": "stderr",
     "output_type": "stream",
     "text": [
      "WARNING:root:No class provided for trainable reconstructor1\n",
      "WARNING:root:No class provided for trainable value_predictor\n",
      "WARNING:root:No class provided for trainable causal_feature_model_discriminator\n",
      "WARNING:root:No class provided for trainable decoder_discriminator\n",
      "WARNING:root:No class provided for trainable non_sparse_model\n",
      "WARNING:root:No class provided for trainable causal_feature_action_model_discriminator\n",
      "WARNING:root:Warning: loss primal is used more than once\n"
     ]
    },
    {
     "name": "stdout",
     "output_type": "stream",
     "text": [
      "[False, False, False, False]\n",
      "[22, 256, 256, 256, 1] 6\n",
      "[False]\n",
      "[5, 1] 5\n",
      "[False]\n",
      "[6, 1] 5\n"
     ]
    }
   ],
   "source": [
    "l.create_trainables()"
   ]
  },
  {
   "cell_type": "code",
   "execution_count": 13,
   "id": "f9ed01da",
   "metadata": {},
   "outputs": [],
   "source": [
    "ctx = l.collect_and_get_context()"
   ]
  },
  {
   "cell_type": "code",
   "execution_count": 14,
   "id": "ce014f12",
   "metadata": {},
   "outputs": [],
   "source": [
    "from sparse_causal_model_learner_rl.loss.losses import cache_get, maybe_item, delta_pow2_sum1, delta_01_obs, manual_switch_gradient, RunOnce"
   ]
  },
  {
   "cell_type": "code",
   "execution_count": 15,
   "id": "63537bab",
   "metadata": {},
   "outputs": [],
   "source": [
    "l.model.model.switch.probas.data[:, :] = 0.5"
   ]
  },
  {
   "cell_type": "code",
   "execution_count": 16,
   "id": "e73c2ee8",
   "metadata": {},
   "outputs": [
    {
     "data": {
      "text/plain": [
       "False"
      ]
     },
     "execution_count": 16,
     "metadata": {},
     "output_type": "execute_result"
    }
   ],
   "source": [
    "l.lagrange_multipliers.vectorized"
   ]
  },
  {
   "cell_type": "code",
   "execution_count": 17,
   "id": "5500987f",
   "metadata": {},
   "outputs": [
    {
     "data": {
      "text/plain": [
       "torch.Size([14])"
      ]
     },
     "execution_count": 17,
     "metadata": {},
     "output_type": "execute_result"
    }
   ],
   "source": [
    "l.lagrange_multipliers().shape"
   ]
  },
  {
   "cell_type": "code",
   "execution_count": 18,
   "id": "862f6121",
   "metadata": {},
   "outputs": [
    {
     "data": {
      "text/plain": [
       "{'loss': tensor(326.1825, device='cuda:0', grad_fn=<MeanBackward1>),\n",
       " 'losses': {'additional': 0.0,\n",
       "  'obs': tensor([98.0338, 56.7195, 42.0653, 56.6127, 57.4453], device='cuda:0',\n",
       "         grad_fn=<MeanBackward1>),\n",
       "  'feat': tensor([1.4787, 1.7663, 1.5031, 0.8975, 0.9573, 1.0633], device='cuda:0',\n",
       "         grad_fn=<MeanBackward1>),\n",
       "  'feat_model': tensor([1.3600, 1.7022, 1.4947, 0.7931, 1.2504, 1.0392], device='cuda:0',\n",
       "         grad_fn=<MeanBackward1>),\n",
       "  'additional_orig': 0.0,\n",
       "  'obs_orig': tensor([50.5862, 55.0631, 55.6485, 48.6480, 52.5029], device='cuda:0',\n",
       "         grad_fn=<MeanBackward1>),\n",
       "  'feat_orig': tensor([1.0841, 1.0301, 1.0439, 1.0167, 1.0127, 1.0072], device='cuda:0',\n",
       "         grad_fn=<MeanBackward1>),\n",
       "  'feat_model_orig': tensor([1.0776, 1.0481, 1.0359, 1.0225, 1.0314, 1.0734], device='cuda:0',\n",
       "         grad_fn=<MeanBackward1>)},\n",
       " 'metrics': {'mean_feature': array([-9.2498714e-01, -1.8447432e-01,  3.1731811e-01,  2.6983058e-01,\n",
       "          1.2752929e-01, -1.1920930e-10], dtype=float32),\n",
       "  'std_feature': array([4.7014923, 3.0951374, 3.8547962, 3.0942852, 2.8349895, 0.5782171],\n",
       "        dtype=float32),\n",
       "  'min_feature': -16.050722122192383,\n",
       "  'max_feature': 15.205986976623535,\n",
       "  'loss_fcons': 6.194709300994873,\n",
       "  'loss_add': 0.0,\n",
       "  'loss_rec': 262.4486999511719,\n",
       "  'loss_fcons_pre': 6.288995265960693,\n",
       "  'rec_fit_acc_loss_01_agg': 1.4739999771118164,\n",
       "  'loss_discrete': 51.25011444091797,\n",
       "  'loss_orig': 274.93241119384766}}"
      ]
     },
     "execution_count": 18,
     "metadata": {},
     "output_type": "execute_result"
    }
   ],
   "source": [
    "fit_loss_obs_space(**ctx, \n",
    "                   fill_switch_grad=True, divide_by_std=True, loss_local_cache={},\n",
    "                  return_per_component=True)"
   ]
  },
  {
   "cell_type": "code",
   "execution_count": 19,
   "id": "8eb8b67f",
   "metadata": {},
   "outputs": [],
   "source": [
    "from sparse_causal_model_learner_rl.loss.losses import fit_loss_obs_space, lagrangian_granular\n",
    "reload_config()"
   ]
  },
  {
   "cell_type": "code",
   "execution_count": null,
   "id": "237355bf",
   "metadata": {},
   "outputs": [],
   "source": []
  },
  {
   "cell_type": "code",
   "execution_count": 20,
   "id": "08f2c0d0",
   "metadata": {},
   "outputs": [
    {
     "name": "stderr",
     "output_type": "stream",
     "text": [
      "WARNING:root:LAGRANGIAN mode=PRIMAL\n",
      "sparsity [shape=torch.Size([])] -> min\n",
      "fit/obs [shape=torch.Size([])] <= 0.008, lm_index=3 required=True\n",
      "fit/feat [shape=torch.Size([])] <= 0.005, lm_index=1 required=True\n",
      "fit/feat_model [shape=torch.Size([])] <= 0.005, lm_index=2 required=True\n",
      "fit_all_on/obs [shape=torch.Size([])] <= 0.008, lm_index=11 required=True\n",
      "fit_all_on/feat [shape=torch.Size([])] <= 0.005, lm_index=9 required=True\n",
      "fit_all_on/feat_model [shape=torch.Size([])] <= 0.005, lm_index=10 required=True\n",
      "fit_all_half/obs [shape=torch.Size([])] <= 0, lm_index=3 required=False\n",
      "fit_all_half/feat [shape=torch.Size([])] <= 0, lm_index=1 required=False\n",
      "fit_all_half/feat_model [shape=torch.Size([])] <= 0, lm_index=2 required=False\n"
     ]
    },
    {
     "data": {
      "text/plain": [
       "{'loss': tensor(734.1140, device='cuda:0', grad_fn=<AddBackward0>),\n",
       " 'metrics': {'fit': {'value': 391.3555908203125,\n",
       "   'coeff': 1.0,\n",
       "   'mean_feature': array([-9.2498714e-01, -1.8447432e-01,  3.1731811e-01,  2.6983058e-01,\n",
       "           1.2752929e-01, -1.1920930e-10], dtype=float32),\n",
       "   'std_feature': array([4.7014923, 3.0951374, 3.8547962, 3.0942852, 2.8349895, 0.5782171],\n",
       "         dtype=float32),\n",
       "   'min_feature': -16.050722122192383,\n",
       "   'max_feature': 15.205986976623535,\n",
       "   'loss_fcons': 6.185311794281006,\n",
       "   'loss_add': 0.0,\n",
       "   'loss_rec': 262.43780517578125,\n",
       "   'loss_fcons_pre': 6.289677143096924,\n",
       "   'rec_fit_acc_loss_01_agg': 1.480400025844574,\n",
       "   'loss_discrete': 116.44278717041016,\n",
       "   'loss_orig': 274.91280364990234},\n",
       "  'fit/additional': {'value': 0.0},\n",
       "  'fit/obs': {'value': 391.3555908203125},\n",
       "  'fit/feat': {'value': 8.569881439208984},\n",
       "  'fit/feat_model': {'value': 8.903656959533691},\n",
       "  'fit/additional_orig': {'value': 0.0, 'coeff': 1.0},\n",
       "  'fit/obs_orig': {'value': 262.43780517578125, 'coeff': 1.0},\n",
       "  'fit/feat_orig': {'value': 6.185311794281006, 'coeff': 1.0},\n",
       "  'fit/feat_model_orig': {'value': 6.289677143096924, 'coeff': 1.0},\n",
       "  'sparsity': {'sparsity_param_0_(11, 6)': tensor(33., device='cuda:0', grad_fn=<DivBackward0>),\n",
       "   'value': 33.0},\n",
       "  'reconstruction': {'value': 0.0},\n",
       "  'fit_all_on': {'value': 274.89697265625,\n",
       "   'coeff': 1.0,\n",
       "   'mean_feature': array([-9.2498714e-01, -1.8447432e-01,  3.1731811e-01,  2.6983058e-01,\n",
       "           1.2752929e-01, -1.1920930e-10], dtype=float32),\n",
       "   'std_feature': array([4.7014923, 3.0951374, 3.8547962, 3.0942852, 2.8349895, 0.5782171],\n",
       "         dtype=float32),\n",
       "   'min_feature': -16.050722122192383,\n",
       "   'max_feature': 15.205986976623535,\n",
       "   'loss_fcons': 6.19683313369751,\n",
       "   'loss_add': 0.0,\n",
       "   'loss_rec': 262.40826416015625,\n",
       "   'loss_fcons_pre': 6.291911602020264,\n",
       "   'rec_fit_acc_loss_01_agg': 1.4631999135017395,\n",
       "   'loss_discrete': 0.0,\n",
       "   'loss_orig': 274.89697265625},\n",
       "  'fit_all_on/additional': {'value': 0.0},\n",
       "  'fit_all_on/obs': {'value': 274.89697265625},\n",
       "  'fit_all_on/feat': {'value': 6.19683313369751},\n",
       "  'fit_all_on/feat_model': {'value': 6.291911602020264},\n",
       "  'fit_all_on/additional_orig': {'value': 0.0, 'coeff': 1.0},\n",
       "  'fit_all_on/obs_orig': {'value': 262.40826416015625, 'coeff': 1.0},\n",
       "  'fit_all_on/feat_orig': {'value': 6.19683313369751, 'coeff': 1.0},\n",
       "  'fit_all_on/feat_model_orig': {'value': 6.291911602020264, 'coeff': 1.0},\n",
       "  'fit_all_half': {'value': 232.26089477539062,\n",
       "   'coeff': 0.02,\n",
       "   'mean_feature': array([-9.2498714e-01, -1.8447432e-01,  3.1731811e-01,  2.6983058e-01,\n",
       "           1.2752929e-01, -1.1920930e-10], dtype=float32),\n",
       "   'std_feature': array([4.7014923, 3.0951374, 3.8547962, 3.0942852, 2.8349895, 0.5782171],\n",
       "         dtype=float32),\n",
       "   'min_feature': -16.050722122192383,\n",
       "   'max_feature': 15.205986976623535,\n",
       "   'loss_fcons': 6.186288356781006,\n",
       "   'loss_add': 0.0,\n",
       "   'loss_rec': 262.436279296875,\n",
       "   'loss_fcons_pre': 6.288341999053955,\n",
       "   'rec_fit_acc_loss_01_agg': 1.4941999912261963,\n",
       "   'loss_discrete': -42.650020599365234,\n",
       "   'loss_orig': 274.91091537475586},\n",
       "  'fit_all_half/additional': {'value': 0.0},\n",
       "  'fit_all_half/obs': {'value': 232.26089477539062},\n",
       "  'fit_all_half/feat': {'value': 7.156169891357422},\n",
       "  'fit_all_half/feat_model': {'value': 7.486264228820801},\n",
       "  'fit_all_half/additional_orig': {'value': 0.0, 'coeff': 0.02},\n",
       "  'fit_all_half/obs_orig': {'value': 262.436279296875, 'coeff': 0.02},\n",
       "  'fit_all_half/feat_orig': {'value': 6.186288356781006, 'coeff': 0.02},\n",
       "  'fit_all_half/feat_model_orig': {'value': 6.288341999053955, 'coeff': 0.02},\n",
       "  'lagrange_multiplier/reconstruction': 1.0,\n",
       "  'lagrange_multiplier/fit/obs': 1.0,\n",
       "  'lagrange_multiplier/fit/feat': 1.0,\n",
       "  'lagrange_multiplier/fit/feat_model': 1.0,\n",
       "  'lagrange_multiplier/fit/additional': 1.0,\n",
       "  'lagrange_multiplier/fit_all_on/obs': 1.0,\n",
       "  'lagrange_multiplier/fit_all_on/feat': 1.0,\n",
       "  'lagrange_multiplier/fit_all_on/feat_model': 1.0,\n",
       "  'lagrange_multiplier/fit_all_on/additional': 1.0,\n",
       "  'constraints_satisfied': 2,\n",
       "  'constraints_satisfied_frac': 0.25,\n",
       "  'constraint': 701.1139526367188,\n",
       "  'objective': 33.0,\n",
       "  'lagrangian': 734.1139526367188}}"
      ]
     },
     "execution_count": 20,
     "metadata": {},
     "output_type": "execute_result"
    }
   ],
   "source": [
    "lagrangian_granular(**ctx, mode='PRIMAL')"
   ]
  },
  {
   "cell_type": "code",
   "execution_count": 21,
   "id": "0dae37b9",
   "metadata": {},
   "outputs": [
    {
     "name": "stderr",
     "output_type": "stream",
     "text": [
      "WARNING:root:LAGRANGIAN mode=DUAL\n",
      "sparsity [shape=torch.Size([])] -> min\n",
      "fit/obs [shape=torch.Size([])] <= 0.008, lm_index=3 required=True\n",
      "fit/feat [shape=torch.Size([])] <= 0.005, lm_index=1 required=True\n",
      "fit/feat_model [shape=torch.Size([])] <= 0.005, lm_index=2 required=True\n",
      "fit_all_on/obs [shape=torch.Size([])] <= 0.008, lm_index=11 required=True\n",
      "fit_all_on/feat [shape=torch.Size([])] <= 0.005, lm_index=9 required=True\n",
      "fit_all_on/feat_model [shape=torch.Size([])] <= 0.005, lm_index=10 required=True\n",
      "fit_all_half/obs [shape=torch.Size([])] <= 0, lm_index=3 required=False\n",
      "fit_all_half/feat [shape=torch.Size([])] <= 0, lm_index=1 required=False\n",
      "fit_all_half/feat_model [shape=torch.Size([])] <= 0, lm_index=2 required=False\n"
     ]
    },
    {
     "data": {
      "text/plain": [
       "{'loss': tensor(-589.3839, device='cuda:0', grad_fn=<NegBackward>),\n",
       " 'metrics': {'fit': {'value': 203.06185913085938,\n",
       "   'coeff': 1.0,\n",
       "   'mean_feature': array([-9.2498714e-01, -1.8447432e-01,  3.1731811e-01,  2.6983058e-01,\n",
       "           1.2752929e-01, -1.1920930e-10], dtype=float32),\n",
       "   'std_feature': array([4.7014923, 3.0951374, 3.8547962, 3.0942852, 2.8349895, 0.5782171],\n",
       "         dtype=float32),\n",
       "   'min_feature': -16.050722122192383,\n",
       "   'max_feature': 15.205986976623535,\n",
       "   'loss_fcons': 6.187043190002441,\n",
       "   'loss_add': 0.0,\n",
       "   'loss_rec': 262.5189208984375,\n",
       "   'loss_fcons_pre': 6.287208080291748,\n",
       "   'rec_fit_acc_loss_01_agg': 1.476599931716919,\n",
       "   'loss_discrete': -71.93131256103516,\n",
       "   'loss_orig': 274.99317169189453},\n",
       "  'fit/additional': {'value': 0.0},\n",
       "  'fit/obs': {'value': 203.06185913085938},\n",
       "  'fit/feat': {'value': 6.483997821807861},\n",
       "  'fit/feat_model': {'value': 9.288799285888672},\n",
       "  'fit/additional_orig': {'value': 0.0, 'coeff': 1.0},\n",
       "  'fit/obs_orig': {'value': 262.5189208984375, 'coeff': 1.0},\n",
       "  'fit/feat_orig': {'value': 6.187043190002441, 'coeff': 1.0},\n",
       "  'fit/feat_model_orig': {'value': 6.287208080291748, 'coeff': 1.0},\n",
       "  'sparsity': {'sparsity_param_0_(11, 6)': tensor(33., device='cuda:0', grad_fn=<DivBackward0>),\n",
       "   'value': 33.0},\n",
       "  'reconstruction': {'value': 0.0},\n",
       "  'fit_all_on': {'value': 274.89697265625,\n",
       "   'coeff': 1.0,\n",
       "   'mean_feature': array([-9.2498714e-01, -1.8447432e-01,  3.1731811e-01,  2.6983058e-01,\n",
       "           1.2752929e-01, -1.1920930e-10], dtype=float32),\n",
       "   'std_feature': array([4.7014923, 3.0951374, 3.8547962, 3.0942852, 2.8349895, 0.5782171],\n",
       "         dtype=float32),\n",
       "   'min_feature': -16.050722122192383,\n",
       "   'max_feature': 15.205986976623535,\n",
       "   'loss_fcons': 6.19683313369751,\n",
       "   'loss_add': 0.0,\n",
       "   'loss_rec': 262.40826416015625,\n",
       "   'loss_fcons_pre': 6.291911602020264,\n",
       "   'rec_fit_acc_loss_01_agg': 1.4631999135017395,\n",
       "   'loss_discrete': 0.0,\n",
       "   'loss_orig': 274.89697265625},\n",
       "  'fit_all_on/additional': {'value': 0.0},\n",
       "  'fit_all_on/obs': {'value': 274.89697265625},\n",
       "  'fit_all_on/feat': {'value': 6.19683313369751},\n",
       "  'fit_all_on/feat_model': {'value': 6.291911602020264},\n",
       "  'fit_all_on/additional_orig': {'value': 0.0, 'coeff': 1.0},\n",
       "  'fit_all_on/obs_orig': {'value': 262.40826416015625, 'coeff': 1.0},\n",
       "  'fit_all_on/feat_orig': {'value': 6.19683313369751, 'coeff': 1.0},\n",
       "  'fit_all_on/feat_model_orig': {'value': 6.291911602020264, 'coeff': 1.0},\n",
       "  'fit_all_half': {'value': 312.7265625,\n",
       "   'coeff': 0.02,\n",
       "   'mean_feature': array([-9.2498714e-01, -1.8447432e-01,  3.1731811e-01,  2.6983058e-01,\n",
       "           1.2752929e-01, -1.1920930e-10], dtype=float32),\n",
       "   'std_feature': array([4.7014923, 3.0951374, 3.8547962, 3.0942852, 2.8349895, 0.5782171],\n",
       "         dtype=float32),\n",
       "   'min_feature': -16.050722122192383,\n",
       "   'max_feature': 15.205986976623535,\n",
       "   'loss_fcons': 6.189180374145508,\n",
       "   'loss_add': 0.0,\n",
       "   'loss_rec': 262.462646484375,\n",
       "   'loss_fcons_pre': 6.289526462554932,\n",
       "   'rec_fit_acc_loss_01_agg': 1.4961999654769897,\n",
       "   'loss_discrete': 37.78526306152344,\n",
       "   'loss_orig': 274.94129943847656},\n",
       "  'fit_all_half/additional': {'value': 0.0},\n",
       "  'fit_all_half/obs': {'value': 312.7265625},\n",
       "  'fit_all_half/feat': {'value': 6.258745193481445},\n",
       "  'fit_all_half/feat_model': {'value': 7.646360874176025},\n",
       "  'fit_all_half/additional_orig': {'value': 0.0, 'coeff': 0.02},\n",
       "  'fit_all_half/obs_orig': {'value': 262.462646484375, 'coeff': 0.02},\n",
       "  'fit_all_half/feat_orig': {'value': 6.189180374145508, 'coeff': 0.02},\n",
       "  'fit_all_half/feat_model_orig': {'value': 6.289526462554932, 'coeff': 0.02},\n",
       "  'lagrange_multiplier/reconstruction': 1.0,\n",
       "  'lagrange_multiplier/fit/obs': 1.0,\n",
       "  'lagrange_multiplier/fit/feat': 1.0,\n",
       "  'lagrange_multiplier/fit/feat_model': 1.0,\n",
       "  'lagrange_multiplier/fit/additional': 1.0,\n",
       "  'lagrange_multiplier/fit_all_on/obs': 1.0,\n",
       "  'lagrange_multiplier/fit_all_on/feat': 1.0,\n",
       "  'lagrange_multiplier/fit_all_on/feat_model': 1.0,\n",
       "  'lagrange_multiplier/fit_all_on/additional': 1.0,\n",
       "  'constraints_satisfied': 2,\n",
       "  'constraints_satisfied_frac': 0.25,\n",
       "  'constraint': 556.3838500976562,\n",
       "  'objective': 33.0,\n",
       "  'lagrangian': 589.3838500976562}}"
      ]
     },
     "execution_count": 21,
     "metadata": {},
     "output_type": "execute_result"
    }
   ],
   "source": [
    "lagrangian_granular(**ctx, mode='DUAL')"
   ]
  },
  {
   "cell_type": "code",
   "execution_count": null,
   "id": "07c5aac5",
   "metadata": {},
   "outputs": [],
   "source": []
  },
  {
   "cell_type": "code",
   "execution_count": null,
   "id": "02353bcd",
   "metadata": {},
   "outputs": [],
   "source": []
  }
 ],
 "metadata": {
  "kernelspec": {
   "display_name": "Python 3",
   "language": "python",
   "name": "python3"
  },
  "language_info": {
   "codemirror_mode": {
    "name": "ipython",
    "version": 3
   },
   "file_extension": ".py",
   "mimetype": "text/x-python",
   "name": "python",
   "nbconvert_exporter": "python",
   "pygments_lexer": "ipython3",
   "version": "3.7.10"
  }
 },
 "nbformat": 4,
 "nbformat_minor": 5
}
