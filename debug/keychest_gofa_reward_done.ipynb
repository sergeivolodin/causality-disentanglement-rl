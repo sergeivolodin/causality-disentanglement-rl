{
 "cells": [
  {
   "cell_type": "code",
   "execution_count": 1,
   "id": "through-milton",
   "metadata": {},
   "outputs": [],
   "source": [
    "import os\n",
    "os.environ['CUDA_VISIBLE_DEVICES'] = \"-1\"\n",
    "import numpy as np\n",
    "from matplotlib import pyplot as plt\n",
    "import seaborn as sns\n",
    "import pandas as pd\n",
    "from tqdm.auto import tqdm\n",
    "import torch\n",
    "from torch import nn\n",
    "import gin\n",
    "import pickle\n",
    "import io\n",
    "from sparse_causal_model_learner_rl.trainable.gumbel_switch import WithInputSwitch, sample_from_logits_simple\n",
    "gin.enter_interactive_mode()\n",
    "from sparse_causal_model_learner_rl.loss.losses import fit_loss\n",
    "from sparse_causal_model_learner_rl.metrics.context_rewrite import context_rewriter\n",
    "from sparse_causal_model_learner_rl.sacred_gin_tune.sacred_wrapper import load_config_files\n",
    "from sparse_causal_model_learner_rl.learners.rl_learner import CausalModelLearnerRL\n",
    "from sparse_causal_model_learner_rl.config import Config\n",
    "from keychest.features_xy import dict_to_arr, arr_to_dict, obs_features_handcoded\n",
    "from causal_util import load_env"
   ]
  },
  {
   "cell_type": "code",
   "execution_count": 2,
   "id": "meaning-stage",
   "metadata": {},
   "outputs": [
    {
     "data": {
      "text/plain": [
       "['5x5_1f1c1k', 'rec_nonlin_gnn_gumbel_siamese_l2']"
      ]
     },
     "execution_count": 2,
     "metadata": {},
     "output_type": "execute_result"
    }
   ],
   "source": [
    "load_config_files(['../keychest/config/5x5_1f1c1k.gin', '../sparse_causal_model_learner_rl/configs/rec_nonlin_gnn_gumbel_siamese_l2.gin'])"
   ]
  },
  {
   "cell_type": "code",
   "execution_count": 3,
   "id": "elementary-tulsa",
   "metadata": {},
   "outputs": [
    {
     "name": "stderr",
     "output_type": "stream",
     "text": [
      "2021-01-30 20:23:11,151\tINFO worker.py:651 -- Connecting to existing Ray cluster at address: 10.90.38.7:6379\n"
     ]
    },
    {
     "data": {
      "text/plain": [
       "{'node_ip_address': '10.90.38.7',\n",
       " 'raylet_ip_address': '10.90.38.7',\n",
       " 'redis_address': '10.90.38.7:6379',\n",
       " 'object_store_address': '/tmp/ray/session_2021-01-29_10-33-31_725376_19160/sockets/plasma_store',\n",
       " 'raylet_socket_name': '/tmp/ray/session_2021-01-29_10-33-31_725376_19160/sockets/raylet',\n",
       " 'webui_url': 'localhost:8265',\n",
       " 'session_dir': '/tmp/ray/session_2021-01-29_10-33-31_725376_19160',\n",
       " 'metrics_export_port': 57367,\n",
       " 'node_id': 'f237fb11fb3bc81e67f20ea7d86350e858dd333a'}"
      ]
     },
     "execution_count": 3,
     "metadata": {},
     "output_type": "execute_result"
    }
   ],
   "source": [
    "import ray\n",
    "ray.init(address='10.90.38.7:6379', ignore_reinit_error=True)"
   ]
  },
  {
   "cell_type": "code",
   "execution_count": 4,
   "id": "manual-boutique",
   "metadata": {},
   "outputs": [
    {
     "name": "stderr",
     "output_type": "stream",
     "text": [
      "2021-01-30 20:23:11,251\tWARNING session.py:20 -- Session not detected. You should not be calling this function outside `tune.run` or while using the class API. \n"
     ]
    },
    {
     "name": "stdout",
     "output_type": "stream",
     "text": [
      "Selecting name 974a87a2-6330-11eb-af1d-90e2baa1a248\n",
      "Make environment KeyChest-v0 None {}\n"
     ]
    }
   ],
   "source": [
    "learner = CausalModelLearnerRL(Config())"
   ]
  },
  {
   "cell_type": "code",
   "execution_count": 5,
   "id": "impaired-mining",
   "metadata": {},
   "outputs": [],
   "source": [
    "learner.collect_steps()"
   ]
  },
  {
   "cell_type": "code",
   "execution_count": 6,
   "id": "vietnamese-campbell",
   "metadata": {},
   "outputs": [],
   "source": [
    "ctx = learner._context"
   ]
  },
  {
   "cell_type": "code",
   "execution_count": 27,
   "id": "vocal-documentary",
   "metadata": {},
   "outputs": [],
   "source": [
    "from keychest.features_xy import dict_to_arr, arr_to_dict, obs_features_handcoded\n",
    "\n",
    "keys = sorted(obs_features_handcoded(learner.env.engine).keys())\n",
    "keys_add = learner.additional_feature_keys\n"
   ]
  },
  {
   "cell_type": "code",
   "execution_count": 40,
   "id": "coral-retreat",
   "metadata": {},
   "outputs": [],
   "source": [
    "ox_norm = ctx['obs_x']\n",
    "ox = learner.normalizers['obs'].unnormalize(ox_norm)\n",
    "\n",
    "ax = ctx['action_x']\n",
    "add_features_y = torch.cat([ctx[k] for k in keys_add], dim=1)"
   ]
  },
  {
   "cell_type": "code",
   "execution_count": 93,
   "id": "searching-health",
   "metadata": {},
   "outputs": [
    {
     "data": {
      "text/plain": [
       "(['button__x',\n",
       "  'button__y',\n",
       "  'chest__00__x',\n",
       "  'chest__00__y',\n",
       "  'food__00__x',\n",
       "  'food__00__y',\n",
       "  'health',\n",
       "  'key__00__x',\n",
       "  'key__00__y',\n",
       "  'keys',\n",
       "  'lamp_off__x',\n",
       "  'lamp_off__y',\n",
       "  'lamp_on__x',\n",
       "  'lamp_on__y',\n",
       "  'lamp_status',\n",
       "  'player__x',\n",
       "  'player__y'],\n",
       " ['rew_y', 'done_y'])"
      ]
     },
     "execution_count": 93,
     "metadata": {},
     "output_type": "execute_result"
    }
   ],
   "source": [
    "keys, keys_add"
   ]
  },
  {
   "cell_type": "code",
   "execution_count": 33,
   "id": "stainless-addition",
   "metadata": {},
   "outputs": [
    {
     "data": {
      "text/plain": [
       "array([[<AxesSubplot:title={'center':'0'}>,\n",
       "        <AxesSubplot:title={'center':'1'}>],\n",
       "       [<AxesSubplot:title={'center':'2'}>,\n",
       "        <AxesSubplot:title={'center':'3'}>]], dtype=object)"
      ]
     },
     "execution_count": 33,
     "metadata": {},
     "output_type": "execute_result"
    },
    {
     "data": {
      "image/png": "[encoded data removed]",
      "text/plain": [
       "<Figure size 432x288 with 4 Axes>"
      ]
     },
     "metadata": {
      "needs_background": "light"
     },
     "output_type": "display_data"
    }
   ],
   "source": [
    "pd.DataFrame(ax.numpy()).hist()"
   ]
  },
  {
   "cell_type": "code",
   "execution_count": 30,
   "id": "seventh-shakespeare",
   "metadata": {},
   "outputs": [
    {
     "data": {
      "text/plain": [
       "array([[<AxesSubplot:title={'center':'button__x'}>,\n",
       "        <AxesSubplot:title={'center':'button__y'}>,\n",
       "        <AxesSubplot:title={'center':'chest__00__x'}>,\n",
       "        <AxesSubplot:title={'center':'chest__00__y'}>],\n",
       "       [<AxesSubplot:title={'center':'food__00__x'}>,\n",
       "        <AxesSubplot:title={'center':'food__00__y'}>,\n",
       "        <AxesSubplot:title={'center':'health'}>,\n",
       "        <AxesSubplot:title={'center':'key__00__x'}>],\n",
       "       [<AxesSubplot:title={'center':'key__00__y'}>,\n",
       "        <AxesSubplot:title={'center':'keys'}>,\n",
       "        <AxesSubplot:title={'center':'lamp_off__x'}>,\n",
       "        <AxesSubplot:title={'center':'lamp_off__y'}>],\n",
       "       [<AxesSubplot:title={'center':'lamp_on__x'}>,\n",
       "        <AxesSubplot:title={'center':'lamp_on__y'}>,\n",
       "        <AxesSubplot:title={'center':'lamp_status'}>,\n",
       "        <AxesSubplot:title={'center':'player__x'}>],\n",
       "       [<AxesSubplot:title={'center':'player__y'}>, <AxesSubplot:>,\n",
       "        <AxesSubplot:>, <AxesSubplot:>]], dtype=object)"
      ]
     },
     "execution_count": 30,
     "metadata": {},
     "output_type": "execute_result"
    },
    {
     "data": {
      "image/png": "[encoded data removed]",
      "text/plain": [
       "<Figure size 432x288 with 20 Axes>"
      ]
     },
     "metadata": {
      "needs_background": "light"
     },
     "output_type": "display_data"
    }
   ],
   "source": [
    "pd.DataFrame(ox.numpy(), columns=keys).hist()"
   ]
  },
  {
   "cell_type": "code",
   "execution_count": 19,
   "id": "jewish-million",
   "metadata": {},
   "outputs": [
    {
     "data": {
      "text/plain": [
       "array([[<AxesSubplot:title={'center':'rew_y'}>,\n",
       "        <AxesSubplot:title={'center':'done_y'}>]], dtype=object)"
      ]
     },
     "execution_count": 19,
     "metadata": {},
     "output_type": "execute_result"
    },
    {
     "data": {
      "image/png": "[encoded data removed]",
      "text/plain": [
       "<Figure size 432x288 with 2 Axes>"
      ]
     },
     "metadata": {
      "needs_background": "light"
     },
     "output_type": "display_data"
    }
   ],
   "source": [
    "pd.DataFrame(add_features_y.numpy(), columns=learner.additional_feature_keys).hist()"
   ]
  },
  {
   "cell_type": "code",
   "execution_count": 94,
   "id": "moving-toilet",
   "metadata": {},
   "outputs": [],
   "source": [
    "def predict_done(f):\n",
    "    d = arr_to_dict(arr=f, keys=keys)\n",
    "    d = {x: int(round(y)) for x, y in d.items()}\n",
    "\n",
    "    done = d['health'] <= 1\n",
    "    if (d['player__x'], d['player__y']) == (d['food__00__x'], d['food__00__y']):\n",
    "        done = False\n",
    "    return done"
   ]
  },
  {
   "cell_type": "code",
   "execution_count": 95,
   "id": "unexpected-irrigation",
   "metadata": {},
   "outputs": [],
   "source": [
    "dones_pred = np.array([predict_done(x.numpy()) for x in ox])\n",
    "dones_true = add_features_y[:, keys_add.index('done_y')].numpy()"
   ]
  },
  {
   "cell_type": "code",
   "execution_count": 96,
   "id": "reasonable-philadelphia",
   "metadata": {},
   "outputs": [
    {
     "data": {
      "text/plain": [
       "0.0"
      ]
     },
     "execution_count": 96,
     "metadata": {},
     "output_type": "execute_result"
    }
   ],
   "source": [
    "np.mean(dones_pred - dones_true)"
   ]
  },
  {
   "cell_type": "code",
   "execution_count": 88,
   "id": "linear-identity",
   "metadata": {},
   "outputs": [],
   "source": [
    "def predict_rew(f):\n",
    "    d = arr_to_dict(arr=f, keys=keys)\n",
    "    d = {x: int(round(y)) for x, y in d.items()}\n",
    "    r = 0.0\n",
    "    r += learner.env.reward_dict['step']\n",
    "    \n",
    "    if d['player__x'] == d['food__00__x'] and d['player__y'] == d['food__00__y']:\n",
    "        r += learner.env.reward_dict['food_collected']\n",
    "        \n",
    "    if d['player__x'] == d['key__00__x'] and d['player__y'] == d['key__00__y']:\n",
    "        r += learner.env.reward_dict['key_collected']\n",
    "        \n",
    "    if d['player__x'] == d['chest__00__x'] and d['player__y'] == d['chest__00__y'] and d['keys'] > 0:\n",
    "        r += learner.env.reward_dict['chest_opened']    \n",
    "    return r"
   ]
  },
  {
   "cell_type": "code",
   "execution_count": 90,
   "id": "forward-hygiene",
   "metadata": {},
   "outputs": [],
   "source": [
    "rew_pred = np.array([predict_rew(x.numpy()) for x in ox])\n",
    "rew_true = add_features_y[:, keys_add.index('rew_y')].numpy()"
   ]
  },
  {
   "cell_type": "code",
   "execution_count": 92,
   "id": "nonprofit-southeast",
   "metadata": {},
   "outputs": [
    {
     "data": {
      "text/plain": [
       "1.1920928966180355e-08"
      ]
     },
     "execution_count": 92,
     "metadata": {},
     "output_type": "execute_result"
    }
   ],
   "source": [
    "np.max(np.abs(rew_pred - rew_true))"
   ]
  },
  {
   "cell_type": "code",
   "execution_count": null,
   "id": "funny-politics",
   "metadata": {},
   "outputs": [],
   "source": []
  }
 ],
 "metadata": {
  "kernelspec": {
   "display_name": "Python 3",
   "language": "python",
   "name": "python3"
  },
  "language_info": {
   "codemirror_mode": {
    "name": "ipython",
    "version": 3
   },
   "file_extension": ".py",
   "mimetype": "text/x-python",
   "name": "python",
   "nbconvert_exporter": "python",
   "pygments_lexer": "ipython3",
   "version": "3.7.9"
  }
 },
 "nbformat": 4,
 "nbformat_minor": 5
}
