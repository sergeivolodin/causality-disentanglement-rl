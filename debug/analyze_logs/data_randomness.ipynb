{
 "cells": [
  {
   "cell_type": "code",
   "execution_count": 1,
   "id": "60bfc234-3021-49b9-95cf-8a3f038200ed",
   "metadata": {},
   "outputs": [],
   "source": [
    "import numpy as np\n",
    "import os\n",
    "from matplotlib import pyplot as plt\n",
    "from tqdm.auto import tqdm"
   ]
  },
  {
   "cell_type": "code",
   "execution_count": 2,
   "id": "45cb568a-8e94-4545-96d8-c278a5f12bf1",
   "metadata": {},
   "outputs": [],
   "source": [
    "# # from path to big_array.npz\n",
    "# path = '/media/output/data-pickle'\n",
    "# data = sorted(os.listdir(path))\n",
    "# data = [os.path.join(path, x) for x in data]\n",
    "# arrays = [np.round(np.load(t)).astype(np.int32) for t in tqdm(data)]\n",
    "# big_array = np.array(arrays)\n",
    "# np.save(open('big_array.npz', 'wb'), big_array)\n",
    "# big_array.shape"
   ]
  },
  {
   "cell_type": "code",
   "execution_count": 3,
   "id": "2529a31e-e1d8-49b2-b1f3-7daa8056786c",
   "metadata": {},
   "outputs": [],
   "source": [
    "data = np.load('big_array.npz')"
   ]
  },
  {
   "cell_type": "code",
   "execution_count": 4,
   "id": "c0061daf-0040-40b4-8e59-f1dd6334a58f",
   "metadata": {},
   "outputs": [
    {
     "data": {
      "text/plain": [
       "(11049, 2000, 4)"
      ]
     },
     "execution_count": 4,
     "metadata": {},
     "output_type": "execute_result"
    }
   ],
   "source": [
    "data.shape"
   ]
  },
  {
   "cell_type": "code",
   "execution_count": 5,
   "id": "587be727-aa18-4d4a-8652-a31d985f4b98",
   "metadata": {},
   "outputs": [],
   "source": [
    "# # convert pids to IDs\n",
    "# pids = sorted(set(data[:, :, 0].flatten()))\n",
    "# x = data[:, :, 0]\n",
    "# xflat = x.flatten()\n",
    "# y = [pids.index(z) for z in tqdm(xflat)]\n",
    "# data[:, :, 0] = np.array(y).reshape(data.shape[0], data.shape[1])\n",
    "# np.save(open('big_array.npz', 'wb'), data)"
   ]
  },
  {
   "cell_type": "code",
   "execution_count": 6,
   "id": "4567361e-55b1-4d82-8156-708a43f585f5",
   "metadata": {},
   "outputs": [
    {
     "data": {
      "text/plain": [
       "(array([5425539.,       0.,       0., 5643137.,       0.,       0.,\n",
       "        5622637.,       0.,       0., 5406687.]),\n",
       " array([0. , 0.3, 0.6, 0.9, 1.2, 1.5, 1.8, 2.1, 2.4, 2.7, 3. ]),\n",
       " <BarContainer object of 10 artists>)"
      ]
     },
     "execution_count": 6,
     "metadata": {},
     "output_type": "execute_result"
    },
    {
     "data": {
      "image/png": "[encoded data removed]",
      "text/plain": [
       "<Figure size 432x288 with 1 Axes>"
      ]
     },
     "metadata": {
      "needs_background": "light"
     },
     "output_type": "display_data"
    }
   ],
   "source": [
    "plt.hist(data[:, :, 0].flatten())"
   ]
  },
  {
   "cell_type": "code",
   "execution_count": 7,
   "id": "fc5e0f5a-a9e3-420b-be02-919177f50fc3",
   "metadata": {},
   "outputs": [
    {
     "data": {
      "text/plain": [
       "0.5165640329441579"
      ]
     },
     "execution_count": 7,
     "metadata": {},
     "output_type": "execute_result"
    }
   ],
   "source": [
    "steps_env = np.max(data[:, :, 3]) * 4\n",
    "steps_sampled = data.shape[0] * data.shape[1]\n",
    "steps_env / steps_sampled"
   ]
  },
  {
   "cell_type": "code",
   "execution_count": 8,
   "id": "aba0f464-47ac-42a0-ac79-26a9698fad3a",
   "metadata": {},
   "outputs": [
    {
     "data": {
      "text/plain": [
       "(4294967296, 100000000)"
      ]
     },
     "execution_count": 8,
     "metadata": {},
     "output_type": "execute_result"
    }
   ],
   "source": [
    "steps_sampled\n",
    "22098000\n",
    "2**32, 100000000"
   ]
  },
  {
   "cell_type": "code",
   "execution_count": null,
   "id": "838dcbe6-d009-4eba-920f-ead893d96bdb",
   "metadata": {},
   "outputs": [],
   "source": []
  },
  {
   "cell_type": "code",
   "execution_count": 36,
   "id": "2cca112a-efdb-439d-b903-e862002caa86",
   "metadata": {},
   "outputs": [
    {
     "data": {
      "application/vnd.jupyter.widget-view+json": {
       "model_id": "fb122203be384207af6af5eec0281ee9",
       "version_major": 2,
       "version_minor": 0
      },
      "text/plain": [
       "  0%|          | 0/10 [00:00<?, ?it/s]"
      ]
     },
     "metadata": {},
     "output_type": "display_data"
    }
   ],
   "source": [
    "idx = [t[0] * 100000000 + t[1] for t in tqdm(data[:, :, [0, 3]].reshape(-1, 2)[:10])]"
   ]
  },
  {
   "cell_type": "code",
   "execution_count": 17,
   "id": "fe56f589-d383-433b-9587-060de6be0605",
   "metadata": {},
   "outputs": [
    {
     "data": {
      "text/plain": [
       "[(3, 38708),\n",
       " (2, 28109),\n",
       " (1, 48873),\n",
       " (2, 46939),\n",
       " (2, 47044),\n",
       " (3, 34422),\n",
       " (2, 34041),\n",
       " (2, 35213),\n",
       " (2, 30877),\n",
       " (1, 38063)]"
      ]
     },
     "execution_count": 17,
     "metadata": {},
     "output_type": "execute_result"
    }
   ],
   "source": []
  },
  {
   "cell_type": "code",
   "execution_count": 25,
   "id": "81d42432-b716-43e7-a7ac-b31ebe75d31b",
   "metadata": {},
   "outputs": [
    {
     "data": {
      "text/plain": [
       "[<matplotlib.lines.Line2D at 0x7f64ce5a5a90>]"
      ]
     },
     "execution_count": 25,
     "metadata": {},
     "output_type": "execute_result"
    },
    {
     "data": {
      "image/png": "[encoded data removed]",
      "text/plain": [
       "<Figure size 432x288 with 1 Axes>"
      ]
     },
     "metadata": {
      "needs_background": "light"
     },
     "output_type": "display_data"
    }
   ],
   "source": [
    "plt.plot(data[:, :, 3].flatten())"
   ]
  },
  {
   "cell_type": "code",
   "execution_count": 9,
   "id": "0d4f65fc-03de-4a5b-bf9a-289cdcc962e4",
   "metadata": {},
   "outputs": [
    {
     "data": {
      "text/plain": [
       "array([[[      3,     968,      28,   38708],\n",
       "        [      2,     703,      29,   28109],\n",
       "        [      1,    1222,      33,   48873],\n",
       "        ...,\n",
       "        [      2,    1235,       5,   49365],\n",
       "        [      0,    1273,      31,   50911],\n",
       "        [      2,    1174,       4,   46924]],\n",
       "\n",
       "       [[      2,    1164,       2,   46522],\n",
       "        [      2,     913,      39,   36519],\n",
       "        [      3,     742,       7,   29647],\n",
       "        ...,\n",
       "        [      1,    1126,      32,   45032],\n",
       "        [      1,    1033,      20,   41300],\n",
       "        [      2,     860,      12,   34372]],\n",
       "\n",
       "       [[      0,    1056,      18,   42218],\n",
       "        [      0,    1491,      11,   59611],\n",
       "        [      1,    1177,       1,   47041],\n",
       "        ...,\n",
       "        [      0,    1299,      24,   51944],\n",
       "        [      3,    1020,      20,   40780],\n",
       "        [      1,    1297,      22,   51862]],\n",
       "\n",
       "       ...,\n",
       "\n",
       "       [[      3,   67240,      33, 2689593],\n",
       "        [      2,   69979,      39, 2799159],\n",
       "        [      1,   70979,       9, 2839129],\n",
       "        ...,\n",
       "        [      2,   70311,      32, 2812432],\n",
       "        [      2,   70030,      31, 2801191],\n",
       "        [      3,   67762,      17, 2710457]],\n",
       "\n",
       "       [[      2,   70408,      29, 2816309],\n",
       "        [      2,   70221,      21, 2808821],\n",
       "        [      2,   70257,      18, 2810258],\n",
       "        ...,\n",
       "        [      3,   67588,      33, 2703513],\n",
       "        [      2,   70163,      28, 2806508],\n",
       "        [      3,   67947,      23, 2717863]],\n",
       "\n",
       "       [[      3,   67690,      27, 2707587],\n",
       "        [      0,   68888,      14, 2755494],\n",
       "        [      2,   70413,      14, 2816494],\n",
       "        ...,\n",
       "        [      2,   70372,      20, 2814860],\n",
       "        [      0,   68930,       2, 2757162],\n",
       "        [      0,   68984,       5, 2759325]]], dtype=int32)"
      ]
     },
     "execution_count": 9,
     "metadata": {},
     "output_type": "execute_result"
    }
   ],
   "source": [
    "data"
   ]
  },
  {
   "cell_type": "code",
   "execution_count": 10,
   "id": "5e6e7f54-a208-4c0c-ba78-9c483e1c70c9",
   "metadata": {},
   "outputs": [],
   "source": [
    "# plt.plot(data[data[:, :, 0] == 0][:, 3])\n",
    "# # plt.yscale('log')\n",
    "# # plt.xscale('log')"
   ]
  },
  {
   "cell_type": "code",
   "execution_count": 11,
   "id": "d8f6966d-0730-4ddc-a7ad-c1fc65c2bdc9",
   "metadata": {},
   "outputs": [],
   "source": [
    "from collections import Counter"
   ]
  },
  {
   "cell_type": "code",
   "execution_count": 35,
   "id": "5dc4f399-9cd1-4ce7-8f16-78df25a4bca4",
   "metadata": {},
   "outputs": [
    {
     "data": {
      "text/plain": [
       "(5425539, 4)"
      ]
     },
     "execution_count": 35,
     "metadata": {},
     "output_type": "execute_result"
    }
   ],
   "source": [
    "data[(data[:, :, 0] == pid)].shape"
   ]
  },
  {
   "cell_type": "code",
   "execution_count": 36,
   "id": "da439c81-4ecd-4f53-8129-33ccd51abecc",
   "metadata": {},
   "outputs": [],
   "source": [
    "pid = 1\n",
    "data_pid = data[data[:, :, 0] == pid][:, 3]"
   ]
  },
  {
   "cell_type": "code",
   "execution_count": 37,
   "id": "d6d8d752-207e-436d-83e2-a91a5afc8e61",
   "metadata": {},
   "outputs": [
    {
     "data": {
      "text/plain": [
       "array([  48873,   38063,   53903, ..., 2845972, 2851720, 2836798],\n",
       "      dtype=int32)"
      ]
     },
     "execution_count": 37,
     "metadata": {},
     "output_type": "execute_result"
    }
   ],
   "source": [
    "data_pid"
   ]
  },
  {
   "cell_type": "code",
   "execution_count": 38,
   "id": "9e3de3a8-ba08-4dbf-b5e8-73c78a94e4c1",
   "metadata": {},
   "outputs": [
    {
     "data": {
      "text/plain": [
       "(array([582640., 566991., 563331., 563630., 567262., 565608., 566460.,\n",
       "        565680., 562542., 538993.]),\n",
       " array([  33321. ,  315364.7,  597408.4,  879452.1, 1161495.8, 1443539.5,\n",
       "        1725583.2, 2007626.9, 2289670.6, 2571714.3, 2853758. ]),\n",
       " <BarContainer object of 10 artists>)"
      ]
     },
     "execution_count": 38,
     "metadata": {},
     "output_type": "execute_result"
    },
    {
     "data": {
      "image/png": "[encoded data removed]",
      "text/plain": [
       "<Figure size 432x288 with 1 Axes>"
      ]
     },
     "metadata": {
      "needs_background": "light"
     },
     "output_type": "display_data"
    }
   ],
   "source": [
    "plt.hist(data_pid)"
   ]
  },
  {
   "cell_type": "code",
   "execution_count": 39,
   "id": "f8816645-662b-4d0b-a262-94d8b2718b18",
   "metadata": {},
   "outputs": [],
   "source": [
    "cnt = Counter(data_pid)"
   ]
  },
  {
   "cell_type": "code",
   "execution_count": 40,
   "id": "2b6913cd-1b0a-42a1-bc69-30582bb2b154",
   "metadata": {},
   "outputs": [],
   "source": [
    "most_common = cnt.most_common()"
   ]
  },
  {
   "cell_type": "code",
   "execution_count": 41,
   "id": "f2e5be47-afcf-4828-8298-b476bd9aded1",
   "metadata": {},
   "outputs": [],
   "source": [
    "step_id, repetitions = zip(*most_common)"
   ]
  },
  {
   "cell_type": "code",
   "execution_count": 47,
   "id": "710758b7-5842-4c62-89f1-e76a081c7bec",
   "metadata": {},
   "outputs": [
    {
     "data": {
      "text/plain": [
       "<matplotlib.collections.PathCollection at 0x7f7f0d54da58>"
      ]
     },
     "execution_count": 47,
     "metadata": {},
     "output_type": "execute_result"
    },
    {
     "data": {
      "image/png": "[encoded data removed]",
      "text/plain": [
       "<Figure size 432x288 with 1 Axes>"
      ]
     },
     "metadata": {
      "needs_background": "light"
     },
     "output_type": "display_data"
    }
   ],
   "source": [
    "plt.scatter(repetitions, step_id)"
   ]
  },
  {
   "cell_type": "code",
   "execution_count": 48,
   "id": "91551846-e91b-41a6-a9ef-26ab91d7b0b3",
   "metadata": {},
   "outputs": [
    {
     "data": {
      "text/plain": [
       "[<matplotlib.lines.Line2D at 0x7f7f0d4c19b0>]"
      ]
     },
     "execution_count": 48,
     "metadata": {},
     "output_type": "execute_result"
    },
    {
     "data": {
      "image/png": "[encoded data removed]",
      "text/plain": [
       "<Figure size 432x288 with 1 Axes>"
      ]
     },
     "metadata": {
      "needs_background": "light"
     },
     "output_type": "display_data"
    }
   ],
   "source": [
    "plt.plot(repetitions, step_id)"
   ]
  },
  {
   "cell_type": "code",
   "execution_count": 43,
   "id": "6c2e3caf-c045-4a14-ace7-71220a12ab4a",
   "metadata": {},
   "outputs": [
    {
     "data": {
      "text/plain": [
       "array([ True,  True, False, ..., False, False, False])"
      ]
     },
     "execution_count": 43,
     "metadata": {},
     "output_type": "execute_result"
    }
   ],
   "source": [
    "np.array(repetitions) == max(repetitions)"
   ]
  },
  {
   "cell_type": "code",
   "execution_count": 44,
   "id": "9dc42656-8406-4ea1-8e1f-cebce6af67f1",
   "metadata": {},
   "outputs": [
    {
     "data": {
      "text/plain": [
       "2422928"
      ]
     },
     "execution_count": 44,
     "metadata": {},
     "output_type": "execute_result"
    }
   ],
   "source": [
    "len(repetitions)"
   ]
  },
  {
   "cell_type": "code",
   "execution_count": 50,
   "id": "a960e6fc-b8c5-4887-88d7-3e312e5063aa",
   "metadata": {},
   "outputs": [
    {
     "data": {
      "text/plain": [
       "(array([7.65590e+05, 7.50480e+05, 4.95959e+05, 2.50667e+05, 1.03696e+05,\n",
       "        3.77310e+04, 1.24980e+04, 4.16700e+03, 1.40900e+03, 4.79000e+02,\n",
       "        1.76000e+02, 5.10000e+01, 1.70000e+01, 6.00000e+00, 2.00000e+00]),\n",
       " array([ 1.        ,  1.93333333,  2.86666667,  3.8       ,  4.73333333,\n",
       "         5.66666667,  6.6       ,  7.53333333,  8.46666667,  9.4       ,\n",
       "        10.33333333, 11.26666667, 12.2       , 13.13333333, 14.06666667,\n",
       "        15.        ]),\n",
       " <BarContainer object of 15 artists>)"
      ]
     },
     "execution_count": 50,
     "metadata": {},
     "output_type": "execute_result"
    },
    {
     "data": {
      "image/png": "[encoded data removed]",
      "text/plain": [
       "<Figure size 432x288 with 1 Axes>"
      ]
     },
     "metadata": {
      "needs_background": "light"
     },
     "output_type": "display_data"
    }
   ],
   "source": [
    "plt.hist(repetitions, bins=max(repetitions))"
   ]
  },
  {
   "cell_type": "code",
   "execution_count": null,
   "id": "9358d5ba-bda8-4d62-9472-ec9a0390424a",
   "metadata": {},
   "outputs": [],
   "source": []
  },
  {
   "cell_type": "code",
   "execution_count": null,
   "id": "8445276d-8b75-45f8-8221-2d5c2edec9f9",
   "metadata": {},
   "outputs": [],
   "source": []
  },
  {
   "cell_type": "code",
   "execution_count": null,
   "id": "c531ba42-a2a6-4858-aab9-f405bc55f257",
   "metadata": {},
   "outputs": [],
   "source": []
  },
  {
   "cell_type": "code",
   "execution_count": null,
   "id": "d506a8ee-89de-4220-af2a-35329a6e46fa",
   "metadata": {},
   "outputs": [],
   "source": []
  },
  {
   "cell_type": "code",
   "execution_count": null,
   "id": "8f356684-fd74-4e3f-8323-714208b595e9",
   "metadata": {},
   "outputs": [],
   "source": []
  },
  {
   "cell_type": "code",
   "execution_count": null,
   "id": "93717fec-67f1-45c4-81e5-8c5e7f3bc319",
   "metadata": {},
   "outputs": [],
   "source": [
    "buffer = np.array()"
   ]
  }
 ],
 "metadata": {
  "kernelspec": {
   "display_name": "Python 3 (ipykernel)",
   "language": "python",
   "name": "python3"
  },
  "language_info": {
   "codemirror_mode": {
    "name": "ipython",
    "version": 3
   },
   "file_extension": ".py",
   "mimetype": "text/x-python",
   "name": "python",
   "nbconvert_exporter": "python",
   "pygments_lexer": "ipython3",
   "version": "3.7.0"
  }
 },
 "nbformat": 4,
 "nbformat_minor": 5
}
