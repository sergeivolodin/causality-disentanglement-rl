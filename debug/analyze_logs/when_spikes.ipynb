{
 "cells": [
  {
   "cell_type": "code",
   "execution_count": 1,
   "id": "9ab46836-b073-4d91-849b-030496ef06df",
   "metadata": {},
   "outputs": [],
   "source": [
    "import pandas as pd\n",
    "import json\n",
    "from tqdm.auto import tqdm\n",
    "from matplotlib import pyplot as plt\n",
    "import numpy as np"
   ]
  },
  {
   "cell_type": "code",
   "execution_count": 2,
   "id": "4b0f1be3-fa16-435a-87fb-b3b2f691571a",
   "metadata": {},
   "outputs": [],
   "source": [
    "f1 = '/home/upload/ray_results/rl_const_sparsity_obs_space_5x5_1f1c1k_obs_env_kc_5x5_1f1c1k_obs_with_lagrange_dual_sparsity/main_fcn_b3e5a_00000_0_2021-10-14_22-11-38/result.json'\n",
    "f2 = '/home/upload/ray_results/rl_const_sparsity_obs_space_5x5_1f1c1k_obs_env_kc_5x5_1f1c1k_obs_with_lagrange_dual_sparsity/main_fcn_910b7_00000_0_2021-10-15_22-52-25/result.json'\n",
    "fs = [f1, f2]"
   ]
  },
  {
   "cell_type": "code",
   "execution_count": 3,
   "id": "4a533767-e3f8-4cb9-8fcd-5b2d1ecbf843",
   "metadata": {},
   "outputs": [],
   "source": [
    "def load_csv(f1):\n",
    "    data = open(f1, 'r').readlines()\n",
    "    data = [json.loads(x) for x in tqdm(data)]\n",
    "    df = pd.DataFrame(data)\n",
    "    df = df[~pd.isna(df['epochs'])]\n",
    "    return df"
   ]
  },
  {
   "cell_type": "code",
   "execution_count": 4,
   "id": "7a7c72ca-69fa-4b86-8f71-a052b33c9139",
   "metadata": {},
   "outputs": [
    {
     "data": {
      "application/vnd.jupyter.widget-view+json": {
       "model_id": "9dd12d130ac74abe94738e11a36cfd7a",
       "version_major": 2,
       "version_minor": 0
      },
      "text/plain": [
       "  0%|          | 0/17325 [00:00<?, ?it/s]"
      ]
     },
     "metadata": {},
     "output_type": "display_data"
    },
    {
     "data": {
      "application/vnd.jupyter.widget-view+json": {
       "model_id": "a0e48e225f7f4f169e155bdc3d72edb9",
       "version_major": 2,
       "version_minor": 0
      },
      "text/plain": [
       "  0%|          | 0/25899 [00:00<?, ?it/s]"
      ]
     },
     "metadata": {},
     "output_type": "display_data"
    }
   ],
   "source": [
    "dfs = [load_csv(f) for f in fs]"
   ]
  },
  {
   "cell_type": "code",
   "execution_count": 5,
   "id": "f9d2528e-c9c7-4c3a-a5eb-41ecbec082f2",
   "metadata": {},
   "outputs": [],
   "source": [
    "df = pd.concat(dfs)"
   ]
  },
  {
   "cell_type": "code",
   "execution_count": 6,
   "id": "74a77915-0ee8-4f81-b2fe-e6ad7902ad00",
   "metadata": {},
   "outputs": [
    {
     "data": {
      "text/plain": [
       "['epochs',\n",
       " 'n_samples',\n",
       " 'losses/opt1d/primal/coeff',\n",
       " 'losses/opt1d/primal/value',\n",
       " 'losses/opt1d/value',\n",
       " 'losses/opt2/dual/coeff',\n",
       " 'losses/opt2/dual/value',\n",
       " 'losses/opt2/value',\n",
       " 'grads/opt1d/grad_total_l1mean',\n",
       " 'grads/opt1d/grad_total_l2sum',\n",
       " 'grads/opt2/grad_total_l1mean',\n",
       " 'grads/opt2/grad_total_l2sum',\n",
       " 'metrics/batch_index',\n",
       " 'metrics/batch_size',\n",
       " 'metrics/primal/fit/value',\n",
       " 'metrics/primal/fit/coeff',\n",
       " 'metrics/primal/fit/mean_feature',\n",
       " 'metrics/primal/fit/std_feature',\n",
       " 'metrics/primal/fit/min_feature',\n",
       " 'metrics/primal/fit/max_feature',\n",
       " 'metrics/primal/fit/loss_fcons',\n",
       " 'metrics/primal/fit/loss_add',\n",
       " 'metrics/primal/fit/loss_rec',\n",
       " 'metrics/primal/fit/loss_fcons_pre',\n",
       " 'metrics/primal/fit/rec_fit_acc_loss_01_agg',\n",
       " 'metrics/primal/fit/loss_discrete',\n",
       " 'metrics/primal/fit/loss_orig',\n",
       " 'metrics/primal/fit/additional/value',\n",
       " 'metrics/primal/fit/obs/value',\n",
       " 'metrics/primal/fit/feat/value',\n",
       " 'metrics/primal/fit/feat_model/value',\n",
       " 'metrics/primal/fit/additional_orig/value',\n",
       " 'metrics/primal/fit/additional_orig/coeff',\n",
       " 'metrics/primal/fit/obs_orig/value',\n",
       " 'metrics/primal/fit/obs_orig/coeff',\n",
       " 'metrics/primal/fit/feat_orig/value',\n",
       " 'metrics/primal/fit/feat_orig/coeff',\n",
       " 'metrics/primal/fit/feat_model_orig/value',\n",
       " 'metrics/primal/fit/feat_model_orig/coeff',\n",
       " 'metrics/primal/fit_all_half/value',\n",
       " 'metrics/primal/fit_all_half/coeff',\n",
       " 'metrics/primal/fit_all_half/mean_feature',\n",
       " 'metrics/primal/fit_all_half/std_feature',\n",
       " 'metrics/primal/fit_all_half/min_feature',\n",
       " 'metrics/primal/fit_all_half/max_feature',\n",
       " 'metrics/primal/fit_all_half/loss_fcons',\n",
       " 'metrics/primal/fit_all_half/loss_add',\n",
       " 'metrics/primal/fit_all_half/loss_rec',\n",
       " 'metrics/primal/fit_all_half/loss_fcons_pre',\n",
       " 'metrics/primal/fit_all_half/rec_fit_acc_loss_01_agg',\n",
       " 'metrics/primal/fit_all_half/loss_discrete',\n",
       " 'metrics/primal/fit_all_half/loss_orig',\n",
       " 'metrics/primal/fit_all_half/additional/value',\n",
       " 'metrics/primal/fit_all_half/obs/value',\n",
       " 'metrics/primal/fit_all_half/feat/value',\n",
       " 'metrics/primal/fit_all_half/feat_model/value',\n",
       " 'metrics/primal/fit_all_half/additional_orig/value',\n",
       " 'metrics/primal/fit_all_half/additional_orig/coeff',\n",
       " 'metrics/primal/fit_all_half/obs_orig/value',\n",
       " 'metrics/primal/fit_all_half/obs_orig/coeff',\n",
       " 'metrics/primal/fit_all_half/feat_orig/value',\n",
       " 'metrics/primal/fit_all_half/feat_orig/coeff',\n",
       " 'metrics/primal/fit_all_half/feat_model_orig/value',\n",
       " 'metrics/primal/fit_all_half/feat_model_orig/coeff',\n",
       " 'metrics/primal/fit_all_on/value',\n",
       " 'metrics/primal/fit_all_on/coeff',\n",
       " 'metrics/primal/fit_all_on/mean_feature',\n",
       " 'metrics/primal/fit_all_on/std_feature',\n",
       " 'metrics/primal/fit_all_on/min_feature',\n",
       " 'metrics/primal/fit_all_on/max_feature',\n",
       " 'metrics/primal/fit_all_on/loss_fcons',\n",
       " 'metrics/primal/fit_all_on/loss_add',\n",
       " 'metrics/primal/fit_all_on/loss_rec',\n",
       " 'metrics/primal/fit_all_on/loss_fcons_pre',\n",
       " 'metrics/primal/fit_all_on/rec_fit_acc_loss_01_agg',\n",
       " 'metrics/primal/fit_all_on/loss_discrete',\n",
       " 'metrics/primal/fit_all_on/loss_orig',\n",
       " 'metrics/primal/fit_all_on/additional/value',\n",
       " 'metrics/primal/fit_all_on/obs/value',\n",
       " 'metrics/primal/fit_all_on/feat/value',\n",
       " 'metrics/primal/fit_all_on/feat_model/value',\n",
       " 'metrics/primal/fit_all_on/additional_orig/value',\n",
       " 'metrics/primal/fit_all_on/additional_orig/coeff',\n",
       " 'metrics/primal/fit_all_on/obs_orig/value',\n",
       " 'metrics/primal/fit_all_on/obs_orig/coeff',\n",
       " 'metrics/primal/fit_all_on/feat_orig/value',\n",
       " 'metrics/primal/fit_all_on/feat_orig/coeff',\n",
       " 'metrics/primal/fit_all_on/feat_model_orig/value',\n",
       " 'metrics/primal/fit_all_on/feat_model_orig/coeff',\n",
       " 'metrics/primal/reconstruction/value',\n",
       " 'metrics/primal/sparsity/sparsity_param_0_(16, 12)',\n",
       " 'metrics/primal/sparsity/value',\n",
       " 'metrics/primal/lagrange_multiplier/fit/additional',\n",
       " 'metrics/primal/lagrange_multiplier/fit/feat',\n",
       " 'metrics/primal/lagrange_multiplier/fit/feat_model',\n",
       " 'metrics/primal/lagrange_multiplier/fit/obs',\n",
       " 'metrics/primal/lagrange_multiplier/fit_all_on/additional',\n",
       " 'metrics/primal/lagrange_multiplier/fit_all_on/feat',\n",
       " 'metrics/primal/lagrange_multiplier/fit_all_on/feat_model',\n",
       " 'metrics/primal/lagrange_multiplier/fit_all_on/obs',\n",
       " 'metrics/primal/lagrange_multiplier/reconstruction',\n",
       " 'metrics/primal/constraints_satisfied',\n",
       " 'metrics/primal/constraints_satisfied_frac',\n",
       " 'metrics/primal/constraint',\n",
       " 'metrics/primal/objective',\n",
       " 'metrics/primal/lagrangian',\n",
       " 'metrics/dual/fit/value',\n",
       " 'metrics/dual/fit/coeff',\n",
       " 'metrics/dual/fit/mean_feature',\n",
       " 'metrics/dual/fit/std_feature',\n",
       " 'metrics/dual/fit/min_feature',\n",
       " 'metrics/dual/fit/max_feature',\n",
       " 'metrics/dual/fit/loss_fcons',\n",
       " 'metrics/dual/fit/loss_add',\n",
       " 'metrics/dual/fit/loss_rec',\n",
       " 'metrics/dual/fit/loss_fcons_pre',\n",
       " 'metrics/dual/fit/rec_fit_acc_loss_01_agg',\n",
       " 'metrics/dual/fit/loss_discrete',\n",
       " 'metrics/dual/fit/loss_orig',\n",
       " 'metrics/dual/fit/additional/value',\n",
       " 'metrics/dual/fit/obs/value',\n",
       " 'metrics/dual/fit/feat/value',\n",
       " 'metrics/dual/fit/feat_model/value',\n",
       " 'metrics/dual/fit/additional_orig/value',\n",
       " 'metrics/dual/fit/additional_orig/coeff',\n",
       " 'metrics/dual/fit/obs_orig/value',\n",
       " 'metrics/dual/fit/obs_orig/coeff',\n",
       " 'metrics/dual/fit/feat_orig/value',\n",
       " 'metrics/dual/fit/feat_orig/coeff',\n",
       " 'metrics/dual/fit/feat_model_orig/value',\n",
       " 'metrics/dual/fit/feat_model_orig/coeff',\n",
       " 'metrics/dual/fit_all_half/value',\n",
       " 'metrics/dual/fit_all_half/coeff',\n",
       " 'metrics/dual/fit_all_half/mean_feature',\n",
       " 'metrics/dual/fit_all_half/std_feature',\n",
       " 'metrics/dual/fit_all_half/min_feature',\n",
       " 'metrics/dual/fit_all_half/max_feature',\n",
       " 'metrics/dual/fit_all_half/loss_fcons',\n",
       " 'metrics/dual/fit_all_half/loss_add',\n",
       " 'metrics/dual/fit_all_half/loss_rec',\n",
       " 'metrics/dual/fit_all_half/loss_fcons_pre',\n",
       " 'metrics/dual/fit_all_half/rec_fit_acc_loss_01_agg',\n",
       " 'metrics/dual/fit_all_half/loss_discrete',\n",
       " 'metrics/dual/fit_all_half/loss_orig',\n",
       " 'metrics/dual/fit_all_half/additional/value',\n",
       " 'metrics/dual/fit_all_half/obs/value',\n",
       " 'metrics/dual/fit_all_half/feat/value',\n",
       " 'metrics/dual/fit_all_half/feat_model/value',\n",
       " 'metrics/dual/fit_all_half/additional_orig/value',\n",
       " 'metrics/dual/fit_all_half/additional_orig/coeff',\n",
       " 'metrics/dual/fit_all_half/obs_orig/value',\n",
       " 'metrics/dual/fit_all_half/obs_orig/coeff',\n",
       " 'metrics/dual/fit_all_half/feat_orig/value',\n",
       " 'metrics/dual/fit_all_half/feat_orig/coeff',\n",
       " 'metrics/dual/fit_all_half/feat_model_orig/value',\n",
       " 'metrics/dual/fit_all_half/feat_model_orig/coeff',\n",
       " 'metrics/dual/fit_all_on/value',\n",
       " 'metrics/dual/fit_all_on/coeff',\n",
       " 'metrics/dual/fit_all_on/mean_feature',\n",
       " 'metrics/dual/fit_all_on/std_feature',\n",
       " 'metrics/dual/fit_all_on/min_feature',\n",
       " 'metrics/dual/fit_all_on/max_feature',\n",
       " 'metrics/dual/fit_all_on/loss_fcons',\n",
       " 'metrics/dual/fit_all_on/loss_add',\n",
       " 'metrics/dual/fit_all_on/loss_rec',\n",
       " 'metrics/dual/fit_all_on/loss_fcons_pre',\n",
       " 'metrics/dual/fit_all_on/rec_fit_acc_loss_01_agg',\n",
       " 'metrics/dual/fit_all_on/loss_discrete',\n",
       " 'metrics/dual/fit_all_on/loss_orig',\n",
       " 'metrics/dual/fit_all_on/additional/value',\n",
       " 'metrics/dual/fit_all_on/obs/value',\n",
       " 'metrics/dual/fit_all_on/feat/value',\n",
       " 'metrics/dual/fit_all_on/feat_model/value',\n",
       " 'metrics/dual/fit_all_on/additional_orig/value',\n",
       " 'metrics/dual/fit_all_on/additional_orig/coeff',\n",
       " 'metrics/dual/fit_all_on/obs_orig/value',\n",
       " 'metrics/dual/fit_all_on/obs_orig/coeff',\n",
       " 'metrics/dual/fit_all_on/feat_orig/value',\n",
       " 'metrics/dual/fit_all_on/feat_orig/coeff',\n",
       " 'metrics/dual/fit_all_on/feat_model_orig/value',\n",
       " 'metrics/dual/fit_all_on/feat_model_orig/coeff',\n",
       " 'metrics/dual/reconstruction/value',\n",
       " 'metrics/dual/sparsity/sparsity_param_0_(16, 12)',\n",
       " 'metrics/dual/sparsity/value',\n",
       " 'metrics/dual/lagrange_multiplier/fit/additional',\n",
       " 'metrics/dual/lagrange_multiplier/fit/feat',\n",
       " 'metrics/dual/lagrange_multiplier/fit/feat_model',\n",
       " 'metrics/dual/lagrange_multiplier/fit/obs',\n",
       " 'metrics/dual/lagrange_multiplier/fit_all_on/additional',\n",
       " 'metrics/dual/lagrange_multiplier/fit_all_on/feat',\n",
       " 'metrics/dual/lagrange_multiplier/fit_all_on/feat_model',\n",
       " 'metrics/dual/lagrange_multiplier/fit_all_on/obs',\n",
       " 'metrics/dual/lagrange_multiplier/reconstruction',\n",
       " 'metrics/dual/constraints_satisfied',\n",
       " 'metrics/dual/constraints_satisfied_frac',\n",
       " 'metrics/dual/constraint',\n",
       " 'metrics/dual/objective',\n",
       " 'metrics/dual/lagrangian',\n",
       " 'metrics/cosine_to_true',\n",
       " 'metrics/episode_reward',\n",
       " 'metrics/fit_loss_smooth',\n",
       " 'metrics/graph_entropy_ma',\n",
       " 'metrics/graph_entropy_mf',\n",
       " 'metrics/max_element_ma',\n",
       " 'metrics/max_element_mf',\n",
       " 'metrics/nnz',\n",
       " 'metrics/non_sparse_fit_loss_smooth',\n",
       " 'metrics/threshold_action',\n",
       " 'metrics/threshold_annealer_threshold',\n",
       " 'metrics/threshold_features',\n",
       " 'metrics/|last_add_sparsity_gap',\n",
       " 'metrics/|last_mult_sparsity_gap',\n",
       " 'CausalModel',\n",
       " 'model',\n",
       " 'checkpoint_tune',\n",
       " 'checkpoint_size',\n",
       " 'time_this_iter_s',\n",
       " 'should_checkpoint',\n",
       " 'done',\n",
       " 'timesteps_total',\n",
       " 'episodes_total',\n",
       " 'training_iteration',\n",
       " 'experiment_id',\n",
       " 'date',\n",
       " 'timestamp',\n",
       " 'time_total_s',\n",
       " 'pid',\n",
       " 'hostname',\n",
       " 'node_ip',\n",
       " 'config',\n",
       " 'time_since_restore',\n",
       " 'timesteps_since_restore',\n",
       " 'iterations_since_restore',\n",
       " 'perf',\n",
       " 'trial_id',\n",
       " 'experiment_tag',\n",
       " 'metrics/context_stats_steps_collected',\n",
       " 'metrics/context_stats_steps_sampled',\n",
       " 'metrics/context_stats_steps_collected_laps',\n",
       " 'metrics/context_stats_steps_sampled_laps',\n",
       " 'metrics/context_stats_collected_sampled_ratio',\n",
       " 'metrics/context_stats_collect_time_s',\n",
       " 'metrics/context_stats_collect_iters',\n",
       " 'metrics/context_stats_pending_refs',\n",
       " 'metrics/context_stats_steps_collected_now',\n",
       " 'threshold_learner_feature',\n",
       " 'threshold_learner_action']"
      ]
     },
     "execution_count": 6,
     "metadata": {},
     "output_type": "execute_result"
    }
   ],
   "source": [
    "list(df.columns)"
   ]
  },
  {
   "cell_type": "code",
   "execution_count": 7,
   "id": "aeacd506-d96d-4ec2-bb9e-3f78319a501c",
   "metadata": {},
   "outputs": [
    {
     "data": {
      "text/plain": [
       "[<matplotlib.lines.Line2D at 0x7f2ff8f51d30>]"
      ]
     },
     "execution_count": 7,
     "metadata": {},
     "output_type": "execute_result"
    },
    {
     "data": {
      "image/png": "[encoded data removed]",
      "text/plain": [
       "<Figure size 432x288 with 1 Axes>"
      ]
     },
     "metadata": {
      "needs_background": "light"
     },
     "output_type": "display_data"
    }
   ],
   "source": [
    "plt.plot(df.epochs, df.timestamp)"
   ]
  },
  {
   "cell_type": "code",
   "execution_count": 8,
   "id": "84f503b3-3d85-445a-ab7c-7c33b47c96d2",
   "metadata": {},
   "outputs": [
    {
     "data": {
      "text/plain": [
       "[<matplotlib.lines.Line2D at 0x7f2ff8d2f6d8>]"
      ]
     },
     "execution_count": 8,
     "metadata": {},
     "output_type": "execute_result"
    },
    {
     "data": {
      "image/png": "[encoded data removed]",
      "text/plain": [
       "<Figure size 432x288 with 1 Axes>"
      ]
     },
     "metadata": {
      "needs_background": "light"
     },
     "output_type": "display_data"
    }
   ],
   "source": [
    "plt.plot(df.epochs, df['metrics/dual/lagrange_multiplier/fit/feat'])"
   ]
  },
  {
   "cell_type": "code",
   "execution_count": 9,
   "id": "f5f6d305-6905-422b-9e10-763e215eddb5",
   "metadata": {},
   "outputs": [
    {
     "data": {
      "image/png": "[encoded data removed]",
      "text/plain": [
       "<Figure size 432x288 with 1 Axes>"
      ]
     },
     "metadata": {
      "needs_background": "light"
     },
     "output_type": "display_data"
    }
   ],
   "source": [
    "data = df['metrics/primal/fit_all_on/loss_rec']\n",
    "smoothed = data.rolling(50).median()\n",
    "plt.plot(df.epochs, data)\n",
    "plt.plot(df.epochs, smoothed)\n",
    "\n",
    "plt.yscale('log')"
   ]
  },
  {
   "cell_type": "code",
   "execution_count": 51,
   "id": "4a2a6d9e-2256-46b6-a21f-0c76a4f27eb6",
   "metadata": {},
   "outputs": [
    {
     "data": {
      "text/plain": [
       "[<matplotlib.lines.Line2D at 0x7f523f2a36d8>]"
      ]
     },
     "execution_count": 51,
     "metadata": {},
     "output_type": "execute_result"
    },
    {
     "data": {
      "image/png": "[encoded data removed]",
      "text/plain": [
       "<Figure size 432x288 with 1 Axes>"
      ]
     },
     "metadata": {
      "needs_background": "light"
     },
     "output_type": "display_data"
    }
   ],
   "source": [
    "ys = np.abs(data - smoothed) > 30\n",
    "plt.plot(df.epochs, ys)"
   ]
  },
  {
   "cell_type": "code",
   "execution_count": 16,
   "id": "10cc1f5d-9436-4969-9801-5393d481afe6",
   "metadata": {},
   "outputs": [
    {
     "data": {
      "text/plain": [
       "[<matplotlib.lines.Line2D at 0x7f2ff8941dd8>]"
      ]
     },
     "execution_count": 16,
     "metadata": {},
     "output_type": "execute_result"
    },
    {
     "data": {
      "image/png": "[encoded data removed]",
      "text/plain": [
       "<Figure size 432x288 with 1 Axes>"
      ]
     },
     "metadata": {
      "needs_background": "light"
     },
     "output_type": "display_data"
    }
   ],
   "source": [
    "plt.plot(df['metrics/context_stats_steps_sampled_laps'])"
   ]
  },
  {
   "cell_type": "code",
   "execution_count": 56,
   "id": "2b6a1158-367f-4577-bc3c-52bd7b211e1a",
   "metadata": {},
   "outputs": [
    {
     "data": {
      "text/plain": [
       "array([  49,   50,   51,   52,   53,   54,   55,   56,   57,   58,  540,\n",
       "        541,  542,  543,  544,  545, 1104, 1105, 1106, 1107, 1108, 1109,\n",
       "       1110, 1111, 1112, 1113, 1899, 1900, 1901, 1902, 1903, 1904, 1905,\n",
       "       2388, 2390, 2396, 2884, 2885, 2886, 2887, 2888, 2889, 2890, 2891,\n",
       "       2892, 2893, 2894, 3297, 3838, 3839, 3840, 3841, 3842, 3843, 3844,\n",
       "       4458, 4459, 4460, 4461, 4462, 4463, 4464, 4465, 4466, 4932, 4933,\n",
       "       5705, 5706, 5707, 5708, 5709, 5710, 5711, 5712, 6588, 6589, 6590,\n",
       "       6591, 6592, 6593, 6594, 6595, 6596, 6597, 6598, 6599, 6600, 6602,\n",
       "       7493])"
      ]
     },
     "execution_count": 56,
     "metadata": {},
     "output_type": "execute_result"
    }
   ],
   "source": [
    "ys_where = np.where(ys)[0]\n",
    "ys_where"
   ]
  },
  {
   "cell_type": "code",
   "execution_count": 65,
   "id": "0ab99063-acae-4444-b6b1-bd2dfb484bda",
   "metadata": {},
   "outputs": [],
   "source": [
    "def filter_closeness(x_inp, min_diff=5):\n",
    "    output = []\n",
    "    \n",
    "    block_start = None\n",
    "    block_last = None\n",
    "    output = []\n",
    "    \n",
    "    for item in x_inp:\n",
    "        if block_start is None or np.abs(item - block_last) >= min_diff:\n",
    "            # resetting block beginning\n",
    "            block_start = item\n",
    "            block_last = item\n",
    "            \n",
    "            if block_start:\n",
    "                output.append(block_start)\n",
    "            \n",
    "        block_last = item\n",
    "        \n",
    "    return output"
   ]
  },
  {
   "cell_type": "code",
   "execution_count": 73,
   "id": "24865886-f259-46b9-9756-186ae56ba9a6",
   "metadata": {},
   "outputs": [],
   "source": [
    "ys_close = filter_closeness(ys_where)\n",
    "ys_close_epochs = [df.epochs.iloc[x] for x in ys_close]"
   ]
  },
  {
   "cell_type": "code",
   "execution_count": 74,
   "id": "e9630812-d6cc-4f9c-bb18-df8e47ff3bba",
   "metadata": {},
   "outputs": [
    {
     "data": {
      "text/plain": [
       "[<matplotlib.lines.Line2D at 0x7f523e2dd278>]"
      ]
     },
     "execution_count": 74,
     "metadata": {},
     "output_type": "execute_result"
    },
    {
     "data": {
      "image/png": "[encoded data removed]",
      "text/plain": [
       "<Figure size 432x288 with 1 Axes>"
      ]
     },
     "metadata": {
      "needs_background": "light"
     },
     "output_type": "display_data"
    }
   ],
   "source": [
    "plt.plot(ys_close_epochs)"
   ]
  },
  {
   "cell_type": "code",
   "execution_count": 76,
   "id": "bc1728c4-4bc9-4761-ac83-ea17989f54fa",
   "metadata": {},
   "outputs": [
    {
     "data": {
      "text/plain": [
       "2856.923076923077"
      ]
     },
     "execution_count": 76,
     "metadata": {},
     "output_type": "execute_result"
    }
   ],
   "source": [
    "np.max(ys_close_epochs) / (len(ys_close_epochs) - 1)"
   ]
  },
  {
   "cell_type": "code",
   "execution_count": null,
   "id": "fb00f5e5-7dec-47bc-9911-8e13a9344f72",
   "metadata": {},
   "outputs": [],
   "source": [
    "# hypothesis: data collection has issues...\n"
   ]
  },
  {
   "cell_type": "code",
   "execution_count": 34,
   "id": "b8b5e638-bc94-4802-bf60-65054139bdef",
   "metadata": {},
   "outputs": [
    {
     "data": {
      "text/plain": [
       "1.0"
      ]
     },
     "execution_count": 34,
     "metadata": {},
     "output_type": "execute_result"
    }
   ],
   "source": [
    "np.mean(df.epochs == sorted(df.epochs))"
   ]
  },
  {
   "cell_type": "code",
   "execution_count": 10,
   "id": "11fc3e3c-acd8-48c7-901e-f16394fd6e26",
   "metadata": {},
   "outputs": [],
   "source": [
    "df = df.sort_values('epochs')"
   ]
  },
  {
   "cell_type": "code",
   "execution_count": null,
   "id": "920376e5-a8ba-4cd4-a192-666c890356da",
   "metadata": {},
   "outputs": [],
   "source": [
    "df"
   ]
  }
 ],
 "metadata": {
  "kernelspec": {
   "display_name": "Python 3 (ipykernel)",
   "language": "python",
   "name": "python3"
  },
  "language_info": {
   "codemirror_mode": {
    "name": "ipython",
    "version": 3
   },
   "file_extension": ".py",
   "mimetype": "text/x-python",
   "name": "python",
   "nbconvert_exporter": "python",
   "pygments_lexer": "ipython3",
   "version": "3.7.0"
  }
 },
 "nbformat": 4,
 "nbformat_minor": 5
}
