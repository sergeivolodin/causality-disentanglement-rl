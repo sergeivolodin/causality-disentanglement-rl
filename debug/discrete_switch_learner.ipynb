{
 "cells": [
  {
   "cell_type": "code",
   "execution_count": 2,
   "metadata": {},
   "outputs": [
    {
     "name": "stdout",
     "output_type": "stream",
     "text": [
      "The autoreload extension is already loaded. To reload it, use:\n",
      "  %reload_ext autoreload\n"
     ]
    }
   ],
   "source": [
    "%load_ext autoreload\n",
    "%autoreload 2\n",
    "import os\n",
    "os.environ['CUDA_VISIBLE_DEVICES'] = \"-1\"\n",
    "import numpy as np\n",
    "from matplotlib import pyplot as plt\n",
    "import torch\n",
    "from sparse_causal_model_learner_rl.sacred_gin_tune.sacred_wrapper import load_config_files\n",
    "from sparse_causal_model_learner_rl.learners.rl_learner import CausalModelLearnerRL\n",
    "from sparse_causal_model_learner_rl.config import Config\n",
    "from keychest.features_xy import arr_to_dict, dict_to_arr, obs_features_handcoded\n",
    "from keychest.gofa_model import manual_model_features\n",
    "from sparse_causal_model_learner_rl.trainable.gumbel_switch import LearnableSwitch, WithInputSwitch\n",
    "from tqdm.auto import tqdm\n",
    "from torch import nn\n",
    "import gin"
   ]
  },
  {
   "cell_type": "code",
   "execution_count": 3,
   "metadata": {},
   "outputs": [],
   "source": [
    "p = LearnableSwitch((10, ))"
   ]
  },
  {
   "cell_type": "code",
   "execution_count": 4,
   "metadata": {},
   "outputs": [
    {
     "data": {
      "text/plain": [
       "[('logits',\n",
       "  Parameter containing:\n",
       "  tensor([[1., 1., 1., 1., 1., 1., 1., 1., 1., 1.],\n",
       "          [1., 1., 1., 1., 1., 1., 1., 1., 1., 1.]], requires_grad=True))]"
      ]
     },
     "execution_count": 4,
     "metadata": {},
     "output_type": "execute_result"
    }
   ],
   "source": [
    "list(p.named_parameters())"
   ]
  },
  {
   "cell_type": "code",
   "execution_count": 5,
   "metadata": {},
   "outputs": [],
   "source": [
    "loss = torch.mean(p.sample_mask(method='gumbel'))"
   ]
  },
  {
   "cell_type": "code",
   "execution_count": 6,
   "metadata": {},
   "outputs": [
    {
     "data": {
      "text/plain": [
       "tensor([[ 0.5868, -1.4454,  2.3385,  0.0000, -0.0000,  0.0000,  0.1970,  0.0000,\n",
       "          0.4822,  0.3403],\n",
       "        [ 1.2387, -0.0397, -0.3968,  0.0000, -0.0000, -0.0000, -0.2353,  0.0000,\n",
       "          0.4775,  0.8199],\n",
       "        [-0.2817, -1.3355, -0.8617, -0.0000, -0.0000, -0.0000, -2.1774,  0.0000,\n",
       "         -1.1071, -0.2839],\n",
       "        [-1.1118, -0.0599, -2.0636, -0.0000,  0.0000,  0.0000, -0.4872,  0.0000,\n",
       "         -0.4715, -1.6643]], grad_fn=<MulBackward0>)"
      ]
     },
     "execution_count": 6,
     "metadata": {},
     "output_type": "execute_result"
    }
   ],
   "source": [
    "p(torch.randn(4, 10))"
   ]
  },
  {
   "cell_type": "code",
   "execution_count": 7,
   "metadata": {},
   "outputs": [],
   "source": [
    "p.logits.grad = None"
   ]
  },
  {
   "cell_type": "code",
   "execution_count": 8,
   "metadata": {},
   "outputs": [],
   "source": [
    "#loss.backward()\n",
    "loss = torch.mean(p(torch.randn(4, 10)))"
   ]
  },
  {
   "cell_type": "code",
   "execution_count": 9,
   "metadata": {},
   "outputs": [],
   "source": [
    "loss.backward()"
   ]
  },
  {
   "cell_type": "code",
   "execution_count": 10,
   "metadata": {},
   "outputs": [
    {
     "data": {
      "text/plain": [
       "tensor([[ 0.0104,  0.0021, -0.0012,  0.0071,  0.0043,  0.0137, -0.0072, -0.0085,\n",
       "         -0.0006,  0.0059],\n",
       "        [-0.0104, -0.0021,  0.0012, -0.0071, -0.0043, -0.0137,  0.0072,  0.0085,\n",
       "          0.0006, -0.0059]])"
      ]
     },
     "execution_count": 10,
     "metadata": {},
     "output_type": "execute_result"
    }
   ],
   "source": [
    "p.logits.grad"
   ]
  },
  {
   "cell_type": "code",
   "execution_count": 11,
   "metadata": {},
   "outputs": [
    {
     "data": {
      "text/plain": [
       "[('proba_on',\n",
       "  tensor([0.1000, 0.1000, 0.1000, 0.1000, 0.1000, 0.1000, 0.1000, 0.1000, 0.1000,\n",
       "          0.1000], grad_fn=<SelectBackward>))]"
      ]
     },
     "execution_count": 11,
     "metadata": {},
     "output_type": "execute_result"
    }
   ],
   "source": [
    "p.sparsify_me()"
   ]
  },
  {
   "cell_type": "code",
   "execution_count": 12,
   "metadata": {},
   "outputs": [
    {
     "data": {
      "text/plain": [
       "tensor([0.1000, 0.1000, 0.1000, 0.1000, 0.1000, 0.1000, 0.1000, 0.1000, 0.1000,\n",
       "        0.1000], grad_fn=<SelectBackward>)"
      ]
     },
     "execution_count": 12,
     "metadata": {},
     "output_type": "execute_result"
    }
   ],
   "source": [
    "p.softmaxed()"
   ]
  },
  {
   "cell_type": "code",
   "execution_count": 13,
   "metadata": {},
   "outputs": [],
   "source": [
    "class MyModel(nn.Module):\n",
    "    def __init__(self, **kwargs):\n",
    "        super(MyModel, self).__init__()\n",
    "        self.z = nn.Linear(10, 1)\n",
    "    def forward(self, x):\n",
    "        return self.z(x)"
   ]
  },
  {
   "cell_type": "code",
   "execution_count": 14,
   "metadata": {},
   "outputs": [],
   "source": [
    "ws = WithInputSwitch(MyModel, input_shape=(10,))"
   ]
  },
  {
   "cell_type": "code",
   "execution_count": 15,
   "metadata": {},
   "outputs": [
    {
     "data": {
      "text/plain": [
       "[('switch.logits',\n",
       "  Parameter containing:\n",
       "  tensor([[1., 1., 1., 1., 1., 1., 1., 1., 1., 1.],\n",
       "          [1., 1., 1., 1., 1., 1., 1., 1., 1., 1.]], requires_grad=True)),\n",
       " ('model.z.weight',\n",
       "  Parameter containing:\n",
       "  tensor([[ 0.0395,  0.1642,  0.1554,  0.2993,  0.2281, -0.2956, -0.2262,  0.2894,\n",
       "            0.0011,  0.1516]], requires_grad=True)),\n",
       " ('model.z.bias',\n",
       "  Parameter containing:\n",
       "  tensor([-0.2651], requires_grad=True))]"
      ]
     },
     "execution_count": 15,
     "metadata": {},
     "output_type": "execute_result"
    }
   ],
   "source": [
    "list(ws.named_parameters())"
   ]
  },
  {
   "cell_type": "code",
   "execution_count": 16,
   "metadata": {},
   "outputs": [
    {
     "data": {
      "text/plain": [
       "[('proba_on',\n",
       "  tensor([0.1000, 0.1000, 0.1000, 0.1000, 0.1000, 0.1000, 0.1000, 0.1000, 0.1000,\n",
       "          0.1000], grad_fn=<SelectBackward>))]"
      ]
     },
     "execution_count": 16,
     "metadata": {},
     "output_type": "execute_result"
    }
   ],
   "source": [
    "ws.sparsify_me()"
   ]
  },
  {
   "cell_type": "code",
   "execution_count": 26,
   "metadata": {},
   "outputs": [
    {
     "data": {
      "text/plain": [
       "tensor([[-0.3655],\n",
       "        [-0.0679],\n",
       "        [ 0.1606],\n",
       "        [-0.6880],\n",
       "        [-0.2407]], grad_fn=<AddmmBackward>)"
      ]
     },
     "execution_count": 26,
     "metadata": {},
     "output_type": "execute_result"
    }
   ],
   "source": [
    "ws(torch.randn(5, 10))"
   ]
  },
  {
   "cell_type": "code",
   "execution_count": 27,
   "metadata": {},
   "outputs": [
    {
     "data": {
      "text/plain": [
       "tensor([[ 0.0296,  0.0000,  0.0000, -0.7063, -0.0000, -1.2354, -0.4303, -0.0000,\n",
       "         -1.2880,  0.1100],\n",
       "        [-0.0073,  0.0000, -0.0000,  1.0901, -0.0000, -2.1113, -0.3207, -0.0000,\n",
       "         -0.6150, -1.6298],\n",
       "        [ 0.7556, -0.0000,  0.0000, -0.0869,  0.0000,  0.0900, -1.0956, -0.0000,\n",
       "          0.4013,  0.6033],\n",
       "        [-1.4899, -0.0000,  0.0000,  0.8348, -0.0000, -0.0973,  0.8588,  0.0000,\n",
       "         -2.3550, -2.4604],\n",
       "        [ 0.0823, -0.0000, -0.0000,  0.7506,  0.0000, -0.5795, -0.7919, -0.0000,\n",
       "         -0.8441,  0.8194]], grad_fn=<MulBackward0>)"
      ]
     },
     "execution_count": 27,
     "metadata": {},
     "output_type": "execute_result"
    }
   ],
   "source": [
    "ws.switch(torch.randn(5, 10))"
   ]
  },
  {
   "cell_type": "code",
   "execution_count": null,
   "metadata": {},
   "outputs": [],
   "source": []
  }
 ],
 "metadata": {
  "kernelspec": {
   "display_name": "Python 3",
   "language": "python",
   "name": "python3"
  },
  "language_info": {
   "codemirror_mode": {
    "name": "ipython",
    "version": 3
   },
   "file_extension": ".py",
   "mimetype": "text/x-python",
   "name": "python",
   "nbconvert_exporter": "python",
   "pygments_lexer": "ipython3",
   "version": "3.7.0"
  }
 },
 "nbformat": 4,
 "nbformat_minor": 4
}
