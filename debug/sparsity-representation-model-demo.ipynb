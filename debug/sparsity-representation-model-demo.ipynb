{
 "cells": [
  {
   "cell_type": "code",
   "execution_count": 504,
   "metadata": {},
   "outputs": [],
   "source": [
    "import os\n",
    "os.environ['CUDA_VISIBLE_DEVICES'] = \"0\"\n",
    "import torch\n",
    "from torch import nn\n",
    "from tqdm.auto import tqdm\n",
    "from matplotlib import pyplot as plt\n",
    "import seaborn as sns\n",
    "import numpy as np"
   ]
  },
  {
   "cell_type": "code",
   "execution_count": null,
   "metadata": {},
   "outputs": [],
   "source": []
  },
  {
   "cell_type": "code",
   "execution_count": 93,
   "metadata": {},
   "outputs": [],
   "source": [
    "class RandomFunction(nn.Module):\n",
    "    def __init__(self):\n",
    "        super(RandomFunction, self).__init__()\n",
    "        self.fc1 = nn.Linear(2, 50)\n",
    "        self.fc2 = nn.Linear(50, 50)\n",
    "        self.act = nn.Tanh()\n",
    "    def forward(self, x):\n",
    "        x = self.act(self.fc1(x))\n",
    "        x = self.fc2(x)\n",
    "        return x"
   ]
  },
  {
   "cell_type": "code",
   "execution_count": 94,
   "metadata": {},
   "outputs": [],
   "source": [
    "rf = RandomFunction().cuda()"
   ]
  },
  {
   "cell_type": "code",
   "execution_count": 95,
   "metadata": {},
   "outputs": [],
   "source": [
    "features = torch.randn(1000, 2).cuda()"
   ]
  },
  {
   "cell_type": "code",
   "execution_count": 98,
   "metadata": {},
   "outputs": [],
   "source": [
    "data = rf(features).detach()"
   ]
  },
  {
   "cell_type": "code",
   "execution_count": 99,
   "metadata": {},
   "outputs": [],
   "source": [
    "class Decoder(nn.Module):\n",
    "    def __init__(self):\n",
    "        super(Decoder, self).__init__()\n",
    "        self.fc1 = nn.Linear(100, 50)\n",
    "        self.fc2 = nn.Linear(50, 2)\n",
    "        self.act = nn.Tanh()\n",
    "    def forward(self, x):\n",
    "        x = self.act(self.fc1(x))\n",
    "        x = self.fc2(x)\n",
    "        return x"
   ]
  },
  {
   "cell_type": "code",
   "execution_count": null,
   "metadata": {},
   "outputs": [],
   "source": []
  },
  {
   "cell_type": "code",
   "execution_count": 295,
   "metadata": {},
   "outputs": [],
   "source": [
    "class Switch(nn.Module):\n",
    "    def __init__(self):\n",
    "        super(Switch, self).__init__()\n",
    "        self.probas = nn.Parameter(torch.ones(50, requires_grad=True,\n",
    "                                                         dtype=torch.float32) * 1.0)\n",
    "        self.last_mask = None\n",
    "    def clip_proba(self):\n",
    "        self.probas.data = torch.clamp(self.probas.data, min=0.5, max=1.0)      \n",
    "        \n",
    "    def forward(self, x):\n",
    "        self.clip_proba()\n",
    "        \n",
    "        mask = torch.bernoulli(self.probas.view(1, 50).repeat(x.shape[0], 1)).detach()\n",
    "        self.last_mask = mask\n",
    "        return torch.cat([mask, x * mask], dim=1)\n"
   ]
  },
  {
   "cell_type": "code",
   "execution_count": 296,
   "metadata": {},
   "outputs": [
    {
     "data": {
      "text/plain": [
       "tensor([[ 1.0000,  1.0000,  0.0000,  ...,  0.2010, -0.0000, -0.1472],\n",
       "        [ 1.0000,  1.0000,  0.0000,  ...,  0.2824, -0.1426, -0.0000],\n",
       "        [ 1.0000,  1.0000,  1.0000,  ...,  0.0749, -0.2973,  0.0255],\n",
       "        ...,\n",
       "        [ 0.0000,  1.0000,  1.0000,  ..., -0.0000, -0.0000,  0.1779],\n",
       "        [ 0.0000,  1.0000,  0.0000,  ...,  0.0000, -0.1497, -0.0722],\n",
       "        [ 1.0000,  1.0000,  1.0000,  ..., -0.2950, -0.0000,  0.0000]],\n",
       "       device='cuda:0')"
      ]
     },
     "execution_count": 296,
     "metadata": {},
     "output_type": "execute_result"
    }
   ],
   "source": [
    "sw(data)"
   ]
  },
  {
   "cell_type": "code",
   "execution_count": 297,
   "metadata": {},
   "outputs": [],
   "source": [
    "dec = Decoder().cuda()\n",
    "sw = Switch().cuda()"
   ]
  },
  {
   "cell_type": "code",
   "execution_count": 298,
   "metadata": {},
   "outputs": [],
   "source": [
    "delta = (dec(sw(data)) - features).pow(2).sum(1)"
   ]
  },
  {
   "cell_type": "code",
   "execution_count": 299,
   "metadata": {},
   "outputs": [],
   "source": [
    "def fill_probas_grad(delta):\n",
    "    delta_view = delta.view(delta.shape[0], 1).repeat(1, 50)\n",
    "    loss_on = torch.where(sw.last_mask > 0.5, delta_view, torch.zeros_like(delta_view)).sum(0)\n",
    "    loss_off = torch.where(sw.last_mask < 0.5, delta_view, torch.zeros_like(delta_view)).sum(0)\n",
    "    \n",
    "    cnt_on = sw.last_mask.sum(0)\n",
    "    cnt_off = (1 - sw.last_mask).sum(0)\n",
    "    \n",
    "    cnt_on = torch.clamp(cnt_on, 1, 100000000000000)\n",
    "    cnt_off = torch.clamp(cnt_off, 1, 1000000000000)\n",
    "    \n",
    "    g = (loss_on / cnt_on - loss_off / cnt_off).detach()\n",
    "    if sw.probas.grad is None:\n",
    "        sw.probas.grad = g\n",
    "    else:\n",
    "        sw.probas.grad.data += g"
   ]
  },
  {
   "cell_type": "code",
   "execution_count": 300,
   "metadata": {},
   "outputs": [],
   "source": [
    "opt = torch.optim.Adam(list(sw.parameters()) + list(dec.parameters()), lr=1e-3)"
   ]
  },
  {
   "cell_type": "code",
   "execution_count": 301,
   "metadata": {},
   "outputs": [],
   "source": [
    "losses = []\n",
    "fits = []\n",
    "sparsity = []\n",
    "coeffs = []\n",
    "coeff = 1e-9"
   ]
  },
  {
   "cell_type": "code",
   "execution_count": 500,
   "metadata": {},
   "outputs": [
    {
     "data": {
      "application/vnd.jupyter.widget-view+json": {
       "model_id": "2167dec5756d46cab171900711bc499c",
       "version_major": 2,
       "version_minor": 0
      },
      "text/plain": [
       "HBox(children=(HTML(value=''), FloatProgress(value=0.0, max=50000.0), HTML(value='')))"
      ]
     },
     "metadata": {},
     "output_type": "display_data"
    },
    {
     "name": "stdout",
     "output_type": "stream",
     "text": [
      "\n"
     ]
    },
    {
     "ename": "KeyboardInterrupt",
     "evalue": "",
     "output_type": "error",
     "traceback": [
      "\u001b[0;31m---------------------------------------------------------------------------\u001b[0m",
      "\u001b[0;31mKeyboardInterrupt\u001b[0m                         Traceback (most recent call last)",
      "\u001b[0;32m<ipython-input-500-d106d36c13a3>\u001b[0m in \u001b[0;36m<module>\u001b[0;34m\u001b[0m\n\u001b[1;32m     12\u001b[0m     \u001b[0mloss_sp\u001b[0m \u001b[0;34m=\u001b[0m \u001b[0msw\u001b[0m\u001b[0;34m.\u001b[0m\u001b[0mprobas\u001b[0m\u001b[0;34m.\u001b[0m\u001b[0mabs\u001b[0m\u001b[0;34m(\u001b[0m\u001b[0;34m)\u001b[0m\u001b[0;34m.\u001b[0m\u001b[0msum\u001b[0m\u001b[0;34m(\u001b[0m\u001b[0;34m)\u001b[0m\u001b[0;34m\u001b[0m\u001b[0m\n\u001b[1;32m     13\u001b[0m     \u001b[0mloss\u001b[0m \u001b[0;34m=\u001b[0m \u001b[0mloss_fit\u001b[0m \u001b[0;34m+\u001b[0m \u001b[0mloss_sp\u001b[0m \u001b[0;34m*\u001b[0m \u001b[0mcoeff\u001b[0m\u001b[0;34m\u001b[0m\u001b[0m\n\u001b[0;32m---> 14\u001b[0;31m     \u001b[0mloss\u001b[0m\u001b[0;34m.\u001b[0m\u001b[0mbackward\u001b[0m\u001b[0;34m(\u001b[0m\u001b[0;34m)\u001b[0m\u001b[0;34m\u001b[0m\u001b[0m\n\u001b[0m\u001b[1;32m     15\u001b[0m     \u001b[0mfill_probas_grad\u001b[0m\u001b[0;34m(\u001b[0m\u001b[0mdelta\u001b[0m\u001b[0;34m)\u001b[0m\u001b[0;34m\u001b[0m\u001b[0m\n\u001b[1;32m     16\u001b[0m     \u001b[0mopt\u001b[0m\u001b[0;34m.\u001b[0m\u001b[0mstep\u001b[0m\u001b[0;34m(\u001b[0m\u001b[0;34m)\u001b[0m\u001b[0;34m\u001b[0m\u001b[0m\n",
      "\u001b[0;32m~/miniconda3/envs/causal/lib/python3.7/site-packages/torch/tensor.py\u001b[0m in \u001b[0;36mbackward\u001b[0;34m(self, gradient, retain_graph, create_graph)\u001b[0m\n\u001b[1;32m    219\u001b[0m                 \u001b[0mretain_graph\u001b[0m\u001b[0;34m=\u001b[0m\u001b[0mretain_graph\u001b[0m\u001b[0;34m,\u001b[0m\u001b[0;34m\u001b[0m\u001b[0m\n\u001b[1;32m    220\u001b[0m                 create_graph=create_graph)\n\u001b[0;32m--> 221\u001b[0;31m         \u001b[0mtorch\u001b[0m\u001b[0;34m.\u001b[0m\u001b[0mautograd\u001b[0m\u001b[0;34m.\u001b[0m\u001b[0mbackward\u001b[0m\u001b[0;34m(\u001b[0m\u001b[0mself\u001b[0m\u001b[0;34m,\u001b[0m \u001b[0mgradient\u001b[0m\u001b[0;34m,\u001b[0m \u001b[0mretain_graph\u001b[0m\u001b[0;34m,\u001b[0m \u001b[0mcreate_graph\u001b[0m\u001b[0;34m)\u001b[0m\u001b[0;34m\u001b[0m\u001b[0m\n\u001b[0m\u001b[1;32m    222\u001b[0m \u001b[0;34m\u001b[0m\u001b[0m\n\u001b[1;32m    223\u001b[0m     \u001b[0;32mdef\u001b[0m \u001b[0mregister_hook\u001b[0m\u001b[0;34m(\u001b[0m\u001b[0mself\u001b[0m\u001b[0;34m,\u001b[0m \u001b[0mhook\u001b[0m\u001b[0;34m)\u001b[0m\u001b[0;34m:\u001b[0m\u001b[0;34m\u001b[0m\u001b[0m\n",
      "\u001b[0;32m~/miniconda3/envs/causal/lib/python3.7/site-packages/torch/autograd/__init__.py\u001b[0m in \u001b[0;36mbackward\u001b[0;34m(tensors, grad_tensors, retain_graph, create_graph, grad_variables)\u001b[0m\n\u001b[1;32m    130\u001b[0m     Variable._execution_engine.run_backward(\n\u001b[1;32m    131\u001b[0m         \u001b[0mtensors\u001b[0m\u001b[0;34m,\u001b[0m \u001b[0mgrad_tensors_\u001b[0m\u001b[0;34m,\u001b[0m \u001b[0mretain_graph\u001b[0m\u001b[0;34m,\u001b[0m \u001b[0mcreate_graph\u001b[0m\u001b[0;34m,\u001b[0m\u001b[0;34m\u001b[0m\u001b[0m\n\u001b[0;32m--> 132\u001b[0;31m         allow_unreachable=True)  # allow_unreachable flag\n\u001b[0m\u001b[1;32m    133\u001b[0m \u001b[0;34m\u001b[0m\u001b[0m\n\u001b[1;32m    134\u001b[0m \u001b[0;34m\u001b[0m\u001b[0m\n",
      "\u001b[0;31mKeyboardInterrupt\u001b[0m: "
     ]
    }
   ],
   "source": [
    "for i in tqdm(range(50000)):\n",
    "    opt.zero_grad()\n",
    "    delta = (dec(sw(data)) - features).pow(2).sum(1)\n",
    "    loss_fit = delta.mean(0)\n",
    "    \n",
    "    if i % 50 == 0:\n",
    "        if loss_fit < 1e-5 and coeff < 10:\n",
    "            coeff /= 0.5\n",
    "        elif coeff > 1e-9:\n",
    "            coeff *= 0.5\n",
    "    \n",
    "    loss_sp = sw.probas.abs().sum()\n",
    "    loss = loss_fit + loss_sp * coeff\n",
    "    loss.backward()\n",
    "    fill_probas_grad(delta)\n",
    "    opt.step()\n",
    "    \n",
    "    losses.append(loss.item())\n",
    "    fits.append(loss_fit.item())\n",
    "    sparsity.append(loss_sp.item() - 0.5 * 50)\n",
    "    coeffs.append(coeff)"
   ]
  },
  {
   "cell_type": "code",
   "execution_count": 498,
   "metadata": {},
   "outputs": [
    {
     "data": {
      "image/png": "[encoded data removed]",
      "text/plain": [
       "<Figure size 936x360 with 4 Axes>"
      ]
     },
     "metadata": {
      "needs_background": "light"
     },
     "output_type": "display_data"
    }
   ],
   "source": [
    "plt.figure(figsize=(13, 5))\n",
    "plt.subplot(1, 4, 1)\n",
    "plt.plot(losses)\n",
    "plt.title('loss')\n",
    "plt.yscale('log')\n",
    "plt.subplot(1, 4, 2)\n",
    "plt.plot(fits)\n",
    "plt.title('fit')\n",
    "plt.yscale('log')\n",
    "plt.subplot(1, 4, 3)\n",
    "plt.plot(sparsity)\n",
    "plt.title('sp')\n",
    "plt.yscale('log')\n",
    "plt.subplot(1, 4, 4)\n",
    "plt.plot(coeffs)\n",
    "plt.title('coef')\n",
    "plt.yscale('log')"
   ]
  },
  {
   "cell_type": "code",
   "execution_count": 499,
   "metadata": {},
   "outputs": [
    {
     "data": {
      "text/plain": [
       "<AxesSubplot:>"
      ]
     },
     "execution_count": 499,
     "metadata": {},
     "output_type": "execute_result"
    },
    {
     "data": {
      "image/png": "[encoded data removed]",
      "text/plain": [
       "<Figure size 432x288 with 2 Axes>"
      ]
     },
     "metadata": {
      "needs_background": "light"
     },
     "output_type": "display_data"
    }
   ],
   "source": [
    "sns.heatmap(sw.probas.detach().cpu().numpy().reshape(-3, 1),\n",
    "            vmin=0.5, vmax=1)"
   ]
  },
  {
   "cell_type": "code",
   "execution_count": 450,
   "metadata": {},
   "outputs": [
    {
     "data": {
      "text/plain": [
       "Parameter containing:\n",
       "tensor([0.4999, 0.4999, 0.4999, 0.4999, 0.4998, 0.5000, 0.4999, 0.4999, 0.4999,\n",
       "        0.4999, 0.4999, 0.4999, 0.4999, 1.0000, 0.4999, 0.4999, 0.4999, 0.4998,\n",
       "        0.4999, 0.9999, 0.4999, 0.4999, 0.4999, 0.4999, 0.4999, 0.4999, 0.5008,\n",
       "        0.4999, 0.4999, 0.4999, 0.4999, 0.4999, 0.4999, 0.4999, 0.4998, 1.0001,\n",
       "        0.4999, 0.4999, 0.4999, 0.4999, 0.4999, 0.4999, 0.4999, 0.4999, 0.4999,\n",
       "        0.5001, 0.4999, 0.4999, 0.4999, 0.4999], device='cuda:0',\n",
       "       requires_grad=True)"
      ]
     },
     "execution_count": 450,
     "metadata": {},
     "output_type": "execute_result"
    }
   ],
   "source": [
    "sw.probas"
   ]
  },
  {
   "cell_type": "code",
   "execution_count": null,
   "metadata": {},
   "outputs": [],
   "source": []
  }
 ],
 "metadata": {
  "kernelspec": {
   "display_name": "Python 3",
   "language": "python",
   "name": "python3"
  },
  "language_info": {
   "codemirror_mode": {
    "name": "ipython",
    "version": 3
   },
   "file_extension": ".py",
   "mimetype": "text/x-python",
   "name": "python",
   "nbconvert_exporter": "python",
   "pygments_lexer": "ipython3",
   "version": "3.7.0"
  }
 },
 "nbformat": 4,
 "nbformat_minor": 4
}
