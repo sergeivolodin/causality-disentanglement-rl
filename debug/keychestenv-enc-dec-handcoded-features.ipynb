{
 "cells": [
  {
   "cell_type": "code",
   "execution_count": 1,
   "metadata": {},
   "outputs": [],
   "source": [
    "%load_ext autoreload\n",
    "%autoreload 2\n",
    "import os\n",
    "os.environ['TF_FORCE_GPU_ALLOW_GROWTH'] = \"true\"\n",
    "import torch\n",
    "import numpy as np\n",
    "from tqdm.auto import tqdm\n",
    "import seaborn as sns\n",
    "import pandas as pd\n",
    "from matplotlib import pyplot as plt\n",
    "from torch import nn\n",
    "import torch.nn.functional as F\n",
    "import gin\n",
    "from causal_util import load_env\n",
    "from causal_util.collect_data import EnvDataCollector\n",
    "from matplotlib import pyplot as plt\n",
    "from sparse_causal_model_learner_rl.sacred_gin_tune.sacred_wrapper import load_config_files\n",
    "from sparse_causal_model_learner_rl.learners.rl_learner import CausalModelLearnerRL\n",
    "import gin\n",
    "from sparse_causal_model_learner_rl.sacred_gin_tune.sacred_wrapper import load_config_files\n",
    "from sparse_causal_model_learner_rl.config.config import Config\n",
    "from sparse_causal_model_learner_rl.trainable.decoder import IdentityDecoder\n",
    "from keychest.keychestenv import obss_to_rgb\n",
    "import tensorflow as tf\n",
    "from keras_tqdm import TQDMNotebookCallback\n"
   ]
  },
  {
   "cell_type": "code",
   "execution_count": 2,
   "metadata": {},
   "outputs": [
    {
     "data": {
      "application/javascript": [
       "var jq = document.createElement('script');\n",
       "jq.src = \"https://ajax.googleapis.com/ajax/libs/jquery/2.1.4/jquery.min.js\";\n",
       "document.getElementsByTagName('head')[0].appendChild(jq);\n"
      ],
      "text/plain": [
       "<IPython.core.display.Javascript object>"
      ]
     },
     "metadata": {},
     "output_type": "display_data"
    }
   ],
   "source": [
    "%%javascript\n",
    "var jq = document.createElement('script');\n",
    "jq.src = \"https://ajax.googleapis.com/ajax/libs/jquery/2.1.4/jquery.min.js\";\n",
    "document.getElementsByTagName('head')[0].appendChild(jq);"
   ]
  },
  {
   "cell_type": "code",
   "execution_count": 3,
   "metadata": {},
   "outputs": [
    {
     "data": {
      "application/javascript": [
       "if (!(\"Notification\" in window)) {\n",
       "    alert(\"This browser does not support desktop notifications, so the %%notify magic will not work.\");\n",
       "} else if (Notification.permission !== 'granted' && Notification.permission !== 'denied') {\n",
       "    Notification.requestPermission(function (permission) {\n",
       "        if(!('permission' in Notification)) {\n",
       "            Notification.permission = permission;\n",
       "        }\n",
       "    })\n",
       "}\n"
      ],
      "text/plain": [
       "<IPython.core.display.Javascript object>"
      ]
     },
     "metadata": {},
     "output_type": "display_data"
    }
   ],
   "source": [
    "%load_ext jupyternotify\n",
    "%autonotify -a 30"
   ]
  },
  {
   "cell_type": "code",
   "execution_count": 4,
   "metadata": {},
   "outputs": [
    {
     "data": {
      "text/plain": [
       "['common', '5x5']"
      ]
     },
     "execution_count": 4,
     "metadata": {},
     "output_type": "execute_result"
    }
   ],
   "source": [
    "load_config_files(['../sparse_causal_model_learner_rl/configs/common.gin', '../keychest/config/5x5.gin'])"
   ]
  },
  {
   "cell_type": "code",
   "execution_count": 5,
   "metadata": {},
   "outputs": [
    {
     "name": "stderr",
     "output_type": "stream",
     "text": [
      "WARNING:root:No class provided for trainable value_predictor\n"
     ]
    },
    {
     "name": "stdout",
     "output_type": "stream",
     "text": [
      "Make environment KeyChest-v0 None {}\n"
     ]
    }
   ],
   "source": [
    "learner = CausalModelLearnerRL(Config())\n",
    "env = learner.env\n",
    "h, w, c = env.engine._observation.shape"
   ]
  },
  {
   "cell_type": "code",
   "execution_count": 6,
   "metadata": {},
   "outputs": [],
   "source": [
    "def get_xy(steps=1000):\n",
    "    \"\"\"Get the dataset.\"\"\"\n",
    "    gin.bind_parameter('Config.feature_shape', None)\n",
    "    gin.bind_parameter('KeyChestEnvironment.flatten_observation', True)\n",
    "    gin.bind_parameter('Config.env_steps', steps)\n",
    "    gin.bind_parameter('Config.decoder', None)\n",
    "    gin.bind_parameter('Config.model', None)\n",
    "    gin.bind_parameter('Config.reconstructor', None)\n",
    "    gin.bind_parameter('Config.value_predictor', None)\n",
    "    learner = CausalModelLearnerRL(Config())\n",
    "    learner.collect_steps(do_tqdm=True)\n",
    "    obs_x = learner._context.get('obs_x').cpu().numpy()\n",
    "    obs_y = learner._context.get('obs_y').cpu().numpy()\n",
    "    act_x = learner._context.get('action_x').cpu().numpy()\n",
    "\n",
    "    X = np.concatenate((obs_x, act_x), axis=1)\n",
    "    y = obs_y\n",
    "    return X, y"
   ]
  },
  {
   "cell_type": "code",
   "execution_count": 463,
   "metadata": {},
   "outputs": [
    {
     "name": "stderr",
     "output_type": "stream",
     "text": [
      "WARNING:root:No class provided for trainable model\n",
      "WARNING:root:No class provided for trainable decoder\n",
      "WARNING:root:No class provided for trainable reconstructor\n",
      "WARNING:root:No class provided for trainable value_predictor\n",
      "WARNING:root:No parameters for optimizer opt1 <function Optimizer at 0x7f443a154320>\n"
     ]
    },
    {
     "name": "stdout",
     "output_type": "stream",
     "text": [
      "Make environment KeyChest-v0 None {}\n"
     ]
    },
    {
     "data": {
      "application/vnd.jupyter.widget-view+json": {
       "model_id": "db7fbe7542b74393b7244866746d1a87",
       "version_major": 2,
       "version_minor": 0
      },
      "text/plain": [
       "HBox(children=(HTML(value=''), FloatProgress(value=0.0, max=100000.0), HTML(value='')))"
      ]
     },
     "metadata": {},
     "output_type": "display_data"
    },
    {
     "name": "stdout",
     "output_type": "stream",
     "text": [
      "\n",
      "3.0\n"
     ]
    }
   ],
   "source": [
    "X, _ = get_xy(100000)\n",
    "X = X[:, :-4]\n",
    "X = X.reshape((-1, h, w, c))\n",
    "X_rgb = obss_to_rgb(X, env.engine)"
   ]
  },
  {
   "cell_type": "code",
   "execution_count": 464,
   "metadata": {},
   "outputs": [
    {
     "data": {
      "text/plain": [
       "<matplotlib.image.AxesImage at 0x7f440fa77a90>"
      ]
     },
     "execution_count": 464,
     "metadata": {},
     "output_type": "execute_result"
    },
    {
     "data": {
      "image/png": "[encoded data removed]",
      "text/plain": [
       "<Figure size 432x288 with 1 Axes>"
      ]
     },
     "metadata": {
      "needs_background": "light"
     },
     "output_type": "display_data"
    }
   ],
   "source": [
    "plt.imshow(X_rgb[0])"
   ]
  },
  {
   "cell_type": "code",
   "execution_count": 465,
   "metadata": {},
   "outputs": [
    {
     "name": "stdout",
     "output_type": "stream",
     "text": [
      "The history saving thread hit an unexpected error (OperationalError('database is locked')).History will not be written to the database.\n"
     ]
    }
   ],
   "source": [
    "def dict_to_arr(d):\n",
    "    \"\"\"Dictionary to a list with keys sorted.\"\"\"\n",
    "    return np.array([d[k] for k in sorted(d.keys())], dtype=np.float32)"
   ]
  },
  {
   "cell_type": "code",
   "execution_count": 466,
   "metadata": {},
   "outputs": [],
   "source": [
    "def arr_to_dict(arr, keys):\n",
    "    \"\"\"Array back to dictionary.\"\"\"\n",
    "    assert len(arr) == len(keys)\n",
    "    return {x: y for x, y in zip(sorted(keys), arr)}"
   ]
  },
  {
   "cell_type": "code",
   "execution_count": 467,
   "metadata": {},
   "outputs": [],
   "source": [
    "def obs_features_handcoded(obs, env):\n",
    "    \"\"\"Get features for an observation.\"\"\"\n",
    "    engine = env.engine\n",
    "    \n",
    "    def get_map(key):\n",
    "        idx = engine.OBJECTS.index(key)\n",
    "        return obs[:, :, idx]\n",
    "    \n",
    "    result = {}\n",
    "    result['health'] = np.sum(get_map('health'))\n",
    "    result['keys'] = np.sum(get_map('keys_collected'))\n",
    "    lamp_on = np.sum(get_map('lamp_on'))\n",
    "    lamp_off = np.sum(get_map('lamp_off'))\n",
    "    result['lamp_status'] = 1 if lamp_on else (0 if lamp_off else -1)\n",
    "    \n",
    "    n_keys = gin.query_parameter('KeyChestEnvironmentRandom.n_keys')\n",
    "    n_chests = gin.query_parameter('KeyChestEnvironmentRandom.n_chests')\n",
    "    n_food = gin.query_parameter('KeyChestEnvironmentRandom.n_food')\n",
    "    \n",
    "    objects_to_out = ['key', 'chest', 'food', 'button', 'player', 'lamp_on', 'lamp_off']\n",
    "    objects_cnt = {'key': n_keys, 'chest': n_chests, 'food': n_food}\n",
    "    \n",
    "    def register(key, x, y, idx=None):\n",
    "        if x is None:\n",
    "            x = -1\n",
    "        if y is None:\n",
    "            y = -1\n",
    "        name_prefix = key + \"_\"\n",
    "        if idx is not None:\n",
    "            name_prefix = \"%s%02d_\" % (name_prefix, idx)\n",
    "        \n",
    "        result[name_prefix + \"x\"] = x\n",
    "        result[name_prefix + \"y\"] = y\n",
    "    \n",
    "    def arr_get_val(arr, idx):\n",
    "        if idx < len(arr):\n",
    "            x, y = arr[idx]\n",
    "        else:\n",
    "            x, y = -1, -1\n",
    "        return x, y\n",
    "    \n",
    "    for key in objects_to_out:\n",
    "        m = get_map(key)\n",
    "        where = sorted(list(zip(*np.where(m))))\n",
    "#         print(key, where)\n",
    "        assert len(where) <= 1 or key in objects_cnt\n",
    "        \n",
    "        if key in objects_cnt:\n",
    "            for i in range(objects_cnt[key]):\n",
    "                x, y = arr_get_val(where, i)\n",
    "                register(key, x, y, i)\n",
    "        else:\n",
    "            x, y = arr_get_val(where, 0)\n",
    "            register(key, x, y, None)\n",
    "    \n",
    "    return result"
   ]
  },
  {
   "cell_type": "code",
   "execution_count": 468,
   "metadata": {},
   "outputs": [],
   "source": [
    "Fdict = [obs_features_handcoded(x, env) for x in X]\n",
    "F = np.array([dict_to_arr(f) for f in Fdict])"
   ]
  },
  {
   "cell_type": "code",
   "execution_count": 469,
   "metadata": {},
   "outputs": [],
   "source": [
    "Fkeys = Fdict[0].keys()"
   ]
  },
  {
   "cell_type": "code",
   "execution_count": 470,
   "metadata": {},
   "outputs": [],
   "source": [
    "f = obs_features_handcoded(X[0], env)"
   ]
  },
  {
   "cell_type": "code",
   "execution_count": 471,
   "metadata": {},
   "outputs": [
    {
     "data": {
      "text/plain": [
       "array([ 7.,  5.,  8.,  3., 10.,  1.,  7.,  3.,  8.,  1.,  8.,  6.,  1.,\n",
       "        7.,  4.,  0.,  9.,  3., -1., -1.,  0.,  7.,  1.], dtype=float32)"
      ]
     },
     "execution_count": 471,
     "metadata": {},
     "output_type": "execute_result"
    }
   ],
   "source": [
    "dict_to_arr(f)"
   ]
  },
  {
   "cell_type": "code",
   "execution_count": 472,
   "metadata": {},
   "outputs": [
    {
     "data": {
      "text/plain": [
       "(12, 7, 3)"
      ]
     },
     "execution_count": 472,
     "metadata": {},
     "output_type": "execute_result"
    }
   ],
   "source": [
    "X_rgb[0].shape"
   ]
  },
  {
   "cell_type": "code",
   "execution_count": 473,
   "metadata": {},
   "outputs": [
    {
     "data": {
      "text/plain": [
       "(91664, 23)"
      ]
     },
     "execution_count": 473,
     "metadata": {},
     "output_type": "execute_result"
    }
   ],
   "source": [
    "F.shape"
   ]
  },
  {
   "cell_type": "code",
   "execution_count": 474,
   "metadata": {},
   "outputs": [
    {
     "name": "stdout",
     "output_type": "stream",
     "text": [
      "{'health': 6.0, 'keys': 0.0, 'lamp_status': 0, 'key_00_x': 6, 'key_00_y': 2, 'key_01_x': 8, 'key_01_y': 5, 'chest_00_x': 7, 'chest_00_y': 5, 'chest_01_x': 9, 'chest_01_y': 2, 'food_00_x': 8, 'food_00_y': 1, 'food_01_x': 10, 'food_01_y': 3, 'button_x': 7, 'button_y': 1, 'player_x': 9, 'player_y': 1, 'lamp_on_x': -1, 'lamp_on_y': -1, 'lamp_off_x': 10, 'lamp_off_y': 1}\n"
     ]
    },
    {
     "data": {
      "image/png": "[encoded data removed]",
      "text/plain": [
       "<Figure size 432x288 with 1 Axes>"
      ]
     },
     "metadata": {
      "needs_background": "light"
     },
     "output_type": "display_data"
    },
    {
     "name": "stdout",
     "output_type": "stream",
     "text": [
      "{'health': 2.0, 'keys': 0.0, 'lamp_status': 0, 'key_00_x': 6, 'key_00_y': 5, 'key_01_x': 10, 'key_01_y': 5, 'chest_00_x': 9, 'chest_00_y': 3, 'chest_01_x': 10, 'chest_01_y': 2, 'food_00_x': 9, 'food_00_y': 4, 'food_01_x': 10, 'food_01_y': 4, 'button_x': 7, 'button_y': 3, 'player_x': 7, 'player_y': 1, 'lamp_on_x': -1, 'lamp_on_y': -1, 'lamp_off_x': 7, 'lamp_off_y': 4}\n"
     ]
    },
    {
     "data": {
      "image/png": "[encoded data removed]",
      "text/plain": [
       "<Figure size 432x288 with 1 Axes>"
      ]
     },
     "metadata": {
      "needs_background": "light"
     },
     "output_type": "display_data"
    },
    {
     "name": "stdout",
     "output_type": "stream",
     "text": [
      "{'health': 13.0, 'keys': 0.0, 'lamp_status': 0, 'key_00_x': 7, 'key_00_y': 5, 'key_01_x': 10, 'key_01_y': 3, 'chest_00_x': 7, 'chest_00_y': 1, 'chest_01_x': 10, 'chest_01_y': 2, 'food_00_x': 8, 'food_00_y': 2, 'food_01_x': -1, 'food_01_y': -1, 'button_x': 8, 'button_y': 4, 'player_x': 9, 'player_y': 1, 'lamp_on_x': -1, 'lamp_on_y': -1, 'lamp_off_x': 10, 'lamp_off_y': 5}\n"
     ]
    },
    {
     "data": {
      "image/png": "[encoded data removed]",
      "text/plain": [
       "<Figure size 432x288 with 1 Axes>"
      ]
     },
     "metadata": {
      "needs_background": "light"
     },
     "output_type": "display_data"
    },
    {
     "name": "stdout",
     "output_type": "stream",
     "text": [
      "{'health': 4.0, 'keys': 0.0, 'lamp_status': 0, 'key_00_x': 6, 'key_00_y': 2, 'key_01_x': 7, 'key_01_y': 5, 'chest_00_x': 7, 'chest_00_y': 2, 'chest_01_x': 10, 'chest_01_y': 4, 'food_00_x': 7, 'food_00_y': 4, 'food_01_x': 8, 'food_01_y': 4, 'button_x': 8, 'button_y': 5, 'player_x': 9, 'player_y': 5, 'lamp_on_x': -1, 'lamp_on_y': -1, 'lamp_off_x': 9, 'lamp_off_y': 1}\n"
     ]
    },
    {
     "data": {
      "image/png": "[encoded data removed]",
      "text/plain": [
       "<Figure size 432x288 with 1 Axes>"
      ]
     },
     "metadata": {
      "needs_background": "light"
     },
     "output_type": "display_data"
    },
    {
     "name": "stdout",
     "output_type": "stream",
     "text": [
      "{'health': 4.0, 'keys': 0.0, 'lamp_status': 0, 'key_00_x': 6, 'key_00_y': 4, 'key_01_x': 10, 'key_01_y': 4, 'chest_00_x': 9, 'chest_00_y': 3, 'chest_01_x': 10, 'chest_01_y': 1, 'food_00_x': 7, 'food_00_y': 3, 'food_01_x': 10, 'food_01_y': 3, 'button_x': 7, 'button_y': 2, 'player_x': 7, 'player_y': 4, 'lamp_on_x': -1, 'lamp_on_y': -1, 'lamp_off_x': 9, 'lamp_off_y': 1}\n"
     ]
    },
    {
     "data": {
      "image/png": "[encoded data removed]",
      "text/plain": [
       "<Figure size 432x288 with 1 Axes>"
      ]
     },
     "metadata": {
      "needs_background": "light"
     },
     "output_type": "display_data"
    },
    {
     "name": "stdout",
     "output_type": "stream",
     "text": [
      "{'health': 4.0, 'keys': 0.0, 'lamp_status': 0, 'key_00_x': 8, 'key_00_y': 2, 'key_01_x': 10, 'key_01_y': 3, 'chest_00_x': 9, 'chest_00_y': 2, 'chest_01_x': 10, 'chest_01_y': 4, 'food_00_x': 6, 'food_00_y': 3, 'food_01_x': 9, 'food_01_y': 3, 'button_x': 10, 'button_y': 2, 'player_x': 8, 'player_y': 5, 'lamp_on_x': -1, 'lamp_on_y': -1, 'lamp_off_x': 7, 'lamp_off_y': 2}\n"
     ]
    },
    {
     "data": {
      "image/png": "[encoded data removed]",
      "text/plain": [
       "<Figure size 432x288 with 1 Axes>"
      ]
     },
     "metadata": {
      "needs_background": "light"
     },
     "output_type": "display_data"
    },
    {
     "name": "stdout",
     "output_type": "stream",
     "text": [
      "{'health': 2.0, 'keys': 0.0, 'lamp_status': 0, 'key_00_x': 6, 'key_00_y': 1, 'key_01_x': 8, 'key_01_y': 5, 'chest_00_x': 7, 'chest_00_y': 3, 'chest_01_x': 10, 'chest_01_y': 4, 'food_00_x': 8, 'food_00_y': 3, 'food_01_x': 9, 'food_01_y': 3, 'button_x': 9, 'button_y': 2, 'player_x': 8, 'player_y': 1, 'lamp_on_x': -1, 'lamp_on_y': -1, 'lamp_off_x': 10, 'lamp_off_y': 5}\n"
     ]
    },
    {
     "data": {
      "image/png": "[encoded data removed]",
      "text/plain": [
       "<Figure size 432x288 with 1 Axes>"
      ]
     },
     "metadata": {
      "needs_background": "light"
     },
     "output_type": "display_data"
    },
    {
     "name": "stdout",
     "output_type": "stream",
     "text": [
      "{'health': 3.0, 'keys': 0.0, 'lamp_status': 0, 'key_00_x': 6, 'key_00_y': 4, 'key_01_x': 9, 'key_01_y': 4, 'chest_00_x': 6, 'chest_00_y': 3, 'chest_01_x': 9, 'chest_01_y': 2, 'food_00_x': 6, 'food_00_y': 1, 'food_01_x': 8, 'food_01_y': 1, 'button_x': 9, 'button_y': 3, 'player_x': 7, 'player_y': 4, 'lamp_on_x': -1, 'lamp_on_y': -1, 'lamp_off_x': 8, 'lamp_off_y': 5}\n"
     ]
    },
    {
     "data": {
      "image/png": "[encoded data removed]",
      "text/plain": [
       "<Figure size 432x288 with 1 Axes>"
      ]
     },
     "metadata": {
      "needs_background": "light"
     },
     "output_type": "display_data"
    },
    {
     "name": "stdout",
     "output_type": "stream",
     "text": [
      "{'health': 4.0, 'keys': 1.0, 'lamp_status': 0, 'key_00_x': 9, 'key_00_y': 5, 'key_01_x': -1, 'key_01_y': -1, 'chest_00_x': 6, 'chest_00_y': 1, 'chest_01_x': 7, 'chest_01_y': 1, 'food_00_x': 6, 'food_00_y': 2, 'food_01_x': 8, 'food_01_y': 4, 'button_x': 6, 'button_y': 5, 'player_x': 9, 'player_y': 3, 'lamp_on_x': -1, 'lamp_on_y': -1, 'lamp_off_x': 10, 'lamp_off_y': 5}\n"
     ]
    },
    {
     "data": {
      "image/png": "[encoded data removed]",
      "text/plain": [
       "<Figure size 432x288 with 1 Axes>"
      ]
     },
     "metadata": {
      "needs_background": "light"
     },
     "output_type": "display_data"
    },
    {
     "name": "stdout",
     "output_type": "stream",
     "text": [
      "{'health': 8.0, 'keys': 0.0, 'lamp_status': 0, 'key_00_x': 9, 'key_00_y': 1, 'key_01_x': 10, 'key_01_y': 4, 'chest_00_x': 6, 'chest_00_y': 3, 'chest_01_x': 10, 'chest_01_y': 1, 'food_00_x': 7, 'food_00_y': 2, 'food_01_x': 9, 'food_01_y': 5, 'button_x': 7, 'button_y': 5, 'player_x': 7, 'player_y': 3, 'lamp_on_x': -1, 'lamp_on_y': -1, 'lamp_off_x': 9, 'lamp_off_y': 3}\n"
     ]
    },
    {
     "data": {
      "image/png": "[encoded data removed]",
      "text/plain": [
       "<Figure size 432x288 with 1 Axes>"
      ]
     },
     "metadata": {
      "needs_background": "light"
     },
     "output_type": "display_data"
    }
   ],
   "source": [
    "for i in range(10):\n",
    "    idx = np.random.choice(len(X))\n",
    "#     idx = i\n",
    "    print(Fdict[idx])\n",
    "    plt.imshow(X_rgb[idx])\n",
    "    plt.show()"
   ]
  },
  {
   "cell_type": "markdown",
   "metadata": {},
   "source": [
    "# Embedder model"
   ]
  },
  {
   "cell_type": "code",
   "execution_count": 475,
   "metadata": {},
   "outputs": [],
   "source": [
    "model = tf.keras.Sequential([\n",
    "    tf.keras.layers.Flatten(input_shape=(h * w * c, )),\n",
    "    tf.keras.layers.Dense(512, activation='sigmoid'),\n",
    "    tf.keras.layers.Dense(F.shape[1], activation=None)\n",
    "])"
   ]
  },
  {
   "cell_type": "code",
   "execution_count": 476,
   "metadata": {},
   "outputs": [],
   "source": [
    "model.compile(tf.optimizers.Adam(lr=1e-4), 'mse', metrics=['mae'])"
   ]
  },
  {
   "cell_type": "code",
   "execution_count": 477,
   "metadata": {},
   "outputs": [],
   "source": [
    "import sklearn"
   ]
  },
  {
   "cell_type": "code",
   "execution_count": 478,
   "metadata": {},
   "outputs": [],
   "source": [
    "Xn_scaler = sklearn.preprocessing.StandardScaler()\n",
    "Fn_scaler = sklearn.preprocessing.StandardScaler()"
   ]
  },
  {
   "cell_type": "code",
   "execution_count": 479,
   "metadata": {},
   "outputs": [],
   "source": [
    "Xn = Xn_scaler.fit_transform(X.reshape(X.shape[0], -1))\n",
    "Fn = Fn_scaler.fit_transform(F)"
   ]
  },
  {
   "cell_type": "code",
   "execution_count": null,
   "metadata": {},
   "outputs": [
    {
     "name": "stderr",
     "output_type": "stream",
     "text": [
      "/home/serge/miniconda3/envs/causal/lib/python3.7/site-packages/tensorflow/python/keras/engine/training.py:2325: UserWarning: `Model.state_updates` will be removed in a future version. This property should not be used in TensorFlow 2.0, as `updates` are applied automatically.\n",
      "  warnings.warn('`Model.state_updates` will be removed in a future version. '\n"
     ]
    }
   ],
   "source": [
    "history = model.fit(Xn, Fn, epochs=50000, validation_split=0.1, batch_size=512, verbose=0)#, callbacks=[TQDMNotebookCallback(leave_inner=False)])"
   ]
  },
  {
   "cell_type": "code",
   "execution_count": null,
   "metadata": {},
   "outputs": [],
   "source": [
    "plt.plot(history.history['loss'])\n",
    "plt.yscale('log')"
   ]
  },
  {
   "cell_type": "code",
   "execution_count": null,
   "metadata": {},
   "outputs": [],
   "source": [
    "plt.plot(history.history['mae'])\n",
    "plt.yscale('log')"
   ]
  },
  {
   "cell_type": "code",
   "execution_count": null,
   "metadata": {},
   "outputs": [],
   "source": [
    "np.std(F, axis=0)"
   ]
  },
  {
   "cell_type": "code",
   "execution_count": null,
   "metadata": {},
   "outputs": [],
   "source": [
    "np.mean(F, axis=0)"
   ]
  },
  {
   "cell_type": "code",
   "execution_count": null,
   "metadata": {},
   "outputs": [],
   "source": [
    "model"
   ]
  },
  {
   "cell_type": "code",
   "execution_count": null,
   "metadata": {},
   "outputs": [],
   "source": [
    "model.evaluate(Xn, Fn)"
   ]
  },
  {
   "cell_type": "code",
   "execution_count": null,
   "metadata": {},
   "outputs": [],
   "source": [
    "assert len(X_rgb) == len(Xn)"
   ]
  },
  {
   "cell_type": "code",
   "execution_count": null,
   "metadata": {},
   "outputs": [],
   "source": [
    "idx = np.random.choice(len(Xn))\n",
    "img = X_rgb[idx]\n",
    "Xn_idx = Xn[idx:idx+1]\n",
    "f_pred = model.predict(Xn_idx)[0]\n",
    "f_pred_scaled = f_pred * (Fn_scaler.var_ ** 0.5) + Fn_scaler.mean_\n",
    "f_pred_dct = arr_to_dict(f_pred_scaled, Fkeys)\n",
    "f_true_dct = Fdict[idx]\n",
    "\n",
    "# print(f_pred_dct, f_true_dct)\n",
    "plt.imshow(img)\n",
    "df = pd.DataFrame({'pred': f_pred_dct, 'true': f_true_dct})\n",
    "df['error'] = np.abs(df.pred - df.true)\n",
    "df"
   ]
  },
  {
   "cell_type": "markdown",
   "metadata": {},
   "source": [
    "# Generator model"
   ]
  },
  {
   "cell_type": "code",
   "execution_count": null,
   "metadata": {},
   "outputs": [],
   "source": [
    "Xmasked = np.copy(X)\n",
    "Xmasked[:, :, :, 4:] = 0\n",
    "X_rgb = obss_to_rgb(Xmasked, env.engine)"
   ]
  },
  {
   "cell_type": "code",
   "execution_count": null,
   "metadata": {},
   "outputs": [],
   "source": [
    "Fdict = [obs_features_handcoded(x, env) for x in X]\n",
    "F = np.array([dict_to_arr(f) for f in Fdict])"
   ]
  },
  {
   "cell_type": "code",
   "execution_count": null,
   "metadata": {},
   "outputs": [],
   "source": [
    "plt.imshow(X_rgb[10])"
   ]
  },
  {
   "cell_type": "code",
   "execution_count": null,
   "metadata": {},
   "outputs": [],
   "source": [
    "import sklearn\n",
    "Xn_scaler = sklearn.preprocessing.StandardScaler()\n",
    "Fn_scaler = sklearn.preprocessing.StandardScaler()"
   ]
  },
  {
   "cell_type": "code",
   "execution_count": null,
   "metadata": {},
   "outputs": [],
   "source": [
    "# normalization\n",
    "Xn = Xn_scaler.fit_transform(Xmasked.reshape(X.shape[0], -1))\n",
    "Fn = Fn_scaler.fit_transform(F)\n",
    "# Xn = X.reshape(X.shape[0], -1)\n",
    "# Fn = F"
   ]
  },
  {
   "cell_type": "code",
   "execution_count": null,
   "metadata": {},
   "outputs": [],
   "source": [
    "env.engine.OBJECTS"
   ]
  },
  {
   "cell_type": "code",
   "execution_count": null,
   "metadata": {},
   "outputs": [],
   "source": [
    "sorted(Fkeys).index('health')"
   ]
  },
  {
   "cell_type": "code",
   "execution_count": null,
   "metadata": {},
   "outputs": [],
   "source": [
    "plt.hist(F[:, 10])"
   ]
  },
  {
   "cell_type": "code",
   "execution_count": null,
   "metadata": {},
   "outputs": [],
   "source": [
    "plt.hist(Fn[:, 10])"
   ]
  },
  {
   "cell_type": "code",
   "execution_count": null,
   "metadata": {},
   "outputs": [],
   "source": [
    "#np.max(np.abs(Fnew - F))"
   ]
  },
  {
   "cell_type": "code",
   "execution_count": 526,
   "metadata": {},
   "outputs": [],
   "source": [
    "generator = tf.keras.Sequential([\n",
    "    tf.keras.layers.Flatten(input_shape=(F.shape[1], )),\n",
    "#     tf.keras.layers.Dense(F.shape[1], activation='relu'),\n",
    "#     tf.keras.layers.Dense(1, activation='relu'), # +4096, 4096\n",
    "#     tf.keras.layers.Dense(100, activation='relu'),\n",
    "    tf.keras.layers.Dense((h * w * 3), activation='relu'),\n",
    "    tf.keras.layers.Reshape((h, w, 3))\n",
    "])"
   ]
  },
  {
   "cell_type": "code",
   "execution_count": 527,
   "metadata": {},
   "outputs": [
    {
     "data": {
      "text/plain": [
       "((91664, 924), (91664, 23))"
      ]
     },
     "execution_count": 527,
     "metadata": {},
     "output_type": "execute_result"
    }
   ],
   "source": [
    "Xn.shape, Fn.shape"
   ]
  },
  {
   "cell_type": "code",
   "execution_count": 528,
   "metadata": {},
   "outputs": [],
   "source": [
    "@tf.function\n",
    "def sse(y_true, y_pred):\n",
    "    \n",
    "    l = tf.abs(y_true - y_pred) ** 4\n",
    "    l = tf.reduce_mean(l, axis=0)\n",
    "    l = tf.reduce_sum(l)\n",
    "\n",
    "    return l"
   ]
  },
  {
   "cell_type": "code",
   "execution_count": 529,
   "metadata": {},
   "outputs": [],
   "source": [
    "#generator.compile(tf.optimizers.Adam(lr=1e-4), 'mse', metrics=['mae'])\n",
    "generator.compile(tf.optimizers.Adam(lr=1e-5), 'mse', metrics=['mae'])"
   ]
  },
  {
   "cell_type": "code",
   "execution_count": 538,
   "metadata": {},
   "outputs": [
    {
     "data": {
      "application/javascript": [
       "$(document).ready(\n",
       "    function() {\n",
       "        function appendUniqueDiv(){\n",
       "            // append a div with our uuid so we can check that it's already\n",
       "            // been sent and avoid duplicates on page reload\n",
       "            var notifiedDiv = document.createElement(\"div\")\n",
       "            notifiedDiv.id = \"58737e4e-d1dd-4ab2-b6f4-bfee2f6ede00\"\n",
       "            element.append(notifiedDiv)\n",
       "        }\n",
       "\n",
       "        // only send notifications if the pageload is complete; this will\n",
       "        // help stop extra notifications when a saved notebook is loaded,\n",
       "        // which during testing gives us state \"interactive\", not \"complete\"\n",
       "        if (document.readyState === 'complete') {\n",
       "            // check for the div that signifies that the notification\n",
       "            // was already sent\n",
       "            if (document.getElementById(\"58737e4e-d1dd-4ab2-b6f4-bfee2f6ede00\") === null) {\n",
       "                var notificationPayload = {\"requireInteraction\": false, \"icon\": \"/static/base/images/favicon.ico\", \"body\": \"Cell Execution Has Finished!!\", \"autonotify_after\": \"30\", \"autonotify_output\": false};\n",
       "                if (Notification.permission !== 'denied') {\n",
       "                    if (Notification.permission !== 'granted') { \n",
       "                        Notification.requestPermission(function (permission) {\n",
       "                            if(!('permission' in Notification)) {\n",
       "                                Notification.permission = permission\n",
       "                            }\n",
       "                        })\n",
       "                    }\n",
       "                    if (Notification.permission === 'granted') {\n",
       "                    var notification = new Notification(\"Jupyter Notebook\", notificationPayload)\n",
       "                    appendUniqueDiv()\n",
       "                    notification.onclick = function () {\n",
       "                        window.focus();\n",
       "                        this.close();\n",
       "                        };\n",
       "                    } \n",
       "                }     \n",
       "            }\n",
       "        }\n",
       "    }\n",
       ")\n"
      ],
      "text/plain": [
       "<IPython.core.display.Javascript object>"
      ]
     },
     "metadata": {},
     "output_type": "display_data"
    }
   ],
   "source": [
    "# validation_split=0.1,\n",
    "# history = generator.fit(Fn, Xn, epochs=5000,  batch_size=512, verbose=0)#, callbacks=[TQDMNotebookCallback(leave_inner=False)])\n",
    "history = generator.fit(F, X_rgb, epochs=5000,  batch_size=512, verbose=0)#, callbacks=[TQDMNotebookCallback(leave_inner=False)])"
   ]
  },
  {
   "cell_type": "code",
   "execution_count": 531,
   "metadata": {},
   "outputs": [
    {
     "data": {
      "image/png": "[encoded data removed]",
      "text/plain": [
       "<Figure size 432x288 with 1 Axes>"
      ]
     },
     "metadata": {
      "needs_background": "light"
     },
     "output_type": "display_data"
    }
   ],
   "source": [
    "plt.plot(history.history['loss'])\n",
    "# plt.plot(history.history['val_loss'])\n",
    "plt.yscale('log')"
   ]
  },
  {
   "cell_type": "code",
   "execution_count": 532,
   "metadata": {},
   "outputs": [
    {
     "data": {
      "image/png": "[encoded data removed]",
      "text/plain": [
       "<Figure size 432x288 with 1 Axes>"
      ]
     },
     "metadata": {
      "needs_background": "light"
     },
     "output_type": "display_data"
    }
   ],
   "source": [
    "plt.plot(history.history['mae'])\n",
    "# plt.plot(history.history['val_mae'])\n",
    "plt.yscale('log')"
   ]
  },
  {
   "cell_type": "code",
   "execution_count": 533,
   "metadata": {},
   "outputs": [
    {
     "data": {
      "image/png": "[encoded data removed]",
      "text/plain": [
       "<Figure size 432x288 with 1 Axes>"
      ]
     },
     "metadata": {
      "needs_background": "light"
     },
     "output_type": "display_data"
    }
   ],
   "source": [
    "plt.plot(history.history['mae'])\n",
    "# plt.plot(history.history['val_mae'])\n",
    "plt.yscale('log')"
   ]
  },
  {
   "cell_type": "code",
   "execution_count": 534,
   "metadata": {},
   "outputs": [
    {
     "data": {
      "text/plain": [
       "[0.008836407413136238, 0.017133368]"
      ]
     },
     "execution_count": 534,
     "metadata": {},
     "output_type": "execute_result"
    }
   ],
   "source": [
    "generator.evaluate(F, X_rgb)"
   ]
  },
  {
   "cell_type": "code",
   "execution_count": 539,
   "metadata": {},
   "outputs": [
    {
     "name": "stdout",
     "output_type": "stream",
     "text": [
      "79648 {'health': 8.0, 'keys': 0.0, 'lamp_status': 0, 'key_00_x': 6, 'key_00_y': 1, 'key_01_x': 10, 'key_01_y': 5, 'chest_00_x': 6, 'chest_00_y': 2, 'chest_01_x': 7, 'chest_01_y': 1, 'food_00_x': -1, 'food_00_y': -1, 'food_01_x': -1, 'food_01_y': -1, 'button_x': 7, 'button_y': 5, 'player_x': 8, 'player_y': 2, 'lamp_on_x': -1, 'lamp_on_y': -1, 'lamp_off_x': 8, 'lamp_off_y': 3}\n"
     ]
    },
    {
     "data": {
      "image/png": "[encoded data removed]",
      "text/plain": [
       "<Figure size 432x288 with 3 Axes>"
      ]
     },
     "metadata": {
      "needs_background": "light"
     },
     "output_type": "display_data"
    }
   ],
   "source": [
    "idx = np.random.choice(len(Xn))\n",
    "\n",
    "\n",
    "img_true = X_rgb[idx]\n",
    "Fn_idx = F[idx:idx+1]#Fn[idx:idx+1]\n",
    "img_pred_flat = generator.predict(Fn_idx)\n",
    "img_pred_flat_rescaled = img_pred_flat\n",
    "# img_pred_flat_rescaled = (img_pred_flat * (Xn_scaler.var_ ** 0.5) + Xn_scaler.mean_)\n",
    "img_pred = img_pred_flat_rescaled#.reshape((1, h, w, c))\n",
    "# img_pred_rgb = obss_to_rgb(img_pred, env.engine)[0]\n",
    "img_pred_rgb = img_pred[0]\n",
    "Fdict_idx = Fdict[idx]\n",
    "\n",
    "print(idx, Fdict_idx)\n",
    "\n",
    "img_pred_rgb[img_pred_rgb > 1] = 1\n",
    "img_pred_rgb[img_pred_rgb < 0] = 0\n",
    "\n",
    "plt.subplot(1, 3, 1)\n",
    "plt.title('pred')\n",
    "plt.imshow(img_pred_rgb)\n",
    "plt.subplot(1, 3, 2)\n",
    "plt.title('true')\n",
    "plt.imshow(img_true)\n",
    "plt.subplot(1, 3, 3)\n",
    "plt.title('err')\n",
    "plt.imshow(np.abs(img_pred_rgb - img_true))\n",
    "plt.show()"
   ]
  },
  {
   "cell_type": "code",
   "execution_count": 536,
   "metadata": {},
   "outputs": [
    {
     "ename": "ValueError",
     "evalue": "operands could not be broadcast together with shapes (1,12,7,3) (12,7,11) ",
     "output_type": "error",
     "traceback": [
      "\u001b[0;31m---------------------------------------------------------------------------\u001b[0m",
      "\u001b[0;31mValueError\u001b[0m                                Traceback (most recent call last)",
      "\u001b[0;32m<ipython-input-536-12749c732844>\u001b[0m in \u001b[0;36m<module>\u001b[0;34m\u001b[0m\n\u001b[0;32m----> 1\u001b[0;31m \u001b[0mnp\u001b[0m\u001b[0;34m.\u001b[0m\u001b[0mmean\u001b[0m\u001b[0;34m(\u001b[0m\u001b[0mnp\u001b[0m\u001b[0;34m.\u001b[0m\u001b[0mabs\u001b[0m\u001b[0;34m(\u001b[0m\u001b[0mimg_pred\u001b[0m \u001b[0;34m-\u001b[0m \u001b[0mX\u001b[0m\u001b[0;34m[\u001b[0m\u001b[0midx\u001b[0m\u001b[0;34m]\u001b[0m\u001b[0;34m)\u001b[0m\u001b[0;34m)\u001b[0m\u001b[0;34m\u001b[0m\u001b[0;34m\u001b[0m\u001b[0m\n\u001b[0m",
      "\u001b[0;31mValueError\u001b[0m: operands could not be broadcast together with shapes (1,12,7,3) (12,7,11) "
     ]
    }
   ],
   "source": [
    "np.mean(np.abs(img_pred - X[idx]))"
   ]
  },
  {
   "cell_type": "code",
   "execution_count": null,
   "metadata": {},
   "outputs": [],
   "source": [
    "F[idx]"
   ]
  },
  {
   "cell_type": "code",
   "execution_count": null,
   "metadata": {},
   "outputs": [],
   "source": [
    "np.sum(np.abs(img_pred_flat - Xn[idx]))"
   ]
  },
  {
   "cell_type": "code",
   "execution_count": null,
   "metadata": {},
   "outputs": [],
   "source": [
    "np.sum(np.abs((img_pred - X[idx]).flatten()))"
   ]
  },
  {
   "cell_type": "code",
   "execution_count": null,
   "metadata": {},
   "outputs": [],
   "source": []
  },
  {
   "cell_type": "code",
   "execution_count": 520,
   "metadata": {},
   "outputs": [
    {
     "data": {
      "text/plain": [
       "<matplotlib.image.AxesImage at 0x7f408c61bfd0>"
      ]
     },
     "execution_count": 520,
     "metadata": {},
     "output_type": "execute_result"
    },
    {
     "data": {
      "image/png": "[encoded data removed]",
      "text/plain": [
       "<Figure size 432x288 with 1 Axes>"
      ]
     },
     "metadata": {
      "needs_background": "light"
     },
     "output_type": "display_data"
    }
   ],
   "source": [
    "plt.imshow(X_rgb[idx])"
   ]
  },
  {
   "cell_type": "code",
   "execution_count": null,
   "metadata": {},
   "outputs": [],
   "source": []
  },
  {
   "cell_type": "code",
   "execution_count": null,
   "metadata": {},
   "outputs": [],
   "source": []
  },
  {
   "cell_type": "code",
   "execution_count": null,
   "metadata": {},
   "outputs": [],
   "source": []
  }
 ],
 "metadata": {
  "kernelspec": {
   "display_name": "Python 3",
   "language": "python",
   "name": "python3"
  },
  "language_info": {
   "codemirror_mode": {
    "name": "ipython",
    "version": 3
   },
   "file_extension": ".py",
   "mimetype": "text/x-python",
   "name": "python",
   "nbconvert_exporter": "python",
   "pygments_lexer": "ipython3",
   "version": "3.7.0"
  }
 },
 "nbformat": 4,
 "nbformat_minor": 4
}
