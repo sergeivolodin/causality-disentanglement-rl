{
 "cells": [
  {
   "cell_type": "code",
   "execution_count": 1,
   "metadata": {},
   "outputs": [],
   "source": [
    "%load_ext autoreload\n",
    "%autoreload 2\n",
    "\n",
    "import torch\n",
    "import numpy as np\n",
    "from tqdm.auto import tqdm\n",
    "import seaborn as sns\n",
    "import pandas as pd\n",
    "from matplotlib import pyplot as plt\n",
    "from torch import nn\n",
    "import torch.nn.functional as F\n",
    "import gin\n",
    "from causal_util import load_env\n",
    "from causal_util.collect_data import EnvDataCollector\n",
    "from matplotlib import pyplot as plt\n",
    "from sparse_causal_model_learner_rl.sacred_gin_tune.sacred_wrapper import load_config_files\n",
    "from sparse_causal_model_learner_rl.learners.rl_learner import CausalModelLearnerRL\n",
    "import gin\n",
    "from sparse_causal_model_learner_rl.sacred_gin_tune.sacred_wrapper import load_config_files\n",
    "from sparse_causal_model_learner_rl.config.config import Config\n",
    "from sparse_causal_model_learner_rl.trainable.decoder import IdentityDecoder\n",
    "from keychest.keychestenv import obss_to_rgb"
   ]
  },
  {
   "cell_type": "code",
   "execution_count": 2,
   "metadata": {},
   "outputs": [
    {
     "data": {
      "text/plain": [
       "['common', '5x5']"
      ]
     },
     "execution_count": 2,
     "metadata": {},
     "output_type": "execute_result"
    }
   ],
   "source": [
    "load_config_files(['../sparse_causal_model_learner_rl/configs/common.gin', '../keychest/config/5x5.gin'])"
   ]
  },
  {
   "cell_type": "code",
   "execution_count": 3,
   "metadata": {},
   "outputs": [
    {
     "name": "stderr",
     "output_type": "stream",
     "text": [
      "WARNING:root:No class provided for trainable value_predictor\n"
     ]
    },
    {
     "name": "stdout",
     "output_type": "stream",
     "text": [
      "Make environment KeyChest-v0 None {}\n"
     ]
    }
   ],
   "source": [
    "learner = CausalModelLearnerRL(Config())\n",
    "env = learner.env\n",
    "h, w, c = env.engine._observation.shape"
   ]
  },
  {
   "cell_type": "code",
   "execution_count": 4,
   "metadata": {},
   "outputs": [],
   "source": [
    "def get_xy(steps=1000):\n",
    "    \"\"\"Get the dataset.\"\"\"\n",
    "    gin.bind_parameter('Config.feature_shape', None)\n",
    "    gin.bind_parameter('KeyChestEnvironment.flatten_observation', True)\n",
    "    gin.bind_parameter('Config.env_steps', steps)\n",
    "    gin.bind_parameter('Config.decoder', None)\n",
    "    gin.bind_parameter('Config.model', None)\n",
    "    gin.bind_parameter('Config.reconstructor', None)\n",
    "    gin.bind_parameter('Config.value_predictor', None)\n",
    "    learner = CausalModelLearnerRL(Config())\n",
    "    learner.collect_steps(do_tqdm=True)\n",
    "    obs_x = learner._context.get('obs_x').cpu().numpy()\n",
    "    obs_y = learner._context.get('obs_y').cpu().numpy()\n",
    "    act_x = learner._context.get('action_x').cpu().numpy()\n",
    "\n",
    "    X = np.concatenate((obs_x, act_x), axis=1)\n",
    "    y = obs_y\n",
    "    return X, y"
   ]
  },
  {
   "cell_type": "code",
   "execution_count": 12,
   "metadata": {},
   "outputs": [
    {
     "name": "stderr",
     "output_type": "stream",
     "text": [
      "WARNING:root:No class provided for trainable model\n",
      "WARNING:root:No class provided for trainable decoder\n",
      "WARNING:root:No class provided for trainable reconstructor\n",
      "WARNING:root:No class provided for trainable value_predictor\n",
      "WARNING:root:No parameters for optimizer opt1 <function Optimizer at 0x7f041b4a18c0>\n"
     ]
    },
    {
     "name": "stdout",
     "output_type": "stream",
     "text": [
      "Make environment KeyChest-v0 None {}\n"
     ]
    },
    {
     "data": {
      "application/vnd.jupyter.widget-view+json": {
       "model_id": "947950ce29314b5fb1fcfad23ebd5d41",
       "version_major": 2,
       "version_minor": 0
      },
      "text/plain": [
       "HBox(children=(HTML(value=''), FloatProgress(value=0.0, max=200.0), HTML(value='')))"
      ]
     },
     "metadata": {},
     "output_type": "display_data"
    },
    {
     "name": "stdout",
     "output_type": "stream",
     "text": [
      "\n",
      "3.0\n"
     ]
    }
   ],
   "source": [
    "X, _ = get_xy(200)\n",
    "X = X[:, :-4]\n",
    "X = X.reshape((-1, h, w, c))\n",
    "X_rgb = obss_to_rgb(X, env.engine)"
   ]
  },
  {
   "cell_type": "code",
   "execution_count": 20,
   "metadata": {},
   "outputs": [
    {
     "data": {
      "text/plain": [
       "<matplotlib.image.AxesImage at 0x7f03f10d5490>"
      ]
     },
     "execution_count": 20,
     "metadata": {},
     "output_type": "execute_result"
    },
    {
     "data": {
      "image/png": "[encoded data removed]",
      "text/plain": [
       "<Figure size 432x288 with 1 Axes>"
      ]
     },
     "metadata": {
      "needs_background": "light"
     },
     "output_type": "display_data"
    }
   ],
   "source": [
    "plt.imshow(X_rgb[0])"
   ]
  },
  {
   "cell_type": "code",
   "execution_count": 62,
   "metadata": {},
   "outputs": [],
   "source": [
    "def dict_to_arr(d):\n",
    "    \"\"\"Dictionary to a list with keys sorted.\"\"\"\n",
    "    return np.array([d[k] for k in sorted(d.keys())], dtype=np.float32)"
   ]
  },
  {
   "cell_type": "code",
   "execution_count": 63,
   "metadata": {},
   "outputs": [],
   "source": [
    "def obs_features_handcoded(obs, env):\n",
    "    \"\"\"Get features for an observation.\"\"\"\n",
    "    engine = env.engine\n",
    "    \n",
    "    def get_map(key):\n",
    "        idx = engine.OBJECTS.index(key)\n",
    "        return obs[:, :, idx]\n",
    "    \n",
    "    result = {}\n",
    "    result['health'] = np.sum(get_map('health'))\n",
    "    result['keys'] = np.sum(get_map('keys_collected'))\n",
    "    lamp_on = np.sum(get_map('lamp_on'))\n",
    "    lamp_off = np.sum(get_map('lamp_off'))\n",
    "    result['lamp_status'] = 1 if lamp_on else (0 if lamp_off else -1)\n",
    "    \n",
    "    n_keys = gin.query_parameter('KeyChestEnvironmentRandom.n_keys')\n",
    "    n_chests = gin.query_parameter('KeyChestEnvironmentRandom.n_chests')\n",
    "    n_food = gin.query_parameter('KeyChestEnvironmentRandom.n_food')\n",
    "    \n",
    "    objects_to_out = ['key', 'chest', 'food', 'button', 'player', 'lamp_on', 'lamp_off']\n",
    "    objects_cnt = {'key': n_keys, 'chest': n_chests, 'food': n_food}\n",
    "    \n",
    "    def register(key, x, y, idx=None):\n",
    "        if x is None:\n",
    "            x = -1\n",
    "        if y is None:\n",
    "            y = -1\n",
    "        name_prefix = key + \"_\"\n",
    "        if idx is not None:\n",
    "            name_prefix = \"%s%02d_\" % (name_prefix, idx)\n",
    "        \n",
    "        result[name_prefix + \"x\"] = x\n",
    "        result[name_prefix + \"y\"] = y\n",
    "    \n",
    "    def arr_get_val(arr, idx):\n",
    "        if idx < len(arr):\n",
    "            x, y = arr[idx]\n",
    "        else:\n",
    "            x, y = -1, -1\n",
    "        return x, y\n",
    "    \n",
    "    for key in objects_to_out:\n",
    "        m = get_map(key)\n",
    "        where = sorted(list(zip(*np.where(m))))\n",
    "#         print(key, where)\n",
    "        assert len(where) <= 1 or key in objects_cnt\n",
    "        \n",
    "        if key in objects_cnt:\n",
    "            for i in range(objects_cnt[key]):\n",
    "                x, y = arr_get_val(where, i)\n",
    "                register(key, x, y, i)\n",
    "        else:\n",
    "            x, y = arr_get_val(where, 0)\n",
    "            register(key, x, y, None)\n",
    "    \n",
    "    return result"
   ]
  },
  {
   "cell_type": "code",
   "execution_count": 68,
   "metadata": {},
   "outputs": [],
   "source": [
    "Fdict = [obs_features_handcoded(x, env) for x in X]\n",
    "F = np.array([dict_to_arr(f) for f in Fdict])"
   ]
  },
  {
   "cell_type": "code",
   "execution_count": 64,
   "metadata": {},
   "outputs": [],
   "source": [
    "f = obs_features_handcoded(X[0], env)"
   ]
  },
  {
   "cell_type": "code",
   "execution_count": 65,
   "metadata": {},
   "outputs": [
    {
     "data": {
      "text/plain": [
       "array([ 9.,  2.,  7.,  2.,  9.,  4.,  9.,  5., 10.,  1.,  8.,  6.,  1.,\n",
       "        8.,  2.,  0., 10.,  3., -1., -1.,  0.,  6.,  3.], dtype=float32)"
      ]
     },
     "execution_count": 65,
     "metadata": {},
     "output_type": "execute_result"
    }
   ],
   "source": [
    "dict_to_arr(f)"
   ]
  },
  {
   "cell_type": "code",
   "execution_count": 27,
   "metadata": {},
   "outputs": [
    {
     "data": {
      "text/plain": [
       "(12, 7, 3)"
      ]
     },
     "execution_count": 27,
     "metadata": {},
     "output_type": "execute_result"
    }
   ],
   "source": [
    "X_rgb[0].shape"
   ]
  },
  {
   "cell_type": "code",
   "execution_count": 72,
   "metadata": {},
   "outputs": [
    {
     "data": {
      "text/plain": [
       "(184, 23)"
      ]
     },
     "execution_count": 72,
     "metadata": {},
     "output_type": "execute_result"
    }
   ],
   "source": [
    "F.shape"
   ]
  },
  {
   "cell_type": "code",
   "execution_count": 75,
   "metadata": {},
   "outputs": [
    {
     "name": "stdout",
     "output_type": "stream",
     "text": [
      "{'health': 3.0, 'keys': 0.0, 'lamp_status': 0, 'key_00_x': 7, 'key_00_y': 3, 'key_01_x': 8, 'key_01_y': 5, 'chest_00_x': 6, 'chest_00_y': 2, 'chest_01_x': 7, 'chest_01_y': 5, 'food_00_x': 6, 'food_00_y': 3, 'food_01_x': 10, 'food_01_y': 4, 'button_x': 6, 'button_y': 4, 'player_x': 7, 'player_y': 5, 'lamp_on_x': -1, 'lamp_on_y': -1, 'lamp_off_x': 9, 'lamp_off_y': 1}\n"
     ]
    },
    {
     "data": {
      "image/png": "[encoded data removed]",
      "text/plain": [
       "<Figure size 432x288 with 1 Axes>"
      ]
     },
     "metadata": {
      "needs_background": "light"
     },
     "output_type": "display_data"
    },
    {
     "name": "stdout",
     "output_type": "stream",
     "text": [
      "{'health': 6.0, 'keys': 0.0, 'lamp_status': 0, 'key_00_x': 6, 'key_00_y': 1, 'key_01_x': 10, 'key_01_y': 1, 'chest_00_x': 6, 'chest_00_y': 4, 'chest_01_x': 8, 'chest_01_y': 5, 'food_00_x': 9, 'food_00_y': 3, 'food_01_x': -1, 'food_01_y': -1, 'button_x': 10, 'button_y': 5, 'player_x': 7, 'player_y': 3, 'lamp_on_x': -1, 'lamp_on_y': -1, 'lamp_off_x': 8, 'lamp_off_y': 2}\n"
     ]
    },
    {
     "data": {
      "image/png": "[encoded data removed]",
      "text/plain": [
       "<Figure size 432x288 with 1 Axes>"
      ]
     },
     "metadata": {
      "needs_background": "light"
     },
     "output_type": "display_data"
    },
    {
     "name": "stdout",
     "output_type": "stream",
     "text": [
      "{'health': 5.0, 'keys': 0.0, 'lamp_status': 0, 'key_00_x': 6, 'key_00_y': 1, 'key_01_x': 8, 'key_01_y': 2, 'chest_00_x': 7, 'chest_00_y': 2, 'chest_01_x': 9, 'chest_01_y': 4, 'food_00_x': 9, 'food_00_y': 5, 'food_01_x': 10, 'food_01_y': 1, 'button_x': 9, 'button_y': 2, 'player_x': 7, 'player_y': 3, 'lamp_on_x': -1, 'lamp_on_y': -1, 'lamp_off_x': 10, 'lamp_off_y': 3}\n"
     ]
    },
    {
     "data": {
      "image/png": "[encoded data removed]",
      "text/plain": [
       "<Figure size 432x288 with 1 Axes>"
      ]
     },
     "metadata": {
      "needs_background": "light"
     },
     "output_type": "display_data"
    },
    {
     "name": "stdout",
     "output_type": "stream",
     "text": [
      "{'health': 7.0, 'keys': 0.0, 'lamp_status': 0, 'key_00_x': 7, 'key_00_y': 2, 'key_01_x': 7, 'key_01_y': 3, 'chest_00_x': 7, 'chest_00_y': 4, 'chest_01_x': 9, 'chest_01_y': 4, 'food_00_x': 10, 'food_00_y': 5, 'food_01_x': -1, 'food_01_y': -1, 'button_x': 6, 'button_y': 3, 'player_x': 10, 'player_y': 1, 'lamp_on_x': -1, 'lamp_on_y': -1, 'lamp_off_x': 8, 'lamp_off_y': 2}\n"
     ]
    },
    {
     "data": {
      "image/png": "[encoded data removed]",
      "text/plain": [
       "<Figure size 432x288 with 1 Axes>"
      ]
     },
     "metadata": {
      "needs_background": "light"
     },
     "output_type": "display_data"
    },
    {
     "name": "stdout",
     "output_type": "stream",
     "text": [
      "{'health': 1.0, 'keys': 0.0, 'lamp_status': 0, 'key_00_x': 6, 'key_00_y': 1, 'key_01_x': 8, 'key_01_y': 2, 'chest_00_x': 7, 'chest_00_y': 2, 'chest_01_x': 9, 'chest_01_y': 4, 'food_00_x': 9, 'food_00_y': 5, 'food_01_x': 10, 'food_01_y': 1, 'button_x': 9, 'button_y': 2, 'player_x': 6, 'player_y': 3, 'lamp_on_x': -1, 'lamp_on_y': -1, 'lamp_off_x': 10, 'lamp_off_y': 3}\n"
     ]
    },
    {
     "data": {
      "image/png": "[encoded data removed]",
      "text/plain": [
       "<Figure size 432x288 with 1 Axes>"
      ]
     },
     "metadata": {
      "needs_background": "light"
     },
     "output_type": "display_data"
    },
    {
     "name": "stdout",
     "output_type": "stream",
     "text": [
      "{'health': 1.0, 'keys': 1.0, 'lamp_status': 1, 'key_00_x': 9, 'key_00_y': 1, 'key_01_x': -1, 'key_01_y': -1, 'chest_00_x': 8, 'chest_00_y': 4, 'chest_01_x': 10, 'chest_01_y': 5, 'food_00_x': 9, 'food_00_y': 4, 'food_01_x': 10, 'food_01_y': 1, 'button_x': 6, 'button_y': 3, 'player_x': 7, 'player_y': 3, 'lamp_on_x': 6, 'lamp_on_y': 2, 'lamp_off_x': -1, 'lamp_off_y': -1}\n"
     ]
    },
    {
     "data": {
      "image/png": "[encoded data removed]",
      "text/plain": [
       "<Figure size 432x288 with 1 Axes>"
      ]
     },
     "metadata": {
      "needs_background": "light"
     },
     "output_type": "display_data"
    },
    {
     "name": "stdout",
     "output_type": "stream",
     "text": [
      "{'health': 3.0, 'keys': 0.0, 'lamp_status': 0, 'key_00_x': 9, 'key_00_y': 2, 'key_01_x': 10, 'key_01_y': 5, 'chest_00_x': 7, 'chest_00_y': 5, 'chest_01_x': 9, 'chest_01_y': 1, 'food_00_x': 8, 'food_00_y': 5, 'food_01_x': 10, 'food_01_y': 2, 'button_x': 7, 'button_y': 3, 'player_x': 7, 'player_y': 4, 'lamp_on_x': -1, 'lamp_on_y': -1, 'lamp_off_x': 7, 'lamp_off_y': 2}\n"
     ]
    },
    {
     "data": {
      "image/png": "[encoded data removed]",
      "text/plain": [
       "<Figure size 432x288 with 1 Axes>"
      ]
     },
     "metadata": {
      "needs_background": "light"
     },
     "output_type": "display_data"
    },
    {
     "name": "stdout",
     "output_type": "stream",
     "text": [
      "{'health': 1.0, 'keys': 0.0, 'lamp_status': 0, 'key_00_x': 8, 'key_00_y': 1, 'key_01_x': 10, 'key_01_y': 5, 'chest_00_x': 6, 'chest_00_y': 1, 'chest_01_x': 9, 'chest_01_y': 3, 'food_00_x': 8, 'food_00_y': 4, 'food_01_x': 8, 'food_01_y': 5, 'button_x': 6, 'button_y': 2, 'player_x': 10, 'player_y': 1, 'lamp_on_x': -1, 'lamp_on_y': -1, 'lamp_off_x': 6, 'lamp_off_y': 5}\n"
     ]
    },
    {
     "data": {
      "image/png": "[encoded data removed]",
      "text/plain": [
       "<Figure size 432x288 with 1 Axes>"
      ]
     },
     "metadata": {
      "needs_background": "light"
     },
     "output_type": "display_data"
    },
    {
     "name": "stdout",
     "output_type": "stream",
     "text": [
      "{'health': 5.0, 'keys': 1.0, 'lamp_status': 0, 'key_00_x': 10, 'key_00_y': 2, 'key_01_x': -1, 'key_01_y': -1, 'chest_00_x': 6, 'chest_00_y': 1, 'chest_01_x': 8, 'chest_01_y': 1, 'food_00_x': 10, 'food_00_y': 1, 'food_01_x': 10, 'food_01_y': 3, 'button_x': 8, 'button_y': 5, 'player_x': 6, 'player_y': 3, 'lamp_on_x': -1, 'lamp_on_y': -1, 'lamp_off_x': 6, 'lamp_off_y': 5}\n"
     ]
    },
    {
     "data": {
      "image/png": "[encoded data removed]",
      "text/plain": [
       "<Figure size 432x288 with 1 Axes>"
      ]
     },
     "metadata": {
      "needs_background": "light"
     },
     "output_type": "display_data"
    },
    {
     "name": "stdout",
     "output_type": "stream",
     "text": [
      "{'health': 6.0, 'keys': 0.0, 'lamp_status': 0, 'key_00_x': 6, 'key_00_y': 1, 'key_01_x': 8, 'key_01_y': 2, 'chest_00_x': 7, 'chest_00_y': 2, 'chest_01_x': 9, 'chest_01_y': 4, 'food_00_x': 9, 'food_00_y': 5, 'food_01_x': 10, 'food_01_y': 1, 'button_x': 9, 'button_y': 2, 'player_x': 7, 'player_y': 4, 'lamp_on_x': -1, 'lamp_on_y': -1, 'lamp_off_x': 10, 'lamp_off_y': 3}\n"
     ]
    },
    {
     "data": {
      "image/png": "[encoded data removed]",
      "text/plain": [
       "<Figure size 432x288 with 1 Axes>"
      ]
     },
     "metadata": {
      "needs_background": "light"
     },
     "output_type": "display_data"
    }
   ],
   "source": [
    "for i in range(10):\n",
    "    idx = np.random.choice(len(X))\n",
    "#     idx = i\n",
    "    print(Fdict[idx])\n",
    "    plt.imshow(X_rgb[idx])\n",
    "    plt.show()"
   ]
  },
  {
   "cell_type": "code",
   "execution_count": 78,
   "metadata": {},
   "outputs": [
    {
     "data": {
      "text/plain": [
       "array([[ 9.,  2.,  7., ...,  0.,  6.,  3.],\n",
       "       [ 9.,  2.,  7., ...,  0.,  7.,  3.],\n",
       "       [ 9.,  2.,  7., ...,  0.,  7.,  4.],\n",
       "       ...,\n",
       "       [10.,  5.,  8., ...,  1.,  9.,  5.],\n",
       "       [10.,  5.,  8., ...,  1.,  9.,  5.],\n",
       "       [10.,  5.,  8., ...,  1., 10.,  5.]], dtype=float32)"
      ]
     },
     "execution_count": 78,
     "metadata": {},
     "output_type": "execute_result"
    }
   ],
   "source": [
    "F"
   ]
  },
  {
   "cell_type": "code",
   "execution_count": null,
   "metadata": {},
   "outputs": [],
   "source": []
  }
 ],
 "metadata": {
  "kernelspec": {
   "display_name": "Python 3",
   "language": "python",
   "name": "python3"
  },
  "language_info": {
   "codemirror_mode": {
    "name": "ipython",
    "version": 3
   },
   "file_extension": ".py",
   "mimetype": "text/x-python",
   "name": "python",
   "nbconvert_exporter": "python",
   "pygments_lexer": "ipython3",
   "version": "3.7.9"
  }
 },
 "nbformat": 4,
 "nbformat_minor": 4
}
