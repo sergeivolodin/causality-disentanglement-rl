{
 "cells": [
  {
   "cell_type": "code",
   "execution_count": 1,
   "metadata": {},
   "outputs": [],
   "source": [
    "%load_ext autoreload\n",
    "%autoreload 2\n",
    "import os\n",
    "os.environ['TF_FORCE_GPU_ALLOW_GROWTH'] = \"true\"\n",
    "import torch\n",
    "import numpy as np\n",
    "from tqdm.auto import tqdm\n",
    "import seaborn as sns\n",
    "import pandas as pd\n",
    "from matplotlib import pyplot as plt\n",
    "from torch import nn\n",
    "import torch.nn.functional as F\n",
    "import gin\n",
    "from causal_util import load_env\n",
    "from causal_util.collect_data import EnvDataCollector\n",
    "from matplotlib import pyplot as plt\n",
    "from sparse_causal_model_learner_rl.sacred_gin_tune.sacred_wrapper import load_config_files\n",
    "from sparse_causal_model_learner_rl.learners.rl_learner import CausalModelLearnerRL\n",
    "import gin\n",
    "from sparse_causal_model_learner_rl.sacred_gin_tune.sacred_wrapper import load_config_files\n",
    "from sparse_causal_model_learner_rl.config.config import Config\n",
    "from sparse_causal_model_learner_rl.trainable.decoder import IdentityDecoder\n",
    "from keychest.keychestenv import obss_to_rgb\n",
    "import tensorflow as tf\n",
    "from keras_tqdm import TQDMNotebookCallback\n"
   ]
  },
  {
   "cell_type": "code",
   "execution_count": 2,
   "metadata": {},
   "outputs": [
    {
     "data": {
      "application/javascript": [
       "var jq = document.createElement('script');\n",
       "jq.src = \"https://ajax.googleapis.com/ajax/libs/jquery/2.1.4/jquery.min.js\";\n",
       "document.getElementsByTagName('head')[0].appendChild(jq);\n"
      ],
      "text/plain": [
       "<IPython.core.display.Javascript object>"
      ]
     },
     "metadata": {},
     "output_type": "display_data"
    }
   ],
   "source": [
    "%%javascript\n",
    "var jq = document.createElement('script');\n",
    "jq.src = \"https://ajax.googleapis.com/ajax/libs/jquery/2.1.4/jquery.min.js\";\n",
    "document.getElementsByTagName('head')[0].appendChild(jq);"
   ]
  },
  {
   "cell_type": "code",
   "execution_count": 3,
   "metadata": {},
   "outputs": [
    {
     "data": {
      "application/javascript": [
       "if (!(\"Notification\" in window)) {\n",
       "    alert(\"This browser does not support desktop notifications, so the %%notify magic will not work.\");\n",
       "} else if (Notification.permission !== 'granted' && Notification.permission !== 'denied') {\n",
       "    Notification.requestPermission(function (permission) {\n",
       "        if(!('permission' in Notification)) {\n",
       "            Notification.permission = permission;\n",
       "        }\n",
       "    })\n",
       "}\n"
      ],
      "text/plain": [
       "<IPython.core.display.Javascript object>"
      ]
     },
     "metadata": {},
     "output_type": "display_data"
    }
   ],
   "source": [
    "%load_ext jupyternotify\n",
    "%autonotify -a 30"
   ]
  },
  {
   "cell_type": "code",
   "execution_count": 4,
   "metadata": {},
   "outputs": [
    {
     "data": {
      "text/plain": [
       "['common', '5x5']"
      ]
     },
     "execution_count": 4,
     "metadata": {},
     "output_type": "execute_result"
    }
   ],
   "source": [
    "load_config_files(['../sparse_causal_model_learner_rl/configs/common.gin', '../keychest/config/5x5.gin'])"
   ]
  },
  {
   "cell_type": "code",
   "execution_count": 5,
   "metadata": {},
   "outputs": [
    {
     "name": "stderr",
     "output_type": "stream",
     "text": [
      "WARNING:root:No class provided for trainable value_predictor\n"
     ]
    },
    {
     "name": "stdout",
     "output_type": "stream",
     "text": [
      "Make environment KeyChest-v0 None {}\n"
     ]
    }
   ],
   "source": [
    "learner = CausalModelLearnerRL(Config())\n",
    "env = learner.env\n",
    "h, w, c = env.engine._observation.shape"
   ]
  },
  {
   "cell_type": "code",
   "execution_count": 6,
   "metadata": {},
   "outputs": [],
   "source": [
    "def get_xy(steps=1000):\n",
    "    \"\"\"Get the dataset.\"\"\"\n",
    "    gin.bind_parameter('Config.feature_shape', None)\n",
    "    gin.bind_parameter('KeyChestEnvironment.flatten_observation', True)\n",
    "    gin.bind_parameter('Config.env_steps', steps)\n",
    "    gin.bind_parameter('Config.decoder', None)\n",
    "    gin.bind_parameter('Config.model', None)\n",
    "    gin.bind_parameter('Config.reconstructor', None)\n",
    "    gin.bind_parameter('Config.value_predictor', None)\n",
    "    learner = CausalModelLearnerRL(Config())\n",
    "    learner.collect_steps(do_tqdm=True)\n",
    "    obs_x = learner._context.get('obs_x').cpu().numpy()\n",
    "    obs_y = learner._context.get('obs_y').cpu().numpy()\n",
    "    act_x = learner._context.get('action_x').cpu().numpy()\n",
    "\n",
    "    X = np.concatenate((obs_x, act_x), axis=1)\n",
    "    y = obs_y\n",
    "    return X, y"
   ]
  },
  {
   "cell_type": "code",
   "execution_count": 7,
   "metadata": {},
   "outputs": [
    {
     "name": "stderr",
     "output_type": "stream",
     "text": [
      "WARNING:root:No class provided for trainable model\n",
      "WARNING:root:No class provided for trainable decoder\n",
      "WARNING:root:No class provided for trainable reconstructor\n",
      "WARNING:root:No class provided for trainable value_predictor\n",
      "WARNING:root:No parameters for optimizer opt1 <function Optimizer at 0x7f443a154320>\n"
     ]
    },
    {
     "name": "stdout",
     "output_type": "stream",
     "text": [
      "Make environment KeyChest-v0 None {}\n"
     ]
    },
    {
     "data": {
      "application/vnd.jupyter.widget-view+json": {
       "model_id": "67c7317f247541dea306c8aada110f02",
       "version_major": 2,
       "version_minor": 0
      },
      "text/plain": [
       "HBox(children=(HTML(value=''), FloatProgress(value=0.0), HTML(value='')))"
      ]
     },
     "metadata": {},
     "output_type": "display_data"
    },
    {
     "name": "stdout",
     "output_type": "stream",
     "text": [
      "\n",
      "3.0\n"
     ]
    }
   ],
   "source": [
    "X, _ = get_xy(100)\n",
    "X = X[:, :-4]\n",
    "X = X.reshape((-1, h, w, c))\n",
    "X_rgb = obss_to_rgb(X, env.engine)"
   ]
  },
  {
   "cell_type": "code",
   "execution_count": 8,
   "metadata": {},
   "outputs": [
    {
     "data": {
      "text/plain": [
       "<matplotlib.image.AxesImage at 0x7f44291def50>"
      ]
     },
     "execution_count": 8,
     "metadata": {},
     "output_type": "execute_result"
    },
    {
     "data": {
      "image/png": "[encoded data removed]",
      "text/plain": [
       "<Figure size 432x288 with 1 Axes>"
      ]
     },
     "metadata": {
      "needs_background": "light"
     },
     "output_type": "display_data"
    }
   ],
   "source": [
    "plt.imshow(X_rgb[0])"
   ]
  },
  {
   "cell_type": "code",
   "execution_count": 9,
   "metadata": {},
   "outputs": [],
   "source": [
    "def dict_to_arr(d):\n",
    "    \"\"\"Dictionary to a list with keys sorted.\"\"\"\n",
    "    return np.array([d[k] for k in sorted(d.keys())], dtype=np.float32)"
   ]
  },
  {
   "cell_type": "code",
   "execution_count": 10,
   "metadata": {},
   "outputs": [],
   "source": [
    "def arr_to_dict(arr, keys):\n",
    "    \"\"\"Array back to dictionary.\"\"\"\n",
    "    assert len(arr) == len(keys)\n",
    "    return {x: y for x, y in zip(sorted(keys), arr)}"
   ]
  },
  {
   "cell_type": "code",
   "execution_count": 11,
   "metadata": {},
   "outputs": [],
   "source": [
    "def obs_features_handcoded(obs, env):\n",
    "    \"\"\"Get features for an observation.\"\"\"\n",
    "    engine = env.engine\n",
    "    \n",
    "    def get_map(key):\n",
    "        idx = engine.OBJECTS.index(key)\n",
    "        return obs[:, :, idx]\n",
    "    \n",
    "    result = {}\n",
    "    result['health'] = np.sum(get_map('health'))\n",
    "    result['keys'] = np.sum(get_map('keys_collected'))\n",
    "    lamp_on = np.sum(get_map('lamp_on'))\n",
    "    lamp_off = np.sum(get_map('lamp_off'))\n",
    "    result['lamp_status'] = 1 if lamp_on else (0 if lamp_off else -1)\n",
    "    \n",
    "    n_keys = gin.query_parameter('KeyChestEnvironmentRandom.n_keys')\n",
    "    n_chests = gin.query_parameter('KeyChestEnvironmentRandom.n_chests')\n",
    "    n_food = gin.query_parameter('KeyChestEnvironmentRandom.n_food')\n",
    "    \n",
    "    objects_to_out = ['key', 'chest', 'food', 'button', 'player', 'lamp_on', 'lamp_off']\n",
    "    objects_cnt = {'key': n_keys, 'chest': n_chests, 'food': n_food}\n",
    "    \n",
    "    def register(key, x, y, idx=None):\n",
    "        if x is None:\n",
    "            x = -1\n",
    "        if y is None:\n",
    "            y = -1\n",
    "        name_prefix = key + \"_\"\n",
    "        if idx is not None:\n",
    "            name_prefix = \"%s%02d_\" % (name_prefix, idx)\n",
    "        \n",
    "        result[name_prefix + \"x\"] = x\n",
    "        result[name_prefix + \"y\"] = y\n",
    "    \n",
    "    def arr_get_val(arr, idx):\n",
    "        if idx < len(arr):\n",
    "            x, y = arr[idx]\n",
    "        else:\n",
    "            x, y = -1, -1\n",
    "        return x, y\n",
    "    \n",
    "    for key in objects_to_out:\n",
    "        m = get_map(key)\n",
    "        where = sorted(list(zip(*np.where(m))))\n",
    "#         print(key, where)\n",
    "        assert len(where) <= 1 or key in objects_cnt\n",
    "        \n",
    "        if key in objects_cnt:\n",
    "            for i in range(objects_cnt[key]):\n",
    "                x, y = arr_get_val(where, i)\n",
    "                register(key, x, y, i)\n",
    "        else:\n",
    "            x, y = arr_get_val(where, 0)\n",
    "            register(key, x, y, None)\n",
    "    \n",
    "    return result"
   ]
  },
  {
   "cell_type": "code",
   "execution_count": 12,
   "metadata": {},
   "outputs": [],
   "source": [
    "Fdict = [obs_features_handcoded(x, env) for x in X]\n",
    "F = np.array([dict_to_arr(f) for f in Fdict])"
   ]
  },
  {
   "cell_type": "code",
   "execution_count": 13,
   "metadata": {},
   "outputs": [],
   "source": [
    "Fkeys = Fdict[0].keys()"
   ]
  },
  {
   "cell_type": "code",
   "execution_count": 14,
   "metadata": {},
   "outputs": [],
   "source": [
    "f = obs_features_handcoded(X[0], env)"
   ]
  },
  {
   "cell_type": "code",
   "execution_count": 15,
   "metadata": {},
   "outputs": [
    {
     "data": {
      "text/plain": [
       "array([ 6.,  4.,  8.,  2.,  8.,  5.,  6.,  5.,  7.,  4.,  8.,  6.,  1.,\n",
       "        6.,  3.,  0.,  6.,  2., -1., -1.,  0.,  7.,  2.], dtype=float32)"
      ]
     },
     "execution_count": 15,
     "metadata": {},
     "output_type": "execute_result"
    }
   ],
   "source": [
    "dict_to_arr(f)"
   ]
  },
  {
   "cell_type": "code",
   "execution_count": 16,
   "metadata": {},
   "outputs": [
    {
     "data": {
      "text/plain": [
       "(12, 7, 3)"
      ]
     },
     "execution_count": 16,
     "metadata": {},
     "output_type": "execute_result"
    }
   ],
   "source": [
    "X_rgb[0].shape"
   ]
  },
  {
   "cell_type": "code",
   "execution_count": 17,
   "metadata": {},
   "outputs": [
    {
     "data": {
      "text/plain": [
       "(96, 23)"
      ]
     },
     "execution_count": 17,
     "metadata": {},
     "output_type": "execute_result"
    }
   ],
   "source": [
    "F.shape"
   ]
  },
  {
   "cell_type": "code",
   "execution_count": 18,
   "metadata": {},
   "outputs": [
    {
     "name": "stdout",
     "output_type": "stream",
     "text": [
      "{'health': 5.0, 'keys': 0.0, 'lamp_status': 0, 'key_00_x': 8, 'key_00_y': 3, 'key_01_x': -1, 'key_01_y': -1, 'chest_00_x': 9, 'chest_00_y': 5, 'chest_01_x': -1, 'chest_01_y': -1, 'food_00_x': 6, 'food_00_y': 1, 'food_01_x': -1, 'food_01_y': -1, 'button_x': 9, 'button_y': 1, 'player_x': 7, 'player_y': 2, 'lamp_on_x': -1, 'lamp_on_y': -1, 'lamp_off_x': 9, 'lamp_off_y': 4}\n"
     ]
    },
    {
     "data": {
      "image/png": "[encoded data removed]",
      "text/plain": [
       "<Figure size 432x288 with 1 Axes>"
      ]
     },
     "metadata": {
      "needs_background": "light"
     },
     "output_type": "display_data"
    },
    {
     "name": "stdout",
     "output_type": "stream",
     "text": [
      "{'health': 3.0, 'keys': 0.0, 'lamp_status': 0, 'key_00_x': 9, 'key_00_y': 3, 'key_01_x': 10, 'key_01_y': 5, 'chest_00_x': 6, 'chest_00_y': 4, 'chest_01_x': 8, 'chest_01_y': 5, 'food_00_x': 8, 'food_00_y': 2, 'food_01_x': 10, 'food_01_y': 2, 'button_x': 7, 'button_y': 2, 'player_x': 7, 'player_y': 4, 'lamp_on_x': -1, 'lamp_on_y': -1, 'lamp_off_x': 9, 'lamp_off_y': 1}\n"
     ]
    },
    {
     "data": {
      "image/png": "[encoded data removed]",
      "text/plain": [
       "<Figure size 432x288 with 1 Axes>"
      ]
     },
     "metadata": {
      "needs_background": "light"
     },
     "output_type": "display_data"
    },
    {
     "name": "stdout",
     "output_type": "stream",
     "text": [
      "{'health': 2.0, 'keys': 0.0, 'lamp_status': 0, 'key_00_x': 6, 'key_00_y': 1, 'key_01_x': 6, 'key_01_y': 3, 'chest_00_x': 8, 'chest_00_y': 2, 'chest_01_x': 8, 'chest_01_y': 5, 'food_00_x': 6, 'food_00_y': 5, 'food_01_x': 7, 'food_01_y': 4, 'button_x': 6, 'button_y': 4, 'player_x': 7, 'player_y': 2, 'lamp_on_x': -1, 'lamp_on_y': -1, 'lamp_off_x': 6, 'lamp_off_y': 2}\n"
     ]
    },
    {
     "data": {
      "image/png": "[encoded data removed]",
      "text/plain": [
       "<Figure size 432x288 with 1 Axes>"
      ]
     },
     "metadata": {
      "needs_background": "light"
     },
     "output_type": "display_data"
    },
    {
     "name": "stdout",
     "output_type": "stream",
     "text": [
      "{'health': 4.0, 'keys': 0.0, 'lamp_status': 0, 'key_00_x': 6, 'key_00_y': 1, 'key_01_x': 6, 'key_01_y': 3, 'chest_00_x': 8, 'chest_00_y': 2, 'chest_01_x': 8, 'chest_01_y': 5, 'food_00_x': 6, 'food_00_y': 5, 'food_01_x': 7, 'food_01_y': 4, 'button_x': 6, 'button_y': 4, 'player_x': 6, 'player_y': 2, 'lamp_on_x': -1, 'lamp_on_y': -1, 'lamp_off_x': 6, 'lamp_off_y': 2}\n"
     ]
    },
    {
     "data": {
      "image/png": "[encoded data removed]",
      "text/plain": [
       "<Figure size 432x288 with 1 Axes>"
      ]
     },
     "metadata": {
      "needs_background": "light"
     },
     "output_type": "display_data"
    },
    {
     "name": "stdout",
     "output_type": "stream",
     "text": [
      "{'health': 6.0, 'keys': 0.0, 'lamp_status': 0, 'key_00_x': 8, 'key_00_y': 5, 'key_01_x': 9, 'key_01_y': 5, 'chest_00_x': 6, 'chest_00_y': 2, 'chest_01_x': 10, 'chest_01_y': 5, 'food_00_x': 8, 'food_00_y': 2, 'food_01_x': 9, 'food_01_y': 1, 'button_x': 7, 'button_y': 1, 'player_x': 7, 'player_y': 3, 'lamp_on_x': -1, 'lamp_on_y': -1, 'lamp_off_x': 8, 'lamp_off_y': 1}\n"
     ]
    },
    {
     "data": {
      "image/png": "[encoded data removed]",
      "text/plain": [
       "<Figure size 432x288 with 1 Axes>"
      ]
     },
     "metadata": {
      "needs_background": "light"
     },
     "output_type": "display_data"
    },
    {
     "name": "stdout",
     "output_type": "stream",
     "text": [
      "{'health': 5.0, 'keys': 0.0, 'lamp_status': 0, 'key_00_x': 6, 'key_00_y': 1, 'key_01_x': 6, 'key_01_y': 3, 'chest_00_x': 8, 'chest_00_y': 2, 'chest_01_x': 8, 'chest_01_y': 5, 'food_00_x': 6, 'food_00_y': 5, 'food_01_x': 7, 'food_01_y': 4, 'button_x': 6, 'button_y': 4, 'player_x': 6, 'player_y': 2, 'lamp_on_x': -1, 'lamp_on_y': -1, 'lamp_off_x': 6, 'lamp_off_y': 2}\n"
     ]
    },
    {
     "data": {
      "image/png": "[encoded data removed]",
      "text/plain": [
       "<Figure size 432x288 with 1 Axes>"
      ]
     },
     "metadata": {
      "needs_background": "light"
     },
     "output_type": "display_data"
    },
    {
     "name": "stdout",
     "output_type": "stream",
     "text": [
      "{'health': 3.0, 'keys': 0.0, 'lamp_status': 0, 'key_00_x': 7, 'key_00_y': 1, 'key_01_x': 10, 'key_01_y': 3, 'chest_00_x': 8, 'chest_00_y': 2, 'chest_01_x': 9, 'chest_01_y': 2, 'food_00_x': 6, 'food_00_y': 5, 'food_01_x': 8, 'food_01_y': 5, 'button_x': 6, 'button_y': 1, 'player_x': 7, 'player_y': 3, 'lamp_on_x': -1, 'lamp_on_y': -1, 'lamp_off_x': 9, 'lamp_off_y': 3}\n"
     ]
    },
    {
     "data": {
      "image/png": "[encoded data removed]",
      "text/plain": [
       "<Figure size 432x288 with 1 Axes>"
      ]
     },
     "metadata": {
      "needs_background": "light"
     },
     "output_type": "display_data"
    },
    {
     "name": "stdout",
     "output_type": "stream",
     "text": [
      "{'health': 3.0, 'keys': 0.0, 'lamp_status': 0, 'key_00_x': 6, 'key_00_y': 4, 'key_01_x': 8, 'key_01_y': 1, 'chest_00_x': 7, 'chest_00_y': 5, 'chest_01_x': 10, 'chest_01_y': 5, 'food_00_x': 6, 'food_00_y': 2, 'food_01_x': 10, 'food_01_y': 1, 'button_x': 7, 'button_y': 4, 'player_x': 9, 'player_y': 4, 'lamp_on_x': -1, 'lamp_on_y': -1, 'lamp_off_x': 10, 'lamp_off_y': 4}\n"
     ]
    },
    {
     "data": {
      "image/png": "[encoded data removed]",
      "text/plain": [
       "<Figure size 432x288 with 1 Axes>"
      ]
     },
     "metadata": {
      "needs_background": "light"
     },
     "output_type": "display_data"
    },
    {
     "name": "stdout",
     "output_type": "stream",
     "text": [
      "{'health': 8.0, 'keys': 0.0, 'lamp_status': 0, 'key_00_x': 6, 'key_00_y': 1, 'key_01_x': 9, 'key_01_y': 1, 'chest_00_x': 9, 'chest_00_y': 2, 'chest_01_x': 10, 'chest_01_y': 2, 'food_00_x': 7, 'food_00_y': 3, 'food_01_x': 10, 'food_01_y': 3, 'button_x': 9, 'button_y': 4, 'player_x': 8, 'player_y': 1, 'lamp_on_x': -1, 'lamp_on_y': -1, 'lamp_off_x': 8, 'lamp_off_y': 4}\n"
     ]
    },
    {
     "data": {
      "image/png": "[encoded data removed]",
      "text/plain": [
       "<Figure size 432x288 with 1 Axes>"
      ]
     },
     "metadata": {
      "needs_background": "light"
     },
     "output_type": "display_data"
    },
    {
     "name": "stdout",
     "output_type": "stream",
     "text": [
      "{'health': 2.0, 'keys': 0.0, 'lamp_status': 0, 'key_00_x': 6, 'key_00_y': 1, 'key_01_x': 6, 'key_01_y': 3, 'chest_00_x': 8, 'chest_00_y': 2, 'chest_01_x': 8, 'chest_01_y': 5, 'food_00_x': 6, 'food_00_y': 5, 'food_01_x': 7, 'food_01_y': 4, 'button_x': 6, 'button_y': 4, 'player_x': 7, 'player_y': 2, 'lamp_on_x': -1, 'lamp_on_y': -1, 'lamp_off_x': 6, 'lamp_off_y': 2}\n"
     ]
    },
    {
     "data": {
      "image/png": "[encoded data removed]",
      "text/plain": [
       "<Figure size 432x288 with 1 Axes>"
      ]
     },
     "metadata": {
      "needs_background": "light"
     },
     "output_type": "display_data"
    }
   ],
   "source": [
    "for i in range(10):\n",
    "    idx = np.random.choice(len(X))\n",
    "#     idx = i\n",
    "    print(Fdict[idx])\n",
    "    plt.imshow(X_rgb[idx])\n",
    "    plt.show()"
   ]
  },
  {
   "cell_type": "markdown",
   "metadata": {},
   "source": [
    "# Embedder model"
   ]
  },
  {
   "cell_type": "code",
   "execution_count": 157,
   "metadata": {},
   "outputs": [],
   "source": [
    "model = tf.keras.Sequential([\n",
    "    tf.keras.layers.Flatten(input_shape=(h * w * c, )),\n",
    "    tf.keras.layers.Dense(512, activation='sigmoid'),\n",
    "    tf.keras.layers.Dense(F.shape[1], activation=None)\n",
    "])"
   ]
  },
  {
   "cell_type": "code",
   "execution_count": 158,
   "metadata": {},
   "outputs": [],
   "source": [
    "model.compile(tf.optimizers.Adam(lr=1e-4), 'mse', metrics=['mae'])"
   ]
  },
  {
   "cell_type": "code",
   "execution_count": 168,
   "metadata": {},
   "outputs": [],
   "source": [
    "import sklearn"
   ]
  },
  {
   "cell_type": "code",
   "execution_count": 174,
   "metadata": {},
   "outputs": [],
   "source": [
    "Xn_scaler = sklearn.preprocessing.StandardScaler()\n",
    "Fn_scaler = sklearn.preprocessing.StandardScaler()"
   ]
  },
  {
   "cell_type": "code",
   "execution_count": 175,
   "metadata": {},
   "outputs": [],
   "source": [
    "Xn = Xn_scaler.fit_transform(X.reshape(X.shape[0], -1))\n",
    "Fn = Fn_scaler.fit_transform(F)"
   ]
  },
  {
   "cell_type": "code",
   "execution_count": 176,
   "metadata": {},
   "outputs": [],
   "source": [
    "history = model.fit(Xn, Fn, epochs=50000, validation_split=0.1, batch_size=512, verbose=0)#, callbacks=[TQDMNotebookCallback(leave_inner=False)])"
   ]
  },
  {
   "cell_type": "code",
   "execution_count": 177,
   "metadata": {},
   "outputs": [
    {
     "data": {
      "image/png": "[encoded data removed]",
      "text/plain": [
       "<Figure size 432x288 with 1 Axes>"
      ]
     },
     "metadata": {
      "needs_background": "light"
     },
     "output_type": "display_data"
    }
   ],
   "source": [
    "plt.plot(history.history['loss'])\n",
    "plt.yscale('log')"
   ]
  },
  {
   "cell_type": "code",
   "execution_count": 178,
   "metadata": {},
   "outputs": [
    {
     "data": {
      "image/png": "[encoded data removed]",
      "text/plain": [
       "<Figure size 432x288 with 1 Axes>"
      ]
     },
     "metadata": {
      "needs_background": "light"
     },
     "output_type": "display_data"
    }
   ],
   "source": [
    "plt.plot(history.history['mae'])\n",
    "plt.yscale('log')"
   ]
  },
  {
   "cell_type": "code",
   "execution_count": 179,
   "metadata": {},
   "outputs": [
    {
     "data": {
      "text/plain": [
       "array([1.0594571 , 0.8206519 , 0.8806297 , 1.5859714 , 0.9583142 ,\n",
       "       1.3720978 , 2.964017  , 1.6557866 , 4.878883  , 2.4294739 ,\n",
       "       3.3204684 , 0.94220704, 0.98958194, 4.1443944 , 2.0852184 ,\n",
       "       0.39031237, 2.4419277 , 1.4690695 , 2.275367  , 0.90068007,\n",
       "       0.22517003, 1.1940271 , 1.1724683 ], dtype=float32)"
      ]
     },
     "execution_count": 179,
     "metadata": {},
     "output_type": "execute_result"
    }
   ],
   "source": [
    "np.std(F, axis=0)"
   ]
  },
  {
   "cell_type": "code",
   "execution_count": 180,
   "metadata": {},
   "outputs": [
    {
     "data": {
      "text/plain": [
       "array([ 7.857143  ,  2.4285715 ,  7.285714  ,  2.642857  ,  8.285714  ,\n",
       "        3.2142856 ,  6.232143  ,  2.1875    ,  3.6339285 ,  1.1875    ,\n",
       "        6.214286  ,  6.571429  ,  3.0535715 ,  7.142857  ,  2.8660715 ,\n",
       "        0.1875    ,  8.464286  ,  2.357143  , -0.4642857 , -0.78571427,\n",
       "        0.05357143,  8.446428  ,  2.767857  ], dtype=float32)"
      ]
     },
     "execution_count": 180,
     "metadata": {},
     "output_type": "execute_result"
    }
   ],
   "source": [
    "np.mean(F, axis=0)"
   ]
  },
  {
   "cell_type": "code",
   "execution_count": 181,
   "metadata": {},
   "outputs": [
    {
     "data": {
      "text/plain": [
       "<tensorflow.python.keras.engine.sequential.Sequential at 0x7f00c8378610>"
      ]
     },
     "execution_count": 181,
     "metadata": {},
     "output_type": "execute_result"
    }
   ],
   "source": [
    "model"
   ]
  },
  {
   "cell_type": "code",
   "execution_count": 182,
   "metadata": {},
   "outputs": [
    {
     "data": {
      "text/plain": [
       "[0.005230538800739331, 0.017428977]"
      ]
     },
     "execution_count": 182,
     "metadata": {},
     "output_type": "execute_result"
    }
   ],
   "source": [
    "model.evaluate(Xn, Fn)"
   ]
  },
  {
   "cell_type": "code",
   "execution_count": 183,
   "metadata": {},
   "outputs": [],
   "source": [
    "assert len(X_rgb) == len(Xn)"
   ]
  },
  {
   "cell_type": "code",
   "execution_count": 218,
   "metadata": {},
   "outputs": [
    {
     "data": {
      "text/html": [
       "<div>\n",
       "<style scoped>\n",
       "    .dataframe tbody tr th:only-of-type {\n",
       "        vertical-align: middle;\n",
       "    }\n",
       "\n",
       "    .dataframe tbody tr th {\n",
       "        vertical-align: top;\n",
       "    }\n",
       "\n",
       "    .dataframe thead th {\n",
       "        text-align: right;\n",
       "    }\n",
       "</style>\n",
       "<table border=\"1\" class=\"dataframe\">\n",
       "  <thead>\n",
       "    <tr style=\"text-align: right;\">\n",
       "      <th></th>\n",
       "      <th>pred</th>\n",
       "      <th>true</th>\n",
       "      <th>error</th>\n",
       "    </tr>\n",
       "  </thead>\n",
       "  <tbody>\n",
       "    <tr>\n",
       "      <th>button_x</th>\n",
       "      <td>8.000434</td>\n",
       "      <td>8.0</td>\n",
       "      <td>0.000434</td>\n",
       "    </tr>\n",
       "    <tr>\n",
       "      <th>button_y</th>\n",
       "      <td>1.999969</td>\n",
       "      <td>2.0</td>\n",
       "      <td>0.000031</td>\n",
       "    </tr>\n",
       "    <tr>\n",
       "      <th>chest_00_x</th>\n",
       "      <td>9.000382</td>\n",
       "      <td>9.0</td>\n",
       "      <td>0.000382</td>\n",
       "    </tr>\n",
       "    <tr>\n",
       "      <th>chest_00_y</th>\n",
       "      <td>2.000165</td>\n",
       "      <td>2.0</td>\n",
       "      <td>0.000165</td>\n",
       "    </tr>\n",
       "    <tr>\n",
       "      <th>chest_01_x</th>\n",
       "      <td>9.998533</td>\n",
       "      <td>10.0</td>\n",
       "      <td>0.001467</td>\n",
       "    </tr>\n",
       "    <tr>\n",
       "      <th>chest_01_y</th>\n",
       "      <td>2.000516</td>\n",
       "      <td>2.0</td>\n",
       "      <td>0.000516</td>\n",
       "    </tr>\n",
       "    <tr>\n",
       "      <th>food_00_x</th>\n",
       "      <td>8.006310</td>\n",
       "      <td>8.0</td>\n",
       "      <td>0.006310</td>\n",
       "    </tr>\n",
       "    <tr>\n",
       "      <th>food_00_y</th>\n",
       "      <td>3.999834</td>\n",
       "      <td>4.0</td>\n",
       "      <td>0.000166</td>\n",
       "    </tr>\n",
       "    <tr>\n",
       "      <th>food_01_x</th>\n",
       "      <td>9.999562</td>\n",
       "      <td>10.0</td>\n",
       "      <td>0.000438</td>\n",
       "    </tr>\n",
       "    <tr>\n",
       "      <th>food_01_y</th>\n",
       "      <td>3.999169</td>\n",
       "      <td>4.0</td>\n",
       "      <td>0.000831</td>\n",
       "    </tr>\n",
       "    <tr>\n",
       "      <th>health</th>\n",
       "      <td>0.997758</td>\n",
       "      <td>1.0</td>\n",
       "      <td>0.002242</td>\n",
       "    </tr>\n",
       "    <tr>\n",
       "      <th>key_00_x</th>\n",
       "      <td>5.998864</td>\n",
       "      <td>6.0</td>\n",
       "      <td>0.001136</td>\n",
       "    </tr>\n",
       "    <tr>\n",
       "      <th>key_00_y</th>\n",
       "      <td>4.000631</td>\n",
       "      <td>4.0</td>\n",
       "      <td>0.000631</td>\n",
       "    </tr>\n",
       "    <tr>\n",
       "      <th>key_01_x</th>\n",
       "      <td>8.004072</td>\n",
       "      <td>8.0</td>\n",
       "      <td>0.004072</td>\n",
       "    </tr>\n",
       "    <tr>\n",
       "      <th>key_01_y</th>\n",
       "      <td>3.000524</td>\n",
       "      <td>3.0</td>\n",
       "      <td>0.000524</td>\n",
       "    </tr>\n",
       "    <tr>\n",
       "      <th>keys</th>\n",
       "      <td>-0.000683</td>\n",
       "      <td>0.0</td>\n",
       "      <td>0.000683</td>\n",
       "    </tr>\n",
       "    <tr>\n",
       "      <th>lamp_off_x</th>\n",
       "      <td>6.997932</td>\n",
       "      <td>7.0</td>\n",
       "      <td>0.002068</td>\n",
       "    </tr>\n",
       "    <tr>\n",
       "      <th>lamp_off_y</th>\n",
       "      <td>1.001623</td>\n",
       "      <td>1.0</td>\n",
       "      <td>0.001623</td>\n",
       "    </tr>\n",
       "    <tr>\n",
       "      <th>lamp_on_x</th>\n",
       "      <td>-1.000752</td>\n",
       "      <td>-1.0</td>\n",
       "      <td>0.000752</td>\n",
       "    </tr>\n",
       "    <tr>\n",
       "      <th>lamp_on_y</th>\n",
       "      <td>-1.000027</td>\n",
       "      <td>-1.0</td>\n",
       "      <td>0.000027</td>\n",
       "    </tr>\n",
       "    <tr>\n",
       "      <th>lamp_status</th>\n",
       "      <td>0.000032</td>\n",
       "      <td>0.0</td>\n",
       "      <td>0.000032</td>\n",
       "    </tr>\n",
       "    <tr>\n",
       "      <th>player_x</th>\n",
       "      <td>7.999975</td>\n",
       "      <td>8.0</td>\n",
       "      <td>0.000025</td>\n",
       "    </tr>\n",
       "    <tr>\n",
       "      <th>player_y</th>\n",
       "      <td>2.001013</td>\n",
       "      <td>2.0</td>\n",
       "      <td>0.001013</td>\n",
       "    </tr>\n",
       "  </tbody>\n",
       "</table>\n",
       "</div>"
      ],
      "text/plain": [
       "                 pred  true     error\n",
       "button_x     8.000434   8.0  0.000434\n",
       "button_y     1.999969   2.0  0.000031\n",
       "chest_00_x   9.000382   9.0  0.000382\n",
       "chest_00_y   2.000165   2.0  0.000165\n",
       "chest_01_x   9.998533  10.0  0.001467\n",
       "chest_01_y   2.000516   2.0  0.000516\n",
       "food_00_x    8.006310   8.0  0.006310\n",
       "food_00_y    3.999834   4.0  0.000166\n",
       "food_01_x    9.999562  10.0  0.000438\n",
       "food_01_y    3.999169   4.0  0.000831\n",
       "health       0.997758   1.0  0.002242\n",
       "key_00_x     5.998864   6.0  0.001136\n",
       "key_00_y     4.000631   4.0  0.000631\n",
       "key_01_x     8.004072   8.0  0.004072\n",
       "key_01_y     3.000524   3.0  0.000524\n",
       "keys        -0.000683   0.0  0.000683\n",
       "lamp_off_x   6.997932   7.0  0.002068\n",
       "lamp_off_y   1.001623   1.0  0.001623\n",
       "lamp_on_x   -1.000752  -1.0  0.000752\n",
       "lamp_on_y   -1.000027  -1.0  0.000027\n",
       "lamp_status  0.000032   0.0  0.000032\n",
       "player_x     7.999975   8.0  0.000025\n",
       "player_y     2.001013   2.0  0.001013"
      ]
     },
     "execution_count": 218,
     "metadata": {},
     "output_type": "execute_result"
    },
    {
     "data": {
      "image/png": "[encoded data removed]",
      "text/plain": [
       "<Figure size 432x288 with 1 Axes>"
      ]
     },
     "metadata": {
      "needs_background": "light"
     },
     "output_type": "display_data"
    }
   ],
   "source": [
    "idx = np.random.choice(len(Xn))\n",
    "img = X_rgb[idx]\n",
    "Xn_idx = Xn[idx:idx+1]\n",
    "f_pred = model.predict(Xn_idx)[0]\n",
    "f_pred_scaled = f_pred * (Fn_scaler.var_ ** 0.5) + Fn_scaler.mean_\n",
    "f_pred_dct = arr_to_dict(f_pred_scaled, Fkeys)\n",
    "f_true_dct = Fdict[idx]\n",
    "\n",
    "# print(f_pred_dct, f_true_dct)\n",
    "plt.imshow(img)\n",
    "df = pd.DataFrame({'pred': f_pred_dct, 'true': f_true_dct})\n",
    "df['error'] = np.abs(df.pred - df.true)\n",
    "df"
   ]
  },
  {
   "cell_type": "markdown",
   "metadata": {},
   "source": [
    "# Generator model"
   ]
  },
  {
   "cell_type": "code",
   "execution_count": 19,
   "metadata": {},
   "outputs": [
    {
     "name": "stdout",
     "output_type": "stream",
     "text": [
      "1.0\n"
     ]
    }
   ],
   "source": [
    "Xmasked = np.copy(X)\n",
    "Xmasked[:, :, :, 4:] = 0\n",
    "X_rgb = obss_to_rgb(Xmasked, env.engine)"
   ]
  },
  {
   "cell_type": "code",
   "execution_count": 20,
   "metadata": {},
   "outputs": [],
   "source": [
    "Fdict = [obs_features_handcoded(x, env) for x in X]\n",
    "F = np.array([dict_to_arr(f) for f in Fdict])"
   ]
  },
  {
   "cell_type": "code",
   "execution_count": 21,
   "metadata": {},
   "outputs": [
    {
     "data": {
      "text/plain": [
       "<matplotlib.image.AxesImage at 0x7f4420928dd0>"
      ]
     },
     "execution_count": 21,
     "metadata": {},
     "output_type": "execute_result"
    },
    {
     "data": {
      "image/png": "[encoded data removed]",
      "text/plain": [
       "<Figure size 432x288 with 1 Axes>"
      ]
     },
     "metadata": {
      "needs_background": "light"
     },
     "output_type": "display_data"
    }
   ],
   "source": [
    "plt.imshow(X_rgb[10])"
   ]
  },
  {
   "cell_type": "code",
   "execution_count": 24,
   "metadata": {},
   "outputs": [],
   "source": [
    "import sklearn\n",
    "Xn_scaler = sklearn.preprocessing.StandardScaler()\n",
    "Fn_scaler = sklearn.preprocessing.StandardScaler()"
   ]
  },
  {
   "cell_type": "code",
   "execution_count": 42,
   "metadata": {},
   "outputs": [],
   "source": [
    "# normalization\n",
    "Xn = Xn_scaler.fit_transform(Xmasked.reshape(X.shape[0], -1))\n",
    "Fn = Fn_scaler.fit_transform(F)\n",
    "# Xn = X.reshape(X.shape[0], -1)\n",
    "# Fn = F"
   ]
  },
  {
   "cell_type": "code",
   "execution_count": 43,
   "metadata": {},
   "outputs": [
    {
     "data": {
      "text/plain": [
       "['empty',\n",
       " 'keys_collected',\n",
       " 'health',\n",
       " 'wall',\n",
       " 'key',\n",
       " 'chest',\n",
       " 'food',\n",
       " 'button',\n",
       " 'lamp_on',\n",
       " 'lamp_off',\n",
       " 'player']"
      ]
     },
     "execution_count": 43,
     "metadata": {},
     "output_type": "execute_result"
    }
   ],
   "source": [
    "env.engine.OBJECTS"
   ]
  },
  {
   "cell_type": "code",
   "execution_count": 75,
   "metadata": {},
   "outputs": [
    {
     "data": {
      "text/plain": [
       "10"
      ]
     },
     "execution_count": 75,
     "metadata": {},
     "output_type": "execute_result"
    }
   ],
   "source": [
    "sorted(Fkeys).index('health')"
   ]
  },
  {
   "cell_type": "code",
   "execution_count": 79,
   "metadata": {},
   "outputs": [
    {
     "data": {
      "text/plain": [
       "(array([22., 11., 11., 22., 12., 12.,  2.,  1.,  1.,  2.]),\n",
       " array([ 1. ,  2.3,  3.6,  4.9,  6.2,  7.5,  8.8, 10.1, 11.4, 12.7, 14. ],\n",
       "       dtype=float32),\n",
       " <BarContainer object of 10 artists>)"
      ]
     },
     "execution_count": 79,
     "metadata": {},
     "output_type": "execute_result"
    },
    {
     "data": {
      "image/png": "[encoded data removed]",
      "text/plain": [
       "<Figure size 432x288 with 1 Axes>"
      ]
     },
     "metadata": {
      "needs_background": "light"
     },
     "output_type": "display_data"
    }
   ],
   "source": [
    "plt.hist(F[:, 10])"
   ]
  },
  {
   "cell_type": "code",
   "execution_count": 78,
   "metadata": {},
   "outputs": [
    {
     "data": {
      "text/plain": [
       "(array([22., 11., 11., 22., 12., 12.,  2.,  1.,  1.,  2.]),\n",
       " array([-1.4142135 , -0.95459414, -0.4949747 , -0.03535529,  0.42426413,\n",
       "         0.88388354,  1.343503  ,  1.8031224 ,  2.2627418 ,  2.722361  ,\n",
       "         3.1819806 ], dtype=float32),\n",
       " <BarContainer object of 10 artists>)"
      ]
     },
     "execution_count": 78,
     "metadata": {},
     "output_type": "execute_result"
    },
    {
     "data": {
      "image/png": "[encoded data removed]",
      "text/plain": [
       "<Figure size 432x288 with 1 Axes>"
      ]
     },
     "metadata": {
      "needs_background": "light"
     },
     "output_type": "display_data"
    }
   ],
   "source": [
    "plt.hist(Fn[:, 10])"
   ]
  },
  {
   "cell_type": "code",
   "execution_count": 44,
   "metadata": {},
   "outputs": [],
   "source": [
    "#np.max(np.abs(Fnew - F))"
   ]
  },
  {
   "cell_type": "code",
   "execution_count": 379,
   "metadata": {},
   "outputs": [],
   "source": [
    "generator = tf.keras.Sequential([\n",
    "    tf.keras.layers.Flatten(input_shape=(F.shape[1], )),\n",
    "#     tf.keras.layers.Dense(F.shape[1], activation='relu'),\n",
    "#     tf.keras.layers.Dense(1, activation='relu'), # +4096, 4096\n",
    "#     tf.keras.layers.Dense(100, activation='relu'),\n",
    "    tf.keras.layers.Dense((h * w * 3), activation='sigmoid'),\n",
    "    tf.keras.layers.Reshape((h, w, 3))\n",
    "])"
   ]
  },
  {
   "cell_type": "code",
   "execution_count": 380,
   "metadata": {},
   "outputs": [
    {
     "data": {
      "text/plain": [
       "((96, 924), (96, 23))"
      ]
     },
     "execution_count": 380,
     "metadata": {},
     "output_type": "execute_result"
    }
   ],
   "source": [
    "Xn.shape, Fn.shape"
   ]
  },
  {
   "cell_type": "code",
   "execution_count": 381,
   "metadata": {},
   "outputs": [],
   "source": [
    "@tf.function\n",
    "def sse(y_true, y_pred):\n",
    "    \n",
    "    l = tf.abs(y_true - y_pred) ** 4\n",
    "    l = tf.reduce_mean(l, axis=0)\n",
    "    l = tf.reduce_sum(l)\n",
    "\n",
    "    return l"
   ]
  },
  {
   "cell_type": "code",
   "execution_count": 382,
   "metadata": {},
   "outputs": [],
   "source": [
    "#generator.compile(tf.optimizers.Adam(lr=1e-4), 'mse', metrics=['mae'])\n",
    "generator.compile(tf.optimizers.Adam(lr=1e-5), 'mse', metrics=['mae'])"
   ]
  },
  {
   "cell_type": "code",
   "execution_count": 451,
   "metadata": {},
   "outputs": [
    {
     "data": {
      "application/javascript": [
       "$(document).ready(\n",
       "    function() {\n",
       "        function appendUniqueDiv(){\n",
       "            // append a div with our uuid so we can check that it's already\n",
       "            // been sent and avoid duplicates on page reload\n",
       "            var notifiedDiv = document.createElement(\"div\")\n",
       "            notifiedDiv.id = \"06c8f6b5-2e8b-4c24-b1bb-0a90be2bef2c\"\n",
       "            element.append(notifiedDiv)\n",
       "        }\n",
       "\n",
       "        // only send notifications if the pageload is complete; this will\n",
       "        // help stop extra notifications when a saved notebook is loaded,\n",
       "        // which during testing gives us state \"interactive\", not \"complete\"\n",
       "        if (document.readyState === 'complete') {\n",
       "            // check for the div that signifies that the notification\n",
       "            // was already sent\n",
       "            if (document.getElementById(\"06c8f6b5-2e8b-4c24-b1bb-0a90be2bef2c\") === null) {\n",
       "                var notificationPayload = {\"requireInteraction\": false, \"icon\": \"/static/base/images/favicon.ico\", \"body\": \"Cell Execution Has Finished!!\", \"autonotify_after\": \"30\", \"autonotify_output\": false};\n",
       "                if (Notification.permission !== 'denied') {\n",
       "                    if (Notification.permission !== 'granted') { \n",
       "                        Notification.requestPermission(function (permission) {\n",
       "                            if(!('permission' in Notification)) {\n",
       "                                Notification.permission = permission\n",
       "                            }\n",
       "                        })\n",
       "                    }\n",
       "                    if (Notification.permission === 'granted') {\n",
       "                    var notification = new Notification(\"Jupyter Notebook\", notificationPayload)\n",
       "                    appendUniqueDiv()\n",
       "                    notification.onclick = function () {\n",
       "                        window.focus();\n",
       "                        this.close();\n",
       "                        };\n",
       "                    } \n",
       "                }     \n",
       "            }\n",
       "        }\n",
       "    }\n",
       ")\n"
      ],
      "text/plain": [
       "<IPython.core.display.Javascript object>"
      ]
     },
     "metadata": {},
     "output_type": "display_data"
    }
   ],
   "source": [
    "# validation_split=0.1,\n",
    "# history = generator.fit(Fn, Xn, epochs=5000,  batch_size=512, verbose=0)#, callbacks=[TQDMNotebookCallback(leave_inner=False)])\n",
    "history = generator.fit(F, X_rgb, epochs=50000,  batch_size=512, verbose=0)#, callbacks=[TQDMNotebookCallback(leave_inner=False)])"
   ]
  },
  {
   "cell_type": "code",
   "execution_count": 452,
   "metadata": {},
   "outputs": [
    {
     "data": {
      "image/png": "[encoded data removed]",
      "text/plain": [
       "<Figure size 432x288 with 1 Axes>"
      ]
     },
     "metadata": {
      "needs_background": "light"
     },
     "output_type": "display_data"
    }
   ],
   "source": [
    "plt.plot(history.history['loss'])\n",
    "# plt.plot(history.history['val_loss'])\n",
    "plt.yscale('log')"
   ]
  },
  {
   "cell_type": "code",
   "execution_count": 453,
   "metadata": {},
   "outputs": [
    {
     "data": {
      "image/png": "[encoded data removed]",
      "text/plain": [
       "<Figure size 432x288 with 1 Axes>"
      ]
     },
     "metadata": {
      "needs_background": "light"
     },
     "output_type": "display_data"
    }
   ],
   "source": [
    "plt.plot(history.history['mae'])\n",
    "# plt.plot(history.history['val_mae'])\n",
    "plt.yscale('log')"
   ]
  },
  {
   "cell_type": "code",
   "execution_count": 454,
   "metadata": {},
   "outputs": [
    {
     "data": {
      "image/png": "[encoded data removed]",
      "text/plain": [
       "<Figure size 432x288 with 1 Axes>"
      ]
     },
     "metadata": {
      "needs_background": "light"
     },
     "output_type": "display_data"
    }
   ],
   "source": [
    "plt.plot(history.history['mae'])\n",
    "# plt.plot(history.history['val_mae'])\n",
    "plt.yscale('log')"
   ]
  },
  {
   "cell_type": "code",
   "execution_count": 455,
   "metadata": {},
   "outputs": [
    {
     "data": {
      "text/plain": [
       "[0.00020151633361820132, 0.0012270312]"
      ]
     },
     "execution_count": 455,
     "metadata": {},
     "output_type": "execute_result"
    }
   ],
   "source": [
    "generator.evaluate(F, X_rgb)"
   ]
  },
  {
   "cell_type": "code",
   "execution_count": 457,
   "metadata": {},
   "outputs": [
    {
     "name": "stdout",
     "output_type": "stream",
     "text": [
      "11 {'health': 5.0, 'keys': 0.0, 'lamp_status': 0, 'key_00_x': 7, 'key_00_y': 1, 'key_01_x': 10, 'key_01_y': 3, 'chest_00_x': 8, 'chest_00_y': 2, 'chest_01_x': 9, 'chest_01_y': 2, 'food_00_x': 6, 'food_00_y': 5, 'food_01_x': 8, 'food_01_y': 5, 'button_x': 6, 'button_y': 1, 'player_x': 7, 'player_y': 3, 'lamp_on_x': -1, 'lamp_on_y': -1, 'lamp_off_x': 9, 'lamp_off_y': 3}\n"
     ]
    },
    {
     "data": {
      "image/png": "[encoded data removed]",
      "text/plain": [
       "<Figure size 432x288 with 3 Axes>"
      ]
     },
     "metadata": {
      "needs_background": "light"
     },
     "output_type": "display_data"
    }
   ],
   "source": [
    "idx = np.random.choice(len(Xn))\n",
    "\n",
    "\n",
    "img_true = X_rgb[idx]\n",
    "Fn_idx = F[idx:idx+1]#Fn[idx:idx+1]\n",
    "img_pred_flat = generator.predict(Fn_idx)\n",
    "img_pred_flat_rescaled = img_pred_flat\n",
    "# img_pred_flat_rescaled = (img_pred_flat * (Xn_scaler.var_ ** 0.5) + Xn_scaler.mean_)\n",
    "img_pred = img_pred_flat_rescaled#.reshape((1, h, w, c))\n",
    "# img_pred_rgb = obss_to_rgb(img_pred, env.engine)[0]\n",
    "img_pred_rgb = img_pred[0]\n",
    "Fdict_idx = Fdict[idx]\n",
    "\n",
    "print(idx, Fdict_idx)\n",
    "\n",
    "img_pred_rgb[img_pred_rgb > 1] = 1\n",
    "img_pred_rgb[img_pred_rgb < 0] = 0\n",
    "\n",
    "plt.subplot(1, 3, 1)\n",
    "plt.title('pred')\n",
    "plt.imshow(img_pred_rgb)\n",
    "plt.subplot(1, 3, 2)\n",
    "plt.title('true')\n",
    "plt.imshow(img_true)\n",
    "plt.subplot(1, 3, 3)\n",
    "plt.title('err')\n",
    "plt.imshow(np.abs(img_pred_rgb - img_true))\n",
    "plt.show()"
   ]
  },
  {
   "cell_type": "code",
   "execution_count": 402,
   "metadata": {},
   "outputs": [
    {
     "ename": "ValueError",
     "evalue": "operands could not be broadcast together with shapes (1,12,7,3) (12,7,11) ",
     "output_type": "error",
     "traceback": [
      "\u001b[0;31m---------------------------------------------------------------------------\u001b[0m",
      "\u001b[0;31mValueError\u001b[0m                                Traceback (most recent call last)",
      "\u001b[0;32m<ipython-input-402-12749c732844>\u001b[0m in \u001b[0;36m<module>\u001b[0;34m\u001b[0m\n\u001b[0;32m----> 1\u001b[0;31m \u001b[0mnp\u001b[0m\u001b[0;34m.\u001b[0m\u001b[0mmean\u001b[0m\u001b[0;34m(\u001b[0m\u001b[0mnp\u001b[0m\u001b[0;34m.\u001b[0m\u001b[0mabs\u001b[0m\u001b[0;34m(\u001b[0m\u001b[0mimg_pred\u001b[0m \u001b[0;34m-\u001b[0m \u001b[0mX\u001b[0m\u001b[0;34m[\u001b[0m\u001b[0midx\u001b[0m\u001b[0;34m]\u001b[0m\u001b[0;34m)\u001b[0m\u001b[0;34m)\u001b[0m\u001b[0;34m\u001b[0m\u001b[0;34m\u001b[0m\u001b[0m\n\u001b[0m",
      "\u001b[0;31mValueError\u001b[0m: operands could not be broadcast together with shapes (1,12,7,3) (12,7,11) "
     ]
    }
   ],
   "source": [
    "np.mean(np.abs(img_pred - X[idx]))"
   ]
  },
  {
   "cell_type": "code",
   "execution_count": null,
   "metadata": {},
   "outputs": [],
   "source": [
    "F[idx]"
   ]
  },
  {
   "cell_type": "code",
   "execution_count": null,
   "metadata": {},
   "outputs": [],
   "source": [
    "np.sum(np.abs(img_pred_flat - Xn[idx]))"
   ]
  },
  {
   "cell_type": "code",
   "execution_count": null,
   "metadata": {},
   "outputs": [],
   "source": [
    "np.sum(np.abs((img_pred - X[idx]).flatten()))"
   ]
  },
  {
   "cell_type": "code",
   "execution_count": null,
   "metadata": {},
   "outputs": [],
   "source": []
  },
  {
   "cell_type": "code",
   "execution_count": null,
   "metadata": {},
   "outputs": [],
   "source": [
    "plt.imshow(X_rgb[idx])"
   ]
  },
  {
   "cell_type": "code",
   "execution_count": null,
   "metadata": {},
   "outputs": [],
   "source": []
  },
  {
   "cell_type": "code",
   "execution_count": null,
   "metadata": {},
   "outputs": [],
   "source": []
  },
  {
   "cell_type": "code",
   "execution_count": null,
   "metadata": {},
   "outputs": [],
   "source": []
  }
 ],
 "metadata": {
  "kernelspec": {
   "display_name": "Python 3",
   "language": "python",
   "name": "python3"
  },
  "language_info": {
   "codemirror_mode": {
    "name": "ipython",
    "version": 3
   },
   "file_extension": ".py",
   "mimetype": "text/x-python",
   "name": "python",
   "nbconvert_exporter": "python",
   "pygments_lexer": "ipython3",
   "version": "3.7.9"
  }
 },
 "nbformat": 4,
 "nbformat_minor": 4
}
