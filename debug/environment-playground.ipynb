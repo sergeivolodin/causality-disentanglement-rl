{
 "cells": [
  {
   "cell_type": "code",
   "execution_count": 1,
   "id": "a143d9db",
   "metadata": {},
   "outputs": [],
   "source": [
    "import numpy as np\n",
    "from matplotlib import pyplot as plt\n",
    "%matplotlib inline\n",
    "import gym\n",
    "import gin\n",
    "import cv2\n",
    "from vectorincrement.epicycles import RocketEpicycleEnvironment\n",
    "gin.enter_interactive_mode()"
   ]
  },
  {
   "cell_type": "code",
   "execution_count": 2,
   "id": "94cb39c2",
   "metadata": {},
   "outputs": [
    {
     "data": {
      "text/plain": [
       "<RocketEpicycleEnvironment epicycles=True>"
      ]
     },
     "execution_count": 2,
     "metadata": {},
     "output_type": "execute_result"
    }
   ],
   "source": [
    "env = RocketEpicycleEnvironment(epicycles=True)#False)#True)#False)\n",
    "env"
   ]
  },
  {
   "cell_type": "code",
   "execution_count": 3,
   "id": "7af0372d",
   "metadata": {},
   "outputs": [],
   "source": [
    "\n",
    "#%timeit env.reset()"
   ]
  },
  {
   "cell_type": "code",
   "execution_count": 4,
   "id": "ccc7d783",
   "metadata": {},
   "outputs": [
    {
     "data": {
      "text/plain": [
       "<matplotlib.image.AxesImage at 0x7f4d31bc1f50>"
      ]
     },
     "execution_count": 4,
     "metadata": {},
     "output_type": "execute_result"
    },
    {
     "data": {
      "image/png": "[encoded data removed]",
      "text/plain": [
       "<Figure size 432x288 with 1 Axes>"
      ]
     },
     "metadata": {
      "needs_background": "light"
     },
     "output_type": "display_data"
    }
   ],
   "source": [
    "img = env.reset()\n",
    "plt.imshow(img)"
   ]
  },
  {
   "cell_type": "code",
   "execution_count": 5,
   "id": "4fc276e0",
   "metadata": {},
   "outputs": [],
   "source": [
    "from IPython.display import clear_output, display\n",
    "import ipywidgets as widgets\n",
    "from time import sleep\n",
    "from PIL import Image\n",
    "import io"
   ]
  },
  {
   "cell_type": "code",
   "execution_count": 6,
   "id": "6b581b0a",
   "metadata": {},
   "outputs": [],
   "source": [
    "def visualize_env(env):\n",
    "\n",
    "    def npimg_to_png(obs):\n",
    "    #     print(obs.shape)\n",
    "    #     obs_rgb = (obs/0.2 * 200).astype(np.uint8).reshape(*obs.shape, 1).repeat(3, axis=2)\n",
    "    #     obs_rgb = obs\n",
    "        obs_rgb = np.array(obs * 255, dtype=np.uint8)\n",
    "    #     print(obs_rgb.shape)\n",
    "        img = Image.fromarray(obs_rgb)\n",
    "    #     img = img.resize((obs.shape[1] * 10, obs.shape[0] * 10), Image.NEAREST)\n",
    "\n",
    "        img_byte_arr = io.BytesIO()\n",
    "        img.convert('RGB').save(img_byte_arr, format='PNG')\n",
    "        img_byte_arr = img_byte_arr.getvalue()\n",
    "        return img_byte_arr\n",
    "\n",
    "    obs = env.reset()\n",
    "\n",
    "    img_widget = widgets.Image(\n",
    "        value=npimg_to_png(obs),\n",
    "        format='png',\n",
    "        width=200,\n",
    "        height=200,\n",
    "    )\n",
    "\n",
    "    def show_obs(obs, permute=None):\n",
    "    #     obs = unpermute_observation(obs)\n",
    "    #     if permute is None:\n",
    "    #         permute = ck.value\n",
    "    #     if permute:\n",
    "    #         obs = permute_observation(obs, perm)\n",
    "        img_widget.value = npimg_to_png(obs)\n",
    "\n",
    "    show_obs(obs)\n",
    "    done = False\n",
    "\n",
    "    filled = False\n",
    "    step = 0\n",
    "\n",
    "    display(img_widget)\n",
    "    # display(info)\n",
    "\n",
    "    while True:\n",
    "        obs = env.reset()\n",
    "        show_obs(obs)\n",
    "        done = False\n",
    "        while not done:\n",
    "            obs, rew, done, info = env.step(env.action_space.sample())\n",
    "            show_obs(obs)\n",
    "            sleep(0.05)"
   ]
  },
  {
   "cell_type": "code",
   "execution_count": 7,
   "id": "52afee3e",
   "metadata": {},
   "outputs": [
    {
     "data": {
      "application/vnd.jupyter.widget-view+json": {
       "model_id": "e9dcb46d855340de96af49f3c14ea80f",
       "version_major": 2,
       "version_minor": 0
      },
      "text/plain": [
       "Image(value=b'\\x89PNG\\r\\n\\x1a\\n\\x00\\x00\\x00\\rIHDR\\x00\\x00\\x00\\x14\\x00\\x00\\x00\\x14\\x08\\x02\\x00\\x00\\x00\\x02\\xeb\\…"
      ]
     },
     "metadata": {},
     "output_type": "display_data"
    },
    {
     "ename": "KeyboardInterrupt",
     "evalue": "",
     "output_type": "error",
     "traceback": [
      "\u001b[0;31m---------------------------------------------------------------------------\u001b[0m",
      "\u001b[0;31mKeyboardInterrupt\u001b[0m                         Traceback (most recent call last)",
      "\u001b[0;32m<ipython-input-7-3a62de2cb72d>\u001b[0m in \u001b[0;36m<module>\u001b[0;34m\u001b[0m\n\u001b[1;32m      1\u001b[0m \u001b[0menv\u001b[0m \u001b[0;34m=\u001b[0m \u001b[0mRocketEpicycleEnvironment\u001b[0m\u001b[0;34m(\u001b[0m\u001b[0mepicycles\u001b[0m\u001b[0;34m=\u001b[0m\u001b[0;32mTrue\u001b[0m\u001b[0;34m)\u001b[0m\u001b[0;31m#False)#True)#False)\u001b[0m\u001b[0;34m\u001b[0m\u001b[0;34m\u001b[0m\u001b[0m\n\u001b[0;32m----> 2\u001b[0;31m \u001b[0mvisualize_env\u001b[0m\u001b[0;34m(\u001b[0m\u001b[0menv\u001b[0m\u001b[0;34m)\u001b[0m\u001b[0;34m\u001b[0m\u001b[0;34m\u001b[0m\u001b[0m\n\u001b[0m",
      "\u001b[0;32m<ipython-input-6-5f0f7af1e693>\u001b[0m in \u001b[0;36mvisualize_env\u001b[0;34m(env)\u001b[0m\n\u001b[1;32m     48\u001b[0m             \u001b[0mobs\u001b[0m\u001b[0;34m,\u001b[0m \u001b[0mrew\u001b[0m\u001b[0;34m,\u001b[0m \u001b[0mdone\u001b[0m\u001b[0;34m,\u001b[0m \u001b[0minfo\u001b[0m \u001b[0;34m=\u001b[0m \u001b[0menv\u001b[0m\u001b[0;34m.\u001b[0m\u001b[0mstep\u001b[0m\u001b[0;34m(\u001b[0m\u001b[0menv\u001b[0m\u001b[0;34m.\u001b[0m\u001b[0maction_space\u001b[0m\u001b[0;34m.\u001b[0m\u001b[0msample\u001b[0m\u001b[0;34m(\u001b[0m\u001b[0;34m)\u001b[0m\u001b[0;34m)\u001b[0m\u001b[0;34m\u001b[0m\u001b[0;34m\u001b[0m\u001b[0m\n\u001b[1;32m     49\u001b[0m             \u001b[0mshow_obs\u001b[0m\u001b[0;34m(\u001b[0m\u001b[0mobs\u001b[0m\u001b[0;34m)\u001b[0m\u001b[0;34m\u001b[0m\u001b[0;34m\u001b[0m\u001b[0m\n\u001b[0;32m---> 50\u001b[0;31m             \u001b[0msleep\u001b[0m\u001b[0;34m(\u001b[0m\u001b[0;36m0.05\u001b[0m\u001b[0;34m)\u001b[0m\u001b[0;34m\u001b[0m\u001b[0;34m\u001b[0m\u001b[0m\n\u001b[0m",
      "\u001b[0;31mKeyboardInterrupt\u001b[0m: "
     ]
    }
   ],
   "source": [
    "env = RocketEpicycleEnvironment(epicycles=True)#False)#True)#False)\n",
    "visualize_env(env)"
   ]
  },
  {
   "cell_type": "code",
   "execution_count": 8,
   "id": "1b51dc53",
   "metadata": {},
   "outputs": [
    {
     "data": {
      "application/vnd.jupyter.widget-view+json": {
       "model_id": "4e2681cb3d0e424dbae75e2db38ee884",
       "version_major": 2,
       "version_minor": 0
      },
      "text/plain": [
       "Image(value=b'\\x89PNG\\r\\n\\x1a\\n\\x00\\x00\\x00\\rIHDR\\x00\\x00\\x00\\x14\\x00\\x00\\x00\\x14\\x08\\x02\\x00\\x00\\x00\\x02\\xeb\\…"
      ]
     },
     "metadata": {},
     "output_type": "display_data"
    },
    {
     "ename": "KeyboardInterrupt",
     "evalue": "",
     "output_type": "error",
     "traceback": [
      "\u001b[0;31m---------------------------------------------------------------------------\u001b[0m",
      "\u001b[0;31mKeyboardInterrupt\u001b[0m                         Traceback (most recent call last)",
      "\u001b[0;32m<ipython-input-8-08c0dde851e9>\u001b[0m in \u001b[0;36m<module>\u001b[0;34m\u001b[0m\n\u001b[1;32m      1\u001b[0m \u001b[0menv\u001b[0m \u001b[0;34m=\u001b[0m \u001b[0mRocketEpicycleEnvironment\u001b[0m\u001b[0;34m(\u001b[0m\u001b[0mepicycles\u001b[0m\u001b[0;34m=\u001b[0m\u001b[0;32mFalse\u001b[0m\u001b[0;34m)\u001b[0m\u001b[0;34m\u001b[0m\u001b[0;34m\u001b[0m\u001b[0m\n\u001b[0;32m----> 2\u001b[0;31m \u001b[0mvisualize_env\u001b[0m\u001b[0;34m(\u001b[0m\u001b[0menv\u001b[0m\u001b[0;34m)\u001b[0m\u001b[0;34m\u001b[0m\u001b[0;34m\u001b[0m\u001b[0m\n\u001b[0m",
      "\u001b[0;32m<ipython-input-6-5f0f7af1e693>\u001b[0m in \u001b[0;36mvisualize_env\u001b[0;34m(env)\u001b[0m\n\u001b[1;32m     48\u001b[0m             \u001b[0mobs\u001b[0m\u001b[0;34m,\u001b[0m \u001b[0mrew\u001b[0m\u001b[0;34m,\u001b[0m \u001b[0mdone\u001b[0m\u001b[0;34m,\u001b[0m \u001b[0minfo\u001b[0m \u001b[0;34m=\u001b[0m \u001b[0menv\u001b[0m\u001b[0;34m.\u001b[0m\u001b[0mstep\u001b[0m\u001b[0;34m(\u001b[0m\u001b[0menv\u001b[0m\u001b[0;34m.\u001b[0m\u001b[0maction_space\u001b[0m\u001b[0;34m.\u001b[0m\u001b[0msample\u001b[0m\u001b[0;34m(\u001b[0m\u001b[0;34m)\u001b[0m\u001b[0;34m)\u001b[0m\u001b[0;34m\u001b[0m\u001b[0;34m\u001b[0m\u001b[0m\n\u001b[1;32m     49\u001b[0m             \u001b[0mshow_obs\u001b[0m\u001b[0;34m(\u001b[0m\u001b[0mobs\u001b[0m\u001b[0;34m)\u001b[0m\u001b[0;34m\u001b[0m\u001b[0;34m\u001b[0m\u001b[0m\n\u001b[0;32m---> 50\u001b[0;31m             \u001b[0msleep\u001b[0m\u001b[0;34m(\u001b[0m\u001b[0;36m0.05\u001b[0m\u001b[0;34m)\u001b[0m\u001b[0;34m\u001b[0m\u001b[0;34m\u001b[0m\u001b[0m\n\u001b[0m",
      "\u001b[0;31mKeyboardInterrupt\u001b[0m: "
     ]
    }
   ],
   "source": [
    "env = RocketEpicycleEnvironment(epicycles=False)\n",
    "visualize_env(env)"
   ]
  },
  {
   "cell_type": "code",
   "execution_count": null,
   "id": "a40b7a1a",
   "metadata": {},
   "outputs": [],
   "source": []
  },
  {
   "cell_type": "code",
   "execution_count": null,
   "id": "9c39246f",
   "metadata": {},
   "outputs": [],
   "source": []
  },
  {
   "cell_type": "code",
   "execution_count": 2,
   "id": "7798fa5b",
   "metadata": {},
   "outputs": [
    {
     "data": {
      "image/png": "[encoded data removed]",
      "text/plain": [
       "<Figure size 576x576 with 1 Axes>"
      ]
     },
     "metadata": {
      "needs_background": "light"
     },
     "output_type": "display_data"
    }
   ],
   "source": [
    "import os\n",
    "# switch to \"osmesa\" or \"egl\" before loading pyrender\n",
    "os.environ[\"PYOPENGL_PLATFORM\"] = \"egl\"\n",
    "os.environ['DISPLAY'] = ':10'\n",
    "\n",
    "import numpy as np\n",
    "import pyrender\n",
    "import trimesh\n",
    "import matplotlib.pyplot as plt"
   ]
  },
  {
   "cell_type": "code",
   "execution_count": 3,
   "id": "c1db8fc7",
   "metadata": {},
   "outputs": [
    {
     "ename": "GLError",
     "evalue": "GLError(\n\terr = 12289,\n\tbaseOperation = eglMakeCurrent,\n\tcArguments = (\n\t\t<OpenGL._opaque.EGLDisplay_pointer object at 0x7ff9479cf0e0>,\n\t\t<OpenGL._opaque.EGLSurface_pointer object at 0x7ff9519623b0>,\n\t\t<OpenGL._opaque.EGLSurface_pointer object at 0x7ff9519623b0>,\n\t\t<OpenGL._opaque.EGLContext_pointer object at 0x7ff9479cf3b0>,\n\t),\n\tresult = 0\n)",
     "output_type": "error",
     "traceback": [
      "\u001b[0;31m---------------------------------------------------------------------------\u001b[0m",
      "\u001b[0;31mGLError\u001b[0m                                   Traceback (most recent call last)",
      "\u001b[0;32m<ipython-input-3-08e739e5280d>\u001b[0m in \u001b[0;36m<module>\u001b[0;34m\u001b[0m\n\u001b[1;32m     20\u001b[0m \u001b[0;31m# render scene\u001b[0m\u001b[0;34m\u001b[0m\u001b[0;34m\u001b[0m\u001b[0;34m\u001b[0m\u001b[0m\n\u001b[1;32m     21\u001b[0m \u001b[0mr\u001b[0m \u001b[0;34m=\u001b[0m \u001b[0mpyrender\u001b[0m\u001b[0;34m.\u001b[0m\u001b[0mOffscreenRenderer\u001b[0m\u001b[0;34m(\u001b[0m\u001b[0;36m32\u001b[0m\u001b[0;34m,\u001b[0m \u001b[0;36m32\u001b[0m\u001b[0;34m)\u001b[0m\u001b[0;34m\u001b[0m\u001b[0;34m\u001b[0m\u001b[0m\n\u001b[0;32m---> 22\u001b[0;31m \u001b[0mcolor\u001b[0m\u001b[0;34m,\u001b[0m \u001b[0m_\u001b[0m \u001b[0;34m=\u001b[0m \u001b[0mr\u001b[0m\u001b[0;34m.\u001b[0m\u001b[0mrender\u001b[0m\u001b[0;34m(\u001b[0m\u001b[0mscene\u001b[0m\u001b[0;34m)\u001b[0m\u001b[0;34m\u001b[0m\u001b[0;34m\u001b[0m\u001b[0m\n\u001b[0m\u001b[1;32m     23\u001b[0m \u001b[0;34m\u001b[0m\u001b[0m\n\u001b[1;32m     24\u001b[0m \u001b[0mplt\u001b[0m\u001b[0;34m.\u001b[0m\u001b[0mfigure\u001b[0m\u001b[0;34m(\u001b[0m\u001b[0mfigsize\u001b[0m\u001b[0;34m=\u001b[0m\u001b[0;34m(\u001b[0m\u001b[0;36m8\u001b[0m\u001b[0;34m,\u001b[0m\u001b[0;36m8\u001b[0m\u001b[0;34m)\u001b[0m\u001b[0;34m)\u001b[0m\u001b[0;34m,\u001b[0m \u001b[0mplt\u001b[0m\u001b[0;34m.\u001b[0m\u001b[0mimshow\u001b[0m\u001b[0;34m(\u001b[0m\u001b[0mcolor\u001b[0m\u001b[0;34m)\u001b[0m\u001b[0;34m;\u001b[0m\u001b[0;34m\u001b[0m\u001b[0;34m\u001b[0m\u001b[0m\n",
      "\u001b[0;32m~/miniconda3/envs/causal/lib/python3.7/site-packages/pyrender/offscreen.py\u001b[0m in \u001b[0;36mrender\u001b[0;34m(self, scene, flags, seg_node_map)\u001b[0m\n\u001b[1;32m     84\u001b[0m             \u001b[0mThe\u001b[0m \u001b[0mdepth\u001b[0m \u001b[0mbuffer\u001b[0m \u001b[0;32min\u001b[0m \u001b[0mlinear\u001b[0m \u001b[0munits\u001b[0m\u001b[0;34m.\u001b[0m\u001b[0;34m\u001b[0m\u001b[0;34m\u001b[0m\u001b[0m\n\u001b[1;32m     85\u001b[0m         \"\"\"\n\u001b[0;32m---> 86\u001b[0;31m         \u001b[0mself\u001b[0m\u001b[0;34m.\u001b[0m\u001b[0m_platform\u001b[0m\u001b[0;34m.\u001b[0m\u001b[0mmake_current\u001b[0m\u001b[0;34m(\u001b[0m\u001b[0;34m)\u001b[0m\u001b[0;34m\u001b[0m\u001b[0;34m\u001b[0m\u001b[0m\n\u001b[0m\u001b[1;32m     87\u001b[0m         \u001b[0;31m# If platform does not support dynamically-resizing framebuffers,\u001b[0m\u001b[0;34m\u001b[0m\u001b[0;34m\u001b[0m\u001b[0;34m\u001b[0m\u001b[0m\n\u001b[1;32m     88\u001b[0m         \u001b[0;31m# destroy it and restart it\u001b[0m\u001b[0;34m\u001b[0m\u001b[0;34m\u001b[0m\u001b[0;34m\u001b[0m\u001b[0m\n",
      "\u001b[0;32m~/miniconda3/envs/causal/lib/python3.7/site-packages/pyrender/platforms/egl.py\u001b[0m in \u001b[0;36mmake_current\u001b[0;34m(self)\u001b[0m\n\u001b[1;32m    196\u001b[0m         assert eglMakeCurrent(\n\u001b[1;32m    197\u001b[0m             \u001b[0mself\u001b[0m\u001b[0;34m.\u001b[0m\u001b[0m_egl_display\u001b[0m\u001b[0;34m,\u001b[0m \u001b[0mEGL_NO_SURFACE\u001b[0m\u001b[0;34m,\u001b[0m \u001b[0mEGL_NO_SURFACE\u001b[0m\u001b[0;34m,\u001b[0m\u001b[0;34m\u001b[0m\u001b[0;34m\u001b[0m\u001b[0m\n\u001b[0;32m--> 198\u001b[0;31m             \u001b[0mself\u001b[0m\u001b[0;34m.\u001b[0m\u001b[0m_egl_context\u001b[0m\u001b[0;34m\u001b[0m\u001b[0;34m\u001b[0m\u001b[0m\n\u001b[0m\u001b[1;32m    199\u001b[0m         )\n\u001b[1;32m    200\u001b[0m \u001b[0;34m\u001b[0m\u001b[0m\n",
      "\u001b[0;32m~/miniconda3/envs/causal/lib/python3.7/site-packages/OpenGL/error.py\u001b[0m in \u001b[0;36mglCheckError\u001b[0;34m(self, result, baseOperation, cArguments, *args)\u001b[0m\n\u001b[1;32m    230\u001b[0m                         \u001b[0mresult\u001b[0m\u001b[0;34m,\u001b[0m\u001b[0;34m\u001b[0m\u001b[0;34m\u001b[0m\u001b[0m\n\u001b[1;32m    231\u001b[0m                         \u001b[0mcArguments\u001b[0m \u001b[0;34m=\u001b[0m \u001b[0mcArguments\u001b[0m\u001b[0;34m,\u001b[0m\u001b[0;34m\u001b[0m\u001b[0;34m\u001b[0m\u001b[0m\n\u001b[0;32m--> 232\u001b[0;31m                         \u001b[0mbaseOperation\u001b[0m \u001b[0;34m=\u001b[0m \u001b[0mbaseOperation\u001b[0m\u001b[0;34m,\u001b[0m\u001b[0;34m\u001b[0m\u001b[0;34m\u001b[0m\u001b[0m\n\u001b[0m\u001b[1;32m    233\u001b[0m                     )\n\u001b[1;32m    234\u001b[0m                 \u001b[0;32mreturn\u001b[0m \u001b[0mresult\u001b[0m\u001b[0;34m\u001b[0m\u001b[0;34m\u001b[0m\u001b[0m\n",
      "\u001b[0;31mGLError\u001b[0m: GLError(\n\terr = 12289,\n\tbaseOperation = eglMakeCurrent,\n\tcArguments = (\n\t\t<OpenGL._opaque.EGLDisplay_pointer object at 0x7ff9479cf0e0>,\n\t\t<OpenGL._opaque.EGLSurface_pointer object at 0x7ff9519623b0>,\n\t\t<OpenGL._opaque.EGLSurface_pointer object at 0x7ff9519623b0>,\n\t\t<OpenGL._opaque.EGLContext_pointer object at 0x7ff9479cf3b0>,\n\t),\n\tresult = 0\n)"
     ]
    }
   ],
   "source": [
    "# generate mesh\n",
    "sphere = trimesh.creation.icosphere(subdivisions=4, radius=0.8)\n",
    "sphere.vertices+=1e-2*np.random.randn(*sphere.vertices.shape)\n",
    "mesh = pyrender.Mesh.from_trimesh(sphere, smooth=False)\n",
    "\n",
    "# compose scene\n",
    "scene = pyrender.Scene(ambient_light=[.1, .1, .3], bg_color=[0, 0, 0])\n",
    "camera = pyrender.PerspectiveCamera( yfov=np.pi / 3.0)\n",
    "light = pyrender.DirectionalLight(color=[1,1,1], intensity=2e3)\n",
    "\n",
    "scene.add(mesh, pose=  np.eye(4))\n",
    "scene.add(light, pose=  np.eye(4))\n",
    "\n",
    "c = 2**-0.5\n",
    "scene.add(camera, pose=[[ 1,  0,  0,  0],\n",
    "                        [ 0,  c, -c, -2],\n",
    "                        [ 0,  c,  c,  2],\n",
    "                        [ 0,  0,  0,  1]])\n",
    "\n",
    "# render scene\n",
    "r = pyrender.OffscreenRenderer(32, 32)\n",
    "color, _ = r.render(scene)\n",
    "\n",
    "plt.figure(figsize=(8,8)), plt.imshow(color);\n"
   ]
  },
  {
   "cell_type": "code",
   "execution_count": null,
   "id": "3cbe5a5f",
   "metadata": {},
   "outputs": [],
   "source": []
  }
 ],
 "metadata": {
  "kernelspec": {
   "display_name": "Python 3",
   "language": "python",
   "name": "python3"
  },
  "language_info": {
   "codemirror_mode": {
    "name": "ipython",
    "version": 3
   },
   "file_extension": ".py",
   "mimetype": "text/x-python",
   "name": "python",
   "nbconvert_exporter": "python",
   "pygments_lexer": "ipython3",
   "version": "3.7.10"
  }
 },
 "nbformat": 4,
 "nbformat_minor": 5
}
