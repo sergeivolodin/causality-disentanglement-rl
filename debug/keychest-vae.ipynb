{
 "cells": [
  {
   "cell_type": "code",
   "execution_count": 3,
   "metadata": {},
   "outputs": [
    {
     "data": {
      "text/plain": [
       "['5x5', 'common']"
      ]
     },
     "execution_count": 3,
     "metadata": {},
     "output_type": "execute_result"
    }
   ],
   "source": [
    "from tqdm.auto import tqdm\n",
    "import numpy as np\n",
    "import tensorflow as tf\n",
    "from causal_util.collect_data import EnvDataCollector\n",
    "from matplotlib import pyplot as plt\n",
    "import os\n",
    "import sys\n",
    "from sparse_causal_model_learner_rl.learner import Learner\n",
    "import gin\n",
    "from sparse_causal_model_learner_rl.sacred_gin_tune.sacred_wrapper import load_config_files\n",
    "from sparse_causal_model_learner_rl.config.config import Config\n",
    "from sparse_causal_model_learner_rl.trainable.decoder import IdentityDecoder\n",
    "import pickle\n",
    "%matplotlib inline\n",
    "\n",
    "load_config_files(['../keychest/config/5x5.gin', '../sparse_causal_model_learner_rl/configs/common.gin'])"
   ]
  },
  {
   "cell_type": "code",
   "execution_count": 4,
   "metadata": {},
   "outputs": [
    {
     "name": "stderr",
     "output_type": "stream",
     "text": [
      "WARNING:root:No class provided for trainable value_predictor\n"
     ]
    },
    {
     "name": "stdout",
     "output_type": "stream",
     "text": [
      "Make environment KeyChest-v0 None {}\n"
     ]
    }
   ],
   "source": [
    "learner = Learner(Config())"
   ]
  },
  {
   "cell_type": "code",
   "execution_count": 5,
   "metadata": {},
   "outputs": [],
   "source": [
    "def get_xy_conv(steps=1000, orig_shape=True):\n",
    "    \"\"\"Get the dataset.\"\"\"\n",
    "    gin.bind_parameter('Config.feature_shape', None)\n",
    "    gin.bind_parameter('KeyChestEnvironment.flatten_observation', not orig_shape)\n",
    "    gin.bind_parameter('Config.env_steps', steps)\n",
    "    gin.bind_parameter('Config.decoder', None)\n",
    "    gin.bind_parameter('Config.model', None)\n",
    "    gin.bind_parameter('Config.reconstructor', None)\n",
    "    gin.bind_parameter('Config.value_predictor', None)\n",
    "    gin.bind_parameter('Config.disable_cuda', True)\n",
    "    learner = Learner(Config())\n",
    "    learner.collect_steps(do_tqdm=True)\n",
    "    obs_x = learner._context.get('obs_x').cpu().numpy()\n",
    "    obs_y = learner._context.get('obs_y').cpu().numpy()\n",
    "    act_x = learner._context.get('action_x').cpu().numpy()\n",
    "    \n",
    "    if orig_shape:\n",
    "        return obs_x, act_x, obs_y\n",
    "    else:\n",
    "        X = np.concatenate((obs_x, act_x), axis=1)\n",
    "        y = obs_y\n",
    "        return X, y"
   ]
  },
  {
   "cell_type": "code",
   "execution_count": null,
   "metadata": {},
   "outputs": [],
   "source": []
  },
  {
   "cell_type": "code",
   "execution_count": 6,
   "metadata": {},
   "outputs": [
    {
     "name": "stderr",
     "output_type": "stream",
     "text": [
      "WARNING:root:No class provided for trainable model\n",
      "WARNING:root:No class provided for trainable decoder\n",
      "WARNING:root:No class provided for trainable reconstructor\n",
      "WARNING:root:No class provided for trainable value_predictor\n",
      "WARNING:root:No parameters for optimizer opt1 <function Optimizer at 0x7f9efa5ad170>\n"
     ]
    },
    {
     "name": "stdout",
     "output_type": "stream",
     "text": [
      "Make environment KeyChest-v0 None {}\n"
     ]
    },
    {
     "data": {
      "application/vnd.jupyter.widget-view+json": {
       "model_id": "a1c8c1296b664fa480bc476a57032b16",
       "version_major": 2,
       "version_minor": 0
      },
      "text/plain": [
       "HBox(children=(HTML(value=''), FloatProgress(value=0.0, max=100000.0), HTML(value='')))"
      ]
     },
     "metadata": {},
     "output_type": "display_data"
    },
    {
     "name": "stdout",
     "output_type": "stream",
     "text": [
      "\n"
     ]
    }
   ],
   "source": [
    "Xo_train, Xa_train, yo_train = get_xy_conv(steps=100000, orig_shape=True)"
   ]
  },
  {
   "cell_type": "code",
   "execution_count": 7,
   "metadata": {},
   "outputs": [
    {
     "data": {
      "text/plain": [
       "array([[0., 1., 0., 0.],\n",
       "       [1., 0., 0., 0.],\n",
       "       [0., 0., 0., 1.],\n",
       "       ...,\n",
       "       [1., 0., 0., 0.],\n",
       "       [1., 0., 0., 0.],\n",
       "       [1., 0., 0., 0.]], dtype=float32)"
      ]
     },
     "execution_count": 7,
     "metadata": {},
     "output_type": "execute_result"
    }
   ],
   "source": [
    "Xa_train"
   ]
  },
  {
   "cell_type": "code",
   "execution_count": 8,
   "metadata": {},
   "outputs": [],
   "source": [
    "env = learner.env\n",
    "h, w, c = env.engine._observation.shape"
   ]
  },
  {
   "cell_type": "code",
   "execution_count": 9,
   "metadata": {},
   "outputs": [
    {
     "data": {
      "text/plain": [
       "(12, 7, 11)"
      ]
     },
     "execution_count": 9,
     "metadata": {},
     "output_type": "execute_result"
    }
   ],
   "source": [
    "h, w, c"
   ]
  },
  {
   "cell_type": "code",
   "execution_count": 10,
   "metadata": {},
   "outputs": [
    {
     "data": {
      "text/plain": [
       "<keychest.keychestenv.KeyChestEnvironmentRandom at 0x7f9f9c1f4090>"
      ]
     },
     "execution_count": 10,
     "metadata": {},
     "output_type": "execute_result"
    }
   ],
   "source": [
    "learner.env.engine"
   ]
  },
  {
   "cell_type": "code",
   "execution_count": 11,
   "metadata": {},
   "outputs": [],
   "source": [
    "obss = Xo_train"
   ]
  },
  {
   "cell_type": "code",
   "execution_count": 12,
   "metadata": {},
   "outputs": [],
   "source": [
    "engine = learner.env.engine"
   ]
  },
  {
   "cell_type": "code",
   "execution_count": 13,
   "metadata": {},
   "outputs": [],
   "source": [
    "def obss_to_rgb(obss, engine=engine):\n",
    "    \"\"\"Convert an array with observations to RGB, supporting multiple items per pixel.\"\"\"\n",
    "    howmany = (1e-10 + np.sum(obss, axis=3)[:, :, :, np.newaxis])\n",
    "    print(np.max(howmany))\n",
    "    obss = obss / howmany\n",
    "    colors_to_rgb = np.array([engine.COLORS[o] for o in engine.OBJECTS]) / 255.\n",
    "    obss_rgb = obss @ colors_to_rgb\n",
    "    return obss_rgb"
   ]
  },
  {
   "cell_type": "code",
   "execution_count": 14,
   "metadata": {},
   "outputs": [],
   "source": [
    "def rgb_pad(obss_rgb):\n",
    "    b, x, y, c = obss_rgb.shape\n",
    "    x1 = max(x, 16)\n",
    "    y1 = max(y, 8)\n",
    "    out = np.zeros((b, x1, y1, c), dtype=obss_rgb.dtype)\n",
    "    out[:, :x, :y, :] = obss_rgb\n",
    "    return out"
   ]
  },
  {
   "cell_type": "code",
   "execution_count": 15,
   "metadata": {},
   "outputs": [
    {
     "name": "stdout",
     "output_type": "stream",
     "text": [
      "3.0\n"
     ]
    }
   ],
   "source": [
    "obss_rgb = obss_to_rgb(obss)\n",
    "obss_rgb = rgb_pad(obss_rgb)"
   ]
  },
  {
   "cell_type": "code",
   "execution_count": 16,
   "metadata": {},
   "outputs": [
    {
     "data": {
      "image/png": "[encoded data removed]",
      "text/plain": [
       "<Figure size 1080x720 with 24 Axes>"
      ]
     },
     "metadata": {
      "needs_background": "light"
     },
     "output_type": "display_data"
    }
   ],
   "source": [
    "gx = 3\n",
    "gy = 8\n",
    "\n",
    "plt.figure(figsize=(15, 10))\n",
    "\n",
    "idx_start = np.random.choice(len(obss_rgb) - gx * gy - 1)\n",
    "\n",
    "for i in range(gx * gy):\n",
    "    plt.subplot(gx, gy, i + 1)\n",
    "    plt.imshow(obss_rgb[idx_start + i])"
   ]
  },
  {
   "cell_type": "code",
   "execution_count": 96,
   "metadata": {},
   "outputs": [
    {
     "name": "stdout",
     "output_type": "stream",
     "text": [
      "3.0\n",
      "3.0\n"
     ]
    }
   ],
   "source": [
    "#  see https://stackoverflow.com/questions/44429199/how-to-load-a-list-of-numpy-arrays-to-pytorch-dataset-loader\n",
    "from torch.utils.data import TensorDataset, DataLoader\n",
    "import torch\n",
    "\n",
    "Xo_train_torch = torch.Tensor(np.rollaxis(rgb_pad(obss_to_rgb(Xo_train)), 3, 1))\n",
    "Xa_train_torch = torch.Tensor(Xa_train)\n",
    "yo_train_torch = torch.Tensor(np.rollaxis(rgb_pad(obss_to_rgb(yo_train)), 3, 1))\n",
    "\n",
    "my_dataset = TensorDataset(Xo_train_torch, Xa_train_torch, yo_train_torch) # create your datset\n",
    "# my_dataset = TensorDataset(Xo_train_torch, Xa_train_torch, Xo_train_torch) # PURE RECONSTRUCTION\n",
    "my_dataloader = DataLoader(my_dataset, batch_size=512, shuffle=True)#False) # create your dataloader"
   ]
  },
  {
   "cell_type": "code",
   "execution_count": 97,
   "metadata": {},
   "outputs": [
    {
     "data": {
      "text/plain": [
       "torch.Size([91600, 3, 16, 8])"
      ]
     },
     "execution_count": 97,
     "metadata": {},
     "output_type": "execute_result"
    }
   ],
   "source": [
    "Xo_train_torch.shape"
   ]
  },
  {
   "cell_type": "code",
   "execution_count": 145,
   "metadata": {},
   "outputs": [],
   "source": [
    "#!/usr/bin/env python\n",
    "# taken from https://github.com/bharatprakash/vae-dynamics-model/blob/master/env_model/obs_model.py\n",
    "from __future__ import print_function\n",
    "import argparse\n",
    "import torch\n",
    "import torch.utils.data\n",
    "from torch import nn, optim\n",
    "from torch.autograd import Variable\n",
    "import torch.nn as nn\n",
    "from torch.nn import functional as F\n",
    "from torchvision import datasets, transforms\n",
    "from torchvision.utils import save_image\n",
    "from PIL import Image\n",
    "import sys\n",
    "import os\n",
    "import numpy as np\n",
    "\n",
    "img_x = 16\n",
    "img_y = 8\n",
    "\n",
    "def to_img(x):\n",
    "    x = x.view(x.size(0), 3, img_x, img_y)\n",
    "    return x\n",
    "\n",
    "def to_onehot(size, value):\n",
    "    my_onehot = np.zeros((size))\n",
    "    my_onehot[value] = 1.0\n",
    "    return my_onehot\n",
    "\n",
    "\n",
    "class ObsNet(nn.Module):\n",
    "    def __init__(self, intermediate_size, hidden_size, hidden_size2):\n",
    "        super(ObsNet, self).__init__()\n",
    "        # Encoder\n",
    "        \n",
    "        self.hid_x = 8\n",
    "        self.hid_y = 4\n",
    "        \n",
    "        \n",
    "        layer_kwargs = [\n",
    "            dict(kernel_size=3, stride=1, padding=1),\n",
    "            dict(kernel_size=2, stride=2, padding=0),\n",
    "            dict(kernel_size=3, stride=1, padding=1),\n",
    "            dict(kernel_size=3, stride=1, padding=1),\n",
    "        ]\n",
    "        \n",
    "        self.channels = [3, 3, 32, 32, 32]\n",
    "        \n",
    "        assert len(layer_kwargs) == len(self.channels) - 1\n",
    "        \n",
    "        for i in range(1, len(layer_kwargs) + 1):\n",
    "            setattr(self, 'conv%d' % i, nn.Conv2d(self.channels[i - 1], self.channels[i], **layer_kwargs[i - 1]))\n",
    "        \n",
    "        # space before computing mean and logstd\n",
    "        self.fc1 = nn.Linear(self.hid_x * self.hid_y * self.channels[-1], intermediate_size)\n",
    "        \n",
    "        # Latent space\n",
    "        self.fc21 = nn.Linear(intermediate_size, hidden_size)\n",
    "        self.fc22 = nn.Linear(intermediate_size, hidden_size)\n",
    "\n",
    "        # Decoder\n",
    "        self.fc3 = nn.Linear(hidden_size2, intermediate_size)\n",
    "        self.fc4 = nn.Linear(intermediate_size, self.hid_x * self.hid_y * self.channels[-1])\n",
    "        \n",
    "        for i in range(1, len(layer_kwargs))[::-1]:\n",
    "            setattr(self, 'deconv%d' % i, nn.ConvTranspose2d(self.channels[i + 1], self.channels[i], **layer_kwargs[i]))\n",
    "        \n",
    "        self.conv_last = nn.Conv2d(self.channels[1], self.channels[0], **layer_kwargs[0])\n",
    "\n",
    "        self.relu = nn.ReLU()\n",
    "        self.sigmoid = nn.Sigmoid()\n",
    "\n",
    "    def encode(self, x):\n",
    "        out = self.relu(self.conv1(x))\n",
    "        out = self.relu(self.conv2(out))\n",
    "        out = self.relu(self.conv3(out))\n",
    "        out = self.relu(self.conv4(out))\n",
    "        assert out.shape[-2:] == (self.hid_x, self.hid_y), (out.shape, self.hid_x, self.hid_y)\n",
    "#         print(out.shape)\n",
    "        out = out.view(out.size(0), -1)\n",
    "#         print(out.shape)\n",
    "        h1 = self.relu(self.fc1(out))\n",
    "        return h1, self.fc21(h1), self.fc22(h1)\n",
    "\n",
    "    def reparameterize(self, mu, logvar):\n",
    "        if self.training:\n",
    "            std = logvar.mul(0.5).exp_()\n",
    "            eps = Variable(std.data.new(std.size()).normal_())\n",
    "            return eps.mul(std).add_(mu)\n",
    "        else:\n",
    "            return mu\n",
    "\n",
    "    def decode(self, z):\n",
    "        h3 = self.relu(self.fc3(z))\n",
    "        out = self.relu(self.fc4(h3))\n",
    "#         print(h3.shape)\n",
    "        out = out.view(out.size(0), self.channels[-1], self.hid_x, self.hid_y)\n",
    "        out = self.relu(self.deconv3(out))\n",
    "        out = self.relu(self.deconv2(out))\n",
    "        out = self.relu(self.deconv1(out))\n",
    "        out = self.sigmoid(self.conv_last(out))\n",
    "        return out\n",
    "\n",
    "    def forward(self, x, a):\n",
    "        h1, mu, logvar = self.encode(x)\n",
    "        z = self.reparameterize(mu, logvar)\n",
    "        za = torch.cat([z,a], 1)\n",
    "        return self.decode(za), mu, logvar\n",
    "\n",
    "    def loss_function(self, recon_x, x, mu, logvar):\n",
    "        assert recon_x.shape == x.shape\n",
    "        BCE = F.binary_cross_entropy(recon_x.view(-1, img_x * img_y * self.channels[0]),\n",
    "                                     x.view(-1, img_x * img_y * self.channels[0]), size_average=False) # does not work without size_average=False???\n",
    "        KLD = -0.5 * torch.sum(1 + logvar - mu.pow(2) - logvar.exp())\n",
    "        return BCE + KLD\n",
    "\n",
    "\n",
    "class ObsModel(object):\n",
    "    def __init__(self):\n",
    "        self.model = ObsNet(128,20,24).cuda()\n",
    "        self.optimizer = optim.Adam(self.model.parameters(), lr=1e-3)\n",
    "        self.train_loader = my_dataloader\n",
    "\n",
    "\n",
    "    def train(self, epochs):\n",
    "        self.model.train()\n",
    "        for epoch in range(1, epochs + 1):\n",
    "            train_loss = 0\n",
    "            train_mae = 0\n",
    "            for i, (states, actions, next_states) in enumerate(self.train_loader):\n",
    "\n",
    "                states = Variable(states).cuda()\n",
    "                next_states = states# Variable(next_states).cuda()\n",
    "                actions = Variable(actions).cuda()\n",
    "\n",
    "                self.optimizer.zero_grad()\n",
    "                recon_batch, mu, logvar = self.model(states, actions)\n",
    "                loss = self.model.loss_function(recon_batch, next_states, mu, logvar)\n",
    "                loss.backward()\n",
    "                train_loss += loss.item()\n",
    "                self.optimizer.step()\n",
    "                train_mae += torch.nn.L1Loss()(recon_batch, next_states)\n",
    "\n",
    "            if epoch % 1 == 0:\n",
    "                N = len(m.train_loader) * m.train_loader.batch_size\n",
    "                print('====> Epoch: {} Average loss: {} MAE: {}'.format(\n",
    "                      epoch, train_loss/N, train_mae / len(m.train_loader)))\n",
    "#             if epoch % 50 == 0:\n",
    "#                 torch.save(self.model.state_dict(), './saved_models/obs_model.pth')\n",
    "\n",
    "    def predict(self, state, action):\n",
    "        self.model.eval()\n",
    "        state = Variable(torch.Tensor(state.reshape((1,3,img_x, img_y)))).cuda()\n",
    "        action = to_onehot(4, action)\n",
    "        action = Variable(torch.Tensor(action.reshape((1, 4)))).cuda()\n",
    "        next_state, mu, logvar = self.model(state, action)\n",
    "        return next_state"
   ]
  },
  {
   "cell_type": "code",
   "execution_count": 146,
   "metadata": {},
   "outputs": [],
   "source": [
    "m = ObsModel()"
   ]
  },
  {
   "cell_type": "code",
   "execution_count": null,
   "metadata": {},
   "outputs": [
    {
     "name": "stdout",
     "output_type": "stream",
     "text": [
      "====> Epoch: 1 Average loss: 90.36486417887598 MAE: 0.110744908452034\n",
      "====> Epoch: 2 Average loss: 53.143820352394485 MAE: 0.03633793070912361\n",
      "====> Epoch: 3 Average loss: 50.49661627828076 MAE: 0.029045887291431427\n",
      "====> Epoch: 4 Average loss: 49.946201068728996 MAE: 0.02728034369647503\n",
      "====> Epoch: 5 Average loss: 49.684674907663016 MAE: 0.026324596256017685\n",
      "====> Epoch: 6 Average loss: 49.485834579894 MAE: 0.025632526725530624\n",
      "====> Epoch: 7 Average loss: 49.373414194117714 MAE: 0.025154974311590195\n",
      "====> Epoch: 8 Average loss: 49.30324215595949 MAE: 0.02484627068042755\n",
      "====> Epoch: 9 Average loss: 49.220292352431315 MAE: 0.024584097787737846\n",
      "====> Epoch: 10 Average loss: 49.172166387462084 MAE: 0.024378566071391106\n",
      "====> Epoch: 11 Average loss: 49.135994426365 MAE: 0.02421088144183159\n",
      "====> Epoch: 12 Average loss: 49.099842881357205 MAE: 0.024079307913780212\n",
      "====> Epoch: 13 Average loss: 49.09764719275789 MAE: 0.023998931050300598\n"
     ]
    }
   ],
   "source": [
    "m.train(epochs=1000)"
   ]
  },
  {
   "cell_type": "code",
   "execution_count": 124,
   "metadata": {},
   "outputs": [
    {
     "data": {
      "text/plain": [
       "ObsNet(\n",
       "  (conv1): Conv2d(3, 3, kernel_size=(3, 3), stride=(1, 1), padding=(1, 1))\n",
       "  (conv2): Conv2d(3, 32, kernel_size=(2, 2), stride=(2, 2))\n",
       "  (conv3): Conv2d(32, 32, kernel_size=(3, 3), stride=(1, 1), padding=(1, 1))\n",
       "  (conv4): Conv2d(32, 32, kernel_size=(3, 3), stride=(1, 1), padding=(1, 1))\n",
       "  (fc1): Linear(in_features=1024, out_features=128, bias=True)\n",
       "  (fc21): Linear(in_features=128, out_features=20, bias=True)\n",
       "  (fc22): Linear(in_features=128, out_features=20, bias=True)\n",
       "  (fc3): Linear(in_features=24, out_features=128, bias=True)\n",
       "  (fc4): Linear(in_features=128, out_features=1024, bias=True)\n",
       "  (deconv1): ConvTranspose2d(32, 32, kernel_size=(3, 3), stride=(1, 1), padding=(1, 1))\n",
       "  (deconv2): ConvTranspose2d(32, 32, kernel_size=(3, 3), stride=(1, 1), padding=(1, 1))\n",
       "  (deconv3): ConvTranspose2d(32, 32, kernel_size=(2, 2), stride=(2, 2))\n",
       "  (conv5): Conv2d(32, 3, kernel_size=(3, 3), stride=(1, 1), padding=(1, 1))\n",
       "  (relu): ReLU()\n",
       "  (sigmoid): Sigmoid()\n",
       ")"
      ]
     },
     "execution_count": 124,
     "metadata": {},
     "output_type": "execute_result"
    }
   ],
   "source": [
    "m.model.eval()"
   ]
  },
  {
   "cell_type": "code",
   "execution_count": 125,
   "metadata": {},
   "outputs": [],
   "source": [
    "_, (states, actions, next_states) = next(enumerate(m.train_loader))"
   ]
  },
  {
   "cell_type": "code",
   "execution_count": 126,
   "metadata": {},
   "outputs": [
    {
     "data": {
      "text/plain": [
       "torch.Size([512, 3, 16, 8])"
      ]
     },
     "execution_count": 126,
     "metadata": {},
     "output_type": "execute_result"
    }
   ],
   "source": [
    "states.shape"
   ]
  },
  {
   "cell_type": "code",
   "execution_count": 127,
   "metadata": {},
   "outputs": [],
   "source": [
    "states = Variable(states).cuda()\n",
    "actions = Variable(actions).cuda()\n",
    "next_states = Variable(next_states).cuda()"
   ]
  },
  {
   "cell_type": "code",
   "execution_count": 128,
   "metadata": {},
   "outputs": [],
   "source": [
    "out, _, _ = m.model(states, actions)"
   ]
  },
  {
   "cell_type": "code",
   "execution_count": 129,
   "metadata": {},
   "outputs": [
    {
     "data": {
      "text/plain": [
       "0.02486904"
      ]
     },
     "execution_count": 129,
     "metadata": {},
     "output_type": "execute_result"
    }
   ],
   "source": [
    "np.mean(np.abs((out - next_states).detach().cpu().numpy()))"
   ]
  },
  {
   "cell_type": "code",
   "execution_count": 130,
   "metadata": {},
   "outputs": [],
   "source": [
    "out_img = out.detach().cpu().numpy()"
   ]
  },
  {
   "cell_type": "code",
   "execution_count": 131,
   "metadata": {},
   "outputs": [
    {
     "data": {
      "image/png": "[encoded data removed]",
      "text/plain": [
       "<Figure size 1080x720 with 24 Axes>"
      ]
     },
     "metadata": {
      "needs_background": "light"
     },
     "output_type": "display_data"
    }
   ],
   "source": [
    "gx = 3\n",
    "gy = 8\n",
    "\n",
    "plt.figure(figsize=(15, 10))\n",
    "\n",
    "idx_start = np.random.choice(len(out_img) - gx * gy - 1)\n",
    "\n",
    "for i in range(gx * gy):\n",
    "    plt.subplot(gx, gy, i + 1)\n",
    "    plt.imshow(np.rollaxis(out_img[idx_start + i], 0, 3))"
   ]
  },
  {
   "cell_type": "code",
   "execution_count": null,
   "metadata": {},
   "outputs": [],
   "source": []
  },
  {
   "cell_type": "code",
   "execution_count": null,
   "metadata": {},
   "outputs": [],
   "source": []
  },
  {
   "cell_type": "code",
   "execution_count": 122,
   "metadata": {},
   "outputs": [
    {
     "data": {
      "text/plain": [
       "(array([2.7779999e+07, 0.0000000e+00, 1.4900000e+04, 1.0136370e+06,\n",
       "        0.0000000e+00, 2.6705300e+05, 0.0000000e+00, 4.8203970e+06,\n",
       "        7.4541300e+05, 5.3300100e+05]),\n",
       " array([0. , 0.1, 0.2, 0.3, 0.4, 0.5, 0.6, 0.7, 0.8, 0.9, 1. ],\n",
       "       dtype=float32),\n",
       " <BarContainer object of 10 artists>)"
      ]
     },
     "execution_count": 122,
     "metadata": {},
     "output_type": "execute_result"
    },
    {
     "data": {
      "image/png": "[encoded data removed]",
      "text/plain": [
       "<Figure size 432x288 with 1 Axes>"
      ]
     },
     "metadata": {
      "needs_background": "light"
     },
     "output_type": "display_data"
    }
   ],
   "source": [
    "plt.hist(Xo_train_torch.numpy().flatten())"
   ]
  },
  {
   "cell_type": "code",
   "execution_count": null,
   "metadata": {},
   "outputs": [],
   "source": []
  },
  {
   "cell_type": "code",
   "execution_count": null,
   "metadata": {},
   "outputs": [],
   "source": []
  }
 ],
 "metadata": {
  "kernelspec": {
   "display_name": "Python 3",
   "language": "python",
   "name": "python3"
  },
  "language_info": {
   "codemirror_mode": {
    "name": "ipython",
    "version": 3
   },
   "file_extension": ".py",
   "mimetype": "text/x-python",
   "name": "python",
   "nbconvert_exporter": "python",
   "pygments_lexer": "ipython3",
   "version": "3.7.9"
  }
 },
 "nbformat": 4,
 "nbformat_minor": 4
}
