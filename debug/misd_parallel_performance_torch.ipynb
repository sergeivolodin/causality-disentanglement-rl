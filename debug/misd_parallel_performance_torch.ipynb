{
 "cells": [
  {
   "cell_type": "code",
   "execution_count": 1,
   "id": "sufficient-vision",
   "metadata": {},
   "outputs": [],
   "source": [
    "import os\n",
    "os.environ['CUDA_VISIBLE_DEVICES'] = \"0\"\n",
    "import numpy as np\n",
    "from matplotlib import pyplot as plt\n",
    "import seaborn as sns\n",
    "import pandas as pd\n",
    "from tqdm.auto import tqdm\n",
    "import torch\n",
    "from torch import nn\n",
    "import gin\n",
    "from sparse_causal_model_learner_rl.trainable.combined import FCCombinedModel\n",
    "from sparse_causal_model_learner_rl.trainable.test_combined import get_model, AllModels\n",
    "gin.enter_interactive_mode()"
   ]
  },
  {
   "cell_type": "code",
   "execution_count": 2,
   "id": "surprising-reality",
   "metadata": {},
   "outputs": [],
   "source": [
    "use_cuda = True"
   ]
  },
  {
   "cell_type": "code",
   "execution_count": 3,
   "id": "medium-oracle",
   "metadata": {},
   "outputs": [],
   "source": [
    "n_models = 25"
   ]
  },
  {
   "cell_type": "code",
   "execution_count": 4,
   "id": "advanced-softball",
   "metadata": {},
   "outputs": [],
   "source": [
    "data = torch.randn(1000, 24)\n",
    "if use_cuda:\n",
    "    data = data.cuda()"
   ]
  },
  {
   "cell_type": "code",
   "execution_count": 5,
   "id": "black-bobby",
   "metadata": {},
   "outputs": [],
   "source": [
    "C = FCCombinedModel(hidden_sizes=[60, 60, 60], input_dim=24, n_models=25, output_dim=1)\n",
    "if use_cuda:\n",
    "    C = C.cuda()"
   ]
  },
  {
   "cell_type": "code",
   "execution_count": 6,
   "id": "limited-class",
   "metadata": {},
   "outputs": [],
   "source": [
    "M = AllModels(n_models)\n",
    "if use_cuda:\n",
    "    M = M.cuda()"
   ]
  },
  {
   "cell_type": "code",
   "execution_count": 7,
   "id": "rolled-pioneer",
   "metadata": {},
   "outputs": [
    {
     "name": "stdout",
     "output_type": "stream",
     "text": [
      "2.83 ms ± 94.8 µs per loop (mean ± std. dev. of 7 runs, 100 loops each)\n"
     ]
    }
   ],
   "source": [
    "%timeit C(data.view(-1, 24, 1).expand(-1, -1, n_models))"
   ]
  },
  {
   "cell_type": "code",
   "execution_count": 8,
   "id": "irish-vinyl",
   "metadata": {},
   "outputs": [
    {
     "name": "stdout",
     "output_type": "stream",
     "text": [
      "47.9 ms ± 4.72 ms per loop (mean ± std. dev. of 7 runs, 10 loops each)\n"
     ]
    }
   ],
   "source": [
    "%timeit M(data)"
   ]
  },
  {
   "cell_type": "code",
   "execution_count": 9,
   "id": "female-siemens",
   "metadata": {},
   "outputs": [
    {
     "name": "stdout",
     "output_type": "stream",
     "text": [
      "2.01 ms ± 137 µs per loop (mean ± std. dev. of 7 runs, 100 loops each)\n"
     ]
    }
   ],
   "source": [
    "%timeit M.model_list[0](data)"
   ]
  },
  {
   "cell_type": "code",
   "execution_count": 10,
   "id": "numerous-container",
   "metadata": {},
   "outputs": [
    {
     "data": {
      "text/plain": [
       "16.925795053003533"
      ]
     },
     "execution_count": 10,
     "metadata": {},
     "output_type": "execute_result"
    }
   ],
   "source": [
    "47.9 / 2.83"
   ]
  },
  {
   "cell_type": "code",
   "execution_count": null,
   "id": "altered-orbit",
   "metadata": {},
   "outputs": [],
   "source": []
  }
 ],
 "metadata": {
  "kernelspec": {
   "display_name": "Python 3",
   "language": "python",
   "name": "python3"
  },
  "language_info": {
   "codemirror_mode": {
    "name": "ipython",
    "version": 3
   },
   "file_extension": ".py",
   "mimetype": "text/x-python",
   "name": "python",
   "nbconvert_exporter": "python",
   "pygments_lexer": "ipython3",
   "version": "3.7.9"
  }
 },
 "nbformat": 4,
 "nbformat_minor": 5
}
