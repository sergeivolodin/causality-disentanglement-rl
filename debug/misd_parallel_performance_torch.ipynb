{
 "cells": [
  {
   "cell_type": "code",
   "execution_count": 1,
   "metadata": {},
   "outputs": [],
   "source": [
    "import os\n",
    "os.environ['CUDA_VISIBLE_DEVICES'] = \"0\"\n",
    "import numpy as np\n",
    "from matplotlib import pyplot as plt\n",
    "import seaborn as sns\n",
    "import pandas as pd\n",
    "from tqdm.auto import tqdm\n",
    "import torch\n",
    "from torch import nn\n",
    "import gin\n",
    "gin.enter_interactive_mode()"
   ]
  },
  {
   "cell_type": "code",
   "execution_count": 2,
   "metadata": {},
   "outputs": [],
   "source": [
    "use_cuda = True"
   ]
  },
  {
   "cell_type": "code",
   "execution_count": 172,
   "metadata": {},
   "outputs": [],
   "source": []
  },
  {
   "cell_type": "code",
   "execution_count": 173,
   "metadata": {},
   "outputs": [],
   "source": [
    "C = FCCombinedModel(hidden_sizes=[60, 60, 60], input_dim=24, n_models=25, output_dim=1)\n",
    "if use_cuda:\n",
    "    C = C.cuda()"
   ]
  },
  {
   "cell_type": "code",
   "execution_count": 174,
   "metadata": {},
   "outputs": [],
   "source": [
    "M = AllModels()"
   ]
  },
  {
   "cell_type": "code",
   "execution_count": 175,
   "metadata": {},
   "outputs": [
    {
     "name": "stdout",
     "output_type": "stream",
     "text": [
      "3.79 ms ± 556 µs per loop (mean ± std. dev. of 7 runs, 100 loops each)\n"
     ]
    }
   ],
   "source": [
    "%timeit C(data.view(-1, 24, 1).expand(-1, -1, n_models))"
   ]
  },
  {
   "cell_type": "code",
   "execution_count": 183,
   "metadata": {},
   "outputs": [],
   "source": [
    "outC = C(data.view(-1, 24, 1).expand(-1, -1, n_models))"
   ]
  },
  {
   "cell_type": "code",
   "execution_count": 184,
   "metadata": {},
   "outputs": [
    {
     "data": {
      "text/plain": [
       "torch.Size([1000, 25])"
      ]
     },
     "execution_count": 184,
     "metadata": {},
     "output_type": "execute_result"
    }
   ],
   "source": [
    "outC.shape"
   ]
  },
  {
   "cell_type": "code",
   "execution_count": 185,
   "metadata": {},
   "outputs": [],
   "source": [
    "outM = M(data)"
   ]
  },
  {
   "cell_type": "code",
   "execution_count": 186,
   "metadata": {},
   "outputs": [],
   "source": [
    "assert outC.shape == outM.shape"
   ]
  },
  {
   "cell_type": "code",
   "execution_count": 187,
   "metadata": {},
   "outputs": [
    {
     "data": {
      "text/plain": [
       "tensor(0., device='cuda:0', grad_fn=<MaxBackward1>)"
      ]
     },
     "execution_count": 187,
     "metadata": {},
     "output_type": "execute_result"
    }
   ],
   "source": [
    "(outC - outM).abs().max()"
   ]
  },
  {
   "cell_type": "code",
   "execution_count": 181,
   "metadata": {},
   "outputs": [
    {
     "name": "stdout",
     "output_type": "stream",
     "text": [
      "m00.0.weight 0 False 0\n",
      "m00.0.bias 0 True 0\n",
      "m00.2.weight 0 False 1\n",
      "m00.2.bias 0 True 1\n",
      "m00.4.weight 0 False 2\n",
      "m00.4.bias 0 True 2\n",
      "m00.6.weight 0 False 3\n",
      "m00.6.bias 0 True 3\n",
      "m01.0.weight 1 False 0\n",
      "m01.0.bias 1 True 0\n",
      "m01.2.weight 1 False 1\n",
      "m01.2.bias 1 True 1\n",
      "m01.4.weight 1 False 2\n",
      "m01.4.bias 1 True 2\n",
      "m01.6.weight 1 False 3\n",
      "m01.6.bias 1 True 3\n",
      "m02.0.weight 2 False 0\n",
      "m02.0.bias 2 True 0\n",
      "m02.2.weight 2 False 1\n",
      "m02.2.bias 2 True 1\n",
      "m02.4.weight 2 False 2\n",
      "m02.4.bias 2 True 2\n",
      "m02.6.weight 2 False 3\n",
      "m02.6.bias 2 True 3\n",
      "m03.0.weight 3 False 0\n",
      "m03.0.bias 3 True 0\n",
      "m03.2.weight 3 False 1\n",
      "m03.2.bias 3 True 1\n",
      "m03.4.weight 3 False 2\n",
      "m03.4.bias 3 True 2\n",
      "m03.6.weight 3 False 3\n",
      "m03.6.bias 3 True 3\n",
      "m04.0.weight 4 False 0\n",
      "m04.0.bias 4 True 0\n",
      "m04.2.weight 4 False 1\n",
      "m04.2.bias 4 True 1\n",
      "m04.4.weight 4 False 2\n",
      "m04.4.bias 4 True 2\n",
      "m04.6.weight 4 False 3\n",
      "m04.6.bias 4 True 3\n",
      "m05.0.weight 5 False 0\n",
      "m05.0.bias 5 True 0\n",
      "m05.2.weight 5 False 1\n",
      "m05.2.bias 5 True 1\n",
      "m05.4.weight 5 False 2\n",
      "m05.4.bias 5 True 2\n",
      "m05.6.weight 5 False 3\n",
      "m05.6.bias 5 True 3\n",
      "m06.0.weight 6 False 0\n",
      "m06.0.bias 6 True 0\n",
      "m06.2.weight 6 False 1\n",
      "m06.2.bias 6 True 1\n",
      "m06.4.weight 6 False 2\n",
      "m06.4.bias 6 True 2\n",
      "m06.6.weight 6 False 3\n",
      "m06.6.bias 6 True 3\n",
      "m07.0.weight 7 False 0\n",
      "m07.0.bias 7 True 0\n",
      "m07.2.weight 7 False 1\n",
      "m07.2.bias 7 True 1\n",
      "m07.4.weight 7 False 2\n",
      "m07.4.bias 7 True 2\n",
      "m07.6.weight 7 False 3\n",
      "m07.6.bias 7 True 3\n",
      "m08.0.weight 8 False 0\n",
      "m08.0.bias 8 True 0\n",
      "m08.2.weight 8 False 1\n",
      "m08.2.bias 8 True 1\n",
      "m08.4.weight 8 False 2\n",
      "m08.4.bias 8 True 2\n",
      "m08.6.weight 8 False 3\n",
      "m08.6.bias 8 True 3\n",
      "m09.0.weight 9 False 0\n",
      "m09.0.bias 9 True 0\n",
      "m09.2.weight 9 False 1\n",
      "m09.2.bias 9 True 1\n",
      "m09.4.weight 9 False 2\n",
      "m09.4.bias 9 True 2\n",
      "m09.6.weight 9 False 3\n",
      "m09.6.bias 9 True 3\n",
      "m10.0.weight 10 False 0\n",
      "m10.0.bias 10 True 0\n",
      "m10.2.weight 10 False 1\n",
      "m10.2.bias 10 True 1\n",
      "m10.4.weight 10 False 2\n",
      "m10.4.bias 10 True 2\n",
      "m10.6.weight 10 False 3\n",
      "m10.6.bias 10 True 3\n",
      "m11.0.weight 11 False 0\n",
      "m11.0.bias 11 True 0\n",
      "m11.2.weight 11 False 1\n",
      "m11.2.bias 11 True 1\n",
      "m11.4.weight 11 False 2\n",
      "m11.4.bias 11 True 2\n",
      "m11.6.weight 11 False 3\n",
      "m11.6.bias 11 True 3\n",
      "m12.0.weight 12 False 0\n",
      "m12.0.bias 12 True 0\n",
      "m12.2.weight 12 False 1\n",
      "m12.2.bias 12 True 1\n",
      "m12.4.weight 12 False 2\n",
      "m12.4.bias 12 True 2\n",
      "m12.6.weight 12 False 3\n",
      "m12.6.bias 12 True 3\n",
      "m13.0.weight 13 False 0\n",
      "m13.0.bias 13 True 0\n",
      "m13.2.weight 13 False 1\n",
      "m13.2.bias 13 True 1\n",
      "m13.4.weight 13 False 2\n",
      "m13.4.bias 13 True 2\n",
      "m13.6.weight 13 False 3\n",
      "m13.6.bias 13 True 3\n",
      "m14.0.weight 14 False 0\n",
      "m14.0.bias 14 True 0\n",
      "m14.2.weight 14 False 1\n",
      "m14.2.bias 14 True 1\n",
      "m14.4.weight 14 False 2\n",
      "m14.4.bias 14 True 2\n",
      "m14.6.weight 14 False 3\n",
      "m14.6.bias 14 True 3\n",
      "m15.0.weight 15 False 0\n",
      "m15.0.bias 15 True 0\n",
      "m15.2.weight 15 False 1\n",
      "m15.2.bias 15 True 1\n",
      "m15.4.weight 15 False 2\n",
      "m15.4.bias 15 True 2\n",
      "m15.6.weight 15 False 3\n",
      "m15.6.bias 15 True 3\n",
      "m16.0.weight 16 False 0\n",
      "m16.0.bias 16 True 0\n",
      "m16.2.weight 16 False 1\n",
      "m16.2.bias 16 True 1\n",
      "m16.4.weight 16 False 2\n",
      "m16.4.bias 16 True 2\n",
      "m16.6.weight 16 False 3\n",
      "m16.6.bias 16 True 3\n",
      "m17.0.weight 17 False 0\n",
      "m17.0.bias 17 True 0\n",
      "m17.2.weight 17 False 1\n",
      "m17.2.bias 17 True 1\n",
      "m17.4.weight 17 False 2\n",
      "m17.4.bias 17 True 2\n",
      "m17.6.weight 17 False 3\n",
      "m17.6.bias 17 True 3\n",
      "m18.0.weight 18 False 0\n",
      "m18.0.bias 18 True 0\n",
      "m18.2.weight 18 False 1\n",
      "m18.2.bias 18 True 1\n",
      "m18.4.weight 18 False 2\n",
      "m18.4.bias 18 True 2\n",
      "m18.6.weight 18 False 3\n",
      "m18.6.bias 18 True 3\n",
      "m19.0.weight 19 False 0\n",
      "m19.0.bias 19 True 0\n",
      "m19.2.weight 19 False 1\n",
      "m19.2.bias 19 True 1\n",
      "m19.4.weight 19 False 2\n",
      "m19.4.bias 19 True 2\n",
      "m19.6.weight 19 False 3\n",
      "m19.6.bias 19 True 3\n",
      "m20.0.weight 20 False 0\n",
      "m20.0.bias 20 True 0\n",
      "m20.2.weight 20 False 1\n",
      "m20.2.bias 20 True 1\n",
      "m20.4.weight 20 False 2\n",
      "m20.4.bias 20 True 2\n",
      "m20.6.weight 20 False 3\n",
      "m20.6.bias 20 True 3\n",
      "m21.0.weight 21 False 0\n",
      "m21.0.bias 21 True 0\n",
      "m21.2.weight 21 False 1\n",
      "m21.2.bias 21 True 1\n",
      "m21.4.weight 21 False 2\n",
      "m21.4.bias 21 True 2\n",
      "m21.6.weight 21 False 3\n",
      "m21.6.bias 21 True 3\n",
      "m22.0.weight 22 False 0\n",
      "m22.0.bias 22 True 0\n",
      "m22.2.weight 22 False 1\n",
      "m22.2.bias 22 True 1\n",
      "m22.4.weight 22 False 2\n",
      "m22.4.bias 22 True 2\n",
      "m22.6.weight 22 False 3\n",
      "m22.6.bias 22 True 3\n",
      "m23.0.weight 23 False 0\n",
      "m23.0.bias 23 True 0\n",
      "m23.2.weight 23 False 1\n",
      "m23.2.bias 23 True 1\n",
      "m23.4.weight 23 False 2\n",
      "m23.4.bias 23 True 2\n",
      "m23.6.weight 23 False 3\n",
      "m23.6.bias 23 True 3\n",
      "m24.0.weight 24 False 0\n",
      "m24.0.bias 24 True 0\n",
      "m24.2.weight 24 False 1\n",
      "m24.2.bias 24 True 1\n",
      "m24.4.weight 24 False 2\n",
      "m24.4.bias 24 True 2\n",
      "m24.6.weight 24 False 3\n",
      "m24.6.bias 24 True 3\n"
     ]
    }
   ],
   "source": [
    "for n, p in M.named_parameters():\n",
    "    model_n = int(n[1:3])\n",
    "    layer_id = int(n.split('.')[1]) // 2\n",
    "    is_bias = 'bias' in n\n",
    "    print(n, model_n, is_bias, layer_id)\n",
    "    target_param = C.fc[layer_id]\n",
    "    if is_bias:\n",
    "        target_param.bias.data[:, model_n] = p\n",
    "    else:\n",
    "        target_param.weight.data[:, :, model_n] = p"
   ]
  },
  {
   "cell_type": "code",
   "execution_count": 7,
   "metadata": {},
   "outputs": [
    {
     "name": "stdout",
     "output_type": "stream",
     "text": [
      "50.5 ms ± 10.7 ms per loop (mean ± std. dev. of 7 runs, 10 loops each)\n"
     ]
    }
   ],
   "source": [
    "%timeit M(data, do_parallel=True)"
   ]
  },
  {
   "cell_type": "code",
   "execution_count": null,
   "metadata": {},
   "outputs": [],
   "source": []
  },
  {
   "cell_type": "code",
   "execution_count": null,
   "metadata": {},
   "outputs": [],
   "source": []
  },
  {
   "cell_type": "code",
   "execution_count": 8,
   "metadata": {},
   "outputs": [
    {
     "name": "stdout",
     "output_type": "stream",
     "text": [
      "55.5 ms ± 8.4 ms per loop (mean ± std. dev. of 7 runs, 10 loops each)\n"
     ]
    }
   ],
   "source": [
    "%timeit M(data)"
   ]
  },
  {
   "cell_type": "code",
   "execution_count": 9,
   "metadata": {},
   "outputs": [
    {
     "name": "stdout",
     "output_type": "stream",
     "text": [
      "2.56 ms ± 195 µs per loop (mean ± std. dev. of 7 runs, 100 loops each)\n"
     ]
    }
   ],
   "source": [
    "%timeit M.model_list[0](data)"
   ]
  },
  {
   "cell_type": "code",
   "execution_count": 10,
   "metadata": {},
   "outputs": [
    {
     "data": {
      "text/plain": [
       "5"
      ]
     },
     "execution_count": 10,
     "metadata": {},
     "output_type": "execute_result"
    }
   ],
   "source": [
    "torch.get_num_threads()"
   ]
  },
  {
   "cell_type": "code",
   "execution_count": 11,
   "metadata": {},
   "outputs": [],
   "source": [
    "torch.set_num_threads(10)"
   ]
  },
  {
   "cell_type": "code",
   "execution_count": null,
   "metadata": {},
   "outputs": [],
   "source": []
  }
 ],
 "metadata": {
  "kernelspec": {
   "display_name": "Python 3",
   "language": "python",
   "name": "python3"
  },
  "language_info": {
   "codemirror_mode": {
    "name": "ipython",
    "version": 3
   },
   "file_extension": ".py",
   "mimetype": "text/x-python",
   "name": "python",
   "nbconvert_exporter": "python",
   "pygments_lexer": "ipython3",
   "version": "3.7.0"
  }
 },
 "nbformat": 4,
 "nbformat_minor": 5
}
