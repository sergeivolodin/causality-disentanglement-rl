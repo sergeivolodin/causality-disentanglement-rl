{
 "cells": [
  {
   "cell_type": "code",
   "execution_count": 1,
   "metadata": {},
   "outputs": [],
   "source": [
    "import os\n",
    "#os.environ['CUDA_VISIBLE_DEVICES'] = \"-1\"\n",
    "\n",
    "import pickle\n",
    "from keychest.keychestenv_gofa import features_for_obs\n",
    "from copy import deepcopy\n",
    "import pandas as pd\n",
    "import torch\n",
    "import numpy as np\n",
    "from matplotlib import pyplot as plt\n",
    "import seaborn as sns\n",
    "import gin\n",
    "from tqdm import tqdm\n",
    "from functools import partial\n",
    "from keychest.keychestenv import keychest_obs2d_to_image, keychest_obs3d_to_obs2d"
   ]
  },
  {
   "cell_type": "code",
   "execution_count": 2,
   "metadata": {},
   "outputs": [],
   "source": [
    "# loading episodes\n",
    "fn = 'episodes-1000-config-10x10.gin-105a835e-fc48-11ea-a584-7b4c3c93968e.pkl'\n",
    "fn = 'keychest/' + fn\n",
    "data = pickle.load(open(fn, 'rb'))"
   ]
  },
  {
   "cell_type": "code",
   "execution_count": 3,
   "metadata": {},
   "outputs": [
    {
     "data": {
      "text/plain": [
       "(21, 12, 10)"
      ]
     },
     "execution_count": 3,
     "metadata": {},
     "output_type": "execute_result"
    }
   ],
   "source": [
    "data[0][0]['observation'].shape"
   ]
  },
  {
   "cell_type": "code",
   "execution_count": 4,
   "metadata": {},
   "outputs": [],
   "source": [
    "config_fn = fn.split('-')[3]\n",
    "gin.enter_interactive_mode()\n",
    "gin.parse_config_file(f\"keychest/config/{config_fn}\")"
   ]
  },
  {
   "cell_type": "code",
   "execution_count": 5,
   "metadata": {},
   "outputs": [],
   "source": [
    "def one_hot_encode(value, entries):\n",
    "    \"\"\"Encode a value as 1-hot.\"\"\"\n",
    "    assert 0 <= value < entries\n",
    "    result = np.zeros(entries, dtype=np.float32)\n",
    "    result[value] = 1.0\n",
    "    return result"
   ]
  },
  {
   "cell_type": "code",
   "execution_count": 6,
   "metadata": {},
   "outputs": [],
   "source": [
    "ACTION_DIM = 4\n",
    "one_hot_encode_action = partial(one_hot_encode, entries=ACTION_DIM)"
   ]
  },
  {
   "cell_type": "code",
   "execution_count": 7,
   "metadata": {},
   "outputs": [],
   "source": [
    "# observation, action 1-hot\n",
    "dataset_x = []\n",
    "\n",
    "# reward, next observation, done\n",
    "dataset_y = []\n",
    "\n",
    "for episode in data:        \n",
    "    prev_observation = episode[0]['observation']\n",
    "    \n",
    "    for i, step in enumerate(episode[1:]):\n",
    "        dataset_y.append({})\n",
    "        dataset_x.append({})\n",
    "        \n",
    "        dataset_x[-1]['action'] = one_hot_encode_action(step['action'])\n",
    "        dataset_x[-1]['observation'] = prev_observation.transpose(2, 0, 1)\n",
    "        dataset_y[-1]['observation'] = step['observation'].transpose(2, 0, 1)\n",
    "        dataset_y[-1]['reward'] = step['reward']\n",
    "        dataset_y[-1]['done'] = step['done']\n",
    "        \n",
    "        prev_observation = step['observation']\n",
    "        \n",
    "        \n",
    "assert len(dataset_x) == len(dataset_y)"
   ]
  },
  {
   "cell_type": "code",
   "execution_count": 8,
   "metadata": {},
   "outputs": [],
   "source": [
    "assert np.max(dataset_x[0]['observation']) == 1\n",
    "assert dataset_x[0]['observation'].shape[0] == 10"
   ]
  },
  {
   "cell_type": "code",
   "execution_count": 9,
   "metadata": {},
   "outputs": [
    {
     "data": {
      "text/plain": [
       "(10, 21, 12)"
      ]
     },
     "execution_count": 9,
     "metadata": {},
     "output_type": "execute_result"
    }
   ],
   "source": [
    "dataset_x[0]['observation'].shape"
   ]
  },
  {
   "cell_type": "code",
   "execution_count": 10,
   "metadata": {},
   "outputs": [],
   "source": [
    "device = torch.device(\"cuda\")"
   ]
  },
  {
   "cell_type": "code",
   "execution_count": 11,
   "metadata": {},
   "outputs": [
    {
     "data": {
      "text/plain": [
       "device(type='cuda')"
      ]
     },
     "execution_count": 11,
     "metadata": {},
     "output_type": "execute_result"
    }
   ],
   "source": [
    "device"
   ]
  },
  {
   "cell_type": "code",
   "execution_count": 12,
   "metadata": {},
   "outputs": [
    {
     "name": "stdout",
     "output_type": "stream",
     "text": [
      "ConvAutoencoder(\n",
      "  (conv1): Conv2d(10, 16, kernel_size=(3, 3), stride=(1, 1), padding=(1, 1))\n",
      "  (conv2): Conv2d(16, 4, kernel_size=(3, 3), stride=(1, 1), padding=(1, 1))\n",
      "  (pool): MaxPool2d(kernel_size=2, stride=2, padding=0, dilation=1, ceil_mode=False)\n",
      "  (t_conv1): ConvTranspose2d(65, 16, kernel_size=(10, 6), stride=(2, 2))\n",
      "  (t_conv2): ConvTranspose2d(16, 10, kernel_size=(3, 2), stride=(2, 2))\n",
      "  (act_fc1): Linear(in_features=4, out_features=15, bias=True)\n",
      "  (act_fc2): Linear(in_features=15, out_features=5, bias=True)\n",
      "  (rew_fc1): Linear(in_features=65, out_features=15, bias=True)\n",
      "  (rew_fc2): Linear(in_features=15, out_features=1, bias=True)\n",
      "  (done_fc1): Linear(in_features=65, out_features=15, bias=True)\n",
      "  (done_fc2): Linear(in_features=15, out_features=1, bias=True)\n",
      ")\n"
     ]
    }
   ],
   "source": [
    "import torch.nn as nn\n",
    "import torch.nn.functional as F\n",
    "\n",
    "# define the NN architecture\n",
    "class ConvAutoencoder(nn.Module):\n",
    "    def __init__(self):\n",
    "        super(ConvAutoencoder, self).__init__()\n",
    "        ## encoder layers ##\n",
    "        # conv layer (depth from 3 --> 16), 3x3 kernels\n",
    "        self.conv1 = nn.Conv2d(10, 16, 3, padding=1)  \n",
    "        # conv layer (depth from 16 --> 4), 3x3 kernels\n",
    "        self.conv2 = nn.Conv2d(16, 4, 3, padding=1)\n",
    "        # pooling layer to reduce x-y dims by two; kernel and stride of 2\n",
    "        self.pool = nn.MaxPool2d(2, 2)\n",
    "        \n",
    "        ## decoder layers ##\n",
    "        ## a kernel of 2 and a stride of 2 will increase the spatial dims by 2\n",
    "        self.t_conv1 = nn.ConvTranspose2d(65, 16, (10, 6), stride=2)\n",
    "        self.t_conv2 = nn.ConvTranspose2d(16, 10, (3, 2), stride=2)\n",
    "        \n",
    "        # action encoder\n",
    "        self.act_fc1 = torch.nn.Linear(4, 15)\n",
    "        self.act_fc2 = torch.nn.Linear(15, 5)\n",
    "        \n",
    "        self.rew_fc1 = torch.nn.Linear(65, 15)\n",
    "        self.rew_fc2 = torch.nn.Linear(15, 1)\n",
    "        \n",
    "        self.done_fc1 = torch.nn.Linear(65, 15)\n",
    "        self.done_fc2 = torch.nn.Linear(15, 1)\n",
    "        \n",
    "        \n",
    "\n",
    "    def encoder(self, x):\n",
    "        code_obs = self.conv_encoder(x['observation'])\n",
    "        code_action = self.action_encoder(x['action'])\n",
    "        return torch.cat((code_obs, code_action), 1)\n",
    "    \n",
    "    def conv_encoder_noflat(self, x):\n",
    "        x = F.relu(self.conv1(x))\n",
    "        x = self.pool(x)\n",
    "        # add second hidden layer\n",
    "        x = F.relu(self.conv2(x))\n",
    "        x = self.pool(x)  # compressed representation\n",
    "        return x\n",
    "    \n",
    "    def conv_encoder(self, x):\n",
    "        x = self.conv_encoder_noflat(x)\n",
    "        x = torch.flatten(x, start_dim=1)\n",
    "        return x\n",
    "    \n",
    "    def action_encoder(self, x):\n",
    "        x = F.relu(self.act_fc1(x))\n",
    "        x = F.relu(self.act_fc2(x))\n",
    "        return x\n",
    "        \n",
    "    def decode_obs(self, x):\n",
    "        ## decode ##\n",
    "        # add transpose conv layers, with relu activation function\n",
    "        x = x.view(x.size(0), x.size(1), 1, 1)\n",
    "        x = F.relu(self.t_conv1(x))\n",
    "        # output layer (with sigmoid for scaling from 0 to 1)\n",
    "        x = F.sigmoid(self.t_conv2(x))\n",
    "        return x\n",
    "        \n",
    "    def decode_reward(self, x):\n",
    "        x = torch.flatten(x, start_dim=1)\n",
    "        x = F.relu(self.rew_fc1(x))\n",
    "        x = self.rew_fc2(x)\n",
    "        return x.view(x.size(0))\n",
    "    \n",
    "    def decode_done(self, x):\n",
    "        x = torch.flatten(x, start_dim=1)\n",
    "        x = F.relu(self.done_fc1(x))\n",
    "        x = self.done_fc2(x)\n",
    "        return x.view(x.size(0))\n",
    "        \n",
    "    def forward(self, x):\n",
    "        code = self.encoder(x)\n",
    "        \n",
    "        new_obs = self.decode_obs(code)\n",
    "        reward = self.decode_reward(code)\n",
    "        done = self.decode_done(code)\n",
    "        result = {'observation': new_obs,\n",
    "                  'reward': reward,\n",
    "                  'done': done}\n",
    "        return result\n",
    "\n",
    "# initialize the NN\n",
    "model = ConvAutoencoder()\n",
    "print(model)\n"
   ]
  },
  {
   "cell_type": "code",
   "execution_count": 13,
   "metadata": {},
   "outputs": [],
   "source": [
    "data = {x: torch.from_numpy(np.array([y])) for x, y in dataset_x[0].items()}"
   ]
  },
  {
   "cell_type": "code",
   "execution_count": 14,
   "metadata": {},
   "outputs": [
    {
     "name": "stderr",
     "output_type": "stream",
     "text": [
      "/home/sergei/miniconda3/envs/ml/lib/python3.7/site-packages/torch/nn/functional.py:1625: UserWarning: nn.functional.sigmoid is deprecated. Use torch.sigmoid instead.\n",
      "  warnings.warn(\"nn.functional.sigmoid is deprecated. Use torch.sigmoid instead.\")\n"
     ]
    }
   ],
   "source": [
    "decoded = model(data)"
   ]
  },
  {
   "cell_type": "code",
   "execution_count": 15,
   "metadata": {},
   "outputs": [],
   "source": [
    "model = model.to(device)"
   ]
  },
  {
   "cell_type": "code",
   "execution_count": 16,
   "metadata": {},
   "outputs": [],
   "source": [
    "assert decoded['reward'].shape == (1,)\n",
    "assert decoded['done'].shape == (1,)"
   ]
  },
  {
   "cell_type": "code",
   "execution_count": 17,
   "metadata": {},
   "outputs": [],
   "source": [
    "assert decoded['observation'].shape == data['observation'].shape"
   ]
  },
  {
   "cell_type": "code",
   "execution_count": 18,
   "metadata": {},
   "outputs": [],
   "source": [
    "def dct_fcn(dct, fcn):\n",
    "    return {x: fcn(y) for x, y in dct.items()}\n",
    "\n",
    "def dct_np(dct):\n",
    "    return dct_fcn(dct, partial(np.array, dtype=np.float32))\n",
    "\n",
    "def dct_torch(dct):\n",
    "    return dct_fcn(dct, lambda x: torch.from_numpy(x))\n",
    "\n",
    "def lstdct2dctlst(lst):\n",
    "    result = {}\n",
    "    for item in lst:\n",
    "        for key, value in item.items():\n",
    "            if key not in result:\n",
    "                result[key] = []\n",
    "            result[key].append(value)\n",
    "    return dct_np(result)"
   ]
  },
  {
   "cell_type": "code",
   "execution_count": 19,
   "metadata": {},
   "outputs": [],
   "source": [
    "dataset_x_dct = dct_torch(lstdct2dctlst(dataset_x))\n",
    "dataset_y_dct = dct_torch(lstdct2dctlst(dataset_y))"
   ]
  },
  {
   "cell_type": "code",
   "execution_count": 20,
   "metadata": {},
   "outputs": [],
   "source": [
    "p = np.random.permutation(len(dataset_x_dct['observation']))\n",
    "#return a[p], b[p]"
   ]
  },
  {
   "cell_type": "code",
   "execution_count": 21,
   "metadata": {},
   "outputs": [],
   "source": [
    "dataset_x_dct_train = dct_fcn(dataset_x_dct, lambda x: x[p])\n",
    "dataset_y_dct_train = dct_fcn(dataset_y_dct, lambda x: x[p])"
   ]
  },
  {
   "cell_type": "code",
   "execution_count": 22,
   "metadata": {},
   "outputs": [
    {
     "data": {
      "text/plain": [
       "torch.Size([22350, 10, 21, 12])"
      ]
     },
     "execution_count": 22,
     "metadata": {},
     "output_type": "execute_result"
    }
   ],
   "source": [
    "dataset_x_dct['observation'].shape"
   ]
  },
  {
   "cell_type": "code",
   "execution_count": 23,
   "metadata": {},
   "outputs": [],
   "source": [
    "#model_pred = model(dataset_x_dct)"
   ]
  },
  {
   "cell_type": "code",
   "execution_count": 24,
   "metadata": {},
   "outputs": [],
   "source": [
    "optimizer = torch.optim.Adam(model.parameters(), lr=1e-3)"
   ]
  },
  {
   "cell_type": "code",
   "execution_count": 25,
   "metadata": {},
   "outputs": [],
   "source": [
    "loss_mse = nn.MSELoss()"
   ]
  },
  {
   "cell_type": "code",
   "execution_count": 60,
   "metadata": {},
   "outputs": [],
   "source": [
    "def loss_rl_pred(data_pred, data_y):\n",
    "    result = 0\n",
    "    # keys = data_pred.keys()\n",
    "    keys = ['observation']\n",
    "    for key in keys:\n",
    "        result += loss_mse(data_pred[key], data_y[key])\n",
    "    return result"
   ]
  },
  {
   "cell_type": "code",
   "execution_count": 61,
   "metadata": {},
   "outputs": [],
   "source": [
    "#del model\n",
    "#torch.cuda.empty_cache()"
   ]
  },
  {
   "cell_type": "code",
   "execution_count": 62,
   "metadata": {},
   "outputs": [
    {
     "name": "stderr",
     "output_type": "stream",
     "text": [
      "6it [00:00, 12.05it/s, loss=0.0075170957]                       \n",
      "6it [00:00, 13.56it/s, loss=0.007513974]                        \n",
      "6it [00:00, 13.64it/s, loss=0.0075109378]                       \n",
      "6it [00:00, 13.82it/s, loss=0.007507676]                        \n",
      "6it [00:00, 13.94it/s, loss=0.0075046485]                       \n",
      "6it [00:00, 13.49it/s, loss=0.0075016]                          \n",
      "6it [00:00, 13.50it/s, loss=0.0074985996]                       \n",
      "6it [00:00, 13.35it/s, loss=0.007495701]                        \n",
      "6it [00:00, 13.26it/s, loss=0.007492953]                        \n",
      "6it [00:00, 13.65it/s, loss=0.007490234]                        \n",
      "6it [00:00, 13.17it/s, loss=0.0074876356]                       \n",
      "6it [00:00, 13.78it/s, loss=0.0074851406]                       \n",
      "6it [00:00, 13.70it/s, loss=0.0074827317]                       \n",
      "6it [00:00, 13.78it/s, loss=0.0074804123]                       \n",
      "6it [00:00, 13.86it/s, loss=0.007478166]                        \n",
      "6it [00:00, 13.60it/s, loss=0.0074759806]                       \n",
      "6it [00:00, 13.91it/s, loss=0.007473852]                        \n",
      "6it [00:00, 13.77it/s, loss=0.0074717733]                       \n",
      "6it [00:00, 13.34it/s, loss=0.0074697374]                       \n",
      "6it [00:00, 13.52it/s, loss=0.007467736]                        \n",
      "6it [00:00, 13.76it/s, loss=0.0074657607]                       \n",
      "6it [00:00, 12.64it/s, loss=0.0074638072]                       \n",
      "6it [00:00, 13.51it/s, loss=0.0074618766]                       \n",
      "6it [00:00, 13.19it/s, loss=0.007459989]                        \n",
      "6it [00:00, 13.42it/s, loss=0.007458172]                        \n",
      "6it [00:00, 13.50it/s, loss=0.0074564363]                       \n",
      "6it [00:00, 12.72it/s, loss=0.0074547725]                       \n",
      "6it [00:00, 13.81it/s, loss=0.0074531655]                       \n",
      "6it [00:00, 13.44it/s, loss=0.0074516144]                       \n",
      "6it [00:00, 13.26it/s, loss=0.0074501154]                       \n",
      "6it [00:00, 13.35it/s, loss=0.0074486667]                       \n",
      "6it [00:00, 13.41it/s, loss=0.007447255]                        \n",
      "6it [00:00, 13.40it/s, loss=0.007445871]                        \n",
      "6it [00:00, 13.50it/s, loss=0.007444511]                        \n",
      "6it [00:00, 13.84it/s, loss=0.00744317]                         \n",
      "6it [00:00, 13.45it/s, loss=0.007441841]                        \n",
      "6it [00:00, 13.62it/s, loss=0.0074405284]                       \n",
      "6it [00:00, 13.86it/s, loss=0.0074392324]                       \n",
      "6it [00:00, 13.68it/s, loss=0.0074379584]                       \n",
      "6it [00:00, 13.11it/s, loss=0.0074367034]                       \n",
      "6it [00:00, 13.29it/s, loss=0.007435466]                        \n",
      "6it [00:00, 12.73it/s, loss=0.0074342475]                       \n",
      "6it [00:00, 13.37it/s, loss=0.0074330354]                       \n",
      "6it [00:00, 13.04it/s, loss=0.007431824]                       \n",
      "6it [00:00, 12.76it/s, loss=0.0074306256]                       \n",
      "6it [00:00, 13.80it/s, loss=0.0074294414]                       \n",
      "6it [00:00, 13.55it/s, loss=0.007428262]                        \n",
      "6it [00:00, 13.81it/s, loss=0.0074270987]                       \n",
      "6it [00:00, 13.35it/s, loss=0.0074259513]                       \n",
      "6it [00:00, 13.54it/s, loss=0.007424824]                        \n"
     ]
    }
   ],
   "source": [
    "epochs = 50\n",
    "batch_size = 4096\n",
    "\n",
    "\n",
    "for epoch in range(epochs):\n",
    "    with tqdm(total=len(dataset_x_dct_train['observation']) // batch_size) as pbar:\n",
    "        for i, batch in enumerate(range(0, len(dataset_x_dct_train['observation']), batch_size)):\n",
    "            x = dct_fcn(dataset_x_dct_train, lambda x: x[batch : batch + batch_size].to(device))\n",
    "            y = dct_fcn(dataset_y_dct_train, lambda x: x[batch : batch + batch_size].to(device))\n",
    "\n",
    "            if not x['observation'].shape[0]: continue\n",
    "\n",
    "            out = model(x)\n",
    "            loss = loss_rl_pred(out, y)\n",
    "            optimizer.zero_grad()\n",
    "            loss.backward()\n",
    "            optimizer.step()\n",
    "\n",
    "\n",
    "            #to_print = \"Epoch[{}/{}] Loss: {:.3f}\".format(epoch + 1, epochs, loss.data)\n",
    "            #print(to_print)\n",
    "            pbar.set_postfix(loss=loss.data.cpu().numpy())\n",
    "            pbar.update(1)"
   ]
  },
  {
   "cell_type": "code",
   "execution_count": 63,
   "metadata": {},
   "outputs": [],
   "source": [
    "batch = 0\n",
    "x = dct_fcn(dataset_x_dct_train, lambda x: x[batch * batch_size : (batch + 1) * batch_size].to(device))"
   ]
  },
  {
   "cell_type": "code",
   "execution_count": 64,
   "metadata": {},
   "outputs": [],
   "source": [
    "pred = model(x)['observation'][0].detach().cpu().numpy().transpose(1, 2, 0)"
   ]
  },
  {
   "cell_type": "code",
   "execution_count": 65,
   "metadata": {},
   "outputs": [
    {
     "data": {
      "text/plain": [
       "<matplotlib.image.AxesImage at 0x7f154d8aa690>"
      ]
     },
     "execution_count": 65,
     "metadata": {},
     "output_type": "execute_result"
    },
    {
     "data": {
      "image/png": "[encoded data removed]",
      "text/plain": [
       "<Figure size 432x288 with 1 Axes>"
      ]
     },
     "metadata": {
      "needs_background": "light"
     },
     "output_type": "display_data"
    }
   ],
   "source": [
    "plt.imshow(keychest_obs2d_to_image(keychest_obs3d_to_obs2d(1 * (pred > 0.5))))"
   ]
  },
  {
   "cell_type": "code",
   "execution_count": 66,
   "metadata": {},
   "outputs": [
    {
     "data": {
      "text/plain": [
       "<matplotlib.image.AxesImage at 0x7f154d714190>"
      ]
     },
     "execution_count": 66,
     "metadata": {},
     "output_type": "execute_result"
    },
    {
     "data": {
      "image/png": "[encoded data removed]",
      "text/plain": [
       "<Figure size 432x288 with 1 Axes>"
      ]
     },
     "metadata": {
      "needs_background": "light"
     },
     "output_type": "display_data"
    }
   ],
   "source": [
    "plt.imshow(keychest_obs2d_to_image(keychest_obs3d_to_obs2d(dataset_x_dct_train['observation'][0].numpy().transpose(1, 2, 0))))"
   ]
  }
 ],
 "metadata": {
  "kernelspec": {
   "display_name": "Python 3",
   "language": "python",
   "name": "python3"
  },
  "language_info": {
   "codemirror_mode": {
    "name": "ipython",
    "version": 3
   },
   "file_extension": ".py",
   "mimetype": "text/x-python",
   "name": "python",
   "nbconvert_exporter": "python",
   "pygments_lexer": "ipython3",
   "version": "3.7.0"
  }
 },
 "nbformat": 4,
 "nbformat_minor": 4
}
