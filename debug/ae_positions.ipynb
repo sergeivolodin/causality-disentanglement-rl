{
 "cells": [
  {
   "cell_type": "code",
   "execution_count": 1,
   "metadata": {},
   "outputs": [],
   "source": [
    "import torch\n",
    "import os\n",
    "os.environ['CUDA_VISIBLE_DEVICES'] = \"0\"\n",
    "from tqdm.auto import tqdm\n",
    "import numpy as np\n",
    "from matplotlib import pyplot as plt\n",
    "from torch import nn\n",
    "import gin\n",
    "gin.enter_interactive_mode()"
   ]
  },
  {
   "cell_type": "code",
   "execution_count": 2,
   "metadata": {},
   "outputs": [],
   "source": [
    "@gin.configurable\n",
    "def get_xy(h=10, w=10, s=1000):\n",
    "    res = np.zeros((s, h, w), dtype=np.float32)\n",
    "    idxes_x = np.random.choice(h, s, replace=True)\n",
    "    idxes_y = np.random.choice(w, s, replace=True)\n",
    "    res[np.arange(s), idxes_x, idxes_y] = 1.0\n",
    "    \n",
    "    return res, (idxes_x, idxes_y)"
   ]
  },
  {
   "cell_type": "code",
   "execution_count": 3,
   "metadata": {},
   "outputs": [],
   "source": [
    "h, w, s = 10, 10, 1000\n",
    "gin.bind_parameter('get_xy.h', h)\n",
    "gin.bind_parameter('get_xy.w', w)\n",
    "gin.bind_parameter('get_xy.s', s)"
   ]
  },
  {
   "cell_type": "code",
   "execution_count": null,
   "metadata": {},
   "outputs": [],
   "source": []
  },
  {
   "cell_type": "code",
   "execution_count": 4,
   "metadata": {},
   "outputs": [
    {
     "data": {
      "text/plain": [
       "<matplotlib.image.AxesImage at 0x7f10df40a890>"
      ]
     },
     "execution_count": 4,
     "metadata": {},
     "output_type": "execute_result"
    },
    {
     "data": {
      "image/png": "[encoded data removed]",
      "text/plain": [
       "<Figure size 432x288 with 1 Axes>"
      ]
     },
     "metadata": {
      "needs_background": "light"
     },
     "output_type": "display_data"
    }
   ],
   "source": [
    "X, (xs, ys) = get_xy()\n",
    "\n",
    "idx = np.random.choice(s)\n",
    "\n",
    "plt.title(f\"{xs[idx]} {ys[idx]}\")\n",
    "plt.imshow(X[idx])"
   ]
  },
  {
   "cell_type": "code",
   "execution_count": 5,
   "metadata": {},
   "outputs": [],
   "source": [
    "plt.rcParams.update({\n",
    "    #'font.size': 8,\\n\",\n",
    "    'text.usetex': False,\n",
    "    #'text.latex.preamble': r'\\\\usepackage{amsfonts}',\n",
    "    'font.family' : 'normal',\n",
    "        'font.weight' : 'normal',\n",
    "        'font.size'   : 20\n",
    "})\n"
   ]
  },
  {
   "cell_type": "code",
   "execution_count": 11,
   "metadata": {},
   "outputs": [
    {
     "data": {
      "image/png": "[encoded data removed]",
      "text/plain": [
       "<Figure size 576x576 with 9 Axes>"
      ]
     },
     "metadata": {
      "needs_background": "light"
     },
     "output_type": "display_data"
    }
   ],
   "source": [
    "plt.figure(figsize=(8, 8))\n",
    "for i in range(1, 4):\n",
    "    for j in range(1, 4):\n",
    "        plt.subplot(3, 3, 3 * (i - 1) + j)\n",
    "        idx = 3 * (i - 1) + j - 1\n",
    "        plt.title(f\"x={xs[idx]}, y={ys[idx]}\")\n",
    "        plt.axis('off')\n",
    "        plt.imshow(X[idx])"
   ]
  },
  {
   "cell_type": "code",
   "execution_count": 444,
   "metadata": {},
   "outputs": [],
   "source": [
    "class Decoder(nn.Module):\n",
    "    def __init__(self):\n",
    "        super(Decoder, self).__init__()\n",
    "        self.fc1 = nn.Linear(in_features=h * w, out_features=4)\n",
    "        self.fc2 = nn.Linear(in_features=10, out_features=4)\n",
    "        self.act = nn.LeakyReLU()\n",
    "        self.bn1 = nn.BatchNorm1d(h * w)\n",
    "        self.bn2 = nn.BatchNorm1d(10)\n",
    "    def forward(self, x):\n",
    "        x = x.flatten(start_dim=1)\n",
    "#         x = self.bn1(x)\n",
    "        x = self.fc1(x)\n",
    "#         x = self.bn2(self.act(self.fc1(x)))\n",
    "#         x = self.fc2(x)\n",
    "        return x\n",
    "class Reconstructor(nn.Module):\n",
    "    def __init__(self):\n",
    "        super(Reconstructor, self).__init__()\n",
    "        self.fc1 = nn.Linear(in_features=4, out_features=100 * h * w)\n",
    "        self.fc2 = nn.Linear(in_features=100 * h * w, out_features=h * w)\n",
    "        self.act = nn.Tanh()\n",
    "#         self.bn1 = nn.BatchNorm1d(4)\n",
    "#         self.bn2 = nn.BatchNorm1d(100 * h * w)\n",
    "#         self.bnf = nn.BatchNorm1d(h * w)\n",
    "    def forward(self, x):\n",
    "#         x = self.bn1(x)\n",
    "        x = self.act(self.fc1(x))\n",
    "        x = self.fc2(x)\n",
    "#         x = self.bnf(x)\n",
    "        x = x.view(x.shape[0], h, w)\n",
    "        return x"
   ]
  },
  {
   "cell_type": "code",
   "execution_count": 445,
   "metadata": {},
   "outputs": [],
   "source": [
    "rec = Reconstructor().cuda()\n",
    "dec = Decoder().cuda()"
   ]
  },
  {
   "cell_type": "code",
   "execution_count": 446,
   "metadata": {},
   "outputs": [],
   "source": [
    "data = torch.from_numpy(X)"
   ]
  },
  {
   "cell_type": "code",
   "execution_count": 447,
   "metadata": {},
   "outputs": [],
   "source": [
    "def loss():\n",
    "#     softmaxed = torch.nn.Softmax(1)(rec(dec(data)).flatten(start_dim=1))\n",
    "#     answers = torch.argmax(data.flatten(start_dim=1), dim=1)\n",
    "    \n",
    "#     ce = torch.nn.CrossEntropyLoss()\n",
    "#     loss = ce(softmaxed, answers)\n",
    "   \n",
    "    delta = (rec(dec(data)) - data).flatten(start_dim=1)\n",
    "    std = data.std(0, keepdim=True).flatten(start_dim=1)\n",
    "    std = torch.where(std < 1e-6, torch.ones_like(std), std)\n",
    "    delta = delta.pow(2)\n",
    "    delta = delta / std.pow(2)\n",
    "    loss = delta.sum(1).mean(0)\n",
    "    return loss"
   ]
  },
  {
   "cell_type": "code",
   "execution_count": 448,
   "metadata": {},
   "outputs": [],
   "source": [
    "opt = torch.optim.Adam(list(rec.parameters()) + list(dec.parameters()),\n",
    "                       lr=1e-3)"
   ]
  },
  {
   "cell_type": "code",
   "execution_count": 449,
   "metadata": {},
   "outputs": [],
   "source": [
    "losses = []"
   ]
  },
  {
   "cell_type": "code",
   "execution_count": 450,
   "metadata": {},
   "outputs": [
    {
     "data": {
      "application/vnd.jupyter.widget-view+json": {
       "model_id": "ee9eea8493e6424584b2a493dda9158f",
       "version_major": 2,
       "version_minor": 0
      },
      "text/plain": [
       "HBox(children=(HTML(value=''), FloatProgress(value=0.0, max=10000.0), HTML(value='')))"
      ]
     },
     "metadata": {},
     "output_type": "display_data"
    },
    {
     "name": "stdout",
     "output_type": "stream",
     "text": [
      "\n"
     ]
    }
   ],
   "source": [
    "for i in tqdm(range(10000)):\n",
    "    if i % 10 == 0:\n",
    "        X, (xs, ys) = get_xy()\n",
    "        data = torch.from_numpy(X).cuda()\n",
    "    \n",
    "    opt.zero_grad()\n",
    "    l = loss()\n",
    "    l.backward()\n",
    "    opt.step()\n",
    "    losses.append(l.item())"
   ]
  },
  {
   "cell_type": "code",
   "execution_count": 451,
   "metadata": {},
   "outputs": [
    {
     "data": {
      "image/png": "[encoded data removed]",
      "text/plain": [
       "<Figure size 432x288 with 1 Axes>"
      ]
     },
     "metadata": {
      "needs_background": "light"
     },
     "output_type": "display_data"
    }
   ],
   "source": [
    "plt.plot(losses)\n",
    "plt.yscale('log')"
   ]
  },
  {
   "cell_type": "code",
   "execution_count": 452,
   "metadata": {},
   "outputs": [
    {
     "data": {
      "image/png": "[encoded data removed]",
      "text/plain": [
       "<Figure size 432x288 with 2 Axes>"
      ]
     },
     "metadata": {
      "needs_background": "light"
     },
     "output_type": "display_data"
    },
    {
     "data": {
      "image/png": "[encoded data removed]",
      "text/plain": [
       "<Figure size 432x288 with 2 Axes>"
      ]
     },
     "metadata": {
      "needs_background": "light"
     },
     "output_type": "display_data"
    },
    {
     "data": {
      "image/png": "[encoded data removed]",
      "text/plain": [
       "<Figure size 432x288 with 2 Axes>"
      ]
     },
     "metadata": {
      "needs_background": "light"
     },
     "output_type": "display_data"
    }
   ],
   "source": [
    "X, (xs, ys) = get_xy()\n",
    "data = torch.from_numpy(X).cuda()\n",
    "\n",
    "Xrec = rec(dec(data))\n",
    "for _ in range(3):\n",
    "    idx = np.random.choice(s)\n",
    "\n",
    "    plt.subplot(1, 2, 1)\n",
    "    plt.title(f\"{xs[idx]} {ys[idx]}\")\n",
    "    plt.imshow(X[idx])\n",
    "    plt.subplot(1, 2, 2)\n",
    "    xrecnp = Xrec.detach().cpu().numpy()[idx]\n",
    "    plt.imshow(xrecnp)# >= np.max(xrecnp))\n",
    "    plt.show()"
   ]
  },
  {
   "cell_type": "markdown",
   "metadata": {},
   "source": [
    "# Combined model"
   ]
  },
  {
   "cell_type": "code",
   "execution_count": 453,
   "metadata": {},
   "outputs": [],
   "source": [
    "from sparse_causal_model_learner_rl.trainable.combined import FCCombinedModel"
   ]
  },
  {
   "cell_type": "code",
   "execution_count": null,
   "metadata": {},
   "outputs": [],
   "source": []
  },
  {
   "cell_type": "code",
   "execution_count": 454,
   "metadata": {},
   "outputs": [],
   "source": [
    "class Rec(nn.Module):\n",
    "    def __init__(self):\n",
    "        super(Rec, self).__init__()\n",
    "        self.rec_comb = FCCombinedModel(hidden_sizes=[h * w], activation_cls=nn.Tanh, input_shape=(4,),\n",
    "                           output_shape=(1,), n_models=h * w)\n",
    "    def forward(self, x):\n",
    "        x = x.view(*x.shape, 1).expand(*[-1] * len(x.shape), h * w)\n",
    "        return self.rec_comb(x).view(x.shape[0], h, w)"
   ]
  },
  {
   "cell_type": "code",
   "execution_count": 455,
   "metadata": {},
   "outputs": [],
   "source": [
    "dec = Decoder().cuda()\n",
    "rec = Rec().cuda()"
   ]
  },
  {
   "cell_type": "code",
   "execution_count": 461,
   "metadata": {},
   "outputs": [],
   "source": [
    "opt = torch.optim.Adam(list(rec.parameters()) + list(dec.parameters()),\n",
    "                       lr=1e-4)"
   ]
  },
  {
   "cell_type": "code",
   "execution_count": 457,
   "metadata": {},
   "outputs": [],
   "source": [
    "losses = []"
   ]
  },
  {
   "cell_type": "code",
   "execution_count": 466,
   "metadata": {},
   "outputs": [
    {
     "data": {
      "application/vnd.jupyter.widget-view+json": {
       "model_id": "9ade63b651764d838ca3da7311512c25",
       "version_major": 2,
       "version_minor": 0
      },
      "text/plain": [
       "HBox(children=(HTML(value=''), FloatProgress(value=0.0, max=10000.0), HTML(value='')))"
      ]
     },
     "metadata": {},
     "output_type": "display_data"
    },
    {
     "name": "stdout",
     "output_type": "stream",
     "text": [
      "\n"
     ]
    },
    {
     "ename": "KeyboardInterrupt",
     "evalue": "",
     "output_type": "error",
     "traceback": [
      "\u001b[0;31m---------------------------------------------------------------------------\u001b[0m",
      "\u001b[0;31mKeyboardInterrupt\u001b[0m                         Traceback (most recent call last)",
      "\u001b[0;32m<ipython-input-466-1b785caa9cd3>\u001b[0m in \u001b[0;36m<module>\u001b[0;34m\u001b[0m\n\u001b[1;32m      6\u001b[0m     \u001b[0mopt\u001b[0m\u001b[0;34m.\u001b[0m\u001b[0mzero_grad\u001b[0m\u001b[0;34m(\u001b[0m\u001b[0;34m)\u001b[0m\u001b[0;34m\u001b[0m\u001b[0m\n\u001b[1;32m      7\u001b[0m     \u001b[0ml\u001b[0m \u001b[0;34m=\u001b[0m \u001b[0mloss\u001b[0m\u001b[0;34m(\u001b[0m\u001b[0;34m)\u001b[0m\u001b[0;34m\u001b[0m\u001b[0m\n\u001b[0;32m----> 8\u001b[0;31m     \u001b[0ml\u001b[0m\u001b[0;34m.\u001b[0m\u001b[0mbackward\u001b[0m\u001b[0;34m(\u001b[0m\u001b[0;34m)\u001b[0m\u001b[0;34m\u001b[0m\u001b[0m\n\u001b[0m\u001b[1;32m      9\u001b[0m     \u001b[0mopt\u001b[0m\u001b[0;34m.\u001b[0m\u001b[0mstep\u001b[0m\u001b[0;34m(\u001b[0m\u001b[0;34m)\u001b[0m\u001b[0;34m\u001b[0m\u001b[0m\n\u001b[1;32m     10\u001b[0m     \u001b[0mlosses\u001b[0m\u001b[0;34m.\u001b[0m\u001b[0mappend\u001b[0m\u001b[0;34m(\u001b[0m\u001b[0ml\u001b[0m\u001b[0;34m.\u001b[0m\u001b[0mitem\u001b[0m\u001b[0;34m(\u001b[0m\u001b[0;34m)\u001b[0m\u001b[0;34m)\u001b[0m\u001b[0;34m\u001b[0m\u001b[0m\n",
      "\u001b[0;32m~/miniconda3/envs/causal/lib/python3.7/site-packages/torch/tensor.py\u001b[0m in \u001b[0;36mbackward\u001b[0;34m(self, gradient, retain_graph, create_graph)\u001b[0m\n\u001b[1;32m    219\u001b[0m                 \u001b[0mretain_graph\u001b[0m\u001b[0;34m=\u001b[0m\u001b[0mretain_graph\u001b[0m\u001b[0;34m,\u001b[0m\u001b[0;34m\u001b[0m\u001b[0m\n\u001b[1;32m    220\u001b[0m                 create_graph=create_graph)\n\u001b[0;32m--> 221\u001b[0;31m         \u001b[0mtorch\u001b[0m\u001b[0;34m.\u001b[0m\u001b[0mautograd\u001b[0m\u001b[0;34m.\u001b[0m\u001b[0mbackward\u001b[0m\u001b[0;34m(\u001b[0m\u001b[0mself\u001b[0m\u001b[0;34m,\u001b[0m \u001b[0mgradient\u001b[0m\u001b[0;34m,\u001b[0m \u001b[0mretain_graph\u001b[0m\u001b[0;34m,\u001b[0m \u001b[0mcreate_graph\u001b[0m\u001b[0;34m)\u001b[0m\u001b[0;34m\u001b[0m\u001b[0m\n\u001b[0m\u001b[1;32m    222\u001b[0m \u001b[0;34m\u001b[0m\u001b[0m\n\u001b[1;32m    223\u001b[0m     \u001b[0;32mdef\u001b[0m \u001b[0mregister_hook\u001b[0m\u001b[0;34m(\u001b[0m\u001b[0mself\u001b[0m\u001b[0;34m,\u001b[0m \u001b[0mhook\u001b[0m\u001b[0;34m)\u001b[0m\u001b[0;34m:\u001b[0m\u001b[0;34m\u001b[0m\u001b[0m\n",
      "\u001b[0;32m~/miniconda3/envs/causal/lib/python3.7/site-packages/torch/autograd/__init__.py\u001b[0m in \u001b[0;36mbackward\u001b[0;34m(tensors, grad_tensors, retain_graph, create_graph, grad_variables)\u001b[0m\n\u001b[1;32m    130\u001b[0m     Variable._execution_engine.run_backward(\n\u001b[1;32m    131\u001b[0m         \u001b[0mtensors\u001b[0m\u001b[0;34m,\u001b[0m \u001b[0mgrad_tensors_\u001b[0m\u001b[0;34m,\u001b[0m \u001b[0mretain_graph\u001b[0m\u001b[0;34m,\u001b[0m \u001b[0mcreate_graph\u001b[0m\u001b[0;34m,\u001b[0m\u001b[0;34m\u001b[0m\u001b[0m\n\u001b[0;32m--> 132\u001b[0;31m         allow_unreachable=True)  # allow_unreachable flag\n\u001b[0m\u001b[1;32m    133\u001b[0m \u001b[0;34m\u001b[0m\u001b[0m\n\u001b[1;32m    134\u001b[0m \u001b[0;34m\u001b[0m\u001b[0m\n",
      "\u001b[0;31mKeyboardInterrupt\u001b[0m: "
     ]
    }
   ],
   "source": [
    "for i in tqdm(range(10000)):\n",
    "    if i % 10 == 0:\n",
    "        X, (xs, ys) = get_xy()\n",
    "        data = torch.from_numpy(X).cuda()\n",
    "    \n",
    "    opt.zero_grad()\n",
    "    l = loss()\n",
    "    l.backward()\n",
    "    opt.step()\n",
    "    losses.append(l.item())"
   ]
  },
  {
   "cell_type": "code",
   "execution_count": 467,
   "metadata": {},
   "outputs": [
    {
     "data": {
      "image/png": "[encoded data removed]",
      "text/plain": [
       "<Figure size 432x288 with 1 Axes>"
      ]
     },
     "metadata": {
      "needs_background": "light"
     },
     "output_type": "display_data"
    }
   ],
   "source": [
    "plt.plot(losses)\n",
    "plt.yscale('log')"
   ]
  },
  {
   "cell_type": "code",
   "execution_count": 468,
   "metadata": {},
   "outputs": [
    {
     "data": {
      "image/png": "[encoded data removed]",
      "text/plain": [
       "<Figure size 432x288 with 2 Axes>"
      ]
     },
     "metadata": {
      "needs_background": "light"
     },
     "output_type": "display_data"
    },
    {
     "data": {
      "image/png": "[encoded data removed]",
      "text/plain": [
       "<Figure size 432x288 with 2 Axes>"
      ]
     },
     "metadata": {
      "needs_background": "light"
     },
     "output_type": "display_data"
    },
    {
     "data": {
      "image/png": "[encoded data removed]",
      "text/plain": [
       "<Figure size 432x288 with 2 Axes>"
      ]
     },
     "metadata": {
      "needs_background": "light"
     },
     "output_type": "display_data"
    }
   ],
   "source": [
    "X, (xs, ys) = get_xy()\n",
    "data = torch.from_numpy(X).cuda()\n",
    "\n",
    "Xrec = rec(dec(data))\n",
    "\n",
    "for _ in range(3):\n",
    "    idx = np.random.choice(s)\n",
    "\n",
    "    plt.subplot(1, 2, 1)\n",
    "    plt.title(f\"{xs[idx]} {ys[idx]}\")\n",
    "    plt.imshow(X[idx])\n",
    "    plt.subplot(1, 2, 2)\n",
    "    xrecnp = Xrec.detach().cpu().numpy()[idx]\n",
    "    plt.imshow(xrecnp)# >= np.max(xrecnp))\n",
    "    plt.show()"
   ]
  },
  {
   "cell_type": "markdown",
   "metadata": {},
   "source": [
    "# Custom arch"
   ]
  },
  {
   "cell_type": "code",
   "execution_count": 782,
   "metadata": {},
   "outputs": [],
   "source": [
    "h, w, s = 10, 10, 1000\n",
    "gin.bind_parameter('get_xy.h', h)\n",
    "gin.bind_parameter('get_xy.w', w)\n",
    "gin.bind_parameter('get_xy.s', s)"
   ]
  },
  {
   "cell_type": "code",
   "execution_count": 856,
   "metadata": {},
   "outputs": [],
   "source": [
    "class Decoder(nn.Module):\n",
    "    def __init__(self):\n",
    "        super(Decoder, self).__init__()\n",
    "        self.fc1 = nn.Linear(in_features=h * w, out_features=4)\n",
    "        self.fc2 = nn.Linear(in_features=10, out_features=4)\n",
    "        self.act = nn.LeakyReLU()\n",
    "        self.bn1 = nn.BatchNorm1d(h * w)\n",
    "        self.bn2 = nn.BatchNorm1d(10)\n",
    "    def forward(self, x):\n",
    "        x = x.flatten(start_dim=1)\n",
    "#         x = self.bn1(x)\n",
    "        x = self.fc1(x)\n",
    "#         x = self.bn2(self.act(self.fc1(x)))\n",
    "#         x = self.fc2(x)\n",
    "        return x\n",
    "class Reconstructor(nn.Module):\n",
    "    def __init__(self):\n",
    "        super(Reconstructor, self).__init__()\n",
    "        self.nch = 8\n",
    "        self.fc1x = nn.Linear(in_features=4, out_features=2 * self.nch)\n",
    "        self.fc1y = nn.Linear(in_features=4, out_features=2 * self.nch)\n",
    "        \n",
    "        \n",
    "        self.deconv1x = torch.nn.ConvTranspose2d(in_channels=self.nch, out_channels=self.nch,\n",
    "                                                kernel_size=(1, 3))\n",
    "        self.deconv2x = torch.nn.ConvTranspose2d(in_channels=self.nch, out_channels=self.nch,\n",
    "                                                kernel_size=(1, 3))\n",
    "        self.deconv3x = torch.nn.ConvTranspose2d(in_channels=self.nch, out_channels=self.nch,\n",
    "                                                kernel_size=(1, 3))\n",
    "        self.deconv4x = torch.nn.ConvTranspose2d(in_channels=self.nch, out_channels=1,\n",
    "                                                kernel_size=(1, 3))\n",
    "        \n",
    "        self.deconv1y = torch.nn.ConvTranspose2d(in_channels=self.nch, out_channels=self.nch,\n",
    "                                                kernel_size=(3, 1))\n",
    "        self.deconv2y = torch.nn.ConvTranspose2d(in_channels=self.nch, out_channels=self.nch,\n",
    "                                                kernel_size=(3, 1))\n",
    "        self.deconv3y = torch.nn.ConvTranspose2d(in_channels=self.nch, out_channels=self.nch,\n",
    "                                                kernel_size=(3, 1))\n",
    "        self.deconv4y = torch.nn.ConvTranspose2d(in_channels=self.nch, out_channels=1,\n",
    "                                                kernel_size=(3, 1))\n",
    "        \n",
    "        self.act = nn.Tanh()\n",
    "        self.dact = nn.LeakyReLU()\n",
    "        \n",
    "        self.square_bias = nn.Parameter(torch.from_numpy(np.zeros((10, 10)).astype(np.float32)))\n",
    "        \n",
    "    def forward(self, x):\n",
    "        x_x = self.fc1x(x)\n",
    "        x_x = x_x.view(x_x.shape[0], self.nch, 1, 2)\n",
    "        \n",
    "        x_y = self.fc1y(x)\n",
    "        x_y = x_y.view(x_y.shape[0], self.nch, 2, 1)\n",
    "        \n",
    "        x_x = self.dact(self.deconv1x(x_x))\n",
    "        x_x = self.dact(self.deconv2x(x_x))\n",
    "        x_x = self.dact(self.deconv3x(x_x))\n",
    "        x_x = self.deconv4x(x_x)\n",
    "        \n",
    "        x_y = self.dact(self.deconv1y(x_y))\n",
    "        x_y = self.dact(self.deconv2y(x_y))\n",
    "        x_y = self.dact(self.deconv3y(x_y))\n",
    "        x_y = self.deconv4y(x_y)\n",
    "        \n",
    "        x_x = x_x.view(x.shape[0], 10)\n",
    "        x_y = x_y.view(x.shape[0], 10)\n",
    "#         print(x_x.shape, x_y.shape)\n",
    "        x = torch.einsum('bi,bj->bij', (x_x, x_y))\n",
    "        x = x + self.square_bias\n",
    "#         print(x.shape)\n",
    "        \n",
    "#         x = x.view(x.shape[0], 100)\n",
    "#         x = nn.Softmax(1)(x)\n",
    "#         x = x.view(x.shape[0], h, w)\n",
    "\n",
    "#         print(x.shape)\n",
    "        return x"
   ]
  },
  {
   "cell_type": "code",
   "execution_count": 857,
   "metadata": {},
   "outputs": [],
   "source": [
    "rec = Reconstructor().cuda()\n",
    "dec = Decoder().cuda()"
   ]
  },
  {
   "cell_type": "code",
   "execution_count": 858,
   "metadata": {},
   "outputs": [
    {
     "data": {
      "text/plain": [
       "torch.Size([1000, 10, 10])"
      ]
     },
     "execution_count": 858,
     "metadata": {},
     "output_type": "execute_result"
    }
   ],
   "source": [
    "X, (xs, ys) = get_xy()\n",
    "data = torch.from_numpy(X).cuda()\n",
    "(rec(dec(data)) - data).shape"
   ]
  },
  {
   "cell_type": "code",
   "execution_count": 859,
   "metadata": {},
   "outputs": [],
   "source": [
    "losses = []"
   ]
  },
  {
   "cell_type": "code",
   "execution_count": 904,
   "metadata": {},
   "outputs": [],
   "source": [
    "opt = torch.optim.Adam(list(rec.parameters()) + list(dec.parameters()),\n",
    "                       lr=1e-4)"
   ]
  },
  {
   "cell_type": "code",
   "execution_count": 921,
   "metadata": {},
   "outputs": [
    {
     "data": {
      "application/vnd.jupyter.widget-view+json": {
       "model_id": "2b7338c95a02425b992409ff03434164",
       "version_major": 2,
       "version_minor": 0
      },
      "text/plain": [
       "HBox(children=(HTML(value=''), FloatProgress(value=0.0, max=10000.0), HTML(value='')))"
      ]
     },
     "metadata": {},
     "output_type": "display_data"
    },
    {
     "name": "stdout",
     "output_type": "stream",
     "text": [
      "\n"
     ]
    },
    {
     "ename": "KeyboardInterrupt",
     "evalue": "",
     "output_type": "error",
     "traceback": [
      "\u001b[0;31m---------------------------------------------------------------------------\u001b[0m",
      "\u001b[0;31mKeyboardInterrupt\u001b[0m                         Traceback (most recent call last)",
      "\u001b[0;32m<ipython-input-921-1b785caa9cd3>\u001b[0m in \u001b[0;36m<module>\u001b[0;34m\u001b[0m\n\u001b[1;32m      4\u001b[0m         \u001b[0mdata\u001b[0m \u001b[0;34m=\u001b[0m \u001b[0mtorch\u001b[0m\u001b[0;34m.\u001b[0m\u001b[0mfrom_numpy\u001b[0m\u001b[0;34m(\u001b[0m\u001b[0mX\u001b[0m\u001b[0;34m)\u001b[0m\u001b[0;34m.\u001b[0m\u001b[0mcuda\u001b[0m\u001b[0;34m(\u001b[0m\u001b[0;34m)\u001b[0m\u001b[0;34m\u001b[0m\u001b[0m\n\u001b[1;32m      5\u001b[0m \u001b[0;34m\u001b[0m\u001b[0m\n\u001b[0;32m----> 6\u001b[0;31m     \u001b[0mopt\u001b[0m\u001b[0;34m.\u001b[0m\u001b[0mzero_grad\u001b[0m\u001b[0;34m(\u001b[0m\u001b[0;34m)\u001b[0m\u001b[0;34m\u001b[0m\u001b[0m\n\u001b[0m\u001b[1;32m      7\u001b[0m     \u001b[0ml\u001b[0m \u001b[0;34m=\u001b[0m \u001b[0mloss\u001b[0m\u001b[0;34m(\u001b[0m\u001b[0;34m)\u001b[0m\u001b[0;34m\u001b[0m\u001b[0m\n\u001b[1;32m      8\u001b[0m     \u001b[0ml\u001b[0m\u001b[0;34m.\u001b[0m\u001b[0mbackward\u001b[0m\u001b[0;34m(\u001b[0m\u001b[0;34m)\u001b[0m\u001b[0;34m\u001b[0m\u001b[0m\n",
      "\u001b[0;32m~/miniconda3/envs/causal/lib/python3.7/site-packages/torch/optim/optimizer.py\u001b[0m in \u001b[0;36mzero_grad\u001b[0;34m(self, set_to_none)\u001b[0m\n\u001b[1;32m    190\u001b[0m                         \u001b[0;32melse\u001b[0m\u001b[0;34m:\u001b[0m\u001b[0;34m\u001b[0m\u001b[0m\n\u001b[1;32m    191\u001b[0m                             \u001b[0mp\u001b[0m\u001b[0;34m.\u001b[0m\u001b[0mgrad\u001b[0m\u001b[0;34m.\u001b[0m\u001b[0mrequires_grad_\u001b[0m\u001b[0;34m(\u001b[0m\u001b[0;32mFalse\u001b[0m\u001b[0;34m)\u001b[0m\u001b[0;34m\u001b[0m\u001b[0m\n\u001b[0;32m--> 192\u001b[0;31m                         \u001b[0mp\u001b[0m\u001b[0;34m.\u001b[0m\u001b[0mgrad\u001b[0m\u001b[0;34m.\u001b[0m\u001b[0mzero_\u001b[0m\u001b[0;34m(\u001b[0m\u001b[0;34m)\u001b[0m\u001b[0;34m\u001b[0m\u001b[0m\n\u001b[0m\u001b[1;32m    193\u001b[0m \u001b[0;34m\u001b[0m\u001b[0m\n\u001b[1;32m    194\u001b[0m     \u001b[0;32mdef\u001b[0m \u001b[0mstep\u001b[0m\u001b[0;34m(\u001b[0m\u001b[0mself\u001b[0m\u001b[0;34m,\u001b[0m \u001b[0mclosure\u001b[0m\u001b[0;34m)\u001b[0m\u001b[0;34m:\u001b[0m\u001b[0;34m\u001b[0m\u001b[0m\n",
      "\u001b[0;31mKeyboardInterrupt\u001b[0m: "
     ]
    }
   ],
   "source": [
    "for i in tqdm(range(10000)):\n",
    "    if i % 10 == 0:\n",
    "        X, (xs, ys) = get_xy()\n",
    "        data = torch.from_numpy(X).cuda()\n",
    "    \n",
    "    opt.zero_grad()\n",
    "    l = loss()\n",
    "    l.backward()\n",
    "    opt.step()\n",
    "    losses.append(l.item())"
   ]
  },
  {
   "cell_type": "code",
   "execution_count": 922,
   "metadata": {},
   "outputs": [
    {
     "data": {
      "image/png": "[encoded data removed]",
      "text/plain": [
       "<Figure size 432x288 with 1 Axes>"
      ]
     },
     "metadata": {
      "needs_background": "light"
     },
     "output_type": "display_data"
    }
   ],
   "source": [
    "plt.plot(losses)\n",
    "plt.yscale('log')"
   ]
  },
  {
   "cell_type": "code",
   "execution_count": 923,
   "metadata": {},
   "outputs": [
    {
     "data": {
      "image/png": "[encoded data removed]",
      "text/plain": [
       "<Figure size 432x288 with 2 Axes>"
      ]
     },
     "metadata": {
      "needs_background": "light"
     },
     "output_type": "display_data"
    },
    {
     "data": {
      "image/png": "[encoded data removed]",
      "text/plain": [
       "<Figure size 432x288 with 2 Axes>"
      ]
     },
     "metadata": {
      "needs_background": "light"
     },
     "output_type": "display_data"
    },
    {
     "data": {
      "image/png": "[encoded data removed]",
      "text/plain": [
       "<Figure size 432x288 with 2 Axes>"
      ]
     },
     "metadata": {
      "needs_background": "light"
     },
     "output_type": "display_data"
    }
   ],
   "source": [
    "X, (xs, ys) = get_xy()\n",
    "data = torch.from_numpy(X).cuda()\n",
    "\n",
    "Xrec = rec(dec(data))\n",
    "\n",
    "for _ in range(3):\n",
    "    idx = np.random.choice(s)\n",
    "\n",
    "    plt.subplot(1, 2, 1)\n",
    "    plt.title(f\"{xs[idx]} {ys[idx]}\")\n",
    "    plt.imshow(X[idx])\n",
    "    plt.subplot(1, 2, 2)\n",
    "    xrecnp = Xrec.detach().cpu().numpy()[idx]\n",
    "    plt.imshow(xrecnp)# >= np.max(xrecnp))\n",
    "    plt.show()"
   ]
  },
  {
   "cell_type": "code",
   "execution_count": null,
   "metadata": {},
   "outputs": [],
   "source": []
  },
  {
   "cell_type": "code",
   "execution_count": null,
   "metadata": {},
   "outputs": [],
   "source": []
  }
 ],
 "metadata": {
  "kernelspec": {
   "display_name": "Python 3",
   "language": "python",
   "name": "python3"
  },
  "language_info": {
   "codemirror_mode": {
    "name": "ipython",
    "version": 3
   },
   "file_extension": ".py",
   "mimetype": "text/x-python",
   "name": "python",
   "nbconvert_exporter": "python",
   "pygments_lexer": "ipython3",
   "version": "3.7.10"
  }
 },
 "nbformat": 4,
 "nbformat_minor": 4
}
