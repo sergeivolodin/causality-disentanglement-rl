{
 "cells": [
  {
   "cell_type": "markdown",
   "id": "democratic-width",
   "metadata": {},
   "source": [
    "## The problem\n",
    "$\\|w\\|_1\\to\\min$ s.t. $\\|wX-y\\|_2^2\\leq\\varepsilon$\n",
    "\n",
    "The Lagrangian is:\n",
    "$$\n",
    "L(w, \\lambda)=\\|w\\|_1+\\lambda(\\|wX-y\\|_2^2-\\varepsilon)\n",
    "$$\n",
    "\n",
    "Gradients are:\n",
    "$$\n",
    "\\frac{\\partial L}{\\partial w}=\\frac{\\partial}{\\partial w} \\left[\\|w\\|_1+\\lambda \\|wX-y\\|_2^2\\right]\n",
    "$$\n",
    "\n",
    "and \n",
    "$$\n",
    "\\frac{\\partial L}{\\partial \\lambda}=\\|wX-y\\|_2^2-\\varepsilon\n",
    "$$\n",
    "\n",
    "They correspond to minimizing functions $L(w, \\lambda)$ over $w$ and $-L(w, \\lambda)$ over $\\lambda$."
   ]
  },
  {
   "cell_type": "code",
   "execution_count": 1,
   "id": "sufficient-planet",
   "metadata": {},
   "outputs": [],
   "source": [
    "import torch\n",
    "import gin\n",
    "from tqdm.auto import tqdm\n",
    "from matplotlib import pyplot as plt\n",
    "import seaborn as sns"
   ]
  },
  {
   "cell_type": "code",
   "execution_count": 2,
   "id": "imported-couple",
   "metadata": {},
   "outputs": [],
   "source": [
    "device = torch.device('cuda')"
   ]
  },
  {
   "cell_type": "code",
   "execution_count": 3,
   "id": "little-cruise",
   "metadata": {},
   "outputs": [],
   "source": [
    "data = torch.randn(1000, 10).to(device).detach()"
   ]
  },
  {
   "cell_type": "code",
   "execution_count": 4,
   "id": "written-favorite",
   "metadata": {},
   "outputs": [],
   "source": [
    "y = (data[:, 0] + data[:, -1]).detach()"
   ]
  },
  {
   "cell_type": "code",
   "execution_count": 5,
   "id": "sophisticated-affect",
   "metadata": {},
   "outputs": [],
   "source": [
    "w = torch.autograd.Variable(torch.randn(10).to(device), requires_grad=True)\n",
    "lam = torch.autograd.Variable(torch.rand(1).to(device), requires_grad=True)"
   ]
  },
  {
   "cell_type": "code",
   "execution_count": 6,
   "id": "classified-prescription",
   "metadata": {},
   "outputs": [],
   "source": [
    "def fit():\n",
    "    return ((y - w @ data.T).pow(2).sum(0))\n",
    "\n",
    "def sp():\n",
    "    return w.abs().sum()\n",
    "\n",
    "def lagrangian(sp_, fit_):\n",
    "    return sp_ + lam.mean() * (fit_ - 0.0001)"
   ]
  },
  {
   "cell_type": "code",
   "execution_count": 7,
   "id": "aging-career",
   "metadata": {},
   "outputs": [
    {
     "data": {
      "text/plain": [
       "(tensor(0.5494, device='cuda:0', grad_fn=<MeanBackward0>),\n",
       " 13419.1435546875,\n",
       " 7.097525119781494,\n",
       " tensor(7380.0820, device='cuda:0', grad_fn=<AddBackward0>))"
      ]
     },
     "execution_count": 7,
     "metadata": {},
     "output_type": "execute_result"
    }
   ],
   "source": [
    "lam.mean(), fit().item(), sp().item(), lagrangian(sp(), fit())"
   ]
  },
  {
   "cell_type": "code",
   "execution_count": 8,
   "id": "rocky-morgan",
   "metadata": {},
   "outputs": [],
   "source": [
    "opt_primal = torch.optim.Adam([w], lr=1e-3)\n",
    "opt_dual = torch.optim.SGD([lam], lr=1e-3)"
   ]
  },
  {
   "cell_type": "code",
   "execution_count": 9,
   "id": "designing-drive",
   "metadata": {},
   "outputs": [],
   "source": [
    "lags = []\n",
    "fits = []\n",
    "sps = []\n",
    "lams = []"
   ]
  },
  {
   "cell_type": "code",
   "execution_count": 10,
   "id": "spiritual-johnston",
   "metadata": {},
   "outputs": [
    {
     "data": {
      "application/vnd.jupyter.widget-view+json": {
       "model_id": "64d69699c2c8485ba677bcdc506754fb",
       "version_major": 2,
       "version_minor": 0
      },
      "text/plain": [
       "HBox(children=(HTML(value=''), FloatProgress(value=0.0, max=10000.0), HTML(value='')))"
      ]
     },
     "metadata": {},
     "output_type": "display_data"
    },
    {
     "name": "stdout",
     "output_type": "stream",
     "text": [
      "\n"
     ]
    }
   ],
   "source": [
    "for i in tqdm(range(10000)):\n",
    "    opt_primal.zero_grad()\n",
    "    sp_ = sp()\n",
    "    fit_ = fit()\n",
    "    l = lagrangian(sp_, fit_)\n",
    "    l.backward()\n",
    "    opt_primal.step()\n",
    "    \n",
    "    lags.append(l.item())\n",
    "    fits.append(fit_.item())\n",
    "    sps.append(sp_.item())\n",
    "    lams.append(lam.item())\n",
    "\n",
    "    \n",
    "    opt_dual.zero_grad()\n",
    "    sp_ = sp()\n",
    "    fit_ = fit()\n",
    "    l = -lagrangian(sp_, fit_)\n",
    "    l.backward()\n",
    "    opt_dual.step()\n",
    "        \n",
    "    lam.data[:] = torch.clamp(lam.data, 0, 100000)"
   ]
  },
  {
   "cell_type": "code",
   "execution_count": 11,
   "id": "sorted-calendar",
   "metadata": {},
   "outputs": [
    {
     "data": {
      "image/png": "[encoded data removed]",
      "text/plain": [
       "<Figure size 1080x360 with 4 Axes>"
      ]
     },
     "metadata": {
      "needs_background": "light"
     },
     "output_type": "display_data"
    }
   ],
   "source": [
    "plt.figure(figsize=(15, 5))\n",
    "\n",
    "plt.subplot(1, 4, 1)\n",
    "plt.title('lag')\n",
    "plt.plot(lags)\n",
    "plt.yscale('log')\n",
    "\n",
    "plt.subplot(1, 4, 2)\n",
    "plt.title('lam')\n",
    "plt.plot(lams)\n",
    "plt.yscale('log')\n",
    "\n",
    "plt.subplot(1, 4, 3)\n",
    "plt.title('sp')\n",
    "plt.plot(sps)\n",
    "plt.yscale('log')\n",
    "\n",
    "plt.subplot(1, 4, 4)\n",
    "plt.title('fit')\n",
    "plt.plot(fits)\n",
    "plt.yscale('log')"
   ]
  },
  {
   "cell_type": "code",
   "execution_count": 12,
   "id": "abandoned-section",
   "metadata": {},
   "outputs": [
    {
     "data": {
      "text/plain": [
       "<AxesSubplot:>"
      ]
     },
     "execution_count": 12,
     "metadata": {},
     "output_type": "execute_result"
    },
    {
     "data": {
      "image/png": "[encoded data removed]",
      "text/plain": [
       "<Figure size 432x288 with 2 Axes>"
      ]
     },
     "metadata": {
      "needs_background": "light"
     },
     "output_type": "display_data"
    }
   ],
   "source": [
    "sns.heatmap(w.cpu().detach().numpy().reshape(1, -1))"
   ]
  },
  {
   "cell_type": "code",
   "execution_count": 13,
   "id": "spare-relations",
   "metadata": {},
   "outputs": [
    {
     "data": {
      "text/plain": [
       "tensor([ -157.9464,    17.6461,  -108.2907,  1930.0308,   920.1009, -1820.8687,\n",
       "           21.8923,  -121.5771,   970.7625,   169.3469], device='cuda:0')"
      ]
     },
     "execution_count": 13,
     "metadata": {},
     "output_type": "execute_result"
    }
   ],
   "source": [
    "w.grad"
   ]
  },
  {
   "cell_type": "code",
   "execution_count": 14,
   "id": "growing-sudan",
   "metadata": {},
   "outputs": [
    {
     "data": {
      "text/plain": [
       "tensor([9.0497e-05], device='cuda:0')"
      ]
     },
     "execution_count": 14,
     "metadata": {},
     "output_type": "execute_result"
    }
   ],
   "source": [
    "lam.grad"
   ]
  },
  {
   "cell_type": "code",
   "execution_count": 15,
   "id": "built-injury",
   "metadata": {},
   "outputs": [
    {
     "data": {
      "text/plain": [
       "tensor([ 1.0000e+00, -8.2616e-09,  1.1025e-07, -6.2347e-05, -3.2272e-05,\n",
       "         5.9192e-05, -4.1748e-08,  2.5542e-08, -3.3134e-05,  1.0000e+00],\n",
       "       device='cuda:0', requires_grad=True)"
      ]
     },
     "execution_count": 15,
     "metadata": {},
     "output_type": "execute_result"
    }
   ],
   "source": [
    "w"
   ]
  },
  {
   "cell_type": "code",
   "execution_count": 16,
   "id": "distinct-cause",
   "metadata": {},
   "outputs": [
    {
     "data": {
      "text/plain": [
       "tensor([7857.9463], device='cuda:0', requires_grad=True)"
      ]
     },
     "execution_count": 16,
     "metadata": {},
     "output_type": "execute_result"
    }
   ],
   "source": [
    "lam"
   ]
  },
  {
   "cell_type": "code",
   "execution_count": null,
   "id": "perfect-devon",
   "metadata": {},
   "outputs": [],
   "source": []
  },
  {
   "cell_type": "code",
   "execution_count": null,
   "id": "aggressive-preliminary",
   "metadata": {},
   "outputs": [],
   "source": []
  }
 ],
 "metadata": {
  "kernelspec": {
   "display_name": "Python 3",
   "language": "python",
   "name": "python3"
  },
  "language_info": {
   "codemirror_mode": {
    "name": "ipython",
    "version": 3
   },
   "file_extension": ".py",
   "mimetype": "text/x-python",
   "name": "python",
   "nbconvert_exporter": "python",
   "pygments_lexer": "ipython3",
   "version": "3.7.10"
  }
 },
 "nbformat": 4,
 "nbformat_minor": 5
}
