{
 "cells": [
  {
   "cell_type": "markdown",
   "id": "instructional-flash",
   "metadata": {},
   "source": [
    "## The problem\n",
    "$\\|w\\|_1\\to\\min$ s.t. $\\|wX-y\\|_2^2\\leq\\varepsilon$\n",
    "\n",
    "The Lagrangian is:\n",
    "$$\n",
    "L(w, \\lambda)=\\|w\\|_1+\\lambda(\\|wX-y\\|_2^2-\\varepsilon)\n",
    "$$\n",
    "\n",
    "Gradients are:\n",
    "$$\n",
    "\\frac{\\partial L}{\\partial w}=\\frac{\\partial}{\\partial w} \\left[\\|w\\|_1+\\lambda \\|wX-y\\|_2^2\\right]\n",
    "$$\n",
    "\n",
    "and \n",
    "$$\n",
    "\\frac{\\partial L}{\\partial \\lambda}=\\|wX-y\\|_2^2-\\varepsilon\n",
    "$$\n",
    "\n",
    "They correspond to minimizing functions $L(w, \\lambda)$ over $w$ and $-L(w, \\lambda)$ over $\\lambda$."
   ]
  },
  {
   "cell_type": "code",
   "execution_count": 165,
   "id": "former-compatibility",
   "metadata": {},
   "outputs": [],
   "source": [
    "import torch\n",
    "import gin\n",
    "from tqdm.auto import tqdm\n",
    "from matplotlib import pyplot as plt\n",
    "import seaborn as sns"
   ]
  },
  {
   "cell_type": "code",
   "execution_count": 166,
   "id": "injured-homeless",
   "metadata": {},
   "outputs": [],
   "source": [
    "device = torch.device('cuda')"
   ]
  },
  {
   "cell_type": "code",
   "execution_count": 167,
   "id": "fourth-kitchen",
   "metadata": {},
   "outputs": [],
   "source": [
    "data = torch.randn(10, 100).to(device).detach()"
   ]
  },
  {
   "cell_type": "code",
   "execution_count": 168,
   "id": "arctic-terrace",
   "metadata": {},
   "outputs": [],
   "source": [
    "y = (data[:, 0] + data[:, 1] + data[:, 2] + data[:, -1]).detach()"
   ]
  },
  {
   "cell_type": "code",
   "execution_count": 169,
   "id": "regulation-wales",
   "metadata": {},
   "outputs": [],
   "source": [
    "w = torch.autograd.Variable(torch.randn(100).to(device), requires_grad=True)\n",
    "lam = torch.autograd.Variable(torch.rand(1).to(device), requires_grad=True)"
   ]
  },
  {
   "cell_type": "code",
   "execution_count": 170,
   "id": "absent-federal",
   "metadata": {},
   "outputs": [],
   "source": [
    "def fit():\n",
    "    return ((y - w @ data.T).pow(2).sum(0))\n",
    "\n",
    "def sp():\n",
    "#     return torch.tensor(0.0, dtype=torch.float32, device=device, requires_grad=False)#w.abs().sum()\n",
    "    return w.abs().sum()\n",
    "\n",
    "def lagrangian(sp_, fit_):\n",
    "    return sp_ + lam.mean() * (fit_ - 0.001)"
   ]
  },
  {
   "cell_type": "code",
   "execution_count": 171,
   "id": "important-stone",
   "metadata": {},
   "outputs": [
    {
     "data": {
      "text/plain": [
       "(tensor(0.9362, device='cuda:0', grad_fn=<MeanBackward0>),\n",
       " 1655.34716796875,\n",
       " 77.37570190429688,\n",
       " tensor(1627.1544, device='cuda:0', grad_fn=<AddBackward0>))"
      ]
     },
     "execution_count": 171,
     "metadata": {},
     "output_type": "execute_result"
    }
   ],
   "source": [
    "lam.mean(), fit().item(), sp().item(), lagrangian(sp(), fit())"
   ]
  },
  {
   "cell_type": "code",
   "execution_count": 172,
   "id": "copyrighted-hurricane",
   "metadata": {},
   "outputs": [],
   "source": [
    "opt_primal = torch.optim.Adam([w], lr=1e-3)\n",
    "opt_dual = torch.optim.Adam([lam], lr=1e-3)"
   ]
  },
  {
   "cell_type": "code",
   "execution_count": 173,
   "id": "alternative-orleans",
   "metadata": {},
   "outputs": [],
   "source": [
    "lags = []\n",
    "fits = []\n",
    "sps = []\n",
    "lams = []"
   ]
  },
  {
   "cell_type": "code",
   "execution_count": 199,
   "id": "commercial-egyptian",
   "metadata": {},
   "outputs": [
    {
     "data": {
      "application/vnd.jupyter.widget-view+json": {
       "model_id": "9be2dddf3083419298fd3fd3613862ea",
       "version_major": 2,
       "version_minor": 0
      },
      "text/plain": [
       "HBox(children=(HTML(value=''), FloatProgress(value=0.0, max=10000.0), HTML(value='')))"
      ]
     },
     "metadata": {},
     "output_type": "display_data"
    },
    {
     "name": "stdout",
     "output_type": "stream",
     "text": [
      "\n"
     ]
    }
   ],
   "source": [
    "for i in tqdm(range(10000)):\n",
    "    opt_primal.zero_grad()\n",
    "    sp_ = sp()\n",
    "    fit_ = fit()\n",
    "    l = lagrangian(sp_, fit_)\n",
    "    l.backward()\n",
    "    opt_primal.step()\n",
    "    \n",
    "    lags.append(l.item())\n",
    "    fits.append(fit_.item())\n",
    "    sps.append(sp_.item())\n",
    "    lams.append(lam.item())\n",
    "\n",
    "    \n",
    "    opt_dual.zero_grad()\n",
    "    sp_ = sp()\n",
    "    fit_ = fit()\n",
    "    l = -lagrangian(sp_, fit_)\n",
    "    l.backward()\n",
    "    opt_dual.step()\n",
    "        \n",
    "    lam.data[:] = torch.clamp(lam.data, 0, 100000)"
   ]
  },
  {
   "cell_type": "code",
   "execution_count": 200,
   "id": "elegant-sentence",
   "metadata": {},
   "outputs": [
    {
     "data": {
      "image/png": "[encoded data removed]",
      "text/plain": [
       "<Figure size 1080x360 with 4 Axes>"
      ]
     },
     "metadata": {
      "needs_background": "light"
     },
     "output_type": "display_data"
    }
   ],
   "source": [
    "plt.figure(figsize=(15, 5))\n",
    "\n",
    "plt.subplot(1, 4, 1)\n",
    "plt.title('lag')\n",
    "plt.plot(lags)\n",
    "plt.yscale('log')\n",
    "\n",
    "plt.subplot(1, 4, 2)\n",
    "plt.title('lam')\n",
    "plt.plot(lams)\n",
    "plt.yscale('log')\n",
    "\n",
    "plt.subplot(1, 4, 3)\n",
    "plt.title('sp')\n",
    "plt.plot(sps)\n",
    "plt.yscale('log')\n",
    "\n",
    "plt.subplot(1, 4, 4)\n",
    "plt.title('fit')\n",
    "plt.plot(fits)\n",
    "plt.yscale('log')"
   ]
  },
  {
   "cell_type": "code",
   "execution_count": 201,
   "id": "loaded-blanket",
   "metadata": {},
   "outputs": [],
   "source": [
    "import numpy as np"
   ]
  },
  {
   "cell_type": "code",
   "execution_count": 202,
   "id": "still-reporter",
   "metadata": {},
   "outputs": [
    {
     "data": {
      "text/plain": [
       "<AxesSubplot:>"
      ]
     },
     "execution_count": 202,
     "metadata": {},
     "output_type": "execute_result"
    },
    {
     "data": {
      "image/png": "[encoded data removed]",
      "text/plain": [
       "<Figure size 432x288 with 2 Axes>"
      ]
     },
     "metadata": {
      "needs_background": "light"
     },
     "output_type": "display_data"
    }
   ],
   "source": [
    "sns.heatmap(np.abs(w.cpu().detach().numpy().reshape(1, -1)))"
   ]
  },
  {
   "cell_type": "code",
   "execution_count": 203,
   "id": "purple-cleaning",
   "metadata": {},
   "outputs": [
    {
     "data": {
      "text/plain": [
       "2.5241036415100098"
      ]
     },
     "execution_count": 203,
     "metadata": {},
     "output_type": "execute_result"
    }
   ],
   "source": [
    "sps[-1]"
   ]
  },
  {
   "cell_type": "code",
   "execution_count": 204,
   "id": "entire-principal",
   "metadata": {},
   "outputs": [
    {
     "data": {
      "text/plain": [
       "tensor([ 0.2015,  0.0080, -0.0436, -0.0488,  0.0470,  0.0581, -0.0379, -2.0281,\n",
       "         2.0508, -2.1417, -0.0921, -1.9058, -2.0150,  0.1533, -0.0562, -0.0927,\n",
       "         0.0942, -0.0297, -1.9154, -0.0168,  0.0522,  2.0590, -0.0677, -2.0056,\n",
       "        -0.0993, -0.0440, -0.0695, -0.0727, -0.0450, -0.0580,  1.8718, -1.9253,\n",
       "        -0.0611,  2.0430, -0.0043,  0.0758, -0.0959, -0.0320,  0.0531, -2.0485,\n",
       "        -0.1120, -1.9577,  2.0780, -0.1425,  0.1154,  0.0545, -0.1242, -1.9522,\n",
       "        -2.1032, -2.0107,  0.1020,  0.1101, -0.0720, -0.0651,  0.0524, -0.0678,\n",
       "         0.0176, -0.0333,  0.0463,  0.0701, -0.1173,  1.9902,  1.9443, -0.0392,\n",
       "        -0.0533, -1.9505,  0.0777, -2.1563,  0.0051,  0.0112, -0.1180, -2.0156,\n",
       "        -1.8489,  2.1233, -0.0199,  0.1382, -2.0379,  2.1156,  0.0864, -0.1423,\n",
       "         2.0864,  0.0683, -0.0298,  0.0448,  1.9971, -0.1317, -0.1036,  0.0053,\n",
       "         0.1895, -1.9360,  0.1475,  0.1430,  0.0383, -0.0132, -0.1295, -0.0082,\n",
       "         0.0088, -1.8997, -0.0240,  0.0577], device='cuda:0')"
      ]
     },
     "execution_count": 204,
     "metadata": {},
     "output_type": "execute_result"
    }
   ],
   "source": [
    "w.grad"
   ]
  },
  {
   "cell_type": "code",
   "execution_count": 205,
   "id": "essential-suite",
   "metadata": {},
   "outputs": [
    {
     "data": {
      "text/plain": [
       "tensor([0.0001], device='cuda:0')"
      ]
     },
     "execution_count": 205,
     "metadata": {},
     "output_type": "execute_result"
    }
   ],
   "source": [
    "lam.grad"
   ]
  },
  {
   "cell_type": "code",
   "execution_count": 206,
   "id": "exclusive-brand",
   "metadata": {},
   "outputs": [
    {
     "data": {
      "text/plain": [
       "tensor([ 7.2405e-01,  4.4187e-04,  1.0000e-04,  3.2579e-04,  2.1620e-05,\n",
       "         1.2437e-04, -4.2608e-01,  8.6799e-05, -3.8912e-05,  1.1533e-04,\n",
       "         1.1549e-04,  1.1128e-05,  1.0180e-04, -2.8449e-04, -2.3789e-04,\n",
       "         1.3094e-04,  3.5174e-04,  7.1434e-04,  9.5115e-05, -4.1139e-05,\n",
       "        -1.1502e-03, -7.8762e-06,  2.9259e-04,  1.3736e-04, -1.7288e-01,\n",
       "         6.4161e-04, -7.8267e-05,  8.7132e-05,  9.5246e-04, -2.3078e-01,\n",
       "        -3.3039e-05,  1.6766e-04, -2.4569e-04, -5.7309e-05, -4.6688e-02,\n",
       "        -1.7498e-04, -1.6048e-04, -6.9075e-05,  1.0636e-04,  1.2963e-04,\n",
       "         1.8084e-04,  1.4802e-05, -9.8348e-05, -3.3529e-05,  2.3536e-05,\n",
       "         3.2318e-01, -8.4906e-05,  1.9650e-05,  3.8998e-05,  2.9082e-04,\n",
       "        -4.8126e-04,  1.5986e-04,  4.4957e-04, -2.1973e-01, -1.7078e-04,\n",
       "         1.9752e-04,  9.0655e-04, -1.4263e-04,  1.4853e-04,  2.2510e-04,\n",
       "         2.1460e-04, -1.1473e-04, -3.5578e-05, -2.4718e-04,  1.9437e-01,\n",
       "         8.0911e-05,  1.7695e-04,  1.9788e-04,  1.7121e-04,  3.6228e-04,\n",
       "        -1.6442e-03,  3.9930e-05,  1.5670e-04, -1.0295e-04,  1.4684e-04,\n",
       "        -4.7362e-05,  1.4519e-05, -1.2807e-04, -1.2631e-03,  1.8162e-04,\n",
       "        -5.8705e-05, -5.0303e-04,  2.0503e-04, -1.0683e-04, -6.4528e-05,\n",
       "        -7.4462e-05, -1.7521e-04, -1.8398e-04, -2.1789e-04,  1.9276e-05,\n",
       "         2.9879e-04, -3.1287e-05, -1.5915e-04,  1.6318e-03, -9.3385e-05,\n",
       "        -1.7456e-04, -3.7816e-04,  1.0654e-04,  6.7900e-04,  1.6505e-01],\n",
       "       device='cuda:0', requires_grad=True)"
      ]
     },
     "execution_count": 206,
     "metadata": {},
     "output_type": "execute_result"
    }
   ],
   "source": [
    "w"
   ]
  },
  {
   "cell_type": "code",
   "execution_count": 207,
   "id": "chief-citation",
   "metadata": {},
   "outputs": [
    {
     "data": {
      "text/plain": [
       "tensor([9.5440], device='cuda:0', requires_grad=True)"
      ]
     },
     "execution_count": 207,
     "metadata": {},
     "output_type": "execute_result"
    }
   ],
   "source": [
    "lam"
   ]
  },
  {
   "cell_type": "code",
   "execution_count": null,
   "id": "everyday-defense",
   "metadata": {},
   "outputs": [],
   "source": []
  },
  {
   "cell_type": "code",
   "execution_count": null,
   "id": "annoying-sussex",
   "metadata": {},
   "outputs": [],
   "source": []
  },
  {
   "cell_type": "code",
   "execution_count": null,
   "id": "wicked-challenge",
   "metadata": {},
   "outputs": [],
   "source": []
  },
  {
   "cell_type": "code",
   "execution_count": null,
   "id": "indoor-arlington",
   "metadata": {},
   "outputs": [],
   "source": []
  },
  {
   "cell_type": "code",
   "execution_count": null,
   "id": "suffering-springer",
   "metadata": {},
   "outputs": [],
   "source": []
  },
  {
   "cell_type": "code",
   "execution_count": null,
   "id": "first-reference",
   "metadata": {},
   "outputs": [],
   "source": []
  },
  {
   "cell_type": "code",
   "execution_count": null,
   "id": "adjustable-james",
   "metadata": {},
   "outputs": [],
   "source": []
  },
  {
   "cell_type": "code",
   "execution_count": null,
   "id": "sexual-carolina",
   "metadata": {},
   "outputs": [],
   "source": []
  }
 ],
 "metadata": {
  "kernelspec": {
   "display_name": "Python 3",
   "language": "python",
   "name": "python3"
  },
  "language_info": {
   "codemirror_mode": {
    "name": "ipython",
    "version": 3
   },
   "file_extension": ".py",
   "mimetype": "text/x-python",
   "name": "python",
   "nbconvert_exporter": "python",
   "pygments_lexer": "ipython3",
   "version": "3.7.10"
  }
 },
 "nbformat": 4,
 "nbformat_minor": 5
}
