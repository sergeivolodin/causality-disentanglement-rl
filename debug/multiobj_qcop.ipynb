{
 "cells": [
  {
   "cell_type": "code",
   "execution_count": 1,
   "id": "varied-accommodation",
   "metadata": {},
   "outputs": [],
   "source": [
    "%load_ext autoreload\n",
    "%autoreload 2\n",
    "import os\n",
    "os.environ['CUDA_VISIBLE_DEVICES'] = \"1\"\n",
    "import torch\n",
    "from torch import nn\n",
    "import numpy as np\n",
    "from tqdm.auto import tqdm\n",
    "from matplotlib import pyplot as plt\n",
    "from sparse_causal_model_learner_rl.learners import rl_learner\n",
    "from sparse_causal_model_learner_rl.config import Config\n",
    "from sparse_causal_model_learner_rl.sacred_gin_tune.sacred_wrapper import load_config_files\n",
    "import gin\n",
    "import ray\n",
    "import pickle\n",
    "from causal_util.helpers import CPU_Unpickler\n",
    "gin.enter_interactive_mode()"
   ]
  },
  {
   "cell_type": "code",
   "execution_count": 2,
   "id": "senior-technology",
   "metadata": {},
   "outputs": [
    {
     "data": {
      "text/plain": [
       "['ve5_toy_digits', 've5_digits_rec', 'server_collect_big']"
      ]
     },
     "execution_count": 2,
     "metadata": {},
     "output_type": "execute_result"
    }
   ],
   "source": [
    "load_config_files(['../vectorincrement/config/ve5_toy_digits.gin',\n",
    "                   '../sparse_causal_model_learner_rl/configs/ve5_digits_rec.gin',\n",
    "                   '../sparse_causal_model_learner_rl/configs/server_collect_big.gin'])"
   ]
  },
  {
   "cell_type": "code",
   "execution_count": null,
   "id": "requested-penalty",
   "metadata": {},
   "outputs": [],
   "source": []
  },
  {
   "cell_type": "code",
   "execution_count": 3,
   "id": "bright-professional",
   "metadata": {},
   "outputs": [],
   "source": [
    "gin.bind_parameter('Config.load_new_config', True)\n",
    "gin.bind_parameter('Config.load_checkpoint', '/home/sergei/ray_results/ve5_toy_digits_ve5_digits_rec_server_collect_big/main_fcn_98f13_00000_0_2021-02-20_08-59-46/checkpoint_5000/')"
   ]
  },
  {
   "cell_type": "code",
   "execution_count": 4,
   "id": "structural-specialist",
   "metadata": {},
   "outputs": [
    {
     "name": "stderr",
     "output_type": "stream",
     "text": [
      "2021-02-20 10:10:48,613\tINFO worker.py:651 -- Connecting to existing Ray cluster at address: 10.90.40.13:6379\n"
     ]
    },
    {
     "data": {
      "text/plain": [
       "{'node_ip_address': '10.90.40.13',\n",
       " 'raylet_ip_address': '10.90.40.13',\n",
       " 'redis_address': '10.90.40.13:6379',\n",
       " 'object_store_address': '/tmp/ray/session_2021-02-20_08-11-18_390441_20021/sockets/plasma_store',\n",
       " 'raylet_socket_name': '/tmp/ray/session_2021-02-20_08-11-18_390441_20021/sockets/raylet',\n",
       " 'webui_url': '127.0.0.1:8265',\n",
       " 'session_dir': '/tmp/ray/session_2021-02-20_08-11-18_390441_20021',\n",
       " 'metrics_export_port': 60463,\n",
       " 'node_id': '54ef4680490a04e32abf625d1245b34633c06d30'}"
      ]
     },
     "execution_count": 4,
     "metadata": {},
     "output_type": "execute_result"
    }
   ],
   "source": [
    "ray.init('10.90.40.13:6379')"
   ]
  },
  {
   "cell_type": "code",
   "execution_count": 5,
   "id": "greater-climb",
   "metadata": {},
   "outputs": [
    {
     "name": "stderr",
     "output_type": "stream",
     "text": [
      "WARNING:root:Not loading old gin config because using the new config\n",
      "2021-02-20 10:10:51,763\tWARNING session.py:20 -- Session not detected. You should not be calling this function outside `tune.run` or while using the class API. \n"
     ]
    },
    {
     "name": "stdout",
     "output_type": "stream",
     "text": [
      "Selecting name 878f63f6-735b-11eb-927a-90e2baa15230\n",
      "Make environment VectorIncrement-v0 None {}\n",
      "\u001b[2m\u001b[36m(pid=12371)\u001b[0m Make environment VectorIncrement-v0 None {}\n",
      "\u001b[2m\u001b[36m(pid=12377)\u001b[0m Make environment VectorIncrement-v0 None {}\n",
      "\u001b[2m\u001b[36m(pid=12407)\u001b[0m Make environment VectorIncrement-v0 None {}\n",
      "\u001b[2m\u001b[36m(pid=12404)\u001b[0m Make environment VectorIncrement-v0 None {}\n",
      "\u001b[2m\u001b[36m(pid=12380)\u001b[0m Make environment VectorIncrement-v0 None {}\n",
      "\u001b[2m\u001b[36m(pid=12392)\u001b[0m Make environment VectorIncrement-v0 None {}\n",
      "\u001b[2m\u001b[36m(pid=12388)\u001b[0m Make environment VectorIncrement-v0 None {}\n",
      "\u001b[2m\u001b[36m(pid=12397)\u001b[0m Make environment VectorIncrement-v0 None {}\n",
      "\u001b[2m\u001b[36m(pid=12372)\u001b[0m Make environment VectorIncrement-v0 None {}\n",
      "\u001b[2m\u001b[36m(pid=12391)\u001b[0m Make environment VectorIncrement-v0 None {}\n",
      "\u001b[2m\u001b[36m(pid=12374)\u001b[0m Make environment VectorIncrement-v0 None {}\n",
      "\u001b[2m\u001b[36m(pid=12384)\u001b[0m Make environment VectorIncrement-v0 None {}\n",
      "\u001b[2m\u001b[36m(pid=12440)\u001b[0m Make environment VectorIncrement-v0 None {}\n",
      "\u001b[2m\u001b[36m(pid=12401)\u001b[0m Make environment VectorIncrement-v0 None {}\n"
     ]
    },
    {
     "data": {
      "application/vnd.jupyter.widget-view+json": {
       "model_id": "4a6879ad38244adc9c3559bdc46bb334",
       "version_major": 2,
       "version_minor": 0
      },
      "text/plain": [
       "HBox(children=(HTML(value='Initial buffer fill'), FloatProgress(value=0.0, max=100000.0), HTML(value='')))"
      ]
     },
     "metadata": {},
     "output_type": "display_data"
    },
    {
     "name": "stdout",
     "output_type": "stream",
     "text": [
      "\u001b[2m\u001b[36m(pid=12410)\u001b[0m Make environment VectorIncrement-v0 None {}\n"
     ]
    },
    {
     "name": "stderr",
     "output_type": "stream",
     "text": [
      "WARNING:root:Computed std for obs: [[0.24079241 0.66581666 0.24079241 0.         0.2403024  0.67298675\n",
      "  0.2403024  0.         0.2393224  0.67152673 0.2393224  0.\n",
      "  0.24321243 0.6725167  0.24321243 0.         0.24172242 0.67016673\n",
      "  0.24172242]\n",
      " [0.4615746  0.31780317 0.6784168  0.         0.46928468 0.3105731\n",
      "  0.68570685 0.         0.4702447  0.3111931  0.6853269  0.\n",
      "  0.46620467 0.3107331  0.68587685 0.         0.46331462 0.31412315\n",
      "  0.6824368 ]\n",
      " [0.6821668  0.55856556 0.6821968  0.         0.6894169  0.55086553\n",
      "  0.6894269  0.         0.68874687 0.5504555  0.6888069  0.\n",
      "  0.6891769  0.55385554 0.6892669  0.         0.68583685 0.55580556\n",
      "  0.68587685]\n",
      " [0.60197604 0.31780317 0.5221552  0.         0.6104661  0.3105731\n",
      "  0.5284353  0.         0.6088261  0.3111931  0.5298753  0.\n",
      "  0.6068861  0.3107331  0.5288653  0.         0.6061361  0.31412315\n",
      "  0.52433527]\n",
      " [0.22438224 0.6657867  0.24079241 0.         0.22385223 0.67297673\n",
      "  0.2403024  0.         0.22198223 0.6714667  0.2393224  0.\n",
      "  0.22637226 0.6724267  0.24321243 0.         0.22597227 0.6701267\n",
      "  0.24172242]] [[0.42744085 0.47157502 0.42744085 1.         0.42725095 0.46939778\n",
      "  0.42725095 1.         0.42677364 0.4695126  0.42677364 1.\n",
      "  0.42904317 0.46944916 0.42904317 1.         0.42824847 0.4702028\n",
      "  0.42824847]\n",
      " [0.4983477  0.46562755 0.46718127 1.         0.49910504 0.46265575\n",
      "  0.46430877 1.         0.4990225  0.4630959  0.46433562 1.\n",
      "  0.4989087  0.46259052 0.46435666 1.         0.4986018  0.46435183\n",
      "  0.4655603 ]\n",
      " [0.46564263 0.49672782 0.46562755 1.         0.46265975 0.4972866\n",
      "  0.46265575 1.         0.4631221  0.4972293  0.4630959  1.\n",
      "  0.4626348  0.49712256 0.46259052 1.         0.46437004 0.49676582\n",
      "  0.46435183]\n",
      " [0.489479   0.46562755 0.49967548 1.         0.48779088 0.46265575\n",
      "  0.49929902 1.         0.48803824 0.4630959  0.49915984 1.\n",
      "  0.48839396 0.46259052 0.4991383  1.         0.48841894 0.46435183\n",
      "  0.4996451 ]\n",
      " [0.4173633  0.47159955 0.42744085 1.         0.41677082 0.4694015\n",
      "  0.42725095 1.         0.4154038  0.46976292 0.42677364 1.\n",
      "  0.41826892 0.46948856 0.42904317 1.         0.41806796 0.4702105\n",
      "  0.42824847]]\n"
     ]
    },
    {
     "name": "stdout",
     "output_type": "stream",
     "text": [
      "\n"
     ]
    },
    {
     "name": "stderr",
     "output_type": "stream",
     "text": [
      "WARNING:root:Computed std for rew_y: 0.5232033133506775 0.4508725106716156\n",
      "WARNING:root:Computed std for done_y: 0.11112111061811447 0.31428202986717224\n",
      "WARNING:root:Computed std for reward_to_go: 2.749072790145874 1.6329272985458374\n"
     ]
    },
    {
     "data": {
      "application/vnd.jupyter.widget-view+json": {
       "model_id": "f55093312bef4a1388b7d3d13a54d34e",
       "version_major": 2,
       "version_minor": 0
      },
      "text/plain": [
       "HBox(children=(HTML(value='Initial buffer fill'), FloatProgress(value=0.0, max=100000.0), HTML(value='')))"
      ]
     },
     "metadata": {},
     "output_type": "display_data"
    },
    {
     "name": "stderr",
     "output_type": "stream",
     "text": [
      "WARNING:root:Skipping setting old config...\n",
      "ERROR:root:Cannot collect data Use collect_and_get_context\n",
      "WARNING:root:No class provided for trainable value_predictor\n",
      "WARNING:root:No class provided for trainable causal_feature_model_discriminator\n",
      "WARNING:root:No class provided for trainable decoder_discriminator\n",
      "WARNING:root:No class provided for trainable non_sparse_model\n",
      "WARNING:root:No class provided for trainable causal_feature_action_model_discriminator\n"
     ]
    },
    {
     "name": "stdout",
     "output_type": "stream",
     "text": [
      "\n",
      "[False, False, False, False]\n",
      "[26, 100, 50, 10, 1] 10\n",
      "[False, False, False, False, False]\n",
      "[95, 128, 64, 64, 64, 1] 8\n",
      "[False, False, False, False]\n",
      "[8, 128, 64, 32, 1] 95\n"
     ]
    }
   ],
   "source": [
    "f = open(gin.query_parameter('Config.load_checkpoint') + '/checkpoint', 'rb')\n",
    "#l = CPU_Unpickler(f).load()\n",
    "l = pickle.load(f)"
   ]
  },
  {
   "cell_type": "code",
   "execution_count": null,
   "id": "caroline-spyware",
   "metadata": {},
   "outputs": [],
   "source": []
  },
  {
   "cell_type": "code",
   "execution_count": 6,
   "id": "permanent-least",
   "metadata": {},
   "outputs": [],
   "source": [
    "losses = l.config.get('losses')\n",
    "execution = {key: (losses[key]['fcn'], losses[key]['coeff']) for key in l.config.get('execution')['opt1']}"
   ]
  },
  {
   "cell_type": "code",
   "execution_count": 7,
   "id": "stainless-aquatic",
   "metadata": {},
   "outputs": [
    {
     "data": {
      "text/plain": [
       "1408999"
      ]
     },
     "execution_count": 7,
     "metadata": {},
     "output_type": "execute_result"
    }
   ],
   "source": [
    "np.sum([np.prod(x.shape) for x in l.params_for_optimizers['opt1']])"
   ]
  },
  {
   "cell_type": "code",
   "execution_count": 26,
   "id": "leading-oakland",
   "metadata": {},
   "outputs": [],
   "source": [
    "losses_vals = {}\n",
    "grads = {}\n",
    "\n",
    "def get_grads():\n",
    "    grads_now = []\n",
    "    for p in l.params_for_optimizers['opt1']:\n",
    "        grads_now.append(p.grad)\n",
    "    return [x.clone() for x in grads_now]"
   ]
  },
  {
   "cell_type": "code",
   "execution_count": 27,
   "id": "formed-plaintiff",
   "metadata": {},
   "outputs": [
    {
     "name": "stdout",
     "output_type": "stream",
     "text": [
      "fit 82.27526092529297\n",
      "sparsity 65.08255004882812\n",
      "fit_all_on 47.05629348754883\n",
      "reconstruction 12.040839195251465\n",
      "fit_all_half 82.28622436523438\n"
     ]
    }
   ],
   "source": [
    "ctx = l.collect_and_get_context()\n",
    "for key, (loss, coeff) in execution.items():\n",
    "    loss_local_cache = {}\n",
    "\n",
    "    l.optimizer_objects['opt1'].zero_grad()\n",
    "    \n",
    "    loss_value = loss(**ctx, loss_local_cache=loss_local_cache)\n",
    "    print(key, loss_value['loss'].item())\n",
    "    loss_value['loss'].backward()\n",
    "    losses_vals[key] = loss_value['loss'].item()\n",
    "    grads[key] = get_grads()\n",
    "#     l.optimizer_objects['opt1'].zero_grad()\n",
    "#     l.optimizer_objects['opt1'].step()"
   ]
  },
  {
   "cell_type": "code",
   "execution_count": 41,
   "id": "cosmetic-agriculture",
   "metadata": {},
   "outputs": [],
   "source": [
    "def tensor_list_shape(lst):\n",
    "    return [x.shape for x in lst]\n",
    "\n",
    "def tensor_list_flatten(lst):\n",
    "    return torch.cat([x.flatten() for x in lst])\n",
    "\n",
    "def tensor_list_unflatten(t, shape):\n",
    "    tensors = []\n",
    "    used_n = 0\n",
    "    \n",
    "    for s in shape:\n",
    "        curr_n = np.prod([int(t) for t in s])\n",
    "        \n",
    "        tensors.append(t[used_n:used_n+curr_n].reshape(s))\n",
    "        \n",
    "        used_n += curr_n\n",
    "    \n",
    "    return tensors"
   ]
  },
  {
   "cell_type": "code",
   "execution_count": 46,
   "id": "tropical-netherlands",
   "metadata": {},
   "outputs": [],
   "source": [
    "grad_shape = tensor_list_shape(list(grads.values())[0])"
   ]
  },
  {
   "cell_type": "code",
   "execution_count": 50,
   "id": "express-skill",
   "metadata": {},
   "outputs": [],
   "source": [
    "grads_flat = {key: tensor_list_flatten(val) for key, val in grads.items()}"
   ]
  },
  {
   "cell_type": "code",
   "execution_count": null,
   "id": "embedded-albany",
   "metadata": {},
   "outputs": [],
   "source": []
  },
  {
   "cell_type": "code",
   "execution_count": 44,
   "id": "viral-poland",
   "metadata": {},
   "outputs": [],
   "source": [
    "# tensor_list_unflatten(tensor_list_flatten(grads['fit']), tensor_list_shape(grads['fit']))"
   ]
  },
  {
   "cell_type": "code",
   "execution_count": 28,
   "id": "canadian-balance",
   "metadata": {},
   "outputs": [
    {
     "name": "stdout",
     "output_type": "stream",
     "text": [
      "fit [3.1575803756713867, 1.3072092533111572, 16.386396408081055, 12.420012474060059, 2.912383556365967, 19.64764404296875, 5.374879837036133, 13.120229721069336, 9.802406311035156, 5.946949005126953, 2.13551664352417, 3.715576171875, 0.3917442858219147, 2.9974591732025146, 0.4960017204284668, 2.398162603378296, 0.6948057413101196, 2.164566993713379, 0.9753317832946777, 3.203207015991211, 2.051476240158081, 0.6486425399780273, 0.46315035223960876, 0.9855722188949585, 0.4878474473953247, 1.285287857055664, 0.28895869851112366, 2.6879374980926514, 0.36569875478744507, 11.045938491821289, 0.801618218421936, 1.7746752500534058, 1.8787730932235718]\n",
      "sparsity [0.0, 0.0, 11.401754379272461, 0.0, 0.0, 0.0, 0.0, 0.0, 0.0, 0.0, 0.0, 0.0, 0.0, 0.0, 0.0, 0.0, 0.0, 0.0, 0.0, 0.0, 0.0, 0.0, 0.0, 0.0, 0.0, 0.0, 0.0, 0.0, 0.0, 0.0, 0.0, 0.0, 0.0]\n",
      "fit_all_on [2.6835525035858154, 1.5515586137771606, 0.0, 21.306848526000977, 3.59352707862854, 35.542903900146484, 7.13682746887207, 25.3300724029541, 15.434659004211426, 9.632181167602539, 2.5555224418640137, 6.0151286125183105, 0.5997070670127869, 4.292614936828613, 0.7819345593452454, 3.0840067863464355, 0.9554489254951477, 2.5924670696258545, 1.2008315324783325, 3.8624467849731445, 2.486520290374756, 0.9208316802978516, 0.6668434739112854, 1.8249455690383911, 0.8540454506874084, 1.9579564332962036, 0.42564159631729126, 3.5774500370025635, 0.5270514488220215, 9.771796226501465, 1.5497177839279175, 2.1579532623291016, 4.746251583099365]\n",
      "reconstruction [0.0, 0.0, 0.0, 0.0, 0.0, 0.0, 0.0, 0.0, 0.0, 0.0, 0.0, 5.531598091125488, 0.46351736783981323, 4.070653915405273, 0.5368203520774841, 2.149341583251953, 0.5518556237220764, 1.563644528388977, 0.5690791010856628, 1.7389023303985596, 5.980414243822452e-06, 0.8386173248291016, 0.34025853872299194, 1.4980605840682983, 0.7715042233467102, 2.054666519165039, 0.4618745744228363, 6.773192405700684, 0.6550044417381287, 22.191457748413086, 1.9664562940597534, 1.628962755203247, 2.453333616256714]\n",
      "fit_all_half [3.1344869136810303, 1.7277686595916748, 0.0, 12.665679931640625, 2.8671631813049316, 21.33088493347168, 5.692940711975098, 14.838735580444336, 9.423912048339844, 6.544867038726807, 2.137962579727173, 3.356623888015747, 0.3790397346019745, 2.7918100357055664, 0.5010531544685364, 2.2522659301757812, 0.6657547354698181, 2.058210611343384, 0.9095699787139893, 3.2023472785949707, 2.0537161827087402, 0.5513739585876465, 0.5271725058555603, 0.9913756847381592, 0.5122837424278259, 1.310219168663025, 0.2921513617038727, 2.6716959476470947, 0.35755655169487, 10.990653991699219, 0.7898766398429871, 1.6648072004318237, 2.199437379837036]\n"
     ]
    }
   ],
   "source": [
    "for key, g in grads.items():\n",
    "    print(key, [torch.norm(z).item() for z in g])"
   ]
  },
  {
   "cell_type": "code",
   "execution_count": null,
   "id": "contemporary-neutral",
   "metadata": {},
   "outputs": [],
   "source": []
  }
 ],
 "metadata": {
  "kernelspec": {
   "display_name": "Python 3",
   "language": "python",
   "name": "python3"
  },
  "language_info": {
   "codemirror_mode": {
    "name": "ipython",
    "version": 3
   },
   "file_extension": ".py",
   "mimetype": "text/x-python",
   "name": "python",
   "nbconvert_exporter": "python",
   "pygments_lexer": "ipython3",
   "version": "3.7.9"
  }
 },
 "nbformat": 4,
 "nbformat_minor": 5
}
