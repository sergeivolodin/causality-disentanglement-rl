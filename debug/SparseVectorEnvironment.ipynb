{
 "cells": [
  {
   "cell_type": "code",
   "execution_count": 75,
   "metadata": {
    "ExecuteTime": {
     "end_time": "2020-09-25T17:20:25.593381Z",
     "start_time": "2020-09-25T17:20:25.587515Z"
    }
   },
   "outputs": [],
   "source": [
    "import os\n",
    "os.environ['CUDA_VISIBLE_DEVICES'] = \"-1\"\n",
    "import tensorflow as tf\n",
    "tf.compat.v1.disable_eager_execution()\n",
    "import gin\n",
    "import numpy as np\n",
    "import torch\n",
    "import torch.nn as nn\n",
    "from matplotlib import pyplot as plt\n",
    "from tqdm import tqdm\n",
    "import seaborn as sns\n",
    "from vectorincrement.vectorincrementenv import SparseMatrixEnvironment\n",
    "from vectorincrement.observation_encoder import KerasEncoder, KerasEncoderWrapper, linear_encoder_unbiased_normal\n",
    "from helpers import EnvDataCollector\n",
    "from gym.wrappers import TimeLimit"
   ]
  },
  {
   "cell_type": "code",
   "execution_count": 76,
   "metadata": {
    "ExecuteTime": {
     "end_time": "2020-09-25T17:20:38.060907Z",
     "start_time": "2020-09-25T17:20:38.057120Z"
    }
   },
   "outputs": [],
   "source": [
    "# state dim\n",
    "n = 5\n",
    "\n",
    "# obs dim\n",
    "k = 100\n",
    "\n",
    "# features dim\n",
    "f = 5\n",
    "\n",
    "# number of steps to generate\n",
    "n_steps = 10000"
   ]
  },
  {
   "cell_type": "code",
   "execution_count": 77,
   "metadata": {
    "ExecuteTime": {
     "end_time": "2020-09-25T17:20:38.559534Z",
     "start_time": "2020-09-25T17:20:38.555456Z"
    }
   },
   "outputs": [],
   "source": [
    "gin.bind_parameter(\"KerasEncoder.model_callable\", linear_encoder_unbiased_normal)\n",
    "gin.bind_parameter(\"KerasEncoder.out_shape\", (k,))"
   ]
  },
  {
   "cell_type": "code",
   "execution_count": 78,
   "metadata": {
    "ExecuteTime": {
     "end_time": "2020-09-25T17:20:45.667029Z",
     "start_time": "2020-09-25T17:20:45.602940Z"
    }
   },
   "outputs": [
    {
     "name": "stdout",
     "output_type": "stream",
     "text": [
      "Warning: creating a new encoder\n"
     ]
    }
   ],
   "source": [
    "env = SparseMatrixEnvironment(n=n)\n",
    "env = TimeLimit(env, 1000)\n",
    "env = KerasEncoderWrapper(env)\n",
    "env = EnvDataCollector(env)"
   ]
  },
  {
   "cell_type": "code",
   "execution_count": 79,
   "metadata": {
    "ExecuteTime": {
     "end_time": "2020-09-25T17:20:48.876139Z",
     "start_time": "2020-09-25T17:20:48.873324Z"
    }
   },
   "outputs": [],
   "source": [
    "A = env.env.env.A"
   ]
  },
  {
   "cell_type": "code",
   "execution_count": 80,
   "metadata": {
    "ExecuteTime": {
     "end_time": "2020-09-25T17:20:49.178334Z",
     "start_time": "2020-09-25T17:20:49.173285Z"
    }
   },
   "outputs": [
    {
     "data": {
      "text/plain": [
       "array([False, False,  True, False, False])"
      ]
     },
     "execution_count": 80,
     "metadata": {},
     "output_type": "execute_result"
    }
   ],
   "source": [
    "np.where(A)[0] == np.where(A)[1]"
   ]
  },
  {
   "cell_type": "code",
   "execution_count": 81,
   "metadata": {
    "ExecuteTime": {
     "end_time": "2020-09-25T17:22:26.293744Z",
     "start_time": "2020-09-25T17:22:15.084124Z"
    }
   },
   "outputs": [],
   "source": [
    "# collecting data\n",
    "while env.steps < n_steps:\n",
    "    done = False\n",
    "    env.reset()\n",
    "    while not done:\n",
    "        _, _, done, _ = env.step(env.action_space.sample())\n",
    "    \n",
    "env.flush()"
   ]
  },
  {
   "cell_type": "code",
   "execution_count": 83,
   "metadata": {
    "ExecuteTime": {
     "end_time": "2020-09-25T17:23:07.439701Z",
     "start_time": "2020-09-25T17:23:07.422953Z"
    }
   },
   "outputs": [],
   "source": [
    "observations = [np.array([step['observation'] for step in rollout]) for rollout in env.rollouts]"
   ]
  },
  {
   "cell_type": "code",
   "execution_count": 86,
   "metadata": {
    "ExecuteTime": {
     "end_time": "2020-09-25T17:23:21.555216Z",
     "start_time": "2020-09-25T17:23:21.550411Z"
    }
   },
   "outputs": [
    {
     "data": {
      "text/plain": [
       "10"
      ]
     },
     "execution_count": 86,
     "metadata": {},
     "output_type": "execute_result"
    }
   ],
   "source": [
    "len(observations)"
   ]
  },
  {
   "cell_type": "code",
   "execution_count": 87,
   "metadata": {
    "ExecuteTime": {
     "end_time": "2020-09-25T17:23:21.694247Z",
     "start_time": "2020-09-25T17:23:21.689006Z"
    }
   },
   "outputs": [],
   "source": [
    "class LinearNet(nn.Module):\n",
    "    \"\"\"Linear neural network.\"\"\"\n",
    "    \n",
    "    def __init__(self, inp_dim, out_dim):\n",
    "        super(LinearNet, self).__init__()\n",
    "        self.fc1 = nn.Linear(in_features=inp_dim, out_features=out_dim,\n",
    "                           bias=False)\n",
    "        \n",
    "    def forward(self, x):\n",
    "        return self.fc1(x)"
   ]
  },
  {
   "cell_type": "code",
   "execution_count": 89,
   "metadata": {
    "ExecuteTime": {
     "end_time": "2020-09-25T17:23:58.496996Z",
     "start_time": "2020-09-25T17:23:58.489156Z"
    }
   },
   "outputs": [],
   "source": [
    "def reconstruction_loss(obss, decoder, reconstructor):\n",
    "    \"\"\"Ensure that the decoder is not degenerate by fitting a reconstructor.\"\"\"\n",
    "    mse = torch.nn.MSELoss()\n",
    "    return mse(reconstructor(decoder(obss)), obss)\n",
    "\n",
    "def reconstruction_loss_norm(reconstructor):\n",
    "    \"\"\"Ensure that the decoder is not degenerate (inverse norm not too high).\"\"\"\n",
    "    regularization_loss = 0\n",
    "    for param in reconstructor.parameters():\n",
    "        regularization_loss += torch.sum(torch.square(param))\n",
    "    return regularization_loss\n",
    "\n",
    "def fit_loss(obss, obss_prev, decoder, model):\n",
    "    \"\"\"Ensure that the model fits the features data.\"\"\"\n",
    "    mse = torch.nn.MSELoss()\n",
    "    \n",
    "    return mse(model(decoder(obss_prevv)), decoder(obss))\n",
    "\n",
    "def sparsity_loss(model):\n",
    "    \"\"\"Ensure that the model is sparse.\"\"\"\n",
    "    regularization_loss = 0\n",
    "    for param in model.parameters():\n",
    "        regularization_loss += torch.sum(torch.abs(param))\n",
    "    return regularization_loss"
   ]
  },
  {
   "cell_type": "code",
   "execution_count": 91,
   "metadata": {
    "ExecuteTime": {
     "end_time": "2020-09-25T17:24:26.753292Z",
     "start_time": "2020-09-25T17:24:26.740478Z"
    }
   },
   "outputs": [],
   "source": [
    "def losses(obss_torch, obss_prev_torch, decoder, reconstructor, model, rn_threshold=100):\n",
    "    \"\"\"Compute all losses ob observations.\"\"\"\n",
    "    res = {}\n",
    "    res['r'] = reconstruction_loss(obss_torch, decoder, reconstructor)\n",
    "    res['f'] = fit_loss(obss_torch, obss_prev_torch, decoder, model)\n",
    "    res['s'] = sparsity_loss(model)\n",
    "    res['rn'] = reconstruction_loss_norm(reconstructor)\n",
    "    if res['rn'] < rn_threshold:\n",
    "        res['rn'] = torch.from_numpy(np.array(rn_threshold))\n",
    "    return res\n",
    "\n",
    "def total_loss(losses_, hypers):\n",
    "    \"\"\"Compute total loss.\"\"\"\n",
    "    loss = 0.0\n",
    "    for key in losses_.keys():\n",
    "        loss += hypers[key] * losses_[key]\n",
    "    return loss\n",
    "\n",
    "def lstdct2dctlst(lst):\n",
    "    \"\"\"List of dictionaries -> dict of lists.\"\"\"\n",
    "    keys = lst[0].keys()\n",
    "    result = {k: [] for k in keys}\n",
    "    for item in lst:\n",
    "        for k, v in item.items():\n",
    "            result[k].append(v)\n",
    "    return result\n",
    "\n",
    "def epoch(obss_torch, obss_prev_torch, optimizer, decoder, reconstructor, model, hypers):\n",
    "    \"\"\"One optimization epoch.\"\"\"\n",
    "    optimizer.zero_grad()\n",
    "    L = losses(obss_torch, decoder, reconstructor, model)\n",
    "    loss = total_loss(L, hypers)\n",
    "    loss.backward()\n",
    "    optimizer.step()\n",
    "    L['total'] = loss\n",
    "    return {x: y.item() for x, y in L.items()}\n",
    "\n",
    "def metrics(decoder, reconstructor, model, hypers):\n",
    "    m = {}\n",
    "    m['nnz'] = np.sum(np.abs(list(model.parameters())[0].detach().numpy().flatten()) > 1e-2)\n",
    "    m['hyper_s'] = hypers['s']\n",
    "    return m"
   ]
  },
  {
   "cell_type": "markdown",
   "metadata": {
    "ExecuteTime": {
     "end_time": "2020-09-24T20:41:31.911064Z",
     "start_time": "2020-09-24T20:41:31.907443Z"
    }
   },
   "source": [
    "#### Optimizing via total loss over the whole data"
   ]
  },
  {
   "cell_type": "code",
   "execution_count": null,
   "metadata": {},
   "outputs": [],
   "source": [
    "observations = "
   ]
  },
  {
   "cell_type": "code",
   "execution_count": null,
   "metadata": {},
   "outputs": [],
   "source": []
  },
  {
   "cell_type": "code",
   "execution_count": null,
   "metadata": {},
   "outputs": [],
   "source": []
  },
  {
   "cell_type": "code",
   "execution_count": 56,
   "metadata": {
    "ExecuteTime": {
     "end_time": "2020-09-25T17:14:36.441523Z",
     "start_time": "2020-09-25T17:14:36.433729Z"
    }
   },
   "outputs": [],
   "source": [
    "def fit_on_observations(observations, model, decoder, reconstructor, hypers):\n",
    "    \"\"\"Fit model/decoder/reconstructor on observations\"\"\"\n",
    "    # converting observations to torch\n",
    "    obss_torch = torch.from_numpy(np.array(observations, dtype=np.float32))\n",
    "\n",
    "    all_parameters = list(model.parameters()) + list(decoder.parameters()) + list(reconstructor.parameters())\n",
    "    optimizer = torch.optim.Adam(all_parameters, lr=hypers['lr'])\n",
    "\n",
    "    # training\n",
    "    last_hyper_adjustment = -1\n",
    "    suggested_hyper = None\n",
    "    results = []\n",
    "    for i in tqdm(range(hypers['epochs'])):\n",
    "        e = epoch(obss_torch, optimizer, decoder, reconstructor, model, hypers)\n",
    "        e.update(metrics(decoder, reconstructor, model, hypers))\n",
    "        results.append(e)\n",
    "\n",
    "        if hypers['hyper_do_update']:\n",
    "            if e['r'] + e['f'] > hypers['rf_threshold']:\n",
    "                if hypers['s'] > hypers['s_min']:\n",
    "                    suggested_hyper = hypers['s'] * hypers['s_decreaser']\n",
    "            else:\n",
    "                if hypers['s'] < hypers['s_max']:\n",
    "                    suggested_hyper = hypers['s'] / hypers['s_decreaser']\n",
    "\n",
    "            if i - last_hyper_adjustment >= hypers['hyper_freeze_steps'] and suggested_hyper is not None:\n",
    "                hypers['s'] = suggested_hyper\n",
    "                last_hyper_adjustment = i\n",
    "            \n",
    "    return results"
   ]
  },
  {
   "cell_type": "code",
   "execution_count": 72,
   "metadata": {
    "ExecuteTime": {
     "end_time": "2020-09-25T17:18:56.540373Z",
     "start_time": "2020-09-25T17:18:56.528745Z"
    },
    "code_folding": [],
    "scrolled": true
   },
   "outputs": [],
   "source": [
    "def plot_losses_and_model(results, model):\n",
    "    \"\"\"Plot loss curves and the weight heatmap.\"\"\"\n",
    "    # plotting\n",
    "    plt.figure(figsize=(16, 5))\n",
    "    for i, (k_, v) in enumerate(lstdct2dctlst(results).items()):\n",
    "        plt.subplot(1, len(results[0]) + 1, i + 1)\n",
    "        plt.xlabel('epoch')\n",
    "        plt.title(k_)\n",
    "        plt.axhline(0)\n",
    "        ax = plt.gca()\n",
    "        plt.yscale('log')\n",
    "        ax.tick_params(axis=\"y\", direction=\"in\", pad=-30)\n",
    "        plt.plot(v)\n",
    "\n",
    "    plt.subplot(1, len(results[0]) + 1, len(results[0]) + 1)\n",
    "    plt.title(\"Weights heatmap\")\n",
    "    sns.heatmap(list(model.parameters())[0].detach().numpy())"
   ]
  },
  {
   "cell_type": "code",
   "execution_count": 58,
   "metadata": {
    "ExecuteTime": {
     "end_time": "2020-09-25T17:14:37.138016Z",
     "start_time": "2020-09-25T17:14:37.132426Z"
    }
   },
   "outputs": [],
   "source": [
    "# creating models\n",
    "decoder = LinearNet(inp_dim=k, out_dim=f)\n",
    "reconstructor = LinearNet(inp_dim=f, out_dim=k)\n",
    "model = LinearNet(inp_dim=f, out_dim=f)"
   ]
  },
  {
   "cell_type": "code",
   "execution_count": 59,
   "metadata": {
    "ExecuteTime": {
     "end_time": "2020-09-25T17:14:37.442226Z",
     "start_time": "2020-09-25T17:14:37.437031Z"
    }
   },
   "outputs": [
    {
     "data": {
      "text/plain": [
       "(100, 5, 1000)"
      ]
     },
     "execution_count": 59,
     "metadata": {},
     "output_type": "execute_result"
    }
   ],
   "source": [
    "hypers_dry = {'r': 0.1, 'f': 0.2, 's': 0.0, 'rn': 0.0, 'lr': 1e-3, 'epochs': 5000,\n",
    "              'hyper_do_update': False,\n",
    "             }\n",
    "k, f, len(observations)"
   ]
  },
  {
   "cell_type": "code",
   "execution_count": 60,
   "metadata": {
    "ExecuteTime": {
     "end_time": "2020-09-25T17:14:50.601880Z",
     "start_time": "2020-09-25T17:14:40.256385Z"
    }
   },
   "outputs": [
    {
     "name": "stderr",
     "output_type": "stream",
     "text": [
      "100%|██████████| 5000/5000 [00:10<00:00, 483.71it/s]\n"
     ]
    }
   ],
   "source": [
    "results_dry = fit_on_observations(observations, model, decoder, reconstructor, hypers_dry)"
   ]
  },
  {
   "cell_type": "code",
   "execution_count": 31,
   "metadata": {
    "ExecuteTime": {
     "end_time": "2020-09-25T17:08:47.729851Z",
     "start_time": "2020-09-25T17:08:46.497580Z"
    }
   },
   "outputs": [
    {
     "data": {
      "image/png": "[encoded data removed]",
      "text/plain": [
       "<Figure size 1152x360 with 9 Axes>"
      ]
     },
     "metadata": {
      "needs_background": "light"
     },
     "output_type": "display_data"
    }
   ],
   "source": [
    "plot_losses_and_model(results_dry, model)"
   ]
  },
  {
   "cell_type": "code",
   "execution_count": 66,
   "metadata": {
    "ExecuteTime": {
     "end_time": "2020-09-25T17:16:13.686007Z",
     "start_time": "2020-09-25T17:16:13.677732Z"
    }
   },
   "outputs": [
    {
     "data": {
      "text/plain": [
       "(100, 5, 1000)"
      ]
     },
     "execution_count": 66,
     "metadata": {},
     "output_type": "execute_result"
    }
   ],
   "source": [
    "hypers = {'r': 0.1, 'f': 0.2, 's': 1e-10, 'rn': 0.0001, 'lr': 1e-3,\n",
    "          'rf_threshold': 100 * (results_dry[-1]['r'] + results_dry[-1]['f']),\n",
    "          'epochs': 10000,\n",
    "          's_min': 1e-10, 's_max': 10,\n",
    "          's_decreaser': 0.5,\n",
    "          'hyper_freeze_steps': 100,\n",
    "          'hyper_do_update': True\n",
    "         }\n",
    "k, f, len(observations)"
   ]
  },
  {
   "cell_type": "code",
   "execution_count": 67,
   "metadata": {
    "ExecuteTime": {
     "end_time": "2020-09-25T17:16:13.974165Z",
     "start_time": "2020-09-25T17:16:13.970045Z"
    }
   },
   "outputs": [],
   "source": [
    "# creating models\n",
    "decoder = LinearNet(inp_dim=k, out_dim=f)\n",
    "reconstructor = LinearNet(inp_dim=f, out_dim=k)\n",
    "model = LinearNet(inp_dim=f, out_dim=f)"
   ]
  },
  {
   "cell_type": "code",
   "execution_count": 69,
   "metadata": {
    "ExecuteTime": {
     "end_time": "2020-09-25T17:17:57.815701Z",
     "start_time": "2020-09-25T17:17:37.208822Z"
    }
   },
   "outputs": [
    {
     "name": "stderr",
     "output_type": "stream",
     "text": [
      " 94%|█████████▍| 9434/10000 [00:19<00:01, 524.29it/s]"
     ]
    },
    {
     "data": {
      "text/html": [
       "<b>limit_output extension: Maximum message size of 10000 exceeded with 10009 characters</b>"
      ]
     },
     "metadata": {},
     "output_type": "display_data"
    }
   ],
   "source": [
    "results = fit_on_observations(observations, model, decoder, reconstructor, hypers)"
   ]
  },
  {
   "cell_type": "code",
   "execution_count": 74,
   "metadata": {
    "ExecuteTime": {
     "end_time": "2020-09-25T17:19:06.165929Z",
     "start_time": "2020-09-25T17:19:03.590172Z"
    }
   },
   "outputs": [
    {
     "name": "stderr",
     "output_type": "stream",
     "text": [
      "/home/sergei/miniconda3/envs/ml/lib/python3.7/site-packages/ipykernel_launcher.py:11: UserWarning: Data has no positive values, and therefore cannot be log-scaled.\n",
      "  # This is added back by InteractiveShellApp.init_path()\n"
     ]
    },
    {
     "data": {
      "image/png": "[encoded data removed]",
      "text/plain": [
       "<Figure size 1152x360 with 9 Axes>"
      ]
     },
     "metadata": {
      "needs_background": "light"
     },
     "output_type": "display_data"
    }
   ],
   "source": [
    "plot_losses_and_model(results, model)"
   ]
  },
  {
   "cell_type": "code",
   "execution_count": 71,
   "metadata": {
    "ExecuteTime": {
     "end_time": "2020-09-25T17:17:59.103829Z",
     "start_time": "2020-09-25T17:17:59.097355Z"
    }
   },
   "outputs": [
    {
     "data": {
      "text/plain": [
       "{'r': 2.1763635338345466e-09,\n",
       " 'f': 1.2383853231767716e-07,\n",
       " 's': 4.720606327056885,\n",
       " 'rn': 100,\n",
       " 'total': 0.010015493258833885,\n",
       " 'nnz': 6,\n",
       " 'hyper_s': 3.2768e-06}"
      ]
     },
     "execution_count": 71,
     "metadata": {},
     "output_type": "execute_result"
    }
   ],
   "source": [
    "results[-1]"
   ]
  },
  {
   "cell_type": "code",
   "execution_count": null,
   "metadata": {},
   "outputs": [],
   "source": []
  }
 ],
 "metadata": {
  "kernelspec": {
   "display_name": "Python 3",
   "language": "python",
   "name": "python3"
  },
  "language_info": {
   "codemirror_mode": {
    "name": "ipython",
    "version": 3
   },
   "file_extension": ".py",
   "mimetype": "text/x-python",
   "name": "python",
   "nbconvert_exporter": "python",
   "pygments_lexer": "ipython3",
   "version": "3.7.7"
  }
 },
 "nbformat": 4,
 "nbformat_minor": 4
}
