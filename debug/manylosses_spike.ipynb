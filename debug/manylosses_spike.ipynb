{
 "cells": [
  {
   "cell_type": "code",
   "execution_count": 1,
   "metadata": {},
   "outputs": [],
   "source": [
    "import os\n",
    "os.environ['CUDA_VISIBLE_DEVICES'] = \"0\"\n",
    "import torch\n",
    "from torch import nn\n",
    "import numpy as np\n",
    "from tqdm.auto import tqdm\n",
    "import pandas as pd\n",
    "from matplotlib import pyplot as plt"
   ]
  },
  {
   "cell_type": "code",
   "execution_count": 2,
   "metadata": {},
   "outputs": [],
   "source": [
    "device = torch.device('cuda')"
   ]
  },
  {
   "cell_type": "code",
   "execution_count": 3,
   "metadata": {},
   "outputs": [],
   "source": [
    "x = torch.randn(100, requires_grad=True, device=device)\n",
    "y = torch.randn(100, requires_grad=True, device=device)"
   ]
  },
  {
   "cell_type": "code",
   "execution_count": 4,
   "metadata": {},
   "outputs": [],
   "source": [
    "opt = torch.optim.Adam([x, y], lr=1e-3)"
   ]
  },
  {
   "cell_type": "code",
   "execution_count": 5,
   "metadata": {},
   "outputs": [],
   "source": [
    "def loss1():\n",
    "    return x.pow(2).sum()\n",
    "\n",
    "def loss2():\n",
    "    return x.pow(2).sum()\n",
    "\n",
    "# def loss():\n",
    "#     return loss1() + loss2()"
   ]
  },
  {
   "cell_type": "code",
   "execution_count": 6,
   "metadata": {},
   "outputs": [],
   "source": [
    "losses1 = []\n",
    "losses2 = []\n",
    "losses = []\n",
    "coeffs1 = []\n",
    "coeffs2 = []"
   ]
  },
  {
   "cell_type": "code",
   "execution_count": 7,
   "metadata": {},
   "outputs": [
    {
     "data": {
      "text/plain": [
       "0.07512941194887635"
      ]
     },
     "execution_count": 7,
     "metadata": {},
     "output_type": "execute_result"
    }
   ],
   "source": [
    "np.random.rand()"
   ]
  },
  {
   "cell_type": "code",
   "execution_count": 8,
   "metadata": {},
   "outputs": [
    {
     "data": {
      "application/vnd.jupyter.widget-view+json": {
       "model_id": "9a0b78bcfa0b4436b452de79e750b9fe",
       "version_major": 2,
       "version_minor": 0
      },
      "text/plain": [
       "HBox(children=(HTML(value=''), FloatProgress(value=0.0, max=50000.0), HTML(value='')))"
      ]
     },
     "metadata": {},
     "output_type": "display_data"
    },
    {
     "name": "stdout",
     "output_type": "stream",
     "text": [
      "\n"
     ]
    }
   ],
   "source": [
    "for i in tqdm(range(50000)):\n",
    "    opt.zero_grad()\n",
    "    l1 = loss1()\n",
    "    l2 = loss2()\n",
    "    \n",
    "    coeff1 = 10 ** (np.random.rand() * 5 - 5)\n",
    "    coeff2 = 10 ** (np.random.rand() * 5 - 5)\n",
    "    \n",
    "    l = coeff1 * l1 + coeff2 * l2\n",
    "    l.backward()\n",
    "    opt.step()\n",
    "    \n",
    "    losses1.append(l1.item())\n",
    "    losses2.append(l2.item())\n",
    "    losses.append(l.item())\n",
    "    coeffs1.append(coeff1)\n",
    "    coeffs2.append(coeff2)"
   ]
  },
  {
   "cell_type": "code",
   "execution_count": 9,
   "metadata": {},
   "outputs": [
    {
     "data": {
      "image/png": "[encoded data removed]",
      "text/plain": [
       "<Figure size 720x360 with 5 Axes>"
      ]
     },
     "metadata": {
      "needs_background": "light"
     },
     "output_type": "display_data"
    }
   ],
   "source": [
    "plt.figure(figsize=(10, 5))\n",
    "\n",
    "plt.subplot(1, 5, 1)\n",
    "plt.title('loss1')\n",
    "plt.plot(losses1)\n",
    "plt.yscale('log')\n",
    "\n",
    "plt.subplot(1, 5, 2)\n",
    "plt.title('loss2')\n",
    "plt.plot(losses2)\n",
    "plt.yscale('log')\n",
    "\n",
    "plt.subplot(1, 5, 3)\n",
    "plt.title('loss')\n",
    "plt.plot(losses)\n",
    "plt.yscale('log')\n",
    "\n",
    "plt.subplot(1, 5, 4)\n",
    "plt.title('c1')\n",
    "plt.plot(coeffs1)\n",
    "plt.yscale('log')\n",
    "\n",
    "plt.subplot(1, 5, 5)\n",
    "plt.title('c5')\n",
    "plt.plot(coeffs2)\n",
    "plt.yscale('log')"
   ]
  },
  {
   "cell_type": "markdown",
   "metadata": {},
   "source": [
    "- Worse than without coeff change. reducing momentum..."
   ]
  },
  {
   "cell_type": "code",
   "execution_count": null,
   "metadata": {},
   "outputs": [],
   "source": []
  },
  {
   "cell_type": "code",
   "execution_count": 10,
   "metadata": {},
   "outputs": [],
   "source": [
    "x = torch.randn(100, requires_grad=True, device=device)\n",
    "y = torch.randn(100, requires_grad=True, device=device)"
   ]
  },
  {
   "cell_type": "code",
   "execution_count": 11,
   "metadata": {},
   "outputs": [],
   "source": [
    "opt = torch.optim.Adam([x, y], lr=1e-3, betas=(0.5, 0.5))"
   ]
  },
  {
   "cell_type": "code",
   "execution_count": 12,
   "metadata": {},
   "outputs": [],
   "source": [
    "def loss1():\n",
    "    return x.pow(2).sum()\n",
    "\n",
    "def loss2():\n",
    "    return x.pow(2).sum()\n",
    "\n",
    "# def loss():\n",
    "#     return loss1() + loss2()"
   ]
  },
  {
   "cell_type": "code",
   "execution_count": 13,
   "metadata": {},
   "outputs": [],
   "source": [
    "losses1 = []\n",
    "losses2 = []\n",
    "losses = []\n",
    "coeffs1 = []\n",
    "coeffs2 = []"
   ]
  },
  {
   "cell_type": "code",
   "execution_count": 14,
   "metadata": {},
   "outputs": [
    {
     "data": {
      "text/plain": [
       "0.9051577171943729"
      ]
     },
     "execution_count": 14,
     "metadata": {},
     "output_type": "execute_result"
    }
   ],
   "source": [
    "np.random.rand()"
   ]
  },
  {
   "cell_type": "code",
   "execution_count": 15,
   "metadata": {},
   "outputs": [
    {
     "data": {
      "application/vnd.jupyter.widget-view+json": {
       "model_id": "dca8ab4fab664ca0aadd6ca6db2c526b",
       "version_major": 2,
       "version_minor": 0
      },
      "text/plain": [
       "HBox(children=(HTML(value=''), FloatProgress(value=0.0, max=50000.0), HTML(value='')))"
      ]
     },
     "metadata": {},
     "output_type": "display_data"
    },
    {
     "name": "stdout",
     "output_type": "stream",
     "text": [
      "\n"
     ]
    }
   ],
   "source": [
    "for i in tqdm(range(50000)):\n",
    "    opt.zero_grad()\n",
    "    l1 = loss1()\n",
    "    l2 = loss2()\n",
    "    \n",
    "    coeff1 = 10 ** (np.random.rand() * 5 - 5)\n",
    "    coeff2 = 10 ** (np.random.rand() * 5 - 5)\n",
    "    \n",
    "    l = coeff1 * l1 + coeff2 * l2\n",
    "    l.backward()\n",
    "    opt.step()\n",
    "    \n",
    "    losses1.append(l1.item())\n",
    "    losses2.append(l2.item())\n",
    "    losses.append(l.item())\n",
    "    coeffs1.append(coeff1)\n",
    "    coeffs2.append(coeff2)"
   ]
  },
  {
   "cell_type": "code",
   "execution_count": 16,
   "metadata": {},
   "outputs": [
    {
     "data": {
      "image/png": "[encoded data removed]",
      "text/plain": [
       "<Figure size 720x360 with 5 Axes>"
      ]
     },
     "metadata": {
      "needs_background": "light"
     },
     "output_type": "display_data"
    }
   ],
   "source": [
    "plt.figure(figsize=(10, 5))\n",
    "\n",
    "plt.subplot(1, 5, 1)\n",
    "plt.title('loss1')\n",
    "plt.plot(losses1)\n",
    "plt.yscale('log')\n",
    "\n",
    "plt.subplot(1, 5, 2)\n",
    "plt.title('loss2')\n",
    "plt.plot(losses2)\n",
    "plt.yscale('log')\n",
    "\n",
    "plt.subplot(1, 5, 3)\n",
    "plt.title('loss')\n",
    "plt.plot(losses)\n",
    "plt.yscale('log')\n",
    "\n",
    "plt.subplot(1, 5, 4)\n",
    "plt.title('c1')\n",
    "plt.plot(coeffs1)\n",
    "plt.yscale('log')\n",
    "\n",
    "plt.subplot(1, 5, 5)\n",
    "plt.title('c5')\n",
    "plt.plot(coeffs2)\n",
    "plt.yscale('log')"
   ]
  },
  {
   "cell_type": "markdown",
   "metadata": {},
   "source": [
    "- approximately the same\n",
    "- trying related objectives (x-y) and (y)"
   ]
  },
  {
   "cell_type": "code",
   "execution_count": null,
   "metadata": {},
   "outputs": [],
   "source": []
  },
  {
   "cell_type": "code",
   "execution_count": 25,
   "metadata": {},
   "outputs": [],
   "source": [
    "device = torch.device('cuda')"
   ]
  },
  {
   "cell_type": "code",
   "execution_count": 33,
   "metadata": {},
   "outputs": [],
   "source": [
    "x = torch.randn(100, requires_grad=True, device=device)\n",
    "y = torch.randn(100, requires_grad=True, device=device)"
   ]
  },
  {
   "cell_type": "code",
   "execution_count": 34,
   "metadata": {},
   "outputs": [],
   "source": [
    "opt = torch.optim.Adam([x, y], lr=1e-3)"
   ]
  },
  {
   "cell_type": "code",
   "execution_count": 35,
   "metadata": {},
   "outputs": [],
   "source": [
    "def loss1():\n",
    "    return (x - y).pow(2).sum()\n",
    "\n",
    "def loss2():\n",
    "    return x.pow(2).sum()\n",
    "\n",
    "# def loss():\n",
    "#     return loss1() + loss2()"
   ]
  },
  {
   "cell_type": "code",
   "execution_count": 36,
   "metadata": {},
   "outputs": [],
   "source": [
    "losses1 = []\n",
    "losses2 = []\n",
    "losses = []\n",
    "coeffs1 = []\n",
    "coeffs2 = []"
   ]
  },
  {
   "cell_type": "code",
   "execution_count": 37,
   "metadata": {},
   "outputs": [
    {
     "data": {
      "text/plain": [
       "0.8310910868065706"
      ]
     },
     "execution_count": 37,
     "metadata": {},
     "output_type": "execute_result"
    }
   ],
   "source": [
    "np.random.rand()"
   ]
  },
  {
   "cell_type": "code",
   "execution_count": 38,
   "metadata": {},
   "outputs": [
    {
     "data": {
      "application/vnd.jupyter.widget-view+json": {
       "model_id": "54a150ee46374e16b10f58e6a6213a08",
       "version_major": 2,
       "version_minor": 0
      },
      "text/plain": [
       "HBox(children=(HTML(value=''), FloatProgress(value=0.0, max=50000.0), HTML(value='')))"
      ]
     },
     "metadata": {},
     "output_type": "display_data"
    },
    {
     "name": "stdout",
     "output_type": "stream",
     "text": [
      "\n"
     ]
    }
   ],
   "source": [
    "for i in tqdm(range(50000)):\n",
    "    opt.zero_grad()\n",
    "    l1 = loss1()\n",
    "    l2 = loss2()\n",
    "    \n",
    "    coeff1 = 10 ** (np.random.rand() * 5 - 5)\n",
    "    coeff2 = 10 ** (np.random.rand() * 5 - 5)\n",
    "    \n",
    "    l = coeff1 * l1 + coeff2 * l2\n",
    "    l.backward()\n",
    "    opt.step()\n",
    "    \n",
    "    losses1.append(l1.item())\n",
    "    losses2.append(l2.item())\n",
    "    losses.append(l.item())\n",
    "    coeffs1.append(coeff1)\n",
    "    coeffs2.append(coeff2)"
   ]
  },
  {
   "cell_type": "code",
   "execution_count": 39,
   "metadata": {},
   "outputs": [
    {
     "data": {
      "image/png": "[encoded data removed]",
      "text/plain": [
       "<Figure size 720x360 with 5 Axes>"
      ]
     },
     "metadata": {
      "needs_background": "light"
     },
     "output_type": "display_data"
    }
   ],
   "source": [
    "plt.figure(figsize=(10, 5))\n",
    "\n",
    "plt.subplot(1, 5, 1)\n",
    "plt.title('loss1')\n",
    "plt.plot(losses1)\n",
    "plt.yscale('log')\n",
    "\n",
    "plt.subplot(1, 5, 2)\n",
    "plt.title('loss2')\n",
    "plt.plot(losses2)\n",
    "plt.yscale('log')\n",
    "\n",
    "plt.subplot(1, 5, 3)\n",
    "plt.title('loss')\n",
    "plt.plot(losses)\n",
    "plt.yscale('log')\n",
    "\n",
    "plt.subplot(1, 5, 4)\n",
    "plt.title('c1')\n",
    "plt.plot(coeffs1)\n",
    "plt.yscale('log')\n",
    "\n",
    "plt.subplot(1, 5, 5)\n",
    "plt.title('c5')\n",
    "plt.plot(coeffs2)\n",
    "plt.yscale('log')"
   ]
  },
  {
   "cell_type": "markdown",
   "metadata": {},
   "source": [
    "- 1e-7 baseline (max)\n",
    "- 1e-3 (with coeff)"
   ]
  },
  {
   "cell_type": "code",
   "execution_count": null,
   "metadata": {},
   "outputs": [],
   "source": []
  }
 ],
 "metadata": {
  "kernelspec": {
   "display_name": "Python 3",
   "language": "python",
   "name": "python3"
  },
  "language_info": {
   "codemirror_mode": {
    "name": "ipython",
    "version": 3
   },
   "file_extension": ".py",
   "mimetype": "text/x-python",
   "name": "python",
   "nbconvert_exporter": "python",
   "pygments_lexer": "ipython3",
   "version": "3.7.0"
  }
 },
 "nbformat": 4,
 "nbformat_minor": 4
}
