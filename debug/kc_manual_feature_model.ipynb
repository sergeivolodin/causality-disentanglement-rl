{
 "cells": [
  {
   "cell_type": "code",
   "execution_count": 1,
   "metadata": {},
   "outputs": [],
   "source": [
    "%load_ext autoreload\n",
    "%autoreload 2\n",
    "import os\n",
    "os.environ['CUDA_VISIBLE_DEVICES'] = \"-1\"\n",
    "import numpy as np\n",
    "from matplotlib import pyplot as plt\n",
    "import torch\n",
    "from sparse_causal_model_learner_rl.sacred_gin_tune.sacred_wrapper import load_config_files\n",
    "from sparse_causal_model_learner_rl.learners.rl_learner import CausalModelLearnerRL\n",
    "from sparse_causal_model_learner_rl.config import Config\n",
    "from keychest.features_xy import arr_to_dict, dict_to_arr, obs_features_handcoded\n",
    "from keychest.gofa_model import manual_model_features\n",
    "from tqdm.auto import tqdm\n",
    "from torch import nn\n",
    "import gin"
   ]
  },
  {
   "cell_type": "code",
   "execution_count": 2,
   "metadata": {},
   "outputs": [
    {
     "data": {
      "text/plain": [
       "['5x5_1f1c1k', 'rec_nonlin_gnn']"
      ]
     },
     "execution_count": 2,
     "metadata": {},
     "output_type": "execute_result"
    }
   ],
   "source": [
    "gin.enter_interactive_mode()\n",
    "load_config_files(['../keychest/config/5x5_1f1c1k.gin','../sparse_causal_model_learner_rl/configs/rec_nonlin_gnn.gin'])"
   ]
  },
  {
   "cell_type": "code",
   "execution_count": 3,
   "metadata": {},
   "outputs": [
    {
     "name": "stdout",
     "output_type": "stream",
     "text": [
      "Make environment KeyChest-v0 None {}\n"
     ]
    }
   ],
   "source": [
    "learner = CausalModelLearnerRL(Config())"
   ]
  },
  {
   "cell_type": "code",
   "execution_count": 4,
   "metadata": {},
   "outputs": [
    {
     "name": "stderr",
     "output_type": "stream",
     "text": [
      "WARNING:root:No class provided for trainable value_predictor\n"
     ]
    }
   ],
   "source": [
    "learner.create_trainables()"
   ]
  },
  {
   "cell_type": "code",
   "execution_count": 5,
   "metadata": {},
   "outputs": [],
   "source": [
    "learner.collect_steps()"
   ]
  },
  {
   "cell_type": "code",
   "execution_count": 6,
   "metadata": {},
   "outputs": [],
   "source": [
    "obs_x = learner._context['obs_x']\n",
    "obs_y = learner._context['obs_y']\n",
    "action_x = learner._context['action_x']"
   ]
  },
  {
   "cell_type": "code",
   "execution_count": 7,
   "metadata": {},
   "outputs": [
    {
     "data": {
      "text/plain": [
       "tensor(0.7311)"
      ]
     },
     "execution_count": 7,
     "metadata": {},
     "output_type": "execute_result"
    }
   ],
   "source": [
    "torch.mean(torch.abs(obs_x - obs_y) ** 2)"
   ]
  },
  {
   "cell_type": "code",
   "execution_count": 8,
   "metadata": {},
   "outputs": [],
   "source": [
    "f_sample = obs_features_handcoded(learner.env.engine)"
   ]
  },
  {
   "cell_type": "code",
   "execution_count": 9,
   "metadata": {},
   "outputs": [],
   "source": [
    "f_x = [arr_to_dict(obs.numpy(), f_sample.keys()) for obs in obs_x]\n",
    "f_y = [arr_to_dict(obs.numpy(), f_sample.keys()) for obs in obs_y]"
   ]
  },
  {
   "cell_type": "code",
   "execution_count": 10,
   "metadata": {},
   "outputs": [
    {
     "data": {
      "text/plain": [
       "({'button__x': 9.0,\n",
       "  'button__y': 2.0,\n",
       "  'chest__00__x': 7.0,\n",
       "  'chest__00__y': 3.0,\n",
       "  'food__00__x': 7.0,\n",
       "  'food__00__y': 2.0,\n",
       "  'health': 8.0,\n",
       "  'key__00__x': 5.0,\n",
       "  'key__00__y': 4.0,\n",
       "  'keys': 0.0,\n",
       "  'lamp_off__x': 5.0,\n",
       "  'lamp_off__y': 3.0,\n",
       "  'lamp_on__x': -1.0,\n",
       "  'lamp_on__y': -1.0,\n",
       "  'lamp_status': 0.0,\n",
       "  'player__x': 6.0,\n",
       "  'player__y': 4.0},\n",
       " {'button__x': 9.0,\n",
       "  'button__y': 2.0,\n",
       "  'chest__00__x': 7.0,\n",
       "  'chest__00__y': 3.0,\n",
       "  'food__00__x': 7.0,\n",
       "  'food__00__y': 2.0,\n",
       "  'health': 7.0,\n",
       "  'key__00__x': 5.0,\n",
       "  'key__00__y': 4.0,\n",
       "  'keys': 0.0,\n",
       "  'lamp_off__x': 5.0,\n",
       "  'lamp_off__y': 3.0,\n",
       "  'lamp_on__x': -1.0,\n",
       "  'lamp_on__y': -1.0,\n",
       "  'lamp_status': 0.0,\n",
       "  'player__x': 5.0,\n",
       "  'player__y': 4.0})"
      ]
     },
     "execution_count": 10,
     "metadata": {},
     "output_type": "execute_result"
    }
   ],
   "source": [
    "f_x[0], f_y[0]"
   ]
  },
  {
   "cell_type": "code",
   "execution_count": 11,
   "metadata": {},
   "outputs": [
    {
     "data": {
      "text/plain": [
       "tensor([0., 1., 0., 0.])"
      ]
     },
     "execution_count": 11,
     "metadata": {},
     "output_type": "execute_result"
    }
   ],
   "source": [
    "action_x[0]"
   ]
  },
  {
   "cell_type": "code",
   "execution_count": null,
   "metadata": {},
   "outputs": [],
   "source": []
  },
  {
   "cell_type": "code",
   "execution_count": 12,
   "metadata": {},
   "outputs": [
    {
     "data": {
      "text/plain": [
       "5"
      ]
     },
     "execution_count": 12,
     "metadata": {},
     "output_type": "execute_result"
    }
   ],
   "source": [
    "learner.env.engine.food_rows + learner.env.engine.keys_rows + 1"
   ]
  },
  {
   "cell_type": "code",
   "execution_count": 13,
   "metadata": {},
   "outputs": [],
   "source": [
    "f_t1 = [manual_model_features(f, a.numpy(), learner.env.engine) for f, a in zip(f_x, action_x)]"
   ]
  },
  {
   "cell_type": "code",
   "execution_count": 14,
   "metadata": {},
   "outputs": [],
   "source": [
    "keys_differ = {}\n",
    "for ft1_correct, ft1 in zip(f_y, f_t1):\n",
    "    for key in f_sample.keys():\n",
    "        if ft1_correct[key] != ft1[key]:\n",
    "            if key not in keys_differ:\n",
    "                keys_differ[key] = []\n",
    "            if len(keys_differ[key]) < 10:\n",
    "                keys_differ[key].append({'correct': ft1_correct[key],\n",
    "                                         'given': ft1[key]})\n"
   ]
  },
  {
   "cell_type": "code",
   "execution_count": 15,
   "metadata": {},
   "outputs": [
    {
     "data": {
      "text/plain": [
       "{}"
      ]
     },
     "execution_count": 15,
     "metadata": {},
     "output_type": "execute_result"
    }
   ],
   "source": [
    "keys_differ"
   ]
  },
  {
   "cell_type": "code",
   "execution_count": null,
   "metadata": {},
   "outputs": [],
   "source": []
  },
  {
   "cell_type": "code",
   "execution_count": null,
   "metadata": {},
   "outputs": [],
   "source": []
  }
 ],
 "metadata": {
  "kernelspec": {
   "display_name": "Python 3",
   "language": "python",
   "name": "python3"
  },
  "language_info": {
   "codemirror_mode": {
    "name": "ipython",
    "version": 3
   },
   "file_extension": ".py",
   "mimetype": "text/x-python",
   "name": "python",
   "nbconvert_exporter": "python",
   "pygments_lexer": "ipython3",
   "version": "3.7.0"
  }
 },
 "nbformat": 4,
 "nbformat_minor": 4
}
