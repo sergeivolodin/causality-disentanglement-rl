{
 "cells": [
  {
   "cell_type": "code",
   "execution_count": 1,
   "metadata": {},
   "outputs": [],
   "source": [
    "%load_ext autoreload\n",
    "%autoreload 2\n",
    "import os\n",
    "os.environ['CUDA_VISIBLE_DEVICES'] = \"0\"\n",
    "import torch\n",
    "from torch import nn\n",
    "import numpy as np\n",
    "from matplotlib import pyplot as plt\n",
    "from encoder.digit_encoder import small_int_vector_asimage\n",
    "from sparse_causal_model_learner_rl.trainable.combined import FCCombinedModel\n",
    "from sparse_causal_model_learner_rl.config import Config\n",
    "from sparse_causal_model_learner_rl.learners.rl_learner import CausalModelLearnerRL\n",
    "from sparse_causal_model_learner_rl.loss.losses import manual_switch_gradient\n",
    "from sparse_causal_model_learner_rl.trainable.gumbel_switch import WithInputSwitch, LearnableSwitchSimple\n",
    "import seaborn as sns\n",
    "from functools import partial\n",
    "from tqdm.auto import tqdm\n",
    "import pandas as pd\n",
    "from causal_util.helpers import lstdct2dctlst\n",
    "from math import ceil\n",
    "import gin\n",
    "from causal_util import load_env\n",
    "from sparse_causal_model_learner_rl.sacred_gin_tune.sacred_wrapper import load_config_files\n",
    "load_config_files(['../vectorincrement/config/ve2_toy_digits.gin', '../sparse_causal_model_learner_rl/configs/ve2_digits_rec.gin',\n",
    "                   '../sparse_causal_model_learner_rl/configs/server_collect.gin'])\n",
    "gin.enter_interactive_mode()\n",
    "import ray"
   ]
  },
  {
   "cell_type": "code",
   "execution_count": 19,
   "metadata": {},
   "outputs": [],
   "source": [
    "device = torch.device('cuda')"
   ]
  },
  {
   "cell_type": "code",
   "execution_count": 2,
   "metadata": {},
   "outputs": [
    {
     "name": "stderr",
     "output_type": "stream",
     "text": [
      "2021-02-24 07:58:54,694\tINFO services.py:1092 -- View the Ray dashboard at \u001b[1m\u001b[32mhttp://127.0.0.1:8266\u001b[39m\u001b[22m\n",
      "2021-02-24 07:58:58,236\tWARNING session.py:20 -- Session not detected. You should not be calling this function outside `tune.run` or while using the class API. \n"
     ]
    },
    {
     "name": "stdout",
     "output_type": "stream",
     "text": [
      "Selecting name c4618c0e-766d-11eb-9ba2-dd5593ad1785\n",
      "Make environment VectorIncrement-v0 None {}\n",
      "\u001b[2m\u001b[36m(pid=6554)\u001b[0m Make environment VectorIncrement-v0 None {}\n",
      "\u001b[2m\u001b[36m(pid=6550)\u001b[0m Make environment VectorIncrement-v0 None {}\n",
      "\u001b[2m\u001b[36m(pid=6549)\u001b[0m Make environment VectorIncrement-v0 None {}\n"
     ]
    },
    {
     "data": {
      "application/vnd.jupyter.widget-view+json": {
       "model_id": "5e241cfd9f4847838412b7329e734bd9",
       "version_major": 2,
       "version_minor": 0
      },
      "text/plain": [
       "HBox(children=(HTML(value='Initial buffer fill'), FloatProgress(value=0.0, max=100000.0), HTML(value='')))"
      ]
     },
     "metadata": {},
     "output_type": "display_data"
    },
    {
     "name": "stdout",
     "output_type": "stream",
     "text": [
      "\n"
     ]
    },
    {
     "data": {
      "application/vnd.jupyter.widget-view+json": {
       "model_id": "a0d16b5cd8ba4f88b30d62bd5bd4536b",
       "version_major": 2,
       "version_minor": 0
      },
      "text/plain": [
       "HBox(children=(HTML(value='Initial buffer fill'), FloatProgress(value=0.0, max=100000.0), HTML(value='')))"
      ]
     },
     "metadata": {},
     "output_type": "display_data"
    },
    {
     "name": "stdout",
     "output_type": "stream",
     "text": [
      "\n"
     ]
    }
   ],
   "source": [
    "ray.init(ignore_reinit_error=True)\n",
    "learner = CausalModelLearnerRL(Config(disable_cuda=True, minibatch_size=1000, context_transforms=[]))"
   ]
  },
  {
   "cell_type": "code",
   "execution_count": 9,
   "metadata": {},
   "outputs": [],
   "source": [
    "def fill_data():\n",
    "    global ctx, obs, obs_next, actions\n",
    "    ctx = learner.collect_and_get_context()\n",
    "    obs_next = ctx['obs_y'].cuda()\n",
    "    obs = ctx['obs_x'].cuda()\n",
    "    actions = ctx['action_x'].cuda()\n",
    "fill_data()"
   ]
  },
  {
   "cell_type": "code",
   "execution_count": 10,
   "metadata": {},
   "outputs": [],
   "source": [
    "obs_std = obs.std(0, keepdim=True)\n",
    "obs_std = torch.where(obs_std < 1e8, torch.ones_like(obs_std), obs_std)"
   ]
  },
  {
   "cell_type": "code",
   "execution_count": 35,
   "metadata": {},
   "outputs": [
    {
     "data": {
      "text/plain": [
       "torch.Size([1000, 5, 7])"
      ]
     },
     "execution_count": 35,
     "metadata": {},
     "output_type": "execute_result"
    }
   ],
   "source": [
    "obs.shape"
   ]
  },
  {
   "cell_type": "code",
   "execution_count": 20,
   "metadata": {},
   "outputs": [
    {
     "name": "stdout",
     "output_type": "stream",
     "text": [
      "torch.Size([5, 7]) 35\n"
     ]
    }
   ],
   "source": [
    "shape = obs.shape[1:]\n",
    "size = np.prod(shape)\n",
    "print(shape, size)\n",
    "n_f = learner.feature_shape[0]\n",
    "n_a = learner.action_shape[0]\n",
    "min_proba = 0.01"
   ]
  },
  {
   "cell_type": "code",
   "execution_count": 21,
   "metadata": {},
   "outputs": [
    {
     "name": "stdout",
     "output_type": "stream",
     "text": [
      "[False, False, False]\n",
      "[35, 256, 64, 1] 3\n",
      "[False, False, False]\n",
      "[3, 256, 64, 1] 35\n",
      "[False, False, False]\n",
      "[10, 256, 64, 1] 3\n"
     ]
    }
   ],
   "source": [
    "class WithInputFC(nn.Module):\n",
    "    def __init__(self, m, n_units):\n",
    "        super(WithInputFC, self).__init__()\n",
    "        self.m = m\n",
    "        self.bn = nn.BatchNorm1d(n_units)\n",
    "        self.fc1 = nn.Linear(n_units, n_units)\n",
    "#         self.fc1.weight.data[:] = torch.eye(3)\n",
    "#         self.fc1.bias.data[:] = 0\n",
    "    def forward(self, x):\n",
    "#         x = self.bn(x)\n",
    "        x = self.fc1(x)# + x\n",
    "        x = self.m(x)\n",
    "        return x\n",
    "    \n",
    "class WithOutputFC(nn.Module):\n",
    "    def __init__(self, m, n_units):\n",
    "        super(WithOutputFC, self).__init__()\n",
    "        self.m = m\n",
    "        self.fc1 = nn.Linear(n_units, n_units)\n",
    "#         self.fc1.weight.data[:] = 0\n",
    "#         self.fc1.bias.data[:] = 0\n",
    "#         self.fc1 = FCCombinedModel(input_shape=(n_units,),\n",
    "#                                    output_shape=(n_units,),\n",
    "#                                    hidden_sizes=[],\n",
    "#                                    activation_cls=None,\n",
    "#                                    input_reshape=True)\n",
    "        self.bn = nn.BatchNorm1d(n_units)\n",
    "    def forward(self, x):\n",
    "        x = self.m(x)\n",
    "#         x = self.bn(x)\n",
    "        x = self.fc1(x)# + x\n",
    "        return x\n",
    "    \n",
    "class WithLinTransform(nn.Module):\n",
    "    def __init__(self, m, n_units):\n",
    "        super(WithLinTransform, self).__init__()\n",
    "        self.model = m\n",
    "        self.n_features = n_f\n",
    "        self.n_actions = n_a\n",
    "        self.n_additional_features = 0\n",
    "        self.fc1 = nn.Linear(n_units, n_units)\n",
    "        self.fc2 = nn.Linear(n_units, n_units)\n",
    "        self.fc1.weight.data[:] += torch.eye(n_units)\n",
    "        self.fc1.bias.data[:] = 0.0\n",
    "        self.bn = nn.BatchNorm1d(n_units)\n",
    "\n",
    "#     def project(self):\n",
    "#         M = self.fc1.weight\n",
    "#         M.data = torch.clamp(M, -1, 1)\n",
    "# #         M.data[M.data < -1] = -1.\n",
    "# #         M.data[M.data > 1] = 1.\n",
    "        \n",
    "    def rotate(self, x):\n",
    "        return self.fc1(x)\n",
    "    \n",
    "    def forward(self, x, detach_rotate=False, **kwargs):\n",
    "        # shape: batch, features\n",
    "#         self.project()\n",
    "        \n",
    "#         M = self.fc1.weight\n",
    "#         A = (M - M.t()) / 2\n",
    "#         I = torch.eye(self.n_features, device=M.device)\n",
    "#         print(A, I - A)\n",
    "#         S = (I + A) @ torch.pinverse(I - A)\n",
    "#         Sinv = (I - A) @ torch.pinverse(I + A)\n",
    "#         M = self.fc1.weight\n",
    "\n",
    "#         if detach_rotate:\n",
    "#             M = M.detach()\n",
    "#         M = M + \n",
    "#         S = nn.Softmax(1)(M)\n",
    "#\n",
    "#         Sinv = torch.pinverse(M)#.detach()\n",
    "        \n",
    "#         x = (x @ M) + self.fc1.bias\n",
    "        x = self.rotate(x)\n",
    "        x = self.model(x, **kwargs)\n",
    "#         x = (x - self.fc1.bias) @ Sinv#nn.Softmax(1)(self.fc1.weight)\n",
    "#         x = self.bn(x)\n",
    "        return x\n",
    "\n",
    "class InputRotation(nn.Module):\n",
    "    def __init__(self, n_units=n_f):\n",
    "        super(InputRotation, self).__init__()\n",
    "        self.fc1 = nn.Linear(n_units, n_units)\n",
    "#         self.fc2 = nn.Linear(n_units, n_units)\n",
    "        self.fc1.weight.data[:] += torch.eye(n_units)\n",
    "        self.fc1.bias.data[:] = 0.0\n",
    "    def Wb(self):\n",
    "        return self.fc1.weight, self.fc1.bias\n",
    "        \n",
    "    def forward(self, x):\n",
    "        W, b = self.Wb()\n",
    "        return (x @ W) + b\n",
    "    \n",
    "    def unrotate(self, x):\n",
    "        W, b = self.Wb()\n",
    "        return (x - b) @ torch.pinverse(W)\n",
    "        \n",
    "        \n",
    "rot1 = InputRotation().to(device)\n",
    "rot2 = InputRotation().to(device)\n",
    "\n",
    "    \n",
    "dec = FCCombinedModel(input_reshape=True,#WithOutputFC(\n",
    "                      add_input_batchnorm=True,\n",
    "                      input_shape=(size,),\n",
    "                      output_shape=(n_f,),\n",
    "                      hidden_sizes=[256, 64],\n",
    "                      activation_cls=nn.LeakyReLU).to(device)#, n_f).cuda()\n",
    "rec = FCCombinedModel(input_reshape=True, #WithInputFC(\n",
    "                      input_shape=(n_f,),\n",
    "                      output_shape=(size,),\n",
    "                      add_input_batchnorm=True,\n",
    "                      hidden_sizes=[256, 64],\n",
    "                      activation_cls=nn.LeakyReLU).to(device)#, n_f).cuda()\n",
    "model = WithInputSwitch(model_cls=partial(FCCombinedModel,\n",
    "                                          output_shape=(1,),\n",
    "                                          add_input_batchnorm=True,\n",
    "                                          hidden_sizes=[256, 64],\n",
    "                                          activation_cls=nn.LeakyReLU),\n",
    "                        input_shape=(n_f + n_a,),\n",
    "                        switch_cls=partial(LearnableSwitchSimple, initial_proba=1.0,#min_proba,\n",
    "                                           min_proba=min_proba),\n",
    "                        give_mask=True,\n",
    "                        n_models=n_f).to(device)#), n_f).to(device)\n",
    "\n",
    "\n",
    "# model_ = model"
   ]
  },
  {
   "cell_type": "code",
   "execution_count": 22,
   "metadata": {},
   "outputs": [],
   "source": [
    "class MM(nn.Module):\n",
    "    def __init__(self, model):\n",
    "        super(MM, self).__init__()\n",
    "        self.model = model\n",
    "        self.n_features = n_f\n",
    "        self.n_actions = n_a\n",
    "        self.n_additional_features = 0\n",
    "    def forward(self, *args, **kwargs):\n",
    "        if 'all' in kwargs:\n",
    "            del kwargs['all']\n",
    "            if len(args) > 1:\n",
    "                args = args[0:1]\n",
    "        return self.model(*args, **kwargs)\n",
    "model_ = MM(model)"
   ]
  },
  {
   "cell_type": "code",
   "execution_count": 23,
   "metadata": {},
   "outputs": [
    {
     "data": {
      "text/plain": [
       "tensor(18.7775, device='cuda:0', grad_fn=<MeanBackward1>)"
      ]
     },
     "execution_count": 23,
     "metadata": {},
     "output_type": "execute_result"
    }
   ],
   "source": [
    "(rec(dec(obs.flatten(start_dim=1))).view(obs.shape[0], *shape) - obs).flatten(start_dim=1).pow(2).sum(1).mean(0)"
   ]
  },
  {
   "cell_type": "code",
   "execution_count": 24,
   "metadata": {},
   "outputs": [],
   "source": [
    "@gin.configurable\n",
    "def manual_switch_gradient(loss_delta_noreduce, model, loss_scale=1.0,\n",
    "                           eps=1e-5):\n",
    "    \"\"\"Fill in the gradient of switch probas manually\n",
    "\n",
    "    Assuming that the batch size is enough to estimate mean loss with\n",
    "     p on and off.\n",
    "    \"\"\"\n",
    "    mask = model.model.last_mask\n",
    "    input_dim = model.n_features + model.n_actions\n",
    "    output_dim = model.n_features + model.n_additional_features\n",
    "\n",
    "    delta = loss_delta_noreduce\n",
    "\n",
    "    # if have two dimensions, assuming delta in the form of (batch, n_output_features)\n",
    "    if len(delta.shape) == 2:\n",
    "        delta_expanded = delta.view(delta.shape[0], 1, delta.shape[1]).expand(-1, input_dim, -1)\n",
    "    elif len(delta.shape) == 1:  # assuming shape (batch, )\n",
    "        delta_expanded = delta.view(delta.shape[0], 1, 1).expand(-1, input_dim, output_dim)\n",
    "    mask_coeff = (mask - 0.5) * 2\n",
    "\n",
    "    mask_pos = mask\n",
    "    mask_neg = 1 - mask\n",
    "    n_pos = (mask_coeff > 0).sum(dim=0) + eps\n",
    "    n_neg = (mask_coeff < 0).sum(dim=0) + eps\n",
    "\n",
    "    mask_pos = mask_pos / n_pos\n",
    "    mask_neg = mask_neg / n_neg\n",
    "\n",
    "    mask_atleast = ((n_pos >= 1) * (n_neg >= 1))\n",
    "    mask_coeff = mask_atleast * (mask_pos - mask_neg)\n",
    "    p_grad = (delta_expanded * mask_coeff).sum(dim=0)\n",
    "    \n",
    "#     val = 0.01\n",
    "#     p_grad = torch.where(p_grad > 0.1, torch.ones_like(p_grad) * val,\n",
    "#                          -torch.ones_like(p_grad) * val)\n",
    "\n",
    "    p_grad = p_grad * loss_scale\n",
    "    \n",
    "\n",
    "    if model.model.switch.probas.grad is None:\n",
    "        model.model.switch.probas.grad = p_grad.clone()\n",
    "    else:\n",
    "        model.model.switch.probas.grad += p_grad.clone()\n",
    "\n",
    "#     model_.model.switch.probas.data[:] = 0\n",
    "#     model_.model.switch.probas.data[0, 0] = 1.0\n",
    "    return 0.0\n"
   ]
  },
  {
   "cell_type": "code",
   "execution_count": 25,
   "metadata": {},
   "outputs": [],
   "source": [
    "model_.model.switch.probas.data[:n_f, :] = torch.eye(n_f)\n",
    "# model_.model.switch.probas.data[n_f:n_f+n_a, ]\n"
   ]
  },
  {
   "cell_type": "code",
   "execution_count": 26,
   "metadata": {},
   "outputs": [],
   "source": [
    "#2 ** (-model_.model.last_mask.flatten(start_dim=1).sum(1))"
   ]
  },
  {
   "cell_type": "code",
   "execution_count": 27,
   "metadata": {},
   "outputs": [],
   "source": [
    "def tensor_std(t, eps=1e-8):\n",
    "    s = t.std(0, keepdim=True)\n",
    "    s = torch.where(s < eps, torch.ones_like(s), s)\n",
    "    return s\n",
    "\n",
    "def rec_loss_std(obs, obs_rec, nomean=False):\n",
    "    delta = (obs - obs_rec)\n",
    "    delta = delta / obs_std\n",
    "    loss = delta.flatten(start_dim=1).pow(2).sum(1)\n",
    "    if not nomean:\n",
    "        loss = loss.mean(0)\n",
    "    return loss\n",
    "\n",
    "def acc_one(obs, obs_rec):\n",
    "    acc = (((obs > 0.5) == (obs_rec > 0.5)) * 1.0).flatten(start_dim=1).mean()\n",
    "    return acc\n",
    "\n",
    "def rec_loss():\n",
    "    f_pred = dec(obs.flatten(start_dim=1))\n",
    "    obs_rec = rec(f_pred).view(obs.shape[0], *shape)\n",
    "    loss = rec_loss_std(obs, obs_rec)\n",
    "    acc = acc_one(obs, obs_rec)\n",
    "    return {'loss': loss, 'metrics': {'acc': acc.item()}}\n",
    "\n",
    "def fit_loss(force_proba=None, fill_switch_grad=False, detach_features=False,\n",
    "             msw_coeff=1.0):\n",
    "    \n",
    "    with torch.set_grad_enabled(not detach_features):\n",
    "        f_curr = dec(obs.flatten(start_dim=1))\n",
    "        f_next = dec(obs_next.flatten(start_dim=1))\n",
    "        f_curr_post = rot1(f_curr)\n",
    "        f_next_post = rot1(f_next)\n",
    "        \n",
    "#     detach_rotate = detach_features\n",
    "    f_curr_witha = torch.cat([f_curr_post, actions], dim=1)\n",
    "    f_pred = model(f_curr_witha, force_proba=force_proba)\n",
    "    \n",
    "#     with torch.set_grad_enabled(not detach_features):\n",
    "    f_pred_torec = rot2(f_pred)\n",
    "    \n",
    "    obs_next_pred = rec(f_pred_torec).view(obs.shape[0], *shape)\n",
    "    \n",
    "    delta_f = (f_next_post - f_pred)\n",
    "    std_f = tensor_std(f_curr_post)    \n",
    "    delta_f = delta_f / std_f\n",
    "    loss_fcons = delta_f.pow(2).sum(1)\n",
    "\n",
    "    \n",
    "    delta_f_post = (f_pred_torec - f_next)\n",
    "    std_f_post = tensor_std(f_curr)\n",
    "    delta_f_post = delta_f_post / std_f_post    \n",
    "    loss_fcons_post = delta_f_post.pow(2).sum(1)\n",
    "    \n",
    "    \n",
    "    loss = rec_loss_std(obs_next, obs_next_pred, nomean=True)\n",
    "    acc = acc_one(obs_next, obs_next_pred)\n",
    "    \n",
    "    loss_total = loss + loss_fcons + loss_fcons_post\n",
    "    \n",
    "    if fill_switch_grad:\n",
    "        manual_switch_gradient(loss_delta_noreduce=loss_total, model=model_,\n",
    "                               loss_scale=msw_coeff)\n",
    "    \n",
    "    loss_total = loss_total.mean(0)# + loss_total.std(0)\n",
    "    \n",
    "    return {\n",
    "        'loss': loss_total,\n",
    "        'metrics': {\n",
    "            'rec': loss.mean(0).item(),\n",
    "            'fcons': loss_fcons.mean(0).item(),\n",
    "            'fcons_post': loss_fcons_post.mean(0).item(),\n",
    "            'acc': acc.item()\n",
    "    }}\n",
    "\n",
    "def sparsity_loss():\n",
    "    t = list(model_.model.switch.parameters())[0]\n",
    "    return {'loss': t.abs().sum(), 'metrics': {}}\n",
    "\n",
    "def total_loss(coeffs=None):\n",
    "    if coeffs is None:\n",
    "        coeffs = {}\n",
    "    \n",
    "    metrics = {}\n",
    "    \n",
    "    losses = {'rec': rec_loss,\n",
    "              'fit': partial(fit_loss, fill_switch_grad=True, msw_coeff=coeffs['fit']), # need this one, otherwise other features will likely decrease\n",
    "                                                               # the loss, since the probas are 0.5 and features can be duplicated\n",
    "              'fit_half': partial(fit_loss, force_proba=0.5, detach_features=True, fill_switch_grad=True,\n",
    "                                  msw_coeff=coeffs['fit_half']),\n",
    "              'fit_all': partial(fit_loss, force_proba=1.0, detach_features=True),\n",
    "              'sparsity': sparsity_loss\n",
    "              }\n",
    "    \n",
    "    total_loss = 0.0\n",
    "    \n",
    "    for key, fcn in losses.items():\n",
    "        data = fcn()\n",
    "        coef = coeffs.get(key, 1.0)\n",
    "        total_loss += data['loss'] * coef\n",
    "        for m_key, m_val in data['metrics'].items():\n",
    "            metrics[f'{m_key}/{key}'] = m_val\n",
    "        metrics[f'loss/{key}'] = data['loss'].item()\n",
    "            \n",
    "    return total_loss, metrics"
   ]
  },
  {
   "cell_type": "code",
   "execution_count": 28,
   "metadata": {},
   "outputs": [],
   "source": [
    "crit_ratio = 0.5 # allow 0.1 features to go bad\n",
    "# crit_features = 0.1 # allow 0.1 features to go bad\n",
    "sp_min = 1e-9\n",
    "sp_max = 100000\n",
    "coeffs = {'rec': 10.0, 'fit': 20.0, 'fit_half': 0.1, 'fit_all': 20.0, 'sparsity': sp_min}"
   ]
  },
  {
   "cell_type": "code",
   "execution_count": 29,
   "metadata": {},
   "outputs": [],
   "source": [
    "metrics_hist = []\n",
    "obs_orig = obs\n",
    "obs_next_orig = obs_next"
   ]
  },
  {
   "cell_type": "code",
   "execution_count": 30,
   "metadata": {},
   "outputs": [
    {
     "data": {
      "text/plain": [
       "({'loss': tensor(18.7775, device='cuda:0', grad_fn=<MeanBackward1>),\n",
       "  'metrics': {'acc': 0.47128570079803467}},\n",
       " {'loss': tensor(26.9865, device='cuda:0', grad_fn=<MeanBackward1>),\n",
       "  'metrics': {'rec': 18.79205894470215,\n",
       "   'fcons': 3.3194785118103027,\n",
       "   'fcons_post': 4.874972820281982,\n",
       "   'acc': 0.46534284949302673}},\n",
       " {'loss': tensor(33.5237, device='cuda:0', grad_fn=<MeanBackward1>),\n",
       "  'metrics': {'rec': 19.053977966308594,\n",
       "   'fcons': 5.106689929962158,\n",
       "   'fcons_post': 9.36306381225586,\n",
       "   'acc': 0.46534284949302673}},\n",
       " {'loss': tensor(26.9569, device='cuda:0', grad_fn=<MeanBackward1>),\n",
       "  'metrics': {'rec': 18.84145736694336,\n",
       "   'fcons': 3.708824396133423,\n",
       "   'fcons_post': 4.4065842628479,\n",
       "   'acc': 0.46534284949302673}},\n",
       " {'loss': tensor(9.0600, device='cuda:0', grad_fn=<SumBackward0>),\n",
       "  'metrics': {}})"
      ]
     },
     "execution_count": 30,
     "metadata": {},
     "output_type": "execute_result"
    }
   ],
   "source": [
    "rec_loss(), fit_loss(), fit_loss(force_proba=0.5), fit_loss(force_proba=1.0), sparsity_loss()"
   ]
  },
  {
   "cell_type": "code",
   "execution_count": 31,
   "metadata": {},
   "outputs": [
    {
     "data": {
      "text/plain": [
       "FCCombinedModel(\n",
       "  (fc01): CombinedLinearLayer()\n",
       "  (fc02): CombinedLinearLayer()\n",
       "  (fc03): CombinedLinearLayer()\n",
       "  (bn): BatchNorm1d(3, eps=1e-05, momentum=0.1, affine=True, track_running_stats=True)\n",
       ")"
      ]
     },
     "execution_count": 31,
     "metadata": {},
     "output_type": "execute_result"
    }
   ],
   "source": [
    "rec"
   ]
  },
  {
   "cell_type": "code",
   "execution_count": 32,
   "metadata": {},
   "outputs": [],
   "source": [
    "# opt = torch.optim.SGD(list(dec.parameters()) + list(rec.parameters()) + list(model.parameters()) +\n",
    "#                        list(rot1.parameters()) + list(rot2.parameters()),\n",
    "#                        lr=1e-4, momentum=0.9, nesterov=True)#, betas=(0.9, 0.999))\n",
    "# opt_switch = torch.optim.Adam(model.parameters(), lr=1e-3)\n",
    "\n",
    "opt = torch.optim.Adam(list(dec.parameters()) + list(rec.parameters()) + list(model.parameters()) +\n",
    "                       list(rot1.parameters()) + list(rot2.parameters()), lr=1e-3)#, betas=(0.9, 0.999))\n",
    "# opt_switch = torch.optim.Adam(model.parameters(), lr=1e-3)"
   ]
  },
  {
   "cell_type": "code",
   "execution_count": 33,
   "metadata": {},
   "outputs": [],
   "source": [
    "delta = 0.5\n",
    "prev_direction = None\n",
    "last_direction_change = -100\n",
    "last_annealer_pause = None\n",
    "crystallize_time = 600"
   ]
  },
  {
   "cell_type": "code",
   "execution_count": 93,
   "metadata": {},
   "outputs": [
    {
     "data": {
      "application/vnd.jupyter.widget-view+json": {
       "model_id": "c38628186e534f0c898cdf0dfa415f17",
       "version_major": 2,
       "version_minor": 0
      },
      "text/plain": [
       "HBox(children=(HTML(value=''), FloatProgress(value=0.0, max=100000.0), HTML(value='')))"
      ]
     },
     "metadata": {},
     "output_type": "display_data"
    },
    {
     "name": "stdout",
     "output_type": "stream",
     "text": [
      "\n"
     ]
    },
    {
     "ename": "KeyboardInterrupt",
     "evalue": "",
     "output_type": "error",
     "traceback": [
      "\u001b[0;31m---------------------------------------------------------------------------\u001b[0m",
      "\u001b[0;31mKeyboardInterrupt\u001b[0m                         Traceback (most recent call last)",
      "\u001b[0;32m<ipython-input-93-7704c4c079c5>\u001b[0m in \u001b[0;36m<module>\u001b[0;34m\u001b[0m\n\u001b[1;32m     13\u001b[0m \u001b[0;31m#         model.switch.probas.grad = None\u001b[0m\u001b[0;34m\u001b[0m\u001b[0;34m\u001b[0m\u001b[0m\n\u001b[1;32m     14\u001b[0m \u001b[0;34m\u001b[0m\u001b[0m\n\u001b[0;32m---> 15\u001b[0;31m     \u001b[0mopt\u001b[0m\u001b[0;34m.\u001b[0m\u001b[0mstep\u001b[0m\u001b[0;34m(\u001b[0m\u001b[0;34m)\u001b[0m\u001b[0;34m\u001b[0m\u001b[0m\n\u001b[0m\u001b[1;32m     16\u001b[0m \u001b[0;34m\u001b[0m\u001b[0m\n\u001b[1;32m     17\u001b[0m \u001b[0;31m#     for _ in range(1):\u001b[0m\u001b[0;34m\u001b[0m\u001b[0;34m\u001b[0m\u001b[0m\n",
      "\u001b[0;32m~/miniconda3/envs/causal/lib/python3.7/site-packages/torch/autograd/grad_mode.py\u001b[0m in \u001b[0;36mdecorate_context\u001b[0;34m(*args, **kwargs)\u001b[0m\n\u001b[1;32m     24\u001b[0m         \u001b[0;32mdef\u001b[0m \u001b[0mdecorate_context\u001b[0m\u001b[0;34m(\u001b[0m\u001b[0;34m*\u001b[0m\u001b[0margs\u001b[0m\u001b[0;34m,\u001b[0m \u001b[0;34m**\u001b[0m\u001b[0mkwargs\u001b[0m\u001b[0;34m)\u001b[0m\u001b[0;34m:\u001b[0m\u001b[0;34m\u001b[0m\u001b[0m\n\u001b[1;32m     25\u001b[0m             \u001b[0;32mwith\u001b[0m \u001b[0mself\u001b[0m\u001b[0;34m.\u001b[0m\u001b[0m__class__\u001b[0m\u001b[0;34m(\u001b[0m\u001b[0;34m)\u001b[0m\u001b[0;34m:\u001b[0m\u001b[0;34m\u001b[0m\u001b[0m\n\u001b[0;32m---> 26\u001b[0;31m                 \u001b[0;32mreturn\u001b[0m \u001b[0mfunc\u001b[0m\u001b[0;34m(\u001b[0m\u001b[0;34m*\u001b[0m\u001b[0margs\u001b[0m\u001b[0;34m,\u001b[0m \u001b[0;34m**\u001b[0m\u001b[0mkwargs\u001b[0m\u001b[0;34m)\u001b[0m\u001b[0;34m\u001b[0m\u001b[0m\n\u001b[0m\u001b[1;32m     27\u001b[0m         \u001b[0;32mreturn\u001b[0m \u001b[0mcast\u001b[0m\u001b[0;34m(\u001b[0m\u001b[0mF\u001b[0m\u001b[0;34m,\u001b[0m \u001b[0mdecorate_context\u001b[0m\u001b[0;34m)\u001b[0m\u001b[0;34m\u001b[0m\u001b[0m\n\u001b[1;32m     28\u001b[0m \u001b[0;34m\u001b[0m\u001b[0m\n",
      "\u001b[0;32m~/miniconda3/envs/causal/lib/python3.7/site-packages/torch/optim/adam.py\u001b[0m in \u001b[0;36mstep\u001b[0;34m(self, closure)\u001b[0m\n\u001b[1;32m    117\u001b[0m                    \u001b[0mgroup\u001b[0m\u001b[0;34m[\u001b[0m\u001b[0;34m'lr'\u001b[0m\u001b[0;34m]\u001b[0m\u001b[0;34m,\u001b[0m\u001b[0;34m\u001b[0m\u001b[0m\n\u001b[1;32m    118\u001b[0m                    \u001b[0mgroup\u001b[0m\u001b[0;34m[\u001b[0m\u001b[0;34m'weight_decay'\u001b[0m\u001b[0;34m]\u001b[0m\u001b[0;34m,\u001b[0m\u001b[0;34m\u001b[0m\u001b[0m\n\u001b[0;32m--> 119\u001b[0;31m                    \u001b[0mgroup\u001b[0m\u001b[0;34m[\u001b[0m\u001b[0;34m'eps'\u001b[0m\u001b[0;34m]\u001b[0m\u001b[0;34m\u001b[0m\u001b[0m\n\u001b[0m\u001b[1;32m    120\u001b[0m                    )\n\u001b[1;32m    121\u001b[0m         \u001b[0;32mreturn\u001b[0m \u001b[0mloss\u001b[0m\u001b[0;34m\u001b[0m\u001b[0m\n",
      "\u001b[0;32m~/miniconda3/envs/causal/lib/python3.7/site-packages/torch/optim/functional.py\u001b[0m in \u001b[0;36madam\u001b[0;34m(params, grads, exp_avgs, exp_avg_sqs, max_exp_avg_sqs, state_steps, amsgrad, beta1, beta2, lr, weight_decay, eps)\u001b[0m\n\u001b[1;32m     85\u001b[0m         \u001b[0;31m# Decay the first and second moment running average coefficient\u001b[0m\u001b[0;34m\u001b[0m\u001b[0;34m\u001b[0m\u001b[0m\n\u001b[1;32m     86\u001b[0m         \u001b[0mexp_avg\u001b[0m\u001b[0;34m.\u001b[0m\u001b[0mmul_\u001b[0m\u001b[0;34m(\u001b[0m\u001b[0mbeta1\u001b[0m\u001b[0;34m)\u001b[0m\u001b[0;34m.\u001b[0m\u001b[0madd_\u001b[0m\u001b[0;34m(\u001b[0m\u001b[0mgrad\u001b[0m\u001b[0;34m,\u001b[0m \u001b[0malpha\u001b[0m\u001b[0;34m=\u001b[0m\u001b[0;36m1\u001b[0m \u001b[0;34m-\u001b[0m \u001b[0mbeta1\u001b[0m\u001b[0;34m)\u001b[0m\u001b[0;34m\u001b[0m\u001b[0m\n\u001b[0;32m---> 87\u001b[0;31m         \u001b[0mexp_avg_sq\u001b[0m\u001b[0;34m.\u001b[0m\u001b[0mmul_\u001b[0m\u001b[0;34m(\u001b[0m\u001b[0mbeta2\u001b[0m\u001b[0;34m)\u001b[0m\u001b[0;34m.\u001b[0m\u001b[0maddcmul_\u001b[0m\u001b[0;34m(\u001b[0m\u001b[0mgrad\u001b[0m\u001b[0;34m,\u001b[0m \u001b[0mgrad\u001b[0m\u001b[0;34m,\u001b[0m \u001b[0mvalue\u001b[0m\u001b[0;34m=\u001b[0m\u001b[0;36m1\u001b[0m \u001b[0;34m-\u001b[0m \u001b[0mbeta2\u001b[0m\u001b[0;34m)\u001b[0m\u001b[0;34m\u001b[0m\u001b[0m\n\u001b[0m\u001b[1;32m     88\u001b[0m         \u001b[0;32mif\u001b[0m \u001b[0mamsgrad\u001b[0m\u001b[0;34m:\u001b[0m\u001b[0;34m\u001b[0m\u001b[0m\n\u001b[1;32m     89\u001b[0m             \u001b[0;31m# Maintains the maximum of all 2nd moment running avg. till now\u001b[0m\u001b[0;34m\u001b[0m\u001b[0;34m\u001b[0m\u001b[0m\n",
      "\u001b[0;31mKeyboardInterrupt\u001b[0m: "
     ]
    }
   ],
   "source": [
    "\n",
    "for i in tqdm(range(100000)):\n",
    "    \n",
    "    fill_data()\n",
    "#     idxes = np.random.choice(len(obs_orig), 128, replace=False)\n",
    "#     obs = obs_orig#[idxes]\n",
    "#     obs_next = obs_next_orig#[idxes]\n",
    "    \n",
    "    opt.zero_grad()\n",
    "    loss, metrics = total_loss(coeffs)\n",
    "    loss.backward()\n",
    "    \n",
    "#     if (i // 100) % 2 == 0:\n",
    "#         model.switch.probas.grad = None\n",
    "    \n",
    "    opt.step()\n",
    "    \n",
    "#     for _ in range(1):\n",
    "#         opt_switch.zero_grad()\n",
    "#         loss, metrics = total_loss(coeffs)\n",
    "#         loss.backward()\n",
    "#         opt_switch.step()\n",
    "\n",
    "    ratio = (metrics['loss/fit'] - metrics['loss/fit_all'])# / metrics['loss/fit']\n",
    "    \n",
    "    coeff = coeffs['sparsity']\n",
    "    \n",
    "    if i % 10 == 0:\n",
    "        if (last_annealer_pause is None or (i - last_annealer_pause >= crystallize_time)):\n",
    "            if ratio > crit_ratio:# or metrics['loss/fit_all'] > 0.25:\n",
    "                coeff *= delta\n",
    "                direction = 'down'\n",
    "            else:\n",
    "                if metrics['loss/fit_all'] <= crit_ratio:\n",
    "                    coeff /= delta\n",
    "                    direction = 'up'\n",
    "                else:\n",
    "                    direction = None#'up'\n",
    "\n",
    "    #         if i - last_direction_change >= 50: # direction wasn't changed -> can increase\n",
    "    #             delta /= 0.8\n",
    "    #         else:\n",
    "    #             delta *= 0.8\n",
    "\n",
    "    #         if prev_direction != direction:\n",
    "    #             last_direction_change = i\n",
    "\n",
    "            if prev_direction == 'up' and direction == 'down':\n",
    "                last_annealer_pause = i\n",
    "                print('crystallizing...')\n",
    "\n",
    "\n",
    "            prev_direction = direction\n",
    "\n",
    "            if coeff < sp_min:\n",
    "                coeff = sp_min\n",
    "            elif coeff > sp_max:\n",
    "                coeff = sp_max\n",
    "        else:  # freezing\n",
    "            MP.data[MP.data > 0.8] = 0.8  # model will learn to remove some of the features!\n",
    "        \n",
    "\n",
    "    coeffs['sparsity'] = coeff\n",
    "    metrics['coeff'] = coeff\n",
    "    metrics['ratio'] = ratio\n",
    "    metrics['loss_total'] = loss.item()\n",
    "\n",
    "    \n",
    "    metrics_hist.append(metrics)"
   ]
  },
  {
   "cell_type": "code",
   "execution_count": 58,
   "metadata": {},
   "outputs": [],
   "source": [
    "# model_.model.switch.probas.data[:] = 1. * (model_.model.switch.probas > 0.5)"
   ]
  },
  {
   "cell_type": "code",
   "execution_count": 89,
   "metadata": {},
   "outputs": [
    {
     "data": {
      "image/png": "[encoded data removed]",
      "text/plain": [
       "<Figure size 1224x1080 with 21 Axes>"
      ]
     },
     "metadata": {
      "needs_background": "light"
     },
     "output_type": "display_data"
    }
   ],
   "source": [
    "metrics_dict = lstdct2dctlst(metrics_hist)\n",
    "\n",
    "keys = sorted(metrics_dict.keys())\n",
    "\n",
    "px = 4\n",
    "py = 6\n",
    "\n",
    "assert px * py >= len(keys)\n",
    "\n",
    "plt.figure(figsize=(17, 15))\n",
    "for i, key in enumerate(keys, 1):\n",
    "    plt.subplot(px, py, i)\n",
    "    plt.title(key)\n",
    "    data = metrics_dict[key]\n",
    "    if key.startswith('acc'):\n",
    "        if np.max(data) >= 0.999:\n",
    "            data = np.maximum(np.array(data), 0.999)\n",
    "        plt.axhline(1)\n",
    "    else:\n",
    "        plt.yscale('log')\n",
    "    plt.plot(data)\n",
    "plt.show()"
   ]
  },
  {
   "cell_type": "code",
   "execution_count": 90,
   "metadata": {},
   "outputs": [
    {
     "data": {
      "text/plain": [
       "<AxesSubplot:>"
      ]
     },
     "execution_count": 90,
     "metadata": {},
     "output_type": "execute_result"
    },
    {
     "data": {
      "image/png": "[encoded data removed]",
      "text/plain": [
       "<Figure size 1080x360 with 6 Axes>"
      ]
     },
     "metadata": {
      "needs_background": "light"
     },
     "output_type": "display_data"
    }
   ],
   "source": [
    "plt.figure(figsize=(15, 5))\n",
    "# S = nn.Softmax(1)(model_.fc1.weight)\n",
    "# S = dec.fc1.weight\n",
    "S = rot1.fc1.weight\n",
    "Sinv = rot2.fc1.weight\n",
    "# Sinv = torch.pinverse(S)\n",
    "plt.subplot(1, 3, 1)\n",
    "sns.heatmap(S.detach().cpu().numpy())\n",
    "plt.subplot(1, 3, 2)\n",
    "sns.heatmap(Sinv.detach().cpu().numpy())\n",
    "plt.subplot(1, 3, 3)\n",
    "sns.heatmap((S @ Sinv).abs().detach().cpu().numpy())"
   ]
  },
  {
   "cell_type": "code",
   "execution_count": null,
   "metadata": {},
   "outputs": [],
   "source": []
  },
  {
   "cell_type": "code",
   "execution_count": 91,
   "metadata": {},
   "outputs": [
    {
     "name": "stdout",
     "output_type": "stream",
     "text": [
      "tensor([[0.0285, 0.0330, 0.0100, 0.0100, 0.0100],\n",
      "        [0.0100, 0.8000, 0.0100, 0.8000, 0.8000],\n",
      "        [0.0116, 0.8000, 0.8000, 0.0122, 0.0100]], device='cuda:0',\n",
      "       grad_fn=<TBackward>)\n"
     ]
    },
    {
     "data": {
      "text/plain": [
       "<AxesSubplot:>"
      ]
     },
     "execution_count": 91,
     "metadata": {},
     "output_type": "execute_result"
    },
    {
     "data": {
      "image/png": "[encoded data removed]",
      "text/plain": [
       "<Figure size 1080x360 with 4 Axes>"
      ]
     },
     "metadata": {
      "needs_background": "light"
     },
     "output_type": "display_data"
    }
   ],
   "source": [
    "MP = model_.model.switch.probas\n",
    "plt.figure(figsize=(15, 5))\n",
    "print(MP.t())\n",
    "plt.subplot(1, 2, 1)\n",
    "sns.heatmap(MP.t().detach().cpu().numpy(), vmin=min_proba, vmax=1)\n",
    "plt.subplot(1, 2, 2)\n",
    "sns.heatmap((Sinv @ MP.t()[:, :n_f] @ S).detach().cpu().numpy())"
   ]
  },
  {
   "cell_type": "code",
   "execution_count": 92,
   "metadata": {},
   "outputs": [
    {
     "data": {
      "text/plain": [
       "(-0.1, 2.0)"
      ]
     },
     "execution_count": 92,
     "metadata": {},
     "output_type": "execute_result"
    },
    {
     "data": {
      "image/png": "[encoded data removed]",
      "text/plain": [
       "<Figure size 432x288 with 1 Axes>"
      ]
     },
     "metadata": {
      "needs_background": "light"
     },
     "output_type": "display_data"
    }
   ],
   "source": [
    "plt.plot(metrics_dict['ratio'])\n",
    "# plt.yscale('log')\n",
    "plt.plot(pd.Series(metrics_dict['ratio']).rolling(100).median())\n",
    "plt.axhline(crit_ratio)\n",
    "plt.axhline(0)\n",
    "plt.ylim((-0.1, 2))"
   ]
  },
  {
   "cell_type": "code",
   "execution_count": 310,
   "metadata": {},
   "outputs": [
    {
     "data": {
      "text/plain": [
       "<matplotlib.lines.Line2D at 0x7f63ae4026d8>"
      ]
     },
     "execution_count": 310,
     "metadata": {},
     "output_type": "execute_result"
    },
    {
     "data": {
      "image/png": "[encoded data removed]",
      "text/plain": [
       "<Figure size 432x288 with 1 Axes>"
      ]
     },
     "metadata": {
      "needs_background": "light"
     },
     "output_type": "display_data"
    }
   ],
   "source": [
    "plt.plot(metrics_dict['ratio'])\n",
    "plt.yscale('log')\n",
    "plt.plot(pd.Series(metrics_dict['loss/fit']).rolling(100).median() /\n",
    "         pd.Series(metrics_dict['loss/fit_all']).rolling(100).median())\n",
    "plt.axhline(crit_ratio)\n",
    "plt.axhline(1)"
   ]
  },
  {
   "cell_type": "code",
   "execution_count": null,
   "metadata": {},
   "outputs": [],
   "source": [
    "#acc -- too bad"
   ]
  },
  {
   "cell_type": "code",
   "execution_count": null,
   "metadata": {},
   "outputs": [],
   "source": [
    "crit_ratio"
   ]
  },
  {
   "cell_type": "code",
   "execution_count": null,
   "metadata": {},
   "outputs": [],
   "source": [
    "torch.set_num_threads(7)"
   ]
  },
  {
   "cell_type": "code",
   "execution_count": null,
   "metadata": {},
   "outputs": [],
   "source": [
    "list(nn.BatchNorm1d(10).named_parameters())"
   ]
  },
  {
   "cell_type": "code",
   "execution_count": null,
   "metadata": {},
   "outputs": [],
   "source": [
    "from sparse_causal_model_learner_rl.loss.losses import fit_loss_obs_space"
   ]
  },
  {
   "cell_type": "code",
   "execution_count": null,
   "metadata": {},
   "outputs": [],
   "source": [
    "loss = fit_loss_obs_space(model=model_,\n",
    "                   rot_pre=rot1,\n",
    "                   rot_post=rot2,\n",
    "                   obs_x=obs.flatten(start_dim=1),\n",
    "                   obs_y=obs_next.flatten(start_dim=1),\n",
    "                   action_x=torch.zeros(0),\n",
    "                   decoder=dec,\n",
    "                   reconstructor=rec,\n",
    "                   model_forward_kwargs={'enable_switch': True},\n",
    "                   additional_feature_keys=[],\n",
    "                   loss_local_cache={})['loss']"
   ]
  },
  {
   "cell_type": "code",
   "execution_count": 666,
   "metadata": {},
   "outputs": [
    {
     "data": {
      "text/plain": [
       "\u001b[0;31mSignature:\u001b[0m \u001b[0mmake_dot\u001b[0m\u001b[0;34m(\u001b[0m\u001b[0mvar\u001b[0m\u001b[0;34m,\u001b[0m \u001b[0mparams\u001b[0m\u001b[0;34m=\u001b[0m\u001b[0;32mNone\u001b[0m\u001b[0;34m)\u001b[0m\u001b[0;34m\u001b[0m\u001b[0m\n",
       "\u001b[0;31mDocstring:\u001b[0m\n",
       "Produces Graphviz representation of PyTorch autograd graph.\n",
       "\n",
       "Blue nodes are the Variables that require grad, orange are Tensors\n",
       "saved for backward in torch.autograd.Function\n",
       "\n",
       "Args:\n",
       "    var: output Variable\n",
       "    params: dict of (name, Variable) to add names to node that\n",
       "        require grad (TODO: make optional)\n",
       "\u001b[0;31mFile:\u001b[0m      ~/miniconda3/envs/causal/lib/python3.7/site-packages/torchviz/dot.py\n",
       "\u001b[0;31mType:\u001b[0m      function\n"
      ]
     },
     "metadata": {},
     "output_type": "display_data"
    }
   ],
   "source": [
    "?make_dot"
   ]
  },
  {
   "cell_type": "code",
   "execution_count": 668,
   "metadata": {},
   "outputs": [
    {
     "data": {
      "text/plain": [
       "'rnn_torchviz.png'"
      ]
     },
     "execution_count": 668,
     "metadata": {},
     "output_type": "execute_result"
    }
   ],
   "source": [
    "from torchviz import make_dot\n",
    "\n",
    "# make_dot(loss, params=dict(list(model_.named_parameters()) + list(dec.named_parameters()) +\n",
    "#                            list(rec.named_parameters()) + list(rot1.named_parameters()) +\n",
    "#                            list(rot2.named_parameters()))).render(\"rnn_torchviz\", format=\"png\")\n",
    "make_dot(loss).render(\"rnn_torchviz\", format=\"png\")"
   ]
  },
  {
   "cell_type": "code",
   "execution_count": 660,
   "metadata": {},
   "outputs": [
    {
     "name": "stdout",
     "output_type": "stream",
     "text": [
      "Collecting torchviz\n",
      "  Downloading torchviz-0.0.1.tar.gz (41 kB)\n",
      "\u001b[K     |████████████████████████████████| 41 kB 223 kB/s eta 0:00:011\n",
      "\u001b[?25hRequirement already satisfied: torch in /home/sergei/miniconda3/envs/causal/lib/python3.7/site-packages (from torchviz) (1.7.1)\n",
      "Requirement already satisfied: graphviz in /home/sergei/miniconda3/envs/causal/lib/python3.7/site-packages (from torchviz) (0.14.2)\n",
      "Requirement already satisfied: typing-extensions in /home/sergei/miniconda3/envs/causal/lib/python3.7/site-packages (from torch->torchviz) (3.7.4.3)\n",
      "Requirement already satisfied: numpy in /home/sergei/miniconda3/envs/causal/lib/python3.7/site-packages (from torch->torchviz) (1.18.5)\n",
      "Building wheels for collected packages: torchviz\n",
      "  Building wheel for torchviz (setup.py) ... \u001b[?25ldone\n",
      "\u001b[?25h  Created wheel for torchviz: filename=torchviz-0.0.1-py3-none-any.whl size=3521 sha256=672ddd6c57b1202df26df8a9dbf02dea5630a6130b342831c7ebd43487fc1b76\n",
      "  Stored in directory: /home/sergei/.cache/pip/wheels/10/7b/c8/3af79ec02e294a832c01037bcb38302bbcee0bb020dcbbbd3e\n",
      "Successfully built torchviz\n",
      "Installing collected packages: torchviz\n",
      "Successfully installed torchviz-0.0.1\n"
     ]
    }
   ],
   "source": [
    "!pip install torchviz"
   ]
  },
  {
   "cell_type": "code",
   "execution_count": null,
   "metadata": {},
   "outputs": [],
   "source": []
  },
  {
   "cell_type": "code",
   "execution_count": 652,
   "metadata": {},
   "outputs": [
    {
     "data": {
      "text/plain": [
       "tensor([])"
      ]
     },
     "execution_count": 652,
     "metadata": {},
     "output_type": "execute_result"
    }
   ],
   "source": [
    "torch.zeros(0)"
   ]
  },
  {
   "cell_type": "code",
   "execution_count": 337,
   "metadata": {},
   "outputs": [],
   "source": []
  },
  {
   "cell_type": "code",
   "execution_count": 343,
   "metadata": {},
   "outputs": [],
   "source": []
  },
  {
   "cell_type": "code",
   "execution_count": 344,
   "metadata": {},
   "outputs": [
    {
     "data": {
      "text/plain": [
       "['ve2_toy_digits']"
      ]
     },
     "execution_count": 344,
     "metadata": {},
     "output_type": "execute_result"
    }
   ],
   "source": []
  },
  {
   "cell_type": "code",
   "execution_count": 345,
   "metadata": {},
   "outputs": [
    {
     "name": "stdout",
     "output_type": "stream",
     "text": [
      "Make environment VectorIncrement-v0 None {}\n",
      "md -1\n",
      "md -1\n"
     ]
    }
   ],
   "source": [
    "env = load_env()"
   ]
  },
  {
   "cell_type": "code",
   "execution_count": 346,
   "metadata": {},
   "outputs": [
    {
     "name": "stdout",
     "output_type": "stream",
     "text": [
      "md -1\n",
      "md -1\n"
     ]
    },
    {
     "data": {
      "text/plain": [
       "<matplotlib.image.AxesImage at 0x7f6392dd2780>"
      ]
     },
     "execution_count": 346,
     "metadata": {},
     "output_type": "execute_result"
    },
    {
     "data": {
      "image/png": "[encoded data removed]",
      "text/plain": [
       "<Figure size 432x288 with 1 Axes>"
      ]
     },
     "metadata": {
      "needs_background": "light"
     },
     "output_type": "display_data"
    }
   ],
   "source": [
    "plt.imshow(env.reset())"
   ]
  },
  {
   "cell_type": "code",
   "execution_count": 347,
   "metadata": {},
   "outputs": [
    {
     "name": "stdout",
     "output_type": "stream",
     "text": [
      "md -1\n",
      "md -1\n"
     ]
    },
    {
     "data": {
      "image/png": "[encoded data removed]",
      "text/plain": [
       "<Figure size 432x288 with 1 Axes>"
      ]
     },
     "metadata": {
      "needs_background": "light"
     },
     "output_type": "display_data"
    },
    {
     "name": "stdout",
     "output_type": "stream",
     "text": [
      "md -1\n",
      "md -1\n"
     ]
    },
    {
     "data": {
      "image/png": "[encoded data removed]",
      "text/plain": [
       "<Figure size 432x288 with 1 Axes>"
      ]
     },
     "metadata": {
      "needs_background": "light"
     },
     "output_type": "display_data"
    },
    {
     "name": "stdout",
     "output_type": "stream",
     "text": [
      "md -1\n",
      "md -1\n"
     ]
    },
    {
     "data": {
      "image/png": "[encoded data removed]",
      "text/plain": [
       "<Figure size 432x288 with 1 Axes>"
      ]
     },
     "metadata": {
      "needs_background": "light"
     },
     "output_type": "display_data"
    },
    {
     "name": "stdout",
     "output_type": "stream",
     "text": [
      "md -1\n",
      "md -1\n"
     ]
    },
    {
     "data": {
      "image/png": "[encoded data removed]",
      "text/plain": [
       "<Figure size 432x288 with 1 Axes>"
      ]
     },
     "metadata": {
      "needs_background": "light"
     },
     "output_type": "display_data"
    },
    {
     "name": "stdout",
     "output_type": "stream",
     "text": [
      "md -1\n",
      "md -1\n"
     ]
    },
    {
     "data": {
      "image/png": "[encoded data removed]",
      "text/plain": [
       "<Figure size 432x288 with 1 Axes>"
      ]
     },
     "metadata": {
      "needs_background": "light"
     },
     "output_type": "display_data"
    },
    {
     "name": "stdout",
     "output_type": "stream",
     "text": [
      "md -1\n",
      "md -1\n"
     ]
    },
    {
     "data": {
      "image/png": "[encoded data removed]",
      "text/plain": [
       "<Figure size 432x288 with 1 Axes>"
      ]
     },
     "metadata": {
      "needs_background": "light"
     },
     "output_type": "display_data"
    },
    {
     "name": "stdout",
     "output_type": "stream",
     "text": [
      "md -1\n",
      "md -1\n"
     ]
    },
    {
     "data": {
      "image/png": "[encoded data removed]",
      "text/plain": [
       "<Figure size 432x288 with 1 Axes>"
      ]
     },
     "metadata": {
      "needs_background": "light"
     },
     "output_type": "display_data"
    },
    {
     "name": "stdout",
     "output_type": "stream",
     "text": [
      "md -1\n",
      "md -1\n"
     ]
    },
    {
     "data": {
      "image/png": "[encoded data removed]",
      "text/plain": [
       "<Figure size 432x288 with 1 Axes>"
      ]
     },
     "metadata": {
      "needs_background": "light"
     },
     "output_type": "display_data"
    },
    {
     "name": "stdout",
     "output_type": "stream",
     "text": [
      "md -1\n",
      "md -1\n"
     ]
    },
    {
     "data": {
      "image/png": "[encoded data removed]",
      "text/plain": [
       "<Figure size 432x288 with 1 Axes>"
      ]
     },
     "metadata": {
      "needs_background": "light"
     },
     "output_type": "display_data"
    },
    {
     "name": "stdout",
     "output_type": "stream",
     "text": [
      "md -1\n",
      "md -1\n"
     ]
    },
    {
     "data": {
      "image/png": "[encoded data removed]",
      "text/plain": [
       "<Figure size 432x288 with 1 Axes>"
      ]
     },
     "metadata": {
      "needs_background": "light"
     },
     "output_type": "display_data"
    },
    {
     "name": "stdout",
     "output_type": "stream",
     "text": [
      "md -1\n",
      "md -1\n"
     ]
    },
    {
     "data": {
      "image/png": "[encoded data removed]",
      "text/plain": [
       "<Figure size 432x288 with 1 Axes>"
      ]
     },
     "metadata": {
      "needs_background": "light"
     },
     "output_type": "display_data"
    },
    {
     "name": "stdout",
     "output_type": "stream",
     "text": [
      "md -1\n",
      "md -1\n"
     ]
    },
    {
     "data": {
      "image/png": "[encoded data removed]",
      "text/plain": [
       "<Figure size 432x288 with 1 Axes>"
      ]
     },
     "metadata": {
      "needs_background": "light"
     },
     "output_type": "display_data"
    },
    {
     "name": "stdout",
     "output_type": "stream",
     "text": [
      "md -1\n",
      "md -1\n"
     ]
    },
    {
     "data": {
      "image/png": "[encoded data removed]",
      "text/plain": [
       "<Figure size 432x288 with 1 Axes>"
      ]
     },
     "metadata": {
      "needs_background": "light"
     },
     "output_type": "display_data"
    },
    {
     "name": "stdout",
     "output_type": "stream",
     "text": [
      "md -1\n",
      "md -1\n"
     ]
    },
    {
     "data": {
      "image/png": "[encoded data removed]",
      "text/plain": [
       "<Figure size 432x288 with 1 Axes>"
      ]
     },
     "metadata": {
      "needs_background": "light"
     },
     "output_type": "display_data"
    },
    {
     "name": "stdout",
     "output_type": "stream",
     "text": [
      "md -1\n",
      "md -1\n"
     ]
    },
    {
     "data": {
      "image/png": "[encoded data removed]",
      "text/plain": [
       "<Figure size 432x288 with 1 Axes>"
      ]
     },
     "metadata": {
      "needs_background": "light"
     },
     "output_type": "display_data"
    },
    {
     "name": "stdout",
     "output_type": "stream",
     "text": [
      "md -1\n",
      "md -1\n"
     ]
    },
    {
     "data": {
      "image/png": "[encoded data removed]",
      "text/plain": [
       "<Figure size 432x288 with 1 Axes>"
      ]
     },
     "metadata": {
      "needs_background": "light"
     },
     "output_type": "display_data"
    },
    {
     "name": "stdout",
     "output_type": "stream",
     "text": [
      "md -1\n",
      "md -1\n"
     ]
    },
    {
     "data": {
      "image/png": "[encoded data removed]",
      "text/plain": [
       "<Figure size 432x288 with 1 Axes>"
      ]
     },
     "metadata": {
      "needs_background": "light"
     },
     "output_type": "display_data"
    },
    {
     "name": "stdout",
     "output_type": "stream",
     "text": [
      "md -1\n",
      "md -1\n"
     ]
    },
    {
     "data": {
      "image/png": "[encoded data removed]",
      "text/plain": [
       "<Figure size 432x288 with 1 Axes>"
      ]
     },
     "metadata": {
      "needs_background": "light"
     },
     "output_type": "display_data"
    },
    {
     "name": "stdout",
     "output_type": "stream",
     "text": [
      "md -1\n",
      "md -1\n"
     ]
    },
    {
     "data": {
      "image/png": "[encoded data removed]",
      "text/plain": [
       "<Figure size 432x288 with 1 Axes>"
      ]
     },
     "metadata": {
      "needs_background": "light"
     },
     "output_type": "display_data"
    },
    {
     "name": "stdout",
     "output_type": "stream",
     "text": [
      "md -1\n",
      "md -1\n"
     ]
    },
    {
     "data": {
      "image/png": "[encoded data removed]",
      "text/plain": [
       "<Figure size 432x288 with 1 Axes>"
      ]
     },
     "metadata": {
      "needs_background": "light"
     },
     "output_type": "display_data"
    },
    {
     "name": "stdout",
     "output_type": "stream",
     "text": [
      "md -1\n",
      "md -1\n"
     ]
    },
    {
     "data": {
      "image/png": "[encoded data removed]",
      "text/plain": [
       "<Figure size 432x288 with 1 Axes>"
      ]
     },
     "metadata": {
      "needs_background": "light"
     },
     "output_type": "display_data"
    },
    {
     "name": "stdout",
     "output_type": "stream",
     "text": [
      "md -1\n",
      "md -1\n"
     ]
    },
    {
     "data": {
      "image/png": "[encoded data removed]",
      "text/plain": [
       "<Figure size 432x288 with 1 Axes>"
      ]
     },
     "metadata": {
      "needs_background": "light"
     },
     "output_type": "display_data"
    },
    {
     "name": "stdout",
     "output_type": "stream",
     "text": [
      "md -1\n",
      "md -1\n"
     ]
    },
    {
     "data": {
      "image/png": "[encoded data removed]",
      "text/plain": [
       "<Figure size 432x288 with 1 Axes>"
      ]
     },
     "metadata": {
      "needs_background": "light"
     },
     "output_type": "display_data"
    },
    {
     "name": "stdout",
     "output_type": "stream",
     "text": [
      "md -1\n",
      "md -1\n"
     ]
    },
    {
     "data": {
      "image/png": "[encoded data removed]",
      "text/plain": [
       "<Figure size 432x288 with 1 Axes>"
      ]
     },
     "metadata": {
      "needs_background": "light"
     },
     "output_type": "display_data"
    },
    {
     "name": "stdout",
     "output_type": "stream",
     "text": [
      "md -1\n",
      "md -1\n"
     ]
    },
    {
     "data": {
      "image/png": "[encoded data removed]",
      "text/plain": [
       "<Figure size 432x288 with 1 Axes>"
      ]
     },
     "metadata": {
      "needs_background": "light"
     },
     "output_type": "display_data"
    },
    {
     "name": "stdout",
     "output_type": "stream",
     "text": [
      "md -1\n",
      "md -1\n"
     ]
    },
    {
     "data": {
      "image/png": "[encoded data removed]",
      "text/plain": [
       "<Figure size 432x288 with 1 Axes>"
      ]
     },
     "metadata": {
      "needs_background": "light"
     },
     "output_type": "display_data"
    },
    {
     "name": "stdout",
     "output_type": "stream",
     "text": [
      "md -1\n",
      "md -1\n"
     ]
    },
    {
     "data": {
      "image/png": "[encoded data removed]",
      "text/plain": [
       "<Figure size 432x288 with 1 Axes>"
      ]
     },
     "metadata": {
      "needs_background": "light"
     },
     "output_type": "display_data"
    },
    {
     "name": "stdout",
     "output_type": "stream",
     "text": [
      "md -1\n",
      "md -1\n"
     ]
    },
    {
     "data": {
      "image/png": "[encoded data removed]",
      "text/plain": [
       "<Figure size 432x288 with 1 Axes>"
      ]
     },
     "metadata": {
      "needs_background": "light"
     },
     "output_type": "display_data"
    },
    {
     "name": "stdout",
     "output_type": "stream",
     "text": [
      "md -1\n",
      "md -1\n"
     ]
    },
    {
     "data": {
      "image/png": "[encoded data removed]",
      "text/plain": [
       "<Figure size 432x288 with 1 Axes>"
      ]
     },
     "metadata": {
      "needs_background": "light"
     },
     "output_type": "display_data"
    },
    {
     "name": "stdout",
     "output_type": "stream",
     "text": [
      "md -1\n",
      "md -1\n"
     ]
    },
    {
     "data": {
      "image/png": "[encoded data removed]",
      "text/plain": [
       "<Figure size 432x288 with 1 Axes>"
      ]
     },
     "metadata": {
      "needs_background": "light"
     },
     "output_type": "display_data"
    },
    {
     "name": "stdout",
     "output_type": "stream",
     "text": [
      "md -1\n",
      "md -1\n"
     ]
    },
    {
     "data": {
      "image/png": "[encoded data removed]",
      "text/plain": [
       "<Figure size 432x288 with 1 Axes>"
      ]
     },
     "metadata": {
      "needs_background": "light"
     },
     "output_type": "display_data"
    },
    {
     "name": "stdout",
     "output_type": "stream",
     "text": [
      "md -1\n",
      "md -1\n"
     ]
    },
    {
     "data": {
      "image/png": "[encoded data removed]",
      "text/plain": [
       "<Figure size 432x288 with 1 Axes>"
      ]
     },
     "metadata": {
      "needs_background": "light"
     },
     "output_type": "display_data"
    },
    {
     "name": "stdout",
     "output_type": "stream",
     "text": [
      "md -1\n",
      "md -1\n"
     ]
    },
    {
     "data": {
      "image/png": "[encoded data removed]",
      "text/plain": [
       "<Figure size 432x288 with 1 Axes>"
      ]
     },
     "metadata": {
      "needs_background": "light"
     },
     "output_type": "display_data"
    },
    {
     "name": "stdout",
     "output_type": "stream",
     "text": [
      "md -1\n",
      "md -1\n"
     ]
    },
    {
     "data": {
      "image/png": "[encoded data removed]",
      "text/plain": [
       "<Figure size 432x288 with 1 Axes>"
      ]
     },
     "metadata": {
      "needs_background": "light"
     },
     "output_type": "display_data"
    },
    {
     "name": "stdout",
     "output_type": "stream",
     "text": [
      "md -1\n",
      "md -1\n"
     ]
    },
    {
     "data": {
      "image/png": "[encoded data removed]",
      "text/plain": [
       "<Figure size 432x288 with 1 Axes>"
      ]
     },
     "metadata": {
      "needs_background": "light"
     },
     "output_type": "display_data"
    },
    {
     "name": "stdout",
     "output_type": "stream",
     "text": [
      "md -1\n"
     ]
    },
    {
     "ename": "KeyError",
     "evalue": "23\n  In call to configurable 'small_int_vector_asimage' (<function small_int_vector_asimage at 0x7f6392e157b8>)",
     "output_type": "error",
     "traceback": [
      "\u001b[0;31m---------------------------------------------------------------------------\u001b[0m",
      "\u001b[0;31mKeyError\u001b[0m                                  Traceback (most recent call last)",
      "\u001b[0;32m<ipython-input-347-b20c8e953f4a>\u001b[0m in \u001b[0;36m<module>\u001b[0;34m\u001b[0m\n\u001b[1;32m      1\u001b[0m \u001b[0;32mfor\u001b[0m \u001b[0m_\u001b[0m \u001b[0;32min\u001b[0m \u001b[0mrange\u001b[0m\u001b[0;34m(\u001b[0m\u001b[0;36m100\u001b[0m\u001b[0;34m)\u001b[0m\u001b[0;34m:\u001b[0m\u001b[0;34m\u001b[0m\u001b[0m\n\u001b[0;32m----> 2\u001b[0;31m     \u001b[0mplt\u001b[0m\u001b[0;34m.\u001b[0m\u001b[0mimshow\u001b[0m\u001b[0;34m(\u001b[0m\u001b[0menv\u001b[0m\u001b[0;34m.\u001b[0m\u001b[0mstep\u001b[0m\u001b[0;34m(\u001b[0m\u001b[0menv\u001b[0m\u001b[0;34m.\u001b[0m\u001b[0maction_space\u001b[0m\u001b[0;34m.\u001b[0m\u001b[0msample\u001b[0m\u001b[0;34m(\u001b[0m\u001b[0;34m)\u001b[0m\u001b[0;34m)\u001b[0m\u001b[0;34m[\u001b[0m\u001b[0;36m0\u001b[0m\u001b[0;34m]\u001b[0m\u001b[0;34m)\u001b[0m\u001b[0;34m\u001b[0m\u001b[0m\n\u001b[0m\u001b[1;32m      3\u001b[0m     \u001b[0mplt\u001b[0m\u001b[0;34m.\u001b[0m\u001b[0mshow\u001b[0m\u001b[0;34m(\u001b[0m\u001b[0;34m)\u001b[0m\u001b[0;34m\u001b[0m\u001b[0m\n",
      "\u001b[0;32m~/miniconda3/envs/causal/lib/python3.7/site-packages/gym/core.py\u001b[0m in \u001b[0;36mstep\u001b[0;34m(self, action)\u001b[0m\n\u001b[1;32m    266\u001b[0m \u001b[0;34m\u001b[0m\u001b[0m\n\u001b[1;32m    267\u001b[0m     \u001b[0;32mdef\u001b[0m \u001b[0mstep\u001b[0m\u001b[0;34m(\u001b[0m\u001b[0mself\u001b[0m\u001b[0;34m,\u001b[0m \u001b[0maction\u001b[0m\u001b[0;34m)\u001b[0m\u001b[0;34m:\u001b[0m\u001b[0;34m\u001b[0m\u001b[0m\n\u001b[0;32m--> 268\u001b[0;31m         \u001b[0mobservation\u001b[0m\u001b[0;34m,\u001b[0m \u001b[0mreward\u001b[0m\u001b[0;34m,\u001b[0m \u001b[0mdone\u001b[0m\u001b[0;34m,\u001b[0m \u001b[0minfo\u001b[0m \u001b[0;34m=\u001b[0m \u001b[0mself\u001b[0m\u001b[0;34m.\u001b[0m\u001b[0menv\u001b[0m\u001b[0;34m.\u001b[0m\u001b[0mstep\u001b[0m\u001b[0;34m(\u001b[0m\u001b[0maction\u001b[0m\u001b[0;34m)\u001b[0m\u001b[0;34m\u001b[0m\u001b[0m\n\u001b[0m\u001b[1;32m    269\u001b[0m         \u001b[0;32mreturn\u001b[0m \u001b[0mself\u001b[0m\u001b[0;34m.\u001b[0m\u001b[0mobservation\u001b[0m\u001b[0;34m(\u001b[0m\u001b[0mobservation\u001b[0m\u001b[0;34m)\u001b[0m\u001b[0;34m,\u001b[0m \u001b[0mreward\u001b[0m\u001b[0;34m,\u001b[0m \u001b[0mdone\u001b[0m\u001b[0;34m,\u001b[0m \u001b[0minfo\u001b[0m\u001b[0;34m\u001b[0m\u001b[0m\n\u001b[1;32m    270\u001b[0m \u001b[0;34m\u001b[0m\u001b[0m\n",
      "\u001b[0;32m~/miniconda3/envs/causal/lib/python3.7/site-packages/gym/core.py\u001b[0m in \u001b[0;36mstep\u001b[0;34m(self, action)\u001b[0m\n\u001b[1;32m    267\u001b[0m     \u001b[0;32mdef\u001b[0m \u001b[0mstep\u001b[0m\u001b[0;34m(\u001b[0m\u001b[0mself\u001b[0m\u001b[0;34m,\u001b[0m \u001b[0maction\u001b[0m\u001b[0;34m)\u001b[0m\u001b[0;34m:\u001b[0m\u001b[0;34m\u001b[0m\u001b[0m\n\u001b[1;32m    268\u001b[0m         \u001b[0mobservation\u001b[0m\u001b[0;34m,\u001b[0m \u001b[0mreward\u001b[0m\u001b[0;34m,\u001b[0m \u001b[0mdone\u001b[0m\u001b[0;34m,\u001b[0m \u001b[0minfo\u001b[0m \u001b[0;34m=\u001b[0m \u001b[0mself\u001b[0m\u001b[0;34m.\u001b[0m\u001b[0menv\u001b[0m\u001b[0;34m.\u001b[0m\u001b[0mstep\u001b[0m\u001b[0;34m(\u001b[0m\u001b[0maction\u001b[0m\u001b[0;34m)\u001b[0m\u001b[0;34m\u001b[0m\u001b[0m\n\u001b[0;32m--> 269\u001b[0;31m         \u001b[0;32mreturn\u001b[0m \u001b[0mself\u001b[0m\u001b[0;34m.\u001b[0m\u001b[0mobservation\u001b[0m\u001b[0;34m(\u001b[0m\u001b[0mobservation\u001b[0m\u001b[0;34m)\u001b[0m\u001b[0;34m,\u001b[0m \u001b[0mreward\u001b[0m\u001b[0;34m,\u001b[0m \u001b[0mdone\u001b[0m\u001b[0;34m,\u001b[0m \u001b[0minfo\u001b[0m\u001b[0;34m\u001b[0m\u001b[0m\n\u001b[0m\u001b[1;32m    270\u001b[0m \u001b[0;34m\u001b[0m\u001b[0m\n\u001b[1;32m    271\u001b[0m     \u001b[0;32mdef\u001b[0m \u001b[0mobservation\u001b[0m\u001b[0;34m(\u001b[0m\u001b[0mself\u001b[0m\u001b[0;34m,\u001b[0m \u001b[0mobservation\u001b[0m\u001b[0;34m)\u001b[0m\u001b[0;34m:\u001b[0m\u001b[0;34m\u001b[0m\u001b[0m\n",
      "\u001b[0;32m~/miniconda3/envs/causal/lib/python3.7/site-packages/gym/wrappers/transform_observation.py\u001b[0m in \u001b[0;36mobservation\u001b[0;34m(self, observation)\u001b[0m\n\u001b[1;32m     24\u001b[0m \u001b[0;34m\u001b[0m\u001b[0m\n\u001b[1;32m     25\u001b[0m     \u001b[0;32mdef\u001b[0m \u001b[0mobservation\u001b[0m\u001b[0;34m(\u001b[0m\u001b[0mself\u001b[0m\u001b[0;34m,\u001b[0m \u001b[0mobservation\u001b[0m\u001b[0;34m)\u001b[0m\u001b[0;34m:\u001b[0m\u001b[0;34m\u001b[0m\u001b[0m\n\u001b[0;32m---> 26\u001b[0;31m         \u001b[0;32mreturn\u001b[0m \u001b[0mself\u001b[0m\u001b[0;34m.\u001b[0m\u001b[0mf\u001b[0m\u001b[0;34m(\u001b[0m\u001b[0mobservation\u001b[0m\u001b[0;34m)\u001b[0m\u001b[0;34m\u001b[0m\u001b[0m\n\u001b[0m",
      "\u001b[0;32m~/miniconda3/envs/causal/lib/python3.7/site-packages/gin/config.py\u001b[0m in \u001b[0;36mgin_wrapper\u001b[0;34m(*args, **kwargs)\u001b[0m\n\u001b[1;32m   1076\u001b[0m       \u001b[0mscope_info\u001b[0m \u001b[0;34m=\u001b[0m \u001b[0;34m\" in scope '{}'\"\u001b[0m\u001b[0;34m.\u001b[0m\u001b[0mformat\u001b[0m\u001b[0;34m(\u001b[0m\u001b[0mscope_str\u001b[0m\u001b[0;34m)\u001b[0m \u001b[0;32mif\u001b[0m \u001b[0mscope_str\u001b[0m \u001b[0;32melse\u001b[0m \u001b[0;34m''\u001b[0m\u001b[0;34m\u001b[0m\u001b[0m\n\u001b[1;32m   1077\u001b[0m       \u001b[0merr_str\u001b[0m \u001b[0;34m=\u001b[0m \u001b[0merr_str\u001b[0m\u001b[0;34m.\u001b[0m\u001b[0mformat\u001b[0m\u001b[0;34m(\u001b[0m\u001b[0mname\u001b[0m\u001b[0;34m,\u001b[0m \u001b[0mfn_or_cls\u001b[0m\u001b[0;34m,\u001b[0m \u001b[0mscope_info\u001b[0m\u001b[0;34m)\u001b[0m\u001b[0;34m\u001b[0m\u001b[0m\n\u001b[0;32m-> 1078\u001b[0;31m       \u001b[0mutils\u001b[0m\u001b[0;34m.\u001b[0m\u001b[0maugment_exception_message_and_reraise\u001b[0m\u001b[0;34m(\u001b[0m\u001b[0me\u001b[0m\u001b[0;34m,\u001b[0m \u001b[0merr_str\u001b[0m\u001b[0;34m)\u001b[0m\u001b[0;34m\u001b[0m\u001b[0m\n\u001b[0m\u001b[1;32m   1079\u001b[0m \u001b[0;34m\u001b[0m\u001b[0m\n\u001b[1;32m   1080\u001b[0m   \u001b[0;32mreturn\u001b[0m \u001b[0mgin_wrapper\u001b[0m\u001b[0;34m\u001b[0m\u001b[0m\n",
      "\u001b[0;32m~/miniconda3/envs/causal/lib/python3.7/site-packages/gin/utils.py\u001b[0m in \u001b[0;36maugment_exception_message_and_reraise\u001b[0;34m(exception, message)\u001b[0m\n\u001b[1;32m     47\u001b[0m   \u001b[0;32mif\u001b[0m \u001b[0msix\u001b[0m\u001b[0;34m.\u001b[0m\u001b[0mPY3\u001b[0m\u001b[0;34m:\u001b[0m\u001b[0;34m\u001b[0m\u001b[0m\n\u001b[1;32m     48\u001b[0m     \u001b[0mExceptionProxy\u001b[0m\u001b[0;34m.\u001b[0m\u001b[0m__qualname__\u001b[0m \u001b[0;34m=\u001b[0m \u001b[0mtype\u001b[0m\u001b[0;34m(\u001b[0m\u001b[0mexception\u001b[0m\u001b[0;34m)\u001b[0m\u001b[0;34m.\u001b[0m\u001b[0m__qualname__\u001b[0m\u001b[0;34m\u001b[0m\u001b[0m\n\u001b[0;32m---> 49\u001b[0;31m     \u001b[0msix\u001b[0m\u001b[0;34m.\u001b[0m\u001b[0mraise_from\u001b[0m\u001b[0;34m(\u001b[0m\u001b[0mproxy\u001b[0m\u001b[0;34m.\u001b[0m\u001b[0mwith_traceback\u001b[0m\u001b[0;34m(\u001b[0m\u001b[0mexception\u001b[0m\u001b[0;34m.\u001b[0m\u001b[0m__traceback__\u001b[0m\u001b[0;34m)\u001b[0m\u001b[0;34m,\u001b[0m \u001b[0;32mNone\u001b[0m\u001b[0;34m)\u001b[0m\u001b[0;34m\u001b[0m\u001b[0m\n\u001b[0m\u001b[1;32m     50\u001b[0m   \u001b[0;32melse\u001b[0m\u001b[0;34m:\u001b[0m\u001b[0;34m\u001b[0m\u001b[0m\n\u001b[1;32m     51\u001b[0m     \u001b[0msix\u001b[0m\u001b[0;34m.\u001b[0m\u001b[0mreraise\u001b[0m\u001b[0;34m(\u001b[0m\u001b[0mproxy\u001b[0m\u001b[0;34m,\u001b[0m \u001b[0;32mNone\u001b[0m\u001b[0;34m,\u001b[0m \u001b[0msys\u001b[0m\u001b[0;34m.\u001b[0m\u001b[0mexc_info\u001b[0m\u001b[0;34m(\u001b[0m\u001b[0;34m)\u001b[0m\u001b[0;34m[\u001b[0m\u001b[0;36m2\u001b[0m\u001b[0;34m]\u001b[0m\u001b[0;34m)\u001b[0m\u001b[0;34m\u001b[0m\u001b[0m\n",
      "\u001b[0;32m~/miniconda3/envs/causal/lib/python3.7/site-packages/six.py\u001b[0m in \u001b[0;36mraise_from\u001b[0;34m(value, from_value)\u001b[0m\n",
      "\u001b[0;32m~/miniconda3/envs/causal/lib/python3.7/site-packages/gin/config.py\u001b[0m in \u001b[0;36mgin_wrapper\u001b[0;34m(*args, **kwargs)\u001b[0m\n\u001b[1;32m   1053\u001b[0m \u001b[0;34m\u001b[0m\u001b[0m\n\u001b[1;32m   1054\u001b[0m     \u001b[0;32mtry\u001b[0m\u001b[0;34m:\u001b[0m\u001b[0;34m\u001b[0m\u001b[0m\n\u001b[0;32m-> 1055\u001b[0;31m       \u001b[0;32mreturn\u001b[0m \u001b[0mfn\u001b[0m\u001b[0;34m(\u001b[0m\u001b[0;34m*\u001b[0m\u001b[0mnew_args\u001b[0m\u001b[0;34m,\u001b[0m \u001b[0;34m**\u001b[0m\u001b[0mnew_kwargs\u001b[0m\u001b[0;34m)\u001b[0m\u001b[0;34m\u001b[0m\u001b[0m\n\u001b[0m\u001b[1;32m   1056\u001b[0m     \u001b[0;32mexcept\u001b[0m \u001b[0mException\u001b[0m \u001b[0;32mas\u001b[0m \u001b[0me\u001b[0m\u001b[0;34m:\u001b[0m  \u001b[0;31m# pylint: disable=broad-except\u001b[0m\u001b[0;34m\u001b[0m\u001b[0m\n\u001b[1;32m   1057\u001b[0m       \u001b[0merr_str\u001b[0m \u001b[0;34m=\u001b[0m \u001b[0;34m''\u001b[0m\u001b[0;34m\u001b[0m\u001b[0m\n",
      "\u001b[0;32m~/git/science/causality-disentanglement/encoder/digit_encoder.py\u001b[0m in \u001b[0;36msmall_int_vector_asimage\u001b[0;34m(v, max_digits, eps, max_digit_value)\u001b[0m\n\u001b[1;32m    246\u001b[0m         \u001b[0;32mfor\u001b[0m \u001b[0md\u001b[0m \u001b[0;32min\u001b[0m \u001b[0mds\u001b[0m\u001b[0;34m:\u001b[0m\u001b[0;34m\u001b[0m\u001b[0m\n\u001b[1;32m    247\u001b[0m             \u001b[0;31m#             print(d)\u001b[0m\u001b[0;34m\u001b[0m\u001b[0;34m\u001b[0m\u001b[0m\n\u001b[0;32m--> 248\u001b[0;31m             \u001b[0mresult\u001b[0m\u001b[0;34m[\u001b[0m\u001b[0;34m:\u001b[0m\u001b[0;34m,\u001b[0m \u001b[0moffset\u001b[0m\u001b[0;34m:\u001b[0m\u001b[0moffset\u001b[0m \u001b[0;34m+\u001b[0m \u001b[0;36m3\u001b[0m\u001b[0;34m]\u001b[0m \u001b[0;34m=\u001b[0m \u001b[0mdigit_to_np\u001b[0m\u001b[0;34m(\u001b[0m\u001b[0mint\u001b[0m\u001b[0;34m(\u001b[0m\u001b[0md\u001b[0m\u001b[0;34m)\u001b[0m\u001b[0;34m)\u001b[0m\u001b[0;34m\u001b[0m\u001b[0m\n\u001b[0m\u001b[1;32m    249\u001b[0m             \u001b[0moffset\u001b[0m \u001b[0;34m+=\u001b[0m \u001b[0;36m4\u001b[0m\u001b[0;34m\u001b[0m\u001b[0m\n\u001b[1;32m    250\u001b[0m     \u001b[0;32mreturn\u001b[0m \u001b[0mresult\u001b[0m\u001b[0;34m\u001b[0m\u001b[0m\n",
      "\u001b[0;32m~/git/science/causality-disentanglement/encoder/digit_encoder.py\u001b[0m in \u001b[0;36mdigit_to_np\u001b[0;34m(digit, digits)\u001b[0m\n\u001b[1;32m    206\u001b[0m \u001b[0;32mdef\u001b[0m \u001b[0mdigit_to_np\u001b[0m\u001b[0;34m(\u001b[0m\u001b[0mdigit\u001b[0m\u001b[0;34m,\u001b[0m \u001b[0mdigits\u001b[0m\u001b[0;34m=\u001b[0m\u001b[0mdigits\u001b[0m\u001b[0;34m)\u001b[0m\u001b[0;34m:\u001b[0m\u001b[0;34m\u001b[0m\u001b[0m\n\u001b[1;32m    207\u001b[0m     \u001b[0;34m\"\"\"Convert a digit (string of 0, 1) into an np array.\"\"\"\u001b[0m\u001b[0;34m\u001b[0m\u001b[0m\n\u001b[0;32m--> 208\u001b[0;31m     \u001b[0mval\u001b[0m \u001b[0;34m=\u001b[0m \u001b[0;34m[\u001b[0m\u001b[0mx\u001b[0m\u001b[0;34m.\u001b[0m\u001b[0mstrip\u001b[0m\u001b[0;34m(\u001b[0m\u001b[0;34m)\u001b[0m \u001b[0;32mfor\u001b[0m \u001b[0mx\u001b[0m \u001b[0;32min\u001b[0m \u001b[0mdigits\u001b[0m\u001b[0;34m[\u001b[0m\u001b[0mdigit\u001b[0m\u001b[0;34m]\u001b[0m\u001b[0;34m.\u001b[0m\u001b[0mstrip\u001b[0m\u001b[0;34m(\u001b[0m\u001b[0;34m)\u001b[0m\u001b[0;34m.\u001b[0m\u001b[0msplitlines\u001b[0m\u001b[0;34m(\u001b[0m\u001b[0;34m)\u001b[0m\u001b[0;34m]\u001b[0m\u001b[0;34m\u001b[0m\u001b[0m\n\u001b[0m\u001b[1;32m    209\u001b[0m     \u001b[0mval\u001b[0m \u001b[0;34m=\u001b[0m \u001b[0mnp\u001b[0m\u001b[0;34m.\u001b[0m\u001b[0marray\u001b[0m\u001b[0;34m(\u001b[0m\u001b[0;34m[\u001b[0m\u001b[0;34m[\u001b[0m\u001b[0my\u001b[0m \u001b[0;34m==\u001b[0m \u001b[0;34m'1'\u001b[0m \u001b[0;32mfor\u001b[0m \u001b[0my\u001b[0m \u001b[0;32min\u001b[0m \u001b[0mx\u001b[0m\u001b[0;34m]\u001b[0m \u001b[0;32mfor\u001b[0m \u001b[0mx\u001b[0m \u001b[0;32min\u001b[0m \u001b[0mval\u001b[0m\u001b[0;34m]\u001b[0m\u001b[0;34m)\u001b[0m\u001b[0;34m\u001b[0m\u001b[0m\n\u001b[1;32m    210\u001b[0m     \u001b[0;32mreturn\u001b[0m \u001b[0mval\u001b[0m\u001b[0;34m\u001b[0m\u001b[0m\n",
      "\u001b[0;31mKeyError\u001b[0m: 23\n  In call to configurable 'small_int_vector_asimage' (<function small_int_vector_asimage at 0x7f6392e157b8>)"
     ]
    }
   ],
   "source": [
    "for _ in range(100):\n",
    "    plt.imshow(env.step(env.action_space.sample())[0])\n",
    "    plt.show()"
   ]
  },
  {
   "cell_type": "code",
   "execution_count": null,
   "metadata": {},
   "outputs": [],
   "source": []
  },
  {
   "cell_type": "code",
   "execution_count": null,
   "metadata": {},
   "outputs": [],
   "source": []
  }
 ],
 "metadata": {
  "kernelspec": {
   "display_name": "Python 3",
   "language": "python",
   "name": "python3"
  },
  "language_info": {
   "codemirror_mode": {
    "name": "ipython",
    "version": 3
   },
   "file_extension": ".py",
   "mimetype": "text/x-python",
   "name": "python",
   "nbconvert_exporter": "python",
   "pygments_lexer": "ipython3",
   "version": "3.7.0"
  }
 },
 "nbformat": 4,
 "nbformat_minor": 5
}
