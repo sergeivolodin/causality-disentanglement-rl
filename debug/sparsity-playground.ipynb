{
 "cells": [
  {
   "cell_type": "code",
   "execution_count": 1,
   "id": "featured-stupid",
   "metadata": {},
   "outputs": [],
   "source": [
    "%load_ext autoreload\n",
    "%autoreload 2\n",
    "import os\n",
    "os.environ['CUDA_VISIBLE_DEVICES'] = \"0\"\n",
    "import torch\n",
    "from torch import nn\n",
    "import numpy as np\n",
    "from matplotlib import pyplot as plt\n",
    "from encoder.digit_encoder import small_int_vector_asimage\n",
    "from sparse_causal_model_learner_rl.trainable.combined import FCCombinedModel\n",
    "from sparse_causal_model_learner_rl.loss.losses import manual_switch_gradient\n",
    "from sparse_causal_model_learner_rl.trainable.gumbel_switch import WithInputSwitch, LearnableSwitchSimple\n",
    "import seaborn as sns\n",
    "from functools import partial\n",
    "from tqdm.auto import tqdm\n",
    "import pandas as pd\n",
    "from causal_util.helpers import lstdct2dctlst\n",
    "from math import ceil\n",
    "import gin\n",
    "gin.enter_interactive_mode()"
   ]
  },
  {
   "cell_type": "code",
   "execution_count": 2,
   "id": "atmospheric-selling",
   "metadata": {},
   "outputs": [
    {
     "data": {
      "text/plain": [
       "<matplotlib.image.AxesImage at 0x7f06a95a7f10>"
      ]
     },
     "execution_count": 2,
     "metadata": {},
     "output_type": "execute_result"
    },
    {
     "data": {
      "image/png": "[encoded data removed]",
      "text/plain": [
       "<Figure size 432x288 with 1 Axes>"
      ]
     },
     "metadata": {
      "needs_background": "light"
     },
     "output_type": "display_data"
    }
   ],
   "source": [
    "plt.imshow(small_int_vector_asimage([5]))"
   ]
  },
  {
   "cell_type": "code",
   "execution_count": 3,
   "id": "thermal-purple",
   "metadata": {},
   "outputs": [],
   "source": [
    "features = torch.arange(5)\n",
    "obs = torch.from_numpy(np.array([small_int_vector_asimage([int(t)]) for t in features], dtype=np.float32)).cuda().detach()"
   ]
  },
  {
   "cell_type": "code",
   "execution_count": 4,
   "id": "continental-crime",
   "metadata": {},
   "outputs": [],
   "source": [
    "obs_next = obs[torch.randperm(len(obs))]"
   ]
  },
  {
   "cell_type": "code",
   "execution_count": 5,
   "id": "meaning-content",
   "metadata": {},
   "outputs": [
    {
     "data": {
      "text/plain": [
       "<matplotlib.image.AxesImage at 0x7f06a74a5e50>"
      ]
     },
     "execution_count": 5,
     "metadata": {},
     "output_type": "execute_result"
    },
    {
     "data": {
      "image/png": "[encoded data removed]",
      "text/plain": [
       "<Figure size 432x288 with 1 Axes>"
      ]
     },
     "metadata": {
      "needs_background": "light"
     },
     "output_type": "display_data"
    }
   ],
   "source": [
    "plt.imshow(obs_next[0].detach().cpu().numpy())"
   ]
  },
  {
   "cell_type": "code",
   "execution_count": 6,
   "id": "geological-hypothesis",
   "metadata": {},
   "outputs": [],
   "source": [
    "obs_std = obs.std(0, keepdim=True)"
   ]
  },
  {
   "cell_type": "code",
   "execution_count": 7,
   "id": "incoming-reasoning",
   "metadata": {},
   "outputs": [
    {
     "data": {
      "text/plain": [
       "<matplotlib.image.AxesImage at 0x7f06a749c210>"
      ]
     },
     "execution_count": 7,
     "metadata": {},
     "output_type": "execute_result"
    },
    {
     "data": {
      "image/png": "[encoded data removed]",
      "text/plain": [
       "<Figure size 432x288 with 1 Axes>"
      ]
     },
     "metadata": {
      "needs_background": "light"
     },
     "output_type": "display_data"
    }
   ],
   "source": [
    "plt.imshow(obs[0].detach().cpu().numpy())"
   ]
  },
  {
   "cell_type": "code",
   "execution_count": 556,
   "id": "australian-update",
   "metadata": {},
   "outputs": [
    {
     "name": "stdout",
     "output_type": "stream",
     "text": [
      "torch.Size([5, 3]) 15\n"
     ]
    }
   ],
   "source": [
    "shape = obs.shape[1:]\n",
    "size = np.prod(shape)\n",
    "print(shape, size)\n",
    "n_f = 3\n",
    "min_proba = 0.01"
   ]
  },
  {
   "cell_type": "code",
   "execution_count": 557,
   "id": "together-damage",
   "metadata": {},
   "outputs": [
    {
     "ename": "AttributeError",
     "evalue": "'FCCombinedModel' object has no attribute 'fc1'",
     "output_type": "error",
     "traceback": [
      "\u001b[0;31m---------------------------------------------------------------------------\u001b[0m",
      "\u001b[0;31mAttributeError\u001b[0m                            Traceback (most recent call last)",
      "\u001b[0;32m<ipython-input-557-7987635646bb>\u001b[0m in \u001b[0;36m<module>\u001b[0;34m\u001b[0m\n\u001b[0;32m----> 1\u001b[0;31m \u001b[0mrec\u001b[0m\u001b[0;34m.\u001b[0m\u001b[0mfc1\u001b[0m\u001b[0;34m.\u001b[0m\u001b[0mweight\u001b[0m\u001b[0;34m[\u001b[0m\u001b[0;34m:\u001b[0m\u001b[0;34m]\u001b[0m \u001b[0;34m=\u001b[0m \u001b[0mtorch\u001b[0m\u001b[0;34m.\u001b[0m\u001b[0meye\u001b[0m\u001b[0;34m(\u001b[0m\u001b[0;36m3\u001b[0m\u001b[0;34m)\u001b[0m\u001b[0;34m\u001b[0m\u001b[0;34m\u001b[0m\u001b[0m\n\u001b[0m",
      "\u001b[0;32m~/miniconda3/envs/causal/lib/python3.7/site-packages/torch/nn/modules/module.py\u001b[0m in \u001b[0;36m__getattr__\u001b[0;34m(self, name)\u001b[0m\n\u001b[1;32m    574\u001b[0m                 \u001b[0;32mreturn\u001b[0m \u001b[0mmodules\u001b[0m\u001b[0;34m[\u001b[0m\u001b[0mname\u001b[0m\u001b[0;34m]\u001b[0m\u001b[0;34m\u001b[0m\u001b[0;34m\u001b[0m\u001b[0m\n\u001b[1;32m    575\u001b[0m         raise AttributeError(\"'{}' object has no attribute '{}'\".format(\n\u001b[0;32m--> 576\u001b[0;31m             type(self).__name__, name))\n\u001b[0m\u001b[1;32m    577\u001b[0m \u001b[0;34m\u001b[0m\u001b[0m\n\u001b[1;32m    578\u001b[0m     \u001b[0;32mdef\u001b[0m \u001b[0m__setattr__\u001b[0m\u001b[0;34m(\u001b[0m\u001b[0mself\u001b[0m\u001b[0;34m,\u001b[0m \u001b[0mname\u001b[0m\u001b[0;34m,\u001b[0m \u001b[0mvalue\u001b[0m\u001b[0;34m)\u001b[0m\u001b[0;34m:\u001b[0m\u001b[0;34m\u001b[0m\u001b[0;34m\u001b[0m\u001b[0m\n",
      "\u001b[0;31mAttributeError\u001b[0m: 'FCCombinedModel' object has no attribute 'fc1'"
     ]
    }
   ],
   "source": [
    "rec.fc1.weight[:] = torch.eye(3)"
   ]
  },
  {
   "cell_type": "code",
   "execution_count": 727,
   "id": "forced-feedback",
   "metadata": {},
   "outputs": [
    {
     "name": "stdout",
     "output_type": "stream",
     "text": [
      "[False, False]\n",
      "[15, 50, 1] 3\n",
      "[False, False]\n",
      "[3, 50, 1] 15\n",
      "[False, False]\n",
      "[6, 50, 1] 3\n"
     ]
    }
   ],
   "source": [
    "class WithInputFC(nn.Module):\n",
    "    def __init__(self, m, n_units):\n",
    "        super(WithInputFC, self).__init__()\n",
    "        self.m = m\n",
    "        self.bn = nn.BatchNorm1d(n_units)\n",
    "        self.fc1 = nn.Linear(n_units, n_units)\n",
    "#         self.fc1.weight.data[:] = torch.eye(3)\n",
    "#         self.fc1.bias.data[:] = 0\n",
    "    def forward(self, x):\n",
    "#         x = self.bn(x)\n",
    "        x = self.fc1(x)# + x\n",
    "        x = self.m(x)\n",
    "        return x\n",
    "    \n",
    "class WithOutputFC(nn.Module):\n",
    "    def __init__(self, m, n_units):\n",
    "        super(WithOutputFC, self).__init__()\n",
    "        self.m = m\n",
    "        self.fc1 = nn.Linear(n_units, n_units)\n",
    "#         self.fc1.weight.data[:] = 0\n",
    "#         self.fc1.bias.data[:] = 0\n",
    "#         self.fc1 = FCCombinedModel(input_shape=(n_units,),\n",
    "#                                    output_shape=(n_units,),\n",
    "#                                    hidden_sizes=[],\n",
    "#                                    activation_cls=None,\n",
    "#                                    input_reshape=True)\n",
    "        self.bn = nn.BatchNorm1d(n_units)\n",
    "    def forward(self, x):\n",
    "        x = self.m(x)\n",
    "#         x = self.bn(x)\n",
    "        x = self.fc1(x)# + x\n",
    "        return x\n",
    "    \n",
    "class WithLinTransform(nn.Module):\n",
    "    def __init__(self, m, n_units):\n",
    "        super(WithLinTransform, self).__init__()\n",
    "        self.model = m\n",
    "        self.n_features = n_f\n",
    "        self.n_actions = 0\n",
    "        self.n_additional_features = 0\n",
    "        self.fc1 = nn.Linear(n_units, n_units)\n",
    "        \n",
    "    def forward(self, x, **kwargs):\n",
    "        # shape: batch, features\n",
    "        \n",
    "#         M = self.fc1.weight\n",
    "#         A = (M - M.t()) / 2\n",
    "#         I = torch.eye(self.n_features, device=M.device)\n",
    "#         print(A, I - A)\n",
    "#         S = (I + A) @ torch.pinverse(I - A)\n",
    "#         Sinv = (I - A) @ torch.pinverse(I + A)\n",
    "        M = self.fc1.weight\n",
    "        S = nn.Softmax(1)(M)\n",
    "        Sinv = torch.pinverse(S)\n",
    "        \n",
    "        x = x @ S\n",
    "        x = self.model(x, **kwargs)\n",
    "        x = x @ Sinv\n",
    "        return x\n",
    "        \n",
    "    \n",
    "dec = FCCombinedModel(input_reshape=True,#WithOutputFC(\n",
    "                      add_input_batchnorm=True,\n",
    "                      input_shape=(size,),\n",
    "                      output_shape=(n_f,),\n",
    "                      hidden_sizes=[50],\n",
    "                      activation_cls=nn.LeakyReLU).cuda()#, n_f).cuda()\n",
    "rec = FCCombinedModel(input_reshape=True, #WithInputFC(\n",
    "                      input_shape=(n_f,),\n",
    "                      output_shape=(size,),\n",
    "                      add_input_batchnorm=True,\n",
    "                      hidden_sizes=[50],\n",
    "                      activation_cls=nn.LeakyReLU).cuda()#, n_f).cuda()\n",
    "model = WithLinTransform(WithInputSwitch(model_cls=partial(FCCombinedModel,\n",
    "                                          output_shape=(1,),\n",
    "                                          add_input_batchnorm=True,\n",
    "                                          hidden_sizes=[50],\n",
    "                                          activation_cls=nn.LeakyReLU),\n",
    "                        input_shape=(n_f,),\n",
    "                        switch_cls=partial(LearnableSwitchSimple, initial_proba=min_proba,\n",
    "                                           min_proba=min_proba),\n",
    "                        give_mask=True,\n",
    "                        n_models=n_f), n_f).cuda()\n",
    "\n",
    "class MM():\n",
    "    def __init__(self, model):\n",
    "        self.model = model\n",
    "        self.n_features = n_f\n",
    "        self.n_actions = 0\n",
    "        self.n_additional_features = 0\n",
    "# model_ = MM(model)\n",
    "model_ = model"
   ]
  },
  {
   "cell_type": "code",
   "execution_count": 728,
   "id": "focused-stylus",
   "metadata": {},
   "outputs": [
    {
     "data": {
      "text/plain": [
       "tensor(9.2805, device='cuda:0', grad_fn=<MeanBackward1>)"
      ]
     },
     "execution_count": 728,
     "metadata": {},
     "output_type": "execute_result"
    }
   ],
   "source": [
    "(rec(dec(obs.flatten(start_dim=1))).view(obs.shape[0], *shape) - obs).flatten(start_dim=1).pow(2).sum(1).mean(0)"
   ]
  },
  {
   "cell_type": "code",
   "execution_count": 729,
   "id": "dental-arabic",
   "metadata": {},
   "outputs": [],
   "source": [
    "@gin.configurable\n",
    "def manual_switch_gradient(loss_delta_noreduce, model, loss_scale=1.0,\n",
    "                           eps=1e-5):\n",
    "    \"\"\"Fill in the gradient of switch probas manually\n",
    "\n",
    "    Assuming that the batch size is enough to estimate mean loss with\n",
    "     p on and off.\n",
    "    \"\"\"\n",
    "    mask = model.model.last_mask\n",
    "    input_dim = model.n_features + model.n_actions\n",
    "    output_dim = model.n_features + model.n_additional_features\n",
    "\n",
    "    delta = loss_delta_noreduce\n",
    "\n",
    "    # if have two dimensions, assuming delta in the form of (batch, n_output_features)\n",
    "    if len(delta.shape) == 2:\n",
    "        delta_expanded = delta.view(delta.shape[0], 1, delta.shape[1]).expand(-1, input_dim, -1)\n",
    "    elif len(delta.shape) == 1:  # assuming shape (batch, )\n",
    "        delta_expanded = delta.view(delta.shape[0], 1, 1).expand(-1, input_dim, output_dim)\n",
    "    mask_coeff = (mask - 0.5) * 2\n",
    "\n",
    "    mask_pos = mask\n",
    "    mask_neg = 1 - mask\n",
    "    n_pos = (mask_coeff > 0).sum(dim=0) + eps\n",
    "    n_neg = (mask_coeff < 0).sum(dim=0) + eps\n",
    "\n",
    "    mask_pos = mask_pos / n_pos\n",
    "    mask_neg = mask_neg / n_neg\n",
    "\n",
    "    mask_atleast = ((n_pos >= 1) * (n_neg >= 1))\n",
    "    mask_coeff = mask_atleast * (mask_pos - mask_neg)\n",
    "    p_grad = (delta_expanded * mask_coeff).sum(dim=0)\n",
    "    \n",
    "#     val = 0.01\n",
    "#     p_grad = torch.where(p_grad > 0.1, torch.ones_like(p_grad) * val,\n",
    "#                          -torch.ones_like(p_grad) * val)\n",
    "\n",
    "#     p_grad = p_grad * loss_scale\n",
    "    \n",
    "\n",
    "    if model.model.switch.probas.grad is None:\n",
    "        model.model.switch.probas.grad = p_grad.clone()\n",
    "    else:\n",
    "        model.model.switch.probas.grad += p_grad.clone()\n",
    "\n",
    "#     model_.model.switch.probas.data[:] = 0\n",
    "#     model_.model.switch.probas.data[0, 0] = 1.0\n",
    "    return 0.0\n"
   ]
  },
  {
   "cell_type": "code",
   "execution_count": null,
   "id": "inside-indonesian",
   "metadata": {},
   "outputs": [],
   "source": []
  },
  {
   "cell_type": "code",
   "execution_count": 730,
   "id": "metric-paper",
   "metadata": {},
   "outputs": [],
   "source": [
    "#2 ** (-model_.model.last_mask.flatten(start_dim=1).sum(1))"
   ]
  },
  {
   "cell_type": "code",
   "execution_count": 731,
   "id": "about-kennedy",
   "metadata": {},
   "outputs": [],
   "source": [
    "def tensor_std(t, eps=1e-8):\n",
    "    s = t.std(0, keepdim=True)\n",
    "    s = torch.where(s < eps, torch.ones_like(s), s)\n",
    "    return s\n",
    "\n",
    "def rec_loss_std(obs, obs_rec, nomean=False):\n",
    "    delta = (obs - obs_rec)\n",
    "    delta = delta / obs_std\n",
    "    loss = delta.flatten(start_dim=1).pow(2).sum(1)\n",
    "    if not nomean:\n",
    "        loss = loss.mean(0)\n",
    "    return loss\n",
    "\n",
    "def acc_one(obs, obs_rec):\n",
    "    acc = (((obs > 0.5) == (obs_rec > 0.5)) * 1.0).flatten(start_dim=1).mean()\n",
    "    return acc\n",
    "\n",
    "def rec_loss():\n",
    "    f_pred = dec(obs.flatten(start_dim=1))\n",
    "    obs_rec = rec(f_pred).view(obs.shape[0], *shape)\n",
    "    loss = rec_loss_std(obs, obs_rec)\n",
    "    acc = acc_one(obs, obs_rec)\n",
    "    return {'loss': loss, 'metrics': {'acc': acc.item()}}\n",
    "\n",
    "def fit_loss(force_proba=None, fill_switch_grad=False, detach_features=False):\n",
    "    f_curr = dec(obs.flatten(start_dim=1))\n",
    "    f_next = dec(obs_next.flatten(start_dim=1))\n",
    "    \n",
    "    if detach_features:\n",
    "        f_curr = f_curr.detach()\n",
    "        f_next = f_next.detach()\n",
    "    \n",
    "    f_pred = model(f_curr, force_proba=force_proba)\n",
    "    obs_next_pred = rec(f_pred).view(obs.shape[0], *shape)\n",
    "    \n",
    "    delta_f = (f_next - f_pred)\n",
    "    std_f = tensor_std(f_curr)    \n",
    "    delta_f = delta_f / std_f\n",
    "    \n",
    "    loss_fcons = delta_f.pow(2).sum(1)\n",
    "    \n",
    "    loss = rec_loss_std(obs_next, obs_next_pred, nomean=True)\n",
    "    acc = acc_one(obs_next, obs_next_pred)\n",
    "    \n",
    "    loss_total = loss + loss_fcons\n",
    "    \n",
    "    if fill_switch_grad:\n",
    "        manual_switch_gradient(loss_delta_noreduce=loss_total, model=model_)\n",
    "    \n",
    "    loss_total = loss_total.mean(0)# + loss_total.std(0)\n",
    "    \n",
    "    return {\n",
    "        'loss': loss_total,\n",
    "        'metrics': {\n",
    "            'rec': loss.mean(0).item(),\n",
    "            'fcons': loss_fcons.mean(0).item(),\n",
    "            'acc': acc.item()\n",
    "    }}\n",
    "\n",
    "def sparsity_loss():\n",
    "    t = list(model_.model.switch.parameters())[0]\n",
    "    return {'loss': t.abs().sum(), 'metrics': {}}\n",
    "\n",
    "def total_loss(coeffs=None):\n",
    "    if coeffs is None:\n",
    "        coeffs = {}\n",
    "    \n",
    "    metrics = {}\n",
    "    \n",
    "    losses = {'rec': rec_loss,\n",
    "              'fit': partial(fit_loss, fill_switch_grad=True), # need this one, otherwise other features will likely decrease\n",
    "                                                               # the loss, since the probas are 0.5 and features can be duplicated\n",
    "              'fit_half': partial(fit_loss, force_proba=0.5, detach_features=True),\n",
    "              'fit_all': partial(fit_loss, force_proba=1.0, detach_features=True),\n",
    "              'sparsity': sparsity_loss\n",
    "              }\n",
    "    \n",
    "    total_loss = 0.0\n",
    "    \n",
    "    for key, fcn in losses.items():\n",
    "        data = fcn()\n",
    "        coef = coeffs.get(key, 1.0)\n",
    "        total_loss += data['loss'] * coef\n",
    "        for m_key, m_val in data['metrics'].items():\n",
    "            metrics[f'{m_key}/{key}'] = m_val\n",
    "        metrics[f'loss/{key}'] = data['loss'].item()\n",
    "            \n",
    "    return total_loss, metrics"
   ]
  },
  {
   "cell_type": "code",
   "execution_count": 732,
   "id": "aerial-cable",
   "metadata": {},
   "outputs": [],
   "source": [
    "crit_ratio = 1.5\n",
    "sp_min = 1e-9\n",
    "sp_max = 100\n",
    "coeffs = {'rec': 5.0, 'fit': 5.0, 'fit_half': 0.001, 'fit_all': 1.0, 'sparsity': sp_min}"
   ]
  },
  {
   "cell_type": "code",
   "execution_count": 733,
   "id": "necessary-triple",
   "metadata": {},
   "outputs": [],
   "source": [
    "metrics_hist = []"
   ]
  },
  {
   "cell_type": "code",
   "execution_count": 734,
   "id": "given-craps",
   "metadata": {},
   "outputs": [
    {
     "data": {
      "text/plain": [
       "({'loss': tensor(36.5509, device='cuda:0', grad_fn=<MeanBackward1>),\n",
       "  'metrics': {'acc': 0.46666666865348816}},\n",
       " {'loss': tensor(5891.0854, device='cuda:0', grad_fn=<MeanBackward1>),\n",
       "  'metrics': {'rec': 35.50699996948242,\n",
       "   'fcons': 5855.57861328125,\n",
       "   'acc': 0.4399999976158142}},\n",
       " {'loss': tensor(4739.9019, device='cuda:0', grad_fn=<MeanBackward1>),\n",
       "  'metrics': {'rec': 37.0411491394043,\n",
       "   'fcons': 4702.86083984375,\n",
       "   'acc': 0.4266666769981384}},\n",
       " {'loss': tensor(10650.8955, device='cuda:0', grad_fn=<MeanBackward1>),\n",
       "  'metrics': {'rec': 41.526912689208984,\n",
       "   'fcons': 10609.369140625,\n",
       "   'acc': 0.4266666769981384}},\n",
       " {'loss': tensor(0.0900, device='cuda:0', grad_fn=<SumBackward0>),\n",
       "  'metrics': {}})"
      ]
     },
     "execution_count": 734,
     "metadata": {},
     "output_type": "execute_result"
    }
   ],
   "source": [
    "rec_loss(), fit_loss(), fit_loss(force_proba=0.5), fit_loss(force_proba=1.0), sparsity_loss()"
   ]
  },
  {
   "cell_type": "code",
   "execution_count": 735,
   "id": "polished-warrant",
   "metadata": {},
   "outputs": [
    {
     "data": {
      "text/plain": [
       "FCCombinedModel(\n",
       "  (fc01): CombinedLinearLayer()\n",
       "  (fc02): CombinedLinearLayer()\n",
       "  (bn): BatchNorm1d(3, eps=1e-05, momentum=0.1, affine=True, track_running_stats=True)\n",
       ")"
      ]
     },
     "execution_count": 735,
     "metadata": {},
     "output_type": "execute_result"
    }
   ],
   "source": [
    "rec"
   ]
  },
  {
   "cell_type": "code",
   "execution_count": 736,
   "id": "romantic-injection",
   "metadata": {},
   "outputs": [],
   "source": [
    "opt = torch.optim.Adam(list(dec.parameters()) + list(rec.parameters()) + list(model.parameters()),\n",
    "                       lr=1e-3, betas=(0.5, 0.8))\n",
    "# opt_switch = torch.optim.Adam(model.switch.parameters(), lr=1e-3)"
   ]
  },
  {
   "cell_type": "code",
   "execution_count": null,
   "id": "designing-sellers",
   "metadata": {},
   "outputs": [
    {
     "data": {
      "application/vnd.jupyter.widget-view+json": {
       "model_id": "b5781412b26444cda4cab66658077a24",
       "version_major": 2,
       "version_minor": 0
      },
      "text/plain": [
       "HBox(children=(HTML(value=''), FloatProgress(value=0.0, max=100000.0), HTML(value='')))"
      ]
     },
     "metadata": {},
     "output_type": "display_data"
    }
   ],
   "source": [
    "for i in tqdm(range(100000)):\n",
    "    opt.zero_grad()\n",
    "    loss, metrics = total_loss(coeffs)\n",
    "    loss.backward()\n",
    "    \n",
    "#     if (i // 100) % 2 == 0:\n",
    "#         model.switch.probas.grad = None\n",
    "    \n",
    "    opt.step()\n",
    "    \n",
    "#     for _ in range(2):\n",
    "#         opt_switch.zero_grad()\n",
    "#         loss, metrics = total_loss(coeffs)\n",
    "#         loss.backward()\n",
    "#         opt_switch.step()\n",
    "\n",
    "    ratio = metrics['loss/fit'] / metrics['loss/fit_all']\n",
    "    \n",
    "    coeff = coeffs['sparsity']\n",
    "    \n",
    "    if i % 100 == 0:\n",
    "        if ratio > crit_ratio:\n",
    "            coeff *= 0.5\n",
    "        else:\n",
    "            coeff /= 0.5\n",
    "        if coeff < sp_min:\n",
    "            coeff = sp_min\n",
    "        elif coeff > sp_max:\n",
    "            coeff = sp_max\n",
    "\n",
    "    coeffs['sparsity'] = coeff\n",
    "    metrics['coeff'] = coeff\n",
    "    metrics['ratio'] = ratio\n",
    "    metrics['loss_total'] = loss.item()\n",
    "\n",
    "    metrics_hist.append(metrics)"
   ]
  },
  {
   "cell_type": "code",
   "execution_count": null,
   "id": "million-float",
   "metadata": {},
   "outputs": [],
   "source": [
    "metrics_dict = lstdct2dctlst(metrics_hist)\n",
    "\n",
    "keys = sorted(metrics_dict.keys())\n",
    "\n",
    "px = 3\n",
    "py = 6\n",
    "assert px * py >= len(keys)\n",
    "\n",
    "plt.figure(figsize=(15, 10))\n",
    "for i, key in enumerate(keys, 1):\n",
    "    plt.subplot(px, py, i)\n",
    "    plt.title(key)\n",
    "    plt.plot(metrics_dict[key])\n",
    "    if key.startswith('acc'):\n",
    "        plt.axhline(1)\n",
    "    else:\n",
    "        plt.yscale('log')\n",
    "plt.show()"
   ]
  },
  {
   "cell_type": "code",
   "execution_count": 723,
   "id": "hairy-fisher",
   "metadata": {},
   "outputs": [
    {
     "data": {
      "text/plain": [
       "<AxesSubplot:>"
      ]
     },
     "execution_count": 723,
     "metadata": {},
     "output_type": "execute_result"
    },
    {
     "data": {
      "image/png": "[encoded data removed]",
      "text/plain": [
       "<Figure size 432x288 with 4 Axes>"
      ]
     },
     "metadata": {
      "needs_background": "light"
     },
     "output_type": "display_data"
    }
   ],
   "source": [
    "plt.subplot(1, 2, 1)\n",
    "sns.heatmap(nn.Softmax(1)(model_.fc1.weight).abs().detach().cpu().numpy())\n",
    "plt.subplot(1, 2, 2)\n",
    "sns.heatmap(torch.pinverse(nn.Softmax(1)(model_.fc1.weight)).abs().detach().cpu().numpy())"
   ]
  },
  {
   "cell_type": "code",
   "execution_count": 724,
   "id": "personalized-surgery",
   "metadata": {},
   "outputs": [
    {
     "data": {
      "text/plain": [
       "<AxesSubplot:>"
      ]
     },
     "execution_count": 724,
     "metadata": {},
     "output_type": "execute_result"
    },
    {
     "data": {
      "image/png": "[encoded data removed]",
      "text/plain": [
       "<Figure size 432x288 with 2 Axes>"
      ]
     },
     "metadata": {
      "needs_background": "light"
     },
     "output_type": "display_data"
    }
   ],
   "source": [
    "sns.heatmap(model_.model.switch.probas.detach().cpu().numpy(), vmin=min_proba, vmax=1)"
   ]
  },
  {
   "cell_type": "code",
   "execution_count": 725,
   "id": "motivated-portuguese",
   "metadata": {},
   "outputs": [
    {
     "data": {
      "text/plain": [
       "<matplotlib.lines.Line2D at 0x7f066111f390>"
      ]
     },
     "execution_count": 725,
     "metadata": {},
     "output_type": "execute_result"
    },
    {
     "data": {
      "image/png": "[encoded data removed]",
      "text/plain": [
       "<Figure size 432x288 with 1 Axes>"
      ]
     },
     "metadata": {
      "needs_background": "light"
     },
     "output_type": "display_data"
    }
   ],
   "source": [
    "plt.plot(metrics_dict['ratio'])\n",
    "plt.yscale('log')\n",
    "plt.plot(pd.Series(metrics_dict['ratio']).rolling(100).median())\n",
    "plt.axhline(1.5)"
   ]
  },
  {
   "cell_type": "code",
   "execution_count": 726,
   "id": "rocky-preview",
   "metadata": {},
   "outputs": [
    {
     "data": {
      "text/plain": [
       "<matplotlib.lines.Line2D at 0x7f0660e82f50>"
      ]
     },
     "execution_count": 726,
     "metadata": {},
     "output_type": "execute_result"
    },
    {
     "data": {
      "image/png": "[encoded data removed]",
      "text/plain": [
       "<Figure size 432x288 with 1 Axes>"
      ]
     },
     "metadata": {
      "needs_background": "light"
     },
     "output_type": "display_data"
    }
   ],
   "source": [
    "plt.plot(metrics_dict['ratio'])\n",
    "plt.yscale('log')\n",
    "plt.plot(pd.Series(metrics_dict['loss/fit']).rolling(100).median() /\n",
    "         pd.Series(metrics_dict['loss/fit_all']).rolling(100).median())\n",
    "plt.axhline(1.5)"
   ]
  },
  {
   "cell_type": "code",
   "execution_count": 611,
   "id": "after-delicious",
   "metadata": {},
   "outputs": [],
   "source": [
    "#acc -- too bad"
   ]
  },
  {
   "cell_type": "code",
   "execution_count": null,
   "id": "iraqi-boulder",
   "metadata": {},
   "outputs": [],
   "source": []
  },
  {
   "cell_type": "code",
   "execution_count": null,
   "id": "surgical-northeast",
   "metadata": {},
   "outputs": [],
   "source": []
  }
 ],
 "metadata": {
  "kernelspec": {
   "display_name": "Python 3",
   "language": "python",
   "name": "python3"
  },
  "language_info": {
   "codemirror_mode": {
    "name": "ipython",
    "version": 3
   },
   "file_extension": ".py",
   "mimetype": "text/x-python",
   "name": "python",
   "nbconvert_exporter": "python",
   "pygments_lexer": "ipython3",
   "version": "3.7.9"
  }
 },
 "nbformat": 4,
 "nbformat_minor": 5
}
