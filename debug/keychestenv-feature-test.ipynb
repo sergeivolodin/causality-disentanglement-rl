{
 "cells": [
  {
   "cell_type": "code",
   "execution_count": 1,
   "metadata": {
    "ExecuteTime": {
     "end_time": "2020-09-18T19:10:17.195326Z",
     "start_time": "2020-09-18T19:10:17.191525Z"
    }
   },
   "outputs": [],
   "source": [
    "import os\n",
    "os.environ['CUDA_VISIBLE_DEVICES'] = \"-1\"\n",
    "\n",
    "import pickle\n",
    "from keychest.keychestenv_gofa import features_for_obs\n",
    "from copy import deepcopy\n",
    "import pandas as pd\n",
    "import tensorflow as tf\n",
    "import numpy as np\n",
    "from matplotlib import pyplot as plt\n",
    "import seaborn as sns\n",
    "import gin\n",
    "from tqdm import tqdm"
   ]
  },
  {
   "cell_type": "code",
   "execution_count": 30,
   "metadata": {
    "ExecuteTime": {
     "end_time": "2020-09-18T17:28:35.013984Z",
     "start_time": "2020-09-18T17:28:34.859215Z"
    }
   },
   "outputs": [],
   "source": [
    "# loading episodes\n",
    "fn = 'episodes-1000-config-10x10.gin-2b7cc9d6-fc47-11ea-92c8-a7c627609513.pkl'\n",
    "fn = 'keychest/' + fn\n",
    "data = pickle.load(open(fn, 'rb'))"
   ]
  },
  {
   "cell_type": "code",
   "execution_count": 31,
   "metadata": {},
   "outputs": [],
   "source": [
    "config_fn = fn.split('-')[3]\n",
    "gin.enter_interactive_mode()\n",
    "gin.parse_config_file(f\"keychest/config/{config_fn}\")"
   ]
  },
  {
   "cell_type": "code",
   "execution_count": 32,
   "metadata": {
    "ExecuteTime": {
     "end_time": "2020-09-18T17:28:35.025116Z",
     "start_time": "2020-09-18T17:28:35.016230Z"
    }
   },
   "outputs": [],
   "source": [
    "def episode_to_time_series(episode):\n",
    "    \"\"\"Convert an episode array to a time series dictionary.\"\"\"\n",
    "    obs = episode[0]['observation']\n",
    "    rew = 0.0\n",
    "    done = False\n",
    "    \n",
    "    result = []\n",
    "    \n",
    "    def add_to_result(obs, rew, done, initial):\n",
    "        item = deepcopy(features_for_obs(obs))\n",
    "        item['reward'] = rew\n",
    "        item['done'] = done\n",
    "        item['initial'] = initial\n",
    "        #item['keys_and_atchest'] = (item['keys_collected'] > 0) and item['at_chest']\n",
    "        #item['lamp_toggle'] = item['at_button'] ^ item['lamp_state']\n",
    "        del item['player_position_x']\n",
    "        del item['player_position_y']\n",
    "        result.append(item)\n",
    "        \n",
    "    add_to_result(obs, 0.0, False, True)\n",
    "    \n",
    "    for step in episode[1:]:\n",
    "        obs, rew, done, info = step['observation'], step['reward'], step['done'], step['info']\n",
    "        add_to_result(obs, rew, done, False)\n",
    "        \n",
    "    return result"
   ]
  },
  {
   "cell_type": "code",
   "execution_count": 33,
   "metadata": {},
   "outputs": [],
   "source": [
    "# array with episode length\n",
    "episode_lengths = [len(episode) for episode in data]"
   ]
  },
  {
   "cell_type": "code",
   "execution_count": 34,
   "metadata": {},
   "outputs": [
    {
     "data": {
      "text/plain": [
       "(16, 91)"
      ]
     },
     "execution_count": 34,
     "metadata": {},
     "output_type": "execute_result"
    }
   ],
   "source": [
    "# length statistics\n",
    "np.min(episode_lengths), np.max(episode_lengths)"
   ]
  },
  {
   "cell_type": "code",
   "execution_count": 35,
   "metadata": {
    "ExecuteTime": {
     "end_time": "2020-09-18T17:28:36.287221Z",
     "start_time": "2020-09-18T17:28:35.028370Z"
    }
   },
   "outputs": [],
   "source": [
    "# computing features\n",
    "data_proc = [episode_to_time_series(episode) for episode in data]"
   ]
  },
  {
   "cell_type": "code",
   "execution_count": 36,
   "metadata": {},
   "outputs": [
    {
     "name": "stdout",
     "output_type": "stream",
     "text": [
      "Number of episodes: 999\n"
     ]
    }
   ],
   "source": [
    "print(f\"Number of episodes: {len(data)}\")"
   ]
  },
  {
   "cell_type": "code",
   "execution_count": 37,
   "metadata": {},
   "outputs": [],
   "source": [
    "# all episodes as pandas dataframe\n",
    "data_proc_df = pd.DataFrame([step for episode in data_proc for step in episode])"
   ]
  },
  {
   "cell_type": "code",
   "execution_count": 38,
   "metadata": {},
   "outputs": [
    {
     "data": {
      "text/html": [
       "<div>\n",
       "<style scoped>\n",
       "    .dataframe tbody tr th:only-of-type {\n",
       "        vertical-align: middle;\n",
       "    }\n",
       "\n",
       "    .dataframe tbody tr th {\n",
       "        vertical-align: top;\n",
       "    }\n",
       "\n",
       "    .dataframe thead th {\n",
       "        text-align: right;\n",
       "    }\n",
       "</style>\n",
       "<table border=\"1\" class=\"dataframe\">\n",
       "  <thead>\n",
       "    <tr style=\"text-align: right;\">\n",
       "      <th></th>\n",
       "      <th>lamp_state</th>\n",
       "      <th>at_food</th>\n",
       "      <th>at_key</th>\n",
       "      <th>at_chest</th>\n",
       "      <th>at_button</th>\n",
       "      <th>health</th>\n",
       "      <th>keys_collected</th>\n",
       "      <th>reward</th>\n",
       "      <th>done</th>\n",
       "      <th>initial</th>\n",
       "    </tr>\n",
       "  </thead>\n",
       "  <tbody>\n",
       "    <tr>\n",
       "      <th>60</th>\n",
       "      <td>0</td>\n",
       "      <td>False</td>\n",
       "      <td>False</td>\n",
       "      <td>False</td>\n",
       "      <td>False</td>\n",
       "      <td>33.0</td>\n",
       "      <td>0.0</td>\n",
       "      <td>-0.01</td>\n",
       "      <td>False</td>\n",
       "      <td>False</td>\n",
       "    </tr>\n",
       "    <tr>\n",
       "      <th>61</th>\n",
       "      <td>0</td>\n",
       "      <td>False</td>\n",
       "      <td>False</td>\n",
       "      <td>False</td>\n",
       "      <td>False</td>\n",
       "      <td>32.0</td>\n",
       "      <td>0.0</td>\n",
       "      <td>-0.01</td>\n",
       "      <td>False</td>\n",
       "      <td>False</td>\n",
       "    </tr>\n",
       "    <tr>\n",
       "      <th>62</th>\n",
       "      <td>0</td>\n",
       "      <td>False</td>\n",
       "      <td>False</td>\n",
       "      <td>False</td>\n",
       "      <td>False</td>\n",
       "      <td>31.0</td>\n",
       "      <td>0.0</td>\n",
       "      <td>-0.01</td>\n",
       "      <td>False</td>\n",
       "      <td>False</td>\n",
       "    </tr>\n",
       "    <tr>\n",
       "      <th>63</th>\n",
       "      <td>0</td>\n",
       "      <td>False</td>\n",
       "      <td>False</td>\n",
       "      <td>False</td>\n",
       "      <td>False</td>\n",
       "      <td>30.0</td>\n",
       "      <td>0.0</td>\n",
       "      <td>-0.01</td>\n",
       "      <td>False</td>\n",
       "      <td>False</td>\n",
       "    </tr>\n",
       "    <tr>\n",
       "      <th>64</th>\n",
       "      <td>0</td>\n",
       "      <td>False</td>\n",
       "      <td>False</td>\n",
       "      <td>False</td>\n",
       "      <td>False</td>\n",
       "      <td>29.0</td>\n",
       "      <td>0.0</td>\n",
       "      <td>-0.01</td>\n",
       "      <td>False</td>\n",
       "      <td>False</td>\n",
       "    </tr>\n",
       "    <tr>\n",
       "      <th>...</th>\n",
       "      <td>...</td>\n",
       "      <td>...</td>\n",
       "      <td>...</td>\n",
       "      <td>...</td>\n",
       "      <td>...</td>\n",
       "      <td>...</td>\n",
       "      <td>...</td>\n",
       "      <td>...</td>\n",
       "      <td>...</td>\n",
       "      <td>...</td>\n",
       "    </tr>\n",
       "    <tr>\n",
       "      <th>23299</th>\n",
       "      <td>0</td>\n",
       "      <td>False</td>\n",
       "      <td>False</td>\n",
       "      <td>False</td>\n",
       "      <td>False</td>\n",
       "      <td>4.0</td>\n",
       "      <td>0.0</td>\n",
       "      <td>-0.01</td>\n",
       "      <td>False</td>\n",
       "      <td>False</td>\n",
       "    </tr>\n",
       "    <tr>\n",
       "      <th>23300</th>\n",
       "      <td>0</td>\n",
       "      <td>False</td>\n",
       "      <td>False</td>\n",
       "      <td>False</td>\n",
       "      <td>False</td>\n",
       "      <td>3.0</td>\n",
       "      <td>0.0</td>\n",
       "      <td>-0.01</td>\n",
       "      <td>False</td>\n",
       "      <td>False</td>\n",
       "    </tr>\n",
       "    <tr>\n",
       "      <th>23301</th>\n",
       "      <td>0</td>\n",
       "      <td>False</td>\n",
       "      <td>False</td>\n",
       "      <td>False</td>\n",
       "      <td>True</td>\n",
       "      <td>2.0</td>\n",
       "      <td>0.0</td>\n",
       "      <td>-0.01</td>\n",
       "      <td>False</td>\n",
       "      <td>False</td>\n",
       "    </tr>\n",
       "    <tr>\n",
       "      <th>23302</th>\n",
       "      <td>1</td>\n",
       "      <td>False</td>\n",
       "      <td>False</td>\n",
       "      <td>False</td>\n",
       "      <td>False</td>\n",
       "      <td>1.0</td>\n",
       "      <td>0.0</td>\n",
       "      <td>-0.01</td>\n",
       "      <td>False</td>\n",
       "      <td>False</td>\n",
       "    </tr>\n",
       "    <tr>\n",
       "      <th>23303</th>\n",
       "      <td>1</td>\n",
       "      <td>False</td>\n",
       "      <td>False</td>\n",
       "      <td>False</td>\n",
       "      <td>False</td>\n",
       "      <td>0.0</td>\n",
       "      <td>0.0</td>\n",
       "      <td>-0.01</td>\n",
       "      <td>True</td>\n",
       "      <td>False</td>\n",
       "    </tr>\n",
       "  </tbody>\n",
       "</table>\n",
       "<p>23244 rows × 10 columns</p>\n",
       "</div>"
      ],
      "text/plain": [
       "       lamp_state  at_food  at_key  at_chest  at_button  health  \\\n",
       "60              0    False   False     False      False    33.0   \n",
       "61              0    False   False     False      False    32.0   \n",
       "62              0    False   False     False      False    31.0   \n",
       "63              0    False   False     False      False    30.0   \n",
       "64              0    False   False     False      False    29.0   \n",
       "...           ...      ...     ...       ...        ...     ...   \n",
       "23299           0    False   False     False      False     4.0   \n",
       "23300           0    False   False     False      False     3.0   \n",
       "23301           0    False   False     False       True     2.0   \n",
       "23302           1    False   False     False      False     1.0   \n",
       "23303           1    False   False     False      False     0.0   \n",
       "\n",
       "       keys_collected  reward   done  initial  \n",
       "60                0.0   -0.01  False    False  \n",
       "61                0.0   -0.01  False    False  \n",
       "62                0.0   -0.01  False    False  \n",
       "63                0.0   -0.01  False    False  \n",
       "64                0.0   -0.01  False    False  \n",
       "...               ...     ...    ...      ...  \n",
       "23299             0.0   -0.01  False    False  \n",
       "23300             0.0   -0.01  False    False  \n",
       "23301             0.0   -0.01  False    False  \n",
       "23302             0.0   -0.01  False    False  \n",
       "23303             0.0   -0.01   True    False  \n",
       "\n",
       "[23244 rows x 10 columns]"
      ]
     },
     "execution_count": 38,
     "metadata": {},
     "output_type": "execute_result"
    }
   ],
   "source": [
    "data_proc_df[60:]"
   ]
  },
  {
   "cell_type": "code",
   "execution_count": 39,
   "metadata": {},
   "outputs": [],
   "source": [
    "# sanity checks\n",
    "for episode in data_proc:\n",
    "    assert episode[0]['initial'] == True\n",
    "    assert episode[-1]['done'] == True"
   ]
  },
  {
   "cell_type": "code",
   "execution_count": 40,
   "metadata": {
    "ExecuteTime": {
     "end_time": "2020-09-18T17:28:36.297673Z",
     "start_time": "2020-09-18T17:28:36.290717Z"
    }
   },
   "outputs": [],
   "source": [
    "## processing data for time series (lag 1)\n",
    "x_data_proc = [step for episode in data_proc for step in episode[:-1]]\n",
    "y_data_proc = [step for episode in data_proc for step in episode[1:]]"
   ]
  },
  {
   "cell_type": "code",
   "execution_count": 41,
   "metadata": {
    "ExecuteTime": {
     "end_time": "2020-09-18T17:28:36.385382Z",
     "start_time": "2020-09-18T17:28:36.301637Z"
    }
   },
   "outputs": [],
   "source": [
    "# converting to a dataframe\n",
    "x_data_proc_df = pd.DataFrame(x_data_proc)\n",
    "y_data_proc_df = pd.DataFrame(y_data_proc)"
   ]
  },
  {
   "cell_type": "code",
   "execution_count": 42,
   "metadata": {
    "ExecuteTime": {
     "end_time": "2020-09-18T17:28:36.402999Z",
     "start_time": "2020-09-18T17:28:36.391447Z"
    }
   },
   "outputs": [],
   "source": [
    "# removing columns which we don't want to predict\n",
    "do_not_predict = ['at_food', 'at_key', 'at_chest', 'at_button', 'initial']\n",
    "\n",
    "for col in do_not_predict:\n",
    "    del y_data_proc_df[col]"
   ]
  },
  {
   "cell_type": "code",
   "execution_count": 43,
   "metadata": {},
   "outputs": [
    {
     "data": {
      "text/html": [
       "<div>\n",
       "<style scoped>\n",
       "    .dataframe tbody tr th:only-of-type {\n",
       "        vertical-align: middle;\n",
       "    }\n",
       "\n",
       "    .dataframe tbody tr th {\n",
       "        vertical-align: top;\n",
       "    }\n",
       "\n",
       "    .dataframe thead th {\n",
       "        text-align: right;\n",
       "    }\n",
       "</style>\n",
       "<table border=\"1\" class=\"dataframe\">\n",
       "  <thead>\n",
       "    <tr style=\"text-align: right;\">\n",
       "      <th></th>\n",
       "      <th>lamp_state</th>\n",
       "      <th>at_food</th>\n",
       "      <th>at_key</th>\n",
       "      <th>at_chest</th>\n",
       "      <th>at_button</th>\n",
       "      <th>health</th>\n",
       "      <th>keys_collected</th>\n",
       "      <th>reward</th>\n",
       "      <th>done</th>\n",
       "      <th>initial</th>\n",
       "    </tr>\n",
       "  </thead>\n",
       "  <tbody>\n",
       "    <tr>\n",
       "      <th>356</th>\n",
       "      <td>0</td>\n",
       "      <td>False</td>\n",
       "      <td>False</td>\n",
       "      <td>False</td>\n",
       "      <td>False</td>\n",
       "      <td>19.0</td>\n",
       "      <td>1.0</td>\n",
       "      <td>-0.01</td>\n",
       "      <td>False</td>\n",
       "      <td>False</td>\n",
       "    </tr>\n",
       "    <tr>\n",
       "      <th>357</th>\n",
       "      <td>0</td>\n",
       "      <td>False</td>\n",
       "      <td>False</td>\n",
       "      <td>False</td>\n",
       "      <td>False</td>\n",
       "      <td>18.0</td>\n",
       "      <td>1.0</td>\n",
       "      <td>-0.01</td>\n",
       "      <td>False</td>\n",
       "      <td>False</td>\n",
       "    </tr>\n",
       "    <tr>\n",
       "      <th>358</th>\n",
       "      <td>0</td>\n",
       "      <td>False</td>\n",
       "      <td>False</td>\n",
       "      <td>False</td>\n",
       "      <td>False</td>\n",
       "      <td>17.0</td>\n",
       "      <td>1.0</td>\n",
       "      <td>-0.01</td>\n",
       "      <td>False</td>\n",
       "      <td>False</td>\n",
       "    </tr>\n",
       "    <tr>\n",
       "      <th>359</th>\n",
       "      <td>0</td>\n",
       "      <td>False</td>\n",
       "      <td>False</td>\n",
       "      <td>False</td>\n",
       "      <td>False</td>\n",
       "      <td>16.0</td>\n",
       "      <td>1.0</td>\n",
       "      <td>-0.01</td>\n",
       "      <td>False</td>\n",
       "      <td>False</td>\n",
       "    </tr>\n",
       "    <tr>\n",
       "      <th>360</th>\n",
       "      <td>0</td>\n",
       "      <td>False</td>\n",
       "      <td>False</td>\n",
       "      <td>False</td>\n",
       "      <td>False</td>\n",
       "      <td>15.0</td>\n",
       "      <td>1.0</td>\n",
       "      <td>-0.01</td>\n",
       "      <td>False</td>\n",
       "      <td>False</td>\n",
       "    </tr>\n",
       "    <tr>\n",
       "      <th>...</th>\n",
       "      <td>...</td>\n",
       "      <td>...</td>\n",
       "      <td>...</td>\n",
       "      <td>...</td>\n",
       "      <td>...</td>\n",
       "      <td>...</td>\n",
       "      <td>...</td>\n",
       "      <td>...</td>\n",
       "      <td>...</td>\n",
       "      <td>...</td>\n",
       "    </tr>\n",
       "    <tr>\n",
       "      <th>22300</th>\n",
       "      <td>0</td>\n",
       "      <td>False</td>\n",
       "      <td>False</td>\n",
       "      <td>False</td>\n",
       "      <td>False</td>\n",
       "      <td>5.0</td>\n",
       "      <td>0.0</td>\n",
       "      <td>-0.01</td>\n",
       "      <td>False</td>\n",
       "      <td>False</td>\n",
       "    </tr>\n",
       "    <tr>\n",
       "      <th>22301</th>\n",
       "      <td>0</td>\n",
       "      <td>False</td>\n",
       "      <td>False</td>\n",
       "      <td>False</td>\n",
       "      <td>False</td>\n",
       "      <td>4.0</td>\n",
       "      <td>0.0</td>\n",
       "      <td>-0.01</td>\n",
       "      <td>False</td>\n",
       "      <td>False</td>\n",
       "    </tr>\n",
       "    <tr>\n",
       "      <th>22302</th>\n",
       "      <td>0</td>\n",
       "      <td>False</td>\n",
       "      <td>False</td>\n",
       "      <td>False</td>\n",
       "      <td>False</td>\n",
       "      <td>3.0</td>\n",
       "      <td>0.0</td>\n",
       "      <td>-0.01</td>\n",
       "      <td>False</td>\n",
       "      <td>False</td>\n",
       "    </tr>\n",
       "    <tr>\n",
       "      <th>22303</th>\n",
       "      <td>0</td>\n",
       "      <td>False</td>\n",
       "      <td>False</td>\n",
       "      <td>False</td>\n",
       "      <td>True</td>\n",
       "      <td>2.0</td>\n",
       "      <td>0.0</td>\n",
       "      <td>-0.01</td>\n",
       "      <td>False</td>\n",
       "      <td>False</td>\n",
       "    </tr>\n",
       "    <tr>\n",
       "      <th>22304</th>\n",
       "      <td>1</td>\n",
       "      <td>False</td>\n",
       "      <td>False</td>\n",
       "      <td>False</td>\n",
       "      <td>False</td>\n",
       "      <td>1.0</td>\n",
       "      <td>0.0</td>\n",
       "      <td>-0.01</td>\n",
       "      <td>False</td>\n",
       "      <td>False</td>\n",
       "    </tr>\n",
       "  </tbody>\n",
       "</table>\n",
       "<p>21949 rows × 10 columns</p>\n",
       "</div>"
      ],
      "text/plain": [
       "       lamp_state  at_food  at_key  at_chest  at_button  health  \\\n",
       "356             0    False   False     False      False    19.0   \n",
       "357             0    False   False     False      False    18.0   \n",
       "358             0    False   False     False      False    17.0   \n",
       "359             0    False   False     False      False    16.0   \n",
       "360             0    False   False     False      False    15.0   \n",
       "...           ...      ...     ...       ...        ...     ...   \n",
       "22300           0    False   False     False      False     5.0   \n",
       "22301           0    False   False     False      False     4.0   \n",
       "22302           0    False   False     False      False     3.0   \n",
       "22303           0    False   False     False       True     2.0   \n",
       "22304           1    False   False     False      False     1.0   \n",
       "\n",
       "       keys_collected  reward   done  initial  \n",
       "356               1.0   -0.01  False    False  \n",
       "357               1.0   -0.01  False    False  \n",
       "358               1.0   -0.01  False    False  \n",
       "359               1.0   -0.01  False    False  \n",
       "360               1.0   -0.01  False    False  \n",
       "...               ...     ...    ...      ...  \n",
       "22300             0.0   -0.01  False    False  \n",
       "22301             0.0   -0.01  False    False  \n",
       "22302             0.0   -0.01  False    False  \n",
       "22303             0.0   -0.01  False    False  \n",
       "22304             0.0   -0.01  False    False  \n",
       "\n",
       "[21949 rows x 10 columns]"
      ]
     },
     "execution_count": 43,
     "metadata": {},
     "output_type": "execute_result"
    }
   ],
   "source": [
    "x_data_proc_df[356:]"
   ]
  },
  {
   "cell_type": "code",
   "execution_count": 44,
   "metadata": {},
   "outputs": [
    {
     "data": {
      "text/html": [
       "<div>\n",
       "<style scoped>\n",
       "    .dataframe tbody tr th:only-of-type {\n",
       "        vertical-align: middle;\n",
       "    }\n",
       "\n",
       "    .dataframe tbody tr th {\n",
       "        vertical-align: top;\n",
       "    }\n",
       "\n",
       "    .dataframe thead th {\n",
       "        text-align: right;\n",
       "    }\n",
       "</style>\n",
       "<table border=\"1\" class=\"dataframe\">\n",
       "  <thead>\n",
       "    <tr style=\"text-align: right;\">\n",
       "      <th></th>\n",
       "      <th>lamp_state</th>\n",
       "      <th>health</th>\n",
       "      <th>keys_collected</th>\n",
       "      <th>reward</th>\n",
       "      <th>done</th>\n",
       "    </tr>\n",
       "  </thead>\n",
       "  <tbody>\n",
       "    <tr>\n",
       "      <th>356</th>\n",
       "      <td>0</td>\n",
       "      <td>18.0</td>\n",
       "      <td>1.0</td>\n",
       "      <td>-0.01</td>\n",
       "      <td>False</td>\n",
       "    </tr>\n",
       "    <tr>\n",
       "      <th>357</th>\n",
       "      <td>0</td>\n",
       "      <td>17.0</td>\n",
       "      <td>1.0</td>\n",
       "      <td>-0.01</td>\n",
       "      <td>False</td>\n",
       "    </tr>\n",
       "    <tr>\n",
       "      <th>358</th>\n",
       "      <td>0</td>\n",
       "      <td>16.0</td>\n",
       "      <td>1.0</td>\n",
       "      <td>-0.01</td>\n",
       "      <td>False</td>\n",
       "    </tr>\n",
       "    <tr>\n",
       "      <th>359</th>\n",
       "      <td>0</td>\n",
       "      <td>15.0</td>\n",
       "      <td>1.0</td>\n",
       "      <td>-0.01</td>\n",
       "      <td>False</td>\n",
       "    </tr>\n",
       "    <tr>\n",
       "      <th>360</th>\n",
       "      <td>0</td>\n",
       "      <td>14.0</td>\n",
       "      <td>1.0</td>\n",
       "      <td>-0.01</td>\n",
       "      <td>False</td>\n",
       "    </tr>\n",
       "    <tr>\n",
       "      <th>...</th>\n",
       "      <td>...</td>\n",
       "      <td>...</td>\n",
       "      <td>...</td>\n",
       "      <td>...</td>\n",
       "      <td>...</td>\n",
       "    </tr>\n",
       "    <tr>\n",
       "      <th>22300</th>\n",
       "      <td>0</td>\n",
       "      <td>4.0</td>\n",
       "      <td>0.0</td>\n",
       "      <td>-0.01</td>\n",
       "      <td>False</td>\n",
       "    </tr>\n",
       "    <tr>\n",
       "      <th>22301</th>\n",
       "      <td>0</td>\n",
       "      <td>3.0</td>\n",
       "      <td>0.0</td>\n",
       "      <td>-0.01</td>\n",
       "      <td>False</td>\n",
       "    </tr>\n",
       "    <tr>\n",
       "      <th>22302</th>\n",
       "      <td>0</td>\n",
       "      <td>2.0</td>\n",
       "      <td>0.0</td>\n",
       "      <td>-0.01</td>\n",
       "      <td>False</td>\n",
       "    </tr>\n",
       "    <tr>\n",
       "      <th>22303</th>\n",
       "      <td>1</td>\n",
       "      <td>1.0</td>\n",
       "      <td>0.0</td>\n",
       "      <td>-0.01</td>\n",
       "      <td>False</td>\n",
       "    </tr>\n",
       "    <tr>\n",
       "      <th>22304</th>\n",
       "      <td>1</td>\n",
       "      <td>0.0</td>\n",
       "      <td>0.0</td>\n",
       "      <td>-0.01</td>\n",
       "      <td>True</td>\n",
       "    </tr>\n",
       "  </tbody>\n",
       "</table>\n",
       "<p>21949 rows × 5 columns</p>\n",
       "</div>"
      ],
      "text/plain": [
       "       lamp_state  health  keys_collected  reward   done\n",
       "356             0    18.0             1.0   -0.01  False\n",
       "357             0    17.0             1.0   -0.01  False\n",
       "358             0    16.0             1.0   -0.01  False\n",
       "359             0    15.0             1.0   -0.01  False\n",
       "360             0    14.0             1.0   -0.01  False\n",
       "...           ...     ...             ...     ...    ...\n",
       "22300           0     4.0             0.0   -0.01  False\n",
       "22301           0     3.0             0.0   -0.01  False\n",
       "22302           0     2.0             0.0   -0.01  False\n",
       "22303           1     1.0             0.0   -0.01  False\n",
       "22304           1     0.0             0.0   -0.01   True\n",
       "\n",
       "[21949 rows x 5 columns]"
      ]
     },
     "execution_count": 44,
     "metadata": {},
     "output_type": "execute_result"
    }
   ],
   "source": [
    "y_data_proc_df[356:]"
   ]
  },
  {
   "cell_type": "code",
   "execution_count": 45,
   "metadata": {
    "ExecuteTime": {
     "end_time": "2020-09-18T17:28:36.442839Z",
     "start_time": "2020-09-18T17:28:36.407664Z"
    }
   },
   "outputs": [
    {
     "data": {
      "text/html": [
       "<div>\n",
       "<style scoped>\n",
       "    .dataframe tbody tr th:only-of-type {\n",
       "        vertical-align: middle;\n",
       "    }\n",
       "\n",
       "    .dataframe tbody tr th {\n",
       "        vertical-align: top;\n",
       "    }\n",
       "\n",
       "    .dataframe thead th {\n",
       "        text-align: right;\n",
       "    }\n",
       "</style>\n",
       "<table border=\"1\" class=\"dataframe\">\n",
       "  <thead>\n",
       "    <tr style=\"text-align: right;\">\n",
       "      <th></th>\n",
       "      <th>lamp_state</th>\n",
       "      <th>health</th>\n",
       "      <th>keys_collected</th>\n",
       "      <th>reward</th>\n",
       "      <th>done</th>\n",
       "    </tr>\n",
       "  </thead>\n",
       "  <tbody>\n",
       "    <tr>\n",
       "      <th>0</th>\n",
       "      <td>0</td>\n",
       "      <td>14.0</td>\n",
       "      <td>0.0</td>\n",
       "      <td>-0.01</td>\n",
       "      <td>False</td>\n",
       "    </tr>\n",
       "    <tr>\n",
       "      <th>1</th>\n",
       "      <td>0</td>\n",
       "      <td>13.0</td>\n",
       "      <td>0.0</td>\n",
       "      <td>-0.01</td>\n",
       "      <td>False</td>\n",
       "    </tr>\n",
       "    <tr>\n",
       "      <th>2</th>\n",
       "      <td>0</td>\n",
       "      <td>12.0</td>\n",
       "      <td>0.0</td>\n",
       "      <td>-0.01</td>\n",
       "      <td>False</td>\n",
       "    </tr>\n",
       "    <tr>\n",
       "      <th>3</th>\n",
       "      <td>0</td>\n",
       "      <td>11.0</td>\n",
       "      <td>0.0</td>\n",
       "      <td>-0.01</td>\n",
       "      <td>False</td>\n",
       "    </tr>\n",
       "    <tr>\n",
       "      <th>4</th>\n",
       "      <td>0</td>\n",
       "      <td>10.0</td>\n",
       "      <td>0.0</td>\n",
       "      <td>-0.01</td>\n",
       "      <td>False</td>\n",
       "    </tr>\n",
       "    <tr>\n",
       "      <th>...</th>\n",
       "      <td>...</td>\n",
       "      <td>...</td>\n",
       "      <td>...</td>\n",
       "      <td>...</td>\n",
       "      <td>...</td>\n",
       "    </tr>\n",
       "    <tr>\n",
       "      <th>22300</th>\n",
       "      <td>0</td>\n",
       "      <td>4.0</td>\n",
       "      <td>0.0</td>\n",
       "      <td>-0.01</td>\n",
       "      <td>False</td>\n",
       "    </tr>\n",
       "    <tr>\n",
       "      <th>22301</th>\n",
       "      <td>0</td>\n",
       "      <td>3.0</td>\n",
       "      <td>0.0</td>\n",
       "      <td>-0.01</td>\n",
       "      <td>False</td>\n",
       "    </tr>\n",
       "    <tr>\n",
       "      <th>22302</th>\n",
       "      <td>0</td>\n",
       "      <td>2.0</td>\n",
       "      <td>0.0</td>\n",
       "      <td>-0.01</td>\n",
       "      <td>False</td>\n",
       "    </tr>\n",
       "    <tr>\n",
       "      <th>22303</th>\n",
       "      <td>1</td>\n",
       "      <td>1.0</td>\n",
       "      <td>0.0</td>\n",
       "      <td>-0.01</td>\n",
       "      <td>False</td>\n",
       "    </tr>\n",
       "    <tr>\n",
       "      <th>22304</th>\n",
       "      <td>1</td>\n",
       "      <td>0.0</td>\n",
       "      <td>0.0</td>\n",
       "      <td>-0.01</td>\n",
       "      <td>True</td>\n",
       "    </tr>\n",
       "  </tbody>\n",
       "</table>\n",
       "<p>22305 rows × 5 columns</p>\n",
       "</div>"
      ],
      "text/plain": [
       "       lamp_state  health  keys_collected  reward   done\n",
       "0               0    14.0             0.0   -0.01  False\n",
       "1               0    13.0             0.0   -0.01  False\n",
       "2               0    12.0             0.0   -0.01  False\n",
       "3               0    11.0             0.0   -0.01  False\n",
       "4               0    10.0             0.0   -0.01  False\n",
       "...           ...     ...             ...     ...    ...\n",
       "22300           0     4.0             0.0   -0.01  False\n",
       "22301           0     3.0             0.0   -0.01  False\n",
       "22302           0     2.0             0.0   -0.01  False\n",
       "22303           1     1.0             0.0   -0.01  False\n",
       "22304           1     0.0             0.0   -0.01   True\n",
       "\n",
       "[22305 rows x 5 columns]"
      ]
     },
     "execution_count": 45,
     "metadata": {},
     "output_type": "execute_result"
    }
   ],
   "source": [
    "y_data_proc_df"
   ]
  },
  {
   "cell_type": "code",
   "execution_count": 46,
   "metadata": {},
   "outputs": [
    {
     "data": {
      "text/plain": [
       "True"
      ]
     },
     "execution_count": 46,
     "metadata": {},
     "output_type": "execute_result"
    }
   ],
   "source": [
    "True & True"
   ]
  },
  {
   "cell_type": "code",
   "execution_count": 47,
   "metadata": {},
   "outputs": [],
   "source": [
    "def predict_manual(features):\n",
    "    \"\"\"Predict next features based on current ones.\"\"\"\n",
    "    features_new = {}\n",
    "    \n",
    "    if features['initial']:\n",
    "        features_new = {\n",
    "            'lamp_state': 0,\n",
    "            'health': gin.query_parameter('keychestenv.KeyChestEnvironment.initial_health') - 1,\n",
    "            'keys_collected': 0,\n",
    "            'reward': gin.query_parameter('reward_as_dict.step'),\n",
    "            'done': False,\n",
    "        }\n",
    "    else:\n",
    "        chest_opened = features['at_chest'] & (features['keys_collected'] > 0)\n",
    "        \n",
    "        features_new = {\n",
    "            'lamp_state': 1 if (features['lamp_state'] == 1) ^ features['at_button'] else 0,\n",
    "            'health': features['health'] - 1 + features['at_food'] * gin.query_parameter('keychestenv.KeyChestEnvironment.food_efficiency'),\n",
    "            'keys_collected': features['keys_collected'] - 1. * chest_opened + 1. * features['at_key'],\n",
    "            'reward': gin.query_parameter('reward_as_dict.step') +\\\n",
    "                features['at_food'] * gin.query_parameter('reward_as_dict.food_collected') +\\\n",
    "                features['at_key'] * gin.query_parameter('reward_as_dict.key_collected') +\\\n",
    "                chest_opened * gin.query_parameter('reward_as_dict.chest_opened'),\n",
    "            'done': (features['health'] == 1) & (not features['at_food'])\n",
    "        }\n",
    "    return features_new"
   ]
  },
  {
   "cell_type": "code",
   "execution_count": 48,
   "metadata": {},
   "outputs": [
    {
     "name": "stderr",
     "output_type": "stream",
     "text": [
      "100%|██████████| 22305/22305 [00:07<00:00, 2990.52it/s]"
     ]
    },
    {
     "name": "stdout",
     "output_type": "stream",
     "text": [
      "Hardcoded model fits the data\n"
     ]
    },
    {
     "name": "stderr",
     "output_type": "stream",
     "text": [
      "\n"
     ]
    }
   ],
   "source": [
    "# verifying that there are no prediction mistakes\n",
    "for (i, row_x), (_, row_y) in tqdm(zip(x_data_proc_df.iterrows(), y_data_proc_df.iterrows()), total=len(x_data_proc_df)):\n",
    "    row_x = dict(row_x)\n",
    "    row_y = dict(row_y)\n",
    "    row_y_pred = predict_manual(dict(row_x))\n",
    "    assert row_y.keys() == row_y_pred.keys()\n",
    "    for key in row_y.keys():\n",
    "        if row_y[key] != row_y_pred[key]:\n",
    "            print(f\"Mismatch at row {i} key {key} true_value {row_y[key]} pred {row_y_pred[key]}\")\n",
    "            print(row_x)\n",
    "            print(row_y)\n",
    "            print(\"\")\n",
    "            \n",
    "print(\"Hardcoded model fits the data\")"
   ]
  },
  {
   "cell_type": "code",
   "execution_count": 49,
   "metadata": {},
   "outputs": [],
   "source": [
    "to_add = {}\n",
    "for _, row in x_data_proc_df.iterrows():\n",
    "    additional = {}\n",
    "    \n",
    "    additional['done_predictor'] = (row['health'] == 1) & (not row['at_food'])\n",
    "    additional['chest_opened'] = row['at_chest'] & (row['keys_collected'] > 0)\n",
    "    additional['lamp_on_xor_button'] = (row['lamp_state'] == 1) ^ row['at_button']\n",
    "    \n",
    "    for key, value in additional.items():\n",
    "        if key not in to_add:\n",
    "            to_add[key] = []\n",
    "        to_add[key].append(value)"
   ]
  },
  {
   "cell_type": "code",
   "execution_count": 50,
   "metadata": {},
   "outputs": [],
   "source": [
    "for key, value in to_add.items():\n",
    "    x_data_proc_df[key] = value"
   ]
  },
  {
   "cell_type": "code",
   "execution_count": 51,
   "metadata": {
    "ExecuteTime": {
     "end_time": "2020-09-18T17:28:36.465585Z",
     "start_time": "2020-09-18T17:28:36.445209Z"
    }
   },
   "outputs": [],
   "source": [
    "X = np.array(x_data_proc_df, dtype=np.float32)\n",
    "y = np.array(y_data_proc_df, dtype=np.float32)"
   ]
  },
  {
   "cell_type": "code",
   "execution_count": 52,
   "metadata": {
    "ExecuteTime": {
     "end_time": "2020-09-18T17:28:36.474326Z",
     "start_time": "2020-09-18T17:28:36.467707Z"
    }
   },
   "outputs": [
    {
     "data": {
      "text/plain": [
       "((22305, 13), (22305, 5))"
      ]
     },
     "execution_count": 52,
     "metadata": {},
     "output_type": "execute_result"
    }
   ],
   "source": [
    "X.shape, y.shape"
   ]
  },
  {
   "cell_type": "code",
   "execution_count": 53,
   "metadata": {
    "ExecuteTime": {
     "end_time": "2020-09-18T17:28:36.557768Z",
     "start_time": "2020-09-18T17:28:36.478023Z"
    }
   },
   "outputs": [],
   "source": [
    "# creating a linear model\n",
    "model = tf.keras.Sequential([\n",
    "    tf.keras.Input(X.shape[1]),\n",
    "    tf.keras.layers.Dense(y.shape[1], activation=None, use_bias=True)])\n",
    "model.compile('adam', 'mae')\n",
    "losses = []"
   ]
  },
  {
   "cell_type": "code",
   "execution_count": 73,
   "metadata": {
    "ExecuteTime": {
     "end_time": "2020-09-18T17:28:36.579727Z",
     "start_time": "2020-09-18T17:28:36.560936Z"
    }
   },
   "outputs": [
    {
     "name": "stderr",
     "output_type": "stream",
     "text": [
      "100%|██████████| 100/100 [00:04<00:00, 23.26it/s]\n"
     ]
    }
   ],
   "source": [
    "epochs = 1000\n",
    "with tqdm(total=epochs) as pbar:\n",
    "    for step in range(epochs):\n",
    "        h = model.fit(X, y, verbose=0, epochs=1, batch_size=1000)\n",
    "        losses.append(h.history['loss'][0])\n",
    "        pbar.update(1)"
   ]
  },
  {
   "cell_type": "code",
   "execution_count": 74,
   "metadata": {
    "ExecuteTime": {
     "end_time": "2020-09-18T17:28:52.416342Z",
     "start_time": "2020-09-18T17:28:52.202845Z"
    }
   },
   "outputs": [
    {
     "data": {
      "image/png": "[encoded data removed]",
      "text/plain": [
       "<Figure size 432x288 with 1 Axes>"
      ]
     },
     "metadata": {
      "needs_background": "light"
     },
     "output_type": "display_data"
    },
    {
     "name": "stdout",
     "output_type": "stream",
     "text": [
      "Minimal loss 0.0013337567215785384\n",
      "Epochs 1000\n"
     ]
    }
   ],
   "source": [
    "plt.plot(losses)\n",
    "plt.xlabel('Epoch')\n",
    "plt.show()\n",
    "print(\"Minimal loss\", losses[-1])\n",
    "print(\"Epochs\", len(losses))"
   ]
  },
  {
   "cell_type": "code",
   "execution_count": 90,
   "metadata": {},
   "outputs": [],
   "source": [
    "# get causal graph from the model\n",
    "G = pd.DataFrame(np.concatenate((model.get_weights()[0], model.get_weights()[1].reshape(1, -1)), axis=0).T)\n",
    "G.columns = list(x_data_proc_df.columns) + [\"bias\"]\n",
    "G.index = y_data_proc_df.columns\n",
    "cmap = sns.diverging_palette(20, 220, as_cmap=True)"
   ]
  },
  {
   "cell_type": "code",
   "execution_count": 91,
   "metadata": {},
   "outputs": [
    {
     "data": {
      "text/plain": [
       "<matplotlib.axes._subplots.AxesSubplot at 0x7f4406ff6750>"
      ]
     },
     "execution_count": 91,
     "metadata": {},
     "output_type": "execute_result"
    },
    {
     "data": {
      "image/png": "[encoded data removed]",
      "text/plain": [
       "<Figure size 432x288 with 2 Axes>"
      ]
     },
     "metadata": {
      "needs_background": "light"
     },
     "output_type": "display_data"
    }
   ],
   "source": [
    "# show the causal model\n",
    "sns.heatmap(G, cmap=cmap, vmin=-5, vmax=5)"
   ]
  },
  {
   "cell_type": "code",
   "execution_count": null,
   "metadata": {},
   "outputs": [],
   "source": []
  }
 ],
 "metadata": {
  "kernelspec": {
   "display_name": "Python 3",
   "language": "python",
   "name": "python3"
  },
  "language_info": {
   "codemirror_mode": {
    "name": "ipython",
    "version": 3
   },
   "file_extension": ".py",
   "mimetype": "text/x-python",
   "name": "python",
   "nbconvert_exporter": "python",
   "pygments_lexer": "ipython3",
   "version": "3.7.7"
  }
 },
 "nbformat": 4,
 "nbformat_minor": 4
}
