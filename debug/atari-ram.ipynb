{
 "cells": [
  {
   "cell_type": "code",
   "execution_count": 15,
   "id": "increased-lemon",
   "metadata": {},
   "outputs": [],
   "source": [
    "from causal_util import load_env\n",
    "import numpy as np\n",
    "import pandas as pd"
   ]
  },
  {
   "cell_type": "code",
   "execution_count": 10,
   "id": "convertible-exhibit",
   "metadata": {},
   "outputs": [
    {
     "name": "stdout",
     "output_type": "stream",
     "text": [
      "Make environment Breakout-ramNoFrameskip-v0 None {}\n"
     ]
    }
   ],
   "source": [
    "obss = []\n",
    "env = load_env('Breakout-ramNoFrameskip-v0')"
   ]
  },
  {
   "cell_type": "code",
   "execution_count": 11,
   "id": "assured-window",
   "metadata": {},
   "outputs": [],
   "source": [
    "for _ in range(100):\n",
    "    obs = env.reset()\n",
    "    done = False\n",
    "    obss.append(obs)\n",
    "    while not done:\n",
    "        obs, rew, done, info = env.step(env.action_space.sample())\n",
    "        obss.append(obs)"
   ]
  },
  {
   "cell_type": "code",
   "execution_count": 14,
   "id": "worth-ending",
   "metadata": {},
   "outputs": [
    {
     "data": {
      "text/plain": [
       "(69807, 128)"
      ]
     },
     "execution_count": 14,
     "metadata": {},
     "output_type": "execute_result"
    }
   ],
   "source": [
    "np.array(obss).shape"
   ]
  },
  {
   "cell_type": "code",
   "execution_count": 17,
   "id": "critical-gilbert",
   "metadata": {},
   "outputs": [],
   "source": [
    "df = pd.DataFrame(obss)"
   ]
  },
  {
   "cell_type": "code",
   "execution_count": 21,
   "id": "complicated-thumb",
   "metadata": {},
   "outputs": [
    {
     "data": {
      "text/plain": [
       "39"
      ]
     },
     "execution_count": 21,
     "metadata": {},
     "output_type": "execute_result"
    }
   ],
   "source": [
    "np.sum(np.std(obss, axis=0) > 0)"
   ]
  },
  {
   "cell_type": "code",
   "execution_count": null,
   "id": "neutral-festival",
   "metadata": {},
   "outputs": [],
   "source": []
  }
 ],
 "metadata": {
  "kernelspec": {
   "display_name": "Python 3",
   "language": "python",
   "name": "python3"
  },
  "language_info": {
   "codemirror_mode": {
    "name": "ipython",
    "version": 3
   },
   "file_extension": ".py",
   "mimetype": "text/x-python",
   "name": "python",
   "nbconvert_exporter": "python",
   "pygments_lexer": "ipython3",
   "version": "3.7.9"
  }
 },
 "nbformat": 4,
 "nbformat_minor": 5
}
