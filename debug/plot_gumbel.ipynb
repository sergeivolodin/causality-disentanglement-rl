{
 "cells": [
  {
   "cell_type": "code",
   "execution_count": 3,
   "id": "latter-influence",
   "metadata": {},
   "outputs": [],
   "source": [
    "import seaborn as sns\n",
    "from matplotlib import pyplot as plt\n",
    "import numpy as np"
   ]
  },
  {
   "cell_type": "code",
   "execution_count": 62,
   "id": "animated-retirement",
   "metadata": {},
   "outputs": [],
   "source": [
    "p = np.linspace(0, 1, 1000000)"
   ]
  },
  {
   "cell_type": "code",
   "execution_count": null,
   "id": "stainless-skiing",
   "metadata": {},
   "outputs": [],
   "source": [
    "-((Sqrt[-1+1/p]*(8*Sqrt[-1+1/p]*p+Pi-8*p*Pi+8*p^2*Pi-8*Sqrt[(-1+p)/p]*p*(-1+2*p)*ArcTan[Sqrt[(-1+p)/p]]-(8*p*(-1+2*p)*ArcTan[Sqrt[p/(-1+p)]])/Sqrt[p/(-1+p)]-8*Sqrt[-1+1/p]*(-1+p)*p*Log[1-2*p]+8*Sqrt[-1+1/p]*(-1+p)*p*Log[1-p]+4*Sqrt[-1+1/p]*p*Log[-1+p]+4*Sqrt[-1+1/p]*p*Log[p]-8*Sqrt[-1+1/p]*p^2*Log[p]-8*Sqrt[-1+1/p]*p*Log[-1+2*p]+8*Sqrt[-1+1/p]*p^2*Log[-1+2*p]))/(4*(-1+p)))"
   ]
  },
  {
   "cell_type": "code",
   "execution_count": 63,
   "id": "rapid-chinese",
   "metadata": {},
   "outputs": [
    {
     "name": "stderr",
     "output_type": "stream",
     "text": [
      "/home/sergei/miniconda3/lib/python3.7/site-packages/ipykernel_launcher.py:1: RuntimeWarning: divide by zero encountered in true_divide\n",
      "  \"\"\"Entry point for launching an IPython kernel.\n",
      "/home/sergei/miniconda3/lib/python3.7/site-packages/ipykernel_launcher.py:1: RuntimeWarning: divide by zero encountered in log\n",
      "  \"\"\"Entry point for launching an IPython kernel.\n",
      "/home/sergei/miniconda3/lib/python3.7/site-packages/ipykernel_launcher.py:2: RuntimeWarning: divide by zero encountered in true_divide\n",
      "  \n",
      "/home/sergei/miniconda3/lib/python3.7/site-packages/ipykernel_launcher.py:2: RuntimeWarning: divide by zero encountered in log\n",
      "  \n",
      "/home/sergei/miniconda3/lib/python3.7/site-packages/ipykernel_launcher.py:2: RuntimeWarning: invalid value encountered in multiply\n",
      "  \n"
     ]
    }
   ],
   "source": [
    "expected_grad = (2-4*p+np.log(p/(1-p)))/(-1+2*p)**3\n",
    "expected_grad_squared = (1 + 2*p*(3 + 4 *p* (-3 + 2 *p)) +6* (-1 + p) *p* (np.log((1-p)/p)))/(3* (-1 + p)* p* (-1 + 2 *p)**5)\n",
    "variance_grad = expected_grad_squared - expected_grad ** 2"
   ]
  },
  {
   "cell_type": "code",
   "execution_count": 71,
   "id": "aggressive-satellite",
   "metadata": {},
   "outputs": [],
   "source": [
    "plt.rcParams.update({\n",
    "    #'font.size': 8,\n",
    "    'text.usetex': True,\n",
    "    'text.latex.preamble': r'\\usepackage{amsfonts}',\n",
    "    'font.family' : 'normal',\n",
    "        'font.weight' : 'normal',\n",
    "        'font.size'   : 20\n",
    "})\n"
   ]
  },
  {
   "cell_type": "code",
   "execution_count": 81,
   "id": "accessory-representative",
   "metadata": {},
   "outputs": [
    {
     "data": {
      "image/png": "[encoded data removed]",
      "text/plain": [
       "<Figure size 720x216 with 2 Axes>"
      ]
     },
     "metadata": {
      "needs_background": "light"
     },
     "output_type": "display_data"
    }
   ],
   "source": [
    "plt.figure(figsize=(10, 3))\n",
    "plt.subplot(1, 2, 1)\n",
    "plt.title(\"$\\mathbb E_{g_p,g_q}\\\\frac{dz_p}{dp}$\")\n",
    "plt.plot(p, expected_grad)\n",
    "plt.axhline(1, ls='--')\n",
    "plt.xlabel('$p$')\n",
    "plt.ylim((0, 10))\n",
    "plt.subplot(1, 2, 2)\n",
    "plt.title(\"$\\mbox{Var}_{g_p,g_q}\\\\frac{dz_p}{dp}$\")\n",
    "plt.plot(p, variance_grad)\n",
    "plt.xlabel('$p$')\n",
    "plt.ylim((0, 10))\n",
    "plt.show()"
   ]
  },
  {
   "cell_type": "code",
   "execution_count": 86,
   "id": "stone-acrylic",
   "metadata": {},
   "outputs": [
    {
     "data": {
      "text/plain": [
       "0.6202426287382593"
      ]
     },
     "execution_count": 86,
     "metadata": {},
     "output_type": "execute_result"
    }
   ],
   "source": [
    "expected_grad[(len(p) // 2) + 5]"
   ]
  },
  {
   "cell_type": "code",
   "execution_count": 84,
   "id": "serious-breath",
   "metadata": {},
   "outputs": [
    {
     "data": {
      "text/plain": [
       "array([        inf, 11.81558345, 11.12250185, ..., 11.12250185,\n",
       "       11.81558345,         inf])"
      ]
     },
     "execution_count": 84,
     "metadata": {},
     "output_type": "execute_result"
    }
   ],
   "source": [
    "np.min(expected_grad"
   ]
  },
  {
   "cell_type": "code",
   "execution_count": null,
   "id": "opposite-french",
   "metadata": {},
   "outputs": [],
   "source": []
  }
 ],
 "metadata": {
  "kernelspec": {
   "display_name": "Python 3",
   "language": "python",
   "name": "python3"
  },
  "language_info": {
   "codemirror_mode": {
    "name": "ipython",
    "version": 3
   },
   "file_extension": ".py",
   "mimetype": "text/x-python",
   "name": "python",
   "nbconvert_exporter": "python",
   "pygments_lexer": "ipython3",
   "version": "3.7.10"
  }
 },
 "nbformat": 4,
 "nbformat_minor": 5
}
