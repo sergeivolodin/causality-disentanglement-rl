{
 "cells": [
  {
   "cell_type": "code",
   "execution_count": 17,
   "id": "private-juice",
   "metadata": {},
   "outputs": [],
   "source": [
    "import seaborn as sns\n",
    "from matplotlib import pyplot as plt\n",
    "import numpy as np\n",
    "from tqdm.auto import tqdm"
   ]
  },
  {
   "cell_type": "code",
   "execution_count": 18,
   "id": "preliminary-table",
   "metadata": {},
   "outputs": [],
   "source": [
    "p = np.linspace(0, 1, 1000)"
   ]
  },
  {
   "cell_type": "code",
   "execution_count": 19,
   "id": "material-recommendation",
   "metadata": {},
   "outputs": [],
   "source": [
    "# FullSimplify[D[1/(1+Exp[(Log[(1-p)/p]+x)/t]),p]]\n",
    "# -> -(((1/p-1)^(1/t)*E^(x/t))/((p-1)*p*t*((1/p-1)^(1/t)*E^(x/t)+1)^2))\n",
    "#    this is A\n",
    "# then, fix t=...\n",
    "# B = Exp[-x] / (1 + Exp[-x])^2 (Logistic density)\n",
    "# then Integrate[A * B, {x,-Infinity, Infinity}]\n",
    "# and  Integrate[A^2 * B, {x,-Infinity, Infinity}]\n",
    "# >>> s.replace(\"Sqrt[\", \"np.sqrt(\").replace(\"Pi\", \"np.pi\").replace(\"ArcTan[\", \"np.arctan(\").replace(\"Log[\", \"np.log(\").replace(\"]\", \")\").replace(\"^\", \"**\").replace(\"Abs[\", \"np.abs(\").replace(\"ArcTanh[\", \"np.arctanh(\")"
   ]
  },
  {
   "cell_type": "code",
   "execution_count": 20,
   "id": "alpine-regard",
   "metadata": {},
   "outputs": [
    {
     "data": {
      "text/plain": [
       "0.6666254992085973"
      ]
     },
     "execution_count": 20,
     "metadata": {},
     "output_type": "execute_result"
    }
   ],
   "source": [
    "np.mean(get_gradient(p=0.5, tau=1, n_samples=1000000))"
   ]
  },
  {
   "cell_type": "code",
   "execution_count": 21,
   "id": "second-australian",
   "metadata": {},
   "outputs": [],
   "source": [
    "def get_gradient(p, tau=2.0, n_samples=10000):\n",
    "    delta = np.random.logistic(size=n_samples)\n",
    "    t = tau\n",
    "#     return 1 / (1 + np.exp((delta + np.log((1 - p) / p))/tau))\n",
    "    x = delta\n",
    "    return -((np.e**(x/t)*(-1+1/p)**(1/t))/((1+np.e**(x/t)*(-1+1/p)**(1/t))**2*(-1+p)*p*t))"
   ]
  },
  {
   "cell_type": "code",
   "execution_count": 22,
   "id": "micro-impossible",
   "metadata": {},
   "outputs": [
    {
     "name": "stderr",
     "output_type": "stream",
     "text": [
      "/home/sergei/miniconda3/lib/python3.7/site-packages/ipykernel_launcher.py:5: RuntimeWarning: divide by zero encountered in true_divide\n",
      "  \"\"\"\n",
      "/home/sergei/miniconda3/lib/python3.7/site-packages/ipykernel_launcher.py:5: RuntimeWarning: divide by zero encountered in log\n",
      "  \"\"\"\n",
      "/home/sergei/miniconda3/lib/python3.7/site-packages/ipykernel_launcher.py:5: RuntimeWarning: invalid value encountered in multiply\n",
      "  \"\"\"\n",
      "/home/sergei/miniconda3/lib/python3.7/site-packages/ipykernel_launcher.py:6: RuntimeWarning: divide by zero encountered in true_divide\n",
      "  \n",
      "/home/sergei/miniconda3/lib/python3.7/site-packages/ipykernel_launcher.py:6: RuntimeWarning: divide by zero encountered in log\n",
      "  \n",
      "/home/sergei/miniconda3/lib/python3.7/site-packages/ipykernel_launcher.py:6: RuntimeWarning: invalid value encountered in multiply\n",
      "  \n",
      "/home/sergei/miniconda3/lib/python3.7/site-packages/ipykernel_launcher.py:13: RuntimeWarning: divide by zero encountered in true_divide\n",
      "  del sys.path[0]\n",
      "/home/sergei/miniconda3/lib/python3.7/site-packages/ipykernel_launcher.py:13: RuntimeWarning: divide by zero encountered in log\n",
      "  del sys.path[0]\n",
      "/home/sergei/miniconda3/lib/python3.7/site-packages/ipykernel_launcher.py:14: RuntimeWarning: divide by zero encountered in log\n",
      "  \n",
      "/home/sergei/miniconda3/lib/python3.7/site-packages/ipykernel_launcher.py:14: RuntimeWarning: divide by zero encountered in true_divide\n",
      "  \n",
      "/home/sergei/miniconda3/lib/python3.7/site-packages/ipykernel_launcher.py:14: RuntimeWarning: invalid value encountered in multiply\n",
      "  \n"
     ]
    },
    {
     "data": {
      "application/vnd.jupyter.widget-view+json": {
       "model_id": "b67189c233fa4bb99aaf9e64f46b6931",
       "version_major": 2,
       "version_minor": 0
      },
      "text/plain": [
       "HBox(children=(HTML(value=''), FloatProgress(value=0.0, max=1000.0), HTML(value='')))"
      ]
     },
     "metadata": {},
     "output_type": "display_data"
    },
    {
     "name": "stderr",
     "output_type": "stream",
     "text": [
      "/home/sergei/miniconda3/lib/python3.7/site-packages/ipykernel_launcher.py:6: RuntimeWarning: divide by zero encountered in double_scalars\n",
      "  \n"
     ]
    },
    {
     "name": "stdout",
     "output_type": "stream",
     "text": [
      "\n"
     ]
    },
    {
     "name": "stderr",
     "output_type": "stream",
     "text": [
      "/home/sergei/miniconda3/lib/python3.7/site-packages/ipykernel_launcher.py:6: RuntimeWarning: invalid value encountered in true_divide\n",
      "  \n"
     ]
    }
   ],
   "source": [
    "e_grads = {}\n",
    "var_grads = {}\n",
    "\n",
    "# tau = 0.5\n",
    "expected_grad = -((-((1-5*p+4*p**2+8*p**3-12*p**4+4*p**5)*np.abs(p)*np.arctan(np.abs(-1+p)/p))+p*np.abs(-1+p)*((1-3*p+2*p**2)*np.abs(p)+(-1+4*p-8*p**3+4*p**4)*np.arctan(p/(1-p))+(-1+p)*p*(5-10*p+8*p**2+(-2+4*p)*np.log((-1+p)**2)+(2-4*p)*np.log(p**2))))/(p*(1-2*p+2*p**2)**3*np.abs(-1+p)))\n",
    "expected_grad_squared = (-3*(-1+8*p-48*p**2+176*p**3-280*p**4+96*p**5+192*p**6-192*p**7+48*p**8)*np.arctan((-1+p)/p)-3*(-1+8*p-48*p**2+176*p**3-280*p**4+96*p**5+192*p**6-192*p**7+48*p**8)*np.arctan(p/(-1+p))+16*(-1+p)*p*(-1+6*p-6*p**2-16*p**3+48*p**4-48*p**5+16*p**6+6*(-1+p)**2*p**2*(-1+2*p)*np.log((-1+p)**2)-12*(-1+p)**2*p**2*(-1+2*p)*np.log(p)))/(12*(-1+p)*p*(1-2*p+2*p**2)**5)\n",
    "\n",
    "variance_grad = expected_grad_squared - expected_grad ** 2\n",
    "e_grads[0.5] = expected_grad\n",
    "var_grads[0.5] = variance_grad\n",
    "\n",
    "# tau = 1\n",
    "expected_grad = (2-4*p+np.log(p/(1-p)))/(-1+2*p)**3\n",
    "expected_grad_squared = (1+2*p*(3+4*p*(-3+2*p))+6*(-1+p)*p*(np.log(1-p)+np.log(1/p)))/(3*(-1+p)*p*(-1+2*p)**5)\n",
    "variance_grad = expected_grad_squared - expected_grad ** 2\n",
    "\n",
    "e_grads[1.0] = expected_grad\n",
    "var_grads[1.0] = variance_grad\n",
    "\n",
    "# tau = 2\n",
    "# diverges in Mathematica...!\n",
    "exps_ = []\n",
    "vars_ = []\n",
    "for p_ in tqdm(p):\n",
    "    exps_.append(np.mean(get_gradient(p=p_, tau=2.0, n_samples=10000)))\n",
    "    vars_.append(np.std(get_gradient(p=p_, tau=2.0, n_samples=10000)) **2)\n",
    "e_grads[2.0] = exps_\n",
    "var_grads[2.0] = vars_\n",
    "\n",
    "# variance_grad = expected_grad_squared - expected_grad ** 2\n",
    "# e_grads[2.0] = expected_grad\n",
    "# var_grads[2.0] = variance_grad"
   ]
  },
  {
   "cell_type": "code",
   "execution_count": 23,
   "id": "independent-digest",
   "metadata": {},
   "outputs": [],
   "source": [
    "plt.rcParams.update({\n",
    "    #'font.size': 8,\n",
    "    'text.usetex': True,\n",
    "    'text.latex.preamble': r'\\usepackage{amsfonts}',\n",
    "    'font.family' : 'normal',\n",
    "        'font.weight' : 'normal',\n",
    "        'font.size'   : 20\n",
    "})\n"
   ]
  },
  {
   "cell_type": "code",
   "execution_count": 24,
   "id": "surgical-multimedia",
   "metadata": {},
   "outputs": [],
   "source": [
    "assert e_grads.keys() == var_grads.keys()"
   ]
  },
  {
   "cell_type": "code",
   "execution_count": 26,
   "id": "allied-court",
   "metadata": {},
   "outputs": [
    {
     "data": {
      "image/png": "[encoded data removed]",
      "text/plain": [
       "<Figure size 576x216 with 2 Axes>"
      ]
     },
     "metadata": {
      "needs_background": "light"
     },
     "output_type": "display_data"
    }
   ],
   "source": [
    "taus = sorted(e_grads.keys())\n",
    "\n",
    "plt.figure(figsize=(8, 3))\n",
    "plt.subplot(1, 2, 1)\n",
    "plt.title(\"$\\mathbb E_{g_p,g_q}\\\\frac{dz_p}{dp}$\")\n",
    "plt.axvline(0, ls='--', c='black', alpha=0.5)\n",
    "plt.axvline(1, ls='--', c='black', alpha=0.5)\n",
    "for tau in taus:\n",
    "    plt.plot(p, e_grads[tau], label=\"$\\\\tau=%.2f$\" % tau, linewidth=3.0, alpha=0.8)\n",
    "plt.legend()\n",
    "#plt.axhline(1, ls='--')\n",
    "plt.xlabel('$p$')\n",
    "plt.ylim((0, 5))\n",
    "plt.subplot(1, 2, 2)\n",
    "plt.title(\"$\\mbox{Var}_{g_p,g_q}\\\\frac{dz_p}{dp}$\")\n",
    "for tau in taus:\n",
    "    plt.plot(p, var_grads[tau], label=\"$\\\\tau=%.2f$\" % tau, alpha=0.8, linewidth=3.0)\n",
    "# plt.legend()\n",
    "plt.axvline(0, ls='--', c='black', alpha=0.5)\n",
    "plt.axvline(1, ls='--', c='black', alpha=0.5)\n",
    "plt.xlabel('$p$')\n",
    "plt.ylim((0, 5))\n",
    "# plt.subplot(1, 3, 3)\n",
    "# plt.title(\"$\\mbox{Var}_{g_p,g_q}\\\\frac{dz_p}{dp}$\")\n",
    "# for tau in taus:\n",
    "#     means = e_grads[tau]\n",
    "#     vars_ = var_grads[tau]\n",
    "#     plt.plot(p, e_grads[tau], label=\"$\\\\tau=%.2f$\" % tau, linewidth=3.0, alpha=0.8)\n",
    "#     plt.fill_between(p, np.array(means) - vars_, np.array(means) + vars_)#, label=\"$\\\\tau=%.2f$\" % tau, alpha=0.8, linewidth=3.0)\n",
    "# # plt.legend()\n",
    "# plt.axvline(0, ls='--', c='black', alpha=0.5)\n",
    "# plt.axvline(1, ls='--', c='black', alpha=0.5)\n",
    "# plt.xlabel('$p$')\n",
    "# plt.ylim((0, 10))\n",
    "\n",
    "plt.savefig('plot_gumbel_gradient.pdf', bbox_inches='tight')\n",
    "plt.show()"
   ]
  },
  {
   "cell_type": "code",
   "execution_count": 259,
   "id": "iraqi-basket",
   "metadata": {},
   "outputs": [
    {
     "data": {
      "text/plain": [
       "0.9057196447153095"
      ]
     },
     "execution_count": 259,
     "metadata": {},
     "output_type": "execute_result"
    }
   ],
   "source": [
    "e_grads[0.5][int(len(p) * 0.3)]"
   ]
  },
  {
   "cell_type": "code",
   "execution_count": null,
   "id": "changing-store",
   "metadata": {},
   "outputs": [],
   "source": [
    "np.mean(get_gradient(p=0.3, tau=0.5, n_samples=10000000))"
   ]
  },
  {
   "cell_type": "code",
   "execution_count": 205,
   "id": "phantom-handling",
   "metadata": {},
   "outputs": [
    {
     "data": {
      "application/vnd.jupyter.widget-view+json": {
       "model_id": "66f1cdc1fdef42a2baa4b8fce02eb28f",
       "version_major": 2,
       "version_minor": 0
      },
      "text/plain": [
       "HBox(children=(HTML(value=''), FloatProgress(value=0.0, max=1000.0), HTML(value='')))"
      ]
     },
     "metadata": {},
     "output_type": "display_data"
    },
    {
     "name": "stderr",
     "output_type": "stream",
     "text": [
      "/home/sergei/miniconda3/lib/python3.7/site-packages/ipykernel_launcher.py:6: RuntimeWarning: divide by zero encountered in double_scalars\n",
      "  \n",
      "/home/sergei/miniconda3/lib/python3.7/site-packages/ipykernel_launcher.py:6: RuntimeWarning: invalid value encountered in multiply\n",
      "  \n"
     ]
    },
    {
     "name": "stdout",
     "output_type": "stream",
     "text": [
      "\n"
     ]
    },
    {
     "name": "stderr",
     "output_type": "stream",
     "text": [
      "/home/sergei/miniconda3/lib/python3.7/site-packages/ipykernel_launcher.py:6: RuntimeWarning: invalid value encountered in true_divide\n",
      "  \n"
     ]
    }
   ],
   "source": []
  },
  {
   "cell_type": "code",
   "execution_count": 206,
   "id": "metallic-membership",
   "metadata": {},
   "outputs": [
    {
     "data": {
      "text/plain": [
       "[<matplotlib.lines.Line2D at 0x7ff87c26b6d0>]"
      ]
     },
     "execution_count": 206,
     "metadata": {},
     "output_type": "execute_result"
    },
    {
     "data": {
      "image/png": "[encoded data removed]",
      "text/plain": [
       "<Figure size 432x288 with 1 Axes>"
      ]
     },
     "metadata": {
      "needs_background": "light"
     },
     "output_type": "display_data"
    }
   ],
   "source": [
    "plt.plot(exps_)\n",
    "# plt.plot(vars_)"
   ]
  },
  {
   "cell_type": "code",
   "execution_count": null,
   "id": "likely-services",
   "metadata": {},
   "outputs": [],
   "source": []
  }
 ],
 "metadata": {
  "kernelspec": {
   "display_name": "Python 3",
   "language": "python",
   "name": "python3"
  },
  "language_info": {
   "codemirror_mode": {
    "name": "ipython",
    "version": 3
   },
   "file_extension": ".py",
   "mimetype": "text/x-python",
   "name": "python",
   "nbconvert_exporter": "python",
   "pygments_lexer": "ipython3",
   "version": "3.7.10"
  }
 },
 "nbformat": 4,
 "nbformat_minor": 5
}
