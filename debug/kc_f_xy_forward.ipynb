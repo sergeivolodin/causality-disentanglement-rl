{
 "cells": [
  {
   "cell_type": "code",
   "execution_count": 1,
   "metadata": {},
   "outputs": [],
   "source": [
    "%load_ext autoreload\n",
    "%autoreload 2\n",
    "import os\n",
    "os.environ['CUDA_VISIBLE_DEVICES'] = \"-1\"\n",
    "import numpy as np\n",
    "from matplotlib import pyplot as plt\n",
    "import torch\n",
    "from sparse_causal_model_learner_rl.sacred_gin_tune.sacred_wrapper import load_config_files\n",
    "from sparse_causal_model_learner_rl.learners.rl_learner import CausalModelLearnerRL\n",
    "from sparse_causal_model_learner_rl.config import Config\n",
    "from keychest.features_xy import arr_to_dict, dict_to_arr, obs_features_handcoded\n",
    "from keychest.gofa_model import manual_model_features\n",
    "from sparse_causal_model_learner_rl.trainable.gumbel_switch import LearnableSwitch, WithInputSwitch\n",
    "from tqdm.auto import tqdm\n",
    "from torch import nn\n",
    "import gin"
   ]
  },
  {
   "cell_type": "code",
   "execution_count": 2,
   "metadata": {},
   "outputs": [
    {
     "data": {
      "application/javascript": [
       "var jq = document.createElement('script');\n",
       "jq.src = \"https://ajax.googleapis.com/ajax/libs/jquery/2.1.4/jquery.min.js\";\n",
       "document.getElementsByTagName('head')[0].appendChild(jq);\n"
      ],
      "text/plain": [
       "<IPython.core.display.Javascript object>"
      ]
     },
     "metadata": {},
     "output_type": "display_data"
    }
   ],
   "source": [
    "%%javascript\n",
    "var jq = document.createElement('script');\n",
    "jq.src = \"https://ajax.googleapis.com/ajax/libs/jquery/2.1.4/jquery.min.js\";\n",
    "document.getElementsByTagName('head')[0].appendChild(jq);"
   ]
  },
  {
   "cell_type": "code",
   "execution_count": 3,
   "metadata": {},
   "outputs": [
    {
     "data": {
      "application/javascript": [
       "if (!(\"Notification\" in window)) {\n",
       "    alert(\"This browser does not support desktop notifications, so the %%notify magic will not work.\");\n",
       "} else if (Notification.permission !== 'granted' && Notification.permission !== 'denied') {\n",
       "    Notification.requestPermission(function (permission) {\n",
       "        if(!('permission' in Notification)) {\n",
       "            Notification.permission = permission;\n",
       "        }\n",
       "    })\n",
       "}\n"
      ],
      "text/plain": [
       "<IPython.core.display.Javascript object>"
      ]
     },
     "metadata": {},
     "output_type": "display_data"
    }
   ],
   "source": [
    "%load_ext jupyternotify\n",
    "%autonotify -a 30"
   ]
  },
  {
   "cell_type": "code",
   "execution_count": 4,
   "metadata": {},
   "outputs": [],
   "source": [
    "gin.enter_interactive_mode()"
   ]
  },
  {
   "cell_type": "code",
   "execution_count": 5,
   "metadata": {},
   "outputs": [
    {
     "data": {
      "text/plain": [
       "['5x5_1f1c1k', 'rec_nonlin_gnn']"
      ]
     },
     "execution_count": 5,
     "metadata": {},
     "output_type": "execute_result"
    }
   ],
   "source": [
    "load_config_files(['../keychest/config/5x5_1f1c1k.gin', '../sparse_causal_model_learner_rl/configs/rec_nonlin_gnn.gin'])"
   ]
  },
  {
   "cell_type": "code",
   "execution_count": 6,
   "metadata": {},
   "outputs": [],
   "source": [
    "gin.bind_parameter('Config.env_steps', 10000)\n",
    "gin.bind_parameter('Config.shuffle', True)"
   ]
  },
  {
   "cell_type": "code",
   "execution_count": 7,
   "metadata": {},
   "outputs": [
    {
     "name": "stdout",
     "output_type": "stream",
     "text": [
      "Make environment KeyChest-v0 None {}\n"
     ]
    }
   ],
   "source": [
    "learner = CausalModelLearnerRL(Config())"
   ]
  },
  {
   "cell_type": "code",
   "execution_count": 8,
   "metadata": {},
   "outputs": [],
   "source": [
    "learner.collect_steps()"
   ]
  },
  {
   "cell_type": "code",
   "execution_count": 9,
   "metadata": {},
   "outputs": [],
   "source": [
    "_ = learner._context\n",
    "oa_x = torch.cat([learner._context_cache['obs_x'], learner._context_cache['action_x']], dim=1)\n",
    "o_y = learner._context_cache['obs_y']"
   ]
  },
  {
   "cell_type": "code",
   "execution_count": 10,
   "metadata": {},
   "outputs": [],
   "source": [
    "assert oa_x.shape[1] == 17 + 4\n",
    "assert o_y.shape[1] == 17\n",
    "assert oa_x.shape[0] == o_y.shape[0]"
   ]
  },
  {
   "cell_type": "code",
   "execution_count": 11,
   "metadata": {},
   "outputs": [],
   "source": [
    "model_o = torch.nn.Sequential(*[\n",
    "    torch.nn.Linear(21, 50),\n",
    "    torch.nn.ReLU(),\n",
    "    torch.nn.Linear(50, 50),\n",
    "    torch.nn.ReLU(),\n",
    "    torch.nn.Linear(50, 17),\n",
    "]).to(learner.device)"
   ]
  },
  {
   "cell_type": "code",
   "execution_count": 12,
   "metadata": {},
   "outputs": [],
   "source": [
    "opt = torch.optim.Adam(params=model_o.parameters(), lr=1e-3)"
   ]
  },
  {
   "cell_type": "code",
   "execution_count": 13,
   "metadata": {},
   "outputs": [],
   "source": [
    "def loss(y_true, y_pred):\n",
    "    assert y_true.shape == y_pred.shape\n",
    "    delta = y_true - y_pred\n",
    "    delta = torch.abs(delta)\n",
    "    delta = delta.pow(2)\n",
    "    delta = delta.mean(axis=0)\n",
    "    delta = delta.mean()\n",
    "    return delta"
   ]
  },
  {
   "cell_type": "code",
   "execution_count": 14,
   "metadata": {},
   "outputs": [],
   "source": [
    "losses = []"
   ]
  },
  {
   "cell_type": "code",
   "execution_count": null,
   "metadata": {},
   "outputs": [
    {
     "data": {
      "application/vnd.jupyter.widget-view+json": {
       "model_id": "38e40ada055a4693ae35e3869a63127f",
       "version_major": 2,
       "version_minor": 0
      },
      "text/plain": [
       "HBox(children=(HTML(value=''), FloatProgress(value=0.0, max=50000.0), HTML(value='')))"
      ]
     },
     "metadata": {},
     "output_type": "display_data"
    }
   ],
   "source": [
    "for epoch in tqdm(range(50000)):\n",
    "    opt.zero_grad()\n",
    "\n",
    "    y_pred = model_o(oa_x)\n",
    "    y_true = o_y\n",
    "    l = loss(y_true, y_pred)\n",
    "\n",
    "    l.backward()\n",
    "    opt.step()\n",
    "    \n",
    "    losses.append(l.item())"
   ]
  },
  {
   "cell_type": "code",
   "execution_count": null,
   "metadata": {},
   "outputs": [],
   "source": [
    "plt.plot(losses)\n",
    "plt.yscale('log')"
   ]
  },
  {
   "cell_type": "code",
   "execution_count": 64,
   "metadata": {},
   "outputs": [],
   "source": [
    "k = obs_features_handcoded(learner.env.engine, learner.env.engine._observation).keys()"
   ]
  },
  {
   "cell_type": "code",
   "execution_count": 65,
   "metadata": {},
   "outputs": [
    {
     "data": {
      "text/plain": [
       "(<function keychest.features_xy.arr_to_dict(arr, keys)>,\n",
       " <function keychest.features_xy.dict_to_arr(d)>,\n",
       " <function keychest.features_xy.obs_features_handcoded(engine, obs=None)>)"
      ]
     },
     "execution_count": 65,
     "metadata": {},
     "output_type": "execute_result"
    }
   ],
   "source": [
    "arr_to_dict, dict_to_arr, obs_features_handcoded"
   ]
  },
  {
   "cell_type": "code",
   "execution_count": null,
   "metadata": {},
   "outputs": [],
   "source": []
  },
  {
   "cell_type": "markdown",
   "metadata": {},
   "source": [
    "# Manual testing..."
   ]
  },
  {
   "cell_type": "code",
   "execution_count": 5,
   "metadata": {},
   "outputs": [
    {
     "name": "stdout",
     "output_type": "stream",
     "text": [
      "Make environment KeyChest-v0 None {}\n"
     ]
    }
   ],
   "source": [
    "gin.enter_interactive_mode()\n",
    "load_config_files(['../keychest/config/5x5_1f1c1k.gin', '../sparse_causal_model_learner_rl/configs/rec_nonlin_gnn.gin'])\n",
    "\n",
    "gin.bind_parameter('Config.env_steps', 10000)\n",
    "gin.bind_parameter('Config.shuffle', True)\n",
    "# gin.bind_parameter('Config.context_transforms', [])\n",
    "#learner.config.get('')\n",
    "\n",
    "learner = CausalModelLearnerRL(Config())\n",
    "learner.collect_steps()"
   ]
  },
  {
   "cell_type": "code",
   "execution_count": 6,
   "metadata": {},
   "outputs": [],
   "source": [
    "all_keys = obs_features_handcoded(learner.env.engine, learner.env.engine._observation).keys()"
   ]
  },
  {
   "cell_type": "code",
   "execution_count": 7,
   "metadata": {},
   "outputs": [],
   "source": [
    "# important: _context changes (shuffle every time...)\n",
    "ctx = learner._context\n",
    "fx = learner._context_cache['obs_x'].numpy().copy()\n",
    "fy = learner._context_cache['obs_y'].numpy().copy()\n",
    "ax = learner._context_cache['action_x'].numpy().copy()"
   ]
  },
  {
   "cell_type": "code",
   "execution_count": 8,
   "metadata": {},
   "outputs": [],
   "source": [
    "def compute_delta(fx, fy, ax, learner):\n",
    "    fx_denorm = fx * (learner.normalizers['obs'].std + 1e-10) + learner.normalizers['obs'].mean\n",
    "    fy_denorm = fy * (learner.normalizers['obs'].std + 1e-10) + learner.normalizers['obs'].mean\n",
    "    ax_denorm = ax * (learner.normalizers['action_x'].std + 1e-10) + learner.normalizers['action_x'].mean\n",
    "    \n",
    "    fx_dict = [arr_to_dict(f, all_keys) for f in fx_denorm]\n",
    "    fy_dict = [arr_to_dict(f, all_keys) for f in fy_denorm]\n",
    "\n",
    "    deltas = [dict_to_arr(manual_model_features(fxd, axd, learner.env.engine)) - fyd for (fxd, axd, fyd) in zip(fx_dict, ax_denorm, fy_denorm)]\n",
    "    \n",
    "    return np.array(deltas)"
   ]
  },
  {
   "cell_type": "code",
   "execution_count": 9,
   "metadata": {},
   "outputs": [],
   "source": [
    "deltas = compute_delta(fx, fy, ax, learner)"
   ]
  },
  {
   "cell_type": "code",
   "execution_count": 10,
   "metadata": {},
   "outputs": [
    {
     "data": {
      "text/plain": [
       "(array([0.0000000e+00, 0.0000000e+00, 4.7683716e-07, 0.0000000e+00,\n",
       "        0.0000000e+00, 0.0000000e+00, 2.3841858e-07, 0.0000000e+00,\n",
       "        2.3841858e-07, 0.0000000e+00, 4.7683716e-07, 2.3841858e-07,\n",
       "        0.0000000e+00, 0.0000000e+00, 0.0000000e+00, 0.0000000e+00,\n",
       "        0.0000000e+00], dtype=float32),\n",
       " 4.7683716e-07)"
      ]
     },
     "execution_count": 10,
     "metadata": {},
     "output_type": "execute_result"
    }
   ],
   "source": [
    "d1 = np.max(np.abs(np.array(deltas)), axis=0)\n",
    "d1, np.max(d1)"
   ]
  },
  {
   "cell_type": "code",
   "execution_count": 11,
   "metadata": {},
   "outputs": [],
   "source": [
    "### dict(zip(sorted(all_keys), d1))"
   ]
  },
  {
   "cell_type": "code",
   "execution_count": 12,
   "metadata": {},
   "outputs": [],
   "source": [
    "norms = np.linalg.norm(deltas, axis=1)"
   ]
  },
  {
   "cell_type": "code",
   "execution_count": 13,
   "metadata": {},
   "outputs": [
    {
     "data": {
      "text/plain": [
       "array([], dtype=float32)"
      ]
     },
     "execution_count": 13,
     "metadata": {},
     "output_type": "execute_result"
    }
   ],
   "source": [
    "norms[norms > 1e-5]"
   ]
  },
  {
   "cell_type": "code",
   "execution_count": 35,
   "metadata": {},
   "outputs": [],
   "source": [
    "idxes_bad = np.where(norms > 1e-5)[0]\n",
    "idx_bad = idxes_bad[0]"
   ]
  },
  {
   "cell_type": "code",
   "execution_count": 38,
   "metadata": {},
   "outputs": [],
   "source": [
    "fx_denorm = fx# * (learner.normalizers['obs'].std + 1e-10) + learner.normalizers['obs'].mean\n",
    "fy_denorm = fy# * (learner.normalizers['obs'].std + 1e-10) + learner.normalizers['obs'].mean\n",
    "ax_denorm = ax# * (learner.normalizers['action_x'].std + 1e-10) + learner.normalizers['action_x'].mean\n",
    "\n",
    "fx_dict = [arr_to_dict(f, all_keys) for f in fx_denorm]\n",
    "fy_dict = [arr_to_dict(f, all_keys) for f in fy_denorm]\n"
   ]
  },
  {
   "cell_type": "code",
   "execution_count": 39,
   "metadata": {},
   "outputs": [
    {
     "data": {
      "text/plain": [
       "({'button__x': 6.0,\n",
       "  'button__y': 2.0,\n",
       "  'chest__00__x': 9.0,\n",
       "  'chest__00__y': 5.0,\n",
       "  'food__00__x': 6.0,\n",
       "  'food__00__y': 4.0,\n",
       "  'health': 7.0,\n",
       "  'key__00__x': 6.0,\n",
       "  'key__00__y': 5.0,\n",
       "  'keys': 0.0,\n",
       "  'lamp_off__x': 9.0,\n",
       "  'lamp_off__y': 2.0,\n",
       "  'lamp_on__x': -1.0,\n",
       "  'lamp_on__y': -1.0,\n",
       "  'lamp_status': 0.0,\n",
       "  'player__x': 5.0,\n",
       "  'player__y': 4.0},\n",
       " array([1., 0., 0., 0.], dtype=float32),\n",
       " {'button__x': 7.0,\n",
       "  'button__y': 5.0,\n",
       "  'chest__00__x': 5.0,\n",
       "  'chest__00__y': 5.0,\n",
       "  'food__00__x': 7.0,\n",
       "  'food__00__y': 2.0,\n",
       "  'health': 4.0,\n",
       "  'key__00__x': 9.0,\n",
       "  'key__00__y': 4.0,\n",
       "  'keys': 0.0,\n",
       "  'lamp_off__x': 8.0,\n",
       "  'lamp_off__y': 1.0,\n",
       "  'lamp_on__x': -1.0,\n",
       "  'lamp_on__y': -1.0,\n",
       "  'lamp_status': 0.0,\n",
       "  'player__x': 9.0,\n",
       "  'player__y': 3.0},\n",
       " {'button__x': -1.0,\n",
       "  'button__y': -3.0,\n",
       "  'chest__00__x': 4.0,\n",
       "  'chest__00__y': 0.0,\n",
       "  'food__00__x': -1.0,\n",
       "  'food__00__y': 2.0,\n",
       "  'health': 2.0,\n",
       "  'key__00__x': -3.0,\n",
       "  'key__00__y': 1.0,\n",
       "  'keys': 0.0,\n",
       "  'lamp_off__x': 1.0,\n",
       "  'lamp_off__y': 1.0,\n",
       "  'lamp_on__x': 0.0,\n",
       "  'lamp_on__y': 0.0,\n",
       "  'lamp_status': 0.0,\n",
       "  'player__x': -3.0,\n",
       "  'player__y': 1.0})"
      ]
     },
     "execution_count": 39,
     "metadata": {},
     "output_type": "execute_result"
    }
   ],
   "source": [
    "fx_dict[idx_bad], ax_denorm[idx_bad], fy_dict[idx_bad], dict(zip(sorted(all_keys), deltas[idx_bad]))"
   ]
  },
  {
   "cell_type": "code",
   "execution_count": 40,
   "metadata": {},
   "outputs": [
    {
     "data": {
      "text/plain": [
       "0"
      ]
     },
     "execution_count": 40,
     "metadata": {},
     "output_type": "execute_result"
    }
   ],
   "source": [
    "idx_bad"
   ]
  },
  {
   "cell_type": "code",
   "execution_count": null,
   "metadata": {},
   "outputs": [],
   "source": []
  },
  {
   "cell_type": "code",
   "execution_count": null,
   "metadata": {},
   "outputs": [],
   "source": []
  },
  {
   "cell_type": "code",
   "execution_count": 184,
   "metadata": {},
   "outputs": [
    {
     "data": {
      "image/png": "[encoded data removed]",
      "text/plain": [
       "<Figure size 1440x720 with 17 Axes>"
      ]
     },
     "metadata": {
      "needs_background": "light"
     },
     "output_type": "display_data"
    }
   ],
   "source": [
    "plt.figure(figsize=(20, 10))\n",
    "for i in range(fx.shape[1]):\n",
    "    plt.subplot(5, 4, i + 1)\n",
    "    plt.hist(fx[:, i])\n",
    "plt.show()"
   ]
  },
  {
   "cell_type": "code",
   "execution_count": 178,
   "metadata": {},
   "outputs": [
    {
     "data": {
      "image/png": "[encoded data removed]",
      "text/plain": [
       "<Figure size 1440x720 with 17 Axes>"
      ]
     },
     "metadata": {
      "needs_background": "light"
     },
     "output_type": "display_data"
    }
   ],
   "source": [
    "deltas = np.array(deltas)\n",
    "\n",
    "plt.figure(figsize=(20, 10))\n",
    "for i in range(fx.shape[1]):\n",
    "    plt.subplot(5, 4, i + 1)\n",
    "    plt.hist(deltas[:, i])\n",
    "plt.show()"
   ]
  },
  {
   "cell_type": "code",
   "execution_count": 179,
   "metadata": {},
   "outputs": [
    {
     "data": {
      "text/plain": [
       "(array([1.07000e+02, 2.59000e+02, 1.57000e+02, 1.41000e+02, 8.59700e+03,\n",
       "        7.56919e+05, 4.19000e+02, 1.02000e+02, 2.59000e+02, 3.52000e+02]),\n",
       " array([-10.,  -8.,  -6.,  -4.,  -2.,   0.,   2.,   4.,   6.,   8.,  10.],\n",
       "       dtype=float32),\n",
       " <BarContainer object of 10 artists>)"
      ]
     },
     "execution_count": 179,
     "metadata": {},
     "output_type": "execute_result"
    },
    {
     "data": {
      "image/png": "[encoded data removed]",
      "text/plain": [
       "<Figure size 432x288 with 1 Axes>"
      ]
     },
     "metadata": {
      "needs_background": "light"
     },
     "output_type": "display_data"
    }
   ],
   "source": [
    "plt.hist(np.array(deltas).flatten())"
   ]
  },
  {
   "cell_type": "code",
   "execution_count": 180,
   "metadata": {},
   "outputs": [
    {
     "data": {
      "text/plain": [
       "(array([0.0000000e+00, 0.0000000e+00, 1.0000000e+01, 2.0000000e+00,\n",
       "        1.0000000e+01, 2.0000000e+00, 8.0000000e+00, 1.0000000e+01,\n",
       "        2.0000000e+00, 1.0000000e+00, 1.0000000e+01, 6.0000000e+00,\n",
       "        1.0000000e+01, 5.9999995e+00, 1.0000000e+00, 0.0000000e+00,\n",
       "        1.1920929e-07], dtype=float32),\n",
       " 10.0)"
      ]
     },
     "execution_count": 180,
     "metadata": {},
     "output_type": "execute_result"
    }
   ],
   "source": []
  },
  {
   "cell_type": "code",
   "execution_count": null,
   "metadata": {},
   "outputs": [],
   "source": []
  },
  {
   "cell_type": "code",
   "execution_count": null,
   "metadata": {},
   "outputs": [],
   "source": []
  },
  {
   "cell_type": "code",
   "execution_count": null,
   "metadata": {},
   "outputs": [],
   "source": []
  },
  {
   "cell_type": "code",
   "execution_count": 110,
   "metadata": {},
   "outputs": [
    {
     "data": {
      "text/plain": [
       "['button__x',\n",
       " 'button__y',\n",
       " 'chest__00__x',\n",
       " 'chest__00__y',\n",
       " 'food__00__x',\n",
       " 'food__00__y',\n",
       " 'health',\n",
       " 'key__00__x',\n",
       " 'key__00__y',\n",
       " 'keys',\n",
       " 'lamp_off__x',\n",
       " 'lamp_off__y',\n",
       " 'lamp_on__x',\n",
       " 'lamp_on__y',\n",
       " 'lamp_status',\n",
       " 'player__x',\n",
       " 'player__y']"
      ]
     },
     "execution_count": 110,
     "metadata": {},
     "output_type": "execute_result"
    }
   ],
   "source": [
    "sorted(k, )"
   ]
  },
  {
   "cell_type": "code",
   "execution_count": 111,
   "metadata": {},
   "outputs": [
    {
     "data": {
      "text/plain": [
       "(9032, 17)"
      ]
     },
     "execution_count": 111,
     "metadata": {},
     "output_type": "execute_result"
    }
   ],
   "source": [
    "np.array(deltas).shape"
   ]
  },
  {
   "cell_type": "code",
   "execution_count": 55,
   "metadata": {},
   "outputs": [
    {
     "data": {
      "text/plain": [
       "[['obs_x', 'obs_y', 'action_x', 'reward_to_go'], ['obs']]"
      ]
     },
     "execution_count": 55,
     "metadata": {},
     "output_type": "execute_result"
    }
   ],
   "source": [
    "learner.shuffle_together"
   ]
  },
  {
   "cell_type": "code",
   "execution_count": 35,
   "metadata": {},
   "outputs": [],
   "source": [
    "self = learner"
   ]
  },
  {
   "cell_type": "code",
   "execution_count": 36,
   "metadata": {},
   "outputs": [],
   "source": [
    "context = learner._context_subclass"
   ]
  },
  {
   "cell_type": "code",
   "execution_count": 37,
   "metadata": {},
   "outputs": [
    {
     "data": {
      "text/plain": [
       "{'obs_x': 9016,\n",
       " 'obs_y': 9016,\n",
       " 'action_x': 9016,\n",
       " 'obs': 10002,\n",
       " 'reward_to_go': 9016}"
      ]
     },
     "execution_count": 37,
     "metadata": {},
     "output_type": "execute_result"
    }
   ],
   "source": [
    "{x: len(y) for x, y in context.items() if isinstance(y, np.ndarray)}"
   ]
  },
  {
   "cell_type": "code",
   "execution_count": 38,
   "metadata": {},
   "outputs": [
    {
     "name": "stdout",
     "output_type": "stream",
     "text": [
      "shuffling ['obs_x', 'obs_y', 'action_x', 'reward_to_go']\n",
      "shuffling ['obs']\n"
     ]
    }
   ],
   "source": [
    "for group in self.shuffle_together:\n",
    "    idx = list(range(len(context[group[0]])))\n",
    "    np.random.shuffle(idx)\n",
    "    print('shuffling', group)\n",
    "    for key in group:\n",
    "        context[key] = np.array(context[key])[idx]"
   ]
  },
  {
   "cell_type": "code",
   "execution_count": 99,
   "metadata": {},
   "outputs": [
    {
     "data": {
      "text/plain": [
       "10003"
      ]
     },
     "execution_count": 99,
     "metadata": {},
     "output_type": "execute_result"
    }
   ],
   "source": [
    "len(idx)"
   ]
  },
  {
   "cell_type": "code",
   "execution_count": 100,
   "metadata": {},
   "outputs": [
    {
     "data": {
      "text/plain": [
       "{'obs_x': 9032,\n",
       " 'obs_y': 9032,\n",
       " 'action_x': 9032,\n",
       " 'obs': 10003,\n",
       " 'reward_to_go': 9032}"
      ]
     },
     "execution_count": 100,
     "metadata": {},
     "output_type": "execute_result"
    }
   ],
   "source": [
    "{x: len(y) for x, y in context.items() if isinstance(y, np.ndarray)}"
   ]
  },
  {
   "cell_type": "code",
   "execution_count": 102,
   "metadata": {},
   "outputs": [],
   "source": [
    "A = np.array([\n",
    "    [1, 2, 3],\n",
    "    [4, 5, 6],\n",
    "    [7, 8, 9]\n",
    "])"
   ]
  },
  {
   "cell_type": "code",
   "execution_count": 104,
   "metadata": {},
   "outputs": [
    {
     "data": {
      "text/plain": [
       "array([[1, 2, 3],\n",
       "       [7, 8, 9],\n",
       "       [4, 5, 6]])"
      ]
     },
     "execution_count": 104,
     "metadata": {},
     "output_type": "execute_result"
    }
   ],
   "source": [
    "A[[0, 2, 1]]"
   ]
  },
  {
   "cell_type": "code",
   "execution_count": null,
   "metadata": {},
   "outputs": [],
   "source": []
  }
 ],
 "metadata": {
  "kernelspec": {
   "display_name": "Python 3",
   "language": "python",
   "name": "python3"
  },
  "language_info": {
   "codemirror_mode": {
    "name": "ipython",
    "version": 3
   },
   "file_extension": ".py",
   "mimetype": "text/x-python",
   "name": "python",
   "nbconvert_exporter": "python",
   "pygments_lexer": "ipython3",
   "version": "3.7.0"
  }
 },
 "nbformat": 4,
 "nbformat_minor": 4
}
