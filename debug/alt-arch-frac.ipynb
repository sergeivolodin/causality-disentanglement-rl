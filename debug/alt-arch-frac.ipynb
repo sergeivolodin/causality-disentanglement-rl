{
 "cells": [
  {
   "cell_type": "code",
   "execution_count": 1,
   "id": "69d4b1d2",
   "metadata": {},
   "outputs": [],
   "source": [
    "import torch\n",
    "import os\n",
    "os.environ['CUDA_VISIBLE_DEVICES'] = \"0\"\n",
    "from tqdm.auto import tqdm\n",
    "import numpy as np\n",
    "from matplotlib import pyplot as plt\n",
    "from torch import nn\n",
    "import gin\n",
    "from functools import partial\n",
    "gin.enter_interactive_mode()"
   ]
  },
  {
   "cell_type": "code",
   "execution_count": 2,
   "id": "3947943e",
   "metadata": {},
   "outputs": [],
   "source": [
    "@gin.configurable\n",
    "def get_xy(h=10, w=10, s=1000):\n",
    "    res = np.zeros((s, h, w), dtype=np.float32)\n",
    "    idxes_x = np.random.choice(h, s, replace=True)\n",
    "    idxes_y = np.random.choice(w, s, replace=True)\n",
    "    res[np.arange(s), idxes_x, idxes_y] = 1.0\n",
    "    \n",
    "    return res, (idxes_x, idxes_y)"
   ]
  },
  {
   "cell_type": "code",
   "execution_count": 3,
   "id": "ff93581d",
   "metadata": {},
   "outputs": [],
   "source": [
    "h, w, s = 10, 10, 1000\n",
    "gin.bind_parameter('get_xy.h', h)\n",
    "gin.bind_parameter('get_xy.w', w)\n",
    "gin.bind_parameter('get_xy.s', s)"
   ]
  },
  {
   "cell_type": "code",
   "execution_count": 4,
   "id": "98b8d60a",
   "metadata": {},
   "outputs": [
    {
     "data": {
      "text/plain": [
       "<matplotlib.image.AxesImage at 0x7f121c974a10>"
      ]
     },
     "execution_count": 4,
     "metadata": {},
     "output_type": "execute_result"
    },
    {
     "data": {
      "image/png": "[encoded data removed]",
      "text/plain": [
       "<Figure size 432x288 with 1 Axes>"
      ]
     },
     "metadata": {
      "needs_background": "light"
     },
     "output_type": "display_data"
    }
   ],
   "source": [
    "X, (xs, ys) = get_xy()\n",
    "\n",
    "idx = np.random.choice(s)\n",
    "\n",
    "plt.title(f\"{xs[idx]} {ys[idx]}\")\n",
    "plt.imshow(X[idx])"
   ]
  },
  {
   "cell_type": "code",
   "execution_count": 436,
   "id": "7edc8214",
   "metadata": {},
   "outputs": [],
   "source": [
    "import torch\n",
    "from torch import nn\n",
    "import numpy as np\n",
    "import gin\n",
    "\n",
    "\n",
    "@gin.configurable\n",
    "class PolyFracAct(nn.Module):\n",
    "    \"\"\"Polynomial activation function. y = poly(x, w1)/poly(x, w2), w1, w2 is learned.\"\"\"\n",
    "\n",
    "    GIVE_N_FEATURES = True\n",
    "\n",
    "    def __repr__(self, *args, **kwargs):\n",
    "        orig = super(PolyFracAct, self).__repr__(*args, **kwargs)\n",
    "        return f\"{orig} max_degree={self.max_degree} features={self.features}\"\n",
    "\n",
    "    def __init__(self, features=None, max_degree=3):\n",
    "        super(PolyFracAct, self).__init__()\n",
    "        # order: constant, x, x^2, ...\n",
    "        self.max_degree = max_degree\n",
    "        if isinstance(features, list) or isinstance(features, tuple):\n",
    "            features = np.prod(features)\n",
    "        self.features = features\n",
    "        self.orig_act = nn.Tanh()\n",
    "        init = np.random.randn(*(max_degree + 1, features, 2)).astype(np.float32) / 10.\n",
    "#         init[1, :, :] = 1.0\n",
    "#         init[2, :, :] = 0.0001\n",
    "        self.a = nn.Parameter(torch.from_numpy(init), requires_grad=True)\n",
    "\n",
    "    def forward(self, x):\n",
    "        xshape = x.shape\n",
    "        x = x.flatten(start_dim=1)\n",
    "        assert x.shape[1] == self.features, (x.shape, self.features)\n",
    "\n",
    "#         if self.orig_act is not None:\n",
    "#             x = self.orig_act(x)\n",
    "        \n",
    "        assert self.max_degree == 3\n",
    "        out1 = x * self.a[1, :, 0] + x ** 2 * self.a[2, :, 0] + x ** 3 * self.a[3, :, 0] + self.a[0, :, 0]\n",
    "        out2 = x * self.a[1, :, 1] + x ** 2 * self.a[2, :, 1] + x ** 3 * self.a[3, :, 1] + self.a[0, :, 1]\n",
    "\n",
    "        out = out1 / out2\n",
    "        \n",
    "        x = out.view(*xshape)\n",
    "        \n",
    "        if self.orig_act is not None:\n",
    "            x = self.orig_act(x)\n",
    "        \n",
    "        return x\n"
   ]
  },
  {
   "cell_type": "code",
   "execution_count": 437,
   "id": "3c7c0f90",
   "metadata": {},
   "outputs": [],
   "source": [
    "act_cls = lambda **kwargs: nn.Tanh()\n",
    "\n",
    "\n",
    "from sparse_causal_model_learner_rl.trainable.quadratic_neuron import Quadratic\n",
    "from sparse_causal_model_learner_rl.trainable.poly_activation import PolyAct\n",
    "        \n",
    "# act_cls = partial(PolyAct, orig_act_cls=lambda: (lambda x: x)) # nn.Tanh\n",
    "act_cls = PolyFracAct\n",
    "layer_cls = nn.Linear\n",
    "# layer_cls = Quadratic\n",
    "\n",
    "class Decoder(nn.Module):\n",
    "    def __init__(self):\n",
    "        super(Decoder, self).__init__()\n",
    "#         self.fc1 = layer_cls(in_features=h * w, out_features=10)\n",
    "#         self.fc2 = layer_cls(in_features=10, out_features=4)\n",
    "        self.fc = nn.Linear(in_features=h*w, out_features=4)\n",
    "#         self.act = act_cls(features=10)#nn.Tanh()\n",
    "    def forward(self, x):\n",
    "        x = x.flatten(start_dim=1)\n",
    "#         x = self.act(self.fc1(x))\n",
    "#         x = self.fc2(x)\n",
    "        x = self.fc(x)\n",
    "        return x\n",
    "\n",
    "class Reconstructor(nn.Module):\n",
    "    def __init__(self):\n",
    "        super(Reconstructor, self).__init__()\n",
    "        self.fc1 = layer_cls(in_features=4, out_features=10 * h * w)\n",
    "        self.fc2 = nn.Linear(in_features=10*h*w, out_features=h * w)\n",
    "        self.act1 = act_cls(features=10*h*w)#nn.Tanh()\n",
    "        self.act2 = act_cls(features=h*w)\n",
    "    def forward(self, x):\n",
    "        x = self.act1(self.fc1(x))\n",
    "        x = self.act2(self.fc2(x))\n",
    "        x = x.view(x.shape[0], h, w)\n",
    "        return x"
   ]
  },
  {
   "cell_type": "code",
   "execution_count": 438,
   "id": "90d34a67",
   "metadata": {},
   "outputs": [],
   "source": [
    "rec = Reconstructor()\n",
    "dec = Decoder()"
   ]
  },
  {
   "cell_type": "code",
   "execution_count": 439,
   "id": "a0bc4b87",
   "metadata": {},
   "outputs": [
    {
     "data": {
      "text/plain": [
       "Parameter containing:\n",
       "tensor([[[ 2.0455e-02, -9.7339e-02],\n",
       "         [-1.5079e-01, -6.1671e-02],\n",
       "         [ 8.2404e-02,  5.2305e-02],\n",
       "         ...,\n",
       "         [-4.3328e-02,  1.1386e-02],\n",
       "         [ 2.6230e-02,  1.3062e-01],\n",
       "         [-8.0069e-02, -2.3260e-01]],\n",
       "\n",
       "        [[-5.5164e-02,  1.1005e-02],\n",
       "         [-1.6137e-01,  1.5347e-01],\n",
       "         [-1.8058e-01, -4.2713e-02],\n",
       "         ...,\n",
       "         [ 1.5680e-01,  7.9133e-02],\n",
       "         [-3.9844e-02, -2.7226e-02],\n",
       "         [-8.9416e-02, -3.3317e-02]],\n",
       "\n",
       "        [[ 1.9993e-03, -1.1102e-01],\n",
       "         [-8.2216e-02, -3.2358e-03],\n",
       "         [ 1.5982e-01, -6.5152e-02],\n",
       "         ...,\n",
       "         [-1.4779e-01,  1.0392e-01],\n",
       "         [-1.7769e-01,  5.9436e-03],\n",
       "         [-9.0900e-02, -1.2898e-04]],\n",
       "\n",
       "        [[ 7.5263e-02,  6.5937e-02],\n",
       "         [ 7.6496e-02, -1.5039e-01],\n",
       "         [ 8.8181e-02,  1.3481e-01],\n",
       "         ...,\n",
       "         [-6.7409e-02,  8.2873e-02],\n",
       "         [-5.8940e-02, -1.9432e-02],\n",
       "         [ 3.9831e-02, -2.5085e-01]]], requires_grad=True)"
      ]
     },
     "execution_count": 439,
     "metadata": {},
     "output_type": "execute_result"
    }
   ],
   "source": [
    "rec.act1.a"
   ]
  },
  {
   "cell_type": "code",
   "execution_count": 440,
   "id": "af83bf49",
   "metadata": {},
   "outputs": [],
   "source": [
    "data = torch.from_numpy(X)"
   ]
  },
  {
   "cell_type": "code",
   "execution_count": 441,
   "id": "f219eb36",
   "metadata": {},
   "outputs": [],
   "source": [
    "def loss():\n",
    "#     softmaxed = torch.nn.Softmax(1)(rec(dec(data)).flatten(start_dim=1))\n",
    "#     answers = torch.argmax(data.flatten(start_dim=1), dim=1)\n",
    "    \n",
    "#     ce = torch.nn.CrossEntropyLoss()\n",
    "#     loss = ce(softmaxed, answers)\n",
    "   \n",
    "#     delta = (rec(dec(data)) - data).flatten(start_dim=1)\n",
    "#     std = data.std(0, keepdim=True).flatten(start_dim=1)\n",
    "#     std = torch.where(std < 1e-6, torch.ones_like(std), std)\n",
    "#     delta = delta.pow(2)\n",
    "#     delta = delta / std.pow(2)\n",
    "#     loss = delta.sum(1).mean(0)\n",
    "    delta = (rec(dec(data)) - data).flatten(start_dim=1)\n",
    "    loss = delta.pow(2).sum(1).mean(0)\n",
    "    return loss"
   ]
  },
  {
   "cell_type": "code",
   "execution_count": 442,
   "id": "9b93ca56",
   "metadata": {},
   "outputs": [],
   "source": [
    "opt = torch.optim.Adam(list(rec.parameters()) + list(dec.parameters()),\n",
    "                       lr=1e-3)"
   ]
  },
  {
   "cell_type": "code",
   "execution_count": 443,
   "id": "4ed6edd3",
   "metadata": {},
   "outputs": [],
   "source": [
    "losses = []"
   ]
  },
  {
   "cell_type": "code",
   "execution_count": 457,
   "id": "c57b1b40",
   "metadata": {},
   "outputs": [
    {
     "data": {
      "application/vnd.jupyter.widget-view+json": {
       "model_id": "abb29969e4bb4fa6844909eb8b942600",
       "version_major": 2,
       "version_minor": 0
      },
      "text/plain": [
       "HBox(children=(HTML(value=''), FloatProgress(value=0.0, max=10000.0), HTML(value='')))"
      ]
     },
     "metadata": {},
     "output_type": "display_data"
    },
    {
     "name": "stdout",
     "output_type": "stream",
     "text": [
      "\n"
     ]
    },
    {
     "ename": "KeyboardInterrupt",
     "evalue": "",
     "output_type": "error",
     "traceback": [
      "\u001b[0;31m---------------------------------------------------------------------------\u001b[0m",
      "\u001b[0;31mKeyboardInterrupt\u001b[0m                         Traceback (most recent call last)",
      "\u001b[0;32m<ipython-input-457-d2d15eb145ac>\u001b[0m in \u001b[0;36m<module>\u001b[0;34m()\u001b[0m\n\u001b[1;32m      6\u001b[0m     \u001b[0mopt\u001b[0m\u001b[0;34m.\u001b[0m\u001b[0mzero_grad\u001b[0m\u001b[0;34m(\u001b[0m\u001b[0;34m)\u001b[0m\u001b[0;34m\u001b[0m\u001b[0;34m\u001b[0m\u001b[0m\n\u001b[1;32m      7\u001b[0m     \u001b[0ml\u001b[0m \u001b[0;34m=\u001b[0m \u001b[0mloss\u001b[0m\u001b[0;34m(\u001b[0m\u001b[0;34m)\u001b[0m\u001b[0;34m\u001b[0m\u001b[0;34m\u001b[0m\u001b[0m\n\u001b[0;32m----> 8\u001b[0;31m     \u001b[0ml\u001b[0m\u001b[0;34m.\u001b[0m\u001b[0mbackward\u001b[0m\u001b[0;34m(\u001b[0m\u001b[0;34m)\u001b[0m\u001b[0;34m\u001b[0m\u001b[0;34m\u001b[0m\u001b[0m\n\u001b[0m\u001b[1;32m      9\u001b[0m     \u001b[0mopt\u001b[0m\u001b[0;34m.\u001b[0m\u001b[0mstep\u001b[0m\u001b[0;34m(\u001b[0m\u001b[0;34m)\u001b[0m\u001b[0;34m\u001b[0m\u001b[0;34m\u001b[0m\u001b[0m\n\u001b[1;32m     10\u001b[0m     \u001b[0mlosses\u001b[0m\u001b[0;34m.\u001b[0m\u001b[0mappend\u001b[0m\u001b[0;34m(\u001b[0m\u001b[0ml\u001b[0m\u001b[0;34m.\u001b[0m\u001b[0mitem\u001b[0m\u001b[0;34m(\u001b[0m\u001b[0;34m)\u001b[0m\u001b[0;34m)\u001b[0m\u001b[0;34m\u001b[0m\u001b[0;34m\u001b[0m\u001b[0m\n",
      "\u001b[0;32m/usr/local/lib/python3.7/dist-packages/torch/tensor.py\u001b[0m in \u001b[0;36mbackward\u001b[0;34m(self, gradient, retain_graph, create_graph, inputs)\u001b[0m\n\u001b[1;32m    243\u001b[0m                 \u001b[0mcreate_graph\u001b[0m\u001b[0;34m=\u001b[0m\u001b[0mcreate_graph\u001b[0m\u001b[0;34m,\u001b[0m\u001b[0;34m\u001b[0m\u001b[0;34m\u001b[0m\u001b[0m\n\u001b[1;32m    244\u001b[0m                 inputs=inputs)\n\u001b[0;32m--> 245\u001b[0;31m         \u001b[0mtorch\u001b[0m\u001b[0;34m.\u001b[0m\u001b[0mautograd\u001b[0m\u001b[0;34m.\u001b[0m\u001b[0mbackward\u001b[0m\u001b[0;34m(\u001b[0m\u001b[0mself\u001b[0m\u001b[0;34m,\u001b[0m \u001b[0mgradient\u001b[0m\u001b[0;34m,\u001b[0m \u001b[0mretain_graph\u001b[0m\u001b[0;34m,\u001b[0m \u001b[0mcreate_graph\u001b[0m\u001b[0;34m,\u001b[0m \u001b[0minputs\u001b[0m\u001b[0;34m=\u001b[0m\u001b[0minputs\u001b[0m\u001b[0;34m)\u001b[0m\u001b[0;34m\u001b[0m\u001b[0;34m\u001b[0m\u001b[0m\n\u001b[0m\u001b[1;32m    246\u001b[0m \u001b[0;34m\u001b[0m\u001b[0m\n\u001b[1;32m    247\u001b[0m     \u001b[0;32mdef\u001b[0m \u001b[0mregister_hook\u001b[0m\u001b[0;34m(\u001b[0m\u001b[0mself\u001b[0m\u001b[0;34m,\u001b[0m \u001b[0mhook\u001b[0m\u001b[0;34m)\u001b[0m\u001b[0;34m:\u001b[0m\u001b[0;34m\u001b[0m\u001b[0;34m\u001b[0m\u001b[0m\n",
      "\u001b[0;32m/usr/local/lib/python3.7/dist-packages/torch/autograd/__init__.py\u001b[0m in \u001b[0;36mbackward\u001b[0;34m(tensors, grad_tensors, retain_graph, create_graph, grad_variables, inputs)\u001b[0m\n\u001b[1;32m    145\u001b[0m     Variable._execution_engine.run_backward(\n\u001b[1;32m    146\u001b[0m         \u001b[0mtensors\u001b[0m\u001b[0;34m,\u001b[0m \u001b[0mgrad_tensors_\u001b[0m\u001b[0;34m,\u001b[0m \u001b[0mretain_graph\u001b[0m\u001b[0;34m,\u001b[0m \u001b[0mcreate_graph\u001b[0m\u001b[0;34m,\u001b[0m \u001b[0minputs\u001b[0m\u001b[0;34m,\u001b[0m\u001b[0;34m\u001b[0m\u001b[0;34m\u001b[0m\u001b[0m\n\u001b[0;32m--> 147\u001b[0;31m         allow_unreachable=True, accumulate_grad=True)  # allow_unreachable flag\n\u001b[0m\u001b[1;32m    148\u001b[0m \u001b[0;34m\u001b[0m\u001b[0m\n\u001b[1;32m    149\u001b[0m \u001b[0;34m\u001b[0m\u001b[0m\n",
      "\u001b[0;31mKeyboardInterrupt\u001b[0m: "
     ]
    }
   ],
   "source": [
    "for i in tqdm(range(10000)):\n",
    "    if i % 10 == 0:\n",
    "        X, (xs, ys) = get_xy()\n",
    "        data = torch.from_numpy(X)\n",
    "    \n",
    "    opt.zero_grad()\n",
    "    l = loss()\n",
    "    l.backward()\n",
    "    opt.step()\n",
    "    losses.append(l.item())"
   ]
  },
  {
   "cell_type": "code",
   "execution_count": 458,
   "id": "8b045eb0",
   "metadata": {},
   "outputs": [
    {
     "data": {
      "image/png": "[encoded data removed]",
      "text/plain": [
       "<Figure size 432x288 with 1 Axes>"
      ]
     },
     "metadata": {
      "needs_background": "light"
     },
     "output_type": "display_data"
    }
   ],
   "source": [
    "plt.plot(losses)\n",
    "plt.yscale('log')"
   ]
  },
  {
   "cell_type": "code",
   "execution_count": 459,
   "id": "8efab067",
   "metadata": {},
   "outputs": [
    {
     "data": {
      "image/png": "[encoded data removed]",
      "text/plain": [
       "<Figure size 432x288 with 2 Axes>"
      ]
     },
     "metadata": {
      "needs_background": "light"
     },
     "output_type": "display_data"
    },
    {
     "data": {
      "image/png": "[encoded data removed]",
      "text/plain": [
       "<Figure size 432x288 with 2 Axes>"
      ]
     },
     "metadata": {
      "needs_background": "light"
     },
     "output_type": "display_data"
    },
    {
     "data": {
      "image/png": "[encoded data removed]",
      "text/plain": [
       "<Figure size 432x288 with 2 Axes>"
      ]
     },
     "metadata": {
      "needs_background": "light"
     },
     "output_type": "display_data"
    }
   ],
   "source": [
    "X, (xs, ys) = get_xy()\n",
    "data = torch.from_numpy(X)\n",
    "\n",
    "Xrec = rec(dec(data))\n",
    "for _ in range(3):\n",
    "    idx = np.random.choice(s)\n",
    "\n",
    "    plt.subplot(1, 2, 1)\n",
    "    plt.title(f\"{xs[idx]} {ys[idx]}\")\n",
    "    plt.imshow(X[idx])\n",
    "    plt.subplot(1, 2, 2)\n",
    "    xrecnp = Xrec.detach().cpu().numpy()[idx]\n",
    "    plt.imshow(xrecnp, vmin=0, vmax=1)# >= np.max(xrecnp))\n",
    "    plt.show()"
   ]
  },
  {
   "cell_type": "code",
   "execution_count": 460,
   "id": "683eafaa",
   "metadata": {},
   "outputs": [
    {
     "data": {
      "text/plain": [
       "<function matplotlib.pyplot.imshow>"
      ]
     },
     "execution_count": 460,
     "metadata": {},
     "output_type": "execute_result"
    }
   ],
   "source": [
    "plt.imshow"
   ]
  },
  {
   "cell_type": "code",
   "execution_count": 461,
   "id": "bf1ead95",
   "metadata": {},
   "outputs": [
    {
     "ename": "AttributeError",
     "evalue": "'Linear' object has no attribute 'W'",
     "output_type": "error",
     "traceback": [
      "\u001b[0;31m---------------------------------------------------------------------------\u001b[0m",
      "\u001b[0;31mAttributeError\u001b[0m                            Traceback (most recent call last)",
      "\u001b[0;32m<ipython-input-461-98fac3db33e1>\u001b[0m in \u001b[0;36m<module>\u001b[0;34m()\u001b[0m\n\u001b[0;32m----> 1\u001b[0;31m \u001b[0mplt\u001b[0m\u001b[0;34m.\u001b[0m\u001b[0mimshow\u001b[0m\u001b[0;34m(\u001b[0m\u001b[0mrec\u001b[0m\u001b[0;34m.\u001b[0m\u001b[0mfc1\u001b[0m\u001b[0;34m.\u001b[0m\u001b[0mW\u001b[0m\u001b[0;34m[\u001b[0m\u001b[0;36m7\u001b[0m\u001b[0;34m,\u001b[0m \u001b[0;34m:\u001b[0m\u001b[0;34m,\u001b[0m \u001b[0;34m:\u001b[0m\u001b[0;34m]\u001b[0m\u001b[0;34m.\u001b[0m\u001b[0mdetach\u001b[0m\u001b[0;34m(\u001b[0m\u001b[0;34m)\u001b[0m\u001b[0;34m.\u001b[0m\u001b[0mnumpy\u001b[0m\u001b[0;34m(\u001b[0m\u001b[0;34m)\u001b[0m\u001b[0;34m)\u001b[0m\u001b[0;34m\u001b[0m\u001b[0;34m\u001b[0m\u001b[0m\n\u001b[0m",
      "\u001b[0;32m/usr/local/lib/python3.7/dist-packages/torch/nn/modules/module.py\u001b[0m in \u001b[0;36m__getattr__\u001b[0;34m(self, name)\u001b[0m\n\u001b[1;32m    946\u001b[0m                 \u001b[0;32mreturn\u001b[0m \u001b[0mmodules\u001b[0m\u001b[0;34m[\u001b[0m\u001b[0mname\u001b[0m\u001b[0;34m]\u001b[0m\u001b[0;34m\u001b[0m\u001b[0;34m\u001b[0m\u001b[0m\n\u001b[1;32m    947\u001b[0m         raise AttributeError(\"'{}' object has no attribute '{}'\".format(\n\u001b[0;32m--> 948\u001b[0;31m             type(self).__name__, name))\n\u001b[0m\u001b[1;32m    949\u001b[0m \u001b[0;34m\u001b[0m\u001b[0m\n\u001b[1;32m    950\u001b[0m     \u001b[0;32mdef\u001b[0m \u001b[0m__setattr__\u001b[0m\u001b[0;34m(\u001b[0m\u001b[0mself\u001b[0m\u001b[0;34m,\u001b[0m \u001b[0mname\u001b[0m\u001b[0;34m:\u001b[0m \u001b[0mstr\u001b[0m\u001b[0;34m,\u001b[0m \u001b[0mvalue\u001b[0m\u001b[0;34m:\u001b[0m \u001b[0mUnion\u001b[0m\u001b[0;34m[\u001b[0m\u001b[0mTensor\u001b[0m\u001b[0;34m,\u001b[0m \u001b[0;34m'Module'\u001b[0m\u001b[0;34m]\u001b[0m\u001b[0;34m)\u001b[0m \u001b[0;34m->\u001b[0m \u001b[0;32mNone\u001b[0m\u001b[0;34m:\u001b[0m\u001b[0;34m\u001b[0m\u001b[0;34m\u001b[0m\u001b[0m\n",
      "\u001b[0;31mAttributeError\u001b[0m: 'Linear' object has no attribute 'W'"
     ]
    }
   ],
   "source": [
    "plt.imshow(rec.fc1.W[7, :, :].detach().numpy())"
   ]
  },
  {
   "cell_type": "code",
   "execution_count": 462,
   "id": "9b9388cf",
   "metadata": {},
   "outputs": [
    {
     "data": {
      "text/plain": [
       "[<matplotlib.lines.Line2D at 0x7f11bc255fd0>]"
      ]
     },
     "execution_count": 462,
     "metadata": {},
     "output_type": "execute_result"
    },
    {
     "data": {
      "image/png": "[encoded data removed]",
      "text/plain": [
       "<Figure size 432x288 with 1 Axes>"
      ]
     },
     "metadata": {
      "needs_background": "light"
     },
     "output_type": "display_data"
    }
   ],
   "source": [
    "xs = np.linspace(-10, 10, 100)\n",
    "idx = 1\n",
    "xs_ = np.tanh(xs)\n",
    "pows = [np.power(xs_, i) for i in range(4)]\n",
    "xs_pows1 = rec.act1.a[:, idx:idx+1, 0].detach().cpu().numpy() * np.array(pows)\n",
    "xs_pows2 = rec.act1.a[:, idx:idx+1, 1].detach().cpu().numpy() * np.array(pows)\n",
    "p1 = np.sum(xs_pows1, axis=0)\n",
    "p2 = np.sum(xs_pows2, axis=0)\n",
    "p = p1 / p2\n",
    "# p = np.tanh(p)\n",
    "plt.plot(xs, p)"
   ]
  },
  {
   "cell_type": "code",
   "execution_count": 463,
   "id": "30409c31",
   "metadata": {},
   "outputs": [
    {
     "data": {
      "text/plain": [
       "(tensor([[nan],\n",
       "         [nan],\n",
       "         [nan],\n",
       "         [nan]], grad_fn=<SelectBackward>), tensor([[nan],\n",
       "         [nan],\n",
       "         [nan],\n",
       "         [nan]], grad_fn=<SelectBackward>))"
      ]
     },
     "execution_count": 463,
     "metadata": {},
     "output_type": "execute_result"
    }
   ],
   "source": [
    "rec.act1.a[:, idx:idx+1, 0], rec.act1.a[:, idx:idx+1, 1]"
   ]
  },
  {
   "cell_type": "code",
   "execution_count": 453,
   "id": "7b9a8875",
   "metadata": {},
   "outputs": [
    {
     "data": {
      "text/plain": [
       "((4, 1), (4, 100))"
      ]
     },
     "execution_count": 453,
     "metadata": {},
     "output_type": "execute_result"
    }
   ],
   "source": [
    "rec.act1.a[:, idx:idx+1, 0].detach().cpu().numpy().shape, np.array(pows).shape"
   ]
  },
  {
   "cell_type": "code",
   "execution_count": null,
   "id": "34a9e096",
   "metadata": {},
   "outputs": [],
   "source": []
  }
 ],
 "metadata": {
  "kernelspec": {
   "display_name": "Python 3",
   "language": "python",
   "name": "python3"
  },
  "language_info": {
   "codemirror_mode": {
    "name": "ipython",
    "version": 3
   },
   "file_extension": ".py",
   "mimetype": "text/x-python",
   "name": "python",
   "nbconvert_exporter": "python",
   "pygments_lexer": "ipython3",
   "version": "3.7.10"
  }
 },
 "nbformat": 4,
 "nbformat_minor": 5
}
