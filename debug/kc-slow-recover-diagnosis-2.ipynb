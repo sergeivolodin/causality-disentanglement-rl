{
 "cells": [
  {
   "cell_type": "code",
   "execution_count": 136,
   "metadata": {},
   "outputs": [],
   "source": [
    "import os\n",
    "os.environ['CUDA_VISIBLE_DEVICES'] = \"0\"\n",
    "import numpy as np\n",
    "from matplotlib import pyplot as plt\n",
    "import seaborn as sns\n",
    "import pandas as pd\n",
    "from tqdm.auto import tqdm\n",
    "import torch\n",
    "from torch import nn\n",
    "import gin\n",
    "import pickle\n",
    "import io\n",
    "from sparse_causal_model_learner_rl.trainable.gumbel_switch import WithInputSwitch, sample_from_logits_simple\n",
    "gin.enter_interactive_mode()"
   ]
  },
  {
   "cell_type": "code",
   "execution_count": 137,
   "metadata": {},
   "outputs": [],
   "source": [
    "ckpt = '/home/sergei/ckpt_no_recover_logitsreset'"
   ]
  },
  {
   "cell_type": "code",
   "execution_count": 169,
   "metadata": {},
   "outputs": [],
   "source": [
    "class LinearModel(nn.Module):\n",
    "    def __init__(self, input_shape):\n",
    "        super(LinearModel, self).__init__()\n",
    "        self.layer = nn.Linear(in_features=10, out_features=1, bias=True)\n",
    "    def forward(self, x):\n",
    "        return self.layer(x)"
   ]
  },
  {
   "cell_type": "code",
   "execution_count": 170,
   "metadata": {},
   "outputs": [
    {
     "name": "stderr",
     "output_type": "stream",
     "text": [
      "2021-01-29 17:13:08,500\tINFO worker.py:651 -- Connecting to existing Ray cluster at address: 10.90.38.7:6379\n",
      "2021-01-29 17:13:08,501\tERROR worker.py:660 -- Calling ray.init() again after it has already been called.\n"
     ]
    }
   ],
   "source": [
    "import ray\n",
    "ray.init(address='10.90.38.7:6379', ignore_reinit_error=True)"
   ]
  },
  {
   "cell_type": "code",
   "execution_count": 171,
   "metadata": {},
   "outputs": [],
   "source": [
    "# https://github.com/pytorch/pytorch/issues/16797\n",
    "class CPU_Unpickler(pickle.Unpickler):\n",
    "    def find_class(self, module, name):\n",
    "        if module == 'torch.storage' and name == '_load_from_bytes':\n",
    "            return lambda b: torch.load(io.BytesIO(b), map_location='cpu')\n",
    "        else: return super().find_class(module, name)"
   ]
  },
  {
   "cell_type": "code",
   "execution_count": 172,
   "metadata": {},
   "outputs": [
    {
     "name": "stderr",
     "output_type": "stream",
     "text": [
      "2021-01-29 17:13:10,279\tWARNING session.py:20 -- Session not detected. You should not be calling this function outside `tune.run` or while using the class API. \n"
     ]
    },
    {
     "name": "stdout",
     "output_type": "stream",
     "text": [
      "Selecting name e15b1288-624c-11eb-af1d-90e2baa1a248\n",
      "Make environment KeyChest-v0 None {}\n"
     ]
    },
    {
     "name": "stderr",
     "output_type": "stream",
     "text": [
      "WARNING:root:No class provided for trainable reconstructor\n",
      "WARNING:root:No class provided for trainable value_predictor\n",
      "WARNING:root:No class provided for trainable causal_feature_model_discriminator\n",
      "WARNING:root:No class provided for trainable decoder_discriminator\n",
      "WARNING:root:Warning: loss discriminate_siamese is used more than once\n",
      "WARNING:root:Warning: loss fit is used more than once\n",
      "WARNING:root:Warning: loss no_small_probas is used more than once\n",
      "WARNING:root:Warning: loss non_sparse_fit is used more than once\n",
      "WARNING:root:Warning: loss sparsity is used more than once\n"
     ]
    }
   ],
   "source": [
    "with open(ckpt, 'rb') as f:\n",
    "    learner = pickle.load(f)#CPU_Unpickler(f).load()#pickle.load(f)"
   ]
  },
  {
   "cell_type": "code",
   "execution_count": 173,
   "metadata": {},
   "outputs": [],
   "source": [
    "learner.collect_steps()"
   ]
  },
  {
   "cell_type": "code",
   "execution_count": 174,
   "metadata": {},
   "outputs": [],
   "source": [
    "ctx = learner._context"
   ]
  },
  {
   "cell_type": "code",
   "execution_count": 175,
   "metadata": {},
   "outputs": [],
   "source": [
    "ox = ctx['obs_x']\n",
    "oy = ctx['obs_y']\n",
    "ax = ctx['action_x']"
   ]
  },
  {
   "cell_type": "code",
   "execution_count": 176,
   "metadata": {},
   "outputs": [],
   "source": [
    "oy_pred = learner.model(f_t=ox, a_t=ax)\n",
    "oy_pred_nosparse = learner.non_sparse_model(f_t=ox, a_t=ax)"
   ]
  },
  {
   "cell_type": "code",
   "execution_count": 177,
   "metadata": {},
   "outputs": [
    {
     "data": {
      "text/plain": [
       "tensor(0.0008, device='cuda:0', grad_fn=<MeanBackward0>)"
      ]
     },
     "execution_count": 177,
     "metadata": {},
     "output_type": "execute_result"
    }
   ],
   "source": [
    "(oy_pred - oy).pow(2).mean()"
   ]
  },
  {
   "cell_type": "code",
   "execution_count": 178,
   "metadata": {},
   "outputs": [
    {
     "data": {
      "text/plain": [
       "tensor(5.5949e-06, device='cuda:0', grad_fn=<MeanBackward0>)"
      ]
     },
     "execution_count": 178,
     "metadata": {},
     "output_type": "execute_result"
    }
   ],
   "source": [
    "(oy_pred_nosparse - oy).pow(2).mean()"
   ]
  },
  {
   "cell_type": "code",
   "execution_count": 179,
   "metadata": {},
   "outputs": [
    {
     "data": {
      "text/plain": [
       "<AxesSubplot:>"
      ]
     },
     "execution_count": 179,
     "metadata": {},
     "output_type": "execute_result"
    },
    {
     "data": {
      "image/png": "[encoded data removed]",
      "text/plain": [
       "<Figure size 432x288 with 2 Axes>"
      ]
     },
     "metadata": {
      "needs_background": "light"
     },
     "output_type": "display_data"
    }
   ],
   "source": [
    "sns.heatmap(learner.model.Mf)"
   ]
  },
  {
   "cell_type": "code",
   "execution_count": 217,
   "metadata": {},
   "outputs": [
    {
     "data": {
      "text/plain": [
       "<AxesSubplot:>"
      ]
     },
     "execution_count": 217,
     "metadata": {},
     "output_type": "execute_result"
    },
    {
     "data": {
      "image/png": "[encoded data removed]",
      "text/plain": [
       "<Figure size 432x288 with 2 Axes>"
      ]
     },
     "metadata": {
      "needs_background": "light"
     },
     "output_type": "display_data"
    }
   ],
   "source": [
    "sns.heatmap(learner.model.Mf)"
   ]
  },
  {
   "cell_type": "code",
   "execution_count": 218,
   "metadata": {},
   "outputs": [
    {
     "data": {
      "text/plain": [
       "tensor([0.4873, 0.4832, 0.3657, 0.3342, 0.5606, 0.5150, 0.3995, 0.4041, 0.4693,\n",
       "        1.2049, 0.5493, 0.3676, 1.1948, 1.0183, 0.9657, 0.4987, 0.5061],\n",
       "       device='cuda:0', grad_fn=<MeanBackward1>)"
      ]
     },
     "execution_count": 218,
     "metadata": {},
     "output_type": "execute_result"
    }
   ],
   "source": [
    "# most features are bad\n",
    "(oy_pred - oy).pow(2).mean(0)"
   ]
  },
  {
   "cell_type": "code",
   "execution_count": 313,
   "metadata": {},
   "outputs": [],
   "source": []
  },
  {
   "cell_type": "code",
   "execution_count": null,
   "metadata": {},
   "outputs": [],
   "source": []
  },
  {
   "cell_type": "code",
   "execution_count": 316,
   "metadata": {},
   "outputs": [],
   "source": [
    "# random init\n",
    "ms = learner.non_sparse_model.all_models\n",
    "for m in ms:\n",
    "    getattr(learner.model, m).model.__init__(input_shape=(learner.model.n_features + learner.model.n_actions,),\n",
    "                                            output_shape=(1,))\n",
    "    getattr(learner.model, m).model.to(learner.device)\n",
    "# list(getattr(learner.model, ms[0]).model.fc01.parameters())"
   ]
  },
  {
   "cell_type": "code",
   "execution_count": 387,
   "metadata": {},
   "outputs": [],
   "source": [
    "opt = torch.optim.Adam(params=learner.model.model__params, lr=1e-3)"
   ]
  },
  {
   "cell_type": "code",
   "execution_count": 318,
   "metadata": {},
   "outputs": [],
   "source": [
    "for m in learner.model.all_models:\n",
    "    getattr(learner.model, m).switch.sample_threshold = 0.9"
   ]
  },
  {
   "cell_type": "code",
   "execution_count": 238,
   "metadata": {},
   "outputs": [],
   "source": [
    "assert learner.non_sparse_model.all_models == learner.model.all_models\n",
    "for key in learner.non_sparse_model.all_models:\n",
    "    m_nsp_i = getattr(learner.non_sparse_model, key)\n",
    "    m_i = getattr(learner.model, key).model\n",
    "    m_i.load_state_dict(m_nsp_i.state_dict())"
   ]
  },
  {
   "cell_type": "code",
   "execution_count": 223,
   "metadata": {},
   "outputs": [],
   "source": [
    "losses = []"
   ]
  },
  {
   "cell_type": "code",
   "execution_count": 382,
   "metadata": {},
   "outputs": [],
   "source": [
    "opt = torch.optim.Adam(params=learner.model.switch__params, lr=1e-3)"
   ]
  },
  {
   "cell_type": "code",
   "execution_count": null,
   "metadata": {},
   "outputs": [
    {
     "data": {
      "application/vnd.jupyter.widget-view+json": {
       "model_id": "38c88af7abff466fac36f904ec362bb4",
       "version_major": 2,
       "version_minor": 0
      },
      "text/plain": [
       "HBox(children=(HTML(value=''), FloatProgress(value=0.0, max=50000.0), HTML(value='')))"
      ]
     },
     "metadata": {},
     "output_type": "display_data"
    }
   ],
   "source": [
    "for _ in tqdm(range(50000)):\n",
    "    opt.zero_grad()\n",
    "    oy_pred = learner.model(f_t=ox, a_t=ax)\n",
    "    loss = (oy_pred - oy).pow(2).mean()\n",
    "    loss.backward()\n",
    "    opt.step()\n",
    "    losses.append(loss.item())"
   ]
  },
  {
   "cell_type": "code",
   "execution_count": 284,
   "metadata": {},
   "outputs": [],
   "source": [
    "### "
   ]
  },
  {
   "cell_type": "code",
   "execution_count": 393,
   "metadata": {},
   "outputs": [
    {
     "data": {
      "image/png": "[encoded data removed]",
      "text/plain": [
       "<Figure size 432x288 with 1 Axes>"
      ]
     },
     "metadata": {
      "needs_background": "light"
     },
     "output_type": "display_data"
    }
   ],
   "source": [
    "plt.plot(losses)\n",
    "plt.yscale('log')"
   ]
  },
  {
   "cell_type": "code",
   "execution_count": 337,
   "metadata": {},
   "outputs": [
    {
     "data": {
      "text/plain": [
       "[tensor(-0.3150, device='cuda:0', grad_fn=<MinBackward1>),\n",
       " tensor(-0.3007, device='cuda:0', grad_fn=<MinBackward1>),\n",
       " tensor(0.1131, device='cuda:0', grad_fn=<MinBackward1>),\n",
       " tensor(0.1347, device='cuda:0', grad_fn=<MinBackward1>),\n",
       " tensor(-0.2559, device='cuda:0', grad_fn=<MinBackward1>),\n",
       " tensor(0.1408, device='cuda:0', grad_fn=<MinBackward1>),\n",
       " tensor(0.5359, device='cuda:0', grad_fn=<MinBackward1>),\n",
       " tensor(-0.7687, device='cuda:0', grad_fn=<MinBackward1>),\n",
       " tensor(-0.1943, device='cuda:0', grad_fn=<MinBackward1>),\n",
       " tensor(-0.2939, device='cuda:0', grad_fn=<MinBackward1>),\n",
       " tensor(-0.1320, device='cuda:0', grad_fn=<MinBackward1>),\n",
       " tensor(0.3136, device='cuda:0', grad_fn=<MinBackward1>),\n",
       " tensor(-0.0301, device='cuda:0', grad_fn=<MinBackward1>),\n",
       " tensor(1.0984, device='cuda:0', grad_fn=<MinBackward1>),\n",
       " tensor(-0.1221, device='cuda:0', grad_fn=<MinBackward1>),\n",
       " tensor(-0.5223, device='cuda:0', grad_fn=<MinBackward1>),\n",
       " tensor(-0.3726, device='cuda:0', grad_fn=<MinBackward1>),\n",
       " tensor(0., device='cuda:0', grad_fn=<MinBackward1>),\n",
       " tensor(0., device='cuda:0', grad_fn=<MinBackward1>)]"
      ]
     },
     "execution_count": 337,
     "metadata": {},
     "output_type": "execute_result"
    }
   ],
   "source": [
    "[x[1].min() for x in learner.model.switch__params]"
   ]
  },
  {
   "cell_type": "code",
   "execution_count": 366,
   "metadata": {},
   "outputs": [
    {
     "data": {
      "text/plain": [
       "[tensor(0.3911, device='cuda:0', grad_fn=<MinBackward1>),\n",
       " tensor(0.4499, device='cuda:0', grad_fn=<MinBackward1>),\n",
       " tensor(0.6723, device='cuda:0', grad_fn=<MinBackward1>),\n",
       " tensor(0.5477, device='cuda:0', grad_fn=<MinBackward1>),\n",
       " tensor(0.0262, device='cuda:0', grad_fn=<MinBackward1>),\n",
       " tensor(0.5568, device='cuda:0', grad_fn=<MinBackward1>),\n",
       " tensor(0.4919, device='cuda:0', grad_fn=<MinBackward1>),\n",
       " tensor(0.0939, device='cuda:0', grad_fn=<MinBackward1>),\n",
       " tensor(0.6468, device='cuda:0', grad_fn=<MinBackward1>),\n",
       " tensor(0.1814, device='cuda:0', grad_fn=<MinBackward1>),\n",
       " tensor(0.2581, device='cuda:0', grad_fn=<MinBackward1>),\n",
       " tensor(0.6737, device='cuda:0', grad_fn=<MinBackward1>),\n",
       " tensor(0.2943, device='cuda:0', grad_fn=<MinBackward1>),\n",
       " tensor(0.9007, device='cuda:0', grad_fn=<MinBackward1>),\n",
       " tensor(0.1432, device='cuda:0', grad_fn=<MinBackward1>),\n",
       " tensor(0.6316, device='cuda:0', grad_fn=<MinBackward1>),\n",
       " tensor(0.4051, device='cuda:0', grad_fn=<MinBackward1>),\n",
       " tensor(0.5000, device='cuda:0', grad_fn=<MinBackward1>),\n",
       " tensor(0.5000, device='cuda:0', grad_fn=<MinBackward1>)]"
      ]
     },
     "execution_count": 366,
     "metadata": {},
     "output_type": "execute_result"
    }
   ],
   "source": [
    "[getattr(learner.model, m).switch.softmaxed().min() for m in learner.model.all_models]"
   ]
  },
  {
   "cell_type": "code",
   "execution_count": 341,
   "metadata": {},
   "outputs": [
    {
     "name": "stdout",
     "output_type": "stream",
     "text": [
      "tensor([[-2.2689, -0.1689, -6.2526, -1.0999,  0.1009, -0.1912, -4.0945, -1.1123,\n",
      "         -6.4583, -1.0994, -2.2313, -6.3194, -1.1019, -1.0992, -6.4341,  0.3251,\n",
      "         -5.4444, -3.3842, -2.6222, -2.6231, -2.4681],\n",
      "        [ 2.2689,  0.1689,  6.2526,  1.0999, -0.1009,  0.1912,  4.0945,  1.1123,\n",
      "          6.4584,  1.0994,  2.2313,  6.3194,  1.1019,  1.0992,  6.4341, -0.3251,\n",
      "          5.4444,  3.3842,  2.6222,  2.6231,  2.4681]], device='cuda:0')\n",
      "tensor([[ 0.3160, -7.8777, -6.9329, -6.2106, -1.0990, -5.4199, -6.4777, -7.7424,\n",
      "         -7.1228, -7.3047, -1.0988, -1.5841, -7.5017, -7.3072, -1.1531,  0.2827,\n",
      "         -0.9270, -1.0993, -6.6940, -1.0990, -6.3193],\n",
      "        [-0.3160,  7.8772,  6.9329,  6.2106,  1.0990,  5.4199,  6.4778,  7.7421,\n",
      "          7.1228,  7.3047,  1.0988,  1.5841,  7.5016,  7.3072,  1.1531, -0.2827,\n",
      "          0.9270,  1.0993,  6.6940,  1.0990,  6.3193]], device='cuda:0')\n",
      "tensor([[-0.3735, -0.3550, -8.6088, -5.1537, -0.3251, -0.9286, -0.6295, -0.1110,\n",
      "         -0.2547, -8.1244, -1.4085, -1.4128, -7.2917, -4.0829, -0.7019, -0.4923,\n",
      "         -0.7264, -0.6371, -6.9886, -0.5767, -0.7150],\n",
      "        [ 0.3735,  0.3550,  8.6042,  5.1537,  0.3251,  0.9286,  0.6295,  0.1110,\n",
      "          0.2547,  8.1231,  1.4085,  1.4128,  7.2917,  4.0829,  0.7019,  0.4923,\n",
      "          0.7264,  0.6371,  6.9886,  0.5767,  0.7150]], device='cuda:0')\n",
      "tensor([[-0.3675, -0.1370, -8.1431, -1.9208, -0.3619, -0.1698, -6.2361, -4.2389,\n",
      "         -2.3654, -3.7200, -4.8941, -1.5552, -1.8361, -7.4697, -6.6229, -2.9414,\n",
      "         -0.7401, -1.1007, -1.1023, -1.0992, -1.2036],\n",
      "        [ 0.3675,  0.1370,  8.1419,  1.9208,  0.3619,  0.1698,  6.2361,  4.2389,\n",
      "          2.3654,  3.7200,  4.8941,  1.5552,  1.8361,  7.4696,  6.6229,  2.9414,\n",
      "          0.7401,  1.1007,  1.1023,  1.0992,  1.2036]], device='cuda:0')\n",
      "tensor([[-5.8209, -0.7991, -2.7574, -6.7350,  0.3499, -5.5677, -6.9660, -1.3661,\n",
      "         -1.2430, -6.7483, -6.6974, -7.3913, -5.6924, -8.4392, -5.1146, -1.0989,\n",
      "         -1.1419, -6.1612, -1.0993, -4.5633, -5.7868],\n",
      "        [ 5.8209,  0.7991,  2.7574,  6.7350, -0.3476,  5.5677,  6.9660,  1.3661,\n",
      "          1.2430,  6.7483,  6.6974,  7.3913,  5.6924,  8.4355,  5.1146,  1.0989,\n",
      "          1.1419,  6.1612,  1.0993,  4.5633,  5.7868]], device='cuda:0')\n",
      "tensor([[-3.5160, -0.6743, -0.1687, -3.0058, -8.3565, -1.9637, -0.6924, -0.1274,\n",
      "         -0.6797, -0.1352, -7.0312, -2.8898, -8.1920, -0.5744, -1.9217, -4.5592,\n",
      "         -0.8968, -3.5597, -1.8038, -1.1007, -2.5460],\n",
      "        [ 3.5160,  0.6743,  0.1687,  3.0058,  8.3542,  1.9637,  0.6924,  0.1274,\n",
      "          0.6797,  0.1352,  7.0312,  2.8898,  8.1904,  0.5744,  1.9217,  4.5592,\n",
      "          0.8968,  3.5597,  1.8038,  1.1007,  2.5460]], device='cuda:0')\n",
      "tensor([[-0.7111, -1.1017, -7.8255, -0.5414, -7.0537, -0.7316, -1.9764, -4.1438,\n",
      "         -1.0990, -2.2406, -0.8458, -7.2715, -0.8735, -4.5317, -7.6245, -6.2476,\n",
      "         -0.8091, -6.4356, -4.9119, -5.9510, -6.4446],\n",
      "        [ 0.7111,  1.1017,  7.8251,  0.5414,  7.0536,  0.7316,  1.9764,  4.1438,\n",
      "          1.0990,  2.2406,  0.8458,  7.2715,  0.8735,  4.5317,  7.6243,  6.2476,\n",
      "          0.8091,  6.4356,  4.9119,  5.9510,  6.4446]], device='cuda:0')\n",
      "tensor([[-0.7898, -0.7420, -7.4380, -7.2830, -7.8076, -3.6116, -7.1809, -7.3551,\n",
      "         -0.7909,  0.5644, -0.8006, -6.0590,  0.8039, -8.0522, -0.3947, -0.7458,\n",
      "         -1.1147, -0.7494, -0.6232, -0.7446, -7.4330],\n",
      "        [ 0.7898,  0.7420,  7.4379,  7.2829,  7.8072,  3.6116,  7.1809,  7.3550,\n",
      "          0.7909, -0.5644,  0.8006,  6.0590, -0.8039,  8.0515,  0.3947,  0.7458,\n",
      "          1.1147,  0.7494,  0.6232,  0.7446,  7.4329]], device='cuda:0')\n",
      "tensor([[-3.4112, -0.6563, -1.5211, -5.7974, -1.6007, -0.6828, -3.5846, -7.4024,\n",
      "         -1.0991, -8.3533, -0.3493, -0.6939,  0.1962, -8.4041, -6.6399, -0.8133,\n",
      "         -4.5493, -3.7603, -1.4732, -4.0109, -7.2885],\n",
      "        [ 3.4112,  0.6563,  1.5211,  5.7974,  1.6007,  0.6828,  3.5846,  7.4025,\n",
      "          1.0991,  8.3503,  0.3493,  0.6939, -0.1962,  8.4005,  6.6399,  0.8133,\n",
      "          4.5493,  3.7603,  1.4732,  4.0109,  7.2884]], device='cuda:0')\n",
      "tensor([[-0.6607, -0.6909, -0.5947, -0.6447, -0.4253, -0.9072, -2.0029, -0.4940,\n",
      "         -3.0217, -3.7414, -0.4182, -1.4662,  0.3139, -1.7933, -0.6924, -1.5378,\n",
      "         -2.6374, -1.5162, -1.3836, -1.1590, -1.0646],\n",
      "        [ 0.6607,  0.6909,  0.5947,  0.6447,  0.4253,  0.9072,  2.0029,  0.4940,\n",
      "          3.0217,  3.7414,  0.4182,  1.4662, -0.3139,  1.7933,  0.6924,  1.5378,\n",
      "          2.6374,  1.5163,  1.3836,  1.1590,  1.0646]], device='cuda:0')\n",
      "tensor([[-6.3617, -0.8903, -0.7049, -0.5464, -1.0993, -0.6304, -2.2761, -4.4637,\n",
      "         -0.7476, -0.5863, -9.1620, -0.2934,  0.1502, -8.6701, -1.0985, -1.9647,\n",
      "         -1.2999, -0.7247, -0.5952, -0.6564, -0.7428],\n",
      "        [ 6.3617,  0.8903,  0.7049,  0.5464,  1.0993,  0.6304,  2.2761,  4.4637,\n",
      "          0.7476,  0.5863,  9.1426,  0.2934, -0.1502,  8.6635,  1.0985,  1.9647,\n",
      "          1.2999,  0.7247,  0.5952,  0.6564,  0.7428]], device='cuda:0')\n",
      "tensor([[-2.2323, -1.8788, -7.6610, -3.5370, -0.3230, -3.8387, -6.8954, -7.9125,\n",
      "         -3.1988, -8.1662, -1.9584, -7.0137, -4.9390, -5.1158, -1.8068, -1.1044,\n",
      "         -7.1549, -7.0591, -1.2298, -1.6239, -7.0266],\n",
      "        [ 2.2323,  1.8788,  7.6608,  3.5370,  0.3230,  3.8387,  6.8954,  7.9120,\n",
      "          3.1988,  8.1648,  1.9584,  7.0137,  4.9390,  5.1158,  1.8068,  1.1044,\n",
      "          7.1548,  7.0591,  1.2298,  1.6239,  7.0267]], device='cuda:0')\n",
      "tensor([[-0.6514, -1.1508, -6.3182, -0.6552, -5.0034, -0.7026, -0.7142, -5.1857,\n",
      "         -7.5690, -6.6235,  0.0622, -5.9983, -5.5359, -5.6051, -0.2374, -0.7791,\n",
      "         -2.9641, -7.2806, -0.5143, -7.2101, -5.3519],\n",
      "        [ 0.6514,  1.1508,  6.3182,  0.6552,  5.0035,  0.7026,  0.7142,  5.1857,\n",
      "          7.5688,  6.6235, -0.0622,  5.9983,  5.5359,  5.6051,  0.2374,  0.7791,\n",
      "          2.9641,  7.2806,  0.5143,  7.2100,  5.3519]], device='cuda:0')\n",
      "tensor([[-6.2338, -7.8197, -1.1001, -8.0053, -7.9574, -7.6112, -7.8484, -1.2344,\n",
      "         -1.3962, -8.3804, -1.0988, -1.6138, -8.4065, -8.2613, -8.1339, -7.7295,\n",
      "         -6.9023, -6.8800, -7.3177, -7.4302, -1.2243],\n",
      "        [ 6.2338,  7.8193,  1.1001,  8.0045,  7.9568,  7.6110,  7.8480,  1.2344,\n",
      "          1.3962,  8.3775,  1.0988,  1.6138,  8.4033,  8.2593,  8.1326,  7.7292,\n",
      "          6.9023,  6.8800,  7.3177,  7.4301,  1.2243]], device='cuda:0')\n",
      "tensor([[-4.8891, -0.8656, -0.3555, -0.9519, -5.9389, -7.4115, -0.6170, -8.4753,\n",
      "         -0.7283, -0.0826, -0.6144, -7.4400, -8.4416,  0.1318, -5.5317, -0.8887,\n",
      "         -0.8113, -0.7794, -0.7770, -0.8171, -0.7605],\n",
      "        [ 4.8891,  0.8656,  0.3555,  0.9519,  5.9389,  7.4114,  0.6170,  8.4710,\n",
      "          0.7283,  0.0826,  0.6144,  7.4400,  8.4378, -0.1318,  5.5317,  0.8887,\n",
      "          0.8113,  0.7794,  0.7770,  0.8171,  0.7605]], device='cuda:0')\n",
      "tensor([[-0.7613,  0.3530, -1.3711, -0.6255, -6.7153, -1.0352, -1.1835, -1.0980,\n",
      "         -1.0997, -1.0988, -2.0027, -2.9584, -2.5611, -1.0988, -2.7752, -7.7193,\n",
      "          0.4839, -7.5760, -2.3709, -3.6564, -6.9091],\n",
      "        [ 0.7613, -0.3530,  1.3711,  0.6255,  6.7153,  1.0352,  1.1835,  1.0980,\n",
      "          1.0997,  1.0988,  2.0027,  2.9584,  2.5611,  1.0988,  2.7752,  7.7190,\n",
      "         -0.4839,  7.5759,  2.3709,  3.6564,  6.9091]], device='cuda:0')\n",
      "tensor([[-5.8001,  0.3769, -1.1013, -6.8865, -6.0024, -1.0987, -1.0987, -7.4128,\n",
      "         -1.2627, -1.8980, -4.9341, -6.3226, -7.5148, -7.5295, -1.0992, -6.6525,\n",
      "         -6.1541, -1.3642, -1.5239, -1.4996, -7.1840],\n",
      "        [ 5.8001, -0.3769,  1.1013,  6.8865,  6.0024,  1.0987,  1.0987,  7.4128,\n",
      "          1.2627,  1.8980,  4.9341,  6.3226,  7.5147,  7.5294,  1.0992,  6.6525,\n",
      "          6.1541,  1.3642,  1.5239,  1.4996,  7.1840]], device='cuda:0')\n",
      "tensor([[-0.0130,  0.0000, -3.2294, -3.0039, -0.1994, -1.6047, -0.2506, -3.2537,\n",
      "         -2.9382, -2.3707,  0.0000,  0.0000,  0.0000,  0.0000,  0.0000, -1.7659,\n",
      "         -2.9094,  0.0000,  0.0000,  0.0000,  0.0000],\n",
      "        [ 0.0130,  0.0000,  3.2294,  3.0039,  0.1994,  1.6047,  0.2506,  3.2537,\n",
      "          2.9382,  2.3707,  0.0000,  0.0000,  0.0000,  0.0000,  0.0000,  1.7659,\n",
      "          2.9094,  0.0000,  0.0000,  0.0000,  0.0000]], device='cuda:0')\n",
      "tensor([[ 0.0000,  0.0000, -1.3987,  0.0000, -3.1619, -3.3459, -3.2300, -2.1376,\n",
      "         -2.2132, -2.8022, -2.4163, -2.1213, -3.0559, -3.2463, -2.9839, -2.3288,\n",
      "         -2.4062, -2.5650, -2.8486, -2.6853, -2.7202],\n",
      "        [ 0.0000,  0.0000,  1.3987,  0.0000,  3.1619,  3.3459,  3.2300,  2.1376,\n",
      "          2.2132,  2.8022,  2.4163,  2.1213,  3.0559,  3.2463,  2.9839,  2.3288,\n",
      "          2.4062,  2.5650,  2.8486,  2.6853,  2.7202]], device='cuda:0')\n"
     ]
    }
   ],
   "source": [
    "for p in learner.model.switch__params:\n",
    "    p_orig = p.data.detach().clone()\n",
    "    print(p_orig)\n",
    "#     break\n",
    "    p.data[1, p_orig[1] < 0] = 0\n",
    "    p.data[0, p_orig[1] < 0] = 0"
   ]
  },
  {
   "cell_type": "code",
   "execution_count": 111,
   "metadata": {},
   "outputs": [
    {
     "name": "stdout",
     "output_type": "stream",
     "text": [
      "model_fout_0000.model.fc01.weight\n",
      "model_fout_0000.model.fc01.bias\n",
      "model_fout_0000.model.fc02.weight\n",
      "model_fout_0000.model.fc02.bias\n",
      "model_fout_0000.model.fc03.weight\n",
      "model_fout_0000.model.fc03.bias\n",
      "model_fout_0000.model.fc04.weight\n",
      "model_fout_0000.model.fc04.bias\n",
      "model_fout_0001.model.fc01.weight\n",
      "model_fout_0001.model.fc01.bias\n",
      "model_fout_0001.model.fc02.weight\n",
      "model_fout_0001.model.fc02.bias\n",
      "model_fout_0001.model.fc03.weight\n",
      "model_fout_0001.model.fc03.bias\n",
      "model_fout_0001.model.fc04.weight\n",
      "model_fout_0001.model.fc04.bias\n",
      "model_fout_0002.model.fc01.weight\n",
      "model_fout_0002.model.fc01.bias\n",
      "model_fout_0002.model.fc02.weight\n",
      "model_fout_0002.model.fc02.bias\n",
      "model_fout_0002.model.fc03.weight\n",
      "model_fout_0002.model.fc03.bias\n",
      "model_fout_0002.model.fc04.weight\n",
      "model_fout_0002.model.fc04.bias\n",
      "model_fout_0003.model.fc01.weight\n",
      "model_fout_0003.model.fc01.bias\n",
      "model_fout_0003.model.fc02.weight\n",
      "model_fout_0003.model.fc02.bias\n",
      "model_fout_0003.model.fc03.weight\n",
      "model_fout_0003.model.fc03.bias\n",
      "model_fout_0003.model.fc04.weight\n",
      "model_fout_0003.model.fc04.bias\n",
      "model_fout_0004.model.fc01.weight\n",
      "model_fout_0004.model.fc01.bias\n",
      "model_fout_0004.model.fc02.weight\n",
      "model_fout_0004.model.fc02.bias\n",
      "model_fout_0004.model.fc03.weight\n",
      "model_fout_0004.model.fc03.bias\n",
      "model_fout_0004.model.fc04.weight\n",
      "model_fout_0004.model.fc04.bias\n",
      "model_fout_0005.model.fc01.weight\n",
      "model_fout_0005.model.fc01.bias\n",
      "model_fout_0005.model.fc02.weight\n",
      "model_fout_0005.model.fc02.bias\n",
      "model_fout_0005.model.fc03.weight\n",
      "model_fout_0005.model.fc03.bias\n",
      "model_fout_0005.model.fc04.weight\n",
      "model_fout_0005.model.fc04.bias\n",
      "model_fout_0006.model.fc01.weight\n",
      "model_fout_0006.model.fc01.bias\n",
      "model_fout_0006.model.fc02.weight\n",
      "model_fout_0006.model.fc02.bias\n",
      "model_fout_0006.model.fc03.weight\n",
      "model_fout_0006.model.fc03.bias\n",
      "model_fout_0006.model.fc04.weight\n",
      "model_fout_0006.model.fc04.bias\n",
      "model_fout_0007.model.fc01.weight\n",
      "model_fout_0007.model.fc01.bias\n",
      "model_fout_0007.model.fc02.weight\n",
      "model_fout_0007.model.fc02.bias\n",
      "model_fout_0007.model.fc03.weight\n",
      "model_fout_0007.model.fc03.bias\n",
      "model_fout_0007.model.fc04.weight\n",
      "model_fout_0007.model.fc04.bias\n",
      "model_fout_0008.model.fc01.weight\n",
      "model_fout_0008.model.fc01.bias\n",
      "model_fout_0008.model.fc02.weight\n",
      "model_fout_0008.model.fc02.bias\n",
      "model_fout_0008.model.fc03.weight\n",
      "model_fout_0008.model.fc03.bias\n",
      "model_fout_0008.model.fc04.weight\n",
      "model_fout_0008.model.fc04.bias\n",
      "model_fout_0009.model.fc01.weight\n",
      "model_fout_0009.model.fc01.bias\n",
      "model_fout_0009.model.fc02.weight\n",
      "model_fout_0009.model.fc02.bias\n",
      "model_fout_0009.model.fc03.weight\n",
      "model_fout_0009.model.fc03.bias\n",
      "model_fout_0009.model.fc04.weight\n",
      "model_fout_0009.model.fc04.bias\n",
      "model_fout_0010.model.fc01.weight\n",
      "model_fout_0010.model.fc01.bias\n",
      "model_fout_0010.model.fc02.weight\n",
      "model_fout_0010.model.fc02.bias\n",
      "model_fout_0010.model.fc03.weight\n",
      "model_fout_0010.model.fc03.bias\n",
      "model_fout_0010.model.fc04.weight\n",
      "model_fout_0010.model.fc04.bias\n",
      "model_fout_0011.model.fc01.weight\n",
      "model_fout_0011.model.fc01.bias\n",
      "model_fout_0011.model.fc02.weight\n",
      "model_fout_0011.model.fc02.bias\n",
      "model_fout_0011.model.fc03.weight\n",
      "model_fout_0011.model.fc03.bias\n",
      "model_fout_0011.model.fc04.weight\n",
      "model_fout_0011.model.fc04.bias\n",
      "model_fout_0012.model.fc01.weight\n",
      "model_fout_0012.model.fc01.bias\n",
      "model_fout_0012.model.fc02.weight\n",
      "model_fout_0012.model.fc02.bias\n",
      "model_fout_0012.model.fc03.weight\n",
      "model_fout_0012.model.fc03.bias\n",
      "model_fout_0012.model.fc04.weight\n",
      "model_fout_0012.model.fc04.bias\n",
      "model_fout_0013.model.fc01.weight\n",
      "model_fout_0013.model.fc01.bias\n",
      "model_fout_0013.model.fc02.weight\n",
      "model_fout_0013.model.fc02.bias\n",
      "model_fout_0013.model.fc03.weight\n",
      "model_fout_0013.model.fc03.bias\n",
      "model_fout_0013.model.fc04.weight\n",
      "model_fout_0013.model.fc04.bias\n",
      "model_fout_0014.model.fc01.weight\n",
      "model_fout_0014.model.fc01.bias\n",
      "model_fout_0014.model.fc02.weight\n",
      "model_fout_0014.model.fc02.bias\n",
      "model_fout_0014.model.fc03.weight\n",
      "model_fout_0014.model.fc03.bias\n",
      "model_fout_0014.model.fc04.weight\n",
      "model_fout_0014.model.fc04.bias\n",
      "model_fout_0015.model.fc01.weight\n",
      "model_fout_0015.model.fc01.bias\n",
      "model_fout_0015.model.fc02.weight\n",
      "model_fout_0015.model.fc02.bias\n",
      "model_fout_0015.model.fc03.weight\n",
      "model_fout_0015.model.fc03.bias\n",
      "model_fout_0015.model.fc04.weight\n",
      "model_fout_0015.model.fc04.bias\n",
      "model_fout_0016.model.fc01.weight\n",
      "model_fout_0016.model.fc01.bias\n",
      "model_fout_0016.model.fc02.weight\n",
      "model_fout_0016.model.fc02.bias\n",
      "model_fout_0016.model.fc03.weight\n",
      "model_fout_0016.model.fc03.bias\n",
      "model_fout_0016.model.fc04.weight\n",
      "model_fout_0016.model.fc04.bias\n",
      "model_fadd_0000.model.fc01.weight\n",
      "model_fadd_0000.model.fc01.bias\n",
      "model_fadd_0000.model.fc02.weight\n",
      "model_fadd_0000.model.fc02.bias\n",
      "model_fadd_0000.model.fc03.weight\n",
      "model_fadd_0000.model.fc03.bias\n",
      "model_fadd_0000.model.fc04.weight\n",
      "model_fadd_0000.model.fc04.bias\n",
      "model_fadd_0001.model.fc01.weight\n",
      "model_fadd_0001.model.fc01.bias\n",
      "model_fadd_0001.model.fc02.weight\n",
      "model_fadd_0001.model.fc02.bias\n",
      "model_fadd_0001.model.fc03.weight\n",
      "model_fadd_0001.model.fc03.bias\n",
      "model_fadd_0001.model.fc04.weight\n",
      "model_fadd_0001.model.fc04.bias\n"
     ]
    }
   ],
   "source": [
    "for key, param in learner.model.named_parameters():\n",
    "    if 'switch' not in key:\n",
    "        print(key)\n",
    "        if 'bias' in key:\n",
    "            torch.nn.init.zeros_(param)\n",
    "        else:\n",
    "            torch.nn.init.xavier_uniform_(param)"
   ]
  },
  {
   "cell_type": "code",
   "execution_count": null,
   "metadata": {},
   "outputs": [],
   "source": []
  }
 ],
 "metadata": {
  "kernelspec": {
   "display_name": "Python 3",
   "language": "python",
   "name": "python3"
  },
  "language_info": {
   "codemirror_mode": {
    "name": "ipython",
    "version": 3
   },
   "file_extension": ".py",
   "mimetype": "text/x-python",
   "name": "python",
   "nbconvert_exporter": "python",
   "pygments_lexer": "ipython3",
   "version": "3.7.9"
  }
 },
 "nbformat": 4,
 "nbformat_minor": 4
}
