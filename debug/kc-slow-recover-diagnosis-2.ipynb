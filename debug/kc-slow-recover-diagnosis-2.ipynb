{
 "cells": [
  {
   "cell_type": "code",
   "execution_count": 1,
   "metadata": {},
   "outputs": [],
   "source": [
    "import os\n",
    "os.environ['CUDA_VISIBLE_DEVICES'] = \"0\"\n",
    "import numpy as np\n",
    "from matplotlib import pyplot as plt\n",
    "import seaborn as sns\n",
    "import pandas as pd\n",
    "from tqdm.auto import tqdm\n",
    "import torch\n",
    "from torch import nn\n",
    "import gin\n",
    "import pickle\n",
    "import io\n",
    "from sparse_causal_model_learner_rl.trainable.gumbel_switch import WithInputSwitch, sample_from_logits_simple\n",
    "gin.enter_interactive_mode()"
   ]
  },
  {
   "cell_type": "code",
   "execution_count": 3,
   "metadata": {},
   "outputs": [],
   "source": [
    "ckpt = '/home/sergei/ckpt_no_recover_logitsreset'"
   ]
  },
  {
   "cell_type": "code",
   "execution_count": 104,
   "metadata": {},
   "outputs": [],
   "source": [
    "class LinearModel(nn.Module):\n",
    "    def __init__(self, input_shape):\n",
    "        super(LinearModel, self).__init__()\n",
    "        self.layer = nn.Linear(in_features=10, out_features=1, bias=True)\n",
    "    def forward(self, x):\n",
    "        return self.layer(x)"
   ]
  },
  {
   "cell_type": "code",
   "execution_count": 105,
   "metadata": {},
   "outputs": [
    {
     "name": "stderr",
     "output_type": "stream",
     "text": [
      "2021-01-29 12:08:13,389\tINFO worker.py:651 -- Connecting to existing Ray cluster at address: 10.90.38.7:6379\n",
      "2021-01-29 12:08:13,391\tERROR worker.py:660 -- Calling ray.init() again after it has already been called.\n"
     ]
    }
   ],
   "source": [
    "import ray\n",
    "ray.init(address='10.90.38.7:6379', ignore_reinit_error=True)"
   ]
  },
  {
   "cell_type": "code",
   "execution_count": 106,
   "metadata": {},
   "outputs": [],
   "source": [
    "# https://github.com/pytorch/pytorch/issues/16797\n",
    "class CPU_Unpickler(pickle.Unpickler):\n",
    "    def find_class(self, module, name):\n",
    "        if module == 'torch.storage' and name == '_load_from_bytes':\n",
    "            return lambda b: torch.load(io.BytesIO(b), map_location='cpu')\n",
    "        else: return super().find_class(module, name)"
   ]
  },
  {
   "cell_type": "code",
   "execution_count": 107,
   "metadata": {},
   "outputs": [
    {
     "name": "stderr",
     "output_type": "stream",
     "text": [
      "2021-01-29 12:08:16,688\tWARNING session.py:20 -- Session not detected. You should not be calling this function outside `tune.run` or while using the class API. \n"
     ]
    },
    {
     "name": "stdout",
     "output_type": "stream",
     "text": [
      "Selecting name 49868b74-6222-11eb-af1d-90e2baa1a248\n",
      "Make environment KeyChest-v0 None {}\n"
     ]
    },
    {
     "name": "stderr",
     "output_type": "stream",
     "text": [
      "WARNING:root:No class provided for trainable reconstructor\n",
      "WARNING:root:No class provided for trainable value_predictor\n",
      "WARNING:root:No class provided for trainable causal_feature_model_discriminator\n",
      "WARNING:root:No class provided for trainable decoder_discriminator\n",
      "WARNING:root:Warning: loss discriminate_siamese is used more than once\n",
      "WARNING:root:Warning: loss fit is used more than once\n",
      "WARNING:root:Warning: loss no_small_probas is used more than once\n",
      "WARNING:root:Warning: loss non_sparse_fit is used more than once\n",
      "WARNING:root:Warning: loss sparsity is used more than once\n"
     ]
    }
   ],
   "source": [
    "with open(ckpt, 'rb') as f:\n",
    "    learner = pickle.load(f)#CPU_Unpickler(f).load()#pickle.load(f)"
   ]
  },
  {
   "cell_type": "code",
   "execution_count": 119,
   "metadata": {},
   "outputs": [],
   "source": [
    "learner.collect_steps()"
   ]
  },
  {
   "cell_type": "code",
   "execution_count": 120,
   "metadata": {},
   "outputs": [],
   "source": [
    "ctx = learner._context"
   ]
  },
  {
   "cell_type": "code",
   "execution_count": 121,
   "metadata": {},
   "outputs": [],
   "source": [
    "ox = ctx['obs_x']\n",
    "oy = ctx['obs_y']\n",
    "ax = ctx['action_x']"
   ]
  },
  {
   "cell_type": "code",
   "execution_count": 122,
   "metadata": {},
   "outputs": [],
   "source": [
    "oy_pred = learner.model(f_t=ox, a_t=ax)\n",
    "oy_pred_nosparse = learner.non_sparse_model(f_t=ox, a_t=ax)"
   ]
  },
  {
   "cell_type": "code",
   "execution_count": 123,
   "metadata": {},
   "outputs": [
    {
     "data": {
      "text/plain": [
       "tensor(0.0006, device='cuda:0', grad_fn=<MeanBackward0>)"
      ]
     },
     "execution_count": 123,
     "metadata": {},
     "output_type": "execute_result"
    }
   ],
   "source": [
    "(oy_pred - oy).pow(2).mean()"
   ]
  },
  {
   "cell_type": "code",
   "execution_count": 124,
   "metadata": {},
   "outputs": [
    {
     "data": {
      "text/plain": [
       "tensor(4.2629e-05, device='cuda:0', grad_fn=<MeanBackward0>)"
      ]
     },
     "execution_count": 124,
     "metadata": {},
     "output_type": "execute_result"
    }
   ],
   "source": [
    "(oy_pred_nosparse - oy).pow(2).mean()"
   ]
  },
  {
   "cell_type": "code",
   "execution_count": 125,
   "metadata": {},
   "outputs": [
    {
     "data": {
      "text/plain": [
       "<AxesSubplot:>"
      ]
     },
     "execution_count": 125,
     "metadata": {},
     "output_type": "execute_result"
    },
    {
     "data": {
      "image/png": "[encoded data removed]",
      "text/plain": [
       "<Figure size 432x288 with 2 Axes>"
      ]
     },
     "metadata": {
      "needs_background": "light"
     },
     "output_type": "display_data"
    }
   ],
   "source": [
    "sns.heatmap(learner.model.Mf)"
   ]
  },
  {
   "cell_type": "code",
   "execution_count": 126,
   "metadata": {},
   "outputs": [
    {
     "data": {
      "text/plain": [
       "<AxesSubplot:>"
      ]
     },
     "execution_count": 126,
     "metadata": {},
     "output_type": "execute_result"
    },
    {
     "data": {
      "image/png": "[encoded data removed]",
      "text/plain": [
       "<Figure size 432x288 with 2 Axes>"
      ]
     },
     "metadata": {
      "needs_background": "light"
     },
     "output_type": "display_data"
    }
   ],
   "source": [
    "sns.heatmap(learner.model.Mf)"
   ]
  },
  {
   "cell_type": "code",
   "execution_count": 127,
   "metadata": {},
   "outputs": [
    {
     "data": {
      "text/plain": [
       "tensor([2.2234e-06, 6.6201e-06, 1.5721e-05, 3.5120e-04, 1.3711e-05, 4.2788e-06,\n",
       "        1.1695e-03, 3.1752e-03, 1.7186e-03, 3.8602e-06, 2.1817e-03, 3.9165e-06,\n",
       "        2.1894e-03, 2.5233e-06, 2.4981e-06, 2.7410e-06, 3.1893e-06],\n",
       "       device='cuda:0', grad_fn=<MeanBackward1>)"
      ]
     },
     "execution_count": 127,
     "metadata": {},
     "output_type": "execute_result"
    }
   ],
   "source": [
    "# most features are bad\n",
    "(oy_pred - oy).pow(2).mean(0)"
   ]
  },
  {
   "cell_type": "code",
   "execution_count": 131,
   "metadata": {},
   "outputs": [],
   "source": [
    "opt = torch.optim.Adam(params=learner.model.parameters(), lr=1e-3)"
   ]
  },
  {
   "cell_type": "code",
   "execution_count": 132,
   "metadata": {},
   "outputs": [],
   "source": [
    "# random init\n",
    "ms = learner.non_sparse_model.all_models\n",
    "for m in ms:\n",
    "    getattr(learner.model, m).model.__init__(input_shape=(learner.model.n_features + learner.model.n_actions,),\n",
    "                                            output_shape=(1,))\n",
    "    getattr(learner.model, m).model.to(learner.device)\n",
    "# list(getattr(learner.model, ms[0]).model.fc01.parameters())"
   ]
  },
  {
   "cell_type": "code",
   "execution_count": 63,
   "metadata": {},
   "outputs": [],
   "source": [
    "assert learner.non_sparse_model.all_models == learner.model.all_models\n",
    "for key in learner.non_sparse_model.all_models:\n",
    "    m_nsp_i = getattr(learner.non_sparse_model, key)\n",
    "    m_i = getattr(learner.model, key).model\n",
    "    m_i.load_state_dict(m_nsp_i.state_dict())"
   ]
  },
  {
   "cell_type": "code",
   "execution_count": 133,
   "metadata": {},
   "outputs": [],
   "source": [
    "losses = []"
   ]
  },
  {
   "cell_type": "code",
   "execution_count": 134,
   "metadata": {},
   "outputs": [
    {
     "data": {
      "application/vnd.jupyter.widget-view+json": {
       "model_id": "e60e5785290346e78374f1bb6a0d1d53",
       "version_major": 2,
       "version_minor": 0
      },
      "text/plain": [
       "HBox(children=(HTML(value=''), FloatProgress(value=0.0, max=50000.0), HTML(value='')))"
      ]
     },
     "metadata": {},
     "output_type": "display_data"
    },
    {
     "name": "stdout",
     "output_type": "stream",
     "text": [
      "\n"
     ]
    }
   ],
   "source": [
    "for _ in tqdm(range(50000)):\n",
    "    opt.zero_grad()\n",
    "    oy_pred = learner.model(f_t=ox, a_t=ax)\n",
    "    loss = (oy_pred - oy).pow(2).mean()\n",
    "    loss.backward()\n",
    "    opt.step()\n",
    "    losses.append(loss.item())"
   ]
  },
  {
   "cell_type": "code",
   "execution_count": 135,
   "metadata": {},
   "outputs": [
    {
     "data": {
      "image/png": "[encoded data removed]",
      "text/plain": [
       "<Figure size 432x288 with 1 Axes>"
      ]
     },
     "metadata": {
      "needs_background": "light"
     },
     "output_type": "display_data"
    }
   ],
   "source": [
    "plt.plot(losses)\n",
    "plt.yscale('log')"
   ]
  },
  {
   "cell_type": "code",
   "execution_count": 42,
   "metadata": {},
   "outputs": [
    {
     "data": {
      "text/plain": [
       "[tensor(-1.2755, device='cuda:0', grad_fn=<MinBackward1>),\n",
       " tensor(-1.4889, device='cuda:0', grad_fn=<MinBackward1>),\n",
       " tensor(-0.2743, device='cuda:0', grad_fn=<MinBackward1>),\n",
       " tensor(-0.9741, device='cuda:0', grad_fn=<MinBackward1>),\n",
       " tensor(-1.3749, device='cuda:0', grad_fn=<MinBackward1>),\n",
       " tensor(-1.3093, device='cuda:0', grad_fn=<MinBackward1>),\n",
       " tensor(-1.1883, device='cuda:0', grad_fn=<MinBackward1>),\n",
       " tensor(-0.5154, device='cuda:0', grad_fn=<MinBackward1>),\n",
       " tensor(-1.0652, device='cuda:0', grad_fn=<MinBackward1>),\n",
       " tensor(-0.9467, device='cuda:0', grad_fn=<MinBackward1>),\n",
       " tensor(-0.8049, device='cuda:0', grad_fn=<MinBackward1>),\n",
       " tensor(-0.5753, device='cuda:0', grad_fn=<MinBackward1>),\n",
       " tensor(-0.7057, device='cuda:0', grad_fn=<MinBackward1>),\n",
       " tensor(-1.6000, device='cuda:0', grad_fn=<MinBackward1>),\n",
       " tensor(-1.4270, device='cuda:0', grad_fn=<MinBackward1>),\n",
       " tensor(-1.3868, device='cuda:0', grad_fn=<MinBackward1>),\n",
       " tensor(-1.4159, device='cuda:0', grad_fn=<MinBackward1>),\n",
       " tensor(-0.4134, device='cuda:0', grad_fn=<MinBackward1>),\n",
       " tensor(-0.3618, device='cuda:0', grad_fn=<MinBackward1>)]"
      ]
     },
     "execution_count": 42,
     "metadata": {},
     "output_type": "execute_result"
    }
   ],
   "source": [
    "[x[1].min() for x in learner.model.switch__params]"
   ]
  },
  {
   "cell_type": "code",
   "execution_count": 130,
   "metadata": {},
   "outputs": [
    {
     "name": "stdout",
     "output_type": "stream",
     "text": [
      "tensor([[-2.9331,  0.7407,  0.0192,  0.6883,  0.6617,  0.7730,  0.4204,  0.4527,\n",
      "          0.6278,  0.0156, -0.0523,  0.5838, -3.5201, -0.2642, -2.4068,  0.8288,\n",
      "          0.8698,  0.6343,  0.5279,  0.4274,  0.6308],\n",
      "        [ 2.9331, -0.7407, -0.0192, -0.6883, -0.6617, -0.7730, -0.4204, -0.4527,\n",
      "         -0.6278, -0.0156,  0.0523, -0.5838,  3.5201,  0.2642,  2.4068, -0.8288,\n",
      "         -0.8698, -0.6343, -0.5279, -0.4274, -0.6308]], device='cuda:0')\n",
      "tensor([[ 1.0210, -3.0239,  0.4011,  0.8060,  0.8138,  0.7643,  0.7570,  0.7494,\n",
      "          0.8916,  0.3619,  0.5634,  0.6872,  0.0596,  0.1230,  0.3410,  0.9181,\n",
      "          0.9524,  0.7096,  0.6343,  0.7030,  0.6544],\n",
      "        [-1.0210,  3.0239, -0.4011, -0.8060, -0.8138, -0.7643, -0.7570, -0.7494,\n",
      "         -0.8916, -0.3619, -0.5634, -0.6872, -0.0596, -0.1230, -0.3410, -0.9181,\n",
      "         -0.9524, -0.7096, -0.6343, -0.7030, -0.6544]], device='cuda:0')\n",
      "tensor([[ 0.3154,  0.2894, -3.9236, -2.8235,  0.2770,  0.1616,  0.1619, -1.6962,\n",
      "         -1.7664, -3.2683,  0.2911,  0.3632, -2.2972, -0.1107, -0.3898, -2.0984,\n",
      "         -2.0103,  0.3372,  0.3475,  0.2204,  0.2270],\n",
      "        [-0.3154, -0.2894,  3.9236,  2.8235, -0.2770, -0.1616, -0.1619,  1.6962,\n",
      "          1.7664,  3.2683, -0.2911, -0.3632,  2.2972,  0.1107,  0.3898,  2.0984,\n",
      "          2.0103, -0.3372, -0.3475, -0.2204, -0.2270]], device='cuda:0')\n",
      "tensor([[ 0.5022,  0.4729, -3.4197, -3.6998,  0.5499,  0.3065,  0.4245, -2.1611,\n",
      "         -2.1629, -3.1696,  0.4730,  0.5167,  0.3986,  0.3374,  0.4400, -2.1100,\n",
      "         -2.2122,  0.3297,  0.3964,  0.2080,  0.4662],\n",
      "        [-0.5022, -0.4729,  3.4197,  3.6998, -0.5499, -0.3065, -0.4245,  2.1611,\n",
      "          2.1629,  3.1696, -0.4730, -0.5167, -0.3986, -0.3374, -0.4400,  2.1100,\n",
      "          2.2122, -0.3297, -0.3964, -0.2080, -0.4662]], device='cuda:0')\n",
      "tensor([[ 0.9741,  0.9953,  0.5348,  0.7214, -3.0449, -3.2167,  0.7098,  0.5753,\n",
      "          0.8757,  0.5437,  0.5730,  0.6953, -2.3863, -1.5050, -1.9777, -2.3588,\n",
      "         -3.0439, -2.3240, -2.3309, -2.3173, -2.3143],\n",
      "        [-0.9741, -0.9953, -0.5348, -0.7214,  3.0449,  3.2167, -0.7098, -0.5753,\n",
      "         -0.8757, -0.5437, -0.5730, -0.6953,  2.3863,  1.5050,  1.9777,  2.3588,\n",
      "          3.0439,  2.3240,  2.3309,  2.3173,  2.3143]], device='cuda:0')\n",
      "tensor([[ 1.0400,  0.8710,  0.3723,  0.7068, -3.6302, -3.3043,  0.5329,  0.7815,\n",
      "          0.7397,  0.5211, -1.1065,  0.6501, -2.4009, -2.3290, -2.5418, -2.3138,\n",
      "         -2.5591, -1.2880, -1.1974, -1.2891, -1.2772],\n",
      "        [-1.0400, -0.8710, -0.3723, -0.7068,  3.6302,  3.3043, -0.5329, -0.7815,\n",
      "         -0.7397, -0.5211,  1.1065, -0.6501,  2.4009,  2.3290,  2.5418,  2.3138,\n",
      "          2.5591,  1.2880,  1.1974,  1.2891,  1.2772]], device='cuda:0')\n",
      "tensor([[-2.8735e-01, -3.7520e-01,  2.2077e-01, -1.1435e-01, -4.0585e+00,\n",
      "         -2.4165e+00, -2.9648e+00, -9.6723e-04,  8.8479e-03,  3.4301e-01,\n",
      "          3.7409e-01,  3.3240e-02,  5.7573e-01,  4.5766e-01, -2.0644e+00,\n",
      "         -1.7135e+00, -1.4354e+00, -1.7698e+00, -1.5710e+00, -2.3850e+00,\n",
      "         -2.4455e+00],\n",
      "        [ 2.8735e-01,  3.7520e-01, -2.2077e-01,  1.1435e-01,  4.0585e+00,\n",
      "          2.4165e+00,  2.9648e+00,  9.6725e-04, -8.8479e-03, -3.4301e-01,\n",
      "         -3.7409e-01, -3.3240e-02, -5.7573e-01, -4.5766e-01,  2.0644e+00,\n",
      "          1.7135e+00,  1.4354e+00,  1.7698e+00,  1.5710e+00,  2.3850e+00,\n",
      "          2.4455e+00]], device='cuda:0')\n",
      "tensor([[-0.0150,  0.2576,  0.3124,  0.3623,  0.2146,  0.1314,  0.0490, -3.5349,\n",
      "         -3.3207, -2.8712,  0.3163,  0.4732, -1.1686, -2.2885,  0.0788, -2.2947,\n",
      "         -2.0221,  0.1447,  0.0269,  0.2423,  0.1424],\n",
      "        [ 0.0150, -0.2576, -0.3124, -0.3623, -0.2146, -0.1314, -0.0490,  3.5349,\n",
      "          3.3207,  2.8712, -0.3163, -0.4732,  1.1686,  2.2885, -0.0788,  2.2947,\n",
      "          2.0221, -0.1447, -0.0269, -0.2423, -0.1424]], device='cuda:0')\n",
      "tensor([[ 0.4954,  0.6032,  0.5131,  0.5074,  0.4295,  0.4809,  0.6548, -3.5080,\n",
      "         -3.0148, -2.5636,  0.5934,  0.7009, -2.2933, -2.3063, -2.4016, -2.0838,\n",
      "         -2.8440,  0.4481,  0.3635,  0.5092,  0.4527],\n",
      "        [-0.4954, -0.6032, -0.5131, -0.5074, -0.4295, -0.4809, -0.6548,  3.5080,\n",
      "          3.0148,  2.5636, -0.5934, -0.7009,  2.2933,  2.3063,  2.4016,  2.0838,\n",
      "          2.8440, -0.4481, -0.3635, -0.5092, -0.4527]], device='cuda:0')\n",
      "tensor([[ 0.8282,  0.6400, -3.6202, -3.1370,  0.6883,  0.5961,  0.6327, -3.1498,\n",
      "         -2.8908, -2.4147,  0.6537,  0.5343, -2.2975, -2.2976, -0.2844, -2.7696,\n",
      "         -2.5909,  0.4918,  0.5945,  0.6429,  0.8064],\n",
      "        [-0.8282, -0.6400,  3.6202,  3.1369, -0.6883, -0.5961, -0.6327,  3.1498,\n",
      "          2.8908,  2.4147, -0.6537, -0.5343,  2.2975,  2.2976,  0.2844,  2.7696,\n",
      "          2.5909, -0.4918, -0.5945, -0.6429, -0.8064]], device='cuda:0')\n",
      "tensor([[-2.4046, -2.6419,  0.1171,  0.4045,  0.1612,  0.1348,  0.0608,  0.2931,\n",
      "          0.2044,  0.4108, -3.7187,  0.5900, -3.3112, -2.7708, -3.1995, -2.0941,\n",
      "         -2.4928,  0.1208,  0.1415,  0.1220,  0.0283],\n",
      "        [ 2.4046,  2.6419, -0.1171, -0.4045, -0.1612, -0.1348, -0.0608, -0.2931,\n",
      "         -0.2044, -0.4108,  3.7187, -0.5900,  3.3112,  2.7708,  3.1995,  2.0941,\n",
      "          2.4928, -0.1208, -0.1415, -0.1220, -0.0283]], device='cuda:0')\n",
      "tensor([[-2.3720, -2.3018,  0.8429,  1.0849,  1.0290,  0.9955,  1.0915,  0.9706,\n",
      "          0.9051, -0.1815,  0.5235, -4.1020,  0.2837, -2.3111, -2.1427, -2.6299,\n",
      "         -2.3026,  0.9044,  1.0233,  0.9123,  0.9174],\n",
      "        [ 2.3720,  2.3018, -0.8429, -1.0849, -1.0290, -0.9955, -1.0915, -0.9706,\n",
      "         -0.9051,  0.1815, -0.5235,  4.1020, -0.2837,  2.3111,  2.1427,  2.6299,\n",
      "          2.3026, -0.9044, -1.0233, -0.9123, -0.9174]], device='cuda:0')\n",
      "tensor([[-2.3870, -2.9816,  0.2122,  0.1648,  0.1054, -0.0349, -0.0055,  0.2062,\n",
      "          0.1668,  0.2784, -2.4458,  0.3591, -2.8016, -2.3774, -2.7128, -2.0927,\n",
      "         -3.2001,  0.1354,  0.2748,  0.1345,  0.0755],\n",
      "        [ 2.3870,  2.9816, -0.2122, -0.1648, -0.1054,  0.0349,  0.0055, -0.2062,\n",
      "         -0.1668, -0.2784,  2.4458, -0.3591,  2.8016,  2.3774,  2.7128,  2.0927,\n",
      "          3.2001, -0.1354, -0.2748, -0.1345, -0.0755]], device='cuda:0')\n",
      "tensor([[-2.4365, -2.3049,  0.8969,  1.0041,  0.9268,  0.9904,  1.0055,  1.0136,\n",
      "          0.9145,  0.9119,  0.8383, -2.3654, -2.9982, -3.3124, -2.8664, -2.4514,\n",
      "         -2.3044,  0.8892,  0.8679,  0.9132,  0.9423],\n",
      "        [ 2.4365,  2.3049, -0.8969, -1.0041, -0.9268, -0.9904, -1.0055, -1.0136,\n",
      "         -0.9145, -0.9119, -0.8383,  2.3654,  2.9982,  3.3124,  2.8664,  2.4514,\n",
      "          2.3044, -0.8892, -0.8679, -0.9132, -0.9423]], device='cuda:0')\n",
      "tensor([[-2.3313, -2.4220,  0.8823,  0.8509,  0.9316,  0.9173,  0.9194,  0.9603,\n",
      "          0.9225,  0.7905,  0.0650,  0.6412, -2.8675, -2.9564, -3.0301, -2.3160,\n",
      "         -2.3670,  0.7756,  0.8001,  0.8241,  0.8144],\n",
      "        [ 2.3313,  2.4220, -0.8823, -0.8509, -0.9316, -0.9173, -0.9194, -0.9603,\n",
      "         -0.9225, -0.7905, -0.0650, -0.6412,  2.8675,  2.9564,  3.0301,  2.3160,\n",
      "          2.3670, -0.7756, -0.8001, -0.8241, -0.8144]], device='cuda:0')\n",
      "tensor([[ 1.0383,  1.0439,  0.5489,  0.8988,  0.9097,  0.9181,  0.7803,  0.7873,\n",
      "          0.8814,  0.4267,  0.5410,  0.8022,  0.1618,  0.1315,  0.1688, -2.3107,\n",
      "          1.0331, -2.2985, -3.1082,  0.4483,  0.4156],\n",
      "        [-1.0383, -1.0439, -0.5489, -0.8988, -0.9097, -0.9181, -0.7803, -0.7873,\n",
      "         -0.8814, -0.4267, -0.5410, -0.8022, -0.1618, -0.1315, -0.1688,  2.3107,\n",
      "         -1.0331,  2.2985,  3.1082, -0.4483, -0.4156]], device='cuda:0')\n",
      "tensor([[ 0.9852,  1.0054,  0.5394,  0.7516,  0.8602,  0.9115,  0.6948,  0.7685,\n",
      "          0.7582,  0.0478,  0.6958,  0.8347,  0.3020,  0.0671,  0.2606,  0.9786,\n",
      "         -3.0495,  0.4295,  0.4122, -2.3290, -3.6153],\n",
      "        [-0.9852, -1.0054, -0.5394, -0.7516, -0.8602, -0.9115, -0.6948, -0.7685,\n",
      "         -0.7582, -0.0478, -0.6958, -0.8347, -0.3020, -0.0671, -0.2606, -0.9786,\n",
      "          3.0495, -0.4295, -0.4122,  2.3290,  3.6153]], device='cuda:0')\n",
      "tensor([[-0.0130,  0.2356, -3.2294, -3.0039, -0.1994, -1.6047, -0.2506, -3.2537,\n",
      "         -2.9382, -2.3707,  0.3685,  0.2855,  0.3627,  0.4134,  0.3530, -1.7659,\n",
      "         -2.9094,  0.1325,  0.0740,  0.2649,  0.1039],\n",
      "        [ 0.0130, -0.2356,  3.2294,  3.0039,  0.1994,  1.6047,  0.2506,  3.2537,\n",
      "          2.9382,  2.3707, -0.3685, -0.2855, -0.3627, -0.4134, -0.3530,  1.7659,\n",
      "          2.9094, -0.1325, -0.0740, -0.2649, -0.1039]], device='cuda:0')\n",
      "tensor([[ 0.2428,  0.3618, -1.3987,  0.1941, -3.1619, -3.3459, -3.2300, -2.1376,\n",
      "         -2.2132, -2.8022, -2.4163, -2.1213, -3.0559, -3.2463, -2.9839, -2.3288,\n",
      "         -2.4062, -2.5650, -2.8486, -2.6853, -2.7202],\n",
      "        [-0.2428, -0.3618,  1.3987, -0.1941,  3.1619,  3.3459,  3.2300,  2.1376,\n",
      "          2.2132,  2.8022,  2.4163,  2.1213,  3.0559,  3.2463,  2.9839,  2.3288,\n",
      "          2.4062,  2.5650,  2.8486,  2.6853,  2.7202]], device='cuda:0')\n"
     ]
    }
   ],
   "source": [
    "for p in learner.model.switch__params:\n",
    "    p_orig = p.data.detach().clone()\n",
    "    print(p_orig)\n",
    "#     break\n",
    "    p.data[1, p_orig[1] < 0] = 0\n",
    "    p.data[0, p_orig[1] < 0] = 0"
   ]
  },
  {
   "cell_type": "code",
   "execution_count": 111,
   "metadata": {},
   "outputs": [
    {
     "name": "stdout",
     "output_type": "stream",
     "text": [
      "model_fout_0000.model.fc01.weight\n",
      "model_fout_0000.model.fc01.bias\n",
      "model_fout_0000.model.fc02.weight\n",
      "model_fout_0000.model.fc02.bias\n",
      "model_fout_0000.model.fc03.weight\n",
      "model_fout_0000.model.fc03.bias\n",
      "model_fout_0000.model.fc04.weight\n",
      "model_fout_0000.model.fc04.bias\n",
      "model_fout_0001.model.fc01.weight\n",
      "model_fout_0001.model.fc01.bias\n",
      "model_fout_0001.model.fc02.weight\n",
      "model_fout_0001.model.fc02.bias\n",
      "model_fout_0001.model.fc03.weight\n",
      "model_fout_0001.model.fc03.bias\n",
      "model_fout_0001.model.fc04.weight\n",
      "model_fout_0001.model.fc04.bias\n",
      "model_fout_0002.model.fc01.weight\n",
      "model_fout_0002.model.fc01.bias\n",
      "model_fout_0002.model.fc02.weight\n",
      "model_fout_0002.model.fc02.bias\n",
      "model_fout_0002.model.fc03.weight\n",
      "model_fout_0002.model.fc03.bias\n",
      "model_fout_0002.model.fc04.weight\n",
      "model_fout_0002.model.fc04.bias\n",
      "model_fout_0003.model.fc01.weight\n",
      "model_fout_0003.model.fc01.bias\n",
      "model_fout_0003.model.fc02.weight\n",
      "model_fout_0003.model.fc02.bias\n",
      "model_fout_0003.model.fc03.weight\n",
      "model_fout_0003.model.fc03.bias\n",
      "model_fout_0003.model.fc04.weight\n",
      "model_fout_0003.model.fc04.bias\n",
      "model_fout_0004.model.fc01.weight\n",
      "model_fout_0004.model.fc01.bias\n",
      "model_fout_0004.model.fc02.weight\n",
      "model_fout_0004.model.fc02.bias\n",
      "model_fout_0004.model.fc03.weight\n",
      "model_fout_0004.model.fc03.bias\n",
      "model_fout_0004.model.fc04.weight\n",
      "model_fout_0004.model.fc04.bias\n",
      "model_fout_0005.model.fc01.weight\n",
      "model_fout_0005.model.fc01.bias\n",
      "model_fout_0005.model.fc02.weight\n",
      "model_fout_0005.model.fc02.bias\n",
      "model_fout_0005.model.fc03.weight\n",
      "model_fout_0005.model.fc03.bias\n",
      "model_fout_0005.model.fc04.weight\n",
      "model_fout_0005.model.fc04.bias\n",
      "model_fout_0006.model.fc01.weight\n",
      "model_fout_0006.model.fc01.bias\n",
      "model_fout_0006.model.fc02.weight\n",
      "model_fout_0006.model.fc02.bias\n",
      "model_fout_0006.model.fc03.weight\n",
      "model_fout_0006.model.fc03.bias\n",
      "model_fout_0006.model.fc04.weight\n",
      "model_fout_0006.model.fc04.bias\n",
      "model_fout_0007.model.fc01.weight\n",
      "model_fout_0007.model.fc01.bias\n",
      "model_fout_0007.model.fc02.weight\n",
      "model_fout_0007.model.fc02.bias\n",
      "model_fout_0007.model.fc03.weight\n",
      "model_fout_0007.model.fc03.bias\n",
      "model_fout_0007.model.fc04.weight\n",
      "model_fout_0007.model.fc04.bias\n",
      "model_fout_0008.model.fc01.weight\n",
      "model_fout_0008.model.fc01.bias\n",
      "model_fout_0008.model.fc02.weight\n",
      "model_fout_0008.model.fc02.bias\n",
      "model_fout_0008.model.fc03.weight\n",
      "model_fout_0008.model.fc03.bias\n",
      "model_fout_0008.model.fc04.weight\n",
      "model_fout_0008.model.fc04.bias\n",
      "model_fout_0009.model.fc01.weight\n",
      "model_fout_0009.model.fc01.bias\n",
      "model_fout_0009.model.fc02.weight\n",
      "model_fout_0009.model.fc02.bias\n",
      "model_fout_0009.model.fc03.weight\n",
      "model_fout_0009.model.fc03.bias\n",
      "model_fout_0009.model.fc04.weight\n",
      "model_fout_0009.model.fc04.bias\n",
      "model_fout_0010.model.fc01.weight\n",
      "model_fout_0010.model.fc01.bias\n",
      "model_fout_0010.model.fc02.weight\n",
      "model_fout_0010.model.fc02.bias\n",
      "model_fout_0010.model.fc03.weight\n",
      "model_fout_0010.model.fc03.bias\n",
      "model_fout_0010.model.fc04.weight\n",
      "model_fout_0010.model.fc04.bias\n",
      "model_fout_0011.model.fc01.weight\n",
      "model_fout_0011.model.fc01.bias\n",
      "model_fout_0011.model.fc02.weight\n",
      "model_fout_0011.model.fc02.bias\n",
      "model_fout_0011.model.fc03.weight\n",
      "model_fout_0011.model.fc03.bias\n",
      "model_fout_0011.model.fc04.weight\n",
      "model_fout_0011.model.fc04.bias\n",
      "model_fout_0012.model.fc01.weight\n",
      "model_fout_0012.model.fc01.bias\n",
      "model_fout_0012.model.fc02.weight\n",
      "model_fout_0012.model.fc02.bias\n",
      "model_fout_0012.model.fc03.weight\n",
      "model_fout_0012.model.fc03.bias\n",
      "model_fout_0012.model.fc04.weight\n",
      "model_fout_0012.model.fc04.bias\n",
      "model_fout_0013.model.fc01.weight\n",
      "model_fout_0013.model.fc01.bias\n",
      "model_fout_0013.model.fc02.weight\n",
      "model_fout_0013.model.fc02.bias\n",
      "model_fout_0013.model.fc03.weight\n",
      "model_fout_0013.model.fc03.bias\n",
      "model_fout_0013.model.fc04.weight\n",
      "model_fout_0013.model.fc04.bias\n",
      "model_fout_0014.model.fc01.weight\n",
      "model_fout_0014.model.fc01.bias\n",
      "model_fout_0014.model.fc02.weight\n",
      "model_fout_0014.model.fc02.bias\n",
      "model_fout_0014.model.fc03.weight\n",
      "model_fout_0014.model.fc03.bias\n",
      "model_fout_0014.model.fc04.weight\n",
      "model_fout_0014.model.fc04.bias\n",
      "model_fout_0015.model.fc01.weight\n",
      "model_fout_0015.model.fc01.bias\n",
      "model_fout_0015.model.fc02.weight\n",
      "model_fout_0015.model.fc02.bias\n",
      "model_fout_0015.model.fc03.weight\n",
      "model_fout_0015.model.fc03.bias\n",
      "model_fout_0015.model.fc04.weight\n",
      "model_fout_0015.model.fc04.bias\n",
      "model_fout_0016.model.fc01.weight\n",
      "model_fout_0016.model.fc01.bias\n",
      "model_fout_0016.model.fc02.weight\n",
      "model_fout_0016.model.fc02.bias\n",
      "model_fout_0016.model.fc03.weight\n",
      "model_fout_0016.model.fc03.bias\n",
      "model_fout_0016.model.fc04.weight\n",
      "model_fout_0016.model.fc04.bias\n",
      "model_fadd_0000.model.fc01.weight\n",
      "model_fadd_0000.model.fc01.bias\n",
      "model_fadd_0000.model.fc02.weight\n",
      "model_fadd_0000.model.fc02.bias\n",
      "model_fadd_0000.model.fc03.weight\n",
      "model_fadd_0000.model.fc03.bias\n",
      "model_fadd_0000.model.fc04.weight\n",
      "model_fadd_0000.model.fc04.bias\n",
      "model_fadd_0001.model.fc01.weight\n",
      "model_fadd_0001.model.fc01.bias\n",
      "model_fadd_0001.model.fc02.weight\n",
      "model_fadd_0001.model.fc02.bias\n",
      "model_fadd_0001.model.fc03.weight\n",
      "model_fadd_0001.model.fc03.bias\n",
      "model_fadd_0001.model.fc04.weight\n",
      "model_fadd_0001.model.fc04.bias\n"
     ]
    }
   ],
   "source": [
    "for key, param in learner.model.named_parameters():\n",
    "    if 'switch' not in key:\n",
    "        print(key)\n",
    "        if 'bias' in key:\n",
    "            torch.nn.init.zeros_(param)\n",
    "        else:\n",
    "            torch.nn.init.xavier_uniform_(param)"
   ]
  },
  {
   "cell_type": "code",
   "execution_count": null,
   "metadata": {},
   "outputs": [],
   "source": []
  }
 ],
 "metadata": {
  "kernelspec": {
   "display_name": "Python 3",
   "language": "python",
   "name": "python3"
  },
  "language_info": {
   "codemirror_mode": {
    "name": "ipython",
    "version": 3
   },
   "file_extension": ".py",
   "mimetype": "text/x-python",
   "name": "python",
   "nbconvert_exporter": "python",
   "pygments_lexer": "ipython3",
   "version": "3.7.9"
  }
 },
 "nbformat": 4,
 "nbformat_minor": 4
}
