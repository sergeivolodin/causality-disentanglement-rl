{
 "cells": [
  {
   "cell_type": "code",
   "execution_count": 1,
   "id": "gross-forge",
   "metadata": {},
   "outputs": [],
   "source": [
    "import os\n",
    "os.environ['CUDA_VISIBLE_DEVICES'] = \"1\"\n",
    "import numpy as np\n",
    "from matplotlib import pyplot as plt\n",
    "import seaborn as sns\n",
    "import pandas as pd\n",
    "from tqdm.auto import tqdm\n",
    "import torch\n",
    "from torch import nn\n",
    "import gin\n",
    "import ray\n",
    "import pickle\n",
    "import io\n",
    "gin.enter_interactive_mode()\n",
    "from causal_util import load_env\n",
    "from causal_util.helpers import lstdct2dctlst\n",
    "from sparse_causal_model_learner_rl.loss.losses import fit_loss\n",
    "from sparse_causal_model_learner_rl.loss.causal_discriminator import siamese_feature_discriminator_l2, feature_causal_gan\n",
    "from sparse_causal_model_learner_rl.trainable.discriminator import CausalFeatureActionModelDiscriminator\n",
    "from sparse_causal_model_learner_rl.trainable.fcnet import FCNet\n",
    "\n",
    "from sparse_causal_model_learner_rl.metrics.context_rewrite import context_rewriter\n",
    "from sparse_causal_model_learner_rl.visual.learner_visual import graph_for_matrices\n",
    "from sparse_causal_model_learner_rl.config import Config\n",
    "from sparse_causal_model_learner_rl.sacred_gin_tune.sacred_wrapper import load_config_files\n",
    "from sparse_causal_model_learner_rl.learners.rl_learner import CausalModelLearnerRL\n",
    "from functools import partial"
   ]
  },
  {
   "cell_type": "code",
   "execution_count": 72,
   "id": "burning-complex",
   "metadata": {},
   "outputs": [
    {
     "data": {
      "text/plain": [
       "['kc_rec_nonlin_gnn_gumbel_siamese_l2-Copy1',\n",
       " 'kc_dec',\n",
       " '5x5_1f1c1k_obs',\n",
       " 'server_collect']"
      ]
     },
     "execution_count": 72,
     "metadata": {},
     "output_type": "execute_result"
    }
   ],
   "source": [
    "load_config_files(['../sparse_causal_model_learner_rl/configs/kc_rec_nonlin_gnn_gumbel_siamese_l2-Copy1.gin',\n",
    "                   '../sparse_causal_model_learner_rl/configs/kc_dec.gin',\n",
    "                   '../keychest/config/5x5_1f1c1k_obs.gin',\n",
    "                   '../sparse_causal_model_learner_rl/configs/server_collect.gin'])"
   ]
  },
  {
   "cell_type": "code",
   "execution_count": 73,
   "id": "polar-hartford",
   "metadata": {},
   "outputs": [],
   "source": [
    "gin.bind_parameter('Config.env_steps', 5000)\n",
    "gin.bind_parameter('Config.rl_multistep', [])\n",
    "gin.bind_parameter('Config.env_steps', 5000)\n",
    "gin.bind_parameter('Config.minibatch_size', 5000)\n",
    "gin.bind_parameter('Config.n_collectors', 15)\n",
    "gin.bind_parameter('Normalizer.type_', 'meanstd')\n",
    "gin.bind_parameter('ManyNetworkCombinedModel.input_batchnorm', True)"
   ]
  },
  {
   "cell_type": "code",
   "execution_count": 74,
   "id": "apparent-supplier",
   "metadata": {},
   "outputs": [
    {
     "name": "stderr",
     "output_type": "stream",
     "text": [
      "2021-02-10 01:53:19,344\tERROR worker.py:660 -- Calling ray.init() again after it has already been called.\n"
     ]
    }
   ],
   "source": [
    "ray.init(ignore_reinit_error=True)"
   ]
  },
  {
   "cell_type": "code",
   "execution_count": 75,
   "id": "driving-nicholas",
   "metadata": {},
   "outputs": [],
   "source": [
    "gin.bind_parameter('CausalFeatureActionModelDiscriminator.input_embedder_cls',\n",
    "                   {'f_t': partial(FCNet, hidden_sizes=[], activation_cls=None, add_input_batchnorm=True),\n",
    "                    'f_t1': partial(FCNet, hidden_sizes=[], activation_cls=None, add_input_batchnorm=True)\n",
    "                   })\n",
    "gin.bind_parameter('CausalFeatureActionModelDiscriminator.feature_embedding_dim', 30)\n",
    "gin.bind_parameter('CausalFeatureActionModelDiscriminator.aggregator_cls',\n",
    "                   partial(FCNet, hidden_sizes=[256, 128, 64], activation_cls=torch.nn.Tanh,\n",
    "                           add_input_batchnorm=True))\n",
    "gin.bind_parameter('Config.causal_feature_action_model_discriminator', CausalFeatureActionModelDiscriminator)"
   ]
  },
  {
   "cell_type": "code",
   "execution_count": 76,
   "id": "hispanic-mills",
   "metadata": {},
   "outputs": [],
   "source": [
    "# gin.bind_parameter('decoder/FCNet.hidden_sizes', [512, 256])\n",
    "# gin.bind_parameter('decoder/FCNet.activation_cls', torch.nn.LeakyReLU)"
   ]
  },
  {
   "cell_type": "code",
   "execution_count": 77,
   "id": "portuguese-classic",
   "metadata": {},
   "outputs": [],
   "source": [
    "gin.bind_parameter('decoder/FCNet.hidden_sizes', [512])\n",
    "gin.bind_parameter('decoder/FCNet.activation_cls', torch.nn.LeakyReLU)"
   ]
  },
  {
   "cell_type": "code",
   "execution_count": 78,
   "id": "given-conclusion",
   "metadata": {},
   "outputs": [
    {
     "name": "stderr",
     "output_type": "stream",
     "text": [
      "2021-02-10 01:53:19,537\tWARNING session.py:20 -- Session not detected. You should not be calling this function outside `tune.run` or while using the class API. \n"
     ]
    },
    {
     "name": "stdout",
     "output_type": "stream",
     "text": [
      "Selecting name 5e1125f6-6b3a-11eb-8ff1-90e2baa1a248\n",
      "Make environment KeyChest-v0 None {}\n"
     ]
    },
    {
     "data": {
      "application/vnd.jupyter.widget-view+json": {
       "model_id": "c8d17aa5246b42f78e47fb04983d1d0e",
       "version_major": 2,
       "version_minor": 0
      },
      "text/plain": [
       "HBox(children=(HTML(value='Initial buffer fill'), FloatProgress(value=0.0, max=100000.0), HTML(value='')))"
      ]
     },
     "metadata": {},
     "output_type": "display_data"
    },
    {
     "name": "stdout",
     "output_type": "stream",
     "text": [
      "\u001b[2m\u001b[36m(pid=11370)\u001b[0m Make environment KeyChest-v0 None {}\n",
      "\u001b[2m\u001b[36m(pid=11362)\u001b[0m Make environment KeyChest-v0 None {}\n",
      "\u001b[2m\u001b[36m(pid=11326)\u001b[0m Make environment KeyChest-v0 None {}\n",
      "\u001b[2m\u001b[36m(pid=11364)\u001b[0m Make environment KeyChest-v0 None {}\n",
      "\u001b[2m\u001b[36m(pid=11317)\u001b[0m Make environment KeyChest-v0 None {}\n",
      "\u001b[2m\u001b[36m(pid=11339)\u001b[0m Make environment KeyChest-v0 None {}\n",
      "\u001b[2m\u001b[36m(pid=11345)\u001b[0m Make environment KeyChest-v0 None {}\n",
      "\u001b[2m\u001b[36m(pid=11390)\u001b[0m Make environment KeyChest-v0 None {}\n",
      "\u001b[2m\u001b[36m(pid=11298)\u001b[0m Make environment KeyChest-v0 None {}\n",
      "\u001b[2m\u001b[36m(pid=11351)\u001b[0m Make environment KeyChest-v0 None {}\n",
      "\u001b[2m\u001b[36m(pid=11311)\u001b[0m Make environment KeyChest-v0 None {}\n",
      "\u001b[2m\u001b[36m(pid=11393)\u001b[0m Make environment KeyChest-v0 None {}\n",
      "\u001b[2m\u001b[36m(pid=11332)\u001b[0m Make environment KeyChest-v0 None {}\n",
      "\u001b[2m\u001b[36m(pid=11366)\u001b[0m Make environment KeyChest-v0 None {}\n",
      "\u001b[2m\u001b[36m(pid=11327)\u001b[0m Make environment KeyChest-v0 None {}\n",
      "\n"
     ]
    }
   ],
   "source": [
    "learner = CausalModelLearnerRL(Config(ray_kwargs={'address': '127.0.0.1:6379'}))"
   ]
  },
  {
   "cell_type": "code",
   "execution_count": 79,
   "id": "designed-passage",
   "metadata": {},
   "outputs": [
    {
     "name": "stderr",
     "output_type": "stream",
     "text": [
      "WARNING:root:No class provided for trainable reconstructor\n",
      "WARNING:root:No class provided for trainable value_predictor\n",
      "WARNING:root:No class provided for trainable causal_feature_model_discriminator\n",
      "WARNING:root:No class provided for trainable decoder_discriminator\n",
      "WARNING:root:Warning: loss fit is used more than once\n",
      "WARNING:root:Warning: loss sparsity is used more than once\n",
      "WARNING:root:Warning: loss non_sparse_fit is used more than once\n",
      "WARNING:root:Warning: loss discriminate_siamese is used more than once\n",
      "WARNING:root:Warning: loss fit_all_on is used more than once\n"
     ]
    }
   ],
   "source": [
    "learner.create_trainables()"
   ]
  },
  {
   "cell_type": "code",
   "execution_count": 80,
   "id": "lightweight-collar",
   "metadata": {},
   "outputs": [
    {
     "data": {
      "text/plain": [
       "CausalFeatureActionModelDiscriminator(\n",
       "  (model_f_t): FCNet(\n",
       "    (fc01): Linear(in_features=30, out_features=30, bias=True)\n",
       "    (bn): BatchNorm1d(30, eps=1e-05, momentum=0.1, affine=True, track_running_stats=True)\n",
       "  )\n",
       "  (model_f_t1): FCNet(\n",
       "    (fc01): Linear(in_features=32, out_features=30, bias=True)\n",
       "    (bn): BatchNorm1d(32, eps=1e-05, momentum=0.1, affine=True, track_running_stats=True)\n",
       "  )\n",
       "  (model_a_t): IdentityNet()\n",
       "  (agg): FCNet(\n",
       "    (fc01): Linear(in_features=64, out_features=256, bias=True)\n",
       "    (fc02): Linear(in_features=256, out_features=128, bias=True)\n",
       "    (fc03): Linear(in_features=128, out_features=64, bias=True)\n",
       "    (fc04): Linear(in_features=64, out_features=1, bias=True)\n",
       "    (bn): BatchNorm1d(64, eps=1e-05, momentum=0.1, affine=True, track_running_stats=True)\n",
       "  )\n",
       "  (aggregator): FCNet(\n",
       "    (fc01): Linear(in_features=64, out_features=256, bias=True)\n",
       "    (fc02): Linear(in_features=256, out_features=128, bias=True)\n",
       "    (fc03): Linear(in_features=128, out_features=64, bias=True)\n",
       "    (fc04): Linear(in_features=64, out_features=1, bias=True)\n",
       "    (bn): BatchNorm1d(64, eps=1e-05, momentum=0.1, affine=True, track_running_stats=True)\n",
       "  )\n",
       ")"
      ]
     },
     "execution_count": 80,
     "metadata": {},
     "output_type": "execute_result"
    }
   ],
   "source": [
    "learner.causal_feature_action_model_discriminator"
   ]
  },
  {
   "cell_type": "code",
   "execution_count": 81,
   "id": "suspended-central",
   "metadata": {},
   "outputs": [
    {
     "data": {
      "text/plain": [
       "ManyNetworkCombinedModel(\n",
       "  (bn): BatchNorm1d(34, eps=1e-05, momentum=0.1, affine=True, track_running_stats=True)\n",
       "  (model): WithInputSwitch(\n",
       "    (switch): LearnableSwitchSimple()\n",
       "    (model): FCCombinedModel(\n",
       "      (fc01): CombinedLinearLayer()\n",
       "      (fc02): CombinedLinearLayer()\n",
       "      (fc03): CombinedLinearLayer()\n",
       "      (fc04): CombinedLinearLayer()\n",
       "    )\n",
       "  )\n",
       ")"
      ]
     },
     "execution_count": 81,
     "metadata": {},
     "output_type": "execute_result"
    }
   ],
   "source": [
    "learner.model"
   ]
  },
  {
   "cell_type": "code",
   "execution_count": 82,
   "id": "unnecessary-circular",
   "metadata": {},
   "outputs": [
    {
     "data": {
      "text/plain": [
       "ModelDecoder(\n",
       "  (model): FCNet(\n",
       "    (fc01): Linear(in_features=847, out_features=512, bias=True)\n",
       "    (fc02): Linear(in_features=512, out_features=30, bias=True)\n",
       "  )\n",
       ")"
      ]
     },
     "execution_count": 82,
     "metadata": {},
     "output_type": "execute_result"
    }
   ],
   "source": [
    "learner.decoder"
   ]
  },
  {
   "cell_type": "code",
   "execution_count": 83,
   "id": "closed-pastor",
   "metadata": {},
   "outputs": [],
   "source": [
    "env = learner.env"
   ]
  },
  {
   "cell_type": "code",
   "execution_count": null,
   "id": "explicit-angola",
   "metadata": {},
   "outputs": [],
   "source": []
  },
  {
   "cell_type": "code",
   "execution_count": 84,
   "id": "bright-season",
   "metadata": {},
   "outputs": [],
   "source": [
    "learner.decoder.__init__(observation_shape=learner.observation_shape,\n",
    "                         feature_shape=learner.feature_shape)\n",
    "learner.decoder = learner.decoder.cuda()"
   ]
  },
  {
   "cell_type": "code",
   "execution_count": 85,
   "id": "swedish-dylan",
   "metadata": {},
   "outputs": [],
   "source": [
    "ctx = learner.collect_and_get_context()"
   ]
  },
  {
   "cell_type": "code",
   "execution_count": 86,
   "id": "prescription-gender",
   "metadata": {},
   "outputs": [
    {
     "data": {
      "text/plain": [
       "{'loss': tensor(1.4565, device='cuda:0', grad_fn=<AddBackward0>),\n",
       " 'metrics': {'loss_env': 0.6896636486053467,\n",
       "  'loss_env_permuted': 0.6979010105133057,\n",
       "  'loss_model': 0.6896544694900513,\n",
       "  'mean_logits_env': 0.008223792538046837,\n",
       "  'mean_logits_env_permuted': 0.008320028893649578,\n",
       "  'mean_logits_model': 0.008344730362296104,\n",
       "  'mse_model_pred': 2.6063358783721924}}"
      ]
     },
     "execution_count": 86,
     "metadata": {},
     "output_type": "execute_result"
    }
   ],
   "source": [
    "feature_causal_gan(**ctx, loss_type='generator')"
   ]
  },
  {
   "cell_type": "code",
   "execution_count": 87,
   "id": "reverse-italian",
   "metadata": {},
   "outputs": [
    {
     "data": {
      "text/plain": [
       "{'loss': tensor(1.4572, device='cuda:0', grad_fn=<AddBackward0>),\n",
       " 'metrics': {'loss_env': 0.6896636486053467,\n",
       "  'loss_env_permuted': 0.6976892352104187,\n",
       "  'loss_model': 0.6979991793632507,\n",
       "  'mean_logits_env': 0.008223792538046837,\n",
       "  'mean_logits_env_permuted': 0.007894471287727356,\n",
       "  'mean_logits_model': 0.008344730362296104,\n",
       "  'mse_model_pred': 2.6063358783721924}}"
      ]
     },
     "execution_count": 87,
     "metadata": {},
     "output_type": "execute_result"
    }
   ],
   "source": [
    "feature_causal_gan(**ctx, loss_type='discriminator')"
   ]
  },
  {
   "cell_type": "code",
   "execution_count": null,
   "id": "smooth-theta",
   "metadata": {},
   "outputs": [],
   "source": []
  },
  {
   "cell_type": "code",
   "execution_count": 88,
   "id": "spanish-desire",
   "metadata": {},
   "outputs": [],
   "source": [
    "features = learner.decoder(ctx['obs'])"
   ]
  },
  {
   "cell_type": "code",
   "execution_count": 89,
   "id": "broken-renaissance",
   "metadata": {},
   "outputs": [],
   "source": [
    "f = features.detach().cpu().numpy()"
   ]
  },
  {
   "cell_type": "code",
   "execution_count": 90,
   "id": "motivated-array",
   "metadata": {},
   "outputs": [
    {
     "data": {
      "text/plain": [
       "(5000, 30)"
      ]
     },
     "execution_count": 90,
     "metadata": {},
     "output_type": "execute_result"
    }
   ],
   "source": [
    "f.shape"
   ]
  },
  {
   "cell_type": "code",
   "execution_count": 91,
   "id": "excessive-monday",
   "metadata": {},
   "outputs": [
    {
     "data": {
      "image/png": "[encoded data removed]",
      "text/plain": [
       "<Figure size 1440x1800 with 30 Axes>"
      ]
     },
     "metadata": {
      "needs_background": "light"
     },
     "output_type": "display_data"
    }
   ],
   "source": [
    "plt.figure(figsize=(20, 25))\n",
    "for i_f in range(f.shape[1]):\n",
    "    plt.subplot(10, 3, i_f + 1)\n",
    "    plt.hist(f[:, i_f])"
   ]
  },
  {
   "cell_type": "code",
   "execution_count": 92,
   "id": "cardiac-dancing",
   "metadata": {},
   "outputs": [
    {
     "data": {
      "text/plain": [
       "0     0.097186\n",
       "1     0.093818\n",
       "2     0.093019\n",
       "3     0.093178\n",
       "4     0.096343\n",
       "5     0.090967\n",
       "6     0.088978\n",
       "7     0.089718\n",
       "8     0.098907\n",
       "9     0.105764\n",
       "10    0.086922\n",
       "11    0.098155\n",
       "12    0.088672\n",
       "13    0.098693\n",
       "14    0.089186\n",
       "15    0.092277\n",
       "16    0.097961\n",
       "17    0.092801\n",
       "18    0.095384\n",
       "19    0.100843\n",
       "20    0.093259\n",
       "21    0.098145\n",
       "22    0.090647\n",
       "23    0.092555\n",
       "24    0.091848\n",
       "25    0.086979\n",
       "26    0.090834\n",
       "27    0.092742\n",
       "28    0.086037\n",
       "29    0.090576\n",
       "dtype: float32"
      ]
     },
     "execution_count": 92,
     "metadata": {},
     "output_type": "execute_result"
    }
   ],
   "source": [
    "pd.DataFrame(f).std()"
   ]
  },
  {
   "cell_type": "code",
   "execution_count": 93,
   "id": "loving-sheep",
   "metadata": {},
   "outputs": [
    {
     "data": {
      "text/plain": [
       "<AxesSubplot:>"
      ]
     },
     "execution_count": 93,
     "metadata": {},
     "output_type": "execute_result"
    },
    {
     "data": {
      "image/png": "[encoded data removed]",
      "text/plain": [
       "<Figure size 432x288 with 2 Axes>"
      ]
     },
     "metadata": {
      "needs_background": "light"
     },
     "output_type": "display_data"
    }
   ],
   "source": [
    "sns.heatmap(pd.DataFrame(f).corr())"
   ]
  },
  {
   "cell_type": "code",
   "execution_count": 94,
   "id": "generic-emphasis",
   "metadata": {},
   "outputs": [],
   "source": [
    "env.engine.return_rgb = False"
   ]
  },
  {
   "cell_type": "code",
   "execution_count": null,
   "id": "indie-reaction",
   "metadata": {},
   "outputs": [],
   "source": []
  },
  {
   "cell_type": "code",
   "execution_count": 95,
   "id": "fewer-california",
   "metadata": {},
   "outputs": [],
   "source": [
    "gin.bind_parameter('model_gnn/FCCombinedModel.activation_cls', torch.nn.Tanh)\n",
    "gin.bind_parameter('model_gnn/FCCombinedModel.hidden_sizes', [100, 100, 100])\n",
    "gin.bind_parameter('ManyNetworkCombinedModel.input_batchnorm', False)"
   ]
  },
  {
   "cell_type": "code",
   "execution_count": 96,
   "id": "framed-livestock",
   "metadata": {},
   "outputs": [],
   "source": [
    "learner.non_sparse_model.__init__(feature_shape=learner.feature_shape,\n",
    "                                  action_shape=learner.action_shape,\n",
    "                                  additional_feature_shape=learner.additional_feature_shape)\n",
    "learner.non_sparse_model = learner.non_sparse_model.cuda()"
   ]
  },
  {
   "cell_type": "code",
   "execution_count": 97,
   "id": "increasing-shame",
   "metadata": {},
   "outputs": [],
   "source": [
    "learner.causal_feature_action_model_discriminator.__init__(observation_shape=learner.observation_shape,\n",
    "                                                           action_shape=learner.action_shape,\n",
    "                                                           total_feature_shape=learner.model_kwargs['total_feature_shape'],\n",
    "                         feature_shape=learner.feature_shape)\n",
    "learner.causal_feature_action_model_discriminator = learner.causal_feature_action_model_discriminator.cuda()"
   ]
  },
  {
   "cell_type": "code",
   "execution_count": 98,
   "id": "automatic-spectrum",
   "metadata": {},
   "outputs": [
    {
     "data": {
      "text/plain": [
       "CausalFeatureActionModelDiscriminator(\n",
       "  (model_f_t): FCNet(\n",
       "    (fc01): Linear(in_features=30, out_features=30, bias=True)\n",
       "    (bn): BatchNorm1d(30, eps=1e-05, momentum=0.1, affine=True, track_running_stats=True)\n",
       "  )\n",
       "  (model_f_t1): FCNet(\n",
       "    (fc01): Linear(in_features=32, out_features=30, bias=True)\n",
       "    (bn): BatchNorm1d(32, eps=1e-05, momentum=0.1, affine=True, track_running_stats=True)\n",
       "  )\n",
       "  (model_a_t): IdentityNet()\n",
       "  (agg): FCNet(\n",
       "    (fc01): Linear(in_features=64, out_features=256, bias=True)\n",
       "    (fc02): Linear(in_features=256, out_features=128, bias=True)\n",
       "    (fc03): Linear(in_features=128, out_features=64, bias=True)\n",
       "    (fc04): Linear(in_features=64, out_features=1, bias=True)\n",
       "    (bn): BatchNorm1d(64, eps=1e-05, momentum=0.1, affine=True, track_running_stats=True)\n",
       "  )\n",
       "  (aggregator): FCNet(\n",
       "    (fc01): Linear(in_features=64, out_features=256, bias=True)\n",
       "    (fc02): Linear(in_features=256, out_features=128, bias=True)\n",
       "    (fc03): Linear(in_features=128, out_features=64, bias=True)\n",
       "    (fc04): Linear(in_features=64, out_features=1, bias=True)\n",
       "    (bn): BatchNorm1d(64, eps=1e-05, momentum=0.1, affine=True, track_running_stats=True)\n",
       "  )\n",
       ")"
      ]
     },
     "execution_count": 98,
     "metadata": {},
     "output_type": "execute_result"
    }
   ],
   "source": [
    "learner.causal_feature_action_model_discriminator"
   ]
  },
  {
   "cell_type": "code",
   "execution_count": 99,
   "id": "incoming-helicopter",
   "metadata": {},
   "outputs": [
    {
     "data": {
      "text/plain": [
       "[Tanh(), Tanh(), Tanh(), None]"
      ]
     },
     "execution_count": 99,
     "metadata": {},
     "output_type": "execute_result"
    }
   ],
   "source": [
    "learner.non_sparse_model.model.model.activation"
   ]
  },
  {
   "cell_type": "code",
   "execution_count": 100,
   "id": "powerful-operations",
   "metadata": {},
   "outputs": [
    {
     "data": {
      "text/plain": [
       "ManyNetworkCombinedModel(\n",
       "  (model): WithInputSwitch(\n",
       "    (switch): LearnableSwitchSimple()\n",
       "    (model): FCCombinedModel(\n",
       "      (fc01): CombinedLinearLayer()\n",
       "      (fc02): CombinedLinearLayer()\n",
       "      (fc03): CombinedLinearLayer()\n",
       "      (fc04): CombinedLinearLayer()\n",
       "    )\n",
       "  )\n",
       ")"
      ]
     },
     "execution_count": 100,
     "metadata": {},
     "output_type": "execute_result"
    }
   ],
   "source": [
    "learner.non_sparse_model"
   ]
  },
  {
   "cell_type": "code",
   "execution_count": 101,
   "id": "distributed-programmer",
   "metadata": {},
   "outputs": [
    {
     "data": {
      "text/plain": [
       "False"
      ]
     },
     "execution_count": 101,
     "metadata": {},
     "output_type": "execute_result"
    }
   ],
   "source": [
    "learner.non_sparse_model.model.enable_switch"
   ]
  },
  {
   "cell_type": "code",
   "execution_count": 102,
   "id": "verbal-conclusion",
   "metadata": {},
   "outputs": [],
   "source": [
    "mins = None\n",
    "maxes = None"
   ]
  },
  {
   "cell_type": "code",
   "execution_count": 103,
   "id": "vulnerable-command",
   "metadata": {},
   "outputs": [],
   "source": [
    "def normalize(t, mins, maxes):\n",
    "    return 2 * ((t - mins) / (1e-3 + maxes - mins) - 0.5)"
   ]
  },
  {
   "cell_type": "code",
   "execution_count": 104,
   "id": "covered-cycling",
   "metadata": {},
   "outputs": [],
   "source": [
    "class AdhocWorldModel(nn.Module):\n",
    "    def __init__(self):\n",
    "        super(AdhocWorldModel, self).__init__()\n",
    "        dim = 60\n",
    "        self.bn = torch.nn.BatchNorm1d(num_features=34)\n",
    "        self.fc1 = nn.Linear(in_features=34, out_features=dim)\n",
    "        self.fc2 = nn.Linear(in_features=dim, out_features=dim)\n",
    "        self.fc3 = nn.Linear(in_features=dim, out_features=dim)\n",
    "        self.fc4 = nn.Linear(in_features=dim, out_features=32)\n",
    "        self.activation = nn.Tanh()\n",
    "        \n",
    "    def forward(self, f_t, a_t, all):\n",
    "        x = torch.cat([f_t, a_t], dim=1)\n",
    "        \n",
    "        x = self.bn(x)\n",
    "        \n",
    "        x = self.fc1(x)\n",
    "        x = self.activation(x)\n",
    "        \n",
    "        x = self.fc2(x)\n",
    "        x = self.activation(x)\n",
    "        \n",
    "        x = self.fc3(x)\n",
    "        x = self.activation(x)\n",
    "        \n",
    "        x = self.fc4(x)\n",
    "        return x"
   ]
  },
  {
   "cell_type": "code",
   "execution_count": 105,
   "id": "improved-valve",
   "metadata": {},
   "outputs": [],
   "source": [
    "from sparse_causal_model_learner_rl.loss.helpers import gather_additional_features\n"
   ]
  },
  {
   "cell_type": "code",
   "execution_count": 106,
   "id": "canadian-brake",
   "metadata": {},
   "outputs": [],
   "source": [
    "@gin.configurable\n",
    "def info_nce(obs_x, action_x, obs_y, model, decoder,\n",
    "             additional_feature_keys,\n",
    "             causal_feature_action_model_discriminator,\n",
    "             obs_delta_eps=1e-3,\n",
    "             **kwargs):\n",
    "    batch_dim = len(obs_x)\n",
    "    device = obs_x.device\n",
    "\n",
    "    # input features\n",
    "    f_x = decoder(obs_x)\n",
    "\n",
    "    # output features\n",
    "    f_y = decoder(obs_y)\n",
    "    f_y_add = gather_additional_features(additional_feature_keys=additional_feature_keys, **kwargs)\n",
    "    f_y_all = torch.cat([f_y, f_y_add], dim=1)\n",
    "\n",
    "    # permuted output features\n",
    "    idxes = torch.randperm(batch_dim, device=device)\n",
    "    f_y_all_permuted = f_y_all[idxes]\n",
    "    obs_y_permuted = obs_y[idxes]\n",
    "    act_permuted = action_x[idxes]\n",
    "    \n",
    "#     f_y_pred = model(f_t=f_x, a_t=action_x, all=True)\n",
    "#     f_y_pred_permuted = f_y_pred[idxes]\n",
    "\n",
    "    logits_environment = causal_feature_action_model_discriminator(f_t=f_x, a_t=action_x, f_t1=f_y_all)\n",
    "    logits_permuted = causal_feature_action_model_discriminator(f_t=f_x, a_t=action_x, f_t1=f_y_all_permuted)\n",
    "#     logits_model = causal_feature_action_model_discriminator(f_t=f_x, a_t=action_x, f_t1=f_y_pred)\n",
    "#     logits_model_permuted = causal_feature_action_model_discriminator(f_t=f_x, a_t=action_x, f_t1=f_y_pred_permuted)\n",
    "\n",
    "    # want -log (p_true[i] / p_true[i] + p_permuted[i]) -> min\n",
    "\n",
    "    env_permuted_obs_close = ((obs_y_permuted - obs_y).flatten(start_dim=1).pow(2).sum(1) +\n",
    "                              (act_permuted - action_x).flatten(start_dim=1).pow(2).sum(1) <=\n",
    "                              obs_delta_eps).to(device).detach()\n",
    "    \n",
    "    p_env = torch.nn.Sigmoid()(logits_environment)\n",
    "    p_permuted = torch.nn.Sigmoid()(logits_permuted)\n",
    "#     p_model = torch.nn.Sigmoid()(logits_model)\n",
    "#     p_model_permuted = torch.nn.Sigmoid()(logits_model_permuted)\n",
    "    \n",
    "    loss_vect = -torch.log(p_env / (p_env + p_permuted ))    \n",
    "    loss_vect = torch.where(env_permuted_obs_close, torch.zeros_like(loss_vect), loss_vect)\n",
    "    loss_emb = loss_vect.mean()\n",
    "    \n",
    "#     loss_vect = -torch.log(p_model / (p_model + p_permuted + p_model_permuted))    \n",
    "#     loss_vect = torch.where(env_permuted_obs_close, torch.zeros_like(loss_vect), loss_vect)\n",
    "#     loss_model = loss_vect.mean()\n",
    "    \n",
    "    loss = loss_emb #+ loss_model\n",
    "    \n",
    "    return {'loss': loss,\n",
    "            'metrics': {'loss_emb': loss_emb.item(),}}\n",
    "#                        'loss_model': loss_model.item()}}"
   ]
  },
  {
   "cell_type": "code",
   "execution_count": 107,
   "id": "cellular-farmer",
   "metadata": {},
   "outputs": [],
   "source": [
    "@gin.configurable\n",
    "def feature_causal_gan(obs_x, action_x, obs_y, model, decoder,\n",
    "                       additional_feature_keys,\n",
    "                       causal_feature_action_model_discriminator,\n",
    "                       obs_delta_eps=1e-3,\n",
    "                       add_mse_coeff=None,\n",
    "                       loss_type=None,\n",
    "                       **kwargs):\n",
    "    \"\"\"GAN loss where the discriminator classifies correct/incorrect causal pairs.\"\"\"\n",
    "    assert loss_type in ['generator', 'discriminator', 'only_contrastive'], f\"Wrong loss type {loss_type}\"\n",
    "    batch_dim = len(obs_x)\n",
    "    device = obs_x.device\n",
    "\n",
    "    # input features\n",
    "    f_x = decoder(obs_x)\n",
    "\n",
    "    # output features\n",
    "    f_y = decoder(obs_y)\n",
    "    f_y_add = gather_additional_features(additional_feature_keys=additional_feature_keys, **kwargs)\n",
    "    f_y_all = torch.cat([f_y, f_y_add], dim=1)\n",
    "\n",
    "    # permuted output features\n",
    "    idxes = torch.randperm(batch_dim, device=device)\n",
    "    f_y_all_permuted = f_y_all[idxes]\n",
    "    obs_y_permuted = obs_y[idxes]\n",
    "    act_permuted = action_x[idxes]\n",
    "\n",
    "    # predicted features\n",
    "    if loss_type == 'discriminator':\n",
    "        # do not allow the decoder to break the model\n",
    "        # rather, the discriminator must find issues with the model itself.\n",
    "        f_x_feed = f_x.detach()\n",
    "    else:\n",
    "        f_x_feed = f_x\n",
    "    f_y_pred = model(f_t=f_x_feed, a_t=action_x, all=True)\n",
    "\n",
    "    logits_environment = causal_feature_action_model_discriminator(f_t=f_x, a_t=action_x, f_t1=f_y_all)\n",
    "    logits_model = causal_feature_action_model_discriminator(f_t=f_x_feed, a_t=action_x, f_t1=f_y_pred)\n",
    "    logits_permuted = causal_feature_action_model_discriminator(f_t=f_x, a_t=action_x, f_t1=f_y_all_permuted)\n",
    "\n",
    "    # prediction = 1 -> correct pair\n",
    "    # prediction = 0 -> incorrect pair\n",
    "    env_permuted_obs_close = ((obs_y_permuted - obs_y).flatten(start_dim=1).pow(2).sum(1) +\n",
    "                              (act_permuted - action_x).flatten(start_dim=1).pow(2).sum(1) <=\n",
    "                              obs_delta_eps).to(device).to(torch.float32).detach()\n",
    "    ans_env = torch.ones((batch_dim,), device=device, dtype=torch.float32)\n",
    "    ans_env_permuted = env_permuted_obs_close  # act+obs close -> same features -> must output 1, otherwise 0\n",
    "\n",
    "    if loss_type == 'generator':  # generator wants to have all correct pairs\n",
    "        ans_model = torch.ones((batch_dim,), device=device, dtype=torch.float32)\n",
    "    elif loss_type == 'discriminator':  # discriminator must see issues with the generator\n",
    "        ans_model = torch.zeros((batch_dim,), device=device, dtype=torch.float32)\n",
    "    elif loss_type == 'only_contrastive':\n",
    "        ans_model = None\n",
    "    else:\n",
    "        raise ValueError(f\"Wrong loss_type: {loss_type}\")\n",
    "\n",
    "    criterion = torch.nn.BCEWithLogitsLoss(reduction='mean')\n",
    "\n",
    "    loss_env = criterion(logits_environment.view(-1), ans_env)\n",
    "    loss_env_permuted = criterion(logits_permuted.view(-1), ans_env_permuted)\n",
    "    if loss_type == 'only_contrastive':\n",
    "        loss_model = torch.zeros(1)\n",
    "    else:\n",
    "        loss_model = criterion(logits_model.view(-1), ans_model)\n",
    "\n",
    "    mse_model_pred = (f_y_pred - f_y_all).pow(2).sum(1).mean()\n",
    "    \n",
    "    if loss_type == 'generator' and add_mse_coeff is not None:\n",
    "        loss_model = loss_model + add_mse_coeff * mse_model_pred\n",
    "        \n",
    "    if loss_type == 'only_contrastive':\n",
    "        loss = loss_env + loss_env_permuted\n",
    "    elif loss_type == 'generator':\n",
    "        loss = loss_model / 10 + loss_env + loss_env_permuted\n",
    "    elif loss_type == 'discriminator':\n",
    "        loss = loss_model / 10 + loss_env + loss_env_permuted \n",
    "\n",
    "    metrics = {\n",
    "        'loss_env': loss_env.item(),\n",
    "        'loss_env_permuted': loss_env_permuted.item(),\n",
    "        'loss_model': loss_model.item(),\n",
    "        'mean_logits_env': logits_environment.mean().item(),\n",
    "        'mean_logits_env_permuted': logits_permuted.mean().item(),\n",
    "        'mean_logits_model': logits_model.mean().item(),\n",
    "        'mse_model_pred': mse_model_pred.item(),\n",
    "    }\n",
    "\n",
    "    return {'loss': loss,\n",
    "            'metrics': metrics}"
   ]
  },
  {
   "cell_type": "code",
   "execution_count": null,
   "id": "imported-oklahoma",
   "metadata": {},
   "outputs": [],
   "source": []
  },
  {
   "cell_type": "code",
   "execution_count": 108,
   "id": "apparent-beverage",
   "metadata": {},
   "outputs": [],
   "source": [
    "metrics = []\n",
    "losses_gen = []\n",
    "losses_disc = []\n",
    "losses_dec = []\n",
    "ratios = []\n",
    "ctx_set = False"
   ]
  },
  {
   "cell_type": "code",
   "execution_count": 109,
   "id": "patent-given",
   "metadata": {},
   "outputs": [],
   "source": [
    "use_model = learner.non_sparse_model\n",
    "#use_model = AdhocWorldModel().cuda()"
   ]
  },
  {
   "cell_type": "code",
   "execution_count": 110,
   "id": "educated-performance",
   "metadata": {},
   "outputs": [],
   "source": [
    "gin.bind_parameter('decoder/FCNet.hidden_sizes', [512, 256])\n",
    "gin.bind_parameter('decoder/FCNet.activation_cls', torch.nn.LeakyReLU)"
   ]
  },
  {
   "cell_type": "code",
   "execution_count": 111,
   "id": "rotary-hepatitis",
   "metadata": {},
   "outputs": [],
   "source": [
    "learner.decoder.__init__(observation_shape=learner.observation_shape,\n",
    "                         feature_shape=learner.feature_shape)\n",
    "learner.decoder = learner.decoder.cuda()"
   ]
  },
  {
   "cell_type": "code",
   "execution_count": 112,
   "id": "numerous-observation",
   "metadata": {},
   "outputs": [],
   "source": [
    "opt_disc = torch.optim.Adam(lr=1e-3, params=list(learner.causal_feature_action_model_discriminator.parameters()),# + list(learner.decoder.parameters()),\n",
    "                      #amsgrad=True,\n",
    "                       betas=(0.5, 0.8)\n",
    "                      )\n",
    "opt_gen = torch.optim.Adam(lr=1e-3, params=list(use_model.parameters()), #list(learner.decoder.parameters()) + \n",
    "                      #amsgrad=True,\n",
    "                       betas=(0.5, 0.8)\n",
    "                      )\n",
    "opt_dec = torch.optim.Adam(lr=1e-3, params=list(learner.decoder.parameters()) + list(use_model.parameters()) + list(learner.causal_feature_action_model_discriminator.parameters()),\n",
    "                      #amsgrad=True,\n",
    "                       betas=(0.5, 0.8)\n",
    "                      )"
   ]
  },
  {
   "cell_type": "code",
   "execution_count": 113,
   "id": "neither-graphics",
   "metadata": {},
   "outputs": [
    {
     "data": {
      "text/plain": [
       "[tensor(2.7049e-05, device='cuda:0'),\n",
       " tensor(0.0004, device='cuda:0'),\n",
       " tensor(2.8917e-05, device='cuda:0'),\n",
       " tensor(0.0013, device='cuda:0'),\n",
       " tensor(-0.0003, device='cuda:0'),\n",
       " tensor(-0.0125, device='cuda:0')]"
      ]
     },
     "execution_count": 113,
     "metadata": {},
     "output_type": "execute_result"
    }
   ],
   "source": [
    "[x.mean() for x in learner.decoder.state_dict().values()]"
   ]
  },
  {
   "cell_type": "code",
   "execution_count": 114,
   "id": "tight-webmaster",
   "metadata": {},
   "outputs": [
    {
     "data": {
      "text/plain": [
       "{'loss': tensor(1.4549, device='cuda:0', grad_fn=<AddBackward0>),\n",
       " 'metrics': {'loss_env': 0.6362125873565674,\n",
       "  'loss_env_permuted': 0.7551161646842957,\n",
       "  'loss_model': 0.6361591815948486,\n",
       "  'mean_logits_env': 0.11872519552707672,\n",
       "  'mean_logits_env_permuted': 0.11888427287340164,\n",
       "  'mean_logits_model': 0.11852196604013443,\n",
       "  'mse_model_pred': 2.240255355834961}}"
      ]
     },
     "execution_count": 114,
     "metadata": {},
     "output_type": "execute_result"
    }
   ],
   "source": [
    "feature_causal_gan(**ctx, loss_type='generator')"
   ]
  },
  {
   "cell_type": "code",
   "execution_count": 115,
   "id": "killing-springfield",
   "metadata": {},
   "outputs": [
    {
     "data": {
      "application/vnd.jupyter.widget-view+json": {
       "model_id": "fa003232f1ac4df8b5d28e174f853ec2",
       "version_major": 2,
       "version_minor": 0
      },
      "text/plain": [
       "HBox(children=(HTML(value=''), FloatProgress(value=0.0, max=500000.0), HTML(value='')))"
      ]
     },
     "metadata": {},
     "output_type": "display_data"
    },
    {
     "name": "stdout",
     "output_type": "stream",
     "text": [
      "\n"
     ]
    },
    {
     "ename": "KeyboardInterrupt",
     "evalue": "",
     "output_type": "error",
     "traceback": [
      "\u001b[0;31m---------------------------------------------------------------------------\u001b[0m",
      "\u001b[0;31mKeyboardInterrupt\u001b[0m                         Traceback (most recent call last)",
      "\u001b[0;32m<ipython-input-115-06620f95ace9>\u001b[0m in \u001b[0;36m<module>\u001b[0;34m\u001b[0m\n\u001b[1;32m      4\u001b[0m         \u001b[0;32mif\u001b[0m \u001b[0mi\u001b[0m \u001b[0;34m%\u001b[0m \u001b[0;36m1\u001b[0m \u001b[0;34m==\u001b[0m \u001b[0;36m0\u001b[0m \u001b[0;32mor\u001b[0m \u001b[0;32mnot\u001b[0m \u001b[0mctx_set\u001b[0m\u001b[0;34m:\u001b[0m\u001b[0;34m\u001b[0m\u001b[0;34m\u001b[0m\u001b[0m\n\u001b[1;32m      5\u001b[0m             \u001b[0mctx_set\u001b[0m \u001b[0;34m=\u001b[0m \u001b[0;32mTrue\u001b[0m\u001b[0;34m\u001b[0m\u001b[0;34m\u001b[0m\u001b[0m\n\u001b[0;32m----> 6\u001b[0;31m             \u001b[0mctx\u001b[0m \u001b[0;34m=\u001b[0m \u001b[0mlearner\u001b[0m\u001b[0;34m.\u001b[0m\u001b[0mcollect_and_get_context\u001b[0m\u001b[0;34m(\u001b[0m\u001b[0;34m)\u001b[0m\u001b[0;34m\u001b[0m\u001b[0;34m\u001b[0m\u001b[0m\n\u001b[0m\u001b[1;32m      7\u001b[0m             \u001b[0mratio\u001b[0m \u001b[0;34m=\u001b[0m \u001b[0mctx\u001b[0m\u001b[0;34m.\u001b[0m\u001b[0mget\u001b[0m\u001b[0;34m(\u001b[0m\u001b[0;34m'context_stats_collected_sampled_ratio'\u001b[0m\u001b[0;34m,\u001b[0m \u001b[0;32mNone\u001b[0m\u001b[0;34m)\u001b[0m\u001b[0;34m\u001b[0m\u001b[0;34m\u001b[0m\u001b[0m\n\u001b[1;32m      8\u001b[0m             \u001b[0;32mif\u001b[0m \u001b[0mratio\u001b[0m\u001b[0;34m:\u001b[0m\u001b[0;34m\u001b[0m\u001b[0;34m\u001b[0m\u001b[0m\n",
      "\u001b[0;32m~/causality-disentanglement/sparse_causal_model_learner_rl/learners/rl_learner.py\u001b[0m in \u001b[0;36mcollect_and_get_context\u001b[0;34m(self)\u001b[0m\n\u001b[1;32m     78\u001b[0m         \u001b[0mpre_context_sample\u001b[0m \u001b[0;34m=\u001b[0m \u001b[0mpre_context\u001b[0m\u001b[0;34m\u001b[0m\u001b[0;34m\u001b[0m\u001b[0m\n\u001b[1;32m     79\u001b[0m         \u001b[0mpre_context_sample\u001b[0m \u001b[0;34m=\u001b[0m \u001b[0mself\u001b[0m\u001b[0;34m.\u001b[0m\u001b[0mcontext_add_scalars\u001b[0m\u001b[0;34m(\u001b[0m\u001b[0mpre_context_sample\u001b[0m\u001b[0;34m)\u001b[0m\u001b[0;34m\u001b[0m\u001b[0;34m\u001b[0m\u001b[0m\n\u001b[0;32m---> 80\u001b[0;31m         \u001b[0;32mreturn\u001b[0m \u001b[0mself\u001b[0m\u001b[0;34m.\u001b[0m\u001b[0mwrap_context\u001b[0m\u001b[0;34m(\u001b[0m\u001b[0mpre_context_sample\u001b[0m\u001b[0;34m)\u001b[0m\u001b[0;34m\u001b[0m\u001b[0;34m\u001b[0m\u001b[0m\n\u001b[0m\u001b[1;32m     81\u001b[0m \u001b[0;34m\u001b[0m\u001b[0m\n\u001b[1;32m     82\u001b[0m     \u001b[0;34m@\u001b[0m\u001b[0mproperty\u001b[0m\u001b[0;34m\u001b[0m\u001b[0;34m\u001b[0m\u001b[0m\n",
      "\u001b[0;32m~/causality-disentanglement/sparse_causal_model_learner_rl/learners/abstract_learner.py\u001b[0m in \u001b[0;36mwrap_context\u001b[0;34m(self, context)\u001b[0m\n\u001b[1;32m    270\u001b[0m             \u001b[0;32mreturn\u001b[0m \u001b[0mx\u001b[0m\u001b[0;34m\u001b[0m\u001b[0;34m\u001b[0m\u001b[0m\n\u001b[1;32m    271\u001b[0m \u001b[0;34m\u001b[0m\u001b[0m\n\u001b[0;32m--> 272\u001b[0;31m         \u001b[0mcontext\u001b[0m \u001b[0;34m=\u001b[0m \u001b[0;34m{\u001b[0m\u001b[0mx\u001b[0m\u001b[0;34m:\u001b[0m \u001b[0mpossible_to_torch\u001b[0m\u001b[0;34m(\u001b[0m\u001b[0my\u001b[0m\u001b[0;34m,\u001b[0m \u001b[0mname\u001b[0m\u001b[0;34m=\u001b[0m\u001b[0mx\u001b[0m\u001b[0;34m)\u001b[0m \u001b[0;32mfor\u001b[0m \u001b[0mx\u001b[0m\u001b[0;34m,\u001b[0m \u001b[0my\u001b[0m \u001b[0;32min\u001b[0m \u001b[0mcontext\u001b[0m\u001b[0;34m.\u001b[0m\u001b[0mitems\u001b[0m\u001b[0;34m(\u001b[0m\u001b[0;34m)\u001b[0m\u001b[0;34m}\u001b[0m\u001b[0;34m\u001b[0m\u001b[0;34m\u001b[0m\u001b[0m\n\u001b[0m\u001b[1;32m    273\u001b[0m         \u001b[0mself\u001b[0m\u001b[0;34m.\u001b[0m\u001b[0m_context_cache\u001b[0m \u001b[0;34m=\u001b[0m \u001b[0mcontext\u001b[0m\u001b[0;34m\u001b[0m\u001b[0;34m\u001b[0m\u001b[0m\n\u001b[1;32m    274\u001b[0m \u001b[0;34m\u001b[0m\u001b[0m\n",
      "\u001b[0;32m~/causality-disentanglement/sparse_causal_model_learner_rl/learners/abstract_learner.py\u001b[0m in \u001b[0;36m<dictcomp>\u001b[0;34m(.0)\u001b[0m\n\u001b[1;32m    270\u001b[0m             \u001b[0;32mreturn\u001b[0m \u001b[0mx\u001b[0m\u001b[0;34m\u001b[0m\u001b[0;34m\u001b[0m\u001b[0m\n\u001b[1;32m    271\u001b[0m \u001b[0;34m\u001b[0m\u001b[0m\n\u001b[0;32m--> 272\u001b[0;31m         \u001b[0mcontext\u001b[0m \u001b[0;34m=\u001b[0m \u001b[0;34m{\u001b[0m\u001b[0mx\u001b[0m\u001b[0;34m:\u001b[0m \u001b[0mpossible_to_torch\u001b[0m\u001b[0;34m(\u001b[0m\u001b[0my\u001b[0m\u001b[0;34m,\u001b[0m \u001b[0mname\u001b[0m\u001b[0;34m=\u001b[0m\u001b[0mx\u001b[0m\u001b[0;34m)\u001b[0m \u001b[0;32mfor\u001b[0m \u001b[0mx\u001b[0m\u001b[0;34m,\u001b[0m \u001b[0my\u001b[0m \u001b[0;32min\u001b[0m \u001b[0mcontext\u001b[0m\u001b[0;34m.\u001b[0m\u001b[0mitems\u001b[0m\u001b[0;34m(\u001b[0m\u001b[0;34m)\u001b[0m\u001b[0;34m}\u001b[0m\u001b[0;34m\u001b[0m\u001b[0;34m\u001b[0m\u001b[0m\n\u001b[0m\u001b[1;32m    273\u001b[0m         \u001b[0mself\u001b[0m\u001b[0;34m.\u001b[0m\u001b[0m_context_cache\u001b[0m \u001b[0;34m=\u001b[0m \u001b[0mcontext\u001b[0m\u001b[0;34m\u001b[0m\u001b[0;34m\u001b[0m\u001b[0m\n\u001b[1;32m    274\u001b[0m \u001b[0;34m\u001b[0m\u001b[0m\n",
      "\u001b[0;32m~/causality-disentanglement/sparse_causal_model_learner_rl/learners/abstract_learner.py\u001b[0m in \u001b[0;36mpossible_to_torch\u001b[0;34m(x, name)\u001b[0m\n\u001b[1;32m    261\u001b[0m             \u001b[0;32mtry\u001b[0m\u001b[0;34m:\u001b[0m\u001b[0;34m\u001b[0m\u001b[0;34m\u001b[0m\u001b[0m\n\u001b[1;32m    262\u001b[0m                 \u001b[0;32mif\u001b[0m \u001b[0misinstance\u001b[0m\u001b[0;34m(\u001b[0m\u001b[0mx\u001b[0m\u001b[0;34m,\u001b[0m \u001b[0mlist\u001b[0m\u001b[0;34m)\u001b[0m \u001b[0;32mor\u001b[0m \u001b[0misinstance\u001b[0m\u001b[0;34m(\u001b[0m\u001b[0mx\u001b[0m\u001b[0;34m,\u001b[0m \u001b[0mnp\u001b[0m\u001b[0;34m.\u001b[0m\u001b[0mndarray\u001b[0m\u001b[0;34m)\u001b[0m\u001b[0;34m:\u001b[0m\u001b[0;34m\u001b[0m\u001b[0;34m\u001b[0m\u001b[0m\n\u001b[0;32m--> 263\u001b[0;31m                     \u001b[0mx\u001b[0m \u001b[0;34m=\u001b[0m \u001b[0mnp\u001b[0m\u001b[0;34m.\u001b[0m\u001b[0marray\u001b[0m\u001b[0;34m(\u001b[0m\u001b[0mx\u001b[0m\u001b[0;34m,\u001b[0m \u001b[0mdtype\u001b[0m\u001b[0;34m=\u001b[0m\u001b[0mnp\u001b[0m\u001b[0;34m.\u001b[0m\u001b[0mfloat32\u001b[0m\u001b[0;34m)\u001b[0m\u001b[0;34m\u001b[0m\u001b[0;34m\u001b[0m\u001b[0m\n\u001b[0m\u001b[1;32m    264\u001b[0m                     \u001b[0;32mif\u001b[0m \u001b[0mlen\u001b[0m\u001b[0;34m(\u001b[0m\u001b[0mx\u001b[0m\u001b[0;34m.\u001b[0m\u001b[0mshape\u001b[0m\u001b[0;34m)\u001b[0m \u001b[0;34m==\u001b[0m \u001b[0;36m1\u001b[0m\u001b[0;34m:\u001b[0m\u001b[0;34m\u001b[0m\u001b[0;34m\u001b[0m\u001b[0m\n\u001b[1;32m    265\u001b[0m                         \u001b[0mx\u001b[0m \u001b[0;34m=\u001b[0m \u001b[0mx\u001b[0m\u001b[0;34m.\u001b[0m\u001b[0mreshape\u001b[0m\u001b[0;34m(\u001b[0m\u001b[0;34m-\u001b[0m\u001b[0;36m1\u001b[0m\u001b[0;34m,\u001b[0m \u001b[0;36m1\u001b[0m\u001b[0;34m)\u001b[0m\u001b[0;34m\u001b[0m\u001b[0;34m\u001b[0m\u001b[0m\n",
      "\u001b[0;31mKeyboardInterrupt\u001b[0m: "
     ]
    },
    {
     "data": {
      "application/javascript": [
       "$(document).ready(\n",
       "    function() {\n",
       "        function appendUniqueDiv(){\n",
       "            // append a div with our uuid so we can check that it's already\n",
       "            // been sent and avoid duplicates on page reload\n",
       "            var notifiedDiv = document.createElement(\"div\")\n",
       "            notifiedDiv.id = \"d1707376-9419-4a56-b642-03872b885e48\"\n",
       "            element.append(notifiedDiv)\n",
       "        }\n",
       "\n",
       "        // only send notifications if the pageload is complete; this will\n",
       "        // help stop extra notifications when a saved notebook is loaded,\n",
       "        // which during testing gives us state \"interactive\", not \"complete\"\n",
       "        if (document.readyState === 'complete') {\n",
       "            // check for the div that signifies that the notification\n",
       "            // was already sent\n",
       "            if (document.getElementById(\"d1707376-9419-4a56-b642-03872b885e48\") === null) {\n",
       "                var notificationPayload = {\"requireInteraction\": false, \"icon\": \"/static/base/images/favicon.ico\", \"body\": \"Cell Execution Has Finished!!\", \"autonotify_after\": \"30\", \"autonotify_output\": false};\n",
       "                if (Notification.permission !== 'denied') {\n",
       "                    if (Notification.permission !== 'granted') { \n",
       "                        Notification.requestPermission(function (permission) {\n",
       "                            if(!('permission' in Notification)) {\n",
       "                                Notification.permission = permission\n",
       "                            }\n",
       "                        })\n",
       "                    }\n",
       "                    if (Notification.permission === 'granted') {\n",
       "                    var notification = new Notification(\"Jupyter Notebook\", notificationPayload)\n",
       "                    appendUniqueDiv()\n",
       "                    notification.onclick = function () {\n",
       "                        window.focus();\n",
       "                        this.close();\n",
       "                        };\n",
       "                    } \n",
       "                }     \n",
       "            }\n",
       "        }\n",
       "    }\n",
       ")\n"
      ],
      "text/plain": [
       "<IPython.core.display.Javascript object>"
      ]
     },
     "metadata": {},
     "output_type": "display_data"
    }
   ],
   "source": [
    "epochs = 500000\n",
    "with tqdm(total=epochs) as pbar:\n",
    "    for i in range(epochs):\n",
    "        if i % 1 == 0 or not ctx_set:\n",
    "            ctx_set = True\n",
    "            ctx = learner.collect_and_get_context()\n",
    "            ratio = ctx.get('context_stats_collected_sampled_ratio', None)\n",
    "            if ratio:\n",
    "                ratios.append(ratio)\n",
    "            elif ratios:\n",
    "                ratios.append(ratios[-1])\n",
    "#             pbar.update(1)\n",
    "#             continue\n",
    "\n",
    "        ctx['non_sparse_model_add'] = use_model\n",
    "                \n",
    "#         def get_loss_obj(loss_type):\n",
    "#             l_obj_fit = context_rewriter(function=feature_causal_gan, rewrite={'model': 'non_sparse_model_add'},\n",
    "#                                          **ctx,\n",
    "#                                          loss_type=loss_type,\n",
    "#                                          add_mse_coeff=1.0)\n",
    "#             return l_obj_fit\n",
    "        \n",
    "        \n",
    "#         l_obj_disc = get_loss_obj('discriminator')\n",
    "#         l_obj_gen = get_loss_obj('generator')\n",
    "#         l_obj_dec = get_loss_obj('only_contrastive')\n",
    "\n",
    "#         stage = (i // 50) % 3\n",
    "#         if stage == 0:\n",
    "#             # contrastive loss training\n",
    "#             loss = l_obj_dec['loss']\n",
    "            \n",
    "#             opt_dec.zero_grad()\n",
    "#             loss.backward()\n",
    "#             opt_dec.step()\n",
    "#         elif stage == 2:\n",
    "#             # discriminator training\n",
    "            \n",
    "#             loss = l_obj_disc['loss']\n",
    "            \n",
    "#             opt_disc.zero_grad()\n",
    "#             loss.backward()\n",
    "#             opt_disc.step()\n",
    "#         elif stage == 1:\n",
    "#             # generator training\n",
    "#             loss = l_obj_gen['loss']\n",
    "            \n",
    "#             opt_gen.zero_grad()\n",
    "#             loss.backward()\n",
    "#             opt_gen.step()\n",
    "\n",
    "        l_obj = context_rewriter(function=info_nce, rewrite={'model': 'non_sparse_model_add'}, **ctx)\n",
    "        l_obj_fit = context_rewriter(function=fit_loss, rewrite={'model': 'non_sparse_model_add'}, **ctx)\n",
    "        \n",
    "        loss = l_obj['loss'] + l_obj_fit['loss']\n",
    "    \n",
    "#         losses_gen.append(l_obj_gen['loss'].item())\n",
    "#         losses_disc.append(l_obj_disc['loss'].item())\n",
    "#         losses_dec.append(l_obj_dec['loss'].item())\n",
    "        losses_dec.append(l_obj['loss'].item())\n",
    "#         losses_gen.append(l_obj['metrics']['loss_model'])\n",
    "    \n",
    "        opt_dec.zero_grad()\n",
    "        loss.backward()\n",
    "        opt_dec.step()\n",
    "    \n",
    "        m = {}\n",
    "#         m.update(l_obj_disc['metrics'])\n",
    "        m['mse_model_pred'] = l_obj_fit['loss'].item()\n",
    "        metrics.append(m)\n",
    "        pbar.update(1)\n",
    "        stage = 0\n",
    "        pbar.set_postfix(loss_gen=0, loss_disc=0, stage=stage, loss_dec=losses_dec[-1],\n",
    "                         mse=l_obj_fit['loss'].item())#metrics[-1]['mse_model_pred'])"
   ]
  },
  {
   "cell_type": "code",
   "execution_count": 116,
   "id": "documentary-wheat",
   "metadata": {},
   "outputs": [
    {
     "name": "stderr",
     "output_type": "stream",
     "text": [
      "WARNING:matplotlib.legend:No handles with labels found to put in legend.\n",
      "/home/sergei/miniconda3/envs/causal/lib/python3.7/site-packages/ipykernel_launcher.py:14: DeprecationWarning: The default dtype for empty Series will be 'object' instead of 'float64' in a future version. Specify a dtype explicitly to silence this warning.\n",
      "  \n",
      "/home/sergei/miniconda3/envs/causal/lib/python3.7/site-packages/ipykernel_launcher.py:19: DeprecationWarning: The default dtype for empty Series will be 'object' instead of 'float64' in a future version. Specify a dtype explicitly to silence this warning.\n"
     ]
    },
    {
     "data": {
      "image/png": "[encoded data removed]",
      "text/plain": [
       "<Figure size 1296x216 with 5 Axes>"
      ]
     },
     "metadata": {
      "needs_background": "light"
     },
     "output_type": "display_data"
    }
   ],
   "source": [
    "metrics_dct = lstdct2dctlst(metrics)\n",
    "\n",
    "# gan\n",
    "plt.figure(figsize=(18, 3))\n",
    "plt.subplot(1, 5, 1)\n",
    "# losses = np.array(losses_gen) + losses_disc\n",
    "# plt.plot(losses, label='tot')\n",
    "# plt.plot(pd.Series(losses).rolling(50).median(), label='tot')\n",
    "plt.legend()\n",
    "plt.yscale('log')\n",
    "\n",
    "plt.subplot(1, 5, 2)\n",
    "plt.plot(losses_gen, label='gen')\n",
    "plt.plot(pd.Series(losses_gen).rolling(50).median(), label='gen')\n",
    "plt.legend()\n",
    "plt.yscale('log')\n",
    "plt.subplot(1, 5, 3)\n",
    "plt.plot(losses_disc, label='disc')\n",
    "plt.plot(pd.Series(losses_disc).rolling(50).median(), label='disc')\n",
    "\n",
    "plt.legend()\n",
    "#plt.plot(dplus, label='dplus')\n",
    "plt.yscale('log')\n",
    "\n",
    "plt.subplot(1, 5, 4)\n",
    "plt.plot(losses_dec, label='dec')\n",
    "plt.plot(pd.Series(losses_dec).rolling(50).median(), label='dec')\n",
    "\n",
    "plt.legend()\n",
    "#plt.plot(dplus, label='dplus')\n",
    "plt.yscale('log')\n",
    "\n",
    "plt.subplot(1, 5, 5)\n",
    "plt.plot(metrics_dct['mse_model_pred'], label='mse')\n",
    "plt.plot(pd.Series(metrics_dct['mse_model_pred']).rolling(50).median(), label='mse')\n",
    "\n",
    "plt.legend()\n",
    "#plt.plot(dplus, label='dplus')\n",
    "plt.yscale('log')"
   ]
  },
  {
   "cell_type": "code",
   "execution_count": 117,
   "id": "theoretical-creature",
   "metadata": {},
   "outputs": [
    {
     "data": {
      "text/plain": [
       "Text(0, 0.5, 'fit loss')"
      ]
     },
     "execution_count": 117,
     "metadata": {},
     "output_type": "execute_result"
    },
    {
     "data": {
      "image/png": "[encoded data removed]",
      "text/plain": [
       "<Figure size 432x288 with 1 Axes>"
      ]
     },
     "metadata": {
      "needs_background": "light"
     },
     "output_type": "display_data"
    }
   ],
   "source": [
    "plt.scatter(losses_gen, losses_disc, alpha=0.05)\n",
    "plt.xscale('log')\n",
    "plt.yscale('log')\n",
    "plt.xlabel('emb loss')\n",
    "plt.ylabel('fit loss')"
   ]
  },
  {
   "cell_type": "code",
   "execution_count": 118,
   "id": "clean-recording",
   "metadata": {},
   "outputs": [
    {
     "data": {
      "application/javascript": [
       "var jq = document.createElement('script');\n",
       "jq.src = \"https://ajax.googleapis.com/ajax/libs/jquery/2.1.4/jquery.min.js\";\n",
       "document.getElementsByTagName('head')[0].appendChild(jq);\n"
      ],
      "text/plain": [
       "<IPython.core.display.Javascript object>"
      ]
     },
     "metadata": {},
     "output_type": "display_data"
    }
   ],
   "source": [
    "%%javascript\n",
    "var jq = document.createElement('script');\n",
    "jq.src = \"https://ajax.googleapis.com/ajax/libs/jquery/2.1.4/jquery.min.js\";\n",
    "document.getElementsByTagName('head')[0].appendChild(jq);"
   ]
  },
  {
   "cell_type": "code",
   "execution_count": 119,
   "id": "chicken-beauty",
   "metadata": {},
   "outputs": [
    {
     "name": "stdout",
     "output_type": "stream",
     "text": [
      "The jupyternotify extension is already loaded. To reload it, use:\n",
      "  %reload_ext jupyternotify\n"
     ]
    }
   ],
   "source": [
    "%load_ext jupyternotify\n",
    "%autonotify -a 30"
   ]
  },
  {
   "cell_type": "code",
   "execution_count": 120,
   "id": "eligible-mediterranean",
   "metadata": {},
   "outputs": [],
   "source": [
    "f_t1 = learner.decoder(ctx['obs_y'])#.detach()\n",
    "f_t = learner.decoder(ctx['obs_x'])#.detach()\n",
    "\n",
    "#         f_t1 = normalize(f_t1, mins, maxes)\n",
    "#         f_t = normalize(f_t, mins, maxes)\n",
    "\n",
    "add_features_y = torch.cat([ctx[k] for k in ctx['additional_feature_keys']], dim=1)\n",
    "# f_t1 = torch.zeros_like(f_t1)\n",
    "f_t1 = torch.cat([f_t1, add_features_y], dim=1)\n",
    "\n",
    "f_t1_pred = use_model(\n",
    "f_t,\n",
    "ctx['action_x'],\n",
    "all=True)\n"
   ]
  },
  {
   "cell_type": "code",
   "execution_count": 121,
   "id": "oriented-tyler",
   "metadata": {},
   "outputs": [
    {
     "data": {
      "text/plain": [
       "<AxesSubplot:>"
      ]
     },
     "execution_count": 121,
     "metadata": {},
     "output_type": "execute_result"
    },
    {
     "data": {
      "image/png": "[encoded data removed]",
      "text/plain": [
       "<Figure size 432x288 with 2 Axes>"
      ]
     },
     "metadata": {
      "needs_background": "light"
     },
     "output_type": "display_data"
    }
   ],
   "source": [
    "sns.heatmap((f_t1_pred - f_t1).pow(2).mean(0).cpu().detach().numpy().reshape(-1, 1), vmin=0)"
   ]
  },
  {
   "cell_type": "code",
   "execution_count": 122,
   "id": "blocked-object",
   "metadata": {},
   "outputs": [
    {
     "data": {
      "image/png": "[encoded data removed]",
      "text/plain": [
       "<Figure size 432x288 with 1 Axes>"
      ]
     },
     "metadata": {
      "needs_background": "light"
     },
     "output_type": "display_data"
    }
   ],
   "source": [
    "metrics_dct['ratios'] = ratios\n",
    "for key, vals in metrics_dct.items():\n",
    "    if len(np.array(vals).shape) > 1: continue\n",
    "    plt.plot(vals, label=key)\n",
    "plt.ylim((-8, 8))\n",
    "plt.legend()\n",
    "plt.show()"
   ]
  },
  {
   "cell_type": "code",
   "execution_count": 123,
   "id": "ongoing-collar",
   "metadata": {},
   "outputs": [
    {
     "name": "stderr",
     "output_type": "stream",
     "text": [
      "WARNING:matplotlib.legend:No handles with labels found to put in legend.\n"
     ]
    },
    {
     "data": {
      "image/png": "[encoded data removed]",
      "text/plain": [
       "<Figure size 432x288 with 1 Axes>"
      ]
     },
     "metadata": {
      "needs_background": "light"
     },
     "output_type": "display_data"
    }
   ],
   "source": [
    "for key, vals in metrics_dct.items():\n",
    "    if 'loss' not in key: continue\n",
    "    if len(np.array(vals).shape) > 1: continue\n",
    "    plt.plot(vals, label=key, alpha=0.5)\n",
    "plt.yscale('log')\n",
    "plt.legend()\n",
    "plt.show()"
   ]
  },
  {
   "cell_type": "code",
   "execution_count": 124,
   "id": "pointed-substitute",
   "metadata": {},
   "outputs": [
    {
     "ename": "KeyError",
     "evalue": "'loss_model'",
     "output_type": "error",
     "traceback": [
      "\u001b[0;31m---------------------------------------------------------------------------\u001b[0m",
      "\u001b[0;31mKeyError\u001b[0m                                  Traceback (most recent call last)",
      "\u001b[0;32m<ipython-input-124-c2f1b63d646f>\u001b[0m in \u001b[0;36m<module>\u001b[0;34m\u001b[0m\n\u001b[0;32m----> 1\u001b[0;31m \u001b[0mplt\u001b[0m\u001b[0;34m.\u001b[0m\u001b[0mplot\u001b[0m\u001b[0;34m(\u001b[0m\u001b[0mmetrics_dct\u001b[0m\u001b[0;34m[\u001b[0m\u001b[0;34m'loss_model'\u001b[0m\u001b[0;34m]\u001b[0m\u001b[0;34m)\u001b[0m\u001b[0;34m\u001b[0m\u001b[0;34m\u001b[0m\u001b[0m\n\u001b[0m\u001b[1;32m      2\u001b[0m \u001b[0mplt\u001b[0m\u001b[0;34m.\u001b[0m\u001b[0myscale\u001b[0m\u001b[0;34m(\u001b[0m\u001b[0;34m'log'\u001b[0m\u001b[0;34m)\u001b[0m\u001b[0;34m\u001b[0m\u001b[0;34m\u001b[0m\u001b[0m\n",
      "\u001b[0;31mKeyError\u001b[0m: 'loss_model'"
     ]
    }
   ],
   "source": [
    "plt.plot(metrics_dct['loss_model'])\n",
    "plt.yscale('log')"
   ]
  },
  {
   "cell_type": "code",
   "execution_count": null,
   "id": "rocky-opposition",
   "metadata": {},
   "outputs": [],
   "source": [
    "learner.decoder(ctx['obs_x']).min()"
   ]
  },
  {
   "cell_type": "code",
   "execution_count": null,
   "id": "transparent-toolbox",
   "metadata": {},
   "outputs": [],
   "source": []
  },
  {
   "cell_type": "code",
   "execution_count": 125,
   "id": "excessive-invitation",
   "metadata": {},
   "outputs": [
    {
     "data": {
      "text/plain": [
       "<AxesSubplot:>"
      ]
     },
     "execution_count": 125,
     "metadata": {},
     "output_type": "execute_result"
    },
    {
     "data": {
      "image/png": "[encoded data removed]",
      "text/plain": [
       "<Figure size 432x288 with 2 Axes>"
      ]
     },
     "metadata": {
      "needs_background": "light"
     },
     "output_type": "display_data"
    }
   ],
   "source": [
    "sns.heatmap(np.log(((f_t1_pred - f_t1).pow(2).mean(0) / f_t1.std(0).pow(2)).cpu().detach().numpy().reshape(-1, 1)))"
   ]
  },
  {
   "cell_type": "code",
   "execution_count": 126,
   "id": "accurate-shock",
   "metadata": {},
   "outputs": [
    {
     "data": {
      "text/plain": [
       "<AxesSubplot:>"
      ]
     },
     "execution_count": 126,
     "metadata": {},
     "output_type": "execute_result"
    },
    {
     "data": {
      "image/png": "[encoded data removed]",
      "text/plain": [
       "<Figure size 432x288 with 2 Axes>"
      ]
     },
     "metadata": {
      "needs_background": "light"
     },
     "output_type": "display_data"
    }
   ],
   "source": [
    "sns.heatmap(np.log(f_t1.std(0).pow(2).cpu().detach().numpy().reshape(-1, 1)))"
   ]
  },
  {
   "cell_type": "code",
   "execution_count": null,
   "id": "developmental-velvet",
   "metadata": {},
   "outputs": [],
   "source": []
  },
  {
   "cell_type": "code",
   "execution_count": null,
   "id": "sunset-responsibility",
   "metadata": {},
   "outputs": [],
   "source": []
  }
 ],
 "metadata": {
  "kernelspec": {
   "display_name": "Python 3",
   "language": "python",
   "name": "python3"
  },
  "language_info": {
   "codemirror_mode": {
    "name": "ipython",
    "version": 3
   },
   "file_extension": ".py",
   "mimetype": "text/x-python",
   "name": "python",
   "nbconvert_exporter": "python",
   "pygments_lexer": "ipython3",
   "version": "3.7.9"
  }
 },
 "nbformat": 4,
 "nbformat_minor": 5
}
