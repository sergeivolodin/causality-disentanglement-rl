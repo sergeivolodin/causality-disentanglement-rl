{
 "cells": [
  {
   "cell_type": "code",
   "execution_count": 1372,
   "id": "8c8b0e9e",
   "metadata": {},
   "outputs": [],
   "source": [
    "import torch\n",
    "from torch import nn\n",
    "import numpy as np\n",
    "from scipy.special import expit\n",
    "from matplotlib import pyplot as plt\n",
    "from tqdm.auto import tqdm"
   ]
  },
  {
   "cell_type": "code",
   "execution_count": 1373,
   "id": "acc6252e",
   "metadata": {},
   "outputs": [],
   "source": [
    "# 1. p low but should be higher\n",
    "#  p must be > 0.1 to allow for exploration\n",
    "#  the model learns to rely on existing features (because this one is not given w.h.p.)\n",
    "#  p > 0.1 is fine (page 36 of the thesis)\n",
    "# 2. p high but could be lower\n",
    "#  here the regularizer works\n",
    "#  and the gradient is almost 0\n",
    "# trying straight-through estimator..."
   ]
  },
  {
   "cell_type": "code",
   "execution_count": 1435,
   "id": "ddcc3355",
   "metadata": {},
   "outputs": [],
   "source": [
    "def get_data(bs=1000):\n",
    "    data_x = np.random.randn(bs, 5) ** 2\n",
    "    data_y = expit((np.sin(data_x[:, 0]))) #+ np.log(np.abs(data_x[:, 4]) ** 0.5))\n",
    "#     data_y = data_x[:, 0] + data_x[:, 4]\n",
    "    return torch.from_numpy(data_x).to(torch.float32), torch.from_numpy(data_y).to(torch.float32)"
   ]
  },
  {
   "cell_type": "code",
   "execution_count": 1436,
   "id": "cfb677da",
   "metadata": {},
   "outputs": [],
   "source": [
    "data_x, data_y = get_data()"
   ]
  },
  {
   "cell_type": "code",
   "execution_count": 1437,
   "id": "42ea3706",
   "metadata": {},
   "outputs": [
    {
     "data": {
      "text/plain": [
       "<matplotlib.collections.PathCollection at 0x7fcea9a21cd0>"
      ]
     },
     "execution_count": 1437,
     "metadata": {},
     "output_type": "execute_result"
    },
    {
     "data": {
      "image/png": "[encoded data removed]",
      "text/plain": [
       "<Figure size 432x288 with 1 Axes>"
      ]
     },
     "metadata": {
      "needs_background": "light"
     },
     "output_type": "display_data"
    }
   ],
   "source": [
    "plt.scatter(data_x[:, 0], data_y)"
   ]
  },
  {
   "cell_type": "code",
   "execution_count": 1438,
   "id": "9b05cd5f",
   "metadata": {},
   "outputs": [],
   "source": [
    "p = 0.5"
   ]
  },
  {
   "cell_type": "code",
   "execution_count": 1439,
   "id": "3569a7a7",
   "metadata": {},
   "outputs": [],
   "source": [
    "\n",
    "init_val = torch.from_numpy(np.random.randn(5, 2))"
   ]
  },
  {
   "cell_type": "code",
   "execution_count": 1440,
   "id": "397614e5",
   "metadata": {},
   "outputs": [],
   "source": [
    "z = init_val.repeat(10, 1)[:, 0].view(10, 5)"
   ]
  },
  {
   "cell_type": "code",
   "execution_count": 1441,
   "id": "9b8e49b8",
   "metadata": {},
   "outputs": [
    {
     "data": {
      "text/plain": [
       "tensor([[4.0458, 1.6992, 0.2144, 0.8325, 0.2643],\n",
       "        [4.0458, 1.6992, 0.2144, 0.8325, 0.2643],\n",
       "        [4.0458, 1.6992, 0.2144, 0.8325, 0.2643],\n",
       "        [4.0458, 1.6992, 0.2144, 0.8325, 0.2643],\n",
       "        [4.0458, 1.6992, 0.2144, 0.8325, 0.2643],\n",
       "        [4.0458, 1.6992, 0.2144, 0.8325, 0.2643],\n",
       "        [4.0458, 1.6992, 0.2144, 0.8325, 0.2643],\n",
       "        [4.0458, 1.6992, 0.2144, 0.8325, 0.2643],\n",
       "        [4.0458, 1.6992, 0.2144, 0.8325, 0.2643],\n",
       "        [4.0458, 1.6992, 0.2144, 0.8325, 0.2643]], dtype=torch.float64)"
      ]
     },
     "execution_count": 1441,
     "metadata": {},
     "output_type": "execute_result"
    }
   ],
   "source": [
    "z * z"
   ]
  },
  {
   "cell_type": "code",
   "execution_count": 1442,
   "id": "22002b67",
   "metadata": {},
   "outputs": [],
   "source": [
    "class Switch(nn.Module):\n",
    "    def __init__(self):\n",
    "        super(Switch, self).__init__()\n",
    "        p = p_init = 0.1\n",
    "        init_val = np.array([np.log(p), np.log(1 - p)], dtype=np.float32)\n",
    "        init_val = torch.from_numpy(np.stack([init_val] * 5))\n",
    "        self.log_probs = nn.Parameter(torch.tensor(init_val, requires_grad=True))\n",
    "        \n",
    "    def forward(self, x):\n",
    "        bs = x.shape[0]\n",
    "        sm = torch.nn.functional.gumbel_softmax(self.log_probs.repeat(bs, 1),\n",
    "                                                tau=5.0, hard=True, eps=1e-10, dim=-1)[:, 0].view(bs, 5)\n",
    "        return x * sm"
   ]
  },
  {
   "cell_type": "code",
   "execution_count": 1443,
   "id": "653cb16f",
   "metadata": {},
   "outputs": [
    {
     "data": {
      "text/plain": [
       "\u001b[0;31mDocstring:\u001b[0m\n",
       "mean(dim=None, keepdim=False) -> Tensor or (Tensor, Tensor)\n",
       "\n",
       "See :func:`torch.mean`\n",
       "\u001b[0;31mType:\u001b[0m      builtin_function_or_method\n"
      ]
     },
     "metadata": {},
     "output_type": "display_data"
    }
   ],
   "source": [
    "?init_val.mean"
   ]
  },
  {
   "cell_type": "code",
   "execution_count": 1444,
   "id": "6d9cd6d8",
   "metadata": {},
   "outputs": [],
   "source": [
    "class StraightSwitch(nn.Module):\n",
    "    def __init__(self):\n",
    "        super(StraightSwitch, self).__init__()\n",
    "        p = p_init = 0.1\n",
    "        init_val = np.array([p] * 5, dtype=np.float32)\n",
    "        self.p = nn.Parameter(torch.tensor(init_val, requires_grad=True))\n",
    "        \n",
    "    def forward(self, x):\n",
    "        bs = x.shape[0]\n",
    "        p_clamped = torch.clamp(self.p, min=0.01, max=1)\n",
    "        self.p.data = torch.tensor(p_clamped, requires_grad=True)\n",
    "\n",
    "        prep = self.p.repeat(bs).view(bs, 5)\n",
    "        sampled = torch.bernoulli(prep)\n",
    "        \n",
    "        x_mean = x.median(0, keepdim=True).values.repeat(x.shape[0], 1).detach()\n",
    "        \n",
    "        hard = x.detach() * sampled #+ (x_mean * (1 - sampled))\n",
    "        soft = x * prep\n",
    "        \n",
    "        return hard + soft - soft.detach()"
   ]
  },
  {
   "cell_type": "code",
   "execution_count": 1445,
   "id": "fb0e44f1",
   "metadata": {},
   "outputs": [],
   "source": [
    "class NoiseSwitch(nn.Module):\n",
    "    def __init__(self):\n",
    "        super(NoiseSwitch, self).__init__()\n",
    "        s_init = 1.0\n",
    "        init_val = np.array([s_init] * 5, dtype=np.float32)\n",
    "        self.sigmas = nn.Parameter(torch.tensor(init_val, requires_grad=True))\n",
    "        \n",
    "    def forward(self, x):\n",
    "        bs = x.shape[0]\n",
    "#         p_clamped = torch.clamp(self.p, min=0.01, max=1)\n",
    "#         self.p.data = torch.tensor(p_clamped, requires_grad=True)\n",
    "\n",
    "        prep = self.sigmas.repeat(bs).view(bs, 5)\n",
    "#         sampled = torch.bernoulli(prep)\n",
    "        noise = torch.normal(torch.zeros_like(x), torch.ones_like(x)) * prep\n",
    "        \n",
    "#         x_mean = x.median(0, keepdim=True).values.repeat(x.shape[0], 1).detach()\n",
    "        \n",
    "#         hard = x.detach() * sampled #+ (x_mean * (1 - sampled))\n",
    "#         soft = x * prep\n",
    "        \n",
    "#         return hard + soft - soft.detach()\n",
    "        return x + noise * torch.std(x, axis=0, keepdim=True).repeat(x.shape[0], 1) / 2."
   ]
  },
  {
   "cell_type": "code",
   "execution_count": 1446,
   "id": "6925af77",
   "metadata": {},
   "outputs": [
    {
     "data": {
      "text/plain": [
       "tensor([-0.5141,  0.7505], dtype=torch.float64)"
      ]
     },
     "execution_count": 1446,
     "metadata": {},
     "output_type": "execute_result"
    }
   ],
   "source": [
    "init_val.median(0).values"
   ]
  },
  {
   "cell_type": "code",
   "execution_count": 1447,
   "id": "455d5389",
   "metadata": {},
   "outputs": [],
   "source": [
    "#StraightSwitch()(torch.ones(3, 5))"
   ]
  },
  {
   "cell_type": "code",
   "execution_count": 1448,
   "id": "2c69fb27",
   "metadata": {},
   "outputs": [
    {
     "data": {
      "text/plain": [
       "tensor([[1., 1., 1., 1., 1.],\n",
       "        [1., 1., 1., 1., 1.],\n",
       "        [1., 1., 1., 1., 1.]], grad_fn=<AddBackward0>)"
      ]
     },
     "execution_count": 1448,
     "metadata": {},
     "output_type": "execute_result"
    }
   ],
   "source": [
    "NoiseSwitch()(torch.ones(3, 5))"
   ]
  },
  {
   "cell_type": "code",
   "execution_count": null,
   "id": "e86ffd70",
   "metadata": {},
   "outputs": [],
   "source": []
  },
  {
   "cell_type": "code",
   "execution_count": 1449,
   "id": "60a6b441",
   "metadata": {},
   "outputs": [],
   "source": [
    "class Model(nn.Module):\n",
    "    def __init__(self):\n",
    "        super(Model, self).__init__()\n",
    "        self.fc1 = nn.Linear(5, 10)\n",
    "        self.fc2 = nn.Linear(10, 10)\n",
    "        self.fc3 = nn.Linear(10, 1)\n",
    "        self.act = torch.sin\n",
    "    def forward(self, x):\n",
    "        x = self.fc1(x)\n",
    "        x = self.act(x)\n",
    "        x = self.fc2(x)\n",
    "        x = self.fc3(x)\n",
    "        x = (self.act(x) + 1) / 2\n",
    "        return x[:, 0]"
   ]
  },
  {
   "cell_type": "code",
   "execution_count": 1450,
   "id": "4ee40ead",
   "metadata": {},
   "outputs": [],
   "source": [
    "class Seq(nn.Module):\n",
    "    def __init__(self, *args):\n",
    "        super(Seq, self).__init__()\n",
    "        self._models = args\n",
    "        for i, m in enumerate(args):\n",
    "            setattr(self, 'model' + str(i), m)\n",
    "    def forward(self, x):\n",
    "        for m in self._models:\n",
    "            x = m(x)\n",
    "        return x"
   ]
  },
  {
   "cell_type": "code",
   "execution_count": 1451,
   "id": "908323fd",
   "metadata": {},
   "outputs": [],
   "source": [
    "mm = Model()\n",
    "# sw = StraightSwitch()\n",
    "# sw = Switch()\n",
    "sw = NoiseSwitch()"
   ]
  },
  {
   "cell_type": "code",
   "execution_count": 1452,
   "id": "b810e89f",
   "metadata": {},
   "outputs": [],
   "source": [
    "data_x, data_y = get_data()"
   ]
  },
  {
   "cell_type": "code",
   "execution_count": 1453,
   "id": "6a8bac58",
   "metadata": {},
   "outputs": [],
   "source": [
    "losses = []\n",
    "ps = []\n",
    "ps1 = []"
   ]
  },
  {
   "cell_type": "code",
   "execution_count": 1454,
   "id": "dc07da33",
   "metadata": {},
   "outputs": [],
   "source": [
    "m = Seq(sw, mm)\n",
    "# m = mm\n",
    "opt = torch.optim.Adam(m.parameters(), lr=1e-4)"
   ]
  },
  {
   "cell_type": "code",
   "execution_count": 1455,
   "id": "e4b4d209",
   "metadata": {},
   "outputs": [
    {
     "data": {
      "application/vnd.jupyter.widget-view+json": {
       "model_id": "e765c66715a64dd0ae5be0de6ed222bb",
       "version_major": 2,
       "version_minor": 0
      },
      "text/plain": [
       "HBox(children=(HTML(value=''), FloatProgress(value=0.0, max=30000.0), HTML(value='')))"
      ]
     },
     "metadata": {},
     "output_type": "display_data"
    },
    {
     "name": "stdout",
     "output_type": "stream",
     "text": [
      "\n"
     ]
    }
   ],
   "source": [
    "for i in tqdm(range(30000)):\n",
    "    if i % 1 == 0:\n",
    "        data_x, data_y = get_data(bs=128)\n",
    "    opt.zero_grad()\n",
    "    delta = m(data_x) - data_y\n",
    "    loss = delta.pow(2).mean() + torch.pow(1 - sw.sigmas, 2).mean() * 1e-4\n",
    "    loss.backward()\n",
    "    losses.append(loss.item())\n",
    "    opt.step()\n",
    "    if hasattr(sw, 'p'):\n",
    "        ps.append(sw.p[0].item())\n",
    "    elif hasattr(sw, 'log_probs'):\n",
    "        ps.append(np.exp(sw.log_probs[0, 0].item()) / (np.exp(sw.log_probs[0, 0].item()) + np.exp(sw.log_probs[0, 1].item())))\n",
    "    else:\n",
    "        ps.append(sw.sigmas[0].item())\n",
    "        ps1.append(sw.sigmas[1].item())"
   ]
  },
  {
   "cell_type": "code",
   "execution_count": 1456,
   "id": "9162ba3a",
   "metadata": {},
   "outputs": [
    {
     "data": {
      "text/plain": [
       "<matplotlib.lines.Line2D at 0x7fcebe337590>"
      ]
     },
     "execution_count": 1456,
     "metadata": {},
     "output_type": "execute_result"
    },
    {
     "data": {
      "image/png": "[encoded data removed]",
      "text/plain": [
       "<Figure size 432x288 with 1 Axes>"
      ]
     },
     "metadata": {
      "needs_background": "light"
     },
     "output_type": "display_data"
    }
   ],
   "source": [
    "plt.plot(ps)\n",
    "plt.plot(ps1)\n",
    "plt.axhline(0)"
   ]
  },
  {
   "cell_type": "code",
   "execution_count": 1457,
   "id": "cb46f12f",
   "metadata": {},
   "outputs": [
    {
     "data": {
      "image/png": "[encoded data removed]",
      "text/plain": [
       "<Figure size 432x288 with 1 Axes>"
      ]
     },
     "metadata": {
      "needs_background": "light"
     },
     "output_type": "display_data"
    }
   ],
   "source": [
    "plt.plot(losses)\n",
    "plt.yscale('log')"
   ]
  },
  {
   "cell_type": "code",
   "execution_count": 1458,
   "id": "122d14d0",
   "metadata": {},
   "outputs": [
    {
     "data": {
      "text/plain": [
       "Parameter containing:\n",
       "tensor([0.0011, 0.9999, 1.0000, 1.0000, 1.0000], requires_grad=True)"
      ]
     },
     "execution_count": 1458,
     "metadata": {},
     "output_type": "execute_result"
    }
   ],
   "source": [
    "sw.sigmas"
   ]
  },
  {
   "cell_type": "code",
   "execution_count": 1404,
   "id": "6a3cb031",
   "metadata": {},
   "outputs": [
    {
     "data": {
      "text/plain": [
       "tensor([ 0.0038,  0.0056,  0.0479, -0.0701,  0.0111], grad_fn=<MeanBackward1>)"
      ]
     },
     "execution_count": 1404,
     "metadata": {},
     "output_type": "execute_result"
    }
   ],
   "source": [
    "sw(torch.randn(1000, 5)).mean(0)"
   ]
  },
  {
   "cell_type": "code",
   "execution_count": 669,
   "id": "0cd02446",
   "metadata": {},
   "outputs": [],
   "source": [
    "\n",
    "def grad_from_lp(tau=0.5, p=0):\n",
    "    \n",
    "    logits = torch.tensor(np.array([np.log(p), np.log(1 - p)], dtype=np.float32), requires_grad=True)\n",
    "    out = torch.nn.functional.gumbel_softmax(logits, tau=2.0, hard=False, eps=1e-10, dim=-1)\n",
    "    out[0].backward()\n",
    "#     print(logits.grad, torch.sum(logits.grad))\n",
    "    return logits.grad[0].item()\n",
    "\n",
    "\n",
    "def grad_from_p(tau=0.5, p=0.5):\n",
    "    p = torch.tensor(np.array([p], dtype=np.float32), requires_grad=True)\n",
    "    \n",
    "    # this is how it's defined in the Gumbel-Softmax paper\n",
    "    logit = torch.log(p)#\n",
    "    logit2 = torch.log(1 - p)#/ (1. - p))\n",
    "    logits = torch.cat([logit, logit2])\n",
    "    \n",
    "    # THIS IS NOT LOGITS -- it's unnormalized log-probabilities\n",
    "    # they would not sum to 0...\n",
    "    out = torch.nn.functional.gumbel_softmax(logits, tau=2, hard=False, eps=1e-10, dim=-1)\n",
    "#     print(out?)\n",
    "    out[0].backward()\n",
    "    return p.grad[0]"
   ]
  },
  {
   "cell_type": "code",
   "execution_count": 670,
   "id": "af74dfe3",
   "metadata": {},
   "outputs": [
    {
     "data": {
      "text/plain": [
       "tensor(872.3837)"
      ]
     },
     "execution_count": 670,
     "metadata": {},
     "output_type": "execute_result"
    }
   ],
   "source": [
    "grad_from_p(p=0.000001)"
   ]
  },
  {
   "cell_type": "code",
   "execution_count": 671,
   "id": "5ea5b738",
   "metadata": {},
   "outputs": [
    {
     "data": {
      "text/plain": [
       "0.10249076783657074"
      ]
     },
     "execution_count": 671,
     "metadata": {},
     "output_type": "execute_result"
    }
   ],
   "source": [
    "grad_from_lp(p=0.5001)"
   ]
  },
  {
   "cell_type": "code",
   "execution_count": 672,
   "id": "f40e649a",
   "metadata": {},
   "outputs": [],
   "source": [
    "data = np.linspace(0, 1, 100)"
   ]
  },
  {
   "cell_type": "code",
   "execution_count": 673,
   "id": "afa72a15",
   "metadata": {},
   "outputs": [
    {
     "data": {
      "application/vnd.jupyter.widget-view+json": {
       "model_id": "01c5e5690824492fb43cfe475c717fc3",
       "version_major": 2,
       "version_minor": 0
      },
      "text/plain": [
       "HBox(children=(HTML(value=''), FloatProgress(value=0.0), HTML(value='')))"
      ]
     },
     "metadata": {},
     "output_type": "display_data"
    },
    {
     "name": "stderr",
     "output_type": "stream",
     "text": [
      "/Users/sergia/miniconda3/envs/causal/lib/python3.7/site-packages/ipykernel_launcher.py:3: RuntimeWarning: divide by zero encountered in log\n",
      "  This is separate from the ipykernel package so we can avoid doing imports until\n"
     ]
    },
    {
     "name": "stdout",
     "output_type": "stream",
     "text": [
      "\n"
     ]
    },
    {
     "data": {
      "text/plain": [
       "<matplotlib.collections.PolyCollection at 0x7fcebb410550>"
      ]
     },
     "execution_count": 673,
     "metadata": {},
     "output_type": "execute_result"
    },
    {
     "data": {
      "image/png": "[encoded data removed]",
      "text/plain": [
       "<Figure size 432x288 with 1 Axes>"
      ]
     },
     "metadata": {
      "needs_background": "light"
     },
     "output_type": "display_data"
    }
   ],
   "source": [
    "res = [[grad_from_lp(p=d) for _ in range(500)] for d in tqdm(data)]\n",
    "\n",
    "means = np.mean(res, axis=1)\n",
    "stds = np.std(res, axis=1)\n",
    "plt.plot(data, means)\n",
    "plt.fill_between(data, means - stds, means + stds, alpha=0.5)"
   ]
  },
  {
   "cell_type": "code",
   "execution_count": 305,
   "id": "35b1961c",
   "metadata": {},
   "outputs": [
    {
     "data": {
      "application/vnd.jupyter.widget-view+json": {
       "model_id": "a72e394587bf4f56b15920d4b9e0c4b2",
       "version_major": 2,
       "version_minor": 0
      },
      "text/plain": [
       "HBox(children=(HTML(value=''), FloatProgress(value=0.0), HTML(value='')))"
      ]
     },
     "metadata": {},
     "output_type": "display_data"
    },
    {
     "name": "stdout",
     "output_type": "stream",
     "text": [
      "\n"
     ]
    },
    {
     "data": {
      "text/plain": [
       "<matplotlib.collections.PolyCollection at 0x7fce9865add0>"
      ]
     },
     "execution_count": 305,
     "metadata": {},
     "output_type": "execute_result"
    },
    {
     "data": {
      "image/png": "[encoded data removed]",
      "text/plain": [
       "<Figure size 432x288 with 1 Axes>"
      ]
     },
     "metadata": {
      "needs_background": "light"
     },
     "output_type": "display_data"
    }
   ],
   "source": [
    "res = [[grad_from_p(p=d) for _ in range(500)] for d in tqdm(data)]\n",
    "\n",
    "means = np.mean(res, axis=1)\n",
    "stds = np.std(res, axis=1)\n",
    "plt.plot(data, means)\n",
    "plt.fill_between(data, means - stds, means + stds, alpha=0.5)"
   ]
  },
  {
   "cell_type": "code",
   "execution_count": 320,
   "id": "6b27e80e",
   "metadata": {},
   "outputs": [
    {
     "data": {
      "application/vnd.jupyter.widget-view+json": {
       "model_id": "86eb1c0956fb4ebaa4057db2afed0304",
       "version_major": 2,
       "version_minor": 0
      },
      "text/plain": [
       "HBox(children=(HTML(value=''), FloatProgress(value=0.0), HTML(value='')))"
      ]
     },
     "metadata": {},
     "output_type": "display_data"
    },
    {
     "name": "stdout",
     "output_type": "stream",
     "text": [
      "\n"
     ]
    },
    {
     "data": {
      "image/png": "[encoded data removed]",
      "text/plain": [
       "<Figure size 432x288 with 1 Axes>"
      ]
     },
     "metadata": {
      "needs_background": "light"
     },
     "output_type": "display_data"
    }
   ],
   "source": [
    "data = np.logspace(-5, np.log10(0.5), 100)\n",
    "\n",
    "res = [[grad_from_p(p=d) for _ in range(500)] for d in tqdm(data)]\n",
    "\n",
    "means = np.mean(res, axis=1)\n",
    "stds = np.std(res, axis=1)\n",
    "plt.plot(data, means)\n",
    "plt.fill_between(data, means - stds, means + stds, alpha=0.5)\n",
    "plt.xscale('log')"
   ]
  },
  {
   "cell_type": "code",
   "execution_count": 317,
   "id": "66857ad5",
   "metadata": {},
   "outputs": [
    {
     "data": {
      "text/plain": [
       "array([1.00000000e-05, 1.11548656e-05, 1.24431027e-05, 1.38801139e-05,\n",
       "       1.54830806e-05, 1.72711683e-05, 1.92657562e-05, 2.14906922e-05,\n",
       "       2.39725784e-05, 2.67410891e-05, 2.98293256e-05, 3.32742119e-05,\n",
       "       3.71169363e-05, 4.14034437e-05, 4.61849852e-05, 5.15187304e-05,\n",
       "       5.74684516e-05, 6.41052856e-05, 7.15085847e-05, 7.97668654e-05,\n",
       "       8.89788666e-05, 9.92547302e-05, 1.10717318e-04, 1.23503680e-04,\n",
       "       1.37766696e-04, 1.53676898e-04, 1.71424515e-04, 1.91221744e-04,\n",
       "       2.13305286e-04, 2.37939180e-04, 2.65417958e-04, 2.96070166e-04,\n",
       "       3.30262293e-04, 3.68403150e-04, 4.10948764e-04, 4.58407824e-04,\n",
       "       5.11347769e-04, 5.70401565e-04, 6.36275282e-04, 7.09756528e-04,\n",
       "       7.91723870e-04, 8.83157340e-04, 9.85150146e-04, 1.09892175e-03,\n",
       "       1.22583245e-03, 1.36739963e-03, 1.52531591e-03, 1.70146940e-03,\n",
       "       1.89796626e-03, 2.11715586e-03, 2.36165891e-03, 2.63439878e-03,\n",
       "       2.93863645e-03, 3.27800947e-03, 3.65657552e-03, 4.07886087e-03,\n",
       "       4.54991449e-03, 5.07536848e-03, 5.66150535e-03, 6.31533314e-03,\n",
       "       7.04466927e-03, 7.85823391e-03, 8.76575434e-03, 9.77808119e-03,\n",
       "       1.09073182e-02, 1.21669669e-02, 1.35720881e-02, 1.51394819e-02,\n",
       "       1.68878886e-02, 1.88382129e-02, 2.10137733e-02, 2.34405818e-02,\n",
       "       2.61476541e-02, 2.91673568e-02, 3.25357946e-02, 3.62932417e-02,\n",
       "       4.04846235e-02, 4.51600535e-02, 5.03754329e-02, 5.61931185e-02,\n",
       "       6.26826687e-02, 6.99216747e-02, 7.79966887e-02, 8.70042582e-02,\n",
       "       9.70520810e-02, 1.08260292e-01, 1.20762902e-01, 1.34709394e-01,\n",
       "       1.50266519e-01, 1.67620283e-01, 1.86978173e-01, 2.08571640e-01,\n",
       "       2.32658862e-01, 2.59527835e-01, 2.89499813e-01, 3.22933151e-01,\n",
       "       3.60227591e-01, 4.01829038e-01, 4.48234893e-01, 5.00000000e-01])"
      ]
     },
     "execution_count": 317,
     "metadata": {},
     "output_type": "execute_result"
    }
   ],
   "source": [
    "data"
   ]
  },
  {
   "cell_type": "code",
   "execution_count": null,
   "id": "a25fb724",
   "metadata": {},
   "outputs": [],
   "source": []
  }
 ],
 "metadata": {
  "kernelspec": {
   "display_name": "Python 3 (ipykernel)",
   "language": "python",
   "name": "python3"
  },
  "language_info": {
   "codemirror_mode": {
    "name": "ipython",
    "version": 3
   },
   "file_extension": ".py",
   "mimetype": "text/x-python",
   "name": "python",
   "nbconvert_exporter": "python",
   "pygments_lexer": "ipython3",
   "version": "3.7.11"
  }
 },
 "nbformat": 4,
 "nbformat_minor": 5
}
