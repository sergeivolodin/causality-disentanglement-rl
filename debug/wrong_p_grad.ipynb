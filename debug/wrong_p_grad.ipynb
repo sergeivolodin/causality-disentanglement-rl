{
 "cells": [
  {
   "cell_type": "code",
   "execution_count": 2,
   "id": "fluid-option",
   "metadata": {},
   "outputs": [],
   "source": [
    "from sparse_causal_model_learner_rl.config import Config\n",
    "from sparse_causal_model_learner_rl.sacred_gin_tune.sacred_wrapper import load_config_files\n",
    "%matplotlib inline\n",
    "import vectorincrement\n",
    "import os\n",
    "import matplotlib as mpl\n",
    "from matplotlib import pyplot as plt\n",
    "import gin\n",
    "import pickle"
   ]
  },
  {
   "cell_type": "code",
   "execution_count": 3,
   "id": "seasonal-gilbert",
   "metadata": {},
   "outputs": [],
   "source": [
    "ckpt = '/home/sergei/ray_results/rl_const_sparsity_obs_space_env_sm5_linear_with_lagrange_dual_sparsity/main_fcn_f42f2_00000_0_2021-03-23_23-20-20/checkpoint_40000/checkpoint'"
   ]
  },
  {
   "cell_type": "code",
   "execution_count": 48,
   "id": "egyptian-fifteen",
   "metadata": {},
   "outputs": [
    {
     "name": "stderr",
     "output_type": "stream",
     "text": [
      "2021-03-24 09:15:25,076\tWARNING session.py:20 -- Session not detected. You should not be calling this function outside `tune.run` or while using the class API. \n"
     ]
    },
    {
     "name": "stdout",
     "output_type": "stream",
     "text": [
      "Selecting name 15deb3ce-8c79-11eb-81af-90e2baa15164\n",
      "Make environment SparseMatrix-v0 [<class 'encoder.observation_encoder.LinearMatrixEncoder'>] {}\n",
      "\u001b[2m\u001b[36m(pid=1563)\u001b[0m Make environment SparseMatrix-v0 [<class 'encoder.observation_encoder.LinearMatrixEncoder'>] {}\n"
     ]
    },
    {
     "data": {
      "application/vnd.jupyter.widget-view+json": {
       "model_id": "16a13750a5d64f43a390b5f769c1468a",
       "version_major": 2,
       "version_minor": 0
      },
      "text/plain": [
       "HBox(children=(HTML(value='Initial buffer fill'), FloatProgress(value=0.0, max=100000.0), HTML(value='')))"
      ]
     },
     "metadata": {},
     "output_type": "display_data"
    },
    {
     "name": "stdout",
     "output_type": "stream",
     "text": [
      "\u001b[2m\u001b[36m(pid=1554)\u001b[0m Make environment SparseMatrix-v0 [<class 'encoder.observation_encoder.LinearMatrixEncoder'>] {}\n",
      "\u001b[2m\u001b[36m(pid=1608)\u001b[0m Make environment SparseMatrix-v0 [<class 'encoder.observation_encoder.LinearMatrixEncoder'>] {}\n"
     ]
    },
    {
     "name": "stderr",
     "output_type": "stream",
     "text": [
      "WARNING:root:Computed std for done_y: 0.09999100118875504 0.2999880015850067\n",
      "WARNING:root:Computed std for obs: [-0.00085188 -0.00168339 -0.00218306 -0.00187199  0.001053  ] [2.0735235 3.356737  2.8162243 1.8236074 3.5898364]\n",
      "WARNING:root:Computed std for rew_y: 0.0 1.0\n",
      "WARNING:root:Computed std for reward_to_go: 0.0 1.0\n"
     ]
    },
    {
     "name": "stdout",
     "output_type": "stream",
     "text": [
      "\n"
     ]
    },
    {
     "data": {
      "application/vnd.jupyter.widget-view+json": {
       "model_id": "755e5e90c1564155b89ecdbf3df0a247",
       "version_major": 2,
       "version_minor": 0
      },
      "text/plain": [
       "HBox(children=(HTML(value='Initial buffer fill'), FloatProgress(value=0.0, max=100000.0), HTML(value='')))"
      ]
     },
     "metadata": {},
     "output_type": "display_data"
    },
    {
     "name": "stderr",
     "output_type": "stream",
     "text": [
      "ERROR:root:Cannot collect data Use collect_and_get_context\n",
      "WARNING:root:No class provided for trainable reconstructor1\n",
      "WARNING:root:No class provided for trainable value_predictor\n",
      "WARNING:root:No class provided for trainable causal_feature_model_discriminator\n",
      "WARNING:root:No class provided for trainable decoder_discriminator\n",
      "WARNING:root:No class provided for trainable non_sparse_model\n",
      "WARNING:root:No class provided for trainable causal_feature_action_model_discriminator\n",
      "WARNING:root:Warning: loss primal is used more than once\n"
     ]
    },
    {
     "name": "stdout",
     "output_type": "stream",
     "text": [
      "\n",
      "[False]\n",
      "[12, 1] 5\n",
      "[False]\n",
      "[5, 1] 5\n",
      "[False]\n",
      "[5, 1] 5\n"
     ]
    }
   ],
   "source": [
    "l=pickle.load(open(ckpt, 'rb'))"
   ]
  },
  {
   "cell_type": "code",
   "execution_count": 51,
   "id": "fleet-appeal",
   "metadata": {},
   "outputs": [],
   "source": [
    "initd = l.lagrange_multipliers.initialized\n",
    "initd[:] = [True] * len(initd)"
   ]
  },
  {
   "cell_type": "code",
   "execution_count": 52,
   "id": "brave-roulette",
   "metadata": {},
   "outputs": [],
   "source": [
    "from sparse_causal_model_learner_rl.loss.losses import lagrangian_granular, manual_switch_gradient, fit_loss_obs_space, sparsity_loss"
   ]
  },
  {
   "cell_type": "code",
   "execution_count": 53,
   "id": "collectible-modem",
   "metadata": {},
   "outputs": [],
   "source": [
    "ctx = l.collect_and_get_context()"
   ]
  },
  {
   "cell_type": "code",
   "execution_count": 54,
   "id": "willing-petroleum",
   "metadata": {},
   "outputs": [
    {
     "data": {
      "text/plain": [
       "<function sparse_causal_model_learner_rl.loss.losses.fit_loss_obs_space(obs_x, obs_y, action_x, decoder, model, additional_feature_keys, reconstructor, model_forward_kwargs=None, fill_switch_grad=False, opt_label=None, add_fcons=True, obs_relative=False, rot_pre=None, rot_post=None, divide_by_std=False, detach_features=False, detach_rotation=False, loss_coeff=1.0, cross_std=True, loss_local_cache=None, **kwargs)>"
      ]
     },
     "execution_count": 54,
     "metadata": {},
     "output_type": "execute_result"
    }
   ],
   "source": [
    "fit_loss_obs_space"
   ]
  },
  {
   "cell_type": "code",
   "execution_count": 55,
   "id": "super-chest",
   "metadata": {},
   "outputs": [
    {
     "data": {
      "text/plain": [
       "{'loss': tensor(0.1903, device='cuda:0', grad_fn=<MeanBackward1>),\n",
       " 'losses': {'additional': 0.0,\n",
       "  'obs': tensor(0.1903, device='cuda:0', grad_fn=<MeanBackward0>),\n",
       "  'feat': tensor(0.0196, device='cuda:0', grad_fn=<MeanBackward0>),\n",
       "  'feat_model': tensor(0.0677, device='cuda:0', grad_fn=<MeanBackward0>),\n",
       "  'additional_orig': 0.0,\n",
       "  'obs_orig': tensor(0.0976, device='cuda:0', grad_fn=<MeanBackward0>),\n",
       "  'feat_orig': tensor(0.0196, device='cuda:0', grad_fn=<MeanBackward0>),\n",
       "  'feat_model_orig': tensor(0.0669, device='cuda:0', grad_fn=<MeanBackward0>)},\n",
       " 'metrics': {'mean_feature': array([ 0.06138425, -0.05739325,  0.16163892, -0.01324799,  0.01835594],\n",
       "        dtype=float32),\n",
       "  'std_feature': array([ 0.23151161, 16.281256  ,  5.6831784 ,  7.5402365 ,  3.0724635 ],\n",
       "        dtype=float32),\n",
       "  'min_feature': -54.590538024902344,\n",
       "  'max_feature': 63.085838317871094,\n",
       "  'loss_fcons': 0.019639939069747925,\n",
       "  'loss_add': 0.0,\n",
       "  'loss_rec': 0.09756901860237122,\n",
       "  'loss_fcons_pre': 0.06688852608203888,\n",
       "  'rec_fit_acc_loss_01_agg': 1.0465999245643616,\n",
       "  'loss_discrete': tensor(0.0062, device='cuda:0', grad_fn=<AddBackward0>)}}"
      ]
     },
     "execution_count": 55,
     "metadata": {},
     "output_type": "execute_result"
    }
   ],
   "source": [
    "lobj = fit_loss_obs_space(**ctx, fill_switch_grad=True, detach_features=True, detach_rotation=True, cross_std=False)\n",
    "lobj"
   ]
  },
  {
   "cell_type": "code",
   "execution_count": 56,
   "id": "proof-small",
   "metadata": {},
   "outputs": [
    {
     "data": {
      "text/plain": [
       "<matplotlib.image.AxesImage at 0x7faedbea2190>"
      ]
     },
     "execution_count": 56,
     "metadata": {},
     "output_type": "execute_result"
    },
    {
     "data": {
      "image/png": "[encoded data removed]",
      "text/plain": [
       "<Figure size 432x288 with 1 Axes>"
      ]
     },
     "metadata": {
      "needs_background": "light"
     },
     "output_type": "display_data"
    }
   ],
   "source": [
    "plt.imshow(l.graph[0])"
   ]
  },
  {
   "cell_type": "code",
   "execution_count": 57,
   "id": "korean-section",
   "metadata": {},
   "outputs": [],
   "source": [
    "lobj['loss'].backward()"
   ]
  },
  {
   "cell_type": "code",
   "execution_count": 128,
   "id": "surface-instrumentation",
   "metadata": {},
   "outputs": [
    {
     "data": {
      "text/plain": [
       "tensor([[  74.7702, -436.4554,  -12.9022,  -86.3075,   59.9908],\n",
       "        [ -82.6938,    3.2597,  -80.1583,   98.9247, -136.3776],\n",
       "        [ 108.3747,  109.2570,  -66.3407, -610.4317,   81.6529],\n",
       "        [  39.4544,  -57.9812, -479.1976,  -78.0007,  112.0384],\n",
       "        [ -20.4986,    8.1719,   75.7183,    6.3246,  117.2446],\n",
       "        [  -4.2899,  135.3990,  -38.9700,  -36.2628,    5.2023]],\n",
       "       device='cuda:0')"
      ]
     },
     "execution_count": 128,
     "metadata": {},
     "output_type": "execute_result"
    }
   ],
   "source": [
    "l.model.model.switch.probas.grad"
   ]
  },
  {
   "cell_type": "code",
   "execution_count": 129,
   "id": "apart-institute",
   "metadata": {},
   "outputs": [
    {
     "data": {
      "text/plain": [
       "[None, None, None, None]"
      ]
     },
     "execution_count": 129,
     "metadata": {},
     "output_type": "execute_result"
    }
   ],
   "source": [
    "[opt.zero_grad() for opt in l.optimizer_objects.values()]"
   ]
  },
  {
   "cell_type": "code",
   "execution_count": 130,
   "id": "guided-dividend",
   "metadata": {},
   "outputs": [
    {
     "data": {
      "text/plain": [
       "{'loss': tensor(-1026.4417, device='cuda:0', grad_fn=<AddBackward0>),\n",
       " 'metrics': {'fit': {'value': 0.17505010962486267,\n",
       "   'coeff': 1.0,\n",
       "   'mean_feature': array([ 0.06138425, -0.05739325,  0.16163892, -0.01324799,  0.01835594],\n",
       "         dtype=float32),\n",
       "   'std_feature': array([ 0.23151161, 16.281256  ,  5.6831784 ,  7.5402365 ,  3.0724635 ],\n",
       "         dtype=float32),\n",
       "   'min_feature': -54.590538024902344,\n",
       "   'max_feature': 63.085838317871094,\n",
       "   'loss_fcons': 0.01973091997206211,\n",
       "   'loss_add': 0.0,\n",
       "   'loss_rec': 0.09805087745189667,\n",
       "   'loss_fcons_pre': 0.06675326824188232,\n",
       "   'rec_fit_acc_loss_01_agg': 1.0519999265670776,\n",
       "   'loss_discrete': tensor(-0.0095, device='cuda:0', grad_fn=<AddBackward0>)},\n",
       "  'fit/additional': {'value': 0.0},\n",
       "  'fit/obs': {'value': 0.17505010962486267},\n",
       "  'fit/feat': {'value': 0.018690034747123718},\n",
       "  'fit/feat_model': {'value': 0.06691928207874298},\n",
       "  'fit/additional_orig': {'value': 0.0, 'coeff': 1.0},\n",
       "  'fit/obs_orig': {'value': 0.09805087745189667, 'coeff': 1.0},\n",
       "  'fit/feat_orig': {'value': 0.01973091997206211, 'coeff': 1.0},\n",
       "  'fit/feat_model_orig': {'value': 0.06675326824188232, 'coeff': 1.0},\n",
       "  'fit_all_half': {'value': -51.820152282714844,\n",
       "   'coeff': 0.02,\n",
       "   'mean_feature': array([ 0.06138425, -0.05739325,  0.16163892, -0.01324799,  0.01835594],\n",
       "         dtype=float32),\n",
       "   'std_feature': array([ 0.23151161, 16.281256  ,  5.6831784 ,  7.5402365 ,  3.0724635 ],\n",
       "         dtype=float32),\n",
       "   'min_feature': -54.590538024902344,\n",
       "   'max_feature': 63.085838317871094,\n",
       "   'loss_fcons': 1.1768120527267456,\n",
       "   'loss_add': 0.0,\n",
       "   'loss_rec': 5.017576217651367,\n",
       "   'loss_fcons_pre': 0.49229520559310913,\n",
       "   'rec_fit_acc_loss_01_agg': 1.2787999510765076,\n",
       "   'loss_discrete': tensor(-58.5068, device='cuda:0', grad_fn=<AddBackward0>)},\n",
       "  'fit_all_half/additional': {'value': 0.0},\n",
       "  'fit_all_half/obs': {'value': -51.820152282714844},\n",
       "  'fit_all_half/feat': {'value': -9.095602989196777},\n",
       "  'fit_all_half/feat_model': {'value': -3.8540148735046387},\n",
       "  'fit_all_half/additional_orig': {'value': 0.0, 'coeff': 0.02},\n",
       "  'fit_all_half/obs_orig': {'value': 5.017576217651367, 'coeff': 0.02},\n",
       "  'fit_all_half/feat_orig': {'value': 1.1768120527267456, 'coeff': 0.02},\n",
       "  'fit_all_half/feat_model_orig': {'value': 0.49229520559310913,\n",
       "   'coeff': 0.02},\n",
       "  'fit_all_on': {'value': 0.1756277084350586,\n",
       "   'coeff': 1.0,\n",
       "   'mean_feature': array([ 0.06138425, -0.05739325,  0.16163892, -0.01324799,  0.01835594],\n",
       "         dtype=float32),\n",
       "   'std_feature': array([ 0.23151161, 16.281256  ,  5.6831784 ,  7.5402365 ,  3.0724635 ],\n",
       "         dtype=float32),\n",
       "   'min_feature': -54.590538024902344,\n",
       "   'max_feature': 63.085838317871094,\n",
       "   'loss_fcons': 0.019548146054148674,\n",
       "   'loss_add': 0.0,\n",
       "   'loss_rec': 0.09544644504785538,\n",
       "   'loss_fcons_pre': 0.060633111745119095,\n",
       "   'rec_fit_acc_loss_01_agg': 1.0501999855041504,\n",
       "   'loss_discrete': 0.0},\n",
       "  'fit_all_on/additional': {'value': 0.0},\n",
       "  'fit_all_on/obs': {'value': 0.1756277084350586},\n",
       "  'fit_all_on/feat': {'value': 0.019548146054148674},\n",
       "  'fit_all_on/feat_model': {'value': 0.060633111745119095},\n",
       "  'fit_all_on/additional_orig': {'value': 0.0, 'coeff': 1.0},\n",
       "  'fit_all_on/obs_orig': {'value': 0.09544644504785538, 'coeff': 1.0},\n",
       "  'fit_all_on/feat_orig': {'value': 0.019548146054148674, 'coeff': 1.0},\n",
       "  'fit_all_on/feat_model_orig': {'value': 0.060633111745119095, 'coeff': 1.0},\n",
       "  'reconstruction': {'value': 0.0, 'coeff': 1.0},\n",
       "  'sparsity': {'sparsity_param_0_(6, 5)': tensor(5.7453, device='cuda:0', grad_fn=<DivBackward0>),\n",
       "   'value': 5.745309829711914},\n",
       "  'lagrange_multiplier_fit/additional': 4.539993096841499e-05,\n",
       "  'lagrange_multiplier_fit/feat': 1096.6331787109375,\n",
       "  'lagrange_multiplier_fit/feat_model': 1096.6331787109375,\n",
       "  'lagrange_multiplier_fit/obs': 1096.6331787109375,\n",
       "  'lagrange_multiplier_fit_all_on/additional': 4.539993096841499e-05,\n",
       "  'lagrange_multiplier_fit_all_on/feat': 1096.6331787109375,\n",
       "  'lagrange_multiplier_fit_all_on/feat_model': 1096.6331787109375,\n",
       "  'lagrange_multiplier_fit_all_on/obs': 1096.6331787109375,\n",
       "  'constraints_satisfied': 2,\n",
       "  'constraints_satisfied_frac': 0.25,\n",
       "  'constraint': -1032.18701171875,\n",
       "  'objective': 5.745309829711914,\n",
       "  'lagrangian': -1026.441650390625}}"
      ]
     },
     "execution_count": 130,
     "metadata": {},
     "output_type": "execute_result"
    }
   ],
   "source": [
    "lobj = lagrangian_granular(**ctx, mode='PRIMAL')\n",
    "lobj"
   ]
  },
  {
   "cell_type": "code",
   "execution_count": 131,
   "id": "preceding-habitat",
   "metadata": {},
   "outputs": [],
   "source": [
    "lobj['loss'].backward()"
   ]
  },
  {
   "cell_type": "code",
   "execution_count": 132,
   "id": "searching-honolulu",
   "metadata": {},
   "outputs": [
    {
     "data": {
      "text/plain": [
       "tensor([[ -68.1307, -253.8876,  -69.9844,  -96.0038,   40.4841],\n",
       "        [-124.6519,   -3.2031,   17.9399,  -49.7887, -232.5931],\n",
       "        [  19.7261,   37.9972,  -14.1073, -557.4277,  -19.9672],\n",
       "        [  -1.5351,  -25.2803, -418.3435,  -22.8634,  -56.4972],\n",
       "        [ -91.4349,    9.0122,  -51.9004,    3.0027,   -8.3925],\n",
       "        [ -44.4149,    4.6639,  -80.3570,   33.6051,  -11.9917]],\n",
       "       device='cuda:0')"
      ]
     },
     "execution_count": 132,
     "metadata": {},
     "output_type": "execute_result"
    }
   ],
   "source": [
    "l.model.model.switch.probas.grad"
   ]
  },
  {
   "cell_type": "code",
   "execution_count": null,
   "id": "concerned-detector",
   "metadata": {},
   "outputs": [],
   "source": []
  },
  {
   "cell_type": "code",
   "execution_count": null,
   "id": "exotic-funds",
   "metadata": {},
   "outputs": [],
   "source": []
  },
  {
   "cell_type": "code",
   "execution_count": null,
   "id": "demographic-runner",
   "metadata": {},
   "outputs": [],
   "source": []
  }
 ],
 "metadata": {
  "kernelspec": {
   "display_name": "Python 3",
   "language": "python",
   "name": "python3"
  },
  "language_info": {
   "codemirror_mode": {
    "name": "ipython",
    "version": 3
   },
   "file_extension": ".py",
   "mimetype": "text/x-python",
   "name": "python",
   "nbconvert_exporter": "python",
   "pygments_lexer": "ipython3",
   "version": "3.7.10"
  }
 },
 "nbformat": 4,
 "nbformat_minor": 5
}
