{
 "cells": [
  {
   "cell_type": "code",
   "execution_count": 1,
   "id": "variable-weapon",
   "metadata": {},
   "outputs": [],
   "source": [
    "%load_ext autoreload\n",
    "%autoreload 2\n",
    "\n",
    "from sparse_causal_model_learner_rl.config import Config\n",
    "from sparse_causal_model_learner_rl.sacred_gin_tune.sacred_wrapper import load_config_files\n",
    "%matplotlib inline\n",
    "import vectorincrement\n",
    "import os\n",
    "import matplotlib as mpl\n",
    "from matplotlib import pyplot as plt\n",
    "import gin\n",
    "import pickle\n",
    "\n",
    "gin.enter_interactive_mode()"
   ]
  },
  {
   "cell_type": "code",
   "execution_count": 2,
   "id": "devoted-denver",
   "metadata": {},
   "outputs": [],
   "source": [
    "ckpt = '/home/sergei/ray_results/rl_const_sparsity_obs_space_env_sm5_with_lagrange_dual_sparsity/main_fcn_03c93_00000_0_2021-03-24_17-14-31/checkpoint_1000/checkpoint'"
   ]
  },
  {
   "cell_type": "code",
   "execution_count": 3,
   "id": "acute-cassette",
   "metadata": {},
   "outputs": [
    {
     "name": "stderr",
     "output_type": "stream",
     "text": [
      "WARNING:ray.tune.session:Session not detected. You should not be calling this function outside `tune.run` or while using the class API. \n"
     ]
    },
    {
     "name": "stdout",
     "output_type": "stream",
     "text": [
      "Selecting name 269ed176-8cbf-11eb-81af-90e2baa15164\n"
     ]
    },
    {
     "name": "stderr",
     "output_type": "stream",
     "text": [
      "2021-03-24 17:36:59,006\tINFO services.py:1092 -- View the Ray dashboard at \u001b[1m\u001b[32mhttp://127.0.0.1:8267\u001b[39m\u001b[22m\n"
     ]
    },
    {
     "name": "stdout",
     "output_type": "stream",
     "text": [
      "Make environment SparseMatrix-v0 None {}\n",
      "\u001b[2m\u001b[36m(pid=14884)\u001b[0m Make environment SparseMatrix-v0 None {}\n",
      "\u001b[2m\u001b[36m(pid=14881)\u001b[0m Make environment SparseMatrix-v0 None {}\n"
     ]
    },
    {
     "data": {
      "application/vnd.jupyter.widget-view+json": {
       "model_id": "56b96bba6b3f4d189e8b2b90123eef0a",
       "version_major": 2,
       "version_minor": 0
      },
      "text/plain": [
       "HBox(children=(HTML(value='Initial buffer fill'), FloatProgress(value=0.0, max=100000.0), HTML(value='')))"
      ]
     },
     "metadata": {},
     "output_type": "display_data"
    },
    {
     "name": "stdout",
     "output_type": "stream",
     "text": [
      "\u001b[2m\u001b[36m(pid=14960)\u001b[0m Make environment SparseMatrix-v0 None {}\n"
     ]
    },
    {
     "name": "stderr",
     "output_type": "stream",
     "text": [
      "WARNING:root:Computed std for done_y: 0.09999100118875504 0.2999880015850067\n",
      "WARNING:root:Computed std for obs: [-0.47816232 -0.10974008  0.12297387  0.4137273   0.04314379] [1.817589  1.4460896 1.4206195 1.9829444 1.5971013]\n",
      "WARNING:root:Computed std for rew_y: 0.0 1.0\n",
      "WARNING:root:Computed std for reward_to_go: 0.0 1.0\n"
     ]
    },
    {
     "name": "stdout",
     "output_type": "stream",
     "text": [
      "\n"
     ]
    },
    {
     "data": {
      "application/vnd.jupyter.widget-view+json": {
       "model_id": "572475a751704f09819b6674ed78a9d1",
       "version_major": 2,
       "version_minor": 0
      },
      "text/plain": [
       "HBox(children=(HTML(value='Initial buffer fill'), FloatProgress(value=0.0, max=100000.0), HTML(value='')))"
      ]
     },
     "metadata": {},
     "output_type": "display_data"
    },
    {
     "name": "stderr",
     "output_type": "stream",
     "text": [
      "ERROR:root:Cannot collect data Use collect_and_get_context\n",
      "WARNING:root:No class provided for trainable reconstructor1\n",
      "WARNING:root:No class provided for trainable value_predictor\n",
      "WARNING:root:No class provided for trainable causal_feature_model_discriminator\n",
      "WARNING:root:No class provided for trainable decoder_discriminator\n",
      "WARNING:root:No class provided for trainable non_sparse_model\n",
      "WARNING:root:No class provided for trainable causal_feature_action_model_discriminator\n",
      "WARNING:root:No class provided for trainable rot_pre\n",
      "WARNING:root:No class provided for trainable rot_post\n",
      "WARNING:root:Trainable given to optimizer, but not found: rot_pre\n",
      "WARNING:root:Trainable given to optimizer, but not found: rot_post\n",
      "WARNING:root:No parameters for optimizer opt1d <function Optimizer at 0x7f541960df80>\n",
      "WARNING:root:No parameters for optimizer opt1r <function Optimizer at 0x7f541964ecb0>\n",
      "WARNING:root:Warning: loss primal is used more than once\n"
     ]
    },
    {
     "name": "stdout",
     "output_type": "stream",
     "text": [
      "\n",
      "[False, False, False]\n",
      "[20, 128, 128, 1] 5\n",
      "LSD (OrderedDict([('tensor', tensor([0.0000, 5.3772, 5.3772, 5.5179, 0.0000, 5.0779, 5.0779, 3.9594, 0.0000,\n",
      "        2.7927, 2.7927, 3.0030, 0.0000], device='cuda:0')), ('initialized', [False, True, True, True, False, True, True, True, False, True, True, True, False])]),) {'strict': False}\n"
     ]
    }
   ],
   "source": [
    "l=pickle.load(open(ckpt, 'rb'))"
   ]
  },
  {
   "cell_type": "code",
   "execution_count": 13,
   "id": "continued-creature",
   "metadata": {},
   "outputs": [],
   "source": [
    "initd = l.lagrange_multipliers.initialized\n",
    "initd[:] = [True] * len(initd)"
   ]
  },
  {
   "cell_type": "code",
   "execution_count": 14,
   "id": "impossible-blowing",
   "metadata": {},
   "outputs": [],
   "source": [
    "from sparse_causal_model_learner_rl.loss.losses import lagrangian_granular, manual_switch_gradient, fit_loss_obs_space, sparsity_loss"
   ]
  },
  {
   "cell_type": "code",
   "execution_count": 15,
   "id": "focused-theory",
   "metadata": {},
   "outputs": [],
   "source": [
    "ctx = l.collect_and_get_context()"
   ]
  },
  {
   "cell_type": "code",
   "execution_count": 16,
   "id": "geographic-banking",
   "metadata": {},
   "outputs": [
    {
     "data": {
      "text/plain": [
       "<function sparse_causal_model_learner_rl.loss.losses.fit_loss_obs_space(obs_x, obs_y, action_x, decoder, model, additional_feature_keys, reconstructor, model_forward_kwargs=None, fill_switch_grad=False, opt_label=None, add_fcons=True, obs_relative=False, rot_pre=None, rot_post=None, divide_by_std=False, detach_features=False, detach_rotation=False, loss_coeff=1.0, cross_std=True, loss_local_cache=None, **kwargs)>"
      ]
     },
     "execution_count": 16,
     "metadata": {},
     "output_type": "execute_result"
    }
   ],
   "source": [
    "fit_loss_obs_space"
   ]
  },
  {
   "cell_type": "code",
   "execution_count": 17,
   "id": "higher-vocabulary",
   "metadata": {},
   "outputs": [
    {
     "data": {
      "text/plain": [
       "{'loss': tensor(-14.4611, device='cuda:0', grad_fn=<MeanBackward1>),\n",
       " 'losses': {'additional': 0.0,\n",
       "  'obs': tensor(-14.4611, device='cuda:0', grad_fn=<MeanBackward0>),\n",
       "  'feat': tensor(-4.7009, device='cuda:0', grad_fn=<MeanBackward0>),\n",
       "  'feat_model': tensor(-4.7009, device='cuda:0', grad_fn=<MeanBackward0>),\n",
       "  'additional_orig': 0.0,\n",
       "  'obs_orig': tensor(0.0911, device='cuda:0', grad_fn=<MeanBackward0>),\n",
       "  'feat_orig': tensor(0.0852, device='cuda:0', grad_fn=<MeanBackward0>),\n",
       "  'feat_model_orig': tensor(0.0852, device='cuda:0', grad_fn=<MeanBackward0>)},\n",
       " 'metrics': {'mean_feature': array([-0.02494491, -0.00137483,  0.01484528,  0.06890202, -0.02085501],\n",
       "        dtype=float32),\n",
       "  'std_feature': array([0.9817697, 0.958856 , 1.0137252, 0.9807892, 0.9322602],\n",
       "        dtype=float32),\n",
       "  'min_feature': -3.516925811767578,\n",
       "  'max_feature': 3.926459789276123,\n",
       "  'loss_fcons': 0.08522416651248932,\n",
       "  'loss_add': 0.0,\n",
       "  'loss_rec': 0.09114525467157364,\n",
       "  'loss_fcons_pre': 0.08522416651248932,\n",
       "  'rec_fit_acc_loss_01_agg': 1.0175999402999878,\n",
       "  'loss_discrete': -14.722737312316895,\n",
       "  'loss_orig': 0.2615928649902344}}"
      ]
     },
     "execution_count": 17,
     "metadata": {},
     "output_type": "execute_result"
    }
   ],
   "source": [
    "lobj = fit_loss_obs_space(**ctx, fill_switch_grad=True, detach_features=True, detach_rotation=True, cross_std=False)\n",
    "lobj"
   ]
  },
  {
   "cell_type": "code",
   "execution_count": 18,
   "id": "conceptual-pastor",
   "metadata": {},
   "outputs": [
    {
     "data": {
      "text/plain": [
       "<matplotlib.image.AxesImage at 0x7f42e0694e10>"
      ]
     },
     "execution_count": 18,
     "metadata": {},
     "output_type": "execute_result"
    },
    {
     "data": {
      "image/png": "[encoded data removed]",
      "text/plain": [
       "<Figure size 432x288 with 1 Axes>"
      ]
     },
     "metadata": {
      "needs_background": "light"
     },
     "output_type": "display_data"
    }
   ],
   "source": [
    "plt.imshow(l.graph[0])"
   ]
  },
  {
   "cell_type": "code",
   "execution_count": 19,
   "id": "alpine-acoustic",
   "metadata": {},
   "outputs": [],
   "source": [
    "lobj['losses']['obs'].backward()"
   ]
  },
  {
   "cell_type": "code",
   "execution_count": 20,
   "id": "convenient-paste",
   "metadata": {},
   "outputs": [
    {
     "data": {
      "text/plain": [
       "tensor([[ 1.2767e-02, -1.7813e-01, -8.9067e-01, -2.0165e-01, -5.7327e-02],\n",
       "        [ 1.7015e-01, -3.8461e-01, -1.7087e-01, -8.5525e-01, -6.7738e-02],\n",
       "        [-8.3277e-02, -2.2391e+00, -2.0598e+00, -2.0939e-01,  3.4961e-02],\n",
       "        [-2.0223e+00, -1.5098e-01,  2.6599e-02, -1.6657e+00,  5.1910e-02],\n",
       "        [-2.5984e-01, -1.0696e-01,  4.3188e-02,  3.4344e-01, -3.5973e+00],\n",
       "        [ 7.0448e-02,  9.0063e-02,  6.5172e-02, -2.8876e-02, -9.2650e-02],\n",
       "        [-7.9748e-02,  4.8427e-02,  1.2680e-01, -3.3581e-02,  4.1253e-02],\n",
       "        [ 5.0547e-01, -1.7931e-03,  3.2228e-01,  8.5092e-02, -8.3125e-02],\n",
       "        [ 9.1152e-03, -8.1050e-01,  2.7972e-03, -6.9117e-02,  9.5062e-03],\n",
       "        [-1.7828e-01,  2.7503e-04, -1.2142e-01,  3.2002e-01, -1.3705e-01]],\n",
       "       device='cuda:0')"
      ]
     },
     "execution_count": 20,
     "metadata": {},
     "output_type": "execute_result"
    }
   ],
   "source": [
    "l.model.model.switch.probas.grad"
   ]
  },
  {
   "cell_type": "code",
   "execution_count": 21,
   "id": "alternative-oasis",
   "metadata": {},
   "outputs": [
    {
     "data": {
      "text/plain": [
       "[None, None]"
      ]
     },
     "execution_count": 21,
     "metadata": {},
     "output_type": "execute_result"
    }
   ],
   "source": [
    "[opt.zero_grad() for opt in l.optimizer_objects.values()]"
   ]
  },
  {
   "cell_type": "code",
   "execution_count": 22,
   "id": "adopted-memory",
   "metadata": {},
   "outputs": [
    {
     "data": {
      "text/plain": [
       "@fit/fit_loss_obs_space"
      ]
     },
     "execution_count": 22,
     "metadata": {},
     "output_type": "execute_result"
    }
   ],
   "source": [
    "gin.query_parameter('%LOSSES_DICT')['fit']['fcn']"
   ]
  },
  {
   "cell_type": "code",
   "execution_count": 23,
   "id": "close-bread",
   "metadata": {},
   "outputs": [
    {
     "data": {
      "text/plain": [
       "{'loss': tensor(-3678.5850, device='cuda:0', grad_fn=<AddBackward0>),\n",
       " 'metrics': {'fit': {'value': -9.63031005859375,\n",
       "   'coeff': 1.0,\n",
       "   'mean_feature': array([-0.02494491, -0.00137483,  0.01484528,  0.06890202, -0.02085501],\n",
       "         dtype=float32),\n",
       "   'std_feature': array([0.9817697, 0.958856 , 1.0137252, 0.9807892, 0.9322602],\n",
       "         dtype=float32),\n",
       "   'min_feature': -3.516925811767578,\n",
       "   'max_feature': 3.926459789276123,\n",
       "   'loss_fcons': 0.07286059111356735,\n",
       "   'loss_add': 0.0,\n",
       "   'loss_rec': 0.07858201861381531,\n",
       "   'loss_fcons_pre': 0.07286059111356735,\n",
       "   'rec_fit_acc_loss_01_agg': 1.0197999477386475,\n",
       "   'loss_discrete': -9.854612350463867,\n",
       "   'loss_orig': 0.2243022918701172},\n",
       "  'fit/additional': {'value': 0.0},\n",
       "  'fit/obs': {'value': -9.63031005859375},\n",
       "  'fit/feat': {'value': -3.1311240196228027},\n",
       "  'fit/feat_model': {'value': -3.1311240196228027},\n",
       "  'fit/additional_orig': {'value': 0.0, 'coeff': 1.0},\n",
       "  'fit/obs_orig': {'value': 0.07858201861381531, 'coeff': 1.0},\n",
       "  'fit/feat_orig': {'value': 0.07286059111356735, 'coeff': 1.0},\n",
       "  'fit/feat_model_orig': {'value': 0.07286059111356735, 'coeff': 1.0},\n",
       "  'fit_all_half': {'value': 1.3672114610671997,\n",
       "   'coeff': 0.1,\n",
       "   'mean_feature': array([-0.02494491, -0.00137483,  0.01484528,  0.06890202, -0.02085501],\n",
       "         dtype=float32),\n",
       "   'std_feature': array([0.9817697, 0.958856 , 1.0137252, 0.9807892, 0.9322602],\n",
       "         dtype=float32),\n",
       "   'min_feature': -3.516925811767578,\n",
       "   'max_feature': 3.926459789276123,\n",
       "   'loss_fcons': 0.44504261016845703,\n",
       "   'loss_add': 0.0,\n",
       "   'loss_rec': 0.47712627053260803,\n",
       "   'loss_fcons_pre': 0.44504261016845703,\n",
       "   'rec_fit_acc_loss_01_agg': 1.0501999855041504,\n",
       "   'loss_discrete': 0.0,\n",
       "   'loss_orig': 1.3672114610671997},\n",
       "  'fit_all_half/additional': {'value': 0.0},\n",
       "  'fit_all_half/obs': {'value': 1.3672114610671997},\n",
       "  'fit_all_half/feat': {'value': 0.44504261016845703},\n",
       "  'fit_all_half/feat_model': {'value': 0.44504261016845703},\n",
       "  'fit_all_half/additional_orig': {'value': 0.0, 'coeff': 0.1},\n",
       "  'fit_all_half/obs_orig': {'value': 0.47712627053260803, 'coeff': 0.1},\n",
       "  'fit_all_half/feat_orig': {'value': 0.44504261016845703, 'coeff': 0.1},\n",
       "  'fit_all_half/feat_model_orig': {'value': 0.44504261016845703, 'coeff': 0.1},\n",
       "  'fit_all_on': {'value': 0.018677419051527977,\n",
       "   'coeff': 1.0,\n",
       "   'mean_feature': array([-0.02494491, -0.00137483,  0.01484528,  0.06890202, -0.02085501],\n",
       "         dtype=float32),\n",
       "   'std_feature': array([0.9817697, 0.958856 , 1.0137252, 0.9807892, 0.9322602],\n",
       "         dtype=float32),\n",
       "   'min_feature': -3.516925811767578,\n",
       "   'max_feature': 3.926459789276123,\n",
       "   'loss_fcons': 0.006069568917155266,\n",
       "   'loss_add': 0.0,\n",
       "   'loss_rec': 0.006538280751556158,\n",
       "   'loss_fcons_pre': 0.006069568917155266,\n",
       "   'rec_fit_acc_loss_01_agg': 1.0097999572753906,\n",
       "   'loss_discrete': 0.0,\n",
       "   'loss_orig': 0.018677419051527977},\n",
       "  'fit_all_on/additional': {'value': 0.0},\n",
       "  'fit_all_on/obs': {'value': 0.018677419051527977},\n",
       "  'fit_all_on/feat': {'value': 0.006069568917155266},\n",
       "  'fit_all_on/feat_model': {'value': 0.006069568917155266},\n",
       "  'fit_all_on/additional_orig': {'value': 0.0, 'coeff': 1.0},\n",
       "  'fit_all_on/obs_orig': {'value': 0.006538280751556158, 'coeff': 1.0},\n",
       "  'fit_all_on/feat_orig': {'value': 0.006069568917155266, 'coeff': 1.0},\n",
       "  'fit_all_on/feat_model_orig': {'value': 0.006069568917155266, 'coeff': 1.0},\n",
       "  'reconstruction': {'value': 0.0, 'coeff': 1.0, 'rec_acc_loss_01_agg': 1.0},\n",
       "  'reconstruction/reconstruction': {'value': 0.0, 'coeff': 1.0},\n",
       "  'sparsity': {'sparsity_param_0_(10, 5)': tensor(22.4566, device='cuda:0', grad_fn=<DivBackward0>),\n",
       "   'value': 22.456560134887695},\n",
       "  'lagrange_multiplier_fit/additional': 1.0,\n",
       "  'lagrange_multiplier_fit/feat': 216.42115783691406,\n",
       "  'lagrange_multiplier_fit/feat_model': 216.42115783691406,\n",
       "  'lagrange_multiplier_fit/obs': 249.1008758544922,\n",
       "  'lagrange_multiplier_fit_all_on/additional': 1.0,\n",
       "  'lagrange_multiplier_fit_all_on/feat': 16.324338912963867,\n",
       "  'lagrange_multiplier_fit_all_on/feat_model': 16.324338912963867,\n",
       "  'lagrange_multiplier_fit_all_on/obs': 20.146053314208984,\n",
       "  'constraints_satisfied': 5,\n",
       "  'constraints_satisfied_frac': 0.625,\n",
       "  'constraint': -3701.04150390625,\n",
       "  'objective': 22.456560134887695,\n",
       "  'lagrangian': -3678.5849609375}}"
      ]
     },
     "execution_count": 23,
     "metadata": {},
     "output_type": "execute_result"
    }
   ],
   "source": [
    "lobj = lagrangian_granular(**ctx, mode='PRIMAL')\n",
    "lobj"
   ]
  },
  {
   "cell_type": "code",
   "execution_count": 24,
   "id": "solved-marker",
   "metadata": {},
   "outputs": [
    {
     "data": {
      "text/plain": [
       "Parameter containing:\n",
       "tensor([0.0000, 5.3772, 5.3772, 5.5179, 0.0000, 5.0779, 5.0779, 3.9594, 0.0000,\n",
       "        2.7927, 2.7927, 3.0030, 0.0000], device='cuda:0', requires_grad=True)"
      ]
     },
     "execution_count": 24,
     "metadata": {},
     "output_type": "execute_result"
    }
   ],
   "source": [
    "l.lagrange_multipliers.tensor"
   ]
  },
  {
   "cell_type": "code",
   "execution_count": 25,
   "id": "allied-generator",
   "metadata": {},
   "outputs": [],
   "source": [
    "lobj['loss'].backward()"
   ]
  },
  {
   "cell_type": "code",
   "execution_count": 26,
   "id": "unlimited-dubai",
   "metadata": {},
   "outputs": [
    {
     "data": {
      "text/plain": [
       "tensor([[-2.6378e+01,  5.2721e+01, -2.7863e+02,  7.8382e+01, -3.6744e+01],\n",
       "        [-8.6927e+00,  4.2234e+01, -1.9887e+01, -7.0929e+02, -2.1212e+01],\n",
       "        [-1.6683e+01, -4.0947e+02, -3.6038e+02, -1.6738e+01, -2.8917e+01],\n",
       "        [-8.3332e+02, -4.9283e+01,  6.6803e+01, -5.4620e+02, -2.7566e+01],\n",
       "        [ 2.2100e+01,  9.5479e+00, -2.0326e+01,  2.3670e+01, -7.1586e+02],\n",
       "        [-5.5888e+01, -3.5426e+01,  8.3137e+00, -5.5485e+01, -3.5016e+01],\n",
       "        [ 7.6612e+00,  3.2475e+01, -1.6299e+02,  8.0144e+01,  5.9703e+01],\n",
       "        [-1.2445e+01,  1.4461e+00,  4.2688e+01, -1.8586e+01, -1.0125e+01],\n",
       "        [ 4.6902e+00,  4.2396e+01,  1.4163e+01,  6.3979e+00,  2.0763e+01],\n",
       "        [-5.0709e+01, -5.3661e-01,  3.6108e+01, -4.3628e+00, -3.9446e+01]],\n",
       "       device='cuda:0')"
      ]
     },
     "execution_count": 26,
     "metadata": {},
     "output_type": "execute_result"
    }
   ],
   "source": [
    "l.model.model.switch.probas.grad"
   ]
  },
  {
   "cell_type": "code",
   "execution_count": null,
   "id": "severe-interim",
   "metadata": {},
   "outputs": [],
   "source": []
  },
  {
   "cell_type": "code",
   "execution_count": null,
   "id": "favorite-disclosure",
   "metadata": {},
   "outputs": [],
   "source": []
  },
  {
   "cell_type": "code",
   "execution_count": null,
   "id": "native-cheat",
   "metadata": {},
   "outputs": [],
   "source": []
  }
 ],
 "metadata": {
  "kernelspec": {
   "display_name": "Python 3",
   "language": "python",
   "name": "python3"
  },
  "language_info": {
   "codemirror_mode": {
    "name": "ipython",
    "version": 3
   },
   "file_extension": ".py",
   "mimetype": "text/x-python",
   "name": "python",
   "nbconvert_exporter": "python",
   "pygments_lexer": "ipython3",
   "version": "3.7.10"
  }
 },
 "nbformat": 4,
 "nbformat_minor": 5
}
