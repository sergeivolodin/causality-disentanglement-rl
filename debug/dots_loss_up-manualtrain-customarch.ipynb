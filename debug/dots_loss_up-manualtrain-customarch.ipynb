{
 "cells": [
  {
   "cell_type": "code",
   "execution_count": 1,
   "metadata": {},
   "outputs": [],
   "source": [
    "%load_ext autoreload\n",
    "%autoreload 2\n",
    "import os\n",
    "# os.environ['CUDA_VISIBLE_DEVICES'] = \"-1\"\n",
    "import torch\n",
    "import numpy as np\n",
    "from matplotlib import pyplot as plt\n",
    "import torch\n",
    "from causal_analysis.helpers import get_df_from_logdir, CPU_Unpickler\n",
    "from sparse_causal_model_learner_rl.sacred_gin_tune.sacred_wrapper import load_config_files\n",
    "from sparse_causal_model_learner_rl.learners.dots_learner import DotsLearner\n",
    "from sparse_causal_model_learner_rl.config import Config\n",
    "import pickle\n",
    "from tqdm.auto import tqdm\n",
    "from torch import nn"
   ]
  },
  {
   "cell_type": "code",
   "execution_count": 2,
   "metadata": {},
   "outputs": [
    {
     "data": {
      "text/plain": [
       "['dots']"
      ]
     },
     "execution_count": 2,
     "metadata": {},
     "output_type": "execute_result"
    }
   ],
   "source": [
    "load_config_files(['../sparse_causal_model_learner_rl/configs/dots.gin'])"
   ]
  },
  {
   "cell_type": "code",
   "execution_count": 3,
   "metadata": {},
   "outputs": [],
   "source": [
    "#learner = pickle.load(open(os.path.join(ckpt_dir, 'checkpoint_0', 'checkpoint'), 'rb'))\n",
    "learner = DotsLearner(Config())"
   ]
  },
  {
   "cell_type": "code",
   "execution_count": 4,
   "metadata": {},
   "outputs": [
    {
     "name": "stdout",
     "output_type": "stream",
     "text": [
      "COLLECTING DATA!!!\n"
     ]
    }
   ],
   "source": [
    "learner.collect_steps()"
   ]
  },
  {
   "cell_type": "code",
   "execution_count": 5,
   "metadata": {},
   "outputs": [],
   "source": [
    "data = learner._context['X_chw']"
   ]
  },
  {
   "cell_type": "code",
   "execution_count": 6,
   "metadata": {},
   "outputs": [
    {
     "name": "stdout",
     "output_type": "stream",
     "text": [
      "COLLECTING DATA!!!\n"
     ]
    }
   ],
   "source": [
    "learner.collect_steps()"
   ]
  },
  {
   "cell_type": "code",
   "execution_count": 7,
   "metadata": {},
   "outputs": [],
   "source": [
    "data_test = learner._context['X_chw']"
   ]
  },
  {
   "cell_type": "code",
   "execution_count": 8,
   "metadata": {},
   "outputs": [],
   "source": [
    "assert torch.norm(data - data_test).item() > 0"
   ]
  },
  {
   "cell_type": "code",
   "execution_count": 9,
   "metadata": {},
   "outputs": [
    {
     "data": {
      "text/plain": [
       "torch.Size([10000, 3, 5, 5])"
      ]
     },
     "execution_count": 9,
     "metadata": {},
     "output_type": "execute_result"
    }
   ],
   "source": [
    "data_test.shape"
   ]
  },
  {
   "cell_type": "code",
   "execution_count": 29,
   "metadata": {},
   "outputs": [],
   "source": [
    "RGB = 3\n",
    "N_OBJ = 6\n",
    "CONV_FACTOR = 2\n",
    "COORD_FACTOR = 5\n",
    "H, W = 5, 5"
   ]
  },
  {
   "cell_type": "code",
   "execution_count": null,
   "metadata": {},
   "outputs": [],
   "source": []
  },
  {
   "cell_type": "code",
   "execution_count": 31,
   "metadata": {},
   "outputs": [],
   "source": [
    "class CustomEncoder(nn.Module):\n",
    "    def __init__(self):\n",
    "        super(CustomEncoder, self).__init__()\n",
    "        self.conv_obj = nn.Conv2d(in_channels=RGB, out_channels=N_OBJ * CONV_FACTOR, kernel_size=(1, 1))\n",
    "        # N_OBJ * CONV_FACTOR\n",
    "        self.conv_x  = nn.Conv2d(in_channels=N_OBJ * CONV_FACTOR, out_channels=N_OBJ * CONV_FACTOR, kernel_size=(H, 1),\n",
    "                                 groups=N_OBJ * CONV_FACTOR)\n",
    "        self.conv_x1 = nn.Conv2d(in_channels=N_OBJ * CONV_FACTOR, out_channels=N_OBJ * CONV_FACTOR, kernel_size=(1, W),\n",
    "                                 groups=N_OBJ * CONV_FACTOR)\n",
    "\n",
    "        \n",
    "        self.conv_y  = nn.Conv2d(in_channels=N_OBJ * CONV_FACTOR, out_channels=N_OBJ * CONV_FACTOR, kernel_size=(1, W),\n",
    "                                 groups=N_OBJ * CONV_FACTOR)\n",
    "        self.conv_y1 = nn.Conv2d(in_channels=N_OBJ * CONV_FACTOR, out_channels=N_OBJ * CONV_FACTOR, kernel_size=(H, 1),\n",
    "                                 groups=N_OBJ * CONV_FACTOR)\n",
    "#         + softmax over all positions\n",
    "\n",
    "        \n",
    "    def forward(self, x):\n",
    "        x = self.conv_obj(x) # shape n_obj, h, w\n",
    "#         x = nn.Sigmoid(x) # objects space\n",
    "\n",
    "        x_flat = x.view(-1, N_OBJ * CONV_FACTOR, H * W)\n",
    "        x = nn.Softmax(2)(x_flat * 10).view_as(x)\n",
    "\n",
    "        x_x = self.conv_x(x) # shape 1, w\n",
    "        x_x = self.conv_x1(x_x) # shape 1, 1\n",
    "        x_x = torch.flatten(x_x, start_dim=1) # shape n_obj * factor, x-coordinate\n",
    "        \n",
    "        x_y = self.conv_y(x) # shape h, 1\n",
    "        x_y = self.conv_y1(x_y) # shape 1, 1\n",
    "        x_y = torch.flatten(x_y, start_dim=1) # shape batch, n_obj * factor\n",
    "        \n",
    "        out = torch.cat([x_x, x_y], dim=1)\n",
    "        return out\n",
    "    \n",
    "class BiasAdder(nn.Module):\n",
    "    def __init__(self, n_items, n_expand=1):\n",
    "        \"\"\"Add bias and broadcast.\n",
    "        \n",
    "        in_shape: [batch (silent), n_items]\n",
    "        out_shape: [batch, n_items, n_expand]\n",
    "        \n",
    "        weight shape: [expand] (same for every item)\n",
    "        \"\"\"\n",
    "        super(BiasAdder, self).__init__()\n",
    "        self.n_items = n_items\n",
    "        self.n_expand = n_expand\n",
    "        \n",
    "        self.bias = nn.Parameter(torch.Tensor(n_expand,))\n",
    "        self.weight = nn.Parameter(torch.Tensor(1,))\n",
    "        torch.nn.init.zeros_(self.bias)\n",
    "        torch.nn.init.ones_(self.weight)\n",
    "        \n",
    "    def forward(self, x):\n",
    "        assert len(x.shape) == 2\n",
    "#         torch.einsum('bn,z->bnz')\n",
    "        x = x.view(*x.shape, 1)\n",
    "        return (x + self.bias) * self.weight\n",
    "\n",
    "    \n",
    "class CustomDecoder(nn.Module):\n",
    "    def __init__(self):\n",
    "        super(CustomDecoder, self).__init__()\n",
    "        \n",
    "        self.pb_x = BiasAdder(n_items=N_OBJ * CONV_FACTOR, n_expand=H * COORD_FACTOR)\n",
    "        self.pb_y = BiasAdder(n_items=N_OBJ * CONV_FACTOR, n_expand=W * COORD_FACTOR)\n",
    "        \n",
    "#         self.one_hot_x = nn.ConvTranspose2d(in_channels=N_OBJ * CONV_FACTOR, out_channels=N_OBJ * CONV_FACTOR, kernel_size=(H * COORD_FACTOR, 1))\n",
    "#         self.one_hot_y = nn.ConvTranspose2d(in_channels=N_OBJ * CONV_FACTOR, out_channels=N_OBJ * CONV_FACTOR, kernel_size=(1, W * COORD_FACTOR))\n",
    "        \n",
    "        self.one_hot_x = nn.Conv2d(in_channels=N_OBJ * CONV_FACTOR, out_channels=N_OBJ * CONV_FACTOR, kernel_size=(COORD_FACTOR, 1),\n",
    "                                   stride=(COORD_FACTOR, 1), groups=N_OBJ * CONV_FACTOR)\n",
    "        \n",
    "        self.one_hot_y = nn.Conv2d(in_channels=N_OBJ * CONV_FACTOR, out_channels=N_OBJ * CONV_FACTOR, kernel_size=(COORD_FACTOR, 1),\n",
    "                                   stride=(COORD_FACTOR, 1), groups=N_OBJ * CONV_FACTOR)\n",
    "    \n",
    "        self.to_rgb = nn.Conv2d(in_channels=N_OBJ * CONV_FACTOR, out_channels=RGB, kernel_size=(1, 1))\n",
    "        \n",
    "    def forward(self, x):\n",
    "        xdim = x.shape[1] // 2\n",
    "        x_x = x[:, :xdim]\n",
    "        x_y = x[:, xdim:]\n",
    "        \n",
    "#         x_x = x_x.view(-1, xdim, 1, 1) # 1x1 image\n",
    "#         x_y = x_y.view(-1, xdim, 1, 1)\n",
    "        \n",
    "        pb_x = self.pb_x(x_x) # shape batch, obj*conv_factor, H * coord\n",
    "        pb_y = self.pb_y(x_y) # shape batch, obj*conv_factor, W * coord\n",
    "        \n",
    "        pb_x = nn.Sigmoid()(pb_x) # progressbar encoding\n",
    "        pb_y = nn.Sigmoid()(pb_y)\n",
    "        \n",
    "        pb_x = pb_x.view(*pb_x.shape, 1) # size x 1\n",
    "        pb_y = pb_y.view(*pb_y.shape, 1)\n",
    "        \n",
    "        oh_x = self.one_hot_x(pb_x)\n",
    "        oh_x = oh_x.view(oh_x.shape[0], N_OBJ * CONV_FACTOR, H) # size batch, obj*conv, H\n",
    "        oh_y = self.one_hot_y(pb_y)\n",
    "        oh_y = oh_y.view(oh_y.shape[0], N_OBJ * CONV_FACTOR, W) # size batch, obj*conv, W\n",
    "        \n",
    "        oh_x = nn.Softmax(2)(oh_x * 10)\n",
    "        oh_y = nn.Softmax(2)(oh_y * 10)\n",
    "        \n",
    "        oh_xy = torch.einsum('bcn,bcm->bcnm', oh_x, oh_y)\n",
    "        \n",
    "        oh_rgb = self.to_rgb(oh_xy)\n",
    "        \n",
    "        return oh_rgb\n",
    "        \n",
    "\n",
    "class CustomAutoEncoder(nn.Module):\n",
    "    def __init__(self):\n",
    "        super(CustomAutoEncoder, self).__init__()\n",
    "        self.encoder = CustomEncoder()\n",
    "        self.decoder = CustomDecoder()\n",
    "        \n",
    "    def forward(self, x):\n",
    "        return self.decoder(self.encoder(x))\n",
    "\n",
    "ae = CustomAutoEncoder()"
   ]
  },
  {
   "cell_type": "code",
   "execution_count": 32,
   "metadata": {},
   "outputs": [],
   "source": [
    "x = torch.from_numpy(np.random.randn(10, 24))\n",
    "b = torch.from_numpy(np.ones(91,))"
   ]
  },
  {
   "cell_type": "code",
   "execution_count": 14,
   "metadata": {},
   "outputs": [
    {
     "data": {
      "text/plain": [
       "torch.Size([10, 24, 91])"
      ]
     },
     "execution_count": 14,
     "metadata": {},
     "output_type": "execute_result"
    }
   ],
   "source": [
    "(x.view(10, 24, 1) + b).shape"
   ]
  },
  {
   "cell_type": "code",
   "execution_count": 15,
   "metadata": {},
   "outputs": [
    {
     "data": {
      "text/plain": [
       "tensor([0.9841, 0.9841, 0.9841, 0.9841, 0.9841, 0.9841, 0.9841, 0.9841, 0.9841,\n",
       "        0.9841, 0.9841, 0.9841, 0.9841, 0.9841, 0.9841, 0.9841, 0.9841, 0.9841,\n",
       "        0.9841, 0.9841, 0.9841, 0.9841, 0.9841, 0.9841, 0.9841, 0.9841, 0.9841,\n",
       "        0.9841, 0.9841, 0.9841, 0.9841, 0.9841, 0.9841, 0.9841, 0.9841, 0.9841,\n",
       "        0.9841, 0.9841, 0.9841, 0.9841, 0.9841, 0.9841, 0.9841, 0.9841, 0.9841,\n",
       "        0.9841, 0.9841, 0.9841, 0.9841, 0.9841, 0.9841, 0.9841, 0.9841, 0.9841,\n",
       "        0.9841, 0.9841, 0.9841, 0.9841, 0.9841, 0.9841, 0.9841, 0.9841, 0.9841,\n",
       "        0.9841, 0.9841, 0.9841, 0.9841, 0.9841, 0.9841, 0.9841, 0.9841, 0.9841,\n",
       "        0.9841, 0.9841, 0.9841, 0.9841, 0.9841, 0.9841, 0.9841, 0.9841, 0.9841,\n",
       "        0.9841, 0.9841, 0.9841, 0.9841, 0.9841, 0.9841, 0.9841, 0.9841, 0.9841,\n",
       "        0.9841], dtype=torch.float64)"
      ]
     },
     "execution_count": 15,
     "metadata": {},
     "output_type": "execute_result"
    }
   ],
   "source": [
    "torch.einsum('bn,z->bnz', x, b)[3, 4, :]"
   ]
  },
  {
   "cell_type": "code",
   "execution_count": 16,
   "metadata": {},
   "outputs": [],
   "source": [
    "obss = torch.from_numpy(np.array(np.random.randn(10, 3, 5, 5), dtype=np.float32))"
   ]
  },
  {
   "cell_type": "code",
   "execution_count": 17,
   "metadata": {},
   "outputs": [],
   "source": [
    "enc = CustomEncoder()"
   ]
  },
  {
   "cell_type": "code",
   "execution_count": 18,
   "metadata": {},
   "outputs": [
    {
     "data": {
      "text/plain": [
       "24"
      ]
     },
     "execution_count": 18,
     "metadata": {},
     "output_type": "execute_result"
    }
   ],
   "source": [
    "2 * N_OBJ * CONV_FACTOR"
   ]
  },
  {
   "cell_type": "code",
   "execution_count": 19,
   "metadata": {},
   "outputs": [
    {
     "data": {
      "text/plain": [
       "torch.Size([10, 24])"
      ]
     },
     "execution_count": 19,
     "metadata": {},
     "output_type": "execute_result"
    }
   ],
   "source": [
    "enc(obss).shape"
   ]
  },
  {
   "cell_type": "code",
   "execution_count": 20,
   "metadata": {},
   "outputs": [],
   "source": [
    "# no, it multiplies by a value\n",
    "# in_ch=fixed, out_ch=fixed, tensor_shape=[1,5] -- will be multiplied\n",
    "# say, x=1 -> 1 2 3 4 but need sigmoid(x-x0) -> conv size 2\n",
    "l = nn.ConvTranspose2d(in_channels=6, out_channels=6, kernel_size=(1, 5))"
   ]
  },
  {
   "cell_type": "code",
   "execution_count": 21,
   "metadata": {},
   "outputs": [
    {
     "data": {
      "text/plain": [
       "[('weight', torch.Size([6, 6, 1, 5])), ('bias', torch.Size([6]))]"
      ]
     },
     "execution_count": 21,
     "metadata": {},
     "output_type": "execute_result"
    }
   ],
   "source": [
    "[(x[0], x[1].shape) for x in l.named_parameters()]"
   ]
  },
  {
   "cell_type": "code",
   "execution_count": 65,
   "metadata": {},
   "outputs": [],
   "source": [
    "ae = CustomAutoEncoder().cuda()"
   ]
  },
  {
   "cell_type": "code",
   "execution_count": 66,
   "metadata": {},
   "outputs": [],
   "source": [
    "opt = torch.optim.Adam(ae.parameters(), lr=1e-2)"
   ]
  },
  {
   "cell_type": "code",
   "execution_count": 67,
   "metadata": {},
   "outputs": [],
   "source": [
    "def loss_fcn(y_true, y_pred):\n",
    "    delta = y_true - y_pred\n",
    "    delta = torch.abs(delta)\n",
    "    delta = delta ** 2\n",
    "    delta = torch.mean(delta, dim=0)\n",
    "    delta = torch.sum(delta)\n",
    "    return delta"
   ]
  },
  {
   "cell_type": "code",
   "execution_count": 68,
   "metadata": {},
   "outputs": [],
   "source": [
    "losses = []\n",
    "losses_test = []\n",
    "grads = []\n",
    "\n",
    "test_every = 100"
   ]
  },
  {
   "cell_type": "code",
   "execution_count": 69,
   "metadata": {},
   "outputs": [
    {
     "data": {
      "text/plain": [
       "[('encoder.conv_obj.weight', torch.Size([12, 3, 1, 1])),\n",
       " ('encoder.conv_obj.bias', torch.Size([12])),\n",
       " ('encoder.conv_x.weight', torch.Size([12, 1, 5, 1])),\n",
       " ('encoder.conv_x.bias', torch.Size([12])),\n",
       " ('encoder.conv_x1.weight', torch.Size([12, 1, 1, 5])),\n",
       " ('encoder.conv_x1.bias', torch.Size([12])),\n",
       " ('encoder.conv_y.weight', torch.Size([12, 1, 1, 5])),\n",
       " ('encoder.conv_y.bias', torch.Size([12])),\n",
       " ('encoder.conv_y1.weight', torch.Size([12, 1, 5, 1])),\n",
       " ('encoder.conv_y1.bias', torch.Size([12])),\n",
       " ('decoder.pb_x.bias', torch.Size([25])),\n",
       " ('decoder.pb_x.weight', torch.Size([1])),\n",
       " ('decoder.pb_y.bias', torch.Size([25])),\n",
       " ('decoder.pb_y.weight', torch.Size([1])),\n",
       " ('decoder.one_hot_x.weight', torch.Size([12, 1, 5, 1])),\n",
       " ('decoder.one_hot_x.bias', torch.Size([12])),\n",
       " ('decoder.one_hot_y.weight', torch.Size([12, 1, 5, 1])),\n",
       " ('decoder.one_hot_y.bias', torch.Size([12])),\n",
       " ('decoder.to_rgb.weight', torch.Size([3, 12, 1, 1])),\n",
       " ('decoder.to_rgb.bias', torch.Size([3]))]"
      ]
     },
     "execution_count": 69,
     "metadata": {},
     "output_type": "execute_result"
    }
   ],
   "source": [
    "[(x[0], x[1].shape) for x in ae.named_parameters()]"
   ]
  },
  {
   "cell_type": "code",
   "execution_count": 70,
   "metadata": {},
   "outputs": [
    {
     "data": {
      "application/vnd.jupyter.widget-view+json": {
       "model_id": "5fde2c2730fe4cf78f5539d7764bd94e",
       "version_major": 2,
       "version_minor": 0
      },
      "text/plain": [
       "HBox(children=(HTML(value=''), FloatProgress(value=0.0, max=5000.0), HTML(value='')))"
      ]
     },
     "metadata": {},
     "output_type": "display_data"
    },
    {
     "name": "stdout",
     "output_type": "stream",
     "text": [
      "\n"
     ]
    }
   ],
   "source": [
    "for i in tqdm(range(5000)):\n",
    "    opt.zero_grad()\n",
    "    loss = loss_fcn(data, ae(data))\n",
    "    loss.backward()\n",
    "    \n",
    "    grad = [x.grad for x in ae.parameters()]\n",
    "    grad = np.max([torch.max(torch.abs(x)).item() for x in grad])\n",
    "    grads.append(grad)\n",
    "    \n",
    "    opt.step()\n",
    "    losses.append(loss.item())\n",
    "    \n",
    "    losses_test.append(loss_fcn(data_test, ae(data_test)).item())"
   ]
  },
  {
   "cell_type": "code",
   "execution_count": 71,
   "metadata": {},
   "outputs": [],
   "source": [
    "grad = [x.grad for x in ae.parameters()]\n",
    "grad = np.max([torch.max(torch.abs(x)).item() for x in grad])"
   ]
  },
  {
   "cell_type": "code",
   "execution_count": 72,
   "metadata": {},
   "outputs": [
    {
     "data": {
      "text/plain": [
       "1.980034351348877"
      ]
     },
     "execution_count": 72,
     "metadata": {},
     "output_type": "execute_result"
    }
   ],
   "source": [
    "grad"
   ]
  },
  {
   "cell_type": "code",
   "execution_count": 74,
   "metadata": {},
   "outputs": [
    {
     "data": {
      "image/png": "[encoded data removed]",
      "text/plain": [
       "<Figure size 432x288 with 1 Axes>"
      ]
     },
     "metadata": {
      "needs_background": "light"
     },
     "output_type": "display_data"
    }
   ],
   "source": [
    "plt.plot(losses, label='loss')\n",
    "plt.plot(losses_test, label='loss_test')\n",
    "\n",
    "# plt.plot(grads, label='grad')\n",
    "plt.legend()\n",
    "plt.yscale('log')"
   ]
  },
  {
   "cell_type": "code",
   "execution_count": null,
   "metadata": {},
   "outputs": [],
   "source": []
  },
  {
   "cell_type": "code",
   "execution_count": null,
   "metadata": {},
   "outputs": [],
   "source": []
  },
  {
   "cell_type": "code",
   "execution_count": null,
   "metadata": {},
   "outputs": [],
   "source": []
  }
 ],
 "metadata": {
  "kernelspec": {
   "display_name": "Python 3",
   "language": "python",
   "name": "python3"
  },
  "language_info": {
   "codemirror_mode": {
    "name": "ipython",
    "version": 3
   },
   "file_extension": ".py",
   "mimetype": "text/x-python",
   "name": "python",
   "nbconvert_exporter": "python",
   "pygments_lexer": "ipython3",
   "version": "3.7.0"
  }
 },
 "nbformat": 4,
 "nbformat_minor": 4
}
