{
 "cells": [
  {
   "cell_type": "code",
   "execution_count": 18,
   "metadata": {},
   "outputs": [],
   "source": [
    "import os\n",
    "os.environ['CUDA_VISIBLE_DEVICES'] = \"0\"\n",
    "import numpy as np\n",
    "from matplotlib import pyplot as plt\n",
    "import seaborn as sns\n",
    "import pandas as pd\n",
    "from tqdm.auto import tqdm\n",
    "import torch\n",
    "from torch import nn\n",
    "import gin\n",
    "import ray\n",
    "import pickle\n",
    "import io\n",
    "gin.enter_interactive_mode()\n",
    "from causal_util import load_env\n",
    "from causal_util.helpers import lstdct2dctlst\n",
    "from sparse_causal_model_learner_rl.loss.losses import fit_loss\n",
    "from sparse_causal_model_learner_rl.loss.causal_discriminator import siamese_feature_discriminator_l2\n",
    "from keychest.features_xy import obs_features_handcoded, arr_to_dict, dict_to_arr\n",
    "from sparse_causal_model_learner_rl.metrics.context_rewrite import context_rewriter\n",
    "from sparse_causal_model_learner_rl.visual.learner_visual import graph_for_matrices\n",
    "from sparse_causal_model_learner_rl.config import Config\n",
    "from sparse_causal_model_learner_rl.sacred_gin_tune.sacred_wrapper import load_config_files\n",
    "from sparse_causal_model_learner_rl.learners.rl_learner import CausalModelLearnerRL"
   ]
  },
  {
   "cell_type": "code",
   "execution_count": 19,
   "metadata": {},
   "outputs": [
    {
     "data": {
      "text/plain": [
       "['5x5_onlycoord_obs']"
      ]
     },
     "execution_count": 19,
     "metadata": {},
     "output_type": "execute_result"
    }
   ],
   "source": [
    "load_config_files(['../keychest/config/5x5_onlycoord_obs.gin'])"
   ]
  },
  {
   "cell_type": "code",
   "execution_count": 25,
   "metadata": {},
   "outputs": [],
   "source": [
    "h, w, c = env.engine._observation.shape"
   ]
  },
  {
   "cell_type": "code",
   "execution_count": 307,
   "metadata": {},
   "outputs": [
    {
     "name": "stdout",
     "output_type": "stream",
     "text": [
      "Make environment KeyChest-v0 None {}\n"
     ]
    },
    {
     "data": {
      "application/vnd.jupyter.widget-view+json": {
       "model_id": "592bdbf1fa5f4de0afa043088a26eca1",
       "version_major": 2,
       "version_minor": 0
      },
      "text/plain": [
       "HBox(children=(HTML(value=''), FloatProgress(value=0.0), HTML(value='')))"
      ]
     },
     "metadata": {},
     "output_type": "display_data"
    },
    {
     "name": "stdout",
     "output_type": "stream",
     "text": [
      "\n"
     ]
    }
   ],
   "source": [
    "obss = []\n",
    "env = load_env()\n",
    "for _ in tqdm(range(100)):\n",
    "    obs = env.reset()\n",
    "    obss.append(obs)\n",
    "    done = False\n",
    "    while not done:\n",
    "        obs, rew, done, _ = env.step(env.action_space.sample())\n",
    "        obss.append(obs)"
   ]
  },
  {
   "cell_type": "code",
   "execution_count": 308,
   "metadata": {},
   "outputs": [],
   "source": [
    "f_dict = [obs_features_handcoded(env.engine, obs.reshape(h, w, c)) for obs in obss]"
   ]
  },
  {
   "cell_type": "code",
   "execution_count": 309,
   "metadata": {},
   "outputs": [],
   "source": [
    "f_arr = [dict_to_arr(f) for f in f_dict]"
   ]
  },
  {
   "cell_type": "code",
   "execution_count": 310,
   "metadata": {},
   "outputs": [
    {
     "data": {
      "text/plain": [
       "(900, (693,))"
      ]
     },
     "execution_count": 310,
     "metadata": {},
     "output_type": "execute_result"
    }
   ],
   "source": [
    "len(obss), obss[0].shape"
   ]
  },
  {
   "cell_type": "code",
   "execution_count": 311,
   "metadata": {},
   "outputs": [],
   "source": [
    "ds_obs = torch.from_numpy(np.array(obss)).to(torch.float32).cuda()"
   ]
  },
  {
   "cell_type": "code",
   "execution_count": 7,
   "metadata": {},
   "outputs": [
    {
     "data": {
      "text/plain": [
       "torch.Size([900, 693])"
      ]
     },
     "execution_count": 7,
     "metadata": {},
     "output_type": "execute_result"
    }
   ],
   "source": [
    "ds_obs.shape"
   ]
  },
  {
   "cell_type": "code",
   "execution_count": 8,
   "metadata": {},
   "outputs": [],
   "source": [
    "class Decoder(nn.Module):\n",
    "    def __init__(self):\n",
    "        super(Decoder, self).__init__()\n",
    "        self.bn1 = torch.nn.BatchNorm1d(693)\n",
    "        self.bn2 = torch.nn.BatchNorm1d(50)\n",
    "        self.fc1 = nn.Linear(in_features=693, out_features=50)\n",
    "        self.fc2 = nn.Linear(in_features=50, out_features=10)\n",
    "        self.act = nn.Tanh()\n",
    "    def forward(self, x):\n",
    "        x = self.bn1(x)\n",
    "        x = self.act(self.fc1(x))\n",
    "        x = self.bn2(x)\n",
    "        x = self.fc2(x)\n",
    "        return x"
   ]
  },
  {
   "cell_type": "code",
   "execution_count": 9,
   "metadata": {},
   "outputs": [],
   "source": [
    "decoder = Decoder().cuda()"
   ]
  },
  {
   "cell_type": "code",
   "execution_count": 10,
   "metadata": {},
   "outputs": [],
   "source": [
    "opt = torch.optim.Adam(decoder.parameters(), lr=1e-3, betas=(0.8, 0.8))"
   ]
  },
  {
   "cell_type": "code",
   "execution_count": 11,
   "metadata": {},
   "outputs": [],
   "source": [
    "ds_obs_orig = ds_obs.clone()"
   ]
  },
  {
   "cell_type": "code",
   "execution_count": 12,
   "metadata": {},
   "outputs": [],
   "source": [
    "@gin.configurable\n",
    "def siamese_feature_discriminator_l2_fake_is(obs, decoder, obs_delta_eps=1e-10,\n",
    "                                     margin=1.0,\n",
    "#                                      margin_same_not_farther=5.0,\n",
    "                                     max_dist=500,\n",
    "                                     **kwargs):\n",
    "    def loss(y_true, y_pred):\n",
    "        \"\"\"L2 norm for the distance, no flat.\"\"\"\n",
    "        delta = y_true - y_pred\n",
    "        delta = delta.pow(2)\n",
    "        delta = delta.flatten(start_dim=1)\n",
    "        delta = delta.sum(1)\n",
    "        return delta\n",
    "\n",
    "    # original inputs order\n",
    "    batch_dim = obs.shape[0]\n",
    "\n",
    "    # random permutation for incorrect inputs\n",
    "    idxes = torch.randperm(batch_dim).to(obs.device)\n",
    "    obs_shuffled = obs[idxes]\n",
    "\n",
    "    idxes_orig = torch.arange(start=0, end=batch_dim).to(obs.device)\n",
    "    target_close = ((obs - obs_shuffled).flatten(start_dim=1).pow(2).sum(1) <=\\\n",
    "                        obs_delta_eps).to(obs.device).detach()\n",
    "\n",
    "    # distance_shuffle = loss(obs, obs_shuffled)\n",
    "    decoded = decoder(obs)\n",
    "    distance_f = loss(decoded, decoder(obs_shuffled))\n",
    "\n",
    "    # print(torch.nn.ReLU()(margin - distance_f), torch.where)\n",
    "\n",
    "#     torch.where(target_close,\n",
    "# #                                 torch.nn.ReLU()(distance_f - margin_same_not_farther),\n",
    "#                                 torch.nn.ReLU()(margin_different_not_closer - distance_f[~])\n",
    "#                                ).mean(),\n",
    "    \n",
    "    loss_max_dist = torch.nn.ReLU()(distance_f - max_dist).mean()\n",
    "    \n",
    "    loss = torch.tensor(0.0, dtype=torch.float32).cuda()\n",
    "#     loss += loss_max_dist.mean() / max_dist\n",
    "    if ((~target_close).sum().item() > 0):\n",
    "        loss = (torch.nn.ReLU()(margin - distance_f[~target_close])).mean() / margin\n",
    "    \n",
    "#     print(target_close.sum())\n",
    "    \n",
    "    return {'loss': loss.mean(),\n",
    "            'metrics': {'distance_close': distance_f[target_close].mean().item(),\n",
    "                        'distance_far': distance_f[~target_close].mean().item(),\n",
    "                       'norm': decoded.abs().mean().item()}\n",
    "            }"
   ]
  },
  {
   "cell_type": "code",
   "execution_count": 13,
   "metadata": {},
   "outputs": [
    {
     "data": {
      "text/plain": [
       "{'loss': tensor(0.0035, device='cuda:0', grad_fn=<MeanBackward0>),\n",
       " 'metrics': {'distance_close': 4.533484698754364e-12,\n",
       "  'distance_far': 6.170299530029297,\n",
       "  'norm': 0.44076648354530334}}"
      ]
     },
     "execution_count": 13,
     "metadata": {},
     "output_type": "execute_result"
    }
   ],
   "source": [
    "siamese_feature_discriminator_l2_fake_is(ds_obs, decoder)"
   ]
  },
  {
   "cell_type": "code",
   "execution_count": 14,
   "metadata": {},
   "outputs": [],
   "source": [
    "losses = []"
   ]
  },
  {
   "cell_type": "code",
   "execution_count": 15,
   "metadata": {},
   "outputs": [
    {
     "data": {
      "application/vnd.jupyter.widget-view+json": {
       "model_id": "017cdeee2b6f426fa9f0ad57c7b29b4c",
       "version_major": 2,
       "version_minor": 0
      },
      "text/plain": [
       "HBox(children=(HTML(value=''), FloatProgress(value=0.0, max=10000.0), HTML(value='')))"
      ]
     },
     "metadata": {},
     "output_type": "display_data"
    },
    {
     "name": "stdout",
     "output_type": "stream",
     "text": [
      "\n"
     ]
    }
   ],
   "source": [
    "for _ in tqdm(range(10000)):\n",
    "#     idx_random = np.random.choice(len(ds_obs_orig), 10, replace=False)\n",
    "#     ds_obs = ds_obs_orig[idx_random, :]\n",
    "    \n",
    "    opt.zero_grad()\n",
    "    loss = siamese_feature_discriminator_l2_fake_is(ds_obs, decoder)['loss']\n",
    "    loss.backward()\n",
    "    opt.step()\n",
    "    losses.append(loss.item())"
   ]
  },
  {
   "cell_type": "code",
   "execution_count": 16,
   "metadata": {},
   "outputs": [
    {
     "data": {
      "image/png": "[encoded data removed]",
      "text/plain": [
       "<Figure size 432x288 with 1 Axes>"
      ]
     },
     "metadata": {
      "needs_background": "light"
     },
     "output_type": "display_data"
    }
   ],
   "source": [
    "plt.plot(np.maximum(losses, 1e-20))\n",
    "plt.yscale('log')"
   ]
  },
  {
   "cell_type": "markdown",
   "metadata": {},
   "source": [
    "#### doesn't go to 0 even for this simple dataset\n",
    "#### trying gan for observations..."
   ]
  },
  {
   "cell_type": "code",
   "execution_count": 29,
   "metadata": {},
   "outputs": [],
   "source": [
    "decoder = Decoder().cuda()"
   ]
  },
  {
   "cell_type": "code",
   "execution_count": 33,
   "metadata": {},
   "outputs": [],
   "source": [
    "class ObsFeatureDiscriminator(nn.Module):\n",
    "    def __init__(self, decoder_cls):\n",
    "        super(ObsFeatureDiscriminator, self).__init__()\n",
    "        self.decoder = decoder_cls()\n",
    "        self.fc1 = nn.Linear(in_features=2 * 10, out_features=10)\n",
    "        self.fc2 = nn.Linear(in_features=10, out_features=1)\n",
    "        self.act = nn.Tanh()\n",
    "        self.bn1 = torch.nn.BatchNorm1d(20)\n",
    "        self.bn2 = torch.nn.BatchNorm1d(10)\n",
    "    def forward(self, obs, features):\n",
    "        my_features = self.decoder(obs)\n",
    "        all_f = torch.cat([my_features, features], dim=1)\n",
    "        x = all_f\n",
    "        x = self.bn1(x)\n",
    "        x = self.act(self.fc1(x))\n",
    "        x = self.bn2(x)\n",
    "        x = self.fc2(x)\n",
    "        return x"
   ]
  },
  {
   "cell_type": "code",
   "execution_count": 34,
   "metadata": {},
   "outputs": [],
   "source": [
    "disc = ObsFeatureDiscriminator(Decoder).cuda()"
   ]
  },
  {
   "cell_type": "code",
   "execution_count": 35,
   "metadata": {},
   "outputs": [],
   "source": [
    "bce = torch.nn.BCEWithLogitsLoss(reduction='none')"
   ]
  },
  {
   "cell_type": "code",
   "execution_count": 36,
   "metadata": {},
   "outputs": [],
   "source": [
    "opt_gen = torch.optim.Adam(decoder.parameters(), lr=1e-3)\n",
    "opt_dsc = torch.optim.Adam(list(decoder.parameters()) + list(disc.parameters()), lr=1e-3,\n",
    "                          betas=(0.8, 0.9))"
   ]
  },
  {
   "cell_type": "code",
   "execution_count": 37,
   "metadata": {},
   "outputs": [],
   "source": [
    "def gen_loss():\n",
    "    logits = disc(ds_obs, decoder(ds_obs)).view(-1)\n",
    "    ans = torch.full(fill_value=True, size=(ds_obs.shape[0],)).cuda()\n",
    "    loss = bce(logits, ans * 1.0) ** 2\n",
    "    loss = loss.mean()\n",
    "    return loss"
   ]
  },
  {
   "cell_type": "code",
   "execution_count": 38,
   "metadata": {},
   "outputs": [
    {
     "data": {
      "text/plain": [
       "tensor(0.5017, device='cuda:0', grad_fn=<MeanBackward0>)"
      ]
     },
     "execution_count": 38,
     "metadata": {},
     "output_type": "execute_result"
    }
   ],
   "source": [
    "gen_loss()"
   ]
  },
  {
   "cell_type": "code",
   "execution_count": 39,
   "metadata": {},
   "outputs": [],
   "source": [
    "disc_losses = []\n",
    "gen_losses = []\n",
    "accs = []"
   ]
  },
  {
   "cell_type": "code",
   "execution_count": 40,
   "metadata": {},
   "outputs": [
    {
     "data": {
      "text/plain": [
       "tensor([0.7223, 1.4211, 0.4950, 0.5386, 0.3026, 0.8030, 0.6674, 1.6039, 0.4136,\n",
       "        0.7756])"
      ]
     },
     "execution_count": 40,
     "metadata": {},
     "output_type": "execute_result"
    }
   ],
   "source": [
    "bce1 = torch.nn.BCEWithLogitsLoss(reduction='none')\n",
    "bce1(torch.randn(10), torch.full(fill_value=1.0, size=(10,)))"
   ]
  },
  {
   "cell_type": "code",
   "execution_count": 41,
   "metadata": {},
   "outputs": [],
   "source": [
    "\n",
    "def corr(X, eps=1e-08):\n",
    "    D = X.shape[-1]\n",
    "    std = torch.std(X, dim=-1).unsqueeze(-1)\n",
    "    mean = torch.mean(X, dim=-1).unsqueeze(-1)\n",
    "    X = (X - mean) / (std + eps)\n",
    "    return 1/(D-1) * X @ X.transpose(-1, -2)\n"
   ]
  },
  {
   "cell_type": "code",
   "execution_count": 42,
   "metadata": {},
   "outputs": [],
   "source": [
    "def disc_loss(n_perms=3):\n",
    "    idxes = torch.arange(0, len(ds_obs)).cuda()\n",
    "    idxes_neq = []\n",
    "    perms = []\n",
    "    for i in range(n_perms):\n",
    "        perms.append(torch.randperm(len(ds_obs)).cuda())\n",
    "        neq = perms[i] != idxes\n",
    "        idxes_neq.append(neq)\n",
    "    \n",
    "#     print(idxes)\n",
    "#     all_idx_inp = torch.cat([idxes, idxes, idxes], dim=0)\n",
    "#     all_idx = torch.cat([perm2, perm3, perm1], dim=0)\n",
    "#     neq = all_idx_inp != all_idx\n",
    "#     all_idx = all_idx[neq]\n",
    "#     all_idx_inp = all_idx_inp[neq]\n",
    "#     ans_true = all_idx_inp == all_idx\n",
    "#     ans_true_true = idxes == idxes\n",
    "\n",
    "    feat = decoder(ds_obs)\n",
    "    \n",
    "    positive_logits = disc(ds_obs, feat).view(-1)\n",
    "    pos_probas = torch.nn.Sigmoid()(positive_logits)\n",
    "    negative_logits = [disc(ds_obs, decoder(ds_obs[perm, :]))\n",
    "                      for perm in perms]\n",
    "    \n",
    "    \n",
    "    neg_logits_stacked = torch.stack(negative_logits, dim=0).view(n_perms, len(ds_obs))\n",
    "    neg_probas_stacked = torch.exp(neg_logits_stacked)\n",
    "    neq_stacked = torch.stack(idxes_neq, dim=0)\n",
    "#     print(neg_logits_stacked.shape, neq_stacked.shape, (1. * neq_stacked).mean())\n",
    "    n_neg = (1. * neq_stacked).sum(0)\n",
    "    \n",
    "    pr_st_or_0 = torch.where(neq_stacked, neg_probas_stacked,\n",
    "                             torch.zeros_like(neg_probas_stacked)).sum(0)# / n_neg\n",
    "    \n",
    "    \n",
    "    contrastive = pos_probas / (pos_probas + pr_st_or_0)\n",
    "    \n",
    "    contrastive = -torch.log(contrastive)\n",
    "    \n",
    "#     print(corr(feat.t()).shape)\n",
    "    \n",
    "    contrastive += (corr(feat.t()) - torch.eye(feat.shape[1]).cuda()).flatten().pow(2).mean()\n",
    "    \n",
    "#     contrastive += -torch.log(pos_probas)\n",
    "    \n",
    "    def acc_logits(ans_bool, logits):\n",
    "        return (1. * ((logits >= 0) == ans_bool)).mean()\n",
    "    \n",
    "#     print(contrastive)\n",
    "    \n",
    "#     acc = []\n",
    "#     acc.append(acc_logits(idxes == idxes, positive_logits))\n",
    "#     for i, ans in enumerate(idxes_neq):\n",
    "#         acc.append(acc_logits(~ans, negative_logits[i]))\n",
    "#     acc = sum(acc) / len(acc)\n",
    "    acc = 0\n",
    "\n",
    "    return contrastive.mean(), acc\n",
    "    \n",
    "\n",
    "#     positive\n",
    "    \n",
    "#     logits_true = disc(ds_obs[all_idx, :],  decoder(ds_obs[all_idx_inp, :]))\n",
    "#     logits_true_true = disc(ds_obs,  decoder(ds_obs))\n",
    "    \n",
    "#     probas = torch.nn.Sigmoid()(logits_true).view(-1)\n",
    "#     probas_true = torch.nn.Sigmoid()(logits_true_true).view(-1)\n",
    "# #     disc_loss = bce(logits.view(-1), 1. * ans_true)# ** 2\n",
    "# #     disc_loss = disc_loss.mean()\n",
    "#     def margin(probas):\n",
    "#         return 2 * (probas - 0.5)\n",
    "    \n",
    "#     marg = 1.0 - logits_true.view(-1) * margin(ans_true * 1.0)\n",
    "#     marg_true = 1.0 - logits_true_true.view(-1) * margin(ans_true_true * 1.0)\n",
    "# #     print(logits, logits.view(-1) * margin(ans_true * 1.0))\n",
    "# #     print(marg.min())\n",
    "    \n",
    "#     disc_loss_true = torch.nn.ReLU()(marg).mean(0)\n",
    "#     disc_loss_true_true = torch.nn.ReLU()(marg_true).mean(0)\n",
    "    \n",
    "#     disc_loss = (disc_loss_true_true + disc_loss_true) / 2\n",
    "# #     disc_loss = torch.abs(torch.nn.Sigmoid()(logits).view(-1) - 1. * ans_true).mean()\n",
    "# #     acc = (1. * ((torch.nn.Sigmoid()(logits) > 0.5) == ans_true)).mean()\n",
    "# #     return disc_loss, acc\n",
    "# #     disc_loss = torch.pow(probas - (1. * ans_true), 2).mean()\n",
    "#     acc_true = (1. * ((logits_true >= 0) == ans_true)).abs().mean()\n",
    "#     acc_true_true = (1. * ((logits_true_true >= 0) == ans_true_true)).abs().mean()\n",
    "#     acc = (acc_true + acc_true_true) / 2\n",
    "#     return disc_loss, acc"
   ]
  },
  {
   "cell_type": "code",
   "execution_count": 43,
   "metadata": {},
   "outputs": [
    {
     "data": {
      "text/plain": [
       "(tensor(2.1177, device='cuda:0', grad_fn=<MeanBackward0>), 0)"
      ]
     },
     "execution_count": 43,
     "metadata": {},
     "output_type": "execute_result"
    }
   ],
   "source": [
    "disc_loss()"
   ]
  },
  {
   "cell_type": "code",
   "execution_count": null,
   "metadata": {},
   "outputs": [],
   "source": []
  },
  {
   "cell_type": "code",
   "execution_count": 44,
   "metadata": {},
   "outputs": [
    {
     "data": {
      "text/plain": [
       "tensor([[ 1.0000e+00, -8.3440e-03,  9.5791e-02,  ..., -1.3557e-01,\n",
       "          7.0304e-02, -2.8891e-02],\n",
       "        [-8.3440e-03,  1.0000e+00,  9.6498e-02,  ...,  1.2805e-01,\n",
       "         -4.0995e-02,  1.2795e-01],\n",
       "        [ 9.5791e-02,  9.6498e-02,  1.0000e+00,  ..., -1.8107e-03,\n",
       "          1.5173e-02, -8.7416e-03],\n",
       "        ...,\n",
       "        [-1.3557e-01,  1.2805e-01, -1.8107e-03,  ...,  1.0000e+00,\n",
       "          4.3871e-04,  3.0930e-02],\n",
       "        [ 7.0304e-02, -4.0995e-02,  1.5173e-02,  ...,  4.3872e-04,\n",
       "          1.0000e+00,  1.0063e-01],\n",
       "        [-2.8891e-02,  1.2795e-01, -8.7416e-03,  ...,  3.0930e-02,\n",
       "          1.0063e-01,  1.0000e+00]])"
      ]
     },
     "execution_count": 44,
     "metadata": {},
     "output_type": "execute_result"
    }
   ],
   "source": [
    "corr(torch.randn(1000, 100))"
   ]
  },
  {
   "cell_type": "code",
   "execution_count": 47,
   "metadata": {},
   "outputs": [
    {
     "data": {
      "application/vnd.jupyter.widget-view+json": {
       "model_id": "c0930349b0d74de2b3836a18cec106e1",
       "version_major": 2,
       "version_minor": 0
      },
      "text/plain": [
       "HBox(children=(HTML(value=''), FloatProgress(value=0.0, max=10000.0), HTML(value='')))"
      ]
     },
     "metadata": {},
     "output_type": "display_data"
    },
    {
     "name": "stdout",
     "output_type": "stream",
     "text": [
      "\n"
     ]
    },
    {
     "ename": "KeyboardInterrupt",
     "evalue": "",
     "output_type": "error",
     "traceback": [
      "\u001b[0;31m---------------------------------------------------------------------------\u001b[0m",
      "\u001b[0;31mKeyboardInterrupt\u001b[0m                         Traceback (most recent call last)",
      "\u001b[0;32m<ipython-input-47-043c3ba580b1>\u001b[0m in \u001b[0;36m<module>\u001b[0;34m\u001b[0m\n\u001b[1;32m      8\u001b[0m     \u001b[0mloss_dsc\u001b[0m\u001b[0;34m,\u001b[0m\u001b[0macc\u001b[0m \u001b[0;34m=\u001b[0m \u001b[0mdisc_loss\u001b[0m\u001b[0;34m(\u001b[0m\u001b[0;34m)\u001b[0m\u001b[0;34m\u001b[0m\u001b[0m\n\u001b[1;32m      9\u001b[0m     \u001b[0mloss_dsc\u001b[0m\u001b[0;34m.\u001b[0m\u001b[0mbackward\u001b[0m\u001b[0;34m(\u001b[0m\u001b[0;34m)\u001b[0m\u001b[0;34m\u001b[0m\u001b[0m\n\u001b[0;32m---> 10\u001b[0;31m     \u001b[0mopt_dsc\u001b[0m\u001b[0;34m.\u001b[0m\u001b[0mstep\u001b[0m\u001b[0;34m(\u001b[0m\u001b[0;34m)\u001b[0m\u001b[0;34m\u001b[0m\u001b[0m\n\u001b[0m\u001b[1;32m     11\u001b[0m \u001b[0;34m\u001b[0m\u001b[0m\n\u001b[1;32m     12\u001b[0m \u001b[0;31m#     opt_gen.zero_grad()\u001b[0m\u001b[0;34m\u001b[0m\u001b[0;34m\u001b[0m\u001b[0m\n",
      "\u001b[0;32m~/miniconda3/envs/causal/lib/python3.7/site-packages/torch/autograd/grad_mode.py\u001b[0m in \u001b[0;36mdecorate_context\u001b[0;34m(*args, **kwargs)\u001b[0m\n\u001b[1;32m     24\u001b[0m         \u001b[0;32mdef\u001b[0m \u001b[0mdecorate_context\u001b[0m\u001b[0;34m(\u001b[0m\u001b[0;34m*\u001b[0m\u001b[0margs\u001b[0m\u001b[0;34m,\u001b[0m \u001b[0;34m**\u001b[0m\u001b[0mkwargs\u001b[0m\u001b[0;34m)\u001b[0m\u001b[0;34m:\u001b[0m\u001b[0;34m\u001b[0m\u001b[0m\n\u001b[1;32m     25\u001b[0m             \u001b[0;32mwith\u001b[0m \u001b[0mself\u001b[0m\u001b[0;34m.\u001b[0m\u001b[0m__class__\u001b[0m\u001b[0;34m(\u001b[0m\u001b[0;34m)\u001b[0m\u001b[0;34m:\u001b[0m\u001b[0;34m\u001b[0m\u001b[0m\n\u001b[0;32m---> 26\u001b[0;31m                 \u001b[0;32mreturn\u001b[0m \u001b[0mfunc\u001b[0m\u001b[0;34m(\u001b[0m\u001b[0;34m*\u001b[0m\u001b[0margs\u001b[0m\u001b[0;34m,\u001b[0m \u001b[0;34m**\u001b[0m\u001b[0mkwargs\u001b[0m\u001b[0;34m)\u001b[0m\u001b[0;34m\u001b[0m\u001b[0m\n\u001b[0m\u001b[1;32m     27\u001b[0m         \u001b[0;32mreturn\u001b[0m \u001b[0mcast\u001b[0m\u001b[0;34m(\u001b[0m\u001b[0mF\u001b[0m\u001b[0;34m,\u001b[0m \u001b[0mdecorate_context\u001b[0m\u001b[0;34m)\u001b[0m\u001b[0;34m\u001b[0m\u001b[0m\n\u001b[1;32m     28\u001b[0m \u001b[0;34m\u001b[0m\u001b[0m\n",
      "\u001b[0;32m~/miniconda3/envs/causal/lib/python3.7/site-packages/torch/optim/adam.py\u001b[0m in \u001b[0;36mstep\u001b[0;34m(self, closure)\u001b[0m\n\u001b[1;32m    117\u001b[0m                    \u001b[0mgroup\u001b[0m\u001b[0;34m[\u001b[0m\u001b[0;34m'lr'\u001b[0m\u001b[0;34m]\u001b[0m\u001b[0;34m,\u001b[0m\u001b[0;34m\u001b[0m\u001b[0m\n\u001b[1;32m    118\u001b[0m                    \u001b[0mgroup\u001b[0m\u001b[0;34m[\u001b[0m\u001b[0;34m'weight_decay'\u001b[0m\u001b[0;34m]\u001b[0m\u001b[0;34m,\u001b[0m\u001b[0;34m\u001b[0m\u001b[0m\n\u001b[0;32m--> 119\u001b[0;31m                    \u001b[0mgroup\u001b[0m\u001b[0;34m[\u001b[0m\u001b[0;34m'eps'\u001b[0m\u001b[0;34m]\u001b[0m\u001b[0;34m\u001b[0m\u001b[0m\n\u001b[0m\u001b[1;32m    120\u001b[0m                    )\n\u001b[1;32m    121\u001b[0m         \u001b[0;32mreturn\u001b[0m \u001b[0mloss\u001b[0m\u001b[0;34m\u001b[0m\u001b[0m\n",
      "\u001b[0;32m~/miniconda3/envs/causal/lib/python3.7/site-packages/torch/optim/functional.py\u001b[0m in \u001b[0;36madam\u001b[0;34m(params, grads, exp_avgs, exp_avg_sqs, max_exp_avg_sqs, state_steps, amsgrad, beta1, beta2, lr, weight_decay, eps)\u001b[0m\n\u001b[1;32m     96\u001b[0m         \u001b[0mstep_size\u001b[0m \u001b[0;34m=\u001b[0m \u001b[0mlr\u001b[0m \u001b[0;34m/\u001b[0m \u001b[0mbias_correction1\u001b[0m\u001b[0;34m\u001b[0m\u001b[0m\n\u001b[1;32m     97\u001b[0m \u001b[0;34m\u001b[0m\u001b[0m\n\u001b[0;32m---> 98\u001b[0;31m         \u001b[0mparam\u001b[0m\u001b[0;34m.\u001b[0m\u001b[0maddcdiv_\u001b[0m\u001b[0;34m(\u001b[0m\u001b[0mexp_avg\u001b[0m\u001b[0;34m,\u001b[0m \u001b[0mdenom\u001b[0m\u001b[0;34m,\u001b[0m \u001b[0mvalue\u001b[0m\u001b[0;34m=\u001b[0m\u001b[0;34m-\u001b[0m\u001b[0mstep_size\u001b[0m\u001b[0;34m)\u001b[0m\u001b[0;34m\u001b[0m\u001b[0m\n\u001b[0m",
      "\u001b[0;31mKeyboardInterrupt\u001b[0m: "
     ]
    }
   ],
   "source": [
    "for i in tqdm(range(10000)):\n",
    "    \n",
    "#     idx_random = np.random.choice(len(ds_obs_orig), 10, replace=False)\n",
    "#     ds_obs = ds_obs_orig[idx_random, :]\n",
    "    ds_obs = ds_obs_orig\n",
    "    \n",
    "    opt_dsc.zero_grad()\n",
    "    loss_dsc,acc = disc_loss()\n",
    "    loss_dsc.backward()\n",
    "    opt_dsc.step()\n",
    "    \n",
    "#     opt_gen.zero_grad()\n",
    "#     loss_gen = gen_loss()\n",
    "#     loss_gen.backward()\n",
    "#     opt_gen.step()\n",
    "    \n",
    "    disc_losses.append(loss_dsc.item())\n",
    "#     gen_losses.append(loss_gen.item())\n",
    "    accs.append(acc)"
   ]
  },
  {
   "cell_type": "code",
   "execution_count": 48,
   "metadata": {},
   "outputs": [
    {
     "data": {
      "text/plain": [
       "[<matplotlib.lines.Line2D at 0x7fd73c5c69b0>]"
      ]
     },
     "execution_count": 48,
     "metadata": {},
     "output_type": "execute_result"
    },
    {
     "data": {
      "image/png": "[encoded data removed]",
      "text/plain": [
       "<Figure size 432x288 with 2 Axes>"
      ]
     },
     "metadata": {
      "needs_background": "light"
     },
     "output_type": "display_data"
    }
   ],
   "source": [
    "plt.subplot(1, 2, 1)\n",
    "plt.title('disc')\n",
    "plt.plot(disc_losses)\n",
    "plt.yscale('log')\n",
    "plt.subplot(1, 2, 2)\n",
    "plt.title('acc')\n",
    "plt.plot(accs)"
   ]
  },
  {
   "cell_type": "code",
   "execution_count": 49,
   "metadata": {},
   "outputs": [
    {
     "data": {
      "text/plain": [
       "torch.Size([900, 693])"
      ]
     },
     "execution_count": 49,
     "metadata": {},
     "output_type": "execute_result"
    }
   ],
   "source": [
    "ds_obs.shape"
   ]
  },
  {
   "cell_type": "code",
   "execution_count": 50,
   "metadata": {},
   "outputs": [
    {
     "data": {
      "text/plain": [
       "0"
      ]
     },
     "execution_count": 50,
     "metadata": {},
     "output_type": "execute_result"
    }
   ],
   "source": [
    "acc"
   ]
  },
  {
   "cell_type": "code",
   "execution_count": 51,
   "metadata": {},
   "outputs": [],
   "source": [
    "df = pd.DataFrame(decoder(ds_obs).detach().cpu().numpy())"
   ]
  },
  {
   "cell_type": "code",
   "execution_count": 52,
   "metadata": {},
   "outputs": [
    {
     "data": {
      "text/html": [
       "<div>\n",
       "<style scoped>\n",
       "    .dataframe tbody tr th:only-of-type {\n",
       "        vertical-align: middle;\n",
       "    }\n",
       "\n",
       "    .dataframe tbody tr th {\n",
       "        vertical-align: top;\n",
       "    }\n",
       "\n",
       "    .dataframe thead th {\n",
       "        text-align: right;\n",
       "    }\n",
       "</style>\n",
       "<table border=\"1\" class=\"dataframe\">\n",
       "  <thead>\n",
       "    <tr style=\"text-align: right;\">\n",
       "      <th></th>\n",
       "      <th>0</th>\n",
       "      <th>1</th>\n",
       "      <th>2</th>\n",
       "      <th>3</th>\n",
       "      <th>4</th>\n",
       "      <th>5</th>\n",
       "      <th>6</th>\n",
       "      <th>7</th>\n",
       "      <th>8</th>\n",
       "      <th>9</th>\n",
       "    </tr>\n",
       "  </thead>\n",
       "  <tbody>\n",
       "    <tr>\n",
       "      <th>count</th>\n",
       "      <td>900.000000</td>\n",
       "      <td>900.000000</td>\n",
       "      <td>900.000000</td>\n",
       "      <td>900.000000</td>\n",
       "      <td>900.000000</td>\n",
       "      <td>900.000000</td>\n",
       "      <td>900.000000</td>\n",
       "      <td>900.000000</td>\n",
       "      <td>900.000000</td>\n",
       "      <td>900.000000</td>\n",
       "    </tr>\n",
       "    <tr>\n",
       "      <th>mean</th>\n",
       "      <td>-0.035047</td>\n",
       "      <td>0.127900</td>\n",
       "      <td>0.055749</td>\n",
       "      <td>0.053833</td>\n",
       "      <td>-0.034476</td>\n",
       "      <td>-0.032898</td>\n",
       "      <td>0.002676</td>\n",
       "      <td>-0.004913</td>\n",
       "      <td>0.012392</td>\n",
       "      <td>0.119765</td>\n",
       "    </tr>\n",
       "    <tr>\n",
       "      <th>std</th>\n",
       "      <td>0.814115</td>\n",
       "      <td>0.739854</td>\n",
       "      <td>0.580515</td>\n",
       "      <td>0.714924</td>\n",
       "      <td>0.681313</td>\n",
       "      <td>0.776820</td>\n",
       "      <td>0.754991</td>\n",
       "      <td>0.720216</td>\n",
       "      <td>0.678483</td>\n",
       "      <td>0.794850</td>\n",
       "    </tr>\n",
       "    <tr>\n",
       "      <th>min</th>\n",
       "      <td>-2.107828</td>\n",
       "      <td>-4.673901</td>\n",
       "      <td>-2.645548</td>\n",
       "      <td>-3.143298</td>\n",
       "      <td>-7.289146</td>\n",
       "      <td>-2.371760</td>\n",
       "      <td>-7.494442</td>\n",
       "      <td>-2.960361</td>\n",
       "      <td>-8.269010</td>\n",
       "      <td>-6.995948</td>\n",
       "    </tr>\n",
       "    <tr>\n",
       "      <th>25%</th>\n",
       "      <td>-0.492486</td>\n",
       "      <td>-0.183112</td>\n",
       "      <td>-0.241785</td>\n",
       "      <td>-0.411490</td>\n",
       "      <td>-0.266399</td>\n",
       "      <td>-0.510400</td>\n",
       "      <td>-0.456141</td>\n",
       "      <td>-0.391561</td>\n",
       "      <td>-0.301809</td>\n",
       "      <td>-0.352702</td>\n",
       "    </tr>\n",
       "    <tr>\n",
       "      <th>50%</th>\n",
       "      <td>-0.053519</td>\n",
       "      <td>0.140866</td>\n",
       "      <td>0.035246</td>\n",
       "      <td>0.090243</td>\n",
       "      <td>-0.054656</td>\n",
       "      <td>-0.055814</td>\n",
       "      <td>-0.022096</td>\n",
       "      <td>-0.029116</td>\n",
       "      <td>0.033047</td>\n",
       "      <td>0.106515</td>\n",
       "    </tr>\n",
       "    <tr>\n",
       "      <th>75%</th>\n",
       "      <td>0.317883</td>\n",
       "      <td>0.456187</td>\n",
       "      <td>0.292842</td>\n",
       "      <td>0.466489</td>\n",
       "      <td>0.159029</td>\n",
       "      <td>0.405714</td>\n",
       "      <td>0.467848</td>\n",
       "      <td>0.411322</td>\n",
       "      <td>0.359689</td>\n",
       "      <td>0.568101</td>\n",
       "    </tr>\n",
       "    <tr>\n",
       "      <th>max</th>\n",
       "      <td>5.416821</td>\n",
       "      <td>6.593935</td>\n",
       "      <td>4.667097</td>\n",
       "      <td>4.173872</td>\n",
       "      <td>7.371929</td>\n",
       "      <td>5.016850</td>\n",
       "      <td>3.436746</td>\n",
       "      <td>9.328987</td>\n",
       "      <td>3.113094</td>\n",
       "      <td>4.445553</td>\n",
       "    </tr>\n",
       "  </tbody>\n",
       "</table>\n",
       "</div>"
      ],
      "text/plain": [
       "                0           1           2           3           4           5  \\\n",
       "count  900.000000  900.000000  900.000000  900.000000  900.000000  900.000000   \n",
       "mean    -0.035047    0.127900    0.055749    0.053833   -0.034476   -0.032898   \n",
       "std      0.814115    0.739854    0.580515    0.714924    0.681313    0.776820   \n",
       "min     -2.107828   -4.673901   -2.645548   -3.143298   -7.289146   -2.371760   \n",
       "25%     -0.492486   -0.183112   -0.241785   -0.411490   -0.266399   -0.510400   \n",
       "50%     -0.053519    0.140866    0.035246    0.090243   -0.054656   -0.055814   \n",
       "75%      0.317883    0.456187    0.292842    0.466489    0.159029    0.405714   \n",
       "max      5.416821    6.593935    4.667097    4.173872    7.371929    5.016850   \n",
       "\n",
       "                6           7           8           9  \n",
       "count  900.000000  900.000000  900.000000  900.000000  \n",
       "mean     0.002676   -0.004913    0.012392    0.119765  \n",
       "std      0.754991    0.720216    0.678483    0.794850  \n",
       "min     -7.494442   -2.960361   -8.269010   -6.995948  \n",
       "25%     -0.456141   -0.391561   -0.301809   -0.352702  \n",
       "50%     -0.022096   -0.029116    0.033047    0.106515  \n",
       "75%      0.467848    0.411322    0.359689    0.568101  \n",
       "max      3.436746    9.328987    3.113094    4.445553  "
      ]
     },
     "execution_count": 52,
     "metadata": {},
     "output_type": "execute_result"
    }
   ],
   "source": [
    "df.describe()"
   ]
  },
  {
   "cell_type": "code",
   "execution_count": 53,
   "metadata": {},
   "outputs": [
    {
     "ename": "NameError",
     "evalue": "name 'dataset_features' is not defined",
     "output_type": "error",
     "traceback": [
      "\u001b[0;31m---------------------------------------------------------------------------\u001b[0m",
      "\u001b[0;31mNameError\u001b[0m                                 Traceback (most recent call last)",
      "\u001b[0;32m<ipython-input-53-091fff38bb41>\u001b[0m in \u001b[0;36m<module>\u001b[0;34m\u001b[0m\n\u001b[0;32m----> 1\u001b[0;31m \u001b[0msns\u001b[0m\u001b[0;34m.\u001b[0m\u001b[0mheatmap\u001b[0m\u001b[0;34m(\u001b[0m\u001b[0mpd\u001b[0m\u001b[0;34m.\u001b[0m\u001b[0mconcat\u001b[0m\u001b[0;34m(\u001b[0m\u001b[0;34m[\u001b[0m\u001b[0mpd\u001b[0m\u001b[0;34m.\u001b[0m\u001b[0mDataFrame\u001b[0m\u001b[0;34m(\u001b[0m\u001b[0mdataset_features\u001b[0m\u001b[0;34m)\u001b[0m\u001b[0;34m,\u001b[0m \u001b[0mdf\u001b[0m\u001b[0;34m]\u001b[0m\u001b[0;34m,\u001b[0m \u001b[0maxis\u001b[0m\u001b[0;34m=\u001b[0m\u001b[0;36m1\u001b[0m\u001b[0;34m)\u001b[0m\u001b[0;34m.\u001b[0m\u001b[0mcorr\u001b[0m\u001b[0;34m(\u001b[0m\u001b[0;34m)\u001b[0m\u001b[0;34m)\u001b[0m\u001b[0;34m\u001b[0m\u001b[0m\n\u001b[0m",
      "\u001b[0;31mNameError\u001b[0m: name 'dataset_features' is not defined"
     ]
    }
   ],
   "source": [
    "sns.heatmap(pd.concat([pd.DataFrame(dataset_features), df], axis=1).corr())"
   ]
  },
  {
   "cell_type": "code",
   "execution_count": 54,
   "metadata": {},
   "outputs": [
    {
     "ename": "NameError",
     "evalue": "name 'dataset_features' is not defined",
     "output_type": "error",
     "traceback": [
      "\u001b[0;31m---------------------------------------------------------------------------\u001b[0m",
      "\u001b[0;31mNameError\u001b[0m                                 Traceback (most recent call last)",
      "\u001b[0;32m<ipython-input-54-529e3a087fdc>\u001b[0m in \u001b[0;36m<module>\u001b[0;34m\u001b[0m\n\u001b[0;32m----> 1\u001b[0;31m \u001b[0mplt\u001b[0m\u001b[0;34m.\u001b[0m\u001b[0mscatter\u001b[0m\u001b[0;34m(\u001b[0m\u001b[0mdf\u001b[0m\u001b[0;34m[\u001b[0m\u001b[0;36m3\u001b[0m\u001b[0;34m]\u001b[0m\u001b[0;34m,\u001b[0m \u001b[0mdataset_features\u001b[0m\u001b[0;34m[\u001b[0m\u001b[0;34m:\u001b[0m\u001b[0;34m,\u001b[0m \u001b[0;36m0\u001b[0m\u001b[0;34m]\u001b[0m\u001b[0;34m)\u001b[0m\u001b[0;31m# - dataset_features[:, 1])\u001b[0m\u001b[0;34m\u001b[0m\u001b[0m\n\u001b[0m",
      "\u001b[0;31mNameError\u001b[0m: name 'dataset_features' is not defined"
     ]
    }
   ],
   "source": [
    "plt.scatter(df[3], dataset_features[:, 0])# - dataset_features[:, 1])"
   ]
  },
  {
   "cell_type": "code",
   "execution_count": 55,
   "metadata": {},
   "outputs": [
    {
     "ename": "NameError",
     "evalue": "name 'dataset_features' is not defined",
     "output_type": "error",
     "traceback": [
      "\u001b[0;31m---------------------------------------------------------------------------\u001b[0m",
      "\u001b[0;31mNameError\u001b[0m                                 Traceback (most recent call last)",
      "\u001b[0;32m<ipython-input-55-da735e161d3c>\u001b[0m in \u001b[0;36m<module>\u001b[0;34m\u001b[0m\n\u001b[0;32m----> 1\u001b[0;31m \u001b[0mplt\u001b[0m\u001b[0;34m.\u001b[0m\u001b[0mscatter\u001b[0m\u001b[0;34m(\u001b[0m\u001b[0mdf\u001b[0m\u001b[0;34m[\u001b[0m\u001b[0;36m1\u001b[0m\u001b[0;34m]\u001b[0m\u001b[0;34m,\u001b[0m \u001b[0mdataset_features\u001b[0m\u001b[0;34m[\u001b[0m\u001b[0;34m:\u001b[0m\u001b[0;34m,\u001b[0m \u001b[0;36m0\u001b[0m\u001b[0;34m]\u001b[0m \u001b[0;34m-\u001b[0m \u001b[0mdataset_features\u001b[0m\u001b[0;34m[\u001b[0m\u001b[0;34m:\u001b[0m\u001b[0;34m,\u001b[0m \u001b[0;36m1\u001b[0m\u001b[0;34m]\u001b[0m\u001b[0;34m)\u001b[0m\u001b[0;34m\u001b[0m\u001b[0m\n\u001b[0m",
      "\u001b[0;31mNameError\u001b[0m: name 'dataset_features' is not defined"
     ]
    }
   ],
   "source": [
    "plt.scatter(df[1], dataset_features[:, 0] - dataset_features[:, 1])"
   ]
  },
  {
   "cell_type": "markdown",
   "metadata": {},
   "source": [
    "# GAN and a reconstructor"
   ]
  },
  {
   "cell_type": "code",
   "execution_count": 753,
   "metadata": {},
   "outputs": [],
   "source": [
    "bce = torch.nn.BCEWithLogitsLoss(reduction='none')"
   ]
  },
  {
   "cell_type": "code",
   "execution_count": 754,
   "metadata": {},
   "outputs": [],
   "source": [
    "decoder = Decoder().cuda()"
   ]
  },
  {
   "cell_type": "code",
   "execution_count": 755,
   "metadata": {},
   "outputs": [],
   "source": [
    "class Reconstructor(nn.Module):\n",
    "    def __init__(self):\n",
    "        super(Reconstructor, self).__init__()\n",
    "        self.fc1 = nn.Linear(in_features=10, out_features=693)\n",
    "        self.fc2 = nn.Linear(in_features=693, out_features=693)\n",
    "        self.act = nn.Tanh()\n",
    "        self.bn1 = torch.nn.BatchNorm1d(10)\n",
    "        self.bn2 = torch.nn.BatchNorm1d(693)\n",
    "    def forward(self, x):\n",
    "        x = self.bn1(x)\n",
    "        x = self.act(self.fc1(x))\n",
    "        x = self.bn2(x)\n",
    "        x = self.fc2(x)\n",
    "        return x\n",
    "rec = Reconstructor().cuda()"
   ]
  },
  {
   "cell_type": "code",
   "execution_count": 756,
   "metadata": {},
   "outputs": [],
   "source": [
    "class ReconstructedDiscriminator(nn.Module):\n",
    "    def __init__(self, decoder_cls):\n",
    "        super(ReconstructedDiscriminator, self).__init__()\n",
    "        self.decoder1 = decoder_cls()\n",
    "#         self.decoder2 = decoder_cls()\n",
    "        self.fc1 = nn.Linear(in_features=693, out_features=50)\n",
    "        self.fc2 = nn.Linear(in_features=50, out_features=1)\n",
    "        self.act = nn.Tanh()\n",
    "        self.bn = torch.nn.BatchNorm1d(100)\n",
    "    def forward(self, obs_1):#, obs_2):\n",
    "#         z = (obs_1 - obs_2).pow(2)\n",
    "        z = obs_1# - obs2\n",
    "#         z = self.bn(z)\n",
    "#         f1 = self.decoder1(z)\n",
    "#         f2 = self.decoder1(obs_2)\n",
    "#         all_f = f1 - f2\n",
    "        all_f = z#f1\n",
    "#         f2 = self.decoder1(obs_2)\n",
    "#         all_f = torch.cat([f1, f2], dim=1)\n",
    "#         all_f = f1\n",
    "        x = all_f\n",
    "        x = self.act(self.fc1(x))\n",
    "        x = self.fc2(x)\n",
    "        return x"
   ]
  },
  {
   "cell_type": "code",
   "execution_count": 757,
   "metadata": {},
   "outputs": [],
   "source": [
    "disc = ReconstructedDiscriminator(Decoder).cuda()"
   ]
  },
  {
   "cell_type": "code",
   "execution_count": 758,
   "metadata": {},
   "outputs": [
    {
     "data": {
      "text/plain": [
       "tensor([3., 4.])"
      ]
     },
     "execution_count": 758,
     "metadata": {},
     "output_type": "execute_result"
    }
   ],
   "source": [
    "torch.max(torch.tensor([1.0, 2.0]), torch.tensor([3.0, 4.0]))"
   ]
  },
  {
   "cell_type": "code",
   "execution_count": 759,
   "metadata": {},
   "outputs": [],
   "source": [
    "def disc_loss():\n",
    "    logits_true = disc(ds_obs)#, torch.zeros_like(ds_obs))\n",
    "    probas_true = torch.nn.Sigmoid()(logits_true).view(-1)\n",
    "    ans_true = torch.full(fill_value=True, size=(ds_obs.shape[0],)).cuda()\n",
    "    disc_loss_true = bce(logits_true.view(-1), 1. * ans_true).mean()\n",
    "    acc_true = (1. * ((probas_true >= 0.5) == ans_true)).abs().mean()\n",
    "    \n",
    "    logits_false = disc(rec(decoder(ds_obs))) # torch.zeros_like(ds_obs)\n",
    "    probas_false = torch.nn.Sigmoid()(logits_false).view(-1)\n",
    "    ans_false = torch.full(fill_value=False, size=(ds_obs.shape[0],)).cuda()\n",
    "    disc_loss_false = bce(logits_false.view(-1), 1. * ans_false).mean()\n",
    "    acc_false = (1. * ((probas_false >= 0.5) == ans_false)).abs().mean()\n",
    "    \n",
    "    return (disc_loss_true + disc_loss_false) / 2, (acc_true + acc_false) / 2\n",
    "\n",
    "def gen_loss():\n",
    "    logits_false = disc(rec(decoder(ds_obs))) # torch.zeros_like(ds_obs)\n",
    "    probas_false = torch.nn.Sigmoid()(logits_false).view(-1)\n",
    "    ans_false = torch.full(fill_value=True, size=(ds_obs.shape[0],)).cuda()\n",
    "    disc_loss_false = bce(logits_false.view(-1), 1. * ans_false).mean()\n",
    "    acc_false = (1. * ((probas_false >= 0.5) == ans_false)).abs().mean()\n",
    "    \n",
    "    return disc_loss_false, acc_false\n",
    "\n",
    "def gen_loss_l2():\n",
    "    ds_rec_obs = rec(decoder(ds_obs))\n",
    "    delta = ds_obs - ds_rec_obs\n",
    "    delta = delta.pow(2).sum(1).mean()\n",
    "    return delta\n",
    "\n",
    "def gen_loss_l2_relative(eps=1e-6):\n",
    "    ds_rec_obs = rec(decoder(ds_obs))\n",
    "    delta = ds_obs - ds_rec_obs\n",
    "#     delta_magnitude = torch.max(ds_obs.abs(), ds_rec_obs.abs())\n",
    "#     delta_magnitude = ds_obs.abs()\n",
    "#     delta_magnitude = torch.max(delta_magnitude, delta.abs())\n",
    "#     delta_magnitude = delta_magnitude# + eps\n",
    "    delta_magnitude = ds_obs.std(0).unsqueeze(0)\n",
    "    \n",
    "#     cond = delta_magnitude.repeat(ds_obs.shape[0],\n",
    "#                                                1) < eps\n",
    "    \n",
    "#     delta = torch.where(cond,\n",
    "#                         torch.zeros_like(delta), delta)\n",
    "    \n",
    "#     delta_magnitude = torch.where(cond,\n",
    "#                                  torch.ones_like(delta_magnitude),\n",
    "#                                  delta_magnitude)\n",
    "    \n",
    "    delta_magnitude = torch.where(delta_magnitude < eps,\n",
    "                                  torch.ones_like(delta_magnitude),\n",
    "                                  delta_magnitude)\n",
    "    \n",
    "    delta_orig = delta\n",
    "    delta = delta / delta_magnitude\n",
    "    \n",
    "#     print(delta_magnitude)\n",
    "    \n",
    "#     is_good = (~torch.isinf(delta)) & (~torch.isnan(delta))\n",
    "    \n",
    "#     delta = torch.where(is_good, delta, torch.zeros_like(delta))\n",
    "#     print(delta)\n",
    "#     print(is_good)\n",
    "    delta = delta.pow(2).sum(1).mean()# + delta_orig.pow(2).sum(1).mean()\n",
    "    return delta"
   ]
  },
  {
   "cell_type": "code",
   "execution_count": 760,
   "metadata": {},
   "outputs": [
    {
     "name": "stdout",
     "output_type": "stream",
     "text": [
      "Object `(torch.repeat)` not found.\n"
     ]
    }
   ],
   "source": [
    "?(torch.repeat)"
   ]
  },
  {
   "cell_type": "code",
   "execution_count": 761,
   "metadata": {},
   "outputs": [],
   "source": [
    "ds_rec_obs = rec(decoder(ds_obs))\n",
    "delta = ds_obs - ds_rec_obs\n",
    "eps=1e-8\n",
    "delta_magnitude = torch.max(ds_obs.abs(), ds_rec_obs.abs()) + eps"
   ]
  },
  {
   "cell_type": "code",
   "execution_count": 762,
   "metadata": {},
   "outputs": [
    {
     "data": {
      "text/plain": [
       "tensor(2173.7434, device='cuda:0', grad_fn=<MeanBackward0>)"
      ]
     },
     "execution_count": 762,
     "metadata": {},
     "output_type": "execute_result"
    }
   ],
   "source": [
    "gen_loss_l2_relative()"
   ]
  },
  {
   "cell_type": "code",
   "execution_count": 763,
   "metadata": {},
   "outputs": [],
   "source": [
    "class VarianceLossLRDecay():\n",
    "    \"\"\"If the variance is lower than the improvement by a factor, decrease the lr.\n",
    "    \n",
    "    When reached minimal learning rate, reset to default one and reset the optimizer.\"\"\"\n",
    "    def __init__(self, optimizer, factor_lr_decrease=0.5,\n",
    "                 grace_epochs=1000,\n",
    "                 var_factor=5,\n",
    "                 min_lr=1e-6,\n",
    "                 default_lr=1e-3,\n",
    "                 rolling_epochs=100):\n",
    "        self.optimizer = optimizer\n",
    "        self.factor_lr_decrease = factor_lr_decrease\n",
    "        self.grace_epochs = grace_epochs\n",
    "        self.rolling_epochs = rolling_epochs\n",
    "        self.var_factor = var_factor\n",
    "        self.min_lr = min_lr\n",
    "        self.default_lr = default_lr\n",
    "        self.reset()\n",
    "        \n",
    "    def set_lr(self, lr):\n",
    "        self.lr = lr\n",
    "        for g in self.optimizer.param_groups:\n",
    "            g['lr'] = self.lr\n",
    "        \n",
    "    def reset(self):\n",
    "        self.epochs = 0\n",
    "        self.loss_history = []\n",
    "        self.set_lr(self.default_lr)\n",
    "        \n",
    "    def step(self, loss_value):\n",
    "        if hasattr(loss_value, 'item'):\n",
    "            loss_value = loss_value.item()\n",
    "        self.loss_history.append(loss_value)\n",
    "        self.epochs += 1\n",
    "        \n",
    "        if len(self.loss_history) >= self.grace_epochs + self.rolling_epochs and (self.epochs % self.grace_epochs) == 0:\n",
    "            smoothed_loss = pd.Series(self.loss_history).rolling(self.rolling_epochs).median()\n",
    "#             print(\"smoothed len\", len(smoothed_loss))\n",
    "            smoothed_loss = list(smoothed_loss)\n",
    "            smoothed_loss_then = smoothed_loss[-self.grace_epochs]\n",
    "            smoothed_loss_now = smoothed_loss[-1]\n",
    "            \n",
    "            # example: then=1, now=-1 -> improvement = 2/1=2\n",
    "            absolute_improvement = (smoothed_loss_then - smoothed_loss_now)# / smoothed_loss_then\n",
    "            loss_std = np.abs(np.std(self.loss_history[-self.grace_epochs:]) - np.std(smoothed_loss[-self.grace_epochs:]))\n",
    "            \n",
    "            print(f\"Epoch {self.epochs} abs improvement {absolute_improvement} {loss_std}\")\n",
    "            \n",
    "#             if relative_improvement < self.factor_loss_relative:\n",
    "            if absolute_improvement < loss_std * self.var_factor:\n",
    "                self.set_lr(self.lr * self.factor_lr_decrease)\n",
    "                print(f'Decreasing lr...')\n",
    "                \n",
    "        if self.lr < self.min_lr:\n",
    "            self.reset()"
   ]
  },
  {
   "cell_type": "code",
   "execution_count": null,
   "metadata": {},
   "outputs": [],
   "source": []
  },
  {
   "cell_type": "code",
   "execution_count": 764,
   "metadata": {},
   "outputs": [
    {
     "data": {
      "text/plain": [
       "((tensor(0.6989, device='cuda:0', grad_fn=<DivBackward0>),\n",
       "  tensor(0.6461, device='cuda:0')),\n",
       " (tensor(0.6716, device='cuda:0', grad_fn=<MeanBackward0>),\n",
       "  tensor(0.6122, device='cuda:0')),\n",
       " tensor(291.0066, device='cuda:0', grad_fn=<MeanBackward0>))"
      ]
     },
     "execution_count": 764,
     "metadata": {},
     "output_type": "execute_result"
    }
   ],
   "source": [
    "disc_loss(), gen_loss(), gen_loss_l2()"
   ]
  },
  {
   "cell_type": "code",
   "execution_count": 765,
   "metadata": {},
   "outputs": [],
   "source": [
    "opt_disc = torch.optim.Adam(disc.parameters(), lr=1e-3)\n",
    "opt_l2 = torch.optim.Adam(list(decoder.parameters()) + list(rec.parameters()), lr=1e-4)\n",
    "opt_rec = torch.optim.Adam(list(decoder.parameters()) + list(rec.parameters()), lr=1e-3)"
   ]
  },
  {
   "cell_type": "code",
   "execution_count": 766,
   "metadata": {},
   "outputs": [],
   "source": [
    "sch_disc = VarianceLossLRDecay(opt_disc)\n",
    "sch_l2 = VarianceLossLRDecay(opt_l2)\n",
    "sch_rec = VarianceLossLRDecay(opt_rec)"
   ]
  },
  {
   "cell_type": "code",
   "execution_count": 767,
   "metadata": {},
   "outputs": [],
   "source": [
    "acc_gens = []\n",
    "acc_discs = []\n",
    "loss_gens = []\n",
    "loss_discs = []\n",
    "loss_l2s = []"
   ]
  },
  {
   "cell_type": "code",
   "execution_count": 783,
   "metadata": {},
   "outputs": [
    {
     "data": {
      "application/vnd.jupyter.widget-view+json": {
       "model_id": "f5770a33443a4d6cbaaadd008b1d3721",
       "version_major": 2,
       "version_minor": 0
      },
      "text/plain": [
       "HBox(children=(HTML(value=''), FloatProgress(value=0.0, max=10000.0), HTML(value='')))"
      ]
     },
     "metadata": {},
     "output_type": "display_data"
    },
    {
     "name": "stdout",
     "output_type": "stream",
     "text": [
      "Epoch 8000 abs improvement 0.39166170358657837 0.029818070104817115\n",
      "Epoch 8000 abs improvement -0.04420876502990723 0.0014353519661439613\n",
      "Decreasing lr...\n",
      "\n"
     ]
    },
    {
     "ename": "KeyboardInterrupt",
     "evalue": "",
     "output_type": "error",
     "traceback": [
      "\u001b[0;31m---------------------------------------------------------------------------\u001b[0m",
      "\u001b[0;31mKeyboardInterrupt\u001b[0m                         Traceback (most recent call last)",
      "\u001b[0;32m<ipython-input-783-f043f1ea586b>\u001b[0m in \u001b[0;36m<module>\u001b[0;34m\u001b[0m\n\u001b[1;32m     14\u001b[0m     \u001b[0mopt_rec\u001b[0m\u001b[0;34m.\u001b[0m\u001b[0mstep\u001b[0m\u001b[0;34m(\u001b[0m\u001b[0;34m)\u001b[0m\u001b[0;34m\u001b[0m\u001b[0m\n\u001b[1;32m     15\u001b[0m \u001b[0;34m\u001b[0m\u001b[0m\n\u001b[0;32m---> 16\u001b[0;31m     \u001b[0mreconstructed\u001b[0m \u001b[0;34m=\u001b[0m \u001b[0mrec\u001b[0m\u001b[0;34m(\u001b[0m\u001b[0mdecoder\u001b[0m\u001b[0;34m(\u001b[0m\u001b[0mds_obs\u001b[0m\u001b[0;34m)\u001b[0m\u001b[0;34m)\u001b[0m\u001b[0;34m\u001b[0m\u001b[0m\n\u001b[0m\u001b[1;32m     17\u001b[0m     \u001b[0macc_gen\u001b[0m \u001b[0;34m=\u001b[0m \u001b[0;34m(\u001b[0m\u001b[0;36m1.\u001b[0m \u001b[0;34m*\u001b[0m \u001b[0;34m(\u001b[0m\u001b[0mreconstructed\u001b[0m \u001b[0;34m>\u001b[0m \u001b[0;36m0.5\u001b[0m\u001b[0;34m)\u001b[0m \u001b[0;34m-\u001b[0m \u001b[0mds_obs\u001b[0m\u001b[0;34m)\u001b[0m\u001b[0;34m.\u001b[0m\u001b[0mabs\u001b[0m\u001b[0;34m(\u001b[0m\u001b[0;34m)\u001b[0m\u001b[0;34m.\u001b[0m\u001b[0mmean\u001b[0m\u001b[0;34m(\u001b[0m\u001b[0;34m)\u001b[0m\u001b[0;34m\u001b[0m\u001b[0m\n\u001b[1;32m     18\u001b[0m \u001b[0;34m\u001b[0m\u001b[0m\n",
      "\u001b[0;32m~/miniconda3/envs/causal/lib/python3.7/site-packages/torch/nn/modules/module.py\u001b[0m in \u001b[0;36m_call_impl\u001b[0;34m(self, *input, **kwargs)\u001b[0m\n\u001b[1;32m    725\u001b[0m             \u001b[0mresult\u001b[0m \u001b[0;34m=\u001b[0m \u001b[0mself\u001b[0m\u001b[0;34m.\u001b[0m\u001b[0m_slow_forward\u001b[0m\u001b[0;34m(\u001b[0m\u001b[0;34m*\u001b[0m\u001b[0minput\u001b[0m\u001b[0;34m,\u001b[0m \u001b[0;34m**\u001b[0m\u001b[0mkwargs\u001b[0m\u001b[0;34m)\u001b[0m\u001b[0;34m\u001b[0m\u001b[0m\n\u001b[1;32m    726\u001b[0m         \u001b[0;32melse\u001b[0m\u001b[0;34m:\u001b[0m\u001b[0;34m\u001b[0m\u001b[0m\n\u001b[0;32m--> 727\u001b[0;31m             \u001b[0mresult\u001b[0m \u001b[0;34m=\u001b[0m \u001b[0mself\u001b[0m\u001b[0;34m.\u001b[0m\u001b[0mforward\u001b[0m\u001b[0;34m(\u001b[0m\u001b[0;34m*\u001b[0m\u001b[0minput\u001b[0m\u001b[0;34m,\u001b[0m \u001b[0;34m**\u001b[0m\u001b[0mkwargs\u001b[0m\u001b[0;34m)\u001b[0m\u001b[0;34m\u001b[0m\u001b[0m\n\u001b[0m\u001b[1;32m    728\u001b[0m         for hook in itertools.chain(\n\u001b[1;32m    729\u001b[0m                 \u001b[0m_global_forward_hooks\u001b[0m\u001b[0;34m.\u001b[0m\u001b[0mvalues\u001b[0m\u001b[0;34m(\u001b[0m\u001b[0;34m)\u001b[0m\u001b[0;34m,\u001b[0m\u001b[0;34m\u001b[0m\u001b[0m\n",
      "\u001b[0;32m<ipython-input-8-a0ab2f60fe6a>\u001b[0m in \u001b[0;36mforward\u001b[0;34m(self, x)\u001b[0m\n\u001b[1;32m      8\u001b[0m         \u001b[0mself\u001b[0m\u001b[0;34m.\u001b[0m\u001b[0mact\u001b[0m \u001b[0;34m=\u001b[0m \u001b[0mnn\u001b[0m\u001b[0;34m.\u001b[0m\u001b[0mTanh\u001b[0m\u001b[0;34m(\u001b[0m\u001b[0;34m)\u001b[0m\u001b[0;34m\u001b[0m\u001b[0m\n\u001b[1;32m      9\u001b[0m     \u001b[0;32mdef\u001b[0m \u001b[0mforward\u001b[0m\u001b[0;34m(\u001b[0m\u001b[0mself\u001b[0m\u001b[0;34m,\u001b[0m \u001b[0mx\u001b[0m\u001b[0;34m)\u001b[0m\u001b[0;34m:\u001b[0m\u001b[0;34m\u001b[0m\u001b[0m\n\u001b[0;32m---> 10\u001b[0;31m         \u001b[0mx\u001b[0m \u001b[0;34m=\u001b[0m \u001b[0mself\u001b[0m\u001b[0;34m.\u001b[0m\u001b[0mbn1\u001b[0m\u001b[0;34m(\u001b[0m\u001b[0mx\u001b[0m\u001b[0;34m)\u001b[0m\u001b[0;34m\u001b[0m\u001b[0m\n\u001b[0m\u001b[1;32m     11\u001b[0m         \u001b[0mx\u001b[0m \u001b[0;34m=\u001b[0m \u001b[0mself\u001b[0m\u001b[0;34m.\u001b[0m\u001b[0mact\u001b[0m\u001b[0;34m(\u001b[0m\u001b[0mself\u001b[0m\u001b[0;34m.\u001b[0m\u001b[0mfc1\u001b[0m\u001b[0;34m(\u001b[0m\u001b[0mx\u001b[0m\u001b[0;34m)\u001b[0m\u001b[0;34m)\u001b[0m\u001b[0;34m\u001b[0m\u001b[0m\n\u001b[1;32m     12\u001b[0m         \u001b[0mx\u001b[0m \u001b[0;34m=\u001b[0m \u001b[0mself\u001b[0m\u001b[0;34m.\u001b[0m\u001b[0mbn2\u001b[0m\u001b[0;34m(\u001b[0m\u001b[0mx\u001b[0m\u001b[0;34m)\u001b[0m\u001b[0;34m\u001b[0m\u001b[0m\n",
      "\u001b[0;32m~/miniconda3/envs/causal/lib/python3.7/site-packages/torch/nn/modules/module.py\u001b[0m in \u001b[0;36m_call_impl\u001b[0;34m(self, *input, **kwargs)\u001b[0m\n\u001b[1;32m    725\u001b[0m             \u001b[0mresult\u001b[0m \u001b[0;34m=\u001b[0m \u001b[0mself\u001b[0m\u001b[0;34m.\u001b[0m\u001b[0m_slow_forward\u001b[0m\u001b[0;34m(\u001b[0m\u001b[0;34m*\u001b[0m\u001b[0minput\u001b[0m\u001b[0;34m,\u001b[0m \u001b[0;34m**\u001b[0m\u001b[0mkwargs\u001b[0m\u001b[0;34m)\u001b[0m\u001b[0;34m\u001b[0m\u001b[0m\n\u001b[1;32m    726\u001b[0m         \u001b[0;32melse\u001b[0m\u001b[0;34m:\u001b[0m\u001b[0;34m\u001b[0m\u001b[0m\n\u001b[0;32m--> 727\u001b[0;31m             \u001b[0mresult\u001b[0m \u001b[0;34m=\u001b[0m \u001b[0mself\u001b[0m\u001b[0;34m.\u001b[0m\u001b[0mforward\u001b[0m\u001b[0;34m(\u001b[0m\u001b[0;34m*\u001b[0m\u001b[0minput\u001b[0m\u001b[0;34m,\u001b[0m \u001b[0;34m**\u001b[0m\u001b[0mkwargs\u001b[0m\u001b[0;34m)\u001b[0m\u001b[0;34m\u001b[0m\u001b[0m\n\u001b[0m\u001b[1;32m    728\u001b[0m         for hook in itertools.chain(\n\u001b[1;32m    729\u001b[0m                 \u001b[0m_global_forward_hooks\u001b[0m\u001b[0;34m.\u001b[0m\u001b[0mvalues\u001b[0m\u001b[0;34m(\u001b[0m\u001b[0;34m)\u001b[0m\u001b[0;34m,\u001b[0m\u001b[0;34m\u001b[0m\u001b[0m\n",
      "\u001b[0;32m~/miniconda3/envs/causal/lib/python3.7/site-packages/torch/nn/modules/batchnorm.py\u001b[0m in \u001b[0;36mforward\u001b[0;34m(self, input)\u001b[0m\n\u001b[1;32m    134\u001b[0m             \u001b[0mself\u001b[0m\u001b[0;34m.\u001b[0m\u001b[0mrunning_mean\u001b[0m \u001b[0;32mif\u001b[0m \u001b[0;32mnot\u001b[0m \u001b[0mself\u001b[0m\u001b[0;34m.\u001b[0m\u001b[0mtraining\u001b[0m \u001b[0;32mor\u001b[0m \u001b[0mself\u001b[0m\u001b[0;34m.\u001b[0m\u001b[0mtrack_running_stats\u001b[0m \u001b[0;32melse\u001b[0m \u001b[0;32mNone\u001b[0m\u001b[0;34m,\u001b[0m\u001b[0;34m\u001b[0m\u001b[0m\n\u001b[1;32m    135\u001b[0m             \u001b[0mself\u001b[0m\u001b[0;34m.\u001b[0m\u001b[0mrunning_var\u001b[0m \u001b[0;32mif\u001b[0m \u001b[0;32mnot\u001b[0m \u001b[0mself\u001b[0m\u001b[0;34m.\u001b[0m\u001b[0mtraining\u001b[0m \u001b[0;32mor\u001b[0m \u001b[0mself\u001b[0m\u001b[0;34m.\u001b[0m\u001b[0mtrack_running_stats\u001b[0m \u001b[0;32melse\u001b[0m \u001b[0;32mNone\u001b[0m\u001b[0;34m,\u001b[0m\u001b[0;34m\u001b[0m\u001b[0m\n\u001b[0;32m--> 136\u001b[0;31m             self.weight, self.bias, bn_training, exponential_average_factor, self.eps)\n\u001b[0m\u001b[1;32m    137\u001b[0m \u001b[0;34m\u001b[0m\u001b[0m\n\u001b[1;32m    138\u001b[0m \u001b[0;34m\u001b[0m\u001b[0m\n",
      "\u001b[0;32m~/miniconda3/envs/causal/lib/python3.7/site-packages/torch/nn/functional.py\u001b[0m in \u001b[0;36mbatch_norm\u001b[0;34m(input, running_mean, running_var, weight, bias, training, momentum, eps)\u001b[0m\n\u001b[1;32m   2056\u001b[0m     return torch.batch_norm(\n\u001b[1;32m   2057\u001b[0m         \u001b[0minput\u001b[0m\u001b[0;34m,\u001b[0m \u001b[0mweight\u001b[0m\u001b[0;34m,\u001b[0m \u001b[0mbias\u001b[0m\u001b[0;34m,\u001b[0m \u001b[0mrunning_mean\u001b[0m\u001b[0;34m,\u001b[0m \u001b[0mrunning_var\u001b[0m\u001b[0;34m,\u001b[0m\u001b[0;34m\u001b[0m\u001b[0m\n\u001b[0;32m-> 2058\u001b[0;31m         \u001b[0mtraining\u001b[0m\u001b[0;34m,\u001b[0m \u001b[0mmomentum\u001b[0m\u001b[0;34m,\u001b[0m \u001b[0meps\u001b[0m\u001b[0;34m,\u001b[0m \u001b[0mtorch\u001b[0m\u001b[0;34m.\u001b[0m\u001b[0mbackends\u001b[0m\u001b[0;34m.\u001b[0m\u001b[0mcudnn\u001b[0m\u001b[0;34m.\u001b[0m\u001b[0menabled\u001b[0m\u001b[0;34m\u001b[0m\u001b[0m\n\u001b[0m\u001b[1;32m   2059\u001b[0m     )\n\u001b[1;32m   2060\u001b[0m \u001b[0;34m\u001b[0m\u001b[0m\n",
      "\u001b[0;31mKeyboardInterrupt\u001b[0m: "
     ]
    }
   ],
   "source": [
    "for i in tqdm(range(10000)):\n",
    "#     opt_l2.zero_grad()\n",
    "#     loss =  gl2\n",
    "#     loss.backward()\n",
    "#     sch_l2.step(loss.item())\n",
    "#     opt_l2.step()\n",
    "    \n",
    "    opt_rec.zero_grad()\n",
    "    gl2 = gen_loss_l2_relative()\n",
    "#     gl, acc_gen = gen_loss()\n",
    "    loss =  gl2 # + gl / 100.\n",
    "    loss.backward()\n",
    "    sch_rec.step(loss.item())\n",
    "    opt_rec.step()\n",
    "    \n",
    "    reconstructed = rec(decoder(ds_obs))\n",
    "    acc_gen = (1. * (reconstructed > 0.5) - ds_obs).abs().mean()\n",
    "    \n",
    "    opt_disc.zero_grad()\n",
    "    dl, acc_dsc = disc_loss()\n",
    "    loss = dl\n",
    "    loss.backward()\n",
    "    sch_disc.step(loss.item())\n",
    "    opt_disc.step()\n",
    "    \n",
    "    acc_gens.append(acc_gen.item())\n",
    "    acc_discs.append(acc_dsc.item())\n",
    "    loss_gens.append(gl.item())\n",
    "    loss_discs.append(dl.item())\n",
    "    loss_l2s.append(gl2.item())"
   ]
  },
  {
   "cell_type": "code",
   "execution_count": 784,
   "metadata": {},
   "outputs": [
    {
     "data": {
      "image/png": "[encoded data removed]",
      "text/plain": [
       "<Figure size 1080x360 with 5 Axes>"
      ]
     },
     "metadata": {
      "needs_background": "light"
     },
     "output_type": "display_data"
    }
   ],
   "source": [
    "plt.figure(figsize=(15, 5))\n",
    "plt.subplot(1, 5, 1)\n",
    "plt.plot(acc_gens)\n",
    "plt.title('acc_gen')\n",
    "\n",
    "plt.subplot(1, 5, 2)\n",
    "plt.plot(acc_discs)\n",
    "plt.title('acc_disc')\n",
    "\n",
    "plt.subplot(1, 5, 3)\n",
    "plt.plot(loss_gens)\n",
    "plt.title('loss_gen')\n",
    "plt.yscale('log')\n",
    "\n",
    "plt.subplot(1, 5, 4)\n",
    "plt.plot(loss_discs)\n",
    "plt.title('loss_disc')\n",
    "plt.yscale('log')\n",
    "\n",
    "plt.subplot(1, 5, 5)\n",
    "plt.plot(loss_l2s)\n",
    "plt.title('loss_l2')\n",
    "plt.yscale('log')"
   ]
  },
  {
   "cell_type": "code",
   "execution_count": null,
   "metadata": {},
   "outputs": [],
   "source": []
  },
  {
   "cell_type": "code",
   "execution_count": 786,
   "metadata": {},
   "outputs": [
    {
     "data": {
      "image/png": "[encoded data removed]",
      "text/plain": [
       "<Figure size 720x360 with 2 Axes>"
      ]
     },
     "metadata": {
      "needs_background": "light"
     },
     "output_type": "display_data"
    },
    {
     "data": {
      "image/png": "[encoded data removed]",
      "text/plain": [
       "<Figure size 720x360 with 2 Axes>"
      ]
     },
     "metadata": {
      "needs_background": "light"
     },
     "output_type": "display_data"
    },
    {
     "data": {
      "image/png": "[encoded data removed]",
      "text/plain": [
       "<Figure size 720x360 with 2 Axes>"
      ]
     },
     "metadata": {
      "needs_background": "light"
     },
     "output_type": "display_data"
    }
   ],
   "source": [
    "reconstructed = rec(decoder(ds_obs))\n",
    "from keychest.keychestenv import obss_to_rgb\n",
    "\n",
    "for _ in range(3):\n",
    "    idx = np.random.choice(len(ds_obs))\n",
    "    r = reconstructed[idx]\n",
    "    orig = ds_obs[idx]\n",
    "    plt.figure(figsize=(10, 5))\n",
    "    plt.subplot(1, 2, 1)\n",
    "    plt.imshow(obss_to_rgb(orig.reshape(1, h, w, c).detach().cpu(),\n",
    "                           env.engine, ignore_empty=True)[0])\n",
    "    plt.subplot(1, 2, 2)\n",
    "    plt.imshow(obss_to_rgb((r>0.5).reshape(1, h, w, c).detach().cpu(),\n",
    "                           env.engine, ignore_empty=True)[0])\n",
    "    plt.show()"
   ]
  },
  {
   "cell_type": "code",
   "execution_count": null,
   "metadata": {},
   "outputs": [],
   "source": [
    "(1. * (reconstructed > 0.5) - ds_obs).abs().mean()"
   ]
  },
  {
   "cell_type": "code",
   "execution_count": 1,
   "metadata": {},
   "outputs": [],
   "source": [
    "import pickle"
   ]
  },
  {
   "cell_type": "code",
   "execution_count": 3,
   "metadata": {},
   "outputs": [],
   "source": [
    "fn = \"\"\"\n",
    "\n",
    "/home/sergei/ray_results/5x5_onlycoord_obs_kc_simple_reconstruction_server_collect/main_fcn_2706c_00000_0_2021-02-17_14-15-06/checkpoint_1000/checkpoint\n",
    "\n",
    "\"\"\".strip()"
   ]
  },
  {
   "cell_type": "code",
   "execution_count": 4,
   "metadata": {},
   "outputs": [
    {
     "name": "stderr",
     "output_type": "stream",
     "text": [
      "WARNING:ray.tune.session:Session not detected. You should not be calling this function outside `tune.run` or while using the class API. \n"
     ]
    },
    {
     "name": "stdout",
     "output_type": "stream",
     "text": [
      "Selecting name 678ecf2a-7125-11eb-91aa-a38a96b0feb0\n"
     ]
    },
    {
     "name": "stderr",
     "output_type": "stream",
     "text": [
      "2021-02-17 14:38:23,802\tINFO services.py:1092 -- View the Ray dashboard at \u001b[1m\u001b[32mhttp://127.0.0.1:8265\u001b[39m\u001b[22m\n"
     ]
    },
    {
     "name": "stdout",
     "output_type": "stream",
     "text": [
      "Make environment KeyChest-v0 None {}\n"
     ]
    },
    {
     "data": {
      "application/vnd.jupyter.widget-view+json": {
       "model_id": "1a0fabab57484709adfb7345571f4000",
       "version_major": 2,
       "version_minor": 0
      },
      "text/plain": [
       "HBox(children=(HTML(value='Initial buffer fill'), FloatProgress(value=0.0, max=100000.0), HTML(value='')))"
      ]
     },
     "metadata": {},
     "output_type": "display_data"
    },
    {
     "name": "stdout",
     "output_type": "stream",
     "text": [
      "\u001b[2m\u001b[36m(pid=32424)\u001b[0m Make environment KeyChest-v0 None {}\n"
     ]
    },
    {
     "name": "stderr",
     "output_type": "stream",
     "text": [
      "ERROR:root:Cannot collect data Use collect_and_get_context\n",
      "WARNING:root:No class provided for trainable value_predictor\n",
      "WARNING:root:No class provided for trainable causal_feature_model_discriminator\n",
      "WARNING:root:No class provided for trainable decoder_discriminator\n",
      "WARNING:root:No class provided for trainable causal_feature_action_model_discriminator\n"
     ]
    },
    {
     "name": "stdout",
     "output_type": "stream",
     "text": [
      "\n"
     ]
    },
    {
     "name": "stderr",
     "output_type": "stream",
     "text": [
      "WARNING:root:Warning: loss fit is unused\n",
      "WARNING:root:Warning: loss fit_all_on is unused\n",
      "WARNING:root:Warning: loss non_sparse_fit is unused\n",
      "WARNING:root:Warning: loss reconstruction is used more than once\n",
      "WARNING:root:Warning: loss sparsity is unused\n"
     ]
    }
   ],
   "source": [
    "l = pickle.load(open(fn, 'rb'))"
   ]
  },
  {
   "cell_type": "code",
   "execution_count": 5,
   "metadata": {},
   "outputs": [],
   "source": [
    "ctx = l.collect_and_get_context()"
   ]
  },
  {
   "cell_type": "code",
   "execution_count": 6,
   "metadata": {},
   "outputs": [],
   "source": [
    "ox = ctx['obs_x']"
   ]
  },
  {
   "cell_type": "code",
   "execution_count": 7,
   "metadata": {},
   "outputs": [
    {
     "data": {
      "text/plain": [
       "tensor(5.5584, device='cuda:0', grad_fn=<MeanBackward1>)"
      ]
     },
     "execution_count": 7,
     "metadata": {},
     "output_type": "execute_result"
    }
   ],
   "source": [
    "(l.reconstructor(l.decoder(ox)) - ox).pow(2).sum(1).mean(0)"
   ]
  },
  {
   "cell_type": "code",
   "execution_count": 23,
   "metadata": {},
   "outputs": [],
   "source": [
    "import torch\n",
    "from matplotlib import pyplot as plt"
   ]
  },
  {
   "cell_type": "code",
   "execution_count": 9,
   "metadata": {},
   "outputs": [],
   "source": [
    "ox_dec = l.reconstructor(l.decoder(ox))"
   ]
  },
  {
   "cell_type": "code",
   "execution_count": 10,
   "metadata": {},
   "outputs": [],
   "source": [
    "def thr_half(tensor):\n",
    "    \"\"\"Get the middle between min/max over batch dimension.\"\"\"\n",
    "    m = tensor.min(0, keepdim=True).values\n",
    "    M = tensor.max(0, keepdim=True).values\n",
    "    return m, (M - m) / 2.0\n",
    "    \n",
    "def delta_01_obs(obs, rec_dec_obs):\n",
    "    \"\"\"Compute accuracy between observations and reconstructed observations.\"\"\"\n",
    "    m1, d1 = thr_half(obs)\n",
    "    thr1 = m1 + d1\n",
    "    \n",
    "    m2, d2 = thr_half(rec_dec_obs)\n",
    "    thr2 = m2 + d2\n",
    "    \n",
    "    delta_01 = 1. * ((obs > thr1) == (rec_dec_obs > thr2))\n",
    "    delta_01 = torch.where(d1.repeat(obs.shape[0], 1) != 0,\n",
    "                           delta_01, torch.ones_like(delta_01))\n",
    "    delta_01_agg = delta_01.mean(1).mean(0)\n",
    "    return delta_01_agg\n"
   ]
  },
  {
   "cell_type": "code",
   "execution_count": 11,
   "metadata": {},
   "outputs": [
    {
     "data": {
      "text/plain": [
       "tensor(0.9995, device='cuda:0')"
      ]
     },
     "execution_count": 11,
     "metadata": {},
     "output_type": "execute_result"
    }
   ],
   "source": [
    "delta_01_obs(ox, ox_dec)"
   ]
  },
  {
   "cell_type": "code",
   "execution_count": 12,
   "metadata": {},
   "outputs": [],
   "source": [
    "obs = ox\n",
    "rec_dec_obs = ox_dec\n",
    "\n",
    "m1, d1 = thr_half(obs)\n",
    "thr1 = m1 + d1\n",
    "\n",
    "m2, d2 = thr_half(rec_dec_obs)\n",
    "thr2 = m2 + d2\n",
    "\n",
    "delta_01 = 1. * ((obs > thr1) == (rec_dec_obs > thr2))\n",
    "delta_01 = torch.where(d1.repeat(obs.shape[0], 1) != 0,\n",
    "                       delta_01, torch.ones_like(delta_01))"
   ]
  },
  {
   "cell_type": "code",
   "execution_count": 20,
   "metadata": {},
   "outputs": [],
   "source": [
    "h, w, c = l.env.engine._observation.shape"
   ]
  },
  {
   "cell_type": "code",
   "execution_count": 25,
   "metadata": {},
   "outputs": [
    {
     "data": {
      "text/plain": [
       "<matplotlib.image.AxesImage at 0x7f43d4b6a748>"
      ]
     },
     "execution_count": 25,
     "metadata": {},
     "output_type": "execute_result"
    },
    {
     "data": {
      "image/png": "[encoded data removed]",
      "text/plain": [
       "<Figure size 432x288 with 1 Axes>"
      ]
     },
     "metadata": {
      "needs_background": "light"
     },
     "output_type": "display_data"
    }
   ],
   "source": [
    "plt.imshow((delta_01.mean(0) < 1).detach().cpu().numpy().reshape(h, w, c).mean(axis=2))"
   ]
  },
  {
   "cell_type": "code",
   "execution_count": null,
   "metadata": {},
   "outputs": [],
   "source": []
  }
 ],
 "metadata": {
  "kernelspec": {
   "display_name": "Python 3",
   "language": "python",
   "name": "python3"
  },
  "language_info": {
   "codemirror_mode": {
    "name": "ipython",
    "version": 3
   },
   "file_extension": ".py",
   "mimetype": "text/x-python",
   "name": "python",
   "nbconvert_exporter": "python",
   "pygments_lexer": "ipython3",
   "version": "3.7.0"
  }
 },
 "nbformat": 4,
 "nbformat_minor": 4
}
