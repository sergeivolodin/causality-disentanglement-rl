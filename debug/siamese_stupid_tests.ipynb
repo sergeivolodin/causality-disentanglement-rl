{
 "cells": [
  {
   "cell_type": "code",
   "execution_count": 1,
   "metadata": {},
   "outputs": [],
   "source": [
    "import os\n",
    "os.environ['CUDA_VISIBLE_DEVICES'] = \"0\"\n",
    "import numpy as np\n",
    "from matplotlib import pyplot as plt\n",
    "import seaborn as sns\n",
    "import pandas as pd\n",
    "from tqdm.auto import tqdm\n",
    "import torch\n",
    "from torch import nn\n",
    "import gin\n",
    "import ray\n",
    "import pickle\n",
    "import io\n",
    "gin.enter_interactive_mode()\n",
    "from causal_util import load_env\n",
    "from causal_util.helpers import lstdct2dctlst\n",
    "from sparse_causal_model_learner_rl.loss.losses import fit_loss\n",
    "from sparse_causal_model_learner_rl.loss.causal_discriminator import siamese_feature_discriminator_l2\n",
    "\n",
    "from sparse_causal_model_learner_rl.metrics.context_rewrite import context_rewriter\n",
    "from sparse_causal_model_learner_rl.visual.learner_visual import graph_for_matrices\n",
    "from sparse_causal_model_learner_rl.config import Config\n",
    "from sparse_causal_model_learner_rl.sacred_gin_tune.sacred_wrapper import load_config_files\n",
    "from sparse_causal_model_learner_rl.learners.rl_learner import CausalModelLearnerRL"
   ]
  },
  {
   "cell_type": "code",
   "execution_count": 2,
   "metadata": {},
   "outputs": [],
   "source": [
    "class RandomFunction(nn.Module):\n",
    "    def __init__(self):\n",
    "        super(RandomFunction, self).__init__()\n",
    "        self.fc1 = nn.Linear(in_features=2, out_features=100)\n",
    "#         self.fc2 = nn.Linear(in_features=100, out_features=100)\n",
    "        self.act = nn.Tanh()\n",
    "    def forward(self, x):\n",
    "        x = self.act(self.fc1(x))\n",
    "#         x = self.act(self.fc2(x))\n",
    "        return x\n",
    "rf = RandomFunction().cuda()"
   ]
  },
  {
   "cell_type": "code",
   "execution_count": 3,
   "metadata": {},
   "outputs": [],
   "source": [
    "dataset_features = np.random.uniform(size=(1000, 2))\n",
    "ds_f_torch = torch.from_numpy(dataset_features).to(torch.float32).cuda()"
   ]
  },
  {
   "cell_type": "code",
   "execution_count": 4,
   "metadata": {},
   "outputs": [],
   "source": [
    "ds_obs = rf(ds_f_torch).detach()"
   ]
  },
  {
   "cell_type": "code",
   "execution_count": 5,
   "metadata": {},
   "outputs": [],
   "source": [
    "class Decoder(nn.Module):\n",
    "    def __init__(self):\n",
    "        super(Decoder, self).__init__()\n",
    "        self.bn1 = torch.nn.BatchNorm1d(100)\n",
    "        self.bn2 = torch.nn.BatchNorm1d(50)\n",
    "        self.fc1 = nn.Linear(in_features=100, out_features=50)\n",
    "        self.fc2 = nn.Linear(in_features=50, out_features=4)\n",
    "        self.act = nn.Tanh()\n",
    "    def forward(self, x):\n",
    "        x = self.bn1(x)\n",
    "        x = self.act(self.fc1(x))\n",
    "        x = self.bn2(x)\n",
    "        x = self.fc2(x)\n",
    "        return x"
   ]
  },
  {
   "cell_type": "code",
   "execution_count": 6,
   "metadata": {},
   "outputs": [],
   "source": [
    "decoder = Decoder().cuda()"
   ]
  },
  {
   "cell_type": "code",
   "execution_count": 7,
   "metadata": {},
   "outputs": [],
   "source": [
    "opt = torch.optim.Adam(decoder.parameters(), lr=1e-3, betas=(0.8, 0.8))"
   ]
  },
  {
   "cell_type": "code",
   "execution_count": null,
   "metadata": {},
   "outputs": [],
   "source": [
    "ds_obs_orig = ds_obs.clone()"
   ]
  },
  {
   "cell_type": "code",
   "execution_count": null,
   "metadata": {},
   "outputs": [],
   "source": [
    "@gin.configurable\n",
    "def siamese_feature_discriminator_l2_fake_is(obs, decoder, obs_delta_eps=1e-10,\n",
    "                                     margin=1.0,\n",
    "#                                      margin_same_not_farther=5.0,\n",
    "                                     max_dist=500,\n",
    "                                     **kwargs):\n",
    "    def loss(y_true, y_pred):\n",
    "        \"\"\"L2 norm for the distance, no flat.\"\"\"\n",
    "        delta = y_true - y_pred\n",
    "        delta = delta.pow(2)\n",
    "        delta = delta.flatten(start_dim=1)\n",
    "        delta = delta.sum(1)\n",
    "        return delta\n",
    "\n",
    "    # original inputs order\n",
    "    batch_dim = obs.shape[0]\n",
    "\n",
    "    # random permutation for incorrect inputs\n",
    "    idxes = torch.randperm(batch_dim).to(obs.device)\n",
    "    obs_shuffled = obs[idxes]\n",
    "\n",
    "    idxes_orig = torch.arange(start=0, end=batch_dim).to(obs.device)\n",
    "    target_close = ((obs - obs_shuffled).flatten(start_dim=1).pow(2).sum(1) <=\\\n",
    "                        obs_delta_eps).to(obs.device).detach()\n",
    "\n",
    "    # distance_shuffle = loss(obs, obs_shuffled)\n",
    "    decoded = decoder(obs)\n",
    "    distance_f = loss(decoded, decoder(obs_shuffled))\n",
    "\n",
    "    # print(torch.nn.ReLU()(margin - distance_f), torch.where)\n",
    "\n",
    "#     torch.where(target_close,\n",
    "# #                                 torch.nn.ReLU()(distance_f - margin_same_not_farther),\n",
    "#                                 torch.nn.ReLU()(margin_different_not_closer - distance_f[~])\n",
    "#                                ).mean(),\n",
    "    \n",
    "    loss_max_dist = torch.nn.ReLU()(distance_f - max_dist).mean()\n",
    "    \n",
    "    loss = torch.tensor(0.0, dtype=torch.float32).cuda()\n",
    "#     loss += loss_max_dist.mean() / max_dist\n",
    "    if ((~target_close).sum().item() > 0):\n",
    "        loss = (torch.nn.ReLU()(margin - distance_f[~target_close])).mean() / margin\n",
    "    \n",
    "#     print(target_close.sum())\n",
    "    \n",
    "    return {'loss': loss.mean(),\n",
    "            'metrics': {'distance_close': distance_f[target_close].mean().item(),\n",
    "                        'distance_far': distance_f[~target_close].mean().item(),\n",
    "                       'norm': decoded.abs().mean().item()}\n",
    "            }"
   ]
  },
  {
   "cell_type": "code",
   "execution_count": 938,
   "metadata": {},
   "outputs": [
    {
     "data": {
      "text/plain": [
       "{'loss': tensor(0.3023, device='cuda:0', grad_fn=<MeanBackward0>),\n",
       " 'metrics': {'distance_close': nan,\n",
       "  'distance_far': 1.2515596151351929,\n",
       "  'norm': 0.3105993866920471}}"
      ]
     },
     "execution_count": 938,
     "metadata": {},
     "output_type": "execute_result"
    }
   ],
   "source": [
    "siamese_feature_discriminator_l2_fake_is(ds_obs, decoder)"
   ]
  },
  {
   "cell_type": "code",
   "execution_count": 939,
   "metadata": {},
   "outputs": [],
   "source": [
    "losses = []"
   ]
  },
  {
   "cell_type": "code",
   "execution_count": 940,
   "metadata": {},
   "outputs": [
    {
     "data": {
      "application/vnd.jupyter.widget-view+json": {
       "model_id": "6584d5e7d6f14b9499a480631cf0a05f",
       "version_major": 2,
       "version_minor": 0
      },
      "text/plain": [
       "HBox(children=(HTML(value=''), FloatProgress(value=0.0, max=10000.0), HTML(value='')))"
      ]
     },
     "metadata": {},
     "output_type": "display_data"
    },
    {
     "name": "stdout",
     "output_type": "stream",
     "text": [
      "\n"
     ]
    },
    {
     "ename": "KeyboardInterrupt",
     "evalue": "",
     "output_type": "error",
     "traceback": [
      "\u001b[0;31m---------------------------------------------------------------------------\u001b[0m",
      "\u001b[0;31mKeyboardInterrupt\u001b[0m                         Traceback (most recent call last)",
      "\u001b[0;32m<ipython-input-940-72efe1d79135>\u001b[0m in \u001b[0;36m<module>\u001b[0;34m\u001b[0m\n\u001b[1;32m      4\u001b[0m \u001b[0;34m\u001b[0m\u001b[0m\n\u001b[1;32m      5\u001b[0m     \u001b[0mopt\u001b[0m\u001b[0;34m.\u001b[0m\u001b[0mzero_grad\u001b[0m\u001b[0;34m(\u001b[0m\u001b[0;34m)\u001b[0m\u001b[0;34m\u001b[0m\u001b[0m\n\u001b[0;32m----> 6\u001b[0;31m     \u001b[0mloss\u001b[0m \u001b[0;34m=\u001b[0m \u001b[0msiamese_feature_discriminator_l2_fake_is\u001b[0m\u001b[0;34m(\u001b[0m\u001b[0mds_obs\u001b[0m\u001b[0;34m,\u001b[0m \u001b[0mdecoder\u001b[0m\u001b[0;34m)\u001b[0m\u001b[0;34m[\u001b[0m\u001b[0;34m'loss'\u001b[0m\u001b[0;34m]\u001b[0m\u001b[0;34m\u001b[0m\u001b[0m\n\u001b[0m\u001b[1;32m      7\u001b[0m     \u001b[0mloss\u001b[0m\u001b[0;34m.\u001b[0m\u001b[0mbackward\u001b[0m\u001b[0;34m(\u001b[0m\u001b[0;34m)\u001b[0m\u001b[0;34m\u001b[0m\u001b[0m\n\u001b[1;32m      8\u001b[0m     \u001b[0mopt\u001b[0m\u001b[0;34m.\u001b[0m\u001b[0mstep\u001b[0m\u001b[0;34m(\u001b[0m\u001b[0;34m)\u001b[0m\u001b[0;34m\u001b[0m\u001b[0m\n",
      "\u001b[0;32m~/miniconda3/envs/causal/lib/python3.7/site-packages/gin/config.py\u001b[0m in \u001b[0;36mgin_wrapper\u001b[0;34m(*args, **kwargs)\u001b[0m\n\u001b[1;32m   1053\u001b[0m \u001b[0;34m\u001b[0m\u001b[0m\n\u001b[1;32m   1054\u001b[0m     \u001b[0;32mtry\u001b[0m\u001b[0;34m:\u001b[0m\u001b[0;34m\u001b[0m\u001b[0m\n\u001b[0;32m-> 1055\u001b[0;31m       \u001b[0;32mreturn\u001b[0m \u001b[0mfn\u001b[0m\u001b[0;34m(\u001b[0m\u001b[0;34m*\u001b[0m\u001b[0mnew_args\u001b[0m\u001b[0;34m,\u001b[0m \u001b[0;34m**\u001b[0m\u001b[0mnew_kwargs\u001b[0m\u001b[0;34m)\u001b[0m\u001b[0;34m\u001b[0m\u001b[0m\n\u001b[0m\u001b[1;32m   1056\u001b[0m     \u001b[0;32mexcept\u001b[0m \u001b[0mException\u001b[0m \u001b[0;32mas\u001b[0m \u001b[0me\u001b[0m\u001b[0;34m:\u001b[0m  \u001b[0;31m# pylint: disable=broad-except\u001b[0m\u001b[0;34m\u001b[0m\u001b[0m\n\u001b[1;32m   1057\u001b[0m       \u001b[0merr_str\u001b[0m \u001b[0;34m=\u001b[0m \u001b[0;34m''\u001b[0m\u001b[0;34m\u001b[0m\u001b[0m\n",
      "\u001b[0;32m<ipython-input-937-cfd724ad9c2f>\u001b[0m in \u001b[0;36msiamese_feature_discriminator_l2_fake_is\u001b[0;34m(obs, decoder, obs_delta_eps, margin, max_dist, **kwargs)\u001b[0m\n\u001b[1;32m     40\u001b[0m \u001b[0;31m#     loss += loss_max_dist.mean() / max_dist\u001b[0m\u001b[0;34m\u001b[0m\u001b[0;34m\u001b[0m\u001b[0m\n\u001b[1;32m     41\u001b[0m     \u001b[0;32mif\u001b[0m \u001b[0;34m(\u001b[0m\u001b[0;34m(\u001b[0m\u001b[0;34m~\u001b[0m\u001b[0mtarget_close\u001b[0m\u001b[0;34m)\u001b[0m\u001b[0;34m.\u001b[0m\u001b[0msum\u001b[0m\u001b[0;34m(\u001b[0m\u001b[0;34m)\u001b[0m\u001b[0;34m.\u001b[0m\u001b[0mitem\u001b[0m\u001b[0;34m(\u001b[0m\u001b[0;34m)\u001b[0m \u001b[0;34m>\u001b[0m \u001b[0;36m0\u001b[0m\u001b[0;34m)\u001b[0m\u001b[0;34m:\u001b[0m\u001b[0;34m\u001b[0m\u001b[0m\n\u001b[0;32m---> 42\u001b[0;31m         \u001b[0mloss\u001b[0m \u001b[0;34m=\u001b[0m \u001b[0;34m(\u001b[0m\u001b[0mtorch\u001b[0m\u001b[0;34m.\u001b[0m\u001b[0mnn\u001b[0m\u001b[0;34m.\u001b[0m\u001b[0mReLU\u001b[0m\u001b[0;34m(\u001b[0m\u001b[0;34m)\u001b[0m\u001b[0;34m(\u001b[0m\u001b[0mmargin\u001b[0m \u001b[0;34m-\u001b[0m \u001b[0mdistance_f\u001b[0m\u001b[0;34m[\u001b[0m\u001b[0;34m~\u001b[0m\u001b[0mtarget_close\u001b[0m\u001b[0;34m]\u001b[0m\u001b[0;34m)\u001b[0m\u001b[0;34m)\u001b[0m\u001b[0;34m.\u001b[0m\u001b[0mmean\u001b[0m\u001b[0;34m(\u001b[0m\u001b[0;34m)\u001b[0m \u001b[0;34m/\u001b[0m \u001b[0mmargin\u001b[0m\u001b[0;34m\u001b[0m\u001b[0m\n\u001b[0m\u001b[1;32m     43\u001b[0m \u001b[0;34m\u001b[0m\u001b[0m\n\u001b[1;32m     44\u001b[0m \u001b[0;31m#     print(target_close.sum())\u001b[0m\u001b[0;34m\u001b[0m\u001b[0;34m\u001b[0m\u001b[0m\n",
      "\u001b[0;32m~/miniconda3/envs/causal/lib/python3.7/site-packages/torch/nn/modules/activation.py\u001b[0m in \u001b[0;36m__init__\u001b[0;34m(self, inplace)\u001b[0m\n\u001b[1;32m     96\u001b[0m \u001b[0;34m\u001b[0m\u001b[0m\n\u001b[1;32m     97\u001b[0m     \u001b[0;32mdef\u001b[0m \u001b[0m__init__\u001b[0m\u001b[0;34m(\u001b[0m\u001b[0mself\u001b[0m\u001b[0;34m,\u001b[0m \u001b[0minplace\u001b[0m\u001b[0;34m:\u001b[0m \u001b[0mbool\u001b[0m \u001b[0;34m=\u001b[0m \u001b[0;32mFalse\u001b[0m\u001b[0;34m)\u001b[0m\u001b[0;34m:\u001b[0m\u001b[0;34m\u001b[0m\u001b[0m\n\u001b[0;32m---> 98\u001b[0;31m         \u001b[0msuper\u001b[0m\u001b[0;34m(\u001b[0m\u001b[0mReLU\u001b[0m\u001b[0;34m,\u001b[0m \u001b[0mself\u001b[0m\u001b[0;34m)\u001b[0m\u001b[0;34m.\u001b[0m\u001b[0m__init__\u001b[0m\u001b[0;34m(\u001b[0m\u001b[0;34m)\u001b[0m\u001b[0;34m\u001b[0m\u001b[0m\n\u001b[0m\u001b[1;32m     99\u001b[0m         \u001b[0mself\u001b[0m\u001b[0;34m.\u001b[0m\u001b[0minplace\u001b[0m \u001b[0;34m=\u001b[0m \u001b[0minplace\u001b[0m\u001b[0;34m\u001b[0m\u001b[0m\n\u001b[1;32m    100\u001b[0m \u001b[0;34m\u001b[0m\u001b[0m\n",
      "\u001b[0;31mKeyboardInterrupt\u001b[0m: "
     ]
    }
   ],
   "source": [
    "for _ in tqdm(range(10000)):\n",
    "#     idx_random = np.random.choice(len(ds_obs_orig), 10, replace=False)\n",
    "#     ds_obs = ds_obs_orig[idx_random, :]\n",
    "    \n",
    "    opt.zero_grad()\n",
    "    loss = siamese_feature_discriminator_l2_fake_is(ds_obs, decoder)['loss']\n",
    "    loss.backward()\n",
    "    opt.step()\n",
    "    losses.append(loss.item())"
   ]
  },
  {
   "cell_type": "code",
   "execution_count": 941,
   "metadata": {},
   "outputs": [
    {
     "data": {
      "image/png": "[encoded data removed]",
      "text/plain": [
       "<Figure size 432x288 with 1 Axes>"
      ]
     },
     "metadata": {
      "needs_background": "light"
     },
     "output_type": "display_data"
    }
   ],
   "source": [
    "plt.plot(np.maximum(losses, 1e-20))\n",
    "plt.yscale('log')"
   ]
  },
  {
   "cell_type": "markdown",
   "metadata": {},
   "source": [
    "#### doesn't go to 0 even for this simple dataset\n",
    "#### trying gan for observations..."
   ]
  },
  {
   "cell_type": "code",
   "execution_count": 1123,
   "metadata": {},
   "outputs": [],
   "source": [
    "decoder = Decoder().cuda()"
   ]
  },
  {
   "cell_type": "code",
   "execution_count": 1124,
   "metadata": {},
   "outputs": [],
   "source": [
    "class ObsFeatureDiscriminator(nn.Module):\n",
    "    def __init__(self, decoder_cls):\n",
    "        super(ObsFeatureDiscriminator, self).__init__()\n",
    "        self.decoder = decoder_cls()\n",
    "        self.fc1 = nn.Linear(in_features=8, out_features=10)\n",
    "        self.fc2 = nn.Linear(in_features=10, out_features=1)\n",
    "        self.act = nn.Tanh()\n",
    "        self.bn1 = torch.nn.BatchNorm1d(8)\n",
    "        self.bn2 = torch.nn.BatchNorm1d(10)\n",
    "    def forward(self, obs, features):\n",
    "        my_features = self.decoder(obs)\n",
    "        all_f = torch.cat([my_features, features], dim=1)\n",
    "        x = all_f\n",
    "        x = self.bn1(x)\n",
    "        x = self.act(self.fc1(x))\n",
    "        x = self.bn2(x)\n",
    "        x = self.fc2(x)\n",
    "        return x"
   ]
  },
  {
   "cell_type": "code",
   "execution_count": 1125,
   "metadata": {},
   "outputs": [],
   "source": [
    "disc = ObsFeatureDiscriminator(Decoder).cuda()"
   ]
  },
  {
   "cell_type": "code",
   "execution_count": 1126,
   "metadata": {},
   "outputs": [],
   "source": [
    "bce = torch.nn.BCEWithLogitsLoss(reduction='none')"
   ]
  },
  {
   "cell_type": "code",
   "execution_count": 1127,
   "metadata": {},
   "outputs": [],
   "source": [
    "opt_gen = torch.optim.Adam(decoder.parameters(), lr=1e-3)\n",
    "opt_dsc = torch.optim.Adam(list(decoder.parameters()) + list(disc.parameters()), lr=1e-3,\n",
    "                          betas=(0.8, 0.9))"
   ]
  },
  {
   "cell_type": "code",
   "execution_count": 1128,
   "metadata": {},
   "outputs": [],
   "source": [
    "def gen_loss():\n",
    "    logits = disc(ds_obs, decoder(ds_obs)).view(-1)\n",
    "    ans = torch.full(fill_value=True, size=(ds_obs.shape[0],)).cuda()\n",
    "    loss = bce(logits, ans * 1.0) ** 2\n",
    "    loss = loss.mean()\n",
    "    return loss"
   ]
  },
  {
   "cell_type": "code",
   "execution_count": 1129,
   "metadata": {},
   "outputs": [
    {
     "data": {
      "text/plain": [
       "tensor(0.5046, device='cuda:0', grad_fn=<MeanBackward0>)"
      ]
     },
     "execution_count": 1129,
     "metadata": {},
     "output_type": "execute_result"
    }
   ],
   "source": [
    "gen_loss()"
   ]
  },
  {
   "cell_type": "code",
   "execution_count": 1130,
   "metadata": {},
   "outputs": [],
   "source": [
    "disc_losses = []\n",
    "gen_losses = []\n",
    "accs = []"
   ]
  },
  {
   "cell_type": "code",
   "execution_count": 1131,
   "metadata": {},
   "outputs": [
    {
     "data": {
      "text/plain": [
       "tensor([0.7403, 0.9517, 0.5842, 0.6753, 0.8176, 0.2440, 1.2119, 0.2794, 1.2174,\n",
       "        0.2679])"
      ]
     },
     "execution_count": 1131,
     "metadata": {},
     "output_type": "execute_result"
    }
   ],
   "source": [
    "bce1 = torch.nn.BCEWithLogitsLoss(reduction='none')\n",
    "bce1(torch.randn(10), torch.full(fill_value=1.0, size=(10,)))"
   ]
  },
  {
   "cell_type": "code",
   "execution_count": 1132,
   "metadata": {},
   "outputs": [],
   "source": [
    "\n",
    "def corr(X, eps=1e-08):\n",
    "    D = X.shape[-1]\n",
    "    std = torch.std(X, dim=-1).unsqueeze(-1)\n",
    "    mean = torch.mean(X, dim=-1).unsqueeze(-1)\n",
    "    X = (X - mean) / (std + eps)\n",
    "    return 1/(D-1) * X @ X.transpose(-1, -2)\n"
   ]
  },
  {
   "cell_type": "code",
   "execution_count": 1133,
   "metadata": {},
   "outputs": [],
   "source": [
    "def disc_loss(n_perms=3):\n",
    "    idxes = torch.arange(0, len(ds_obs)).cuda()\n",
    "    idxes_neq = []\n",
    "    perms = []\n",
    "    for i in range(n_perms):\n",
    "        perms.append(torch.randperm(len(ds_obs)).cuda())\n",
    "        neq = perms[i] != idxes\n",
    "        idxes_neq.append(neq)\n",
    "    \n",
    "#     print(idxes)\n",
    "#     all_idx_inp = torch.cat([idxes, idxes, idxes], dim=0)\n",
    "#     all_idx = torch.cat([perm2, perm3, perm1], dim=0)\n",
    "#     neq = all_idx_inp != all_idx\n",
    "#     all_idx = all_idx[neq]\n",
    "#     all_idx_inp = all_idx_inp[neq]\n",
    "#     ans_true = all_idx_inp == all_idx\n",
    "#     ans_true_true = idxes == idxes\n",
    "\n",
    "    feat = decoder(ds_obs)\n",
    "    \n",
    "    positive_logits = disc(ds_obs, feat).view(-1)\n",
    "    pos_probas = torch.nn.Sigmoid()(positive_logits)\n",
    "    negative_logits = [disc(ds_obs, decoder(ds_obs[perm, :]))\n",
    "                      for perm in perms]\n",
    "    \n",
    "    \n",
    "    neg_logits_stacked = torch.stack(negative_logits, dim=0).view(n_perms, len(ds_obs))\n",
    "    neg_probas_stacked = torch.exp(neg_logits_stacked)\n",
    "    neq_stacked = torch.stack(idxes_neq, dim=0)\n",
    "#     print(neg_logits_stacked.shape, neq_stacked.shape, (1. * neq_stacked).mean())\n",
    "    n_neg = (1. * neq_stacked).sum(0)\n",
    "    \n",
    "    pr_st_or_0 = torch.where(neq_stacked, neg_probas_stacked,\n",
    "                             torch.zeros_like(neg_probas_stacked)).sum(0)# / n_neg\n",
    "    \n",
    "    \n",
    "    contrastive = pos_probas / (pos_probas + pr_st_or_0)\n",
    "    \n",
    "    contrastive = -torch.log(contrastive)\n",
    "    \n",
    "#     print(corr(feat.t()).shape)\n",
    "    \n",
    "    contrastive += (corr(feat.t()) - torch.eye(feat.shape[1]).cuda()).flatten().pow(2).mean()\n",
    "    \n",
    "#     contrastive += -torch.log(pos_probas)\n",
    "    \n",
    "    def acc_logits(ans_bool, logits):\n",
    "        return (1. * ((logits >= 0) == ans_bool)).mean()\n",
    "    \n",
    "#     print(contrastive)\n",
    "    \n",
    "#     acc = []\n",
    "#     acc.append(acc_logits(idxes == idxes, positive_logits))\n",
    "#     for i, ans in enumerate(idxes_neq):\n",
    "#         acc.append(acc_logits(~ans, negative_logits[i]))\n",
    "#     acc = sum(acc) / len(acc)\n",
    "    acc = 0\n",
    "\n",
    "    return contrastive.mean(), acc\n",
    "    \n",
    "\n",
    "#     positive\n",
    "    \n",
    "#     logits_true = disc(ds_obs[all_idx, :],  decoder(ds_obs[all_idx_inp, :]))\n",
    "#     logits_true_true = disc(ds_obs,  decoder(ds_obs))\n",
    "    \n",
    "#     probas = torch.nn.Sigmoid()(logits_true).view(-1)\n",
    "#     probas_true = torch.nn.Sigmoid()(logits_true_true).view(-1)\n",
    "# #     disc_loss = bce(logits.view(-1), 1. * ans_true)# ** 2\n",
    "# #     disc_loss = disc_loss.mean()\n",
    "#     def margin(probas):\n",
    "#         return 2 * (probas - 0.5)\n",
    "    \n",
    "#     marg = 1.0 - logits_true.view(-1) * margin(ans_true * 1.0)\n",
    "#     marg_true = 1.0 - logits_true_true.view(-1) * margin(ans_true_true * 1.0)\n",
    "# #     print(logits, logits.view(-1) * margin(ans_true * 1.0))\n",
    "# #     print(marg.min())\n",
    "    \n",
    "#     disc_loss_true = torch.nn.ReLU()(marg).mean(0)\n",
    "#     disc_loss_true_true = torch.nn.ReLU()(marg_true).mean(0)\n",
    "    \n",
    "#     disc_loss = (disc_loss_true_true + disc_loss_true) / 2\n",
    "# #     disc_loss = torch.abs(torch.nn.Sigmoid()(logits).view(-1) - 1. * ans_true).mean()\n",
    "# #     acc = (1. * ((torch.nn.Sigmoid()(logits) > 0.5) == ans_true)).mean()\n",
    "# #     return disc_loss, acc\n",
    "# #     disc_loss = torch.pow(probas - (1. * ans_true), 2).mean()\n",
    "#     acc_true = (1. * ((logits_true >= 0) == ans_true)).abs().mean()\n",
    "#     acc_true_true = (1. * ((logits_true_true >= 0) == ans_true_true)).abs().mean()\n",
    "#     acc = (acc_true + acc_true_true) / 2\n",
    "#     return disc_loss, acc"
   ]
  },
  {
   "cell_type": "code",
   "execution_count": 1134,
   "metadata": {},
   "outputs": [
    {
     "data": {
      "text/plain": [
       "(tensor(2.2653, device='cuda:0', grad_fn=<MeanBackward0>), 0)"
      ]
     },
     "execution_count": 1134,
     "metadata": {},
     "output_type": "execute_result"
    }
   ],
   "source": [
    "disc_loss()"
   ]
  },
  {
   "cell_type": "code",
   "execution_count": null,
   "metadata": {},
   "outputs": [],
   "source": []
  },
  {
   "cell_type": "code",
   "execution_count": 1135,
   "metadata": {},
   "outputs": [
    {
     "data": {
      "text/plain": [
       "tensor([[ 1.0000,  0.0931,  0.0031,  ...,  0.0975, -0.1402, -0.0918],\n",
       "        [ 0.0931,  1.0000,  0.0550,  ...,  0.1296, -0.0711, -0.1014],\n",
       "        [ 0.0031,  0.0550,  1.0000,  ..., -0.0205, -0.0738, -0.0276],\n",
       "        ...,\n",
       "        [ 0.0975,  0.1296, -0.0205,  ...,  1.0000, -0.1231, -0.0315],\n",
       "        [-0.1402, -0.0711, -0.0738,  ..., -0.1231,  1.0000,  0.1337],\n",
       "        [-0.0918, -0.1014, -0.0276,  ..., -0.0315,  0.1337,  1.0000]])"
      ]
     },
     "execution_count": 1135,
     "metadata": {},
     "output_type": "execute_result"
    }
   ],
   "source": [
    "corr(torch.randn(1000, 100))"
   ]
  },
  {
   "cell_type": "code",
   "execution_count": 1145,
   "metadata": {},
   "outputs": [
    {
     "data": {
      "application/vnd.jupyter.widget-view+json": {
       "model_id": "4bbea2bb9d5a4547841b71ff08bb211c",
       "version_major": 2,
       "version_minor": 0
      },
      "text/plain": [
       "HBox(children=(HTML(value=''), FloatProgress(value=0.0, max=10000.0), HTML(value='')))"
      ]
     },
     "metadata": {},
     "output_type": "display_data"
    },
    {
     "name": "stdout",
     "output_type": "stream",
     "text": [
      "\n"
     ]
    },
    {
     "ename": "KeyboardInterrupt",
     "evalue": "",
     "output_type": "error",
     "traceback": [
      "\u001b[0;31m---------------------------------------------------------------------------\u001b[0m",
      "\u001b[0;31mKeyboardInterrupt\u001b[0m                         Traceback (most recent call last)",
      "\u001b[0;32m<ipython-input-1145-043c3ba580b1>\u001b[0m in \u001b[0;36m<module>\u001b[0;34m\u001b[0m\n\u001b[1;32m      8\u001b[0m     \u001b[0mloss_dsc\u001b[0m\u001b[0;34m,\u001b[0m\u001b[0macc\u001b[0m \u001b[0;34m=\u001b[0m \u001b[0mdisc_loss\u001b[0m\u001b[0;34m(\u001b[0m\u001b[0;34m)\u001b[0m\u001b[0;34m\u001b[0m\u001b[0m\n\u001b[1;32m      9\u001b[0m     \u001b[0mloss_dsc\u001b[0m\u001b[0;34m.\u001b[0m\u001b[0mbackward\u001b[0m\u001b[0;34m(\u001b[0m\u001b[0;34m)\u001b[0m\u001b[0;34m\u001b[0m\u001b[0m\n\u001b[0;32m---> 10\u001b[0;31m     \u001b[0mopt_dsc\u001b[0m\u001b[0;34m.\u001b[0m\u001b[0mstep\u001b[0m\u001b[0;34m(\u001b[0m\u001b[0;34m)\u001b[0m\u001b[0;34m\u001b[0m\u001b[0m\n\u001b[0m\u001b[1;32m     11\u001b[0m \u001b[0;34m\u001b[0m\u001b[0m\n\u001b[1;32m     12\u001b[0m \u001b[0;31m#     opt_gen.zero_grad()\u001b[0m\u001b[0;34m\u001b[0m\u001b[0;34m\u001b[0m\u001b[0m\n",
      "\u001b[0;32m~/miniconda3/envs/causal/lib/python3.7/site-packages/torch/autograd/grad_mode.py\u001b[0m in \u001b[0;36mdecorate_context\u001b[0;34m(*args, **kwargs)\u001b[0m\n\u001b[1;32m     24\u001b[0m         \u001b[0;32mdef\u001b[0m \u001b[0mdecorate_context\u001b[0m\u001b[0;34m(\u001b[0m\u001b[0;34m*\u001b[0m\u001b[0margs\u001b[0m\u001b[0;34m,\u001b[0m \u001b[0;34m**\u001b[0m\u001b[0mkwargs\u001b[0m\u001b[0;34m)\u001b[0m\u001b[0;34m:\u001b[0m\u001b[0;34m\u001b[0m\u001b[0m\n\u001b[1;32m     25\u001b[0m             \u001b[0;32mwith\u001b[0m \u001b[0mself\u001b[0m\u001b[0;34m.\u001b[0m\u001b[0m__class__\u001b[0m\u001b[0;34m(\u001b[0m\u001b[0;34m)\u001b[0m\u001b[0;34m:\u001b[0m\u001b[0;34m\u001b[0m\u001b[0m\n\u001b[0;32m---> 26\u001b[0;31m                 \u001b[0;32mreturn\u001b[0m \u001b[0mfunc\u001b[0m\u001b[0;34m(\u001b[0m\u001b[0;34m*\u001b[0m\u001b[0margs\u001b[0m\u001b[0;34m,\u001b[0m \u001b[0;34m**\u001b[0m\u001b[0mkwargs\u001b[0m\u001b[0;34m)\u001b[0m\u001b[0;34m\u001b[0m\u001b[0m\n\u001b[0m\u001b[1;32m     27\u001b[0m         \u001b[0;32mreturn\u001b[0m \u001b[0mcast\u001b[0m\u001b[0;34m(\u001b[0m\u001b[0mF\u001b[0m\u001b[0;34m,\u001b[0m \u001b[0mdecorate_context\u001b[0m\u001b[0;34m)\u001b[0m\u001b[0;34m\u001b[0m\u001b[0m\n\u001b[1;32m     28\u001b[0m \u001b[0;34m\u001b[0m\u001b[0m\n",
      "\u001b[0;32m~/miniconda3/envs/causal/lib/python3.7/site-packages/torch/optim/adam.py\u001b[0m in \u001b[0;36mstep\u001b[0;34m(self, closure)\u001b[0m\n\u001b[1;32m    117\u001b[0m                    \u001b[0mgroup\u001b[0m\u001b[0;34m[\u001b[0m\u001b[0;34m'lr'\u001b[0m\u001b[0;34m]\u001b[0m\u001b[0;34m,\u001b[0m\u001b[0;34m\u001b[0m\u001b[0m\n\u001b[1;32m    118\u001b[0m                    \u001b[0mgroup\u001b[0m\u001b[0;34m[\u001b[0m\u001b[0;34m'weight_decay'\u001b[0m\u001b[0;34m]\u001b[0m\u001b[0;34m,\u001b[0m\u001b[0;34m\u001b[0m\u001b[0m\n\u001b[0;32m--> 119\u001b[0;31m                    \u001b[0mgroup\u001b[0m\u001b[0;34m[\u001b[0m\u001b[0;34m'eps'\u001b[0m\u001b[0;34m]\u001b[0m\u001b[0;34m\u001b[0m\u001b[0m\n\u001b[0m\u001b[1;32m    120\u001b[0m                    )\n\u001b[1;32m    121\u001b[0m         \u001b[0;32mreturn\u001b[0m \u001b[0mloss\u001b[0m\u001b[0;34m\u001b[0m\u001b[0m\n",
      "\u001b[0;32m~/miniconda3/envs/causal/lib/python3.7/site-packages/torch/optim/functional.py\u001b[0m in \u001b[0;36madam\u001b[0;34m(params, grads, exp_avgs, exp_avg_sqs, max_exp_avg_sqs, state_steps, amsgrad, beta1, beta2, lr, weight_decay, eps)\u001b[0m\n\u001b[1;32m     84\u001b[0m \u001b[0;34m\u001b[0m\u001b[0m\n\u001b[1;32m     85\u001b[0m         \u001b[0;31m# Decay the first and second moment running average coefficient\u001b[0m\u001b[0;34m\u001b[0m\u001b[0;34m\u001b[0m\u001b[0m\n\u001b[0;32m---> 86\u001b[0;31m         \u001b[0mexp_avg\u001b[0m\u001b[0;34m.\u001b[0m\u001b[0mmul_\u001b[0m\u001b[0;34m(\u001b[0m\u001b[0mbeta1\u001b[0m\u001b[0;34m)\u001b[0m\u001b[0;34m.\u001b[0m\u001b[0madd_\u001b[0m\u001b[0;34m(\u001b[0m\u001b[0mgrad\u001b[0m\u001b[0;34m,\u001b[0m \u001b[0malpha\u001b[0m\u001b[0;34m=\u001b[0m\u001b[0;36m1\u001b[0m \u001b[0;34m-\u001b[0m \u001b[0mbeta1\u001b[0m\u001b[0;34m)\u001b[0m\u001b[0;34m\u001b[0m\u001b[0m\n\u001b[0m\u001b[1;32m     87\u001b[0m         \u001b[0mexp_avg_sq\u001b[0m\u001b[0;34m.\u001b[0m\u001b[0mmul_\u001b[0m\u001b[0;34m(\u001b[0m\u001b[0mbeta2\u001b[0m\u001b[0;34m)\u001b[0m\u001b[0;34m.\u001b[0m\u001b[0maddcmul_\u001b[0m\u001b[0;34m(\u001b[0m\u001b[0mgrad\u001b[0m\u001b[0;34m,\u001b[0m \u001b[0mgrad\u001b[0m\u001b[0;34m,\u001b[0m \u001b[0mvalue\u001b[0m\u001b[0;34m=\u001b[0m\u001b[0;36m1\u001b[0m \u001b[0;34m-\u001b[0m \u001b[0mbeta2\u001b[0m\u001b[0;34m)\u001b[0m\u001b[0;34m\u001b[0m\u001b[0m\n\u001b[1;32m     88\u001b[0m         \u001b[0;32mif\u001b[0m \u001b[0mamsgrad\u001b[0m\u001b[0;34m:\u001b[0m\u001b[0;34m\u001b[0m\u001b[0m\n",
      "\u001b[0;31mKeyboardInterrupt\u001b[0m: "
     ]
    }
   ],
   "source": [
    "for i in tqdm(range(10000)):\n",
    "    \n",
    "#     idx_random = np.random.choice(len(ds_obs_orig), 10, replace=False)\n",
    "#     ds_obs = ds_obs_orig[idx_random, :]\n",
    "    ds_obs = ds_obs_orig\n",
    "    \n",
    "    opt_dsc.zero_grad()\n",
    "    loss_dsc,acc = disc_loss()\n",
    "    loss_dsc.backward()\n",
    "    opt_dsc.step()\n",
    "    \n",
    "#     opt_gen.zero_grad()\n",
    "#     loss_gen = gen_loss()\n",
    "#     loss_gen.backward()\n",
    "#     opt_gen.step()\n",
    "    \n",
    "    disc_losses.append(loss_dsc.item())\n",
    "#     gen_losses.append(loss_gen.item())\n",
    "    accs.append(acc)"
   ]
  },
  {
   "cell_type": "code",
   "execution_count": 1146,
   "metadata": {},
   "outputs": [
    {
     "data": {
      "text/plain": [
       "[<matplotlib.lines.Line2D at 0x7f2c9a78b9b0>]"
      ]
     },
     "execution_count": 1146,
     "metadata": {},
     "output_type": "execute_result"
    },
    {
     "data": {
      "image/png": "[encoded data removed]",
      "text/plain": [
       "<Figure size 432x288 with 2 Axes>"
      ]
     },
     "metadata": {
      "needs_background": "light"
     },
     "output_type": "display_data"
    }
   ],
   "source": [
    "plt.subplot(1, 2, 1)\n",
    "plt.title('disc')\n",
    "plt.plot(disc_losses)\n",
    "plt.yscale('log')\n",
    "plt.subplot(1, 2, 2)\n",
    "plt.title('acc')\n",
    "plt.plot(accs)"
   ]
  },
  {
   "cell_type": "code",
   "execution_count": 1147,
   "metadata": {},
   "outputs": [
    {
     "data": {
      "text/plain": [
       "torch.Size([1000, 100])"
      ]
     },
     "execution_count": 1147,
     "metadata": {},
     "output_type": "execute_result"
    }
   ],
   "source": [
    "ds_obs.shape"
   ]
  },
  {
   "cell_type": "code",
   "execution_count": 1148,
   "metadata": {},
   "outputs": [
    {
     "data": {
      "text/plain": [
       "0"
      ]
     },
     "execution_count": 1148,
     "metadata": {},
     "output_type": "execute_result"
    }
   ],
   "source": [
    "acc"
   ]
  },
  {
   "cell_type": "code",
   "execution_count": 1149,
   "metadata": {},
   "outputs": [],
   "source": [
    "df = pd.DataFrame(decoder(ds_obs).detach().cpu().numpy())"
   ]
  },
  {
   "cell_type": "code",
   "execution_count": 1150,
   "metadata": {},
   "outputs": [
    {
     "data": {
      "text/html": [
       "<div>\n",
       "<style scoped>\n",
       "    .dataframe tbody tr th:only-of-type {\n",
       "        vertical-align: middle;\n",
       "    }\n",
       "\n",
       "    .dataframe tbody tr th {\n",
       "        vertical-align: top;\n",
       "    }\n",
       "\n",
       "    .dataframe thead th {\n",
       "        text-align: right;\n",
       "    }\n",
       "</style>\n",
       "<table border=\"1\" class=\"dataframe\">\n",
       "  <thead>\n",
       "    <tr style=\"text-align: right;\">\n",
       "      <th></th>\n",
       "      <th>0</th>\n",
       "      <th>1</th>\n",
       "      <th>2</th>\n",
       "      <th>3</th>\n",
       "    </tr>\n",
       "  </thead>\n",
       "  <tbody>\n",
       "    <tr>\n",
       "      <th>count</th>\n",
       "      <td>1000.000000</td>\n",
       "      <td>1000.000000</td>\n",
       "      <td>1000.000000</td>\n",
       "      <td>1000.000000</td>\n",
       "    </tr>\n",
       "    <tr>\n",
       "      <th>mean</th>\n",
       "      <td>-0.118412</td>\n",
       "      <td>-0.047200</td>\n",
       "      <td>-0.120774</td>\n",
       "      <td>-0.022286</td>\n",
       "    </tr>\n",
       "    <tr>\n",
       "      <th>std</th>\n",
       "      <td>1.546153</td>\n",
       "      <td>0.502767</td>\n",
       "      <td>0.845267</td>\n",
       "      <td>0.485985</td>\n",
       "    </tr>\n",
       "    <tr>\n",
       "      <th>min</th>\n",
       "      <td>-2.467574</td>\n",
       "      <td>-1.262424</td>\n",
       "      <td>-1.459227</td>\n",
       "      <td>-0.949707</td>\n",
       "    </tr>\n",
       "    <tr>\n",
       "      <th>25%</th>\n",
       "      <td>-1.715803</td>\n",
       "      <td>-0.469142</td>\n",
       "      <td>-0.945516</td>\n",
       "      <td>-0.431251</td>\n",
       "    </tr>\n",
       "    <tr>\n",
       "      <th>50%</th>\n",
       "      <td>-0.002062</td>\n",
       "      <td>0.014472</td>\n",
       "      <td>-0.088957</td>\n",
       "      <td>-0.021215</td>\n",
       "    </tr>\n",
       "    <tr>\n",
       "      <th>75%</th>\n",
       "      <td>1.331192</td>\n",
       "      <td>0.353089</td>\n",
       "      <td>0.642932</td>\n",
       "      <td>0.348334</td>\n",
       "    </tr>\n",
       "    <tr>\n",
       "      <th>max</th>\n",
       "      <td>2.201474</td>\n",
       "      <td>0.969137</td>\n",
       "      <td>1.254375</td>\n",
       "      <td>1.152853</td>\n",
       "    </tr>\n",
       "  </tbody>\n",
       "</table>\n",
       "</div>"
      ],
      "text/plain": [
       "                 0            1            2            3\n",
       "count  1000.000000  1000.000000  1000.000000  1000.000000\n",
       "mean     -0.118412    -0.047200    -0.120774    -0.022286\n",
       "std       1.546153     0.502767     0.845267     0.485985\n",
       "min      -2.467574    -1.262424    -1.459227    -0.949707\n",
       "25%      -1.715803    -0.469142    -0.945516    -0.431251\n",
       "50%      -0.002062     0.014472    -0.088957    -0.021215\n",
       "75%       1.331192     0.353089     0.642932     0.348334\n",
       "max       2.201474     0.969137     1.254375     1.152853"
      ]
     },
     "execution_count": 1150,
     "metadata": {},
     "output_type": "execute_result"
    }
   ],
   "source": [
    "df.describe()"
   ]
  },
  {
   "cell_type": "code",
   "execution_count": 1151,
   "metadata": {},
   "outputs": [
    {
     "data": {
      "text/plain": [
       "<AxesSubplot:>"
      ]
     },
     "execution_count": 1151,
     "metadata": {},
     "output_type": "execute_result"
    },
    {
     "data": {
      "image/png": "[encoded data removed]",
      "text/plain": [
       "<Figure size 432x288 with 2 Axes>"
      ]
     },
     "metadata": {
      "needs_background": "light"
     },
     "output_type": "display_data"
    }
   ],
   "source": [
    "sns.heatmap(pd.concat([pd.DataFrame(dataset_features), df], axis=1).corr())"
   ]
  },
  {
   "cell_type": "code",
   "execution_count": 1152,
   "metadata": {},
   "outputs": [
    {
     "data": {
      "text/plain": [
       "<matplotlib.collections.PathCollection at 0x7f2cb3688f98>"
      ]
     },
     "execution_count": 1152,
     "metadata": {},
     "output_type": "execute_result"
    },
    {
     "data": {
      "image/png": "[encoded data removed]",
      "text/plain": [
       "<Figure size 432x288 with 1 Axes>"
      ]
     },
     "metadata": {
      "needs_background": "light"
     },
     "output_type": "display_data"
    }
   ],
   "source": [
    "plt.scatter(df[3], dataset_features[:, 0])# - dataset_features[:, 1])"
   ]
  },
  {
   "cell_type": "code",
   "execution_count": 1153,
   "metadata": {},
   "outputs": [
    {
     "data": {
      "text/plain": [
       "<matplotlib.collections.PathCollection at 0x7f2cb4af23c8>"
      ]
     },
     "execution_count": 1153,
     "metadata": {},
     "output_type": "execute_result"
    },
    {
     "data": {
      "image/png": "[encoded data removed]",
      "text/plain": [
       "<Figure size 432x288 with 1 Axes>"
      ]
     },
     "metadata": {
      "needs_background": "light"
     },
     "output_type": "display_data"
    }
   ],
   "source": [
    "plt.scatter(df[1], dataset_features[:, 0] - dataset_features[:, 1])"
   ]
  },
  {
   "cell_type": "markdown",
   "metadata": {},
   "source": [
    "# GAN and a reconstructor"
   ]
  },
  {
   "cell_type": "code",
   "execution_count": 196,
   "metadata": {},
   "outputs": [],
   "source": [
    "bce = torch.nn.BCEWithLogitsLoss(reduction='none')"
   ]
  },
  {
   "cell_type": "code",
   "execution_count": 197,
   "metadata": {},
   "outputs": [],
   "source": [
    "decoder = Decoder().cuda()"
   ]
  },
  {
   "cell_type": "code",
   "execution_count": 198,
   "metadata": {},
   "outputs": [],
   "source": [
    "class Reconstructor(nn.Module):\n",
    "    def __init__(self):\n",
    "        super(Reconstructor, self).__init__()\n",
    "        self.fc1 = nn.Linear(in_features=4, out_features=50)\n",
    "        self.fc2 = nn.Linear(in_features=50, out_features=100)\n",
    "        self.act = nn.Tanh()\n",
    "        self.bn1 = torch.nn.BatchNorm1d(4)\n",
    "        self.bn2 = torch.nn.BatchNorm1d(50)\n",
    "    def forward(self, x):\n",
    "        x = self.bn1(x)\n",
    "        x = self.act(self.fc1(x))\n",
    "        x = self.bn2(x)\n",
    "        x = self.fc2(x)\n",
    "        return x\n",
    "rec = Reconstructor().cuda()"
   ]
  },
  {
   "cell_type": "code",
   "execution_count": 211,
   "metadata": {},
   "outputs": [],
   "source": [
    "class ReconstructedDiscriminator(nn.Module):\n",
    "    def __init__(self, decoder_cls):\n",
    "        super(ReconstructedDiscriminator, self).__init__()\n",
    "        self.decoder1 = decoder_cls()\n",
    "#         self.decoder2 = decoder_cls()\n",
    "        self.fc1 = nn.Linear(in_features=100, out_features=1)\n",
    "#         self.fc2 = nn.Linear(in_features=50, out_features=1)\n",
    "        self.act = nn.Tanh()\n",
    "        self.bn = torch.nn.BatchNorm1d(100)\n",
    "    def forward(self, obs_1, obs_2):\n",
    "        z = (obs_1 - obs_2).pow(2)\n",
    "#         z = self.bn(z)\n",
    "#         f1 = self.decoder1(z)\n",
    "#         f2 = self.decoder1(obs_2)\n",
    "#         all_f = f1 - f2\n",
    "        all_f = z#f1\n",
    "#         f2 = self.decoder1(obs_2)\n",
    "#         all_f = torch.cat([f1, f2], dim=1)\n",
    "#         all_f = f1\n",
    "        x = all_f\n",
    "#         x = self.act(self.fc1(x))\n",
    "        x = self.fc1(x)\n",
    "        return x"
   ]
  },
  {
   "cell_type": "code",
   "execution_count": 212,
   "metadata": {},
   "outputs": [],
   "source": [
    "disc = ReconstructedDiscriminator(Decoder).cuda()"
   ]
  },
  {
   "cell_type": "code",
   "execution_count": null,
   "metadata": {},
   "outputs": [],
   "source": []
  },
  {
   "cell_type": "code",
   "execution_count": 201,
   "metadata": {},
   "outputs": [],
   "source": [
    "def disc_loss():\n",
    "    logits_true = disc(ds_obs, ds_obs)\n",
    "    probas_true = torch.nn.Sigmoid()(logits_true).view(-1)\n",
    "    ans_true = torch.full(fill_value=True, size=(ds_obs.shape[0],)).cuda()\n",
    "    disc_loss_true = bce(logits_true.view(-1), 1. * ans_true).mean()\n",
    "    acc_true = (1. * ((probas_true >= 0.5) == ans_true)).abs().mean()\n",
    "    \n",
    "    logits_false = disc(ds_obs, rec(decoder(ds_obs)))\n",
    "    probas_false = torch.nn.Sigmoid()(logits_false).view(-1)\n",
    "    ans_false = torch.full(fill_value=False, size=(ds_obs.shape[0],)).cuda()\n",
    "    disc_loss_false = bce(logits_false.view(-1), 1. * ans_false).mean()\n",
    "    acc_false = (1. * ((probas_false >= 0.5) == ans_false)).abs().mean()\n",
    "    \n",
    "    return (disc_loss_true + disc_loss_false) / 2, (acc_true + acc_false) / 2\n",
    "\n",
    "def gen_loss():\n",
    "    logits_false = disc(ds_obs, rec(decoder(ds_obs)))\n",
    "    probas_false = torch.nn.Sigmoid()(logits_false).view(-1)\n",
    "    ans_false = torch.full(fill_value=True, size=(ds_obs.shape[0],)).cuda()\n",
    "    disc_loss_false = bce(logits_false.view(-1), 1. * ans_false).mean()\n",
    "    acc_false = (1. * ((probas_false >= 0.5) == ans_false)).abs().mean()\n",
    "    \n",
    "    return disc_loss_false, acc_false\n",
    "\n",
    "def gen_loss_l2():\n",
    "    ds_rec_obs = rec(decoder(ds_obs))\n",
    "    delta = ds_obs - ds_rec_obs\n",
    "    delta = delta.pow(2).sum(1).mean()\n",
    "    return delta"
   ]
  },
  {
   "cell_type": "code",
   "execution_count": 202,
   "metadata": {},
   "outputs": [],
   "source": [
    "class VarianceLossLRDecay():\n",
    "    \"\"\"If the variance is lower than the improvement by a factor, decrease the lr.\n",
    "    \n",
    "    When reached minimal learning rate, reset to default one and reset the optimizer.\"\"\"\n",
    "    def __init__(self, optimizer, factor_lr_decrease=0.5,\n",
    "                 grace_epochs=1000,\n",
    "                 var_factor=5,\n",
    "                 min_lr=1e-6,\n",
    "                 default_lr=1e-3,\n",
    "                 rolling_epochs=100):\n",
    "        self.optimizer = optimizer\n",
    "        self.factor_lr_decrease = factor_lr_decrease\n",
    "        self.grace_epochs = grace_epochs\n",
    "        self.rolling_epochs = rolling_epochs\n",
    "        self.var_factor = var_factor\n",
    "        self.min_lr = min_lr\n",
    "        self.default_lr = default_lr\n",
    "        self.reset()\n",
    "        \n",
    "    def set_lr(self, lr):\n",
    "        self.lr = lr\n",
    "        for g in self.optimizer.param_groups:\n",
    "            g['lr'] = self.lr\n",
    "        \n",
    "    def reset(self):\n",
    "        self.epochs = 0\n",
    "        self.loss_history = []\n",
    "        self.set_lr(self.default_lr)\n",
    "        \n",
    "    def step(self, loss_value):\n",
    "        if hasattr(loss_value, 'item'):\n",
    "            loss_value = loss_value.item()\n",
    "        self.loss_history.append(loss_value)\n",
    "        self.epochs += 1\n",
    "        \n",
    "        if len(self.loss_history) >= self.grace_epochs + self.rolling_epochs and (self.epochs % self.grace_epochs) == 0:\n",
    "            smoothed_loss = pd.Series(self.loss_history).rolling(self.rolling_epochs).median()\n",
    "#             print(\"smoothed len\", len(smoothed_loss))\n",
    "            smoothed_loss = list(smoothed_loss)\n",
    "            smoothed_loss_then = smoothed_loss[-self.grace_epochs]\n",
    "            smoothed_loss_now = smoothed_loss[-1]\n",
    "            \n",
    "            # example: then=1, now=-1 -> improvement = 2/1=2\n",
    "            absolute_improvement = (smoothed_loss_then - smoothed_loss_now)# / smoothed_loss_then\n",
    "            loss_std = np.abs(np.std(self.loss_history[-self.grace_epochs:]) - np.std(smoothed_loss[-self.grace_epochs:]))\n",
    "            \n",
    "            print(f\"Epoch {self.epochs} abs improvement {absolute_improvement} {loss_std}\")\n",
    "            \n",
    "#             if relative_improvement < self.factor_loss_relative:\n",
    "            if absolute_improvement < loss_std * self.var_factor:\n",
    "                self.set_lr(self.lr * self.factor_lr_decrease)\n",
    "                print(f'Decreasing lr...')\n",
    "                \n",
    "        if self.lr < self.min_lr:\n",
    "            self.reset()"
   ]
  },
  {
   "cell_type": "code",
   "execution_count": null,
   "metadata": {},
   "outputs": [],
   "source": []
  },
  {
   "cell_type": "code",
   "execution_count": 203,
   "metadata": {},
   "outputs": [
    {
     "data": {
      "text/plain": [
       "((tensor(0.7091, device='cuda:0', grad_fn=<DivBackward0>),\n",
       "  tensor(0.3315, device='cuda:0')),\n",
       " (tensor(0.7679, device='cuda:0', grad_fn=<MeanBackward0>),\n",
       "  tensor(0.3370, device='cuda:0')),\n",
       " tensor(56.5049, device='cuda:0', grad_fn=<MeanBackward0>))"
      ]
     },
     "execution_count": 203,
     "metadata": {},
     "output_type": "execute_result"
    }
   ],
   "source": [
    "disc_loss(), gen_loss(), gen_loss_l2()"
   ]
  },
  {
   "cell_type": "code",
   "execution_count": 213,
   "metadata": {},
   "outputs": [],
   "source": [
    "opt_disc = torch.optim.Adam(disc.parameters(), lr=1e-3)\n",
    "opt_l2 = torch.optim.Adam(list(decoder.parameters()) + list(rec.parameters()), lr=1e-3)\n",
    "opt_rec = torch.optim.Adam(list(decoder.parameters()) + list(rec.parameters()), lr=1e-3)"
   ]
  },
  {
   "cell_type": "code",
   "execution_count": 214,
   "metadata": {},
   "outputs": [],
   "source": [
    "sch_disc = VarianceLossLRDecay(opt_disc)\n",
    "sch_l2 = VarianceLossLRDecay(opt_l2)\n",
    "sch_rec = VarianceLossLRDecay(opt_rec)"
   ]
  },
  {
   "cell_type": "code",
   "execution_count": 206,
   "metadata": {},
   "outputs": [],
   "source": [
    "acc_gens = []\n",
    "acc_discs = []\n",
    "loss_gens = []\n",
    "loss_discs = []\n",
    "loss_l2s = []"
   ]
  },
  {
   "cell_type": "code",
   "execution_count": 227,
   "metadata": {},
   "outputs": [
    {
     "data": {
      "application/vnd.jupyter.widget-view+json": {
       "model_id": "46d56c9d907d4adf93ea3153a0cc61fe",
       "version_major": 2,
       "version_minor": 0
      },
      "text/plain": [
       "HBox(children=(HTML(value=''), FloatProgress(value=0.0, max=10000.0), HTML(value='')))"
      ]
     },
     "metadata": {},
     "output_type": "display_data"
    },
    {
     "name": "stdout",
     "output_type": "stream",
     "text": [
      "Epoch 6000 abs improvement -0.016544847283512354 0.0007020072811299554\n",
      "Decreasing lr...\n",
      "Epoch 4000 abs improvement 0.0028651654720306396 0.00017872561369121007\n",
      "Epoch 6000 abs improvement 0.003237992525100708 0.0001296460976364319\n",
      "Epoch 7000 abs improvement 0.024433221173239872 0.0033029822374910558\n",
      "Epoch 5000 abs improvement -0.003494769334793091 0.00047532209042608467\n",
      "Decreasing lr...\n",
      "Epoch 7000 abs improvement -0.0050498247146606445 0.0007502306554823415\n",
      "Decreasing lr...\n",
      "Epoch 8000 abs improvement -0.009668311366112903 0.000873248533444863\n",
      "Decreasing lr...\n",
      "Epoch 6000 abs improvement 0.0020697712898254395 0.00017279208307790844\n",
      "Epoch 8000 abs improvement 0.0019134879112243652 0.00018391335074068027\n",
      "Epoch 9000 abs improvement 0.00961311673745513 0.0011961563820380413\n",
      "Epoch 7000 abs improvement -0.0019972920417785645 0.00021142943068749238\n",
      "Decreasing lr...\n",
      "Epoch 9000 abs improvement -0.001904994249343872 0.0002474153616021463\n",
      "Decreasing lr...\n",
      "Epoch 10000 abs improvement -0.005939621711149812 0.0007313556597886624\n",
      "Decreasing lr...\n",
      "Epoch 8000 abs improvement 0.0009670555591583252 0.0001317824918594918\n",
      "Epoch 10000 abs improvement 0.0013287663459777832 0.00015339991474911215\n",
      "Epoch 11000 abs improvement 0.006041049273335375 0.0010208432541672632\n",
      "Epoch 9000 abs improvement -0.0009564459323883057 0.00011306235390135701\n",
      "Decreasing lr...\n",
      "Epoch 11000 abs improvement -0.001351475715637207 0.0002390084317883783\n",
      "Decreasing lr...\n",
      "Epoch 12000 abs improvement -0.0004748778883367777 0.0001016657941199274\n",
      "Decreasing lr...\n",
      "Epoch 10000 abs improvement 9.807944297790527e-05 2.0596072306181574e-05\n",
      "Decreasing lr...\n",
      "Epoch 12000 abs improvement 0.00011262297630310059 2.1214802100119204e-05\n",
      "Epoch 13000 abs improvement 0.0005437047948362306 9.13198473718429e-05\n",
      "Epoch 11000 abs improvement -8.726119995117188e-05 1.0117523468454003e-05\n",
      "Decreasing lr...\n",
      "Epoch 13000 abs improvement -0.0001259148120880127 2.2160043971193926e-05\n",
      "Decreasing lr...\n",
      "Epoch 14000 abs improvement -4.68258949695155e-05 2.006227353805237e-06\n",
      "Decreasing lr...\n",
      "Epoch 12000 abs improvement 1.055002212524414e-05 4.238502012891749e-07\n",
      "Epoch 14000 abs improvement 9.775161743164062e-06 4.4408068932814506e-07\n",
      "Epoch 15000 abs improvement 6.797359310439788e-05 6.694389624935446e-06\n",
      "Epoch 13000 abs improvement -5.3942203521728516e-06 3.740846466611623e-07\n",
      "Decreasing lr...\n",
      "Epoch 15000 abs improvement -1.481175422668457e-05 1.4581033192045057e-06\n",
      "Decreasing lr...\n",
      "\n"
     ]
    }
   ],
   "source": [
    "for i in tqdm(range(10000)):\n",
    "    opt_l2.zero_grad()\n",
    "    gl2 = gen_loss_l2()\n",
    "    loss =  gl2\n",
    "    loss.backward()\n",
    "    sch_l2.step(loss.item())\n",
    "    opt_l2.step()\n",
    "    \n",
    "    opt_rec.zero_grad()\n",
    "    gl, acc_gen = gen_loss()\n",
    "    loss =  gl\n",
    "    loss.backward()\n",
    "    sch_rec.step(loss.item())\n",
    "    opt_rec.step()\n",
    "    \n",
    "    opt_disc.zero_grad()\n",
    "    dl, acc_dsc = disc_loss()\n",
    "    loss = dl\n",
    "    loss.backward()\n",
    "    sch_disc.step(loss.item())\n",
    "    opt_disc.step()\n",
    "    \n",
    "    acc_gens.append(acc_gen.item())\n",
    "    acc_discs.append(acc_dsc.item())\n",
    "    loss_gens.append(gl.item())\n",
    "    loss_discs.append(dl.item())\n",
    "    loss_l2s.append(gl2.item())"
   ]
  },
  {
   "cell_type": "code",
   "execution_count": 228,
   "metadata": {},
   "outputs": [
    {
     "data": {
      "image/png": "[encoded data removed]",
      "text/plain": [
       "<Figure size 1080x360 with 5 Axes>"
      ]
     },
     "metadata": {
      "needs_background": "light"
     },
     "output_type": "display_data"
    }
   ],
   "source": [
    "plt.figure(figsize=(15, 5))\n",
    "plt.subplot(1, 5, 1)\n",
    "plt.plot(acc_gens)\n",
    "plt.title('acc_gen')\n",
    "\n",
    "plt.subplot(1, 5, 2)\n",
    "plt.plot(acc_discs)\n",
    "plt.title('acc_disc')\n",
    "\n",
    "plt.subplot(1, 5, 3)\n",
    "plt.plot(loss_gens)\n",
    "plt.title('loss_gen')\n",
    "plt.yscale('log')\n",
    "\n",
    "plt.subplot(1, 5, 4)\n",
    "plt.plot(loss_discs)\n",
    "plt.title('loss_disc')\n",
    "plt.yscale('log')\n",
    "\n",
    "plt.subplot(1, 5, 5)\n",
    "plt.plot(loss_l2s)\n",
    "plt.title('loss_l2')\n",
    "plt.yscale('log')"
   ]
  },
  {
   "cell_type": "code",
   "execution_count": null,
   "metadata": {},
   "outputs": [],
   "source": []
  },
  {
   "cell_type": "code",
   "execution_count": null,
   "metadata": {},
   "outputs": [],
   "source": []
  },
  {
   "cell_type": "code",
   "execution_count": null,
   "metadata": {},
   "outputs": [],
   "source": []
  }
 ],
 "metadata": {
  "kernelspec": {
   "display_name": "Python 3",
   "language": "python",
   "name": "python3"
  },
  "language_info": {
   "codemirror_mode": {
    "name": "ipython",
    "version": 3
   },
   "file_extension": ".py",
   "mimetype": "text/x-python",
   "name": "python",
   "nbconvert_exporter": "python",
   "pygments_lexer": "ipython3",
   "version": "3.7.0"
  }
 },
 "nbformat": 4,
 "nbformat_minor": 4
}
