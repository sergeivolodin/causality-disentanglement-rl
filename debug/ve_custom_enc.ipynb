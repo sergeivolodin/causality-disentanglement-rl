{
 "cells": [
  {
   "cell_type": "code",
   "execution_count": 1,
   "id": "hispanic-london",
   "metadata": {},
   "outputs": [],
   "source": [
    "%load_ext autoreload\n",
    "%autoreload 2\n",
    "import os\n",
    "os.environ['CUDA_VISIBLE_DEVICES'] = \"-1\"\n",
    "import numpy as np\n",
    "from matplotlib import pyplot as plt\n",
    "import torch\n",
    "from sparse_causal_model_learner_rl.sacred_gin_tune.sacred_wrapper import load_config_files\n",
    "from sparse_causal_model_learner_rl.learners.rl_learner import CausalModelLearnerRL\n",
    "from sparse_causal_model_learner_rl.config import Config\n",
    "from causal_util import load_env\n",
    "from tqdm.auto import tqdm\n",
    "from torch import nn\n",
    "import gin\n",
    "from encoder.digit_encoder import small_int_vector_asimage, show_digits, digits\n",
    "gin.enter_interactive_mode()"
   ]
  },
  {
   "cell_type": "code",
   "execution_count": 2,
   "id": "absolute-latter",
   "metadata": {},
   "outputs": [
    {
     "data": {
      "text/plain": [
       "['ve5_toy_digits']"
      ]
     },
     "execution_count": 2,
     "metadata": {},
     "output_type": "execute_result"
    }
   ],
   "source": [
    "load_config_files(['../vectorincrement/config/ve5_toy_digits.gin'])"
   ]
  },
  {
   "cell_type": "code",
   "execution_count": 3,
   "id": "modular-probe",
   "metadata": {},
   "outputs": [
    {
     "name": "stdout",
     "output_type": "stream",
     "text": [
      "Make environment VectorIncrement-v0 None {}\n"
     ]
    }
   ],
   "source": [
    "env = load_env()"
   ]
  },
  {
   "cell_type": "code",
   "execution_count": 4,
   "id": "blessed-twins",
   "metadata": {},
   "outputs": [
    {
     "data": {
      "text/plain": [
       "<matplotlib.image.AxesImage at 0x7f397951ed50>"
      ]
     },
     "execution_count": 4,
     "metadata": {},
     "output_type": "execute_result"
    },
    {
     "data": {
      "image/png": "[encoded data removed]",
      "text/plain": [
       "<Figure size 432x288 with 1 Axes>"
      ]
     },
     "metadata": {
      "needs_background": "light"
     },
     "output_type": "display_data"
    }
   ],
   "source": [
    "plt.imshow(env.reset())"
   ]
  },
  {
   "cell_type": "code",
   "execution_count": 5,
   "id": "assigned-paper",
   "metadata": {},
   "outputs": [
    {
     "data": {
      "application/vnd.jupyter.widget-view+json": {
       "model_id": "89ef0a357dd449d6afe506c407e787ad",
       "version_major": 2,
       "version_minor": 0
      },
      "text/plain": [
       "HBox(children=(HTML(value=''), FloatProgress(value=0.0), HTML(value='')))"
      ]
     },
     "metadata": {},
     "output_type": "display_data"
    },
    {
     "name": "stdout",
     "output_type": "stream",
     "text": [
      "\n"
     ]
    }
   ],
   "source": [
    "obss = []\n",
    "for _ in tqdm(range(100)):\n",
    "    obss.append(env.reset())\n",
    "    done = False\n",
    "    while not done:\n",
    "        obs, rew, done, info = env.step(env.action_space.sample())\n",
    "        obss.append(obs)"
   ]
  },
  {
   "cell_type": "code",
   "execution_count": 6,
   "id": "aerial-brighton",
   "metadata": {},
   "outputs": [],
   "source": [
    "obss = np.array(obss)"
   ]
  },
  {
   "cell_type": "code",
   "execution_count": 7,
   "id": "recent-saying",
   "metadata": {},
   "outputs": [
    {
     "data": {
      "text/plain": [
       "<matplotlib.image.AxesImage at 0x7f3978392190>"
      ]
     },
     "execution_count": 7,
     "metadata": {},
     "output_type": "execute_result"
    },
    {
     "data": {
      "image/png": "[encoded data removed]",
      "text/plain": [
       "<Figure size 432x288 with 1 Axes>"
      ]
     },
     "metadata": {
      "needs_background": "light"
     },
     "output_type": "display_data"
    }
   ],
   "source": [
    "plt.imshow(np.std(obss, axis=0))"
   ]
  },
  {
   "cell_type": "code",
   "execution_count": 10,
   "id": "musical-visitor",
   "metadata": {},
   "outputs": [
    {
     "data": {
      "image/png": "[encoded data removed]",
      "text/plain": [
       "<Figure size 720x720 with 23 Axes>"
      ]
     },
     "metadata": {
      "needs_background": "light"
     },
     "output_type": "display_data"
    }
   ],
   "source": [
    "show_digits(digits)"
   ]
  },
  {
   "cell_type": "code",
   "execution_count": 11,
   "id": "occupational-pricing",
   "metadata": {},
   "outputs": [
    {
     "data": {
      "text/plain": [
       "<matplotlib.image.AxesImage at 0x7f3973c50b50>"
      ]
     },
     "execution_count": 11,
     "metadata": {},
     "output_type": "execute_result"
    },
    {
     "data": {
      "image/png": "[encoded data removed]",
      "text/plain": [
       "<Figure size 432x288 with 1 Axes>"
      ]
     },
     "metadata": {
      "needs_background": "light"
     },
     "output_type": "display_data"
    }
   ],
   "source": [
    "plt.imshow(small_int_vector_asimage([2, 4, 5]))"
   ]
  },
  {
   "cell_type": "code",
   "execution_count": 12,
   "id": "limiting-structure",
   "metadata": {},
   "outputs": [
    {
     "data": {
      "text/plain": [
       "<matplotlib.image.AxesImage at 0x7f3973d649d0>"
      ]
     },
     "execution_count": 12,
     "metadata": {},
     "output_type": "execute_result"
    },
    {
     "data": {
      "image/png": "[encoded data removed]",
      "text/plain": [
       "<Figure size 432x288 with 1 Axes>"
      ]
     },
     "metadata": {
      "needs_background": "light"
     },
     "output_type": "display_data"
    }
   ],
   "source": [
    "plt.imshow(small_int_vector_asimage([4, 8, 15, 16, 23, 42], max_digits=2))"
   ]
  },
  {
   "cell_type": "code",
   "execution_count": 13,
   "id": "sustainable-understanding",
   "metadata": {},
   "outputs": [],
   "source": [
    "from IPython.display import clear_output, display\n",
    "import ipywidgets as widgets\n",
    "from time import sleep\n",
    "from PIL import Image\n",
    "import io"
   ]
  },
  {
   "cell_type": "code",
   "execution_count": 14,
   "id": "interim-triple",
   "metadata": {},
   "outputs": [
    {
     "data": {
      "application/vnd.jupyter.widget-view+json": {
       "model_id": "057f363ecd1646e5a679313a8a7935e7",
       "version_major": 2,
       "version_minor": 0
      },
      "text/plain": [
       "Checkbox(value=False, description='Permute pixels', indent=False)"
      ]
     },
     "metadata": {},
     "output_type": "display_data"
    },
    {
     "data": {
      "application/vnd.jupyter.widget-view+json": {
       "model_id": "67d822a6f03c4faca7f0599952dc6bde",
       "version_major": 2,
       "version_minor": 0
      },
      "text/plain": [
       "ClickResponsiveToggleButtons(button_style='success', description='Action:', options=('0', '1', '2', '3', '4'),…"
      ]
     },
     "metadata": {},
     "output_type": "display_data"
    },
    {
     "data": {
      "application/vnd.jupyter.widget-view+json": {
       "model_id": "6c076539254046388ae635ed8b624883",
       "version_major": 2,
       "version_minor": 0
      },
      "text/plain": [
       "Image(value=b'\\x89PNG\\r\\n\\x1a\\n\\x00\\x00\\x00\\rIHDR\\x00\\x00\\x00\\xbe\\x00\\x00\\x002\\x08\\x02\\x00\\x00\\x00md\\xf6i\\x00\\…"
      ]
     },
     "metadata": {},
     "output_type": "display_data"
    },
    {
     "data": {
      "application/vnd.jupyter.widget-view+json": {
       "model_id": "15ddd835ae3542409c6bcfd00784b33a",
       "version_major": 2,
       "version_minor": 0
      },
      "text/plain": [
       "HTML(value='Environment reset. <i>Press buttons to take actions</i>')"
      ]
     },
     "metadata": {},
     "output_type": "display_data"
    }
   ],
   "source": [
    "perm = np.random.permutation(np.prod(env.reset().shape))\n",
    "\n",
    "ck = widgets.Checkbox(\n",
    "    value=False,\n",
    "    description='Permute pixels',\n",
    "    disabled=False,\n",
    "    indent=False\n",
    ")\n",
    "\n",
    "display(ck)\n",
    "\n",
    "def unpermute_observation(obs):\n",
    "    return obs.flatten()[np.argsort(env.env.perm)].reshape(obs.shape)\n",
    "\n",
    "def permute_observation(obs, perm):\n",
    "    return obs.flatten()[perm].reshape(obs.shape)\n",
    "    \n",
    "def npimg_to_png(obs):\n",
    "    \n",
    "    obs_rgb = (obs/0.2 * 200).astype(np.uint8).reshape(*obs.shape, 1).repeat(3, axis=2)\n",
    "    img = Image.fromarray(obs_rgb)\n",
    "    img = img.resize((obs.shape[1] * 10, obs.shape[0] * 10), Image.NEAREST)\n",
    "    \n",
    "    img_byte_arr = io.BytesIO()\n",
    "    img.convert('RGB').save(img_byte_arr, format='PNG')\n",
    "    img_byte_arr = img_byte_arr.getvalue()\n",
    "    return img_byte_arr\n",
    "    \n",
    "obs = env.reset()\n",
    "\n",
    "img_widget = widgets.Image(\n",
    "    value=npimg_to_png(obs),\n",
    "    format='png',\n",
    "    width=300,\n",
    "    height=400,\n",
    ")\n",
    "                                       \n",
    "def show_obs(obs, permute=None):\n",
    "    obs = unpermute_observation(obs)\n",
    "    if permute is None:\n",
    "        permute = ck.value\n",
    "    if permute:\n",
    "        obs = permute_observation(obs, perm)\n",
    "    img_widget.value = npimg_to_png(obs)\n",
    "\n",
    "show_obs(obs)\n",
    "done = False\n",
    "\n",
    "import ipywidgets as widgets\n",
    "class ClickResponsiveToggleButtons(widgets.ToggleButtons):\n",
    "\n",
    "    def __init__(self, *args, **kwargs):\n",
    "        super().__init__(*args, **kwargs)\n",
    "        self._click_handlers = widgets.CallbackDispatcher()\n",
    "        self.on_msg(self._handle_button_msg)\n",
    "        pass\n",
    "\n",
    "    def on_click(self, callback, remove=False):\n",
    "        \"\"\"Register a callback to execute when the button is clicked.\n",
    "\n",
    "        The callback will be called with one argument, the clicked button\n",
    "        widget instance.\n",
    "\n",
    "        Parameters\n",
    "        ----------\n",
    "        remove: bool (optional)\n",
    "            Set to true to remove the callback from the list of callbacks.\n",
    "        \"\"\"\n",
    "        self._click_handlers.register_callback(callback, remove=remove)\n",
    "\n",
    "    def _handle_button_msg(self, _, content, buffers):\n",
    "        \"\"\"Handle a msg from the front-end.\n",
    "\n",
    "        Parameters\n",
    "        ----------\n",
    "        content: dict\n",
    "            Content of the msg.\n",
    "        \"\"\"\n",
    "        if content.get('event', '') == 'click':\n",
    "            self._click_handlers(self)\n",
    "\n",
    "options = '01234'\n",
    "\n",
    "btn = ClickResponsiveToggleButtons(\n",
    "    options=list(options),\n",
    "    description='Action:',\n",
    "    disabled=False,\n",
    "    button_style='success',\n",
    ")\n",
    "\n",
    "info = widgets.HTML(\n",
    "    value=\"Hello <b>World</b>\",\n",
    ")\n",
    "info.value = \"Environment reset. <i>Press buttons to take actions</i>\"\n",
    "\n",
    "filled = False\n",
    "step = 0\n",
    "def handler(x):\n",
    "    x = x.index\n",
    "    if x >= 0:\n",
    "        global done, obs, filled, step\n",
    "        filled = True\n",
    "        action = x\n",
    "        obs, rew, done, _ = env.step(action)\n",
    "        info.value = f\"<b>Step:</b> {step}<br />\" +\\\n",
    "                     f\"<b>Reward:</b> {rew}<br />\" +\\\n",
    "                     f\"<b>{'done' if done else 'Press action to continue'}</b>\"\n",
    "        step += 1\n",
    "        \n",
    "#         btn.disabled = done\n",
    "        btn.button_style = 'warning' if done else 'success'\n",
    "        show_obs(obs)\n",
    "        if done:\n",
    "            sleep(0.5)\n",
    "            obs = env.reset()\n",
    "            info.value = \"Environment reset. <i>Press buttons to take actions</i>\"\n",
    "            show_obs(obs)\n",
    "            btn.button_style = 'success'\n",
    "            step = 0\n",
    "\n",
    "display(btn)\n",
    "display(img_widget)\n",
    "display(info)\n",
    "btn.on_click(handler)"
   ]
  },
  {
   "cell_type": "markdown",
   "id": "domestic-expense",
   "metadata": {},
   "source": [
    "env"
   ]
  },
  {
   "cell_type": "code",
   "execution_count": 30,
   "id": "democratic-momentum",
   "metadata": {},
   "outputs": [],
   "source": [
    "obs = env.reset()\n",
    "for _ in range(10):\n",
    "    obs, _, _, _ = env.step(env.action_space.sample())"
   ]
  },
  {
   "cell_type": "code",
   "execution_count": 36,
   "id": "olive-madrid",
   "metadata": {},
   "outputs": [
    {
     "data": {
      "image/png": "[encoded data removed]",
      "text/plain": [
       "<Figure size 1080x720 with 2 Axes>"
      ]
     },
     "metadata": {
      "needs_background": "light"
     },
     "output_type": "display_data"
    }
   ],
   "source": [
    "plt.figure(figsize=(15, 10))\n",
    "plt.subplot(1, 2, 2)\n",
    "plt.title(\"Permuted\")\n",
    "plt.imshow(obs)\n",
    "plt.axis('off')\n",
    "plt.subplot(1, 2, 1)\n",
    "plt.title('Original')\n",
    "plt.imshow(unpermute_observation(obs))\n",
    "plt.axis('off')\n",
    "plt.savefig('../../ve5_obs.pdf', bbox_inches='tight')"
   ]
  },
  {
   "cell_type": "code",
   "execution_count": 34,
   "id": "universal-relations",
   "metadata": {},
   "outputs": [],
   "source": [
    "plt.rcParams.update({\n",
    "    #'font.size': 8,\n",
    "    'text.usetex': True,\n",
    "    'text.latex.preamble': r'\\usepackage{amsfonts}',\n",
    "    'font.family' : 'normal',\n",
    "        'font.weight' : 'normal',\n",
    "        'font.size'   : 20\n",
    "})\n"
   ]
  },
  {
   "cell_type": "code",
   "execution_count": 37,
   "id": "compound-seller",
   "metadata": {},
   "outputs": [
    {
     "data": {
      "text/plain": [
       "(5, 19)"
      ]
     },
     "execution_count": 37,
     "metadata": {},
     "output_type": "execute_result"
    }
   ],
   "source": [
    "env.reset().shape"
   ]
  },
  {
   "cell_type": "code",
   "execution_count": null,
   "id": "nervous-equivalent",
   "metadata": {},
   "outputs": [],
   "source": []
  }
 ],
 "metadata": {
  "kernelspec": {
   "display_name": "Python 3",
   "language": "python",
   "name": "python3"
  },
  "language_info": {
   "codemirror_mode": {
    "name": "ipython",
    "version": 3
   },
   "file_extension": ".py",
   "mimetype": "text/x-python",
   "name": "python",
   "nbconvert_exporter": "python",
   "pygments_lexer": "ipython3",
   "version": "3.7.10"
  }
 },
 "nbformat": 4,
 "nbformat_minor": 5
}
