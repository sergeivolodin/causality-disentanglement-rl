{
 "cells": [
  {
   "cell_type": "code",
   "execution_count": 1,
   "metadata": {},
   "outputs": [],
   "source": [
    "%load_ext autoreload\n",
    "%autoreload 2\n",
    "import os\n",
    "os.environ['CUDA_VISIBLE_DEVICES'] = \"-1\"\n",
    "import numpy as np\n",
    "from matplotlib import pyplot as plt\n",
    "import torch\n",
    "from sparse_causal_model_learner_rl.sacred_gin_tune.sacred_wrapper import load_config_files\n",
    "from sparse_causal_model_learner_rl.learners.rl_learner import CausalModelLearnerRL\n",
    "from sparse_causal_model_learner_rl.config import Config\n",
    "from causal_util import load_env\n",
    "from tqdm.auto import tqdm\n",
    "from torch import nn\n",
    "import gin\n",
    "from encoder.digit_encoder import small_int_vector_asimage, show_digits, digits\n",
    "gin.enter_interactive_mode()"
   ]
  },
  {
   "cell_type": "code",
   "execution_count": 16,
   "metadata": {},
   "outputs": [
    {
     "data": {
      "text/plain": [
       "['ve5_toy_digits']"
      ]
     },
     "execution_count": 16,
     "metadata": {},
     "output_type": "execute_result"
    }
   ],
   "source": [
    "load_config_files(['../vectorincrement/config/ve5_toy_digits.gin'])"
   ]
  },
  {
   "cell_type": "code",
   "execution_count": 17,
   "metadata": {},
   "outputs": [
    {
     "name": "stdout",
     "output_type": "stream",
     "text": [
      "Make environment VectorIncrement-v0 None {}\n"
     ]
    }
   ],
   "source": [
    "env = load_env()"
   ]
  },
  {
   "cell_type": "code",
   "execution_count": 18,
   "metadata": {},
   "outputs": [
    {
     "data": {
      "text/plain": [
       "<matplotlib.image.AxesImage at 0x7fcb1a7e95f8>"
      ]
     },
     "execution_count": 18,
     "metadata": {},
     "output_type": "execute_result"
    },
    {
     "data": {
      "image/png": "[encoded data removed]",
      "text/plain": [
       "<Figure size 432x288 with 1 Axes>"
      ]
     },
     "metadata": {
      "needs_background": "light"
     },
     "output_type": "display_data"
    }
   ],
   "source": [
    "plt.imshow(env.reset())"
   ]
  },
  {
   "cell_type": "code",
   "execution_count": 19,
   "metadata": {},
   "outputs": [
    {
     "data": {
      "application/vnd.jupyter.widget-view+json": {
       "model_id": "1dbd6631c5574078a0055d1e43acee69",
       "version_major": 2,
       "version_minor": 0
      },
      "text/plain": [
       "HBox(children=(HTML(value=''), FloatProgress(value=0.0), HTML(value='')))"
      ]
     },
     "metadata": {},
     "output_type": "display_data"
    },
    {
     "name": "stdout",
     "output_type": "stream",
     "text": [
      "\n"
     ]
    }
   ],
   "source": [
    "obss = []\n",
    "for _ in tqdm(range(100)):\n",
    "    obss.append(env.reset())\n",
    "    done = False\n",
    "    while not done:\n",
    "        obs, rew, done, info = env.step(env.action_space.sample())\n",
    "        obss.append(obs)"
   ]
  },
  {
   "cell_type": "code",
   "execution_count": 20,
   "metadata": {},
   "outputs": [],
   "source": [
    "obss = np.array(obss)"
   ]
  },
  {
   "cell_type": "code",
   "execution_count": 21,
   "metadata": {},
   "outputs": [
    {
     "data": {
      "text/plain": [
       "<matplotlib.image.AxesImage at 0x7fcb1a7ef0b8>"
      ]
     },
     "execution_count": 21,
     "metadata": {},
     "output_type": "execute_result"
    },
    {
     "data": {
      "image/png": "[encoded data removed]",
      "text/plain": [
       "<Figure size 432x288 with 1 Axes>"
      ]
     },
     "metadata": {
      "needs_background": "light"
     },
     "output_type": "display_data"
    }
   ],
   "source": [
    "plt.imshow(np.std(obss, axis=0))"
   ]
  },
  {
   "cell_type": "code",
   "execution_count": 8,
   "metadata": {},
   "outputs": [
    {
     "data": {
      "image/png": "[encoded data removed]",
      "text/plain": [
       "<Figure size 720x720 with 10 Axes>"
      ]
     },
     "metadata": {
      "needs_background": "light"
     },
     "output_type": "display_data"
    }
   ],
   "source": [
    "show_digits(digits)"
   ]
  },
  {
   "cell_type": "code",
   "execution_count": 9,
   "metadata": {},
   "outputs": [
    {
     "data": {
      "text/plain": [
       "<matplotlib.image.AxesImage at 0x7fcb1a7b6eb8>"
      ]
     },
     "execution_count": 9,
     "metadata": {},
     "output_type": "execute_result"
    },
    {
     "data": {
      "image/png": "[encoded data removed]",
      "text/plain": [
       "<Figure size 432x288 with 1 Axes>"
      ]
     },
     "metadata": {
      "needs_background": "light"
     },
     "output_type": "display_data"
    }
   ],
   "source": [
    "plt.imshow(small_int_vector_asimage([2, 4, 5]))"
   ]
  },
  {
   "cell_type": "code",
   "execution_count": 10,
   "metadata": {},
   "outputs": [
    {
     "data": {
      "text/plain": [
       "<matplotlib.image.AxesImage at 0x7fcb1a720320>"
      ]
     },
     "execution_count": 10,
     "metadata": {},
     "output_type": "execute_result"
    },
    {
     "data": {
      "image/png": "[encoded data removed]",
      "text/plain": [
       "<Figure size 432x288 with 1 Axes>"
      ]
     },
     "metadata": {
      "needs_background": "light"
     },
     "output_type": "display_data"
    }
   ],
   "source": [
    "plt.imshow(small_int_vector_asimage([4, 8, 15, 16, 23, 42], max_digits=2))"
   ]
  },
  {
   "cell_type": "code",
   "execution_count": 11,
   "metadata": {},
   "outputs": [],
   "source": [
    "from IPython.display import clear_output, display\n",
    "import ipywidgets as widgets\n",
    "from time import sleep\n",
    "from PIL import Image\n",
    "import io"
   ]
  },
  {
   "cell_type": "code",
   "execution_count": 29,
   "metadata": {},
   "outputs": [
    {
     "data": {
      "application/vnd.jupyter.widget-view+json": {
       "model_id": "d458234a167d4168909ce896ebeab174",
       "version_major": 2,
       "version_minor": 0
      },
      "text/plain": [
       "Checkbox(value=False, description='Permute pixels', indent=False)"
      ]
     },
     "metadata": {},
     "output_type": "display_data"
    },
    {
     "data": {
      "application/vnd.jupyter.widget-view+json": {
       "model_id": "c9a7e61f0ca74ed5b938f0d446fb4653",
       "version_major": 2,
       "version_minor": 0
      },
      "text/plain": [
       "ClickResponsiveToggleButtons(button_style='success', description='Action:', options=('0', '1', '2', '3', '4'),…"
      ]
     },
     "metadata": {},
     "output_type": "display_data"
    },
    {
     "data": {
      "application/vnd.jupyter.widget-view+json": {
       "model_id": "59d07876c3e64c7a8e5a4a8dae15f3ef",
       "version_major": 2,
       "version_minor": 0
      },
      "text/plain": [
       "Image(value=b'\\x89PNG\\r\\n\\x1a\\n\\x00\\x00\\x00\\rIHDR\\x00\\x00\\x00\\xbe\\x00\\x00\\x002\\x08\\x02\\x00\\x00\\x00md\\xf6i\\x00\\…"
      ]
     },
     "metadata": {},
     "output_type": "display_data"
    }
   ],
   "source": [
    "perm = np.random.permutation(np.prod(env.reset().shape))\n",
    "\n",
    "ck = widgets.Checkbox(\n",
    "    value=False,\n",
    "    description='Permute pixels',\n",
    "    disabled=False,\n",
    "    indent=False\n",
    ")\n",
    "\n",
    "display(ck)\n",
    "\n",
    "def permute_observation(obs, perm):\n",
    "    return obs.flatten()[perm].reshape(obs.shape)\n",
    "    \n",
    "def npimg_to_png(obs):\n",
    "    \n",
    "    obs_rgb = (obs/0.2 * 200).astype(np.uint8).reshape(*obs.shape, 1).repeat(3, axis=2)\n",
    "    img = Image.fromarray(obs_rgb)\n",
    "    img = img.resize((obs.shape[1] * 10, obs.shape[0] * 10), Image.NEAREST)\n",
    "    \n",
    "    img_byte_arr = io.BytesIO()\n",
    "    img.convert('RGB').save(img_byte_arr, format='PNG')\n",
    "    img_byte_arr = img_byte_arr.getvalue()\n",
    "    return img_byte_arr\n",
    "    \n",
    "obs = env.reset()\n",
    "\n",
    "img_widget = widgets.Image(\n",
    "    value=npimg_to_png(obs),\n",
    "    format='png',\n",
    "    width=300,\n",
    "    height=400,\n",
    ")\n",
    "                                       \n",
    "def show_obs(obs, permute=None):\n",
    "    if permute is None:\n",
    "        permute = ck.value\n",
    "    if permute:\n",
    "        obs = permute_observation(obs, perm)\n",
    "    img_widget.value = npimg_to_png(obs)\n",
    "\n",
    "show_obs(obs)\n",
    "done = False\n",
    "\n",
    "import ipywidgets as widgets\n",
    "class ClickResponsiveToggleButtons(widgets.ToggleButtons):\n",
    "\n",
    "    def __init__(self, *args, **kwargs):\n",
    "        super().__init__(*args, **kwargs)\n",
    "        self._click_handlers = widgets.CallbackDispatcher()\n",
    "        self.on_msg(self._handle_button_msg)\n",
    "        pass\n",
    "\n",
    "    def on_click(self, callback, remove=False):\n",
    "        \"\"\"Register a callback to execute when the button is clicked.\n",
    "\n",
    "        The callback will be called with one argument, the clicked button\n",
    "        widget instance.\n",
    "\n",
    "        Parameters\n",
    "        ----------\n",
    "        remove: bool (optional)\n",
    "            Set to true to remove the callback from the list of callbacks.\n",
    "        \"\"\"\n",
    "        self._click_handlers.register_callback(callback, remove=remove)\n",
    "\n",
    "    def _handle_button_msg(self, _, content, buffers):\n",
    "        \"\"\"Handle a msg from the front-end.\n",
    "\n",
    "        Parameters\n",
    "        ----------\n",
    "        content: dict\n",
    "            Content of the msg.\n",
    "        \"\"\"\n",
    "        if content.get('event', '') == 'click':\n",
    "            self._click_handlers(self)\n",
    "\n",
    "options = '01234'\n",
    "\n",
    "btn = ClickResponsiveToggleButtons(\n",
    "    options=list(options),\n",
    "    description='Action:',\n",
    "    disabled=False,\n",
    "    button_style='success',\n",
    ")\n",
    "\n",
    "filled = False\n",
    "def handler(x):\n",
    "    x = x.index\n",
    "    if x >= 0:\n",
    "        global done, obs, filled\n",
    "        filled = True\n",
    "        action = x\n",
    "        obs, rew, done, info = env.step(action)\n",
    "#         btn.disabled = done\n",
    "        btn.button_style = 'warning' if done else 'success'\n",
    "        show_obs(obs)\n",
    "        if done:\n",
    "            sleep(0.5)\n",
    "            obs = env.reset()\n",
    "            show_obs(obs)\n",
    "            btn.button_style = 'success'\n",
    "\n",
    "display(btn)\n",
    "display(img_widget)\n",
    "btn.on_click(handler)"
   ]
  },
  {
   "cell_type": "code",
   "execution_count": null,
   "metadata": {},
   "outputs": [],
   "source": []
  }
 ],
 "metadata": {
  "kernelspec": {
   "display_name": "Python 3",
   "language": "python",
   "name": "python3"
  },
  "language_info": {
   "codemirror_mode": {
    "name": "ipython",
    "version": 3
   },
   "file_extension": ".py",
   "mimetype": "text/x-python",
   "name": "python",
   "nbconvert_exporter": "python",
   "pygments_lexer": "ipython3",
   "version": "3.7.0"
  }
 },
 "nbformat": 4,
 "nbformat_minor": 5
}
