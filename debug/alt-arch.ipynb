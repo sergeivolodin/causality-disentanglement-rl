{
 "cells": [
  {
   "cell_type": "code",
   "execution_count": 2,
   "id": "b9012925",
   "metadata": {},
   "outputs": [],
   "source": [
    "import torch\n",
    "import os\n",
    "os.environ['CUDA_VISIBLE_DEVICES'] = \"0\"\n",
    "from tqdm.auto import tqdm\n",
    "import numpy as np\n",
    "from matplotlib import pyplot as plt\n",
    "from torch import nn\n",
    "import gin\n",
    "from functools import partial\n",
    "gin.enter_interactive_mode()"
   ]
  },
  {
   "cell_type": "code",
   "execution_count": 188,
   "id": "ba0211e7",
   "metadata": {},
   "outputs": [],
   "source": [
    "@gin.configurable\n",
    "def get_xy(h=10, w=10, s=1000):\n",
    "    res = np.zeros((s, h, w), dtype=np.float32)\n",
    "    idxes_x = np.random.choice(h, s, replace=True)\n",
    "    idxes_y = np.random.choice(w, s, replace=True)\n",
    "    res[np.arange(s), idxes_x, idxes_y] = 1.0\n",
    "    \n",
    "    return res, (idxes_x, idxes_y)"
   ]
  },
  {
   "cell_type": "code",
   "execution_count": 189,
   "id": "5df2167a",
   "metadata": {},
   "outputs": [],
   "source": [
    "h, w, s = 10, 10, 1000\n",
    "gin.bind_parameter('get_xy.h', h)\n",
    "gin.bind_parameter('get_xy.w', w)\n",
    "gin.bind_parameter('get_xy.s', s)"
   ]
  },
  {
   "cell_type": "code",
   "execution_count": 190,
   "id": "7b1c7146",
   "metadata": {},
   "outputs": [
    {
     "data": {
      "text/plain": [
       "<matplotlib.image.AxesImage at 0x7f9710f6c8d0>"
      ]
     },
     "execution_count": 190,
     "metadata": {},
     "output_type": "execute_result"
    },
    {
     "data": {
      "image/png": "[encoded data removed]",
      "text/plain": [
       "<Figure size 432x288 with 1 Axes>"
      ]
     },
     "metadata": {
      "needs_background": "light"
     },
     "output_type": "display_data"
    }
   ],
   "source": [
    "X, (xs, ys) = get_xy()\n",
    "\n",
    "idx = np.random.choice(s)\n",
    "\n",
    "plt.title(f\"{xs[idx]} {ys[idx]}\")\n",
    "plt.imshow(X[idx])"
   ]
  },
  {
   "cell_type": "code",
   "execution_count": 316,
   "id": "f36f5da6",
   "metadata": {},
   "outputs": [],
   "source": [
    "act_cls = lambda **kwargs: nn.Tanh()\n",
    "\n",
    "\n",
    "from sparse_causal_model_learner_rl.trainable.quadratic_neuron import Quadratic\n",
    "from sparse_causal_model_learner_rl.trainable.poly_activation import PolyAct\n",
    "        \n",
    "act_cls = partial(PolyAct, orig_act_cls=lambda: (lambda x: x)) # nn.Tanh\n",
    "# layer_cls = nn.Linear\n",
    "layer_cls = Quadratic\n",
    "\n",
    "class Decoder(nn.Module):\n",
    "    def __init__(self):\n",
    "        super(Decoder, self).__init__()\n",
    "#         self.fc1 = layer_cls(in_features=h * w, out_features=10)\n",
    "#         self.fc2 = layer_cls(in_features=10, out_features=4)\n",
    "        self.fc = nn.Linear(in_features=h*w, out_features=4)\n",
    "#         self.act = act_cls(features=10)#nn.Tanh()\n",
    "    def forward(self, x):\n",
    "        x = x.flatten(start_dim=1)\n",
    "#         x = self.act(self.fc1(x))\n",
    "#         x = self.fc2(x)\n",
    "        x = self.fc(x)\n",
    "        return x\n",
    "\n",
    "class Reconstructor(nn.Module):\n",
    "    def __init__(self):\n",
    "        super(Reconstructor, self).__init__()\n",
    "        self.fc1 = layer_cls(in_features=4, out_features=10 * h * w)\n",
    "        self.fc2 = nn.Linear(in_features=10 * h * w, out_features=h * w)\n",
    "        self.act1 = act_cls(features=10*h*w)#nn.Tanh()\n",
    "        self.act2 = act_cls(features=h*w)\n",
    "    def forward(self, x):\n",
    "        x = self.act1(self.fc1(x))\n",
    "        x = self.act2(self.fc2(x))\n",
    "        x = x.view(x.shape[0], h, w)\n",
    "        return x"
   ]
  },
  {
   "cell_type": "code",
   "execution_count": 288,
   "id": "e6a6a430",
   "metadata": {},
   "outputs": [],
   "source": []
  },
  {
   "cell_type": "code",
   "execution_count": 308,
   "id": "1a992813",
   "metadata": {},
   "outputs": [
    {
     "data": {
      "text/plain": [
       "True"
      ]
     },
     "execution_count": 308,
     "metadata": {},
     "output_type": "execute_result"
    }
   ],
   "source": []
  },
  {
   "cell_type": "code",
   "execution_count": 239,
   "id": "e76821d9",
   "metadata": {},
   "outputs": [
    {
     "data": {
      "text/plain": [
       "tensor([[-0.9184,  0.9588,  0.7668,  2.2555, -0.0493,  0.8370],\n",
       "        [-0.9184,  0.9588,  0.7668,  2.2555, -0.0493,  0.8370],\n",
       "        [-0.9184,  0.9588,  0.7668,  2.2555, -0.0493,  0.8370],\n",
       "        [-0.9184,  0.9588,  0.7668,  2.2555, -0.0493,  0.8370],\n",
       "        [-0.9184,  0.9588,  0.7668,  2.2555, -0.0493,  0.8370],\n",
       "        [-0.9184,  0.9588,  0.7668,  2.2555, -0.0493,  0.8370],\n",
       "        [-0.9184,  0.9588,  0.7668,  2.2555, -0.0493,  0.8370],\n",
       "        [-0.9184,  0.9588,  0.7668,  2.2555, -0.0493,  0.8370],\n",
       "        [-0.9184,  0.9588,  0.7668,  2.2555, -0.0493,  0.8370],\n",
       "        [-0.9184,  0.9588,  0.7668,  2.2555, -0.0493,  0.8370],\n",
       "        [-0.9184,  0.9588,  0.7668,  2.2555, -0.0493,  0.8370],\n",
       "        [-0.9184,  0.9588,  0.7668,  2.2555, -0.0493,  0.8370],\n",
       "        [-0.9184,  0.9588,  0.7668,  2.2555, -0.0493,  0.8370],\n",
       "        [-0.9184,  0.9588,  0.7668,  2.2555, -0.0493,  0.8370],\n",
       "        [-0.9184,  0.9588,  0.7668,  2.2555, -0.0493,  0.8370],\n",
       "        [-0.9184,  0.9588,  0.7668,  2.2555, -0.0493,  0.8370],\n",
       "        [-0.9184,  0.9588,  0.7668,  2.2555, -0.0493,  0.8370],\n",
       "        [-0.9184,  0.9588,  0.7668,  2.2555, -0.0493,  0.8370],\n",
       "        [-0.9184,  0.9588,  0.7668,  2.2555, -0.0493,  0.8370],\n",
       "        [-0.9184,  0.9588,  0.7668,  2.2555, -0.0493,  0.8370],\n",
       "        [-0.9184,  0.9588,  0.7668,  2.2555, -0.0493,  0.8370],\n",
       "        [-0.9184,  0.9588,  0.7668,  2.2555, -0.0493,  0.8370],\n",
       "        [-0.9184,  0.9588,  0.7668,  2.2555, -0.0493,  0.8370],\n",
       "        [-0.9184,  0.9588,  0.7668,  2.2555, -0.0493,  0.8370],\n",
       "        [-0.9184,  0.9588,  0.7668,  2.2555, -0.0493,  0.8370],\n",
       "        [-0.9184,  0.9588,  0.7668,  2.2555, -0.0493,  0.8370],\n",
       "        [-0.9184,  0.9588,  0.7668,  2.2555, -0.0493,  0.8370],\n",
       "        [-0.9184,  0.9588,  0.7668,  2.2555, -0.0493,  0.8370],\n",
       "        [-0.9184,  0.9588,  0.7668,  2.2555, -0.0493,  0.8370],\n",
       "        [-0.9184,  0.9588,  0.7668,  2.2555, -0.0493,  0.8370],\n",
       "        [-0.9184,  0.9588,  0.7668,  2.2555, -0.0493,  0.8370],\n",
       "        [-0.9184,  0.9588,  0.7668,  2.2555, -0.0493,  0.8370],\n",
       "        [-0.9184,  0.9588,  0.7668,  2.2555, -0.0493,  0.8370],\n",
       "        [-0.9184,  0.9588,  0.7668,  2.2555, -0.0493,  0.8370],\n",
       "        [-0.9184,  0.9588,  0.7668,  2.2555, -0.0493,  0.8370],\n",
       "        [-0.9184,  0.9588,  0.7668,  2.2555, -0.0493,  0.8370],\n",
       "        [-0.9184,  0.9588,  0.7668,  2.2555, -0.0493,  0.8370],\n",
       "        [-0.9184,  0.9588,  0.7668,  2.2555, -0.0493,  0.8370],\n",
       "        [-0.9184,  0.9588,  0.7668,  2.2555, -0.0493,  0.8370],\n",
       "        [-0.9184,  0.9588,  0.7668,  2.2555, -0.0493,  0.8370],\n",
       "        [-0.9184,  0.9588,  0.7668,  2.2555, -0.0493,  0.8370],\n",
       "        [-0.9184,  0.9588,  0.7668,  2.2555, -0.0493,  0.8370],\n",
       "        [-0.9184,  0.9588,  0.7668,  2.2555, -0.0493,  0.8370],\n",
       "        [-0.9184,  0.9588,  0.7668,  2.2555, -0.0493,  0.8370],\n",
       "        [-0.9184,  0.9588,  0.7668,  2.2555, -0.0493,  0.8370],\n",
       "        [-0.9184,  0.9588,  0.7668,  2.2555, -0.0493,  0.8370],\n",
       "        [-0.9184,  0.9588,  0.7668,  2.2555, -0.0493,  0.8370],\n",
       "        [-0.9184,  0.9588,  0.7668,  2.2555, -0.0493,  0.8370],\n",
       "        [-0.9184,  0.9588,  0.7668,  2.2555, -0.0493,  0.8370],\n",
       "        [-0.9184,  0.9588,  0.7668,  2.2555, -0.0493,  0.8370],\n",
       "        [-0.9184,  0.9588,  0.7668,  2.2555, -0.0493,  0.8370],\n",
       "        [-0.9184,  0.9588,  0.7668,  2.2555, -0.0493,  0.8370],\n",
       "        [-0.9184,  0.9588,  0.7668,  2.2555, -0.0493,  0.8370],\n",
       "        [-0.9184,  0.9588,  0.7668,  2.2555, -0.0493,  0.8370],\n",
       "        [-0.9184,  0.9588,  0.7668,  2.2555, -0.0493,  0.8370],\n",
       "        [-0.9184,  0.9588,  0.7668,  2.2555, -0.0493,  0.8370],\n",
       "        [-0.9184,  0.9588,  0.7668,  2.2555, -0.0493,  0.8370],\n",
       "        [-0.9184,  0.9588,  0.7668,  2.2555, -0.0493,  0.8370],\n",
       "        [-0.9184,  0.9588,  0.7668,  2.2555, -0.0493,  0.8370],\n",
       "        [-0.9184,  0.9588,  0.7668,  2.2555, -0.0493,  0.8370],\n",
       "        [-0.9184,  0.9588,  0.7668,  2.2555, -0.0493,  0.8370],\n",
       "        [-0.9184,  0.9588,  0.7668,  2.2555, -0.0493,  0.8370],\n",
       "        [-0.9184,  0.9588,  0.7668,  2.2555, -0.0493,  0.8370],\n",
       "        [-0.9184,  0.9588,  0.7668,  2.2555, -0.0493,  0.8370],\n",
       "        [-0.9184,  0.9588,  0.7668,  2.2555, -0.0493,  0.8370],\n",
       "        [-0.9184,  0.9588,  0.7668,  2.2555, -0.0493,  0.8370],\n",
       "        [-0.9184,  0.9588,  0.7668,  2.2555, -0.0493,  0.8370],\n",
       "        [-0.9184,  0.9588,  0.7668,  2.2555, -0.0493,  0.8370],\n",
       "        [-0.9184,  0.9588,  0.7668,  2.2555, -0.0493,  0.8370],\n",
       "        [-0.9184,  0.9588,  0.7668,  2.2555, -0.0493,  0.8370],\n",
       "        [-0.9184,  0.9588,  0.7668,  2.2555, -0.0493,  0.8370],\n",
       "        [-0.9184,  0.9588,  0.7668,  2.2555, -0.0493,  0.8370],\n",
       "        [-0.9184,  0.9588,  0.7668,  2.2555, -0.0493,  0.8370],\n",
       "        [-0.9184,  0.9588,  0.7668,  2.2555, -0.0493,  0.8370],\n",
       "        [-0.9184,  0.9588,  0.7668,  2.2555, -0.0493,  0.8370],\n",
       "        [-0.9184,  0.9588,  0.7668,  2.2555, -0.0493,  0.8370],\n",
       "        [-0.9184,  0.9588,  0.7668,  2.2555, -0.0493,  0.8370],\n",
       "        [-0.9184,  0.9588,  0.7668,  2.2555, -0.0493,  0.8370],\n",
       "        [-0.9184,  0.9588,  0.7668,  2.2555, -0.0493,  0.8370],\n",
       "        [-0.9184,  0.9588,  0.7668,  2.2555, -0.0493,  0.8370],\n",
       "        [-0.9184,  0.9588,  0.7668,  2.2555, -0.0493,  0.8370],\n",
       "        [-0.9184,  0.9588,  0.7668,  2.2555, -0.0493,  0.8370],\n",
       "        [-0.9184,  0.9588,  0.7668,  2.2555, -0.0493,  0.8370],\n",
       "        [-0.9184,  0.9588,  0.7668,  2.2555, -0.0493,  0.8370],\n",
       "        [-0.9184,  0.9588,  0.7668,  2.2555, -0.0493,  0.8370],\n",
       "        [-0.9184,  0.9588,  0.7668,  2.2555, -0.0493,  0.8370],\n",
       "        [-0.9184,  0.9588,  0.7668,  2.2555, -0.0493,  0.8370],\n",
       "        [-0.9184,  0.9588,  0.7668,  2.2555, -0.0493,  0.8370],\n",
       "        [-0.9184,  0.9588,  0.7668,  2.2555, -0.0493,  0.8370],\n",
       "        [-0.9184,  0.9588,  0.7668,  2.2555, -0.0493,  0.8370],\n",
       "        [-0.9184,  0.9588,  0.7668,  2.2555, -0.0493,  0.8370],\n",
       "        [-0.9184,  0.9588,  0.7668,  2.2555, -0.0493,  0.8370],\n",
       "        [-0.9184,  0.9588,  0.7668,  2.2555, -0.0493,  0.8370],\n",
       "        [-0.9184,  0.9588,  0.7668,  2.2555, -0.0493,  0.8370],\n",
       "        [-0.9184,  0.9588,  0.7668,  2.2555, -0.0493,  0.8370],\n",
       "        [-0.9184,  0.9588,  0.7668,  2.2555, -0.0493,  0.8370],\n",
       "        [-0.9184,  0.9588,  0.7668,  2.2555, -0.0493,  0.8370],\n",
       "        [-0.9184,  0.9588,  0.7668,  2.2555, -0.0493,  0.8370],\n",
       "        [-0.9184,  0.9588,  0.7668,  2.2555, -0.0493,  0.8370],\n",
       "        [-0.9184,  0.9588,  0.7668,  2.2555, -0.0493,  0.8370]],\n",
       "       grad_fn=<AddBackward0>)"
      ]
     },
     "execution_count": 239,
     "metadata": {},
     "output_type": "execute_result"
    }
   ],
   "source": [
    "out_manual"
   ]
  },
  {
   "cell_type": "code",
   "execution_count": 219,
   "id": "30173894",
   "metadata": {},
   "outputs": [],
   "source": [
    "rec = Reconstructor()\n",
    "dec = Decoder()"
   ]
  },
  {
   "cell_type": "code",
   "execution_count": 193,
   "id": "883297c7",
   "metadata": {},
   "outputs": [
    {
     "data": {
      "text/plain": [
       "Parameter containing:\n",
       "tensor([[0.0000, 0.0000, 0.0000,  ..., 0.0000, 0.0000, 0.0000],\n",
       "        [1.0000, 1.0000, 1.0000,  ..., 1.0000, 1.0000, 1.0000],\n",
       "        [0.0010, 0.0010, 0.0010,  ..., 0.0010, 0.0010, 0.0010],\n",
       "        [0.0000, 0.0000, 0.0000,  ..., 0.0000, 0.0000, 0.0000]],\n",
       "       requires_grad=True)"
      ]
     },
     "execution_count": 193,
     "metadata": {},
     "output_type": "execute_result"
    }
   ],
   "source": [
    "rec.act1.a"
   ]
  },
  {
   "cell_type": "code",
   "execution_count": 194,
   "id": "4c6efd84",
   "metadata": {},
   "outputs": [],
   "source": [
    "data = torch.from_numpy(X)"
   ]
  },
  {
   "cell_type": "code",
   "execution_count": 195,
   "id": "a1436967",
   "metadata": {},
   "outputs": [],
   "source": [
    "def loss():\n",
    "#     softmaxed = torch.nn.Softmax(1)(rec(dec(data)).flatten(start_dim=1))\n",
    "#     answers = torch.argmax(data.flatten(start_dim=1), dim=1)\n",
    "    \n",
    "#     ce = torch.nn.CrossEntropyLoss()\n",
    "#     loss = ce(softmaxed, answers)\n",
    "   \n",
    "#     delta = (rec(dec(data)) - data).flatten(start_dim=1)\n",
    "#     std = data.std(0, keepdim=True).flatten(start_dim=1)\n",
    "#     std = torch.where(std < 1e-6, torch.ones_like(std), std)\n",
    "#     delta = delta.pow(2)\n",
    "#     delta = delta / std.pow(2)\n",
    "#     loss = delta.sum(1).mean(0)\n",
    "    delta = (rec(dec(data)) - data).flatten(start_dim=1)\n",
    "    loss = delta.pow(2).sum(1).mean(0)\n",
    "    return loss"
   ]
  },
  {
   "cell_type": "code",
   "execution_count": 196,
   "id": "8efd80ce",
   "metadata": {},
   "outputs": [],
   "source": [
    "opt = torch.optim.Adam(list(rec.parameters()) + list(dec.parameters()),\n",
    "                       lr=1e-3)"
   ]
  },
  {
   "cell_type": "code",
   "execution_count": 197,
   "id": "99aa6b5f",
   "metadata": {},
   "outputs": [],
   "source": [
    "losses = []"
   ]
  },
  {
   "cell_type": "code",
   "execution_count": 198,
   "id": "e0d7fb51",
   "metadata": {},
   "outputs": [
    {
     "data": {
      "application/vnd.jupyter.widget-view+json": {
       "model_id": "5356447d49814a92a632f4923aba0010",
       "version_major": 2,
       "version_minor": 0
      },
      "text/plain": [
       "HBox(children=(HTML(value=''), FloatProgress(value=0.0, max=10000.0), HTML(value='')))"
      ]
     },
     "metadata": {},
     "output_type": "display_data"
    },
    {
     "name": "stdout",
     "output_type": "stream",
     "text": [
      "\n"
     ]
    },
    {
     "ename": "KeyboardInterrupt",
     "evalue": "",
     "output_type": "error",
     "traceback": [
      "\u001b[0;31m---------------------------------------------------------------------------\u001b[0m",
      "\u001b[0;31mKeyboardInterrupt\u001b[0m                         Traceback (most recent call last)",
      "\u001b[0;32m<ipython-input-198-d2d15eb145ac>\u001b[0m in \u001b[0;36m<module>\u001b[0;34m\u001b[0m\n\u001b[1;32m      5\u001b[0m \u001b[0;34m\u001b[0m\u001b[0m\n\u001b[1;32m      6\u001b[0m     \u001b[0mopt\u001b[0m\u001b[0;34m.\u001b[0m\u001b[0mzero_grad\u001b[0m\u001b[0;34m(\u001b[0m\u001b[0;34m)\u001b[0m\u001b[0;34m\u001b[0m\u001b[0;34m\u001b[0m\u001b[0m\n\u001b[0;32m----> 7\u001b[0;31m     \u001b[0ml\u001b[0m \u001b[0;34m=\u001b[0m \u001b[0mloss\u001b[0m\u001b[0;34m(\u001b[0m\u001b[0;34m)\u001b[0m\u001b[0;34m\u001b[0m\u001b[0;34m\u001b[0m\u001b[0m\n\u001b[0m\u001b[1;32m      8\u001b[0m     \u001b[0ml\u001b[0m\u001b[0;34m.\u001b[0m\u001b[0mbackward\u001b[0m\u001b[0;34m(\u001b[0m\u001b[0;34m)\u001b[0m\u001b[0;34m\u001b[0m\u001b[0;34m\u001b[0m\u001b[0m\n\u001b[1;32m      9\u001b[0m     \u001b[0mopt\u001b[0m\u001b[0;34m.\u001b[0m\u001b[0mstep\u001b[0m\u001b[0;34m(\u001b[0m\u001b[0;34m)\u001b[0m\u001b[0;34m\u001b[0m\u001b[0;34m\u001b[0m\u001b[0m\n",
      "\u001b[0;32m<ipython-input-195-0f8a0f83d00e>\u001b[0m in \u001b[0;36mloss\u001b[0;34m()\u001b[0m\n\u001b[1;32m     12\u001b[0m \u001b[0;31m#     delta = delta / std.pow(2)\u001b[0m\u001b[0;34m\u001b[0m\u001b[0;34m\u001b[0m\u001b[0;34m\u001b[0m\u001b[0m\n\u001b[1;32m     13\u001b[0m \u001b[0;31m#     loss = delta.sum(1).mean(0)\u001b[0m\u001b[0;34m\u001b[0m\u001b[0;34m\u001b[0m\u001b[0;34m\u001b[0m\u001b[0m\n\u001b[0;32m---> 14\u001b[0;31m     \u001b[0mdelta\u001b[0m \u001b[0;34m=\u001b[0m \u001b[0;34m(\u001b[0m\u001b[0mrec\u001b[0m\u001b[0;34m(\u001b[0m\u001b[0mdec\u001b[0m\u001b[0;34m(\u001b[0m\u001b[0mdata\u001b[0m\u001b[0;34m)\u001b[0m\u001b[0;34m)\u001b[0m \u001b[0;34m-\u001b[0m \u001b[0mdata\u001b[0m\u001b[0;34m)\u001b[0m\u001b[0;34m.\u001b[0m\u001b[0mflatten\u001b[0m\u001b[0;34m(\u001b[0m\u001b[0mstart_dim\u001b[0m\u001b[0;34m=\u001b[0m\u001b[0;36m1\u001b[0m\u001b[0;34m)\u001b[0m\u001b[0;34m\u001b[0m\u001b[0;34m\u001b[0m\u001b[0m\n\u001b[0m\u001b[1;32m     15\u001b[0m     \u001b[0mloss\u001b[0m \u001b[0;34m=\u001b[0m \u001b[0mdelta\u001b[0m\u001b[0;34m.\u001b[0m\u001b[0mpow\u001b[0m\u001b[0;34m(\u001b[0m\u001b[0;36m2\u001b[0m\u001b[0;34m)\u001b[0m\u001b[0;34m.\u001b[0m\u001b[0msum\u001b[0m\u001b[0;34m(\u001b[0m\u001b[0;36m1\u001b[0m\u001b[0;34m)\u001b[0m\u001b[0;34m.\u001b[0m\u001b[0mmean\u001b[0m\u001b[0;34m(\u001b[0m\u001b[0;36m0\u001b[0m\u001b[0;34m)\u001b[0m\u001b[0;34m\u001b[0m\u001b[0;34m\u001b[0m\u001b[0m\n\u001b[1;32m     16\u001b[0m     \u001b[0;32mreturn\u001b[0m \u001b[0mloss\u001b[0m\u001b[0;34m\u001b[0m\u001b[0;34m\u001b[0m\u001b[0m\n",
      "\u001b[0;32m~/miniconda3/envs/causal/lib/python3.7/site-packages/torch/nn/modules/module.py\u001b[0m in \u001b[0;36m__call__\u001b[0;34m(self, *input, **kwargs)\u001b[0m\n\u001b[1;32m    530\u001b[0m             \u001b[0mresult\u001b[0m \u001b[0;34m=\u001b[0m \u001b[0mself\u001b[0m\u001b[0;34m.\u001b[0m\u001b[0m_slow_forward\u001b[0m\u001b[0;34m(\u001b[0m\u001b[0;34m*\u001b[0m\u001b[0minput\u001b[0m\u001b[0;34m,\u001b[0m \u001b[0;34m**\u001b[0m\u001b[0mkwargs\u001b[0m\u001b[0;34m)\u001b[0m\u001b[0;34m\u001b[0m\u001b[0;34m\u001b[0m\u001b[0m\n\u001b[1;32m    531\u001b[0m         \u001b[0;32melse\u001b[0m\u001b[0;34m:\u001b[0m\u001b[0;34m\u001b[0m\u001b[0;34m\u001b[0m\u001b[0m\n\u001b[0;32m--> 532\u001b[0;31m             \u001b[0mresult\u001b[0m \u001b[0;34m=\u001b[0m \u001b[0mself\u001b[0m\u001b[0;34m.\u001b[0m\u001b[0mforward\u001b[0m\u001b[0;34m(\u001b[0m\u001b[0;34m*\u001b[0m\u001b[0minput\u001b[0m\u001b[0;34m,\u001b[0m \u001b[0;34m**\u001b[0m\u001b[0mkwargs\u001b[0m\u001b[0;34m)\u001b[0m\u001b[0;34m\u001b[0m\u001b[0;34m\u001b[0m\u001b[0m\n\u001b[0m\u001b[1;32m    533\u001b[0m         \u001b[0;32mfor\u001b[0m \u001b[0mhook\u001b[0m \u001b[0;32min\u001b[0m \u001b[0mself\u001b[0m\u001b[0;34m.\u001b[0m\u001b[0m_forward_hooks\u001b[0m\u001b[0;34m.\u001b[0m\u001b[0mvalues\u001b[0m\u001b[0;34m(\u001b[0m\u001b[0;34m)\u001b[0m\u001b[0;34m:\u001b[0m\u001b[0;34m\u001b[0m\u001b[0;34m\u001b[0m\u001b[0m\n\u001b[1;32m    534\u001b[0m             \u001b[0mhook_result\u001b[0m \u001b[0;34m=\u001b[0m \u001b[0mhook\u001b[0m\u001b[0;34m(\u001b[0m\u001b[0mself\u001b[0m\u001b[0;34m,\u001b[0m \u001b[0minput\u001b[0m\u001b[0;34m,\u001b[0m \u001b[0mresult\u001b[0m\u001b[0;34m)\u001b[0m\u001b[0;34m\u001b[0m\u001b[0;34m\u001b[0m\u001b[0m\n",
      "\u001b[0;32m<ipython-input-191-91e9ef20b5e0>\u001b[0m in \u001b[0;36mforward\u001b[0;34m(self, x)\u001b[0m\n\u001b[1;32m     54\u001b[0m \u001b[0;31m#         x = self.act(self.fc1(x))\u001b[0m\u001b[0;34m\u001b[0m\u001b[0;34m\u001b[0m\u001b[0;34m\u001b[0m\u001b[0m\n\u001b[1;32m     55\u001b[0m \u001b[0;31m#         x = self.fc2(x)\u001b[0m\u001b[0;34m\u001b[0m\u001b[0;34m\u001b[0m\u001b[0;34m\u001b[0m\u001b[0m\n\u001b[0;32m---> 56\u001b[0;31m         \u001b[0mx\u001b[0m \u001b[0;34m=\u001b[0m \u001b[0mself\u001b[0m\u001b[0;34m.\u001b[0m\u001b[0mfc\u001b[0m\u001b[0;34m(\u001b[0m\u001b[0mx\u001b[0m\u001b[0;34m)\u001b[0m\u001b[0;34m\u001b[0m\u001b[0;34m\u001b[0m\u001b[0m\n\u001b[0m\u001b[1;32m     57\u001b[0m         \u001b[0;32mreturn\u001b[0m \u001b[0mx\u001b[0m\u001b[0;34m\u001b[0m\u001b[0;34m\u001b[0m\u001b[0m\n\u001b[1;32m     58\u001b[0m \u001b[0;34m\u001b[0m\u001b[0m\n",
      "\u001b[0;32m~/miniconda3/envs/causal/lib/python3.7/site-packages/torch/nn/modules/module.py\u001b[0m in \u001b[0;36m__call__\u001b[0;34m(self, *input, **kwargs)\u001b[0m\n\u001b[1;32m    530\u001b[0m             \u001b[0mresult\u001b[0m \u001b[0;34m=\u001b[0m \u001b[0mself\u001b[0m\u001b[0;34m.\u001b[0m\u001b[0m_slow_forward\u001b[0m\u001b[0;34m(\u001b[0m\u001b[0;34m*\u001b[0m\u001b[0minput\u001b[0m\u001b[0;34m,\u001b[0m \u001b[0;34m**\u001b[0m\u001b[0mkwargs\u001b[0m\u001b[0;34m)\u001b[0m\u001b[0;34m\u001b[0m\u001b[0;34m\u001b[0m\u001b[0m\n\u001b[1;32m    531\u001b[0m         \u001b[0;32melse\u001b[0m\u001b[0;34m:\u001b[0m\u001b[0;34m\u001b[0m\u001b[0;34m\u001b[0m\u001b[0m\n\u001b[0;32m--> 532\u001b[0;31m             \u001b[0mresult\u001b[0m \u001b[0;34m=\u001b[0m \u001b[0mself\u001b[0m\u001b[0;34m.\u001b[0m\u001b[0mforward\u001b[0m\u001b[0;34m(\u001b[0m\u001b[0;34m*\u001b[0m\u001b[0minput\u001b[0m\u001b[0;34m,\u001b[0m \u001b[0;34m**\u001b[0m\u001b[0mkwargs\u001b[0m\u001b[0;34m)\u001b[0m\u001b[0;34m\u001b[0m\u001b[0;34m\u001b[0m\u001b[0m\n\u001b[0m\u001b[1;32m    533\u001b[0m         \u001b[0;32mfor\u001b[0m \u001b[0mhook\u001b[0m \u001b[0;32min\u001b[0m \u001b[0mself\u001b[0m\u001b[0;34m.\u001b[0m\u001b[0m_forward_hooks\u001b[0m\u001b[0;34m.\u001b[0m\u001b[0mvalues\u001b[0m\u001b[0;34m(\u001b[0m\u001b[0;34m)\u001b[0m\u001b[0;34m:\u001b[0m\u001b[0;34m\u001b[0m\u001b[0;34m\u001b[0m\u001b[0m\n\u001b[1;32m    534\u001b[0m             \u001b[0mhook_result\u001b[0m \u001b[0;34m=\u001b[0m \u001b[0mhook\u001b[0m\u001b[0;34m(\u001b[0m\u001b[0mself\u001b[0m\u001b[0;34m,\u001b[0m \u001b[0minput\u001b[0m\u001b[0;34m,\u001b[0m \u001b[0mresult\u001b[0m\u001b[0;34m)\u001b[0m\u001b[0;34m\u001b[0m\u001b[0;34m\u001b[0m\u001b[0m\n",
      "\u001b[0;32m~/miniconda3/envs/causal/lib/python3.7/site-packages/torch/nn/modules/linear.py\u001b[0m in \u001b[0;36mforward\u001b[0;34m(self, input)\u001b[0m\n\u001b[1;32m     85\u001b[0m \u001b[0;34m\u001b[0m\u001b[0m\n\u001b[1;32m     86\u001b[0m     \u001b[0;32mdef\u001b[0m \u001b[0mforward\u001b[0m\u001b[0;34m(\u001b[0m\u001b[0mself\u001b[0m\u001b[0;34m,\u001b[0m \u001b[0minput\u001b[0m\u001b[0;34m)\u001b[0m\u001b[0;34m:\u001b[0m\u001b[0;34m\u001b[0m\u001b[0;34m\u001b[0m\u001b[0m\n\u001b[0;32m---> 87\u001b[0;31m         \u001b[0;32mreturn\u001b[0m \u001b[0mF\u001b[0m\u001b[0;34m.\u001b[0m\u001b[0mlinear\u001b[0m\u001b[0;34m(\u001b[0m\u001b[0minput\u001b[0m\u001b[0;34m,\u001b[0m \u001b[0mself\u001b[0m\u001b[0;34m.\u001b[0m\u001b[0mweight\u001b[0m\u001b[0;34m,\u001b[0m \u001b[0mself\u001b[0m\u001b[0;34m.\u001b[0m\u001b[0mbias\u001b[0m\u001b[0;34m)\u001b[0m\u001b[0;34m\u001b[0m\u001b[0;34m\u001b[0m\u001b[0m\n\u001b[0m\u001b[1;32m     88\u001b[0m \u001b[0;34m\u001b[0m\u001b[0m\n\u001b[1;32m     89\u001b[0m     \u001b[0;32mdef\u001b[0m \u001b[0mextra_repr\u001b[0m\u001b[0;34m(\u001b[0m\u001b[0mself\u001b[0m\u001b[0;34m)\u001b[0m\u001b[0;34m:\u001b[0m\u001b[0;34m\u001b[0m\u001b[0;34m\u001b[0m\u001b[0m\n",
      "\u001b[0;32m~/miniconda3/envs/causal/lib/python3.7/site-packages/torch/nn/functional.py\u001b[0m in \u001b[0;36mlinear\u001b[0;34m(input, weight, bias)\u001b[0m\n\u001b[1;32m   1368\u001b[0m     \u001b[0;32mif\u001b[0m \u001b[0minput\u001b[0m\u001b[0;34m.\u001b[0m\u001b[0mdim\u001b[0m\u001b[0;34m(\u001b[0m\u001b[0;34m)\u001b[0m \u001b[0;34m==\u001b[0m \u001b[0;36m2\u001b[0m \u001b[0;32mand\u001b[0m \u001b[0mbias\u001b[0m \u001b[0;32mis\u001b[0m \u001b[0;32mnot\u001b[0m \u001b[0;32mNone\u001b[0m\u001b[0;34m:\u001b[0m\u001b[0;34m\u001b[0m\u001b[0;34m\u001b[0m\u001b[0m\n\u001b[1;32m   1369\u001b[0m         \u001b[0;31m# fused op is marginally faster\u001b[0m\u001b[0;34m\u001b[0m\u001b[0;34m\u001b[0m\u001b[0;34m\u001b[0m\u001b[0m\n\u001b[0;32m-> 1370\u001b[0;31m         \u001b[0mret\u001b[0m \u001b[0;34m=\u001b[0m \u001b[0mtorch\u001b[0m\u001b[0;34m.\u001b[0m\u001b[0maddmm\u001b[0m\u001b[0;34m(\u001b[0m\u001b[0mbias\u001b[0m\u001b[0;34m,\u001b[0m \u001b[0minput\u001b[0m\u001b[0;34m,\u001b[0m \u001b[0mweight\u001b[0m\u001b[0;34m.\u001b[0m\u001b[0mt\u001b[0m\u001b[0;34m(\u001b[0m\u001b[0;34m)\u001b[0m\u001b[0;34m)\u001b[0m\u001b[0;34m\u001b[0m\u001b[0;34m\u001b[0m\u001b[0m\n\u001b[0m\u001b[1;32m   1371\u001b[0m     \u001b[0;32melse\u001b[0m\u001b[0;34m:\u001b[0m\u001b[0;34m\u001b[0m\u001b[0;34m\u001b[0m\u001b[0m\n\u001b[1;32m   1372\u001b[0m         \u001b[0moutput\u001b[0m \u001b[0;34m=\u001b[0m \u001b[0minput\u001b[0m\u001b[0;34m.\u001b[0m\u001b[0mmatmul\u001b[0m\u001b[0;34m(\u001b[0m\u001b[0mweight\u001b[0m\u001b[0;34m.\u001b[0m\u001b[0mt\u001b[0m\u001b[0;34m(\u001b[0m\u001b[0;34m)\u001b[0m\u001b[0;34m)\u001b[0m\u001b[0;34m\u001b[0m\u001b[0;34m\u001b[0m\u001b[0m\n",
      "\u001b[0;31mKeyboardInterrupt\u001b[0m: "
     ]
    }
   ],
   "source": [
    "for i in tqdm(range(10000)):\n",
    "    if i % 10 == 0:\n",
    "        X, (xs, ys) = get_xy()\n",
    "        data = torch.from_numpy(X)\n",
    "    \n",
    "    opt.zero_grad()\n",
    "    l = loss()\n",
    "    l.backward()\n",
    "    opt.step()\n",
    "    losses.append(l.item())"
   ]
  },
  {
   "cell_type": "code",
   "execution_count": 199,
   "id": "a593913b",
   "metadata": {},
   "outputs": [
    {
     "data": {
      "image/png": "[encoded data removed]",
      "text/plain": [
       "<Figure size 432x288 with 1 Axes>"
      ]
     },
     "metadata": {
      "needs_background": "light"
     },
     "output_type": "display_data"
    }
   ],
   "source": [
    "plt.plot(losses)\n",
    "plt.yscale('log')"
   ]
  },
  {
   "cell_type": "code",
   "execution_count": 200,
   "id": "9c9d985e",
   "metadata": {},
   "outputs": [
    {
     "data": {
      "image/png": "[encoded data removed]",
      "text/plain": [
       "<Figure size 432x288 with 2 Axes>"
      ]
     },
     "metadata": {
      "needs_background": "light"
     },
     "output_type": "display_data"
    },
    {
     "data": {
      "image/png": "[encoded data removed]",
      "text/plain": [
       "<Figure size 432x288 with 2 Axes>"
      ]
     },
     "metadata": {
      "needs_background": "light"
     },
     "output_type": "display_data"
    },
    {
     "data": {
      "image/png": "[encoded data removed]",
      "text/plain": [
       "<Figure size 432x288 with 2 Axes>"
      ]
     },
     "metadata": {
      "needs_background": "light"
     },
     "output_type": "display_data"
    }
   ],
   "source": [
    "X, (xs, ys) = get_xy()\n",
    "data = torch.from_numpy(X)\n",
    "\n",
    "Xrec = rec(dec(data))\n",
    "for _ in range(3):\n",
    "    idx = np.random.choice(s)\n",
    "\n",
    "    plt.subplot(1, 2, 1)\n",
    "    plt.title(f\"{xs[idx]} {ys[idx]}\")\n",
    "    plt.imshow(X[idx])\n",
    "    plt.subplot(1, 2, 2)\n",
    "    xrecnp = Xrec.detach().cpu().numpy()[idx]\n",
    "    plt.imshow(xrecnp, vmin=0, vmax=1)# >= np.max(xrecnp))\n",
    "    plt.show()"
   ]
  },
  {
   "cell_type": "code",
   "execution_count": 201,
   "id": "46374c09",
   "metadata": {},
   "outputs": [
    {
     "data": {
      "text/plain": [
       "<function matplotlib.pyplot.imshow(X, cmap=None, norm=None, aspect=None, interpolation=None, alpha=None, vmin=None, vmax=None, origin=None, extent=None, *, filternorm=True, filterrad=4.0, resample=None, url=None, data=None, **kwargs)>"
      ]
     },
     "execution_count": 201,
     "metadata": {},
     "output_type": "execute_result"
    }
   ],
   "source": [
    "plt.imshow"
   ]
  },
  {
   "cell_type": "code",
   "execution_count": 202,
   "id": "c176650a",
   "metadata": {},
   "outputs": [
    {
     "data": {
      "text/plain": [
       "<matplotlib.image.AxesImage at 0x7f971053f690>"
      ]
     },
     "execution_count": 202,
     "metadata": {},
     "output_type": "execute_result"
    },
    {
     "data": {
      "image/png": "[encoded data removed]",
      "text/plain": [
       "<Figure size 432x288 with 1 Axes>"
      ]
     },
     "metadata": {
      "needs_background": "light"
     },
     "output_type": "display_data"
    }
   ],
   "source": [
    "plt.imshow(rec.fc1.W[7, :, :].detach().numpy())"
   ]
  },
  {
   "cell_type": "code",
   "execution_count": 217,
   "id": "c180432d",
   "metadata": {},
   "outputs": [
    {
     "data": {
      "text/plain": [
       "[<matplotlib.lines.Line2D at 0x7f9710367bd0>]"
      ]
     },
     "execution_count": 217,
     "metadata": {},
     "output_type": "execute_result"
    },
    {
     "data": {
      "image/png": "[encoded data removed]",
      "text/plain": [
       "<Figure size 432x288 with 1 Axes>"
      ]
     },
     "metadata": {
      "needs_background": "light"
     },
     "output_type": "display_data"
    }
   ],
   "source": [
    "xs = np.linspace(-10, 10, 100)\n",
    "idx = 40\n",
    "xs_ = np.tanh(xs)\n",
    "pows = [np.power(xs_, i) for i in range(4)]\n",
    "xs_pows = rec.act1.a[:, idx:idx+1].detach().cpu().numpy() * np.array(pows)\n",
    "plt.plot(xs, np.sum(xs_pows, axis=0))"
   ]
  },
  {
   "cell_type": "code",
   "execution_count": null,
   "id": "8ca6700c",
   "metadata": {},
   "outputs": [],
   "source": []
  },
  {
   "cell_type": "code",
   "execution_count": null,
   "id": "08811c51",
   "metadata": {},
   "outputs": [],
   "source": []
  }
 ],
 "metadata": {
  "kernelspec": {
   "display_name": "Python 3",
   "language": "python",
   "name": "python3"
  },
  "language_info": {
   "codemirror_mode": {
    "name": "ipython",
    "version": 3
   },
   "file_extension": ".py",
   "mimetype": "text/x-python",
   "name": "python",
   "nbconvert_exporter": "python",
   "pygments_lexer": "ipython3",
   "version": "3.7.10"
  }
 },
 "nbformat": 4,
 "nbformat_minor": 5
}
