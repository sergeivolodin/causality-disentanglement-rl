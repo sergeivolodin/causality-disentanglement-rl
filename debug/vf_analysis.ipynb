{
 "cells": [
  {
   "cell_type": "code",
   "execution_count": 29,
   "id": "driving-slovakia",
   "metadata": {},
   "outputs": [],
   "source": [
    "import torch\n",
    "from torch import nn\n",
    "import pickle\n",
    "from matplotlib import pyplot as plt\n",
    "import os\n",
    "from causal_util.helpers import CPU_Unpickler\n",
    "import numpy as np\n",
    "os.environ['CUDA_VISIBLE_DEVICES'] = \"-1\""
   ]
  },
  {
   "cell_type": "code",
   "execution_count": 60,
   "id": "common-temple",
   "metadata": {},
   "outputs": [],
   "source": [
    "path = '/home/sergei/ray_results/ve5_nonlinear_ve5_vf_server_collect_big/main_fcn_dc33f_00000_0_2021-02-19_13-13-22/checkpoint_4000/checkpoint'"
   ]
  },
  {
   "cell_type": "code",
   "execution_count": 61,
   "id": "unsigned-hungarian",
   "metadata": {},
   "outputs": [
    {
     "name": "stderr",
     "output_type": "stream",
     "text": [
      "2021-02-19 13:33:56,184\tWARNING session.py:20 -- Session not detected. You should not be calling this function outside `tune.run` or while using the class API. \n"
     ]
    },
    {
     "name": "stdout",
     "output_type": "stream",
     "text": [
      "Selecting name bb943a94-72ae-11eb-927a-90e2baa15230\n",
      "Make environment VectorIncrement-v0 [<class 'encoder.observation_encoder.KerasEncoderWrapper'>] {}\n",
      "Loading model /home/sergei/causality-disentanglement-rl/encoder/encoders/encoder-config-ve5_nonlinear-892637fe-fde9-11ea-84c5-00155d22e64a.pb\n",
      "WARNING:tensorflow:No training configuration found in save file: the model was *not* compiled. Compile it manually.\n"
     ]
    },
    {
     "name": "stderr",
     "output_type": "stream",
     "text": [
      "WARNING:tensorflow:No training configuration found in save file: the model was *not* compiled. Compile it manually.\n"
     ]
    },
    {
     "name": "stdout",
     "output_type": "stream",
     "text": [
      "\u001b[2m\u001b[36m(pid=12762)\u001b[0m Make environment VectorIncrement-v0 [<class 'encoder.observation_encoder.KerasEncoderWrapper'>] {}\n",
      "\u001b[2m\u001b[36m(pid=12762)\u001b[0m Loading model /home/sergei/causality-disentanglement-rl/encoder/encoders/encoder-config-ve5_nonlinear-892637fe-fde9-11ea-84c5-00155d22e64a.pb\n",
      "\u001b[2m\u001b[36m(pid=12764)\u001b[0m Make environment VectorIncrement-v0 [<class 'encoder.observation_encoder.KerasEncoderWrapper'>] {}\n",
      "\u001b[2m\u001b[36m(pid=12764)\u001b[0m Loading model /home/sergei/causality-disentanglement-rl/encoder/encoders/encoder-config-ve5_nonlinear-892637fe-fde9-11ea-84c5-00155d22e64a.pb\n",
      "\u001b[2m\u001b[36m(pid=12774)\u001b[0m Make environment VectorIncrement-v0 [<class 'encoder.observation_encoder.KerasEncoderWrapper'>] {}\n",
      "\u001b[2m\u001b[36m(pid=12774)\u001b[0m Loading model /home/sergei/causality-disentanglement-rl/encoder/encoders/encoder-config-ve5_nonlinear-892637fe-fde9-11ea-84c5-00155d22e64a.pb\n",
      "\u001b[2m\u001b[36m(pid=12777)\u001b[0m Make environment VectorIncrement-v0 [<class 'encoder.observation_encoder.KerasEncoderWrapper'>] {}\n",
      "\u001b[2m\u001b[36m(pid=12777)\u001b[0m Loading model /home/sergei/causality-disentanglement-rl/encoder/encoders/encoder-config-ve5_nonlinear-892637fe-fde9-11ea-84c5-00155d22e64a.pb\n",
      "\u001b[2m\u001b[36m(pid=12765)\u001b[0m Make environment VectorIncrement-v0 [<class 'encoder.observation_encoder.KerasEncoderWrapper'>] {}\n",
      "\u001b[2m\u001b[36m(pid=12765)\u001b[0m Loading model /home/sergei/causality-disentanglement-rl/encoder/encoders/encoder-config-ve5_nonlinear-892637fe-fde9-11ea-84c5-00155d22e64a.pb\n"
     ]
    },
    {
     "name": "stderr",
     "output_type": "stream",
     "text": [
      "\u001b[2m\u001b[36m(pid=12762)\u001b[0m WARNING:tensorflow:From /home/sergei/miniconda3/envs/causal/lib/python3.7/site-packages/tensorflow_core/python/ops/init_ops.py:97: calling GlorotUniform.__init__ (from tensorflow.python.ops.init_ops) with dtype is deprecated and will be removed in a future version.\n",
      "\u001b[2m\u001b[36m(pid=12762)\u001b[0m Instructions for updating:\n",
      "\u001b[2m\u001b[36m(pid=12762)\u001b[0m Call initializer instance with the dtype argument instead of passing it to the constructor\n",
      "\u001b[2m\u001b[36m(pid=12762)\u001b[0m WARNING:tensorflow:From /home/sergei/miniconda3/envs/causal/lib/python3.7/site-packages/tensorflow_core/python/ops/init_ops.py:97: calling Zeros.__init__ (from tensorflow.python.ops.init_ops) with dtype is deprecated and will be removed in a future version.\n",
      "\u001b[2m\u001b[36m(pid=12762)\u001b[0m Instructions for updating:\n",
      "\u001b[2m\u001b[36m(pid=12762)\u001b[0m Call initializer instance with the dtype argument instead of passing it to the constructor\n",
      "\u001b[2m\u001b[36m(pid=12762)\u001b[0m WARNING:tensorflow:From /home/sergei/miniconda3/envs/causal/lib/python3.7/site-packages/tensorflow_core/python/ops/resource_variable_ops.py:1630: calling BaseResourceVariable.__init__ (from tensorflow.python.ops.resource_variable_ops) with constraint is deprecated and will be removed in a future version.\n",
      "\u001b[2m\u001b[36m(pid=12762)\u001b[0m Instructions for updating:\n",
      "\u001b[2m\u001b[36m(pid=12762)\u001b[0m If using Keras pass *_constraint arguments to layers.\n",
      "\u001b[2m\u001b[36m(pid=12764)\u001b[0m WARNING:tensorflow:From /home/sergei/miniconda3/envs/causal/lib/python3.7/site-packages/tensorflow_core/python/ops/init_ops.py:97: calling GlorotUniform.__init__ (from tensorflow.python.ops.init_ops) with dtype is deprecated and will be removed in a future version.\n",
      "\u001b[2m\u001b[36m(pid=12764)\u001b[0m Instructions for updating:\n",
      "\u001b[2m\u001b[36m(pid=12764)\u001b[0m Call initializer instance with the dtype argument instead of passing it to the constructor\n",
      "\u001b[2m\u001b[36m(pid=12764)\u001b[0m WARNING:tensorflow:From /home/sergei/miniconda3/envs/causal/lib/python3.7/site-packages/tensorflow_core/python/ops/init_ops.py:97: calling Zeros.__init__ (from tensorflow.python.ops.init_ops) with dtype is deprecated and will be removed in a future version.\n",
      "\u001b[2m\u001b[36m(pid=12764)\u001b[0m Instructions for updating:\n",
      "\u001b[2m\u001b[36m(pid=12764)\u001b[0m Call initializer instance with the dtype argument instead of passing it to the constructor\n",
      "\u001b[2m\u001b[36m(pid=12764)\u001b[0m WARNING:tensorflow:From /home/sergei/miniconda3/envs/causal/lib/python3.7/site-packages/tensorflow_core/python/ops/resource_variable_ops.py:1630: calling BaseResourceVariable.__init__ (from tensorflow.python.ops.resource_variable_ops) with constraint is deprecated and will be removed in a future version.\n",
      "\u001b[2m\u001b[36m(pid=12764)\u001b[0m Instructions for updating:\n",
      "\u001b[2m\u001b[36m(pid=12764)\u001b[0m If using Keras pass *_constraint arguments to layers.\n",
      "\u001b[2m\u001b[36m(pid=12762)\u001b[0m WARNING:tensorflow:OMP_NUM_THREADS is no longer used by the default Keras config. To configure the number of threads, use tf.config.threading APIs.\n",
      "\u001b[2m\u001b[36m(pid=12762)\u001b[0m 2021-02-19 13:34:02.195891: I tensorflow/core/platform/cpu_feature_guard.cc:142] Your CPU supports instructions that this TensorFlow binary was not compiled to use: AVX2 FMA\n",
      "\u001b[2m\u001b[36m(pid=12774)\u001b[0m WARNING:tensorflow:From /home/sergei/miniconda3/envs/causal/lib/python3.7/site-packages/tensorflow_core/python/ops/init_ops.py:97: calling GlorotUniform.__init__ (from tensorflow.python.ops.init_ops) with dtype is deprecated and will be removed in a future version.\n",
      "\u001b[2m\u001b[36m(pid=12774)\u001b[0m Instructions for updating:\n",
      "\u001b[2m\u001b[36m(pid=12774)\u001b[0m Call initializer instance with the dtype argument instead of passing it to the constructor\n",
      "\u001b[2m\u001b[36m(pid=12774)\u001b[0m WARNING:tensorflow:From /home/sergei/miniconda3/envs/causal/lib/python3.7/site-packages/tensorflow_core/python/ops/init_ops.py:97: calling Zeros.__init__ (from tensorflow.python.ops.init_ops) with dtype is deprecated and will be removed in a future version.\n",
      "\u001b[2m\u001b[36m(pid=12774)\u001b[0m Instructions for updating:\n",
      "\u001b[2m\u001b[36m(pid=12774)\u001b[0m Call initializer instance with the dtype argument instead of passing it to the constructor\n",
      "\u001b[2m\u001b[36m(pid=12774)\u001b[0m WARNING:tensorflow:From /home/sergei/miniconda3/envs/causal/lib/python3.7/site-packages/tensorflow_core/python/ops/resource_variable_ops.py:1630: calling BaseResourceVariable.__init__ (from tensorflow.python.ops.resource_variable_ops) with constraint is deprecated and will be removed in a future version.\n",
      "\u001b[2m\u001b[36m(pid=12774)\u001b[0m Instructions for updating:\n",
      "\u001b[2m\u001b[36m(pid=12774)\u001b[0m If using Keras pass *_constraint arguments to layers.\n",
      "\u001b[2m\u001b[36m(pid=12777)\u001b[0m WARNING:tensorflow:From /home/sergei/miniconda3/envs/causal/lib/python3.7/site-packages/tensorflow_core/python/ops/init_ops.py:97: calling GlorotUniform.__init__ (from tensorflow.python.ops.init_ops) with dtype is deprecated and will be removed in a future version.\n",
      "\u001b[2m\u001b[36m(pid=12777)\u001b[0m Instructions for updating:\n",
      "\u001b[2m\u001b[36m(pid=12777)\u001b[0m Call initializer instance with the dtype argument instead of passing it to the constructor\n",
      "\u001b[2m\u001b[36m(pid=12777)\u001b[0m WARNING:tensorflow:From /home/sergei/miniconda3/envs/causal/lib/python3.7/site-packages/tensorflow_core/python/ops/init_ops.py:97: calling Zeros.__init__ (from tensorflow.python.ops.init_ops) with dtype is deprecated and will be removed in a future version.\n",
      "\u001b[2m\u001b[36m(pid=12777)\u001b[0m Instructions for updating:\n",
      "\u001b[2m\u001b[36m(pid=12777)\u001b[0m Call initializer instance with the dtype argument instead of passing it to the constructor\n",
      "\u001b[2m\u001b[36m(pid=12762)\u001b[0m 2021-02-19 13:34:02.228032: I tensorflow/core/platform/profile_utils/cpu_utils.cc:94] CPU Frequency: 2494125000 Hz\n",
      "\u001b[2m\u001b[36m(pid=12762)\u001b[0m 2021-02-19 13:34:02.231413: I tensorflow/compiler/xla/service/service.cc:168] XLA service 0x557334a46bd0 initialized for platform Host (this does not guarantee that XLA will be used). Devices:\n",
      "\u001b[2m\u001b[36m(pid=12762)\u001b[0m 2021-02-19 13:34:02.231466: I tensorflow/compiler/xla/service/service.cc:176]   StreamExecutor device (0): Host, Default Version\n",
      "\u001b[2m\u001b[36m(pid=12777)\u001b[0m WARNING:tensorflow:From /home/sergei/miniconda3/envs/causal/lib/python3.7/site-packages/tensorflow_core/python/ops/resource_variable_ops.py:1630: calling BaseResourceVariable.__init__ (from tensorflow.python.ops.resource_variable_ops) with constraint is deprecated and will be removed in a future version.\n",
      "\u001b[2m\u001b[36m(pid=12777)\u001b[0m Instructions for updating:\n",
      "\u001b[2m\u001b[36m(pid=12777)\u001b[0m If using Keras pass *_constraint arguments to layers.\n",
      "\u001b[2m\u001b[36m(pid=12765)\u001b[0m WARNING:tensorflow:From /home/sergei/miniconda3/envs/causal/lib/python3.7/site-packages/tensorflow_core/python/ops/init_ops.py:97: calling GlorotUniform.__init__ (from tensorflow.python.ops.init_ops) with dtype is deprecated and will be removed in a future version.\n",
      "\u001b[2m\u001b[36m(pid=12765)\u001b[0m Instructions for updating:\n",
      "\u001b[2m\u001b[36m(pid=12765)\u001b[0m Call initializer instance with the dtype argument instead of passing it to the constructor\n",
      "\u001b[2m\u001b[36m(pid=12765)\u001b[0m WARNING:tensorflow:From /home/sergei/miniconda3/envs/causal/lib/python3.7/site-packages/tensorflow_core/python/ops/init_ops.py:97: calling Zeros.__init__ (from tensorflow.python.ops.init_ops) with dtype is deprecated and will be removed in a future version.\n",
      "\u001b[2m\u001b[36m(pid=12765)\u001b[0m Instructions for updating:\n",
      "\u001b[2m\u001b[36m(pid=12765)\u001b[0m Call initializer instance with the dtype argument instead of passing it to the constructor\n",
      "\u001b[2m\u001b[36m(pid=12765)\u001b[0m WARNING:tensorflow:From /home/sergei/miniconda3/envs/causal/lib/python3.7/site-packages/tensorflow_core/python/ops/resource_variable_ops.py:1630: calling BaseResourceVariable.__init__ (from tensorflow.python.ops.resource_variable_ops) with constraint is deprecated and will be removed in a future version.\n",
      "\u001b[2m\u001b[36m(pid=12765)\u001b[0m Instructions for updating:\n",
      "\u001b[2m\u001b[36m(pid=12765)\u001b[0m If using Keras pass *_constraint arguments to layers.\n",
      "\u001b[2m\u001b[36m(pid=12774)\u001b[0m WARNING:tensorflow:OMP_NUM_THREADS is no longer used by the default Keras config. To configure the number of threads, use tf.config.threading APIs.\n",
      "\u001b[2m\u001b[36m(pid=12774)\u001b[0m 2021-02-19 13:34:02.279916: I tensorflow/core/platform/cpu_feature_guard.cc:142] Your CPU supports instructions that this TensorFlow binary was not compiled to use: AVX2 FMA\n",
      "\u001b[2m\u001b[36m(pid=12764)\u001b[0m WARNING:tensorflow:OMP_NUM_THREADS is no longer used by the default Keras config. To configure the number of threads, use tf.config.threading APIs.\n",
      "\u001b[2m\u001b[36m(pid=12764)\u001b[0m 2021-02-19 13:34:02.295718: I tensorflow/core/platform/cpu_feature_guard.cc:142] Your CPU supports instructions that this TensorFlow binary was not compiled to use: AVX2 FMA\n",
      "\u001b[2m\u001b[36m(pid=12764)\u001b[0m 2021-02-19 13:34:02.313515: I tensorflow/core/platform/profile_utils/cpu_utils.cc:94] CPU Frequency: 2494125000 Hz\n",
      "\u001b[2m\u001b[36m(pid=12764)\u001b[0m 2021-02-19 13:34:02.316872: I tensorflow/compiler/xla/service/service.cc:168] XLA service 0x5578d3ac3270 initialized for platform Host (this does not guarantee that XLA will be used). Devices:\n",
      "\u001b[2m\u001b[36m(pid=12764)\u001b[0m 2021-02-19 13:34:02.316919: I tensorflow/compiler/xla/service/service.cc:176]   StreamExecutor device (0): Host, Default Version\n",
      "\u001b[2m\u001b[36m(pid=12762)\u001b[0m WARNING:tensorflow:No training configuration found in save file: the model was *not* compiled. Compile it manually.\n",
      "\u001b[2m\u001b[36m(pid=12774)\u001b[0m 2021-02-19 13:34:02.292560: I tensorflow/core/platform/profile_utils/cpu_utils.cc:94] CPU Frequency: 2494125000 Hz\n",
      "\u001b[2m\u001b[36m(pid=12774)\u001b[0m 2021-02-19 13:34:02.295302: I tensorflow/compiler/xla/service/service.cc:168] XLA service 0x558be588edf0 initialized for platform Host (this does not guarantee that XLA will be used). Devices:\n",
      "\u001b[2m\u001b[36m(pid=12774)\u001b[0m 2021-02-19 13:34:02.295355: I tensorflow/compiler/xla/service/service.cc:176]   StreamExecutor device (0): Host, Default Version\n",
      "\u001b[2m\u001b[36m(pid=12777)\u001b[0m WARNING:tensorflow:OMP_NUM_THREADS is no longer used by the default Keras config. To configure the number of threads, use tf.config.threading APIs.\n",
      "\u001b[2m\u001b[36m(pid=12777)\u001b[0m 2021-02-19 13:34:02.323955: I tensorflow/core/platform/cpu_feature_guard.cc:142] Your CPU supports instructions that this TensorFlow binary was not compiled to use: AVX2 FMA\n",
      "\u001b[2m\u001b[36m(pid=12777)\u001b[0m 2021-02-19 13:34:02.339786: I tensorflow/core/platform/profile_utils/cpu_utils.cc:94] CPU Frequency: 2494125000 Hz\n",
      "\u001b[2m\u001b[36m(pid=12782)\u001b[0m WARNING:tensorflow:From /home/sergei/miniconda3/envs/causal/lib/python3.7/site-packages/tensorflow_core/python/ops/init_ops.py:97: calling GlorotUniform.__init__ (from tensorflow.python.ops.init_ops) with dtype is deprecated and will be removed in a future version.\n",
      "\u001b[2m\u001b[36m(pid=12782)\u001b[0m Instructions for updating:\n",
      "\u001b[2m\u001b[36m(pid=12782)\u001b[0m Call initializer instance with the dtype argument instead of passing it to the constructor\n",
      "\u001b[2m\u001b[36m(pid=12782)\u001b[0m WARNING:tensorflow:From /home/sergei/miniconda3/envs/causal/lib/python3.7/site-packages/tensorflow_core/python/ops/init_ops.py:97: calling Zeros.__init__ (from tensorflow.python.ops.init_ops) with dtype is deprecated and will be removed in a future version.\n",
      "\u001b[2m\u001b[36m(pid=12782)\u001b[0m Instructions for updating:\n",
      "\u001b[2m\u001b[36m(pid=12782)\u001b[0m Call initializer instance with the dtype argument instead of passing it to the constructor\n",
      "\u001b[2m\u001b[36m(pid=12782)\u001b[0m WARNING:tensorflow:From /home/sergei/miniconda3/envs/causal/lib/python3.7/site-packages/tensorflow_core/python/ops/resource_variable_ops.py:1630: calling BaseResourceVariable.__init__ (from tensorflow.python.ops.resource_variable_ops) with constraint is deprecated and will be removed in a future version.\n",
      "\u001b[2m\u001b[36m(pid=12782)\u001b[0m Instructions for updating:\n",
      "\u001b[2m\u001b[36m(pid=12782)\u001b[0m If using Keras pass *_constraint arguments to layers.\n",
      "\u001b[2m\u001b[36m(pid=12771)\u001b[0m WARNING:tensorflow:From /home/sergei/miniconda3/envs/causal/lib/python3.7/site-packages/tensorflow_core/python/ops/init_ops.py:97: calling GlorotUniform.__init__ (from tensorflow.python.ops.init_ops) with dtype is deprecated and will be removed in a future version.\n",
      "\u001b[2m\u001b[36m(pid=12771)\u001b[0m Instructions for updating:\n",
      "\u001b[2m\u001b[36m(pid=12771)\u001b[0m Call initializer instance with the dtype argument instead of passing it to the constructor\n",
      "\u001b[2m\u001b[36m(pid=12771)\u001b[0m WARNING:tensorflow:From /home/sergei/miniconda3/envs/causal/lib/python3.7/site-packages/tensorflow_core/python/ops/init_ops.py:97: calling Zeros.__init__ (from tensorflow.python.ops.init_ops) with dtype is deprecated and will be removed in a future version.\n",
      "\u001b[2m\u001b[36m(pid=12771)\u001b[0m Instructions for updating:\n",
      "\u001b[2m\u001b[36m(pid=12771)\u001b[0m Call initializer instance with the dtype argument instead of passing it to the constructor\n",
      "\u001b[2m\u001b[36m(pid=12771)\u001b[0m WARNING:tensorflow:From /home/sergei/miniconda3/envs/causal/lib/python3.7/site-packages/tensorflow_core/python/ops/resource_variable_ops.py:1630: calling BaseResourceVariable.__init__ (from tensorflow.python.ops.resource_variable_ops) with constraint is deprecated and will be removed in a future version.\n",
      "\u001b[2m\u001b[36m(pid=12771)\u001b[0m Instructions for updating:\n",
      "\u001b[2m\u001b[36m(pid=12771)\u001b[0m If using Keras pass *_constraint arguments to layers.\n",
      "\u001b[2m\u001b[36m(pid=12792)\u001b[0m WARNING:tensorflow:From /home/sergei/miniconda3/envs/causal/lib/python3.7/site-packages/tensorflow_core/python/ops/init_ops.py:97: calling GlorotUniform.__init__ (from tensorflow.python.ops.init_ops) with dtype is deprecated and will be removed in a future version.\n",
      "\u001b[2m\u001b[36m(pid=12792)\u001b[0m Instructions for updating:\n",
      "\u001b[2m\u001b[36m(pid=12792)\u001b[0m Call initializer instance with the dtype argument instead of passing it to the constructor\n",
      "\u001b[2m\u001b[36m(pid=12792)\u001b[0m WARNING:tensorflow:From /home/sergei/miniconda3/envs/causal/lib/python3.7/site-packages/tensorflow_core/python/ops/init_ops.py:97: calling Zeros.__init__ (from tensorflow.python.ops.init_ops) with dtype is deprecated and will be removed in a future version.\n",
      "\u001b[2m\u001b[36m(pid=12792)\u001b[0m Instructions for updating:\n",
      "\u001b[2m\u001b[36m(pid=12792)\u001b[0m Call initializer instance with the dtype argument instead of passing it to the constructor\n",
      "\u001b[2m\u001b[36m(pid=12792)\u001b[0m WARNING:tensorflow:From /home/sergei/miniconda3/envs/causal/lib/python3.7/site-packages/tensorflow_core/python/ops/resource_variable_ops.py:1630: calling BaseResourceVariable.__init__ (from tensorflow.python.ops.resource_variable_ops) with constraint is deprecated and will be removed in a future version.\n",
      "\u001b[2m\u001b[36m(pid=12792)\u001b[0m Instructions for updating:\n",
      "\u001b[2m\u001b[36m(pid=12792)\u001b[0m If using Keras pass *_constraint arguments to layers.\n",
      "\u001b[2m\u001b[36m(pid=12784)\u001b[0m WARNING:tensorflow:From /home/sergei/miniconda3/envs/causal/lib/python3.7/site-packages/tensorflow_core/python/ops/init_ops.py:97: calling GlorotUniform.__init__ (from tensorflow.python.ops.init_ops) with dtype is deprecated and will be removed in a future version.\n",
      "\u001b[2m\u001b[36m(pid=12784)\u001b[0m Instructions for updating:\n",
      "\u001b[2m\u001b[36m(pid=12784)\u001b[0m Call initializer instance with the dtype argument instead of passing it to the constructor\n",
      "\u001b[2m\u001b[36m(pid=12784)\u001b[0m WARNING:tensorflow:From /home/sergei/miniconda3/envs/causal/lib/python3.7/site-packages/tensorflow_core/python/ops/init_ops.py:97: calling Zeros.__init__ (from tensorflow.python.ops.init_ops) with dtype is deprecated and will be removed in a future version.\n",
      "\u001b[2m\u001b[36m(pid=12784)\u001b[0m Instructions for updating:\n",
      "\u001b[2m\u001b[36m(pid=12784)\u001b[0m Call initializer instance with the dtype argument instead of passing it to the constructor\n",
      "\u001b[2m\u001b[36m(pid=12777)\u001b[0m 2021-02-19 13:34:02.344574: I tensorflow/compiler/xla/service/service.cc:168] XLA service 0x55e3dc0e53a0 initialized for platform Host (this does not guarantee that XLA will be used). Devices:\n",
      "\u001b[2m\u001b[36m(pid=12777)\u001b[0m 2021-02-19 13:34:02.344619: I tensorflow/compiler/xla/service/service.cc:176]   StreamExecutor device (0): Host, Default Version\n",
      "\u001b[2m\u001b[36m(pid=12795)\u001b[0m WARNING:tensorflow:From /home/sergei/miniconda3/envs/causal/lib/python3.7/site-packages/tensorflow_core/python/ops/init_ops.py:97: calling GlorotUniform.__init__ (from tensorflow.python.ops.init_ops) with dtype is deprecated and will be removed in a future version.\n",
      "\u001b[2m\u001b[36m(pid=12795)\u001b[0m Instructions for updating:\n",
      "\u001b[2m\u001b[36m(pid=12795)\u001b[0m Call initializer instance with the dtype argument instead of passing it to the constructor\n",
      "\u001b[2m\u001b[36m(pid=12795)\u001b[0m WARNING:tensorflow:From /home/sergei/miniconda3/envs/causal/lib/python3.7/site-packages/tensorflow_core/python/ops/init_ops.py:97: calling Zeros.__init__ (from tensorflow.python.ops.init_ops) with dtype is deprecated and will be removed in a future version.\n",
      "\u001b[2m\u001b[36m(pid=12795)\u001b[0m Instructions for updating:\n",
      "\u001b[2m\u001b[36m(pid=12795)\u001b[0m Call initializer instance with the dtype argument instead of passing it to the constructor\n",
      "\u001b[2m\u001b[36m(pid=12784)\u001b[0m WARNING:tensorflow:From /home/sergei/miniconda3/envs/causal/lib/python3.7/site-packages/tensorflow_core/python/ops/resource_variable_ops.py:1630: calling BaseResourceVariable.__init__ (from tensorflow.python.ops.resource_variable_ops) with constraint is deprecated and will be removed in a future version.\n",
      "\u001b[2m\u001b[36m(pid=12784)\u001b[0m Instructions for updating:\n",
      "\u001b[2m\u001b[36m(pid=12784)\u001b[0m If using Keras pass *_constraint arguments to layers.\n",
      "\u001b[2m\u001b[36m(pid=12789)\u001b[0m WARNING:tensorflow:From /home/sergei/miniconda3/envs/causal/lib/python3.7/site-packages/tensorflow_core/python/ops/init_ops.py:97: calling GlorotUniform.__init__ (from tensorflow.python.ops.init_ops) with dtype is deprecated and will be removed in a future version.\n",
      "\u001b[2m\u001b[36m(pid=12789)\u001b[0m Instructions for updating:\n",
      "\u001b[2m\u001b[36m(pid=12789)\u001b[0m Call initializer instance with the dtype argument instead of passing it to the constructor\n",
      "\u001b[2m\u001b[36m(pid=12789)\u001b[0m WARNING:tensorflow:From /home/sergei/miniconda3/envs/causal/lib/python3.7/site-packages/tensorflow_core/python/ops/init_ops.py:97: calling Zeros.__init__ (from tensorflow.python.ops.init_ops) with dtype is deprecated and will be removed in a future version.\n",
      "\u001b[2m\u001b[36m(pid=12789)\u001b[0m Instructions for updating:\n",
      "\u001b[2m\u001b[36m(pid=12789)\u001b[0m Call initializer instance with the dtype argument instead of passing it to the constructor\n",
      "\u001b[2m\u001b[36m(pid=12764)\u001b[0m WARNING:tensorflow:No training configuration found in save file: the model was *not* compiled. Compile it manually.\n",
      "\u001b[2m\u001b[36m(pid=12774)\u001b[0m WARNING:tensorflow:No training configuration found in save file: the model was *not* compiled. Compile it manually.\n",
      "\u001b[2m\u001b[36m(pid=12777)\u001b[0m WARNING:tensorflow:No training configuration found in save file: the model was *not* compiled. Compile it manually.\n",
      "\u001b[2m\u001b[36m(pid=12765)\u001b[0m WARNING:tensorflow:OMP_NUM_THREADS is no longer used by the default Keras config. To configure the number of threads, use tf.config.threading APIs.\n",
      "\u001b[2m\u001b[36m(pid=12765)\u001b[0m 2021-02-19 13:34:02.371530: I tensorflow/core/platform/cpu_feature_guard.cc:142] Your CPU supports instructions that this TensorFlow binary was not compiled to use: AVX2 FMA\n",
      "\u001b[2m\u001b[36m(pid=12765)\u001b[0m 2021-02-19 13:34:02.382712: I tensorflow/core/platform/profile_utils/cpu_utils.cc:94] CPU Frequency: 2494125000 Hz\n",
      "\u001b[2m\u001b[36m(pid=12765)\u001b[0m 2021-02-19 13:34:02.385732: I tensorflow/compiler/xla/service/service.cc:168] XLA service 0x559900cf64c0 initialized for platform Host (this does not guarantee that XLA will be used). Devices:\n",
      "\u001b[2m\u001b[36m(pid=12765)\u001b[0m 2021-02-19 13:34:02.385777: I tensorflow/compiler/xla/service/service.cc:176]   StreamExecutor device (0): Host, Default Version\n",
      "\u001b[2m\u001b[36m(pid=12795)\u001b[0m WARNING:tensorflow:From /home/sergei/miniconda3/envs/causal/lib/python3.7/site-packages/tensorflow_core/python/ops/resource_variable_ops.py:1630: calling BaseResourceVariable.__init__ (from tensorflow.python.ops.resource_variable_ops) with constraint is deprecated and will be removed in a future version.\n",
      "\u001b[2m\u001b[36m(pid=12795)\u001b[0m Instructions for updating:\n",
      "\u001b[2m\u001b[36m(pid=12795)\u001b[0m If using Keras pass *_constraint arguments to layers.\n",
      "\u001b[2m\u001b[36m(pid=12768)\u001b[0m WARNING:tensorflow:From /home/sergei/miniconda3/envs/causal/lib/python3.7/site-packages/tensorflow_core/python/ops/init_ops.py:97: calling GlorotUniform.__init__ (from tensorflow.python.ops.init_ops) with dtype is deprecated and will be removed in a future version.\n",
      "\u001b[2m\u001b[36m(pid=12768)\u001b[0m Instructions for updating:\n",
      "\u001b[2m\u001b[36m(pid=12768)\u001b[0m Call initializer instance with the dtype argument instead of passing it to the constructor\n",
      "\u001b[2m\u001b[36m(pid=12768)\u001b[0m WARNING:tensorflow:From /home/sergei/miniconda3/envs/causal/lib/python3.7/site-packages/tensorflow_core/python/ops/init_ops.py:97: calling Zeros.__init__ (from tensorflow.python.ops.init_ops) with dtype is deprecated and will be removed in a future version.\n",
      "\u001b[2m\u001b[36m(pid=12768)\u001b[0m Instructions for updating:\n",
      "\u001b[2m\u001b[36m(pid=12768)\u001b[0m Call initializer instance with the dtype argument instead of passing it to the constructor\n",
      "\u001b[2m\u001b[36m(pid=12768)\u001b[0m WARNING:tensorflow:From /home/sergei/miniconda3/envs/causal/lib/python3.7/site-packages/tensorflow_core/python/ops/resource_variable_ops.py:1630: calling BaseResourceVariable.__init__ (from tensorflow.python.ops.resource_variable_ops) with constraint is deprecated and will be removed in a future version.\n",
      "\u001b[2m\u001b[36m(pid=12768)\u001b[0m Instructions for updating:\n",
      "\u001b[2m\u001b[36m(pid=12768)\u001b[0m If using Keras pass *_constraint arguments to layers.\n",
      "\u001b[2m\u001b[36m(pid=12778)\u001b[0m WARNING:tensorflow:From /home/sergei/miniconda3/envs/causal/lib/python3.7/site-packages/tensorflow_core/python/ops/init_ops.py:97: calling GlorotUniform.__init__ (from tensorflow.python.ops.init_ops) with dtype is deprecated and will be removed in a future version.\n",
      "\u001b[2m\u001b[36m(pid=12778)\u001b[0m Instructions for updating:\n",
      "\u001b[2m\u001b[36m(pid=12778)\u001b[0m Call initializer instance with the dtype argument instead of passing it to the constructor\n",
      "\u001b[2m\u001b[36m(pid=12778)\u001b[0m WARNING:tensorflow:From /home/sergei/miniconda3/envs/causal/lib/python3.7/site-packages/tensorflow_core/python/ops/init_ops.py:97: calling Zeros.__init__ (from tensorflow.python.ops.init_ops) with dtype is deprecated and will be removed in a future version.\n",
      "\u001b[2m\u001b[36m(pid=12778)\u001b[0m Instructions for updating:\n",
      "\u001b[2m\u001b[36m(pid=12778)\u001b[0m Call initializer instance with the dtype argument instead of passing it to the constructor\n",
      "\u001b[2m\u001b[36m(pid=12813)\u001b[0m WARNING:tensorflow:From /home/sergei/miniconda3/envs/causal/lib/python3.7/site-packages/tensorflow_core/python/ops/init_ops.py:97: calling GlorotUniform.__init__ (from tensorflow.python.ops.init_ops) with dtype is deprecated and will be removed in a future version.\n",
      "\u001b[2m\u001b[36m(pid=12813)\u001b[0m Instructions for updating:\n",
      "\u001b[2m\u001b[36m(pid=12813)\u001b[0m Call initializer instance with the dtype argument instead of passing it to the constructor\n",
      "\u001b[2m\u001b[36m(pid=12813)\u001b[0m WARNING:tensorflow:From /home/sergei/miniconda3/envs/causal/lib/python3.7/site-packages/tensorflow_core/python/ops/init_ops.py:97: calling Zeros.__init__ (from tensorflow.python.ops.init_ops) with dtype is deprecated and will be removed in a future version.\n",
      "\u001b[2m\u001b[36m(pid=12813)\u001b[0m Instructions for updating:\n",
      "\u001b[2m\u001b[36m(pid=12813)\u001b[0m Call initializer instance with the dtype argument instead of passing it to the constructor\n",
      "\u001b[2m\u001b[36m(pid=12813)\u001b[0m WARNING:tensorflow:From /home/sergei/miniconda3/envs/causal/lib/python3.7/site-packages/tensorflow_core/python/ops/resource_variable_ops.py:1630: calling BaseResourceVariable.__init__ (from tensorflow.python.ops.resource_variable_ops) with constraint is deprecated and will be removed in a future version.\n",
      "\u001b[2m\u001b[36m(pid=12813)\u001b[0m Instructions for updating:\n",
      "\u001b[2m\u001b[36m(pid=12813)\u001b[0m If using Keras pass *_constraint arguments to layers.\n",
      "\u001b[2m\u001b[36m(pid=12789)\u001b[0m WARNING:tensorflow:From /home/sergei/miniconda3/envs/causal/lib/python3.7/site-packages/tensorflow_core/python/ops/resource_variable_ops.py:1630: calling BaseResourceVariable.__init__ (from tensorflow.python.ops.resource_variable_ops) with constraint is deprecated and will be removed in a future version.\n",
      "\u001b[2m\u001b[36m(pid=12789)\u001b[0m Instructions for updating:\n",
      "\u001b[2m\u001b[36m(pid=12789)\u001b[0m If using Keras pass *_constraint arguments to layers.\n",
      "\u001b[2m\u001b[36m(pid=12782)\u001b[0m WARNING:tensorflow:OMP_NUM_THREADS is no longer used by the default Keras config. To configure the number of threads, use tf.config.threading APIs.\n",
      "\u001b[2m\u001b[36m(pid=12782)\u001b[0m 2021-02-19 13:34:02.430651: I tensorflow/core/platform/cpu_feature_guard.cc:142] Your CPU supports instructions that this TensorFlow binary was not compiled to use: AVX2 FMA\n",
      "\u001b[2m\u001b[36m(pid=12771)\u001b[0m WARNING:tensorflow:OMP_NUM_THREADS is no longer used by the default Keras config. To configure the number of threads, use tf.config.threading APIs.\n",
      "\u001b[2m\u001b[36m(pid=12771)\u001b[0m 2021-02-19 13:34:02.424778: I tensorflow/core/platform/cpu_feature_guard.cc:142] Your CPU supports instructions that this TensorFlow binary was not compiled to use: AVX2 FMA\n",
      "\u001b[2m\u001b[36m(pid=12778)\u001b[0m WARNING:tensorflow:From /home/sergei/miniconda3/envs/causal/lib/python3.7/site-packages/tensorflow_core/python/ops/resource_variable_ops.py:1630: calling BaseResourceVariable.__init__ (from tensorflow.python.ops.resource_variable_ops) with constraint is deprecated and will be removed in a future version.\n",
      "\u001b[2m\u001b[36m(pid=12778)\u001b[0m Instructions for updating:\n",
      "\u001b[2m\u001b[36m(pid=12778)\u001b[0m If using Keras pass *_constraint arguments to layers.\n",
      "\u001b[2m\u001b[36m(pid=12771)\u001b[0m 2021-02-19 13:34:02.438136: I tensorflow/core/platform/profile_utils/cpu_utils.cc:94] CPU Frequency: 2494125000 Hz\n",
      "\u001b[2m\u001b[36m(pid=12771)\u001b[0m 2021-02-19 13:34:02.441873: I tensorflow/compiler/xla/service/service.cc:168] XLA service 0x55b755ddf390 initialized for platform Host (this does not guarantee that XLA will be used). Devices:\n",
      "\u001b[2m\u001b[36m(pid=12771)\u001b[0m 2021-02-19 13:34:02.441940: I tensorflow/compiler/xla/service/service.cc:176]   StreamExecutor device (0): Host, Default Version\n",
      "\u001b[2m\u001b[36m(pid=12792)\u001b[0m WARNING:tensorflow:OMP_NUM_THREADS is no longer used by the default Keras config. To configure the number of threads, use tf.config.threading APIs.\n",
      "\u001b[2m\u001b[36m(pid=12792)\u001b[0m 2021-02-19 13:34:02.452159: I tensorflow/core/platform/cpu_feature_guard.cc:142] Your CPU supports instructions that this TensorFlow binary was not compiled to use: AVX2 FMA\n",
      "\u001b[2m\u001b[36m(pid=12765)\u001b[0m WARNING:tensorflow:No training configuration found in save file: the model was *not* compiled. Compile it manually.\n",
      "\u001b[2m\u001b[36m(pid=12782)\u001b[0m 2021-02-19 13:34:02.456589: I tensorflow/core/platform/profile_utils/cpu_utils.cc:94] CPU Frequency: 2494125000 Hz\n",
      "\u001b[2m\u001b[36m(pid=12782)\u001b[0m 2021-02-19 13:34:02.459600: I tensorflow/compiler/xla/service/service.cc:168] XLA service 0x55f6cda791b0 initialized for platform Host (this does not guarantee that XLA will be used). Devices:\n",
      "\u001b[2m\u001b[36m(pid=12782)\u001b[0m 2021-02-19 13:34:02.459643: I tensorflow/compiler/xla/service/service.cc:176]   StreamExecutor device (0): Host, Default Version\n",
      "\u001b[2m\u001b[36m(pid=12784)\u001b[0m WARNING:tensorflow:OMP_NUM_THREADS is no longer used by the default Keras config. To configure the number of threads, use tf.config.threading APIs.\n",
      "\u001b[2m\u001b[36m(pid=12784)\u001b[0m 2021-02-19 13:34:02.463816: I tensorflow/core/platform/cpu_feature_guard.cc:142] Your CPU supports instructions that this TensorFlow binary was not compiled to use: AVX2 FMA\n",
      "\u001b[2m\u001b[36m(pid=12792)\u001b[0m 2021-02-19 13:34:02.472701: I tensorflow/core/platform/profile_utils/cpu_utils.cc:94] CPU Frequency: 2494125000 Hz\n",
      "\u001b[2m\u001b[36m(pid=12792)\u001b[0m 2021-02-19 13:34:02.475157: I tensorflow/compiler/xla/service/service.cc:168] XLA service 0x55cbf4f49890 initialized for platform Host (this does not guarantee that XLA will be used). Devices:\n",
      "\u001b[2m\u001b[36m(pid=12792)\u001b[0m 2021-02-19 13:34:02.475201: I tensorflow/compiler/xla/service/service.cc:176]   StreamExecutor device (0): Host, Default Version\n",
      "\u001b[2m\u001b[36m(pid=12784)\u001b[0m 2021-02-19 13:34:02.484449: I tensorflow/core/platform/profile_utils/cpu_utils.cc:94] CPU Frequency: 2494125000 Hz\n",
      "\u001b[2m\u001b[36m(pid=12784)\u001b[0m 2021-02-19 13:34:02.487389: I tensorflow/compiler/xla/service/service.cc:168] XLA service 0x55e2b7f7f750 initialized for platform Host (this does not guarantee that XLA will be used). Devices:\n",
      "\u001b[2m\u001b[36m(pid=12784)\u001b[0m 2021-02-19 13:34:02.487427: I tensorflow/compiler/xla/service/service.cc:176]   StreamExecutor device (0): Host, Default Version\n",
      "\u001b[2m\u001b[36m(pid=12795)\u001b[0m WARNING:tensorflow:OMP_NUM_THREADS is no longer used by the default Keras config. To configure the number of threads, use tf.config.threading APIs.\n",
      "\u001b[2m\u001b[36m(pid=12795)\u001b[0m 2021-02-19 13:34:02.484909: I tensorflow/core/platform/cpu_feature_guard.cc:142] Your CPU supports instructions that this TensorFlow binary was not compiled to use: AVX2 FMA\n",
      "\u001b[2m\u001b[36m(pid=12798)\u001b[0m WARNING:tensorflow:From /home/sergei/miniconda3/envs/causal/lib/python3.7/site-packages/tensorflow_core/python/ops/init_ops.py:97: calling GlorotUniform.__init__ (from tensorflow.python.ops.init_ops) with dtype is deprecated and will be removed in a future version.\n",
      "\u001b[2m\u001b[36m(pid=12798)\u001b[0m Instructions for updating:\n",
      "\u001b[2m\u001b[36m(pid=12798)\u001b[0m Call initializer instance with the dtype argument instead of passing it to the constructor\n",
      "\u001b[2m\u001b[36m(pid=12798)\u001b[0m WARNING:tensorflow:From /home/sergei/miniconda3/envs/causal/lib/python3.7/site-packages/tensorflow_core/python/ops/init_ops.py:97: calling Zeros.__init__ (from tensorflow.python.ops.init_ops) with dtype is deprecated and will be removed in a future version.\n",
      "\u001b[2m\u001b[36m(pid=12798)\u001b[0m Instructions for updating:\n",
      "\u001b[2m\u001b[36m(pid=12798)\u001b[0m Call initializer instance with the dtype argument instead of passing it to the constructor\n",
      "\u001b[2m\u001b[36m(pid=12795)\u001b[0m 2021-02-19 13:34:02.509613: I tensorflow/core/platform/profile_utils/cpu_utils.cc:94] CPU Frequency: 2494125000 Hz\n",
      "\u001b[2m\u001b[36m(pid=12795)\u001b[0m 2021-02-19 13:34:02.512254: I tensorflow/compiler/xla/service/service.cc:168] XLA service 0x55dd325ee000 initialized for platform Host (this does not guarantee that XLA will be used). Devices:\n",
      "\u001b[2m\u001b[36m(pid=12795)\u001b[0m 2021-02-19 13:34:02.512303: I tensorflow/compiler/xla/service/service.cc:176]   StreamExecutor device (0): Host, Default Version\n",
      "\u001b[2m\u001b[36m(pid=12798)\u001b[0m WARNING:tensorflow:From /home/sergei/miniconda3/envs/causal/lib/python3.7/site-packages/tensorflow_core/python/ops/resource_variable_ops.py:1630: calling BaseResourceVariable.__init__ (from tensorflow.python.ops.resource_variable_ops) with constraint is deprecated and will be removed in a future version.\n",
      "\u001b[2m\u001b[36m(pid=12798)\u001b[0m Instructions for updating:\n",
      "\u001b[2m\u001b[36m(pid=12798)\u001b[0m If using Keras pass *_constraint arguments to layers.\n",
      "\u001b[2m\u001b[36m(pid=12782)\u001b[0m WARNING:tensorflow:No training configuration found in save file: the model was *not* compiled. Compile it manually.\n",
      "\u001b[2m\u001b[36m(pid=12771)\u001b[0m WARNING:tensorflow:No training configuration found in save file: the model was *not* compiled. Compile it manually.\n",
      "\u001b[2m\u001b[36m(pid=12768)\u001b[0m WARNING:tensorflow:OMP_NUM_THREADS is no longer used by the default Keras config. To configure the number of threads, use tf.config.threading APIs.\n",
      "\u001b[2m\u001b[36m(pid=12768)\u001b[0m 2021-02-19 13:34:02.532348: I tensorflow/core/platform/cpu_feature_guard.cc:142] Your CPU supports instructions that this TensorFlow binary was not compiled to use: AVX2 FMA\n"
     ]
    },
    {
     "name": "stdout",
     "output_type": "stream",
     "text": [
      "\u001b[2m\u001b[36m(pid=12782)\u001b[0m Make environment VectorIncrement-v0 [<class 'encoder.observation_encoder.KerasEncoderWrapper'>] {}\n",
      "\u001b[2m\u001b[36m(pid=12782)\u001b[0m Loading model /home/sergei/causality-disentanglement-rl/encoder/encoders/encoder-config-ve5_nonlinear-892637fe-fde9-11ea-84c5-00155d22e64a.pb\n",
      "\u001b[2m\u001b[36m(pid=12792)\u001b[0m Make environment VectorIncrement-v0 [<class 'encoder.observation_encoder.KerasEncoderWrapper'>] {}\n",
      "\u001b[2m\u001b[36m(pid=12792)\u001b[0m Loading model /home/sergei/causality-disentanglement-rl/encoder/encoders/encoder-config-ve5_nonlinear-892637fe-fde9-11ea-84c5-00155d22e64a.pb\n",
      "\u001b[2m\u001b[36m(pid=12771)\u001b[0m Make environment VectorIncrement-v0 [<class 'encoder.observation_encoder.KerasEncoderWrapper'>] {}\n",
      "\u001b[2m\u001b[36m(pid=12771)\u001b[0m Loading model /home/sergei/causality-disentanglement-rl/encoder/encoders/encoder-config-ve5_nonlinear-892637fe-fde9-11ea-84c5-00155d22e64a.pb\n",
      "\u001b[2m\u001b[36m(pid=12784)\u001b[0m Make environment VectorIncrement-v0 [<class 'encoder.observation_encoder.KerasEncoderWrapper'>] {}\n",
      "\u001b[2m\u001b[36m(pid=12784)\u001b[0m Loading model /home/sergei/causality-disentanglement-rl/encoder/encoders/encoder-config-ve5_nonlinear-892637fe-fde9-11ea-84c5-00155d22e64a.pb\n",
      "\u001b[2m\u001b[36m(pid=12795)\u001b[0m Make environment VectorIncrement-v0 [<class 'encoder.observation_encoder.KerasEncoderWrapper'>] {}\n",
      "\u001b[2m\u001b[36m(pid=12795)\u001b[0m Loading model /home/sergei/causality-disentanglement-rl/encoder/encoders/encoder-config-ve5_nonlinear-892637fe-fde9-11ea-84c5-00155d22e64a.pb\n",
      "\u001b[2m\u001b[36m(pid=12789)\u001b[0m Make environment VectorIncrement-v0 [<class 'encoder.observation_encoder.KerasEncoderWrapper'>] {}\n",
      "\u001b[2m\u001b[36m(pid=12789)\u001b[0m Loading model /home/sergei/causality-disentanglement-rl/encoder/encoders/encoder-config-ve5_nonlinear-892637fe-fde9-11ea-84c5-00155d22e64a.pb\n",
      "\u001b[2m\u001b[36m(pid=12768)\u001b[0m Make environment VectorIncrement-v0 [<class 'encoder.observation_encoder.KerasEncoderWrapper'>] {}\n",
      "\u001b[2m\u001b[36m(pid=12768)\u001b[0m Loading model /home/sergei/causality-disentanglement-rl/encoder/encoders/encoder-config-ve5_nonlinear-892637fe-fde9-11ea-84c5-00155d22e64a.pb\n",
      "\u001b[2m\u001b[36m(pid=12778)\u001b[0m Make environment VectorIncrement-v0 [<class 'encoder.observation_encoder.KerasEncoderWrapper'>] {}\n",
      "\u001b[2m\u001b[36m(pid=12778)\u001b[0m Loading model /home/sergei/causality-disentanglement-rl/encoder/encoders/encoder-config-ve5_nonlinear-892637fe-fde9-11ea-84c5-00155d22e64a.pb\n",
      "\u001b[2m\u001b[36m(pid=12813)\u001b[0m Make environment VectorIncrement-v0 [<class 'encoder.observation_encoder.KerasEncoderWrapper'>] {}\n",
      "\u001b[2m\u001b[36m(pid=12813)\u001b[0m Loading model /home/sergei/causality-disentanglement-rl/encoder/encoders/encoder-config-ve5_nonlinear-892637fe-fde9-11ea-84c5-00155d22e64a.pb\n",
      "\u001b[2m\u001b[36m(pid=12798)\u001b[0m Make environment VectorIncrement-v0 [<class 'encoder.observation_encoder.KerasEncoderWrapper'>] {}\n",
      "\u001b[2m\u001b[36m(pid=12798)\u001b[0m Loading model /home/sergei/causality-disentanglement-rl/encoder/encoders/encoder-config-ve5_nonlinear-892637fe-fde9-11ea-84c5-00155d22e64a.pb\n"
     ]
    },
    {
     "name": "stderr",
     "output_type": "stream",
     "text": [
      "\u001b[2m\u001b[36m(pid=12792)\u001b[0m WARNING:tensorflow:No training configuration found in save file: the model was *not* compiled. Compile it manually.\n",
      "\u001b[2m\u001b[36m(pid=12768)\u001b[0m 2021-02-19 13:34:02.541207: I tensorflow/core/platform/profile_utils/cpu_utils.cc:94] CPU Frequency: 2494125000 Hz\n",
      "\u001b[2m\u001b[36m(pid=12768)\u001b[0m 2021-02-19 13:34:02.543818: I tensorflow/compiler/xla/service/service.cc:168] XLA service 0x5582fdb737d0 initialized for platform Host (this does not guarantee that XLA will be used). Devices:\n",
      "\u001b[2m\u001b[36m(pid=12768)\u001b[0m 2021-02-19 13:34:02.543864: I tensorflow/compiler/xla/service/service.cc:176]   StreamExecutor device (0): Host, Default Version\n",
      "\u001b[2m\u001b[36m(pid=12789)\u001b[0m WARNING:tensorflow:OMP_NUM_THREADS is no longer used by the default Keras config. To configure the number of threads, use tf.config.threading APIs.\n",
      "\u001b[2m\u001b[36m(pid=12789)\u001b[0m 2021-02-19 13:34:02.548991: I tensorflow/core/platform/cpu_feature_guard.cc:142] Your CPU supports instructions that this TensorFlow binary was not compiled to use: AVX2 FMA\n",
      "\u001b[2m\u001b[36m(pid=12784)\u001b[0m WARNING:tensorflow:No training configuration found in save file: the model was *not* compiled. Compile it manually.\n",
      "\u001b[2m\u001b[36m(pid=12778)\u001b[0m WARNING:tensorflow:OMP_NUM_THREADS is no longer used by the default Keras config. To configure the number of threads, use tf.config.threading APIs.\n",
      "\u001b[2m\u001b[36m(pid=12778)\u001b[0m 2021-02-19 13:34:02.562520: I tensorflow/core/platform/cpu_feature_guard.cc:142] Your CPU supports instructions that this TensorFlow binary was not compiled to use: AVX2 FMA\n",
      "\u001b[2m\u001b[36m(pid=12813)\u001b[0m WARNING:tensorflow:OMP_NUM_THREADS is no longer used by the default Keras config. To configure the number of threads, use tf.config.threading APIs.\n",
      "\u001b[2m\u001b[36m(pid=12813)\u001b[0m 2021-02-19 13:34:02.555128: I tensorflow/core/platform/cpu_feature_guard.cc:142] Your CPU supports instructions that this TensorFlow binary was not compiled to use: AVX2 FMA\n",
      "\u001b[2m\u001b[36m(pid=12789)\u001b[0m 2021-02-19 13:34:02.560219: I tensorflow/core/platform/profile_utils/cpu_utils.cc:94] CPU Frequency: 2494125000 Hz\n",
      "\u001b[2m\u001b[36m(pid=12789)\u001b[0m 2021-02-19 13:34:02.562826: I tensorflow/compiler/xla/service/service.cc:168] XLA service 0x55e78d38ca00 initialized for platform Host (this does not guarantee that XLA will be used). Devices:\n",
      "\u001b[2m\u001b[36m(pid=12789)\u001b[0m 2021-02-19 13:34:02.562869: I tensorflow/compiler/xla/service/service.cc:176]   StreamExecutor device (0): Host, Default Version\n",
      "\u001b[2m\u001b[36m(pid=12778)\u001b[0m 2021-02-19 13:34:02.575174: I tensorflow/core/platform/profile_utils/cpu_utils.cc:94] CPU Frequency: 2494125000 Hz\n",
      "\u001b[2m\u001b[36m(pid=12778)\u001b[0m 2021-02-19 13:34:02.578372: I tensorflow/compiler/xla/service/service.cc:168] XLA service 0x56222cb95dc0 initialized for platform Host (this does not guarantee that XLA will be used). Devices:\n",
      "\u001b[2m\u001b[36m(pid=12778)\u001b[0m 2021-02-19 13:34:02.578398: I tensorflow/compiler/xla/service/service.cc:176]   StreamExecutor device (0): Host, Default Version\n",
      "\u001b[2m\u001b[36m(pid=12813)\u001b[0m 2021-02-19 13:34:02.568526: I tensorflow/core/platform/profile_utils/cpu_utils.cc:94] CPU Frequency: 2494125000 Hz\n",
      "\u001b[2m\u001b[36m(pid=12813)\u001b[0m 2021-02-19 13:34:02.572290: I tensorflow/compiler/xla/service/service.cc:168] XLA service 0x55b1e8d13de0 initialized for platform Host (this does not guarantee that XLA will be used). Devices:\n",
      "\u001b[2m\u001b[36m(pid=12813)\u001b[0m 2021-02-19 13:34:02.572342: I tensorflow/compiler/xla/service/service.cc:176]   StreamExecutor device (0): Host, Default Version\n",
      "\u001b[2m\u001b[36m(pid=12795)\u001b[0m WARNING:tensorflow:No training configuration found in save file: the model was *not* compiled. Compile it manually.\n",
      "\u001b[2m\u001b[36m(pid=12768)\u001b[0m WARNING:tensorflow:No training configuration found in save file: the model was *not* compiled. Compile it manually.\n",
      "\u001b[2m\u001b[36m(pid=12778)\u001b[0m WARNING:tensorflow:No training configuration found in save file: the model was *not* compiled. Compile it manually.\n",
      "\u001b[2m\u001b[36m(pid=12813)\u001b[0m WARNING:tensorflow:No training configuration found in save file: the model was *not* compiled. Compile it manually.\n",
      "\u001b[2m\u001b[36m(pid=12798)\u001b[0m WARNING:tensorflow:OMP_NUM_THREADS is no longer used by the default Keras config. To configure the number of threads, use tf.config.threading APIs.\n",
      "\u001b[2m\u001b[36m(pid=12798)\u001b[0m 2021-02-19 13:34:02.625241: I tensorflow/core/platform/cpu_feature_guard.cc:142] Your CPU supports instructions that this TensorFlow binary was not compiled to use: AVX2 FMA\n",
      "\u001b[2m\u001b[36m(pid=12798)\u001b[0m 2021-02-19 13:34:02.640720: I tensorflow/core/platform/profile_utils/cpu_utils.cc:94] CPU Frequency: 2494125000 Hz\n",
      "\u001b[2m\u001b[36m(pid=12798)\u001b[0m 2021-02-19 13:34:02.644529: I tensorflow/compiler/xla/service/service.cc:168] XLA service 0x56425bd836c0 initialized for platform Host (this does not guarantee that XLA will be used). Devices:\n",
      "\u001b[2m\u001b[36m(pid=12798)\u001b[0m 2021-02-19 13:34:02.644574: I tensorflow/compiler/xla/service/service.cc:176]   StreamExecutor device (0): Host, Default Version\n",
      "\u001b[2m\u001b[36m(pid=12789)\u001b[0m WARNING:tensorflow:No training configuration found in save file: the model was *not* compiled. Compile it manually.\n",
      "\u001b[2m\u001b[36m(pid=12798)\u001b[0m WARNING:tensorflow:No training configuration found in save file: the model was *not* compiled. Compile it manually.\n"
     ]
    },
    {
     "data": {
      "application/vnd.jupyter.widget-view+json": {
       "model_id": "477d6bee4fab4348acaf866418d2d25f",
       "version_major": 2,
       "version_minor": 0
      },
      "text/plain": [
       "HBox(children=(HTML(value='Initial buffer fill'), FloatProgress(value=0.0, max=100000.0), HTML(value='')))"
      ]
     },
     "metadata": {},
     "output_type": "display_data"
    },
    {
     "name": "stderr",
     "output_type": "stream",
     "text": [
      "ERROR:root:Cannot collect data Use collect_and_get_context\n",
      "WARNING:root:No class provided for trainable reconstructor\n",
      "WARNING:root:No class provided for trainable causal_feature_model_discriminator\n",
      "WARNING:root:No class provided for trainable decoder_discriminator\n",
      "WARNING:root:No class provided for trainable non_sparse_model\n",
      "WARNING:root:No class provided for trainable causal_feature_action_model_discriminator\n"
     ]
    },
    {
     "name": "stdout",
     "output_type": "stream",
     "text": [
      "\n",
      "[26, 50, 10, 1] 10\n",
      "[20, 300, 200, 50, 1] 8\n"
     ]
    }
   ],
   "source": [
    "l = CPU_Unpickler(open(path, 'rb')).load()"
   ]
  },
  {
   "cell_type": "code",
   "execution_count": 62,
   "id": "awful-romania",
   "metadata": {},
   "outputs": [],
   "source": [
    "ctx = l.collect_and_get_context()"
   ]
  },
  {
   "cell_type": "code",
   "execution_count": 63,
   "id": "raising-morgan",
   "metadata": {},
   "outputs": [],
   "source": [
    "value_pred = l.value_predictor(l.decoder(ctx['obs_x'])).flatten().detach().cpu().numpy()"
   ]
  },
  {
   "cell_type": "code",
   "execution_count": 64,
   "id": "proud-state",
   "metadata": {},
   "outputs": [],
   "source": [
    "value_true = ctx['reward_to_go'].flatten().detach().cpu().numpy()"
   ]
  },
  {
   "cell_type": "code",
   "execution_count": 65,
   "id": "clinical-fantasy",
   "metadata": {},
   "outputs": [
    {
     "data": {
      "text/plain": [
       "<matplotlib.collections.PathCollection at 0x7fa3b9134c90>"
      ]
     },
     "execution_count": 65,
     "metadata": {},
     "output_type": "execute_result"
    },
    {
     "data": {
      "image/png": "[encoded data removed]",
      "text/plain": [
       "<Figure size 432x288 with 1 Axes>"
      ]
     },
     "metadata": {
      "needs_background": "light"
     },
     "output_type": "display_data"
    }
   ],
   "source": [
    "plt.scatter(value_pred, value_true)"
   ]
  },
  {
   "cell_type": "code",
   "execution_count": 66,
   "id": "beneficial-representation",
   "metadata": {},
   "outputs": [
    {
     "data": {
      "text/plain": [
       "0.08662659"
      ]
     },
     "execution_count": 66,
     "metadata": {},
     "output_type": "execute_result"
    }
   ],
   "source": [
    "np.mean(np.power(value_pred - value_true, 2))"
   ]
  },
  {
   "cell_type": "code",
   "execution_count": 59,
   "id": "weighted-county",
   "metadata": {},
   "outputs": [
    {
     "data": {
      "text/plain": [
       "0.020434478"
      ]
     },
     "execution_count": 59,
     "metadata": {},
     "output_type": "execute_result"
    }
   ],
   "source": [
    "np.mean(value_true)"
   ]
  },
  {
   "cell_type": "code",
   "execution_count": null,
   "id": "missing-position",
   "metadata": {},
   "outputs": [],
   "source": []
  }
 ],
 "metadata": {
  "kernelspec": {
   "display_name": "Python 3",
   "language": "python",
   "name": "python3"
  },
  "language_info": {
   "codemirror_mode": {
    "name": "ipython",
    "version": 3
   },
   "file_extension": ".py",
   "mimetype": "text/x-python",
   "name": "python",
   "nbconvert_exporter": "python",
   "pygments_lexer": "ipython3",
   "version": "3.7.9"
  }
 },
 "nbformat": 4,
 "nbformat_minor": 5
}
