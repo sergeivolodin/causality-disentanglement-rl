{
 "cells": [
  {
   "cell_type": "code",
   "execution_count": 1,
   "metadata": {},
   "outputs": [],
   "source": [
    "import numpy as np\n",
    "from matplotlib import pyplot as plt"
   ]
  },
  {
   "cell_type": "code",
   "execution_count": 103,
   "metadata": {},
   "outputs": [],
   "source": [
    "class GridWorld(object):\n",
    "    \"\"\"Grid World.\"\"\"\n",
    "    def __init__(self, shape, keys=3, chests=5):\n",
    "        self.map = np.full(shape, \" \")\n",
    "        r, c = shape\n",
    "        self.map[:, 0] = '#'\n",
    "        self.map[:, -1] = '#'\n",
    "        self.map[0, :] = '#'\n",
    "        self.map[-1, :] = '#'\n",
    "        \n",
    "        player = (np.random.randint(1, r - 1),\n",
    "                  np.random.randint(1, c - 1))\n",
    "        \n",
    "        self.map[player] = 'P'\n",
    "        \n",
    "    def locate(self, c):\n",
    "        p = list(zip(*np.where(self.map == 'P')))\n",
    "        assert len(p) == 1\n",
    "        return p[0]\n",
    "\n",
    "    def act(self, action):\n",
    "        actions = {0: (0, 1), 1: (1, 0), 2: (0, -1), 3: (-1, 0)}\n",
    "        a = actions[action]\n",
    "        x, y = self.locate('P')\n",
    "        x_old, y_old = x, y\n",
    "        x += a[0]\n",
    "        y += a[1]\n",
    "        if x > 0 and y > 0 and x < self.map.shape[0] - 1 and y < self.map.shape[1] - 1:\n",
    "            self.map[x_old, y_old] = ' '\n",
    "            self.map[x, y] = 'P'\n",
    "        \n",
    "    def __repr__(self):\n",
    "        return str('\\n'.join([''.join(x) for x in self.map]))"
   ]
  },
  {
   "cell_type": "code",
   "execution_count": 104,
   "metadata": {},
   "outputs": [
    {
     "data": {
      "text/plain": [
       "##########\n",
       "#        #\n",
       "#        #\n",
       "#        #\n",
       "#        #\n",
       "# P      #\n",
       "#        #\n",
       "#        #\n",
       "#        #\n",
       "##########"
      ]
     },
     "execution_count": 104,
     "metadata": {},
     "output_type": "execute_result"
    }
   ],
   "source": [
    "gw = GridWorld(shape=(10, 10))\n",
    "gw"
   ]
  },
  {
   "cell_type": "code",
   "execution_count": 105,
   "metadata": {},
   "outputs": [
    {
     "data": {
      "text/plain": [
       "(5, 2)"
      ]
     },
     "execution_count": 105,
     "metadata": {},
     "output_type": "execute_result"
    }
   ],
   "source": [
    "gw.locate('P')"
   ]
  },
  {
   "cell_type": "code",
   "execution_count": 116,
   "metadata": {},
   "outputs": [],
   "source": [
    "gw.act(3)"
   ]
  },
  {
   "cell_type": "code",
   "execution_count": 117,
   "metadata": {},
   "outputs": [
    {
     "data": {
      "text/plain": [
       "##########\n",
       "# P      #\n",
       "#        #\n",
       "#        #\n",
       "#        #\n",
       "#        #\n",
       "#        #\n",
       "#        #\n",
       "#        #\n",
       "##########"
      ]
     },
     "execution_count": 117,
     "metadata": {},
     "output_type": "execute_result"
    }
   ],
   "source": [
    "gw"
   ]
  },
  {
   "cell_type": "code",
   "execution_count": null,
   "metadata": {},
   "outputs": [],
   "source": []
  }
 ],
 "metadata": {
  "kernelspec": {
   "display_name": "Python 3",
   "language": "python",
   "name": "python3"
  },
  "language_info": {
   "codemirror_mode": {
    "name": "ipython",
    "version": 3
   },
   "file_extension": ".py",
   "mimetype": "text/x-python",
   "name": "python",
   "nbconvert_exporter": "python",
   "pygments_lexer": "ipython3",
   "version": "3.7.7"
  }
 },
 "nbformat": 4,
 "nbformat_minor": 4
}
