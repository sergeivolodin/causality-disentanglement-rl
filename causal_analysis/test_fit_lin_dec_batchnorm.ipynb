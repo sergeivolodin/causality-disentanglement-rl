{
 "cells": [
  {
   "cell_type": "code",
   "execution_count": 1,
   "metadata": {},
   "outputs": [],
   "source": [
    "import torch\n",
    "import numpy as np\n",
    "import cloudpickle as pickle\n",
    "import os\n",
    "from tqdm.auto import tqdm\n",
    "import seaborn as sns\n",
    "os.environ['CUDA_VISIBLE_DEVICES'] = \"-1\""
   ]
  },
  {
   "cell_type": "code",
   "execution_count": 2,
   "metadata": {},
   "outputs": [],
   "source": [
    "ck = '/home/sergei/ray_results/ve5_vf_poc/main_fcn_ff884_00000_0_2020-12-07_01-41-52/checkpoint_10000/checkpoint'"
   ]
  },
  {
   "cell_type": "code",
   "execution_count": 3,
   "metadata": {},
   "outputs": [
    {
     "name": "stdout",
     "output_type": "stream",
     "text": [
      "Make environment VectorIncrement-v0 None {}\n",
      "Using device cpu\n"
     ]
    }
   ],
   "source": [
    "learner = pickle.load(open(ck, 'rb'))"
   ]
  },
  {
   "cell_type": "code",
   "execution_count": 4,
   "metadata": {},
   "outputs": [],
   "source": [
    "#for i in tqdm(range(1000)):\n",
    "#    _ = learner._epoch()"
   ]
  },
  {
   "cell_type": "code",
   "execution_count": 5,
   "metadata": {},
   "outputs": [
    {
     "data": {
      "image/png": "[encoded data removed]",
      "text/plain": [
       "<Figure size 720x360 with 4 Axes>"
      ]
     },
     "metadata": {},
     "output_type": "display_data"
    }
   ],
   "source": [
    "_ = learner.visualize_model()"
   ]
  },
  {
   "cell_type": "code",
   "execution_count": 15,
   "metadata": {},
   "outputs": [],
   "source": [
    "learner.collect_steps()"
   ]
  },
  {
   "cell_type": "code",
   "execution_count": 16,
   "metadata": {},
   "outputs": [],
   "source": [
    "ctx = learner._context"
   ]
  },
  {
   "cell_type": "code",
   "execution_count": 34,
   "metadata": {},
   "outputs": [
    {
     "data": {
      "text/plain": [
       "tensor(1.9441e-08, grad_fn=<MeanBackward0>)"
      ]
     },
     "execution_count": 34,
     "metadata": {},
     "output_type": "execute_result"
    }
   ],
   "source": [
    "mse(learner.decoder(ctx['obs_x']), learner.decoder(ctx['obs_y']))"
   ]
  },
  {
   "cell_type": "code",
   "execution_count": null,
   "metadata": {},
   "outputs": [],
   "source": []
  },
  {
   "cell_type": "code",
   "execution_count": null,
   "metadata": {},
   "outputs": [],
   "source": []
  },
  {
   "cell_type": "code",
   "execution_count": null,
   "metadata": {},
   "outputs": [],
   "source": []
  },
  {
   "cell_type": "code",
   "execution_count": null,
   "metadata": {},
   "outputs": [],
   "source": []
  },
  {
   "cell_type": "code",
   "execution_count": 10,
   "metadata": {},
   "outputs": [
    {
     "name": "stdout",
     "output_type": "stream",
     "text": [
      "Make environment VectorIncrement-v0 None {}\n",
      "Using device cpu\n"
     ]
    }
   ],
   "source": [
    "# obtaining data\n",
    "learner = pickle.load(open(ck, 'rb'))\n",
    "mse = torch.nn.MSELoss()"
   ]
  },
  {
   "cell_type": "code",
   "execution_count": 11,
   "metadata": {},
   "outputs": [],
   "source": [
    "opt = torch.optim.Adam(learner.model.parameters(), lr=1e-2)"
   ]
  },
  {
   "cell_type": "code",
   "execution_count": 312,
   "metadata": {},
   "outputs": [],
   "source": [
    "learner.collect_steps()"
   ]
  },
  {
   "cell_type": "code",
   "execution_count": 315,
   "metadata": {},
   "outputs": [
    {
     "data": {
      "application/vnd.jupyter.widget-view+json": {
       "model_id": "c927f628554b4d4687639a1dccbd2839",
       "version_major": 2,
       "version_minor": 0
      },
      "text/plain": [
       "HBox(children=(HTML(value=''), FloatProgress(value=0.0, max=1000.0), HTML(value='')))"
      ]
     },
     "metadata": {},
     "output_type": "display_data"
    },
    {
     "name": "stdout",
     "output_type": "stream",
     "text": [
      "\n"
     ]
    },
    {
     "data": {
      "text/plain": [
       "tensor(2.8061e-07, grad_fn=<PowBackward0>)"
      ]
     },
     "execution_count": 315,
     "metadata": {},
     "output_type": "execute_result"
    }
   ],
   "source": [
    "c = learner._context\n",
    "\n",
    "\n",
    "for _ in tqdm(range(1000)):\n",
    "#     learner.collect_steps()\n",
    "    opt.zero_grad()\n",
    "    loss = learner.config.get('losses')['fit']['fcn'](**c) ** 2\n",
    "#     loss = mse(learner.model(c['obs_x'], c['action_x']), c['obs_y'])\n",
    "#     loss = mse(learner.model(learner.decoder(c['obs_x']), c['action_x']), learner.decoder(c['obs_y']))\n",
    "    loss.backward()\n",
    "    opt.step()\n",
    "loss ** 0.5"
   ]
  },
  {
   "cell_type": "code",
   "execution_count": 296,
   "metadata": {},
   "outputs": [
    {
     "name": "stdout",
     "output_type": "stream",
     "text": [
      "tensor(2.6059e-07, grad_fn=<PowBackward0>)\n",
      "tensor(2.6059e-07, grad_fn=<PowBackward0>)\n"
     ]
    }
   ],
   "source": [
    "learner.collect_steps()\n",
    "c = learner._context\n",
    "print(mse(learner.model(c['obs_x'], c['action_x']), c['obs_y']) ** 0.5)\n",
    "print(learner.config.get('losses')['fit']['fcn'](**c))"
   ]
  },
  {
   "cell_type": "code",
   "execution_count": 50,
   "metadata": {},
   "outputs": [
    {
     "name": "stderr",
     "output_type": "stream",
     "text": [
      "/home/sergei/miniconda3/envs/causal/lib/python3.7/site-packages/ipykernel_launcher.py:1: UserWarning: To copy construct from a tensor, it is recommended to use sourceTensor.clone().detach() or sourceTensor.clone().detach().requires_grad_(True), rather than torch.tensor(sourceTensor).\n",
      "  \"\"\"Entry point for launching an IPython kernel.\n"
     ]
    }
   ],
   "source": [
    "Do = torch.tensor(torch.randn(1000, 10), requires_grad=True)"
   ]
  },
  {
   "cell_type": "code",
   "execution_count": 54,
   "metadata": {},
   "outputs": [
    {
     "data": {
      "text/plain": [
       "tensor([[ 1.0000e+00, -3.4925e-08, -1.6438e-07,  2.9634e-07, -3.8184e-08,\n",
       "          4.8429e-08, -3.2596e-09, -8.4867e-08,  1.4121e-07,  1.2713e-07],\n",
       "        [-1.1711e-07,  1.0000e+00, -2.7474e-08, -6.5658e-08, -7.5437e-08,\n",
       "          1.9558e-07, -4.9360e-08,  1.1548e-07, -8.3703e-08, -1.8720e-07],\n",
       "        [ 3.5390e-08, -5.3085e-08,  1.0000e+00, -5.3085e-08,  8.9873e-08,\n",
       "          8.7311e-08,  4.8894e-09,  7.6485e-08, -5.2154e-08,  1.4529e-07],\n",
       "        [ 2.6030e-07,  5.3551e-08, -1.5274e-07,  1.0000e+00, -7.8231e-08,\n",
       "         -1.3411e-07, -2.5472e-07, -1.4901e-07,  9.3132e-09,  1.5879e-07],\n",
       "        [-9.7789e-08,  8.8476e-08,  6.2399e-08,  2.4214e-08,  1.0000e+00,\n",
       "         -1.3039e-08,  2.4633e-07,  5.5414e-08, -1.4855e-07,  1.5087e-07],\n",
       "        [-4.1910e-08,  5.9139e-08,  5.0990e-08,  3.0361e-07,  9.5926e-08,\n",
       "          1.0000e+00,  1.5832e-08, -3.7253e-09, -4.7730e-09, -4.1269e-08],\n",
       "        [ 2.5146e-08,  1.4435e-07,  5.7538e-08, -1.1642e-07,  1.3900e-07,\n",
       "         -1.7695e-07,  1.0000e+00, -1.5832e-07, -2.0489e-08,  6.7055e-08],\n",
       "        [-1.2282e-08, -1.1921e-07,  6.6124e-08, -1.3097e-09,  2.1281e-07,\n",
       "          6.6124e-08, -2.6729e-07,  1.0000e+00,  2.0489e-08,  1.4901e-08],\n",
       "        [ 2.5192e-07, -3.6322e-08, -1.4156e-07,  8.0094e-08, -4.4703e-08,\n",
       "         -2.2235e-08,  4.1910e-09,  9.8720e-08,  1.0000e+00,  9.7556e-08],\n",
       "        [ 1.7788e-07, -1.9930e-07,  5.0291e-08,  7.8231e-08,  1.1176e-08,\n",
       "         -7.9977e-08,  3.3528e-08, -1.1921e-07,  3.2596e-08,  1.0000e+00]],\n",
       "       grad_fn=<MmBackward>)"
      ]
     },
     "execution_count": 54,
     "metadata": {},
     "output_type": "execute_result"
    }
   ],
   "source": [
    "torch.pinverse(Do.T @ Do) @ (Do).T @ Do"
   ]
  },
  {
   "cell_type": "code",
   "execution_count": 35,
   "metadata": {},
   "outputs": [
    {
     "data": {
      "text/plain": [
       "LinearModel(\n",
       "  (fc_features): Linear(in_features=5, out_features=5, bias=False)\n",
       "  (fc_action): Linear(in_features=5, out_features=5, bias=False)\n",
       ")"
      ]
     },
     "execution_count": 35,
     "metadata": {},
     "output_type": "execute_result"
    }
   ],
   "source": [
    "learner.model"
   ]
  },
  {
   "cell_type": "code",
   "execution_count": 274,
   "metadata": {},
   "outputs": [
    {
     "data": {
      "text/plain": [
       "<function sparse_causal_model_learner_rl.loss.losses.fit_loss(obs_x, obs_y, action_x, decoder, model, **kwargs)>"
      ]
     },
     "execution_count": 274,
     "metadata": {},
     "output_type": "execute_result"
    }
   ],
   "source": [
    "learner.config.get('losses')['fit']['fcn']"
   ]
  },
  {
   "cell_type": "code",
   "execution_count": 217,
   "metadata": {},
   "outputs": [],
   "source": [
    "cx = c['obs_x'] / 0.2\n",
    "cy = c['obs_y'] / 0.2\n",
    "ax = c['action_x']"
   ]
  },
  {
   "cell_type": "code",
   "execution_count": 8,
   "metadata": {},
   "outputs": [
    {
     "ename": "RuntimeError",
     "evalue": "operation does not have an identity.",
     "output_type": "error",
     "traceback": [
      "\u001b[0;31m---------------------------------------------------------------------------\u001b[0m",
      "\u001b[0;31mRuntimeError\u001b[0m                              Traceback (most recent call last)",
      "\u001b[0;32m<ipython-input-8-24b4e8d7e4e7>\u001b[0m in \u001b[0;36m<module>\u001b[0;34m\u001b[0m\n\u001b[0;32m----> 1\u001b[0;31m \u001b[0mtorch\u001b[0m\u001b[0;34m.\u001b[0m\u001b[0mmax\u001b[0m\u001b[0;34m(\u001b[0m\u001b[0mtorch\u001b[0m\u001b[0;34m.\u001b[0m\u001b[0mabs\u001b[0m\u001b[0;34m(\u001b[0m\u001b[0mcx\u001b[0m \u001b[0;34m+\u001b[0m \u001b[0max\u001b[0m \u001b[0;34m-\u001b[0m \u001b[0mcy\u001b[0m\u001b[0;34m)\u001b[0m\u001b[0;34m)\u001b[0m\u001b[0;34m\u001b[0m\u001b[0m\n\u001b[0m",
      "\u001b[0;31mRuntimeError\u001b[0m: operation does not have an identity."
     ]
    }
   ],
   "source": [
    "torch.max(torch.abs(cx + ax - cy))"
   ]
  },
  {
   "cell_type": "code",
   "execution_count": 49,
   "metadata": {},
   "outputs": [
    {
     "data": {
      "text/plain": [
       "<All keys matched successfully>"
      ]
     },
     "execution_count": 49,
     "metadata": {},
     "output_type": "execute_result"
    }
   ],
   "source": [
    "learner.model.load_state_dict(dict(learner.model.state_dict()))"
   ]
  },
  {
   "cell_type": "code",
   "execution_count": 71,
   "metadata": {},
   "outputs": [],
   "source": []
  },
  {
   "cell_type": "code",
   "execution_count": 67,
   "metadata": {},
   "outputs": [
    {
     "data": {
      "text/plain": [
       "<All keys matched successfully>"
      ]
     },
     "execution_count": 67,
     "metadata": {},
     "output_type": "execute_result"
    }
   ],
   "source": [
    "learner.model.load_state_dict({'fc_features.weight': torch.eye(5), 'fc_action.weight': torch.eye(5) * 0.2})"
   ]
  },
  {
   "cell_type": "code",
   "execution_count": 68,
   "metadata": {},
   "outputs": [
    {
     "data": {
      "text/plain": [
       "tensor(1.8545e-08, grad_fn=<PowBackward0>)"
      ]
     },
     "execution_count": 68,
     "metadata": {},
     "output_type": "execute_result"
    }
   ],
   "source": []
  },
  {
   "cell_type": "code",
   "execution_count": 316,
   "metadata": {},
   "outputs": [
    {
     "data": {
      "text/plain": [
       "OrderedDict([('fc_features.weight',\n",
       "              tensor([[ 1.0000e+00, -3.7326e-09, -4.1756e-09, -5.3866e-09, -1.4141e-08],\n",
       "                      [ 1.3583e-07,  1.0000e+00,  3.6559e-07,  2.5611e-07,  2.7303e-07],\n",
       "                      [ 2.9464e-07,  1.9827e-07,  1.0000e+00,  1.0768e-07,  6.8592e-08],\n",
       "                      [ 2.0703e-07,  1.5340e-07,  8.6079e-08,  1.0000e+00,  3.2113e-07],\n",
       "                      [-2.0347e-09,  7.7265e-09,  7.9805e-09,  1.7971e-08,  1.0000e+00]])),\n",
       "             ('fc_action.weight',\n",
       "              tensor([[ 2.0000e-01, -8.0575e-09,  5.1624e-09,  5.1784e-09,  3.6488e-09],\n",
       "                      [ 9.0417e-08,  2.0000e-01,  1.7785e-07,  1.5113e-07,  1.1244e-07],\n",
       "                      [ 1.5305e-07,  1.1921e-07,  2.0000e-01,  1.0467e-07,  1.3423e-07],\n",
       "                      [ 1.7660e-07,  1.7317e-07,  1.7141e-07,  2.0000e-01,  1.7802e-07],\n",
       "                      [ 9.0525e-09,  7.7374e-09,  9.5596e-09,  1.2344e-08,  2.0000e-01]]))])"
      ]
     },
     "execution_count": 316,
     "metadata": {},
     "output_type": "execute_result"
    }
   ],
   "source": [
    "learner.model.state_dict()"
   ]
  },
  {
   "cell_type": "code",
   "execution_count": 322,
   "metadata": {},
   "outputs": [
    {
     "data": {
      "text/plain": [
       "[Parameter containing:\n",
       " tensor([[ 1.0000e+00, -3.7326e-09, -4.1756e-09, -5.3866e-09, -1.4141e-08],\n",
       "         [ 1.3583e-07,  1.0000e+00,  3.6559e-07,  2.5611e-07,  2.7303e-07],\n",
       "         [ 2.9464e-07,  1.9827e-07,  1.0000e+00,  1.0768e-07,  6.8592e-08],\n",
       "         [ 2.0703e-07,  1.5340e-07,  8.6079e-08,  1.0000e+00,  3.2113e-07],\n",
       "         [-2.0347e-09,  7.7265e-09,  7.9805e-09,  1.7971e-08,  1.0000e+00]],\n",
       "        requires_grad=True),\n",
       " Parameter containing:\n",
       " tensor([[ 2.0000e-01, -8.0575e-09,  5.1624e-09,  5.1784e-09,  3.6488e-09],\n",
       "         [ 9.0417e-08,  2.0000e-01,  1.7785e-07,  1.5113e-07,  1.1244e-07],\n",
       "         [ 1.5305e-07,  1.1921e-07,  2.0000e-01,  1.0467e-07,  1.3423e-07],\n",
       "         [ 1.7660e-07,  1.7317e-07,  1.7141e-07,  2.0000e-01,  1.7802e-07],\n",
       "         [ 9.0525e-09,  7.7374e-09,  9.5596e-09,  1.2344e-08,  2.0000e-01]],\n",
       "        requires_grad=True)]"
      ]
     },
     "execution_count": 322,
     "metadata": {},
     "output_type": "execute_result"
    }
   ],
   "source": [
    "list(learner.model.parameters())"
   ]
  },
  {
   "cell_type": "code",
   "execution_count": 326,
   "metadata": {},
   "outputs": [
    {
     "data": {
      "text/plain": [
       "[('fc_features.weight',\n",
       "  Parameter containing:\n",
       "  tensor([[ 1.0000e+00, -3.7326e-09, -4.1756e-09, -5.3866e-09, -1.4141e-08],\n",
       "          [ 1.3583e-07,  1.0000e+00,  3.6559e-07,  2.5611e-07,  2.7303e-07],\n",
       "          [ 2.9464e-07,  1.9827e-07,  1.0000e+00,  1.0768e-07,  6.8592e-08],\n",
       "          [ 2.0703e-07,  1.5340e-07,  8.6079e-08,  1.0000e+00,  3.2113e-07],\n",
       "          [-2.0347e-09,  7.7265e-09,  7.9805e-09,  1.7971e-08,  1.0000e+00]],\n",
       "         requires_grad=True)),\n",
       " ('fc_action.weight',\n",
       "  Parameter containing:\n",
       "  tensor([[ 2.0000e-01, -8.0575e-09,  5.1624e-09,  5.1784e-09,  3.6488e-09],\n",
       "          [ 9.0417e-08,  2.0000e-01,  1.7785e-07,  1.5113e-07,  1.1244e-07],\n",
       "          [ 1.5305e-07,  1.1921e-07,  2.0000e-01,  1.0467e-07,  1.3423e-07],\n",
       "          [ 1.7660e-07,  1.7317e-07,  1.7141e-07,  2.0000e-01,  1.7802e-07],\n",
       "          [ 9.0525e-09,  7.7374e-09,  9.5596e-09,  1.2344e-08,  2.0000e-01]],\n",
       "         requires_grad=True))]"
      ]
     },
     "execution_count": 326,
     "metadata": {},
     "output_type": "execute_result"
    }
   ],
   "source": [
    "list(learner.model.named_parameters())"
   ]
  },
  {
   "cell_type": "code",
   "execution_count": 61,
   "metadata": {},
   "outputs": [
    {
     "data": {
      "text/plain": [
       "torch.Size([5, 3])"
      ]
     },
     "execution_count": 61,
     "metadata": {},
     "output_type": "execute_result"
    }
   ],
   "source": [
    "torch.nn.Linear(in_features=3, out_features=5).state_dict()['weight'].shape"
   ]
  },
  {
   "cell_type": "code",
   "execution_count": 63,
   "metadata": {},
   "outputs": [
    {
     "data": {
      "text/plain": [
       "tensor([[-0.3789,  0.0921, -0.1206,  0.2690,  1.7115],\n",
       "        [-0.7376, -1.1965, -1.3807,  1.6424, -0.3635],\n",
       "        [-0.6159, -0.4537, -0.4831,  1.5799, -0.4101]], dtype=torch.float64)"
      ]
     },
     "execution_count": 63,
     "metadata": {},
     "output_type": "execute_result"
    }
   ],
   "source": [
    "torch.tensor(np.random.randn(5, 3)).T"
   ]
  },
  {
   "cell_type": "code",
   "execution_count": 65,
   "metadata": {},
   "outputs": [],
   "source": [
    "X = torch.from_numpy(np.random.randn(1000, 10))"
   ]
  },
  {
   "cell_type": "code",
   "execution_count": 67,
   "metadata": {},
   "outputs": [
    {
     "data": {
      "text/plain": [
       "tensor(1.1059e-17, dtype=torch.float64)"
      ]
     },
     "execution_count": 67,
     "metadata": {},
     "output_type": "execute_result"
    }
   ],
   "source": [
    "torch.max(torch.abs(torch.pinverse(X.T @ X) @ X.T - torch.pinverse(X)))"
   ]
  },
  {
   "cell_type": "code",
   "execution_count": null,
   "metadata": {},
   "outputs": [],
   "source": []
  }
 ],
 "metadata": {
  "kernelspec": {
   "display_name": "Python 3",
   "language": "python",
   "name": "python3"
  },
  "language_info": {
   "codemirror_mode": {
    "name": "ipython",
    "version": 3
   },
   "file_extension": ".py",
   "mimetype": "text/x-python",
   "name": "python",
   "nbconvert_exporter": "python",
   "pygments_lexer": "ipython3",
   "version": "3.7.0"
  }
 },
 "nbformat": 4,
 "nbformat_minor": 4
}
