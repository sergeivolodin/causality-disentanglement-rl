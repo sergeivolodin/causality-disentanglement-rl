{
 "cells": [
  {
   "cell_type": "code",
   "execution_count": 1,
   "metadata": {},
   "outputs": [
    {
     "name": "stdout",
     "output_type": "stream",
     "text": [
      "Total runs: 160 on 24 CPUs\n"
     ]
    }
   ],
   "source": [
    "# the fcn has to be in a helper file,\n",
    "# on Windows multiprocessing is tricky\n",
    "from sacred_search_helper import *\n",
    "import multiprocessing"
   ]
  },
  {
   "cell_type": "code",
   "execution_count": 2,
   "metadata": {},
   "outputs": [
    {
     "name": "stdout",
     "output_type": "stream",
     "text": [
      "Total runs: 160 on 24 CPUs\n",
      "Approximate time: 20 hours\n"
     ]
    }
   ],
   "source": [
    "print(\"Total runs: %d on %d CPUs\" % (len(all_params), n_cpus))\n",
    "one_time_h = 3\n",
    "print(\"Approximate time: %d hours\" % (len(all_params) * one_time_h / n_cpus))"
   ]
  },
  {
   "cell_type": "code",
   "execution_count": null,
   "metadata": {},
   "outputs": [
    {
     "name": "stdout",
     "output_type": "stream",
     "text": [
      "024681012141816   202232 2426 28343038 46364042   44 {'v_n': 2, 'v_seed': 43, 'repetitions': 0, 'v_k': 2}{'v_n': 2, 'v_seed': 43, 'repetitions': 4, 'v_k': 2} {'v_n': 2, 'v_seed': 43, 'repetitions': 2, 'v_k': 2} {'v_n': 2, 'v_seed': 43, 'repetitions': 6, 'v_k': 2} {'v_n': 2, 'v_seed': 43, 'repetitions': 8, 'v_k': 2}      {'v_n': 2, 'v_seed': 42, 'repetitions': 0, 'v_k': 2}    {'v_n': 2, 'v_seed': 42, 'repetitions': 2, 'v_k': 2}{'v_n': 2, 'v_seed': 42, 'repetitions': 8, 'v_k': 2}{'v_n': 2, 'v_seed': 42, 'repetitions': 4, 'v_k': 2}{'v_n': 2, 'v_seed': 42, 'repetitions': 6, 'v_k': 2}\n",
      "{'v_n': 2, 'v_seed': 1, 'repetitions': 0, 'v_k': 2}\n",
      "\n",
      "{'v_n': 2, 'v_seed': 5, 'repetitions': 2, 'v_k': 2} \n",
      "{'v_n': 2, 'v_seed': 1, 'repetitions': 4, 'v_k': 2}\n",
      "{'v_n': 2, 'v_seed': 1, 'repetitions': 8, 'v_k': 2}{'v_n': 2, 'v_seed': 5, 'repetitions': 8, 'v_k': 2}{'v_n': 2, 'v_seed': 5, 'repetitions': 0, 'v_k': 2}{'v_n': 2, 'v_seed': 5, 'repetitions': 4, 'v_k': 2}{'v_n': 2, 'v_seed': 1, 'repetitions': 6, 'v_k': 2}\n",
      "{'v_n': 3, 'v_seed': 43, 'repetitions': 6, 'v_k': 3}{'v_n': 2, 'v_seed': 1, 'repetitions': 2, 'v_k': 2}{'v_n': 3, 'v_seed': 43, 'repetitions': 2, 'v_k': 3}{'v_n': 2, 'v_seed': 5, 'repetitions': 6, 'v_k': 2}{'v_n': 3, 'v_seed': 43, 'repetitions': 0, 'v_k': 3}\n",
      "\n",
      "\n",
      "python sacred_sparse_reinforce.py --force with 'v_n=2' 'v_seed=43' 'repetitions=0' 'v_k=2'\n",
      "python sacred_sparse_reinforce.py --force with 'v_n=2' 'v_seed=43' 'repetitions=4' 'v_k=2'python sacred_sparse_reinforce.py --force with 'v_n=2' 'v_seed=43' 'repetitions=2' 'v_k=2'{'v_n': 3, 'v_seed': 43, 'repetitions': 4, 'v_k': 3}\n",
      "python sacred_sparse_reinforce.py --force with 'v_n=2' 'v_seed=43' 'repetitions=8' 'v_k=2'python sacred_sparse_reinforce.py --force with 'v_n=2' 'v_seed=43' 'repetitions=6' 'v_k=2'\n",
      "\n",
      "\n",
      "\n",
      "\n",
      "\n",
      "\n",
      "\n",
      "\n",
      "python sacred_sparse_reinforce.py --force with 'v_n=2' 'v_seed=42' 'repetitions=0' 'v_k=2'\n",
      "\n",
      "python sacred_sparse_reinforce.py --force with 'v_n=2' 'v_seed=42' 'repetitions=4' 'v_k=2'\n",
      "python sacred_sparse_reinforce.py --force with 'v_n=2' 'v_seed=42' 'repetitions=6' 'v_k=2'\n",
      "python sacred_sparse_reinforce.py --force with 'v_n=2' 'v_seed=42' 'repetitions=8' 'v_k=2'\n",
      "python sacred_sparse_reinforce.py --force with 'v_n=2' 'v_seed=42' 'repetitions=2' 'v_k=2'\n",
      "\n",
      "\n",
      "python sacred_sparse_reinforce.py --force with 'v_n=2' 'v_seed=1' 'repetitions=0' 'v_k=2'\n",
      "python sacred_sparse_reinforce.py --force with 'v_n=2' 'v_seed=5' 'repetitions=2' 'v_k=2'python sacred_sparse_reinforce.py --force with 'v_n=2' 'v_seed=1' 'repetitions=4' 'v_k=2'python sacred_sparse_reinforce.py --force with 'v_n=2' 'v_seed=1' 'repetitions=8' 'v_k=2'python sacred_sparse_reinforce.py --force with 'v_n=2' 'v_seed=1' 'repetitions=6' 'v_k=2'python sacred_sparse_reinforce.py --force with 'v_n=2' 'v_seed=5' 'repetitions=8' 'v_k=2'python sacred_sparse_reinforce.py --force with 'v_n=2' 'v_seed=5' 'repetitions=0' 'v_k=2'python sacred_sparse_reinforce.py --force with 'v_n=2' 'v_seed=1' 'repetitions=2' 'v_k=2'python sacred_sparse_reinforce.py --force with 'v_n=3' 'v_seed=43' 'repetitions=6' 'v_k=3'python sacred_sparse_reinforce.py --force with 'v_n=2' 'v_seed=5' 'repetitions=6' 'v_k=2'python sacred_sparse_reinforce.py --force with 'v_n=2' 'v_seed=5' 'repetitions=4' 'v_k=2'\n",
      "python sacred_sparse_reinforce.py --force with 'v_n=3' 'v_seed=43' 'repetitions=0' 'v_k=3'python sacred_sparse_reinforce.py --force with 'v_n=3' 'v_seed=43' 'repetitions=2' 'v_k=3'\n",
      "\n",
      "\n",
      "\n",
      "python sacred_sparse_reinforce.py --force with 'v_n=3' 'v_seed=43' 'repetitions=4' 'v_k=3'\n",
      "\n",
      "\n",
      "\n",
      "\n",
      "\n",
      "\n",
      "\n",
      "\n",
      "\n",
      "\n",
      "\n",
      "\n",
      "\n"
     ]
    }
   ],
   "source": [
    "# RUNNING the experiment\n",
    "\n",
    "pool = multiprocessing.Pool(n_cpus)\n",
    "results = pool.map(process_i, range(len(all_params)))"
   ]
  },
  {
   "cell_type": "code",
   "execution_count": 2,
   "metadata": {},
   "outputs": [
    {
     "name": "stdout",
     "output_type": "stream",
     "text": [
      "Total runs: 160 on 24 CPUs\n",
      "Approximate time: 20 hours\n"
     ]
    }
   ],
   "source": []
  },
  {
   "cell_type": "code",
   "execution_count": null,
   "metadata": {},
   "outputs": [],
   "source": []
  }
 ],
 "metadata": {
  "kernelspec": {
   "display_name": "Python 3",
   "language": "python",
   "name": "python3"
  },
  "language_info": {
   "codemirror_mode": {
    "name": "ipython",
    "version": 3
   },
   "file_extension": ".py",
   "mimetype": "text/x-python",
   "name": "python",
   "nbconvert_exporter": "python",
   "pygments_lexer": "ipython3",
   "version": "3.7.6"
  }
 },
 "nbformat": 4,
 "nbformat_minor": 4
}
