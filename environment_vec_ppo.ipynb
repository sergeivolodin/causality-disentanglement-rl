{
 "cells": [
  {
   "cell_type": "code",
   "execution_count": 2,
   "metadata": {},
   "outputs": [],
   "source": [
    "import os\n",
    "os.environ[\"CUDA_VISIBLE_DEVICES\"]=\"1\"\n",
    "os.environ[\"TF_FORCE_GPU_ALLOW_GROWTH\"]=\"true\""
   ]
  },
  {
   "cell_type": "code",
   "execution_count": 3,
   "metadata": {},
   "outputs": [],
   "source": [
    "import numpy as np\n",
    "from matplotlib import pyplot as plt\n",
    "import tensorflow as tf\n",
    "from tqdm import tqdm\n",
    "tf.compat.v1.enable_v2_behavior()\n",
    "\n",
    "from sklearn.decomposition import PCA"
   ]
  },
  {
   "cell_type": "code",
   "execution_count": 1,
   "metadata": {},
   "outputs": [],
   "source": [
    "from tf_agents.agents.ppo import ppo_agent\n",
    "from tf_agents.drivers import dynamic_step_driver\n",
    "from tf_agents.environments import suite_gym\n",
    "from tf_agents.environments import tf_py_environment\n",
    "from tf_agents.eval import metric_utils\n",
    "from tf_agents.metrics import tf_metrics, py_metrics\n",
    "from tf_agents.networks import q_network\n",
    "from tf_agents.policies import random_tf_policy, epsilon_greedy_policy\n",
    "from tf_agents.replay_buffers import tf_uniform_replay_buffer\n",
    "from tf_agents.networks import actor_distribution_network\n",
    "from tf_agents.networks import value_network\n",
    "from tf_agents.trajectories import trajectory\n",
    "from tf_agents.utils import common\n",
    "from tf_agents.specs import array_spec\n",
    "from tf_agents.environments import utils, wrappers\n",
    "from tf_agents.trajectories import time_step as ts\n",
    "from tf_agents.drivers import dynamic_episode_driver\n",
    "from tf_agents.drivers import py_driver"
   ]
  },
  {
   "cell_type": "code",
   "execution_count": 4,
   "metadata": {},
   "outputs": [],
   "source": [
    "class RandomSophisticatedFunction(object):\n",
    "    \"\"\"A function converting an input into a high-dimensional object.\"\"\"\n",
    "    def __init__(self, n=10, k=100, seed=11):\n",
    "        \n",
    "        tf.random.set_seed(seed)\n",
    "        \n",
    "        self.model = tf.keras.Sequential([\n",
    "            #tf.keras.layers.Dense(10, input_shape=(n,), activation='relu'),\n",
    "            #tf.keras.layers.Dense(100),\n",
    "            tf.keras.layers.Dense(k, bias_initializer='random_uniform'),\n",
    "        ])\n",
    "        \n",
    "    def __call__(self, x):\n",
    "        return self.model(np.array([x])).numpy()[0]\n",
    "    \n",
    "assert RandomSophisticatedFunction(n=3, k=5, seed=1)([10,10,10]).shape == (5,)"
   ]
  },
  {
   "cell_type": "code",
   "execution_count": 5,
   "metadata": {},
   "outputs": [
    {
     "data": {
      "text/plain": [
       "array([ 0.42107463,  1.9756418 ,  0.5922047 ,  2.2600236 , -3.1435785 ,\n",
       "       -2.6043975 ,  0.5879588 , -3.8485632 , -0.80992734, -1.9239613 ,\n",
       "       -1.5292026 ,  1.5467768 ,  1.9360533 ,  2.2978485 ,  0.28572452,\n",
       "       -0.5248615 , -3.4031332 , -2.4824233 ,  0.26168972,  3.522755  ,\n",
       "       -0.76830816, -4.5024695 , -5.973458  , -0.08354399,  1.021549  ,\n",
       "        3.0432026 , -3.2647412 , -0.32379162,  1.3775078 , -1.1641221 ,\n",
       "        5.360249  ,  2.485961  , -0.30522534,  0.49440664,  0.4870112 ,\n",
       "        0.3299148 , -0.3536277 ,  1.748136  ,  1.4803805 , -1.2345239 ,\n",
       "        0.06540942, -3.3158581 ,  0.52739054, -6.083921  ,  3.3707094 ,\n",
       "       -5.578037  ,  0.7661759 ,  1.7714828 , -0.18969497,  0.78672135,\n",
       "        0.11239807, -2.2097538 , -2.147925  , -0.14433458,  0.74999607,\n",
       "        0.5272489 , -1.97522   ,  4.380763  ,  0.5881273 ,  1.828241  ,\n",
       "        3.938662  ,  3.125843  , -4.634218  , -1.1190304 ,  1.6213365 ,\n",
       "        1.3446006 , -1.1212261 , -1.0577558 ,  2.706028  , -1.45131   ,\n",
       "        1.2799139 , -0.4981764 ,  2.1727016 ,  1.0884502 ,  3.6952097 ,\n",
       "       -1.3584613 , -5.4708447 , -1.5946476 ,  2.2944207 ,  1.0184703 ,\n",
       "       -3.6583314 ,  0.50664943, -2.111605  ,  2.5358508 ,  3.6486366 ,\n",
       "       -0.23265675,  1.0104252 , -2.1677127 , -3.277229  , -0.91042703,\n",
       "       -2.38398   , -1.5052049 , -2.3667579 , -0.07423048, -0.48029572,\n",
       "        0.59132355, -2.8658624 , -2.278439  , -3.4111784 ,  0.01059723],\n",
       "      dtype=float32)"
      ]
     },
     "execution_count": 5,
     "metadata": {},
     "output_type": "execute_result"
    }
   ],
   "source": [
    "RandomSophisticatedFunction(n=3, seed=1)([10,10,10])"
   ]
  },
  {
   "cell_type": "code",
   "execution_count": 6,
   "metadata": {},
   "outputs": [],
   "source": [
    "class VectorIncrementEnvironment(object):\n",
    "    \"\"\"VectorIncrement environment.\"\"\"\n",
    "    def __init__(self, n=10, k=20):\n",
    "        self.n = n\n",
    "        self.k = k\n",
    "        self.e = RandomSophisticatedFunction(n=n, k=k)\n",
    "        self.s = np.zeros(self.n)\n",
    "\n",
    "    def encoded_state(self):\n",
    "        return np.array(self.e(self.s), dtype=np.float32)\n",
    "        \n",
    "    def reset(self):\n",
    "        self.s = np.zeros(self.n)\n",
    "        return self.encoded_state()\n",
    "\n",
    "    def step(self, action):\n",
    "        assert action in range(0, self.n + 1)\n",
    "        \n",
    "        s_old = np.copy(self.s)\n",
    "        if action > 0:\n",
    "            self.s[action - 1] += 1\n",
    "            \n",
    "            if max(s_old) - min(s_old) > 0:\n",
    "                r = (max(s_old) - s_old[action - 1]) / (max(s_old) - min(s_old))\n",
    "            else:\n",
    "                r = 0\n",
    "        else:\n",
    "            r = 0\n",
    "            \n",
    "        #def metric(x):\n",
    "        #    return max(x) - np.mean(x)\n",
    "       # \n",
    "       # r = (metric(s_old) - metric(self.s)) > 0\n",
    "        \n",
    "        \n",
    "            \n",
    "        return {'reward': float(r),\n",
    "               'state': np.copy(self.s),\n",
    "               'observation': self.encoded_state()}\n",
    "        \n",
    "        \n",
    "    def __repr__(self):\n",
    "        return str(self.s)"
   ]
  },
  {
   "cell_type": "code",
   "execution_count": 7,
   "metadata": {},
   "outputs": [],
   "source": [
    "n = 2\n",
    "env = VectorIncrementEnvironment(n=n, k=10)"
   ]
  },
  {
   "cell_type": "code",
   "execution_count": 8,
   "metadata": {},
   "outputs": [
    {
     "data": {
      "text/plain": [
       "array([0., 0.])"
      ]
     },
     "execution_count": 8,
     "metadata": {},
     "output_type": "execute_result"
    }
   ],
   "source": [
    "env.s"
   ]
  },
  {
   "cell_type": "code",
   "execution_count": 9,
   "metadata": {},
   "outputs": [
    {
     "name": "stdout",
     "output_type": "stream",
     "text": [
      "WARNING:tensorflow:Layer dense_2 is casting an input tensor from dtype float64 to the layer's dtype of float32, which is new behavior in TensorFlow 2.  The layer has dtype float32 because it's dtype defaults to floatx.\n",
      "\n",
      "If you intended to run this layer in float32, you can safely ignore this warning. If in doubt, this warning is likely only an issue if you are porting a TensorFlow 1.X model to TensorFlow 2.\n",
      "\n",
      "To change all layers to have dtype float64 by default, call `tf.keras.backend.set_floatx('float64')`. To change just this layer, pass dtype='float64' to the layer constructor. If you are the author of this layer, you can disable autocasting by passing autocast=False to the base Layer constructor.\n",
      "\n"
     ]
    },
    {
     "data": {
      "text/plain": [
       "{'reward': 0.0,\n",
       " 'state': array([0., 1.]),\n",
       " 'observation': array([-0.13828124,  0.3408532 , -0.12106577, -0.00676261,  0.01375737,\n",
       "         0.35241634,  0.15493019, -0.5223689 , -0.217097  ,  0.5671197 ],\n",
       "       dtype=float32)}"
      ]
     },
     "execution_count": 9,
     "metadata": {},
     "output_type": "execute_result"
    }
   ],
   "source": [
    "env.step(2)"
   ]
  },
  {
   "cell_type": "code",
   "execution_count": 10,
   "metadata": {},
   "outputs": [
    {
     "data": {
      "text/plain": [
       "array([ 0.00582539, -0.04459292, -0.04060308,  0.01915617, -0.0472003 ,\n",
       "       -0.02875542, -0.04071616, -0.01283339,  0.0458479 ,  0.00474627],\n",
       "      dtype=float32)"
      ]
     },
     "execution_count": 10,
     "metadata": {},
     "output_type": "execute_result"
    }
   ],
   "source": [
    "env.reset()"
   ]
  },
  {
   "cell_type": "markdown",
   "metadata": {},
   "source": [
    "# Testing if PCA works"
   ]
  },
  {
   "cell_type": "code",
   "execution_count": 11,
   "metadata": {},
   "outputs": [],
   "source": [
    "obs = []\n",
    "states = []\n",
    "\n",
    "for _ in range(3):\n",
    "    o = env.reset()\n",
    "    for _ in range(50):\n",
    "        a = np.random.randint(0, n + 1)\n",
    "        result = env.step(a)\n",
    "        obs.append(result['observation'])\n",
    "        states.append(result['state'])\n",
    "states = np.array(states)"
   ]
  },
  {
   "cell_type": "code",
   "execution_count": 12,
   "metadata": {},
   "outputs": [],
   "source": [
    "pca = PCA(n_components=2)\n",
    "pca = pca.fit_transform(obs)"
   ]
  },
  {
   "cell_type": "code",
   "execution_count": 13,
   "metadata": {},
   "outputs": [
    {
     "data": {
      "image/png": "[encoded data removed]",
      "text/plain": [
       "<Figure size 432x288 with 1 Axes>"
      ]
     },
     "metadata": {
      "needs_background": "light"
     },
     "output_type": "display_data"
    },
    {
     "data": {
      "image/png": "[encoded data removed]",
      "text/plain": [
       "<Figure size 432x288 with 1 Axes>"
      ]
     },
     "metadata": {
      "needs_background": "light"
     },
     "output_type": "display_data"
    }
   ],
   "source": [
    "plt.figure()\n",
    "plt.plot(pca[:, 0], pca[:, 1])\n",
    "plt.show()\n",
    "plt.figure()\n",
    "plt.plot(states[:, 0], states[:, 1])\n",
    "plt.show()"
   ]
  },
  {
   "cell_type": "markdown",
   "metadata": {},
   "source": [
    "### PCA does not recover the variables we want...\n",
    "\n",
    "The increase is NOT monotonous"
   ]
  },
  {
   "cell_type": "markdown",
   "metadata": {},
   "source": [
    "# Running RL with tf.agents"
   ]
  },
  {
   "cell_type": "code",
   "execution_count": 14,
   "metadata": {},
   "outputs": [],
   "source": [
    "num_iterations = 20000 # @param {type: \"integer\"}\n",
    "\n",
    "initial_collect_steps = 1000 # @param {type: \"integer\"}\n",
    "collect_steps_per_iteration = 1\n",
    "replay_buffer_max_length = 1000\n",
    "\n",
    "batch_size = 256\n",
    "learning_rate = 1e-5\n",
    "log_interval = 1\n",
    "\n",
    "num_eval_episodes = 10\n",
    "eval_interval = 1"
   ]
  },
  {
   "cell_type": "code",
   "execution_count": 15,
   "metadata": {},
   "outputs": [],
   "source": [
    "v_n = 2\n",
    "v_k = 5\n",
    "v_seed = 10"
   ]
  },
  {
   "cell_type": "code",
   "execution_count": 16,
   "metadata": {},
   "outputs": [],
   "source": [
    "class VectorIncrementEnvironmentTFAgents(tf_py_environment.TFPyEnvironment):\n",
    "  def __init__(self):\n",
    "    self._action_spec = array_spec.BoundedArraySpec(\n",
    "        shape=(), dtype=np.int32, minimum=0, maximum=v_n, name='action')\n",
    "    self._observation_spec = array_spec.ArraySpec(\n",
    "        shape=(v_k,), dtype=np.float32, name='observation')\n",
    "    self._time_step_spec = ts.time_step_spec(self._observation_spec)\n",
    "    \n",
    "    self.env = VectorIncrementEnvironment(n=v_n, k=v_k)\n",
    "    self._state = self.env.encoded_state()\n",
    "    self._episode_ended = False\n",
    "    self._batched = False\n",
    "   # self._batch_size = None\n",
    "    \n",
    "  def batch_size(self):\n",
    "    return None\n",
    "\n",
    "  @property\n",
    "  def batched(self):\n",
    "    return False\n",
    "\n",
    "  def action_spec(self):\n",
    "    return self._action_spec\n",
    "\n",
    "  def observation_spec(self):\n",
    "    return self._observation_spec\n",
    "\n",
    "  def _reset(self):\n",
    "    self.env.reset()\n",
    "    self._state = self.env.encoded_state()\n",
    "    self._episode_ended = False\n",
    "    return ts.restart(self._state)\n",
    "\n",
    "  def _step(self, action):\n",
    "\n",
    "    if self._episode_ended:\n",
    "      # The last action ended the episode. Ignore the current action and start\n",
    "      # a new episode.\n",
    "      return self.reset()\n",
    "\n",
    "    res = self.env.step(action)\n",
    "    self._state = self.env.encoded_state()\n",
    "\n",
    "    return ts.transition(self._state, reward=res['reward'], discount=1.0)\n"
   ]
  },
  {
   "cell_type": "code",
   "execution_count": 17,
   "metadata": {},
   "outputs": [
    {
     "name": "stdout",
     "output_type": "stream",
     "text": [
      "WARNING:tensorflow:Layer dense_3 is casting an input tensor from dtype float64 to the layer's dtype of float32, which is new behavior in TensorFlow 2.  The layer has dtype float32 because it's dtype defaults to floatx.\n",
      "\n",
      "If you intended to run this layer in float32, you can safely ignore this warning. If in doubt, this warning is likely only an issue if you are porting a TensorFlow 1.X model to TensorFlow 2.\n",
      "\n",
      "To change all layers to have dtype float64 by default, call `tf.keras.backend.set_floatx('float64')`. To change just this layer, pass dtype='float64' to the layer constructor. If you are the author of this layer, you can disable autocasting by passing autocast=False to the base Layer constructor.\n",
      "\n"
     ]
    }
   ],
   "source": [
    "# checking that the environment works\n",
    "env = VectorIncrementEnvironmentTFAgents()\n",
    "env = wrappers.TimeLimit(env, 20)\n",
    "utils.validate_py_environment(env, episodes=5)"
   ]
  },
  {
   "cell_type": "code",
   "execution_count": 18,
   "metadata": {},
   "outputs": [],
   "source": [
    "train_env = tf_py_environment.TFPyEnvironment(env)\n",
    "#train_env = env"
   ]
  },
  {
   "cell_type": "code",
   "execution_count": 19,
   "metadata": {},
   "outputs": [],
   "source": [
    "fc_layer_params = (30, 30, 30, 30, 30, 30)\n",
    "\n",
    "q_net = q_network.QNetwork(\n",
    "    train_env.observation_spec(),\n",
    "    train_env.action_spec(),\n",
    "    fc_layer_params=fc_layer_params)\n"
   ]
  },
  {
   "cell_type": "code",
   "execution_count": 20,
   "metadata": {},
   "outputs": [],
   "source": [
    "optimizer = tf.compat.v1.train.AdamOptimizer(learning_rate=learning_rate)\n",
    "#optimizer = tf.compat.v1.train.GradientDescentOptimizer(learning_rate=learning_rate)\n",
    "\n",
    "train_step_counter = tf.Variable(0)\n",
    "\n",
    "agent = dqn_agent.DqnAgent(\n",
    "    train_env.time_step_spec(),\n",
    "    train_env.action_spec(),\n",
    "    q_network=q_net,\n",
    "    optimizer=optimizer,\n",
    "    td_errors_loss_fn=common.element_wise_squared_loss,\n",
    "    train_step_counter=train_step_counter)\n",
    "\n",
    "agent.initialize()\n"
   ]
  },
  {
   "cell_type": "code",
   "execution_count": 21,
   "metadata": {},
   "outputs": [],
   "source": [
    "replay_buffer = tf_uniform_replay_buffer.TFUniformReplayBuffer(\n",
    "    data_spec=agent.collect_data_spec,\n",
    "    batch_size=train_env.batch_size,\n",
    "    max_length=replay_buffer_max_length)"
   ]
  },
  {
   "cell_type": "code",
   "execution_count": 22,
   "metadata": {},
   "outputs": [
    {
     "name": "stdout",
     "output_type": "stream",
     "text": [
      "final_time_step TimeStep(step_type=<tf.Tensor: shape=(1,), dtype=int32, numpy=array([0], dtype=int32)>, reward=<tf.Tensor: shape=(1,), dtype=float32, numpy=array([0.], dtype=float32)>, discount=<tf.Tensor: shape=(1,), dtype=float32, numpy=array([1.], dtype=float32)>, observation=<tf.Tensor: shape=(1, 5), dtype=float32, numpy=\n",
      "array([[ 0.00582539, -0.04459292, -0.04060308,  0.01915617, -0.0472003 ]],\n",
      "      dtype=float32)>)\n",
      "Number of Steps:  5120\n",
      "Number of Episodes:  256\n"
     ]
    }
   ],
   "source": [
    "num_episodes = tf_metrics.NumberOfEpisodes()\n",
    "env_steps = tf_metrics.EnvironmentSteps()\n",
    "avg_return = tf_metrics.AverageReturnMetric()\n",
    "act_hist = tf_metrics.ChosenActionHistogram()\n",
    "\n",
    "observers = [num_episodes, env_steps, avg_return, replay_buffer.add_batch, act_hist]\n",
    "\n",
    "#tf_policy = epsilon_greedy_policy.EpsilonGreedyPolicy(agent.collect_policy, 0.5)\n",
    "\n",
    "tf_env = train_env\n",
    "tf_policy = agent.collect_policy\n",
    "\n",
    "driver = dynamic_episode_driver.DynamicEpisodeDriver(\n",
    "    tf_env, tf_policy, observers, num_episodes=batch_size)\n",
    "\n",
    "# Initial driver.run will reset the environment and initialize the policy.\n",
    "final_time_step, policy_state = driver.run()\n",
    "\n",
    "print('final_time_step', final_time_step)\n",
    "print('Number of Steps: ', env_steps.result().numpy())\n",
    "print('Number of Episodes: ', num_episodes.result().numpy())"
   ]
  },
  {
   "cell_type": "code",
   "execution_count": 23,
   "metadata": {
    "scrolled": true
   },
   "outputs": [
    {
     "data": {
      "text/plain": [
       "<tf.Tensor: shape=(), dtype=float32, numpy=0.2>"
      ]
     },
     "execution_count": 23,
     "metadata": {},
     "output_type": "execute_result"
    }
   ],
   "source": [
    "avg_return.result()"
   ]
  },
  {
   "cell_type": "code",
   "execution_count": 24,
   "metadata": {},
   "outputs": [
    {
     "data": {
      "text/plain": [
       "<tf.Tensor: shape=(100,), dtype=int32, numpy=\n",
       "array([2, 0, 0, 0, 0, 0, 0, 0, 0, 0, 0, 0, 2, 0, 0, 0, 0, 0, 1, 0, 0, 0,\n",
       "       0, 0, 0, 0, 0, 0, 2, 0, 0, 0, 0, 0, 0, 0, 0, 0, 0, 0, 0, 0, 0, 0,\n",
       "       0, 0, 0, 0, 0, 0, 0, 0, 2, 0, 0, 0, 0, 0, 0, 0, 0, 0, 0, 0, 0, 0,\n",
       "       0, 0, 1, 0, 0, 0, 0, 0, 0, 0, 0, 0, 0, 0, 0, 0, 0, 0, 0, 0, 0, 0,\n",
       "       0, 0, 1, 0, 0, 0, 0, 0, 0, 0, 0, 0], dtype=int32)>"
      ]
     },
     "execution_count": 24,
     "metadata": {},
     "output_type": "execute_result"
    }
   ],
   "source": [
    "act_hist.result()"
   ]
  },
  {
   "cell_type": "code",
   "execution_count": 25,
   "metadata": {},
   "outputs": [],
   "source": [
    "# Dataset generates trajectories with shape [Bx2x...]\n",
    "dataset = replay_buffer.as_dataset(\n",
    "    num_parallel_calls=3, \n",
    "    sample_batch_size=batch_size, \n",
    "    num_steps=2).prefetch(3)\n",
    "\n",
    "iterator = iter(dataset)"
   ]
  },
  {
   "cell_type": "code",
   "execution_count": 26,
   "metadata": {},
   "outputs": [
    {
     "name": "stdout",
     "output_type": "stream",
     "text": [
      "step = 1: loss = 0.034296486526727676\n",
      "step = 1: Average Return = 0.4000000059604645\n",
      "step = 2: loss = 0.023657629266381264\n",
      "step = 2: Average Return = 0.20000000298023224\n",
      "step = 3: loss = 0.023778846487402916\n",
      "step = 3: Average Return = 0.30000001192092896\n",
      "step = 4: loss = 0.01826127991080284\n",
      "step = 4: Average Return = 0.20000000298023224\n",
      "step = 5: loss = 0.03246806189417839\n",
      "step = 5: Average Return = 0.10000000149011612\n",
      "step = 6: loss = 0.015678001567721367\n",
      "step = 6: Average Return = 0.20000000298023224\n",
      "step = 7: loss = 0.025278400629758835\n",
      "step = 7: Average Return = 0.20000000298023224\n",
      "step = 8: loss = 0.010785534977912903\n",
      "step = 8: Average Return = 0.4000000059604645\n",
      "step = 9: loss = 0.014520697295665741\n",
      "step = 9: Average Return = 0.4000000059604645\n",
      "step = 10: loss = 0.009756750427186489\n",
      "step = 10: Average Return = 0.30000001192092896\n",
      "step = 11: loss = 0.014057604596018791\n",
      "step = 11: Average Return = 0.10000000149011612\n",
      "step = 12: loss = 0.00980854220688343\n",
      "step = 12: Average Return = 0.4000000059604645\n",
      "step = 13: loss = 0.005423948168754578\n",
      "step = 13: Average Return = 0.699999988079071\n",
      "step = 14: loss = 0.009676339104771614\n",
      "step = 14: Average Return = 0.0\n",
      "step = 15: loss = 0.004805120173841715\n",
      "step = 15: Average Return = 0.10000000149011612\n",
      "step = 16: loss = 0.005591716151684523\n",
      "step = 16: Average Return = 0.30000001192092896\n",
      "step = 17: loss = 0.0148081686347723\n",
      "step = 17: Average Return = 0.10000000149011612\n",
      "step = 18: loss = 0.014760174788534641\n",
      "step = 18: Average Return = 0.5\n",
      "step = 19: loss = 0.024357417598366737\n",
      "step = 19: Average Return = 0.0\n",
      "step = 20: loss = 0.014827467501163483\n",
      "step = 20: Average Return = 0.10000000149011612\n",
      "step = 21: loss = 0.00507564190775156\n",
      "step = 21: Average Return = 0.20000000298023224\n",
      "step = 22: loss = 0.009666938334703445\n",
      "step = 22: Average Return = 0.30000001192092896\n",
      "step = 23: loss = 0.00995617639273405\n",
      "step = 23: Average Return = 0.4000000059604645\n",
      "step = 24: loss = 0.021669579669833183\n",
      "step = 24: Average Return = 0.30000001192092896\n",
      "step = 25: loss = 0.004671758972108364\n",
      "step = 25: Average Return = 0.6000000238418579\n",
      "step = 26: loss = 0.00939845945686102\n",
      "step = 26: Average Return = 0.30000001192092896\n",
      "step = 27: loss = 0.014023424126207829\n",
      "step = 27: Average Return = 0.20000000298023224\n",
      "step = 28: loss = 0.018554767593741417\n",
      "step = 28: Average Return = 0.20000000298023224\n",
      "step = 29: loss = 0.0373539924621582\n",
      "step = 29: Average Return = 0.800000011920929\n",
      "step = 30: loss = 0.02104400284588337\n",
      "step = 30: Average Return = 0.5\n",
      "step = 31: loss = 0.039678651839494705\n",
      "step = 31: Average Return = 0.4000000059604645\n",
      "step = 32: loss = 0.02350548282265663\n",
      "step = 32: Average Return = 0.30000001192092896\n",
      "step = 33: loss = 0.019279323518276215\n",
      "step = 33: Average Return = 0.20000000298023224\n",
      "step = 34: loss = 0.005055184010416269\n",
      "step = 34: Average Return = 0.20000000298023224\n",
      "step = 35: loss = 0.019168835133314133\n",
      "step = 35: Average Return = 0.30000001192092896\n",
      "step = 36: loss = 0.017453281208872795\n",
      "step = 36: Average Return = 0.4000000059604645\n",
      "step = 37: loss = 0.023086218163371086\n",
      "step = 37: Average Return = 0.10000000149011612\n",
      "step = 38: loss = 0.006986688356846571\n",
      "step = 38: Average Return = 0.30000001192092896\n",
      "step = 39: loss = 0.0007404025527648628\n",
      "step = 39: Average Return = 0.20000000298023224\n",
      "step = 40: loss = 0.02546713501214981\n",
      "step = 40: Average Return = 0.20000000298023224\n",
      "step = 41: loss = 0.010682427324354649\n",
      "step = 41: Average Return = 0.5\n"
     ]
    },
    {
     "name": "stderr",
     "output_type": "stream",
     "text": [
      "ERROR:root:Internal Python error in the inspect module.\n",
      "Below is the traceback from this internal error.\n",
      "\n"
     ]
    },
    {
     "name": "stdout",
     "output_type": "stream",
     "text": [
      "Traceback (most recent call last):\n",
      "  File \"/localhome/volodin/miniconda3/envs/causal/lib/python3.7/site-packages/IPython/core/interactiveshell.py\", line 3331, in run_code\n",
      "    exec(code_obj, self.user_global_ns, self.user_ns)\n",
      "  File \"<ipython-input-26-756141f2552c>\", line 13, in <module>\n",
      "    final_time_step, _ = driver.run(final_time_step, policy_state)\n",
      "  File \"/localhome/volodin/miniconda3/envs/causal/lib/python3.7/site-packages/tf_agents/drivers/dynamic_episode_driver.py\", line 193, in run\n",
      "    maximum_iterations=maximum_iterations)\n",
      "  File \"/localhome/volodin/miniconda3/envs/causal/lib/python3.7/site-packages/tf_agents/utils/common.py\", line 154, in with_check_resource_vars\n",
      "    return fn(*fn_args, **fn_kwargs)\n",
      "  File \"/localhome/volodin/miniconda3/envs/causal/lib/python3.7/site-packages/tf_agents/drivers/dynamic_episode_driver.py\", line 222, in _run\n",
      "    name='driver_loop'))\n",
      "  File \"/localhome/volodin/miniconda3/envs/causal/lib/python3.7/site-packages/tensorflow_core/python/ops/control_flow_ops.py\", line 2478, in while_loop_v2\n",
      "    return_same_structure=True)\n",
      "  File \"/localhome/volodin/miniconda3/envs/causal/lib/python3.7/site-packages/tensorflow_core/python/ops/control_flow_ops.py\", line 2714, in while_loop\n",
      "    loop_vars = body(*loop_vars)\n",
      "  File \"/localhome/volodin/miniconda3/envs/causal/lib/python3.7/site-packages/tf_agents/drivers/dynamic_episode_driver.py\", line 142, in loop_body\n",
      "    observer_ops = [observer(traj) for observer in self._observers]\n",
      "  File \"/localhome/volodin/miniconda3/envs/causal/lib/python3.7/site-packages/tf_agents/drivers/dynamic_episode_driver.py\", line 142, in <listcomp>\n",
      "    observer_ops = [observer(traj) for observer in self._observers]\n",
      "  File \"/localhome/volodin/miniconda3/envs/causal/lib/python3.7/site-packages/tf_agents/metrics/tf_metric.py\", line 93, in __call__\n",
      "    return self._update_state(*args, **kwargs)\n",
      "  File \"/localhome/volodin/miniconda3/envs/causal/lib/python3.7/site-packages/tensorflow_core/python/eager/def_function.py\", line 568, in __call__\n",
      "    result = self._call(*args, **kwds)\n",
      "  File \"/localhome/volodin/miniconda3/envs/causal/lib/python3.7/site-packages/tensorflow_core/python/eager/def_function.py\", line 606, in _call\n",
      "    results = self._stateful_fn(*args, **kwds)\n",
      "  File \"/localhome/volodin/miniconda3/envs/causal/lib/python3.7/site-packages/tensorflow_core/python/eager/function.py\", line 2363, in __call__\n",
      "    return graph_function._filtered_call(args, kwargs)  # pylint: disable=protected-access\n",
      "  File \"/localhome/volodin/miniconda3/envs/causal/lib/python3.7/site-packages/tensorflow_core/python/eager/function.py\", line 1611, in _filtered_call\n",
      "    self.captured_inputs)\n",
      "  File \"/localhome/volodin/miniconda3/envs/causal/lib/python3.7/site-packages/tensorflow_core/python/eager/function.py\", line 1692, in _call_flat\n",
      "    ctx, args, cancellation_manager=cancellation_manager))\n",
      "  File \"/localhome/volodin/miniconda3/envs/causal/lib/python3.7/site-packages/tensorflow_core/python/eager/function.py\", line 545, in call\n",
      "    ctx=ctx)\n",
      "  File \"/localhome/volodin/miniconda3/envs/causal/lib/python3.7/site-packages/tensorflow_core/python/eager/execute.py\", line 61, in quick_execute\n",
      "    num_outputs)\n",
      "KeyboardInterrupt\n",
      "\n",
      "During handling of the above exception, another exception occurred:\n",
      "\n",
      "Traceback (most recent call last):\n",
      "  File \"/localhome/volodin/miniconda3/envs/causal/lib/python3.7/site-packages/IPython/core/interactiveshell.py\", line 2044, in showtraceback\n",
      "    stb = value._render_traceback_()\n",
      "AttributeError: 'KeyboardInterrupt' object has no attribute '_render_traceback_'\n",
      "\n",
      "During handling of the above exception, another exception occurred:\n",
      "\n",
      "Traceback (most recent call last):\n",
      "  File \"/localhome/volodin/miniconda3/envs/causal/lib/python3.7/site-packages/IPython/core/ultratb.py\", line 1148, in get_records\n",
      "    return _fixed_getinnerframes(etb, number_of_lines_of_context, tb_offset)\n",
      "  File \"/localhome/volodin/miniconda3/envs/causal/lib/python3.7/site-packages/IPython/core/ultratb.py\", line 316, in wrapped\n",
      "    return f(*args, **kwargs)\n",
      "  File \"/localhome/volodin/miniconda3/envs/causal/lib/python3.7/site-packages/IPython/core/ultratb.py\", line 350, in _fixed_getinnerframes\n",
      "    records = fix_frame_records_filenames(inspect.getinnerframes(etb, context))\n",
      "  File \"/localhome/volodin/miniconda3/envs/causal/lib/python3.7/inspect.py\", line 1502, in getinnerframes\n",
      "    frameinfo = (tb.tb_frame,) + getframeinfo(tb, context)\n",
      "  File \"/localhome/volodin/miniconda3/envs/causal/lib/python3.7/inspect.py\", line 1460, in getframeinfo\n",
      "    filename = getsourcefile(frame) or getfile(frame)\n",
      "  File \"/localhome/volodin/miniconda3/envs/causal/lib/python3.7/inspect.py\", line 696, in getsourcefile\n",
      "    if getattr(getmodule(object, filename), '__loader__', None) is not None:\n",
      "  File \"/localhome/volodin/miniconda3/envs/causal/lib/python3.7/inspect.py\", line 733, in getmodule\n",
      "    if ismodule(module) and hasattr(module, '__file__'):\n",
      "KeyboardInterrupt\n"
     ]
    },
    {
     "ename": "KeyboardInterrupt",
     "evalue": "",
     "output_type": "error",
     "traceback": [
      "\u001b[0;31m---------------------------------------------------------------------------\u001b[0m"
     ]
    }
   ],
   "source": [
    "### (Optional) Optimize by wrapping some of the code in a graph using TF function.\n",
    "agent.train = common.function(agent.train)\n",
    "\n",
    "# Reset the train step\n",
    "agent.train_step_counter.assign(0)\n",
    "\n",
    "returns = []\n",
    "\n",
    "for _ in range(num_iterations):\n",
    "\n",
    "  # Collect a few steps using collect_policy and save to the replay buffer.\n",
    "  # Continue running from previous state\n",
    "  final_time_step, _ = driver.run(final_time_step, policy_state)\n",
    "\n",
    "  # Sample a batch of data from the buffer and update the agent's network.\n",
    "  experience, unused_info = next(iterator)\n",
    "  train_loss = agent.train(experience).loss\n",
    "\n",
    "  step = agent.train_step_counter.numpy()\n",
    "\n",
    "  if step % log_interval == 0:\n",
    "    print('step = {0}: loss = {1}'.format(step, train_loss))\n",
    "\n",
    "  if step % eval_interval == 0:\n",
    "    ret = avg_return.result()\n",
    "    print('step = {0}: Average Return = {1}'.format(step, ret))\n",
    "    avg_return.reset()\n",
    "    returns.append(ret)"
   ]
  },
  {
   "cell_type": "code",
   "execution_count": 27,
   "metadata": {},
   "outputs": [
    {
     "data": {
      "text/plain": [
       "[<matplotlib.lines.Line2D at 0x7efe6c3fc250>]"
      ]
     },
     "execution_count": 27,
     "metadata": {},
     "output_type": "execute_result"
    },
    {
     "data": {
      "image/png": "[encoded data removed]",
      "text/plain": [
       "<Figure size 432x288 with 1 Axes>"
      ]
     },
     "metadata": {
      "needs_background": "light"
     },
     "output_type": "display_data"
    }
   ],
   "source": [
    "plt.plot(returns)"
   ]
  },
  {
   "cell_type": "code",
   "execution_count": null,
   "metadata": {},
   "outputs": [],
   "source": [
    "replay_buffer.clear()"
   ]
  },
  {
   "cell_type": "code",
   "execution_count": null,
   "metadata": {},
   "outputs": [],
   "source": [
    "num_episodes = tf_metrics.NumberOfEpisodes()\n",
    "env_steps = tf_metrics.EnvironmentSteps()\n",
    "avg_return = tf_metrics.AverageReturnMetric()\n",
    "act_hist = tf_metrics.ChosenActionHistogram()\n",
    "\n",
    "observers = [num_episodes, env_steps, avg_return, replay_buffer.add_batch, act_hist]\n",
    "\n",
    "#tf_policy = epsilon_greedy_policy.EpsilonGreedyPolicy(agent.collect_policy, 0.5)\n",
    "\n",
    "tf_env = train_env\n",
    "tf_policy = agent.policy\n",
    "\n",
    "driver = dynamic_episode_driver.DynamicEpisodeDriver(\n",
    "    tf_env, tf_policy, observers, num_episodes=batch_size)\n",
    "\n",
    "# Initial driver.run will reset the environment and initialize the policy.\n",
    "final_time_step, policy_state = driver.run()\n",
    "\n",
    "print('final_time_step', final_time_step)\n",
    "print('Number of Steps: ', env_steps.result().numpy())\n",
    "print('Number of Episodes: ', num_episodes.result().numpy())"
   ]
  },
  {
   "cell_type": "code",
   "execution_count": null,
   "metadata": {},
   "outputs": [],
   "source": [
    "avg_return.result()"
   ]
  },
  {
   "cell_type": "code",
   "execution_count": null,
   "metadata": {},
   "outputs": [],
   "source": [
    "replay_buffer.clear()"
   ]
  },
  {
   "cell_type": "code",
   "execution_count": null,
   "metadata": {},
   "outputs": [],
   "source": [
    "for r in replay_buffer.gather_all().observation[:10].numpy()[0]:\n",
    "    print(r)"
   ]
  },
  {
   "cell_type": "code",
   "execution_count": null,
   "metadata": {},
   "outputs": [],
   "source": []
  },
  {
   "cell_type": "code",
   "execution_count": null,
   "metadata": {},
   "outputs": [],
   "source": [
    "xy = replay_buffer.gather_all().observation.numpy()[0]"
   ]
  },
  {
   "cell_type": "code",
   "execution_count": null,
   "metadata": {},
   "outputs": [],
   "source": [
    "plt.hist(replay_buffer.gather_all().action.numpy()[0])"
   ]
  },
  {
   "cell_type": "code",
   "execution_count": null,
   "metadata": {},
   "outputs": [],
   "source": [
    "replay_buffer.gather_all().action.numpy().shape"
   ]
  },
  {
   "cell_type": "code",
   "execution_count": null,
   "metadata": {},
   "outputs": [],
   "source": [
    "plt.plot(xy[:, 0], xy[:, 1])\n",
    "plt.plot([0, 10], [0, 10])"
   ]
  },
  {
   "cell_type": "markdown",
   "metadata": {},
   "source": [
    "# Hardcoded agent"
   ]
  },
  {
   "cell_type": "code",
   "execution_count": null,
   "metadata": {},
   "outputs": [],
   "source": [
    "o = train_env.reset().observation.numpy()[0]\n",
    "total_reward = 0\n",
    "while True:\n",
    "    act = 2 if o[0] > o[1] else 1\n",
    "    step = train_env.step(act)\n",
    "    o = step.observation.numpy()[0]\n",
    "    r = np.array(step.reward[0])\n",
    "    total_reward += r\n",
    "    print(act, o, r)\n",
    "    if step.step_type == 2:\n",
    "        break\n",
    "print(total_reward)"
   ]
  },
  {
   "cell_type": "markdown",
   "metadata": {},
   "source": [
    "### no preproc\n",
    "5 -> 4.1 (any learning rate) dqn\n",
    "10 -> 10.0\n",
    "\n",
    "Why is there a difference???\n",
    "\n",
    "\n",
    "### preproc\n",
    "* ```\n",
    "    tf.keras.layers.Dense(10, input_shape=(n,), activation='relu'),\n",
    "            #tf.keras.layers.Dense(100),\n",
    "            tf.keras.layers.Dense(k, bias_initializer='random_uniform'),\n",
    "            ```\n",
    "  relu (30, 30, 30, 30, 30, 30), 2->5, seed=10, 20 steps\n",
    "  CANT LEARN\n",
    "\n",
    "* Removed the first layer, now only have a linear transform -> same thing\n",
    "* trying adam -- same thing"
   ]
  },
  {
   "cell_type": "code",
   "execution_count": null,
   "metadata": {},
   "outputs": [],
   "source": []
  }
 ],
 "metadata": {
  "kernelspec": {
   "display_name": "Python 3",
   "language": "python",
   "name": "python3"
  },
  "language_info": {
   "codemirror_mode": {
    "name": "ipython",
    "version": 3
   },
   "file_extension": ".py",
   "mimetype": "text/x-python",
   "name": "python",
   "nbconvert_exporter": "python",
   "pygments_lexer": "ipython3",
   "version": "3.7.7"
  }
 },
 "nbformat": 4,
 "nbformat_minor": 4
}
