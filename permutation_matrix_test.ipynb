{
 "cells": [
  {
   "cell_type": "code",
   "execution_count": 6,
   "metadata": {
    "ExecuteTime": {
     "end_time": "2020-06-05T18:48:55.270478Z",
     "start_time": "2020-06-05T18:48:54.993841Z"
    }
   },
   "outputs": [],
   "source": [
    "import numpy as np\n",
    "from matplotlib import pyplot as plt"
   ]
  },
  {
   "cell_type": "code",
   "execution_count": 96,
   "metadata": {
    "ExecuteTime": {
     "end_time": "2020-06-05T18:56:21.331353Z",
     "start_time": "2020-06-05T18:56:21.327392Z"
    }
   },
   "outputs": [],
   "source": [
    "# state dimensionality\n",
    "s = 2\n",
    "\n",
    "# encoder matrix\n",
    "E = np.random.randn(s, s)\n",
    "\n",
    "# state transition matrix\n",
    "A_s = np.zeros((s, s))\n",
    "\n",
    "coefficients = np.random.randn(s)\n",
    "\n",
    "indices = list(range(s))\n",
    "np.random.shuffle(indices)\n",
    "#A_s[range(s), indices] = coefficients\n",
    "A_s[range(s), range(s)] = coefficients"
   ]
  },
  {
   "cell_type": "code",
   "execution_count": 99,
   "metadata": {
    "ExecuteTime": {
     "end_time": "2020-06-05T18:56:34.689204Z",
     "start_time": "2020-06-05T18:56:34.439155Z"
    }
   },
   "outputs": [
    {
     "data": {
      "image/png": "[encoded data removed]",
      "text/plain": [
       "<Figure size 360x360 with 2 Axes>"
      ]
     },
     "metadata": {
      "needs_background": "light"
     },
     "output_type": "display_data"
    }
   ],
   "source": [
    "# observation transition matrix\n",
    "W_o = E @ A_s @ np.linalg.inv(E)\n",
    "\n",
    "# showing the observation transition matrix and the state transition matrix\n",
    "plt.figure(figsize=(5, 5))\n",
    "plt.subplot(1, 2, 1)\n",
    "plt.title('Obs. trans. matrix')\n",
    "plt.imshow(W_o, cmap='gray')\n",
    "plt.subplot(1, 2, 2)\n",
    "plt.title('State trans. matrix')\n",
    "plt.imshow(A_s, cmap='gray')\n",
    "plt.show()"
   ]
  },
  {
   "cell_type": "code",
   "execution_count": null,
   "metadata": {},
   "outputs": [],
   "source": []
  }
 ],
 "metadata": {
  "kernelspec": {
   "display_name": "Python 3",
   "language": "python",
   "name": "python3"
  }
 },
 "nbformat": 4,
 "nbformat_minor": 4
}
